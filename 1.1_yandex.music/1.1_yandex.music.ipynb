{
 "cells": [
  {
   "cell_type": "markdown",
   "metadata": {
    "toc": true
   },
   "source": [
    "<h1>Table of Contents<span class=\"tocSkip\"></span></h1>\n",
    "<div class=\"toc\"><ul class=\"toc-item\"><li><span><a href=\"#Обзор-данных\" data-toc-modified-id=\"Обзор-данных-1\"><span class=\"toc-item-num\">1&nbsp;&nbsp;</span>Обзор данных</a></span></li><li><span><a href=\"#Предобработка-данных\" data-toc-modified-id=\"Предобработка-данных-2\"><span class=\"toc-item-num\">2&nbsp;&nbsp;</span>Предобработка данных</a></span><ul class=\"toc-item\"><li><span><a href=\"#Стиль-заголовков\" data-toc-modified-id=\"Стиль-заголовков-2.1\"><span class=\"toc-item-num\">2.1&nbsp;&nbsp;</span>Стиль заголовков</a></span></li><li><span><a href=\"#Пропуски-значений\" data-toc-modified-id=\"Пропуски-значений-2.2\"><span class=\"toc-item-num\">2.2&nbsp;&nbsp;</span>Пропуски значений</a></span></li><li><span><a href=\"#Дубликаты\" data-toc-modified-id=\"Дубликаты-2.3\"><span class=\"toc-item-num\">2.3&nbsp;&nbsp;</span>Дубликаты</a></span></li></ul></li><li><span><a href=\"#Проверка-гипотез\" data-toc-modified-id=\"Проверка-гипотез-3\"><span class=\"toc-item-num\">3&nbsp;&nbsp;</span>Проверка гипотез</a></span><ul class=\"toc-item\"><li><span><a href=\"#Сравнение-поведения-пользователей-двух-столиц\" data-toc-modified-id=\"Сравнение-поведения-пользователей-двух-столиц-3.1\"><span class=\"toc-item-num\">3.1&nbsp;&nbsp;</span>Сравнение поведения пользователей двух столиц</a></span></li><li><span><a href=\"#Музыка-в-начале-и-в-конце-недели\" data-toc-modified-id=\"Музыка-в-начале-и-в-конце-недели-3.2\"><span class=\"toc-item-num\">3.2&nbsp;&nbsp;</span>Музыка в начале и в конце недели</a></span></li><li><span><a href=\"#Жанровые-предпочтения-в-Москве-и-Петербурге\" data-toc-modified-id=\"Жанровые-предпочтения-в-Москве-и-Петербурге-3.3\"><span class=\"toc-item-num\">3.3&nbsp;&nbsp;</span>Жанровые предпочтения в Москве и Петербурге</a></span></li></ul></li><li><span><a href=\"#Итоги-исследования\" data-toc-modified-id=\"Итоги-исследования-4\"><span class=\"toc-item-num\">4&nbsp;&nbsp;</span>Итоги исследования</a></span></li></ul></div>"
   ]
  },
  {
   "cell_type": "markdown",
   "metadata": {
    "id": "E0vqbgi9ay0H"
   },
   "source": [
    "# Яндекс.Музыка"
   ]
  },
  {
   "cell_type": "markdown",
   "metadata": {
    "id": "VUC88oWjTJw2"
   },
   "source": [
    "\n",
    "С помощью данных Яндекс.Музыки сравним поведение пользователей Москвы и Петербурга.\n",
    "\n",
    "**Цель исследования** — проверка гипотез:\n",
    "1. Активность пользователей зависит от дня недели. Причём в Москве и Петербурге это проявляется по-разному.\n",
    "2. В понедельник утром в Москве преобладают одни жанры, а в Петербурге — другие. Так же и вечером пятницы преобладают разные жанры — в зависимости от города. \n",
    "3. Москва и Петербург предпочитают разные жанры музыки. В Москве чаще слушают поп-музыку, в Петербурге — русский рэп.\n",
    "\n",
    "**Ход исследования**\n",
    "\n",
    " 1. Обзор данных.\n",
    " 2. Предобработка данных.\n",
    " 3. Проверка гипотез.\n",
    "\n"
   ]
  },
  {
   "cell_type": "markdown",
   "metadata": {
    "id": "Ml1hmfXC_Zcs"
   },
   "source": [
    "## Обзор данных\n",
    "\n",
    "Составим первое представление о данных Яндекс.Музыки.\n",
    "\n",
    "\n"
   ]
  },
  {
   "cell_type": "code",
   "execution_count": 1,
   "metadata": {
    "id": "AXN7PHPN_Zcs"
   },
   "outputs": [],
   "source": [
    "import pandas as pd"
   ]
  },
  {
   "cell_type": "code",
   "execution_count": 2,
   "metadata": {
    "id": "fFVu7vqh_Zct"
   },
   "outputs": [],
   "source": [
    "df = pd.read_csv('/datasets/yandex_music_project.csv')"
   ]
  },
  {
   "cell_type": "markdown",
   "metadata": {
    "id": "rDoOMd3uTqnZ"
   },
   "source": [
    "Выведем на экран первые десять строк таблицы:"
   ]
  },
  {
   "cell_type": "code",
   "execution_count": 3,
   "metadata": {
    "id": "oWTVX3gW_Zct"
   },
   "outputs": [
    {
     "data": {
      "text/html": [
       "<div>\n",
       "<style scoped>\n",
       "    .dataframe tbody tr th:only-of-type {\n",
       "        vertical-align: middle;\n",
       "    }\n",
       "\n",
       "    .dataframe tbody tr th {\n",
       "        vertical-align: top;\n",
       "    }\n",
       "\n",
       "    .dataframe thead th {\n",
       "        text-align: right;\n",
       "    }\n",
       "</style>\n",
       "<table border=\"1\" class=\"dataframe\">\n",
       "  <thead>\n",
       "    <tr style=\"text-align: right;\">\n",
       "      <th></th>\n",
       "      <th>userID</th>\n",
       "      <th>Track</th>\n",
       "      <th>artist</th>\n",
       "      <th>genre</th>\n",
       "      <th>City</th>\n",
       "      <th>time</th>\n",
       "      <th>Day</th>\n",
       "    </tr>\n",
       "  </thead>\n",
       "  <tbody>\n",
       "    <tr>\n",
       "      <td>0</td>\n",
       "      <td>FFB692EC</td>\n",
       "      <td>Kamigata To Boots</td>\n",
       "      <td>The Mass Missile</td>\n",
       "      <td>rock</td>\n",
       "      <td>Saint-Petersburg</td>\n",
       "      <td>20:28:33</td>\n",
       "      <td>Wednesday</td>\n",
       "    </tr>\n",
       "    <tr>\n",
       "      <td>1</td>\n",
       "      <td>55204538</td>\n",
       "      <td>Delayed Because of Accident</td>\n",
       "      <td>Andreas Rönnberg</td>\n",
       "      <td>rock</td>\n",
       "      <td>Moscow</td>\n",
       "      <td>14:07:09</td>\n",
       "      <td>Friday</td>\n",
       "    </tr>\n",
       "    <tr>\n",
       "      <td>2</td>\n",
       "      <td>20EC38</td>\n",
       "      <td>Funiculì funiculà</td>\n",
       "      <td>Mario Lanza</td>\n",
       "      <td>pop</td>\n",
       "      <td>Saint-Petersburg</td>\n",
       "      <td>20:58:07</td>\n",
       "      <td>Wednesday</td>\n",
       "    </tr>\n",
       "    <tr>\n",
       "      <td>3</td>\n",
       "      <td>A3DD03C9</td>\n",
       "      <td>Dragons in the Sunset</td>\n",
       "      <td>Fire + Ice</td>\n",
       "      <td>folk</td>\n",
       "      <td>Saint-Petersburg</td>\n",
       "      <td>08:37:09</td>\n",
       "      <td>Monday</td>\n",
       "    </tr>\n",
       "    <tr>\n",
       "      <td>4</td>\n",
       "      <td>E2DC1FAE</td>\n",
       "      <td>Soul People</td>\n",
       "      <td>Space Echo</td>\n",
       "      <td>dance</td>\n",
       "      <td>Moscow</td>\n",
       "      <td>08:34:34</td>\n",
       "      <td>Monday</td>\n",
       "    </tr>\n",
       "    <tr>\n",
       "      <td>5</td>\n",
       "      <td>842029A1</td>\n",
       "      <td>Преданная</td>\n",
       "      <td>IMPERVTOR</td>\n",
       "      <td>rusrap</td>\n",
       "      <td>Saint-Petersburg</td>\n",
       "      <td>13:09:41</td>\n",
       "      <td>Friday</td>\n",
       "    </tr>\n",
       "    <tr>\n",
       "      <td>6</td>\n",
       "      <td>4CB90AA5</td>\n",
       "      <td>True</td>\n",
       "      <td>Roman Messer</td>\n",
       "      <td>dance</td>\n",
       "      <td>Moscow</td>\n",
       "      <td>13:00:07</td>\n",
       "      <td>Wednesday</td>\n",
       "    </tr>\n",
       "    <tr>\n",
       "      <td>7</td>\n",
       "      <td>F03E1C1F</td>\n",
       "      <td>Feeling This Way</td>\n",
       "      <td>Polina Griffith</td>\n",
       "      <td>dance</td>\n",
       "      <td>Moscow</td>\n",
       "      <td>20:47:49</td>\n",
       "      <td>Wednesday</td>\n",
       "    </tr>\n",
       "    <tr>\n",
       "      <td>8</td>\n",
       "      <td>8FA1D3BE</td>\n",
       "      <td>И вновь продолжается бой</td>\n",
       "      <td>NaN</td>\n",
       "      <td>ruspop</td>\n",
       "      <td>Moscow</td>\n",
       "      <td>09:17:40</td>\n",
       "      <td>Friday</td>\n",
       "    </tr>\n",
       "    <tr>\n",
       "      <td>9</td>\n",
       "      <td>E772D5C0</td>\n",
       "      <td>Pessimist</td>\n",
       "      <td>NaN</td>\n",
       "      <td>dance</td>\n",
       "      <td>Saint-Petersburg</td>\n",
       "      <td>21:20:49</td>\n",
       "      <td>Wednesday</td>\n",
       "    </tr>\n",
       "  </tbody>\n",
       "</table>\n",
       "</div>"
      ],
      "text/plain": [
       "     userID                        Track            artist   genre  \\\n",
       "0  FFB692EC            Kamigata To Boots  The Mass Missile    rock   \n",
       "1  55204538  Delayed Because of Accident  Andreas Rönnberg    rock   \n",
       "2    20EC38            Funiculì funiculà       Mario Lanza     pop   \n",
       "3  A3DD03C9        Dragons in the Sunset        Fire + Ice    folk   \n",
       "4  E2DC1FAE                  Soul People        Space Echo   dance   \n",
       "5  842029A1                    Преданная         IMPERVTOR  rusrap   \n",
       "6  4CB90AA5                         True      Roman Messer   dance   \n",
       "7  F03E1C1F             Feeling This Way   Polina Griffith   dance   \n",
       "8  8FA1D3BE     И вновь продолжается бой               NaN  ruspop   \n",
       "9  E772D5C0                    Pessimist               NaN   dance   \n",
       "\n",
       "             City        time        Day  \n",
       "0  Saint-Petersburg  20:28:33  Wednesday  \n",
       "1            Moscow  14:07:09     Friday  \n",
       "2  Saint-Petersburg  20:58:07  Wednesday  \n",
       "3  Saint-Petersburg  08:37:09     Monday  \n",
       "4            Moscow  08:34:34     Monday  \n",
       "5  Saint-Petersburg  13:09:41     Friday  \n",
       "6            Moscow  13:00:07  Wednesday  \n",
       "7            Moscow  20:47:49  Wednesday  \n",
       "8            Moscow  09:17:40     Friday  \n",
       "9  Saint-Petersburg  21:20:49  Wednesday  "
      ]
     },
     "execution_count": 3,
     "metadata": {},
     "output_type": "execute_result"
    }
   ],
   "source": [
    "df.head(10)"
   ]
  },
  {
   "cell_type": "code",
   "execution_count": 4,
   "metadata": {
    "id": "DSf2kIb-_Zct"
   },
   "outputs": [
    {
     "name": "stdout",
     "output_type": "stream",
     "text": [
      "<class 'pandas.core.frame.DataFrame'>\n",
      "RangeIndex: 65079 entries, 0 to 65078\n",
      "Data columns (total 7 columns):\n",
      "  userID    65079 non-null object\n",
      "Track       63848 non-null object\n",
      "artist      57876 non-null object\n",
      "genre       63881 non-null object\n",
      "  City      65079 non-null object\n",
      "time        65079 non-null object\n",
      "Day         65079 non-null object\n",
      "dtypes: object(7)\n",
      "memory usage: 3.5+ MB\n"
     ]
    }
   ],
   "source": [
    "df.info()"
   ]
  },
  {
   "cell_type": "markdown",
   "metadata": {
    "id": "TaQ2Iwbr_Zct"
   },
   "source": [
    "Итак, в таблице семь столбцов. Тип данных во всех столбцах — `object`.\n",
    "\n",
    "Согласно документации к данным:\n",
    "* `userID` — идентификатор пользователя;\n",
    "* `Track` — название трека;  \n",
    "* `artist` — имя исполнителя;\n",
    "* `genre` — название жанра;\n",
    "* `City` — город пользователя;\n",
    "* `time` — время начала прослушивания;\n",
    "* `Day` — день недели.\n",
    "\n",
    "В названиях колонок видны три нарушения стиля:\n",
    "1. Строчные буквы сочетаются с прописными.\n",
    "2. Встречаются пробелы.\n",
    "3. Слова написаны слитно.\n",
    "\n",
    "\n",
    "\n",
    "Количество значений в столбцах различается. Значит, в данных есть пропущенные значения.\n"
   ]
  },
  {
   "cell_type": "markdown",
   "metadata": {
    "id": "MCB6-dXG_Zct"
   },
   "source": [
    "**Выводы**\n",
    "\n",
    "В каждой строке таблицы — данные о прослушанном треке. Часть колонок описывает саму композицию: название, исполнителя и жанр. Остальные данные рассказывают о пользователе: из какого он города, когда он слушал музыку. \n",
    "\n",
    "Предварительно можно утверждать, что данных достаточно для проверки гипотез. Но встречаются пропуски в данных, а в названиях колонок — расхождения с хорошим стилем.\n",
    "\n",
    "Устраним проблемы в данных."
   ]
  },
  {
   "cell_type": "markdown",
   "metadata": {
    "id": "SjYF6Ub9_Zct"
   },
   "source": [
    "## Предобработка данных\n",
    "Исправим стиль в заголовках столбцов, исключим пропуски. Проверим данные на дубликаты."
   ]
  },
  {
   "cell_type": "markdown",
   "metadata": {
    "id": "dIaKXr29_Zct"
   },
   "source": [
    "### Стиль заголовков"
   ]
  },
  {
   "cell_type": "code",
   "execution_count": 5,
   "metadata": {
    "id": "oKOTdF_Q_Zct"
   },
   "outputs": [
    {
     "data": {
      "text/plain": [
       "Index(['  userID', 'Track', 'artist', 'genre', '  City  ', 'time', 'Day'], dtype='object')"
      ]
     },
     "execution_count": 5,
     "metadata": {},
     "output_type": "execute_result"
    }
   ],
   "source": [
    "df.columns"
   ]
  },
  {
   "cell_type": "code",
   "execution_count": 6,
   "metadata": {
    "id": "ISlFqs5y_Zct"
   },
   "outputs": [],
   "source": [
    "df= df.rename(columns = {'  userID':'user_id','Track':'track_name','  City  ':'city',\n",
    "                         'Day':'day_of_week' ,'artist':'artist_name','genre':'genre_name'})"
   ]
  },
  {
   "cell_type": "code",
   "execution_count": 7,
   "metadata": {
    "id": "d4NOAmTW_Zct"
   },
   "outputs": [
    {
     "data": {
      "text/plain": [
       "Index(['user_id', 'track_name', 'artist_name', 'genre_name', 'city', 'time',\n",
       "       'day_of_week'],\n",
       "      dtype='object')"
      ]
     },
     "execution_count": 7,
     "metadata": {},
     "output_type": "execute_result"
    }
   ],
   "source": [
    "df.columns"
   ]
  },
  {
   "cell_type": "markdown",
   "metadata": {
    "id": "5ISfbcfY_Zct"
   },
   "source": [
    "### Пропуски значений"
   ]
  },
  {
   "cell_type": "code",
   "execution_count": 8,
   "metadata": {
    "id": "RskX29qr_Zct"
   },
   "outputs": [
    {
     "data": {
      "text/plain": [
       "user_id           0\n",
       "track_name     1231\n",
       "artist_name    7203\n",
       "genre_name     1198\n",
       "city              0\n",
       "time              0\n",
       "day_of_week       0\n",
       "dtype: int64"
      ]
     },
     "execution_count": 8,
     "metadata": {},
     "output_type": "execute_result"
    }
   ],
   "source": [
    "df.isna().sum()"
   ]
  },
  {
   "cell_type": "markdown",
   "metadata": {
    "id": "qubhgnlO_Zct"
   },
   "source": [
    "Не все пропущенные значения влияют на исследование. Так в `track` и `artist` пропуски не важны для работы. Достаточно заменить их явными обозначениями.\n",
    "\n",
    "Пропуски в `genre` могут помешать сравнению музыкальных вкусов в Москве и Санкт-Петербурге. На практике было бы правильно установить причину пропусков и восстановить данные. Такой возможности нет в учебном проекте. Придётся:\n",
    "* заполнить и эти пропуски явными обозначениями,\n",
    "* оценить, насколько они повредят расчётам. "
   ]
  },
  {
   "cell_type": "markdown",
   "metadata": {
    "id": "fSv2laPA_Zct"
   },
   "source": [
    "Заменим пропущенные значения в столбцах `track`, `artist` и `genre` на строку `'unknown'`"
   ]
  },
  {
   "cell_type": "code",
   "execution_count": 9,
   "metadata": {
    "id": "KplB5qWs_Zct"
   },
   "outputs": [],
   "source": [
    "columns_to_replace = ['track_name', 'artist_name', 'genre_name']\n",
    "for column in columns_to_replace:\n",
    "    df[column] = df[column].fillna('unknown')"
   ]
  },
  {
   "cell_type": "code",
   "execution_count": 10,
   "metadata": {
    "id": "Tq4nYRX4_Zct"
   },
   "outputs": [
    {
     "data": {
      "text/plain": [
       "user_id        0\n",
       "track_name     0\n",
       "artist_name    0\n",
       "genre_name     0\n",
       "city           0\n",
       "time           0\n",
       "day_of_week    0\n",
       "dtype: int64"
      ]
     },
     "execution_count": 10,
     "metadata": {},
     "output_type": "execute_result"
    }
   ],
   "source": [
    "df.isna().sum()"
   ]
  },
  {
   "cell_type": "markdown",
   "metadata": {
    "id": "BWKRtBJ3_Zct"
   },
   "source": [
    "### Дубликаты\n",
    "Посчитаем явные дубликаты в таблице:"
   ]
  },
  {
   "cell_type": "code",
   "execution_count": 11,
   "metadata": {
    "id": "36eES_S0_Zct"
   },
   "outputs": [
    {
     "data": {
      "text/plain": [
       "3826"
      ]
     },
     "execution_count": 11,
     "metadata": {},
     "output_type": "execute_result"
    }
   ],
   "source": [
    "df.duplicated().sum()"
   ]
  },
  {
   "cell_type": "code",
   "execution_count": 12,
   "metadata": {
    "id": "exFHq6tt_Zct"
   },
   "outputs": [],
   "source": [
    "df = df.drop_duplicates().reset_index(drop = True)"
   ]
  },
  {
   "cell_type": "code",
   "execution_count": 13,
   "metadata": {
    "id": "-8PuNWQ0_Zct"
   },
   "outputs": [
    {
     "data": {
      "text/plain": [
       "0"
      ]
     },
     "execution_count": 13,
     "metadata": {},
     "output_type": "execute_result"
    }
   ],
   "source": [
    "df.duplicated().sum()"
   ]
  },
  {
   "cell_type": "markdown",
   "metadata": {
    "id": "QlFBsxAr_Zct"
   },
   "source": [
    "Теперь избавимся от неявных дубликатов в колонке `genre`. Например, название одного и того же жанра может быть записано немного по-разному. Такие ошибки тоже повлияют на результат исследования."
   ]
  },
  {
   "cell_type": "markdown",
   "metadata": {
    "id": "eSjWwsOh_Zct"
   },
   "source": [
    "Выведем на экран список уникальных названий жанров, отсортированный в алфавитном порядке.\n"
   ]
  },
  {
   "cell_type": "code",
   "execution_count": 14,
   "metadata": {
    "id": "JIUcqzZN_Zct"
   },
   "outputs": [
    {
     "data": {
      "text/plain": [
       "['acid',\n",
       " 'acoustic',\n",
       " 'action',\n",
       " 'adult',\n",
       " 'africa',\n",
       " 'afrikaans',\n",
       " 'alternative',\n",
       " 'alternativepunk',\n",
       " 'ambient',\n",
       " 'americana',\n",
       " 'animated',\n",
       " 'anime',\n",
       " 'arabesk',\n",
       " 'arabic',\n",
       " 'arena',\n",
       " 'argentinetango',\n",
       " 'art',\n",
       " 'audiobook',\n",
       " 'author',\n",
       " 'avantgarde',\n",
       " 'axé',\n",
       " 'baile',\n",
       " 'balkan',\n",
       " 'beats',\n",
       " 'bigroom',\n",
       " 'black',\n",
       " 'bluegrass',\n",
       " 'blues',\n",
       " 'bollywood',\n",
       " 'bossa',\n",
       " 'brazilian',\n",
       " 'breakbeat',\n",
       " 'breaks',\n",
       " 'broadway',\n",
       " 'cantautori',\n",
       " 'cantopop',\n",
       " 'canzone',\n",
       " 'caribbean',\n",
       " 'caucasian',\n",
       " 'celtic',\n",
       " 'chamber',\n",
       " 'chanson',\n",
       " 'children',\n",
       " 'chill',\n",
       " 'chinese',\n",
       " 'choral',\n",
       " 'christian',\n",
       " 'christmas',\n",
       " 'classical',\n",
       " 'classicmetal',\n",
       " 'club',\n",
       " 'colombian',\n",
       " 'comedy',\n",
       " 'conjazz',\n",
       " 'contemporary',\n",
       " 'country',\n",
       " 'cuban',\n",
       " 'dance',\n",
       " 'dancehall',\n",
       " 'dancepop',\n",
       " 'dark',\n",
       " 'death',\n",
       " 'deep',\n",
       " 'deutschrock',\n",
       " 'deutschspr',\n",
       " 'dirty',\n",
       " 'disco',\n",
       " 'dnb',\n",
       " 'documentary',\n",
       " 'downbeat',\n",
       " 'downtempo',\n",
       " 'drum',\n",
       " 'dub',\n",
       " 'dubstep',\n",
       " 'eastern',\n",
       " 'easy',\n",
       " 'electronic',\n",
       " 'electropop',\n",
       " 'emo',\n",
       " 'entehno',\n",
       " 'epicmetal',\n",
       " 'estrada',\n",
       " 'ethnic',\n",
       " 'eurofolk',\n",
       " 'european',\n",
       " 'experimental',\n",
       " 'extrememetal',\n",
       " 'fado',\n",
       " 'fairytail',\n",
       " 'film',\n",
       " 'fitness',\n",
       " 'flamenco',\n",
       " 'folk',\n",
       " 'folklore',\n",
       " 'folkmetal',\n",
       " 'folkrock',\n",
       " 'folktronica',\n",
       " 'forró',\n",
       " 'frankreich',\n",
       " 'französisch',\n",
       " 'french',\n",
       " 'funk',\n",
       " 'future',\n",
       " 'gangsta',\n",
       " 'garage',\n",
       " 'german',\n",
       " 'ghazal',\n",
       " 'gitarre',\n",
       " 'glitch',\n",
       " 'gospel',\n",
       " 'gothic',\n",
       " 'grime',\n",
       " 'grunge',\n",
       " 'gypsy',\n",
       " 'handsup',\n",
       " \"hard'n'heavy\",\n",
       " 'hardcore',\n",
       " 'hardstyle',\n",
       " 'hardtechno',\n",
       " 'hip',\n",
       " 'hip-hop',\n",
       " 'hiphop',\n",
       " 'historisch',\n",
       " 'holiday',\n",
       " 'hop',\n",
       " 'horror',\n",
       " 'house',\n",
       " 'hymn',\n",
       " 'idm',\n",
       " 'independent',\n",
       " 'indian',\n",
       " 'indie',\n",
       " 'indipop',\n",
       " 'industrial',\n",
       " 'inspirational',\n",
       " 'instrumental',\n",
       " 'international',\n",
       " 'irish',\n",
       " 'jam',\n",
       " 'japanese',\n",
       " 'jazz',\n",
       " 'jewish',\n",
       " 'jpop',\n",
       " 'jungle',\n",
       " 'k-pop',\n",
       " 'karadeniz',\n",
       " 'karaoke',\n",
       " 'kayokyoku',\n",
       " 'korean',\n",
       " 'laiko',\n",
       " 'latin',\n",
       " 'latino',\n",
       " 'leftfield',\n",
       " 'local',\n",
       " 'lounge',\n",
       " 'loungeelectronic',\n",
       " 'lovers',\n",
       " 'malaysian',\n",
       " 'mandopop',\n",
       " 'marschmusik',\n",
       " 'meditative',\n",
       " 'mediterranean',\n",
       " 'melodic',\n",
       " 'metal',\n",
       " 'metalcore',\n",
       " 'mexican',\n",
       " 'middle',\n",
       " 'minimal',\n",
       " 'miscellaneous',\n",
       " 'modern',\n",
       " 'mood',\n",
       " 'mpb',\n",
       " 'muslim',\n",
       " 'native',\n",
       " 'neoklassik',\n",
       " 'neue',\n",
       " 'new',\n",
       " 'newage',\n",
       " 'newwave',\n",
       " 'nu',\n",
       " 'nujazz',\n",
       " 'numetal',\n",
       " 'oceania',\n",
       " 'old',\n",
       " 'opera',\n",
       " 'orchestral',\n",
       " 'other',\n",
       " 'piano',\n",
       " 'podcasts',\n",
       " 'pop',\n",
       " 'popdance',\n",
       " 'popelectronic',\n",
       " 'popeurodance',\n",
       " 'poprussian',\n",
       " 'post',\n",
       " 'posthardcore',\n",
       " 'postrock',\n",
       " 'power',\n",
       " 'progmetal',\n",
       " 'progressive',\n",
       " 'psychedelic',\n",
       " 'punjabi',\n",
       " 'punk',\n",
       " 'quebecois',\n",
       " 'ragga',\n",
       " 'ram',\n",
       " 'rancheras',\n",
       " 'rap',\n",
       " 'rave',\n",
       " 'reggae',\n",
       " 'reggaeton',\n",
       " 'regional',\n",
       " 'relax',\n",
       " 'religious',\n",
       " 'retro',\n",
       " 'rhythm',\n",
       " 'rnb',\n",
       " 'rnr',\n",
       " 'rock',\n",
       " 'rockabilly',\n",
       " 'rockalternative',\n",
       " 'rockindie',\n",
       " 'rockother',\n",
       " 'romance',\n",
       " 'roots',\n",
       " 'ruspop',\n",
       " 'rusrap',\n",
       " 'rusrock',\n",
       " 'russian',\n",
       " 'salsa',\n",
       " 'samba',\n",
       " 'scenic',\n",
       " 'schlager',\n",
       " 'self',\n",
       " 'sertanejo',\n",
       " 'shanson',\n",
       " 'shoegazing',\n",
       " 'showtunes',\n",
       " 'singer',\n",
       " 'ska',\n",
       " 'skarock',\n",
       " 'slow',\n",
       " 'smooth',\n",
       " 'soft',\n",
       " 'soul',\n",
       " 'soulful',\n",
       " 'sound',\n",
       " 'soundtrack',\n",
       " 'southern',\n",
       " 'specialty',\n",
       " 'speech',\n",
       " 'spiritual',\n",
       " 'sport',\n",
       " 'stonerrock',\n",
       " 'surf',\n",
       " 'swing',\n",
       " 'synthpop',\n",
       " 'synthrock',\n",
       " 'sängerportrait',\n",
       " 'tango',\n",
       " 'tanzorchester',\n",
       " 'taraftar',\n",
       " 'tatar',\n",
       " 'tech',\n",
       " 'techno',\n",
       " 'teen',\n",
       " 'thrash',\n",
       " 'top',\n",
       " 'traditional',\n",
       " 'tradjazz',\n",
       " 'trance',\n",
       " 'tribal',\n",
       " 'trip',\n",
       " 'triphop',\n",
       " 'tropical',\n",
       " 'türk',\n",
       " 'türkçe',\n",
       " 'ukrrock',\n",
       " 'unknown',\n",
       " 'urban',\n",
       " 'uzbek',\n",
       " 'variété',\n",
       " 'vi',\n",
       " 'videogame',\n",
       " 'vocal',\n",
       " 'western',\n",
       " 'world',\n",
       " 'worldbeat',\n",
       " 'ïîï',\n",
       " 'электроника']"
      ]
     },
     "execution_count": 14,
     "metadata": {},
     "output_type": "execute_result"
    }
   ],
   "source": [
    "sorted(df['genre_name'].unique())"
   ]
  },
  {
   "cell_type": "markdown",
   "metadata": {
    "id": "qej-Qmuo_Zct"
   },
   "source": [
    "Есть следующие неявные дубликаты:\n",
    "* *hip*,\n",
    "* *hop*,\n",
    "* *hip-hop*.\n",
    "\n",
    "Чтобы очистить от них таблицу, напишем функцию `replace_wrong_genres()` с двумя параметрами: \n",
    "* `wrong_genres` — список дубликатов,\n",
    "* `correct_genre` — строка с правильным значением.\n",
    "\n",
    "Функция должна исправить колонку `genre` в таблице `df`: заменить каждое значение из списка `wrong_genres` на значение из `correct_genre`."
   ]
  },
  {
   "cell_type": "code",
   "execution_count": 15,
   "metadata": {
    "id": "ErNDkmns_Zct"
   },
   "outputs": [],
   "source": [
    "def replace_wrong_genres(wrong_genres,correct_genre):\n",
    "    for wrong_genre in wrong_genres:\n",
    "        df['genre_name'] = df['genre_name'].replace(wrong_genre,correct_genre)"
   ]
  },
  {
   "cell_type": "code",
   "execution_count": 16,
   "metadata": {
    "id": "YN5i2hpmSo09"
   },
   "outputs": [],
   "source": [
    "duplicates_hiphop = ['hip', 'hop', 'hip-hop']\n",
    "replace_wrong_genres(duplicates_hiphop,'hiphop')"
   ]
  },
  {
   "cell_type": "markdown",
   "metadata": {
    "id": "zQKF16_RG15m"
   },
   "source": [
    "Проверим, что заменили неправильные названия:\n",
    "\n",
    "*   hip\n",
    "*   hop\n",
    "*   hip-hop\n",
    "\n",
    "Выведем отсортированный список уникальных значений столбца `genre`:"
   ]
  },
  {
   "cell_type": "code",
   "execution_count": 17,
   "metadata": {
    "id": "wvixALnFG15m"
   },
   "outputs": [
    {
     "data": {
      "text/plain": [
       "['acid',\n",
       " 'acoustic',\n",
       " 'action',\n",
       " 'adult',\n",
       " 'africa',\n",
       " 'afrikaans',\n",
       " 'alternative',\n",
       " 'alternativepunk',\n",
       " 'ambient',\n",
       " 'americana',\n",
       " 'animated',\n",
       " 'anime',\n",
       " 'arabesk',\n",
       " 'arabic',\n",
       " 'arena',\n",
       " 'argentinetango',\n",
       " 'art',\n",
       " 'audiobook',\n",
       " 'author',\n",
       " 'avantgarde',\n",
       " 'axé',\n",
       " 'baile',\n",
       " 'balkan',\n",
       " 'beats',\n",
       " 'bigroom',\n",
       " 'black',\n",
       " 'bluegrass',\n",
       " 'blues',\n",
       " 'bollywood',\n",
       " 'bossa',\n",
       " 'brazilian',\n",
       " 'breakbeat',\n",
       " 'breaks',\n",
       " 'broadway',\n",
       " 'cantautori',\n",
       " 'cantopop',\n",
       " 'canzone',\n",
       " 'caribbean',\n",
       " 'caucasian',\n",
       " 'celtic',\n",
       " 'chamber',\n",
       " 'chanson',\n",
       " 'children',\n",
       " 'chill',\n",
       " 'chinese',\n",
       " 'choral',\n",
       " 'christian',\n",
       " 'christmas',\n",
       " 'classical',\n",
       " 'classicmetal',\n",
       " 'club',\n",
       " 'colombian',\n",
       " 'comedy',\n",
       " 'conjazz',\n",
       " 'contemporary',\n",
       " 'country',\n",
       " 'cuban',\n",
       " 'dance',\n",
       " 'dancehall',\n",
       " 'dancepop',\n",
       " 'dark',\n",
       " 'death',\n",
       " 'deep',\n",
       " 'deutschrock',\n",
       " 'deutschspr',\n",
       " 'dirty',\n",
       " 'disco',\n",
       " 'dnb',\n",
       " 'documentary',\n",
       " 'downbeat',\n",
       " 'downtempo',\n",
       " 'drum',\n",
       " 'dub',\n",
       " 'dubstep',\n",
       " 'eastern',\n",
       " 'easy',\n",
       " 'electronic',\n",
       " 'electropop',\n",
       " 'emo',\n",
       " 'entehno',\n",
       " 'epicmetal',\n",
       " 'estrada',\n",
       " 'ethnic',\n",
       " 'eurofolk',\n",
       " 'european',\n",
       " 'experimental',\n",
       " 'extrememetal',\n",
       " 'fado',\n",
       " 'fairytail',\n",
       " 'film',\n",
       " 'fitness',\n",
       " 'flamenco',\n",
       " 'folk',\n",
       " 'folklore',\n",
       " 'folkmetal',\n",
       " 'folkrock',\n",
       " 'folktronica',\n",
       " 'forró',\n",
       " 'frankreich',\n",
       " 'französisch',\n",
       " 'french',\n",
       " 'funk',\n",
       " 'future',\n",
       " 'gangsta',\n",
       " 'garage',\n",
       " 'german',\n",
       " 'ghazal',\n",
       " 'gitarre',\n",
       " 'glitch',\n",
       " 'gospel',\n",
       " 'gothic',\n",
       " 'grime',\n",
       " 'grunge',\n",
       " 'gypsy',\n",
       " 'handsup',\n",
       " \"hard'n'heavy\",\n",
       " 'hardcore',\n",
       " 'hardstyle',\n",
       " 'hardtechno',\n",
       " 'hiphop',\n",
       " 'historisch',\n",
       " 'holiday',\n",
       " 'horror',\n",
       " 'house',\n",
       " 'hymn',\n",
       " 'idm',\n",
       " 'independent',\n",
       " 'indian',\n",
       " 'indie',\n",
       " 'indipop',\n",
       " 'industrial',\n",
       " 'inspirational',\n",
       " 'instrumental',\n",
       " 'international',\n",
       " 'irish',\n",
       " 'jam',\n",
       " 'japanese',\n",
       " 'jazz',\n",
       " 'jewish',\n",
       " 'jpop',\n",
       " 'jungle',\n",
       " 'k-pop',\n",
       " 'karadeniz',\n",
       " 'karaoke',\n",
       " 'kayokyoku',\n",
       " 'korean',\n",
       " 'laiko',\n",
       " 'latin',\n",
       " 'latino',\n",
       " 'leftfield',\n",
       " 'local',\n",
       " 'lounge',\n",
       " 'loungeelectronic',\n",
       " 'lovers',\n",
       " 'malaysian',\n",
       " 'mandopop',\n",
       " 'marschmusik',\n",
       " 'meditative',\n",
       " 'mediterranean',\n",
       " 'melodic',\n",
       " 'metal',\n",
       " 'metalcore',\n",
       " 'mexican',\n",
       " 'middle',\n",
       " 'minimal',\n",
       " 'miscellaneous',\n",
       " 'modern',\n",
       " 'mood',\n",
       " 'mpb',\n",
       " 'muslim',\n",
       " 'native',\n",
       " 'neoklassik',\n",
       " 'neue',\n",
       " 'new',\n",
       " 'newage',\n",
       " 'newwave',\n",
       " 'nu',\n",
       " 'nujazz',\n",
       " 'numetal',\n",
       " 'oceania',\n",
       " 'old',\n",
       " 'opera',\n",
       " 'orchestral',\n",
       " 'other',\n",
       " 'piano',\n",
       " 'podcasts',\n",
       " 'pop',\n",
       " 'popdance',\n",
       " 'popelectronic',\n",
       " 'popeurodance',\n",
       " 'poprussian',\n",
       " 'post',\n",
       " 'posthardcore',\n",
       " 'postrock',\n",
       " 'power',\n",
       " 'progmetal',\n",
       " 'progressive',\n",
       " 'psychedelic',\n",
       " 'punjabi',\n",
       " 'punk',\n",
       " 'quebecois',\n",
       " 'ragga',\n",
       " 'ram',\n",
       " 'rancheras',\n",
       " 'rap',\n",
       " 'rave',\n",
       " 'reggae',\n",
       " 'reggaeton',\n",
       " 'regional',\n",
       " 'relax',\n",
       " 'religious',\n",
       " 'retro',\n",
       " 'rhythm',\n",
       " 'rnb',\n",
       " 'rnr',\n",
       " 'rock',\n",
       " 'rockabilly',\n",
       " 'rockalternative',\n",
       " 'rockindie',\n",
       " 'rockother',\n",
       " 'romance',\n",
       " 'roots',\n",
       " 'ruspop',\n",
       " 'rusrap',\n",
       " 'rusrock',\n",
       " 'russian',\n",
       " 'salsa',\n",
       " 'samba',\n",
       " 'scenic',\n",
       " 'schlager',\n",
       " 'self',\n",
       " 'sertanejo',\n",
       " 'shanson',\n",
       " 'shoegazing',\n",
       " 'showtunes',\n",
       " 'singer',\n",
       " 'ska',\n",
       " 'skarock',\n",
       " 'slow',\n",
       " 'smooth',\n",
       " 'soft',\n",
       " 'soul',\n",
       " 'soulful',\n",
       " 'sound',\n",
       " 'soundtrack',\n",
       " 'southern',\n",
       " 'specialty',\n",
       " 'speech',\n",
       " 'spiritual',\n",
       " 'sport',\n",
       " 'stonerrock',\n",
       " 'surf',\n",
       " 'swing',\n",
       " 'synthpop',\n",
       " 'synthrock',\n",
       " 'sängerportrait',\n",
       " 'tango',\n",
       " 'tanzorchester',\n",
       " 'taraftar',\n",
       " 'tatar',\n",
       " 'tech',\n",
       " 'techno',\n",
       " 'teen',\n",
       " 'thrash',\n",
       " 'top',\n",
       " 'traditional',\n",
       " 'tradjazz',\n",
       " 'trance',\n",
       " 'tribal',\n",
       " 'trip',\n",
       " 'triphop',\n",
       " 'tropical',\n",
       " 'türk',\n",
       " 'türkçe',\n",
       " 'ukrrock',\n",
       " 'unknown',\n",
       " 'urban',\n",
       " 'uzbek',\n",
       " 'variété',\n",
       " 'vi',\n",
       " 'videogame',\n",
       " 'vocal',\n",
       " 'western',\n",
       " 'world',\n",
       " 'worldbeat',\n",
       " 'ïîï',\n",
       " 'электроника']"
      ]
     },
     "execution_count": 17,
     "metadata": {},
     "output_type": "execute_result"
    }
   ],
   "source": [
    "sorted(df['genre_name'].unique())"
   ]
  },
  {
   "cell_type": "markdown",
   "metadata": {
    "id": "jz6a9-7HQUDd"
   },
   "source": [
    "**Выводы**\n",
    "\n",
    "Предобработка обнаружила три проблемы в данных:\n",
    "\n",
    "- нарушения в стиле заголовков,\n",
    "- пропущенные значения,\n",
    "- дубликаты — явные и неявные.\n",
    "\n",
    "\n",
    "Исправили заголовки, чтобы упростить работу с таблицей. Без дубликатов исследование станет более точным.\n",
    "\n",
    "Пропущенные значения заменили на `'unknown'`.\n",
    "\n",
    "Теперь перейдём к проверке гипотез. "
   ]
  },
  {
   "cell_type": "markdown",
   "metadata": {
    "id": "WttZHXH0SqKk"
   },
   "source": [
    "## Проверка гипотез"
   ]
  },
  {
   "cell_type": "markdown",
   "metadata": {
    "id": "Im936VVi_Zcu"
   },
   "source": [
    "### Сравнение поведения пользователей двух столиц"
   ]
  },
  {
   "cell_type": "markdown",
   "metadata": {
    "id": "nwt_MuaL_Zcu"
   },
   "source": [
    "Первая гипотеза утверждает, что пользователи по-разному слушают музыку в Москве и Санкт-Петербурге. Проверим это предположение по данным о трёх днях недели — понедельнике, среде и пятнице. Для этого:\n",
    "\n",
    "* Разделим пользователей Москвы и Санкт-Петербурга\n",
    "* Сравним, сколько треков послушала каждая группа пользователей в понедельник, среду и пятницу.\n"
   ]
  },
  {
   "cell_type": "markdown",
   "metadata": {
    "id": "8Dw_YMmT_Zcu"
   },
   "source": [
    "**Для тренировки сначала выполним каждый из расчётов по отдельности.**\n",
    "\n",
    "Оценим активность пользователей в каждом городе. Сгруппируем данные по городу и посчитаем прослушивания в каждой группе.\n",
    "\n"
   ]
  },
  {
   "cell_type": "code",
   "execution_count": 18,
   "metadata": {
    "id": "0_Qs96oh_Zcu"
   },
   "outputs": [
    {
     "data": {
      "text/plain": [
       "city\n",
       "Moscow              42741\n",
       "Saint-Petersburg    18512\n",
       "Name: genre_name, dtype: int64"
      ]
     },
     "execution_count": 18,
     "metadata": {},
     "output_type": "execute_result"
    }
   ],
   "source": [
    "df.groupby('city')['genre_name'].count()\n",
    "# Подсчёт прослушиваний в каждом городе"
   ]
  },
  {
   "cell_type": "markdown",
   "metadata": {
    "id": "dzli3w8o_Zcu"
   },
   "source": [
    "В Москве прослушиваний больше, чем в Петербурге. Из этого не следует, что московские пользователи чаще слушают музыку. Просто самих пользователей в Москве больше.\n",
    "\n",
    "Теперь сгруппируем данные по дню недели и подсчитаем прослушивания в понедельник, среду и пятницу. В данных есть информация только о прослушиваниях только за эти дни.\n"
   ]
  },
  {
   "cell_type": "code",
   "execution_count": 19,
   "metadata": {
    "id": "uZMKjiJz_Zcu"
   },
   "outputs": [
    {
     "data": {
      "text/plain": [
       "day_of_week\n",
       "Friday       21840\n",
       "Monday       21354\n",
       "Wednesday    18059\n",
       "Name: city, dtype: int64"
      ]
     },
     "execution_count": 19,
     "metadata": {},
     "output_type": "execute_result"
    }
   ],
   "source": [
    "df.groupby('day_of_week')['city'].count()\n",
    "# Подсчёт прослушиваний в каждый из трёх дней"
   ]
  },
  {
   "cell_type": "markdown",
   "metadata": {
    "id": "cC2tNrlL_Zcu"
   },
   "source": [
    "В среднем пользователи из двух городов менее активны по средам. Но картина может измениться, если рассмотреть каждый город в отдельности."
   ]
  },
  {
   "cell_type": "markdown",
   "metadata": {
    "id": "POzs8bGa_Zcu"
   },
   "source": [
    "Теперь напишем функцию, которая объединит два эти расчёта.\n",
    "\n",
    "Функция `number_tracks()` посчитает прослушивания для заданного дня и города. Ей понадобятся два параметра:\n",
    "* день недели,\n",
    "* название города.\n",
    "\n",
    "В функции сохраним в переменную строки исходной таблицы, у которых значение:\n",
    "  * в колонке `day` равно параметру `day`,\n",
    "  * в колонке `city` равно параметру `city`.\n",
    "\n",
    "Затем посчитаем значения в столбце `user_id` получившейся таблицы. Результат сохраним в новую переменную. Вернём эту переменную из функции."
   ]
  },
  {
   "cell_type": "code",
   "execution_count": 20,
   "metadata": {
    "id": "Nz3GdQB1_Zcu"
   },
   "outputs": [],
   "source": [
    "def number_tracks(day, city_name):\n",
    "    track_list = df[df['day_of_week'] == day]\n",
    "    track_list = track_list[track_list['city'] == city_name]\n",
    "    track_list_count = track_list['user_id'].count()\n",
    "    return track_list_count\n",
    "\n",
    "# Функция для подсчёта прослушиваний для конкретного города и дня.\n",
    "# С помощью последовательной фильтрации с логической индексацией она \n",
    "# сначала получит из исходной таблицы строки с нужным днём,\n",
    "# затем из результата отфильтрует строки с нужным городом,\n",
    "# методом count() посчитает количество значений в колонке user_id. \n",
    "# Это количество функция вернёт в качестве результата"
   ]
  },
  {
   "cell_type": "markdown",
   "metadata": {
    "id": "ytf7xFrFJQ2r"
   },
   "source": [
    "Вызовем `number_tracks()` шесть раз, меняя значение параметров — так, чтобы получить данные для каждого города в каждый из трёх дней."
   ]
  },
  {
   "cell_type": "code",
   "execution_count": 40,
   "metadata": {
    "id": "rJcRATNQ_Zcu"
   },
   "outputs": [
    {
     "data": {
      "text/plain": [
       "15740"
      ]
     },
     "execution_count": 40,
     "metadata": {},
     "output_type": "execute_result"
    }
   ],
   "source": [
    "moscow_monday_count = number_tracks('Monday', 'Moscow')# количество прослушиваний в Москве по понедельникам\n",
    "moscow_monday_count"
   ]
  },
  {
   "cell_type": "code",
   "execution_count": 22,
   "metadata": {
    "id": "hq_ncZ5T_Zcu"
   },
   "outputs": [
    {
     "data": {
      "text/plain": [
       "5614"
      ]
     },
     "execution_count": 22,
     "metadata": {},
     "output_type": "execute_result"
    }
   ],
   "source": [
    "spb_monday_count = number_tracks('Monday', 'Saint-Petersburg')# количество прослушиваний в Санкт-Петербурге по понедельникам\n",
    "spb_monday_count"
   ]
  },
  {
   "cell_type": "code",
   "execution_count": 23,
   "metadata": {
    "id": "_NTy2VPU_Zcu"
   },
   "outputs": [
    {
     "data": {
      "text/plain": [
       "11056"
      ]
     },
     "execution_count": 23,
     "metadata": {},
     "output_type": "execute_result"
    }
   ],
   "source": [
    "moscow_wednesday_count = number_tracks('Wednesday', 'Moscow')# количество прослушиваний в Москве по средам\n",
    "moscow_wednesday_count"
   ]
  },
  {
   "cell_type": "code",
   "execution_count": 24,
   "metadata": {
    "id": "j2y3TAwo_Zcu"
   },
   "outputs": [
    {
     "data": {
      "text/plain": [
       "7003"
      ]
     },
     "execution_count": 24,
     "metadata": {},
     "output_type": "execute_result"
    }
   ],
   "source": [
    "spb_wednesday_count = number_tracks('Wednesday', 'Saint-Petersburg')# количество прослушиваний в Санкт-Петербурге по средам\n",
    "spb_wednesday_count"
   ]
  },
  {
   "cell_type": "code",
   "execution_count": 25,
   "metadata": {
    "id": "vYDw5u_K_Zcu"
   },
   "outputs": [
    {
     "data": {
      "text/plain": [
       "15945"
      ]
     },
     "execution_count": 25,
     "metadata": {},
     "output_type": "execute_result"
    }
   ],
   "source": [
    "moscow_friday_count = number_tracks('Friday', 'Moscow')# количество прослушиваний в Москве по пятницам\n",
    "moscow_friday_count"
   ]
  },
  {
   "cell_type": "code",
   "execution_count": 26,
   "metadata": {
    "id": "8_yzFtW3_Zcu"
   },
   "outputs": [
    {
     "data": {
      "text/plain": [
       "5895"
      ]
     },
     "execution_count": 26,
     "metadata": {},
     "output_type": "execute_result"
    }
   ],
   "source": [
    "spb_friday_count = number_tracks('Friday', 'Saint-Petersburg')# количество прослушиваний в Санкт-Петербурге по пятницам\n",
    "spb_friday_count"
   ]
  },
  {
   "cell_type": "markdown",
   "metadata": {
    "id": "7QXffbO-_Zcu"
   },
   "source": [
    "Создадим c помощью конструктора `pd.DataFrame` таблицу, где\n",
    "* названия колонок — `['city', 'monday', 'wednesday', 'friday']`;\n",
    "* данные — результаты, которые вы получили с помощью `number_tracks`."
   ]
  },
  {
   "cell_type": "code",
   "execution_count": 27,
   "metadata": {
    "id": "APAcLpOr_Zcu"
   },
   "outputs": [
    {
     "data": {
      "text/html": [
       "<div>\n",
       "<style scoped>\n",
       "    .dataframe tbody tr th:only-of-type {\n",
       "        vertical-align: middle;\n",
       "    }\n",
       "\n",
       "    .dataframe tbody tr th {\n",
       "        vertical-align: top;\n",
       "    }\n",
       "\n",
       "    .dataframe thead th {\n",
       "        text-align: right;\n",
       "    }\n",
       "</style>\n",
       "<table border=\"1\" class=\"dataframe\">\n",
       "  <thead>\n",
       "    <tr style=\"text-align: right;\">\n",
       "      <th></th>\n",
       "      <th>city</th>\n",
       "      <th>Monday</th>\n",
       "      <th>Wednesday</th>\n",
       "      <th>Friday</th>\n",
       "    </tr>\n",
       "  </thead>\n",
       "  <tbody>\n",
       "    <tr>\n",
       "      <td>0</td>\n",
       "      <td>Moscow</td>\n",
       "      <td>15740</td>\n",
       "      <td>11056</td>\n",
       "      <td>15945</td>\n",
       "    </tr>\n",
       "    <tr>\n",
       "      <td>1</td>\n",
       "      <td>Saint-Petersburg</td>\n",
       "      <td>5614</td>\n",
       "      <td>7003</td>\n",
       "      <td>5895</td>\n",
       "    </tr>\n",
       "  </tbody>\n",
       "</table>\n",
       "</div>"
      ],
      "text/plain": [
       "               city  Monday  Wednesday  Friday\n",
       "0            Moscow   15740      11056   15945\n",
       "1  Saint-Petersburg    5614       7003    5895"
      ]
     },
     "execution_count": 27,
     "metadata": {},
     "output_type": "execute_result"
    }
   ],
   "source": [
    "pd.DataFrame({\n",
    "    'city'      :['Moscow','Saint-Petersburg'],\n",
    "    'Monday'    : [moscow_monday_count,spb_monday_count],\n",
    "    'Wednesday' : [moscow_wednesday_count,spb_wednesday_count],\n",
    "    'Friday'    : [moscow_friday_count,spb_friday_count]\n",
    "})"
   ]
  },
  {
   "cell_type": "markdown",
   "metadata": {
    "id": "-EgPIHYu_Zcu"
   },
   "source": [
    "**Выводы**\n",
    "\n",
    "Данные показывают разницу поведения пользователей:\n",
    "\n",
    "- В Москве пик прослушиваний приходится на понедельник и пятницу, а в среду заметен спад.\n",
    "- В Петербурге, наоборот, больше слушают музыку по средам. Активность в понедельник и пятницу здесь почти в равной мере уступает среде.\n",
    "\n",
    "Значит, данные говорят в пользу первой гипотезы."
   ]
  },
  {
   "cell_type": "markdown",
   "metadata": {
    "id": "atZAxtq4_Zcu"
   },
   "source": [
    "### Музыка в начале и в конце недели"
   ]
  },
  {
   "cell_type": "markdown",
   "metadata": {
    "id": "eXrQqXFH_Zcu"
   },
   "source": [
    "Согласно второй гипотезе, утром в понедельник в Москве преобладают одни жанры, а в Петербурге — другие. Так же и вечером пятницы преобладают разные жанры — в зависимости от города."
   ]
  },
  {
   "cell_type": "markdown",
   "metadata": {
    "id": "S8UcW6Hw_Zcu"
   },
   "source": [
    "Сохраним таблицы с данными в две переменные:\n",
    "* по Москве — в `moscow_general`;\n",
    "* по Санкт-Петербургу — в `spb_general`."
   ]
  },
  {
   "cell_type": "code",
   "execution_count": 28,
   "metadata": {
    "id": "qeaFfM_P_Zcu"
   },
   "outputs": [],
   "source": [
    "moscow_general = df[df['city'] == 'Moscow']\n",
    "# получение таблицы moscow_general из тех строк таблицы df, \n",
    "# для которых значение в столбце 'city' равно 'Moscow'\n"
   ]
  },
  {
   "cell_type": "code",
   "execution_count": 29,
   "metadata": {
    "id": "ORaVRKto_Zcu"
   },
   "outputs": [],
   "source": [
    "spb_general = df[df['city'] == 'Saint-Petersburg']\n",
    "# получение таблицы spb_general из тех строк таблицы df,\n",
    "# для которых значение в столбце 'city' равно 'Saint-Petersburg'\n"
   ]
  },
  {
   "cell_type": "markdown",
   "metadata": {
    "id": "MEJV-CX2_Zcu"
   },
   "source": [
    "Создадим функцию `genre_weekday()` с четырьмя параметрами:\n",
    "* таблица (датафрейм) с данными,\n",
    "* день недели,\n",
    "* начальная временная метка в формате 'hh:mm', \n",
    "* последняя временная метка в формате 'hh:mm'.\n",
    "\n",
    "Функция должна вернуть информацию о топ-10 жанров тех треков, которые прослушивали в указанный день, в промежутке между двумя отметками времени."
   ]
  },
  {
   "cell_type": "code",
   "execution_count": 1,
   "metadata": {
    "id": "laJT9BYl_Zcu"
   },
   "outputs": [],
   "source": [
    "def genre_weekday(table, day, time1, time2):\n",
    "    genre_df = table[table['day_of_week'] == day]\n",
    "    genre_df = genre_df[genre_df['time'] > time1]\n",
    "    genre_df = genre_df[genre_df['time'] < time2]\n",
    "    \n",
    "    genre_df_count = genre_df.groupby('genre_name')['genre_name'].count()\n",
    "    genre_df_count = genre_df_count.sort_values(ascending = False)\n",
    "    \n",
    "    display(genre_df_count.head(10))"
   ]
  },
  {
   "cell_type": "markdown",
   "metadata": {
    "id": "la2s2_PF_Zcu"
   },
   "source": [
    "Cравните результаты функции `genre_weekday()` для Москвы и Санкт-Петербурга в понедельник утром (с 7:00 до 11:00) и в пятницу вечером (с 17:00 до 23:00):"
   ]
  },
  {
   "cell_type": "code",
   "execution_count": 31,
   "metadata": {
    "id": "yz7itPUQ_Zcu"
   },
   "outputs": [
    {
     "data": {
      "text/plain": [
       "genre_name\n",
       "pop            781\n",
       "dance          549\n",
       "electronic     480\n",
       "rock           474\n",
       "hiphop         286\n",
       "ruspop         186\n",
       "world          181\n",
       "rusrap         175\n",
       "alternative    164\n",
       "unknown        161\n",
       "Name: genre_name, dtype: int64"
      ]
     },
     "metadata": {},
     "output_type": "display_data"
    }
   ],
   "source": [
    "genre_weekday(moscow_general, 'Monday', '07:00', '11:00')"
   ]
  },
  {
   "cell_type": "code",
   "execution_count": 32,
   "metadata": {
    "id": "kwUcHPdy_Zcu"
   },
   "outputs": [
    {
     "data": {
      "text/plain": [
       "genre_name\n",
       "pop            218\n",
       "dance          182\n",
       "rock           162\n",
       "electronic     147\n",
       "hiphop          80\n",
       "ruspop          64\n",
       "alternative     58\n",
       "rusrap          55\n",
       "jazz            44\n",
       "classical       40\n",
       "Name: genre_name, dtype: int64"
      ]
     },
     "metadata": {},
     "output_type": "display_data"
    }
   ],
   "source": [
    "genre_weekday(spb_general, 'Monday', '07:00', '11:00')"
   ]
  },
  {
   "cell_type": "code",
   "execution_count": 33,
   "metadata": {
    "id": "EzXVRE1o_Zcu"
   },
   "outputs": [
    {
     "data": {
      "text/plain": [
       "genre_name\n",
       "pop            713\n",
       "rock           517\n",
       "dance          495\n",
       "electronic     482\n",
       "hiphop         273\n",
       "world          208\n",
       "ruspop         170\n",
       "alternative    163\n",
       "classical      163\n",
       "rusrap         142\n",
       "Name: genre_name, dtype: int64"
      ]
     },
     "metadata": {},
     "output_type": "display_data"
    }
   ],
   "source": [
    "genre_weekday(moscow_general, 'Friday', '17:00', '23:00')"
   ]
  },
  {
   "cell_type": "code",
   "execution_count": 34,
   "metadata": {
    "id": "JZaEKu5v_Zcu"
   },
   "outputs": [
    {
     "data": {
      "text/plain": [
       "genre_name\n",
       "pop            256\n",
       "rock           216\n",
       "electronic     216\n",
       "dance          210\n",
       "hiphop          97\n",
       "alternative     63\n",
       "jazz            61\n",
       "classical       60\n",
       "rusrap          59\n",
       "world           54\n",
       "Name: genre_name, dtype: int64"
      ]
     },
     "metadata": {},
     "output_type": "display_data"
    }
   ],
   "source": [
    "genre_weekday(spb_general, 'Friday', '17:00', '23:00')"
   ]
  },
  {
   "cell_type": "markdown",
   "metadata": {
    "id": "wrCe4MNX_Zcu"
   },
   "source": [
    "**Выводы**\n",
    "\n",
    "Если сравнить топ-10 жанров в понедельник утром, можно сделать такие выводы:\n",
    "\n",
    "1. В Москве и Петербурге слушают похожую музыку. Единственное отличие — в московский рейтинг вошёл жанр “world”, а в петербургский — джаз и классика.\n",
    "\n",
    "2. В Москве пропущенных значений оказалось так много, что значение `'unknown'` заняло десятое место среди самых популярных жанров. Значит, пропущенные значения занимают существенную долю в данных и угрожают достоверности исследования.\n",
    "\n",
    "Вечер пятницы не меняет эту картину. Некоторые жанры поднимаются немного выше, другие спускаются, но в целом топ-10 остаётся тем же самым.\n",
    "\n",
    "Таким образом, вторая гипотеза подтвердилась лишь частично:\n",
    "* Пользователи слушают похожую музыку в начале недели и в конце.\n",
    "* Разница между Москвой и Петербургом не слишком выражена. В Москве чаще слушают русскую популярную музыку, в Петербурге — джаз.\n",
    "\n",
    "Однако пропуски в данных ставят под сомнение этот результат. В Москве их так много, что рейтинг топ-10 мог бы выглядеть иначе, если бы не утерянные  данные о жанрах."
   ]
  },
  {
   "cell_type": "markdown",
   "metadata": {
    "id": "JolODAqr_Zcu"
   },
   "source": [
    "### Жанровые предпочтения в Москве и Петербурге\n",
    "\n",
    "Гипотеза: Петербург — столица рэпа, музыку этого жанра там слушают чаще, чем в Москве.  А Москва — город контрастов, в котором, тем не менее, преобладает поп-музыка."
   ]
  },
  {
   "cell_type": "markdown",
   "metadata": {
    "id": "DlegSvaT_Zcu"
   },
   "source": [
    "Сгруппируем таблицу `moscow_general` по жанру и посчитаем прослушивания треков каждого жанра методом `count()`. Затем отсортируем результат в порядке убывания и сохраним его в таблице `moscow_genres`."
   ]
  },
  {
   "cell_type": "code",
   "execution_count": 35,
   "metadata": {
    "id": "r19lIPke_Zcu"
   },
   "outputs": [],
   "source": [
    "moscow_genres = moscow_general.groupby('genre_name')['genre_name'].count().sort_values(ascending=False)\n"
   ]
  },
  {
   "cell_type": "markdown",
   "metadata": {
    "id": "6kMuomxTiIr8"
   },
   "source": [
    "Выведем на экран первые десять строк `moscow_genres`:"
   ]
  },
  {
   "cell_type": "code",
   "execution_count": 36,
   "metadata": {
    "id": "WhCSooF8_Zcv"
   },
   "outputs": [
    {
     "data": {
      "text/plain": [
       "genre_name\n",
       "pop            5892\n",
       "dance          4435\n",
       "rock           3965\n",
       "electronic     3786\n",
       "hiphop         2096\n",
       "classical      1616\n",
       "world          1432\n",
       "alternative    1379\n",
       "ruspop         1372\n",
       "rusrap         1161\n",
       "Name: genre_name, dtype: int64"
      ]
     },
     "metadata": {},
     "output_type": "display_data"
    }
   ],
   "source": [
    "display(moscow_genres.head(10))"
   ]
  },
  {
   "cell_type": "markdown",
   "metadata": {
    "id": "cnPG2vnN_Zcv"
   },
   "source": [
    "Теперь повторим то же и для Петербурга.\n",
    "\n",
    "Сгруппируем таблицу `spb_general` по жанру. Посчитаем прослушивания треков каждого жанра. Результат отсортируем в порядке убывания и сохраним в таблице `spb_genres`:\n"
   ]
  },
  {
   "cell_type": "code",
   "execution_count": 37,
   "metadata": {
    "id": "gluLIpE7_Zcv"
   },
   "outputs": [],
   "source": [
    "spb_genres = spb_general.groupby('genre_name')['genre_name'].count().sort_values(ascending=False)\n",
    "# одной строкой: группировка таблицы spb_general по столбцу 'genre', \n",
    "# подсчёт числа значений 'genre' в этой группировке методом count(), \n",
    "# сортировка получившегося Series в порядке убывания и сохранение в spb_genres"
   ]
  },
  {
   "cell_type": "markdown",
   "metadata": {
    "id": "5Doha_ODgyQ8"
   },
   "source": [
    "Выведем на экран первые десять строк `spb_genres`:"
   ]
  },
  {
   "cell_type": "code",
   "execution_count": 38,
   "metadata": {
    "id": "uaGJHjVU_Zcv"
   },
   "outputs": [
    {
     "data": {
      "text/plain": [
       "genre_name\n",
       "pop            2431\n",
       "dance          1932\n",
       "rock           1879\n",
       "electronic     1736\n",
       "hiphop          960\n",
       "alternative     649\n",
       "classical       646\n",
       "rusrap          564\n",
       "ruspop          538\n",
       "world           515\n",
       "Name: genre_name, dtype: int64"
      ]
     },
     "metadata": {},
     "output_type": "display_data"
    }
   ],
   "source": [
    "display(spb_genres.head(10))# просмотр первых 10 строк spb_genres"
   ]
  },
  {
   "cell_type": "markdown",
   "metadata": {
    "id": "RY51YJYu_Zcv"
   },
   "source": [
    "**Выводы**"
   ]
  },
  {
   "cell_type": "markdown",
   "metadata": {
    "id": "nVhnJEm__Zcv"
   },
   "source": [
    "Гипотеза частично подтвердилась:\n",
    "* Поп-музыка — самый популярный жанр в Москве, как и предполагала гипотеза. Более того, в топ-10 жанров встречается близкий жанр — русская популярная музыка.\n",
    "* Вопреки ожиданиям, рэп одинаково популярен в Москве и Петербурге. \n"
   ]
  },
  {
   "cell_type": "markdown",
   "metadata": {
    "id": "ykKQ0N65_Zcv"
   },
   "source": [
    "## Итоги исследования"
   ]
  },
  {
   "cell_type": "markdown",
   "metadata": {
    "id": "tjUwbHb3_Zcv"
   },
   "source": [
    "Мы проверили три гипотезы и установили:\n",
    "\n",
    "1. День недели по-разному влияет на активность пользователей в Москве и Петербурге. \n",
    "\n",
    "Первая гипотеза полностью подтвердилась.\n",
    "\n",
    "2. Музыкальные предпочтения не сильно меняются в течение недели — будь то Москва или Петербург. Небольшие различия заметны в начале недели, по понедельникам:\n",
    "* в Москве слушают музыку жанра “world”,\n",
    "* в Петербурге — джаз и классику.\n",
    "\n",
    "Таким образом, вторая гипотеза подтвердилась лишь отчасти. Этот результат мог оказаться иным, если бы не пропуски в данных.\n",
    "\n",
    "3. Во вкусах пользователей Москвы и Петербурга больше общего чем различий. Вопреки ожиданиям, предпочтения жанров в Петербурге напоминают московские.\n",
    "\n",
    "Третья гипотеза не подтвердилась. Если различия в предпочтениях и существуют, на основной массе пользователей они незаметны.\n",
    "\n",
    "**На практике исследования содержат проверки статистических гипотез.**\n",
    "Из данных одного сервиса не всегда можно сделать вывод о всех жителях города.\n",
    "Проверки статистических гипотез покажут, насколько они достоверны, исходя из имеющихся данных. "
   ]
  },
  {
   "cell_type": "code",
   "execution_count": null,
   "metadata": {},
   "outputs": [],
   "source": []
  }
 ],
 "metadata": {
  "ExecuteTimeLog": [
   {
    "duration": 3485,
    "start_time": "2021-11-14T19:03:00.917Z"
   },
   {
    "duration": 1127,
    "start_time": "2021-11-14T19:04:54.857Z"
   },
   {
    "duration": 617,
    "start_time": "2021-11-15T11:40:28.777Z"
   },
   {
    "duration": 145,
    "start_time": "2021-11-15T11:40:29.838Z"
   },
   {
    "duration": 355,
    "start_time": "2021-11-15T11:40:45.912Z"
   },
   {
    "duration": 17,
    "start_time": "2021-11-15T11:40:51.074Z"
   },
   {
    "duration": 11,
    "start_time": "2021-11-15T11:41:03.447Z"
   },
   {
    "duration": 24,
    "start_time": "2021-11-15T11:43:52.090Z"
   },
   {
    "duration": 268,
    "start_time": "2021-11-15T11:45:21.317Z"
   },
   {
    "duration": 287,
    "start_time": "2021-11-15T11:45:26.867Z"
   },
   {
    "duration": 281,
    "start_time": "2021-11-15T11:45:40.677Z"
   },
   {
    "duration": 265,
    "start_time": "2021-11-15T11:45:45.567Z"
   },
   {
    "duration": 5,
    "start_time": "2021-11-15T11:45:56.960Z"
   },
   {
    "duration": 724,
    "start_time": "2021-11-15T11:50:36.705Z"
   },
   {
    "duration": 23,
    "start_time": "2021-11-15T11:51:00.509Z"
   },
   {
    "duration": 4,
    "start_time": "2021-11-15T11:51:08.352Z"
   },
   {
    "duration": 23,
    "start_time": "2021-11-15T11:51:48.016Z"
   },
   {
    "duration": 4,
    "start_time": "2021-11-15T11:51:49.042Z"
   },
   {
    "duration": 25,
    "start_time": "2021-11-15T11:52:15.809Z"
   },
   {
    "duration": 5,
    "start_time": "2021-11-15T11:52:16.821Z"
   },
   {
    "duration": 41,
    "start_time": "2021-11-15T11:55:02.412Z"
   },
   {
    "duration": 19,
    "start_time": "2021-11-15T12:19:22.829Z"
   },
   {
    "duration": 24,
    "start_time": "2021-11-15T12:19:39.744Z"
   },
   {
    "duration": 315,
    "start_time": "2021-11-15T12:20:50.855Z"
   },
   {
    "duration": 60,
    "start_time": "2021-11-15T12:20:58.282Z"
   },
   {
    "duration": 322,
    "start_time": "2021-11-15T12:22:22.751Z"
   },
   {
    "duration": 105,
    "start_time": "2021-11-15T12:22:27.881Z"
   },
   {
    "duration": 88,
    "start_time": "2021-11-15T12:22:35.089Z"
   },
   {
    "duration": 265,
    "start_time": "2021-11-15T12:23:48.354Z"
   },
   {
    "duration": 7,
    "start_time": "2021-11-15T12:23:56.107Z"
   },
   {
    "duration": 9,
    "start_time": "2021-11-15T12:24:39.751Z"
   },
   {
    "duration": 3,
    "start_time": "2021-11-15T12:28:19.897Z"
   },
   {
    "duration": 86,
    "start_time": "2021-11-15T12:29:36.245Z"
   },
   {
    "duration": 522,
    "start_time": "2021-11-15T12:29:54.085Z"
   },
   {
    "duration": 3,
    "start_time": "2021-11-15T12:30:37.299Z"
   },
   {
    "duration": 545,
    "start_time": "2021-11-15T12:30:45.247Z"
   },
   {
    "duration": 4,
    "start_time": "2021-11-15T12:31:18.867Z"
   },
   {
    "duration": 13,
    "start_time": "2021-11-15T12:31:19.579Z"
   },
   {
    "duration": 10,
    "start_time": "2021-11-15T12:31:36.164Z"
   },
   {
    "duration": 3,
    "start_time": "2021-11-15T13:21:24.169Z"
   },
   {
    "duration": 153,
    "start_time": "2021-11-15T13:21:24.176Z"
   },
   {
    "duration": 12,
    "start_time": "2021-11-15T13:21:24.331Z"
   },
   {
    "duration": 35,
    "start_time": "2021-11-15T13:21:24.345Z"
   },
   {
    "duration": 4,
    "start_time": "2021-11-15T13:21:24.382Z"
   },
   {
    "duration": 17,
    "start_time": "2021-11-15T13:21:24.387Z"
   },
   {
    "duration": 4,
    "start_time": "2021-11-15T13:21:24.406Z"
   },
   {
    "duration": 24,
    "start_time": "2021-11-15T13:21:24.412Z"
   },
   {
    "duration": 20,
    "start_time": "2021-11-15T13:21:24.462Z"
   },
   {
    "duration": 26,
    "start_time": "2021-11-15T13:21:24.484Z"
   },
   {
    "duration": 75,
    "start_time": "2021-11-15T13:21:24.512Z"
   },
   {
    "duration": 63,
    "start_time": "2021-11-15T13:21:24.589Z"
   },
   {
    "duration": 55,
    "start_time": "2021-11-15T13:21:24.664Z"
   },
   {
    "duration": 9,
    "start_time": "2021-11-15T13:21:24.721Z"
   },
   {
    "duration": 3,
    "start_time": "2021-11-15T13:21:24.733Z"
   },
   {
    "duration": 33,
    "start_time": "2021-11-15T13:21:24.738Z"
   },
   {
    "duration": 5,
    "start_time": "2021-11-15T13:31:29.018Z"
   },
   {
    "duration": 11,
    "start_time": "2021-11-15T13:31:35.708Z"
   },
   {
    "duration": 11,
    "start_time": "2021-11-15T13:32:15.987Z"
   },
   {
    "duration": 11,
    "start_time": "2021-11-15T13:32:37.940Z"
   },
   {
    "duration": 3,
    "start_time": "2021-11-15T14:03:37.548Z"
   },
   {
    "duration": 5,
    "start_time": "2021-11-15T14:03:59.191Z"
   },
   {
    "duration": 625,
    "start_time": "2021-11-15T14:04:57.880Z"
   },
   {
    "duration": 4,
    "start_time": "2021-11-15T14:06:33.999Z"
   },
   {
    "duration": 22,
    "start_time": "2021-11-15T14:06:36.947Z"
   },
   {
    "duration": 2,
    "start_time": "2021-11-15T14:07:52.058Z"
   },
   {
    "duration": 142,
    "start_time": "2021-11-15T14:07:52.063Z"
   },
   {
    "duration": 11,
    "start_time": "2021-11-15T14:07:52.207Z"
   },
   {
    "duration": 26,
    "start_time": "2021-11-15T14:07:52.220Z"
   },
   {
    "duration": 17,
    "start_time": "2021-11-15T14:07:52.249Z"
   },
   {
    "duration": 23,
    "start_time": "2021-11-15T14:07:52.268Z"
   },
   {
    "duration": 4,
    "start_time": "2021-11-15T14:07:52.293Z"
   },
   {
    "duration": 26,
    "start_time": "2021-11-15T14:07:52.299Z"
   },
   {
    "duration": 47,
    "start_time": "2021-11-15T14:07:52.328Z"
   },
   {
    "duration": 39,
    "start_time": "2021-11-15T14:07:52.378Z"
   },
   {
    "duration": 79,
    "start_time": "2021-11-15T14:07:52.419Z"
   },
   {
    "duration": 68,
    "start_time": "2021-11-15T14:07:52.500Z"
   },
   {
    "duration": 52,
    "start_time": "2021-11-15T14:07:52.570Z"
   },
   {
    "duration": 9,
    "start_time": "2021-11-15T14:07:52.624Z"
   },
   {
    "duration": 5,
    "start_time": "2021-11-15T14:07:52.634Z"
   },
   {
    "duration": 28,
    "start_time": "2021-11-15T14:07:52.641Z"
   },
   {
    "duration": 10,
    "start_time": "2021-11-15T14:07:52.671Z"
   },
   {
    "duration": 11,
    "start_time": "2021-11-15T14:07:52.683Z"
   },
   {
    "duration": 11,
    "start_time": "2021-11-15T14:07:52.696Z"
   },
   {
    "duration": 3,
    "start_time": "2021-11-15T14:07:52.708Z"
   },
   {
    "duration": 64,
    "start_time": "2021-11-15T14:07:52.713Z"
   },
   {
    "duration": 22,
    "start_time": "2021-11-15T14:07:52.779Z"
   },
   {
    "duration": 25,
    "start_time": "2021-11-15T14:07:52.803Z"
   },
   {
    "duration": 41,
    "start_time": "2021-11-15T14:07:52.830Z"
   },
   {
    "duration": 33,
    "start_time": "2021-11-15T14:07:52.873Z"
   },
   {
    "duration": 27,
    "start_time": "2021-11-15T14:08:24.290Z"
   },
   {
    "duration": 23,
    "start_time": "2021-11-15T14:09:21.836Z"
   },
   {
    "duration": 29,
    "start_time": "2021-11-15T14:09:25.580Z"
   },
   {
    "duration": 21,
    "start_time": "2021-11-15T14:09:28.956Z"
   },
   {
    "duration": 117,
    "start_time": "2021-11-15T14:09:32.860Z"
   },
   {
    "duration": 268,
    "start_time": "2021-11-15T14:09:35.858Z"
   },
   {
    "duration": 20,
    "start_time": "2021-11-15T14:09:40.939Z"
   },
   {
    "duration": 33,
    "start_time": "2021-11-15T14:13:28.401Z"
   },
   {
    "duration": 27,
    "start_time": "2021-11-15T14:13:35.601Z"
   },
   {
    "duration": 3,
    "start_time": "2021-11-15T14:13:51.671Z"
   },
   {
    "duration": 157,
    "start_time": "2021-11-15T14:13:51.676Z"
   },
   {
    "duration": 11,
    "start_time": "2021-11-15T14:13:51.835Z"
   },
   {
    "duration": 32,
    "start_time": "2021-11-15T14:13:51.848Z"
   },
   {
    "duration": 4,
    "start_time": "2021-11-15T14:13:51.882Z"
   },
   {
    "duration": 18,
    "start_time": "2021-11-15T14:13:51.888Z"
   },
   {
    "duration": 4,
    "start_time": "2021-11-15T14:13:51.908Z"
   },
   {
    "duration": 69,
    "start_time": "2021-11-15T14:13:51.914Z"
   },
   {
    "duration": 25,
    "start_time": "2021-11-15T14:13:51.987Z"
   },
   {
    "duration": 24,
    "start_time": "2021-11-15T14:13:52.014Z"
   },
   {
    "duration": 85,
    "start_time": "2021-11-15T14:13:52.040Z"
   },
   {
    "duration": 78,
    "start_time": "2021-11-15T14:13:52.126Z"
   },
   {
    "duration": 58,
    "start_time": "2021-11-15T14:13:52.206Z"
   },
   {
    "duration": 10,
    "start_time": "2021-11-15T14:13:52.266Z"
   },
   {
    "duration": 3,
    "start_time": "2021-11-15T14:13:52.278Z"
   },
   {
    "duration": 12,
    "start_time": "2021-11-15T14:13:52.283Z"
   },
   {
    "duration": 12,
    "start_time": "2021-11-15T14:13:52.297Z"
   },
   {
    "duration": 12,
    "start_time": "2021-11-15T14:13:52.310Z"
   },
   {
    "duration": 45,
    "start_time": "2021-11-15T14:13:52.323Z"
   },
   {
    "duration": 3,
    "start_time": "2021-11-15T14:13:52.370Z"
   },
   {
    "duration": 17,
    "start_time": "2021-11-15T14:16:45.387Z"
   },
   {
    "duration": 3,
    "start_time": "2021-11-15T14:17:29.650Z"
   },
   {
    "duration": 18,
    "start_time": "2021-11-15T14:17:32.441Z"
   },
   {
    "duration": 16,
    "start_time": "2021-11-15T14:17:34.294Z"
   },
   {
    "duration": 15,
    "start_time": "2021-11-15T14:17:36.259Z"
   },
   {
    "duration": 15,
    "start_time": "2021-11-15T14:17:37.905Z"
   },
   {
    "duration": 21,
    "start_time": "2021-11-15T14:17:40.099Z"
   },
   {
    "duration": 17,
    "start_time": "2021-11-15T14:17:41.698Z"
   },
   {
    "duration": 277,
    "start_time": "2021-11-15T14:24:12.565Z"
   },
   {
    "duration": 268,
    "start_time": "2021-11-15T14:25:22.475Z"
   },
   {
    "duration": 283,
    "start_time": "2021-11-15T14:26:43.492Z"
   },
   {
    "duration": 372,
    "start_time": "2021-11-15T14:33:47.748Z"
   },
   {
    "duration": 81,
    "start_time": "2021-11-15T14:40:21.679Z"
   },
   {
    "duration": 94,
    "start_time": "2021-11-15T14:40:42.536Z"
   },
   {
    "duration": 8,
    "start_time": "2021-11-15T14:40:54.267Z"
   },
   {
    "duration": 6483,
    "start_time": "2021-11-15T14:42:37.975Z"
   },
   {
    "duration": 13,
    "start_time": "2021-11-15T14:43:22.629Z"
   },
   {
    "duration": 10,
    "start_time": "2021-11-15T14:43:38.948Z"
   },
   {
    "duration": 5,
    "start_time": "2021-11-16T12:05:18.855Z"
   },
   {
    "duration": 5,
    "start_time": "2021-11-16T12:05:19.552Z"
   },
   {
    "duration": 5,
    "start_time": "2021-11-16T12:05:23.958Z"
   },
   {
    "duration": 449,
    "start_time": "2021-11-16T12:05:46.371Z"
   },
   {
    "duration": 378,
    "start_time": "2021-11-16T12:05:50.431Z"
   },
   {
    "duration": 832,
    "start_time": "2021-11-16T12:06:07.471Z"
   },
   {
    "duration": 189,
    "start_time": "2021-11-16T12:06:08.306Z"
   },
   {
    "duration": 28,
    "start_time": "2021-11-16T12:06:08.498Z"
   },
   {
    "duration": 47,
    "start_time": "2021-11-16T12:06:08.529Z"
   },
   {
    "duration": 25,
    "start_time": "2021-11-16T12:06:08.578Z"
   },
   {
    "duration": 31,
    "start_time": "2021-11-16T12:06:08.606Z"
   },
   {
    "duration": 16,
    "start_time": "2021-11-16T12:06:08.640Z"
   },
   {
    "duration": 72,
    "start_time": "2021-11-16T12:06:08.659Z"
   },
   {
    "duration": 32,
    "start_time": "2021-11-16T12:06:08.736Z"
   },
   {
    "duration": 61,
    "start_time": "2021-11-16T12:06:08.772Z"
   },
   {
    "duration": 134,
    "start_time": "2021-11-16T12:06:08.835Z"
   },
   {
    "duration": 110,
    "start_time": "2021-11-16T12:06:08.972Z"
   },
   {
    "duration": 81,
    "start_time": "2021-11-16T12:06:09.084Z"
   },
   {
    "duration": 36,
    "start_time": "2021-11-16T12:06:09.168Z"
   },
   {
    "duration": 5,
    "start_time": "2021-11-16T12:06:09.207Z"
   },
   {
    "duration": 21,
    "start_time": "2021-11-16T12:06:09.215Z"
   },
   {
    "duration": 12,
    "start_time": "2021-11-16T12:06:09.239Z"
   },
   {
    "duration": 15,
    "start_time": "2021-11-16T12:06:09.253Z"
   },
   {
    "duration": 13,
    "start_time": "2021-11-16T12:06:09.301Z"
   },
   {
    "duration": 10,
    "start_time": "2021-11-16T12:06:09.316Z"
   },
   {
    "duration": 32,
    "start_time": "2021-11-16T12:06:09.328Z"
   },
   {
    "duration": 38,
    "start_time": "2021-11-16T12:06:09.362Z"
   },
   {
    "duration": 26,
    "start_time": "2021-11-16T12:06:09.403Z"
   },
   {
    "duration": 22,
    "start_time": "2021-11-16T12:06:09.432Z"
   },
   {
    "duration": 63,
    "start_time": "2021-11-16T12:06:09.457Z"
   },
   {
    "duration": 20,
    "start_time": "2021-11-16T12:06:09.522Z"
   },
   {
    "duration": 12,
    "start_time": "2021-11-16T12:06:09.547Z"
   },
   {
    "duration": 48,
    "start_time": "2021-11-16T12:06:09.561Z"
   },
   {
    "duration": 14,
    "start_time": "2021-11-16T12:06:09.612Z"
   },
   {
    "duration": 6,
    "start_time": "2021-11-16T12:06:09.629Z"
   },
   {
    "duration": 824,
    "start_time": "2021-11-16T12:06:31.859Z"
   },
   {
    "duration": 5,
    "start_time": "2021-11-16T12:07:35.313Z"
   },
   {
    "duration": 27,
    "start_time": "2021-11-16T12:07:36.176Z"
   },
   {
    "duration": 7,
    "start_time": "2021-11-16T12:10:40.085Z"
   },
   {
    "duration": 33,
    "start_time": "2021-11-16T12:10:42.372Z"
   },
   {
    "duration": 27,
    "start_time": "2021-11-16T12:11:01.160Z"
   },
   {
    "duration": 18,
    "start_time": "2021-11-16T12:11:15.390Z"
   },
   {
    "duration": 22,
    "start_time": "2021-11-16T12:12:12.625Z"
   },
   {
    "duration": 17,
    "start_time": "2021-11-16T12:12:14.208Z"
   },
   {
    "duration": 442,
    "start_time": "2021-11-16T12:17:42.266Z"
   },
   {
    "duration": 11,
    "start_time": "2021-11-16T12:17:53.865Z"
   },
   {
    "duration": 6,
    "start_time": "2021-11-16T12:18:09.214Z"
   },
   {
    "duration": 425,
    "start_time": "2021-11-16T12:18:56.214Z"
   },
   {
    "duration": 11,
    "start_time": "2021-11-16T12:18:58.077Z"
   },
   {
    "duration": 9,
    "start_time": "2021-11-16T12:18:59.548Z"
   },
   {
    "duration": 8,
    "start_time": "2021-11-16T12:19:58.451Z"
   },
   {
    "duration": 9,
    "start_time": "2021-11-16T12:20:04.398Z"
   },
   {
    "duration": 12,
    "start_time": "2021-11-16T12:20:14.389Z"
   },
   {
    "duration": 12,
    "start_time": "2021-11-16T12:22:03.240Z"
   },
   {
    "duration": 32,
    "start_time": "2021-11-16T12:22:06.525Z"
   },
   {
    "duration": 5,
    "start_time": "2021-11-16T12:22:32.967Z"
   },
   {
    "duration": 285,
    "start_time": "2021-11-16T12:22:32.975Z"
   },
   {
    "duration": 22,
    "start_time": "2021-11-16T12:22:33.990Z"
   },
   {
    "duration": 48,
    "start_time": "2021-11-16T12:22:36.538Z"
   },
   {
    "duration": 226,
    "start_time": "2021-11-16T12:24:50.153Z"
   },
   {
    "duration": 223,
    "start_time": "2021-11-16T12:25:03.344Z"
   },
   {
    "duration": 222,
    "start_time": "2021-11-16T12:25:03.346Z"
   },
   {
    "duration": 221,
    "start_time": "2021-11-16T12:25:03.349Z"
   },
   {
    "duration": 219,
    "start_time": "2021-11-16T12:25:03.352Z"
   },
   {
    "duration": 217,
    "start_time": "2021-11-16T12:25:03.355Z"
   },
   {
    "duration": 216,
    "start_time": "2021-11-16T12:25:03.358Z"
   },
   {
    "duration": 214,
    "start_time": "2021-11-16T12:25:03.361Z"
   },
   {
    "duration": 195,
    "start_time": "2021-11-16T12:25:03.382Z"
   },
   {
    "duration": 190,
    "start_time": "2021-11-16T12:25:03.389Z"
   },
   {
    "duration": 189,
    "start_time": "2021-11-16T12:25:03.391Z"
   },
   {
    "duration": 188,
    "start_time": "2021-11-16T12:25:03.394Z"
   },
   {
    "duration": 186,
    "start_time": "2021-11-16T12:25:03.397Z"
   },
   {
    "duration": 186,
    "start_time": "2021-11-16T12:25:03.399Z"
   },
   {
    "duration": 184,
    "start_time": "2021-11-16T12:25:03.402Z"
   },
   {
    "duration": 10256,
    "start_time": "2021-11-16T12:25:05.487Z"
   },
   {
    "duration": 228,
    "start_time": "2021-11-16T12:25:27.339Z"
   },
   {
    "duration": 3,
    "start_time": "2021-11-16T12:25:35.214Z"
   },
   {
    "duration": 195,
    "start_time": "2021-11-16T12:25:35.219Z"
   },
   {
    "duration": 20,
    "start_time": "2021-11-16T12:25:35.418Z"
   },
   {
    "duration": 32,
    "start_time": "2021-11-16T12:25:35.440Z"
   },
   {
    "duration": 30,
    "start_time": "2021-11-16T12:25:35.475Z"
   },
   {
    "duration": 28,
    "start_time": "2021-11-16T12:25:35.507Z"
   },
   {
    "duration": 5,
    "start_time": "2021-11-16T12:25:35.538Z"
   },
   {
    "duration": 60,
    "start_time": "2021-11-16T12:25:35.546Z"
   },
   {
    "duration": 24,
    "start_time": "2021-11-16T12:25:35.609Z"
   },
   {
    "duration": 65,
    "start_time": "2021-11-16T12:25:35.636Z"
   },
   {
    "duration": 105,
    "start_time": "2021-11-16T12:25:35.704Z"
   },
   {
    "duration": 108,
    "start_time": "2021-11-16T12:25:35.811Z"
   },
   {
    "duration": 126,
    "start_time": "2021-11-16T12:25:35.921Z"
   },
   {
    "duration": 16,
    "start_time": "2021-11-16T12:25:40.686Z"
   },
   {
    "duration": 12,
    "start_time": "2021-11-16T12:25:45.850Z"
   },
   {
    "duration": 3,
    "start_time": "2021-11-16T12:29:30.997Z"
   },
   {
    "duration": 308,
    "start_time": "2021-11-16T12:29:31.012Z"
   },
   {
    "duration": 23,
    "start_time": "2021-11-16T12:29:31.324Z"
   },
   {
    "duration": 77,
    "start_time": "2021-11-16T12:29:31.351Z"
   },
   {
    "duration": 15,
    "start_time": "2021-11-16T12:29:31.431Z"
   },
   {
    "duration": 35,
    "start_time": "2021-11-16T12:29:31.449Z"
   },
   {
    "duration": 14,
    "start_time": "2021-11-16T12:29:31.487Z"
   },
   {
    "duration": 46,
    "start_time": "2021-11-16T12:29:31.504Z"
   },
   {
    "duration": 25,
    "start_time": "2021-11-16T12:29:31.554Z"
   },
   {
    "duration": 48,
    "start_time": "2021-11-16T12:29:31.582Z"
   },
   {
    "duration": 107,
    "start_time": "2021-11-16T12:29:31.632Z"
   },
   {
    "duration": 110,
    "start_time": "2021-11-16T12:29:31.741Z"
   },
   {
    "duration": 92,
    "start_time": "2021-11-16T12:29:31.854Z"
   },
   {
    "duration": 9,
    "start_time": "2021-11-16T12:29:31.949Z"
   },
   {
    "duration": 12,
    "start_time": "2021-11-16T12:29:31.961Z"
   },
   {
    "duration": 41,
    "start_time": "2021-11-16T12:29:31.976Z"
   },
   {
    "duration": 18,
    "start_time": "2021-11-16T12:29:32.020Z"
   },
   {
    "duration": 24,
    "start_time": "2021-11-16T12:29:32.040Z"
   },
   {
    "duration": 41,
    "start_time": "2021-11-16T12:29:32.067Z"
   },
   {
    "duration": 6,
    "start_time": "2021-11-16T12:29:32.112Z"
   },
   {
    "duration": 45,
    "start_time": "2021-11-16T12:29:32.121Z"
   },
   {
    "duration": 54,
    "start_time": "2021-11-16T12:29:32.168Z"
   },
   {
    "duration": 23,
    "start_time": "2021-11-16T12:29:32.225Z"
   },
   {
    "duration": 49,
    "start_time": "2021-11-16T12:29:32.253Z"
   },
   {
    "duration": 25,
    "start_time": "2021-11-16T12:29:32.305Z"
   },
   {
    "duration": 21,
    "start_time": "2021-11-16T12:29:32.332Z"
   },
   {
    "duration": 45,
    "start_time": "2021-11-16T12:29:32.355Z"
   },
   {
    "duration": 22,
    "start_time": "2021-11-16T12:29:32.403Z"
   },
   {
    "duration": 19,
    "start_time": "2021-11-16T12:29:32.429Z"
   },
   {
    "duration": 7,
    "start_time": "2021-11-16T12:29:32.452Z"
   },
   {
    "duration": 55,
    "start_time": "2021-11-16T12:29:32.462Z"
   },
   {
    "duration": 16,
    "start_time": "2021-11-16T12:29:32.520Z"
   },
   {
    "duration": 30,
    "start_time": "2021-11-16T12:29:32.538Z"
   },
   {
    "duration": 46,
    "start_time": "2021-11-16T12:29:32.571Z"
   },
   {
    "duration": 11,
    "start_time": "2021-11-16T12:29:32.622Z"
   },
   {
    "duration": 22,
    "start_time": "2021-11-16T12:29:32.636Z"
   },
   {
    "duration": 56,
    "start_time": "2021-11-16T12:29:32.661Z"
   },
   {
    "duration": 9,
    "start_time": "2021-11-16T12:29:32.720Z"
   },
   {
    "duration": 86,
    "start_time": "2021-11-17T12:12:20.859Z"
   },
   {
    "duration": 109,
    "start_time": "2021-11-17T12:13:43.205Z"
   },
   {
    "duration": 328,
    "start_time": "2021-11-17T12:15:09.125Z"
   },
   {
    "duration": 565,
    "start_time": "2021-11-17T12:15:32.300Z"
   },
   {
    "duration": 135,
    "start_time": "2021-11-17T12:15:32.867Z"
   },
   {
    "duration": 17,
    "start_time": "2021-11-17T12:15:33.004Z"
   },
   {
    "duration": 35,
    "start_time": "2021-11-17T12:15:33.023Z"
   },
   {
    "duration": 6,
    "start_time": "2021-11-17T12:15:33.060Z"
   },
   {
    "duration": 23,
    "start_time": "2021-11-17T12:15:33.068Z"
   },
   {
    "duration": 4,
    "start_time": "2021-11-17T12:15:33.092Z"
   },
   {
    "duration": 27,
    "start_time": "2021-11-17T12:15:33.098Z"
   },
   {
    "duration": 19,
    "start_time": "2021-11-17T12:15:33.146Z"
   },
   {
    "duration": 30,
    "start_time": "2021-11-17T12:15:33.167Z"
   },
   {
    "duration": 77,
    "start_time": "2021-11-17T12:15:33.199Z"
   },
   {
    "duration": 79,
    "start_time": "2021-11-17T12:15:33.277Z"
   },
   {
    "duration": 51,
    "start_time": "2021-11-17T12:15:33.358Z"
   },
   {
    "duration": 14,
    "start_time": "2021-11-17T12:42:47.984Z"
   },
   {
    "duration": 421,
    "start_time": "2021-11-17T12:47:28.345Z"
   },
   {
    "duration": 271,
    "start_time": "2021-11-17T12:47:39.887Z"
   },
   {
    "duration": 263,
    "start_time": "2021-11-17T12:48:06.770Z"
   },
   {
    "duration": 3,
    "start_time": "2021-11-17T12:48:11.056Z"
   },
   {
    "duration": 15,
    "start_time": "2021-11-17T12:48:13.010Z"
   },
   {
    "duration": 17,
    "start_time": "2021-11-17T12:48:21.385Z"
   },
   {
    "duration": 13,
    "start_time": "2021-11-17T12:48:25.103Z"
   },
   {
    "duration": 14,
    "start_time": "2021-11-17T12:48:25.469Z"
   },
   {
    "duration": 16,
    "start_time": "2021-11-17T12:48:26.765Z"
   },
   {
    "duration": 13,
    "start_time": "2021-11-17T12:48:28.282Z"
   },
   {
    "duration": 12,
    "start_time": "2021-11-17T12:48:29.017Z"
   },
   {
    "duration": 3,
    "start_time": "2021-11-17T12:48:57.535Z"
   },
   {
    "duration": 140,
    "start_time": "2021-11-17T12:48:57.540Z"
   },
   {
    "duration": 10,
    "start_time": "2021-11-17T12:48:57.682Z"
   },
   {
    "duration": 37,
    "start_time": "2021-11-17T12:48:57.694Z"
   },
   {
    "duration": 6,
    "start_time": "2021-11-17T12:48:57.733Z"
   },
   {
    "duration": 16,
    "start_time": "2021-11-17T12:48:57.740Z"
   },
   {
    "duration": 4,
    "start_time": "2021-11-17T12:48:57.757Z"
   },
   {
    "duration": 32,
    "start_time": "2021-11-17T12:48:57.762Z"
   },
   {
    "duration": 19,
    "start_time": "2021-11-17T12:48:57.797Z"
   },
   {
    "duration": 34,
    "start_time": "2021-11-17T12:48:57.818Z"
   },
   {
    "duration": 82,
    "start_time": "2021-11-17T12:48:57.854Z"
   },
   {
    "duration": 58,
    "start_time": "2021-11-17T12:48:57.939Z"
   },
   {
    "duration": 59,
    "start_time": "2021-11-17T12:48:57.999Z"
   },
   {
    "duration": 10,
    "start_time": "2021-11-17T12:48:58.059Z"
   },
   {
    "duration": 4,
    "start_time": "2021-11-17T12:48:58.070Z"
   },
   {
    "duration": 28,
    "start_time": "2021-11-17T12:48:58.075Z"
   },
   {
    "duration": 10,
    "start_time": "2021-11-17T12:48:58.104Z"
   },
   {
    "duration": 16,
    "start_time": "2021-11-17T12:48:58.115Z"
   },
   {
    "duration": 16,
    "start_time": "2021-11-17T12:48:58.133Z"
   },
   {
    "duration": 3,
    "start_time": "2021-11-17T12:48:58.150Z"
   },
   {
    "duration": 24,
    "start_time": "2021-11-17T12:48:58.154Z"
   },
   {
    "duration": 13,
    "start_time": "2021-11-17T12:48:58.179Z"
   },
   {
    "duration": 15,
    "start_time": "2021-11-17T12:48:58.193Z"
   },
   {
    "duration": 38,
    "start_time": "2021-11-17T12:48:58.209Z"
   },
   {
    "duration": 16,
    "start_time": "2021-11-17T12:48:58.248Z"
   },
   {
    "duration": 16,
    "start_time": "2021-11-17T12:49:09.907Z"
   },
   {
    "duration": 9,
    "start_time": "2021-11-17T12:50:02.345Z"
   },
   {
    "duration": 460,
    "start_time": "2021-11-18T15:36:17.639Z"
   },
   {
    "duration": 801,
    "start_time": "2021-11-18T15:36:54.802Z"
   },
   {
    "duration": 294,
    "start_time": "2021-11-18T15:36:55.605Z"
   },
   {
    "duration": 26,
    "start_time": "2021-11-18T15:36:55.902Z"
   },
   {
    "duration": 35,
    "start_time": "2021-11-18T15:36:55.931Z"
   },
   {
    "duration": 5,
    "start_time": "2021-11-18T15:36:55.968Z"
   },
   {
    "duration": 27,
    "start_time": "2021-11-18T15:36:56.002Z"
   },
   {
    "duration": 8,
    "start_time": "2021-11-18T15:36:56.032Z"
   },
   {
    "duration": 58,
    "start_time": "2021-11-18T15:36:56.044Z"
   },
   {
    "duration": 22,
    "start_time": "2021-11-18T15:36:56.105Z"
   },
   {
    "duration": 33,
    "start_time": "2021-11-18T15:36:56.129Z"
   },
   {
    "duration": 110,
    "start_time": "2021-11-18T15:36:56.165Z"
   },
   {
    "duration": 123,
    "start_time": "2021-11-18T15:36:56.278Z"
   },
   {
    "duration": 79,
    "start_time": "2021-11-18T15:36:56.403Z"
   },
   {
    "duration": 29,
    "start_time": "2021-11-18T15:36:56.485Z"
   },
   {
    "duration": 5,
    "start_time": "2021-11-18T15:36:56.517Z"
   },
   {
    "duration": 16,
    "start_time": "2021-11-18T15:36:56.525Z"
   },
   {
    "duration": 14,
    "start_time": "2021-11-18T15:36:56.543Z"
   },
   {
    "duration": 52,
    "start_time": "2021-11-18T15:36:56.559Z"
   },
   {
    "duration": 14,
    "start_time": "2021-11-18T15:36:56.613Z"
   },
   {
    "duration": 6,
    "start_time": "2021-11-18T15:36:56.629Z"
   },
   {
    "duration": 32,
    "start_time": "2021-11-18T15:36:56.637Z"
   },
   {
    "duration": 21,
    "start_time": "2021-11-18T15:36:56.700Z"
   },
   {
    "duration": 19,
    "start_time": "2021-11-18T15:36:56.726Z"
   },
   {
    "duration": 52,
    "start_time": "2021-11-18T15:36:56.748Z"
   },
   {
    "duration": 22,
    "start_time": "2021-11-18T15:36:56.803Z"
   },
   {
    "duration": 22,
    "start_time": "2021-11-18T15:36:56.828Z"
   },
   {
    "duration": 12,
    "start_time": "2021-11-18T15:36:56.853Z"
   },
   {
    "duration": 16,
    "start_time": "2021-11-18T15:36:56.901Z"
   },
   {
    "duration": 12,
    "start_time": "2021-11-18T15:36:56.919Z"
   },
   {
    "duration": 6,
    "start_time": "2021-11-18T15:36:56.934Z"
   },
   {
    "duration": 65,
    "start_time": "2021-11-18T15:36:56.943Z"
   },
   {
    "duration": 17,
    "start_time": "2021-11-18T15:36:57.010Z"
   },
   {
    "duration": 21,
    "start_time": "2021-11-18T15:36:57.029Z"
   },
   {
    "duration": 49,
    "start_time": "2021-11-18T15:36:57.052Z"
   },
   {
    "duration": 11,
    "start_time": "2021-11-18T15:36:57.103Z"
   },
   {
    "duration": 6,
    "start_time": "2021-11-18T15:36:57.116Z"
   },
   {
    "duration": 18,
    "start_time": "2021-11-18T15:36:57.125Z"
   },
   {
    "duration": 6,
    "start_time": "2021-11-18T15:36:57.145Z"
   },
   {
    "duration": 20,
    "start_time": "2021-11-18T15:37:20.051Z"
   },
   {
    "duration": 22,
    "start_time": "2021-11-18T15:37:27.992Z"
   },
   {
    "duration": 13,
    "start_time": "2022-07-21T11:10:59.536Z"
   }
  ],
  "colab": {
   "collapsed_sections": [
    "E0vqbgi9ay0H",
    "VUC88oWjTJw2"
   ],
   "name": "yandex_music_project_2021.2.ipynb",
   "provenance": []
  },
  "kernelspec": {
   "display_name": "Python 3",
   "language": "python",
   "name": "python3"
  },
  "language_info": {
   "codemirror_mode": {
    "name": "ipython",
    "version": 3
   },
   "file_extension": ".py",
   "mimetype": "text/x-python",
   "name": "python",
   "nbconvert_exporter": "python",
   "pygments_lexer": "ipython3",
   "version": "3.7.4"
  },
  "toc": {
   "base_numbering": 1,
   "nav_menu": {},
   "number_sections": true,
   "sideBar": true,
   "skip_h1_title": true,
   "title_cell": "Table of Contents",
   "title_sidebar": "Contents",
   "toc_cell": true,
   "toc_position": {
    "height": "calc(100% - 180px)",
    "left": "10px",
    "top": "150px",
    "width": "302.183px"
   },
   "toc_section_display": true,
   "toc_window_display": true
  }
 },
 "nbformat": 4,
 "nbformat_minor": 1
}
