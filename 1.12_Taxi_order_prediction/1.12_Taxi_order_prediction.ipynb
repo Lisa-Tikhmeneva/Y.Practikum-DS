{
 "cells": [
  {
   "cell_type": "markdown",
   "metadata": {
    "toc": true
   },
   "source": [
    "<h1>Содержание<span class=\"tocSkip\"></span></h1>\n",
    "<div class=\"toc\"><ul class=\"toc-item\"><li><span><a href=\"#Подготовка\" data-toc-modified-id=\"Подготовка-1\"><span class=\"toc-item-num\">1&nbsp;&nbsp;</span>Подготовка</a></span></li><li><span><a href=\"#Анализ\" data-toc-modified-id=\"Анализ-2\"><span class=\"toc-item-num\">2&nbsp;&nbsp;</span>Анализ</a></span></li><li><span><a href=\"#Обучение\" data-toc-modified-id=\"Обучение-3\"><span class=\"toc-item-num\">3&nbsp;&nbsp;</span>Обучение</a></span><ul class=\"toc-item\"><li><span><a href=\"#Линейная-регрессия\" data-toc-modified-id=\"Линейная-регрессия-3.1\"><span class=\"toc-item-num\">3.1&nbsp;&nbsp;</span>Линейная регрессия</a></span></li><li><span><a href=\"#Решающее-дерево\" data-toc-modified-id=\"Решающее-дерево-3.2\"><span class=\"toc-item-num\">3.2&nbsp;&nbsp;</span>Решающее дерево</a></span></li><li><span><a href=\"#Градиентный-бустинг-catboost\" data-toc-modified-id=\"Градиентный-бустинг-catboost-3.3\"><span class=\"toc-item-num\">3.3&nbsp;&nbsp;</span>Градиентный бустинг catboost</a></span></li><li><span><a href=\"#LightGBM-для-регрессии\" data-toc-modified-id=\"LightGBM-для-регрессии-3.4\"><span class=\"toc-item-num\">3.4&nbsp;&nbsp;</span>LightGBM для регрессии</a></span></li></ul></li><li><span><a href=\"#Тестирование\" data-toc-modified-id=\"Тестирование-4\"><span class=\"toc-item-num\">4&nbsp;&nbsp;</span>Тестирование</a></span><ul class=\"toc-item\"><li><span><a href=\"#Вывод\" data-toc-modified-id=\"Вывод-4.1\"><span class=\"toc-item-num\">4.1&nbsp;&nbsp;</span>Вывод</a></span></li></ul></li><li><span><a href=\"#Общий-вывод\" data-toc-modified-id=\"Общий-вывод-5\"><span class=\"toc-item-num\">5&nbsp;&nbsp;</span>Общий вывод</a></span></li></ul></div>"
   ]
  },
  {
   "cell_type": "markdown",
   "metadata": {
    "id": "-KuQqFi-obTV"
   },
   "source": [
    "# Предсказание заказов такси\n",
    "\n",
    "Чтобы привлекать больше водителей в период пиковой нагрузки у аэропортов, нужно спрогнозировать количество заказов такси на следующий час. Построим модели для такого предсказания.\n",
    "\n",
    "Значение метрики RMSE на тестовой выборке должно быть не больше 48."
   ]
  },
  {
   "cell_type": "code",
   "execution_count": 48,
   "metadata": {
    "id": "Fm2G273uvled"
   },
   "outputs": [],
   "source": [
    "import pandas as pd\n",
    "import numpy as np\n",
    "from numpy.random import RandomState\n",
    "\n",
    "from statsmodels.tsa.seasonal import seasonal_decompose\n",
    "\n",
    "from catboost import CatBoostRegressor\n",
    "import lightgbm as lgb\n",
    "\n",
    "from sklearn.model_selection import train_test_split\n",
    "from sklearn.tree import DecisionTreeRegressor\n",
    "from sklearn.linear_model import LinearRegression \n",
    "from sklearn.model_selection import GridSearchCV\n",
    "from sklearn.metrics import make_scorer\n",
    "from sklearn.model_selection import  cross_val_score\n",
    "from sklearn.metrics import mean_squared_error\n",
    "\n",
    "\n",
    "import matplotlib.pyplot as plt \n",
    "from IPython.display import display"
   ]
  },
  {
   "cell_type": "markdown",
   "metadata": {
    "id": "EQ79wK_Gsm4R"
   },
   "source": [
    "## Подготовка"
   ]
  },
  {
   "cell_type": "markdown",
   "metadata": {
    "id": "DHZ3abxiu2-B"
   },
   "source": [
    "Загрузим данные и выполним их ресемплирование по одному часу.\n"
   ]
  },
  {
   "cell_type": "code",
   "execution_count": 49,
   "metadata": {
    "id": "ha-tOZ0ovDo2"
   },
   "outputs": [],
   "source": [
    "df = pd.read_csv('/datasets/taxi.csv', index_col=[0], parse_dates=[0])"
   ]
  },
  {
   "cell_type": "markdown",
   "metadata": {
    "id": "auilLDqvvhl1"
   },
   "source": [
    "Чтобы работать с временными рядами, необходимо проверить, в хронологическом ли порядке расположены даты и время:"
   ]
  },
  {
   "cell_type": "code",
   "execution_count": 50,
   "metadata": {
    "colab": {
     "base_uri": "https://localhost:8080/"
    },
    "id": "p_fCm0QbWPtT",
    "outputId": "f094a92f-feef-425a-a3ab-cb9e8bdbd3fc"
   },
   "outputs": [
    {
     "data": {
      "text/plain": [
       "True"
      ]
     },
     "execution_count": 50,
     "metadata": {},
     "output_type": "execute_result"
    }
   ],
   "source": [
    "df.index.is_monotonic"
   ]
  },
  {
   "cell_type": "markdown",
   "metadata": {
    "id": "kuFmtnsSvkW9"
   },
   "source": [
    "Дата и время расположены в хронологическом порядке. "
   ]
  },
  {
   "cell_type": "code",
   "execution_count": 51,
   "metadata": {
    "colab": {
     "base_uri": "https://localhost:8080/",
     "height": 237
    },
    "id": "whxyPkrUWJwE",
    "outputId": "22c48a33-f70c-4dbe-eb2b-6569bd27051a"
   },
   "outputs": [
    {
     "data": {
      "text/html": [
       "<div>\n",
       "<style scoped>\n",
       "    .dataframe tbody tr th:only-of-type {\n",
       "        vertical-align: middle;\n",
       "    }\n",
       "\n",
       "    .dataframe tbody tr th {\n",
       "        vertical-align: top;\n",
       "    }\n",
       "\n",
       "    .dataframe thead th {\n",
       "        text-align: right;\n",
       "    }\n",
       "</style>\n",
       "<table border=\"1\" class=\"dataframe\">\n",
       "  <thead>\n",
       "    <tr style=\"text-align: right;\">\n",
       "      <th></th>\n",
       "      <th>num_orders</th>\n",
       "    </tr>\n",
       "    <tr>\n",
       "      <th>datetime</th>\n",
       "      <th></th>\n",
       "    </tr>\n",
       "  </thead>\n",
       "  <tbody>\n",
       "    <tr>\n",
       "      <th>2018-03-01 00:00:00</th>\n",
       "      <td>9</td>\n",
       "    </tr>\n",
       "    <tr>\n",
       "      <th>2018-03-01 00:10:00</th>\n",
       "      <td>14</td>\n",
       "    </tr>\n",
       "  </tbody>\n",
       "</table>\n",
       "</div>"
      ],
      "text/plain": [
       "                     num_orders\n",
       "datetime                       \n",
       "2018-03-01 00:00:00           9\n",
       "2018-03-01 00:10:00          14"
      ]
     },
     "execution_count": 51,
     "metadata": {},
     "output_type": "execute_result"
    }
   ],
   "source": [
    "df.head(2)"
   ]
  },
  {
   "cell_type": "code",
   "execution_count": 52,
   "metadata": {
    "colab": {
     "base_uri": "https://localhost:8080/",
     "height": 237
    },
    "id": "EMidW93ZcCrt",
    "outputId": "134ded6c-04e5-4723-e9f2-d1b9a8c895be"
   },
   "outputs": [
    {
     "data": {
      "text/html": [
       "<div>\n",
       "<style scoped>\n",
       "    .dataframe tbody tr th:only-of-type {\n",
       "        vertical-align: middle;\n",
       "    }\n",
       "\n",
       "    .dataframe tbody tr th {\n",
       "        vertical-align: top;\n",
       "    }\n",
       "\n",
       "    .dataframe thead th {\n",
       "        text-align: right;\n",
       "    }\n",
       "</style>\n",
       "<table border=\"1\" class=\"dataframe\">\n",
       "  <thead>\n",
       "    <tr style=\"text-align: right;\">\n",
       "      <th></th>\n",
       "      <th>num_orders</th>\n",
       "    </tr>\n",
       "    <tr>\n",
       "      <th>datetime</th>\n",
       "      <th></th>\n",
       "    </tr>\n",
       "  </thead>\n",
       "  <tbody>\n",
       "    <tr>\n",
       "      <th>2018-08-31 23:40:00</th>\n",
       "      <td>39</td>\n",
       "    </tr>\n",
       "    <tr>\n",
       "      <th>2018-08-31 23:50:00</th>\n",
       "      <td>53</td>\n",
       "    </tr>\n",
       "  </tbody>\n",
       "</table>\n",
       "</div>"
      ],
      "text/plain": [
       "                     num_orders\n",
       "datetime                       \n",
       "2018-08-31 23:40:00          39\n",
       "2018-08-31 23:50:00          53"
      ]
     },
     "execution_count": 52,
     "metadata": {},
     "output_type": "execute_result"
    }
   ],
   "source": [
    "df.tail(2)"
   ]
  },
  {
   "cell_type": "markdown",
   "metadata": {
    "id": "Eh0N6KY_vDv1"
   },
   "source": [
    "**Описание данных**\n",
    "\n",
    "Количество заказов находится в столбце 'num_orders', данные даны за каждые десять минут.\n",
    "\n",
    "Временной интервал дан за 2018й год, с 1го марта по 31ое августа."
   ]
  },
  {
   "cell_type": "markdown",
   "metadata": {
    "id": "tuWuQKmduLrI"
   },
   "source": [
    "Проверим, есть ли в данных пропуски:"
   ]
  },
  {
   "cell_type": "code",
   "execution_count": 53,
   "metadata": {
    "colab": {
     "base_uri": "https://localhost:8080/"
    },
    "id": "gjZOvR1puLxW",
    "outputId": "77f5d8ba-7912-4f23-badd-08d4870ef869"
   },
   "outputs": [
    {
     "data": {
      "text/plain": [
       "0"
      ]
     },
     "execution_count": 53,
     "metadata": {},
     "output_type": "execute_result"
    }
   ],
   "source": [
    "df['num_orders'].isna().sum()"
   ]
  },
  {
   "cell_type": "markdown",
   "metadata": {
    "id": "qfQs4zNy9XdY"
   },
   "source": [
    "Выполним ресемплирование по одному часу.\n",
    "\n",
    "Ресемплирование — это изменение интервала со значениями ряда. \n",
    "Агрегировать будем по сумме за один час."
   ]
  },
  {
   "cell_type": "code",
   "execution_count": 54,
   "metadata": {
    "id": "vUpfobLK9oVh"
   },
   "outputs": [],
   "source": [
    "df = df.resample('1H').sum()"
   ]
  },
  {
   "cell_type": "code",
   "execution_count": 55,
   "metadata": {
    "colab": {
     "base_uri": "https://localhost:8080/",
     "height": 308
    },
    "id": "rkpgeK6O9oQX",
    "outputId": "b46a8e86-06da-4261-cde7-9d53971ca6aa"
   },
   "outputs": [
    {
     "data": {
      "text/plain": [
       "<AxesSubplot:xlabel='datetime'>"
      ]
     },
     "execution_count": 55,
     "metadata": {},
     "output_type": "execute_result"
    },
    {
     "data": {
      "image/png": "[encoded data removed]",
      "text/plain": [
       "<Figure size 432x288 with 1 Axes>"
      ]
     },
     "metadata": {
      "needs_background": "light"
     },
     "output_type": "display_data"
    }
   ],
   "source": [
    "df.plot()"
   ]
  },
  {
   "cell_type": "markdown",
   "metadata": {
    "id": "KJ9T3V_XdARM"
   },
   "source": [
    "Опираясь на текущий график явно ничего сказать нельзя, необходим более подробный анализ данных."
   ]
  },
  {
   "cell_type": "markdown",
   "metadata": {
    "id": "koYq-IRgsvbu"
   },
   "source": [
    "## Анализ\n"
   ]
  },
  {
   "cell_type": "markdown",
   "metadata": {
    "id": "o5RlN-pQu342"
   },
   "source": [
    "Проанализируем данные."
   ]
  },
  {
   "cell_type": "markdown",
   "metadata": {
    "id": "_LmeQ_oGdau8"
   },
   "source": [
    "Построим график за первый месяц, cкользящим средним сгладим графики:"
   ]
  },
  {
   "cell_type": "code",
   "execution_count": 56,
   "metadata": {
    "colab": {
     "base_uri": "https://localhost:8080/",
     "height": 602
    },
    "id": "IuFn9JIy-m7z",
    "outputId": "70b3c0dd-8dc4-4d14-b100-ee363f3fbc8a"
   },
   "outputs": [
    {
     "data": {
      "text/plain": [
       "<AxesSubplot:xlabel='datetime'>"
      ]
     },
     "execution_count": 56,
     "metadata": {},
     "output_type": "execute_result"
    },
    {
     "data": {
      "image/png": "[encoded data removed]",
      "text/plain": [
       "<Figure size 720x288 with 1 Axes>"
      ]
     },
     "metadata": {
      "needs_background": "light"
     },
     "output_type": "display_data"
    },
    {
     "data": {
      "image/png": "[encoded data removed]",
      "text/plain": [
       "<Figure size 720x288 with 1 Axes>"
      ]
     },
     "metadata": {
      "needs_background": "light"
     },
     "output_type": "display_data"
    }
   ],
   "source": [
    "df['2018-03-01':'2018-03-26'].plot(figsize=(10,4)) \n",
    "df['2018-03-01':'2018-03-26'].rolling(7).sum().plot(figsize=(10,4)) "
   ]
  },
  {
   "cell_type": "markdown",
   "metadata": {
    "id": "bBmQZIXpf9QU"
   },
   "source": [
    "Пoстроим график за первые два дня:"
   ]
  },
  {
   "cell_type": "code",
   "execution_count": 57,
   "metadata": {
    "colab": {
     "base_uri": "https://localhost:8080/",
     "height": 428
    },
    "id": "RluApWgNec7V",
    "outputId": "ec53fd55-54cd-4cf5-8065-3880009bba4b"
   },
   "outputs": [
    {
     "data": {
      "text/plain": [
       "<AxesSubplot:xlabel='datetime'>"
      ]
     },
     "execution_count": 57,
     "metadata": {},
     "output_type": "execute_result"
    },
    {
     "data": {
      "image/png": "[encoded data removed]",
      "text/plain": [
       "<Figure size 864x432 with 1 Axes>"
      ]
     },
     "metadata": {
      "needs_background": "light"
     },
     "output_type": "display_data"
    }
   ],
   "source": [
    "df['2018-03-01':'2018-03-02'].rolling(2).sum().plot(figsize=(12,6)) "
   ]
  },
  {
   "cell_type": "markdown",
   "metadata": {
    "id": "Dtm42cq5eK7n"
   },
   "source": [
    "Из графиков видно, что ночью в районе 5-6 утра очень мало заказов, а также есть пики в районе полуночи."
   ]
  },
  {
   "cell_type": "markdown",
   "metadata": {
    "id": "xFlsa8-FedA9"
   },
   "source": [
    "Посмотрим на присутствие тренда и сезонности в данных:"
   ]
  },
  {
   "cell_type": "code",
   "execution_count": 58,
   "metadata": {
    "id": "YrmlvwJOedJ5"
   },
   "outputs": [],
   "source": [
    "decomposed = seasonal_decompose(df) "
   ]
  },
  {
   "cell_type": "code",
   "execution_count": 59,
   "metadata": {
    "colab": {
     "base_uri": "https://localhost:8080/",
     "height": 585
    },
    "id": "l989TcP9hogl",
    "outputId": "ac8a8d7f-8ff1-4372-ced9-c27f0e923a0e"
   },
   "outputs": [
    {
     "data": {
      "image/png": "[encoded data removed]",
      "text/plain": [
       "<Figure size 864x576 with 3 Axes>"
      ]
     },
     "metadata": {
      "needs_background": "light"
     },
     "output_type": "display_data"
    }
   ],
   "source": [
    "plt.figure(figsize=(12, 8))\n",
    "plt.subplot(311)\n",
    "decomposed.trend.plot(ax=plt.gca())\n",
    "plt.title('Trend')\n",
    "plt.subplot(312)\n",
    "decomposed.seasonal.plot(ax=plt.gca())\n",
    "plt.title('Seasonality')\n",
    "plt.subplot(313)\n",
    "decomposed.resid.plot(ax=plt.gca())\n",
    "plt.title('Residuals')\n",
    "plt.tight_layout()"
   ]
  },
  {
   "cell_type": "markdown",
   "metadata": {
    "id": "MVQPmcuShomm"
   },
   "source": [
    "Из графиков видно, что в течение марта-августа 2018го года присутствует тренд по увеличению заказов такси из аэропорта. Возможно, летом больше людей куда-то летят, на отдых или к друзьям.\n",
    "\n",
    "Также видно, что в данных присутствует сезонность, посмотрим на неё за день:"
   ]
  },
  {
   "cell_type": "code",
   "execution_count": 60,
   "metadata": {
    "colab": {
     "base_uri": "https://localhost:8080/",
     "height": 324
    },
    "id": "dpBM2nYShosm",
    "outputId": "960dea9e-9f12-4bb5-b233-d2d4289c83f7"
   },
   "outputs": [
    {
     "data": {
      "text/plain": [
       "Text(0.5, 1.0, 'Seasonality')"
      ]
     },
     "execution_count": 60,
     "metadata": {},
     "output_type": "execute_result"
    },
    {
     "data": {
      "image/png": "[encoded data removed]",
      "text/plain": [
       "<Figure size 432x288 with 1 Axes>"
      ]
     },
     "metadata": {
      "needs_background": "light"
     },
     "output_type": "display_data"
    }
   ],
   "source": [
    "decomposed.seasonal['2018-04-01':'2018-04-1'].plot(ax=plt.gca())\n",
    "plt.title('Seasonality')"
   ]
  },
  {
   "cell_type": "markdown",
   "metadata": {
    "id": "Rok9ZltRj4jk"
   },
   "source": [
    "Есть пики в районе девяти утра, четырёх вечера и полуночи. А также есть основной провал в заказах в районе шести утра. Видимо такая сезонность связана с расписанием регулярных рейсов в аэропорту."
   ]
  },
  {
   "cell_type": "markdown",
   "metadata": {
    "id": "ArkOsyBRswaO"
   },
   "source": [
    "## Обучение\n"
   ]
  },
  {
   "cell_type": "markdown",
   "metadata": {
    "id": "buNYrcgTnMts"
   },
   "source": [
    "Создадим из выборки признаки для моделей:\n",
    "- календарные признаки\n",
    "- «Отстающие значения»\n",
    "- Скользящее среднее"
   ]
  },
  {
   "cell_type": "markdown",
   "metadata": {
    "id": "OnKWjXQp1kNk"
   },
   "source": [
    "Календарные признаки:"
   ]
  },
  {
   "cell_type": "code",
   "execution_count": 61,
   "metadata": {
    "id": "udMBdOeinMz8"
   },
   "outputs": [],
   "source": [
    "df['dayofweek'] = df.index.dayofweek\n",
    "df['hour'] = df.index.hour"
   ]
  },
  {
   "cell_type": "markdown",
   "metadata": {},
   "source": [
    "Какие факторы подходят для данного проекта:\n",
    "\n",
    "- Фактор год: НЕТ, однозначно не подходит. У нас данных меньше года. Поэтому будет просто константа. \n",
    "- Фактор месяц: НЕТ, аналогично году, у нас в истории всего один март, май.... Да и горизоно прогноза - часы. Поэтому сезонность времени года будет просто в тренде уже заложена.\n",
    "- Фактор день: НЕТ, также не подходит, будет просто последовательность чисел\n",
    "- Фактор день недели: ДА, т.к. у нас есть недельная сезонность\n",
    "- Фактор час: ДА, т.к. есть часовая (суточная) сезонность.\n",
    "- Факто lag: ДА, это параметр авторегрессии - учёт влияния вчерашних событий на сегодняшние.\n",
    "- Фактор rolling: ДА, это аналог тренда. Чем больше окно сглаживания, тем ровнее линия тренда"
   ]
  },
  {
   "cell_type": "markdown",
   "metadata": {
    "id": "LdGoMa4RFJQo"
   },
   "source": [
    "Предыдущие значения временного ряда подскажут, будет ли функция x(t) расти или уменьшаться. Получим отстающие значения методом shift():"
   ]
  },
  {
   "cell_type": "code",
   "execution_count": 62,
   "metadata": {
    "id": "3R9E5JHgFJKQ"
   },
   "outputs": [],
   "source": [
    "max_lag = 2\n",
    "for lag in range(1, max_lag + 1):\n",
    "  df['lag_{}'.format(lag)] = df['num_orders'].shift(lag)"
   ]
  },
  {
   "cell_type": "markdown",
   "metadata": {
    "id": "68F5KI7VFJDY"
   },
   "source": [
    "Скользящее среднее как признак задаёт общий тренд временного ряда. Скользящее среднее в моменте t учитывает текущее значение ряда x(t). Это некорректно: целевой признак «убежал» в признаки. Вычисление скользящего среднего не должно включать в себя текущее значение ряда:"
   ]
  },
  {
   "cell_type": "code",
   "execution_count": 63,
   "metadata": {
    "id": "e2DHMPmJFI4o"
   },
   "outputs": [],
   "source": [
    "rolling_mean_size = 24\n",
    "df['rolling_mean'] = df['num_orders'].shift().rolling(rolling_mean_size).mean()"
   ]
  },
  {
   "cell_type": "markdown",
   "metadata": {},
   "source": [
    "Пару строк по фактору лаг и скользящее среднее:\n",
    "\n",
    "- Lag:\n",
    "Его называют ещё параметром авторегрессии. Допустим lag=1 - учитывает (для удобства будем считать, что продажи собраны по дням) как вчерашние продажи - вчерашние события - влияли на сегоняшние.Lag=2: учитывает как позавчерашние продажи влияют на сегодняшние.....\n",
    "    \n",
    "- По скользящему среднего:\n",
    "Предположим rolling=10 - скользящее среднее. По сути, ищем среднее по 10 точкам, потом следующие 10 точек, и т.д. - это некое подобие тренда будет - средней линии. Т.е. - сглаживание колебаний/выбросов. Это легко увидеть на пределе: допустим длина ряда 100 дней. rolling(100) - это просто одно число - среднее всего ряда. <br>\n",
    "    \n",
    "Поэтому, если выставить сезонности - час и день недели, то дополнительные факторы могут быть такие: лаг =1 (максимум 2), а скользящее среднее = 24 (среднее за сутки). \n",
    "\n",
    "Начнём с этого. В итоге модель будет приемлемая по точности и не много факторов."
   ]
  },
  {
   "cell_type": "markdown",
   "metadata": {
    "id": "IuShw0xmsQxN"
   },
   "source": [
    "Посмотрим на получившийся датафрейм:"
   ]
  },
  {
   "cell_type": "code",
   "execution_count": 64,
   "metadata": {
    "colab": {
     "base_uri": "https://localhost:8080/",
     "height": 394
    },
    "id": "655bby6-sQ2U",
    "outputId": "871b9f83-9e6e-4f5e-e26c-95f2044d14e9"
   },
   "outputs": [
    {
     "data": {
      "text/html": [
       "<div>\n",
       "<style scoped>\n",
       "    .dataframe tbody tr th:only-of-type {\n",
       "        vertical-align: middle;\n",
       "    }\n",
       "\n",
       "    .dataframe tbody tr th {\n",
       "        vertical-align: top;\n",
       "    }\n",
       "\n",
       "    .dataframe thead th {\n",
       "        text-align: right;\n",
       "    }\n",
       "</style>\n",
       "<table border=\"1\" class=\"dataframe\">\n",
       "  <thead>\n",
       "    <tr style=\"text-align: right;\">\n",
       "      <th></th>\n",
       "      <th>num_orders</th>\n",
       "      <th>dayofweek</th>\n",
       "      <th>hour</th>\n",
       "      <th>lag_1</th>\n",
       "      <th>lag_2</th>\n",
       "      <th>rolling_mean</th>\n",
       "    </tr>\n",
       "    <tr>\n",
       "      <th>datetime</th>\n",
       "      <th></th>\n",
       "      <th></th>\n",
       "      <th></th>\n",
       "      <th></th>\n",
       "      <th></th>\n",
       "      <th></th>\n",
       "    </tr>\n",
       "  </thead>\n",
       "  <tbody>\n",
       "    <tr>\n",
       "      <th>2018-03-01 00:00:00</th>\n",
       "      <td>124</td>\n",
       "      <td>3</td>\n",
       "      <td>0</td>\n",
       "      <td>NaN</td>\n",
       "      <td>NaN</td>\n",
       "      <td>NaN</td>\n",
       "    </tr>\n",
       "    <tr>\n",
       "      <th>2018-03-01 01:00:00</th>\n",
       "      <td>85</td>\n",
       "      <td>3</td>\n",
       "      <td>1</td>\n",
       "      <td>124.0</td>\n",
       "      <td>NaN</td>\n",
       "      <td>NaN</td>\n",
       "    </tr>\n",
       "    <tr>\n",
       "      <th>2018-03-01 02:00:00</th>\n",
       "      <td>71</td>\n",
       "      <td>3</td>\n",
       "      <td>2</td>\n",
       "      <td>85.0</td>\n",
       "      <td>124.0</td>\n",
       "      <td>NaN</td>\n",
       "    </tr>\n",
       "    <tr>\n",
       "      <th>2018-03-01 03:00:00</th>\n",
       "      <td>66</td>\n",
       "      <td>3</td>\n",
       "      <td>3</td>\n",
       "      <td>71.0</td>\n",
       "      <td>85.0</td>\n",
       "      <td>NaN</td>\n",
       "    </tr>\n",
       "    <tr>\n",
       "      <th>2018-03-01 04:00:00</th>\n",
       "      <td>43</td>\n",
       "      <td>3</td>\n",
       "      <td>4</td>\n",
       "      <td>66.0</td>\n",
       "      <td>71.0</td>\n",
       "      <td>NaN</td>\n",
       "    </tr>\n",
       "    <tr>\n",
       "      <th>2018-03-01 05:00:00</th>\n",
       "      <td>6</td>\n",
       "      <td>3</td>\n",
       "      <td>5</td>\n",
       "      <td>43.0</td>\n",
       "      <td>66.0</td>\n",
       "      <td>NaN</td>\n",
       "    </tr>\n",
       "    <tr>\n",
       "      <th>2018-03-01 06:00:00</th>\n",
       "      <td>12</td>\n",
       "      <td>3</td>\n",
       "      <td>6</td>\n",
       "      <td>6.0</td>\n",
       "      <td>43.0</td>\n",
       "      <td>NaN</td>\n",
       "    </tr>\n",
       "    <tr>\n",
       "      <th>2018-03-01 07:00:00</th>\n",
       "      <td>15</td>\n",
       "      <td>3</td>\n",
       "      <td>7</td>\n",
       "      <td>12.0</td>\n",
       "      <td>6.0</td>\n",
       "      <td>NaN</td>\n",
       "    </tr>\n",
       "    <tr>\n",
       "      <th>2018-03-01 08:00:00</th>\n",
       "      <td>34</td>\n",
       "      <td>3</td>\n",
       "      <td>8</td>\n",
       "      <td>15.0</td>\n",
       "      <td>12.0</td>\n",
       "      <td>NaN</td>\n",
       "    </tr>\n",
       "    <tr>\n",
       "      <th>2018-03-01 09:00:00</th>\n",
       "      <td>69</td>\n",
       "      <td>3</td>\n",
       "      <td>9</td>\n",
       "      <td>34.0</td>\n",
       "      <td>15.0</td>\n",
       "      <td>NaN</td>\n",
       "    </tr>\n",
       "    <tr>\n",
       "      <th>2018-03-01 10:00:00</th>\n",
       "      <td>64</td>\n",
       "      <td>3</td>\n",
       "      <td>10</td>\n",
       "      <td>69.0</td>\n",
       "      <td>34.0</td>\n",
       "      <td>NaN</td>\n",
       "    </tr>\n",
       "    <tr>\n",
       "      <th>2018-03-01 11:00:00</th>\n",
       "      <td>96</td>\n",
       "      <td>3</td>\n",
       "      <td>11</td>\n",
       "      <td>64.0</td>\n",
       "      <td>69.0</td>\n",
       "      <td>NaN</td>\n",
       "    </tr>\n",
       "  </tbody>\n",
       "</table>\n",
       "</div>"
      ],
      "text/plain": [
       "                     num_orders  dayofweek  hour  lag_1  lag_2  rolling_mean\n",
       "datetime                                                                    \n",
       "2018-03-01 00:00:00         124          3     0    NaN    NaN           NaN\n",
       "2018-03-01 01:00:00          85          3     1  124.0    NaN           NaN\n",
       "2018-03-01 02:00:00          71          3     2   85.0  124.0           NaN\n",
       "2018-03-01 03:00:00          66          3     3   71.0   85.0           NaN\n",
       "2018-03-01 04:00:00          43          3     4   66.0   71.0           NaN\n",
       "2018-03-01 05:00:00           6          3     5   43.0   66.0           NaN\n",
       "2018-03-01 06:00:00          12          3     6    6.0   43.0           NaN\n",
       "2018-03-01 07:00:00          15          3     7   12.0    6.0           NaN\n",
       "2018-03-01 08:00:00          34          3     8   15.0   12.0           NaN\n",
       "2018-03-01 09:00:00          69          3     9   34.0   15.0           NaN\n",
       "2018-03-01 10:00:00          64          3    10   69.0   34.0           NaN\n",
       "2018-03-01 11:00:00          96          3    11   64.0   69.0           NaN"
      ]
     },
     "execution_count": 64,
     "metadata": {},
     "output_type": "execute_result"
    }
   ],
   "source": [
    "df.head(12)"
   ]
  },
  {
   "cell_type": "markdown",
   "metadata": {
    "id": "IOag5XRZtvmH"
   },
   "source": [
    "В данных в первых строках появились значения NaN. Часть моделей не работают с такими данными. Удалим строки, в которых есть такие пропуски."
   ]
  },
  {
   "cell_type": "code",
   "execution_count": 65,
   "metadata": {
    "id": "LnQQuqNotvwd"
   },
   "outputs": [],
   "source": [
    "df = df.dropna()"
   ]
  },
  {
   "cell_type": "code",
   "execution_count": 66,
   "metadata": {
    "colab": {
     "base_uri": "https://localhost:8080/",
     "height": 237
    },
    "id": "utL4bm7duk9y",
    "outputId": "fce91d1c-660a-42c3-cd9b-4c64b21d7f14"
   },
   "outputs": [
    {
     "data": {
      "text/html": [
       "<div>\n",
       "<style scoped>\n",
       "    .dataframe tbody tr th:only-of-type {\n",
       "        vertical-align: middle;\n",
       "    }\n",
       "\n",
       "    .dataframe tbody tr th {\n",
       "        vertical-align: top;\n",
       "    }\n",
       "\n",
       "    .dataframe thead th {\n",
       "        text-align: right;\n",
       "    }\n",
       "</style>\n",
       "<table border=\"1\" class=\"dataframe\">\n",
       "  <thead>\n",
       "    <tr style=\"text-align: right;\">\n",
       "      <th></th>\n",
       "      <th>num_orders</th>\n",
       "      <th>dayofweek</th>\n",
       "      <th>hour</th>\n",
       "      <th>lag_1</th>\n",
       "      <th>lag_2</th>\n",
       "      <th>rolling_mean</th>\n",
       "    </tr>\n",
       "    <tr>\n",
       "      <th>datetime</th>\n",
       "      <th></th>\n",
       "      <th></th>\n",
       "      <th></th>\n",
       "      <th></th>\n",
       "      <th></th>\n",
       "      <th></th>\n",
       "    </tr>\n",
       "  </thead>\n",
       "  <tbody>\n",
       "    <tr>\n",
       "      <th>2018-03-02 00:00:00</th>\n",
       "      <td>90</td>\n",
       "      <td>4</td>\n",
       "      <td>0</td>\n",
       "      <td>58.0</td>\n",
       "      <td>113.0</td>\n",
       "      <td>56.833333</td>\n",
       "    </tr>\n",
       "    <tr>\n",
       "      <th>2018-03-02 01:00:00</th>\n",
       "      <td>120</td>\n",
       "      <td>4</td>\n",
       "      <td>1</td>\n",
       "      <td>90.0</td>\n",
       "      <td>58.0</td>\n",
       "      <td>55.416667</td>\n",
       "    </tr>\n",
       "  </tbody>\n",
       "</table>\n",
       "</div>"
      ],
      "text/plain": [
       "                     num_orders  dayofweek  hour  lag_1  lag_2  rolling_mean\n",
       "datetime                                                                    \n",
       "2018-03-02 00:00:00          90          4     0   58.0  113.0     56.833333\n",
       "2018-03-02 01:00:00         120          4     1   90.0   58.0     55.416667"
      ]
     },
     "execution_count": 66,
     "metadata": {},
     "output_type": "execute_result"
    }
   ],
   "source": [
    "df.head(2)"
   ]
  },
  {
   "cell_type": "markdown",
   "metadata": {
    "id": "v8Q6DVWnu4a-"
   },
   "source": [
    "Обучим разные модели с различными гиперпараметрами. Сделаем тестовую выборку размером 10% от исходных данных.\n",
    "\n",
    "Перемешивать выборки в задаче прогнозирования временного ряда нельзя. Данные обучающей выборки должны предшествовать данным тестовой. Иначе тестирование модели будет некорректным: модель не должна обучаться на данных из будущего. "
   ]
  },
  {
   "cell_type": "code",
   "execution_count": 67,
   "metadata": {
    "colab": {
     "base_uri": "https://localhost:8080/"
    },
    "id": "FoOkLrBulh1z",
    "outputId": "8f7bcc3d-d00c-4a20-8cc8-4c7070a77f23"
   },
   "outputs": [
    {
     "name": "stdout",
     "output_type": "stream",
     "text": [
      "2018-03-02 00:00:00 2018-08-13 15:00:00\n",
      "2018-08-13 16:00:00 2018-08-31 23:00:00\n"
     ]
    }
   ],
   "source": [
    "train, test = train_test_split(df, shuffle=False, test_size=0.1)\n",
    "print(train.index.min(), train.index.max())\n",
    "print(test.index.min(), test.index.max())"
   ]
  },
  {
   "cell_type": "markdown",
   "metadata": {
    "id": "hv8sNmRNtV3V"
   },
   "source": [
    " Выделим признаки и целевой признак."
   ]
  },
  {
   "cell_type": "code",
   "execution_count": 68,
   "metadata": {
    "id": "mqP4hiXAtTZK"
   },
   "outputs": [],
   "source": [
    "train_X = train.drop('num_orders', axis=1)\n",
    "train_y = train['num_orders']\n",
    "test_X = test.drop('num_orders', axis=1)\n",
    "test_y = test['num_orders']"
   ]
  },
  {
   "cell_type": "markdown",
   "metadata": {
    "id": "UISrb5k6lh6k"
   },
   "source": [
    "Данные разбиты корректно: в тренировочную выборку попали данные за март-начало августа, а в тестовую за вторую половину августа."
   ]
  },
  {
   "cell_type": "markdown",
   "metadata": {
    "id": "djjjAjF3n5_l"
   },
   "source": [
    "### Линейная регрессия"
   ]
  },
  {
   "cell_type": "code",
   "execution_count": 69,
   "metadata": {
    "colab": {
     "base_uri": "https://localhost:8080/"
    },
    "id": "F60VA7DBn6DU",
    "outputId": "0aebbd23-0031-44d4-a0de-564606b2fce0"
   },
   "outputs": [
    {
     "data": {
      "text/plain": [
       "LinearRegression()"
      ]
     },
     "execution_count": 69,
     "metadata": {},
     "output_type": "execute_result"
    }
   ],
   "source": [
    "model = LinearRegression()\n",
    "model.fit(train_X,train_y)"
   ]
  },
  {
   "cell_type": "markdown",
   "metadata": {
    "id": "wz2Yf-FK6G57"
   },
   "source": [
    "### Решающее дерево"
   ]
  },
  {
   "cell_type": "markdown",
   "metadata": {
    "id": "bf3IUe2H9FfN"
   },
   "source": [
    "Найдём наилучшую модель с помощью кросс валидации."
   ]
  },
  {
   "cell_type": "code",
   "execution_count": 70,
   "metadata": {
    "colab": {
     "base_uri": "https://localhost:8080/"
    },
    "id": "bM823C656Fu2",
    "outputId": "a41964fb-88a3-42c7-d726-2187ae485e65"
   },
   "outputs": [
    {
     "name": "stdout",
     "output_type": "stream",
     "text": [
      "sMape для тренировочной выборки: 1300.01, глубина дерева: 1\n",
      "sMape для тренировочной выборки: 1220.04, глубина дерева: 2\n",
      "sMape для тренировочной выборки: 984.95, глубина дерева: 3\n",
      "sMape для тренировочной выборки: 898.05, глубина дерева: 4\n",
      "sMape для тренировочной выборки: 802.91, глубина дерева: 5\n",
      "sMape для тренировочной выборки: 787.66, глубина дерева: 6\n",
      "sMape для тренировочной выборки: 809.43, глубина дерева: 7\n",
      "sMape для тренировочной выборки: 833.19, глубина дерева: 8\n",
      "sMape для тренировочной выборки: 863.28, глубина дерева: 9\n",
      "sMape для тренировочной выборки: 894.01, глубина дерева: 10\n",
      "sMape для тренировочной выборки: 952.83, глубина дерева: 11\n",
      "\n",
      "Лучшая глубина дерева, 6, а RMSE 787.66\n"
     ]
    }
   ],
   "source": [
    "best_model_tree_r = None\n",
    "best_result_r = 100000\n",
    "best_depth = None\n",
    "for depth in range(1, 12):\n",
    "  model_tree_r = DecisionTreeRegressor(random_state=12345, max_depth=depth) \n",
    "  model_tree_r.fit(train_X, train_y) # обучим модель на тренировочных данных\n",
    "\n",
    "  train_predictions = model_tree_r.predict(train_X) # получим предсказания модели\n",
    "  \n",
    "  smape_tree_r = abs(cross_val_score(model_tree_r, train_X, train_y,   # посчитаем качество модели sMAPE\n",
    "                             scoring = make_scorer(mean_squared_error, greater_is_better=False),\n",
    "                             cv = 5,\n",
    "                             n_jobs = -1).mean()) \n",
    "   \n",
    "  print (f'sMape для тренировочной выборки: {smape_tree_r:.2f}, глубина дерева: {depth}')\n",
    "  if smape_tree_r < best_result_r:\n",
    "    best_model_tree_r = model_tree_r\n",
    "    best_result_r = smape_tree_r\n",
    "    best_depth = depth\n",
    "        \n",
    "print()\n",
    "print(f\"Лучшая глубина дерева, {best_depth}, а RMSE {best_result_r:.2f}\")"
   ]
  },
  {
   "cell_type": "markdown",
   "metadata": {
    "id": "dSQbB924qjjf"
   },
   "source": [
    "### Градиентный бустинг catboost"
   ]
  },
  {
   "cell_type": "markdown",
   "metadata": {},
   "source": [
    "Создадим и обучим модель catboost. Чтобы подобрать оптимальные параметры для модели воспользуемся GridSearchCV."
   ]
  },
  {
   "cell_type": "markdown",
   "metadata": {
    "id": "MPiePv4TrwwR"
   },
   "source": [
    "Разделим тренировочную выборку на тренировочную и валидационную выборки. Оценим размер получившихся выборок."
   ]
  },
  {
   "cell_type": "code",
   "execution_count": 71,
   "metadata": {
    "colab": {
     "base_uri": "https://localhost:8080/"
    },
    "id": "ogWwVzv7vqVK",
    "outputId": "6e548123-234e-49b9-f066-5e446a3b2f0c"
   },
   "outputs": [
    {
     "name": "stdout",
     "output_type": "stream",
     "text": [
      "2018-03-02 00:00:00 2018-07-28 03:00:00\n",
      "2018-07-28 04:00:00 2018-08-13 15:00:00\n"
     ]
    }
   ],
   "source": [
    "train_cat, val_cat = train_test_split(train, shuffle=False, test_size=0.1)\n",
    "print(train_cat.index.min(), train_cat.index.max())\n",
    "print(val_cat.index.min(), val_cat.index.max())"
   ]
  },
  {
   "cell_type": "markdown",
   "metadata": {
    "id": "GCQwWY5YvqVM"
   },
   "source": [
    " Выделим признаки и целевой признак ."
   ]
  },
  {
   "cell_type": "code",
   "execution_count": 72,
   "metadata": {
    "id": "nPns-kEFvqVO"
   },
   "outputs": [],
   "source": [
    "train_cat_X = train_cat.drop('num_orders', axis=1)\n",
    "train_cat_y = train_cat['num_orders']\n",
    "val_cat_X = val_cat.drop('num_orders', axis=1)\n",
    "val_cat_y = val_cat['num_orders']"
   ]
  },
  {
   "cell_type": "code",
   "execution_count": 73,
   "metadata": {
    "id": "awCZD9HW9nN0"
   },
   "outputs": [],
   "source": [
    "cat_model = CatBoostRegressor()"
   ]
  },
  {
   "cell_type": "code",
   "execution_count": 74,
   "metadata": {
    "id": "3E40pr8J90CE"
   },
   "outputs": [],
   "source": [
    "grid = {'learning_rate': [0.03, 0.1],\n",
    "        'depth': [4, 6],\n",
    "        'l2_leaf_reg': [1, 3, 5, 7]}"
   ]
  },
  {
   "cell_type": "code",
   "execution_count": 75,
   "metadata": {
    "id": "7BTIZKg5BIAs"
   },
   "outputs": [
    {
     "data": {
      "text/plain": [
       "'\\nGrid_CBC = GridSearchCV(estimator=cat_model, param_grid = grid, cv = 2, n_jobs=-1)\\nGrid_CBC.fit(train_X, train_y)\\n'"
      ]
     },
     "execution_count": 75,
     "metadata": {},
     "output_type": "execute_result"
    }
   ],
   "source": [
    "#  Подобрала параметры в google collab, закомментировала, чтобы код выполнялся быстрее\n",
    "\"\"\"\n",
    "Grid_CBC = GridSearchCV(estimator=cat_model, param_grid = grid, cv = 2, n_jobs=-1)\n",
    "Grid_CBC.fit(train_X, train_y)\n",
    "\"\"\""
   ]
  },
  {
   "cell_type": "code",
   "execution_count": 76,
   "metadata": {
    "colab": {
     "base_uri": "https://localhost:8080/"
    },
    "id": "Xsb9NX6h9m9c",
    "outputId": "78610e8c-a1a8-460d-aee6-a6c75e2fac7c"
   },
   "outputs": [],
   "source": [
    "# Grid_CBC.best_params_"
   ]
  },
  {
   "cell_type": "code",
   "execution_count": 77,
   "metadata": {
    "id": "rcTyZ5Mdu-8U"
   },
   "outputs": [],
   "source": [
    "params = {'learning_rate': 0.03,\n",
    "          'depth': 4,\n",
    "          'l2_leaf_reg': 5,\n",
    "          'random_state':42,\n",
    "          'iterations':1000,\n",
    "          'verbose': 100}"
   ]
  },
  {
   "cell_type": "code",
   "execution_count": 78,
   "metadata": {
    "id": "9mpWELewu8Xl"
   },
   "outputs": [],
   "source": [
    "cat_model = CatBoostRegressor(**params)"
   ]
  },
  {
   "cell_type": "code",
   "execution_count": 96,
   "metadata": {
    "colab": {
     "base_uri": "https://localhost:8080/"
    },
    "id": "IE5Ey9elvQDL",
    "outputId": "3c484626-6474-433e-c420-d68e8de269d1"
   },
   "outputs": [
    {
     "name": "stdout",
     "output_type": "stream",
     "text": [
      "0:\tlearn: 38.1809543\ttest: 55.2232936\tbest: 55.2232936 (0)\ttotal: 1.49ms\tremaining: 1.49s\n",
      "100:\tlearn: 25.3106453\ttest: 34.5753010\tbest: 34.5753010 (100)\ttotal: 107ms\tremaining: 950ms\n",
      "200:\tlearn: 23.9881051\ttest: 30.9172935\tbest: 30.9172935 (200)\ttotal: 206ms\tremaining: 821ms\n",
      "300:\tlearn: 23.1599899\ttest: 29.0218131\tbest: 29.0218131 (300)\ttotal: 311ms\tremaining: 723ms\n",
      "400:\tlearn: 22.5094950\ttest: 27.5566197\tbest: 27.5566197 (400)\ttotal: 412ms\tremaining: 615ms\n",
      "500:\tlearn: 21.7259766\ttest: 26.2437423\tbest: 26.2437423 (500)\ttotal: 518ms\tremaining: 516ms\n",
      "600:\tlearn: 21.2239672\ttest: 25.3476336\tbest: 25.3476336 (600)\ttotal: 640ms\tremaining: 425ms\n",
      "700:\tlearn: 20.8207229\ttest: 24.5369907\tbest: 24.5369907 (700)\ttotal: 759ms\tremaining: 324ms\n",
      "800:\tlearn: 20.4715795\ttest: 23.9456167\tbest: 23.9456167 (800)\ttotal: 868ms\tremaining: 216ms\n",
      "900:\tlearn: 20.1085760\ttest: 23.3448824\tbest: 23.3448824 (900)\ttotal: 986ms\tremaining: 108ms\n",
      "999:\tlearn: 19.7930233\ttest: 22.8430282\tbest: 22.8430282 (999)\ttotal: 1.1s\tremaining: 0us\n",
      "\n",
      "bestTest = 22.84302818\n",
      "bestIteration = 999\n",
      "\n"
     ]
    },
    {
     "data": {
      "text/plain": [
       "<catboost.core.CatBoostRegressor at 0x7f7ddfc37940>"
      ]
     },
     "execution_count": 96,
     "metadata": {},
     "output_type": "execute_result"
    }
   ],
   "source": [
    "cat_model.fit(train_X, train_y, eval_set=(val_cat_X,val_cat_y))"
   ]
  },
  {
   "cell_type": "markdown",
   "metadata": {
    "id": "RAMPsne8qokK"
   },
   "source": [
    "###  LightGBM для регрессии"
   ]
  },
  {
   "cell_type": "markdown",
   "metadata": {
    "id": "Cf-gcm5wbQtG"
   },
   "source": [
    "Создадим и обучим модель LightGBM. Чтобы подобрать оптимальные параметры для модели воспользуемся GridSearchCV."
   ]
  },
  {
   "cell_type": "code",
   "execution_count": 80,
   "metadata": {
    "colab": {
     "base_uri": "https://localhost:8080/"
    },
    "id": "kp5w18usyOxr",
    "outputId": "fa1263e3-0268-43c3-f2fe-7de7fb54e03e"
   },
   "outputs": [
    {
     "data": {
      "text/plain": [
       "\"\\nparam_grid = {'learning_rate': [0.1, 0.3, 0.5, 0.7],\\n              'max_depth': [15, 20, 30, 35],\\n              'num_leaves' :[20,40,60],\\n              'n_estimators':[40,50,60]             \\n             }\\n\\ngbm = lgb.LGBMRegressor(objective='regression')\\n\\n# инициализируем GridSearchCV\\ngrid_search = GridSearchCV(estimator = gbm, \\n                           param_grid = param_grid, \\n                           cv = 3,\\n                           n_jobs = -1, \\n                           verbose = 0, \\n                           scoring = 'neg_mean_squared_error',\\n                          )\\ngrid_search.fit(train_X, train_y)\\n\""
      ]
     },
     "execution_count": 80,
     "metadata": {},
     "output_type": "execute_result"
    }
   ],
   "source": [
    "# Аналогично, grid search подобран в коллабе, здесь код выполняется очень долго\n",
    "\"\"\"\n",
    "param_grid = {'learning_rate': [0.1, 0.3, 0.5, 0.7],\n",
    "              'max_depth': [15, 20, 30, 35],\n",
    "              'num_leaves' :[20,40,60],\n",
    "              'n_estimators':[40,50,60]             \n",
    "             }\n",
    "\n",
    "gbm = lgb.LGBMRegressor(objective='regression')\n",
    "\n",
    "# инициализируем GridSearchCV\n",
    "grid_search = GridSearchCV(estimator = gbm, \n",
    "                           param_grid = param_grid, \n",
    "                           cv = 3,\n",
    "                           n_jobs = -1, \n",
    "                           verbose = 0, \n",
    "                           scoring = 'neg_mean_squared_error',\n",
    "                          )\n",
    "grid_search.fit(train_X, train_y)\n",
    "\"\"\""
   ]
  },
  {
   "cell_type": "code",
   "execution_count": 81,
   "metadata": {
    "colab": {
     "base_uri": "https://localhost:8080/"
    },
    "id": "BWr8557KyOxr",
    "outputId": "a1c9a47f-e340-430d-ee57-4657f227f9da"
   },
   "outputs": [],
   "source": [
    "# grid_search.best_params_"
   ]
  },
  {
   "cell_type": "code",
   "execution_count": 82,
   "metadata": {
    "id": "5Rx2EDKCPJkh"
   },
   "outputs": [],
   "source": [
    "gbm = lgb.LGBMRegressor(objective='regression',num_leaves=40,learning_rate=0.1, n_estimators=60, max_depth=15)"
   ]
  },
  {
   "cell_type": "code",
   "execution_count": 83,
   "metadata": {
    "colab": {
     "base_uri": "https://localhost:8080/"
    },
    "id": "4b4z76tyPJuw",
    "outputId": "4870e290-434b-4cf7-93b1-f83306be8b37"
   },
   "outputs": [
    {
     "data": {
      "text/plain": [
       "LGBMRegressor(max_depth=15, n_estimators=60, num_leaves=40,\n",
       "              objective='regression')"
      ]
     },
     "execution_count": 83,
     "metadata": {},
     "output_type": "execute_result"
    }
   ],
   "source": [
    "gbm.fit(train_X, train_y)"
   ]
  },
  {
   "cell_type": "markdown",
   "metadata": {
    "id": "56cvgZKiswdm"
   },
   "source": [
    "## Тестирование"
   ]
  },
  {
   "cell_type": "markdown",
   "metadata": {
    "id": "2GIO5cWUlh-j"
   },
   "source": [
    "Чтобы проверять качество моделей возьмём метрику RMSE. Спрогнозировать временные ряды без обучения можно следующим способом:\n",
    "\n",
    "Новое значение x(t) прогнозируется предыдущим значением ряда, то есть x(t-1).\n"
   ]
  },
  {
   "cell_type": "code",
   "execution_count": 84,
   "metadata": {
    "colab": {
     "base_uri": "https://localhost:8080/"
    },
    "id": "jZH4OAwznMlb",
    "outputId": "8e623a5f-961f-4715-c3d1-6230bac163b7"
   },
   "outputs": [
    {
     "name": "stdout",
     "output_type": "stream",
     "text": [
      "RMSE: 58.881776776551476\n"
     ]
    }
   ],
   "source": [
    "pred_previous = test['num_orders'].shift()\n",
    "pred_previous.iloc[0] = train['num_orders'].iloc[-1]\n",
    "rmse_simple = mean_squared_error(pred_previous, test['num_orders'])**0.5\n",
    "print(\"RMSE:\", rmse_simple)"
   ]
  },
  {
   "cell_type": "markdown",
   "metadata": {
    "id": "xQWOKW--26a7"
   },
   "source": [
    "А нам необходимо добиться метрики RMSE не более 48!"
   ]
  },
  {
   "cell_type": "markdown",
   "metadata": {
    "id": "4net_Q2p4RNt"
   },
   "source": [
    "**Линейная регрессия**"
   ]
  },
  {
   "cell_type": "code",
   "execution_count": 85,
   "metadata": {
    "id": "e-1NJ6Usn6Hf"
   },
   "outputs": [],
   "source": [
    "test_pred = model.predict(test_X)"
   ]
  },
  {
   "cell_type": "code",
   "execution_count": 86,
   "metadata": {
    "colab": {
     "base_uri": "https://localhost:8080/"
    },
    "id": "dLzUZV1bn6LM",
    "outputId": "211009cb-2e6f-41cb-e816-57d14a6ea875"
   },
   "outputs": [
    {
     "name": "stdout",
     "output_type": "stream",
     "text": [
      "RMSE тестовой выборки:  51.29636818907293\n"
     ]
    }
   ],
   "source": [
    "lin_rmse =  mean_squared_error(test_y,test_pred)**0.5\n",
    "print(\"RMSE тестовой выборки: \", lin_rmse)"
   ]
  },
  {
   "cell_type": "markdown",
   "metadata": {
    "id": "VY8c25iIn6O9"
   },
   "source": [
    "RMSE тестовой выборки почти такое же как на искусственном предсказании по предыдущему значению!"
   ]
  },
  {
   "cell_type": "markdown",
   "metadata": {
    "id": "S1UAkr8M8uMb"
   },
   "source": [
    "**Решающее дерево**"
   ]
  },
  {
   "cell_type": "code",
   "execution_count": 87,
   "metadata": {
    "id": "JN_WYw8O8uG1"
   },
   "outputs": [],
   "source": [
    "pred_test = best_model_tree_r.predict(test_X)"
   ]
  },
  {
   "cell_type": "code",
   "execution_count": 88,
   "metadata": {
    "colab": {
     "base_uri": "https://localhost:8080/"
    },
    "id": "Fn5iP76T8tTT",
    "outputId": "c2a19b72-2977-43a9-8a4a-efd471d08dbc"
   },
   "outputs": [
    {
     "name": "stdout",
     "output_type": "stream",
     "text": [
      "RMSE тестовой выборки:  52.854859956492774\n"
     ]
    }
   ],
   "source": [
    "tree_rmse = mean_squared_error(test_y, pred_test)**(1/2)\n",
    "print(\"RMSE тестовой выборки: \", tree_rmse)"
   ]
  },
  {
   "cell_type": "markdown",
   "metadata": {
    "id": "YYrOERj34r22"
   },
   "source": [
    "**Градиентный бустинг catboost**"
   ]
  },
  {
   "cell_type": "code",
   "execution_count": 97,
   "metadata": {
    "id": "nizWILCEVUEs"
   },
   "outputs": [],
   "source": [
    "pred_test = cat_model.predict(test_X) "
   ]
  },
  {
   "cell_type": "code",
   "execution_count": 98,
   "metadata": {
    "colab": {
     "base_uri": "https://localhost:8080/"
    },
    "id": "CKMhyqI9VUEt",
    "outputId": "c020937c-9201-40ec-ee09-87ffc74b3b3c"
   },
   "outputs": [
    {
     "name": "stdout",
     "output_type": "stream",
     "text": [
      "RMSE тестовой выборки:  49.229964358137984\n"
     ]
    }
   ],
   "source": [
    "catb_rmse = mean_squared_error(test_y, pred_test)**(1/2)\n",
    "print(\"RMSE тестовой выборки: \", catb_rmse)"
   ]
  },
  {
   "cell_type": "markdown",
   "metadata": {
    "id": "Q01Kpn5g4xOc"
   },
   "source": [
    "**LightGBM для регрессии**"
   ]
  },
  {
   "cell_type": "code",
   "execution_count": 91,
   "metadata": {
    "id": "le_Y-Q0X-ZOl"
   },
   "outputs": [],
   "source": [
    "pred_test_gbm = gbm.predict(test_X) "
   ]
  },
  {
   "cell_type": "code",
   "execution_count": 92,
   "metadata": {
    "colab": {
     "base_uri": "https://localhost:8080/"
    },
    "id": "4tNHWIaF-ZOm",
    "outputId": "b8646ec4-8ded-452d-d05f-6328361e4b47"
   },
   "outputs": [
    {
     "name": "stdout",
     "output_type": "stream",
     "text": [
      "RMSE тестовой выборки:  43.58529160560325\n"
     ]
    }
   ],
   "source": [
    "gbm_rmse = mean_squared_error(test_y, pred_test_gbm)**(1/2)\n",
    "\n",
    "print(\"RMSE тестовой выборки: \", gbm_rmse)"
   ]
  },
  {
   "cell_type": "markdown",
   "metadata": {
    "id": "SfMU1j_6swg_"
   },
   "source": [
    "### Вывод"
   ]
  },
  {
   "cell_type": "code",
   "execution_count": 99,
   "metadata": {},
   "outputs": [
    {
     "name": "stdout",
     "output_type": "stream",
     "text": [
      "RMSE полученные при двух лагах\n"
     ]
    },
    {
     "data": {
      "text/html": [
       "<div>\n",
       "<style scoped>\n",
       "    .dataframe tbody tr th:only-of-type {\n",
       "        vertical-align: middle;\n",
       "    }\n",
       "\n",
       "    .dataframe tbody tr th {\n",
       "        vertical-align: top;\n",
       "    }\n",
       "\n",
       "    .dataframe thead th {\n",
       "        text-align: right;\n",
       "    }\n",
       "</style>\n",
       "<table border=\"1\" class=\"dataframe\">\n",
       "  <thead>\n",
       "    <tr style=\"text-align: right;\">\n",
       "      <th></th>\n",
       "      <th>Model</th>\n",
       "      <th>Not_predict</th>\n",
       "      <th>Lin_reg</th>\n",
       "      <th>Dec_Tree</th>\n",
       "      <th>Catboost</th>\n",
       "      <th>Light_GBM</th>\n",
       "    </tr>\n",
       "  </thead>\n",
       "  <tbody>\n",
       "    <tr>\n",
       "      <th>0</th>\n",
       "      <td>rmse</td>\n",
       "      <td>58.881777</td>\n",
       "      <td>51.296368</td>\n",
       "      <td>52.85486</td>\n",
       "      <td>49.229964</td>\n",
       "      <td>43.585292</td>\n",
       "    </tr>\n",
       "  </tbody>\n",
       "</table>\n",
       "</div>"
      ],
      "text/plain": [
       "  Model  Not_predict    Lin_reg  Dec_Tree   Catboost  Light_GBM\n",
       "0  rmse    58.881777  51.296368  52.85486  49.229964  43.585292"
      ]
     },
     "execution_count": 99,
     "metadata": {},
     "output_type": "execute_result"
    }
   ],
   "source": [
    "print('RMSE полученные при двух лагах')\n",
    "pd.DataFrame({\n",
    "    'Model' : ['rmse'],\n",
    "    'Not_predict' : [rmse_simple],\n",
    "    'Lin_reg' : [lin_rmse],\n",
    "    'Dec_Tree' : [tree_rmse],\n",
    "    'Catboost' : [catb_rmse],\n",
    "    'Light_GBM' : [gbm_rmse]\n",
    "})"
   ]
  },
  {
   "cell_type": "code",
   "execution_count": 94,
   "metadata": {
    "colab": {
     "base_uri": "https://localhost:8080/",
     "height": 80
    },
    "id": "BCnQyo3GCfPk",
    "outputId": "d3cea041-4677-497b-f099-607b6f1517f4"
   },
   "outputs": [
    {
     "name": "stdout",
     "output_type": "stream",
     "text": [
      "RMSE полученные при одном лаге\n"
     ]
    },
    {
     "data": {
      "text/html": [
       "<div>\n",
       "<style scoped>\n",
       "    .dataframe tbody tr th:only-of-type {\n",
       "        vertical-align: middle;\n",
       "    }\n",
       "\n",
       "    .dataframe tbody tr th {\n",
       "        vertical-align: top;\n",
       "    }\n",
       "\n",
       "    .dataframe thead th {\n",
       "        text-align: right;\n",
       "    }\n",
       "</style>\n",
       "<table border=\"1\" class=\"dataframe\">\n",
       "  <thead>\n",
       "    <tr style=\"text-align: right;\">\n",
       "      <th></th>\n",
       "      <th>Model</th>\n",
       "      <th>Not_predict</th>\n",
       "      <th>Lin_reg</th>\n",
       "      <th>Dec_Tree</th>\n",
       "      <th>Catboost</th>\n",
       "      <th>Light_GBM</th>\n",
       "    </tr>\n",
       "  </thead>\n",
       "  <tbody>\n",
       "    <tr>\n",
       "      <th>0</th>\n",
       "      <td>rmse</td>\n",
       "      <td>58.881777</td>\n",
       "      <td>51.220001</td>\n",
       "      <td>51.740716</td>\n",
       "      <td>50.210816</td>\n",
       "      <td>43.735659</td>\n",
       "    </tr>\n",
       "  </tbody>\n",
       "</table>\n",
       "</div>"
      ],
      "text/plain": [
       "  Model  Not_predict    Lin_reg   Dec_Tree   Catboost  Light_GBM\n",
       "0  rmse    58.881777  51.220001  51.740716  50.210816  43.735659"
      ]
     },
     "execution_count": 94,
     "metadata": {},
     "output_type": "execute_result"
    }
   ],
   "source": [
    "print('RMSE полученные при одном лаге')\n",
    "pd.DataFrame({\n",
    "    'Model' : ['rmse'],\n",
    "    'Not_predict' : [58.881777],\n",
    "    'Lin_reg' : [51.220001],\n",
    "    'Dec_Tree' : [51.740716],\n",
    "    'Catboost' : [50.210816],\n",
    "    'Light_GBM' : [43.735659]\n",
    "})"
   ]
  },
  {
   "cell_type": "markdown",
   "metadata": {
    "id": "ZQLBoohhDh5z"
   },
   "source": [
    "Получили предсказания для тестовой выборки для четырёх моделей: линейной регрессии, решающего дерева, catboost и Light GBM.\n",
    "\n",
    "Единственная модель, которая смогла вытянуть метрику это Light GBM."
   ]
  },
  {
   "cell_type": "markdown",
   "metadata": {
    "id": "cKayXM0I39kc"
   },
   "source": [
    "## Общий вывод "
   ]
  },
  {
   "cell_type": "markdown",
   "metadata": {
    "id": "MYs6YERHswj3"
   },
   "source": [
    "В ходе работы было выполнено:\n",
    "\n",
    "- Загружены данные и проведена их предобработка.\n",
    "- Обучено несколько моделей, наилучшие параметры моделей были подобраны с помощью кросс валидации и Grid Search.\n",
    "- Выполнено сравнение моделей.\n",
    "- Выбрана лучшая модель по результатам метрики RMSE.\n",
    "\n",
    "Выбрали модель Light GBM, у неё единственный подходящий rmse."
   ]
  },
  {
   "cell_type": "code",
   "execution_count": 108,
   "metadata": {},
   "outputs": [],
   "source": [
    "predict_test_series = pd.Series(pred_test_gbm, index=test_y.index)"
   ]
  },
  {
   "cell_type": "markdown",
   "metadata": {},
   "source": [
    "Выведем график сравнения предсказания и целевого признака:"
   ]
  },
  {
   "cell_type": "code",
   "execution_count": 111,
   "metadata": {},
   "outputs": [
    {
     "data": {
      "text/plain": [
       "<function matplotlib.pyplot.show(close=None, block=None)>"
      ]
     },
     "execution_count": 111,
     "metadata": {},
     "output_type": "execute_result"
    },
    {
     "data": {
      "image/png": "[encoded data removed]",
      "text/plain": [
       "<Figure size 1152x576 with 1 Axes>"
      ]
     },
     "metadata": {
      "needs_background": "light"
     },
     "output_type": "display_data"
    }
   ],
   "source": [
    "ax = test_y.plot(y='num_orders', figsize=(16,8), label='test_y', alpha=0.8)\n",
    "predict_test_series.plot(figsize=(16,8), ax=ax, alpha=0.9, label='predict_test')\n",
    "plt.title('Сравнение тестового целевого признака и предсказания')\n",
    "plt.legend()\n",
    "plt.show"
   ]
  }
 ],
 "metadata": {
  "ExecuteTimeLog": [
   {
    "duration": 1951,
    "start_time": "2022-04-24T19:39:54.937Z"
   },
   {
    "duration": 48,
    "start_time": "2022-04-24T19:39:58.982Z"
   },
   {
    "duration": 14,
    "start_time": "2022-04-24T19:40:01.142Z"
   },
   {
    "duration": 14,
    "start_time": "2022-04-24T19:40:02.719Z"
   },
   {
    "duration": 11,
    "start_time": "2022-04-24T19:40:04.255Z"
   },
   {
    "duration": 15,
    "start_time": "2022-04-24T19:40:11.750Z"
   },
   {
    "duration": 17,
    "start_time": "2022-04-24T19:40:13.959Z"
   },
   {
    "duration": 11,
    "start_time": "2022-04-24T19:40:17.896Z"
   },
   {
    "duration": 15,
    "start_time": "2022-04-24T19:40:21.039Z"
   },
   {
    "duration": 559,
    "start_time": "2022-04-24T19:40:21.510Z"
   },
   {
    "duration": 5,
    "start_time": "2022-04-24T19:40:36.271Z"
   },
   {
    "duration": 5,
    "start_time": "2022-04-24T19:40:41.966Z"
   },
   {
    "duration": 57,
    "start_time": "2022-04-24T19:40:43.844Z"
   },
   {
    "duration": 6,
    "start_time": "2022-04-24T19:40:44.209Z"
   },
   {
    "duration": 10,
    "start_time": "2022-04-24T19:40:44.748Z"
   },
   {
    "duration": 9,
    "start_time": "2022-04-24T19:40:45.590Z"
   },
   {
    "duration": 7,
    "start_time": "2022-04-24T19:40:47.334Z"
   },
   {
    "duration": 10,
    "start_time": "2022-04-24T19:40:48.501Z"
   },
   {
    "duration": 331,
    "start_time": "2022-04-24T19:40:48.924Z"
   },
   {
    "duration": 1001,
    "start_time": "2022-04-24T19:40:52.031Z"
   },
   {
    "duration": 311,
    "start_time": "2022-04-24T19:41:00.358Z"
   },
   {
    "duration": 12,
    "start_time": "2022-04-24T19:41:06.734Z"
   },
   {
    "duration": 176,
    "start_time": "2022-04-24T19:41:07.134Z"
   },
   {
    "duration": 7,
    "start_time": "2022-04-24T19:41:23.581Z"
   },
   {
    "duration": 1113,
    "start_time": "2022-04-24T19:41:29.616Z"
   },
   {
    "duration": 229,
    "start_time": "2022-04-24T19:41:41.043Z"
   },
   {
    "duration": 11,
    "start_time": "2022-04-24T19:41:50.927Z"
   },
   {
    "duration": 17,
    "start_time": "2022-04-24T19:41:52.552Z"
   },
   {
    "duration": 7,
    "start_time": "2022-04-24T19:41:53.783Z"
   },
   {
    "duration": 30,
    "start_time": "2022-04-24T19:41:54.850Z"
   },
   {
    "duration": 36,
    "start_time": "2022-04-24T19:42:00.322Z"
   },
   {
    "duration": 11,
    "start_time": "2022-04-24T19:42:06.167Z"
   },
   {
    "duration": 23,
    "start_time": "2022-04-24T19:42:08.168Z"
   },
   {
    "duration": 9,
    "start_time": "2022-04-24T19:42:19.622Z"
   },
   {
    "duration": 7,
    "start_time": "2022-04-24T19:42:20.870Z"
   },
   {
    "duration": 12,
    "start_time": "2022-04-24T19:43:00.615Z"
   },
   {
    "duration": 1706,
    "start_time": "2022-04-24T19:43:09.122Z"
   },
   {
    "duration": 9,
    "start_time": "2022-04-24T19:43:18.343Z"
   },
   {
    "duration": 6,
    "start_time": "2022-04-24T19:43:23.448Z"
   },
   {
    "duration": 4,
    "start_time": "2022-04-24T19:43:26.209Z"
   },
   {
    "duration": 4,
    "start_time": "2022-04-24T19:43:28.735Z"
   },
   {
    "duration": 5,
    "start_time": "2022-04-24T19:43:48.486Z"
   },
   {
    "duration": 5,
    "start_time": "2022-04-24T19:43:49.317Z"
   },
   {
    "duration": 5373,
    "start_time": "2022-04-24T19:43:54.983Z"
   },
   {
    "duration": 0,
    "start_time": "2022-04-24T20:09:59.432Z"
   },
   {
    "duration": 0,
    "start_time": "2022-04-24T20:09:59.434Z"
   },
   {
    "duration": 1,
    "start_time": "2022-04-24T20:09:59.435Z"
   },
   {
    "duration": 9,
    "start_time": "2022-04-24T20:10:03.417Z"
   },
   {
    "duration": 6,
    "start_time": "2022-04-24T20:10:08.573Z"
   },
   {
    "duration": 4,
    "start_time": "2022-04-24T20:10:10.420Z"
   },
   {
    "duration": 5,
    "start_time": "2022-04-24T20:10:11.698Z"
   },
   {
    "duration": 18163,
    "start_time": "2022-04-24T20:10:14.235Z"
   },
   {
    "duration": 7,
    "start_time": "2022-04-24T20:11:04.037Z"
   },
   {
    "duration": 7,
    "start_time": "2022-04-24T20:11:08.996Z"
   },
   {
    "duration": 8,
    "start_time": "2022-04-24T20:11:09.007Z"
   },
   {
    "duration": 6,
    "start_time": "2022-04-24T20:11:12.445Z"
   },
   {
    "duration": 6,
    "start_time": "2022-04-24T20:11:12.845Z"
   },
   {
    "duration": 7,
    "start_time": "2022-04-24T20:11:14.373Z"
   },
   {
    "duration": 6,
    "start_time": "2022-04-24T20:11:14.678Z"
   },
   {
    "duration": 15,
    "start_time": "2022-04-24T20:11:16.128Z"
   },
   {
    "duration": 6,
    "start_time": "2022-04-24T20:11:16.390Z"
   },
   {
    "duration": 14,
    "start_time": "2022-04-24T20:11:18.361Z"
   },
   {
    "duration": 63816,
    "start_time": "2022-04-25T13:51:20.024Z"
   },
   {
    "duration": 36,
    "start_time": "2022-04-25T13:52:23.842Z"
   },
   {
    "duration": 5,
    "start_time": "2022-04-25T13:52:23.880Z"
   },
   {
    "duration": 9,
    "start_time": "2022-04-25T13:52:23.887Z"
   },
   {
    "duration": 6,
    "start_time": "2022-04-25T13:52:23.897Z"
   },
   {
    "duration": 8,
    "start_time": "2022-04-25T13:52:23.904Z"
   },
   {
    "duration": 16,
    "start_time": "2022-04-25T13:52:23.914Z"
   },
   {
    "duration": 211,
    "start_time": "2022-04-25T13:52:23.932Z"
   },
   {
    "duration": 105,
    "start_time": "2022-04-26T06:01:13.873Z"
   },
   {
    "duration": 2406,
    "start_time": "2022-04-26T06:16:47.120Z"
   },
   {
    "duration": 53,
    "start_time": "2022-04-26T06:16:49.530Z"
   },
   {
    "duration": 10,
    "start_time": "2022-04-26T06:16:49.585Z"
   },
   {
    "duration": 38,
    "start_time": "2022-04-26T06:16:49.598Z"
   },
   {
    "duration": 11,
    "start_time": "2022-04-26T06:16:49.640Z"
   },
   {
    "duration": 10,
    "start_time": "2022-04-26T06:16:49.653Z"
   },
   {
    "duration": 18,
    "start_time": "2022-04-26T06:16:49.665Z"
   },
   {
    "duration": 408,
    "start_time": "2022-04-26T06:16:49.685Z"
   },
   {
    "duration": 936,
    "start_time": "2022-04-26T06:16:50.096Z"
   },
   {
    "duration": 367,
    "start_time": "2022-04-26T06:16:51.035Z"
   },
   {
    "duration": 24,
    "start_time": "2022-04-26T06:16:51.404Z"
   },
   {
    "duration": 1279,
    "start_time": "2022-04-26T06:16:51.431Z"
   },
   {
    "duration": 283,
    "start_time": "2022-04-26T06:16:52.712Z"
   },
   {
    "duration": 8,
    "start_time": "2022-04-26T06:19:54.734Z"
   },
   {
    "duration": 8,
    "start_time": "2022-04-26T06:20:59.129Z"
   },
   {
    "duration": 7,
    "start_time": "2022-04-26T06:20:59.935Z"
   },
   {
    "duration": 15,
    "start_time": "2022-04-26T06:21:42.889Z"
   },
   {
    "duration": 9,
    "start_time": "2022-04-26T06:21:57.020Z"
   },
   {
    "duration": 13,
    "start_time": "2022-04-26T06:21:57.649Z"
   },
   {
    "duration": 9,
    "start_time": "2022-04-26T06:22:17.108Z"
   },
   {
    "duration": 7,
    "start_time": "2022-04-26T06:22:17.838Z"
   },
   {
    "duration": 18,
    "start_time": "2022-04-26T06:22:20.493Z"
   },
   {
    "duration": 831,
    "start_time": "2022-04-26T06:22:30.861Z"
   },
   {
    "duration": 10,
    "start_time": "2022-04-26T06:23:06.936Z"
   },
   {
    "duration": 7,
    "start_time": "2022-04-26T06:23:08.578Z"
   },
   {
    "duration": 4,
    "start_time": "2022-04-26T06:23:09.188Z"
   },
   {
    "duration": 4,
    "start_time": "2022-04-26T06:23:09.815Z"
   },
   {
    "duration": 4,
    "start_time": "2022-04-26T06:23:12.163Z"
   },
   {
    "duration": 4,
    "start_time": "2022-04-26T06:23:13.205Z"
   },
   {
    "duration": 2558,
    "start_time": "2022-04-26T06:23:17.834Z"
   },
   {
    "duration": 9,
    "start_time": "2022-04-26T06:23:30.837Z"
   },
   {
    "duration": 2,
    "start_time": "2022-04-26T06:23:31.663Z"
   },
   {
    "duration": 4,
    "start_time": "2022-04-26T06:23:32.073Z"
   },
   {
    "duration": 77006,
    "start_time": "2022-04-26T06:23:33.028Z"
   },
   {
    "duration": 7,
    "start_time": "2022-04-26T06:25:02.759Z"
   },
   {
    "duration": 8,
    "start_time": "2022-04-26T06:25:06.338Z"
   },
   {
    "duration": 7,
    "start_time": "2022-04-26T06:25:06.788Z"
   },
   {
    "duration": 8,
    "start_time": "2022-04-26T06:25:18.727Z"
   },
   {
    "duration": 7,
    "start_time": "2022-04-26T06:25:32.116Z"
   },
   {
    "duration": 7,
    "start_time": "2022-04-26T06:25:53.778Z"
   },
   {
    "duration": 6,
    "start_time": "2022-04-26T06:25:54.808Z"
   },
   {
    "duration": 5,
    "start_time": "2022-04-26T06:26:03.447Z"
   },
   {
    "duration": 7,
    "start_time": "2022-04-26T06:26:04.298Z"
   },
   {
    "duration": 20,
    "start_time": "2022-04-26T06:26:08.278Z"
   },
   {
    "duration": 6,
    "start_time": "2022-04-26T06:26:08.887Z"
   },
   {
    "duration": 15,
    "start_time": "2022-04-26T06:26:18.487Z"
   },
   {
    "duration": 9,
    "start_time": "2022-04-26T06:27:22.329Z"
   },
   {
    "duration": 56,
    "start_time": "2022-04-26T06:27:22.342Z"
   },
   {
    "duration": 6,
    "start_time": "2022-04-26T06:27:22.400Z"
   },
   {
    "duration": 22,
    "start_time": "2022-04-26T06:27:22.427Z"
   },
   {
    "duration": 12,
    "start_time": "2022-04-26T06:27:22.451Z"
   },
   {
    "duration": 11,
    "start_time": "2022-04-26T06:27:22.466Z"
   },
   {
    "duration": 49,
    "start_time": "2022-04-26T06:27:22.480Z"
   },
   {
    "duration": 426,
    "start_time": "2022-04-26T06:27:22.532Z"
   },
   {
    "duration": 837,
    "start_time": "2022-04-26T06:27:22.963Z"
   },
   {
    "duration": 443,
    "start_time": "2022-04-26T06:27:23.802Z"
   },
   {
    "duration": 12,
    "start_time": "2022-04-26T06:27:24.248Z"
   },
   {
    "duration": 1185,
    "start_time": "2022-04-26T06:27:24.262Z"
   },
   {
    "duration": 261,
    "start_time": "2022-04-26T06:27:25.449Z"
   },
   {
    "duration": 16,
    "start_time": "2022-04-26T06:27:25.712Z"
   },
   {
    "duration": 24,
    "start_time": "2022-04-26T06:27:25.730Z"
   },
   {
    "duration": 9,
    "start_time": "2022-04-26T06:27:25.756Z"
   },
   {
    "duration": 18,
    "start_time": "2022-04-26T06:27:25.768Z"
   },
   {
    "duration": 11,
    "start_time": "2022-04-26T06:27:25.789Z"
   },
   {
    "duration": 36,
    "start_time": "2022-04-26T06:27:25.802Z"
   },
   {
    "duration": 15,
    "start_time": "2022-04-26T06:27:25.840Z"
   },
   {
    "duration": 7,
    "start_time": "2022-04-26T06:27:25.858Z"
   },
   {
    "duration": 11,
    "start_time": "2022-04-26T06:27:25.868Z"
   },
   {
    "duration": 977,
    "start_time": "2022-04-26T06:27:25.882Z"
   },
   {
    "duration": 9,
    "start_time": "2022-04-26T06:27:26.864Z"
   },
   {
    "duration": 13,
    "start_time": "2022-04-26T06:27:26.875Z"
   },
   {
    "duration": 8,
    "start_time": "2022-04-26T06:27:26.890Z"
   },
   {
    "duration": 27,
    "start_time": "2022-04-26T06:27:26.900Z"
   },
   {
    "duration": 11,
    "start_time": "2022-04-26T06:27:26.930Z"
   },
   {
    "duration": 10,
    "start_time": "2022-04-26T06:27:26.943Z"
   },
   {
    "duration": 6,
    "start_time": "2022-04-26T06:27:26.955Z"
   },
   {
    "duration": 11,
    "start_time": "2022-04-26T06:27:26.963Z"
   },
   {
    "duration": 3301,
    "start_time": "2022-04-26T06:27:26.976Z"
   },
   {
    "duration": 7,
    "start_time": "2022-04-26T06:27:30.279Z"
   },
   {
    "duration": 38,
    "start_time": "2022-04-26T06:27:30.288Z"
   },
   {
    "duration": 48,
    "start_time": "2022-04-26T06:27:30.328Z"
   },
   {
    "duration": 35864,
    "start_time": "2022-04-26T06:27:30.379Z"
   },
   {
    "duration": 8,
    "start_time": "2022-04-26T06:28:06.246Z"
   },
   {
    "duration": 17,
    "start_time": "2022-04-26T06:28:06.256Z"
   },
   {
    "duration": 17,
    "start_time": "2022-04-26T06:28:06.325Z"
   },
   {
    "duration": 8,
    "start_time": "2022-04-26T06:28:06.345Z"
   },
   {
    "duration": 20,
    "start_time": "2022-04-26T06:28:06.355Z"
   },
   {
    "duration": 8,
    "start_time": "2022-04-26T06:28:06.378Z"
   },
   {
    "duration": 6,
    "start_time": "2022-04-26T06:28:06.389Z"
   },
   {
    "duration": 50,
    "start_time": "2022-04-26T06:28:06.397Z"
   },
   {
    "duration": 6,
    "start_time": "2022-04-26T06:28:06.450Z"
   },
   {
    "duration": 16,
    "start_time": "2022-04-26T06:28:12.167Z"
   },
   {
    "duration": 19,
    "start_time": "2022-04-26T06:29:32.868Z"
   },
   {
    "duration": 17,
    "start_time": "2022-04-26T06:29:50.975Z"
   },
   {
    "duration": 2887,
    "start_time": "2022-04-26T06:35:38.182Z"
   },
   {
    "duration": 5,
    "start_time": "2022-04-26T06:35:52.958Z"
   },
   {
    "duration": 6,
    "start_time": "2022-04-26T06:35:54.477Z"
   },
   {
    "duration": 17,
    "start_time": "2022-04-26T06:35:58.938Z"
   },
   {
    "duration": 4,
    "start_time": "2022-04-26T06:58:21.623Z"
   },
   {
    "duration": 426,
    "start_time": "2022-04-26T07:00:30.022Z"
   },
   {
    "duration": 441,
    "start_time": "2022-04-26T07:01:20.845Z"
   },
   {
    "duration": 561,
    "start_time": "2022-04-26T07:01:32.896Z"
   },
   {
    "duration": 466,
    "start_time": "2022-04-26T07:01:43.240Z"
   },
   {
    "duration": 480,
    "start_time": "2022-04-26T07:01:48.664Z"
   },
   {
    "duration": 820,
    "start_time": "2022-04-26T07:01:54.885Z"
   },
   {
    "duration": 479,
    "start_time": "2022-04-26T07:02:10.029Z"
   },
   {
    "duration": 5,
    "start_time": "2022-04-26T07:04:18.350Z"
   },
   {
    "duration": 465,
    "start_time": "2022-04-26T07:04:18.733Z"
   },
   {
    "duration": 553,
    "start_time": "2022-04-26T07:05:18.845Z"
   },
   {
    "duration": 523,
    "start_time": "2022-04-26T07:05:48.190Z"
   }
  ],
  "colab": {
   "collapsed_sections": [],
   "name": "3.3 Прогнозирование заказов такси_95598b13-2680-44f4-8f06-d6eafb26e375.ipynb",
   "provenance": []
  },
  "kernelspec": {
   "display_name": "Python 3",
   "language": "python",
   "name": "python3"
  },
  "language_info": {
   "codemirror_mode": {
    "name": "ipython",
    "version": 3
   },
   "file_extension": ".py",
   "mimetype": "text/x-python",
   "name": "python",
   "nbconvert_exporter": "python",
   "pygments_lexer": "ipython3",
   "version": "3.7.4"
  },
  "toc": {
   "base_numbering": 1,
   "nav_menu": {
    "height": "218px",
    "width": "259.767px"
   },
   "number_sections": true,
   "sideBar": true,
   "skip_h1_title": true,
   "title_cell": "Содержание",
   "title_sidebar": "Contents",
   "toc_cell": true,
   "toc_position": {
    "height": "calc(100% - 180px)",
    "left": "10px",
    "top": "150px",
    "width": "272.391px"
   },
   "toc_section_display": true,
   "toc_window_display": true
  }
 },
 "nbformat": 4,
 "nbformat_minor": 1
}
