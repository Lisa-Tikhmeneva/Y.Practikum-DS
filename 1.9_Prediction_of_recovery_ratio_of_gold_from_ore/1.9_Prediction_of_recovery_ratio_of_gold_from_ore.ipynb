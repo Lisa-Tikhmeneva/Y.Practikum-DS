{
 "cells": [
  {
   "cell_type": "markdown",
   "metadata": {
    "toc": true
   },
   "source": [
    "<h1>Table of Contents<span class=\"tocSkip\"></span></h1>\n",
    "<div class=\"toc\"><ul class=\"toc-item\"><li><span><a href=\"#Загрузка-и-подготовка-данных\" data-toc-modified-id=\"Загрузка-и-подготовка-данных-1\"><span class=\"toc-item-num\">1&nbsp;&nbsp;</span>Загрузка и подготовка данных</a></span><ul class=\"toc-item\"><li><span><a href=\"#Подготовка-данных\" data-toc-modified-id=\"Подготовка-данных-1.1\"><span class=\"toc-item-num\">1.1&nbsp;&nbsp;</span>Подготовка данных</a></span></li><li><span><a href=\"#Эффективность-обогащения\" data-toc-modified-id=\"Эффективность-обогащения-1.2\"><span class=\"toc-item-num\">1.2&nbsp;&nbsp;</span>Эффективность обогащения</a></span></li><li><span><a href=\"#Подготовка-тестовой-выборки\" data-toc-modified-id=\"Подготовка-тестовой-выборки-1.3\"><span class=\"toc-item-num\">1.3&nbsp;&nbsp;</span>Подготовка тестовой выборки</a></span></li><li><span><a href=\"#Подготовка-тренировочной-выборки\" data-toc-modified-id=\"Подготовка-тренировочной-выборки-1.4\"><span class=\"toc-item-num\">1.4&nbsp;&nbsp;</span>Подготовка тренировочной выборки</a></span></li><li><span><a href=\"#Убрём-пропуски-из-выборок\" data-toc-modified-id=\"Убрём-пропуски-из-выборок-1.5\"><span class=\"toc-item-num\">1.5&nbsp;&nbsp;</span>Убрём пропуски из выборок</a></span></li></ul></li><li><span><a href=\"#Анализ-данных\" data-toc-modified-id=\"Анализ-данных-2\"><span class=\"toc-item-num\">2&nbsp;&nbsp;</span>Анализ данных</a></span><ul class=\"toc-item\"><li><span><a href=\"#Изменение-концентрация-металлов-и-соли-(Au,-Ag,-Pb,-Sol)-на-различных-этапах-очистки.\" data-toc-modified-id=\"Изменение-концентрация-металлов-и-соли-(Au,-Ag,-Pb,-Sol)-на-различных-этапах-очистки.-2.1\"><span class=\"toc-item-num\">2.1&nbsp;&nbsp;</span>Изменение концентрация металлов и соли (Au, Ag, Pb, Sol) на различных этапах очистки.</a></span></li><li><span><a href=\"#Сравнение-распределения-размеров-гранул-сырья-на-обучающей-и-тестовой-выборках.\" data-toc-modified-id=\"Сравнение-распределения-размеров-гранул-сырья-на-обучающей-и-тестовой-выборках.-2.2\"><span class=\"toc-item-num\">2.2&nbsp;&nbsp;</span>Сравнение распределения размеров гранул сырья на обучающей и тестовой выборках.</a></span></li><li><span><a href=\"#Исследование-суммарной-концентрацию-всех-веществ-на-разных-стадиях:-в-сырье,-в-черновом-и-финальном-концентратах.\" data-toc-modified-id=\"Исследование-суммарной-концентрацию-всех-веществ-на-разных-стадиях:-в-сырье,-в-черновом-и-финальном-концентратах.-2.3\"><span class=\"toc-item-num\">2.3&nbsp;&nbsp;</span>Исследование суммарной концентрацию всех веществ на разных стадиях: в сырье, в черновом и финальном концентратах.</a></span></li></ul></li><li><span><a href=\"#Модель\" data-toc-modified-id=\"Модель-3\"><span class=\"toc-item-num\">3&nbsp;&nbsp;</span>Модель</a></span><ul class=\"toc-item\"><li><span><a href=\"#функции-для-вычисления-итоговой-sMAPE-(финальное-симметричное-среднее-абсолютное-процентное-отклонение).\" data-toc-modified-id=\"функции-для-вычисления-итоговой-sMAPE-(финальное-симметричное-среднее-абсолютное-процентное-отклонение).-3.1\"><span class=\"toc-item-num\">3.1&nbsp;&nbsp;</span>функции для вычисления итоговой sMAPE (финальное симметричное среднее абсолютное процентное отклонение).</a></span></li><li><span><a href=\"#Обучение-нескольких-моделей.\" data-toc-modified-id=\"Обучение-нескольких-моделей.-3.2\"><span class=\"toc-item-num\">3.2&nbsp;&nbsp;</span>Обучение нескольких моделей.</a></span></li><li><span><a href=\"#Разобьём-данные-обучающей-и-тестовой-выборки-в-соответствии-с-целевыми-признаками:\" data-toc-modified-id=\"Разобьём-данные-обучающей-и-тестовой-выборки-в-соответствии-с-целевыми-признаками:-3.3\"><span class=\"toc-item-num\">3.3&nbsp;&nbsp;</span>Разобьём данные обучающей и тестовой выборки в соответствии с целевыми признаками:</a></span></li><li><span><a href=\"#Отмасштабируем-численные-признаки\" data-toc-modified-id=\"Отмасштабируем-численные-признаки-3.4\"><span class=\"toc-item-num\">3.4&nbsp;&nbsp;</span>Отмасштабируем численные признаки</a></span></li><li><span><a href=\"#Решающее-дерево\" data-toc-modified-id=\"Решающее-дерево-3.5\"><span class=\"toc-item-num\">3.5&nbsp;&nbsp;</span>Решающее дерево</a></span></li><li><span><a href=\"#Случайный-лес\" data-toc-modified-id=\"Случайный-лес-3.6\"><span class=\"toc-item-num\">3.6&nbsp;&nbsp;</span>Случайный лес</a></span></li><li><span><a href=\"#Линейная-регрессия\" data-toc-modified-id=\"Линейная-регрессия-3.7\"><span class=\"toc-item-num\">3.7&nbsp;&nbsp;</span>Линейная регрессия</a></span></li></ul></li><li><span><a href=\"#Тестирование-модели\" data-toc-modified-id=\"Тестирование-модели-4\"><span class=\"toc-item-num\">4&nbsp;&nbsp;</span>Тестирование модели</a></span><ul class=\"toc-item\"><li><span><a href=\"#Решающее-дерево\" data-toc-modified-id=\"Решающее-дерево-4.1\"><span class=\"toc-item-num\">4.1&nbsp;&nbsp;</span>Решающее дерево</a></span></li><li><span><a href=\"#Случайный-лес\" data-toc-modified-id=\"Случайный-лес-4.2\"><span class=\"toc-item-num\">4.2&nbsp;&nbsp;</span>Случайный лес</a></span></li><li><span><a href=\"#Линейная-регрессия\" data-toc-modified-id=\"Линейная-регрессия-4.3\"><span class=\"toc-item-num\">4.3&nbsp;&nbsp;</span>Линейная регрессия</a></span></li></ul></li><li><span><a href=\"#Выводы\" data-toc-modified-id=\"Выводы-5\"><span class=\"toc-item-num\">5&nbsp;&nbsp;</span>Выводы</a></span></li></ul></div>"
   ]
  },
  {
   "cell_type": "markdown",
   "metadata": {
    "id": "vNPYXethcV2g"
   },
   "source": [
    "# Предсказание коэффициента восстановление золота из руды"
   ]
  },
  {
   "cell_type": "markdown",
   "metadata": {
    "id": "DrlbYkMEcV2k"
   },
   "source": [
    "Подготовим прототип модели для «Цифры». Компания создаёт решения для более эффективной работы промышленных предприятий.\n",
    "\n",
    "\n",
    "Модель будет предсказать коэффициент восстановления золота из золотосодержащей руды. Используем данные с параметрами добычи и очистки. Это поможет оптимизировать производство, чтобы не запускать предприятие с убыточными характеристиками.\n",
    "\n",
    "Этапы:\n",
    "\n",
    "- Подготовить данные;\n",
    "- Провести исследовательский анализ данных;\n",
    "- Построить и обучить модель."
   ]
  },
  {
   "cell_type": "markdown",
   "metadata": {
    "id": "kdzVkJiXcV2n"
   },
   "source": [
    "## Загрузка и подготовка данных"
   ]
  },
  {
   "cell_type": "code",
   "execution_count": 1,
   "metadata": {
    "id": "sGK5KJjHcV2p"
   },
   "outputs": [],
   "source": [
    "import pandas as pd\n",
    "import numpy as np\n",
    "\n",
    "import matplotlib.pyplot as plt\n",
    "import seaborn as sns\n",
    "\n",
    "from IPython.display import display\n",
    "from numpy.random import RandomState\n",
    "from scipy import stats\n",
    "\n",
    "from sklearn.preprocessing import StandardScaler # чтобы отмасштабировать значения\n",
    "from sklearn.tree import DecisionTreeRegressor # Дерево решений для регресии\n",
    "from sklearn.ensemble import RandomForestRegressor # алгоритм случайного леса\n",
    "from sklearn.linear_model import LinearRegression # алгоритм линейной регрессии\n",
    "from sklearn.metrics import mean_absolute_error # MAE\n",
    "from sklearn.metrics import make_scorer\n",
    "from sklearn.model_selection import  cross_val_score, GridSearchCV\n",
    "\n",
    "import warnings\n",
    "warnings.filterwarnings('ignore')"
   ]
  },
  {
   "cell_type": "markdown",
   "metadata": {
    "id": "Yc8F4v7_2ngP"
   },
   "source": [
    "Данные находятся в трёх файлах:\n",
    "*   gold_recovery_train_new.csv — обучающая выборка;\n",
    "*   gold_recovery_test_new.csv — тестовая выборка;\n",
    "*    gold_recovery_full_new.csv — исходные данные.\n",
    "\n",
    "Данные индексируются датой и временем получения информации (признак date). Соседние по времени параметры часто похожи.\n",
    "\n",
    "Некоторые параметры недоступны, потому что замеряются и/или рассчитываются значительно позже. Из-за этого в тестовой выборке отсутствуют некоторые признаки, которые могут быть в обучающей. Также в тестовом наборе нет целевых признаков.\n",
    "\n",
    "Исходный датасет содержит обучающую и тестовую выборки со всеми признаками.\n",
    "В вашем распоряжении сырые данные: их просто выгрузили из хранилища. Прежде чем приступить к построению модели, проверьте по нашей инструкции их на корректность."
   ]
  },
  {
   "cell_type": "markdown",
   "metadata": {
    "id": "TtcQNfdy2no_"
   },
   "source": [
    "### Подготовка данных"
   ]
  },
  {
   "cell_type": "markdown",
   "metadata": {
    "id": "Kso-GjUPgyds"
   },
   "source": [
    "Загрузим данные и посмотрим на них:\n"
   ]
  },
  {
   "cell_type": "code",
   "execution_count": 2,
   "metadata": {
    "id": "w2jz3aGZkBcf"
   },
   "outputs": [],
   "source": [
    "df_train = pd.read_csv('/datasets/gold_recovery_train_new.csv')"
   ]
  },
  {
   "cell_type": "code",
   "execution_count": 3,
   "metadata": {
    "id": "tcAllX79cWLA"
   },
   "outputs": [],
   "source": [
    "df_test = pd.read_csv('/datasets/gold_recovery_test_new.csv')"
   ]
  },
  {
   "cell_type": "code",
   "execution_count": 4,
   "metadata": {
    "id": "uFXP3pHxcWRl"
   },
   "outputs": [],
   "source": [
    "df_full = pd.read_csv('/datasets/gold_recovery_full_new.csv')"
   ]
  },
  {
   "cell_type": "code",
   "execution_count": 5,
   "metadata": {
    "id": "IaCedJKwUuir"
   },
   "outputs": [],
   "source": [
    "# функция для описания датафрейма:\n",
    "def describe_df (df):\n",
    "  display(df.head(5))\n",
    "  print()\n",
    "  print('Проверим наличие явных дубликатов: ')\n",
    "  print('Явных дубликатов: ', df.duplicated().sum())\n",
    "  print()\n",
    "  print('Выведем общую информацию о таблице: ')\n",
    "  print()  \n",
    "  print(df.info())"
   ]
  },
  {
   "cell_type": "code",
   "execution_count": 6,
   "metadata": {
    "colab": {
     "base_uri": "https://localhost:8080/",
     "height": 1000
    },
    "id": "P3tVKCHkV7Jn",
    "outputId": "9bff4a10-c217-4f70-e4ca-9a47a0944ea3"
   },
   "outputs": [
    {
     "data": {
      "text/html": [
       "<div>\n",
       "<style scoped>\n",
       "    .dataframe tbody tr th:only-of-type {\n",
       "        vertical-align: middle;\n",
       "    }\n",
       "\n",
       "    .dataframe tbody tr th {\n",
       "        vertical-align: top;\n",
       "    }\n",
       "\n",
       "    .dataframe thead th {\n",
       "        text-align: right;\n",
       "    }\n",
       "</style>\n",
       "<table border=\"1\" class=\"dataframe\">\n",
       "  <thead>\n",
       "    <tr style=\"text-align: right;\">\n",
       "      <th></th>\n",
       "      <th>date</th>\n",
       "      <th>final.output.concentrate_ag</th>\n",
       "      <th>final.output.concentrate_pb</th>\n",
       "      <th>final.output.concentrate_sol</th>\n",
       "      <th>final.output.concentrate_au</th>\n",
       "      <th>final.output.recovery</th>\n",
       "      <th>final.output.tail_ag</th>\n",
       "      <th>final.output.tail_pb</th>\n",
       "      <th>final.output.tail_sol</th>\n",
       "      <th>final.output.tail_au</th>\n",
       "      <th>...</th>\n",
       "      <th>secondary_cleaner.state.floatbank4_a_air</th>\n",
       "      <th>secondary_cleaner.state.floatbank4_a_level</th>\n",
       "      <th>secondary_cleaner.state.floatbank4_b_air</th>\n",
       "      <th>secondary_cleaner.state.floatbank4_b_level</th>\n",
       "      <th>secondary_cleaner.state.floatbank5_a_air</th>\n",
       "      <th>secondary_cleaner.state.floatbank5_a_level</th>\n",
       "      <th>secondary_cleaner.state.floatbank5_b_air</th>\n",
       "      <th>secondary_cleaner.state.floatbank5_b_level</th>\n",
       "      <th>secondary_cleaner.state.floatbank6_a_air</th>\n",
       "      <th>secondary_cleaner.state.floatbank6_a_level</th>\n",
       "    </tr>\n",
       "  </thead>\n",
       "  <tbody>\n",
       "    <tr>\n",
       "      <th>0</th>\n",
       "      <td>2016-01-15 00:00:00</td>\n",
       "      <td>6.055403</td>\n",
       "      <td>9.889648</td>\n",
       "      <td>5.507324</td>\n",
       "      <td>42.192020</td>\n",
       "      <td>70.541216</td>\n",
       "      <td>10.411962</td>\n",
       "      <td>0.895447</td>\n",
       "      <td>16.904297</td>\n",
       "      <td>2.143149</td>\n",
       "      <td>...</td>\n",
       "      <td>14.016835</td>\n",
       "      <td>-502.488007</td>\n",
       "      <td>12.099931</td>\n",
       "      <td>-504.715942</td>\n",
       "      <td>9.925633</td>\n",
       "      <td>-498.310211</td>\n",
       "      <td>8.079666</td>\n",
       "      <td>-500.470978</td>\n",
       "      <td>14.151341</td>\n",
       "      <td>-605.841980</td>\n",
       "    </tr>\n",
       "    <tr>\n",
       "      <th>1</th>\n",
       "      <td>2016-01-15 01:00:00</td>\n",
       "      <td>6.029369</td>\n",
       "      <td>9.968944</td>\n",
       "      <td>5.257781</td>\n",
       "      <td>42.701629</td>\n",
       "      <td>69.266198</td>\n",
       "      <td>10.462676</td>\n",
       "      <td>0.927452</td>\n",
       "      <td>16.634514</td>\n",
       "      <td>2.224930</td>\n",
       "      <td>...</td>\n",
       "      <td>13.992281</td>\n",
       "      <td>-505.503262</td>\n",
       "      <td>11.950531</td>\n",
       "      <td>-501.331529</td>\n",
       "      <td>10.039245</td>\n",
       "      <td>-500.169983</td>\n",
       "      <td>7.984757</td>\n",
       "      <td>-500.582168</td>\n",
       "      <td>13.998353</td>\n",
       "      <td>-599.787184</td>\n",
       "    </tr>\n",
       "    <tr>\n",
       "      <th>2</th>\n",
       "      <td>2016-01-15 02:00:00</td>\n",
       "      <td>6.055926</td>\n",
       "      <td>10.213995</td>\n",
       "      <td>5.383759</td>\n",
       "      <td>42.657501</td>\n",
       "      <td>68.116445</td>\n",
       "      <td>10.507046</td>\n",
       "      <td>0.953716</td>\n",
       "      <td>16.208849</td>\n",
       "      <td>2.257889</td>\n",
       "      <td>...</td>\n",
       "      <td>14.015015</td>\n",
       "      <td>-502.520901</td>\n",
       "      <td>11.912783</td>\n",
       "      <td>-501.133383</td>\n",
       "      <td>10.070913</td>\n",
       "      <td>-500.129135</td>\n",
       "      <td>8.013877</td>\n",
       "      <td>-500.517572</td>\n",
       "      <td>14.028663</td>\n",
       "      <td>-601.427363</td>\n",
       "    </tr>\n",
       "    <tr>\n",
       "      <th>3</th>\n",
       "      <td>2016-01-15 03:00:00</td>\n",
       "      <td>6.047977</td>\n",
       "      <td>9.977019</td>\n",
       "      <td>4.858634</td>\n",
       "      <td>42.689819</td>\n",
       "      <td>68.347543</td>\n",
       "      <td>10.422762</td>\n",
       "      <td>0.883763</td>\n",
       "      <td>16.532835</td>\n",
       "      <td>2.146849</td>\n",
       "      <td>...</td>\n",
       "      <td>14.036510</td>\n",
       "      <td>-500.857308</td>\n",
       "      <td>11.999550</td>\n",
       "      <td>-501.193686</td>\n",
       "      <td>9.970366</td>\n",
       "      <td>-499.201640</td>\n",
       "      <td>7.977324</td>\n",
       "      <td>-500.255908</td>\n",
       "      <td>14.005551</td>\n",
       "      <td>-599.996129</td>\n",
       "    </tr>\n",
       "    <tr>\n",
       "      <th>4</th>\n",
       "      <td>2016-01-15 04:00:00</td>\n",
       "      <td>6.148599</td>\n",
       "      <td>10.142511</td>\n",
       "      <td>4.939416</td>\n",
       "      <td>42.774141</td>\n",
       "      <td>66.927016</td>\n",
       "      <td>10.360302</td>\n",
       "      <td>0.792826</td>\n",
       "      <td>16.525686</td>\n",
       "      <td>2.055292</td>\n",
       "      <td>...</td>\n",
       "      <td>14.027298</td>\n",
       "      <td>-499.838632</td>\n",
       "      <td>11.953070</td>\n",
       "      <td>-501.053894</td>\n",
       "      <td>9.925709</td>\n",
       "      <td>-501.686727</td>\n",
       "      <td>7.894242</td>\n",
       "      <td>-500.356035</td>\n",
       "      <td>13.996647</td>\n",
       "      <td>-601.496691</td>\n",
       "    </tr>\n",
       "  </tbody>\n",
       "</table>\n",
       "<p>5 rows × 87 columns</p>\n",
       "</div>"
      ],
      "text/plain": [
       "                  date  final.output.concentrate_ag  \\\n",
       "0  2016-01-15 00:00:00                     6.055403   \n",
       "1  2016-01-15 01:00:00                     6.029369   \n",
       "2  2016-01-15 02:00:00                     6.055926   \n",
       "3  2016-01-15 03:00:00                     6.047977   \n",
       "4  2016-01-15 04:00:00                     6.148599   \n",
       "\n",
       "   final.output.concentrate_pb  final.output.concentrate_sol  \\\n",
       "0                     9.889648                      5.507324   \n",
       "1                     9.968944                      5.257781   \n",
       "2                    10.213995                      5.383759   \n",
       "3                     9.977019                      4.858634   \n",
       "4                    10.142511                      4.939416   \n",
       "\n",
       "   final.output.concentrate_au  final.output.recovery  final.output.tail_ag  \\\n",
       "0                    42.192020              70.541216             10.411962   \n",
       "1                    42.701629              69.266198             10.462676   \n",
       "2                    42.657501              68.116445             10.507046   \n",
       "3                    42.689819              68.347543             10.422762   \n",
       "4                    42.774141              66.927016             10.360302   \n",
       "\n",
       "   final.output.tail_pb  final.output.tail_sol  final.output.tail_au  ...  \\\n",
       "0              0.895447              16.904297              2.143149  ...   \n",
       "1              0.927452              16.634514              2.224930  ...   \n",
       "2              0.953716              16.208849              2.257889  ...   \n",
       "3              0.883763              16.532835              2.146849  ...   \n",
       "4              0.792826              16.525686              2.055292  ...   \n",
       "\n",
       "   secondary_cleaner.state.floatbank4_a_air  \\\n",
       "0                                 14.016835   \n",
       "1                                 13.992281   \n",
       "2                                 14.015015   \n",
       "3                                 14.036510   \n",
       "4                                 14.027298   \n",
       "\n",
       "   secondary_cleaner.state.floatbank4_a_level  \\\n",
       "0                                 -502.488007   \n",
       "1                                 -505.503262   \n",
       "2                                 -502.520901   \n",
       "3                                 -500.857308   \n",
       "4                                 -499.838632   \n",
       "\n",
       "   secondary_cleaner.state.floatbank4_b_air  \\\n",
       "0                                 12.099931   \n",
       "1                                 11.950531   \n",
       "2                                 11.912783   \n",
       "3                                 11.999550   \n",
       "4                                 11.953070   \n",
       "\n",
       "   secondary_cleaner.state.floatbank4_b_level  \\\n",
       "0                                 -504.715942   \n",
       "1                                 -501.331529   \n",
       "2                                 -501.133383   \n",
       "3                                 -501.193686   \n",
       "4                                 -501.053894   \n",
       "\n",
       "   secondary_cleaner.state.floatbank5_a_air  \\\n",
       "0                                  9.925633   \n",
       "1                                 10.039245   \n",
       "2                                 10.070913   \n",
       "3                                  9.970366   \n",
       "4                                  9.925709   \n",
       "\n",
       "   secondary_cleaner.state.floatbank5_a_level  \\\n",
       "0                                 -498.310211   \n",
       "1                                 -500.169983   \n",
       "2                                 -500.129135   \n",
       "3                                 -499.201640   \n",
       "4                                 -501.686727   \n",
       "\n",
       "   secondary_cleaner.state.floatbank5_b_air  \\\n",
       "0                                  8.079666   \n",
       "1                                  7.984757   \n",
       "2                                  8.013877   \n",
       "3                                  7.977324   \n",
       "4                                  7.894242   \n",
       "\n",
       "   secondary_cleaner.state.floatbank5_b_level  \\\n",
       "0                                 -500.470978   \n",
       "1                                 -500.582168   \n",
       "2                                 -500.517572   \n",
       "3                                 -500.255908   \n",
       "4                                 -500.356035   \n",
       "\n",
       "   secondary_cleaner.state.floatbank6_a_air  \\\n",
       "0                                 14.151341   \n",
       "1                                 13.998353   \n",
       "2                                 14.028663   \n",
       "3                                 14.005551   \n",
       "4                                 13.996647   \n",
       "\n",
       "   secondary_cleaner.state.floatbank6_a_level  \n",
       "0                                 -605.841980  \n",
       "1                                 -599.787184  \n",
       "2                                 -601.427363  \n",
       "3                                 -599.996129  \n",
       "4                                 -601.496691  \n",
       "\n",
       "[5 rows x 87 columns]"
      ]
     },
     "metadata": {},
     "output_type": "display_data"
    },
    {
     "name": "stdout",
     "output_type": "stream",
     "text": [
      "\n",
      "Проверим наличие явных дубликатов: \n",
      "Явных дубликатов:  0\n",
      "\n",
      "Выведем общую информацию о таблице: \n",
      "\n",
      "<class 'pandas.core.frame.DataFrame'>\n",
      "RangeIndex: 14149 entries, 0 to 14148\n",
      "Data columns (total 87 columns):\n",
      " #   Column                                              Non-Null Count  Dtype  \n",
      "---  ------                                              --------------  -----  \n",
      " 0   date                                                14149 non-null  object \n",
      " 1   final.output.concentrate_ag                         14148 non-null  float64\n",
      " 2   final.output.concentrate_pb                         14148 non-null  float64\n",
      " 3   final.output.concentrate_sol                        13938 non-null  float64\n",
      " 4   final.output.concentrate_au                         14149 non-null  float64\n",
      " 5   final.output.recovery                               14149 non-null  float64\n",
      " 6   final.output.tail_ag                                14149 non-null  float64\n",
      " 7   final.output.tail_pb                                14049 non-null  float64\n",
      " 8   final.output.tail_sol                               14144 non-null  float64\n",
      " 9   final.output.tail_au                                14149 non-null  float64\n",
      " 10  primary_cleaner.input.sulfate                       14129 non-null  float64\n",
      " 11  primary_cleaner.input.depressant                    14117 non-null  float64\n",
      " 12  primary_cleaner.input.feed_size                     14149 non-null  float64\n",
      " 13  primary_cleaner.input.xanthate                      14049 non-null  float64\n",
      " 14  primary_cleaner.output.concentrate_ag               14149 non-null  float64\n",
      " 15  primary_cleaner.output.concentrate_pb               14063 non-null  float64\n",
      " 16  primary_cleaner.output.concentrate_sol              13863 non-null  float64\n",
      " 17  primary_cleaner.output.concentrate_au               14149 non-null  float64\n",
      " 18  primary_cleaner.output.tail_ag                      14148 non-null  float64\n",
      " 19  primary_cleaner.output.tail_pb                      14134 non-null  float64\n",
      " 20  primary_cleaner.output.tail_sol                     14103 non-null  float64\n",
      " 21  primary_cleaner.output.tail_au                      14149 non-null  float64\n",
      " 22  primary_cleaner.state.floatbank8_a_air              14145 non-null  float64\n",
      " 23  primary_cleaner.state.floatbank8_a_level            14148 non-null  float64\n",
      " 24  primary_cleaner.state.floatbank8_b_air              14145 non-null  float64\n",
      " 25  primary_cleaner.state.floatbank8_b_level            14148 non-null  float64\n",
      " 26  primary_cleaner.state.floatbank8_c_air              14147 non-null  float64\n",
      " 27  primary_cleaner.state.floatbank8_c_level            14148 non-null  float64\n",
      " 28  primary_cleaner.state.floatbank8_d_air              14146 non-null  float64\n",
      " 29  primary_cleaner.state.floatbank8_d_level            14148 non-null  float64\n",
      " 30  rougher.calculation.sulfate_to_au_concentrate       14148 non-null  float64\n",
      " 31  rougher.calculation.floatbank10_sulfate_to_au_feed  14148 non-null  float64\n",
      " 32  rougher.calculation.floatbank11_sulfate_to_au_feed  14148 non-null  float64\n",
      " 33  rougher.calculation.au_pb_ratio                     14149 non-null  float64\n",
      " 34  rougher.input.feed_ag                               14149 non-null  float64\n",
      " 35  rougher.input.feed_pb                               14049 non-null  float64\n",
      " 36  rougher.input.feed_rate                             14141 non-null  float64\n",
      " 37  rougher.input.feed_size                             14005 non-null  float64\n",
      " 38  rougher.input.feed_sol                              14071 non-null  float64\n",
      " 39  rougher.input.feed_au                               14149 non-null  float64\n",
      " 40  rougher.input.floatbank10_sulfate                   14120 non-null  float64\n",
      " 41  rougher.input.floatbank10_xanthate                  14141 non-null  float64\n",
      " 42  rougher.input.floatbank11_sulfate                   14113 non-null  float64\n",
      " 43  rougher.input.floatbank11_xanthate                  13721 non-null  float64\n",
      " 44  rougher.output.concentrate_ag                       14149 non-null  float64\n",
      " 45  rougher.output.concentrate_pb                       14149 non-null  float64\n",
      " 46  rougher.output.concentrate_sol                      14127 non-null  float64\n",
      " 47  rougher.output.concentrate_au                       14149 non-null  float64\n",
      " 48  rougher.output.recovery                             14149 non-null  float64\n",
      " 49  rougher.output.tail_ag                              14148 non-null  float64\n",
      " 50  rougher.output.tail_pb                              14149 non-null  float64\n",
      " 51  rougher.output.tail_sol                             14149 non-null  float64\n",
      " 52  rougher.output.tail_au                              14149 non-null  float64\n",
      " 53  rougher.state.floatbank10_a_air                     14148 non-null  float64\n",
      " 54  rougher.state.floatbank10_a_level                   14148 non-null  float64\n",
      " 55  rougher.state.floatbank10_b_air                     14148 non-null  float64\n",
      " 56  rougher.state.floatbank10_b_level                   14148 non-null  float64\n",
      " 57  rougher.state.floatbank10_c_air                     14148 non-null  float64\n",
      " 58  rougher.state.floatbank10_c_level                   14148 non-null  float64\n",
      " 59  rougher.state.floatbank10_d_air                     14149 non-null  float64\n",
      " 60  rougher.state.floatbank10_d_level                   14149 non-null  float64\n",
      " 61  rougher.state.floatbank10_e_air                     13713 non-null  float64\n",
      " 62  rougher.state.floatbank10_e_level                   14149 non-null  float64\n",
      " 63  rougher.state.floatbank10_f_air                     14149 non-null  float64\n",
      " 64  rougher.state.floatbank10_f_level                   14149 non-null  float64\n",
      " 65  secondary_cleaner.output.tail_ag                    14147 non-null  float64\n",
      " 66  secondary_cleaner.output.tail_pb                    14139 non-null  float64\n",
      " 67  secondary_cleaner.output.tail_sol                   12544 non-null  float64\n",
      " 68  secondary_cleaner.output.tail_au                    14149 non-null  float64\n",
      " 69  secondary_cleaner.state.floatbank2_a_air            13932 non-null  float64\n",
      " 70  secondary_cleaner.state.floatbank2_a_level          14148 non-null  float64\n",
      " 71  secondary_cleaner.state.floatbank2_b_air            14128 non-null  float64\n",
      " 72  secondary_cleaner.state.floatbank2_b_level          14148 non-null  float64\n",
      " 73  secondary_cleaner.state.floatbank3_a_air            14145 non-null  float64\n",
      " 74  secondary_cleaner.state.floatbank3_a_level          14148 non-null  float64\n",
      " 75  secondary_cleaner.state.floatbank3_b_air            14148 non-null  float64\n",
      " 76  secondary_cleaner.state.floatbank3_b_level          14148 non-null  float64\n",
      " 77  secondary_cleaner.state.floatbank4_a_air            14143 non-null  float64\n",
      " 78  secondary_cleaner.state.floatbank4_a_level          14148 non-null  float64\n",
      " 79  secondary_cleaner.state.floatbank4_b_air            14148 non-null  float64\n",
      " 80  secondary_cleaner.state.floatbank4_b_level          14148 non-null  float64\n",
      " 81  secondary_cleaner.state.floatbank5_a_air            14148 non-null  float64\n",
      " 82  secondary_cleaner.state.floatbank5_a_level          14148 non-null  float64\n",
      " 83  secondary_cleaner.state.floatbank5_b_air            14148 non-null  float64\n",
      " 84  secondary_cleaner.state.floatbank5_b_level          14148 non-null  float64\n",
      " 85  secondary_cleaner.state.floatbank6_a_air            14147 non-null  float64\n",
      " 86  secondary_cleaner.state.floatbank6_a_level          14148 non-null  float64\n",
      "dtypes: float64(86), object(1)\n",
      "memory usage: 9.4+ MB\n",
      "None\n"
     ]
    }
   ],
   "source": [
    "describe_df (df_train)"
   ]
  },
  {
   "cell_type": "code",
   "execution_count": 7,
   "metadata": {
    "colab": {
     "base_uri": "https://localhost:8080/",
     "height": 1000
    },
    "id": "zpH31Ei5WpUw",
    "outputId": "6aa1ee7d-7528-4bc7-e2c6-c630078db5f4"
   },
   "outputs": [
    {
     "data": {
      "text/html": [
       "<div>\n",
       "<style scoped>\n",
       "    .dataframe tbody tr th:only-of-type {\n",
       "        vertical-align: middle;\n",
       "    }\n",
       "\n",
       "    .dataframe tbody tr th {\n",
       "        vertical-align: top;\n",
       "    }\n",
       "\n",
       "    .dataframe thead th {\n",
       "        text-align: right;\n",
       "    }\n",
       "</style>\n",
       "<table border=\"1\" class=\"dataframe\">\n",
       "  <thead>\n",
       "    <tr style=\"text-align: right;\">\n",
       "      <th></th>\n",
       "      <th>date</th>\n",
       "      <th>primary_cleaner.input.sulfate</th>\n",
       "      <th>primary_cleaner.input.depressant</th>\n",
       "      <th>primary_cleaner.input.feed_size</th>\n",
       "      <th>primary_cleaner.input.xanthate</th>\n",
       "      <th>primary_cleaner.state.floatbank8_a_air</th>\n",
       "      <th>primary_cleaner.state.floatbank8_a_level</th>\n",
       "      <th>primary_cleaner.state.floatbank8_b_air</th>\n",
       "      <th>primary_cleaner.state.floatbank8_b_level</th>\n",
       "      <th>primary_cleaner.state.floatbank8_c_air</th>\n",
       "      <th>...</th>\n",
       "      <th>secondary_cleaner.state.floatbank4_a_air</th>\n",
       "      <th>secondary_cleaner.state.floatbank4_a_level</th>\n",
       "      <th>secondary_cleaner.state.floatbank4_b_air</th>\n",
       "      <th>secondary_cleaner.state.floatbank4_b_level</th>\n",
       "      <th>secondary_cleaner.state.floatbank5_a_air</th>\n",
       "      <th>secondary_cleaner.state.floatbank5_a_level</th>\n",
       "      <th>secondary_cleaner.state.floatbank5_b_air</th>\n",
       "      <th>secondary_cleaner.state.floatbank5_b_level</th>\n",
       "      <th>secondary_cleaner.state.floatbank6_a_air</th>\n",
       "      <th>secondary_cleaner.state.floatbank6_a_level</th>\n",
       "    </tr>\n",
       "  </thead>\n",
       "  <tbody>\n",
       "    <tr>\n",
       "      <th>0</th>\n",
       "      <td>2016-09-01 00:59:59</td>\n",
       "      <td>210.800909</td>\n",
       "      <td>14.993118</td>\n",
       "      <td>8.080000</td>\n",
       "      <td>1.005021</td>\n",
       "      <td>1398.981301</td>\n",
       "      <td>-500.225577</td>\n",
       "      <td>1399.144926</td>\n",
       "      <td>-499.919735</td>\n",
       "      <td>1400.102998</td>\n",
       "      <td>...</td>\n",
       "      <td>12.023554</td>\n",
       "      <td>-497.795834</td>\n",
       "      <td>8.016656</td>\n",
       "      <td>-501.289139</td>\n",
       "      <td>7.946562</td>\n",
       "      <td>-432.317850</td>\n",
       "      <td>4.872511</td>\n",
       "      <td>-500.037437</td>\n",
       "      <td>26.705889</td>\n",
       "      <td>-499.709414</td>\n",
       "    </tr>\n",
       "    <tr>\n",
       "      <th>1</th>\n",
       "      <td>2016-09-01 01:59:59</td>\n",
       "      <td>215.392455</td>\n",
       "      <td>14.987471</td>\n",
       "      <td>8.080000</td>\n",
       "      <td>0.990469</td>\n",
       "      <td>1398.777912</td>\n",
       "      <td>-500.057435</td>\n",
       "      <td>1398.055362</td>\n",
       "      <td>-499.778182</td>\n",
       "      <td>1396.151033</td>\n",
       "      <td>...</td>\n",
       "      <td>12.058140</td>\n",
       "      <td>-498.695773</td>\n",
       "      <td>8.130979</td>\n",
       "      <td>-499.634209</td>\n",
       "      <td>7.958270</td>\n",
       "      <td>-525.839648</td>\n",
       "      <td>4.878850</td>\n",
       "      <td>-500.162375</td>\n",
       "      <td>25.019940</td>\n",
       "      <td>-499.819438</td>\n",
       "    </tr>\n",
       "    <tr>\n",
       "      <th>2</th>\n",
       "      <td>2016-09-01 02:59:59</td>\n",
       "      <td>215.259946</td>\n",
       "      <td>12.884934</td>\n",
       "      <td>7.786667</td>\n",
       "      <td>0.996043</td>\n",
       "      <td>1398.493666</td>\n",
       "      <td>-500.868360</td>\n",
       "      <td>1398.860436</td>\n",
       "      <td>-499.764529</td>\n",
       "      <td>1398.075709</td>\n",
       "      <td>...</td>\n",
       "      <td>11.962366</td>\n",
       "      <td>-498.767484</td>\n",
       "      <td>8.096893</td>\n",
       "      <td>-500.827423</td>\n",
       "      <td>8.071056</td>\n",
       "      <td>-500.801673</td>\n",
       "      <td>4.905125</td>\n",
       "      <td>-499.828510</td>\n",
       "      <td>24.994862</td>\n",
       "      <td>-500.622559</td>\n",
       "    </tr>\n",
       "    <tr>\n",
       "      <th>3</th>\n",
       "      <td>2016-09-01 03:59:59</td>\n",
       "      <td>215.336236</td>\n",
       "      <td>12.006805</td>\n",
       "      <td>7.640000</td>\n",
       "      <td>0.863514</td>\n",
       "      <td>1399.618111</td>\n",
       "      <td>-498.863574</td>\n",
       "      <td>1397.440120</td>\n",
       "      <td>-499.211024</td>\n",
       "      <td>1400.129303</td>\n",
       "      <td>...</td>\n",
       "      <td>12.033091</td>\n",
       "      <td>-498.350935</td>\n",
       "      <td>8.074946</td>\n",
       "      <td>-499.474407</td>\n",
       "      <td>7.897085</td>\n",
       "      <td>-500.868509</td>\n",
       "      <td>4.931400</td>\n",
       "      <td>-499.963623</td>\n",
       "      <td>24.948919</td>\n",
       "      <td>-498.709987</td>\n",
       "    </tr>\n",
       "    <tr>\n",
       "      <th>4</th>\n",
       "      <td>2016-09-01 04:59:59</td>\n",
       "      <td>199.099327</td>\n",
       "      <td>10.682530</td>\n",
       "      <td>7.530000</td>\n",
       "      <td>0.805575</td>\n",
       "      <td>1401.268123</td>\n",
       "      <td>-500.808305</td>\n",
       "      <td>1398.128818</td>\n",
       "      <td>-499.504543</td>\n",
       "      <td>1402.172226</td>\n",
       "      <td>...</td>\n",
       "      <td>12.025367</td>\n",
       "      <td>-500.786497</td>\n",
       "      <td>8.054678</td>\n",
       "      <td>-500.397500</td>\n",
       "      <td>8.107890</td>\n",
       "      <td>-509.526725</td>\n",
       "      <td>4.957674</td>\n",
       "      <td>-500.360026</td>\n",
       "      <td>25.003331</td>\n",
       "      <td>-500.856333</td>\n",
       "    </tr>\n",
       "  </tbody>\n",
       "</table>\n",
       "<p>5 rows × 53 columns</p>\n",
       "</div>"
      ],
      "text/plain": [
       "                  date  primary_cleaner.input.sulfate  \\\n",
       "0  2016-09-01 00:59:59                     210.800909   \n",
       "1  2016-09-01 01:59:59                     215.392455   \n",
       "2  2016-09-01 02:59:59                     215.259946   \n",
       "3  2016-09-01 03:59:59                     215.336236   \n",
       "4  2016-09-01 04:59:59                     199.099327   \n",
       "\n",
       "   primary_cleaner.input.depressant  primary_cleaner.input.feed_size  \\\n",
       "0                         14.993118                         8.080000   \n",
       "1                         14.987471                         8.080000   \n",
       "2                         12.884934                         7.786667   \n",
       "3                         12.006805                         7.640000   \n",
       "4                         10.682530                         7.530000   \n",
       "\n",
       "   primary_cleaner.input.xanthate  primary_cleaner.state.floatbank8_a_air  \\\n",
       "0                        1.005021                             1398.981301   \n",
       "1                        0.990469                             1398.777912   \n",
       "2                        0.996043                             1398.493666   \n",
       "3                        0.863514                             1399.618111   \n",
       "4                        0.805575                             1401.268123   \n",
       "\n",
       "   primary_cleaner.state.floatbank8_a_level  \\\n",
       "0                               -500.225577   \n",
       "1                               -500.057435   \n",
       "2                               -500.868360   \n",
       "3                               -498.863574   \n",
       "4                               -500.808305   \n",
       "\n",
       "   primary_cleaner.state.floatbank8_b_air  \\\n",
       "0                             1399.144926   \n",
       "1                             1398.055362   \n",
       "2                             1398.860436   \n",
       "3                             1397.440120   \n",
       "4                             1398.128818   \n",
       "\n",
       "   primary_cleaner.state.floatbank8_b_level  \\\n",
       "0                               -499.919735   \n",
       "1                               -499.778182   \n",
       "2                               -499.764529   \n",
       "3                               -499.211024   \n",
       "4                               -499.504543   \n",
       "\n",
       "   primary_cleaner.state.floatbank8_c_air  ...  \\\n",
       "0                             1400.102998  ...   \n",
       "1                             1396.151033  ...   \n",
       "2                             1398.075709  ...   \n",
       "3                             1400.129303  ...   \n",
       "4                             1402.172226  ...   \n",
       "\n",
       "   secondary_cleaner.state.floatbank4_a_air  \\\n",
       "0                                 12.023554   \n",
       "1                                 12.058140   \n",
       "2                                 11.962366   \n",
       "3                                 12.033091   \n",
       "4                                 12.025367   \n",
       "\n",
       "   secondary_cleaner.state.floatbank4_a_level  \\\n",
       "0                                 -497.795834   \n",
       "1                                 -498.695773   \n",
       "2                                 -498.767484   \n",
       "3                                 -498.350935   \n",
       "4                                 -500.786497   \n",
       "\n",
       "   secondary_cleaner.state.floatbank4_b_air  \\\n",
       "0                                  8.016656   \n",
       "1                                  8.130979   \n",
       "2                                  8.096893   \n",
       "3                                  8.074946   \n",
       "4                                  8.054678   \n",
       "\n",
       "   secondary_cleaner.state.floatbank4_b_level  \\\n",
       "0                                 -501.289139   \n",
       "1                                 -499.634209   \n",
       "2                                 -500.827423   \n",
       "3                                 -499.474407   \n",
       "4                                 -500.397500   \n",
       "\n",
       "   secondary_cleaner.state.floatbank5_a_air  \\\n",
       "0                                  7.946562   \n",
       "1                                  7.958270   \n",
       "2                                  8.071056   \n",
       "3                                  7.897085   \n",
       "4                                  8.107890   \n",
       "\n",
       "   secondary_cleaner.state.floatbank5_a_level  \\\n",
       "0                                 -432.317850   \n",
       "1                                 -525.839648   \n",
       "2                                 -500.801673   \n",
       "3                                 -500.868509   \n",
       "4                                 -509.526725   \n",
       "\n",
       "   secondary_cleaner.state.floatbank5_b_air  \\\n",
       "0                                  4.872511   \n",
       "1                                  4.878850   \n",
       "2                                  4.905125   \n",
       "3                                  4.931400   \n",
       "4                                  4.957674   \n",
       "\n",
       "   secondary_cleaner.state.floatbank5_b_level  \\\n",
       "0                                 -500.037437   \n",
       "1                                 -500.162375   \n",
       "2                                 -499.828510   \n",
       "3                                 -499.963623   \n",
       "4                                 -500.360026   \n",
       "\n",
       "   secondary_cleaner.state.floatbank6_a_air  \\\n",
       "0                                 26.705889   \n",
       "1                                 25.019940   \n",
       "2                                 24.994862   \n",
       "3                                 24.948919   \n",
       "4                                 25.003331   \n",
       "\n",
       "   secondary_cleaner.state.floatbank6_a_level  \n",
       "0                                 -499.709414  \n",
       "1                                 -499.819438  \n",
       "2                                 -500.622559  \n",
       "3                                 -498.709987  \n",
       "4                                 -500.856333  \n",
       "\n",
       "[5 rows x 53 columns]"
      ]
     },
     "metadata": {},
     "output_type": "display_data"
    },
    {
     "name": "stdout",
     "output_type": "stream",
     "text": [
      "\n",
      "Проверим наличие явных дубликатов: \n",
      "Явных дубликатов:  0\n",
      "\n",
      "Выведем общую информацию о таблице: \n",
      "\n",
      "<class 'pandas.core.frame.DataFrame'>\n",
      "RangeIndex: 5290 entries, 0 to 5289\n",
      "Data columns (total 53 columns):\n",
      " #   Column                                      Non-Null Count  Dtype  \n",
      "---  ------                                      --------------  -----  \n",
      " 0   date                                        5290 non-null   object \n",
      " 1   primary_cleaner.input.sulfate               5286 non-null   float64\n",
      " 2   primary_cleaner.input.depressant            5285 non-null   float64\n",
      " 3   primary_cleaner.input.feed_size             5290 non-null   float64\n",
      " 4   primary_cleaner.input.xanthate              5286 non-null   float64\n",
      " 5   primary_cleaner.state.floatbank8_a_air      5290 non-null   float64\n",
      " 6   primary_cleaner.state.floatbank8_a_level    5290 non-null   float64\n",
      " 7   primary_cleaner.state.floatbank8_b_air      5290 non-null   float64\n",
      " 8   primary_cleaner.state.floatbank8_b_level    5290 non-null   float64\n",
      " 9   primary_cleaner.state.floatbank8_c_air      5290 non-null   float64\n",
      " 10  primary_cleaner.state.floatbank8_c_level    5290 non-null   float64\n",
      " 11  primary_cleaner.state.floatbank8_d_air      5290 non-null   float64\n",
      " 12  primary_cleaner.state.floatbank8_d_level    5290 non-null   float64\n",
      " 13  rougher.input.feed_ag                       5290 non-null   float64\n",
      " 14  rougher.input.feed_pb                       5290 non-null   float64\n",
      " 15  rougher.input.feed_rate                     5287 non-null   float64\n",
      " 16  rougher.input.feed_size                     5289 non-null   float64\n",
      " 17  rougher.input.feed_sol                      5269 non-null   float64\n",
      " 18  rougher.input.feed_au                       5290 non-null   float64\n",
      " 19  rougher.input.floatbank10_sulfate           5285 non-null   float64\n",
      " 20  rougher.input.floatbank10_xanthate          5290 non-null   float64\n",
      " 21  rougher.input.floatbank11_sulfate           5282 non-null   float64\n",
      " 22  rougher.input.floatbank11_xanthate          5265 non-null   float64\n",
      " 23  rougher.state.floatbank10_a_air             5290 non-null   float64\n",
      " 24  rougher.state.floatbank10_a_level           5290 non-null   float64\n",
      " 25  rougher.state.floatbank10_b_air             5290 non-null   float64\n",
      " 26  rougher.state.floatbank10_b_level           5290 non-null   float64\n",
      " 27  rougher.state.floatbank10_c_air             5290 non-null   float64\n",
      " 28  rougher.state.floatbank10_c_level           5290 non-null   float64\n",
      " 29  rougher.state.floatbank10_d_air             5290 non-null   float64\n",
      " 30  rougher.state.floatbank10_d_level           5290 non-null   float64\n",
      " 31  rougher.state.floatbank10_e_air             5290 non-null   float64\n",
      " 32  rougher.state.floatbank10_e_level           5290 non-null   float64\n",
      " 33  rougher.state.floatbank10_f_air             5290 non-null   float64\n",
      " 34  rougher.state.floatbank10_f_level           5290 non-null   float64\n",
      " 35  secondary_cleaner.state.floatbank2_a_air    5287 non-null   float64\n",
      " 36  secondary_cleaner.state.floatbank2_a_level  5290 non-null   float64\n",
      " 37  secondary_cleaner.state.floatbank2_b_air    5288 non-null   float64\n",
      " 38  secondary_cleaner.state.floatbank2_b_level  5290 non-null   float64\n",
      " 39  secondary_cleaner.state.floatbank3_a_air    5281 non-null   float64\n",
      " 40  secondary_cleaner.state.floatbank3_a_level  5290 non-null   float64\n",
      " 41  secondary_cleaner.state.floatbank3_b_air    5290 non-null   float64\n",
      " 42  secondary_cleaner.state.floatbank3_b_level  5290 non-null   float64\n",
      " 43  secondary_cleaner.state.floatbank4_a_air    5290 non-null   float64\n",
      " 44  secondary_cleaner.state.floatbank4_a_level  5290 non-null   float64\n",
      " 45  secondary_cleaner.state.floatbank4_b_air    5290 non-null   float64\n",
      " 46  secondary_cleaner.state.floatbank4_b_level  5290 non-null   float64\n",
      " 47  secondary_cleaner.state.floatbank5_a_air    5290 non-null   float64\n",
      " 48  secondary_cleaner.state.floatbank5_a_level  5290 non-null   float64\n",
      " 49  secondary_cleaner.state.floatbank5_b_air    5290 non-null   float64\n",
      " 50  secondary_cleaner.state.floatbank5_b_level  5290 non-null   float64\n",
      " 51  secondary_cleaner.state.floatbank6_a_air    5290 non-null   float64\n",
      " 52  secondary_cleaner.state.floatbank6_a_level  5290 non-null   float64\n",
      "dtypes: float64(52), object(1)\n",
      "memory usage: 2.1+ MB\n",
      "None\n"
     ]
    }
   ],
   "source": [
    "describe_df (df_test)"
   ]
  },
  {
   "cell_type": "code",
   "execution_count": 8,
   "metadata": {
    "colab": {
     "base_uri": "https://localhost:8080/",
     "height": 1000
    },
    "id": "6uYJbJkvWpcA",
    "outputId": "ffe36f46-214c-47d2-f150-81c0a2f93748"
   },
   "outputs": [
    {
     "data": {
      "text/html": [
       "<div>\n",
       "<style scoped>\n",
       "    .dataframe tbody tr th:only-of-type {\n",
       "        vertical-align: middle;\n",
       "    }\n",
       "\n",
       "    .dataframe tbody tr th {\n",
       "        vertical-align: top;\n",
       "    }\n",
       "\n",
       "    .dataframe thead th {\n",
       "        text-align: right;\n",
       "    }\n",
       "</style>\n",
       "<table border=\"1\" class=\"dataframe\">\n",
       "  <thead>\n",
       "    <tr style=\"text-align: right;\">\n",
       "      <th></th>\n",
       "      <th>date</th>\n",
       "      <th>final.output.concentrate_ag</th>\n",
       "      <th>final.output.concentrate_pb</th>\n",
       "      <th>final.output.concentrate_sol</th>\n",
       "      <th>final.output.concentrate_au</th>\n",
       "      <th>final.output.recovery</th>\n",
       "      <th>final.output.tail_ag</th>\n",
       "      <th>final.output.tail_pb</th>\n",
       "      <th>final.output.tail_sol</th>\n",
       "      <th>final.output.tail_au</th>\n",
       "      <th>...</th>\n",
       "      <th>secondary_cleaner.state.floatbank4_a_air</th>\n",
       "      <th>secondary_cleaner.state.floatbank4_a_level</th>\n",
       "      <th>secondary_cleaner.state.floatbank4_b_air</th>\n",
       "      <th>secondary_cleaner.state.floatbank4_b_level</th>\n",
       "      <th>secondary_cleaner.state.floatbank5_a_air</th>\n",
       "      <th>secondary_cleaner.state.floatbank5_a_level</th>\n",
       "      <th>secondary_cleaner.state.floatbank5_b_air</th>\n",
       "      <th>secondary_cleaner.state.floatbank5_b_level</th>\n",
       "      <th>secondary_cleaner.state.floatbank6_a_air</th>\n",
       "      <th>secondary_cleaner.state.floatbank6_a_level</th>\n",
       "    </tr>\n",
       "  </thead>\n",
       "  <tbody>\n",
       "    <tr>\n",
       "      <th>0</th>\n",
       "      <td>2016-01-15 00:00:00</td>\n",
       "      <td>6.055403</td>\n",
       "      <td>9.889648</td>\n",
       "      <td>5.507324</td>\n",
       "      <td>42.192020</td>\n",
       "      <td>70.541216</td>\n",
       "      <td>10.411962</td>\n",
       "      <td>0.895447</td>\n",
       "      <td>16.904297</td>\n",
       "      <td>2.143149</td>\n",
       "      <td>...</td>\n",
       "      <td>14.016835</td>\n",
       "      <td>-502.488007</td>\n",
       "      <td>12.099931</td>\n",
       "      <td>-504.715942</td>\n",
       "      <td>9.925633</td>\n",
       "      <td>-498.310211</td>\n",
       "      <td>8.079666</td>\n",
       "      <td>-500.470978</td>\n",
       "      <td>14.151341</td>\n",
       "      <td>-605.841980</td>\n",
       "    </tr>\n",
       "    <tr>\n",
       "      <th>1</th>\n",
       "      <td>2016-01-15 01:00:00</td>\n",
       "      <td>6.029369</td>\n",
       "      <td>9.968944</td>\n",
       "      <td>5.257781</td>\n",
       "      <td>42.701629</td>\n",
       "      <td>69.266198</td>\n",
       "      <td>10.462676</td>\n",
       "      <td>0.927452</td>\n",
       "      <td>16.634514</td>\n",
       "      <td>2.224930</td>\n",
       "      <td>...</td>\n",
       "      <td>13.992281</td>\n",
       "      <td>-505.503262</td>\n",
       "      <td>11.950531</td>\n",
       "      <td>-501.331529</td>\n",
       "      <td>10.039245</td>\n",
       "      <td>-500.169983</td>\n",
       "      <td>7.984757</td>\n",
       "      <td>-500.582168</td>\n",
       "      <td>13.998353</td>\n",
       "      <td>-599.787184</td>\n",
       "    </tr>\n",
       "    <tr>\n",
       "      <th>2</th>\n",
       "      <td>2016-01-15 02:00:00</td>\n",
       "      <td>6.055926</td>\n",
       "      <td>10.213995</td>\n",
       "      <td>5.383759</td>\n",
       "      <td>42.657501</td>\n",
       "      <td>68.116445</td>\n",
       "      <td>10.507046</td>\n",
       "      <td>0.953716</td>\n",
       "      <td>16.208849</td>\n",
       "      <td>2.257889</td>\n",
       "      <td>...</td>\n",
       "      <td>14.015015</td>\n",
       "      <td>-502.520901</td>\n",
       "      <td>11.912783</td>\n",
       "      <td>-501.133383</td>\n",
       "      <td>10.070913</td>\n",
       "      <td>-500.129135</td>\n",
       "      <td>8.013877</td>\n",
       "      <td>-500.517572</td>\n",
       "      <td>14.028663</td>\n",
       "      <td>-601.427363</td>\n",
       "    </tr>\n",
       "    <tr>\n",
       "      <th>3</th>\n",
       "      <td>2016-01-15 03:00:00</td>\n",
       "      <td>6.047977</td>\n",
       "      <td>9.977019</td>\n",
       "      <td>4.858634</td>\n",
       "      <td>42.689819</td>\n",
       "      <td>68.347543</td>\n",
       "      <td>10.422762</td>\n",
       "      <td>0.883763</td>\n",
       "      <td>16.532835</td>\n",
       "      <td>2.146849</td>\n",
       "      <td>...</td>\n",
       "      <td>14.036510</td>\n",
       "      <td>-500.857308</td>\n",
       "      <td>11.999550</td>\n",
       "      <td>-501.193686</td>\n",
       "      <td>9.970366</td>\n",
       "      <td>-499.201640</td>\n",
       "      <td>7.977324</td>\n",
       "      <td>-500.255908</td>\n",
       "      <td>14.005551</td>\n",
       "      <td>-599.996129</td>\n",
       "    </tr>\n",
       "    <tr>\n",
       "      <th>4</th>\n",
       "      <td>2016-01-15 04:00:00</td>\n",
       "      <td>6.148599</td>\n",
       "      <td>10.142511</td>\n",
       "      <td>4.939416</td>\n",
       "      <td>42.774141</td>\n",
       "      <td>66.927016</td>\n",
       "      <td>10.360302</td>\n",
       "      <td>0.792826</td>\n",
       "      <td>16.525686</td>\n",
       "      <td>2.055292</td>\n",
       "      <td>...</td>\n",
       "      <td>14.027298</td>\n",
       "      <td>-499.838632</td>\n",
       "      <td>11.953070</td>\n",
       "      <td>-501.053894</td>\n",
       "      <td>9.925709</td>\n",
       "      <td>-501.686727</td>\n",
       "      <td>7.894242</td>\n",
       "      <td>-500.356035</td>\n",
       "      <td>13.996647</td>\n",
       "      <td>-601.496691</td>\n",
       "    </tr>\n",
       "  </tbody>\n",
       "</table>\n",
       "<p>5 rows × 87 columns</p>\n",
       "</div>"
      ],
      "text/plain": [
       "                  date  final.output.concentrate_ag  \\\n",
       "0  2016-01-15 00:00:00                     6.055403   \n",
       "1  2016-01-15 01:00:00                     6.029369   \n",
       "2  2016-01-15 02:00:00                     6.055926   \n",
       "3  2016-01-15 03:00:00                     6.047977   \n",
       "4  2016-01-15 04:00:00                     6.148599   \n",
       "\n",
       "   final.output.concentrate_pb  final.output.concentrate_sol  \\\n",
       "0                     9.889648                      5.507324   \n",
       "1                     9.968944                      5.257781   \n",
       "2                    10.213995                      5.383759   \n",
       "3                     9.977019                      4.858634   \n",
       "4                    10.142511                      4.939416   \n",
       "\n",
       "   final.output.concentrate_au  final.output.recovery  final.output.tail_ag  \\\n",
       "0                    42.192020              70.541216             10.411962   \n",
       "1                    42.701629              69.266198             10.462676   \n",
       "2                    42.657501              68.116445             10.507046   \n",
       "3                    42.689819              68.347543             10.422762   \n",
       "4                    42.774141              66.927016             10.360302   \n",
       "\n",
       "   final.output.tail_pb  final.output.tail_sol  final.output.tail_au  ...  \\\n",
       "0              0.895447              16.904297              2.143149  ...   \n",
       "1              0.927452              16.634514              2.224930  ...   \n",
       "2              0.953716              16.208849              2.257889  ...   \n",
       "3              0.883763              16.532835              2.146849  ...   \n",
       "4              0.792826              16.525686              2.055292  ...   \n",
       "\n",
       "   secondary_cleaner.state.floatbank4_a_air  \\\n",
       "0                                 14.016835   \n",
       "1                                 13.992281   \n",
       "2                                 14.015015   \n",
       "3                                 14.036510   \n",
       "4                                 14.027298   \n",
       "\n",
       "   secondary_cleaner.state.floatbank4_a_level  \\\n",
       "0                                 -502.488007   \n",
       "1                                 -505.503262   \n",
       "2                                 -502.520901   \n",
       "3                                 -500.857308   \n",
       "4                                 -499.838632   \n",
       "\n",
       "   secondary_cleaner.state.floatbank4_b_air  \\\n",
       "0                                 12.099931   \n",
       "1                                 11.950531   \n",
       "2                                 11.912783   \n",
       "3                                 11.999550   \n",
       "4                                 11.953070   \n",
       "\n",
       "   secondary_cleaner.state.floatbank4_b_level  \\\n",
       "0                                 -504.715942   \n",
       "1                                 -501.331529   \n",
       "2                                 -501.133383   \n",
       "3                                 -501.193686   \n",
       "4                                 -501.053894   \n",
       "\n",
       "   secondary_cleaner.state.floatbank5_a_air  \\\n",
       "0                                  9.925633   \n",
       "1                                 10.039245   \n",
       "2                                 10.070913   \n",
       "3                                  9.970366   \n",
       "4                                  9.925709   \n",
       "\n",
       "   secondary_cleaner.state.floatbank5_a_level  \\\n",
       "0                                 -498.310211   \n",
       "1                                 -500.169983   \n",
       "2                                 -500.129135   \n",
       "3                                 -499.201640   \n",
       "4                                 -501.686727   \n",
       "\n",
       "   secondary_cleaner.state.floatbank5_b_air  \\\n",
       "0                                  8.079666   \n",
       "1                                  7.984757   \n",
       "2                                  8.013877   \n",
       "3                                  7.977324   \n",
       "4                                  7.894242   \n",
       "\n",
       "   secondary_cleaner.state.floatbank5_b_level  \\\n",
       "0                                 -500.470978   \n",
       "1                                 -500.582168   \n",
       "2                                 -500.517572   \n",
       "3                                 -500.255908   \n",
       "4                                 -500.356035   \n",
       "\n",
       "   secondary_cleaner.state.floatbank6_a_air  \\\n",
       "0                                 14.151341   \n",
       "1                                 13.998353   \n",
       "2                                 14.028663   \n",
       "3                                 14.005551   \n",
       "4                                 13.996647   \n",
       "\n",
       "   secondary_cleaner.state.floatbank6_a_level  \n",
       "0                                 -605.841980  \n",
       "1                                 -599.787184  \n",
       "2                                 -601.427363  \n",
       "3                                 -599.996129  \n",
       "4                                 -601.496691  \n",
       "\n",
       "[5 rows x 87 columns]"
      ]
     },
     "metadata": {},
     "output_type": "display_data"
    },
    {
     "name": "stdout",
     "output_type": "stream",
     "text": [
      "\n",
      "Проверим наличие явных дубликатов: \n",
      "Явных дубликатов:  0\n",
      "\n",
      "Выведем общую информацию о таблице: \n",
      "\n",
      "<class 'pandas.core.frame.DataFrame'>\n",
      "RangeIndex: 19439 entries, 0 to 19438\n",
      "Data columns (total 87 columns):\n",
      " #   Column                                              Non-Null Count  Dtype  \n",
      "---  ------                                              --------------  -----  \n",
      " 0   date                                                19439 non-null  object \n",
      " 1   final.output.concentrate_ag                         19438 non-null  float64\n",
      " 2   final.output.concentrate_pb                         19438 non-null  float64\n",
      " 3   final.output.concentrate_sol                        19228 non-null  float64\n",
      " 4   final.output.concentrate_au                         19439 non-null  float64\n",
      " 5   final.output.recovery                               19439 non-null  float64\n",
      " 6   final.output.tail_ag                                19438 non-null  float64\n",
      " 7   final.output.tail_pb                                19338 non-null  float64\n",
      " 8   final.output.tail_sol                               19433 non-null  float64\n",
      " 9   final.output.tail_au                                19439 non-null  float64\n",
      " 10  primary_cleaner.input.sulfate                       19415 non-null  float64\n",
      " 11  primary_cleaner.input.depressant                    19402 non-null  float64\n",
      " 12  primary_cleaner.input.feed_size                     19439 non-null  float64\n",
      " 13  primary_cleaner.input.xanthate                      19335 non-null  float64\n",
      " 14  primary_cleaner.output.concentrate_ag               19439 non-null  float64\n",
      " 15  primary_cleaner.output.concentrate_pb               19323 non-null  float64\n",
      " 16  primary_cleaner.output.concentrate_sol              19069 non-null  float64\n",
      " 17  primary_cleaner.output.concentrate_au               19439 non-null  float64\n",
      " 18  primary_cleaner.output.tail_ag                      19435 non-null  float64\n",
      " 19  primary_cleaner.output.tail_pb                      19418 non-null  float64\n",
      " 20  primary_cleaner.output.tail_sol                     19377 non-null  float64\n",
      " 21  primary_cleaner.output.tail_au                      19439 non-null  float64\n",
      " 22  primary_cleaner.state.floatbank8_a_air              19435 non-null  float64\n",
      " 23  primary_cleaner.state.floatbank8_a_level            19438 non-null  float64\n",
      " 24  primary_cleaner.state.floatbank8_b_air              19435 non-null  float64\n",
      " 25  primary_cleaner.state.floatbank8_b_level            19438 non-null  float64\n",
      " 26  primary_cleaner.state.floatbank8_c_air              19437 non-null  float64\n",
      " 27  primary_cleaner.state.floatbank8_c_level            19438 non-null  float64\n",
      " 28  primary_cleaner.state.floatbank8_d_air              19436 non-null  float64\n",
      " 29  primary_cleaner.state.floatbank8_d_level            19438 non-null  float64\n",
      " 30  rougher.calculation.sulfate_to_au_concentrate       19437 non-null  float64\n",
      " 31  rougher.calculation.floatbank10_sulfate_to_au_feed  19437 non-null  float64\n",
      " 32  rougher.calculation.floatbank11_sulfate_to_au_feed  19437 non-null  float64\n",
      " 33  rougher.calculation.au_pb_ratio                     19439 non-null  float64\n",
      " 34  rougher.input.feed_ag                               19439 non-null  float64\n",
      " 35  rougher.input.feed_pb                               19339 non-null  float64\n",
      " 36  rougher.input.feed_rate                             19428 non-null  float64\n",
      " 37  rougher.input.feed_size                             19294 non-null  float64\n",
      " 38  rougher.input.feed_sol                              19340 non-null  float64\n",
      " 39  rougher.input.feed_au                               19439 non-null  float64\n",
      " 40  rougher.input.floatbank10_sulfate                   19405 non-null  float64\n",
      " 41  rougher.input.floatbank10_xanthate                  19431 non-null  float64\n",
      " 42  rougher.input.floatbank11_sulfate                   19395 non-null  float64\n",
      " 43  rougher.input.floatbank11_xanthate                  18986 non-null  float64\n",
      " 44  rougher.output.concentrate_ag                       19439 non-null  float64\n",
      " 45  rougher.output.concentrate_pb                       19439 non-null  float64\n",
      " 46  rougher.output.concentrate_sol                      19416 non-null  float64\n",
      " 47  rougher.output.concentrate_au                       19439 non-null  float64\n",
      " 48  rougher.output.recovery                             19439 non-null  float64\n",
      " 49  rougher.output.tail_ag                              19438 non-null  float64\n",
      " 50  rougher.output.tail_pb                              19439 non-null  float64\n",
      " 51  rougher.output.tail_sol                             19439 non-null  float64\n",
      " 52  rougher.output.tail_au                              19439 non-null  float64\n",
      " 53  rougher.state.floatbank10_a_air                     19438 non-null  float64\n",
      " 54  rougher.state.floatbank10_a_level                   19438 non-null  float64\n",
      " 55  rougher.state.floatbank10_b_air                     19438 non-null  float64\n",
      " 56  rougher.state.floatbank10_b_level                   19438 non-null  float64\n",
      " 57  rougher.state.floatbank10_c_air                     19438 non-null  float64\n",
      " 58  rougher.state.floatbank10_c_level                   19438 non-null  float64\n",
      " 59  rougher.state.floatbank10_d_air                     19439 non-null  float64\n",
      " 60  rougher.state.floatbank10_d_level                   19439 non-null  float64\n",
      " 61  rougher.state.floatbank10_e_air                     19003 non-null  float64\n",
      " 62  rougher.state.floatbank10_e_level                   19439 non-null  float64\n",
      " 63  rougher.state.floatbank10_f_air                     19439 non-null  float64\n",
      " 64  rougher.state.floatbank10_f_level                   19439 non-null  float64\n",
      " 65  secondary_cleaner.output.tail_ag                    19437 non-null  float64\n",
      " 66  secondary_cleaner.output.tail_pb                    19427 non-null  float64\n",
      " 67  secondary_cleaner.output.tail_sol                   17691 non-null  float64\n",
      " 68  secondary_cleaner.output.tail_au                    19439 non-null  float64\n",
      " 69  secondary_cleaner.state.floatbank2_a_air            19219 non-null  float64\n",
      " 70  secondary_cleaner.state.floatbank2_a_level          19438 non-null  float64\n",
      " 71  secondary_cleaner.state.floatbank2_b_air            19416 non-null  float64\n",
      " 72  secondary_cleaner.state.floatbank2_b_level          19438 non-null  float64\n",
      " 73  secondary_cleaner.state.floatbank3_a_air            19426 non-null  float64\n",
      " 74  secondary_cleaner.state.floatbank3_a_level          19438 non-null  float64\n",
      " 75  secondary_cleaner.state.floatbank3_b_air            19438 non-null  float64\n",
      " 76  secondary_cleaner.state.floatbank3_b_level          19438 non-null  float64\n",
      " 77  secondary_cleaner.state.floatbank4_a_air            19433 non-null  float64\n",
      " 78  secondary_cleaner.state.floatbank4_a_level          19438 non-null  float64\n",
      " 79  secondary_cleaner.state.floatbank4_b_air            19438 non-null  float64\n",
      " 80  secondary_cleaner.state.floatbank4_b_level          19438 non-null  float64\n",
      " 81  secondary_cleaner.state.floatbank5_a_air            19438 non-null  float64\n",
      " 82  secondary_cleaner.state.floatbank5_a_level          19438 non-null  float64\n",
      " 83  secondary_cleaner.state.floatbank5_b_air            19438 non-null  float64\n",
      " 84  secondary_cleaner.state.floatbank5_b_level          19438 non-null  float64\n",
      " 85  secondary_cleaner.state.floatbank6_a_air            19437 non-null  float64\n",
      " 86  secondary_cleaner.state.floatbank6_a_level          19438 non-null  float64\n",
      "dtypes: float64(86), object(1)\n",
      "memory usage: 12.9+ MB\n",
      "None\n"
     ]
    }
   ],
   "source": [
    "describe_df (df_full)"
   ]
  },
  {
   "cell_type": "markdown",
   "metadata": {
    "id": "b8XzDw0rJKMq"
   },
   "source": [
    "Наименование признаков в таблицах:\n",
    "\n",
    "\n",
    "```\n",
    "[этап].[тип_параметра].[название_параметра]\n",
    "```\n",
    "\n",
    "Значения для блока `[этап]`:\n",
    "* rougher — флотация\n",
    "* primary_cleaner — первичная очистка\n",
    "* secondary_cleaner — вторичная очистка\n",
    "* final — финальные характеристики\n",
    "\n",
    "Значения для блока `[тип_параметра]`:\n",
    "* input — параметры сырья\n",
    "* output — параметры продукта\n",
    "* state — параметры, характеризующие текущее состояние этапа\n",
    "* calculation — расчётные характеристики\n",
    "\n",
    "Возможные значения для блока `[название_параметра]`:\n",
    "* concentrate_ag/au/pb/sol — концентрация веществ\n",
    "* tail_ag/au/pb/sol  — хвосты веществ\n",
    "* recovery — эффективность обогащения\n",
    "* Xanthate/Sulphate/Depressant — флотационные реагенты\n",
    "* feed_size/ag/au/pb/sol — размер гранул сырья\n",
    "* floatbank8_a_air/b_level - флотационная установка\n"
   ]
  },
  {
   "cell_type": "markdown",
   "metadata": {
    "id": "dd9Jj6s72nvE"
   },
   "source": [
    "### Эффективность обогащения \n",
    "\n",
    "Проверим, что эффективность обогащения рассчитана правильно. \n",
    "\n",
    "Вычислим её на обучающей выборке для признака rougher.output.recovery. \n",
    "Найдём MAE между нашими расчётами и значением признака. "
   ]
  },
  {
   "cell_type": "markdown",
   "metadata": {
    "id": "Ctz27dH8Hrv_"
   },
   "source": [
    "В таблицах присутствует Эффективность обогащения, проверим, что она совпадает с расчётным значением. Эффективность обогащения рассчитывается по формуле:\n",
    "\n",
    "         recovery = (C * (F-T) ) / (F * (C-T) ) * 100%,\n",
    "\n",
    "где:\n",
    "*\tC — доля золота в концентрате после флотации/очистки;\n",
    "*\tF — доля золота в сырье/концентрате до флотации/очистки;\n",
    "*\tT — доля золота в отвальных хвостах после флотации/очистки.\n",
    "\n",
    "Для обучающей выборки:\n",
    "*\trougher.output.concentrate_au — доля золота в концентрате после флотации/очистки;\n",
    "*\trougher.input.feed_au  — доля золота в сырье/концентрате до флотации/очистки;\n",
    "*\trougher.output.tail_au — доля золота в отвальных хвостах после флотации/очистки.\n"
   ]
  },
  {
   "cell_type": "code",
   "execution_count": 9,
   "metadata": {
    "id": "-dsxasDoLYPv"
   },
   "outputs": [],
   "source": [
    "C = df_train['rougher.output.concentrate_au'] \n",
    "F = df_train['rougher.input.feed_au']\n",
    "T = df_train['rougher.output.tail_au']"
   ]
  },
  {
   "cell_type": "code",
   "execution_count": 10,
   "metadata": {
    "id": "rrj_4ketLYU4"
   },
   "outputs": [],
   "source": [
    "df_train['rougher.calculation.recovery'] = (C * (F-T) ) / (F * (C-T) ) * 100"
   ]
  },
  {
   "cell_type": "code",
   "execution_count": 11,
   "metadata": {
    "colab": {
     "base_uri": "https://localhost:8080/"
    },
    "id": "lIYT945rHr6B",
    "outputId": "8d034980-b2c7-4055-c9e7-6fb80fa687e3"
   },
   "outputs": [
    {
     "data": {
      "text/plain": [
       "9.73512347450521e-15"
      ]
     },
     "execution_count": 11,
     "metadata": {},
     "output_type": "execute_result"
    }
   ],
   "source": [
    "mean_absolute_error(df_train['rougher.output.recovery'], df_train['rougher.calculation.recovery'])"
   ]
  },
  {
   "cell_type": "markdown",
   "metadata": {
    "id": "P81LuUZ_LwkX"
   },
   "source": [
    "Средняя Абсолютная Ошибка MAE незначительна, меньше, чем 10^(-14), это значит, что данные по эффективности обогащения указаны в таблице верно."
   ]
  },
  {
   "cell_type": "markdown",
   "metadata": {
    "id": "IrTS6TRV3t9R"
   },
   "source": [
    "Проанализируем признаки, недоступные в тестовой выборке. \n",
    "Выведем эти призаки на экран и посмотрим на них:"
   ]
  },
  {
   "cell_type": "code",
   "execution_count": 13,
   "metadata": {},
   "outputs": [
    {
     "data": {
      "text/plain": [
       "{'final.output.concentrate_ag',\n",
       " 'final.output.concentrate_au',\n",
       " 'final.output.concentrate_pb',\n",
       " 'final.output.concentrate_sol',\n",
       " 'final.output.recovery',\n",
       " 'final.output.tail_ag',\n",
       " 'final.output.tail_au',\n",
       " 'final.output.tail_pb',\n",
       " 'final.output.tail_sol',\n",
       " 'primary_cleaner.output.concentrate_ag',\n",
       " 'primary_cleaner.output.concentrate_au',\n",
       " 'primary_cleaner.output.concentrate_pb',\n",
       " 'primary_cleaner.output.concentrate_sol',\n",
       " 'primary_cleaner.output.tail_ag',\n",
       " 'primary_cleaner.output.tail_au',\n",
       " 'primary_cleaner.output.tail_pb',\n",
       " 'primary_cleaner.output.tail_sol',\n",
       " 'rougher.calculation.au_pb_ratio',\n",
       " 'rougher.calculation.floatbank10_sulfate_to_au_feed',\n",
       " 'rougher.calculation.floatbank11_sulfate_to_au_feed',\n",
       " 'rougher.calculation.recovery',\n",
       " 'rougher.calculation.sulfate_to_au_concentrate',\n",
       " 'rougher.output.concentrate_ag',\n",
       " 'rougher.output.concentrate_au',\n",
       " 'rougher.output.concentrate_pb',\n",
       " 'rougher.output.concentrate_sol',\n",
       " 'rougher.output.recovery',\n",
       " 'rougher.output.tail_ag',\n",
       " 'rougher.output.tail_au',\n",
       " 'rougher.output.tail_pb',\n",
       " 'rougher.output.tail_sol',\n",
       " 'secondary_cleaner.output.tail_ag',\n",
       " 'secondary_cleaner.output.tail_au',\n",
       " 'secondary_cleaner.output.tail_pb',\n",
       " 'secondary_cleaner.output.tail_sol'}"
      ]
     },
     "execution_count": 13,
     "metadata": {},
     "output_type": "execute_result"
    }
   ],
   "source": [
    "missed_test_columns = set(list(df_train.columns.values))-set(list(df_test.columns.values))\n",
    "missed_test_columns"
   ]
  },
  {
   "cell_type": "markdown",
   "metadata": {
    "id": "z-1CFWu0Nd37"
   },
   "source": [
    "В тестовой выборке не доступны:\n",
    "\n",
    "Выходные характеристики каждого этапа - они станут известны только после этапа, поэтому модель на них обучать и тестировать нельзя.\n",
    "\n",
    "Также тестовой выборке недоступны расчетные характеристики флотации, видимо они вычисляются после этапа флотации."
   ]
  },
  {
   "cell_type": "markdown",
   "metadata": {
    "id": "Ih0mVkrf3uAp"
   },
   "source": [
    " Проведём предобработку данных. Нам необходимо:\n",
    " 1. добавить в тестовую выборку целевые признаки\n",
    " 2. убрать из тренировочной выборки лишние столбцы с онлайн признаками\n",
    " 3. убрать пропуски из выборок\n",
    "\n",
    "В таблицах есть столбцы с датой, опираясь на них будем заполнять пропуски и добавлять данные.\n"
   ]
  },
  {
   "cell_type": "markdown",
   "metadata": {
    "id": "WW1BBkiFW51W"
   },
   "source": [
    "### Подготовка тестовой выборки\n",
    "\n",
    "Добавим в тестовую выборку целевые признаки.\n",
    "\n",
    "Для этого создадим датафрейм на основе df_full, добавим туда только столбцы с целевыми признаками и датой. Присоединим новый датафрейм к тестовой выборке, опираясь на столбец с датой."
   ]
  },
  {
   "cell_type": "code",
   "execution_count": 14,
   "metadata": {
    "id": "MffZr3JAWVfD"
   },
   "outputs": [],
   "source": [
    "df_full_to_merge = df_full[['rougher.output.recovery','final.output.recovery','date']].copy()"
   ]
  },
  {
   "cell_type": "code",
   "execution_count": 15,
   "metadata": {
    "id": "UBrXAgEQ3uKC"
   },
   "outputs": [],
   "source": [
    "df_test =  df_test.merge(df_full_to_merge, how='inner', left_on=['date'], right_on=['date'])"
   ]
  },
  {
   "cell_type": "markdown",
   "metadata": {
    "id": "3VNBuTYq3uO5"
   },
   "source": [
    "### Подготовка тренировочной выборки\n",
    "\n",
    "Убрём из тренировочной выборки лишние столбцы с онлайн признаками"
   ]
  },
  {
   "cell_type": "code",
   "execution_count": 16,
   "metadata": {
    "id": "aUkvcdiiXgA3"
   },
   "outputs": [],
   "source": [
    "df_train = df_train.drop(online_target, axis=1)"
   ]
  },
  {
   "cell_type": "code",
   "execution_count": 17,
   "metadata": {
    "id": "K5ORjJrFcjso"
   },
   "outputs": [],
   "source": [
    "df_train =  df_train.merge(df_full_to_merge, how='inner', left_on=['date'], right_on=['date'])"
   ]
  },
  {
   "cell_type": "markdown",
   "metadata": {
    "id": "dfaj99uwdEEw"
   },
   "source": [
    "### Убрём пропуски из выборок"
   ]
  },
  {
   "cell_type": "markdown",
   "metadata": {
    "id": "PyoEu0txG7Gl"
   },
   "source": [
    "Посмотрим, есть ли пропуски в выборках:"
   ]
  },
  {
   "cell_type": "code",
   "execution_count": 18,
   "metadata": {
    "id": "WQrHkve3GsuA"
   },
   "outputs": [
    {
     "data": {
      "text/plain": [
       "date                                            0\n",
       "primary_cleaner.input.sulfate                  20\n",
       "primary_cleaner.input.depressant               32\n",
       "primary_cleaner.input.feed_size                 0\n",
       "primary_cleaner.input.xanthate                100\n",
       "primary_cleaner.state.floatbank8_a_air          4\n",
       "primary_cleaner.state.floatbank8_a_level        1\n",
       "primary_cleaner.state.floatbank8_b_air          4\n",
       "primary_cleaner.state.floatbank8_b_level        1\n",
       "primary_cleaner.state.floatbank8_c_air          2\n",
       "primary_cleaner.state.floatbank8_c_level        1\n",
       "primary_cleaner.state.floatbank8_d_air          3\n",
       "primary_cleaner.state.floatbank8_d_level        1\n",
       "rougher.input.feed_ag                           0\n",
       "rougher.input.feed_pb                         100\n",
       "rougher.input.feed_rate                         8\n",
       "rougher.input.feed_size                       144\n",
       "rougher.input.feed_sol                         78\n",
       "rougher.input.feed_au                           0\n",
       "rougher.input.floatbank10_sulfate              29\n",
       "rougher.input.floatbank10_xanthate              8\n",
       "rougher.input.floatbank11_sulfate              36\n",
       "rougher.input.floatbank11_xanthate            428\n",
       "rougher.state.floatbank10_a_air                 1\n",
       "rougher.state.floatbank10_a_level               1\n",
       "rougher.state.floatbank10_b_air                 1\n",
       "rougher.state.floatbank10_b_level               1\n",
       "rougher.state.floatbank10_c_air                 1\n",
       "rougher.state.floatbank10_c_level               1\n",
       "rougher.state.floatbank10_d_air                 0\n",
       "rougher.state.floatbank10_d_level               0\n",
       "rougher.state.floatbank10_e_air               436\n",
       "rougher.state.floatbank10_e_level               0\n",
       "rougher.state.floatbank10_f_air                 0\n",
       "rougher.state.floatbank10_f_level               0\n",
       "secondary_cleaner.state.floatbank2_a_air      217\n",
       "secondary_cleaner.state.floatbank2_a_level      1\n",
       "secondary_cleaner.state.floatbank2_b_air       21\n",
       "secondary_cleaner.state.floatbank2_b_level      1\n",
       "secondary_cleaner.state.floatbank3_a_air        4\n",
       "secondary_cleaner.state.floatbank3_a_level      1\n",
       "secondary_cleaner.state.floatbank3_b_air        1\n",
       "secondary_cleaner.state.floatbank3_b_level      1\n",
       "secondary_cleaner.state.floatbank4_a_air        6\n",
       "secondary_cleaner.state.floatbank4_a_level      1\n",
       "secondary_cleaner.state.floatbank4_b_air        1\n",
       "secondary_cleaner.state.floatbank4_b_level      1\n",
       "secondary_cleaner.state.floatbank5_a_air        1\n",
       "secondary_cleaner.state.floatbank5_a_level      1\n",
       "secondary_cleaner.state.floatbank5_b_air        1\n",
       "secondary_cleaner.state.floatbank5_b_level      1\n",
       "secondary_cleaner.state.floatbank6_a_air        2\n",
       "secondary_cleaner.state.floatbank6_a_level      1\n",
       "rougher.output.recovery                         0\n",
       "final.output.recovery                           0\n",
       "dtype: int64"
      ]
     },
     "execution_count": 18,
     "metadata": {},
     "output_type": "execute_result"
    }
   ],
   "source": [
    "df_train.isna().sum()"
   ]
  },
  {
   "cell_type": "code",
   "execution_count": 19,
   "metadata": {
    "id": "bscxftpHHDWl"
   },
   "outputs": [
    {
     "data": {
      "text/plain": [
       "date                                           0\n",
       "primary_cleaner.input.sulfate                  4\n",
       "primary_cleaner.input.depressant               5\n",
       "primary_cleaner.input.feed_size                0\n",
       "primary_cleaner.input.xanthate                 4\n",
       "primary_cleaner.state.floatbank8_a_air         0\n",
       "primary_cleaner.state.floatbank8_a_level       0\n",
       "primary_cleaner.state.floatbank8_b_air         0\n",
       "primary_cleaner.state.floatbank8_b_level       0\n",
       "primary_cleaner.state.floatbank8_c_air         0\n",
       "primary_cleaner.state.floatbank8_c_level       0\n",
       "primary_cleaner.state.floatbank8_d_air         0\n",
       "primary_cleaner.state.floatbank8_d_level       0\n",
       "rougher.input.feed_ag                          0\n",
       "rougher.input.feed_pb                          0\n",
       "rougher.input.feed_rate                        3\n",
       "rougher.input.feed_size                        1\n",
       "rougher.input.feed_sol                        21\n",
       "rougher.input.feed_au                          0\n",
       "rougher.input.floatbank10_sulfate              5\n",
       "rougher.input.floatbank10_xanthate             0\n",
       "rougher.input.floatbank11_sulfate              8\n",
       "rougher.input.floatbank11_xanthate            25\n",
       "rougher.state.floatbank10_a_air                0\n",
       "rougher.state.floatbank10_a_level              0\n",
       "rougher.state.floatbank10_b_air                0\n",
       "rougher.state.floatbank10_b_level              0\n",
       "rougher.state.floatbank10_c_air                0\n",
       "rougher.state.floatbank10_c_level              0\n",
       "rougher.state.floatbank10_d_air                0\n",
       "rougher.state.floatbank10_d_level              0\n",
       "rougher.state.floatbank10_e_air                0\n",
       "rougher.state.floatbank10_e_level              0\n",
       "rougher.state.floatbank10_f_air                0\n",
       "rougher.state.floatbank10_f_level              0\n",
       "secondary_cleaner.state.floatbank2_a_air       3\n",
       "secondary_cleaner.state.floatbank2_a_level     0\n",
       "secondary_cleaner.state.floatbank2_b_air       2\n",
       "secondary_cleaner.state.floatbank2_b_level     0\n",
       "secondary_cleaner.state.floatbank3_a_air       9\n",
       "secondary_cleaner.state.floatbank3_a_level     0\n",
       "secondary_cleaner.state.floatbank3_b_air       0\n",
       "secondary_cleaner.state.floatbank3_b_level     0\n",
       "secondary_cleaner.state.floatbank4_a_air       0\n",
       "secondary_cleaner.state.floatbank4_a_level     0\n",
       "secondary_cleaner.state.floatbank4_b_air       0\n",
       "secondary_cleaner.state.floatbank4_b_level     0\n",
       "secondary_cleaner.state.floatbank5_a_air       0\n",
       "secondary_cleaner.state.floatbank5_a_level     0\n",
       "secondary_cleaner.state.floatbank5_b_air       0\n",
       "secondary_cleaner.state.floatbank5_b_level     0\n",
       "secondary_cleaner.state.floatbank6_a_air       0\n",
       "secondary_cleaner.state.floatbank6_a_level     0\n",
       "rougher.output.recovery                        0\n",
       "final.output.recovery                          0\n",
       "dtype: int64"
      ]
     },
     "execution_count": 19,
     "metadata": {},
     "output_type": "execute_result"
    }
   ],
   "source": [
    "df_test.isna().sum()"
   ]
  },
  {
   "cell_type": "markdown",
   "metadata": {
    "id": "Eq-uYGolHIdE"
   },
   "source": [
    "В выборках есть пропуски. Данные сложные и точно понять, каким методом будет лучше заполнить пропуски однозначно нельзя. Можно заметить, что данные упорядочены по дате (признак date). Соседние по времени параметры часто похожи.\n",
    "Заполним пропуски параметрами, самыми близкими параметрами,которые находятся выше по столбцу."
   ]
  },
  {
   "cell_type": "code",
   "execution_count": 20,
   "metadata": {
    "id": "WBXUjBYjdGUn"
   },
   "outputs": [],
   "source": [
    "df_train = df_train.fillna(method=\"ffill\")"
   ]
  },
  {
   "cell_type": "code",
   "execution_count": 21,
   "metadata": {
    "id": "YkjVIQdldGYo"
   },
   "outputs": [],
   "source": [
    "df_test = df_test.fillna(method=\"ffill\")"
   ]
  },
  {
   "cell_type": "code",
   "execution_count": 22,
   "metadata": {
    "id": "2gT8CjfHRghp"
   },
   "outputs": [],
   "source": [
    "df_full = df_full.fillna(method=\"ffill\")"
   ]
  },
  {
   "cell_type": "code",
   "execution_count": 23,
   "metadata": {
    "id": "OmZvts3rINnL"
   },
   "outputs": [
    {
     "data": {
      "text/plain": [
       "date                                          0\n",
       "primary_cleaner.input.sulfate                 0\n",
       "primary_cleaner.input.depressant              0\n",
       "primary_cleaner.input.feed_size               0\n",
       "primary_cleaner.input.xanthate                0\n",
       "primary_cleaner.state.floatbank8_a_air        0\n",
       "primary_cleaner.state.floatbank8_a_level      0\n",
       "primary_cleaner.state.floatbank8_b_air        0\n",
       "primary_cleaner.state.floatbank8_b_level      0\n",
       "primary_cleaner.state.floatbank8_c_air        0\n",
       "primary_cleaner.state.floatbank8_c_level      0\n",
       "primary_cleaner.state.floatbank8_d_air        0\n",
       "primary_cleaner.state.floatbank8_d_level      0\n",
       "rougher.input.feed_ag                         0\n",
       "rougher.input.feed_pb                         0\n",
       "rougher.input.feed_rate                       0\n",
       "rougher.input.feed_size                       0\n",
       "rougher.input.feed_sol                        0\n",
       "rougher.input.feed_au                         0\n",
       "rougher.input.floatbank10_sulfate             0\n",
       "rougher.input.floatbank10_xanthate            0\n",
       "rougher.input.floatbank11_sulfate             0\n",
       "rougher.input.floatbank11_xanthate            0\n",
       "rougher.state.floatbank10_a_air               0\n",
       "rougher.state.floatbank10_a_level             0\n",
       "rougher.state.floatbank10_b_air               0\n",
       "rougher.state.floatbank10_b_level             0\n",
       "rougher.state.floatbank10_c_air               0\n",
       "rougher.state.floatbank10_c_level             0\n",
       "rougher.state.floatbank10_d_air               0\n",
       "rougher.state.floatbank10_d_level             0\n",
       "rougher.state.floatbank10_e_air               0\n",
       "rougher.state.floatbank10_e_level             0\n",
       "rougher.state.floatbank10_f_air               0\n",
       "rougher.state.floatbank10_f_level             0\n",
       "secondary_cleaner.state.floatbank2_a_air      0\n",
       "secondary_cleaner.state.floatbank2_a_level    0\n",
       "secondary_cleaner.state.floatbank2_b_air      0\n",
       "secondary_cleaner.state.floatbank2_b_level    0\n",
       "secondary_cleaner.state.floatbank3_a_air      0\n",
       "secondary_cleaner.state.floatbank3_a_level    0\n",
       "secondary_cleaner.state.floatbank3_b_air      0\n",
       "secondary_cleaner.state.floatbank3_b_level    0\n",
       "secondary_cleaner.state.floatbank4_a_air      0\n",
       "secondary_cleaner.state.floatbank4_a_level    0\n",
       "secondary_cleaner.state.floatbank4_b_air      0\n",
       "secondary_cleaner.state.floatbank4_b_level    0\n",
       "secondary_cleaner.state.floatbank5_a_air      0\n",
       "secondary_cleaner.state.floatbank5_a_level    0\n",
       "secondary_cleaner.state.floatbank5_b_air      0\n",
       "secondary_cleaner.state.floatbank5_b_level    0\n",
       "secondary_cleaner.state.floatbank6_a_air      0\n",
       "secondary_cleaner.state.floatbank6_a_level    0\n",
       "rougher.output.recovery                       0\n",
       "final.output.recovery                         0\n",
       "dtype: int64"
      ]
     },
     "execution_count": 23,
     "metadata": {},
     "output_type": "execute_result"
    }
   ],
   "source": [
    "df_train.isna().sum()"
   ]
  },
  {
   "cell_type": "code",
   "execution_count": 24,
   "metadata": {
    "id": "AuUCK_SjINnN"
   },
   "outputs": [
    {
     "data": {
      "text/plain": [
       "date                                          0\n",
       "primary_cleaner.input.sulfate                 0\n",
       "primary_cleaner.input.depressant              0\n",
       "primary_cleaner.input.feed_size               0\n",
       "primary_cleaner.input.xanthate                0\n",
       "primary_cleaner.state.floatbank8_a_air        0\n",
       "primary_cleaner.state.floatbank8_a_level      0\n",
       "primary_cleaner.state.floatbank8_b_air        0\n",
       "primary_cleaner.state.floatbank8_b_level      0\n",
       "primary_cleaner.state.floatbank8_c_air        0\n",
       "primary_cleaner.state.floatbank8_c_level      0\n",
       "primary_cleaner.state.floatbank8_d_air        0\n",
       "primary_cleaner.state.floatbank8_d_level      0\n",
       "rougher.input.feed_ag                         0\n",
       "rougher.input.feed_pb                         0\n",
       "rougher.input.feed_rate                       0\n",
       "rougher.input.feed_size                       0\n",
       "rougher.input.feed_sol                        0\n",
       "rougher.input.feed_au                         0\n",
       "rougher.input.floatbank10_sulfate             0\n",
       "rougher.input.floatbank10_xanthate            0\n",
       "rougher.input.floatbank11_sulfate             0\n",
       "rougher.input.floatbank11_xanthate            0\n",
       "rougher.state.floatbank10_a_air               0\n",
       "rougher.state.floatbank10_a_level             0\n",
       "rougher.state.floatbank10_b_air               0\n",
       "rougher.state.floatbank10_b_level             0\n",
       "rougher.state.floatbank10_c_air               0\n",
       "rougher.state.floatbank10_c_level             0\n",
       "rougher.state.floatbank10_d_air               0\n",
       "rougher.state.floatbank10_d_level             0\n",
       "rougher.state.floatbank10_e_air               0\n",
       "rougher.state.floatbank10_e_level             0\n",
       "rougher.state.floatbank10_f_air               0\n",
       "rougher.state.floatbank10_f_level             0\n",
       "secondary_cleaner.state.floatbank2_a_air      0\n",
       "secondary_cleaner.state.floatbank2_a_level    0\n",
       "secondary_cleaner.state.floatbank2_b_air      0\n",
       "secondary_cleaner.state.floatbank2_b_level    0\n",
       "secondary_cleaner.state.floatbank3_a_air      0\n",
       "secondary_cleaner.state.floatbank3_a_level    0\n",
       "secondary_cleaner.state.floatbank3_b_air      0\n",
       "secondary_cleaner.state.floatbank3_b_level    0\n",
       "secondary_cleaner.state.floatbank4_a_air      0\n",
       "secondary_cleaner.state.floatbank4_a_level    0\n",
       "secondary_cleaner.state.floatbank4_b_air      0\n",
       "secondary_cleaner.state.floatbank4_b_level    0\n",
       "secondary_cleaner.state.floatbank5_a_air      0\n",
       "secondary_cleaner.state.floatbank5_a_level    0\n",
       "secondary_cleaner.state.floatbank5_b_air      0\n",
       "secondary_cleaner.state.floatbank5_b_level    0\n",
       "secondary_cleaner.state.floatbank6_a_air      0\n",
       "secondary_cleaner.state.floatbank6_a_level    0\n",
       "rougher.output.recovery                       0\n",
       "final.output.recovery                         0\n",
       "dtype: int64"
      ]
     },
     "execution_count": 24,
     "metadata": {},
     "output_type": "execute_result"
    }
   ],
   "source": [
    "df_test.isna().sum()"
   ]
  },
  {
   "cell_type": "markdown",
   "metadata": {
    "id": "S7rebA4ZIVot"
   },
   "source": [
    "Теперь в обучающей и тестовой выборках нет пропусков."
   ]
  },
  {
   "cell_type": "markdown",
   "metadata": {
    "id": "Tw90SskwcV2r"
   },
   "source": [
    "## Анализ данных"
   ]
  },
  {
   "cell_type": "markdown",
   "metadata": {
    "id": "O72q-13q2lNS"
   },
   "source": [
    "### Изменение концентрация металлов и соли (Au, Ag, Pb, Sol) на различных этапах очистки. \n",
    "\n",
    "Построим гистограммы распределения концентрации металлов и соли для разных этапов очистки для таблицы с полными данными. параметры концентраций:\n",
    "\n",
    "- 'rougher.output.concentrate_ag',\n",
    "- 'rougher.output.concentrate_pb',\n",
    "- 'rougher.output.concentrate_sol',\n",
    "- 'rougher.output.concentrate_au',\n",
    "\n",
    "\n",
    "- 'primary_cleaner.output.concentrate_ag',\n",
    "- 'primary_cleaner.output.concentrate_pb',\n",
    "- 'primary_cleaner.output.concentrate_sol',\n",
    "- 'primary_cleaner.output.concentrate_au',\n",
    "\n",
    "\n",
    "- 'final.output.concentrate_ag',\n",
    "- 'final.output.concentrate_pb',\n",
    "- 'final.output.concentrate_sol',\n",
    "- 'final.output.concentrate_au',\n"
   ]
  },
  {
   "cell_type": "code",
   "execution_count": 25,
   "metadata": {
    "id": "AULlBKSBRdjz"
   },
   "outputs": [],
   "source": [
    "ag_list = ['rougher.input.feed_ag', 'rougher.output.concentrate_ag','primary_cleaner.output.concentrate_ag','final.output.concentrate_ag']\n",
    "pb_list = ['rougher.input.feed_pb', 'rougher.output.concentrate_pb','primary_cleaner.output.concentrate_pb','final.output.concentrate_pb']\n",
    "sol_list = ['rougher.input.feed_sol', 'rougher.output.concentrate_sol','primary_cleaner.output.concentrate_sol','final.output.concentrate_sol']\n",
    "au_list = ['rougher.input.feed_au', 'rougher.output.concentrate_au','primary_cleaner.output.concentrate_au','final.output.concentrate_au']"
   ]
  },
  {
   "cell_type": "code",
   "execution_count": 26,
   "metadata": {
    "id": "zK0DYBu9WlWt"
   },
   "outputs": [],
   "source": [
    "def concentrate_hist(concentrate_list, for_metall):\n",
    "  fig, axes = plt.subplots(1, 1, figsize=(8, 5))\n",
    "  fig.suptitle('Распределения концентрации для ' + for_metall)\n",
    "  for concentrate in concentrate_list:\n",
    "    sns.distplot(df_full[concentrate], kde=False)\n",
    "  plt.legend(concentrate_list)\n",
    "  plt.show()"
   ]
  },
  {
   "cell_type": "code",
   "execution_count": 27,
   "metadata": {
    "colab": {
     "base_uri": "https://localhost:8080/",
     "height": 371
    },
    "id": "prLRNqR-XHBK",
    "outputId": "6a3000df-1a35-49b7-da5b-10a50b41aa49"
   },
   "outputs": [
    {
     "data": {
      "image/png": "[encoded data removed]",
      "text/plain": [
       "<Figure size 576x360 with 1 Axes>"
      ]
     },
     "metadata": {
      "needs_background": "light"
     },
     "output_type": "display_data"
    }
   ],
   "source": [
    "concentrate_hist(ag_list, for_metall='ag')"
   ]
  },
  {
   "cell_type": "code",
   "execution_count": 28,
   "metadata": {
    "colab": {
     "base_uri": "https://localhost:8080/",
     "height": 371
    },
    "id": "AIWQD33HZZfL",
    "outputId": "fc53260c-9935-4267-c851-c8762c3c6dcf"
   },
   "outputs": [
    {
     "data": {
      "image/png": "[encoded data removed]",
      "text/plain": [
       "<Figure size 576x360 with 1 Axes>"
      ]
     },
     "metadata": {
      "needs_background": "light"
     },
     "output_type": "display_data"
    }
   ],
   "source": [
    "concentrate_hist(pb_list, for_metall='pb')"
   ]
  },
  {
   "cell_type": "code",
   "execution_count": 29,
   "metadata": {
    "colab": {
     "base_uri": "https://localhost:8080/",
     "height": 371
    },
    "id": "67nSk8WvZZlr",
    "outputId": "548c0a2f-1d80-4447-c938-6d1405fd9c71"
   },
   "outputs": [
    {
     "data": {
      "image/png": "[encoded data removed]",
      "text/plain": [
       "<Figure size 576x360 with 1 Axes>"
      ]
     },
     "metadata": {
      "needs_background": "light"
     },
     "output_type": "display_data"
    }
   ],
   "source": [
    "concentrate_hist(sol_list, for_metall='sol')"
   ]
  },
  {
   "cell_type": "code",
   "execution_count": 30,
   "metadata": {
    "colab": {
     "base_uri": "https://localhost:8080/",
     "height": 371
    },
    "id": "_83m_MtcZZr6",
    "outputId": "2b167012-f2b8-49a7-fa2d-a06a1d04a6d5"
   },
   "outputs": [
    {
     "data": {
      "image/png": "[encoded data removed]",
      "text/plain": [
       "<Figure size 576x360 with 1 Axes>"
      ]
     },
     "metadata": {
      "needs_background": "light"
     },
     "output_type": "display_data"
    }
   ],
   "source": [
    "concentrate_hist(au_list, for_metall='au')"
   ]
  },
  {
   "cell_type": "markdown",
   "metadata": {
    "id": "aYQsmGJRWXsC"
   },
   "source": [
    "По гистограммам распределений можно сказать, что концентрация серебра в руде после финальной очистки меньше концентрации до флотации примерно в полотора раза. Концентрация свинца подросла после флотации и первичной очистки, а дальше не меняется. Концентрация солей в руде упала во время флотации и первичной очистки почти в четыре раза и такой и остаётся при дальнейших очистках.\n",
    "\n",
    "Концентрация золота после каждого этапа очистки растёт. Итоговая концентрация выросла примерно в пять раз по сравнению с концентрацией до флотации."
   ]
  },
  {
   "cell_type": "markdown",
   "metadata": {
    "id": "8uuYSyUL2mFo"
   },
   "source": [
    "### Сравнение распределения размеров гранул сырья на обучающей и тестовой выборках. \n",
    "\n",
    "Если распределения сильно отличаются друг от друга, оценка модели будет неправильной, проверим распределения.\n",
    "Гранулы сырья это параметр rougher.input.feed_size."
   ]
  },
  {
   "cell_type": "code",
   "execution_count": 31,
   "metadata": {},
   "outputs": [
    {
     "data": {
      "image/png": "[encoded data removed]",
      "text/plain": [
       "<Figure size 576x360 with 1 Axes>"
      ]
     },
     "metadata": {
      "needs_background": "light"
     },
     "output_type": "display_data"
    }
   ],
   "source": [
    "fig, ax = plt.subplots(1, 1, figsize=(8, 5))\n",
    "fig.suptitle('Распределения размеров гранул сырья на обучающей и тестовой выборках')\n",
    "sns.distplot(df_test['rougher.input.feed_size'], kde=False, color=\"r\", ax=ax)\n",
    "sns.distplot(df_train['rougher.input.feed_size'], kde=False,color=\"y\", ax=ax)\n",
    "ax.set_xlim(0, 150)\n",
    "plt.legend(['df_test','df_train'])\n",
    "plt.show()"
   ]
  },
  {
   "cell_type": "markdown",
   "metadata": {
    "id": "PxE7EdCFw3Bj"
   },
   "source": [
    "Распределения размеров гранул сырья в тестовой и в тренировочной выборках немного различаются, но в целом похожи. Среднее размера гранул в тренировочной выборке чуть больше, чем в тесовой. Модель должна дать адекватную оценку."
   ]
  },
  {
   "cell_type": "markdown",
   "metadata": {
    "id": "GZSKrg8H2mLy"
   },
   "source": [
    "### Исследование суммарной концентрацию всех веществ на разных стадиях: в сырье, в черновом и финальном концентратах."
   ]
  },
  {
   "cell_type": "markdown",
   "metadata": {
    "id": "7X4h55Dl4Hdp"
   },
   "source": [
    "Исследуем суммарную концентрацию всех веществ на разных стадиях очистки на наличие аномальных значений. Добавим в таблицу со всеми данными столбцы с суммарной концентрацией для каждого этапа очистки. Посмтроим гистограммы распределений для новых столбцов."
   ]
  },
  {
   "cell_type": "code",
   "execution_count": 32,
   "metadata": {
    "id": "st9ANYhoqiMe"
   },
   "outputs": [],
   "source": [
    "df_full['rougher.calculation.sum_concentrate'] = (df_full['rougher.output.concentrate_ag'] + df_full['rougher.output.concentrate_pb'] + \n",
    "                                                  df_full['rougher.output.concentrate_sol'] + df_full['rougher.output.concentrate_au'])\n",
    "\n",
    "df_full['primary_cleaner.calculation.sum_concentrate'] = (df_full['primary_cleaner.output.concentrate_ag'] + df_full['primary_cleaner.output.concentrate_pb'] + \n",
    "                                                          df_full['primary_cleaner.output.concentrate_sol'] + df_full['primary_cleaner.output.concentrate_au'])\n",
    "\n",
    "df_full['final.calculation.sum_concentrate'] = (df_full['final.output.concentrate_ag'] + df_full['final.output.concentrate_pb'] + \n",
    "                                                df_full['final.output.concentrate_sol'] + df_full['final.output.concentrate_au'])"
   ]
  },
  {
   "cell_type": "code",
   "execution_count": 33,
   "metadata": {},
   "outputs": [
    {
     "data": {
      "image/png": "[encoded data removed]",
      "text/plain": [
       "<Figure size 576x360 with 1 Axes>"
      ]
     },
     "metadata": {
      "needs_background": "light"
     },
     "output_type": "display_data"
    }
   ],
   "source": [
    "fig, axes = plt.subplots(1, 1, figsize=(8, 5))\n",
    "fig.suptitle('Распределения концентрации всех веществ для каждого этапа')\n",
    "sns.distplot(df_full['rougher.calculation.sum_concentrate'], kde=False, color=\"r\")\n",
    "sns.distplot(df_full['primary_cleaner.calculation.sum_concentrate'], kde=False, color=\"b\")\n",
    "sns.distplot(df_full['final.calculation.sum_concentrate'], kde=False, color=\"g\")\n",
    "plt.legend(['rougher','primary_cleaner', 'final'])\n",
    "plt.show()"
   ]
  },
  {
   "cell_type": "markdown",
   "metadata": {
    "id": "1MU17l1fqiUQ"
   },
   "source": [
    "В данных присутствует выброс в нуле, похоже здесь при измерении концентраций был какой-то сбой. Возможно, вся строка со сбоем не правильная. Удалим из данных строки с нулевой суммарной концентрацией.\n",
    "\n",
    "Для таблицы с полными данными применим фильтрацию."
   ]
  },
  {
   "cell_type": "code",
   "execution_count": 34,
   "metadata": {
    "id": "UyzGmYtmv0WL"
   },
   "outputs": [],
   "source": [
    "df_full_use = df_full[((df_full['rougher.output.concentrate_ag'] + df_full['rougher.output.concentrate_pb'] + \n",
    "                                      df_full['rougher.output.concentrate_sol'] + df_full['rougher.output.concentrate_au'])>0)]"
   ]
  },
  {
   "cell_type": "code",
   "execution_count": 35,
   "metadata": {
    "colab": {
     "base_uri": "https://localhost:8080/"
    },
    "id": "LUSfIpkSv0Xt",
    "outputId": "d5914260-7337-4b65-e44c-1c7172757a0f"
   },
   "outputs": [
    {
     "data": {
      "text/plain": [
       "19439"
      ]
     },
     "execution_count": 35,
     "metadata": {},
     "output_type": "execute_result"
    }
   ],
   "source": [
    "df_full['date'].count()"
   ]
  },
  {
   "cell_type": "code",
   "execution_count": 36,
   "metadata": {
    "colab": {
     "base_uri": "https://localhost:8080/"
    },
    "id": "cuAOna4Sv0Yp",
    "outputId": "1f223738-d198-4b52-91b0-01838eb47df6"
   },
   "outputs": [
    {
     "data": {
      "text/plain": [
       "19045"
      ]
     },
     "execution_count": 36,
     "metadata": {},
     "output_type": "execute_result"
    }
   ],
   "source": [
    "df_full_use['date'].count()"
   ]
  },
  {
   "cell_type": "markdown",
   "metadata": {
    "id": "hzX_1gmJQeqt"
   },
   "source": [
    "Количество удалённых строк около 400, что соответствует гистограмме. Удалим эти строки из двух других таблиц:"
   ]
  },
  {
   "cell_type": "code",
   "execution_count": 37,
   "metadata": {
    "colab": {
     "base_uri": "https://localhost:8080/"
    },
    "id": "UiTVdyVXOMCs",
    "outputId": "be09577e-0185-4fed-a1a0-0bc5a919e900"
   },
   "outputs": [
    {
     "data": {
      "text/plain": [
       "5290"
      ]
     },
     "execution_count": 37,
     "metadata": {},
     "output_type": "execute_result"
    }
   ],
   "source": [
    "df_test['date'].count()"
   ]
  },
  {
   "cell_type": "code",
   "execution_count": 38,
   "metadata": {
    "id": "K8Pe1LhGOMGV"
   },
   "outputs": [],
   "source": [
    "df_test = df_test.loc[df_test['date'].isin(df_full_use['date'])]"
   ]
  },
  {
   "cell_type": "code",
   "execution_count": 39,
   "metadata": {
    "colab": {
     "base_uri": "https://localhost:8080/"
    },
    "id": "zPXPeohYOMJM",
    "outputId": "162fe71c-b5b9-4116-cb36-f363fa64181c"
   },
   "outputs": [
    {
     "data": {
      "text/plain": [
       "5193"
      ]
     },
     "execution_count": 39,
     "metadata": {},
     "output_type": "execute_result"
    }
   ],
   "source": [
    "df_test['date'].count()"
   ]
  },
  {
   "cell_type": "code",
   "execution_count": 40,
   "metadata": {
    "colab": {
     "base_uri": "https://localhost:8080/"
    },
    "id": "kEHzWJ8NQsAs",
    "outputId": "c20f10f3-9846-4dec-eb91-56d99a8e7096"
   },
   "outputs": [
    {
     "data": {
      "text/plain": [
       "14149"
      ]
     },
     "execution_count": 40,
     "metadata": {},
     "output_type": "execute_result"
    }
   ],
   "source": [
    "df_train['date'].count()"
   ]
  },
  {
   "cell_type": "code",
   "execution_count": 41,
   "metadata": {
    "id": "ZFcqDWMHQsAt"
   },
   "outputs": [],
   "source": [
    "df_train = df_train.loc[df_train['date'].isin(df_full_use['date'])]"
   ]
  },
  {
   "cell_type": "code",
   "execution_count": 42,
   "metadata": {
    "colab": {
     "base_uri": "https://localhost:8080/"
    },
    "id": "cG9SYafUQsAu",
    "outputId": "6763e2b4-5784-46a3-c7e3-209f8221f241"
   },
   "outputs": [
    {
     "data": {
      "text/plain": [
       "13852"
      ]
     },
     "execution_count": 42,
     "metadata": {},
     "output_type": "execute_result"
    }
   ],
   "source": [
    "df_train['date'].count()"
   ]
  },
  {
   "cell_type": "markdown",
   "metadata": {
    "id": "b6aXg6_jOML3"
   },
   "source": [
    "На основе исследования суммарной концентрации веществ в руде после этапов очистки были найдены и удалены выбросы в значениях для каждой таблицы."
   ]
  },
  {
   "cell_type": "markdown",
   "metadata": {
    "id": "KPjsjJNi2SX7"
   },
   "source": [
    "## Модель"
   ]
  },
  {
   "cell_type": "markdown",
   "metadata": {
    "id": "7o2F0ptWy7BX"
   },
   "source": [
    "### Запишем функции для вычисления итоговой sMAPE (финальное симметричное среднее абсолютное процентное отклонение)."
   ]
  },
  {
   "cell_type": "markdown",
   "metadata": {
    "id": "Bfhcr0UdddIl"
   },
   "source": [
    "Чтобы оценивать модели, введём новую метрику sMAPE, опишем её в функциях:"
   ]
  },
  {
   "cell_type": "code",
   "execution_count": 43,
   "metadata": {
    "id": "K9jZSDuuTZlp"
   },
   "outputs": [],
   "source": [
    "def sMAPE (true, predict):\n",
    "  \"\"\"\n",
    "    input:        true    - реальные значения целевого признака \n",
    "                  predict - предсказания модели\n",
    "    output:       sMAPE - симметричное среднее абсолютное процентное отклонение\n",
    "    description:  функция рассчитывает и возвращает метрику sMAPE \n",
    "                  по реальным значениям целевого признака и предсказаниям модели\n",
    "  \"\"\"\n",
    "  return 1 / len(true) * sum( abs(true - predict) / ( (abs(true) + abs(predict)) * 0.5) ) * 100"
   ]
  },
  {
   "cell_type": "code",
   "execution_count": 44,
   "metadata": {
    "id": "ZQ-NzSm-TZsE"
   },
   "outputs": [],
   "source": [
    "def final_sMAPE(smape_rougher, smape_final):\n",
    "    \"\"\"\n",
    "    input:        smape_rougher - эффективность обогащения после флотации\n",
    "                  smape_final - финальная эффективность обогащения\n",
    "    output:       final_sMAPE - финальное симметричное среднее абсолютное процентное отклонение\n",
    "    description:  функция рассчитывает и возвращает метрику final_sMAPE \n",
    "                  по реальным значениям целевых признаков и предсказаниям моделей\n",
    "    \"\"\"\n",
    "    return 0.25 * smape_rougher + 0.75 * smape_final"
   ]
  },
  {
   "cell_type": "markdown",
   "metadata": {
    "id": "esLcWArWy7E1"
   },
   "source": [
    "### Обучение нескольких моделей.\n",
    "\n",
    "Обучим и оценим их качество кросс-валидацией. \n",
    "\n",
    "Наши целевые признаки:\n",
    "\n",
    "rougher.output.recovery;\n",
    "final.output.recovery.\n"
   ]
  },
  {
   "cell_type": "markdown",
   "metadata": {
    "id": "YZD8u_zkcV2s"
   },
   "source": [
    "### Разобьём данные обучающей и тестовой выборки в соответствии с целевыми признаками:"
   ]
  },
  {
   "cell_type": "markdown",
   "metadata": {
    "id": "ka2jsHu7hHLN"
   },
   "source": [
    "Поскольку нам необходимо предсказывать два целевых признака, то для обучения нам необходимо разбивать тестовую выборку по-разному в зависимости от целевого признака. Напишем функцию для разделения выборки на признаки и целевой признак, применим её к нашим признакам.\n",
    "\n",
    "Уберём из выборок признак даты, для обучения он не нужен."
   ]
  },
  {
   "cell_type": "code",
   "execution_count": 45,
   "metadata": {
    "id": "LbHPxm-Dm74y"
   },
   "outputs": [],
   "source": [
    "# функция для разбиения на выборки по целевым признакам\n",
    "def features_target_split (df, target):\n",
    "  features = df.drop([target, 'date'], axis=1)\n",
    "  target = df[target]\n",
    "\n",
    "  print('размер выборок:')\n",
    "  print('features_test.shape: ', features.shape)\n",
    "  print('target_test.shape: ', target.shape)\n",
    "\n",
    "  return features, target"
   ]
  },
  {
   "cell_type": "code",
   "execution_count": 46,
   "metadata": {
    "colab": {
     "base_uri": "https://localhost:8080/"
    },
    "id": "_zl5MQrKjSaj",
    "outputId": "990439d9-00ce-45c0-cd5b-dc7d92c8ac02"
   },
   "outputs": [
    {
     "name": "stdout",
     "output_type": "stream",
     "text": [
      "размер выборок:\n",
      "features_test.shape:  (13852, 53)\n",
      "target_test.shape:  (13852,)\n"
     ]
    }
   ],
   "source": [
    "features_train_r, target_train_r = features_target_split (df_train, 'rougher.output.recovery')"
   ]
  },
  {
   "cell_type": "code",
   "execution_count": 47,
   "metadata": {
    "colab": {
     "base_uri": "https://localhost:8080/"
    },
    "id": "bppnitSCjSa0",
    "outputId": "3ce70183-76c0-4e00-d05c-b3b894527628"
   },
   "outputs": [
    {
     "name": "stdout",
     "output_type": "stream",
     "text": [
      "размер выборок:\n",
      "features_test.shape:  (13852, 53)\n",
      "target_test.shape:  (13852,)\n"
     ]
    }
   ],
   "source": [
    "features_train_f, target_train_f = features_target_split (df_train, 'final.output.recovery')"
   ]
  },
  {
   "cell_type": "code",
   "execution_count": 48,
   "metadata": {
    "colab": {
     "base_uri": "https://localhost:8080/"
    },
    "id": "8g8bhSNem7_E",
    "outputId": "9f09e25b-b702-48c1-a98b-c723d506b8ce"
   },
   "outputs": [
    {
     "name": "stdout",
     "output_type": "stream",
     "text": [
      "размер выборок:\n",
      "features_test.shape:  (5193, 53)\n",
      "target_test.shape:  (5193,)\n"
     ]
    }
   ],
   "source": [
    "features_test_r, target_test_r = features_target_split (df_test, 'rougher.output.recovery')"
   ]
  },
  {
   "cell_type": "code",
   "execution_count": 49,
   "metadata": {
    "colab": {
     "base_uri": "https://localhost:8080/"
    },
    "id": "nbjS7JjYg_P9",
    "outputId": "4f06c43f-4a9f-4de0-da7f-b8c3cfda3a6f"
   },
   "outputs": [
    {
     "name": "stdout",
     "output_type": "stream",
     "text": [
      "размер выборок:\n",
      "features_test.shape:  (5193, 53)\n",
      "target_test.shape:  (5193,)\n"
     ]
    }
   ],
   "source": [
    "features_test_f, target_test_f = features_target_split (df_test, 'final.output.recovery')"
   ]
  },
  {
   "cell_type": "markdown",
   "metadata": {
    "id": "yuClZeVsMGPF"
   },
   "source": [
    "### Отмасштабируем численные признаки"
   ]
  },
  {
   "cell_type": "markdown",
   "metadata": {
    "id": "2kPh6Xzuh4VH"
   },
   "source": [
    "Все признаки являются числовыми"
   ]
  },
  {
   "cell_type": "code",
   "execution_count": 50,
   "metadata": {
    "id": "d4aTiVPrkmQG"
   },
   "outputs": [],
   "source": [
    "numeric_r = features_train_r.columns\n",
    "numeric_f = features_train_f.columns"
   ]
  },
  {
   "cell_type": "markdown",
   "metadata": {
    "id": "urJdg4j7lQDz"
   },
   "source": [
    "Отмасштабируем признаки в тренировочных выборках для флотации и финальной очистки:"
   ]
  },
  {
   "cell_type": "code",
   "execution_count": 51,
   "metadata": {
    "colab": {
     "base_uri": "https://localhost:8080/"
    },
    "id": "L7yCIpz_MGTJ",
    "outputId": "395b7ff6-716a-4c98-9d02-bcd07018556f"
   },
   "outputs": [
    {
     "data": {
      "text/plain": [
       "StandardScaler()"
      ]
     },
     "execution_count": 51,
     "metadata": {},
     "output_type": "execute_result"
    }
   ],
   "source": [
    "scaler_r = StandardScaler()\n",
    "scaler_r.fit(features_train_r[numeric_r]) "
   ]
  },
  {
   "cell_type": "code",
   "execution_count": 52,
   "metadata": {
    "colab": {
     "base_uri": "https://localhost:8080/"
    },
    "id": "oPIQYerIkilV",
    "outputId": "2fdd729a-968b-432a-c44b-2f92b55762db"
   },
   "outputs": [
    {
     "data": {
      "text/plain": [
       "StandardScaler()"
      ]
     },
     "execution_count": 52,
     "metadata": {},
     "output_type": "execute_result"
    }
   ],
   "source": [
    "scaler_f = StandardScaler()\n",
    "scaler_f.fit(features_train_f[numeric_f]) "
   ]
  },
  {
   "cell_type": "markdown",
   "metadata": {
    "id": "Ggug53tFN3kC"
   },
   "source": [
    "Применим масштабирование на обучающие и тестовые признаки для флотации и финальной очистки:"
   ]
  },
  {
   "cell_type": "code",
   "execution_count": 53,
   "metadata": {
    "id": "xWhQGCJ-NnoY"
   },
   "outputs": [],
   "source": [
    "features_train_r[numeric_r] = scaler_r.transform(features_train_r[numeric_r])\n",
    "features_test_r[numeric_r] = scaler_r.transform(features_test_r[numeric_r])"
   ]
  },
  {
   "cell_type": "code",
   "execution_count": 54,
   "metadata": {
    "id": "UwulAlKKkdkf"
   },
   "outputs": [],
   "source": [
    "features_train_f[numeric_r] = scaler_f.transform(features_train_f[numeric_f])\n",
    "features_test_f[numeric_r] = scaler_f.transform(features_test_f[numeric_f])"
   ]
  },
  {
   "cell_type": "markdown",
   "metadata": {
    "id": "GxYec1CBUVjg"
   },
   "source": [
    "Разделили объекты на выборки согласно этапу процесса, положили их в отдельные переменны:\n",
    " - выборки для модели процесса флотации,\n",
    "- features_train_r, \n",
    "- target_train_r,\n",
    "- features_test_r,\n",
    "- target_test_r\n",
    " - выборки для модели процесса финальной очистки.\n",
    "- features_train_f,\n",
    "- target_train_f,\n",
    "- features_test_f,\n",
    "- target_test_f \n",
    "\n",
    "Отмасштабировали численные признаки, чтобы модель училась более корректно."
   ]
  },
  {
   "cell_type": "markdown",
   "metadata": {
    "id": "cQm8ya3f4Eub"
   },
   "source": [
    "### Решающее дерево"
   ]
  },
  {
   "cell_type": "markdown",
   "metadata": {
    "id": "OEuOvfuffPML"
   },
   "source": [
    "Построим и обучим модель на основе решающего дерева. Для оценки качества модели будем использовать кросс валидацию."
   ]
  },
  {
   "cell_type": "markdown",
   "metadata": {
    "id": "AYkyHlUAWo9T"
   },
   "source": [
    "Будем смотреть на метрики sMAPE и final sMAPE.\n"
   ]
  },
  {
   "cell_type": "markdown",
   "metadata": {
    "id": "B7yW4NtXe5X0"
   },
   "source": [
    "Чтобы получить максимально высокое качество предсказания нужно перебрать в алгоритме обучения разные варианты глубины дерева. Будем рассматривать глубину дерева до 11."
   ]
  },
  {
   "cell_type": "markdown",
   "metadata": {
    "id": "CK2SPKOrx5FX"
   },
   "source": [
    "Дерево решений для флотации:"
   ]
  },
  {
   "cell_type": "code",
   "execution_count": 70,
   "metadata": {
    "colab": {
     "base_uri": "https://localhost:8080/"
    },
    "id": "KE6mMusLft2K",
    "outputId": "60ea90b5-15b9-482c-81c7-bf1989fa5847"
   },
   "outputs": [
    {
     "name": "stdout",
     "output_type": "stream",
     "text": [
      "sMape для тренировочной выборки: 6.69, глубина дерева: 1\n",
      "sMape для тренировочной выборки: 6.06, глубина дерева: 2\n",
      "sMape для тренировочной выборки: 6.40, глубина дерева: 3\n",
      "sMape для тренировочной выборки: 6.83, глубина дерева: 4\n",
      "sMape для тренировочной выборки: 6.67, глубина дерева: 5\n",
      "sMape для тренировочной выборки: 6.45, глубина дерева: 6\n",
      "sMape для тренировочной выборки: 6.82, глубина дерева: 7\n",
      "sMape для тренировочной выборки: 7.03, глубина дерева: 8\n",
      "sMape для тренировочной выборки: 7.15, глубина дерева: 9\n",
      "sMape для тренировочной выборки: 8.25, глубина дерева: 10\n",
      "sMape для тренировочной выборки: 8.65, глубина дерева: 11\n",
      "\n",
      "Лучшая глубина дерева, 2, а sMAPE 6.06\n"
     ]
    }
   ],
   "source": [
    "best_model_tree_r = None\n",
    "best_result_r = 100\n",
    "best_depth = None\n",
    "for depth in range(1, 12):\n",
    "  model_tree_r = DecisionTreeRegressor(random_state=12345, max_depth=depth) \n",
    "  model_tree_r.fit(features_train_r, target_train_r) # обучим модель на тренировочных данных\n",
    "\n",
    "  train_predictions = model_tree_r.predict(features_train_r) # получим предсказания модели\n",
    "  \n",
    "  smape_tree_r = abs(cross_val_score(model_tree_r, features_train_r, target_train_r,   # посчитаем качество модели sMAPE\n",
    "                             scoring = make_scorer(sMAPE, greater_is_better=False),\n",
    "                             cv = 5,\n",
    "                             n_jobs = -1).mean()) \n",
    "   \n",
    "  print (f'sMape для тренировочной выборки: {smape_tree_r:.2f}, глубина дерева: {depth}')\n",
    "  if smape_tree_r < best_result_r:\n",
    "    best_model_tree_r = model_tree_r\n",
    "    best_result_r = smape_tree_r\n",
    "    best_depth = depth\n",
    "        \n",
    "print()\n",
    "print(f\"Лучшая глубина дерева, {best_depth}, а sMAPE {best_result_r:.2f}\")"
   ]
  },
  {
   "cell_type": "markdown",
   "metadata": {
    "id": "xcMXPLaFx-Hs"
   },
   "source": [
    "Дерево решений для финальной очистки:"
   ]
  },
  {
   "cell_type": "code",
   "execution_count": 71,
   "metadata": {
    "colab": {
     "base_uri": "https://localhost:8080/"
    },
    "id": "4GoTy2qxx-Ht",
    "outputId": "2ed796c2-908c-4812-f388-1040d3904ada"
   },
   "outputs": [
    {
     "name": "stdout",
     "output_type": "stream",
     "text": [
      "sMape для тренировочной выборки: 10.15, глубина дерева: 1\n",
      "sMape для тренировочной выборки: 9.32, глубина дерева: 2\n",
      "sMape для тренировочной выборки: 9.03, глубина дерева: 3\n",
      "\n",
      "Лучшая глубина дерева, 3, а sMAPE 9.03\n"
     ]
    }
   ],
   "source": [
    "best_model_tree_f = None\n",
    "best_result_f = 100\n",
    "best_depth = None\n",
    "for depth in range(1, 4):\n",
    "  model_tree_f = DecisionTreeRegressor(random_state=12345, max_depth=depth) \n",
    "  model_tree_f.fit(features_train_f, target_train_f) # обучим модель на тренировочных данных\n",
    "\n",
    "  train_predictions = model_tree_f.predict(features_train_f) # получим предсказания модели\n",
    "  \n",
    "  smape_tree_f = abs(cross_val_score(model_tree_f, features_train_f, target_train_f,   # посчитаем качество модели sMAPE\n",
    "                             scoring = make_scorer(sMAPE, greater_is_better=False),\n",
    "                             cv = 5,\n",
    "                             n_jobs = -1).mean()) \n",
    "   \n",
    "  print (f'sMape для тренировочной выборки: {smape_tree_f:.2f}, глубина дерева: {depth}')\n",
    "  if smape_tree_f < best_result_f:\n",
    "    best_model_tree_f = model_tree_f\n",
    "    best_result_f = smape_tree_f\n",
    "    best_depth = depth\n",
    "        \n",
    "print()\n",
    "print(f\"Лучшая глубина дерева, {best_depth}, а sMAPE {best_result_f:.2f}\")"
   ]
  },
  {
   "cell_type": "markdown",
   "metadata": {
    "id": "97xEE9EFfMeq"
   },
   "source": [
    "Здесь максимальная глубина 3, поскольку при большей глубине для тренировочной выборки, или тестовой sMAPE = Nan ."
   ]
  },
  {
   "cell_type": "code",
   "execution_count": 72,
   "metadata": {
    "colab": {
     "base_uri": "https://localhost:8080/"
    },
    "id": "j1XbfbhFrenw",
    "outputId": "29d831e5-68c7-4c29-aefa-6734994aa875"
   },
   "outputs": [
    {
     "name": "stdout",
     "output_type": "stream",
     "text": [
      "Решающее дерево:\n",
      "    sMAPE rougher: 6.06 %\n",
      "    sMAPE final_clean: 9.03 %\n",
      "Final sMAPE: 8.29 %\n"
     ]
    }
   ],
   "source": [
    "print('Решающее дерево:')\n",
    "print('    sMAPE rougher: {:.2f} %'.format(best_result_r))\n",
    "print('    sMAPE final_clean: {:.2f} %'.format(best_result_f))\n",
    "print('Final sMAPE: {:.2f} %'.format(final_sMAPE(best_result_r, best_result_f)))"
   ]
  },
  {
   "cell_type": "markdown",
   "metadata": {
    "id": "BSim9gb_hFcJ"
   },
   "source": [
    "### Случайный лес"
   ]
  },
  {
   "cell_type": "markdown",
   "metadata": {
    "id": "BYkXtOQfhFrJ"
   },
   "source": [
    "Попробуем другой алгоритм классификации — случайный лес."
   ]
  },
  {
   "cell_type": "code",
   "execution_count": 59,
   "metadata": {
    "colab": {
     "base_uri": "https://localhost:8080/"
    },
    "id": "_aHYQMwYkrdu",
    "outputId": "c222dc5b-2e06-4104-f5b1-37571f41db4f"
   },
   "outputs": [
    {
     "name": "stdout",
     "output_type": "stream",
     "text": [
      "sMAPE наилучшей модели на тренировочной выборке: 5.76. Количество деревьев: 20, Максимальная глубина: 4\n"
     ]
    }
   ],
   "source": [
    "best_model_forest_r = None\n",
    "best_result_forest_r = 100\n",
    "best_est = 0\n",
    "best_depth = 0\n",
    "for est in range(10, 31, 10):\n",
    "  for depth in range (1, 5):\n",
    "    model_forest_r = RandomForestRegressor(random_state=12345, n_estimators=est, max_depth=depth) \n",
    "    model_forest_r.fit(features_train_r, target_train_r) \n",
    "    valid_predictions = model_forest_r.predict(features_train_r) \n",
    "    smape_forest_r = abs(cross_val_score(model_forest_r, features_train_r, target_train_r, \n",
    "                             scoring = make_scorer(sMAPE, greater_is_better=False),\n",
    "                             cv = 5,\n",
    "                             n_jobs = -1).mean())\n",
    "    if smape_forest_r < best_result_forest_r:\n",
    "        best_model_forest_r = model_forest_r  \n",
    "        best_result_forest_r = smape_forest_r  \n",
    "        best_est = est\n",
    "        best_depth = depth\n",
    "\n",
    "print(f\"sMAPE наилучшей модели на тренировочной выборке: {best_result_forest_r:.2f}. Количество деревьев: {best_est}, Максимальная глубина: {best_depth}\")"
   ]
  },
  {
   "cell_type": "code",
   "execution_count": 60,
   "metadata": {
    "id": "_51_5wDe7o4C"
   },
   "outputs": [
    {
     "name": "stdout",
     "output_type": "stream",
     "text": [
      "sMAPE наилучшей модели на тренировочной выборке: 8.65. Количество деревьев: 30, Максимальная глубина: 3\n"
     ]
    }
   ],
   "source": [
    "best_model_forest_f = None\n",
    "best_result_forest_f = 100\n",
    "best_est = 0\n",
    "best_depth = 0\n",
    "for est in range(10, 31, 10):\n",
    "  for depth in range (1, 5):\n",
    "    model_forest_f = RandomForestRegressor(random_state=12345, n_estimators=est, max_depth=depth) \n",
    "    model_forest_f.fit(features_train_f, target_train_f) \n",
    "    valid_predictions = model_forest_f.predict(features_train_f) \n",
    "    smape_forest_f = abs(cross_val_score(model_forest_f, features_train_f, target_train_f, \n",
    "                             scoring = make_scorer(sMAPE, greater_is_better=False),\n",
    "                             cv = 5,\n",
    "                             n_jobs = -1).mean())\n",
    "    if smape_forest_f < best_result_forest_f:\n",
    "        best_model_forest_f = model_forest_f  \n",
    "        best_result_forest_f = smape_forest_f  \n",
    "        best_est = est\n",
    "        best_depth = depth\n",
    "\n",
    "print(f\"sMAPE наилучшей модели на тренировочной выборке: {best_result_forest_f:.2f}. Количество деревьев: {best_est}, Максимальная глубина: {best_depth}\")"
   ]
  },
  {
   "cell_type": "code",
   "execution_count": 64,
   "metadata": {
    "id": "5FDxQIPr77Xz"
   },
   "outputs": [
    {
     "name": "stdout",
     "output_type": "stream",
     "text": [
      "Случайный лес:\n",
      "    sMAPE rougher: 5.76 %\n",
      "    sMAPE cleaner: 8.65 %\n",
      "Final sMAPE: 7.93 %\n"
     ]
    }
   ],
   "source": [
    "print('Случайный лес:')\n",
    "print('    sMAPE rougher: {:.2f} %'.format(best_result_forest_r))\n",
    "print('    sMAPE cleaner: {:.2f} %'.format(best_result_forest_f))\n",
    "print('Final sMAPE: {:.2f} %'.format(final_sMAPE(best_result_forest_r, best_result_forest_f)))"
   ]
  },
  {
   "cell_type": "markdown",
   "metadata": {
    "id": "2eIZvmc_hFwp"
   },
   "source": [
    "### Линейная регрессия"
   ]
  },
  {
   "cell_type": "markdown",
   "metadata": {
    "id": "6KVC6LDnmTUb"
   },
   "source": [
    "Посмотрим на модель линейной регрессии для двух этапов:"
   ]
  },
  {
   "cell_type": "code",
   "execution_count": 65,
   "metadata": {
    "id": "1gDcq4SGtGGS"
   },
   "outputs": [],
   "source": [
    "lm_r = LinearRegression()\n",
    "\n",
    "# Обучим модель для этапа флотации\n",
    "smape_lm_r = cross_val_score(lm_r, features_train_r, target_train_r, \n",
    "                             scoring = make_scorer(sMAPE),\n",
    "                             cv = 5,\n",
    "                             n_jobs = -1).mean()"
   ]
  },
  {
   "cell_type": "code",
   "execution_count": 66,
   "metadata": {
    "id": "78TPem7gtGzd"
   },
   "outputs": [],
   "source": [
    "lm_f = LinearRegression()\n",
    "\n",
    "# Обучим модель для финального этапа\n",
    "smape_lm_f = cross_val_score(lm_f, features_train_f, target_train_f, \n",
    "                             scoring = make_scorer(sMAPE),\n",
    "                             cv = 5,\n",
    "                             n_jobs = -1).mean()"
   ]
  },
  {
   "cell_type": "code",
   "execution_count": 67,
   "metadata": {
    "id": "visy8AkVtG40"
   },
   "outputs": [
    {
     "name": "stdout",
     "output_type": "stream",
     "text": [
      "Линейная регрессия:\n",
      "    sMAPE rougher: 6.22 %\n",
      "    sMAPE cleaner: 9.54 %\n",
      "Final sMAPE: 8.71 %\n"
     ]
    }
   ],
   "source": [
    "print('Линейная регрессия:')\n",
    "print('    sMAPE rougher: {:.2f} %'.format(smape_lm_r))\n",
    "print('    sMAPE cleaner: {:.2f} %'.format(smape_lm_f))\n",
    "print('Final sMAPE: {:.2f} %'.format(final_sMAPE(smape_lm_r, smape_lm_f)))"
   ]
  },
  {
   "cell_type": "markdown",
   "metadata": {},
   "source": [
    "После кроссвалидации нескольких моделей метрика final sMAPE для обучающих выборок получилась:\n",
    "\n",
    "- решающее дерево: 8.29 %\n",
    "- случайный лес: 7.93 %\n",
    "- линейная регрессия: 8.71 %\n",
    "\n",
    "Чем меньше final sMAPE, тем для нас лучше.У модели случайного леса самая лучшая метрика. Протестируем данную модель.\n",
    "\n",
    "\n",
    "(Из спортивного интереса посмотрим все модели)."
   ]
  },
  {
   "cell_type": "markdown",
   "metadata": {
    "id": "AKjR_QTStG9L"
   },
   "source": [
    "## Тестирование модели"
   ]
  },
  {
   "cell_type": "markdown",
   "metadata": {
    "id": "zJyY4nwwUGlg"
   },
   "source": [
    "Протестируем модель решающего дерева для процесса флотации и для финальной очистки. "
   ]
  },
  {
   "cell_type": "markdown",
   "metadata": {
    "id": "1lSgGZAGUER4"
   },
   "source": [
    "### Решающее дерево"
   ]
  },
  {
   "cell_type": "markdown",
   "metadata": {
    "id": "Pv8VwraVUER6"
   },
   "source": [
    "Дерево решений для флотации:"
   ]
  },
  {
   "cell_type": "code",
   "execution_count": 73,
   "metadata": {
    "id": "FhAtuZ6xUER7"
   },
   "outputs": [
    {
     "data": {
      "text/plain": [
       "5.379260870965411"
      ]
     },
     "execution_count": 73,
     "metadata": {},
     "output_type": "execute_result"
    }
   ],
   "source": [
    "model_tree_r = DecisionTreeRegressor(random_state=12345, max_depth=2) \n",
    "model_tree_r.fit(features_train_r, target_train_r) # обучим модель на тренировочных данных\n",
    "\n",
    "test_predictions_r = best_model_tree_r.predict(features_test_r) # получим предсказания модели\n",
    "  \n",
    "smape_tree_r = sMAPE (target_test_r, test_predictions_r)\n",
    "smape_tree_r"
   ]
  },
  {
   "cell_type": "markdown",
   "metadata": {
    "id": "DPd7uA1wUER8"
   },
   "source": [
    "Дерево решений для финальной очистки:"
   ]
  },
  {
   "cell_type": "code",
   "execution_count": 74,
   "metadata": {
    "id": "OZJ0ggkDUER9"
   },
   "outputs": [
    {
     "data": {
      "text/plain": [
       "8.363285024970303"
      ]
     },
     "execution_count": 74,
     "metadata": {},
     "output_type": "execute_result"
    }
   ],
   "source": [
    "model_tree_f = DecisionTreeRegressor(random_state=12345, max_depth=1) \n",
    "model_tree_f.fit(features_train_f, target_train_f) # обучим модель на тренировочных данных\n",
    "\n",
    "test_predictions_f = best_model_tree_f.predict(features_test_f) # получим предсказания модели\n",
    "  \n",
    "smape_tree_f = sMAPE (target_test_f, test_predictions_f)\n",
    "smape_tree_f"
   ]
  },
  {
   "cell_type": "code",
   "execution_count": 75,
   "metadata": {
    "id": "hQJxBu3ZUER-"
   },
   "outputs": [
    {
     "name": "stdout",
     "output_type": "stream",
     "text": [
      "Решающее дерево для тестовой выборки:\n",
      "    sMAPE rougher: 5.38 %\n",
      "    sMAPE final_clean: 8.36 %\n",
      "Final sMAPE: 7.62 %\n"
     ]
    }
   ],
   "source": [
    "print('Решающее дерево для тестовой выборки:')\n",
    "print('    sMAPE rougher: {:.2f} %'.format(smape_tree_r))\n",
    "print('    sMAPE final_clean: {:.2f} %'.format(smape_tree_f))\n",
    "print('Final sMAPE: {:.2f} %'.format(final_sMAPE(smape_tree_r, smape_tree_f)))"
   ]
  },
  {
   "cell_type": "markdown",
   "metadata": {
    "id": "Vq4M7-vHUER-"
   },
   "source": [
    "### Случайный лес"
   ]
  },
  {
   "cell_type": "code",
   "execution_count": 77,
   "metadata": {
    "id": "CMEKaiUIUER_"
   },
   "outputs": [
    {
     "data": {
      "text/plain": [
       "4.237192449469587"
      ]
     },
     "execution_count": 77,
     "metadata": {},
     "output_type": "execute_result"
    }
   ],
   "source": [
    "model_forest_r = RandomForestRegressor(random_state=12345, n_estimators=20, max_depth=4) \n",
    "model_forest_r.fit(features_train_r, target_train_r) \n",
    "test_predictions_r = model_forest_r.predict(features_test_r) \n",
    "\n",
    "smape_tree_r = sMAPE (target_test_r, test_predictions_r)\n",
    "smape_tree_r"
   ]
  },
  {
   "cell_type": "code",
   "execution_count": 78,
   "metadata": {
    "id": "j162bHaFUESA"
   },
   "outputs": [
    {
     "data": {
      "text/plain": [
       "8.129595002102116"
      ]
     },
     "execution_count": 78,
     "metadata": {},
     "output_type": "execute_result"
    }
   ],
   "source": [
    "model_forest_f = RandomForestRegressor(random_state=12345, n_estimators=30, max_depth=3) \n",
    "model_forest_f.fit(features_train_f, target_train_f) \n",
    "test_predictions_f = model_forest_f.predict(features_test_f) \n",
    "\n",
    "smape_tree_f = sMAPE (target_test_f, test_predictions_f)\n",
    "smape_tree_f"
   ]
  },
  {
   "cell_type": "code",
   "execution_count": 81,
   "metadata": {
    "id": "HJ_VgtEBUESB"
   },
   "outputs": [
    {
     "name": "stdout",
     "output_type": "stream",
     "text": [
      "Случайный лес для тестовой выборки:\n",
      "    sMAPE rougher: 5.80 %\n",
      "    sMAPE cleaner: 8.81 %\n",
      "Final sMAPE: 7.16 %\n"
     ]
    }
   ],
   "source": [
    "print('Случайный лес для тестовой выборки:')\n",
    "print('    sMAPE rougher: {:.2f} %'.format(smape_forest_r))\n",
    "print('    sMAPE cleaner: {:.2f} %'.format(smape_forest_f))\n",
    "print('Final sMAPE: {:.2f} %'.format(final_sMAPE(smape_tree_r, smape_tree_f)))"
   ]
  },
  {
   "cell_type": "markdown",
   "metadata": {
    "id": "vUI_iPORUESC"
   },
   "source": [
    "### Линейная регрессия"
   ]
  },
  {
   "cell_type": "markdown",
   "metadata": {
    "id": "73IjgX0nUESC"
   },
   "source": [
    "логистической регрессии для двух этапов:"
   ]
  },
  {
   "cell_type": "code",
   "execution_count": 82,
   "metadata": {
    "id": "Y_BLPFYoUESD"
   },
   "outputs": [
    {
     "data": {
      "text/plain": [
       "4.665797656043663"
      ]
     },
     "execution_count": 82,
     "metadata": {},
     "output_type": "execute_result"
    }
   ],
   "source": [
    "lm_r = LinearRegression()\n",
    "lm_r.fit(features_train_r, target_train_r) \n",
    "test_predictions_r = lm_r.predict(features_test_r) \n",
    "\n",
    "smape_tree_r = sMAPE (target_test_r, test_predictions_r)\n",
    "smape_tree_r"
   ]
  },
  {
   "cell_type": "code",
   "execution_count": 83,
   "metadata": {
    "id": "MYhQ5-DTUESD"
   },
   "outputs": [
    {
     "data": {
      "text/plain": [
       "9.215728033275687"
      ]
     },
     "execution_count": 83,
     "metadata": {},
     "output_type": "execute_result"
    }
   ],
   "source": [
    "lm_f = LinearRegression()\n",
    "lm_f.fit(features_train_f, target_train_f) \n",
    "test_predictions_f = lm_f.predict(features_test_f) \n",
    "\n",
    "smape_tree_f = sMAPE (target_test_f, test_predictions_f)\n",
    "smape_tree_f"
   ]
  },
  {
   "cell_type": "code",
   "execution_count": 84,
   "metadata": {
    "id": "MuAoxSjYUESE"
   },
   "outputs": [
    {
     "name": "stdout",
     "output_type": "stream",
     "text": [
      "Линейная регрессия:\n",
      "    sMAPE rougher: 6.22 %\n",
      "    sMAPE cleaner: 9.54 %\n",
      "Final sMAPE: 8.71 %\n"
     ]
    }
   ],
   "source": [
    "print('Линейная регрессия:')\n",
    "print('    sMAPE rougher: {:.2f} %'.format(smape_lm_r))\n",
    "print('    sMAPE cleaner: {:.2f} %'.format(smape_lm_f))\n",
    "print('Final sMAPE: {:.2f} %'.format(final_sMAPE(smape_lm_r, smape_lm_f)))"
   ]
  },
  {
   "cell_type": "markdown",
   "metadata": {
    "id": "ShGzqG-wfT1V"
   },
   "source": [
    "После обучения метрика final sMAPE для обучающих выборок получилась:\n",
    "- решающее дерево: 8.29 %\n",
    "- случайный лес: 7.93 %\n",
    "- линейная регрессия: 8.71 %\n",
    "\n",
    "для этих же моделей для тестовых выборок:\n",
    "- решающее дерево: 7.62 %\n",
    "- случайный лес: 7.16 %\n",
    "- линейная регрессия: 8.71 %\n",
    "\n",
    "При тестировании моделей, модель случайного леса показала себя хорошо не только при кроссвалидации, но и при предсказаниях на тестовой выборке.\n"
   ]
  },
  {
   "cell_type": "markdown",
   "metadata": {
    "id": "o7Qw1wvZfT49"
   },
   "source": [
    "## Выводы"
   ]
  },
  {
   "cell_type": "markdown",
   "metadata": {
    "id": "yzMUWfx6fT8P"
   },
   "source": [
    "Во время выполнения проекта были:\n",
    "- загружены, изучены и подготовлены данные для дальнейшей работы;\n",
    "- проведён исследовательский анализ данных, проведено исследование концентрации веществ после каждого этапа, а также суммарных концентраций веществ;\n",
    "- построены и обучены несколько моделей для предсказания коэффициента восстановления золота из золотосодержащей руды. \n",
    "\n",
    "Модель случайного леса показала лучшие результаты для тестовой выборки, для неё final sMAPE для обучающей выборки получилась 7.93%, а для тестовой 7.16%."
   ]
  }
 ],
 "metadata": {
  "ExecuteTimeLog": [
   {
    "duration": 280,
    "start_time": "2022-03-16T08:53:09.319Z"
   },
   {
    "duration": 1141,
    "start_time": "2022-03-16T08:53:30.669Z"
   },
   {
    "duration": 360,
    "start_time": "2022-03-16T08:53:33.777Z"
   },
   {
    "duration": 69,
    "start_time": "2022-03-16T08:53:34.139Z"
   },
   {
    "duration": 323,
    "start_time": "2022-03-16T08:53:34.210Z"
   },
   {
    "duration": 4,
    "start_time": "2022-03-16T08:53:34.608Z"
   },
   {
    "duration": 136,
    "start_time": "2022-03-16T08:53:36.247Z"
   },
   {
    "duration": 44,
    "start_time": "2022-03-16T08:53:37.267Z"
   },
   {
    "duration": 108,
    "start_time": "2022-03-16T08:53:39.685Z"
   },
   {
    "duration": 2,
    "start_time": "2022-03-16T08:53:41.949Z"
   },
   {
    "duration": 6,
    "start_time": "2022-03-16T08:53:42.689Z"
   },
   {
    "duration": 6,
    "start_time": "2022-03-16T08:53:42.934Z"
   },
   {
    "duration": 5,
    "start_time": "2022-03-16T08:53:43.577Z"
   },
   {
    "duration": 5,
    "start_time": "2022-03-16T08:53:46.253Z"
   },
   {
    "duration": 13,
    "start_time": "2022-03-16T08:53:46.508Z"
   },
   {
    "duration": 16,
    "start_time": "2022-03-16T08:53:47.978Z"
   },
   {
    "duration": 17,
    "start_time": "2022-03-16T08:53:48.413Z"
   },
   {
    "duration": 13,
    "start_time": "2022-03-16T08:53:49.488Z"
   },
   {
    "duration": 8,
    "start_time": "2022-03-16T08:53:49.867Z"
   },
   {
    "duration": 6,
    "start_time": "2022-03-16T08:53:52.178Z"
   },
   {
    "duration": 4,
    "start_time": "2022-03-16T08:53:53.228Z"
   },
   {
    "duration": 11,
    "start_time": "2022-03-16T08:53:53.538Z"
   },
   {
    "duration": 7,
    "start_time": "2022-03-16T08:53:54.014Z"
   },
   {
    "duration": 7,
    "start_time": "2022-03-16T08:53:55.907Z"
   },
   {
    "duration": 3,
    "start_time": "2022-03-16T08:53:59.806Z"
   },
   {
    "duration": 4,
    "start_time": "2022-03-16T08:54:00.206Z"
   },
   {
    "duration": 492,
    "start_time": "2022-03-16T08:54:01.008Z"
   },
   {
    "duration": 531,
    "start_time": "2022-03-16T08:54:04.195Z"
   },
   {
    "duration": 591,
    "start_time": "2022-03-16T08:54:06.414Z"
   },
   {
    "duration": 485,
    "start_time": "2022-03-16T08:54:09.305Z"
   },
   {
    "duration": 415,
    "start_time": "2022-03-16T08:54:12.565Z"
   },
   {
    "duration": 7,
    "start_time": "2022-03-16T08:54:25.289Z"
   },
   {
    "duration": 334,
    "start_time": "2022-03-16T08:54:26.139Z"
   },
   {
    "duration": 24,
    "start_time": "2022-03-16T08:54:30.690Z"
   },
   {
    "duration": 6,
    "start_time": "2022-03-16T08:54:31.126Z"
   },
   {
    "duration": 5,
    "start_time": "2022-03-16T08:54:33.179Z"
   },
   {
    "duration": 5,
    "start_time": "2022-03-16T08:54:34.779Z"
   },
   {
    "duration": 6,
    "start_time": "2022-03-16T08:54:35.178Z"
   },
   {
    "duration": 5,
    "start_time": "2022-03-16T08:54:35.649Z"
   },
   {
    "duration": 6,
    "start_time": "2022-03-16T08:54:36.129Z"
   },
   {
    "duration": 13,
    "start_time": "2022-03-16T08:54:37.148Z"
   },
   {
    "duration": 6,
    "start_time": "2022-03-16T08:54:37.526Z"
   },
   {
    "duration": 4,
    "start_time": "2022-03-16T08:54:40.446Z"
   },
   {
    "duration": 4,
    "start_time": "2022-03-16T08:54:41.659Z"
   },
   {
    "duration": 5,
    "start_time": "2022-03-16T08:54:44.448Z"
   },
   {
    "duration": 6,
    "start_time": "2022-03-16T08:54:48.814Z"
   },
   {
    "duration": 8,
    "start_time": "2022-03-16T08:54:51.019Z"
   },
   {
    "duration": 6,
    "start_time": "2022-03-16T08:54:51.649Z"
   },
   {
    "duration": 6,
    "start_time": "2022-03-16T08:54:52.068Z"
   },
   {
    "duration": 6,
    "start_time": "2022-03-16T08:54:54.129Z"
   },
   {
    "duration": 26,
    "start_time": "2022-03-16T08:54:54.814Z"
   },
   {
    "duration": 18,
    "start_time": "2022-03-16T08:54:55.293Z"
   },
   {
    "duration": 20,
    "start_time": "2022-03-16T08:54:57.934Z"
   },
   {
    "duration": 22,
    "start_time": "2022-03-16T08:54:58.267Z"
   },
   {
    "duration": 21272,
    "start_time": "2022-03-16T08:55:02.946Z"
   },
   {
    "duration": 2362,
    "start_time": "2022-03-16T08:55:24.220Z"
   },
   {
    "duration": 4,
    "start_time": "2022-03-16T08:55:26.584Z"
   },
   {
    "duration": 128477,
    "start_time": "2022-03-16T08:55:26.590Z"
   },
   {
    "duration": 134603,
    "start_time": "2022-03-16T08:57:35.069Z"
   },
   {
    "duration": 3,
    "start_time": "2022-03-16T08:59:49.674Z"
   },
   {
    "duration": 1654,
    "start_time": "2022-03-16T08:59:49.679Z"
   },
   {
    "duration": 1403,
    "start_time": "2022-03-16T08:59:51.336Z"
   },
   {
    "duration": 6,
    "start_time": "2022-03-16T08:59:52.833Z"
   },
   {
    "duration": 939,
    "start_time": "2022-03-16T08:59:52.841Z"
   },
   {
    "duration": 130,
    "start_time": "2022-03-16T08:59:53.782Z"
   },
   {
    "duration": 4,
    "start_time": "2022-03-16T08:59:53.913Z"
   },
   {
    "duration": 1354,
    "start_time": "2022-03-16T08:59:53.918Z"
   },
   {
    "duration": 682,
    "start_time": "2022-03-16T08:59:55.274Z"
   },
   {
    "duration": 4,
    "start_time": "2022-03-16T08:59:55.957Z"
   },
   {
    "duration": 1070,
    "start_time": "2022-03-16T08:59:55.962Z"
   },
   {
    "duration": 1196,
    "start_time": "2022-03-16T08:59:57.037Z"
   },
   {
    "duration": 6,
    "start_time": "2022-03-16T08:59:58.236Z"
   },
   {
    "duration": 355,
    "start_time": "2022-03-16T09:00:05.373Z"
   },
   {
    "duration": 438,
    "start_time": "2022-03-16T09:00:13.269Z"
   },
   {
    "duration": 689,
    "start_time": "2022-03-16T09:00:26.655Z"
   },
   {
    "duration": 5,
    "start_time": "2022-03-16T09:02:06.267Z"
   },
   {
    "duration": 62,
    "start_time": "2022-03-16T09:03:14.094Z"
   },
   {
    "duration": 503,
    "start_time": "2022-03-16T09:03:17.567Z"
   },
   {
    "duration": 507,
    "start_time": "2022-03-16T09:05:38.179Z"
   },
   {
    "duration": 4,
    "start_time": "2022-03-16T09:05:58.814Z"
   },
   {
    "duration": 606,
    "start_time": "2022-03-16T09:06:05.643Z"
   },
   {
    "duration": 501,
    "start_time": "2022-03-16T09:06:14.199Z"
   },
   {
    "duration": 638,
    "start_time": "2022-03-16T09:06:22.109Z"
   },
   {
    "duration": 637,
    "start_time": "2022-03-16T09:06:27.429Z"
   },
   {
    "duration": 516,
    "start_time": "2022-03-16T09:06:45.729Z"
   },
   {
    "duration": 343,
    "start_time": "2022-03-16T09:07:05.328Z"
   },
   {
    "duration": 501,
    "start_time": "2022-03-16T09:07:39.323Z"
   },
   {
    "duration": 340,
    "start_time": "2022-03-16T09:07:45.579Z"
   },
   {
    "duration": 345,
    "start_time": "2022-03-16T09:07:49.650Z"
   },
   {
    "duration": 345,
    "start_time": "2022-03-16T09:08:05.534Z"
   },
   {
    "duration": 450,
    "start_time": "2022-03-16T09:08:07.863Z"
   },
   {
    "duration": 355,
    "start_time": "2022-03-16T09:08:44.586Z"
   },
   {
    "duration": 1133,
    "start_time": "2022-03-16T09:09:12.108Z"
   },
   {
    "duration": 283,
    "start_time": "2022-03-16T09:09:13.243Z"
   },
   {
    "duration": 75,
    "start_time": "2022-03-16T09:09:13.528Z"
   },
   {
    "duration": 392,
    "start_time": "2022-03-16T09:09:13.605Z"
   },
   {
    "duration": 3,
    "start_time": "2022-03-16T09:09:13.999Z"
   },
   {
    "duration": 163,
    "start_time": "2022-03-16T09:09:14.003Z"
   },
   {
    "duration": 44,
    "start_time": "2022-03-16T09:09:14.168Z"
   },
   {
    "duration": 143,
    "start_time": "2022-03-16T09:09:14.214Z"
   },
   {
    "duration": 2,
    "start_time": "2022-03-16T09:09:14.361Z"
   },
   {
    "duration": 11,
    "start_time": "2022-03-16T09:09:14.365Z"
   },
   {
    "duration": 5,
    "start_time": "2022-03-16T09:09:14.378Z"
   },
   {
    "duration": 8,
    "start_time": "2022-03-16T09:09:14.384Z"
   },
   {
    "duration": 7,
    "start_time": "2022-03-16T09:09:14.394Z"
   },
   {
    "duration": 31,
    "start_time": "2022-03-16T09:09:14.403Z"
   },
   {
    "duration": 18,
    "start_time": "2022-03-16T09:09:14.435Z"
   },
   {
    "duration": 16,
    "start_time": "2022-03-16T09:09:14.454Z"
   },
   {
    "duration": 13,
    "start_time": "2022-03-16T09:09:14.472Z"
   },
   {
    "duration": 19,
    "start_time": "2022-03-16T09:09:14.487Z"
   },
   {
    "duration": 29,
    "start_time": "2022-03-16T09:09:14.508Z"
   },
   {
    "duration": 5,
    "start_time": "2022-03-16T09:09:14.539Z"
   },
   {
    "duration": 13,
    "start_time": "2022-03-16T09:09:14.546Z"
   },
   {
    "duration": 8,
    "start_time": "2022-03-16T09:09:14.561Z"
   },
   {
    "duration": 7,
    "start_time": "2022-03-16T09:09:14.571Z"
   },
   {
    "duration": 6,
    "start_time": "2022-03-16T09:09:14.579Z"
   },
   {
    "duration": 9,
    "start_time": "2022-03-16T09:09:14.586Z"
   },
   {
    "duration": 527,
    "start_time": "2022-03-16T09:09:14.597Z"
   },
   {
    "duration": 519,
    "start_time": "2022-03-16T09:09:15.133Z"
   },
   {
    "duration": 578,
    "start_time": "2022-03-16T09:09:15.655Z"
   },
   {
    "duration": 528,
    "start_time": "2022-03-16T09:09:16.235Z"
   },
   {
    "duration": 381,
    "start_time": "2022-03-16T09:09:16.765Z"
   },
   {
    "duration": 9,
    "start_time": "2022-03-16T09:09:17.148Z"
   },
   {
    "duration": 482,
    "start_time": "2022-03-16T09:09:17.159Z"
   },
   {
    "duration": 23,
    "start_time": "2022-03-16T09:09:17.643Z"
   },
   {
    "duration": 6,
    "start_time": "2022-03-16T09:09:17.668Z"
   },
   {
    "duration": 8,
    "start_time": "2022-03-16T09:09:17.676Z"
   },
   {
    "duration": 6,
    "start_time": "2022-03-16T09:09:17.686Z"
   },
   {
    "duration": 40,
    "start_time": "2022-03-16T09:09:17.693Z"
   },
   {
    "duration": 5,
    "start_time": "2022-03-16T09:09:17.735Z"
   },
   {
    "duration": 10,
    "start_time": "2022-03-16T09:09:17.742Z"
   },
   {
    "duration": 13,
    "start_time": "2022-03-16T09:09:17.754Z"
   },
   {
    "duration": 10,
    "start_time": "2022-03-16T09:09:17.769Z"
   },
   {
    "duration": 9,
    "start_time": "2022-03-16T09:09:17.781Z"
   },
   {
    "duration": 10,
    "start_time": "2022-03-16T09:09:17.791Z"
   },
   {
    "duration": 12,
    "start_time": "2022-03-16T09:09:17.802Z"
   },
   {
    "duration": 11,
    "start_time": "2022-03-16T09:09:17.816Z"
   },
   {
    "duration": 17,
    "start_time": "2022-03-16T09:09:17.828Z"
   },
   {
    "duration": 13,
    "start_time": "2022-03-16T09:09:17.846Z"
   },
   {
    "duration": 11,
    "start_time": "2022-03-16T09:09:17.860Z"
   },
   {
    "duration": 9,
    "start_time": "2022-03-16T09:09:17.873Z"
   },
   {
    "duration": 26,
    "start_time": "2022-03-16T09:09:17.883Z"
   },
   {
    "duration": 16,
    "start_time": "2022-03-16T09:09:17.910Z"
   },
   {
    "duration": 22,
    "start_time": "2022-03-16T09:09:17.927Z"
   },
   {
    "duration": 19,
    "start_time": "2022-03-16T09:09:17.950Z"
   },
   {
    "duration": 20938,
    "start_time": "2022-03-16T09:09:17.971Z"
   },
   {
    "duration": 2224,
    "start_time": "2022-03-16T09:09:38.911Z"
   },
   {
    "duration": 4,
    "start_time": "2022-03-16T09:09:41.137Z"
   },
   {
    "duration": 127272,
    "start_time": "2022-03-16T09:09:41.142Z"
   },
   {
    "duration": 128671,
    "start_time": "2022-03-16T09:11:48.416Z"
   },
   {
    "duration": 3,
    "start_time": "2022-03-16T09:13:57.089Z"
   },
   {
    "duration": 1239,
    "start_time": "2022-03-16T09:13:57.094Z"
   },
   {
    "duration": 1004,
    "start_time": "2022-03-16T09:13:58.336Z"
   },
   {
    "duration": 3,
    "start_time": "2022-03-16T09:13:59.434Z"
   },
   {
    "duration": 927,
    "start_time": "2022-03-16T09:13:59.439Z"
   },
   {
    "duration": 132,
    "start_time": "2022-03-16T09:14:00.368Z"
   },
   {
    "duration": 5,
    "start_time": "2022-03-16T09:14:00.501Z"
   },
   {
    "duration": 1463,
    "start_time": "2022-03-16T09:14:00.507Z"
   },
   {
    "duration": 694,
    "start_time": "2022-03-16T09:14:01.973Z"
   },
   {
    "duration": 4,
    "start_time": "2022-03-16T09:14:02.669Z"
   },
   {
    "duration": 1065,
    "start_time": "2022-03-16T09:14:02.674Z"
   },
   {
    "duration": 887,
    "start_time": "2022-03-16T09:14:03.746Z"
   },
   {
    "duration": 5,
    "start_time": "2022-03-16T09:14:04.635Z"
   },
   {
    "duration": 1242,
    "start_time": "2022-03-16T22:40:01.854Z"
   },
   {
    "duration": 289,
    "start_time": "2022-03-16T22:40:03.098Z"
   },
   {
    "duration": 79,
    "start_time": "2022-03-16T22:40:03.389Z"
   },
   {
    "duration": 383,
    "start_time": "2022-03-16T22:40:03.470Z"
   },
   {
    "duration": 4,
    "start_time": "2022-03-16T22:40:03.855Z"
   },
   {
    "duration": 171,
    "start_time": "2022-03-16T22:40:03.860Z"
   },
   {
    "duration": 61,
    "start_time": "2022-03-16T22:40:04.033Z"
   },
   {
    "duration": 150,
    "start_time": "2022-03-16T22:40:04.097Z"
   },
   {
    "duration": 11,
    "start_time": "2022-03-16T22:40:04.249Z"
   },
   {
    "duration": 5,
    "start_time": "2022-03-16T22:40:04.262Z"
   },
   {
    "duration": 5,
    "start_time": "2022-03-16T22:40:04.269Z"
   },
   {
    "duration": 5,
    "start_time": "2022-03-16T22:40:04.275Z"
   },
   {
    "duration": 6,
    "start_time": "2022-03-16T22:40:04.282Z"
   },
   {
    "duration": 5,
    "start_time": "2022-03-16T22:40:36.788Z"
   },
   {
    "duration": 5,
    "start_time": "2022-03-16T22:40:41.325Z"
   },
   {
    "duration": 5,
    "start_time": "2022-03-16T22:40:45.264Z"
   },
   {
    "duration": 5,
    "start_time": "2022-03-16T22:40:47.860Z"
   },
   {
    "duration": 1550,
    "start_time": "2022-03-17T10:09:48.848Z"
   },
   {
    "duration": 348,
    "start_time": "2022-03-17T10:09:50.400Z"
   },
   {
    "duration": 80,
    "start_time": "2022-03-17T10:09:50.750Z"
   },
   {
    "duration": 411,
    "start_time": "2022-03-17T10:09:50.832Z"
   },
   {
    "duration": 3,
    "start_time": "2022-03-17T10:09:51.245Z"
   },
   {
    "duration": 176,
    "start_time": "2022-03-17T10:09:51.249Z"
   },
   {
    "duration": 49,
    "start_time": "2022-03-17T10:09:51.427Z"
   },
   {
    "duration": 152,
    "start_time": "2022-03-17T10:09:51.478Z"
   },
   {
    "duration": 3,
    "start_time": "2022-03-17T10:09:51.632Z"
   },
   {
    "duration": 10,
    "start_time": "2022-03-17T10:09:51.637Z"
   },
   {
    "duration": 5,
    "start_time": "2022-03-17T10:09:51.649Z"
   },
   {
    "duration": 9,
    "start_time": "2022-03-17T10:09:51.656Z"
   },
   {
    "duration": 6,
    "start_time": "2022-03-17T10:09:51.666Z"
   },
   {
    "duration": 10,
    "start_time": "2022-03-17T10:09:51.674Z"
   },
   {
    "duration": 32,
    "start_time": "2022-03-17T10:09:51.686Z"
   },
   {
    "duration": 17,
    "start_time": "2022-03-17T10:09:51.720Z"
   },
   {
    "duration": 15,
    "start_time": "2022-03-17T10:09:51.738Z"
   },
   {
    "duration": 8,
    "start_time": "2022-03-17T10:09:51.755Z"
   },
   {
    "duration": 6,
    "start_time": "2022-03-17T10:09:51.764Z"
   },
   {
    "duration": 45,
    "start_time": "2022-03-17T10:09:51.772Z"
   },
   {
    "duration": 5,
    "start_time": "2022-03-17T10:09:51.819Z"
   },
   {
    "duration": 11,
    "start_time": "2022-03-17T10:09:51.826Z"
   },
   {
    "duration": 8,
    "start_time": "2022-03-17T10:09:51.838Z"
   },
   {
    "duration": 6,
    "start_time": "2022-03-17T10:09:51.847Z"
   },
   {
    "duration": 3,
    "start_time": "2022-03-17T10:09:54.903Z"
   },
   {
    "duration": 4,
    "start_time": "2022-03-17T10:09:56.424Z"
   },
   {
    "duration": 522,
    "start_time": "2022-03-17T10:09:59.351Z"
   },
   {
    "duration": 625,
    "start_time": "2022-03-17T10:10:15.752Z"
   },
   {
    "duration": 520,
    "start_time": "2022-03-17T10:10:29.231Z"
   },
   {
    "duration": 513,
    "start_time": "2022-03-17T10:10:46.401Z"
   },
   {
    "duration": 317,
    "start_time": "2022-03-17T10:16:19.066Z"
   },
   {
    "duration": 7,
    "start_time": "2022-03-17T10:16:22.044Z"
   },
   {
    "duration": 502,
    "start_time": "2022-03-17T10:16:22.460Z"
   },
   {
    "duration": 36,
    "start_time": "2022-03-17T10:16:23.876Z"
   },
   {
    "duration": 6,
    "start_time": "2022-03-17T10:16:24.116Z"
   },
   {
    "duration": 5,
    "start_time": "2022-03-17T10:16:24.657Z"
   },
   {
    "duration": 4,
    "start_time": "2022-03-17T10:16:25.876Z"
   },
   {
    "duration": 6,
    "start_time": "2022-03-17T10:16:26.157Z"
   },
   {
    "duration": 5,
    "start_time": "2022-03-17T10:16:26.506Z"
   },
   {
    "duration": 6,
    "start_time": "2022-03-17T10:16:26.868Z"
   },
   {
    "duration": 10,
    "start_time": "2022-03-17T10:16:27.276Z"
   },
   {
    "duration": 5,
    "start_time": "2022-03-17T10:16:27.668Z"
   },
   {
    "duration": 4,
    "start_time": "2022-03-17T10:16:32.484Z"
   },
   {
    "duration": 3,
    "start_time": "2022-03-17T10:16:32.826Z"
   },
   {
    "duration": 4,
    "start_time": "2022-03-17T10:16:43.641Z"
   },
   {
    "duration": 6,
    "start_time": "2022-03-17T10:16:43.873Z"
   },
   {
    "duration": 8,
    "start_time": "2022-03-17T10:16:44.076Z"
   },
   {
    "duration": 5,
    "start_time": "2022-03-17T10:16:44.425Z"
   },
   {
    "duration": 5,
    "start_time": "2022-03-17T10:16:44.761Z"
   },
   {
    "duration": 3,
    "start_time": "2022-03-17T10:16:46.391Z"
   },
   {
    "duration": 22,
    "start_time": "2022-03-17T10:16:46.802Z"
   },
   {
    "duration": 17,
    "start_time": "2022-03-17T10:16:47.051Z"
   },
   {
    "duration": 17,
    "start_time": "2022-03-17T10:16:47.800Z"
   },
   {
    "duration": 131,
    "start_time": "2022-03-17T10:16:48.068Z"
   },
   {
    "duration": 22364,
    "start_time": "2022-03-17T10:20:14.511Z"
   },
   {
    "duration": 22043,
    "start_time": "2022-03-17T10:23:47.869Z"
   },
   {
    "duration": 2388,
    "start_time": "2022-03-17T10:26:43.694Z"
   },
   {
    "duration": 7966,
    "start_time": "2022-03-17T10:26:53.532Z"
   },
   {
    "duration": 2431,
    "start_time": "2022-03-17T10:27:07.371Z"
   },
   {
    "duration": 5,
    "start_time": "2022-03-17T10:27:23.181Z"
   },
   {
    "duration": 136694,
    "start_time": "2022-03-17T10:27:53.150Z"
   },
   {
    "duration": 140084,
    "start_time": "2022-03-17T10:30:09.846Z"
   },
   {
    "duration": 4,
    "start_time": "2022-03-17T10:32:29.932Z"
   },
   {
    "duration": 1270,
    "start_time": "2022-03-17T10:32:29.938Z"
   },
   {
    "duration": 1498,
    "start_time": "2022-03-17T10:32:31.211Z"
   },
   {
    "duration": 4,
    "start_time": "2022-03-17T10:32:32.711Z"
   },
   {
    "duration": 761,
    "start_time": "2022-03-17T10:42:00.855Z"
   },
   {
    "duration": 685,
    "start_time": "2022-03-17T10:42:25.658Z"
   },
   {
    "duration": 676,
    "start_time": "2022-03-17T10:42:33.379Z"
   },
   {
    "duration": 93,
    "start_time": "2022-03-17T10:43:41.509Z"
   },
   {
    "duration": 4,
    "start_time": "2022-03-17T10:43:52.629Z"
   },
   {
    "duration": 1019,
    "start_time": "2022-03-17T10:46:33.150Z"
   },
   {
    "duration": 1011,
    "start_time": "2022-03-17T10:47:11.754Z"
   },
   {
    "duration": 1021,
    "start_time": "2022-03-17T10:47:44.980Z"
   },
   {
    "duration": 516,
    "start_time": "2022-03-17T10:47:59.440Z"
   },
   {
    "duration": 4,
    "start_time": "2022-03-17T10:48:01.779Z"
   },
   {
    "duration": 9,
    "start_time": "2022-03-17T10:52:52.594Z"
   },
   {
    "duration": 220,
    "start_time": "2022-03-17T10:53:01.392Z"
   },
   {
    "duration": 207,
    "start_time": "2022-03-17T10:53:26.208Z"
   },
   {
    "duration": 4,
    "start_time": "2022-03-17T10:53:28.231Z"
   },
   {
    "duration": 1690,
    "start_time": "2022-03-18T11:59:48.461Z"
   },
   {
    "duration": 283,
    "start_time": "2022-03-18T11:59:50.154Z"
   },
   {
    "duration": 74,
    "start_time": "2022-03-18T11:59:50.439Z"
   },
   {
    "duration": 362,
    "start_time": "2022-03-18T11:59:50.515Z"
   },
   {
    "duration": 3,
    "start_time": "2022-03-18T11:59:50.880Z"
   },
   {
    "duration": 190,
    "start_time": "2022-03-18T11:59:50.884Z"
   },
   {
    "duration": 63,
    "start_time": "2022-03-18T11:59:51.076Z"
   },
   {
    "duration": 147,
    "start_time": "2022-03-18T11:59:51.141Z"
   },
   {
    "duration": 3,
    "start_time": "2022-03-18T11:59:51.291Z"
   },
   {
    "duration": 11,
    "start_time": "2022-03-18T11:59:51.296Z"
   },
   {
    "duration": 10,
    "start_time": "2022-03-18T11:59:51.309Z"
   },
   {
    "duration": 17,
    "start_time": "2022-03-18T11:59:51.321Z"
   },
   {
    "duration": 12,
    "start_time": "2022-03-18T11:59:51.340Z"
   },
   {
    "duration": 11,
    "start_time": "2022-03-18T11:59:51.356Z"
   },
   {
    "duration": 19,
    "start_time": "2022-03-18T11:59:51.369Z"
   },
   {
    "duration": 27,
    "start_time": "2022-03-18T11:59:51.390Z"
   },
   {
    "duration": 17,
    "start_time": "2022-03-18T11:59:51.419Z"
   },
   {
    "duration": 19,
    "start_time": "2022-03-18T11:59:51.438Z"
   },
   {
    "duration": 15,
    "start_time": "2022-03-18T11:59:51.459Z"
   },
   {
    "duration": 29,
    "start_time": "2022-03-18T11:59:51.476Z"
   },
   {
    "duration": 6,
    "start_time": "2022-03-18T11:59:51.506Z"
   },
   {
    "duration": 26,
    "start_time": "2022-03-18T11:59:51.513Z"
   },
   {
    "duration": 9,
    "start_time": "2022-03-18T11:59:51.541Z"
   },
   {
    "duration": 8,
    "start_time": "2022-03-18T11:59:51.551Z"
   },
   {
    "duration": 6,
    "start_time": "2022-03-18T11:59:51.561Z"
   },
   {
    "duration": 7,
    "start_time": "2022-03-18T11:59:51.569Z"
   },
   {
    "duration": 536,
    "start_time": "2022-03-18T11:59:51.578Z"
   },
   {
    "duration": 625,
    "start_time": "2022-03-18T11:59:52.116Z"
   },
   {
    "duration": 497,
    "start_time": "2022-03-18T11:59:52.742Z"
   },
   {
    "duration": 489,
    "start_time": "2022-03-18T11:59:53.241Z"
   },
   {
    "duration": 323,
    "start_time": "2022-03-18T11:59:53.732Z"
   },
   {
    "duration": 8,
    "start_time": "2022-03-18T11:59:54.057Z"
   },
   {
    "duration": 521,
    "start_time": "2022-03-18T11:59:54.067Z"
   },
   {
    "duration": 23,
    "start_time": "2022-03-18T11:59:54.590Z"
   },
   {
    "duration": 5,
    "start_time": "2022-03-18T11:59:54.615Z"
   },
   {
    "duration": 20,
    "start_time": "2022-03-18T11:59:54.621Z"
   },
   {
    "duration": 9,
    "start_time": "2022-03-18T11:59:54.643Z"
   },
   {
    "duration": 13,
    "start_time": "2022-03-18T11:59:54.653Z"
   },
   {
    "duration": 10,
    "start_time": "2022-03-18T11:59:54.668Z"
   },
   {
    "duration": 7,
    "start_time": "2022-03-18T11:59:54.679Z"
   },
   {
    "duration": 11,
    "start_time": "2022-03-18T11:59:54.690Z"
   },
   {
    "duration": 6,
    "start_time": "2022-03-18T11:59:54.703Z"
   },
   {
    "duration": 6,
    "start_time": "2022-03-18T11:59:54.711Z"
   },
   {
    "duration": 19,
    "start_time": "2022-03-18T11:59:54.718Z"
   },
   {
    "duration": 8,
    "start_time": "2022-03-18T11:59:54.739Z"
   },
   {
    "duration": 12,
    "start_time": "2022-03-18T11:59:54.749Z"
   },
   {
    "duration": 13,
    "start_time": "2022-03-18T11:59:54.763Z"
   },
   {
    "duration": 10,
    "start_time": "2022-03-18T11:59:54.778Z"
   },
   {
    "duration": 16,
    "start_time": "2022-03-18T11:59:54.790Z"
   },
   {
    "duration": 9,
    "start_time": "2022-03-18T11:59:54.808Z"
   },
   {
    "duration": 32,
    "start_time": "2022-03-18T11:59:54.819Z"
   },
   {
    "duration": 16,
    "start_time": "2022-03-18T11:59:54.853Z"
   },
   {
    "duration": 16,
    "start_time": "2022-03-18T11:59:54.870Z"
   },
   {
    "duration": 153,
    "start_time": "2022-03-18T11:59:54.888Z"
   },
   {
    "duration": 20852,
    "start_time": "2022-03-18T13:10:41.076Z"
   },
   {
    "duration": 20940,
    "start_time": "2022-03-18T13:11:49.105Z"
   },
   {
    "duration": 2288,
    "start_time": "2022-03-18T13:12:45.418Z"
   },
   {
    "duration": 4,
    "start_time": "2022-03-18T13:12:54.214Z"
   },
   {
    "duration": 125854,
    "start_time": "2022-03-18T13:13:52.204Z"
   },
   {
    "duration": 128427,
    "start_time": "2022-03-18T13:15:58.060Z"
   },
   {
    "duration": 16154,
    "start_time": "2022-03-18T13:21:15.907Z"
   },
   {
    "duration": 3,
    "start_time": "2022-03-18T13:21:37.883Z"
   },
   {
    "duration": 1845,
    "start_time": "2022-03-18T13:21:49.653Z"
   },
   {
    "duration": 3,
    "start_time": "2022-03-18T13:31:46.286Z"
   },
   {
    "duration": 1767,
    "start_time": "2022-03-18T13:32:00.475Z"
   },
   {
    "duration": 1502,
    "start_time": "2022-03-18T13:32:02.245Z"
   },
   {
    "duration": 89,
    "start_time": "2022-03-18T13:32:03.750Z"
   },
   {
    "duration": 721,
    "start_time": "2022-03-18T13:34:23.806Z"
   },
   {
    "duration": 154,
    "start_time": "2022-03-18T13:34:46.906Z"
   },
   {
    "duration": 20418,
    "start_time": "2022-03-18T13:34:50.946Z"
   },
   {
    "duration": 2378,
    "start_time": "2022-03-18T13:35:11.366Z"
   },
   {
    "duration": 4,
    "start_time": "2022-03-18T13:35:13.746Z"
   },
   {
    "duration": 154,
    "start_time": "2022-03-18T13:35:28.252Z"
   },
   {
    "duration": 92,
    "start_time": "2022-03-18T13:35:30.066Z"
   },
   {
    "duration": 4,
    "start_time": "2022-03-18T13:35:31.496Z"
   },
   {
    "duration": 941,
    "start_time": "2022-03-18T13:35:38.445Z"
   },
   {
    "duration": 3343,
    "start_time": "2022-03-18T13:35:53.765Z"
   },
   {
    "duration": 3953,
    "start_time": "2022-03-18T13:36:11.215Z"
   },
   {
    "duration": 4,
    "start_time": "2022-03-18T13:36:19.202Z"
   },
   {
    "duration": 4,
    "start_time": "2022-03-18T13:36:23.886Z"
   },
   {
    "duration": 4,
    "start_time": "2022-03-18T13:36:39.783Z"
   },
   {
    "duration": 87,
    "start_time": "2022-03-18T13:36:50.156Z"
   },
   {
    "duration": 49,
    "start_time": "2022-03-18T13:36:51.294Z"
   },
   {
    "duration": 4,
    "start_time": "2022-03-18T13:36:52.515Z"
   }
  ],
  "colab": {
   "collapsed_sections": [],
   "name": "СБ2 Восстановление золота из руды.ipynb",
   "provenance": []
  },
  "kernelspec": {
   "display_name": "Python 3",
   "language": "python",
   "name": "python3"
  },
  "language_info": {
   "codemirror_mode": {
    "name": "ipython",
    "version": 3
   },
   "file_extension": ".py",
   "mimetype": "text/x-python",
   "name": "python",
   "nbconvert_exporter": "python",
   "pygments_lexer": "ipython3",
   "version": "3.7.4"
  },
  "toc": {
   "base_numbering": 1,
   "nav_menu": {},
   "number_sections": true,
   "sideBar": true,
   "skip_h1_title": true,
   "title_cell": "Table of Contents",
   "title_sidebar": "Contents",
   "toc_cell": true,
   "toc_position": {
    "height": "calc(100% - 180px)",
    "left": "10px",
    "top": "150px",
    "width": "321.533px"
   },
   "toc_section_display": true,
   "toc_window_display": true
  }
 },
 "nbformat": 4,
 "nbformat_minor": 1
}
