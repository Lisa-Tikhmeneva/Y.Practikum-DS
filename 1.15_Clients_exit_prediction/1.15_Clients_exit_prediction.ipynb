{
 "cells": [
  {
   "cell_type": "markdown",
   "metadata": {
    "toc": true
   },
   "source": [
    "<h1>Table of Contents<span class=\"tocSkip\"></span></h1>\n",
    "<div class=\"toc\"><ul class=\"toc-item\"><li><span><a href=\"#Описание-данных\" data-toc-modified-id=\"Описание-данных-1\"><span class=\"toc-item-num\">1&nbsp;&nbsp;</span>Описание данных</a></span></li><li><span><a href=\"#Обзор-данных\" data-toc-modified-id=\"Обзор-данных-2\"><span class=\"toc-item-num\">2&nbsp;&nbsp;</span>Обзор данных</a></span></li><li><span><a href=\"#Предобработка-данных\" data-toc-modified-id=\"Предобработка-данных-3\"><span class=\"toc-item-num\">3&nbsp;&nbsp;</span>Предобработка данных</a></span><ul class=\"toc-item\"><li><span><a href=\"#Таблица-contract:\" data-toc-modified-id=\"Таблица-contract:-3.1\"><span class=\"toc-item-num\">3.1&nbsp;&nbsp;</span>Таблица contract:</a></span></li><li><span><a href=\"#Таблица-personal:\" data-toc-modified-id=\"Таблица-personal:-3.2\"><span class=\"toc-item-num\">3.2&nbsp;&nbsp;</span>Таблица personal:</a></span></li><li><span><a href=\"#Таблица-internet:\" data-toc-modified-id=\"Таблица-internet:-3.3\"><span class=\"toc-item-num\">3.3&nbsp;&nbsp;</span>Таблица internet:</a></span></li><li><span><a href=\"#Таблица-phone:\" data-toc-modified-id=\"Таблица-phone:-3.4\"><span class=\"toc-item-num\">3.4&nbsp;&nbsp;</span>Таблица phone:</a></span></li><li><span><a href=\"#Объединение-таблиц:\" data-toc-modified-id=\"Объединение-таблиц:-3.5\"><span class=\"toc-item-num\">3.5&nbsp;&nbsp;</span>Объединение таблиц:</a></span></li></ul></li><li><span><a href=\"#Исследование-данных\" data-toc-modified-id=\"Исследование-данных-4\"><span class=\"toc-item-num\">4&nbsp;&nbsp;</span>Исследование данных</a></span></li><li><span><a href=\"#Обучение-моделей\" data-toc-modified-id=\"Обучение-моделей-5\"><span class=\"toc-item-num\">5&nbsp;&nbsp;</span>Обучение моделей</a></span><ul class=\"toc-item\"><li><span><a href=\"#Логистическая-регессия\" data-toc-modified-id=\"Логистическая-регессия-5.1\"><span class=\"toc-item-num\">5.1&nbsp;&nbsp;</span>Логистическая регессия</a></span></li><li><span><a href=\"#LightGBM-для-регрессии\" data-toc-modified-id=\"LightGBM-для-регрессии-5.2\"><span class=\"toc-item-num\">5.2&nbsp;&nbsp;</span>LightGBM для регрессии</a></span></li><li><span><a href=\"#Градиентный-бустинг-catboost\" data-toc-modified-id=\"Градиентный-бустинг-catboost-5.3\"><span class=\"toc-item-num\">5.3&nbsp;&nbsp;</span>Градиентный бустинг catboost</a></span></li></ul></li><li><span><a href=\"#Анализ-моделей\" data-toc-modified-id=\"Анализ-моделей-6\"><span class=\"toc-item-num\">6&nbsp;&nbsp;</span>Анализ моделей</a></span></li><li><span><a href=\"#Вывод\" data-toc-modified-id=\"Вывод-7\"><span class=\"toc-item-num\">7&nbsp;&nbsp;</span>Вывод</a></span></li></ul></div>"
   ]
  },
  {
   "cell_type": "markdown",
   "metadata": {
    "id": "v6routwOq1D9"
   },
   "source": [
    "# Предсказание ухода клиента\n",
    "Оператор связи хочет научиться прогнозировать отток клиентов. Если выяснится, что пользователь планирует уйти, ему будут предложены промокоды и специальные условия. Команда оператора собрала персональные данные о некоторых клиентах, информацию об их тарифах и договорах.\n",
    "\n",
    "\n",
    "\n",
    "## Описание данных\n",
    "\n",
    "Данные состоят из файлов, полученных из разных источников:\n",
    "\n",
    "- `contract.csv` — информация о договоре;\n",
    "- `personal.csv` — персональные данные клиента;\n",
    "- `internet.csv` — информация об интернет-услугах;\n",
    "- `phone.csv` — информация об услугах телефонии.\n",
    "\n",
    "Во всех файлах столбец `customerID` содержит код клиента.\n",
    "\n",
    "Информация о договорах актуальна на 1 февраля 2020."
   ]
  },
  {
   "cell_type": "markdown",
   "metadata": {
    "id": "y75xLRRNJ2-H"
   },
   "source": [
    "Импортируем необходимые бибилиотеки:"
   ]
  },
  {
   "cell_type": "code",
   "execution_count": 1,
   "metadata": {
    "id": "zZ-ec8xNsFSD"
   },
   "outputs": [],
   "source": [
    "import matplotlib.pyplot as plt \n",
    "import numpy as np\n",
    "import pandas as pd \n",
    "import seaborn as sns\n",
    "\n",
    "from catboost import CatBoostRegressor\n",
    "import lightgbm as lgb\n",
    "\n",
    "from sklearn.linear_model import LogisticRegression \n",
    "from sklearn.metrics import roc_auc_score\n",
    "from sklearn.model_selection import GridSearchCV\n",
    "from sklearn.model_selection import train_test_split\n",
    "from sklearn.preprocessing import OneHotEncoder\n",
    "from sklearn.preprocessing import StandardScaler\n",
    "\n",
    "import warnings\n",
    "warnings.simplefilter('ignore')\n",
    "from IPython.display import display "
   ]
  },
  {
   "cell_type": "markdown",
   "metadata": {
    "id": "bj_719xpZUo6"
   },
   "source": [
    "## Обзор данных"
   ]
  },
  {
   "cell_type": "code",
   "execution_count": 2,
   "metadata": {
    "id": "piAmBHXfRcBQ"
   },
   "outputs": [],
   "source": [
    "df_contract = pd.read_csv('/datasets/final_provider/contract.csv')"
   ]
  },
  {
   "cell_type": "code",
   "execution_count": 3,
   "metadata": {
    "id": "S7I9_UTmKXwY"
   },
   "outputs": [],
   "source": [
    "df_phone = pd.read_csv('/datasets/final_provider/phone.csv')"
   ]
  },
  {
   "cell_type": "code",
   "execution_count": 4,
   "metadata": {
    "id": "CL8bIFUvKX5e"
   },
   "outputs": [],
   "source": [
    "df_personal = pd.read_csv('/datasets/final_provider/personal.csv')"
   ]
  },
  {
   "cell_type": "code",
   "execution_count": 5,
   "metadata": {
    "id": "90Yzu7XeKYCo"
   },
   "outputs": [],
   "source": [
    "df_internet = pd.read_csv('/datasets/final_provider/internet.csv')"
   ]
  },
  {
   "cell_type": "markdown",
   "metadata": {
    "id": "gIz8tJZ2Rrg8"
   },
   "source": [
    "Посмотрим на первые десять строк таблиц:"
   ]
  },
  {
   "cell_type": "code",
   "execution_count": 6,
   "metadata": {
    "colab": {
     "base_uri": "https://localhost:8080/",
     "height": 206
    },
    "id": "iohyzw9ARcXY",
    "outputId": "dc98aab2-420b-40be-8483-901c2a5abe5d"
   },
   "outputs": [
    {
     "data": {
      "text/html": [
       "<div>\n",
       "<style scoped>\n",
       "    .dataframe tbody tr th:only-of-type {\n",
       "        vertical-align: middle;\n",
       "    }\n",
       "\n",
       "    .dataframe tbody tr th {\n",
       "        vertical-align: top;\n",
       "    }\n",
       "\n",
       "    .dataframe thead th {\n",
       "        text-align: right;\n",
       "    }\n",
       "</style>\n",
       "<table border=\"1\" class=\"dataframe\">\n",
       "  <thead>\n",
       "    <tr style=\"text-align: right;\">\n",
       "      <th></th>\n",
       "      <th>customerID</th>\n",
       "      <th>BeginDate</th>\n",
       "      <th>EndDate</th>\n",
       "      <th>Type</th>\n",
       "      <th>PaperlessBilling</th>\n",
       "      <th>PaymentMethod</th>\n",
       "      <th>MonthlyCharges</th>\n",
       "      <th>TotalCharges</th>\n",
       "    </tr>\n",
       "  </thead>\n",
       "  <tbody>\n",
       "    <tr>\n",
       "      <th>0</th>\n",
       "      <td>7590-VHVEG</td>\n",
       "      <td>2020-01-01</td>\n",
       "      <td>No</td>\n",
       "      <td>Month-to-month</td>\n",
       "      <td>Yes</td>\n",
       "      <td>Electronic check</td>\n",
       "      <td>29.85</td>\n",
       "      <td>29.85</td>\n",
       "    </tr>\n",
       "    <tr>\n",
       "      <th>1</th>\n",
       "      <td>5575-GNVDE</td>\n",
       "      <td>2017-04-01</td>\n",
       "      <td>No</td>\n",
       "      <td>One year</td>\n",
       "      <td>No</td>\n",
       "      <td>Mailed check</td>\n",
       "      <td>56.95</td>\n",
       "      <td>1889.5</td>\n",
       "    </tr>\n",
       "    <tr>\n",
       "      <th>2</th>\n",
       "      <td>3668-QPYBK</td>\n",
       "      <td>2019-10-01</td>\n",
       "      <td>2019-12-01 00:00:00</td>\n",
       "      <td>Month-to-month</td>\n",
       "      <td>Yes</td>\n",
       "      <td>Mailed check</td>\n",
       "      <td>53.85</td>\n",
       "      <td>108.15</td>\n",
       "    </tr>\n",
       "    <tr>\n",
       "      <th>3</th>\n",
       "      <td>7795-CFOCW</td>\n",
       "      <td>2016-05-01</td>\n",
       "      <td>No</td>\n",
       "      <td>One year</td>\n",
       "      <td>No</td>\n",
       "      <td>Bank transfer (automatic)</td>\n",
       "      <td>42.30</td>\n",
       "      <td>1840.75</td>\n",
       "    </tr>\n",
       "    <tr>\n",
       "      <th>4</th>\n",
       "      <td>9237-HQITU</td>\n",
       "      <td>2019-09-01</td>\n",
       "      <td>2019-11-01 00:00:00</td>\n",
       "      <td>Month-to-month</td>\n",
       "      <td>Yes</td>\n",
       "      <td>Electronic check</td>\n",
       "      <td>70.70</td>\n",
       "      <td>151.65</td>\n",
       "    </tr>\n",
       "  </tbody>\n",
       "</table>\n",
       "</div>"
      ],
      "text/plain": [
       "   customerID   BeginDate              EndDate            Type  \\\n",
       "0  7590-VHVEG  2020-01-01                   No  Month-to-month   \n",
       "1  5575-GNVDE  2017-04-01                   No        One year   \n",
       "2  3668-QPYBK  2019-10-01  2019-12-01 00:00:00  Month-to-month   \n",
       "3  7795-CFOCW  2016-05-01                   No        One year   \n",
       "4  9237-HQITU  2019-09-01  2019-11-01 00:00:00  Month-to-month   \n",
       "\n",
       "  PaperlessBilling              PaymentMethod  MonthlyCharges TotalCharges  \n",
       "0              Yes           Electronic check           29.85        29.85  \n",
       "1               No               Mailed check           56.95       1889.5  \n",
       "2              Yes               Mailed check           53.85       108.15  \n",
       "3               No  Bank transfer (automatic)           42.30      1840.75  \n",
       "4              Yes           Electronic check           70.70       151.65  "
      ]
     },
     "execution_count": 6,
     "metadata": {},
     "output_type": "execute_result"
    }
   ],
   "source": [
    "df_contract.head(5)"
   ]
  },
  {
   "cell_type": "code",
   "execution_count": 7,
   "metadata": {
    "colab": {
     "base_uri": "https://localhost:8080/",
     "height": 206
    },
    "id": "6_f2D2cqL0Jf",
    "outputId": "e9e100de-0d99-495c-9ce7-00837f2fc593"
   },
   "outputs": [
    {
     "data": {
      "text/html": [
       "<div>\n",
       "<style scoped>\n",
       "    .dataframe tbody tr th:only-of-type {\n",
       "        vertical-align: middle;\n",
       "    }\n",
       "\n",
       "    .dataframe tbody tr th {\n",
       "        vertical-align: top;\n",
       "    }\n",
       "\n",
       "    .dataframe thead th {\n",
       "        text-align: right;\n",
       "    }\n",
       "</style>\n",
       "<table border=\"1\" class=\"dataframe\">\n",
       "  <thead>\n",
       "    <tr style=\"text-align: right;\">\n",
       "      <th></th>\n",
       "      <th>customerID</th>\n",
       "      <th>MultipleLines</th>\n",
       "    </tr>\n",
       "  </thead>\n",
       "  <tbody>\n",
       "    <tr>\n",
       "      <th>0</th>\n",
       "      <td>5575-GNVDE</td>\n",
       "      <td>No</td>\n",
       "    </tr>\n",
       "    <tr>\n",
       "      <th>1</th>\n",
       "      <td>3668-QPYBK</td>\n",
       "      <td>No</td>\n",
       "    </tr>\n",
       "    <tr>\n",
       "      <th>2</th>\n",
       "      <td>9237-HQITU</td>\n",
       "      <td>No</td>\n",
       "    </tr>\n",
       "    <tr>\n",
       "      <th>3</th>\n",
       "      <td>9305-CDSKC</td>\n",
       "      <td>Yes</td>\n",
       "    </tr>\n",
       "    <tr>\n",
       "      <th>4</th>\n",
       "      <td>1452-KIOVK</td>\n",
       "      <td>Yes</td>\n",
       "    </tr>\n",
       "  </tbody>\n",
       "</table>\n",
       "</div>"
      ],
      "text/plain": [
       "   customerID MultipleLines\n",
       "0  5575-GNVDE            No\n",
       "1  3668-QPYBK            No\n",
       "2  9237-HQITU            No\n",
       "3  9305-CDSKC           Yes\n",
       "4  1452-KIOVK           Yes"
      ]
     },
     "execution_count": 7,
     "metadata": {},
     "output_type": "execute_result"
    }
   ],
   "source": [
    "df_phone.head(5)"
   ]
  },
  {
   "cell_type": "code",
   "execution_count": 8,
   "metadata": {
    "colab": {
     "base_uri": "https://localhost:8080/",
     "height": 206
    },
    "id": "Vvzkjjz7L0PH",
    "outputId": "22723d22-af4e-442a-f6fc-4411f05c9955"
   },
   "outputs": [
    {
     "data": {
      "text/html": [
       "<div>\n",
       "<style scoped>\n",
       "    .dataframe tbody tr th:only-of-type {\n",
       "        vertical-align: middle;\n",
       "    }\n",
       "\n",
       "    .dataframe tbody tr th {\n",
       "        vertical-align: top;\n",
       "    }\n",
       "\n",
       "    .dataframe thead th {\n",
       "        text-align: right;\n",
       "    }\n",
       "</style>\n",
       "<table border=\"1\" class=\"dataframe\">\n",
       "  <thead>\n",
       "    <tr style=\"text-align: right;\">\n",
       "      <th></th>\n",
       "      <th>customerID</th>\n",
       "      <th>gender</th>\n",
       "      <th>SeniorCitizen</th>\n",
       "      <th>Partner</th>\n",
       "      <th>Dependents</th>\n",
       "    </tr>\n",
       "  </thead>\n",
       "  <tbody>\n",
       "    <tr>\n",
       "      <th>0</th>\n",
       "      <td>7590-VHVEG</td>\n",
       "      <td>Female</td>\n",
       "      <td>0</td>\n",
       "      <td>Yes</td>\n",
       "      <td>No</td>\n",
       "    </tr>\n",
       "    <tr>\n",
       "      <th>1</th>\n",
       "      <td>5575-GNVDE</td>\n",
       "      <td>Male</td>\n",
       "      <td>0</td>\n",
       "      <td>No</td>\n",
       "      <td>No</td>\n",
       "    </tr>\n",
       "    <tr>\n",
       "      <th>2</th>\n",
       "      <td>3668-QPYBK</td>\n",
       "      <td>Male</td>\n",
       "      <td>0</td>\n",
       "      <td>No</td>\n",
       "      <td>No</td>\n",
       "    </tr>\n",
       "    <tr>\n",
       "      <th>3</th>\n",
       "      <td>7795-CFOCW</td>\n",
       "      <td>Male</td>\n",
       "      <td>0</td>\n",
       "      <td>No</td>\n",
       "      <td>No</td>\n",
       "    </tr>\n",
       "    <tr>\n",
       "      <th>4</th>\n",
       "      <td>9237-HQITU</td>\n",
       "      <td>Female</td>\n",
       "      <td>0</td>\n",
       "      <td>No</td>\n",
       "      <td>No</td>\n",
       "    </tr>\n",
       "  </tbody>\n",
       "</table>\n",
       "</div>"
      ],
      "text/plain": [
       "   customerID  gender  SeniorCitizen Partner Dependents\n",
       "0  7590-VHVEG  Female              0     Yes         No\n",
       "1  5575-GNVDE    Male              0      No         No\n",
       "2  3668-QPYBK    Male              0      No         No\n",
       "3  7795-CFOCW    Male              0      No         No\n",
       "4  9237-HQITU  Female              0      No         No"
      ]
     },
     "execution_count": 8,
     "metadata": {},
     "output_type": "execute_result"
    }
   ],
   "source": [
    "df_personal.head(5)"
   ]
  },
  {
   "cell_type": "code",
   "execution_count": 9,
   "metadata": {
    "colab": {
     "base_uri": "https://localhost:8080/",
     "height": 206
    },
    "id": "PsXfYGxbL0XX",
    "outputId": "6f480bf7-c579-4020-877f-c23c4823396f"
   },
   "outputs": [
    {
     "data": {
      "text/html": [
       "<div>\n",
       "<style scoped>\n",
       "    .dataframe tbody tr th:only-of-type {\n",
       "        vertical-align: middle;\n",
       "    }\n",
       "\n",
       "    .dataframe tbody tr th {\n",
       "        vertical-align: top;\n",
       "    }\n",
       "\n",
       "    .dataframe thead th {\n",
       "        text-align: right;\n",
       "    }\n",
       "</style>\n",
       "<table border=\"1\" class=\"dataframe\">\n",
       "  <thead>\n",
       "    <tr style=\"text-align: right;\">\n",
       "      <th></th>\n",
       "      <th>customerID</th>\n",
       "      <th>InternetService</th>\n",
       "      <th>OnlineSecurity</th>\n",
       "      <th>OnlineBackup</th>\n",
       "      <th>DeviceProtection</th>\n",
       "      <th>TechSupport</th>\n",
       "      <th>StreamingTV</th>\n",
       "      <th>StreamingMovies</th>\n",
       "    </tr>\n",
       "  </thead>\n",
       "  <tbody>\n",
       "    <tr>\n",
       "      <th>0</th>\n",
       "      <td>7590-VHVEG</td>\n",
       "      <td>DSL</td>\n",
       "      <td>No</td>\n",
       "      <td>Yes</td>\n",
       "      <td>No</td>\n",
       "      <td>No</td>\n",
       "      <td>No</td>\n",
       "      <td>No</td>\n",
       "    </tr>\n",
       "    <tr>\n",
       "      <th>1</th>\n",
       "      <td>5575-GNVDE</td>\n",
       "      <td>DSL</td>\n",
       "      <td>Yes</td>\n",
       "      <td>No</td>\n",
       "      <td>Yes</td>\n",
       "      <td>No</td>\n",
       "      <td>No</td>\n",
       "      <td>No</td>\n",
       "    </tr>\n",
       "    <tr>\n",
       "      <th>2</th>\n",
       "      <td>3668-QPYBK</td>\n",
       "      <td>DSL</td>\n",
       "      <td>Yes</td>\n",
       "      <td>Yes</td>\n",
       "      <td>No</td>\n",
       "      <td>No</td>\n",
       "      <td>No</td>\n",
       "      <td>No</td>\n",
       "    </tr>\n",
       "    <tr>\n",
       "      <th>3</th>\n",
       "      <td>7795-CFOCW</td>\n",
       "      <td>DSL</td>\n",
       "      <td>Yes</td>\n",
       "      <td>No</td>\n",
       "      <td>Yes</td>\n",
       "      <td>Yes</td>\n",
       "      <td>No</td>\n",
       "      <td>No</td>\n",
       "    </tr>\n",
       "    <tr>\n",
       "      <th>4</th>\n",
       "      <td>9237-HQITU</td>\n",
       "      <td>Fiber optic</td>\n",
       "      <td>No</td>\n",
       "      <td>No</td>\n",
       "      <td>No</td>\n",
       "      <td>No</td>\n",
       "      <td>No</td>\n",
       "      <td>No</td>\n",
       "    </tr>\n",
       "  </tbody>\n",
       "</table>\n",
       "</div>"
      ],
      "text/plain": [
       "   customerID InternetService OnlineSecurity OnlineBackup DeviceProtection  \\\n",
       "0  7590-VHVEG             DSL             No          Yes               No   \n",
       "1  5575-GNVDE             DSL            Yes           No              Yes   \n",
       "2  3668-QPYBK             DSL            Yes          Yes               No   \n",
       "3  7795-CFOCW             DSL            Yes           No              Yes   \n",
       "4  9237-HQITU     Fiber optic             No           No               No   \n",
       "\n",
       "  TechSupport StreamingTV StreamingMovies  \n",
       "0          No          No              No  \n",
       "1          No          No              No  \n",
       "2          No          No              No  \n",
       "3         Yes          No              No  \n",
       "4          No          No              No  "
      ]
     },
     "execution_count": 9,
     "metadata": {},
     "output_type": "execute_result"
    }
   ],
   "source": [
    "df_internet.head(5)"
   ]
  },
  {
   "cell_type": "markdown",
   "metadata": {
    "id": "KK01A8JuRBOB"
   },
   "source": [
    "Каждый объект в таблице — это информация о поведении одного пользователя. В таблицах совпадают значения из поля `customerID` - это уникальный номер клиента.\n",
    "\n",
    "Для таблиц\n",
    "\n",
    "`contract`:\n",
    "- BeginDate — дата начала договора,\n",
    "- EndDate — дата прекращения договора,\n",
    "- Type — тип договора (с помесячной оплатой, годовой или двухгодовой),\n",
    "- PaperlessBilling — есть ли электронный счет,\n",
    "- PaymentMethod — метод оплаты,\n",
    "- MonthlyCharges — ежемесячная плата за услуги,\n",
    "- TotalCharges — общая плата за услуги за все время,\n",
    "\n",
    "`personal`:\n",
    "- gender — пол клиента,\n",
    "- SeniorCitizen — является ли клиент пенсионером,\n",
    "- Partner — наличие супруга у клиента,\n",
    "- Dependents — наличие иждивенцев у клиента,\n",
    "\n",
    "`internet`:\n",
    "- InternetService — тип подключения интернета (DSL, оптоволокно),\n",
    "- OnlineSecurity — наличие услуги блокировки небезопасных сайтов,\n",
    "- OnlineBackup — наличие облачного хранилища для создания резервных копий,\n",
    "- DeviceProtection — наличие услуги антивируса,\n",
    "- TechSupport — наличие выделенной линии технической поддержки,\n",
    "- StreamingTV — наличие услуги онлайн-телевидения,\n",
    "- StreamingMovies — наличие услуги онлайн-кинотеатра,\n",
    "\n",
    "`phone`:\n",
    "- MultipleLines — наличие нескольких телефонных линий у клиента."
   ]
  },
  {
   "cell_type": "markdown",
   "metadata": {
    "id": "MvcEZa7_SptW"
   },
   "source": [
    "## Предобработка данных"
   ]
  },
  {
   "cell_type": "markdown",
   "metadata": {
    "id": "yH8s0R_cStDm"
   },
   "source": [
    "Посмотрим поподробнее на данные из каждой таблицы, нет ли пропусков, дубликатов, неадекватных данных...\n",
    "\n",
    "Далее объединим таблицы."
   ]
  },
  {
   "cell_type": "markdown",
   "metadata": {
    "id": "D8m0IE4XS-OO"
   },
   "source": [
    "### Таблица contract:"
   ]
  },
  {
   "cell_type": "markdown",
   "metadata": {
    "id": "Pyl48_pLTpVg"
   },
   "source": [
    "Информация о договорах актуальна на 1 февраля 2020."
   ]
  },
  {
   "cell_type": "code",
   "execution_count": 10,
   "metadata": {
    "colab": {
     "base_uri": "https://localhost:8080/"
    },
    "id": "5Brm4uvhTXhO",
    "outputId": "e6dfc056-0060-444e-e547-323d296d5fe0"
   },
   "outputs": [
    {
     "name": "stdout",
     "output_type": "stream",
     "text": [
      "<class 'pandas.core.frame.DataFrame'>\n",
      "RangeIndex: 7043 entries, 0 to 7042\n",
      "Data columns (total 8 columns):\n",
      " #   Column            Non-Null Count  Dtype  \n",
      "---  ------            --------------  -----  \n",
      " 0   customerID        7043 non-null   object \n",
      " 1   BeginDate         7043 non-null   object \n",
      " 2   EndDate           7043 non-null   object \n",
      " 3   Type              7043 non-null   object \n",
      " 4   PaperlessBilling  7043 non-null   object \n",
      " 5   PaymentMethod     7043 non-null   object \n",
      " 6   MonthlyCharges    7043 non-null   float64\n",
      " 7   TotalCharges      7043 non-null   object \n",
      "dtypes: float64(1), object(7)\n",
      "memory usage: 440.3+ KB\n"
     ]
    }
   ],
   "source": [
    "df_contract.info()"
   ]
  },
  {
   "cell_type": "markdown",
   "metadata": {
    "id": "4pCCHSbQTXn2"
   },
   "source": [
    "Пропусков в таблице нет. Необходимо привести названия столбцов в соответствии с хорошим стилем, и также поменять типы данных некоторых столбцов.\n",
    "\n",
    "Наш целевой признак это ушел клиент или остался: столбец `EndDate`. Поменяем в нём данные на 0 если клиент остался (значение No) и на 1 если ушел (есть дата разрыва контракта)."
   ]
  },
  {
   "cell_type": "code",
   "execution_count": 11,
   "metadata": {
    "colab": {
     "base_uri": "https://localhost:8080/"
    },
    "id": "e1q4ACaMUaiG",
    "outputId": "afa14989-82e5-49be-a912-4d629c370985"
   },
   "outputs": [
    {
     "data": {
      "text/plain": [
       "Index(['customerID', 'BeginDate', 'EndDate', 'Type', 'PaperlessBilling',\n",
       "       'PaymentMethod', 'MonthlyCharges', 'TotalCharges'],\n",
       "      dtype='object')"
      ]
     },
     "execution_count": 11,
     "metadata": {},
     "output_type": "execute_result"
    }
   ],
   "source": [
    "df_contract.columns"
   ]
  },
  {
   "cell_type": "code",
   "execution_count": 12,
   "metadata": {
    "id": "qi0Q3VfjUaiG"
   },
   "outputs": [],
   "source": [
    "df_contract = df_contract.rename(columns={\"customerID\": \"customer_id\",\n",
    "                            \"BeginDate\": \"begin_date\",\n",
    "                            \"EndDate\": \"end_date\",\n",
    "                            \"Type\": \"type\",\n",
    "                            \"PaperlessBilling\": \"paper_less_billing\",\n",
    "                            \"PaymentMethod\": \"payment_method\",\n",
    "                            \"MonthlyCharges\": \"monthly_charges\",\n",
    "                            \"TotalCharges\": \"total_charges\",\n",
    "                            })"
   ]
  },
  {
   "cell_type": "markdown",
   "metadata": {
    "id": "57lv-rQ5TMN7"
   },
   "source": [
    "Создадим признак года начала пользования услугами."
   ]
  },
  {
   "cell_type": "code",
   "execution_count": 13,
   "metadata": {
    "id": "5d8bey_2UaiH"
   },
   "outputs": [],
   "source": [
    "df_contract['begin_date'] = pd.to_datetime(df_contract['begin_date'], format='%Y-%m-%d')\n",
    "df_contract['begin_year'] = pd.DatetimeIndex(df_contract['begin_date']).year"
   ]
  },
  {
   "cell_type": "code",
   "execution_count": 14,
   "metadata": {
    "colab": {
     "base_uri": "https://localhost:8080/"
    },
    "id": "PG2eysrM8_7u",
    "outputId": "217a7325-19b4-422b-9a43-2438c021a24b"
   },
   "outputs": [
    {
     "data": {
      "text/plain": [
       "No                     5174\n",
       "2019-11-01 00:00:00     485\n",
       "2019-12-01 00:00:00     466\n",
       "2020-01-01 00:00:00     460\n",
       "2019-10-01 00:00:00     458\n",
       "Name: end_date, dtype: int64"
      ]
     },
     "execution_count": 14,
     "metadata": {},
     "output_type": "execute_result"
    }
   ],
   "source": [
    "df_contract['end_date'].value_counts()"
   ]
  },
  {
   "cell_type": "markdown",
   "metadata": {},
   "source": [
    "Введём новый столбец с длительностью контракта для каждого клиента. Для клиентов, которые не разорвали контракт и в атрибуте `end_date` у них стоит No - укажем дату выгрузки данных."
   ]
  },
  {
   "cell_type": "code",
   "execution_count": 15,
   "metadata": {},
   "outputs": [],
   "source": [
    "df_contract['duration'] = df_contract['end_date']"
   ]
  },
  {
   "cell_type": "code",
   "execution_count": 16,
   "metadata": {
    "id": "MH_QPmLQUaoH"
   },
   "outputs": [],
   "source": [
    "df_contract['end_date'] = df_contract['end_date'].apply(lambda x: 0 if x == 'No' else 1)"
   ]
  },
  {
   "cell_type": "code",
   "execution_count": 17,
   "metadata": {
    "colab": {
     "base_uri": "https://localhost:8080/"
    },
    "id": "xcGhSA8iUaoJ",
    "outputId": "efbc7b67-6f06-4197-b937-eb3debc91d59"
   },
   "outputs": [
    {
     "data": {
      "text/plain": [
       "0    5174\n",
       "1    1869\n",
       "Name: end_date, dtype: int64"
      ]
     },
     "execution_count": 17,
     "metadata": {},
     "output_type": "execute_result"
    }
   ],
   "source": [
    "df_contract['end_date'].value_counts()"
   ]
  },
  {
   "cell_type": "code",
   "execution_count": 18,
   "metadata": {
    "colab": {
     "base_uri": "https://localhost:8080/"
    },
    "id": "BsQhdt4OrHbM",
    "outputId": "4586e79b-1056-408c-d0a1-9fb112a67967",
    "scrolled": true
   },
   "outputs": [
    {
     "data": {
      "text/plain": [
       "26.536987079369588"
      ]
     },
     "execution_count": 18,
     "metadata": {},
     "output_type": "execute_result"
    }
   ],
   "source": [
    "1869/(1869+5174)*100"
   ]
  },
  {
   "cell_type": "markdown",
   "metadata": {
    "id": "g1lNV06gSxNt"
   },
   "source": [
    "26.5% всех представленных клиентов покинули провайдера. Клиенты уходили с октября 2019 года по январь 2020 года."
   ]
  },
  {
   "cell_type": "code",
   "execution_count": 19,
   "metadata": {},
   "outputs": [],
   "source": [
    "df_contract['duration'] = df_contract['duration'].apply(lambda x: '2020-02-01' if x == 'No' else x)"
   ]
  },
  {
   "cell_type": "code",
   "execution_count": 20,
   "metadata": {},
   "outputs": [],
   "source": [
    "df_contract['duration'] = pd.to_datetime(df_contract['duration'],format='%Y.%m.%d')"
   ]
  },
  {
   "cell_type": "code",
   "execution_count": 21,
   "metadata": {},
   "outputs": [
    {
     "data": {
      "text/plain": [
       "2020-02-01    5174\n",
       "2019-11-01     485\n",
       "2019-12-01     466\n",
       "2020-01-01     460\n",
       "2019-10-01     458\n",
       "Name: duration, dtype: int64"
      ]
     },
     "execution_count": 21,
     "metadata": {},
     "output_type": "execute_result"
    }
   ],
   "source": [
    "df_contract['duration'].value_counts()"
   ]
  },
  {
   "cell_type": "code",
   "execution_count": 22,
   "metadata": {},
   "outputs": [],
   "source": [
    "df_contract['duration'] = (pd.DatetimeIndex(\n",
    "    df_contract['duration']).year - pd.DatetimeIndex(\n",
    "    df_contract['begin_date']).year)* 12 + pd.DatetimeIndex(\n",
    "    df_contract['duration']).month - pd.DatetimeIndex(\n",
    "    df_contract['begin_date']).month"
   ]
  },
  {
   "cell_type": "markdown",
   "metadata": {
    "id": "-bECVSrxCZ2W"
   },
   "source": [
    "Чтобы перевести столбец `total_charges` в тип данных float, необходимо заполнить пустые значения. Создадим столбец с флагами, если в интересующем нас столбце нет значения и посмотрим на получившиеся данные:"
   ]
  },
  {
   "cell_type": "code",
   "execution_count": 23,
   "metadata": {
    "id": "b7-Teo9EEMa1"
   },
   "outputs": [],
   "source": [
    "def isfloat(value): \n",
    "    try:\n",
    "        float(value)\n",
    "        return True\n",
    "    except ValueError:\n",
    "        return False"
   ]
  },
  {
   "cell_type": "code",
   "execution_count": 24,
   "metadata": {
    "id": "brncj9Z8EMTV"
   },
   "outputs": [],
   "source": [
    "df_contract['condition'] = df_contract['total_charges'].apply(isfloat)"
   ]
  },
  {
   "cell_type": "code",
   "execution_count": 25,
   "metadata": {
    "colab": {
     "base_uri": "https://localhost:8080/",
     "height": 394
    },
    "id": "e7zb8JfoEMLt",
    "outputId": "069e473d-9958-4c87-f835-d95af13420cb"
   },
   "outputs": [
    {
     "data": {
      "text/html": [
       "<div>\n",
       "<style scoped>\n",
       "    .dataframe tbody tr th:only-of-type {\n",
       "        vertical-align: middle;\n",
       "    }\n",
       "\n",
       "    .dataframe tbody tr th {\n",
       "        vertical-align: top;\n",
       "    }\n",
       "\n",
       "    .dataframe thead th {\n",
       "        text-align: right;\n",
       "    }\n",
       "</style>\n",
       "<table border=\"1\" class=\"dataframe\">\n",
       "  <thead>\n",
       "    <tr style=\"text-align: right;\">\n",
       "      <th></th>\n",
       "      <th>customer_id</th>\n",
       "      <th>begin_date</th>\n",
       "      <th>end_date</th>\n",
       "      <th>type</th>\n",
       "      <th>paper_less_billing</th>\n",
       "      <th>payment_method</th>\n",
       "      <th>monthly_charges</th>\n",
       "      <th>total_charges</th>\n",
       "      <th>begin_year</th>\n",
       "      <th>duration</th>\n",
       "      <th>condition</th>\n",
       "    </tr>\n",
       "  </thead>\n",
       "  <tbody>\n",
       "    <tr>\n",
       "      <th>488</th>\n",
       "      <td>4472-LVYGI</td>\n",
       "      <td>2020-02-01</td>\n",
       "      <td>0</td>\n",
       "      <td>Two year</td>\n",
       "      <td>Yes</td>\n",
       "      <td>Bank transfer (automatic)</td>\n",
       "      <td>52.55</td>\n",
       "      <td></td>\n",
       "      <td>2020</td>\n",
       "      <td>0</td>\n",
       "      <td>False</td>\n",
       "    </tr>\n",
       "    <tr>\n",
       "      <th>753</th>\n",
       "      <td>3115-CZMZD</td>\n",
       "      <td>2020-02-01</td>\n",
       "      <td>0</td>\n",
       "      <td>Two year</td>\n",
       "      <td>No</td>\n",
       "      <td>Mailed check</td>\n",
       "      <td>20.25</td>\n",
       "      <td></td>\n",
       "      <td>2020</td>\n",
       "      <td>0</td>\n",
       "      <td>False</td>\n",
       "    </tr>\n",
       "    <tr>\n",
       "      <th>936</th>\n",
       "      <td>5709-LVOEQ</td>\n",
       "      <td>2020-02-01</td>\n",
       "      <td>0</td>\n",
       "      <td>Two year</td>\n",
       "      <td>No</td>\n",
       "      <td>Mailed check</td>\n",
       "      <td>80.85</td>\n",
       "      <td></td>\n",
       "      <td>2020</td>\n",
       "      <td>0</td>\n",
       "      <td>False</td>\n",
       "    </tr>\n",
       "    <tr>\n",
       "      <th>1082</th>\n",
       "      <td>4367-NUYAO</td>\n",
       "      <td>2020-02-01</td>\n",
       "      <td>0</td>\n",
       "      <td>Two year</td>\n",
       "      <td>No</td>\n",
       "      <td>Mailed check</td>\n",
       "      <td>25.75</td>\n",
       "      <td></td>\n",
       "      <td>2020</td>\n",
       "      <td>0</td>\n",
       "      <td>False</td>\n",
       "    </tr>\n",
       "    <tr>\n",
       "      <th>1340</th>\n",
       "      <td>1371-DWPAZ</td>\n",
       "      <td>2020-02-01</td>\n",
       "      <td>0</td>\n",
       "      <td>Two year</td>\n",
       "      <td>No</td>\n",
       "      <td>Credit card (automatic)</td>\n",
       "      <td>56.05</td>\n",
       "      <td></td>\n",
       "      <td>2020</td>\n",
       "      <td>0</td>\n",
       "      <td>False</td>\n",
       "    </tr>\n",
       "    <tr>\n",
       "      <th>3331</th>\n",
       "      <td>7644-OMVMY</td>\n",
       "      <td>2020-02-01</td>\n",
       "      <td>0</td>\n",
       "      <td>Two year</td>\n",
       "      <td>No</td>\n",
       "      <td>Mailed check</td>\n",
       "      <td>19.85</td>\n",
       "      <td></td>\n",
       "      <td>2020</td>\n",
       "      <td>0</td>\n",
       "      <td>False</td>\n",
       "    </tr>\n",
       "    <tr>\n",
       "      <th>3826</th>\n",
       "      <td>3213-VVOLG</td>\n",
       "      <td>2020-02-01</td>\n",
       "      <td>0</td>\n",
       "      <td>Two year</td>\n",
       "      <td>No</td>\n",
       "      <td>Mailed check</td>\n",
       "      <td>25.35</td>\n",
       "      <td></td>\n",
       "      <td>2020</td>\n",
       "      <td>0</td>\n",
       "      <td>False</td>\n",
       "    </tr>\n",
       "    <tr>\n",
       "      <th>4380</th>\n",
       "      <td>2520-SGTTA</td>\n",
       "      <td>2020-02-01</td>\n",
       "      <td>0</td>\n",
       "      <td>Two year</td>\n",
       "      <td>No</td>\n",
       "      <td>Mailed check</td>\n",
       "      <td>20.00</td>\n",
       "      <td></td>\n",
       "      <td>2020</td>\n",
       "      <td>0</td>\n",
       "      <td>False</td>\n",
       "    </tr>\n",
       "    <tr>\n",
       "      <th>5218</th>\n",
       "      <td>2923-ARZLG</td>\n",
       "      <td>2020-02-01</td>\n",
       "      <td>0</td>\n",
       "      <td>One year</td>\n",
       "      <td>Yes</td>\n",
       "      <td>Mailed check</td>\n",
       "      <td>19.70</td>\n",
       "      <td></td>\n",
       "      <td>2020</td>\n",
       "      <td>0</td>\n",
       "      <td>False</td>\n",
       "    </tr>\n",
       "    <tr>\n",
       "      <th>6670</th>\n",
       "      <td>4075-WKNIU</td>\n",
       "      <td>2020-02-01</td>\n",
       "      <td>0</td>\n",
       "      <td>Two year</td>\n",
       "      <td>No</td>\n",
       "      <td>Mailed check</td>\n",
       "      <td>73.35</td>\n",
       "      <td></td>\n",
       "      <td>2020</td>\n",
       "      <td>0</td>\n",
       "      <td>False</td>\n",
       "    </tr>\n",
       "    <tr>\n",
       "      <th>6754</th>\n",
       "      <td>2775-SEFEE</td>\n",
       "      <td>2020-02-01</td>\n",
       "      <td>0</td>\n",
       "      <td>Two year</td>\n",
       "      <td>Yes</td>\n",
       "      <td>Bank transfer (automatic)</td>\n",
       "      <td>61.90</td>\n",
       "      <td></td>\n",
       "      <td>2020</td>\n",
       "      <td>0</td>\n",
       "      <td>False</td>\n",
       "    </tr>\n",
       "  </tbody>\n",
       "</table>\n",
       "</div>"
      ],
      "text/plain": [
       "     customer_id begin_date  end_date      type paper_less_billing  \\\n",
       "488   4472-LVYGI 2020-02-01         0  Two year                Yes   \n",
       "753   3115-CZMZD 2020-02-01         0  Two year                 No   \n",
       "936   5709-LVOEQ 2020-02-01         0  Two year                 No   \n",
       "1082  4367-NUYAO 2020-02-01         0  Two year                 No   \n",
       "1340  1371-DWPAZ 2020-02-01         0  Two year                 No   \n",
       "3331  7644-OMVMY 2020-02-01         0  Two year                 No   \n",
       "3826  3213-VVOLG 2020-02-01         0  Two year                 No   \n",
       "4380  2520-SGTTA 2020-02-01         0  Two year                 No   \n",
       "5218  2923-ARZLG 2020-02-01         0  One year                Yes   \n",
       "6670  4075-WKNIU 2020-02-01         0  Two year                 No   \n",
       "6754  2775-SEFEE 2020-02-01         0  Two year                Yes   \n",
       "\n",
       "                 payment_method  monthly_charges total_charges  begin_year  \\\n",
       "488   Bank transfer (automatic)            52.55                      2020   \n",
       "753                Mailed check            20.25                      2020   \n",
       "936                Mailed check            80.85                      2020   \n",
       "1082               Mailed check            25.75                      2020   \n",
       "1340    Credit card (automatic)            56.05                      2020   \n",
       "3331               Mailed check            19.85                      2020   \n",
       "3826               Mailed check            25.35                      2020   \n",
       "4380               Mailed check            20.00                      2020   \n",
       "5218               Mailed check            19.70                      2020   \n",
       "6670               Mailed check            73.35                      2020   \n",
       "6754  Bank transfer (automatic)            61.90                      2020   \n",
       "\n",
       "      duration  condition  \n",
       "488          0      False  \n",
       "753          0      False  \n",
       "936          0      False  \n",
       "1082         0      False  \n",
       "1340         0      False  \n",
       "3331         0      False  \n",
       "3826         0      False  \n",
       "4380         0      False  \n",
       "5218         0      False  \n",
       "6670         0      False  \n",
       "6754         0      False  "
      ]
     },
     "execution_count": 25,
     "metadata": {},
     "output_type": "execute_result"
    }
   ],
   "source": [
    "df_contract[df_contract['condition']==False]"
   ]
  },
  {
   "cell_type": "markdown",
   "metadata": {
    "id": "WfJsKSZpFk0G"
   },
   "source": [
    "Общий платеж можно вычислить исходя из ежемесячного платежжа и типа оплаты. Во всех строках кроме 5218 оплата происходила за два года (24 месяца), а у этой строки за год (12 месяцев). Умножим ежемесячный плтеж на количество месяцев:"
   ]
  },
  {
   "cell_type": "code",
   "execution_count": 26,
   "metadata": {
    "id": "54qZj6Y8EMFd"
   },
   "outputs": [],
   "source": [
    "df_contract.loc[df_contract['condition']==False,'total_charges'] = df_contract.loc[df_contract['condition']==False,'monthly_charges']*24\n",
    "df_contract.loc[5218,'total_charges'] = df_contract.loc[5218,'monthly_charges']*12\n",
    "df_contract = df_contract.drop('condition',axis=1)"
   ]
  },
  {
   "cell_type": "code",
   "execution_count": 27,
   "metadata": {
    "id": "qIKEtKDgEL-M"
   },
   "outputs": [],
   "source": [
    "df_contract['total_charges'] = df_contract['total_charges'].astype('float')"
   ]
  },
  {
   "cell_type": "markdown",
   "metadata": {
    "id": "ml1mQec2cBAQ"
   },
   "source": [
    "Построим распределение количества клиентов по ежемесячному платежу, общему платежу."
   ]
  },
  {
   "cell_type": "code",
   "execution_count": 28,
   "metadata": {
    "colab": {
     "base_uri": "https://localhost:8080/",
     "height": 282
    },
    "id": "swJxJfHEHrzd",
    "outputId": "276a8e21-1c2e-486e-c853-d42decc2abaa"
   },
   "outputs": [
    {
     "data": {
      "text/plain": [
       "<AxesSubplot:>"
      ]
     },
     "execution_count": 28,
     "metadata": {},
     "output_type": "execute_result"
    },
    {
     "data": {
      "image/png": "[encoded data removed]",
      "text/plain": [
       "<Figure size 432x288 with 1 Axes>"
      ]
     },
     "metadata": {
      "needs_background": "light"
     },
     "output_type": "display_data"
    }
   ],
   "source": [
    "df_contract['monthly_charges'].hist()"
   ]
  },
  {
   "cell_type": "code",
   "execution_count": 29,
   "metadata": {
    "colab": {
     "base_uri": "https://localhost:8080/",
     "height": 282
    },
    "id": "K-qhAAlkHrr8",
    "outputId": "ce6093e5-d56b-429e-939d-7e5f4f1044a8"
   },
   "outputs": [
    {
     "data": {
      "text/plain": [
       "<AxesSubplot:>"
      ]
     },
     "execution_count": 29,
     "metadata": {},
     "output_type": "execute_result"
    },
    {
     "data": {
      "image/png": "[encoded data removed]",
      "text/plain": [
       "<Figure size 432x288 with 1 Axes>"
      ]
     },
     "metadata": {
      "needs_background": "light"
     },
     "output_type": "display_data"
    }
   ],
   "source": [
    "df_contract['total_charges'].hist()"
   ]
  },
  {
   "cell_type": "markdown",
   "metadata": {
    "id": "AnzOWqmAcTZo"
   },
   "source": [
    "Ежемесячные платежи лежат в рамках от 19 до 120, а вот общие платежи располагаются очень близко к нулю. Проверим минимальное значеие таких платежей."
   ]
  },
  {
   "cell_type": "code",
   "execution_count": 30,
   "metadata": {
    "colab": {
     "base_uri": "https://localhost:8080/"
    },
    "id": "nKzW_3MsJYpt",
    "outputId": "937e3b4b-c057-4656-9013-33906c5f680d"
   },
   "outputs": [
    {
     "data": {
      "text/plain": [
       "18.8"
      ]
     },
     "execution_count": 30,
     "metadata": {},
     "output_type": "execute_result"
    }
   ],
   "source": [
    "df_contract['total_charges'].min()"
   ]
  },
  {
   "cell_type": "markdown",
   "metadata": {
    "id": "qp2jWtU3ILzF"
   },
   "source": [
    "Значения в столбцах оплаты выглядят адекватно. Нет значений равных нулю или экстремально высоких значений. Значения общей оплаты могут быть равны одному ежемесячному платежу, но нулевых значения в данных нет."
   ]
  },
  {
   "cell_type": "markdown",
   "metadata": {
    "id": "Wf22CVV4UatR"
   },
   "source": [
    "Приведём значения столбцов `type`, `paper_less_billing` и `payment_method` к нижнему регистру и проверим данные на наличие явных дубликатов."
   ]
  },
  {
   "cell_type": "code",
   "execution_count": 31,
   "metadata": {
    "id": "M_50sEgqGaXX"
   },
   "outputs": [],
   "source": [
    "cols = ['type','paper_less_billing','payment_method']\n",
    "for i in cols:\n",
    "    df_contract[i] = df_contract[i].str.lower()"
   ]
  },
  {
   "cell_type": "markdown",
   "metadata": {
    "id": "JmKr5U8Qc0GQ"
   },
   "source": [
    "Также посмотрим какие значения есть у данных атрибутов:"
   ]
  },
  {
   "cell_type": "code",
   "execution_count": 32,
   "metadata": {
    "colab": {
     "base_uri": "https://localhost:8080/"
    },
    "id": "LMiK6dGCHYit",
    "outputId": "608cc09e-76a4-441c-a815-83dbbfbe42c4"
   },
   "outputs": [
    {
     "data": {
      "text/plain": [
       "month-to-month    3875\n",
       "two year          1695\n",
       "one year          1473\n",
       "Name: type, dtype: int64"
      ]
     },
     "execution_count": 32,
     "metadata": {},
     "output_type": "execute_result"
    }
   ],
   "source": [
    "df_contract['type'].value_counts()"
   ]
  },
  {
   "cell_type": "code",
   "execution_count": 33,
   "metadata": {
    "colab": {
     "base_uri": "https://localhost:8080/"
    },
    "id": "mqVqNvDUHYqV",
    "outputId": "f75cee7a-78be-49f6-d0b9-1d87388ce4ed"
   },
   "outputs": [
    {
     "data": {
      "text/plain": [
       "yes    4171\n",
       "no     2872\n",
       "Name: paper_less_billing, dtype: int64"
      ]
     },
     "execution_count": 33,
     "metadata": {},
     "output_type": "execute_result"
    }
   ],
   "source": [
    "df_contract['paper_less_billing'].value_counts()"
   ]
  },
  {
   "cell_type": "code",
   "execution_count": 34,
   "metadata": {
    "colab": {
     "base_uri": "https://localhost:8080/"
    },
    "id": "5yxL0VMzHYw1",
    "outputId": "cb91fa48-0109-42f3-b1a1-e977b3faab7b"
   },
   "outputs": [
    {
     "data": {
      "text/plain": [
       "electronic check             2365\n",
       "mailed check                 1612\n",
       "bank transfer (automatic)    1544\n",
       "credit card (automatic)      1522\n",
       "Name: payment_method, dtype: int64"
      ]
     },
     "execution_count": 34,
     "metadata": {},
     "output_type": "execute_result"
    }
   ],
   "source": [
    "df_contract['payment_method'].value_counts()"
   ]
  },
  {
   "cell_type": "code",
   "execution_count": 35,
   "metadata": {
    "colab": {
     "base_uri": "https://localhost:8080/"
    },
    "id": "JNXVoNvgGaQg",
    "outputId": "bba2ef72-65c1-4adc-cb56-c7eca2f8413c"
   },
   "outputs": [
    {
     "data": {
      "text/plain": [
       "0"
      ]
     },
     "execution_count": 35,
     "metadata": {},
     "output_type": "execute_result"
    }
   ],
   "source": [
    "df_contract.duplicated().sum()"
   ]
  },
  {
   "cell_type": "code",
   "execution_count": 36,
   "metadata": {
    "colab": {
     "base_uri": "https://localhost:8080/"
    },
    "id": "r5FYcbhRUatT",
    "outputId": "629f26fa-b6a0-4643-84bb-048db7f89cb9"
   },
   "outputs": [
    {
     "name": "stdout",
     "output_type": "stream",
     "text": [
      "<class 'pandas.core.frame.DataFrame'>\n",
      "RangeIndex: 7043 entries, 0 to 7042\n",
      "Data columns (total 10 columns):\n",
      " #   Column              Non-Null Count  Dtype         \n",
      "---  ------              --------------  -----         \n",
      " 0   customer_id         7043 non-null   object        \n",
      " 1   begin_date          7043 non-null   datetime64[ns]\n",
      " 2   end_date            7043 non-null   int64         \n",
      " 3   type                7043 non-null   object        \n",
      " 4   paper_less_billing  7043 non-null   object        \n",
      " 5   payment_method      7043 non-null   object        \n",
      " 6   monthly_charges     7043 non-null   float64       \n",
      " 7   total_charges       7043 non-null   float64       \n",
      " 8   begin_year          7043 non-null   int64         \n",
      " 9   duration            7043 non-null   int64         \n",
      "dtypes: datetime64[ns](1), float64(2), int64(3), object(4)\n",
      "memory usage: 550.4+ KB\n"
     ]
    }
   ],
   "source": [
    "df_contract.info()"
   ]
  },
  {
   "cell_type": "markdown",
   "metadata": {
    "id": "vUdq76WgGaHx"
   },
   "source": [
    "Явных дубликатов нет. Атрибуты переименованы согласно хорошему стилю. Пропусков нет. Данные выглядят адекватно."
   ]
  },
  {
   "cell_type": "markdown",
   "metadata": {
    "id": "NQ_CME8DTHNu"
   },
   "source": [
    "### Таблица personal:"
   ]
  },
  {
   "cell_type": "code",
   "execution_count": 37,
   "metadata": {
    "colab": {
     "base_uri": "https://localhost:8080/",
     "height": 340
    },
    "id": "GSC0RNFUJs__",
    "outputId": "6758f32b-4297-4923-89af-a7f3654ed22b"
   },
   "outputs": [
    {
     "data": {
      "text/html": [
       "<div>\n",
       "<style scoped>\n",
       "    .dataframe tbody tr th:only-of-type {\n",
       "        vertical-align: middle;\n",
       "    }\n",
       "\n",
       "    .dataframe tbody tr th {\n",
       "        vertical-align: top;\n",
       "    }\n",
       "\n",
       "    .dataframe thead th {\n",
       "        text-align: right;\n",
       "    }\n",
       "</style>\n",
       "<table border=\"1\" class=\"dataframe\">\n",
       "  <thead>\n",
       "    <tr style=\"text-align: right;\">\n",
       "      <th></th>\n",
       "      <th>customerID</th>\n",
       "      <th>gender</th>\n",
       "      <th>SeniorCitizen</th>\n",
       "      <th>Partner</th>\n",
       "      <th>Dependents</th>\n",
       "    </tr>\n",
       "  </thead>\n",
       "  <tbody>\n",
       "    <tr>\n",
       "      <th>0</th>\n",
       "      <td>7590-VHVEG</td>\n",
       "      <td>Female</td>\n",
       "      <td>0</td>\n",
       "      <td>Yes</td>\n",
       "      <td>No</td>\n",
       "    </tr>\n",
       "    <tr>\n",
       "      <th>1</th>\n",
       "      <td>5575-GNVDE</td>\n",
       "      <td>Male</td>\n",
       "      <td>0</td>\n",
       "      <td>No</td>\n",
       "      <td>No</td>\n",
       "    </tr>\n",
       "    <tr>\n",
       "      <th>2</th>\n",
       "      <td>3668-QPYBK</td>\n",
       "      <td>Male</td>\n",
       "      <td>0</td>\n",
       "      <td>No</td>\n",
       "      <td>No</td>\n",
       "    </tr>\n",
       "    <tr>\n",
       "      <th>3</th>\n",
       "      <td>7795-CFOCW</td>\n",
       "      <td>Male</td>\n",
       "      <td>0</td>\n",
       "      <td>No</td>\n",
       "      <td>No</td>\n",
       "    </tr>\n",
       "    <tr>\n",
       "      <th>4</th>\n",
       "      <td>9237-HQITU</td>\n",
       "      <td>Female</td>\n",
       "      <td>0</td>\n",
       "      <td>No</td>\n",
       "      <td>No</td>\n",
       "    </tr>\n",
       "  </tbody>\n",
       "</table>\n",
       "</div>"
      ],
      "text/plain": [
       "   customerID  gender  SeniorCitizen Partner Dependents\n",
       "0  7590-VHVEG  Female              0     Yes         No\n",
       "1  5575-GNVDE    Male              0      No         No\n",
       "2  3668-QPYBK    Male              0      No         No\n",
       "3  7795-CFOCW    Male              0      No         No\n",
       "4  9237-HQITU  Female              0      No         No"
      ]
     },
     "execution_count": 37,
     "metadata": {},
     "output_type": "execute_result"
    }
   ],
   "source": [
    "df_personal.head(5)"
   ]
  },
  {
   "cell_type": "markdown",
   "metadata": {
    "id": "x3gH3f2ldK5g"
   },
   "source": [
    "Переименуем столбцы согласно хорошему стилю. Значения атрибута пола приведём к нижнему регистру. Атрибуты наличия партнёра и иждивенцев переведём в бинарный формат."
   ]
  },
  {
   "cell_type": "code",
   "execution_count": 38,
   "metadata": {
    "id": "cXL8cbSgKTJA"
   },
   "outputs": [],
   "source": [
    "df_personal = df_personal.rename(columns={\n",
    "                            \"customerID\": \"customer_id\",\n",
    "                            \"gender\": \"gender\",\n",
    "                            \"SeniorCitizen\": \"senior_citizen\",\n",
    "                            \"Partner\": \"partner\",\n",
    "                            \"Dependents\": \"dependents\"\n",
    "                            })"
   ]
  },
  {
   "cell_type": "code",
   "execution_count": 39,
   "metadata": {
    "id": "3GQfTFc_TZWe"
   },
   "outputs": [],
   "source": [
    "df_personal['gender'] = df_personal['gender'].str.lower()"
   ]
  },
  {
   "cell_type": "code",
   "execution_count": 40,
   "metadata": {
    "id": "CL9aXLYlTZWf"
   },
   "outputs": [],
   "source": [
    "df_personal['partner'] = df_personal['partner'].apply(lambda x: 1 if x == 'Yes' else 0)"
   ]
  },
  {
   "cell_type": "code",
   "execution_count": 41,
   "metadata": {
    "id": "OO3CHBmpTZWg"
   },
   "outputs": [],
   "source": [
    "df_personal['dependents'] = df_personal['dependents'].apply(lambda x: 1 if x == 'Yes' else 0)"
   ]
  },
  {
   "cell_type": "markdown",
   "metadata": {
    "id": "4S-3_fKRdndI"
   },
   "source": [
    "Проверим, какие значения встречаются в атрибуте пола. Проверим наличие явных дубликатов."
   ]
  },
  {
   "cell_type": "code",
   "execution_count": 42,
   "metadata": {
    "colab": {
     "base_uri": "https://localhost:8080/"
    },
    "id": "_Cu0PNlCK6Vs",
    "outputId": "74b425b6-ff02-4088-c5ef-558a890d8030"
   },
   "outputs": [
    {
     "data": {
      "text/plain": [
       "male      3555\n",
       "female    3488\n",
       "Name: gender, dtype: int64"
      ]
     },
     "execution_count": 42,
     "metadata": {},
     "output_type": "execute_result"
    }
   ],
   "source": [
    "df_personal['gender'].value_counts()"
   ]
  },
  {
   "cell_type": "code",
   "execution_count": 43,
   "metadata": {
    "colab": {
     "base_uri": "https://localhost:8080/"
    },
    "id": "nKfIdFz0L560",
    "outputId": "0e0dffc8-8e49-42cf-cbfc-9ed42c160d78"
   },
   "outputs": [
    {
     "data": {
      "text/plain": [
       "0"
      ]
     },
     "execution_count": 43,
     "metadata": {},
     "output_type": "execute_result"
    }
   ],
   "source": [
    "df_personal.duplicated().sum()"
   ]
  },
  {
   "cell_type": "markdown",
   "metadata": {
    "id": "6hOzet_sMSDD"
   },
   "source": [
    "Явных дубликатов нет. Атрибуты переименованы согласно хорошему стилю. Пропусков нет. Данные выглядят адекватно."
   ]
  },
  {
   "cell_type": "markdown",
   "metadata": {
    "id": "EK5qSlHxTHS-"
   },
   "source": [
    "### Таблица internet:"
   ]
  },
  {
   "cell_type": "code",
   "execution_count": 44,
   "metadata": {
    "colab": {
     "base_uri": "https://localhost:8080/",
     "height": 206
    },
    "id": "PoLY3tEcJtAB",
    "outputId": "2b3040e7-f873-4f31-a2f4-e01f39a522a0"
   },
   "outputs": [
    {
     "data": {
      "text/html": [
       "<div>\n",
       "<style scoped>\n",
       "    .dataframe tbody tr th:only-of-type {\n",
       "        vertical-align: middle;\n",
       "    }\n",
       "\n",
       "    .dataframe tbody tr th {\n",
       "        vertical-align: top;\n",
       "    }\n",
       "\n",
       "    .dataframe thead th {\n",
       "        text-align: right;\n",
       "    }\n",
       "</style>\n",
       "<table border=\"1\" class=\"dataframe\">\n",
       "  <thead>\n",
       "    <tr style=\"text-align: right;\">\n",
       "      <th></th>\n",
       "      <th>customerID</th>\n",
       "      <th>InternetService</th>\n",
       "      <th>OnlineSecurity</th>\n",
       "      <th>OnlineBackup</th>\n",
       "      <th>DeviceProtection</th>\n",
       "      <th>TechSupport</th>\n",
       "      <th>StreamingTV</th>\n",
       "      <th>StreamingMovies</th>\n",
       "    </tr>\n",
       "  </thead>\n",
       "  <tbody>\n",
       "    <tr>\n",
       "      <th>0</th>\n",
       "      <td>7590-VHVEG</td>\n",
       "      <td>DSL</td>\n",
       "      <td>No</td>\n",
       "      <td>Yes</td>\n",
       "      <td>No</td>\n",
       "      <td>No</td>\n",
       "      <td>No</td>\n",
       "      <td>No</td>\n",
       "    </tr>\n",
       "    <tr>\n",
       "      <th>1</th>\n",
       "      <td>5575-GNVDE</td>\n",
       "      <td>DSL</td>\n",
       "      <td>Yes</td>\n",
       "      <td>No</td>\n",
       "      <td>Yes</td>\n",
       "      <td>No</td>\n",
       "      <td>No</td>\n",
       "      <td>No</td>\n",
       "    </tr>\n",
       "    <tr>\n",
       "      <th>2</th>\n",
       "      <td>3668-QPYBK</td>\n",
       "      <td>DSL</td>\n",
       "      <td>Yes</td>\n",
       "      <td>Yes</td>\n",
       "      <td>No</td>\n",
       "      <td>No</td>\n",
       "      <td>No</td>\n",
       "      <td>No</td>\n",
       "    </tr>\n",
       "    <tr>\n",
       "      <th>3</th>\n",
       "      <td>7795-CFOCW</td>\n",
       "      <td>DSL</td>\n",
       "      <td>Yes</td>\n",
       "      <td>No</td>\n",
       "      <td>Yes</td>\n",
       "      <td>Yes</td>\n",
       "      <td>No</td>\n",
       "      <td>No</td>\n",
       "    </tr>\n",
       "    <tr>\n",
       "      <th>4</th>\n",
       "      <td>9237-HQITU</td>\n",
       "      <td>Fiber optic</td>\n",
       "      <td>No</td>\n",
       "      <td>No</td>\n",
       "      <td>No</td>\n",
       "      <td>No</td>\n",
       "      <td>No</td>\n",
       "      <td>No</td>\n",
       "    </tr>\n",
       "  </tbody>\n",
       "</table>\n",
       "</div>"
      ],
      "text/plain": [
       "   customerID InternetService OnlineSecurity OnlineBackup DeviceProtection  \\\n",
       "0  7590-VHVEG             DSL             No          Yes               No   \n",
       "1  5575-GNVDE             DSL            Yes           No              Yes   \n",
       "2  3668-QPYBK             DSL            Yes          Yes               No   \n",
       "3  7795-CFOCW             DSL            Yes           No              Yes   \n",
       "4  9237-HQITU     Fiber optic             No           No               No   \n",
       "\n",
       "  TechSupport StreamingTV StreamingMovies  \n",
       "0          No          No              No  \n",
       "1          No          No              No  \n",
       "2          No          No              No  \n",
       "3         Yes          No              No  \n",
       "4          No          No              No  "
      ]
     },
     "execution_count": 44,
     "metadata": {},
     "output_type": "execute_result"
    }
   ],
   "source": [
    "df_internet.head(5)"
   ]
  },
  {
   "cell_type": "markdown",
   "metadata": {
    "id": "g5l7vJQoe1EA"
   },
   "source": [
    "Переименуем столбцы согласно хорошему стилю. Значения атрибутов формата Да/Нет  переведём в бинарный формат."
   ]
  },
  {
   "cell_type": "code",
   "execution_count": 45,
   "metadata": {
    "id": "XfnaQXpaTZvG"
   },
   "outputs": [],
   "source": [
    "df_internet = df_internet.rename(columns={\n",
    "                            \"customerID\": \"customer_id\",\n",
    "                            \"InternetService\": \"internet_service\",\n",
    "                            \"OnlineSecurity\": \"online_security\",\n",
    "                            \"OnlineBackup\": \"online_backup\",\n",
    "                            \"DeviceProtection\": \"device_protection\",\n",
    "                            \"TechSupport\": \"tech_support\",\n",
    "                            \"StreamingTV\": \"streaming_tv\",\n",
    "                            \"StreamingMovies\": \"streaming_movies\"\n",
    "                            })"
   ]
  },
  {
   "cell_type": "code",
   "execution_count": 46,
   "metadata": {
    "id": "Cei_rUWLTZvI"
   },
   "outputs": [],
   "source": [
    "cols = ['online_security','online_backup','device_protection','tech_support','streaming_tv','streaming_movies']\n",
    "for i in cols:\n",
    "    df_internet[i] = df_internet[i].apply(lambda x: 1 if x == 'Yes' else 0)"
   ]
  },
  {
   "cell_type": "markdown",
   "metadata": {
    "id": "HW9_j8tvfKvQ"
   },
   "source": [
    "Посмотрим, много ли клиентов пользуются дополнительными услугами:"
   ]
  },
  {
   "cell_type": "code",
   "execution_count": 47,
   "metadata": {
    "colab": {
     "base_uri": "https://localhost:8080/"
    },
    "id": "ojF2lb6KTZvI",
    "outputId": "d8ce754d-ad01-4985-be2b-e7b08168493b"
   },
   "outputs": [
    {
     "name": "stdout",
     "output_type": "stream",
     "text": [
      "online_security :\n",
      "0    3498\n",
      "1    2019\n",
      "Name: online_security, dtype: int64\n",
      "online_backup :\n",
      "0    3088\n",
      "1    2429\n",
      "Name: online_backup, dtype: int64\n",
      "device_protection :\n",
      "0    3095\n",
      "1    2422\n",
      "Name: device_protection, dtype: int64\n",
      "tech_support :\n",
      "0    3473\n",
      "1    2044\n",
      "Name: tech_support, dtype: int64\n",
      "streaming_tv :\n",
      "0    2810\n",
      "1    2707\n",
      "Name: streaming_tv, dtype: int64\n",
      "streaming_movies :\n",
      "0    2785\n",
      "1    2732\n",
      "Name: streaming_movies, dtype: int64\n"
     ]
    }
   ],
   "source": [
    "for i in cols:\n",
    "    print(i, \":\")\n",
    "    print(df_internet[i].value_counts())"
   ]
  },
  {
   "cell_type": "markdown",
   "metadata": {
    "id": "TLLVxjjHOvfE"
   },
   "source": [
    "Проверим наличие явных дубликатов:"
   ]
  },
  {
   "cell_type": "code",
   "execution_count": 48,
   "metadata": {
    "colab": {
     "base_uri": "https://localhost:8080/"
    },
    "id": "-5Tf0F2_O1pE",
    "outputId": "1c889d42-5e72-41fc-dff7-d265cf3b92dc"
   },
   "outputs": [
    {
     "data": {
      "text/plain": [
       "0"
      ]
     },
     "execution_count": 48,
     "metadata": {},
     "output_type": "execute_result"
    }
   ],
   "source": [
    "df_internet.duplicated().sum()"
   ]
  },
  {
   "cell_type": "markdown",
   "metadata": {
    "id": "dhCD5x1HO1pH"
   },
   "source": [
    "Явных дубликатов нет. Атрибуты переименованы согласно хорошему стилю. Пропусков нет. Данные выглядят адекватно."
   ]
  },
  {
   "cell_type": "markdown",
   "metadata": {
    "id": "h-AHeeUoTHZX"
   },
   "source": [
    "### Таблица phone:"
   ]
  },
  {
   "cell_type": "code",
   "execution_count": 49,
   "metadata": {
    "colab": {
     "base_uri": "https://localhost:8080/",
     "height": 322
    },
    "id": "XUpU-6x3Js_9",
    "outputId": "1a84cead-906a-4d61-c229-d687b4f101a9"
   },
   "outputs": [
    {
     "data": {
      "text/html": [
       "<div>\n",
       "<style scoped>\n",
       "    .dataframe tbody tr th:only-of-type {\n",
       "        vertical-align: middle;\n",
       "    }\n",
       "\n",
       "    .dataframe tbody tr th {\n",
       "        vertical-align: top;\n",
       "    }\n",
       "\n",
       "    .dataframe thead th {\n",
       "        text-align: right;\n",
       "    }\n",
       "</style>\n",
       "<table border=\"1\" class=\"dataframe\">\n",
       "  <thead>\n",
       "    <tr style=\"text-align: right;\">\n",
       "      <th></th>\n",
       "      <th>customerID</th>\n",
       "      <th>MultipleLines</th>\n",
       "    </tr>\n",
       "  </thead>\n",
       "  <tbody>\n",
       "    <tr>\n",
       "      <th>0</th>\n",
       "      <td>5575-GNVDE</td>\n",
       "      <td>No</td>\n",
       "    </tr>\n",
       "    <tr>\n",
       "      <th>1</th>\n",
       "      <td>3668-QPYBK</td>\n",
       "      <td>No</td>\n",
       "    </tr>\n",
       "    <tr>\n",
       "      <th>2</th>\n",
       "      <td>9237-HQITU</td>\n",
       "      <td>No</td>\n",
       "    </tr>\n",
       "    <tr>\n",
       "      <th>3</th>\n",
       "      <td>9305-CDSKC</td>\n",
       "      <td>Yes</td>\n",
       "    </tr>\n",
       "    <tr>\n",
       "      <th>4</th>\n",
       "      <td>1452-KIOVK</td>\n",
       "      <td>Yes</td>\n",
       "    </tr>\n",
       "  </tbody>\n",
       "</table>\n",
       "</div>"
      ],
      "text/plain": [
       "   customerID MultipleLines\n",
       "0  5575-GNVDE            No\n",
       "1  3668-QPYBK            No\n",
       "2  9237-HQITU            No\n",
       "3  9305-CDSKC           Yes\n",
       "4  1452-KIOVK           Yes"
      ]
     },
     "execution_count": 49,
     "metadata": {},
     "output_type": "execute_result"
    }
   ],
   "source": [
    "df_phone.head(5)"
   ]
  },
  {
   "cell_type": "markdown",
   "metadata": {
    "id": "USdiIgfjfrgY"
   },
   "source": [
    "Переименуем столбцы согласно хорошему стилю. Атрибут наличия мультилинии переведём в бинарный формат."
   ]
  },
  {
   "cell_type": "code",
   "execution_count": 50,
   "metadata": {
    "id": "2mZVy98xPICV"
   },
   "outputs": [],
   "source": [
    "df_phone = df_phone.rename(columns={\n",
    "                            \"customerID\": \"customer_id\",\n",
    "                            \"MultipleLines\": \"multiple_lines\"\n",
    "                            })"
   ]
  },
  {
   "cell_type": "code",
   "execution_count": 51,
   "metadata": {
    "colab": {
     "base_uri": "https://localhost:8080/"
    },
    "id": "NMJFjhoWPICW",
    "outputId": "97967e46-1288-4e4b-af51-bf0c379227fb"
   },
   "outputs": [
    {
     "data": {
      "text/plain": [
       "No     3390\n",
       "Yes    2971\n",
       "Name: multiple_lines, dtype: int64"
      ]
     },
     "execution_count": 51,
     "metadata": {},
     "output_type": "execute_result"
    }
   ],
   "source": [
    "df_phone['multiple_lines'].value_counts()"
   ]
  },
  {
   "cell_type": "code",
   "execution_count": 52,
   "metadata": {
    "colab": {
     "base_uri": "https://localhost:8080/"
    },
    "id": "nUlPrKZxPICX",
    "outputId": "55eacf07-748d-4680-9d95-48c7cb3f5aaa"
   },
   "outputs": [
    {
     "data": {
      "text/plain": [
       "0"
      ]
     },
     "execution_count": 52,
     "metadata": {},
     "output_type": "execute_result"
    }
   ],
   "source": [
    "df_phone.duplicated().sum()"
   ]
  },
  {
   "cell_type": "markdown",
   "metadata": {
    "id": "MTGsq9QrPICZ"
   },
   "source": [
    "Явных дубликатов нет. Атрибуты переименованы согласно хорошему стилю. Пропусков нет. Данные выглядят адекватно."
   ]
  },
  {
   "cell_type": "markdown",
   "metadata": {
    "id": "ZB_ygBVQTPMu"
   },
   "source": [
    "### Объединение таблиц:"
   ]
  },
  {
   "cell_type": "markdown",
   "metadata": {
    "id": "dOCLS5rPTabF"
   },
   "source": [
    "В таблицах есть код клиента `customer_id`, объединим по нему  все таблицы. "
   ]
  },
  {
   "cell_type": "code",
   "execution_count": 53,
   "metadata": {
    "id": "ztIV8ob9TabG"
   },
   "outputs": [],
   "source": [
    "result = pd.merge(df_contract, df_personal, how=\"outer\", on=[\"customer_id\", \"customer_id\"])\n",
    "result = pd.merge(result, df_internet, how=\"outer\", on=[\"customer_id\", \"customer_id\"])\n",
    "result = pd.merge(result, df_phone, how=\"outer\", on=[\"customer_id\", \"customer_id\"])"
   ]
  },
  {
   "cell_type": "code",
   "execution_count": 54,
   "metadata": {
    "colab": {
     "base_uri": "https://localhost:8080/",
     "height": 438
    },
    "id": "vRad23mQTabI",
    "outputId": "aeb6a649-3f2f-45e7-f08c-1bbddfd76243"
   },
   "outputs": [
    {
     "data": {
      "text/html": [
       "<div>\n",
       "<style scoped>\n",
       "    .dataframe tbody tr th:only-of-type {\n",
       "        vertical-align: middle;\n",
       "    }\n",
       "\n",
       "    .dataframe tbody tr th {\n",
       "        vertical-align: top;\n",
       "    }\n",
       "\n",
       "    .dataframe thead th {\n",
       "        text-align: right;\n",
       "    }\n",
       "</style>\n",
       "<table border=\"1\" class=\"dataframe\">\n",
       "  <thead>\n",
       "    <tr style=\"text-align: right;\">\n",
       "      <th></th>\n",
       "      <th>customer_id</th>\n",
       "      <th>begin_date</th>\n",
       "      <th>end_date</th>\n",
       "      <th>type</th>\n",
       "      <th>paper_less_billing</th>\n",
       "      <th>payment_method</th>\n",
       "      <th>monthly_charges</th>\n",
       "      <th>total_charges</th>\n",
       "      <th>begin_year</th>\n",
       "      <th>duration</th>\n",
       "      <th>...</th>\n",
       "      <th>partner</th>\n",
       "      <th>dependents</th>\n",
       "      <th>internet_service</th>\n",
       "      <th>online_security</th>\n",
       "      <th>online_backup</th>\n",
       "      <th>device_protection</th>\n",
       "      <th>tech_support</th>\n",
       "      <th>streaming_tv</th>\n",
       "      <th>streaming_movies</th>\n",
       "      <th>multiple_lines</th>\n",
       "    </tr>\n",
       "  </thead>\n",
       "  <tbody>\n",
       "    <tr>\n",
       "      <th>0</th>\n",
       "      <td>7590-VHVEG</td>\n",
       "      <td>2020-01-01</td>\n",
       "      <td>0</td>\n",
       "      <td>month-to-month</td>\n",
       "      <td>yes</td>\n",
       "      <td>electronic check</td>\n",
       "      <td>29.85</td>\n",
       "      <td>29.85</td>\n",
       "      <td>2020</td>\n",
       "      <td>1</td>\n",
       "      <td>...</td>\n",
       "      <td>1</td>\n",
       "      <td>0</td>\n",
       "      <td>DSL</td>\n",
       "      <td>0.0</td>\n",
       "      <td>1.0</td>\n",
       "      <td>0.0</td>\n",
       "      <td>0.0</td>\n",
       "      <td>0.0</td>\n",
       "      <td>0.0</td>\n",
       "      <td>NaN</td>\n",
       "    </tr>\n",
       "    <tr>\n",
       "      <th>1</th>\n",
       "      <td>5575-GNVDE</td>\n",
       "      <td>2017-04-01</td>\n",
       "      <td>0</td>\n",
       "      <td>one year</td>\n",
       "      <td>no</td>\n",
       "      <td>mailed check</td>\n",
       "      <td>56.95</td>\n",
       "      <td>1889.50</td>\n",
       "      <td>2017</td>\n",
       "      <td>34</td>\n",
       "      <td>...</td>\n",
       "      <td>0</td>\n",
       "      <td>0</td>\n",
       "      <td>DSL</td>\n",
       "      <td>1.0</td>\n",
       "      <td>0.0</td>\n",
       "      <td>1.0</td>\n",
       "      <td>0.0</td>\n",
       "      <td>0.0</td>\n",
       "      <td>0.0</td>\n",
       "      <td>No</td>\n",
       "    </tr>\n",
       "    <tr>\n",
       "      <th>2</th>\n",
       "      <td>3668-QPYBK</td>\n",
       "      <td>2019-10-01</td>\n",
       "      <td>1</td>\n",
       "      <td>month-to-month</td>\n",
       "      <td>yes</td>\n",
       "      <td>mailed check</td>\n",
       "      <td>53.85</td>\n",
       "      <td>108.15</td>\n",
       "      <td>2019</td>\n",
       "      <td>2</td>\n",
       "      <td>...</td>\n",
       "      <td>0</td>\n",
       "      <td>0</td>\n",
       "      <td>DSL</td>\n",
       "      <td>1.0</td>\n",
       "      <td>1.0</td>\n",
       "      <td>0.0</td>\n",
       "      <td>0.0</td>\n",
       "      <td>0.0</td>\n",
       "      <td>0.0</td>\n",
       "      <td>No</td>\n",
       "    </tr>\n",
       "    <tr>\n",
       "      <th>3</th>\n",
       "      <td>7795-CFOCW</td>\n",
       "      <td>2016-05-01</td>\n",
       "      <td>0</td>\n",
       "      <td>one year</td>\n",
       "      <td>no</td>\n",
       "      <td>bank transfer (automatic)</td>\n",
       "      <td>42.30</td>\n",
       "      <td>1840.75</td>\n",
       "      <td>2016</td>\n",
       "      <td>45</td>\n",
       "      <td>...</td>\n",
       "      <td>0</td>\n",
       "      <td>0</td>\n",
       "      <td>DSL</td>\n",
       "      <td>1.0</td>\n",
       "      <td>0.0</td>\n",
       "      <td>1.0</td>\n",
       "      <td>1.0</td>\n",
       "      <td>0.0</td>\n",
       "      <td>0.0</td>\n",
       "      <td>NaN</td>\n",
       "    </tr>\n",
       "    <tr>\n",
       "      <th>4</th>\n",
       "      <td>9237-HQITU</td>\n",
       "      <td>2019-09-01</td>\n",
       "      <td>1</td>\n",
       "      <td>month-to-month</td>\n",
       "      <td>yes</td>\n",
       "      <td>electronic check</td>\n",
       "      <td>70.70</td>\n",
       "      <td>151.65</td>\n",
       "      <td>2019</td>\n",
       "      <td>2</td>\n",
       "      <td>...</td>\n",
       "      <td>0</td>\n",
       "      <td>0</td>\n",
       "      <td>Fiber optic</td>\n",
       "      <td>0.0</td>\n",
       "      <td>0.0</td>\n",
       "      <td>0.0</td>\n",
       "      <td>0.0</td>\n",
       "      <td>0.0</td>\n",
       "      <td>0.0</td>\n",
       "      <td>No</td>\n",
       "    </tr>\n",
       "  </tbody>\n",
       "</table>\n",
       "<p>5 rows × 22 columns</p>\n",
       "</div>"
      ],
      "text/plain": [
       "  customer_id begin_date  end_date            type paper_less_billing  \\\n",
       "0  7590-VHVEG 2020-01-01         0  month-to-month                yes   \n",
       "1  5575-GNVDE 2017-04-01         0        one year                 no   \n",
       "2  3668-QPYBK 2019-10-01         1  month-to-month                yes   \n",
       "3  7795-CFOCW 2016-05-01         0        one year                 no   \n",
       "4  9237-HQITU 2019-09-01         1  month-to-month                yes   \n",
       "\n",
       "              payment_method  monthly_charges  total_charges  begin_year  \\\n",
       "0           electronic check            29.85          29.85        2020   \n",
       "1               mailed check            56.95        1889.50        2017   \n",
       "2               mailed check            53.85         108.15        2019   \n",
       "3  bank transfer (automatic)            42.30        1840.75        2016   \n",
       "4           electronic check            70.70         151.65        2019   \n",
       "\n",
       "   duration  ... partner  dependents  internet_service  online_security  \\\n",
       "0         1  ...       1           0               DSL              0.0   \n",
       "1        34  ...       0           0               DSL              1.0   \n",
       "2         2  ...       0           0               DSL              1.0   \n",
       "3        45  ...       0           0               DSL              1.0   \n",
       "4         2  ...       0           0       Fiber optic              0.0   \n",
       "\n",
       "  online_backup  device_protection  tech_support  streaming_tv  \\\n",
       "0           1.0                0.0           0.0           0.0   \n",
       "1           0.0                1.0           0.0           0.0   \n",
       "2           1.0                0.0           0.0           0.0   \n",
       "3           0.0                1.0           1.0           0.0   \n",
       "4           0.0                0.0           0.0           0.0   \n",
       "\n",
       "   streaming_movies  multiple_lines  \n",
       "0               0.0             NaN  \n",
       "1               0.0              No  \n",
       "2               0.0              No  \n",
       "3               0.0             NaN  \n",
       "4               0.0              No  \n",
       "\n",
       "[5 rows x 22 columns]"
      ]
     },
     "execution_count": 54,
     "metadata": {},
     "output_type": "execute_result"
    }
   ],
   "source": [
    "result.head(5)"
   ]
  },
  {
   "cell_type": "code",
   "execution_count": 55,
   "metadata": {
    "colab": {
     "base_uri": "https://localhost:8080/"
    },
    "id": "kCDXlcmCUzd8",
    "outputId": "2bee260c-7603-4567-d673-064ee7d1a2a1"
   },
   "outputs": [
    {
     "data": {
      "text/plain": [
       "customer_id              0\n",
       "begin_date               0\n",
       "end_date                 0\n",
       "type                     0\n",
       "paper_less_billing       0\n",
       "payment_method           0\n",
       "monthly_charges          0\n",
       "total_charges            0\n",
       "begin_year               0\n",
       "duration                 0\n",
       "gender                   0\n",
       "senior_citizen           0\n",
       "partner                  0\n",
       "dependents               0\n",
       "internet_service      1526\n",
       "online_security       1526\n",
       "online_backup         1526\n",
       "device_protection     1526\n",
       "tech_support          1526\n",
       "streaming_tv          1526\n",
       "streaming_movies      1526\n",
       "multiple_lines         682\n",
       "dtype: int64"
      ]
     },
     "execution_count": 55,
     "metadata": {},
     "output_type": "execute_result"
    }
   ],
   "source": [
    "result.isna().sum()"
   ]
  },
  {
   "cell_type": "markdown",
   "metadata": {
    "id": "rBISgFWEX9T5"
   },
   "source": [
    "В таблице появились пустые значения. \n",
    "\n",
    "Таблица о телефонной линни содержит информацию только о клиентах, которые пользуюутся телефоном (с одним или несколькими каналами). При объединении данных у пользователей, которые не пользуются телефонной линией, появились пропуски. Аналогично с клиентами, которые не пользуются интернетом. Заполним такие пропуски значениями 'no_phone' и 'no_internet'. У клиентов, которые не пользуются интернетом все остальные атрибуты данной таблицы заменим на нули."
   ]
  },
  {
   "cell_type": "code",
   "execution_count": 56,
   "metadata": {
    "id": "hS16DwXmV49a"
   },
   "outputs": [],
   "source": [
    "result['internet_service'] = result['internet_service'].fillna('no_internet')"
   ]
  },
  {
   "cell_type": "code",
   "execution_count": 57,
   "metadata": {
    "id": "E6y6YgPiV41j"
   },
   "outputs": [],
   "source": [
    "result['multiple_lines'] = result['multiple_lines'].fillna('no_phone')"
   ]
  },
  {
   "cell_type": "code",
   "execution_count": 58,
   "metadata": {
    "id": "RxQG7Jb_V4tq"
   },
   "outputs": [],
   "source": [
    "result = result.fillna(0)"
   ]
  },
  {
   "cell_type": "code",
   "execution_count": 59,
   "metadata": {
    "colab": {
     "base_uri": "https://localhost:8080/",
     "height": 438
    },
    "id": "xEN-rw2jbsHS",
    "outputId": "68ab0605-2946-4115-9102-ea0856d55ade"
   },
   "outputs": [
    {
     "data": {
      "text/html": [
       "<div>\n",
       "<style scoped>\n",
       "    .dataframe tbody tr th:only-of-type {\n",
       "        vertical-align: middle;\n",
       "    }\n",
       "\n",
       "    .dataframe tbody tr th {\n",
       "        vertical-align: top;\n",
       "    }\n",
       "\n",
       "    .dataframe thead th {\n",
       "        text-align: right;\n",
       "    }\n",
       "</style>\n",
       "<table border=\"1\" class=\"dataframe\">\n",
       "  <thead>\n",
       "    <tr style=\"text-align: right;\">\n",
       "      <th></th>\n",
       "      <th>customer_id</th>\n",
       "      <th>begin_date</th>\n",
       "      <th>end_date</th>\n",
       "      <th>type</th>\n",
       "      <th>paper_less_billing</th>\n",
       "      <th>payment_method</th>\n",
       "      <th>monthly_charges</th>\n",
       "      <th>total_charges</th>\n",
       "      <th>begin_year</th>\n",
       "      <th>duration</th>\n",
       "      <th>...</th>\n",
       "      <th>partner</th>\n",
       "      <th>dependents</th>\n",
       "      <th>internet_service</th>\n",
       "      <th>online_security</th>\n",
       "      <th>online_backup</th>\n",
       "      <th>device_protection</th>\n",
       "      <th>tech_support</th>\n",
       "      <th>streaming_tv</th>\n",
       "      <th>streaming_movies</th>\n",
       "      <th>multiple_lines</th>\n",
       "    </tr>\n",
       "  </thead>\n",
       "  <tbody>\n",
       "    <tr>\n",
       "      <th>0</th>\n",
       "      <td>7590-VHVEG</td>\n",
       "      <td>2020-01-01</td>\n",
       "      <td>0</td>\n",
       "      <td>month-to-month</td>\n",
       "      <td>yes</td>\n",
       "      <td>electronic check</td>\n",
       "      <td>29.85</td>\n",
       "      <td>29.85</td>\n",
       "      <td>2020</td>\n",
       "      <td>1</td>\n",
       "      <td>...</td>\n",
       "      <td>1</td>\n",
       "      <td>0</td>\n",
       "      <td>DSL</td>\n",
       "      <td>0.0</td>\n",
       "      <td>1.0</td>\n",
       "      <td>0.0</td>\n",
       "      <td>0.0</td>\n",
       "      <td>0.0</td>\n",
       "      <td>0.0</td>\n",
       "      <td>no_phone</td>\n",
       "    </tr>\n",
       "    <tr>\n",
       "      <th>1</th>\n",
       "      <td>5575-GNVDE</td>\n",
       "      <td>2017-04-01</td>\n",
       "      <td>0</td>\n",
       "      <td>one year</td>\n",
       "      <td>no</td>\n",
       "      <td>mailed check</td>\n",
       "      <td>56.95</td>\n",
       "      <td>1889.50</td>\n",
       "      <td>2017</td>\n",
       "      <td>34</td>\n",
       "      <td>...</td>\n",
       "      <td>0</td>\n",
       "      <td>0</td>\n",
       "      <td>DSL</td>\n",
       "      <td>1.0</td>\n",
       "      <td>0.0</td>\n",
       "      <td>1.0</td>\n",
       "      <td>0.0</td>\n",
       "      <td>0.0</td>\n",
       "      <td>0.0</td>\n",
       "      <td>No</td>\n",
       "    </tr>\n",
       "    <tr>\n",
       "      <th>2</th>\n",
       "      <td>3668-QPYBK</td>\n",
       "      <td>2019-10-01</td>\n",
       "      <td>1</td>\n",
       "      <td>month-to-month</td>\n",
       "      <td>yes</td>\n",
       "      <td>mailed check</td>\n",
       "      <td>53.85</td>\n",
       "      <td>108.15</td>\n",
       "      <td>2019</td>\n",
       "      <td>2</td>\n",
       "      <td>...</td>\n",
       "      <td>0</td>\n",
       "      <td>0</td>\n",
       "      <td>DSL</td>\n",
       "      <td>1.0</td>\n",
       "      <td>1.0</td>\n",
       "      <td>0.0</td>\n",
       "      <td>0.0</td>\n",
       "      <td>0.0</td>\n",
       "      <td>0.0</td>\n",
       "      <td>No</td>\n",
       "    </tr>\n",
       "    <tr>\n",
       "      <th>3</th>\n",
       "      <td>7795-CFOCW</td>\n",
       "      <td>2016-05-01</td>\n",
       "      <td>0</td>\n",
       "      <td>one year</td>\n",
       "      <td>no</td>\n",
       "      <td>bank transfer (automatic)</td>\n",
       "      <td>42.30</td>\n",
       "      <td>1840.75</td>\n",
       "      <td>2016</td>\n",
       "      <td>45</td>\n",
       "      <td>...</td>\n",
       "      <td>0</td>\n",
       "      <td>0</td>\n",
       "      <td>DSL</td>\n",
       "      <td>1.0</td>\n",
       "      <td>0.0</td>\n",
       "      <td>1.0</td>\n",
       "      <td>1.0</td>\n",
       "      <td>0.0</td>\n",
       "      <td>0.0</td>\n",
       "      <td>no_phone</td>\n",
       "    </tr>\n",
       "    <tr>\n",
       "      <th>4</th>\n",
       "      <td>9237-HQITU</td>\n",
       "      <td>2019-09-01</td>\n",
       "      <td>1</td>\n",
       "      <td>month-to-month</td>\n",
       "      <td>yes</td>\n",
       "      <td>electronic check</td>\n",
       "      <td>70.70</td>\n",
       "      <td>151.65</td>\n",
       "      <td>2019</td>\n",
       "      <td>2</td>\n",
       "      <td>...</td>\n",
       "      <td>0</td>\n",
       "      <td>0</td>\n",
       "      <td>Fiber optic</td>\n",
       "      <td>0.0</td>\n",
       "      <td>0.0</td>\n",
       "      <td>0.0</td>\n",
       "      <td>0.0</td>\n",
       "      <td>0.0</td>\n",
       "      <td>0.0</td>\n",
       "      <td>No</td>\n",
       "    </tr>\n",
       "  </tbody>\n",
       "</table>\n",
       "<p>5 rows × 22 columns</p>\n",
       "</div>"
      ],
      "text/plain": [
       "  customer_id begin_date  end_date            type paper_less_billing  \\\n",
       "0  7590-VHVEG 2020-01-01         0  month-to-month                yes   \n",
       "1  5575-GNVDE 2017-04-01         0        one year                 no   \n",
       "2  3668-QPYBK 2019-10-01         1  month-to-month                yes   \n",
       "3  7795-CFOCW 2016-05-01         0        one year                 no   \n",
       "4  9237-HQITU 2019-09-01         1  month-to-month                yes   \n",
       "\n",
       "              payment_method  monthly_charges  total_charges  begin_year  \\\n",
       "0           electronic check            29.85          29.85        2020   \n",
       "1               mailed check            56.95        1889.50        2017   \n",
       "2               mailed check            53.85         108.15        2019   \n",
       "3  bank transfer (automatic)            42.30        1840.75        2016   \n",
       "4           electronic check            70.70         151.65        2019   \n",
       "\n",
       "   duration  ... partner  dependents  internet_service  online_security  \\\n",
       "0         1  ...       1           0               DSL              0.0   \n",
       "1        34  ...       0           0               DSL              1.0   \n",
       "2         2  ...       0           0               DSL              1.0   \n",
       "3        45  ...       0           0               DSL              1.0   \n",
       "4         2  ...       0           0       Fiber optic              0.0   \n",
       "\n",
       "  online_backup  device_protection  tech_support  streaming_tv  \\\n",
       "0           1.0                0.0           0.0           0.0   \n",
       "1           0.0                1.0           0.0           0.0   \n",
       "2           1.0                0.0           0.0           0.0   \n",
       "3           0.0                1.0           1.0           0.0   \n",
       "4           0.0                0.0           0.0           0.0   \n",
       "\n",
       "   streaming_movies  multiple_lines  \n",
       "0               0.0        no_phone  \n",
       "1               0.0              No  \n",
       "2               0.0              No  \n",
       "3               0.0        no_phone  \n",
       "4               0.0              No  \n",
       "\n",
       "[5 rows x 22 columns]"
      ]
     },
     "execution_count": 59,
     "metadata": {},
     "output_type": "execute_result"
    }
   ],
   "source": [
    "result.head(5)"
   ]
  },
  {
   "cell_type": "markdown",
   "metadata": {
    "id": "jQITSZrMV4lz"
   },
   "source": [
    "Пропусков в данных нет, предобработка данных закончена. Переходим к исследованию данных."
   ]
  },
  {
   "cell_type": "markdown",
   "metadata": {
    "id": "qY0Oxe27V4eS"
   },
   "source": [
    "## Исследование данных"
   ]
  },
  {
   "cell_type": "markdown",
   "metadata": {
    "id": "B9MQhwtlV4Xa"
   },
   "source": [
    "Взглянем на гистограмму ушедших клиентов по году их подключения:"
   ]
  },
  {
   "cell_type": "code",
   "execution_count": 60,
   "metadata": {
    "colab": {
     "base_uri": "https://localhost:8080/",
     "height": 404
    },
    "id": "dzJiguIxRzyu",
    "outputId": "3288d001-7e24-4563-dc5d-016db4e1ea00"
   },
   "outputs": [
    {
     "data": {
      "image/png": "[encoded data removed]",
      "text/plain": [
       "<Figure size 720x432 with 1 Axes>"
      ]
     },
     "metadata": {
      "needs_background": "light"
     },
     "output_type": "display_data"
    }
   ],
   "source": [
    "plt.figure(figsize=(10,6))\n",
    "df_contract.query('end_date == 1')['begin_year'].plot(kind='hist', bins=50, grid=True)\n",
    "plt.title('Гистограмма ушедших клиентов по году начала пользования услугами')\n",
    "plt.xlabel('Год подключения')\n",
    "plt.ylabel('Количество ушедших клиентов')\n",
    "plt.show()"
   ]
  },
  {
   "cell_type": "markdown",
   "metadata": {
    "id": "smla2fjyRz3J"
   },
   "source": [
    "В основном уходят новые клиенты, подключившиеся в 2019 году. Старые же клиенты уходят значительно реже. Клиенты уходили с октября 2019 года по январь 2020 года."
   ]
  },
  {
   "cell_type": "code",
   "execution_count": 61,
   "metadata": {
    "colab": {
     "base_uri": "https://localhost:8080/",
     "height": 802
    },
    "id": "sqJGdSpGRz7d",
    "outputId": "14555143-90e2-450d-d275-6da51f7b6634"
   },
   "outputs": [
    {
     "data": {
      "text/html": [
       "<div>\n",
       "<style scoped>\n",
       "    .dataframe tbody tr th:only-of-type {\n",
       "        vertical-align: middle;\n",
       "    }\n",
       "\n",
       "    .dataframe tbody tr th {\n",
       "        vertical-align: top;\n",
       "    }\n",
       "\n",
       "    .dataframe thead th {\n",
       "        text-align: right;\n",
       "    }\n",
       "</style>\n",
       "<table border=\"1\" class=\"dataframe\">\n",
       "  <thead>\n",
       "    <tr style=\"text-align: right;\">\n",
       "      <th></th>\n",
       "      <th></th>\n",
       "      <th>end_date</th>\n",
       "      <th>duration</th>\n",
       "    </tr>\n",
       "    <tr>\n",
       "      <th>type</th>\n",
       "      <th>begin_year</th>\n",
       "      <th></th>\n",
       "      <th></th>\n",
       "    </tr>\n",
       "  </thead>\n",
       "  <tbody>\n",
       "    <tr>\n",
       "      <th rowspan=\"7\" valign=\"top\">month-to-month</th>\n",
       "      <th>2014</th>\n",
       "      <td>29</td>\n",
       "      <td>6673</td>\n",
       "    </tr>\n",
       "    <tr>\n",
       "      <th>2015</th>\n",
       "      <td>71</td>\n",
       "      <td>12627</td>\n",
       "    </tr>\n",
       "    <tr>\n",
       "      <th>2016</th>\n",
       "      <td>108</td>\n",
       "      <td>13391</td>\n",
       "    </tr>\n",
       "    <tr>\n",
       "      <th>2017</th>\n",
       "      <td>178</td>\n",
       "      <td>14943</td>\n",
       "    </tr>\n",
       "    <tr>\n",
       "      <th>2018</th>\n",
       "      <td>296</td>\n",
       "      <td>13314</td>\n",
       "    </tr>\n",
       "    <tr>\n",
       "      <th>2019</th>\n",
       "      <td>973</td>\n",
       "      <td>8720</td>\n",
       "    </tr>\n",
       "    <tr>\n",
       "      <th>2020</th>\n",
       "      <td>0</td>\n",
       "      <td>224</td>\n",
       "    </tr>\n",
       "    <tr>\n",
       "      <th rowspan=\"8\" valign=\"top\">one year</th>\n",
       "      <th>2013</th>\n",
       "      <td>1</td>\n",
       "      <td>72</td>\n",
       "    </tr>\n",
       "    <tr>\n",
       "      <th>2014</th>\n",
       "      <td>45</td>\n",
       "      <td>19461</td>\n",
       "    </tr>\n",
       "    <tr>\n",
       "      <th>2015</th>\n",
       "      <td>40</td>\n",
       "      <td>17950</td>\n",
       "    </tr>\n",
       "    <tr>\n",
       "      <th>2016</th>\n",
       "      <td>34</td>\n",
       "      <td>11556</td>\n",
       "    </tr>\n",
       "    <tr>\n",
       "      <th>2017</th>\n",
       "      <td>19</td>\n",
       "      <td>7797</td>\n",
       "    </tr>\n",
       "    <tr>\n",
       "      <th>2018</th>\n",
       "      <td>19</td>\n",
       "      <td>4008</td>\n",
       "    </tr>\n",
       "    <tr>\n",
       "      <th>2019</th>\n",
       "      <td>8</td>\n",
       "      <td>1081</td>\n",
       "    </tr>\n",
       "    <tr>\n",
       "      <th>2020</th>\n",
       "      <td>0</td>\n",
       "      <td>7</td>\n",
       "    </tr>\n",
       "    <tr>\n",
       "      <th rowspan=\"8\" valign=\"top\">two year</th>\n",
       "      <th>2013</th>\n",
       "      <td>7</td>\n",
       "      <td>497</td>\n",
       "    </tr>\n",
       "    <tr>\n",
       "      <th>2014</th>\n",
       "      <td>24</td>\n",
       "      <td>65750</td>\n",
       "    </tr>\n",
       "    <tr>\n",
       "      <th>2015</th>\n",
       "      <td>12</td>\n",
       "      <td>16395</td>\n",
       "    </tr>\n",
       "    <tr>\n",
       "      <th>2016</th>\n",
       "      <td>3</td>\n",
       "      <td>7960</td>\n",
       "    </tr>\n",
       "    <tr>\n",
       "      <th>2017</th>\n",
       "      <td>2</td>\n",
       "      <td>3200</td>\n",
       "    </tr>\n",
       "    <tr>\n",
       "      <th>2018</th>\n",
       "      <td>0</td>\n",
       "      <td>1767</td>\n",
       "    </tr>\n",
       "    <tr>\n",
       "      <th>2019</th>\n",
       "      <td>0</td>\n",
       "      <td>595</td>\n",
       "    </tr>\n",
       "    <tr>\n",
       "      <th>2020</th>\n",
       "      <td>0</td>\n",
       "      <td>2</td>\n",
       "    </tr>\n",
       "  </tbody>\n",
       "</table>\n",
       "</div>"
      ],
      "text/plain": [
       "                           end_date  duration\n",
       "type           begin_year                    \n",
       "month-to-month 2014              29      6673\n",
       "               2015              71     12627\n",
       "               2016             108     13391\n",
       "               2017             178     14943\n",
       "               2018             296     13314\n",
       "               2019             973      8720\n",
       "               2020               0       224\n",
       "one year       2013               1        72\n",
       "               2014              45     19461\n",
       "               2015              40     17950\n",
       "               2016              34     11556\n",
       "               2017              19      7797\n",
       "               2018              19      4008\n",
       "               2019               8      1081\n",
       "               2020               0         7\n",
       "two year       2013               7       497\n",
       "               2014              24     65750\n",
       "               2015              12     16395\n",
       "               2016               3      7960\n",
       "               2017               2      3200\n",
       "               2018               0      1767\n",
       "               2019               0       595\n",
       "               2020               0         2"
      ]
     },
     "execution_count": 61,
     "metadata": {},
     "output_type": "execute_result"
    }
   ],
   "source": [
    "contract_grouped = df_contract.groupby(by=['type', 'begin_year']).sum()\n",
    "contract_grouped.drop([ 'monthly_charges', 'total_charges'], axis=1)"
   ]
  },
  {
   "cell_type": "markdown",
   "metadata": {
    "id": "UT2ZOSHGR0FC"
   },
   "source": [
    "Клиенты с ежемесячным платежом уходят значительно чаще тех, у кого годовая и двухгодовая оплата."
   ]
  },
  {
   "cell_type": "markdown",
   "metadata": {
    "id": "ZMcPvp7datyr"
   },
   "source": [
    "Посмотрим на корреляцию признаков в таблице контрактов у ушедших клиентов и у оставшихся:"
   ]
  },
  {
   "cell_type": "code",
   "execution_count": 62,
   "metadata": {
    "colab": {
     "base_uri": "https://localhost:8080/",
     "height": 806
    },
    "id": "GSa1tgGeR0Jr",
    "outputId": "ba9d779d-74d4-4f64-adaa-82c94362b20b"
   },
   "outputs": [
    {
     "data": {
      "text/plain": [
       "array([[<AxesSubplot:xlabel='end_date', ylabel='end_date'>,\n",
       "        <AxesSubplot:xlabel='monthly_charges', ylabel='end_date'>,\n",
       "        <AxesSubplot:xlabel='total_charges', ylabel='end_date'>,\n",
       "        <AxesSubplot:xlabel='begin_year', ylabel='end_date'>,\n",
       "        <AxesSubplot:xlabel='duration', ylabel='end_date'>],\n",
       "       [<AxesSubplot:xlabel='end_date', ylabel='monthly_charges'>,\n",
       "        <AxesSubplot:xlabel='monthly_charges', ylabel='monthly_charges'>,\n",
       "        <AxesSubplot:xlabel='total_charges', ylabel='monthly_charges'>,\n",
       "        <AxesSubplot:xlabel='begin_year', ylabel='monthly_charges'>,\n",
       "        <AxesSubplot:xlabel='duration', ylabel='monthly_charges'>],\n",
       "       [<AxesSubplot:xlabel='end_date', ylabel='total_charges'>,\n",
       "        <AxesSubplot:xlabel='monthly_charges', ylabel='total_charges'>,\n",
       "        <AxesSubplot:xlabel='total_charges', ylabel='total_charges'>,\n",
       "        <AxesSubplot:xlabel='begin_year', ylabel='total_charges'>,\n",
       "        <AxesSubplot:xlabel='duration', ylabel='total_charges'>],\n",
       "       [<AxesSubplot:xlabel='end_date', ylabel='begin_year'>,\n",
       "        <AxesSubplot:xlabel='monthly_charges', ylabel='begin_year'>,\n",
       "        <AxesSubplot:xlabel='total_charges', ylabel='begin_year'>,\n",
       "        <AxesSubplot:xlabel='begin_year', ylabel='begin_year'>,\n",
       "        <AxesSubplot:xlabel='duration', ylabel='begin_year'>],\n",
       "       [<AxesSubplot:xlabel='end_date', ylabel='duration'>,\n",
       "        <AxesSubplot:xlabel='monthly_charges', ylabel='duration'>,\n",
       "        <AxesSubplot:xlabel='total_charges', ylabel='duration'>,\n",
       "        <AxesSubplot:xlabel='begin_year', ylabel='duration'>,\n",
       "        <AxesSubplot:xlabel='duration', ylabel='duration'>]], dtype=object)"
      ]
     },
     "execution_count": 62,
     "metadata": {},
     "output_type": "execute_result"
    },
    {
     "data": {
      "image/png": "[encoded data removed]",
      "text/plain": [
       "<Figure size 864x576 with 25 Axes>"
      ]
     },
     "metadata": {
      "needs_background": "light"
     },
     "output_type": "display_data"
    }
   ],
   "source": [
    "pd.plotting.scatter_matrix(df_contract.query('end_date == 1'), alpha=0.1, figsize=(12,8))"
   ]
  },
  {
   "cell_type": "code",
   "execution_count": 63,
   "metadata": {
    "colab": {
     "base_uri": "https://localhost:8080/",
     "height": 807
    },
    "id": "o8AMO47-R0OQ",
    "outputId": "7a333311-8333-442f-cb2c-ece294eb5a80"
   },
   "outputs": [
    {
     "data": {
      "text/plain": [
       "array([[<AxesSubplot:xlabel='end_date', ylabel='end_date'>,\n",
       "        <AxesSubplot:xlabel='monthly_charges', ylabel='end_date'>,\n",
       "        <AxesSubplot:xlabel='total_charges', ylabel='end_date'>,\n",
       "        <AxesSubplot:xlabel='begin_year', ylabel='end_date'>,\n",
       "        <AxesSubplot:xlabel='duration', ylabel='end_date'>],\n",
       "       [<AxesSubplot:xlabel='end_date', ylabel='monthly_charges'>,\n",
       "        <AxesSubplot:xlabel='monthly_charges', ylabel='monthly_charges'>,\n",
       "        <AxesSubplot:xlabel='total_charges', ylabel='monthly_charges'>,\n",
       "        <AxesSubplot:xlabel='begin_year', ylabel='monthly_charges'>,\n",
       "        <AxesSubplot:xlabel='duration', ylabel='monthly_charges'>],\n",
       "       [<AxesSubplot:xlabel='end_date', ylabel='total_charges'>,\n",
       "        <AxesSubplot:xlabel='monthly_charges', ylabel='total_charges'>,\n",
       "        <AxesSubplot:xlabel='total_charges', ylabel='total_charges'>,\n",
       "        <AxesSubplot:xlabel='begin_year', ylabel='total_charges'>,\n",
       "        <AxesSubplot:xlabel='duration', ylabel='total_charges'>],\n",
       "       [<AxesSubplot:xlabel='end_date', ylabel='begin_year'>,\n",
       "        <AxesSubplot:xlabel='monthly_charges', ylabel='begin_year'>,\n",
       "        <AxesSubplot:xlabel='total_charges', ylabel='begin_year'>,\n",
       "        <AxesSubplot:xlabel='begin_year', ylabel='begin_year'>,\n",
       "        <AxesSubplot:xlabel='duration', ylabel='begin_year'>],\n",
       "       [<AxesSubplot:xlabel='end_date', ylabel='duration'>,\n",
       "        <AxesSubplot:xlabel='monthly_charges', ylabel='duration'>,\n",
       "        <AxesSubplot:xlabel='total_charges', ylabel='duration'>,\n",
       "        <AxesSubplot:xlabel='begin_year', ylabel='duration'>,\n",
       "        <AxesSubplot:xlabel='duration', ylabel='duration'>]], dtype=object)"
      ]
     },
     "execution_count": 63,
     "metadata": {},
     "output_type": "execute_result"
    },
    {
     "data": {
      "image/png": "[encoded data removed]",
      "text/plain": [
       "<Figure size 864x576 with 25 Axes>"
      ]
     },
     "metadata": {
      "needs_background": "light"
     },
     "output_type": "display_data"
    }
   ],
   "source": [
    "pd.plotting.scatter_matrix(df_contract.query('end_date == 0'), alpha=0.1, figsize=(12,8))"
   ]
  },
  {
   "cell_type": "markdown",
   "metadata": {
    "id": "eKtJHPKWbKvJ"
   },
   "source": [
    "У неушедших клиентов присутствует низкие ежемесячная и общая плата за услуги. Также у ушедших пользователей почти ни у кого нет таких низких ежемесячных платежей. Посмотрим, что это за люди, пользующиеся низким ежемесячным платежом"
   ]
  },
  {
   "cell_type": "code",
   "execution_count": 64,
   "metadata": {
    "id": "J1LFDB3lR0fw"
   },
   "outputs": [],
   "source": [
    "customer_id_low_pay = df_contract.query('monthly_charges < 40')['customer_id']"
   ]
  },
  {
   "cell_type": "code",
   "execution_count": 65,
   "metadata": {
    "colab": {
     "base_uri": "https://localhost:8080/"
    },
    "id": "X9dncj5SgqZl",
    "outputId": "9ae69955-3533-4e31-94ef-e4e9f69fe253"
   },
   "outputs": [
    {
     "data": {
      "text/plain": [
       "1624"
      ]
     },
     "execution_count": 65,
     "metadata": {},
     "output_type": "execute_result"
    }
   ],
   "source": [
    "result_low_pay = result.loc[result['customer_id'].isin(customer_id_low_pay)].drop([ 'customer_id', 'monthly_charges', 'total_charges', 'begin_year', 'begin_date', 'senior_citizen', 'partner', 'dependents','total_charges'], axis=1)\n",
    "result_low_pay = result_low_pay.loc[result_low_pay ['end_date'] == 0 ].drop(['end_date'], axis=1)\n",
    "len(result_low_pay)"
   ]
  },
  {
   "cell_type": "code",
   "execution_count": 66,
   "metadata": {
    "id": "ZOu07hNmkjb9"
   },
   "outputs": [],
   "source": [
    "list_col = result_low_pay.columns"
   ]
  },
  {
   "cell_type": "code",
   "execution_count": 67,
   "metadata": {
    "colab": {
     "base_uri": "https://localhost:8080/"
    },
    "id": "927-jXUoocdN",
    "outputId": "ab93b786-3d6d-415e-fd55-3c8ea24299d3"
   },
   "outputs": [
    {
     "name": "stdout",
     "output_type": "stream",
     "text": [
      "type\n",
      "two year          661\n",
      "month-to-month    565\n",
      "one year          398\n",
      "Name: type, dtype: int64\n",
      "\n",
      "paper_less_billing\n",
      "no     1123\n",
      "yes     501\n",
      "Name: paper_less_billing, dtype: int64\n",
      "\n",
      "payment_method\n",
      "mailed check                 749\n",
      "credit card (automatic)      370\n",
      "bank transfer (automatic)    348\n",
      "electronic check             157\n",
      "Name: payment_method, dtype: int64\n",
      "\n",
      "duration\n",
      "1     127\n",
      "72     67\n",
      "2      46\n",
      "3      44\n",
      "4      42\n",
      "     ... \n",
      "44     12\n",
      "65     12\n",
      "30     11\n",
      "31      9\n",
      "0       6\n",
      "Name: duration, Length: 73, dtype: int64\n",
      "\n",
      "gender\n",
      "male      834\n",
      "female    790\n",
      "Name: gender, dtype: int64\n",
      "\n",
      "internet_service\n",
      "no_internet    1413\n",
      "DSL             211\n",
      "Name: internet_service, dtype: int64\n",
      "\n",
      "online_security\n",
      "0.0    1550\n",
      "1.0      74\n",
      "Name: online_security, dtype: int64\n",
      "\n",
      "online_backup\n",
      "0.0    1560\n",
      "1.0      64\n",
      "Name: online_backup, dtype: int64\n",
      "\n",
      "device_protection\n",
      "0.0    1574\n",
      "1.0      50\n",
      "Name: device_protection, dtype: int64\n",
      "\n",
      "tech_support\n",
      "0.0    1553\n",
      "1.0      71\n",
      "Name: tech_support, dtype: int64\n",
      "\n",
      "streaming_tv\n",
      "0.0    1610\n",
      "1.0      14\n",
      "Name: streaming_tv, dtype: int64\n",
      "\n",
      "streaming_movies\n",
      "0.0    1612\n",
      "1.0      12\n",
      "Name: streaming_movies, dtype: int64\n",
      "\n",
      "multiple_lines\n",
      "No          1081\n",
      "Yes          332\n",
      "no_phone     211\n",
      "Name: multiple_lines, dtype: int64\n",
      "\n"
     ]
    }
   ],
   "source": [
    "for col in list_col:\n",
    "  print(col)\n",
    "  print(result_low_pay[col].value_counts())\n",
    "  print()"
   ]
  },
  {
   "cell_type": "code",
   "execution_count": 68,
   "metadata": {
    "colab": {
     "base_uri": "https://localhost:8080/"
    },
    "id": "obWRvpteqyW4",
    "outputId": "a6253222-7a8e-4ff5-cd28-c46947c7da8a"
   },
   "outputs": [
    {
     "data": {
      "text/plain": [
       "0    5174\n",
       "1    1869\n",
       "Name: end_date, dtype: int64"
      ]
     },
     "execution_count": 68,
     "metadata": {},
     "output_type": "execute_result"
    }
   ],
   "source": [
    "df_contract['end_date'].value_counts()"
   ]
  },
  {
   "cell_type": "code",
   "execution_count": 69,
   "metadata": {
    "colab": {
     "base_uri": "https://localhost:8080/"
    },
    "id": "TOEZRNoUp9r0",
    "outputId": "93e964b0-04c8-40ca-e30e-7cd5f430c68a"
   },
   "outputs": [
    {
     "data": {
      "text/plain": [
       "31.387707769617318"
      ]
     },
     "execution_count": 69,
     "metadata": {},
     "output_type": "execute_result"
    }
   ],
   "source": [
    "1624/(5174)*100"
   ]
  },
  {
   "cell_type": "markdown",
   "metadata": {
    "id": "BX2ACRTEorBL"
   },
   "source": [
    "31 процент оставшихся клиентов пользуется услугами с очень маленькой абонентской платой: у них в основном одноканальный телефон, но есть и те, у кого DSL интернет и многоканальная линия. Такие клиенты почти не уходили от оператора, в основном уходили те, кому требуется интернет помощнее."
   ]
  },
  {
   "cell_type": "markdown",
   "metadata": {
    "id": "pEbQqJzWiw2P"
   },
   "source": [
    "Удалим из получившейся таблицы столбцы начала и конца действия договора, года начала договора. Оставим для модели атрибут \"длительность\" - сколько времени кллиент пользуется услугами фирмы."
   ]
  },
  {
   "cell_type": "code",
   "execution_count": 70,
   "metadata": {
    "id": "JE8iyrH_iw_Y"
   },
   "outputs": [],
   "source": [
    "result = result.drop(['begin_date','begin_year'],axis=1)"
   ]
  },
  {
   "cell_type": "markdown",
   "metadata": {},
   "source": [
    "При моделировании существует проблематика мультиколлинеарности - когда количественные факторы имеют сильную корреляцию друг с другом - больше 0.8.Прверим, есть ли она у нас? Если есть - удалим лишние атрибуты."
   ]
  },
  {
   "cell_type": "code",
   "execution_count": 71,
   "metadata": {
    "scrolled": true
   },
   "outputs": [
    {
     "data": {
      "text/html": [
       "<div>\n",
       "<style scoped>\n",
       "    .dataframe tbody tr th:only-of-type {\n",
       "        vertical-align: middle;\n",
       "    }\n",
       "\n",
       "    .dataframe tbody tr th {\n",
       "        vertical-align: top;\n",
       "    }\n",
       "\n",
       "    .dataframe thead th {\n",
       "        text-align: right;\n",
       "    }\n",
       "</style>\n",
       "<table border=\"1\" class=\"dataframe\">\n",
       "  <thead>\n",
       "    <tr style=\"text-align: right;\">\n",
       "      <th></th>\n",
       "      <th>end_date</th>\n",
       "      <th>monthly_charges</th>\n",
       "      <th>total_charges</th>\n",
       "      <th>duration</th>\n",
       "      <th>senior_citizen</th>\n",
       "      <th>partner</th>\n",
       "      <th>dependents</th>\n",
       "      <th>online_security</th>\n",
       "      <th>online_backup</th>\n",
       "      <th>device_protection</th>\n",
       "      <th>tech_support</th>\n",
       "      <th>streaming_tv</th>\n",
       "      <th>streaming_movies</th>\n",
       "    </tr>\n",
       "  </thead>\n",
       "  <tbody>\n",
       "    <tr>\n",
       "      <th>end_date</th>\n",
       "      <td>1.000000</td>\n",
       "      <td>0.193356</td>\n",
       "      <td>-0.198823</td>\n",
       "      <td>-0.352229</td>\n",
       "      <td>0.150889</td>\n",
       "      <td>-0.150448</td>\n",
       "      <td>-0.164221</td>\n",
       "      <td>-0.171226</td>\n",
       "      <td>-0.082255</td>\n",
       "      <td>-0.066160</td>\n",
       "      <td>-0.164674</td>\n",
       "      <td>0.063228</td>\n",
       "      <td>0.061382</td>\n",
       "    </tr>\n",
       "    <tr>\n",
       "      <th>monthly_charges</th>\n",
       "      <td>0.193356</td>\n",
       "      <td>1.000000</td>\n",
       "      <td>0.651262</td>\n",
       "      <td>0.247900</td>\n",
       "      <td>0.220173</td>\n",
       "      <td>0.096848</td>\n",
       "      <td>-0.113890</td>\n",
       "      <td>0.296594</td>\n",
       "      <td>0.441780</td>\n",
       "      <td>0.482692</td>\n",
       "      <td>0.338304</td>\n",
       "      <td>0.629603</td>\n",
       "      <td>0.627429</td>\n",
       "    </tr>\n",
       "    <tr>\n",
       "      <th>total_charges</th>\n",
       "      <td>-0.198823</td>\n",
       "      <td>0.651262</td>\n",
       "      <td>1.000000</td>\n",
       "      <td>0.825692</td>\n",
       "      <td>0.102761</td>\n",
       "      <td>0.318103</td>\n",
       "      <td>0.063133</td>\n",
       "      <td>0.412260</td>\n",
       "      <td>0.509846</td>\n",
       "      <td>0.522581</td>\n",
       "      <td>0.432470</td>\n",
       "      <td>0.515504</td>\n",
       "      <td>0.520088</td>\n",
       "    </tr>\n",
       "    <tr>\n",
       "      <th>duration</th>\n",
       "      <td>-0.352229</td>\n",
       "      <td>0.247900</td>\n",
       "      <td>0.825692</td>\n",
       "      <td>1.000000</td>\n",
       "      <td>0.016567</td>\n",
       "      <td>0.379697</td>\n",
       "      <td>0.159712</td>\n",
       "      <td>0.327203</td>\n",
       "      <td>0.360277</td>\n",
       "      <td>0.360653</td>\n",
       "      <td>0.324221</td>\n",
       "      <td>0.279756</td>\n",
       "      <td>0.286111</td>\n",
       "    </tr>\n",
       "    <tr>\n",
       "      <th>senior_citizen</th>\n",
       "      <td>0.150889</td>\n",
       "      <td>0.220173</td>\n",
       "      <td>0.102761</td>\n",
       "      <td>0.016567</td>\n",
       "      <td>1.000000</td>\n",
       "      <td>0.016479</td>\n",
       "      <td>-0.211185</td>\n",
       "      <td>-0.038653</td>\n",
       "      <td>0.066572</td>\n",
       "      <td>0.059428</td>\n",
       "      <td>-0.060625</td>\n",
       "      <td>0.105378</td>\n",
       "      <td>0.120176</td>\n",
       "    </tr>\n",
       "    <tr>\n",
       "      <th>partner</th>\n",
       "      <td>-0.150448</td>\n",
       "      <td>0.096848</td>\n",
       "      <td>0.318103</td>\n",
       "      <td>0.379697</td>\n",
       "      <td>0.016479</td>\n",
       "      <td>1.000000</td>\n",
       "      <td>0.452676</td>\n",
       "      <td>0.143106</td>\n",
       "      <td>0.141498</td>\n",
       "      <td>0.153786</td>\n",
       "      <td>0.119999</td>\n",
       "      <td>0.124666</td>\n",
       "      <td>0.117412</td>\n",
       "    </tr>\n",
       "    <tr>\n",
       "      <th>dependents</th>\n",
       "      <td>-0.164221</td>\n",
       "      <td>-0.113890</td>\n",
       "      <td>0.063133</td>\n",
       "      <td>0.159712</td>\n",
       "      <td>-0.211185</td>\n",
       "      <td>0.452676</td>\n",
       "      <td>1.000000</td>\n",
       "      <td>0.080972</td>\n",
       "      <td>0.023671</td>\n",
       "      <td>0.013963</td>\n",
       "      <td>0.063268</td>\n",
       "      <td>-0.016558</td>\n",
       "      <td>-0.039741</td>\n",
       "    </tr>\n",
       "    <tr>\n",
       "      <th>online_security</th>\n",
       "      <td>-0.171226</td>\n",
       "      <td>0.296594</td>\n",
       "      <td>0.412260</td>\n",
       "      <td>0.327203</td>\n",
       "      <td>-0.038653</td>\n",
       "      <td>0.143106</td>\n",
       "      <td>0.080972</td>\n",
       "      <td>1.000000</td>\n",
       "      <td>0.283832</td>\n",
       "      <td>0.275438</td>\n",
       "      <td>0.354931</td>\n",
       "      <td>0.176207</td>\n",
       "      <td>0.187398</td>\n",
       "    </tr>\n",
       "    <tr>\n",
       "      <th>online_backup</th>\n",
       "      <td>-0.082255</td>\n",
       "      <td>0.441780</td>\n",
       "      <td>0.509846</td>\n",
       "      <td>0.360277</td>\n",
       "      <td>0.066572</td>\n",
       "      <td>0.141498</td>\n",
       "      <td>0.023671</td>\n",
       "      <td>0.283832</td>\n",
       "      <td>1.000000</td>\n",
       "      <td>0.303546</td>\n",
       "      <td>0.294233</td>\n",
       "      <td>0.282106</td>\n",
       "      <td>0.274501</td>\n",
       "    </tr>\n",
       "    <tr>\n",
       "      <th>device_protection</th>\n",
       "      <td>-0.066160</td>\n",
       "      <td>0.482692</td>\n",
       "      <td>0.522581</td>\n",
       "      <td>0.360653</td>\n",
       "      <td>0.059428</td>\n",
       "      <td>0.153786</td>\n",
       "      <td>0.013963</td>\n",
       "      <td>0.275438</td>\n",
       "      <td>0.303546</td>\n",
       "      <td>1.000000</td>\n",
       "      <td>0.333313</td>\n",
       "      <td>0.390874</td>\n",
       "      <td>0.402111</td>\n",
       "    </tr>\n",
       "    <tr>\n",
       "      <th>tech_support</th>\n",
       "      <td>-0.164674</td>\n",
       "      <td>0.338304</td>\n",
       "      <td>0.432470</td>\n",
       "      <td>0.324221</td>\n",
       "      <td>-0.060625</td>\n",
       "      <td>0.119999</td>\n",
       "      <td>0.063268</td>\n",
       "      <td>0.354931</td>\n",
       "      <td>0.294233</td>\n",
       "      <td>0.333313</td>\n",
       "      <td>1.000000</td>\n",
       "      <td>0.278070</td>\n",
       "      <td>0.279358</td>\n",
       "    </tr>\n",
       "    <tr>\n",
       "      <th>streaming_tv</th>\n",
       "      <td>0.063228</td>\n",
       "      <td>0.629603</td>\n",
       "      <td>0.515504</td>\n",
       "      <td>0.279756</td>\n",
       "      <td>0.105378</td>\n",
       "      <td>0.124666</td>\n",
       "      <td>-0.016558</td>\n",
       "      <td>0.176207</td>\n",
       "      <td>0.282106</td>\n",
       "      <td>0.390874</td>\n",
       "      <td>0.278070</td>\n",
       "      <td>1.000000</td>\n",
       "      <td>0.533094</td>\n",
       "    </tr>\n",
       "    <tr>\n",
       "      <th>streaming_movies</th>\n",
       "      <td>0.061382</td>\n",
       "      <td>0.627429</td>\n",
       "      <td>0.520088</td>\n",
       "      <td>0.286111</td>\n",
       "      <td>0.120176</td>\n",
       "      <td>0.117412</td>\n",
       "      <td>-0.039741</td>\n",
       "      <td>0.187398</td>\n",
       "      <td>0.274501</td>\n",
       "      <td>0.402111</td>\n",
       "      <td>0.279358</td>\n",
       "      <td>0.533094</td>\n",
       "      <td>1.000000</td>\n",
       "    </tr>\n",
       "  </tbody>\n",
       "</table>\n",
       "</div>"
      ],
      "text/plain": [
       "                   end_date  monthly_charges  total_charges  duration  \\\n",
       "end_date           1.000000         0.193356      -0.198823 -0.352229   \n",
       "monthly_charges    0.193356         1.000000       0.651262  0.247900   \n",
       "total_charges     -0.198823         0.651262       1.000000  0.825692   \n",
       "duration          -0.352229         0.247900       0.825692  1.000000   \n",
       "senior_citizen     0.150889         0.220173       0.102761  0.016567   \n",
       "partner           -0.150448         0.096848       0.318103  0.379697   \n",
       "dependents        -0.164221        -0.113890       0.063133  0.159712   \n",
       "online_security   -0.171226         0.296594       0.412260  0.327203   \n",
       "online_backup     -0.082255         0.441780       0.509846  0.360277   \n",
       "device_protection -0.066160         0.482692       0.522581  0.360653   \n",
       "tech_support      -0.164674         0.338304       0.432470  0.324221   \n",
       "streaming_tv       0.063228         0.629603       0.515504  0.279756   \n",
       "streaming_movies   0.061382         0.627429       0.520088  0.286111   \n",
       "\n",
       "                   senior_citizen   partner  dependents  online_security  \\\n",
       "end_date                 0.150889 -0.150448   -0.164221        -0.171226   \n",
       "monthly_charges          0.220173  0.096848   -0.113890         0.296594   \n",
       "total_charges            0.102761  0.318103    0.063133         0.412260   \n",
       "duration                 0.016567  0.379697    0.159712         0.327203   \n",
       "senior_citizen           1.000000  0.016479   -0.211185        -0.038653   \n",
       "partner                  0.016479  1.000000    0.452676         0.143106   \n",
       "dependents              -0.211185  0.452676    1.000000         0.080972   \n",
       "online_security         -0.038653  0.143106    0.080972         1.000000   \n",
       "online_backup            0.066572  0.141498    0.023671         0.283832   \n",
       "device_protection        0.059428  0.153786    0.013963         0.275438   \n",
       "tech_support            -0.060625  0.119999    0.063268         0.354931   \n",
       "streaming_tv             0.105378  0.124666   -0.016558         0.176207   \n",
       "streaming_movies         0.120176  0.117412   -0.039741         0.187398   \n",
       "\n",
       "                   online_backup  device_protection  tech_support  \\\n",
       "end_date               -0.082255          -0.066160     -0.164674   \n",
       "monthly_charges         0.441780           0.482692      0.338304   \n",
       "total_charges           0.509846           0.522581      0.432470   \n",
       "duration                0.360277           0.360653      0.324221   \n",
       "senior_citizen          0.066572           0.059428     -0.060625   \n",
       "partner                 0.141498           0.153786      0.119999   \n",
       "dependents              0.023671           0.013963      0.063268   \n",
       "online_security         0.283832           0.275438      0.354931   \n",
       "online_backup           1.000000           0.303546      0.294233   \n",
       "device_protection       0.303546           1.000000      0.333313   \n",
       "tech_support            0.294233           0.333313      1.000000   \n",
       "streaming_tv            0.282106           0.390874      0.278070   \n",
       "streaming_movies        0.274501           0.402111      0.279358   \n",
       "\n",
       "                   streaming_tv  streaming_movies  \n",
       "end_date               0.063228          0.061382  \n",
       "monthly_charges        0.629603          0.627429  \n",
       "total_charges          0.515504          0.520088  \n",
       "duration               0.279756          0.286111  \n",
       "senior_citizen         0.105378          0.120176  \n",
       "partner                0.124666          0.117412  \n",
       "dependents            -0.016558         -0.039741  \n",
       "online_security        0.176207          0.187398  \n",
       "online_backup          0.282106          0.274501  \n",
       "device_protection      0.390874          0.402111  \n",
       "tech_support           0.278070          0.279358  \n",
       "streaming_tv           1.000000          0.533094  \n",
       "streaming_movies       0.533094          1.000000  "
      ]
     },
     "execution_count": 71,
     "metadata": {},
     "output_type": "execute_result"
    }
   ],
   "source": [
    "result.corr()"
   ]
  },
  {
   "cell_type": "markdown",
   "metadata": {},
   "source": [
    "Коэффициент корреляции Пирсона атрибута длительности и общей суммы клиента более 0,8. Удалим атрибут общей суммы платежей."
   ]
  },
  {
   "cell_type": "code",
   "execution_count": 72,
   "metadata": {},
   "outputs": [],
   "source": [
    "result = result.drop(['total_charges'],axis=1)"
   ]
  },
  {
   "cell_type": "code",
   "execution_count": 73,
   "metadata": {
    "scrolled": false
   },
   "outputs": [
    {
     "data": {
      "text/html": [
       "<div>\n",
       "<style scoped>\n",
       "    .dataframe tbody tr th:only-of-type {\n",
       "        vertical-align: middle;\n",
       "    }\n",
       "\n",
       "    .dataframe tbody tr th {\n",
       "        vertical-align: top;\n",
       "    }\n",
       "\n",
       "    .dataframe thead th {\n",
       "        text-align: right;\n",
       "    }\n",
       "</style>\n",
       "<table border=\"1\" class=\"dataframe\">\n",
       "  <thead>\n",
       "    <tr style=\"text-align: right;\">\n",
       "      <th></th>\n",
       "      <th>customer_id</th>\n",
       "      <th>end_date</th>\n",
       "      <th>type</th>\n",
       "      <th>paper_less_billing</th>\n",
       "      <th>payment_method</th>\n",
       "      <th>monthly_charges</th>\n",
       "      <th>duration</th>\n",
       "      <th>gender</th>\n",
       "      <th>senior_citizen</th>\n",
       "      <th>partner</th>\n",
       "      <th>dependents</th>\n",
       "      <th>internet_service</th>\n",
       "      <th>online_security</th>\n",
       "      <th>online_backup</th>\n",
       "      <th>device_protection</th>\n",
       "      <th>tech_support</th>\n",
       "      <th>streaming_tv</th>\n",
       "      <th>streaming_movies</th>\n",
       "      <th>multiple_lines</th>\n",
       "    </tr>\n",
       "  </thead>\n",
       "  <tbody>\n",
       "    <tr>\n",
       "      <th>0</th>\n",
       "      <td>7590-VHVEG</td>\n",
       "      <td>0</td>\n",
       "      <td>month-to-month</td>\n",
       "      <td>yes</td>\n",
       "      <td>electronic check</td>\n",
       "      <td>29.85</td>\n",
       "      <td>1</td>\n",
       "      <td>female</td>\n",
       "      <td>0</td>\n",
       "      <td>1</td>\n",
       "      <td>0</td>\n",
       "      <td>DSL</td>\n",
       "      <td>0.0</td>\n",
       "      <td>1.0</td>\n",
       "      <td>0.0</td>\n",
       "      <td>0.0</td>\n",
       "      <td>0.0</td>\n",
       "      <td>0.0</td>\n",
       "      <td>no_phone</td>\n",
       "    </tr>\n",
       "    <tr>\n",
       "      <th>1</th>\n",
       "      <td>5575-GNVDE</td>\n",
       "      <td>0</td>\n",
       "      <td>one year</td>\n",
       "      <td>no</td>\n",
       "      <td>mailed check</td>\n",
       "      <td>56.95</td>\n",
       "      <td>34</td>\n",
       "      <td>male</td>\n",
       "      <td>0</td>\n",
       "      <td>0</td>\n",
       "      <td>0</td>\n",
       "      <td>DSL</td>\n",
       "      <td>1.0</td>\n",
       "      <td>0.0</td>\n",
       "      <td>1.0</td>\n",
       "      <td>0.0</td>\n",
       "      <td>0.0</td>\n",
       "      <td>0.0</td>\n",
       "      <td>No</td>\n",
       "    </tr>\n",
       "    <tr>\n",
       "      <th>2</th>\n",
       "      <td>3668-QPYBK</td>\n",
       "      <td>1</td>\n",
       "      <td>month-to-month</td>\n",
       "      <td>yes</td>\n",
       "      <td>mailed check</td>\n",
       "      <td>53.85</td>\n",
       "      <td>2</td>\n",
       "      <td>male</td>\n",
       "      <td>0</td>\n",
       "      <td>0</td>\n",
       "      <td>0</td>\n",
       "      <td>DSL</td>\n",
       "      <td>1.0</td>\n",
       "      <td>1.0</td>\n",
       "      <td>0.0</td>\n",
       "      <td>0.0</td>\n",
       "      <td>0.0</td>\n",
       "      <td>0.0</td>\n",
       "      <td>No</td>\n",
       "    </tr>\n",
       "    <tr>\n",
       "      <th>3</th>\n",
       "      <td>7795-CFOCW</td>\n",
       "      <td>0</td>\n",
       "      <td>one year</td>\n",
       "      <td>no</td>\n",
       "      <td>bank transfer (automatic)</td>\n",
       "      <td>42.30</td>\n",
       "      <td>45</td>\n",
       "      <td>male</td>\n",
       "      <td>0</td>\n",
       "      <td>0</td>\n",
       "      <td>0</td>\n",
       "      <td>DSL</td>\n",
       "      <td>1.0</td>\n",
       "      <td>0.0</td>\n",
       "      <td>1.0</td>\n",
       "      <td>1.0</td>\n",
       "      <td>0.0</td>\n",
       "      <td>0.0</td>\n",
       "      <td>no_phone</td>\n",
       "    </tr>\n",
       "    <tr>\n",
       "      <th>4</th>\n",
       "      <td>9237-HQITU</td>\n",
       "      <td>1</td>\n",
       "      <td>month-to-month</td>\n",
       "      <td>yes</td>\n",
       "      <td>electronic check</td>\n",
       "      <td>70.70</td>\n",
       "      <td>2</td>\n",
       "      <td>female</td>\n",
       "      <td>0</td>\n",
       "      <td>0</td>\n",
       "      <td>0</td>\n",
       "      <td>Fiber optic</td>\n",
       "      <td>0.0</td>\n",
       "      <td>0.0</td>\n",
       "      <td>0.0</td>\n",
       "      <td>0.0</td>\n",
       "      <td>0.0</td>\n",
       "      <td>0.0</td>\n",
       "      <td>No</td>\n",
       "    </tr>\n",
       "    <tr>\n",
       "      <th>...</th>\n",
       "      <td>...</td>\n",
       "      <td>...</td>\n",
       "      <td>...</td>\n",
       "      <td>...</td>\n",
       "      <td>...</td>\n",
       "      <td>...</td>\n",
       "      <td>...</td>\n",
       "      <td>...</td>\n",
       "      <td>...</td>\n",
       "      <td>...</td>\n",
       "      <td>...</td>\n",
       "      <td>...</td>\n",
       "      <td>...</td>\n",
       "      <td>...</td>\n",
       "      <td>...</td>\n",
       "      <td>...</td>\n",
       "      <td>...</td>\n",
       "      <td>...</td>\n",
       "      <td>...</td>\n",
       "    </tr>\n",
       "    <tr>\n",
       "      <th>7038</th>\n",
       "      <td>6840-RESVB</td>\n",
       "      <td>0</td>\n",
       "      <td>one year</td>\n",
       "      <td>yes</td>\n",
       "      <td>mailed check</td>\n",
       "      <td>84.80</td>\n",
       "      <td>24</td>\n",
       "      <td>male</td>\n",
       "      <td>0</td>\n",
       "      <td>1</td>\n",
       "      <td>1</td>\n",
       "      <td>DSL</td>\n",
       "      <td>1.0</td>\n",
       "      <td>0.0</td>\n",
       "      <td>1.0</td>\n",
       "      <td>1.0</td>\n",
       "      <td>1.0</td>\n",
       "      <td>1.0</td>\n",
       "      <td>Yes</td>\n",
       "    </tr>\n",
       "    <tr>\n",
       "      <th>7039</th>\n",
       "      <td>2234-XADUH</td>\n",
       "      <td>0</td>\n",
       "      <td>one year</td>\n",
       "      <td>yes</td>\n",
       "      <td>credit card (automatic)</td>\n",
       "      <td>103.20</td>\n",
       "      <td>72</td>\n",
       "      <td>female</td>\n",
       "      <td>0</td>\n",
       "      <td>1</td>\n",
       "      <td>1</td>\n",
       "      <td>Fiber optic</td>\n",
       "      <td>0.0</td>\n",
       "      <td>1.0</td>\n",
       "      <td>1.0</td>\n",
       "      <td>0.0</td>\n",
       "      <td>1.0</td>\n",
       "      <td>1.0</td>\n",
       "      <td>Yes</td>\n",
       "    </tr>\n",
       "    <tr>\n",
       "      <th>7040</th>\n",
       "      <td>4801-JZAZL</td>\n",
       "      <td>0</td>\n",
       "      <td>month-to-month</td>\n",
       "      <td>yes</td>\n",
       "      <td>electronic check</td>\n",
       "      <td>29.60</td>\n",
       "      <td>11</td>\n",
       "      <td>female</td>\n",
       "      <td>0</td>\n",
       "      <td>1</td>\n",
       "      <td>1</td>\n",
       "      <td>DSL</td>\n",
       "      <td>1.0</td>\n",
       "      <td>0.0</td>\n",
       "      <td>0.0</td>\n",
       "      <td>0.0</td>\n",
       "      <td>0.0</td>\n",
       "      <td>0.0</td>\n",
       "      <td>no_phone</td>\n",
       "    </tr>\n",
       "    <tr>\n",
       "      <th>7041</th>\n",
       "      <td>8361-LTMKD</td>\n",
       "      <td>1</td>\n",
       "      <td>month-to-month</td>\n",
       "      <td>yes</td>\n",
       "      <td>mailed check</td>\n",
       "      <td>74.40</td>\n",
       "      <td>4</td>\n",
       "      <td>male</td>\n",
       "      <td>1</td>\n",
       "      <td>1</td>\n",
       "      <td>0</td>\n",
       "      <td>Fiber optic</td>\n",
       "      <td>0.0</td>\n",
       "      <td>0.0</td>\n",
       "      <td>0.0</td>\n",
       "      <td>0.0</td>\n",
       "      <td>0.0</td>\n",
       "      <td>0.0</td>\n",
       "      <td>Yes</td>\n",
       "    </tr>\n",
       "    <tr>\n",
       "      <th>7042</th>\n",
       "      <td>3186-AJIEK</td>\n",
       "      <td>0</td>\n",
       "      <td>two year</td>\n",
       "      <td>yes</td>\n",
       "      <td>bank transfer (automatic)</td>\n",
       "      <td>105.65</td>\n",
       "      <td>66</td>\n",
       "      <td>male</td>\n",
       "      <td>0</td>\n",
       "      <td>0</td>\n",
       "      <td>0</td>\n",
       "      <td>Fiber optic</td>\n",
       "      <td>1.0</td>\n",
       "      <td>0.0</td>\n",
       "      <td>1.0</td>\n",
       "      <td>1.0</td>\n",
       "      <td>1.0</td>\n",
       "      <td>1.0</td>\n",
       "      <td>No</td>\n",
       "    </tr>\n",
       "  </tbody>\n",
       "</table>\n",
       "<p>7043 rows × 19 columns</p>\n",
       "</div>"
      ],
      "text/plain": [
       "     customer_id  end_date            type paper_less_billing  \\\n",
       "0     7590-VHVEG         0  month-to-month                yes   \n",
       "1     5575-GNVDE         0        one year                 no   \n",
       "2     3668-QPYBK         1  month-to-month                yes   \n",
       "3     7795-CFOCW         0        one year                 no   \n",
       "4     9237-HQITU         1  month-to-month                yes   \n",
       "...          ...       ...             ...                ...   \n",
       "7038  6840-RESVB         0        one year                yes   \n",
       "7039  2234-XADUH         0        one year                yes   \n",
       "7040  4801-JZAZL         0  month-to-month                yes   \n",
       "7041  8361-LTMKD         1  month-to-month                yes   \n",
       "7042  3186-AJIEK         0        two year                yes   \n",
       "\n",
       "                 payment_method  monthly_charges  duration  gender  \\\n",
       "0              electronic check            29.85         1  female   \n",
       "1                  mailed check            56.95        34    male   \n",
       "2                  mailed check            53.85         2    male   \n",
       "3     bank transfer (automatic)            42.30        45    male   \n",
       "4              electronic check            70.70         2  female   \n",
       "...                         ...              ...       ...     ...   \n",
       "7038               mailed check            84.80        24    male   \n",
       "7039    credit card (automatic)           103.20        72  female   \n",
       "7040           electronic check            29.60        11  female   \n",
       "7041               mailed check            74.40         4    male   \n",
       "7042  bank transfer (automatic)           105.65        66    male   \n",
       "\n",
       "      senior_citizen  partner  dependents internet_service  online_security  \\\n",
       "0                  0        1           0              DSL              0.0   \n",
       "1                  0        0           0              DSL              1.0   \n",
       "2                  0        0           0              DSL              1.0   \n",
       "3                  0        0           0              DSL              1.0   \n",
       "4                  0        0           0      Fiber optic              0.0   \n",
       "...              ...      ...         ...              ...              ...   \n",
       "7038               0        1           1              DSL              1.0   \n",
       "7039               0        1           1      Fiber optic              0.0   \n",
       "7040               0        1           1              DSL              1.0   \n",
       "7041               1        1           0      Fiber optic              0.0   \n",
       "7042               0        0           0      Fiber optic              1.0   \n",
       "\n",
       "      online_backup  device_protection  tech_support  streaming_tv  \\\n",
       "0               1.0                0.0           0.0           0.0   \n",
       "1               0.0                1.0           0.0           0.0   \n",
       "2               1.0                0.0           0.0           0.0   \n",
       "3               0.0                1.0           1.0           0.0   \n",
       "4               0.0                0.0           0.0           0.0   \n",
       "...             ...                ...           ...           ...   \n",
       "7038            0.0                1.0           1.0           1.0   \n",
       "7039            1.0                1.0           0.0           1.0   \n",
       "7040            0.0                0.0           0.0           0.0   \n",
       "7041            0.0                0.0           0.0           0.0   \n",
       "7042            0.0                1.0           1.0           1.0   \n",
       "\n",
       "      streaming_movies multiple_lines  \n",
       "0                  0.0       no_phone  \n",
       "1                  0.0             No  \n",
       "2                  0.0             No  \n",
       "3                  0.0       no_phone  \n",
       "4                  0.0             No  \n",
       "...                ...            ...  \n",
       "7038               1.0            Yes  \n",
       "7039               1.0            Yes  \n",
       "7040               0.0       no_phone  \n",
       "7041               0.0            Yes  \n",
       "7042               1.0             No  \n",
       "\n",
       "[7043 rows x 19 columns]"
      ]
     },
     "execution_count": 73,
     "metadata": {},
     "output_type": "execute_result"
    }
   ],
   "source": [
    "result"
   ]
  },
  {
   "cell_type": "markdown",
   "metadata": {
    "id": "aH9ftFfTjTvn"
   },
   "source": [
    "## Обучение моделей"
   ]
  },
  {
   "cell_type": "markdown",
   "metadata": {
    "id": "okeCA8RBj5o3"
   },
   "source": [
    "Обучим несколько моделей для предсказания целевого признака: линейную регрессию, light gbm, градиентный бустинг.\n",
    "\n",
    "Для линейной регрессии и light gbm:\n",
    "  - Проведём кодирование категориальных признаков (воспользуемся прямым кодированием One-Hot Encoding) \n",
    "  - Проведём масштабированием количественных признаков(с помощью метода StandardScaler)\n",
    "  - Разобъём данные на выборки (тренировочную, валидационную и тестовую 60:20:20)\n",
    "\n",
    "Для градиентного бустинга:\n",
    "  - разделим данные на выборки\n",
    "  - укажем модели, какие признаки категориальные\n",
    "\n",
    "Для всех моделей:\n",
    "  - Протестируем модели на тестовой выборке\n",
    "  - Проанализируем модели, выберем лучшую.\n"
   ]
  },
  {
   "cell_type": "markdown",
   "metadata": {
    "id": "FEJISrRL3kpY"
   },
   "source": [
    "### Логистическая регессия"
   ]
  },
  {
   "cell_type": "markdown",
   "metadata": {
    "id": "SosdPgY1W5Yb"
   },
   "source": [
    "Чтобы обучить модель линейной регрессии необходимо закодировать категориальные переменные. \n",
    "Воспользуемся прямым кодированием One-Hot Encoding."
   ]
  },
  {
   "cell_type": "markdown",
   "metadata": {
    "id": "0DvAsP1JUgvV"
   },
   "source": [
    "Разобьём данные на категориальные и числовые:"
   ]
  },
  {
   "cell_type": "code",
   "execution_count": 74,
   "metadata": {
    "colab": {
     "base_uri": "https://localhost:8080/"
    },
    "id": "RhX-xbGPSpYx",
    "outputId": "c21a0d98-cd12-46b7-c43f-ca302764470d"
   },
   "outputs": [
    {
     "data": {
      "text/plain": [
       "Index(['customer_id', 'end_date', 'type', 'paper_less_billing',\n",
       "       'payment_method', 'monthly_charges', 'duration', 'gender',\n",
       "       'senior_citizen', 'partner', 'dependents', 'internet_service',\n",
       "       'online_security', 'online_backup', 'device_protection', 'tech_support',\n",
       "       'streaming_tv', 'streaming_movies', 'multiple_lines'],\n",
       "      dtype='object')"
      ]
     },
     "execution_count": 74,
     "metadata": {},
     "output_type": "execute_result"
    }
   ],
   "source": [
    "columns = result.columns\n",
    "columns"
   ]
  },
  {
   "cell_type": "markdown",
   "metadata": {
    "id": "_XZdZEDTpQhY"
   },
   "source": [
    "Разделим столбцы на категориальные и числовые признаки."
   ]
  },
  {
   "cell_type": "code",
   "execution_count": 75,
   "metadata": {
    "id": "shVxrGcnpaVX"
   },
   "outputs": [],
   "source": [
    "cols_num = ['monthly_charges', 'duration']"
   ]
  },
  {
   "cell_type": "code",
   "execution_count": 76,
   "metadata": {
    "id": "DmK18BmspvbU"
   },
   "outputs": [],
   "source": [
    "cols_cat = ['type', 'paper_less_billing',\n",
    "           'payment_method', 'gender', 'senior_citizen',\n",
    "           'partner', 'dependents', 'internet_service',\n",
    "           'online_security', 'online_backup', 'device_protection',\n",
    "           'tech_support','streaming_tv', 'streaming_movies',\n",
    "           'multiple_lines']"
   ]
  },
  {
   "cell_type": "markdown",
   "metadata": {
    "id": "7GXAniin5s2S"
   },
   "source": [
    "Закодируем категориальные признаки"
   ]
  },
  {
   "cell_type": "code",
   "execution_count": 77,
   "metadata": {
    "id": "NvoQTBzj336V"
   },
   "outputs": [],
   "source": [
    "data_ohe = pd.get_dummies(result[cols_cat], drop_first=True)"
   ]
  },
  {
   "cell_type": "markdown",
   "metadata": {
    "id": "5ZagOD2m5YuY"
   },
   "source": [
    "Категориальные признаки закодировали, объединим их с количественными признаками. Посмотрим для проверки на названия столбцов:"
   ]
  },
  {
   "cell_type": "code",
   "execution_count": 78,
   "metadata": {
    "id": "hnTbubHK5MMg"
   },
   "outputs": [],
   "source": [
    "data_ohe = data_ohe.join(result[cols_num])\n",
    "data_ohe = data_ohe.join(result['end_date'])"
   ]
  },
  {
   "cell_type": "code",
   "execution_count": 79,
   "metadata": {
    "colab": {
     "base_uri": "https://localhost:8080/"
    },
    "id": "-th8dnbs4b6b",
    "outputId": "8abb2b08-8e14-4d00-db85-070894c2ee07"
   },
   "outputs": [
    {
     "data": {
      "text/plain": [
       "Index(['senior_citizen', 'partner', 'dependents', 'online_security',\n",
       "       'online_backup', 'device_protection', 'tech_support', 'streaming_tv',\n",
       "       'streaming_movies', 'type_one year', 'type_two year',\n",
       "       'paper_less_billing_yes', 'payment_method_credit card (automatic)',\n",
       "       'payment_method_electronic check', 'payment_method_mailed check',\n",
       "       'gender_male', 'internet_service_Fiber optic',\n",
       "       'internet_service_no_internet', 'multiple_lines_Yes',\n",
       "       'multiple_lines_no_phone', 'monthly_charges', 'duration', 'end_date'],\n",
       "      dtype='object')"
      ]
     },
     "execution_count": 79,
     "metadata": {},
     "output_type": "execute_result"
    }
   ],
   "source": [
    "data_ohe.columns"
   ]
  },
  {
   "cell_type": "markdown",
   "metadata": {
    "id": "OYMoV7h-E0WT"
   },
   "source": [
    "Теперь необходимо разделить данные на выборки."
   ]
  },
  {
   "cell_type": "code",
   "execution_count": 80,
   "metadata": {
    "id": "NGwP9vhDI8V3"
   },
   "outputs": [],
   "source": [
    "def features_target_split (df):\n",
    "  \"\"\"\n",
    "  input:        df - датафрейм, который необходимо разделить\n",
    "\n",
    "  output:       features_train - тренировочные признаки\n",
    "                features_val - валидационные  признаки\n",
    "                features_test - тестовый признак\n",
    "\n",
    "                target_train - тренировочный целевой признак\n",
    "                target_val - валидационный целевой признак\n",
    "                target_test - тестовый целевой признак \n",
    "\n",
    "  description:  функция разбивает датафрекйм сначала на признаки и целевой признак, \n",
    "                потом делит выборки на тренировочные, валидационные и тестовые.\n",
    "                Выводит на экран размерность выборок.\n",
    "  \"\"\"\n",
    "  features = df.drop(['end_date'], axis=1)\n",
    "  target = df['end_date']\n",
    "\n",
    "  features_train, features_test, target_train, target_test = train_test_split(features, target, \n",
    "                                                                              test_size=0.4,random_state=42)\n",
    "  features_val, features_test, target_val, target_test = train_test_split(features_test, target_test, \n",
    "                                                                          test_size=0.5,random_state=42)\n",
    "\n",
    "\n",
    "  print('Для проверки посмотрим на размер выборок:')\n",
    "  print('features_train.shape: ', features_train.shape)\n",
    "  print('features_val.shape: ', features_val.shape)\n",
    "  print('features_test.shape: ', features_test.shape)\n",
    "  print()\n",
    "  print('target_train.shape: ', target_train.shape)\n",
    "  print('target_val.shape: ', target_val.shape)\n",
    "  print('target_test.shape: ', target_test.shape)\n",
    "\n",
    "  return features_train, features_val, features_test, target_train, target_val, target_test "
   ]
  },
  {
   "cell_type": "code",
   "execution_count": 81,
   "metadata": {
    "colab": {
     "base_uri": "https://localhost:8080/"
    },
    "id": "VWHDQSQFI8NF",
    "outputId": "5bfdb50c-d1b8-47e3-816e-bd8351efdae2"
   },
   "outputs": [
    {
     "name": "stdout",
     "output_type": "stream",
     "text": [
      "Для проверки посмотрим на размер выборок:\n",
      "features_train.shape:  (4225, 22)\n",
      "features_val.shape:  (1409, 22)\n",
      "features_test.shape:  (1409, 22)\n",
      "\n",
      "target_train.shape:  (4225,)\n",
      "target_val.shape:  (1409,)\n",
      "target_test.shape:  (1409,)\n"
     ]
    }
   ],
   "source": [
    "l_features_train, l_features_val, l_features_test, l_target_train, l_target_val, l_target_test = features_target_split (data_ohe)"
   ]
  },
  {
   "cell_type": "markdown",
   "metadata": {
    "id": "Gu8RcjRjtINd"
   },
   "source": [
    "Проведём масштабирование признаков  с помощью метода StandardScaler библиотеки sklearn. Будем масштабировать только количественные признаки:"
   ]
  },
  {
   "cell_type": "code",
   "execution_count": 82,
   "metadata": {
    "colab": {
     "base_uri": "https://localhost:8080/"
    },
    "id": "SLcUdNvHuz-9",
    "outputId": "aa2b5206-7e19-4462-b576-d82d6d90b41f"
   },
   "outputs": [
    {
     "data": {
      "text/plain": [
       "['monthly_charges', 'duration']"
      ]
     },
     "execution_count": 82,
     "metadata": {},
     "output_type": "execute_result"
    }
   ],
   "source": [
    "cols_num"
   ]
  },
  {
   "cell_type": "markdown",
   "metadata": {
    "id": "AJfx_PGV9-nn"
   },
   "source": [
    "Но только без атрибута цена."
   ]
  },
  {
   "cell_type": "code",
   "execution_count": 83,
   "metadata": {
    "colab": {
     "base_uri": "https://localhost:8080/"
    },
    "id": "colv9_p6tIVA",
    "outputId": "5b366b3f-9b72-43b3-c382-cab3c9fe9454"
   },
   "outputs": [
    {
     "data": {
      "text/plain": [
       "StandardScaler()"
      ]
     },
     "execution_count": 83,
     "metadata": {},
     "output_type": "execute_result"
    }
   ],
   "source": [
    "ss = StandardScaler()\n",
    "ss.fit(l_features_train[cols_num])"
   ]
  },
  {
   "cell_type": "code",
   "execution_count": 84,
   "metadata": {
    "id": "S5tKNeFQtpv2"
   },
   "outputs": [],
   "source": [
    "l_features_train[cols_num] = ss.transform(l_features_train[cols_num])\n",
    "l_features_val[cols_num] = ss.transform(l_features_val[cols_num])\n",
    "l_features_test[cols_num] = ss.transform(l_features_test[cols_num])"
   ]
  },
  {
   "cell_type": "code",
   "execution_count": 85,
   "metadata": {
    "colab": {
     "base_uri": "https://localhost:8080/",
     "height": 317
    },
    "id": "H6v5Y74FuTUU",
    "outputId": "19c077b4-877d-4090-8ea8-d136204abc4e"
   },
   "outputs": [
    {
     "data": {
      "text/html": [
       "<div>\n",
       "<style scoped>\n",
       "    .dataframe tbody tr th:only-of-type {\n",
       "        vertical-align: middle;\n",
       "    }\n",
       "\n",
       "    .dataframe tbody tr th {\n",
       "        vertical-align: top;\n",
       "    }\n",
       "\n",
       "    .dataframe thead th {\n",
       "        text-align: right;\n",
       "    }\n",
       "</style>\n",
       "<table border=\"1\" class=\"dataframe\">\n",
       "  <thead>\n",
       "    <tr style=\"text-align: right;\">\n",
       "      <th></th>\n",
       "      <th>senior_citizen</th>\n",
       "      <th>partner</th>\n",
       "      <th>dependents</th>\n",
       "      <th>online_security</th>\n",
       "      <th>online_backup</th>\n",
       "      <th>device_protection</th>\n",
       "      <th>tech_support</th>\n",
       "      <th>streaming_tv</th>\n",
       "      <th>streaming_movies</th>\n",
       "      <th>type_one year</th>\n",
       "      <th>...</th>\n",
       "      <th>payment_method_credit card (automatic)</th>\n",
       "      <th>payment_method_electronic check</th>\n",
       "      <th>payment_method_mailed check</th>\n",
       "      <th>gender_male</th>\n",
       "      <th>internet_service_Fiber optic</th>\n",
       "      <th>internet_service_no_internet</th>\n",
       "      <th>multiple_lines_Yes</th>\n",
       "      <th>multiple_lines_no_phone</th>\n",
       "      <th>monthly_charges</th>\n",
       "      <th>duration</th>\n",
       "    </tr>\n",
       "  </thead>\n",
       "  <tbody>\n",
       "    <tr>\n",
       "      <th>999</th>\n",
       "      <td>0</td>\n",
       "      <td>0</td>\n",
       "      <td>0</td>\n",
       "      <td>0.0</td>\n",
       "      <td>0.0</td>\n",
       "      <td>0.0</td>\n",
       "      <td>1.0</td>\n",
       "      <td>1.0</td>\n",
       "      <td>1.0</td>\n",
       "      <td>0</td>\n",
       "      <td>...</td>\n",
       "      <td>0</td>\n",
       "      <td>1</td>\n",
       "      <td>0</td>\n",
       "      <td>1</td>\n",
       "      <td>0</td>\n",
       "      <td>0</td>\n",
       "      <td>0</td>\n",
       "      <td>0</td>\n",
       "      <td>0.183178</td>\n",
       "      <td>-1.245524</td>\n",
       "    </tr>\n",
       "    <tr>\n",
       "      <th>389</th>\n",
       "      <td>0</td>\n",
       "      <td>0</td>\n",
       "      <td>1</td>\n",
       "      <td>0.0</td>\n",
       "      <td>0.0</td>\n",
       "      <td>0.0</td>\n",
       "      <td>0.0</td>\n",
       "      <td>0.0</td>\n",
       "      <td>0.0</td>\n",
       "      <td>0</td>\n",
       "      <td>...</td>\n",
       "      <td>0</td>\n",
       "      <td>1</td>\n",
       "      <td>0</td>\n",
       "      <td>1</td>\n",
       "      <td>0</td>\n",
       "      <td>0</td>\n",
       "      <td>0</td>\n",
       "      <td>0</td>\n",
       "      <td>-0.687785</td>\n",
       "      <td>-1.286382</td>\n",
       "    </tr>\n",
       "    <tr>\n",
       "      <th>2330</th>\n",
       "      <td>0</td>\n",
       "      <td>1</td>\n",
       "      <td>1</td>\n",
       "      <td>0.0</td>\n",
       "      <td>1.0</td>\n",
       "      <td>0.0</td>\n",
       "      <td>0.0</td>\n",
       "      <td>0.0</td>\n",
       "      <td>1.0</td>\n",
       "      <td>0</td>\n",
       "      <td>...</td>\n",
       "      <td>0</td>\n",
       "      <td>1</td>\n",
       "      <td>0</td>\n",
       "      <td>1</td>\n",
       "      <td>0</td>\n",
       "      <td>0</td>\n",
       "      <td>1</td>\n",
       "      <td>0</td>\n",
       "      <td>-0.012209</td>\n",
       "      <td>-0.183209</td>\n",
       "    </tr>\n",
       "    <tr>\n",
       "      <th>1476</th>\n",
       "      <td>0</td>\n",
       "      <td>0</td>\n",
       "      <td>0</td>\n",
       "      <td>0.0</td>\n",
       "      <td>0.0</td>\n",
       "      <td>0.0</td>\n",
       "      <td>0.0</td>\n",
       "      <td>0.0</td>\n",
       "      <td>0.0</td>\n",
       "      <td>0</td>\n",
       "      <td>...</td>\n",
       "      <td>0</td>\n",
       "      <td>0</td>\n",
       "      <td>1</td>\n",
       "      <td>1</td>\n",
       "      <td>0</td>\n",
       "      <td>1</td>\n",
       "      <td>0</td>\n",
       "      <td>0</td>\n",
       "      <td>-1.474302</td>\n",
       "      <td>-1.245524</td>\n",
       "    </tr>\n",
       "    <tr>\n",
       "      <th>2240</th>\n",
       "      <td>1</td>\n",
       "      <td>1</td>\n",
       "      <td>1</td>\n",
       "      <td>1.0</td>\n",
       "      <td>1.0</td>\n",
       "      <td>1.0</td>\n",
       "      <td>1.0</td>\n",
       "      <td>1.0</td>\n",
       "      <td>1.0</td>\n",
       "      <td>0</td>\n",
       "      <td>...</td>\n",
       "      <td>1</td>\n",
       "      <td>0</td>\n",
       "      <td>0</td>\n",
       "      <td>0</td>\n",
       "      <td>0</td>\n",
       "      <td>0</td>\n",
       "      <td>1</td>\n",
       "      <td>0</td>\n",
       "      <td>0.820670</td>\n",
       "      <td>1.614553</td>\n",
       "    </tr>\n",
       "  </tbody>\n",
       "</table>\n",
       "<p>5 rows × 22 columns</p>\n",
       "</div>"
      ],
      "text/plain": [
       "      senior_citizen  partner  dependents  online_security  online_backup  \\\n",
       "999                0        0           0              0.0            0.0   \n",
       "389                0        0           1              0.0            0.0   \n",
       "2330               0        1           1              0.0            1.0   \n",
       "1476               0        0           0              0.0            0.0   \n",
       "2240               1        1           1              1.0            1.0   \n",
       "\n",
       "      device_protection  tech_support  streaming_tv  streaming_movies  \\\n",
       "999                 0.0           1.0           1.0               1.0   \n",
       "389                 0.0           0.0           0.0               0.0   \n",
       "2330                0.0           0.0           0.0               1.0   \n",
       "1476                0.0           0.0           0.0               0.0   \n",
       "2240                1.0           1.0           1.0               1.0   \n",
       "\n",
       "      type_one year  ...  payment_method_credit card (automatic)  \\\n",
       "999               0  ...                                       0   \n",
       "389               0  ...                                       0   \n",
       "2330              0  ...                                       0   \n",
       "1476              0  ...                                       0   \n",
       "2240              0  ...                                       1   \n",
       "\n",
       "      payment_method_electronic check  payment_method_mailed check  \\\n",
       "999                                 1                            0   \n",
       "389                                 1                            0   \n",
       "2330                                1                            0   \n",
       "1476                                0                            1   \n",
       "2240                                0                            0   \n",
       "\n",
       "      gender_male  internet_service_Fiber optic  internet_service_no_internet  \\\n",
       "999             1                             0                             0   \n",
       "389             1                             0                             0   \n",
       "2330            1                             0                             0   \n",
       "1476            1                             0                             1   \n",
       "2240            0                             0                             0   \n",
       "\n",
       "      multiple_lines_Yes  multiple_lines_no_phone  monthly_charges  duration  \n",
       "999                    0                        0         0.183178 -1.245524  \n",
       "389                    0                        0        -0.687785 -1.286382  \n",
       "2330                   1                        0        -0.012209 -0.183209  \n",
       "1476                   0                        0        -1.474302 -1.245524  \n",
       "2240                   1                        0         0.820670  1.614553  \n",
       "\n",
       "[5 rows x 22 columns]"
      ]
     },
     "execution_count": 85,
     "metadata": {},
     "output_type": "execute_result"
    }
   ],
   "source": [
    "l_features_train.head(5)"
   ]
  },
  {
   "cell_type": "markdown",
   "metadata": {
    "id": "u3iMDsU--LhX"
   },
   "source": [
    "Значения больше и меньше единицы объясняются тем, что СКО=1, но значения могут выходить за единицу."
   ]
  },
  {
   "cell_type": "code",
   "execution_count": 86,
   "metadata": {
    "colab": {
     "base_uri": "https://localhost:8080/"
    },
    "id": "pf8fLbrM6X1v",
    "outputId": "58529c86-7a27-4305-b15a-7e8b0f53a854"
   },
   "outputs": [
    {
     "data": {
      "text/plain": [
       "count    4.225000e+03\n",
       "mean    -2.522637e-17\n",
       "std      1.000118e+00\n",
       "min     -1.327240e+00\n",
       "25%     -9.595160e-01\n",
       "50%     -1.423511e-01\n",
       "75%      9.608215e-01\n",
       "max      1.614553e+00\n",
       "Name: duration, dtype: float64"
      ]
     },
     "execution_count": 86,
     "metadata": {},
     "output_type": "execute_result"
    }
   ],
   "source": [
    "l_features_train['duration'].describe()"
   ]
  },
  {
   "cell_type": "markdown",
   "metadata": {
    "id": "0glmkWr8O0Y6"
   },
   "source": [
    "Создадим и обучим модель линейной регрессии.\n"
   ]
  },
  {
   "cell_type": "code",
   "execution_count": 87,
   "metadata": {
    "id": "lY7wPTG43tG1"
   },
   "outputs": [],
   "source": [
    "model_l = LogisticRegression()"
   ]
  },
  {
   "cell_type": "code",
   "execution_count": 88,
   "metadata": {
    "colab": {
     "base_uri": "https://localhost:8080/"
    },
    "id": "IzzZCxaD3tNU",
    "outputId": "2b94a4ac-4e25-49b9-93ec-2ea58c5176af"
   },
   "outputs": [
    {
     "data": {
      "text/plain": [
       "LogisticRegression()"
      ]
     },
     "execution_count": 88,
     "metadata": {},
     "output_type": "execute_result"
    }
   ],
   "source": [
    "model_l.fit(l_features_train, l_target_train)"
   ]
  },
  {
   "cell_type": "markdown",
   "metadata": {
    "id": "XxqhvILwO7Ym"
   },
   "source": [
    "На тестовой выборке сделаем предсказание и посчитаем rmse для данной модели."
   ]
  },
  {
   "cell_type": "code",
   "execution_count": 89,
   "metadata": {
    "id": "fX2QP6Tr3tSM"
   },
   "outputs": [],
   "source": [
    "l_pred_test = model_l.predict(l_features_test)"
   ]
  },
  {
   "cell_type": "code",
   "execution_count": 90,
   "metadata": {
    "colab": {
     "base_uri": "https://localhost:8080/"
    },
    "id": "5bNtYxweFwqt",
    "outputId": "40ab54ea-aaa0-4622-ed1d-44ff44da4bc0"
   },
   "outputs": [
    {
     "data": {
      "text/plain": [
       "0.7414904777485212"
      ]
     },
     "execution_count": 90,
     "metadata": {},
     "output_type": "execute_result"
    }
   ],
   "source": [
    "l_roc_auc = roc_auc_score(l_target_test, l_pred_test)\n",
    "l_roc_auc"
   ]
  },
  {
   "cell_type": "markdown",
   "metadata": {
    "id": "RAMPsne8qokK"
   },
   "source": [
    "###  LightGBM для регрессии"
   ]
  },
  {
   "cell_type": "markdown",
   "metadata": {
    "id": "pEje_-tfQmxP"
   },
   "source": [
    "Модель LightGBM может работать на закодированных данных для линейной регрессии, а может работать на незакодированных данных, но необходимо поменять тип столбца с с object на category. Обучим модель на данных для линейной регрессии.\n"
   ]
  },
  {
   "cell_type": "markdown",
   "metadata": {
    "id": "Cf-gcm5wbQtG"
   },
   "source": [
    "Создадим и обучим модель LightGBM. Чтобы подобрать оптимальные параметры для модели воспользуемся GridSearchCV."
   ]
  },
  {
   "cell_type": "code",
   "execution_count": 91,
   "metadata": {
    "colab": {
     "base_uri": "https://localhost:8080/"
    },
    "id": "kp5w18usyOxr",
    "outputId": "7a754f02-a224-4f96-caec-0472d79e10dc"
   },
   "outputs": [
    {
     "data": {
      "text/plain": [
       "\"\\nparam_grid = {'learning_rate': [0.1, 0.3, 0.5, 0.7],\\n              'max_depth': [15, 20, 30, 35],\\n              'num_leaves' :[20,40,60],\\n              'n_estimators':[40,50,60]             \\n             }\\n\\ngbm = lgb.LGBMRegressor(objective='regression')\\n\\n# инициализируем GridSearchCV\\ngrid_search = GridSearchCV(estimator = gbm, \\n                           param_grid = param_grid, \\n                           cv = 3,\\n                           n_jobs = -1, \\n                           verbose = 0, \\n                           scoring = 'neg_mean_squared_error',\\n                          )\\ngrid_search.fit(l_features_train, l_target_train)\\n\""
      ]
     },
     "execution_count": 91,
     "metadata": {},
     "output_type": "execute_result"
    }
   ],
   "source": [
    "# Тренажер очень долго подбирает параметры, поэтому закомментировала этот код\n",
    "'''\n",
    "param_grid = {'learning_rate': [0.1, 0.3, 0.5, 0.7],\n",
    "              'max_depth': [15, 20, 30, 35],\n",
    "              'num_leaves' :[20,40,60],\n",
    "              'n_estimators':[40,50,60]             \n",
    "             }\n",
    "\n",
    "gbm = lgb.LGBMRegressor(objective='regression')\n",
    "\n",
    "# инициализируем GridSearchCV\n",
    "grid_search = GridSearchCV(estimator = gbm, \n",
    "                           param_grid = param_grid, \n",
    "                           cv = 3,\n",
    "                           n_jobs = -1, \n",
    "                           verbose = 0, \n",
    "                           scoring = 'neg_mean_squared_error',\n",
    "                          )\n",
    "grid_search.fit(l_features_train, l_target_train)\n",
    "'''"
   ]
  },
  {
   "cell_type": "code",
   "execution_count": 115,
   "metadata": {
    "colab": {
     "base_uri": "https://localhost:8080/"
    },
    "id": "BWr8557KyOxr",
    "outputId": "34166514-8d7b-41b4-a0ee-b377ede0c150"
   },
   "outputs": [
    {
     "data": {
      "text/plain": [
       "\">>> OUT{'learning_rate': 0.1, 'max_depth': 15, 'n_estimators': 40, 'num_leaves': 20}\""
      ]
     },
     "execution_count": 115,
     "metadata": {},
     "output_type": "execute_result"
    }
   ],
   "source": [
    "#наилучшие параметры:\n",
    "'''grid_search.best_params_'''\n",
    "\n",
    "'''>>> OUT{'learning_rate': 0.1, 'max_depth': 15, 'n_estimators': 40, 'num_leaves': 20}'''"
   ]
  },
  {
   "cell_type": "code",
   "execution_count": 93,
   "metadata": {
    "id": "5Rx2EDKCPJkh"
   },
   "outputs": [],
   "source": [
    "gbm = lgb.LGBMRegressor(objective='regression',\n",
    "                        num_leaves=20,\n",
    "                        learning_rate=0.1, \n",
    "                        n_estimators=40, \n",
    "                        max_depth=15)"
   ]
  },
  {
   "cell_type": "code",
   "execution_count": 94,
   "metadata": {
    "colab": {
     "base_uri": "https://localhost:8080/"
    },
    "id": "4b4z76tyPJuw",
    "outputId": "87ff73d9-52f8-4c81-fc07-8a7863a3505a"
   },
   "outputs": [
    {
     "data": {
      "text/plain": [
       "LGBMRegressor(max_depth=15, n_estimators=40, num_leaves=20,\n",
       "              objective='regression')"
      ]
     },
     "execution_count": 94,
     "metadata": {},
     "output_type": "execute_result"
    }
   ],
   "source": [
    "gbm.fit(l_features_train, l_target_train)"
   ]
  },
  {
   "cell_type": "code",
   "execution_count": 95,
   "metadata": {
    "id": "LTwl6f2bNHW0"
   },
   "outputs": [],
   "source": [
    "pred_valid_gbm = gbm.predict(l_features_val) "
   ]
  },
  {
   "cell_type": "code",
   "execution_count": 96,
   "metadata": {
    "colab": {
     "base_uri": "https://localhost:8080/"
    },
    "id": "9biB6jb2NHcC",
    "outputId": "ce3382d7-fd82-4622-9605-58d8182f2c19"
   },
   "outputs": [
    {
     "data": {
      "text/plain": [
       "0.8541073288890941"
      ]
     },
     "execution_count": 96,
     "metadata": {},
     "output_type": "execute_result"
    }
   ],
   "source": [
    "roc_auc_score(l_target_val, pred_valid_gbm)"
   ]
  },
  {
   "cell_type": "code",
   "execution_count": 97,
   "metadata": {
    "id": "le_Y-Q0X-ZOl"
   },
   "outputs": [],
   "source": [
    "pred_test_gbm = gbm.predict(l_features_test) "
   ]
  },
  {
   "cell_type": "code",
   "execution_count": 98,
   "metadata": {
    "colab": {
     "base_uri": "https://localhost:8080/"
    },
    "id": "4tNHWIaF-ZOm",
    "outputId": "17687fe0-90e5-4f82-83e2-9b874a285ec9"
   },
   "outputs": [
    {
     "data": {
      "text/plain": [
       "0.8567416605643239"
      ]
     },
     "execution_count": 98,
     "metadata": {},
     "output_type": "execute_result"
    }
   ],
   "source": [
    "gbm_roc_auc = roc_auc_score(l_target_test, pred_test_gbm)\n",
    "gbm_roc_auc"
   ]
  },
  {
   "cell_type": "markdown",
   "metadata": {
    "id": "dSQbB924qjjf"
   },
   "source": [
    "### Градиентный бустинг catboost"
   ]
  },
  {
   "cell_type": "markdown",
   "metadata": {
    "id": "x_5rQbWXAh8Y"
   },
   "source": [
    "Все категориальные признаки для этой модели должны быть или целыми или объектами"
   ]
  },
  {
   "cell_type": "code",
   "execution_count": 99,
   "metadata": {
    "colab": {
     "base_uri": "https://localhost:8080/"
    },
    "id": "609BvHB-ATgZ",
    "outputId": "cae26b4e-59e5-4e4a-8bb8-44fe0dbdb1cc"
   },
   "outputs": [
    {
     "data": {
      "text/plain": [
       "customer_id            object\n",
       "end_date                int64\n",
       "type                   object\n",
       "paper_less_billing     object\n",
       "payment_method         object\n",
       "monthly_charges       float64\n",
       "duration                int64\n",
       "gender                 object\n",
       "senior_citizen          int64\n",
       "partner                 int64\n",
       "dependents              int64\n",
       "internet_service       object\n",
       "online_security       float64\n",
       "online_backup         float64\n",
       "device_protection     float64\n",
       "tech_support          float64\n",
       "streaming_tv          float64\n",
       "streaming_movies      float64\n",
       "multiple_lines         object\n",
       "dtype: object"
      ]
     },
     "execution_count": 99,
     "metadata": {},
     "output_type": "execute_result"
    }
   ],
   "source": [
    "result.dtypes"
   ]
  },
  {
   "cell_type": "code",
   "execution_count": 100,
   "metadata": {
    "id": "FdKkn1lXAq0B"
   },
   "outputs": [],
   "source": [
    "result['online_security'] = result['online_security'].astype(str)\n",
    "result['device_protection'] = result['device_protection'].astype(str)\n",
    "result['online_backup'] = result['online_backup'].astype(str)\n",
    "result['tech_support'] = result['tech_support'].astype(str)\n",
    "result['streaming_tv'] = result['streaming_tv'].astype(str)\n",
    "result['streaming_movies'] = result['streaming_movies'].astype(str)"
   ]
  },
  {
   "cell_type": "markdown",
   "metadata": {
    "id": "MPiePv4TrwwR"
   },
   "source": [
    "Разделим данные на тренировочную,валидационную и тестовую выборки. Оценим размер получившихся выборок."
   ]
  },
  {
   "cell_type": "code",
   "execution_count": 101,
   "metadata": {
    "id": "sfENV01NtVcR"
   },
   "outputs": [],
   "source": [
    "train, test = train_test_split(result,test_size=0.4,random_state=42)"
   ]
  },
  {
   "cell_type": "code",
   "execution_count": 102,
   "metadata": {
    "id": "pWj7jhaytm4R"
   },
   "outputs": [],
   "source": [
    "val, test = train_test_split(test,test_size=0.5,random_state=42)"
   ]
  },
  {
   "cell_type": "code",
   "execution_count": 103,
   "metadata": {
    "colab": {
     "base_uri": "https://localhost:8080/"
    },
    "id": "nFA6ROccbwS4",
    "outputId": "f0c95f0a-c44a-498f-d44b-4fa7e09403f5"
   },
   "outputs": [
    {
     "name": "stdout",
     "output_type": "stream",
     "text": [
      "(4225, 19)\n",
      "(1409, 19)\n",
      "(1409, 19)\n"
     ]
    }
   ],
   "source": [
    "print(train.shape)\n",
    "print(val.shape)\n",
    "print(test.shape)"
   ]
  },
  {
   "cell_type": "code",
   "execution_count": 104,
   "metadata": {
    "colab": {
     "base_uri": "https://localhost:8080/"
    },
    "id": "7ESISQv0t6Yp",
    "outputId": "47890919-1427-4f28-a83b-6d89d96b7ee6"
   },
   "outputs": [
    {
     "data": {
      "text/plain": [
       "Index(['customer_id', 'end_date', 'type', 'paper_less_billing',\n",
       "       'payment_method', 'monthly_charges', 'duration', 'gender',\n",
       "       'senior_citizen', 'partner', 'dependents', 'internet_service',\n",
       "       'online_security', 'online_backup', 'device_protection', 'tech_support',\n",
       "       'streaming_tv', 'streaming_movies', 'multiple_lines'],\n",
       "      dtype='object')"
      ]
     },
     "execution_count": 104,
     "metadata": {},
     "output_type": "execute_result"
    }
   ],
   "source": [
    "train.columns"
   ]
  },
  {
   "cell_type": "markdown",
   "metadata": {
    "id": "k1VHfIkNs7co"
   },
   "source": [
    "Выделим признаки для обучения и целевой признак. Также укажем все столбцы, в которых записаны категориальные значения."
   ]
  },
  {
   "cell_type": "code",
   "execution_count": 105,
   "metadata": {
    "id": "kieGCIR-uCuG"
   },
   "outputs": [],
   "source": [
    "\n",
    "\n",
    "X = [  'type', 'paper_less_billing',\n",
    "       'payment_method', 'monthly_charges', 'duration',\n",
    "       'gender', 'senior_citizen', 'partner', 'dependents', 'internet_service',\n",
    "       'online_security', 'online_backup', 'device_protection', 'tech_support',\n",
    "       'streaming_tv', 'streaming_movies', 'multiple_lines']\n",
    "\n",
    "y = ['end_date']\n",
    "\n",
    "\n",
    "cat_features = ['type', 'paper_less_billing',\n",
    "       'payment_method',\n",
    "       'gender', 'senior_citizen', 'partner', 'dependents', 'internet_service',\n",
    "       'online_security', 'online_backup', 'device_protection', 'tech_support',\n",
    "       'streaming_tv', 'streaming_movies', 'multiple_lines']\n",
    "\n",
    "#удалила наименее важные факторы, чтобы оценить метриику модели\n",
    "'''X = [  'type', 'paper_less_billing',\n",
    "       'payment_method', 'monthly_charges', 'duration',\n",
    "       'senior_citizen', 'internet_service',\n",
    "       'online_security', 'online_backup', 'tech_support',\n",
    "       'streaming_tv', 'streaming_movies', 'multiple_lines']'''\n",
    "\n",
    "'''cat_features = ['type', 'paper_less_billing',\n",
    "       'payment_method',\n",
    "       'senior_citizen', 'internet_service',\n",
    "       'online_security', 'online_backup', 'tech_support',\n",
    "       'streaming_tv', 'streaming_movies', 'multiple_lines']'''"
   ]
  },
  {
   "cell_type": "code",
   "execution_count": 106,
   "metadata": {
    "id": "rcTyZ5Mdu-8U"
   },
   "outputs": [],
   "source": [
    "params = {'cat_features':cat_features,\n",
    "          'learning_rate': 0.01,\n",
    "          'random_state':42,\n",
    "          'iterations':1000,\n",
    "          'verbose': 100}"
   ]
  },
  {
   "cell_type": "code",
   "execution_count": 107,
   "metadata": {
    "id": "9mpWELewu8Xl"
   },
   "outputs": [],
   "source": [
    "model = CatBoostRegressor(**params)"
   ]
  },
  {
   "cell_type": "code",
   "execution_count": 108,
   "metadata": {
    "colab": {
     "base_uri": "https://localhost:8080/"
    },
    "id": "IE5Ey9elvQDL",
    "outputId": "de3077f0-dda0-4247-b5f1-68a75e115111"
   },
   "outputs": [
    {
     "name": "stdout",
     "output_type": "stream",
     "text": [
      "0:\tlearn: 0.4402515\ttest: 0.4418433\tbest: 0.4418433 (0)\ttotal: 59.4ms\tremaining: 59.4s\n",
      "100:\tlearn: 0.3871503\ttest: 0.3824323\tbest: 0.3824323 (100)\ttotal: 477ms\tremaining: 4.25s\n",
      "200:\tlearn: 0.3732018\ttest: 0.3680166\tbest: 0.3680166 (200)\ttotal: 894ms\tremaining: 3.55s\n",
      "300:\tlearn: 0.3673554\ttest: 0.3633097\tbest: 0.3633079 (299)\ttotal: 1.32s\tremaining: 3.08s\n",
      "400:\tlearn: 0.3641821\ttest: 0.3615856\tbest: 0.3615856 (400)\ttotal: 1.77s\tremaining: 2.64s\n",
      "500:\tlearn: 0.3620536\ttest: 0.3607794\tbest: 0.3607794 (500)\ttotal: 2.17s\tremaining: 2.17s\n",
      "600:\tlearn: 0.3602950\ttest: 0.3603723\tbest: 0.3603641 (599)\ttotal: 2.61s\tremaining: 1.73s\n",
      "700:\tlearn: 0.3588058\ttest: 0.3601076\tbest: 0.3600967 (699)\ttotal: 3s\tremaining: 1.28s\n",
      "800:\tlearn: 0.3572003\ttest: 0.3599604\tbest: 0.3599604 (800)\ttotal: 3.4s\tremaining: 844ms\n",
      "900:\tlearn: 0.3557840\ttest: 0.3598555\tbest: 0.3598292 (872)\ttotal: 3.81s\tremaining: 419ms\n",
      "999:\tlearn: 0.3544446\ttest: 0.3598859\tbest: 0.3598292 (872)\ttotal: 4.3s\tremaining: 0us\n",
      "\n",
      "bestTest = 0.3598292294\n",
      "bestIteration = 872\n",
      "\n",
      "Shrink model to first 873 iterations.\n"
     ]
    },
    {
     "data": {
      "text/plain": [
       "<catboost.core.CatBoostRegressor at 0x7f2d81da8160>"
      ]
     },
     "execution_count": 108,
     "metadata": {},
     "output_type": "execute_result"
    }
   ],
   "source": [
    "model.fit(train[X],train[y],eval_set=(val[X],val[y]))"
   ]
  },
  {
   "cell_type": "code",
   "execution_count": 109,
   "metadata": {
    "id": "r1eeXf1GqoZB"
   },
   "outputs": [],
   "source": [
    "pred_valid = model.predict(val[X]) "
   ]
  },
  {
   "cell_type": "code",
   "execution_count": 110,
   "metadata": {
    "colab": {
     "base_uri": "https://localhost:8080/"
    },
    "id": "gnSzaDmbqodq",
    "outputId": "f981f010-c833-4958-d572-7cadf2dc09e9"
   },
   "outputs": [
    {
     "data": {
      "text/plain": [
       "0.8617115452711962"
      ]
     },
     "execution_count": 110,
     "metadata": {},
     "output_type": "execute_result"
    }
   ],
   "source": [
    "roc_auc_score(val[y], pred_valid)"
   ]
  },
  {
   "cell_type": "code",
   "execution_count": 111,
   "metadata": {
    "id": "nizWILCEVUEs"
   },
   "outputs": [],
   "source": [
    "pred_test = model.predict(test[X]) "
   ]
  },
  {
   "cell_type": "code",
   "execution_count": 112,
   "metadata": {
    "colab": {
     "base_uri": "https://localhost:8080/"
    },
    "id": "CKMhyqI9VUEt",
    "outputId": "5c8ead22-ab60-4992-f2d5-d838634e3a40"
   },
   "outputs": [
    {
     "data": {
      "text/plain": [
       "0.8681283725181641"
      ]
     },
     "execution_count": 112,
     "metadata": {},
     "output_type": "execute_result"
    }
   ],
   "source": [
    "catb_roc_auc = roc_auc_score(test[y], pred_test)\n",
    "catb_roc_auc"
   ]
  },
  {
   "cell_type": "markdown",
   "metadata": {
    "id": "CoIIK0ImNHhx"
   },
   "source": [
    "## Анализ моделей"
   ]
  },
  {
   "cell_type": "markdown",
   "metadata": {
    "id": "Bdk-0IL_HrF3"
   },
   "source": [
    "Выведем в таблицу данные: для каждой модели roc_auc модели для тестовой выборки:"
   ]
  },
  {
   "cell_type": "code",
   "execution_count": 113,
   "metadata": {
    "colab": {
     "base_uri": "https://localhost:8080/",
     "height": 81
    },
    "id": "NXJowNJo-7Rk",
    "outputId": "c59fb3eb-0ad9-44d1-893e-d09a445bca82",
    "scrolled": true
   },
   "outputs": [
    {
     "data": {
      "text/html": [
       "<div>\n",
       "<style scoped>\n",
       "    .dataframe tbody tr th:only-of-type {\n",
       "        vertical-align: middle;\n",
       "    }\n",
       "\n",
       "    .dataframe tbody tr th {\n",
       "        vertical-align: top;\n",
       "    }\n",
       "\n",
       "    .dataframe thead th {\n",
       "        text-align: right;\n",
       "    }\n",
       "</style>\n",
       "<table border=\"1\" class=\"dataframe\">\n",
       "  <thead>\n",
       "    <tr style=\"text-align: right;\">\n",
       "      <th></th>\n",
       "      <th>Model</th>\n",
       "      <th>log_reg</th>\n",
       "      <th>Catboost</th>\n",
       "      <th>Light_GBM</th>\n",
       "    </tr>\n",
       "  </thead>\n",
       "  <tbody>\n",
       "    <tr>\n",
       "      <th>0</th>\n",
       "      <td>roc_auc</td>\n",
       "      <td>0.74149</td>\n",
       "      <td>0.868128</td>\n",
       "      <td>0.856742</td>\n",
       "    </tr>\n",
       "  </tbody>\n",
       "</table>\n",
       "</div>"
      ],
      "text/plain": [
       "     Model  log_reg  Catboost  Light_GBM\n",
       "0  roc_auc  0.74149  0.868128   0.856742"
      ]
     },
     "execution_count": 113,
     "metadata": {},
     "output_type": "execute_result"
    }
   ],
   "source": [
    "pd.DataFrame({\n",
    "    'Model' : ['roc_auc'],\n",
    "    'log_reg' : [l_roc_auc],\n",
    "    'Catboost' : [catb_roc_auc],\n",
    "    'Light_GBM' : [gbm_roc_auc]\n",
    "})"
   ]
  },
  {
   "cell_type": "markdown",
   "metadata": {
    "id": "Fn47b7cCyOxz"
   },
   "source": [
    "Наивысшая метрика AUC-ROC оказалась у модели Catboost. Посмотрим на распределение важности факторов для наилучшей модели:"
   ]
  },
  {
   "cell_type": "code",
   "execution_count": 114,
   "metadata": {},
   "outputs": [
    {
     "data": {
      "image/png": "[encoded data removed]",
      "text/plain": [
       "<Figure size 576x720 with 1 Axes>"
      ]
     },
     "metadata": {
      "needs_background": "light"
     },
     "output_type": "display_data"
    }
   ],
   "source": [
    "def print_fi_plot(fi,indexes,mod_name):\n",
    "    coef = pd.Series(fi, index = indexes)\n",
    "    imp_coef = coef.sort_values()\n",
    "    plt.rcParams['figure.figsize'] = (8.0, 10.0)\n",
    "    imp_coef.plot(kind = \"barh\")\n",
    "    plt.title(\"Feature importance for \"+mod_name)\n",
    "    plt.show()\n",
    "\n",
    "print_fi_plot(model.feature_importances_, test[X].columns, 'CatBoostClassifier')"
   ]
  },
  {
   "cell_type": "markdown",
   "metadata": {},
   "source": [
    "Видно, что часть факторов - слабозначимые для модели: пол, наличие партнёра, наличие иждивенцев, наличие услуги антивируса,  наличие облачного хранилища для создания резервных копий - не являются значимыми для выбранной модели и слабо влияют вероятность ухода клиента.\n",
    "\n",
    "При удалении данных признаков из модели метрика вырастает до \n",
    "0.8686 с\n",
    "0.8681"
   ]
  },
  {
   "cell_type": "markdown",
   "metadata": {
    "id": "GWY7ROBG9MnT"
   },
   "source": [
    "\n",
    "## Вывод\n",
    "\n",
    "В ходе работы было выполнено:\n",
    "\n",
    "- Загружены данные и проведена их предобработка.\n",
    "- Обучено несколько моделей.\n",
    "- Выполнено сравнение моделей.\n",
    "- Выбрана лучшая модель по результатам метрики AUC-ROC.\n",
    "\n",
    "Считаем оптимальной модель Catboost c  метриой AUC-ROC > 0.869."
   ]
  },
  {
   "cell_type": "code",
   "execution_count": null,
   "metadata": {
    "id": "0frC8AhLRq71"
   },
   "outputs": [],
   "source": []
  }
 ],
 "metadata": {
  "ExecuteTimeLog": [
   {
    "duration": 1517,
    "start_time": "2022-07-02T14:29:32.289Z"
   },
   {
    "duration": 83,
    "start_time": "2022-07-02T14:29:33.808Z"
   },
   {
    "duration": 30,
    "start_time": "2022-07-02T14:29:33.893Z"
   },
   {
    "duration": 32,
    "start_time": "2022-07-02T14:29:33.925Z"
   },
   {
    "duration": 34,
    "start_time": "2022-07-02T14:29:33.959Z"
   },
   {
    "duration": 15,
    "start_time": "2022-07-02T14:29:33.995Z"
   },
   {
    "duration": 7,
    "start_time": "2022-07-02T14:29:34.011Z"
   },
   {
    "duration": 13,
    "start_time": "2022-07-02T14:29:34.020Z"
   },
   {
    "duration": 16,
    "start_time": "2022-07-02T14:29:34.034Z"
   },
   {
    "duration": 18,
    "start_time": "2022-07-02T14:29:34.053Z"
   },
   {
    "duration": 4,
    "start_time": "2022-07-02T14:29:34.073Z"
   },
   {
    "duration": 7,
    "start_time": "2022-07-02T14:29:34.078Z"
   },
   {
    "duration": 8,
    "start_time": "2022-07-02T14:29:34.086Z"
   },
   {
    "duration": 5,
    "start_time": "2022-07-02T14:29:34.096Z"
   },
   {
    "duration": 6,
    "start_time": "2022-07-02T14:29:34.103Z"
   },
   {
    "duration": 10,
    "start_time": "2022-07-02T14:29:34.110Z"
   },
   {
    "duration": 47,
    "start_time": "2022-07-02T14:29:34.121Z"
   },
   {
    "duration": 21,
    "start_time": "2022-07-02T14:29:34.170Z"
   },
   {
    "duration": 8,
    "start_time": "2022-07-02T14:29:34.193Z"
   },
   {
    "duration": 18,
    "start_time": "2022-07-02T14:29:34.203Z"
   },
   {
    "duration": 8,
    "start_time": "2022-07-02T14:29:34.223Z"
   },
   {
    "duration": 13,
    "start_time": "2022-07-02T14:29:34.233Z"
   },
   {
    "duration": 152,
    "start_time": "2022-07-02T14:29:34.248Z"
   },
   {
    "duration": 121,
    "start_time": "2022-07-02T14:29:34.402Z"
   },
   {
    "duration": 3,
    "start_time": "2022-07-02T14:29:34.524Z"
   },
   {
    "duration": 9,
    "start_time": "2022-07-02T14:29:34.529Z"
   },
   {
    "duration": 11,
    "start_time": "2022-07-02T14:29:34.539Z"
   },
   {
    "duration": 6,
    "start_time": "2022-07-02T14:29:34.569Z"
   },
   {
    "duration": 7,
    "start_time": "2022-07-02T14:29:34.577Z"
   },
   {
    "duration": 7,
    "start_time": "2022-07-02T14:29:34.586Z"
   },
   {
    "duration": 11,
    "start_time": "2022-07-02T14:29:34.595Z"
   },
   {
    "duration": 14,
    "start_time": "2022-07-02T14:29:34.608Z"
   },
   {
    "duration": 46,
    "start_time": "2022-07-02T14:29:34.623Z"
   },
   {
    "duration": 11,
    "start_time": "2022-07-02T14:29:34.670Z"
   },
   {
    "duration": 9,
    "start_time": "2022-07-02T14:29:34.683Z"
   },
   {
    "duration": 12,
    "start_time": "2022-07-02T14:29:34.693Z"
   },
   {
    "duration": 8,
    "start_time": "2022-07-02T14:29:34.707Z"
   },
   {
    "duration": 7,
    "start_time": "2022-07-02T14:29:34.716Z"
   },
   {
    "duration": 9,
    "start_time": "2022-07-02T14:29:34.725Z"
   },
   {
    "duration": 32,
    "start_time": "2022-07-02T14:29:34.736Z"
   },
   {
    "duration": 4,
    "start_time": "2022-07-02T14:29:34.770Z"
   },
   {
    "duration": 17,
    "start_time": "2022-07-02T14:29:34.776Z"
   },
   {
    "duration": 9,
    "start_time": "2022-07-02T14:29:34.795Z"
   },
   {
    "duration": 15,
    "start_time": "2022-07-02T14:29:34.806Z"
   },
   {
    "duration": 11,
    "start_time": "2022-07-02T14:29:34.822Z"
   },
   {
    "duration": 32,
    "start_time": "2022-07-02T14:29:34.835Z"
   },
   {
    "duration": 8,
    "start_time": "2022-07-02T14:29:34.869Z"
   },
   {
    "duration": 7,
    "start_time": "2022-07-02T14:29:34.879Z"
   },
   {
    "duration": 30,
    "start_time": "2022-07-02T14:29:34.888Z"
   },
   {
    "duration": 50,
    "start_time": "2022-07-02T14:29:34.919Z"
   },
   {
    "duration": 9,
    "start_time": "2022-07-02T14:29:34.970Z"
   },
   {
    "duration": 4,
    "start_time": "2022-07-02T14:29:34.981Z"
   },
   {
    "duration": 4,
    "start_time": "2022-07-02T14:29:34.987Z"
   },
   {
    "duration": 13,
    "start_time": "2022-07-02T14:29:34.993Z"
   },
   {
    "duration": 25,
    "start_time": "2022-07-02T14:29:35.007Z"
   },
   {
    "duration": 223,
    "start_time": "2022-07-02T14:29:35.068Z"
   },
   {
    "duration": 13,
    "start_time": "2022-07-02T14:29:35.292Z"
   },
   {
    "duration": 991,
    "start_time": "2022-07-02T14:29:35.306Z"
   },
   {
    "duration": 1107,
    "start_time": "2022-07-02T14:29:36.299Z"
   },
   {
    "duration": 9,
    "start_time": "2022-07-02T14:29:37.408Z"
   },
   {
    "duration": 23,
    "start_time": "2022-07-02T14:29:37.419Z"
   },
   {
    "duration": 16,
    "start_time": "2022-07-02T14:29:37.444Z"
   },
   {
    "duration": 51,
    "start_time": "2022-07-02T14:29:37.462Z"
   },
   {
    "duration": 16,
    "start_time": "2022-07-02T14:29:37.514Z"
   },
   {
    "duration": 25,
    "start_time": "2022-07-02T14:29:37.532Z"
   },
   {
    "duration": 19,
    "start_time": "2022-07-02T14:29:37.559Z"
   },
   {
    "duration": 17,
    "start_time": "2022-07-02T14:29:37.580Z"
   },
   {
    "duration": 18,
    "start_time": "2022-07-02T14:29:37.599Z"
   },
   {
    "duration": 21,
    "start_time": "2022-07-02T14:29:37.619Z"
   },
   {
    "duration": 27,
    "start_time": "2022-07-02T14:29:37.642Z"
   },
   {
    "duration": 23,
    "start_time": "2022-07-02T14:29:37.671Z"
   },
   {
    "duration": 10,
    "start_time": "2022-07-02T14:29:37.695Z"
   },
   {
    "duration": 19,
    "start_time": "2022-07-02T14:29:37.707Z"
   },
   {
    "duration": 35,
    "start_time": "2022-07-02T14:29:37.728Z"
   },
   {
    "duration": 12,
    "start_time": "2022-07-02T14:29:37.765Z"
   },
   {
    "duration": 24,
    "start_time": "2022-07-02T14:29:37.779Z"
   },
   {
    "duration": 29,
    "start_time": "2022-07-02T14:29:37.805Z"
   },
   {
    "duration": 31,
    "start_time": "2022-07-02T14:29:37.836Z"
   },
   {
    "duration": 18,
    "start_time": "2022-07-02T14:29:37.869Z"
   },
   {
    "duration": 124,
    "start_time": "2022-07-02T14:29:37.889Z"
   },
   {
    "duration": 0,
    "start_time": "2022-07-02T14:29:38.016Z"
   },
   {
    "duration": 0,
    "start_time": "2022-07-02T14:29:38.017Z"
   },
   {
    "duration": 0,
    "start_time": "2022-07-02T14:29:38.018Z"
   },
   {
    "duration": 0,
    "start_time": "2022-07-02T14:29:38.019Z"
   },
   {
    "duration": 0,
    "start_time": "2022-07-02T14:29:38.020Z"
   },
   {
    "duration": 0,
    "start_time": "2022-07-02T14:29:38.021Z"
   },
   {
    "duration": 0,
    "start_time": "2022-07-02T14:29:38.023Z"
   },
   {
    "duration": 0,
    "start_time": "2022-07-02T14:29:38.024Z"
   },
   {
    "duration": 0,
    "start_time": "2022-07-02T14:29:38.024Z"
   },
   {
    "duration": 0,
    "start_time": "2022-07-02T14:29:38.026Z"
   },
   {
    "duration": 0,
    "start_time": "2022-07-02T14:29:38.027Z"
   },
   {
    "duration": 0,
    "start_time": "2022-07-02T14:29:38.028Z"
   },
   {
    "duration": 0,
    "start_time": "2022-07-02T14:29:38.029Z"
   },
   {
    "duration": 0,
    "start_time": "2022-07-02T14:29:38.030Z"
   },
   {
    "duration": 0,
    "start_time": "2022-07-02T14:29:38.031Z"
   },
   {
    "duration": 0,
    "start_time": "2022-07-02T14:29:38.032Z"
   },
   {
    "duration": 0,
    "start_time": "2022-07-02T14:29:38.033Z"
   },
   {
    "duration": 0,
    "start_time": "2022-07-02T14:29:38.034Z"
   },
   {
    "duration": 0,
    "start_time": "2022-07-02T14:29:38.035Z"
   },
   {
    "duration": 0,
    "start_time": "2022-07-02T14:29:38.036Z"
   },
   {
    "duration": 0,
    "start_time": "2022-07-02T14:29:38.037Z"
   },
   {
    "duration": 0,
    "start_time": "2022-07-02T14:29:38.038Z"
   },
   {
    "duration": 0,
    "start_time": "2022-07-02T14:29:38.068Z"
   },
   {
    "duration": 0,
    "start_time": "2022-07-02T14:29:38.069Z"
   },
   {
    "duration": 0,
    "start_time": "2022-07-02T14:29:38.070Z"
   },
   {
    "duration": 0,
    "start_time": "2022-07-02T14:29:38.071Z"
   },
   {
    "duration": 3,
    "start_time": "2022-07-02T14:32:07.567Z"
   },
   {
    "duration": 606,
    "start_time": "2022-07-02T14:32:09.770Z"
   },
   {
    "duration": 8,
    "start_time": "2022-07-02T14:32:11.877Z"
   },
   {
    "duration": 6,
    "start_time": "2022-07-02T14:32:12.989Z"
   },
   {
    "duration": 4,
    "start_time": "2022-07-02T17:44:07.681Z"
   },
   {
    "duration": 35,
    "start_time": "2022-07-02T17:44:07.774Z"
   },
   {
    "duration": 13,
    "start_time": "2022-07-02T17:44:07.818Z"
   },
   {
    "duration": 16,
    "start_time": "2022-07-02T17:44:07.870Z"
   },
   {
    "duration": 18,
    "start_time": "2022-07-02T17:44:07.895Z"
   },
   {
    "duration": 11,
    "start_time": "2022-07-02T17:44:07.921Z"
   },
   {
    "duration": 6,
    "start_time": "2022-07-02T17:44:07.989Z"
   },
   {
    "duration": 7,
    "start_time": "2022-07-02T17:44:08.008Z"
   },
   {
    "duration": 12,
    "start_time": "2022-07-02T17:44:08.026Z"
   },
   {
    "duration": 16,
    "start_time": "2022-07-02T17:44:08.071Z"
   },
   {
    "duration": 6,
    "start_time": "2022-07-02T17:44:08.095Z"
   },
   {
    "duration": 7,
    "start_time": "2022-07-02T17:44:08.108Z"
   },
   {
    "duration": 9,
    "start_time": "2022-07-02T17:44:08.123Z"
   },
   {
    "duration": 33,
    "start_time": "2022-07-02T17:44:08.138Z"
   },
   {
    "duration": 6,
    "start_time": "2022-07-02T17:44:14.405Z"
   },
   {
    "duration": 6,
    "start_time": "2022-07-02T17:44:14.433Z"
   },
   {
    "duration": 4,
    "start_time": "2022-07-02T17:44:14.451Z"
   },
   {
    "duration": 2,
    "start_time": "2022-07-02T17:44:14.482Z"
   },
   {
    "duration": 5,
    "start_time": "2022-07-02T17:44:14.499Z"
   },
   {
    "duration": 16,
    "start_time": "2022-07-02T17:44:14.519Z"
   },
   {
    "duration": 31,
    "start_time": "2022-07-02T17:44:14.536Z"
   },
   {
    "duration": 6,
    "start_time": "2022-07-02T17:44:14.569Z"
   },
   {
    "duration": 161,
    "start_time": "2022-07-02T17:44:14.577Z"
   },
   {
    "duration": 120,
    "start_time": "2022-07-02T17:44:14.739Z"
   },
   {
    "duration": 8,
    "start_time": "2022-07-02T17:44:14.861Z"
   },
   {
    "duration": 12,
    "start_time": "2022-07-02T17:44:14.871Z"
   },
   {
    "duration": 6,
    "start_time": "2022-07-02T17:44:14.884Z"
   },
   {
    "duration": 7,
    "start_time": "2022-07-02T17:44:14.892Z"
   },
   {
    "duration": 7,
    "start_time": "2022-07-02T17:44:14.900Z"
   },
   {
    "duration": 11,
    "start_time": "2022-07-02T17:44:14.908Z"
   },
   {
    "duration": 11,
    "start_time": "2022-07-02T17:44:14.920Z"
   },
   {
    "duration": 8,
    "start_time": "2022-07-02T17:44:14.968Z"
   },
   {
    "duration": 4,
    "start_time": "2022-07-02T17:44:14.978Z"
   },
   {
    "duration": 8,
    "start_time": "2022-07-02T17:44:14.983Z"
   },
   {
    "duration": 6,
    "start_time": "2022-07-02T17:44:14.992Z"
   },
   {
    "duration": 22,
    "start_time": "2022-07-02T17:44:15.000Z"
   },
   {
    "duration": 28,
    "start_time": "2022-07-02T17:44:15.023Z"
   },
   {
    "duration": 12,
    "start_time": "2022-07-02T17:44:15.053Z"
   },
   {
    "duration": 14,
    "start_time": "2022-07-02T17:44:15.068Z"
   },
   {
    "duration": 8,
    "start_time": "2022-07-02T17:44:15.083Z"
   },
   {
    "duration": 26,
    "start_time": "2022-07-02T17:44:15.092Z"
   },
   {
    "duration": 9,
    "start_time": "2022-07-02T17:44:15.120Z"
   },
   {
    "duration": 10,
    "start_time": "2022-07-02T17:44:15.131Z"
   },
   {
    "duration": 10,
    "start_time": "2022-07-02T17:44:15.143Z"
   },
   {
    "duration": 14,
    "start_time": "2022-07-02T17:44:15.155Z"
   },
   {
    "duration": 9,
    "start_time": "2022-07-02T17:44:15.171Z"
   },
   {
    "duration": 12,
    "start_time": "2022-07-02T17:44:15.182Z"
   },
   {
    "duration": 41,
    "start_time": "2022-07-02T17:44:15.195Z"
   },
   {
    "duration": 37,
    "start_time": "2022-07-02T17:44:15.238Z"
   },
   {
    "duration": 9,
    "start_time": "2022-07-02T17:44:15.276Z"
   },
   {
    "duration": 5,
    "start_time": "2022-07-02T17:44:15.287Z"
   },
   {
    "duration": 5,
    "start_time": "2022-07-02T17:44:15.293Z"
   },
   {
    "duration": 12,
    "start_time": "2022-07-02T17:44:15.299Z"
   },
   {
    "duration": 25,
    "start_time": "2022-07-02T17:44:15.313Z"
   },
   {
    "duration": 217,
    "start_time": "2022-07-02T17:44:15.371Z"
   },
   {
    "duration": 15,
    "start_time": "2022-07-02T17:44:15.590Z"
   },
   {
    "duration": 964,
    "start_time": "2022-07-02T17:44:15.607Z"
   },
   {
    "duration": 983,
    "start_time": "2022-07-02T17:44:16.572Z"
   },
   {
    "duration": 7,
    "start_time": "2022-07-02T17:44:17.572Z"
   },
   {
    "duration": 16,
    "start_time": "2022-07-02T17:44:17.580Z"
   },
   {
    "duration": 2,
    "start_time": "2022-07-02T17:44:17.598Z"
   },
   {
    "duration": 21,
    "start_time": "2022-07-02T17:44:17.601Z"
   },
   {
    "duration": 6,
    "start_time": "2022-07-02T17:44:17.624Z"
   },
   {
    "duration": 6,
    "start_time": "2022-07-02T17:44:17.631Z"
   },
   {
    "duration": 6,
    "start_time": "2022-07-02T17:44:17.639Z"
   },
   {
    "duration": 24,
    "start_time": "2022-07-02T17:44:17.646Z"
   },
   {
    "duration": 4,
    "start_time": "2022-07-02T17:44:17.672Z"
   },
   {
    "duration": 4,
    "start_time": "2022-07-02T17:44:17.678Z"
   },
   {
    "duration": 18,
    "start_time": "2022-07-02T17:44:17.683Z"
   },
   {
    "duration": 6,
    "start_time": "2022-07-02T17:44:17.703Z"
   },
   {
    "duration": 4,
    "start_time": "2022-07-02T17:44:17.711Z"
   },
   {
    "duration": 5,
    "start_time": "2022-07-02T17:44:17.717Z"
   },
   {
    "duration": 46,
    "start_time": "2022-07-02T17:44:17.724Z"
   },
   {
    "duration": 4,
    "start_time": "2022-07-02T17:44:17.772Z"
   },
   {
    "duration": 9,
    "start_time": "2022-07-02T17:44:17.777Z"
   },
   {
    "duration": 14,
    "start_time": "2022-07-02T17:44:17.787Z"
   },
   {
    "duration": 17,
    "start_time": "2022-07-02T17:44:17.802Z"
   },
   {
    "duration": 9,
    "start_time": "2022-07-02T17:44:17.821Z"
   },
   {
    "duration": 2,
    "start_time": "2022-07-02T17:44:17.832Z"
   },
   {
    "duration": 437,
    "start_time": "2022-07-02T17:44:17.836Z"
   },
   {
    "duration": 94,
    "start_time": "2022-07-02T17:44:18.275Z"
   },
   {
    "duration": 104,
    "start_time": "2022-07-02T17:44:18.371Z"
   },
   {
    "duration": 260502,
    "start_time": "2022-07-02T17:44:18.476Z"
   },
   {
    "duration": 89,
    "start_time": "2022-07-02T17:48:38.980Z"
   },
   {
    "duration": 6,
    "start_time": "2022-07-02T17:48:39.071Z"
   },
   {
    "duration": 398,
    "start_time": "2022-07-02T17:48:39.079Z"
   },
   {
    "duration": 89,
    "start_time": "2022-07-02T17:48:39.478Z"
   },
   {
    "duration": 11,
    "start_time": "2022-07-02T17:48:39.569Z"
   },
   {
    "duration": 8,
    "start_time": "2022-07-02T17:48:39.582Z"
   },
   {
    "duration": 8,
    "start_time": "2022-07-02T17:48:39.592Z"
   },
   {
    "duration": 5,
    "start_time": "2022-07-02T17:48:39.602Z"
   },
   {
    "duration": 75,
    "start_time": "2022-07-02T17:48:39.609Z"
   },
   {
    "duration": 10,
    "start_time": "2022-07-02T17:48:39.685Z"
   },
   {
    "duration": 6,
    "start_time": "2022-07-02T17:48:39.697Z"
   },
   {
    "duration": 14,
    "start_time": "2022-07-02T17:48:39.704Z"
   },
   {
    "duration": 8,
    "start_time": "2022-07-02T17:48:39.720Z"
   },
   {
    "duration": 4,
    "start_time": "2022-07-02T17:48:39.729Z"
   },
   {
    "duration": 6,
    "start_time": "2022-07-02T17:48:39.734Z"
   },
   {
    "duration": 6,
    "start_time": "2022-07-02T17:48:39.741Z"
   },
   {
    "duration": 5883,
    "start_time": "2022-07-02T17:48:39.768Z"
   },
   {
    "duration": 15,
    "start_time": "2022-07-02T17:48:45.653Z"
   },
   {
    "duration": 8,
    "start_time": "2022-07-02T17:48:45.670Z"
   },
   {
    "duration": 15,
    "start_time": "2022-07-02T17:48:45.679Z"
   },
   {
    "duration": 7,
    "start_time": "2022-07-02T17:48:45.696Z"
   },
   {
    "duration": 8,
    "start_time": "2022-07-02T17:48:45.705Z"
   },
   {
    "duration": 1922,
    "start_time": "2022-07-03T08:59:30.389Z"
   },
   {
    "duration": 91,
    "start_time": "2022-07-03T08:59:32.313Z"
   },
   {
    "duration": 31,
    "start_time": "2022-07-03T08:59:32.406Z"
   },
   {
    "duration": 40,
    "start_time": "2022-07-03T08:59:32.439Z"
   },
   {
    "duration": 40,
    "start_time": "2022-07-03T08:59:32.481Z"
   },
   {
    "duration": 18,
    "start_time": "2022-07-03T08:59:32.524Z"
   },
   {
    "duration": 9,
    "start_time": "2022-07-03T08:59:32.544Z"
   },
   {
    "duration": 15,
    "start_time": "2022-07-03T08:59:32.554Z"
   },
   {
    "duration": 14,
    "start_time": "2022-07-03T08:59:32.571Z"
   },
   {
    "duration": 18,
    "start_time": "2022-07-03T08:59:32.586Z"
   },
   {
    "duration": 4,
    "start_time": "2022-07-03T08:59:32.606Z"
   },
   {
    "duration": 9,
    "start_time": "2022-07-03T08:59:32.612Z"
   },
   {
    "duration": 11,
    "start_time": "2022-07-03T08:59:32.622Z"
   },
   {
    "duration": 35,
    "start_time": "2022-07-03T08:59:32.637Z"
   },
   {
    "duration": 10,
    "start_time": "2022-07-03T08:59:32.674Z"
   },
   {
    "duration": 11,
    "start_time": "2022-07-03T08:59:32.685Z"
   },
   {
    "duration": 6,
    "start_time": "2022-07-03T08:59:32.698Z"
   },
   {
    "duration": 9,
    "start_time": "2022-07-03T08:59:32.706Z"
   },
   {
    "duration": 8,
    "start_time": "2022-07-03T08:59:32.717Z"
   },
   {
    "duration": 53,
    "start_time": "2022-07-03T08:59:32.727Z"
   },
   {
    "duration": 10,
    "start_time": "2022-07-03T08:59:32.781Z"
   },
   {
    "duration": 6,
    "start_time": "2022-07-03T08:59:32.793Z"
   },
   {
    "duration": 197,
    "start_time": "2022-07-03T08:59:32.801Z"
   },
   {
    "duration": 146,
    "start_time": "2022-07-03T08:59:33.000Z"
   },
   {
    "duration": 5,
    "start_time": "2022-07-03T08:59:33.148Z"
   },
   {
    "duration": 14,
    "start_time": "2022-07-03T08:59:33.168Z"
   },
   {
    "duration": 13,
    "start_time": "2022-07-03T08:59:33.184Z"
   },
   {
    "duration": 8,
    "start_time": "2022-07-03T08:59:33.199Z"
   },
   {
    "duration": 10,
    "start_time": "2022-07-03T08:59:33.209Z"
   },
   {
    "duration": 16,
    "start_time": "2022-07-03T08:59:33.221Z"
   },
   {
    "duration": 40,
    "start_time": "2022-07-03T08:59:33.239Z"
   },
   {
    "duration": 10,
    "start_time": "2022-07-03T08:59:33.280Z"
   },
   {
    "duration": 7,
    "start_time": "2022-07-03T08:59:33.293Z"
   },
   {
    "duration": 13,
    "start_time": "2022-07-03T08:59:33.302Z"
   },
   {
    "duration": 11,
    "start_time": "2022-07-03T08:59:33.318Z"
   },
   {
    "duration": 38,
    "start_time": "2022-07-03T08:59:33.332Z"
   },
   {
    "duration": 10,
    "start_time": "2022-07-03T08:59:33.372Z"
   },
   {
    "duration": 9,
    "start_time": "2022-07-03T08:59:33.385Z"
   },
   {
    "duration": 16,
    "start_time": "2022-07-03T08:59:33.396Z"
   },
   {
    "duration": 4,
    "start_time": "2022-07-03T08:59:33.414Z"
   },
   {
    "duration": 49,
    "start_time": "2022-07-03T08:59:33.424Z"
   },
   {
    "duration": 12,
    "start_time": "2022-07-03T08:59:33.475Z"
   },
   {
    "duration": 7,
    "start_time": "2022-07-03T08:59:33.489Z"
   },
   {
    "duration": 10,
    "start_time": "2022-07-03T08:59:33.498Z"
   },
   {
    "duration": 10,
    "start_time": "2022-07-03T08:59:33.510Z"
   },
   {
    "duration": 8,
    "start_time": "2022-07-03T08:59:33.522Z"
   },
   {
    "duration": 43,
    "start_time": "2022-07-03T08:59:33.532Z"
   },
   {
    "duration": 37,
    "start_time": "2022-07-03T08:59:33.577Z"
   },
   {
    "duration": 53,
    "start_time": "2022-07-03T08:59:33.616Z"
   },
   {
    "duration": 11,
    "start_time": "2022-07-03T08:59:33.671Z"
   },
   {
    "duration": 6,
    "start_time": "2022-07-03T08:59:33.684Z"
   },
   {
    "duration": 6,
    "start_time": "2022-07-03T08:59:33.692Z"
   },
   {
    "duration": 12,
    "start_time": "2022-07-03T08:59:33.699Z"
   },
   {
    "duration": 65,
    "start_time": "2022-07-03T08:59:33.712Z"
   },
   {
    "duration": 285,
    "start_time": "2022-07-03T08:59:33.780Z"
   },
   {
    "duration": 18,
    "start_time": "2022-07-03T08:59:34.067Z"
   },
   {
    "duration": 1179,
    "start_time": "2022-07-03T08:59:34.087Z"
   },
   {
    "duration": 1304,
    "start_time": "2022-07-03T08:59:35.267Z"
   },
   {
    "duration": 7,
    "start_time": "2022-07-03T08:59:36.573Z"
   },
   {
    "duration": 19,
    "start_time": "2022-07-03T08:59:36.582Z"
   },
   {
    "duration": 3,
    "start_time": "2022-07-03T08:59:36.603Z"
   },
   {
    "duration": 26,
    "start_time": "2022-07-03T08:59:36.608Z"
   },
   {
    "duration": 33,
    "start_time": "2022-07-03T08:59:36.636Z"
   },
   {
    "duration": 5,
    "start_time": "2022-07-03T08:59:36.670Z"
   },
   {
    "duration": 10,
    "start_time": "2022-07-03T08:59:36.677Z"
   },
   {
    "duration": 14,
    "start_time": "2022-07-03T08:59:36.689Z"
   },
   {
    "duration": 12,
    "start_time": "2022-07-03T08:59:36.705Z"
   },
   {
    "duration": 7,
    "start_time": "2022-07-03T08:59:36.720Z"
   },
   {
    "duration": 38,
    "start_time": "2022-07-03T08:59:36.729Z"
   },
   {
    "duration": 8,
    "start_time": "2022-07-03T08:59:36.769Z"
   },
   {
    "duration": 5,
    "start_time": "2022-07-03T08:59:36.779Z"
   },
   {
    "duration": 6,
    "start_time": "2022-07-03T08:59:36.786Z"
   },
   {
    "duration": 18,
    "start_time": "2022-07-03T08:59:36.794Z"
   },
   {
    "duration": 5,
    "start_time": "2022-07-03T08:59:36.814Z"
   },
   {
    "duration": 9,
    "start_time": "2022-07-03T08:59:36.821Z"
   },
   {
    "duration": 20,
    "start_time": "2022-07-03T08:59:36.868Z"
   },
   {
    "duration": 23,
    "start_time": "2022-07-03T08:59:36.890Z"
   },
   {
    "duration": 13,
    "start_time": "2022-07-03T08:59:36.915Z"
   },
   {
    "duration": 4,
    "start_time": "2022-07-03T08:59:36.930Z"
   },
   {
    "duration": 1040,
    "start_time": "2022-07-03T08:59:36.935Z"
   },
   {
    "duration": 93,
    "start_time": "2022-07-03T08:59:37.977Z"
   },
   {
    "duration": 99,
    "start_time": "2022-07-03T08:59:38.073Z"
   },
   {
    "duration": 320010,
    "start_time": "2022-07-03T08:59:38.266Z"
   },
   {
    "duration": 4,
    "start_time": "2022-07-03T09:04:58.278Z"
   },
   {
    "duration": 5,
    "start_time": "2022-07-03T09:04:58.284Z"
   },
   {
    "duration": 488,
    "start_time": "2022-07-03T09:04:58.290Z"
   },
   {
    "duration": 14,
    "start_time": "2022-07-03T09:04:58.868Z"
   },
   {
    "duration": 28,
    "start_time": "2022-07-03T09:04:58.885Z"
   },
   {
    "duration": 56,
    "start_time": "2022-07-03T09:04:58.915Z"
   },
   {
    "duration": 15,
    "start_time": "2022-07-03T09:04:58.973Z"
   },
   {
    "duration": 8,
    "start_time": "2022-07-03T09:04:58.990Z"
   },
   {
    "duration": 82,
    "start_time": "2022-07-03T09:04:59.000Z"
   },
   {
    "duration": 10,
    "start_time": "2022-07-03T09:04:59.083Z"
   },
   {
    "duration": 5,
    "start_time": "2022-07-03T09:04:59.095Z"
   },
   {
    "duration": 4,
    "start_time": "2022-07-03T09:04:59.102Z"
   },
   {
    "duration": 7,
    "start_time": "2022-07-03T09:04:59.107Z"
   },
   {
    "duration": 5,
    "start_time": "2022-07-03T09:04:59.115Z"
   },
   {
    "duration": 7,
    "start_time": "2022-07-03T09:04:59.121Z"
   },
   {
    "duration": 37,
    "start_time": "2022-07-03T09:04:59.130Z"
   },
   {
    "duration": 6967,
    "start_time": "2022-07-03T09:04:59.169Z"
   },
   {
    "duration": 17,
    "start_time": "2022-07-03T09:05:06.138Z"
   },
   {
    "duration": 9,
    "start_time": "2022-07-03T09:05:06.157Z"
   },
   {
    "duration": 18,
    "start_time": "2022-07-03T09:05:06.168Z"
   },
   {
    "duration": 9,
    "start_time": "2022-07-03T09:05:06.187Z"
   },
   {
    "duration": 12,
    "start_time": "2022-07-03T09:05:06.198Z"
   },
   {
    "duration": 4034,
    "start_time": "2022-07-04T09:05:57.281Z"
   },
   {
    "duration": 54,
    "start_time": "2022-07-04T09:06:01.317Z"
   },
   {
    "duration": 20,
    "start_time": "2022-07-04T09:06:01.373Z"
   },
   {
    "duration": 49,
    "start_time": "2022-07-04T09:06:01.395Z"
   },
   {
    "duration": 56,
    "start_time": "2022-07-04T09:06:01.446Z"
   },
   {
    "duration": 19,
    "start_time": "2022-07-04T09:06:31.939Z"
   },
   {
    "duration": 7,
    "start_time": "2022-07-04T09:06:32.593Z"
   },
   {
    "duration": 8,
    "start_time": "2022-07-04T09:06:32.973Z"
   },
   {
    "duration": 14,
    "start_time": "2022-07-04T09:06:33.144Z"
   },
   {
    "duration": 16,
    "start_time": "2022-07-04T09:07:27.661Z"
   },
   {
    "duration": 5,
    "start_time": "2022-07-04T09:07:29.602Z"
   },
   {
    "duration": 5,
    "start_time": "2022-07-04T09:07:30.042Z"
   },
   {
    "duration": 8,
    "start_time": "2022-07-04T09:07:30.699Z"
   },
   {
    "duration": 7,
    "start_time": "2022-07-04T09:07:30.904Z"
   },
   {
    "duration": 6,
    "start_time": "2022-07-04T09:07:31.323Z"
   },
   {
    "duration": 6,
    "start_time": "2022-07-04T09:07:32.605Z"
   },
   {
    "duration": 7,
    "start_time": "2022-07-04T09:07:32.805Z"
   },
   {
    "duration": 3,
    "start_time": "2022-07-04T09:07:39.762Z"
   },
   {
    "duration": 7,
    "start_time": "2022-07-04T09:07:39.893Z"
   },
   {
    "duration": 21,
    "start_time": "2022-07-04T09:07:40.070Z"
   },
   {
    "duration": 14,
    "start_time": "2022-07-04T09:07:40.428Z"
   },
   {
    "duration": 5,
    "start_time": "2022-07-04T09:07:40.908Z"
   },
   {
    "duration": 363,
    "start_time": "2022-07-04T09:07:41.523Z"
   },
   {
    "duration": 319,
    "start_time": "2022-07-04T09:07:41.941Z"
   },
   {
    "duration": 8,
    "start_time": "2022-07-04T09:07:42.338Z"
   },
   {
    "duration": 21,
    "start_time": "2022-07-04T09:07:43.030Z"
   },
   {
    "duration": 7,
    "start_time": "2022-07-04T09:07:43.494Z"
   },
   {
    "duration": 7,
    "start_time": "2022-07-04T09:07:43.754Z"
   },
   {
    "duration": 8,
    "start_time": "2022-07-04T09:07:44.152Z"
   },
   {
    "duration": 11,
    "start_time": "2022-07-04T09:07:44.397Z"
   },
   {
    "duration": 15,
    "start_time": "2022-07-04T09:07:44.530Z"
   },
   {
    "duration": 8,
    "start_time": "2022-07-04T09:07:45.330Z"
   },
   {
    "duration": 5,
    "start_time": "2022-07-04T09:07:45.894Z"
   },
   {
    "duration": 6,
    "start_time": "2022-07-04T09:07:46.097Z"
   },
   {
    "duration": 7,
    "start_time": "2022-07-04T09:07:46.508Z"
   },
   {
    "duration": 6,
    "start_time": "2022-07-04T09:07:46.689Z"
   },
   {
    "duration": 9,
    "start_time": "2022-07-04T09:07:47.039Z"
   },
   {
    "duration": 7,
    "start_time": "2022-07-04T09:07:47.219Z"
   },
   {
    "duration": 10,
    "start_time": "2022-07-04T09:07:47.825Z"
   },
   {
    "duration": 4,
    "start_time": "2022-07-04T09:07:48.536Z"
   },
   {
    "duration": 20,
    "start_time": "2022-07-04T09:07:48.697Z"
   },
   {
    "duration": 32,
    "start_time": "2022-07-04T09:07:48.719Z"
   },
   {
    "duration": 8,
    "start_time": "2022-07-04T09:07:48.753Z"
   },
   {
    "duration": 8,
    "start_time": "2022-07-04T09:07:49.762Z"
   },
   {
    "duration": 12,
    "start_time": "2022-07-04T09:07:49.773Z"
   },
   {
    "duration": 8,
    "start_time": "2022-07-04T09:07:49.896Z"
   },
   {
    "duration": 7,
    "start_time": "2022-07-04T09:07:50.232Z"
   },
   {
    "duration": 28,
    "start_time": "2022-07-04T09:09:51.729Z"
   },
   {
    "duration": 21,
    "start_time": "2022-07-04T09:09:52.588Z"
   },
   {
    "duration": 13,
    "start_time": "2022-07-04T09:09:53.644Z"
   },
   {
    "duration": 4,
    "start_time": "2022-07-04T09:09:58.313Z"
   },
   {
    "duration": 4,
    "start_time": "2022-07-04T09:09:58.498Z"
   },
   {
    "duration": 22,
    "start_time": "2022-07-04T09:10:21.147Z"
   },
   {
    "duration": 21,
    "start_time": "2022-07-04T09:10:21.658Z"
   },
   {
    "duration": 412,
    "start_time": "2022-07-04T09:10:41.984Z"
   },
   {
    "duration": 12,
    "start_time": "2022-07-04T09:10:42.888Z"
   },
   {
    "duration": 1051,
    "start_time": "2022-07-04T09:10:44.701Z"
   },
   {
    "duration": 1376,
    "start_time": "2022-07-04T09:10:45.754Z"
   },
   {
    "duration": 14,
    "start_time": "2022-07-04T09:10:47.131Z"
   },
   {
    "duration": 12,
    "start_time": "2022-07-04T09:10:47.147Z"
   },
   {
    "duration": 2,
    "start_time": "2022-07-04T09:10:47.161Z"
   },
   {
    "duration": 21,
    "start_time": "2022-07-04T09:10:47.165Z"
   },
   {
    "duration": 5,
    "start_time": "2022-07-04T09:10:47.188Z"
   },
   {
    "duration": 5,
    "start_time": "2022-07-04T09:10:47.195Z"
   },
   {
    "duration": 5,
    "start_time": "2022-07-04T09:10:49.130Z"
   },
   {
    "duration": 26,
    "start_time": "2022-07-04T09:11:55.597Z"
   },
   {
    "duration": 4,
    "start_time": "2022-07-04T09:13:07.601Z"
   },
   {
    "duration": 3,
    "start_time": "2022-07-04T09:13:08.894Z"
   },
   {
    "duration": 3,
    "start_time": "2022-07-04T09:13:09.412Z"
   },
   {
    "duration": 14,
    "start_time": "2022-07-04T09:13:10.947Z"
   },
   {
    "duration": 6,
    "start_time": "2022-07-04T09:13:12.957Z"
   },
   {
    "duration": 4,
    "start_time": "2022-07-04T09:13:13.903Z"
   },
   {
    "duration": 6,
    "start_time": "2022-07-04T09:13:16.051Z"
   },
   {
    "duration": 11,
    "start_time": "2022-07-04T09:13:17.376Z"
   },
   {
    "duration": 4,
    "start_time": "2022-07-04T09:13:25.274Z"
   },
   {
    "duration": 8,
    "start_time": "2022-07-04T09:13:26.144Z"
   },
   {
    "duration": 11,
    "start_time": "2022-07-04T09:13:27.547Z"
   },
   {
    "duration": 18,
    "start_time": "2022-07-04T09:13:28.605Z"
   },
   {
    "duration": 8,
    "start_time": "2022-07-04T09:13:30.706Z"
   },
   {
    "duration": 2,
    "start_time": "2022-07-04T09:13:32.341Z"
   },
   {
    "duration": 438,
    "start_time": "2022-07-04T09:13:32.507Z"
   },
   {
    "duration": 8,
    "start_time": "2022-07-04T09:13:33.779Z"
   },
   {
    "duration": 5,
    "start_time": "2022-07-04T09:13:35.000Z"
   },
   {
    "duration": 1552,
    "start_time": "2022-07-04T11:43:42.169Z"
   },
   {
    "duration": 94,
    "start_time": "2022-07-04T11:43:43.723Z"
   },
   {
    "duration": 29,
    "start_time": "2022-07-04T11:43:43.819Z"
   },
   {
    "duration": 56,
    "start_time": "2022-07-04T11:43:43.850Z"
   },
   {
    "duration": 37,
    "start_time": "2022-07-04T11:43:43.909Z"
   },
   {
    "duration": 20,
    "start_time": "2022-07-04T11:43:43.948Z"
   },
   {
    "duration": 38,
    "start_time": "2022-07-04T11:43:43.970Z"
   },
   {
    "duration": 13,
    "start_time": "2022-07-04T11:43:44.010Z"
   },
   {
    "duration": 12,
    "start_time": "2022-07-04T11:43:44.024Z"
   },
   {
    "duration": 14,
    "start_time": "2022-07-04T11:43:44.037Z"
   },
   {
    "duration": 4,
    "start_time": "2022-07-04T11:43:44.053Z"
   },
   {
    "duration": 36,
    "start_time": "2022-07-04T11:43:44.059Z"
   },
   {
    "duration": 9,
    "start_time": "2022-07-04T11:43:44.096Z"
   },
   {
    "duration": 11,
    "start_time": "2022-07-04T11:43:46.468Z"
   },
   {
    "duration": 7,
    "start_time": "2022-07-04T11:43:48.067Z"
   },
   {
    "duration": 113,
    "start_time": "2022-07-04T11:43:48.968Z"
   },
   {
    "duration": 866,
    "start_time": "2022-07-04T11:44:02.968Z"
   },
   {
    "duration": 659,
    "start_time": "2022-07-04T11:44:15.764Z"
   },
   {
    "duration": 3,
    "start_time": "2022-07-04T11:46:11.894Z"
   },
   {
    "duration": 4,
    "start_time": "2022-07-04T11:48:30.184Z"
   },
   {
    "duration": 34,
    "start_time": "2022-07-04T11:48:30.191Z"
   },
   {
    "duration": 12,
    "start_time": "2022-07-04T11:48:30.227Z"
   },
   {
    "duration": 27,
    "start_time": "2022-07-04T11:48:30.241Z"
   },
   {
    "duration": 16,
    "start_time": "2022-07-04T11:48:30.270Z"
   },
   {
    "duration": 9,
    "start_time": "2022-07-04T11:48:30.288Z"
   },
   {
    "duration": 9,
    "start_time": "2022-07-04T11:48:30.298Z"
   },
   {
    "duration": 10,
    "start_time": "2022-07-04T11:48:30.308Z"
   },
   {
    "duration": 13,
    "start_time": "2022-07-04T11:48:30.320Z"
   },
   {
    "duration": 45,
    "start_time": "2022-07-04T11:48:30.335Z"
   },
   {
    "duration": 4,
    "start_time": "2022-07-04T11:48:30.382Z"
   },
   {
    "duration": 12,
    "start_time": "2022-07-04T11:48:30.387Z"
   },
   {
    "duration": 13,
    "start_time": "2022-07-04T11:48:30.401Z"
   },
   {
    "duration": 17,
    "start_time": "2022-07-04T11:48:30.416Z"
   },
   {
    "duration": 12,
    "start_time": "2022-07-04T11:48:30.434Z"
   },
   {
    "duration": 27,
    "start_time": "2022-07-04T11:48:30.448Z"
   },
   {
    "duration": 17,
    "start_time": "2022-07-04T11:48:30.476Z"
   },
   {
    "duration": 13,
    "start_time": "2022-07-04T11:48:30.494Z"
   },
   {
    "duration": 14,
    "start_time": "2022-07-04T11:48:30.508Z"
   },
   {
    "duration": 6,
    "start_time": "2022-07-04T11:49:25.297Z"
   },
   {
    "duration": 6,
    "start_time": "2022-07-04T11:49:31.297Z"
   },
   {
    "duration": 17,
    "start_time": "2022-07-04T11:49:59.813Z"
   },
   {
    "duration": 6,
    "start_time": "2022-07-04T11:50:07.273Z"
   },
   {
    "duration": 6,
    "start_time": "2022-07-04T11:50:08.974Z"
   },
   {
    "duration": 13,
    "start_time": "2022-07-04T11:50:10.100Z"
   },
   {
    "duration": 67,
    "start_time": "2022-07-04T12:02:50.363Z"
   },
   {
    "duration": 52,
    "start_time": "2022-07-04T12:02:58.368Z"
   },
   {
    "duration": 8,
    "start_time": "2022-07-04T12:03:05.271Z"
   },
   {
    "duration": 79,
    "start_time": "2022-07-04T12:03:13.947Z"
   },
   {
    "duration": 51,
    "start_time": "2022-07-04T12:03:22.875Z"
   },
   {
    "duration": 121,
    "start_time": "2022-07-04T12:03:27.785Z"
   },
   {
    "duration": 105,
    "start_time": "2022-07-04T12:03:31.070Z"
   },
   {
    "duration": 7,
    "start_time": "2022-07-04T12:03:38.986Z"
   },
   {
    "duration": 3,
    "start_time": "2022-07-04T12:03:45.302Z"
   },
   {
    "duration": 33,
    "start_time": "2022-07-04T12:03:45.307Z"
   },
   {
    "duration": 17,
    "start_time": "2022-07-04T12:03:45.342Z"
   },
   {
    "duration": 17,
    "start_time": "2022-07-04T12:03:45.360Z"
   },
   {
    "duration": 16,
    "start_time": "2022-07-04T12:03:45.378Z"
   },
   {
    "duration": 9,
    "start_time": "2022-07-04T12:03:45.395Z"
   },
   {
    "duration": 8,
    "start_time": "2022-07-04T12:03:45.406Z"
   },
   {
    "duration": 9,
    "start_time": "2022-07-04T12:03:45.415Z"
   },
   {
    "duration": 18,
    "start_time": "2022-07-04T12:03:45.425Z"
   },
   {
    "duration": 20,
    "start_time": "2022-07-04T12:03:45.445Z"
   },
   {
    "duration": 12,
    "start_time": "2022-07-04T12:03:45.467Z"
   },
   {
    "duration": 6,
    "start_time": "2022-07-04T12:03:45.481Z"
   },
   {
    "duration": 12,
    "start_time": "2022-07-04T12:03:45.491Z"
   },
   {
    "duration": 6,
    "start_time": "2022-07-04T12:03:45.504Z"
   },
   {
    "duration": 5,
    "start_time": "2022-07-04T12:03:45.511Z"
   },
   {
    "duration": 7,
    "start_time": "2022-07-04T12:03:45.518Z"
   },
   {
    "duration": 6,
    "start_time": "2022-07-04T12:03:45.526Z"
   },
   {
    "duration": 5,
    "start_time": "2022-07-04T12:03:45.534Z"
   },
   {
    "duration": 14,
    "start_time": "2022-07-04T12:03:45.540Z"
   },
   {
    "duration": 14,
    "start_time": "2022-07-04T12:03:45.558Z"
   },
   {
    "duration": 7,
    "start_time": "2022-07-04T12:03:45.574Z"
   },
   {
    "duration": 6,
    "start_time": "2022-07-04T12:12:10.618Z"
   },
   {
    "duration": 7,
    "start_time": "2022-07-04T12:12:15.805Z"
   },
   {
    "duration": 5,
    "start_time": "2022-07-04T12:12:19.767Z"
   },
   {
    "duration": 3,
    "start_time": "2022-07-04T12:13:36.476Z"
   },
   {
    "duration": 30,
    "start_time": "2022-07-04T12:13:36.485Z"
   },
   {
    "duration": 11,
    "start_time": "2022-07-04T12:13:36.516Z"
   },
   {
    "duration": 13,
    "start_time": "2022-07-04T12:13:36.528Z"
   },
   {
    "duration": 18,
    "start_time": "2022-07-04T12:13:36.542Z"
   },
   {
    "duration": 12,
    "start_time": "2022-07-04T12:13:36.562Z"
   },
   {
    "duration": 6,
    "start_time": "2022-07-04T12:13:36.575Z"
   },
   {
    "duration": 13,
    "start_time": "2022-07-04T12:13:36.582Z"
   },
   {
    "duration": 14,
    "start_time": "2022-07-04T12:13:36.596Z"
   },
   {
    "duration": 12,
    "start_time": "2022-07-04T12:13:36.612Z"
   },
   {
    "duration": 27,
    "start_time": "2022-07-04T12:13:36.625Z"
   },
   {
    "duration": 23,
    "start_time": "2022-07-04T12:13:36.653Z"
   },
   {
    "duration": 8,
    "start_time": "2022-07-04T12:13:36.677Z"
   },
   {
    "duration": 5,
    "start_time": "2022-07-04T12:13:36.686Z"
   },
   {
    "duration": 3,
    "start_time": "2022-07-04T12:13:36.693Z"
   },
   {
    "duration": 7,
    "start_time": "2022-07-04T12:13:36.698Z"
   },
   {
    "duration": 6,
    "start_time": "2022-07-04T12:13:36.706Z"
   },
   {
    "duration": 5,
    "start_time": "2022-07-04T12:13:36.713Z"
   },
   {
    "duration": 5,
    "start_time": "2022-07-04T12:13:36.720Z"
   },
   {
    "duration": 27,
    "start_time": "2022-07-04T12:13:36.727Z"
   },
   {
    "duration": 19,
    "start_time": "2022-07-04T12:13:36.755Z"
   },
   {
    "duration": 10,
    "start_time": "2022-07-04T12:13:40.464Z"
   },
   {
    "duration": 6,
    "start_time": "2022-07-04T12:13:42.699Z"
   },
   {
    "duration": 4,
    "start_time": "2022-07-04T12:13:49.202Z"
   },
   {
    "duration": 39,
    "start_time": "2022-07-04T12:13:49.208Z"
   },
   {
    "duration": 20,
    "start_time": "2022-07-04T12:13:49.249Z"
   },
   {
    "duration": 27,
    "start_time": "2022-07-04T12:13:49.270Z"
   },
   {
    "duration": 14,
    "start_time": "2022-07-04T12:13:49.300Z"
   },
   {
    "duration": 10,
    "start_time": "2022-07-04T12:13:49.315Z"
   },
   {
    "duration": 9,
    "start_time": "2022-07-04T12:13:49.326Z"
   },
   {
    "duration": 10,
    "start_time": "2022-07-04T12:13:49.336Z"
   },
   {
    "duration": 30,
    "start_time": "2022-07-04T12:13:49.347Z"
   },
   {
    "duration": 16,
    "start_time": "2022-07-04T12:13:49.379Z"
   },
   {
    "duration": 4,
    "start_time": "2022-07-04T12:13:49.397Z"
   },
   {
    "duration": 5,
    "start_time": "2022-07-04T12:13:49.403Z"
   },
   {
    "duration": 8,
    "start_time": "2022-07-04T12:13:49.409Z"
   },
   {
    "duration": 7,
    "start_time": "2022-07-04T12:13:49.418Z"
   },
   {
    "duration": 6,
    "start_time": "2022-07-04T12:13:49.426Z"
   },
   {
    "duration": 7,
    "start_time": "2022-07-04T12:13:49.433Z"
   },
   {
    "duration": 14,
    "start_time": "2022-07-04T12:13:49.441Z"
   },
   {
    "duration": 15,
    "start_time": "2022-07-04T12:13:49.460Z"
   },
   {
    "duration": 8,
    "start_time": "2022-07-04T12:13:49.476Z"
   },
   {
    "duration": 9,
    "start_time": "2022-07-04T12:13:49.486Z"
   },
   {
    "duration": 10,
    "start_time": "2022-07-04T12:13:49.496Z"
   },
   {
    "duration": 7,
    "start_time": "2022-07-04T12:13:52.275Z"
   },
   {
    "duration": 3,
    "start_time": "2022-07-04T12:24:52.968Z"
   },
   {
    "duration": 7,
    "start_time": "2022-07-04T12:24:53.303Z"
   },
   {
    "duration": 14,
    "start_time": "2022-07-04T12:25:06.165Z"
   },
   {
    "duration": 8,
    "start_time": "2022-07-04T12:25:07.261Z"
   },
   {
    "duration": 4,
    "start_time": "2022-07-04T12:25:07.637Z"
   },
   {
    "duration": 136,
    "start_time": "2022-07-04T12:25:09.299Z"
   },
   {
    "duration": 112,
    "start_time": "2022-07-04T12:25:10.778Z"
   },
   {
    "duration": 7,
    "start_time": "2022-07-04T12:25:11.360Z"
   },
   {
    "duration": 10,
    "start_time": "2022-07-04T12:25:12.802Z"
   },
   {
    "duration": 6,
    "start_time": "2022-07-04T12:25:13.199Z"
   },
   {
    "duration": 6,
    "start_time": "2022-07-04T12:25:13.391Z"
   },
   {
    "duration": 6,
    "start_time": "2022-07-04T12:25:13.584Z"
   },
   {
    "duration": 10,
    "start_time": "2022-07-04T12:25:13.775Z"
   },
   {
    "duration": 12,
    "start_time": "2022-07-04T12:25:14.982Z"
   },
   {
    "duration": 7,
    "start_time": "2022-07-04T12:25:16.795Z"
   },
   {
    "duration": 4,
    "start_time": "2022-07-04T12:25:17.266Z"
   },
   {
    "duration": 7,
    "start_time": "2022-07-04T12:25:17.472Z"
   },
   {
    "duration": 6,
    "start_time": "2022-07-04T12:25:17.670Z"
   },
   {
    "duration": 5,
    "start_time": "2022-07-04T12:25:17.875Z"
   },
   {
    "duration": 6,
    "start_time": "2022-07-04T12:25:19.517Z"
   },
   {
    "duration": 9,
    "start_time": "2022-07-04T12:25:19.765Z"
   },
   {
    "duration": 10,
    "start_time": "2022-07-04T12:25:20.498Z"
   },
   {
    "duration": 4,
    "start_time": "2022-07-04T12:25:21.690Z"
   },
   {
    "duration": 14,
    "start_time": "2022-07-04T12:25:21.892Z"
   },
   {
    "duration": 12,
    "start_time": "2022-07-04T12:25:23.166Z"
   },
   {
    "duration": 6,
    "start_time": "2022-07-04T12:25:24.313Z"
   },
   {
    "duration": 7,
    "start_time": "2022-07-04T12:25:25.326Z"
   },
   {
    "duration": 4,
    "start_time": "2022-07-04T12:25:26.764Z"
   },
   {
    "duration": 6,
    "start_time": "2022-07-04T12:25:27.212Z"
   },
   {
    "duration": 6,
    "start_time": "2022-07-04T12:25:27.428Z"
   },
   {
    "duration": 33,
    "start_time": "2022-07-04T12:25:30.482Z"
   },
   {
    "duration": 24,
    "start_time": "2022-07-04T12:25:30.717Z"
   },
   {
    "duration": 9,
    "start_time": "2022-07-04T12:25:32.201Z"
   },
   {
    "duration": 4,
    "start_time": "2022-07-04T12:25:32.314Z"
   },
   {
    "duration": 4,
    "start_time": "2022-07-04T12:25:33.725Z"
   },
   {
    "duration": 8,
    "start_time": "2022-07-04T12:25:36.710Z"
   },
   {
    "duration": 25,
    "start_time": "2022-07-04T12:25:37.016Z"
   },
   {
    "duration": 268,
    "start_time": "2022-07-04T12:25:40.278Z"
   },
   {
    "duration": 13,
    "start_time": "2022-07-04T12:25:41.669Z"
   },
   {
    "duration": 1224,
    "start_time": "2022-07-04T12:25:49.890Z"
   },
   {
    "duration": 1523,
    "start_time": "2022-07-04T12:25:51.117Z"
   },
   {
    "duration": 5,
    "start_time": "2022-07-04T12:26:21.774Z"
   },
   {
    "duration": 11,
    "start_time": "2022-07-04T12:26:22.066Z"
   },
   {
    "duration": 2,
    "start_time": "2022-07-04T12:26:22.275Z"
   },
   {
    "duration": 19,
    "start_time": "2022-07-04T12:26:22.607Z"
   },
   {
    "duration": 5,
    "start_time": "2022-07-04T12:26:23.566Z"
   },
   {
    "duration": 5,
    "start_time": "2022-07-04T12:26:23.865Z"
   },
   {
    "duration": 5,
    "start_time": "2022-07-04T12:26:42.290Z"
   },
   {
    "duration": 34,
    "start_time": "2022-07-04T12:26:43.272Z"
   },
   {
    "duration": 15,
    "start_time": "2022-07-04T12:29:14.981Z"
   },
   {
    "duration": 4,
    "start_time": "2022-07-04T12:29:19.230Z"
   },
   {
    "duration": 30,
    "start_time": "2022-07-04T12:29:19.264Z"
   },
   {
    "duration": 12,
    "start_time": "2022-07-04T12:29:19.295Z"
   },
   {
    "duration": 13,
    "start_time": "2022-07-04T12:29:19.308Z"
   },
   {
    "duration": 16,
    "start_time": "2022-07-04T12:29:19.323Z"
   },
   {
    "duration": 21,
    "start_time": "2022-07-04T12:29:19.341Z"
   },
   {
    "duration": 9,
    "start_time": "2022-07-04T12:29:19.367Z"
   },
   {
    "duration": 16,
    "start_time": "2022-07-04T12:29:19.378Z"
   },
   {
    "duration": 14,
    "start_time": "2022-07-04T12:29:19.396Z"
   },
   {
    "duration": 14,
    "start_time": "2022-07-04T12:29:19.411Z"
   },
   {
    "duration": 4,
    "start_time": "2022-07-04T12:29:19.427Z"
   },
   {
    "duration": 4,
    "start_time": "2022-07-04T12:29:19.711Z"
   },
   {
    "duration": 9,
    "start_time": "2022-07-04T12:29:19.717Z"
   },
   {
    "duration": 6,
    "start_time": "2022-07-04T12:29:19.727Z"
   },
   {
    "duration": 5,
    "start_time": "2022-07-04T12:29:19.734Z"
   },
   {
    "duration": 6,
    "start_time": "2022-07-04T12:29:19.742Z"
   },
   {
    "duration": 22,
    "start_time": "2022-07-04T12:29:19.749Z"
   },
   {
    "duration": 6,
    "start_time": "2022-07-04T12:29:19.773Z"
   },
   {
    "duration": 8,
    "start_time": "2022-07-04T12:29:19.780Z"
   },
   {
    "duration": 7,
    "start_time": "2022-07-04T12:29:19.789Z"
   },
   {
    "duration": 9,
    "start_time": "2022-07-04T12:29:19.797Z"
   },
   {
    "duration": 12,
    "start_time": "2022-07-04T12:29:19.809Z"
   },
   {
    "duration": 3,
    "start_time": "2022-07-04T12:29:19.822Z"
   },
   {
    "duration": 8,
    "start_time": "2022-07-04T12:29:19.827Z"
   },
   {
    "duration": 28,
    "start_time": "2022-07-04T12:29:19.837Z"
   },
   {
    "duration": 9,
    "start_time": "2022-07-04T12:29:19.866Z"
   },
   {
    "duration": 5,
    "start_time": "2022-07-04T12:29:19.877Z"
   },
   {
    "duration": 137,
    "start_time": "2022-07-04T12:29:19.883Z"
   },
   {
    "duration": 119,
    "start_time": "2022-07-04T12:29:20.021Z"
   },
   {
    "duration": 20,
    "start_time": "2022-07-04T12:29:20.142Z"
   },
   {
    "duration": 20,
    "start_time": "2022-07-04T12:29:20.163Z"
   },
   {
    "duration": 8,
    "start_time": "2022-07-04T12:29:20.185Z"
   },
   {
    "duration": 11,
    "start_time": "2022-07-04T12:29:20.194Z"
   },
   {
    "duration": 29,
    "start_time": "2022-07-04T12:29:20.207Z"
   },
   {
    "duration": 29,
    "start_time": "2022-07-04T12:29:20.237Z"
   },
   {
    "duration": 17,
    "start_time": "2022-07-04T12:29:20.268Z"
   },
   {
    "duration": 12,
    "start_time": "2022-07-04T12:29:20.287Z"
   },
   {
    "duration": 8,
    "start_time": "2022-07-04T12:29:20.301Z"
   },
   {
    "duration": 9,
    "start_time": "2022-07-04T12:29:20.311Z"
   },
   {
    "duration": 7,
    "start_time": "2022-07-04T12:29:20.322Z"
   },
   {
    "duration": 13,
    "start_time": "2022-07-04T12:29:20.332Z"
   },
   {
    "duration": 29,
    "start_time": "2022-07-04T12:29:20.347Z"
   },
   {
    "duration": 10,
    "start_time": "2022-07-04T12:29:20.377Z"
   },
   {
    "duration": 11,
    "start_time": "2022-07-04T12:29:20.388Z"
   },
   {
    "duration": 10,
    "start_time": "2022-07-04T12:29:20.401Z"
   },
   {
    "duration": 21,
    "start_time": "2022-07-04T12:29:20.412Z"
   },
   {
    "duration": 10,
    "start_time": "2022-07-04T12:29:20.434Z"
   },
   {
    "duration": 22,
    "start_time": "2022-07-04T12:29:20.446Z"
   },
   {
    "duration": 7,
    "start_time": "2022-07-04T12:29:20.471Z"
   },
   {
    "duration": 7,
    "start_time": "2022-07-04T12:29:20.480Z"
   },
   {
    "duration": 11,
    "start_time": "2022-07-04T12:29:20.488Z"
   },
   {
    "duration": 10,
    "start_time": "2022-07-04T12:29:20.500Z"
   },
   {
    "duration": 39,
    "start_time": "2022-07-04T12:29:20.512Z"
   },
   {
    "duration": 25,
    "start_time": "2022-07-04T12:29:20.553Z"
   },
   {
    "duration": 9,
    "start_time": "2022-07-04T12:29:20.580Z"
   },
   {
    "duration": 7,
    "start_time": "2022-07-04T12:29:20.590Z"
   },
   {
    "duration": 10,
    "start_time": "2022-07-04T12:29:20.599Z"
   },
   {
    "duration": 17,
    "start_time": "2022-07-04T12:29:20.610Z"
   },
   {
    "duration": 42,
    "start_time": "2022-07-04T12:29:20.628Z"
   },
   {
    "duration": 252,
    "start_time": "2022-07-04T12:29:20.672Z"
   },
   {
    "duration": 14,
    "start_time": "2022-07-04T12:29:20.927Z"
   },
   {
    "duration": 1329,
    "start_time": "2022-07-04T12:29:20.943Z"
   },
   {
    "duration": 1545,
    "start_time": "2022-07-04T12:29:22.274Z"
   },
   {
    "duration": 7,
    "start_time": "2022-07-04T12:29:23.821Z"
   },
   {
    "duration": 29,
    "start_time": "2022-07-04T12:29:23.829Z"
   },
   {
    "duration": 8,
    "start_time": "2022-07-04T12:29:23.863Z"
   },
   {
    "duration": 21,
    "start_time": "2022-07-04T12:29:23.873Z"
   },
   {
    "duration": 5,
    "start_time": "2022-07-04T12:29:23.896Z"
   },
   {
    "duration": 12,
    "start_time": "2022-07-04T12:29:23.902Z"
   },
   {
    "duration": 8,
    "start_time": "2022-07-04T12:29:23.915Z"
   },
   {
    "duration": 14,
    "start_time": "2022-07-04T12:29:26.803Z"
   },
   {
    "duration": 34,
    "start_time": "2022-07-04T12:29:43.678Z"
   },
   {
    "duration": 4,
    "start_time": "2022-07-04T12:29:54.787Z"
   },
   {
    "duration": 7,
    "start_time": "2022-07-04T12:30:07.561Z"
   },
   {
    "duration": 30,
    "start_time": "2022-07-04T12:30:07.583Z"
   },
   {
    "duration": 11,
    "start_time": "2022-07-04T12:30:07.615Z"
   },
   {
    "duration": 12,
    "start_time": "2022-07-04T12:30:07.627Z"
   },
   {
    "duration": 16,
    "start_time": "2022-07-04T12:30:07.671Z"
   },
   {
    "duration": 10,
    "start_time": "2022-07-04T12:30:07.689Z"
   },
   {
    "duration": 10,
    "start_time": "2022-07-04T12:30:07.700Z"
   },
   {
    "duration": 11,
    "start_time": "2022-07-04T12:30:07.711Z"
   },
   {
    "duration": 12,
    "start_time": "2022-07-04T12:30:07.724Z"
   },
   {
    "duration": 22,
    "start_time": "2022-07-04T12:30:07.738Z"
   },
   {
    "duration": 9,
    "start_time": "2022-07-04T12:30:07.761Z"
   },
   {
    "duration": 6,
    "start_time": "2022-07-04T12:30:07.771Z"
   },
   {
    "duration": 9,
    "start_time": "2022-07-04T12:30:07.779Z"
   },
   {
    "duration": 6,
    "start_time": "2022-07-04T12:30:07.789Z"
   },
   {
    "duration": 5,
    "start_time": "2022-07-04T12:30:07.796Z"
   },
   {
    "duration": 7,
    "start_time": "2022-07-04T12:30:07.803Z"
   },
   {
    "duration": 5,
    "start_time": "2022-07-04T12:30:07.812Z"
   },
   {
    "duration": 5,
    "start_time": "2022-07-04T12:30:07.819Z"
   },
   {
    "duration": 5,
    "start_time": "2022-07-04T12:30:07.826Z"
   },
   {
    "duration": 27,
    "start_time": "2022-07-04T12:30:07.833Z"
   },
   {
    "duration": 5,
    "start_time": "2022-07-04T12:30:07.861Z"
   },
   {
    "duration": 14,
    "start_time": "2022-07-04T12:30:07.867Z"
   },
   {
    "duration": 2,
    "start_time": "2022-07-04T12:30:08.117Z"
   },
   {
    "duration": 7,
    "start_time": "2022-07-04T12:30:08.121Z"
   },
   {
    "duration": 15,
    "start_time": "2022-07-04T12:30:08.130Z"
   },
   {
    "duration": 12,
    "start_time": "2022-07-04T12:30:08.147Z"
   },
   {
    "duration": 16,
    "start_time": "2022-07-04T12:30:08.161Z"
   },
   {
    "duration": 140,
    "start_time": "2022-07-04T12:30:08.178Z"
   },
   {
    "duration": 126,
    "start_time": "2022-07-04T12:30:08.320Z"
   },
   {
    "duration": 10,
    "start_time": "2022-07-04T12:30:08.448Z"
   },
   {
    "duration": 11,
    "start_time": "2022-07-04T12:30:08.467Z"
   },
   {
    "duration": 9,
    "start_time": "2022-07-04T12:30:08.479Z"
   },
   {
    "duration": 7,
    "start_time": "2022-07-04T12:30:08.490Z"
   },
   {
    "duration": 7,
    "start_time": "2022-07-04T12:30:08.499Z"
   },
   {
    "duration": 16,
    "start_time": "2022-07-04T12:30:08.507Z"
   },
   {
    "duration": 10,
    "start_time": "2022-07-04T12:30:08.526Z"
   },
   {
    "duration": 19,
    "start_time": "2022-07-04T12:30:08.538Z"
   },
   {
    "duration": 14,
    "start_time": "2022-07-04T12:30:08.558Z"
   },
   {
    "duration": 10,
    "start_time": "2022-07-04T12:30:08.573Z"
   },
   {
    "duration": 8,
    "start_time": "2022-07-04T12:30:08.585Z"
   },
   {
    "duration": 8,
    "start_time": "2022-07-04T12:30:08.595Z"
   },
   {
    "duration": 10,
    "start_time": "2022-07-04T12:30:08.604Z"
   },
   {
    "duration": 11,
    "start_time": "2022-07-04T12:30:08.615Z"
   },
   {
    "duration": 11,
    "start_time": "2022-07-04T12:30:08.627Z"
   },
   {
    "duration": 5,
    "start_time": "2022-07-04T12:30:08.639Z"
   },
   {
    "duration": 28,
    "start_time": "2022-07-04T12:30:08.650Z"
   },
   {
    "duration": 11,
    "start_time": "2022-07-04T12:30:08.679Z"
   },
   {
    "duration": 7,
    "start_time": "2022-07-04T12:30:08.692Z"
   },
   {
    "duration": 8,
    "start_time": "2022-07-04T12:30:08.701Z"
   },
   {
    "duration": 5,
    "start_time": "2022-07-04T12:30:08.711Z"
   },
   {
    "duration": 8,
    "start_time": "2022-07-04T12:30:08.717Z"
   },
   {
    "duration": 32,
    "start_time": "2022-07-04T12:30:08.726Z"
   },
   {
    "duration": 31,
    "start_time": "2022-07-04T12:30:08.760Z"
   },
   {
    "duration": 21,
    "start_time": "2022-07-04T12:30:08.793Z"
   },
   {
    "duration": 8,
    "start_time": "2022-07-04T12:30:08.816Z"
   },
   {
    "duration": 31,
    "start_time": "2022-07-04T12:30:08.825Z"
   },
   {
    "duration": 16,
    "start_time": "2022-07-04T12:30:08.857Z"
   },
   {
    "duration": 15,
    "start_time": "2022-07-04T12:30:08.874Z"
   },
   {
    "duration": 28,
    "start_time": "2022-07-04T12:30:08.890Z"
   },
   {
    "duration": 210,
    "start_time": "2022-07-04T12:30:08.920Z"
   },
   {
    "duration": 30,
    "start_time": "2022-07-04T12:30:09.133Z"
   },
   {
    "duration": 1378,
    "start_time": "2022-07-04T12:30:09.167Z"
   },
   {
    "duration": 1539,
    "start_time": "2022-07-04T12:30:10.554Z"
   },
   {
    "duration": 7,
    "start_time": "2022-07-04T12:30:12.094Z"
   },
   {
    "duration": 19,
    "start_time": "2022-07-04T12:30:12.102Z"
   },
   {
    "duration": 9,
    "start_time": "2022-07-04T12:30:12.123Z"
   },
   {
    "duration": 48,
    "start_time": "2022-07-04T12:30:12.133Z"
   },
   {
    "duration": 106,
    "start_time": "2022-07-04T12:30:12.184Z"
   },
   {
    "duration": 29,
    "start_time": "2022-07-04T12:30:12.291Z"
   },
   {
    "duration": 22,
    "start_time": "2022-07-04T12:30:12.322Z"
   },
   {
    "duration": 4,
    "start_time": "2022-07-04T12:30:16.915Z"
   },
   {
    "duration": 30,
    "start_time": "2022-07-04T12:30:24.331Z"
   },
   {
    "duration": 5,
    "start_time": "2022-07-04T12:31:07.065Z"
   },
   {
    "duration": 3,
    "start_time": "2022-07-04T12:31:21.786Z"
   },
   {
    "duration": 3,
    "start_time": "2022-07-04T12:31:43.426Z"
   },
   {
    "duration": 15,
    "start_time": "2022-07-04T12:31:47.864Z"
   },
   {
    "duration": 856,
    "start_time": "2022-07-04T12:31:49.665Z"
   },
   {
    "duration": 0,
    "start_time": "2022-07-04T12:31:50.523Z"
   },
   {
    "duration": 14,
    "start_time": "2022-07-04T12:32:06.290Z"
   },
   {
    "duration": 15,
    "start_time": "2022-07-04T12:32:35.208Z"
   },
   {
    "duration": 4,
    "start_time": "2022-07-04T12:32:35.430Z"
   },
   {
    "duration": 5,
    "start_time": "2022-07-04T12:33:02.482Z"
   },
   {
    "duration": 52,
    "start_time": "2022-07-04T12:33:02.489Z"
   },
   {
    "duration": 15,
    "start_time": "2022-07-04T12:33:02.542Z"
   },
   {
    "duration": 25,
    "start_time": "2022-07-04T12:33:02.559Z"
   },
   {
    "duration": 20,
    "start_time": "2022-07-04T12:33:02.586Z"
   },
   {
    "duration": 17,
    "start_time": "2022-07-04T12:33:02.608Z"
   },
   {
    "duration": 16,
    "start_time": "2022-07-04T12:33:02.627Z"
   },
   {
    "duration": 21,
    "start_time": "2022-07-04T12:33:02.645Z"
   },
   {
    "duration": 10,
    "start_time": "2022-07-04T12:33:02.966Z"
   },
   {
    "duration": 13,
    "start_time": "2022-07-04T12:33:02.978Z"
   },
   {
    "duration": 10,
    "start_time": "2022-07-04T12:33:02.992Z"
   },
   {
    "duration": 5,
    "start_time": "2022-07-04T12:33:03.004Z"
   },
   {
    "duration": 10,
    "start_time": "2022-07-04T12:33:03.011Z"
   },
   {
    "duration": 6,
    "start_time": "2022-07-04T12:33:03.023Z"
   },
   {
    "duration": 10,
    "start_time": "2022-07-04T12:33:03.030Z"
   },
   {
    "duration": 16,
    "start_time": "2022-07-04T12:33:03.041Z"
   },
   {
    "duration": 19,
    "start_time": "2022-07-04T12:33:03.058Z"
   },
   {
    "duration": 5,
    "start_time": "2022-07-04T12:33:03.078Z"
   },
   {
    "duration": 7,
    "start_time": "2022-07-04T12:33:03.084Z"
   },
   {
    "duration": 8,
    "start_time": "2022-07-04T12:33:03.092Z"
   },
   {
    "duration": 8,
    "start_time": "2022-07-04T12:33:03.101Z"
   },
   {
    "duration": 8,
    "start_time": "2022-07-04T12:33:03.111Z"
   },
   {
    "duration": 2,
    "start_time": "2022-07-04T12:33:03.121Z"
   },
   {
    "duration": 8,
    "start_time": "2022-07-04T12:33:03.124Z"
   },
   {
    "duration": 35,
    "start_time": "2022-07-04T12:33:03.134Z"
   },
   {
    "duration": 12,
    "start_time": "2022-07-04T12:33:03.170Z"
   },
   {
    "duration": 4,
    "start_time": "2022-07-04T12:33:03.184Z"
   },
   {
    "duration": 137,
    "start_time": "2022-07-04T12:33:03.189Z"
   },
   {
    "duration": 138,
    "start_time": "2022-07-04T12:33:03.328Z"
   },
   {
    "duration": 6,
    "start_time": "2022-07-04T12:33:03.468Z"
   },
   {
    "duration": 12,
    "start_time": "2022-07-04T12:33:03.476Z"
   },
   {
    "duration": 7,
    "start_time": "2022-07-04T12:33:03.489Z"
   },
   {
    "duration": 21,
    "start_time": "2022-07-04T12:33:03.498Z"
   },
   {
    "duration": 14,
    "start_time": "2022-07-04T12:33:03.521Z"
   },
   {
    "duration": 18,
    "start_time": "2022-07-04T12:33:03.537Z"
   },
   {
    "duration": 17,
    "start_time": "2022-07-04T12:33:03.558Z"
   },
   {
    "duration": 7,
    "start_time": "2022-07-04T12:33:03.577Z"
   },
   {
    "duration": 6,
    "start_time": "2022-07-04T12:33:03.586Z"
   },
   {
    "duration": 9,
    "start_time": "2022-07-04T12:33:03.593Z"
   },
   {
    "duration": 9,
    "start_time": "2022-07-04T12:33:03.604Z"
   },
   {
    "duration": 8,
    "start_time": "2022-07-04T12:33:03.614Z"
   },
   {
    "duration": 7,
    "start_time": "2022-07-04T12:33:03.625Z"
   },
   {
    "duration": 28,
    "start_time": "2022-07-04T12:33:03.634Z"
   },
   {
    "duration": 11,
    "start_time": "2022-07-04T12:33:03.665Z"
   },
   {
    "duration": 5,
    "start_time": "2022-07-04T12:33:03.677Z"
   },
   {
    "duration": 16,
    "start_time": "2022-07-04T12:33:03.684Z"
   },
   {
    "duration": 9,
    "start_time": "2022-07-04T12:33:03.702Z"
   },
   {
    "duration": 6,
    "start_time": "2022-07-04T12:33:03.712Z"
   },
   {
    "duration": 6,
    "start_time": "2022-07-04T12:33:03.719Z"
   },
   {
    "duration": 27,
    "start_time": "2022-07-04T12:33:03.727Z"
   },
   {
    "duration": 19,
    "start_time": "2022-07-04T12:33:03.758Z"
   },
   {
    "duration": 10,
    "start_time": "2022-07-04T12:33:03.779Z"
   },
   {
    "duration": 30,
    "start_time": "2022-07-04T12:33:03.790Z"
   },
   {
    "duration": 30,
    "start_time": "2022-07-04T12:33:03.822Z"
   },
   {
    "duration": 13,
    "start_time": "2022-07-04T12:33:03.853Z"
   },
   {
    "duration": 4,
    "start_time": "2022-07-04T12:33:03.868Z"
   },
   {
    "duration": 6,
    "start_time": "2022-07-04T12:33:03.874Z"
   },
   {
    "duration": 9,
    "start_time": "2022-07-04T12:33:03.883Z"
   },
   {
    "duration": 23,
    "start_time": "2022-07-04T12:33:03.894Z"
   },
   {
    "duration": 240,
    "start_time": "2022-07-04T12:33:03.918Z"
   },
   {
    "duration": 16,
    "start_time": "2022-07-04T12:33:04.483Z"
   },
   {
    "duration": 1404,
    "start_time": "2022-07-04T12:33:04.501Z"
   },
   {
    "duration": 1487,
    "start_time": "2022-07-04T12:33:05.907Z"
   },
   {
    "duration": 7,
    "start_time": "2022-07-04T12:33:07.396Z"
   },
   {
    "duration": 16,
    "start_time": "2022-07-04T12:33:07.406Z"
   },
   {
    "duration": 6,
    "start_time": "2022-07-04T12:33:07.424Z"
   },
   {
    "duration": 40,
    "start_time": "2022-07-04T12:33:07.432Z"
   },
   {
    "duration": 7,
    "start_time": "2022-07-04T12:33:07.473Z"
   },
   {
    "duration": 6,
    "start_time": "2022-07-04T12:33:07.481Z"
   },
   {
    "duration": 15,
    "start_time": "2022-07-04T12:33:07.489Z"
   },
   {
    "duration": 48,
    "start_time": "2022-07-04T12:33:07.506Z"
   },
   {
    "duration": 7,
    "start_time": "2022-07-04T12:33:07.562Z"
   },
   {
    "duration": 3,
    "start_time": "2022-07-04T12:33:07.571Z"
   },
   {
    "duration": 8,
    "start_time": "2022-07-04T12:33:07.577Z"
   },
   {
    "duration": 16,
    "start_time": "2022-07-04T12:33:13.967Z"
   },
   {
    "duration": 5,
    "start_time": "2022-07-04T12:33:16.318Z"
   },
   {
    "duration": 1013,
    "start_time": "2022-07-04T12:33:25.786Z"
   },
   {
    "duration": 5,
    "start_time": "2022-07-04T12:33:52.780Z"
   },
   {
    "duration": 44,
    "start_time": "2022-07-04T12:33:52.788Z"
   },
   {
    "duration": 14,
    "start_time": "2022-07-04T12:33:52.834Z"
   },
   {
    "duration": 27,
    "start_time": "2022-07-04T12:33:52.850Z"
   },
   {
    "duration": 21,
    "start_time": "2022-07-04T12:33:52.881Z"
   },
   {
    "duration": 11,
    "start_time": "2022-07-04T12:33:52.903Z"
   },
   {
    "duration": 12,
    "start_time": "2022-07-04T12:33:52.917Z"
   },
   {
    "duration": 10,
    "start_time": "2022-07-04T12:33:52.952Z"
   },
   {
    "duration": 25,
    "start_time": "2022-07-04T12:33:52.964Z"
   },
   {
    "duration": 18,
    "start_time": "2022-07-04T12:33:52.991Z"
   },
   {
    "duration": 6,
    "start_time": "2022-07-04T12:33:53.012Z"
   },
   {
    "duration": 5,
    "start_time": "2022-07-04T12:33:53.020Z"
   },
   {
    "duration": 32,
    "start_time": "2022-07-04T12:33:53.028Z"
   },
   {
    "duration": 28,
    "start_time": "2022-07-04T12:33:53.062Z"
   },
   {
    "duration": 7,
    "start_time": "2022-07-04T12:33:53.092Z"
   },
   {
    "duration": 11,
    "start_time": "2022-07-04T12:33:53.100Z"
   },
   {
    "duration": 8,
    "start_time": "2022-07-04T12:33:53.113Z"
   },
   {
    "duration": 10,
    "start_time": "2022-07-04T12:33:53.123Z"
   },
   {
    "duration": 10,
    "start_time": "2022-07-04T12:33:53.135Z"
   },
   {
    "duration": 15,
    "start_time": "2022-07-04T12:33:53.146Z"
   },
   {
    "duration": 18,
    "start_time": "2022-07-04T12:33:53.169Z"
   },
   {
    "duration": 9,
    "start_time": "2022-07-04T12:33:53.190Z"
   },
   {
    "duration": 4,
    "start_time": "2022-07-04T12:33:53.201Z"
   },
   {
    "duration": 8,
    "start_time": "2022-07-04T12:33:53.206Z"
   },
   {
    "duration": 17,
    "start_time": "2022-07-04T12:33:53.216Z"
   },
   {
    "duration": 24,
    "start_time": "2022-07-04T12:33:53.234Z"
   },
   {
    "duration": 23,
    "start_time": "2022-07-04T12:33:53.260Z"
   },
   {
    "duration": 147,
    "start_time": "2022-07-04T12:33:53.285Z"
   },
   {
    "duration": 137,
    "start_time": "2022-07-04T12:33:53.434Z"
   },
   {
    "duration": 5,
    "start_time": "2022-07-04T12:33:53.573Z"
   },
   {
    "duration": 17,
    "start_time": "2022-07-04T12:33:53.580Z"
   },
   {
    "duration": 8,
    "start_time": "2022-07-04T12:33:53.599Z"
   },
   {
    "duration": 11,
    "start_time": "2022-07-04T12:33:53.609Z"
   },
   {
    "duration": 49,
    "start_time": "2022-07-04T12:33:53.622Z"
   },
   {
    "duration": 28,
    "start_time": "2022-07-04T12:33:53.673Z"
   },
   {
    "duration": 17,
    "start_time": "2022-07-04T12:33:53.704Z"
   },
   {
    "duration": 12,
    "start_time": "2022-07-04T12:33:53.725Z"
   },
   {
    "duration": 6,
    "start_time": "2022-07-04T12:33:53.739Z"
   },
   {
    "duration": 12,
    "start_time": "2022-07-04T12:33:53.747Z"
   },
   {
    "duration": 22,
    "start_time": "2022-07-04T12:33:53.762Z"
   },
   {
    "duration": 13,
    "start_time": "2022-07-04T12:33:53.786Z"
   },
   {
    "duration": 14,
    "start_time": "2022-07-04T12:33:53.801Z"
   },
   {
    "duration": 22,
    "start_time": "2022-07-04T12:33:53.817Z"
   },
   {
    "duration": 14,
    "start_time": "2022-07-04T12:33:53.841Z"
   },
   {
    "duration": 23,
    "start_time": "2022-07-04T12:33:53.859Z"
   },
   {
    "duration": 26,
    "start_time": "2022-07-04T12:33:53.884Z"
   },
   {
    "duration": 15,
    "start_time": "2022-07-04T12:33:53.912Z"
   },
   {
    "duration": 8,
    "start_time": "2022-07-04T12:33:53.928Z"
   },
   {
    "duration": 35,
    "start_time": "2022-07-04T12:33:53.937Z"
   },
   {
    "duration": 7,
    "start_time": "2022-07-04T12:33:53.974Z"
   },
   {
    "duration": 11,
    "start_time": "2022-07-04T12:33:53.985Z"
   },
   {
    "duration": 9,
    "start_time": "2022-07-04T12:33:53.998Z"
   },
   {
    "duration": 56,
    "start_time": "2022-07-04T12:33:54.009Z"
   },
   {
    "duration": 38,
    "start_time": "2022-07-04T12:33:54.066Z"
   },
   {
    "duration": 11,
    "start_time": "2022-07-04T12:33:54.106Z"
   },
   {
    "duration": 8,
    "start_time": "2022-07-04T12:33:54.119Z"
   },
   {
    "duration": 7,
    "start_time": "2022-07-04T12:33:54.128Z"
   },
   {
    "duration": 32,
    "start_time": "2022-07-04T12:33:54.137Z"
   },
   {
    "duration": 45,
    "start_time": "2022-07-04T12:33:54.172Z"
   },
   {
    "duration": 339,
    "start_time": "2022-07-04T12:33:54.220Z"
   },
   {
    "duration": 18,
    "start_time": "2022-07-04T12:33:54.563Z"
   },
   {
    "duration": 1701,
    "start_time": "2022-07-04T12:33:54.583Z"
   },
   {
    "duration": 1620,
    "start_time": "2022-07-04T12:33:56.286Z"
   },
   {
    "duration": 9,
    "start_time": "2022-07-04T12:33:57.908Z"
   },
   {
    "duration": 17,
    "start_time": "2022-07-04T12:33:57.919Z"
   },
   {
    "duration": 10,
    "start_time": "2022-07-04T12:33:57.955Z"
   },
   {
    "duration": 39,
    "start_time": "2022-07-04T12:33:57.968Z"
   },
   {
    "duration": 8,
    "start_time": "2022-07-04T12:33:58.010Z"
   },
   {
    "duration": 6,
    "start_time": "2022-07-04T12:33:58.020Z"
   },
   {
    "duration": 9,
    "start_time": "2022-07-04T12:33:58.028Z"
   },
   {
    "duration": 42,
    "start_time": "2022-07-04T12:33:58.052Z"
   },
   {
    "duration": 5,
    "start_time": "2022-07-04T12:33:58.097Z"
   },
   {
    "duration": 7,
    "start_time": "2022-07-04T12:33:58.105Z"
   },
   {
    "duration": 7,
    "start_time": "2022-07-04T12:33:58.114Z"
   },
   {
    "duration": 52,
    "start_time": "2022-07-04T12:33:58.123Z"
   },
   {
    "duration": 8,
    "start_time": "2022-07-04T12:34:05.791Z"
   },
   {
    "duration": 4,
    "start_time": "2022-07-04T12:34:22.690Z"
   },
   {
    "duration": 6,
    "start_time": "2022-07-04T12:34:25.788Z"
   },
   {
    "duration": 13,
    "start_time": "2022-07-04T12:34:26.768Z"
   },
   {
    "duration": 4,
    "start_time": "2022-07-04T12:34:29.030Z"
   },
   {
    "duration": 12,
    "start_time": "2022-07-04T12:34:32.471Z"
   },
   {
    "duration": 17,
    "start_time": "2022-07-04T12:34:34.829Z"
   },
   {
    "duration": 30,
    "start_time": "2022-07-04T12:34:39.851Z"
   },
   {
    "duration": 6,
    "start_time": "2022-07-04T12:35:51.078Z"
   },
   {
    "duration": 44,
    "start_time": "2022-07-04T12:35:51.086Z"
   },
   {
    "duration": 13,
    "start_time": "2022-07-04T12:35:51.131Z"
   },
   {
    "duration": 16,
    "start_time": "2022-07-04T12:35:51.145Z"
   },
   {
    "duration": 37,
    "start_time": "2022-07-04T12:35:51.165Z"
   },
   {
    "duration": 14,
    "start_time": "2022-07-04T12:35:51.204Z"
   },
   {
    "duration": 12,
    "start_time": "2022-07-04T12:35:51.220Z"
   },
   {
    "duration": 37,
    "start_time": "2022-07-04T12:35:51.234Z"
   },
   {
    "duration": 24,
    "start_time": "2022-07-04T12:35:51.278Z"
   },
   {
    "duration": 20,
    "start_time": "2022-07-04T12:35:51.304Z"
   },
   {
    "duration": 9,
    "start_time": "2022-07-04T12:35:51.326Z"
   },
   {
    "duration": 41,
    "start_time": "2022-07-04T12:35:51.338Z"
   },
   {
    "duration": 19,
    "start_time": "2022-07-04T12:35:51.381Z"
   },
   {
    "duration": 21,
    "start_time": "2022-07-04T12:35:51.404Z"
   },
   {
    "duration": 12,
    "start_time": "2022-07-04T12:35:51.427Z"
   },
   {
    "duration": 17,
    "start_time": "2022-07-04T12:35:51.441Z"
   },
   {
    "duration": 28,
    "start_time": "2022-07-04T12:35:51.463Z"
   },
   {
    "duration": 19,
    "start_time": "2022-07-04T12:35:51.493Z"
   },
   {
    "duration": 6,
    "start_time": "2022-07-04T12:35:51.514Z"
   },
   {
    "duration": 36,
    "start_time": "2022-07-04T12:35:51.522Z"
   },
   {
    "duration": 20,
    "start_time": "2022-07-04T12:35:51.562Z"
   },
   {
    "duration": 21,
    "start_time": "2022-07-04T12:35:51.596Z"
   },
   {
    "duration": 4,
    "start_time": "2022-07-04T12:35:51.619Z"
   },
   {
    "duration": 13,
    "start_time": "2022-07-04T12:35:51.625Z"
   },
   {
    "duration": 33,
    "start_time": "2022-07-04T12:35:51.640Z"
   },
   {
    "duration": 11,
    "start_time": "2022-07-04T12:35:51.674Z"
   },
   {
    "duration": 7,
    "start_time": "2022-07-04T12:35:51.687Z"
   },
   {
    "duration": 140,
    "start_time": "2022-07-04T12:35:51.696Z"
   },
   {
    "duration": 182,
    "start_time": "2022-07-04T12:35:51.838Z"
   },
   {
    "duration": 4,
    "start_time": "2022-07-04T12:35:52.022Z"
   },
   {
    "duration": 31,
    "start_time": "2022-07-04T12:35:52.029Z"
   },
   {
    "duration": 21,
    "start_time": "2022-07-04T12:35:52.062Z"
   },
   {
    "duration": 10,
    "start_time": "2022-07-04T12:35:52.085Z"
   },
   {
    "duration": 12,
    "start_time": "2022-07-04T12:35:52.097Z"
   },
   {
    "duration": 19,
    "start_time": "2022-07-04T12:35:52.111Z"
   },
   {
    "duration": 12,
    "start_time": "2022-07-04T12:35:52.132Z"
   },
   {
    "duration": 14,
    "start_time": "2022-07-04T12:35:52.150Z"
   },
   {
    "duration": 19,
    "start_time": "2022-07-04T12:35:52.167Z"
   },
   {
    "duration": 12,
    "start_time": "2022-07-04T12:35:52.189Z"
   },
   {
    "duration": 10,
    "start_time": "2022-07-04T12:35:52.203Z"
   },
   {
    "duration": 9,
    "start_time": "2022-07-04T12:35:52.221Z"
   },
   {
    "duration": 36,
    "start_time": "2022-07-04T12:35:52.232Z"
   },
   {
    "duration": 12,
    "start_time": "2022-07-04T12:35:52.270Z"
   },
   {
    "duration": 14,
    "start_time": "2022-07-04T12:35:52.284Z"
   },
   {
    "duration": 9,
    "start_time": "2022-07-04T12:35:52.301Z"
   },
   {
    "duration": 25,
    "start_time": "2022-07-04T12:35:52.313Z"
   },
   {
    "duration": 22,
    "start_time": "2022-07-04T12:35:52.343Z"
   },
   {
    "duration": 14,
    "start_time": "2022-07-04T12:35:52.372Z"
   },
   {
    "duration": 9,
    "start_time": "2022-07-04T12:35:52.388Z"
   },
   {
    "duration": 8,
    "start_time": "2022-07-04T12:35:52.399Z"
   },
   {
    "duration": 11,
    "start_time": "2022-07-04T12:35:52.409Z"
   },
   {
    "duration": 9,
    "start_time": "2022-07-04T12:35:52.422Z"
   },
   {
    "duration": 78,
    "start_time": "2022-07-04T12:35:52.433Z"
   },
   {
    "duration": 40,
    "start_time": "2022-07-04T12:35:52.513Z"
   },
   {
    "duration": 21,
    "start_time": "2022-07-04T12:35:52.555Z"
   },
   {
    "duration": 5,
    "start_time": "2022-07-04T12:35:52.578Z"
   },
   {
    "duration": 5,
    "start_time": "2022-07-04T12:35:52.585Z"
   },
   {
    "duration": 12,
    "start_time": "2022-07-04T12:35:52.592Z"
   },
   {
    "duration": 55,
    "start_time": "2022-07-04T12:35:52.606Z"
   },
   {
    "duration": 260,
    "start_time": "2022-07-04T12:35:52.663Z"
   },
   {
    "duration": 25,
    "start_time": "2022-07-04T12:35:52.927Z"
   },
   {
    "duration": 1319,
    "start_time": "2022-07-04T12:35:52.956Z"
   },
   {
    "duration": 2010,
    "start_time": "2022-07-04T12:35:54.277Z"
   },
   {
    "duration": 8,
    "start_time": "2022-07-04T12:35:56.290Z"
   },
   {
    "duration": 14,
    "start_time": "2022-07-04T12:35:56.300Z"
   },
   {
    "duration": 4,
    "start_time": "2022-07-04T12:35:56.316Z"
   },
   {
    "duration": 55,
    "start_time": "2022-07-04T12:35:56.322Z"
   },
   {
    "duration": 9,
    "start_time": "2022-07-04T12:35:56.379Z"
   },
   {
    "duration": 11,
    "start_time": "2022-07-04T12:35:56.389Z"
   },
   {
    "duration": 10,
    "start_time": "2022-07-04T12:35:56.402Z"
   },
   {
    "duration": 60,
    "start_time": "2022-07-04T12:35:56.414Z"
   },
   {
    "duration": 6,
    "start_time": "2022-07-04T12:35:56.475Z"
   },
   {
    "duration": 6,
    "start_time": "2022-07-04T12:35:56.483Z"
   },
   {
    "duration": 9,
    "start_time": "2022-07-04T12:35:56.491Z"
   },
   {
    "duration": 20,
    "start_time": "2022-07-04T12:35:56.502Z"
   },
   {
    "duration": 7,
    "start_time": "2022-07-04T12:35:56.524Z"
   },
   {
    "duration": 6,
    "start_time": "2022-07-04T12:36:13.998Z"
   },
   {
    "duration": 8,
    "start_time": "2022-07-04T12:36:21.107Z"
   },
   {
    "duration": 13,
    "start_time": "2022-07-04T12:36:22.377Z"
   },
   {
    "duration": 5,
    "start_time": "2022-07-04T12:36:25.875Z"
   },
   {
    "duration": 15,
    "start_time": "2022-07-04T12:36:29.173Z"
   },
   {
    "duration": 22,
    "start_time": "2022-07-04T12:36:39.471Z"
   },
   {
    "duration": 20,
    "start_time": "2022-07-04T12:36:41.323Z"
   },
   {
    "duration": 11,
    "start_time": "2022-07-04T12:36:51.280Z"
   },
   {
    "duration": 10,
    "start_time": "2022-07-04T12:37:03.472Z"
   },
   {
    "duration": 11,
    "start_time": "2022-07-04T12:37:25.471Z"
   },
   {
    "duration": 3,
    "start_time": "2022-07-04T12:37:26.629Z"
   },
   {
    "duration": 489,
    "start_time": "2022-07-04T12:37:28.582Z"
   },
   {
    "duration": 9,
    "start_time": "2022-07-04T12:37:30.131Z"
   },
   {
    "duration": 6,
    "start_time": "2022-07-04T12:37:32.766Z"
   },
   {
    "duration": 4,
    "start_time": "2022-07-04T12:38:44.617Z"
   },
   {
    "duration": 105061,
    "start_time": "2022-07-04T12:38:45.322Z"
   },
   {
    "duration": 88,
    "start_time": "2022-07-04T12:40:30.384Z"
   },
   {
    "duration": 6,
    "start_time": "2022-07-04T12:40:34.603Z"
   },
   {
    "duration": 17,
    "start_time": "2022-07-04T12:40:40.402Z"
   },
   {
    "duration": 6,
    "start_time": "2022-07-04T12:40:42.167Z"
   },
   {
    "duration": 11,
    "start_time": "2022-07-04T12:40:49.359Z"
   },
   {
    "duration": 24,
    "start_time": "2022-07-04T12:41:03.996Z"
   },
   {
    "duration": 9,
    "start_time": "2022-07-04T12:41:09.078Z"
   },
   {
    "duration": 7,
    "start_time": "2022-07-04T12:41:09.421Z"
   },
   {
    "duration": 5,
    "start_time": "2022-07-04T12:41:10.468Z"
   },
   {
    "duration": 4,
    "start_time": "2022-07-04T12:41:17.668Z"
   },
   {
    "duration": 4,
    "start_time": "2022-07-04T12:41:57.971Z"
   },
   {
    "duration": 3,
    "start_time": "2022-07-04T12:41:58.894Z"
   },
   {
    "duration": 3,
    "start_time": "2022-07-04T12:42:02.006Z"
   },
   {
    "duration": 6205,
    "start_time": "2022-07-04T12:42:02.307Z"
   },
   {
    "duration": 14,
    "start_time": "2022-07-04T12:43:16.719Z"
   },
   {
    "duration": 8,
    "start_time": "2022-07-04T12:43:18.669Z"
   },
   {
    "duration": 22,
    "start_time": "2022-07-04T12:43:20.217Z"
   },
   {
    "duration": 9,
    "start_time": "2022-07-04T12:43:21.284Z"
   },
   {
    "duration": 12,
    "start_time": "2022-07-04T12:43:32.102Z"
   },
   {
    "duration": 77,
    "start_time": "2022-07-04T13:01:30.313Z"
   },
   {
    "duration": 54,
    "start_time": "2022-07-04T13:01:58.269Z"
   },
   {
    "duration": 56,
    "start_time": "2022-07-04T13:02:44.518Z"
   },
   {
    "duration": 48,
    "start_time": "2022-07-04T13:02:54.772Z"
   },
   {
    "duration": 45,
    "start_time": "2022-07-04T13:02:58.568Z"
   },
   {
    "duration": 36,
    "start_time": "2022-07-04T13:03:52.550Z"
   },
   {
    "duration": 59,
    "start_time": "2022-07-04T13:04:22.072Z"
   },
   {
    "duration": 19,
    "start_time": "2022-07-04T13:07:47.658Z"
   },
   {
    "duration": 3,
    "start_time": "2022-07-04T13:09:05.667Z"
   },
   {
    "duration": 3,
    "start_time": "2022-07-04T13:09:07.556Z"
   },
   {
    "duration": 29,
    "start_time": "2022-07-04T13:09:09.555Z"
   },
   {
    "duration": 7,
    "start_time": "2022-07-04T13:09:16.004Z"
   },
   {
    "duration": 5,
    "start_time": "2022-07-04T13:09:16.378Z"
   },
   {
    "duration": 6,
    "start_time": "2022-07-04T13:09:20.673Z"
   },
   {
    "duration": 16,
    "start_time": "2022-07-04T13:09:23.308Z"
   },
   {
    "duration": 5,
    "start_time": "2022-07-04T13:09:26.057Z"
   },
   {
    "duration": 10,
    "start_time": "2022-07-04T13:09:28.456Z"
   },
   {
    "duration": 16,
    "start_time": "2022-07-04T13:09:29.777Z"
   },
   {
    "duration": 16,
    "start_time": "2022-07-04T13:09:29.794Z"
   },
   {
    "duration": 9,
    "start_time": "2022-07-04T13:09:34.636Z"
   },
   {
    "duration": 2,
    "start_time": "2022-07-04T13:09:37.169Z"
   },
   {
    "duration": 589,
    "start_time": "2022-07-04T13:09:37.758Z"
   },
   {
    "duration": 9,
    "start_time": "2022-07-04T13:09:40.378Z"
   },
   {
    "duration": 6,
    "start_time": "2022-07-04T13:09:41.167Z"
   },
   {
    "duration": 3,
    "start_time": "2022-07-04T13:10:46.945Z"
   },
   {
    "duration": 85766,
    "start_time": "2022-07-04T13:10:47.303Z"
   },
   {
    "duration": 82,
    "start_time": "2022-07-04T13:12:13.071Z"
   },
   {
    "duration": 7,
    "start_time": "2022-07-04T13:12:35.279Z"
   },
   {
    "duration": 15,
    "start_time": "2022-07-04T13:12:37.469Z"
   },
   {
    "duration": 7,
    "start_time": "2022-07-04T13:12:38.275Z"
   },
   {
    "duration": 7,
    "start_time": "2022-07-04T13:12:44.658Z"
   },
   {
    "duration": 7,
    "start_time": "2022-07-04T13:12:47.472Z"
   },
   {
    "duration": 9,
    "start_time": "2022-07-04T13:12:48.207Z"
   },
   {
    "duration": 9,
    "start_time": "2022-07-04T13:12:48.454Z"
   },
   {
    "duration": 4,
    "start_time": "2022-07-04T13:12:49.232Z"
   },
   {
    "duration": 5,
    "start_time": "2022-07-04T13:12:49.604Z"
   },
   {
    "duration": 4,
    "start_time": "2022-07-04T13:12:52.076Z"
   },
   {
    "duration": 3,
    "start_time": "2022-07-04T13:12:53.503Z"
   },
   {
    "duration": 6,
    "start_time": "2022-07-04T13:12:55.541Z"
   },
   {
    "duration": 5442,
    "start_time": "2022-07-04T13:12:55.901Z"
   },
   {
    "duration": 19,
    "start_time": "2022-07-04T13:13:23.840Z"
   },
   {
    "duration": 10,
    "start_time": "2022-07-04T13:13:24.186Z"
   },
   {
    "duration": 18,
    "start_time": "2022-07-04T13:13:26.945Z"
   },
   {
    "duration": 15,
    "start_time": "2022-07-04T13:13:27.244Z"
   },
   {
    "duration": 15,
    "start_time": "2022-07-04T13:13:32.658Z"
   },
   {
    "duration": 19,
    "start_time": "2022-07-04T13:16:00.175Z"
   },
   {
    "duration": 35,
    "start_time": "2022-07-04T13:16:01.156Z"
   },
   {
    "duration": 5,
    "start_time": "2022-07-04T13:26:24.578Z"
   },
   {
    "duration": 5,
    "start_time": "2022-07-04T13:26:41.190Z"
   },
   {
    "duration": 11,
    "start_time": "2022-07-04T13:27:29.590Z"
   },
   {
    "duration": 213,
    "start_time": "2022-07-04T13:31:22.381Z"
   },
   {
    "duration": 5,
    "start_time": "2022-07-04T13:38:42.420Z"
   },
   {
    "duration": 3,
    "start_time": "2022-07-04T13:38:43.777Z"
   },
   {
    "duration": 4,
    "start_time": "2022-07-04T13:38:45.453Z"
   },
   {
    "duration": 4795,
    "start_time": "2022-07-04T13:38:46.416Z"
   },
   {
    "duration": 12,
    "start_time": "2022-07-04T13:38:51.212Z"
   },
   {
    "duration": 8,
    "start_time": "2022-07-04T13:38:53.379Z"
   },
   {
    "duration": 13,
    "start_time": "2022-07-04T13:38:55.021Z"
   },
   {
    "duration": 7,
    "start_time": "2022-07-04T13:38:55.976Z"
   },
   {
    "duration": 1573,
    "start_time": "2022-07-04T13:42:27.716Z"
   },
   {
    "duration": 37,
    "start_time": "2022-07-04T13:42:29.291Z"
   },
   {
    "duration": 12,
    "start_time": "2022-07-04T13:42:29.329Z"
   },
   {
    "duration": 26,
    "start_time": "2022-07-04T13:42:29.353Z"
   },
   {
    "duration": 19,
    "start_time": "2022-07-04T13:42:29.381Z"
   },
   {
    "duration": 13,
    "start_time": "2022-07-04T13:42:29.402Z"
   },
   {
    "duration": 7,
    "start_time": "2022-07-04T13:42:29.417Z"
   },
   {
    "duration": 9,
    "start_time": "2022-07-04T13:42:29.425Z"
   },
   {
    "duration": 14,
    "start_time": "2022-07-04T13:42:29.435Z"
   },
   {
    "duration": 45,
    "start_time": "2022-07-04T13:42:29.452Z"
   },
   {
    "duration": 7,
    "start_time": "2022-07-04T13:42:29.498Z"
   },
   {
    "duration": 7,
    "start_time": "2022-07-04T13:42:29.506Z"
   },
   {
    "duration": 9,
    "start_time": "2022-07-04T13:42:29.515Z"
   },
   {
    "duration": 7,
    "start_time": "2022-07-04T13:42:29.525Z"
   },
   {
    "duration": 5,
    "start_time": "2022-07-04T13:42:29.534Z"
   },
   {
    "duration": 46,
    "start_time": "2022-07-04T13:42:29.541Z"
   },
   {
    "duration": 10,
    "start_time": "2022-07-04T13:42:29.589Z"
   },
   {
    "duration": 7,
    "start_time": "2022-07-04T13:42:29.601Z"
   },
   {
    "duration": 6,
    "start_time": "2022-07-04T13:42:29.609Z"
   },
   {
    "duration": 7,
    "start_time": "2022-07-04T13:42:29.616Z"
   },
   {
    "duration": 12,
    "start_time": "2022-07-04T13:42:29.624Z"
   },
   {
    "duration": 49,
    "start_time": "2022-07-04T13:42:29.637Z"
   },
   {
    "duration": 3,
    "start_time": "2022-07-04T13:42:29.688Z"
   },
   {
    "duration": 8,
    "start_time": "2022-07-04T13:42:29.693Z"
   },
   {
    "duration": 15,
    "start_time": "2022-07-04T13:42:29.703Z"
   },
   {
    "duration": 8,
    "start_time": "2022-07-04T13:42:29.720Z"
   },
   {
    "duration": 7,
    "start_time": "2022-07-04T13:42:29.730Z"
   },
   {
    "duration": 211,
    "start_time": "2022-07-04T13:42:29.741Z"
   },
   {
    "duration": 144,
    "start_time": "2022-07-04T13:42:29.954Z"
   },
   {
    "duration": 4,
    "start_time": "2022-07-04T13:42:30.099Z"
   },
   {
    "duration": 19,
    "start_time": "2022-07-04T13:42:30.105Z"
   },
   {
    "duration": 11,
    "start_time": "2022-07-04T13:42:30.125Z"
   },
   {
    "duration": 66,
    "start_time": "2022-07-04T13:42:30.138Z"
   },
   {
    "duration": 22,
    "start_time": "2022-07-04T13:42:30.205Z"
   },
   {
    "duration": 24,
    "start_time": "2022-07-04T13:42:30.229Z"
   },
   {
    "duration": 26,
    "start_time": "2022-07-04T13:42:30.254Z"
   },
   {
    "duration": 26,
    "start_time": "2022-07-04T13:42:30.282Z"
   },
   {
    "duration": 5,
    "start_time": "2022-07-04T13:42:30.310Z"
   },
   {
    "duration": 12,
    "start_time": "2022-07-04T13:42:30.317Z"
   },
   {
    "duration": 16,
    "start_time": "2022-07-04T13:42:30.331Z"
   },
   {
    "duration": 48,
    "start_time": "2022-07-04T13:42:30.349Z"
   },
   {
    "duration": 15,
    "start_time": "2022-07-04T13:42:30.398Z"
   },
   {
    "duration": 11,
    "start_time": "2022-07-04T13:42:30.415Z"
   },
   {
    "duration": 15,
    "start_time": "2022-07-04T13:42:30.428Z"
   },
   {
    "duration": 33,
    "start_time": "2022-07-04T13:42:30.448Z"
   },
   {
    "duration": 28,
    "start_time": "2022-07-04T13:42:30.483Z"
   },
   {
    "duration": 10,
    "start_time": "2022-07-04T13:42:30.513Z"
   },
   {
    "duration": 11,
    "start_time": "2022-07-04T13:42:30.524Z"
   },
   {
    "duration": 39,
    "start_time": "2022-07-04T13:42:30.537Z"
   },
   {
    "duration": 22,
    "start_time": "2022-07-04T13:42:30.577Z"
   },
   {
    "duration": 12,
    "start_time": "2022-07-04T13:42:30.601Z"
   },
   {
    "duration": 15,
    "start_time": "2022-07-04T13:42:30.615Z"
   },
   {
    "duration": 51,
    "start_time": "2022-07-04T13:42:30.632Z"
   },
   {
    "duration": 28,
    "start_time": "2022-07-04T13:42:30.689Z"
   },
   {
    "duration": 14,
    "start_time": "2022-07-04T13:42:30.718Z"
   },
   {
    "duration": 5,
    "start_time": "2022-07-04T13:42:30.734Z"
   },
   {
    "duration": 58,
    "start_time": "2022-07-04T13:42:30.741Z"
   },
   {
    "duration": 18,
    "start_time": "2022-07-04T13:42:30.801Z"
   },
   {
    "duration": 37,
    "start_time": "2022-07-04T13:42:30.821Z"
   },
   {
    "duration": 293,
    "start_time": "2022-07-04T13:42:30.859Z"
   },
   {
    "duration": 17,
    "start_time": "2022-07-04T13:42:31.154Z"
   },
   {
    "duration": 1530,
    "start_time": "2022-07-04T13:42:31.175Z"
   },
   {
    "duration": 1810,
    "start_time": "2022-07-04T13:42:32.707Z"
   },
   {
    "duration": 7,
    "start_time": "2022-07-04T13:42:34.519Z"
   },
   {
    "duration": 25,
    "start_time": "2022-07-04T13:42:34.528Z"
   },
   {
    "duration": 29,
    "start_time": "2022-07-04T13:42:34.555Z"
   },
   {
    "duration": 34,
    "start_time": "2022-07-04T13:42:34.587Z"
   },
   {
    "duration": 6,
    "start_time": "2022-07-04T13:42:34.622Z"
   },
   {
    "duration": 11,
    "start_time": "2022-07-04T13:42:34.630Z"
   },
   {
    "duration": 57,
    "start_time": "2022-07-04T13:42:34.642Z"
   },
   {
    "duration": 38,
    "start_time": "2022-07-04T13:42:34.701Z"
   },
   {
    "duration": 10,
    "start_time": "2022-07-04T13:42:34.741Z"
   },
   {
    "duration": 78,
    "start_time": "2022-07-04T13:42:34.752Z"
   },
   {
    "duration": 13,
    "start_time": "2022-07-04T13:42:34.831Z"
   },
   {
    "duration": 42,
    "start_time": "2022-07-04T13:42:34.845Z"
   },
   {
    "duration": 5,
    "start_time": "2022-07-04T13:42:34.889Z"
   },
   {
    "duration": 17,
    "start_time": "2022-07-04T13:42:34.895Z"
   },
   {
    "duration": 6,
    "start_time": "2022-07-04T13:42:34.914Z"
   },
   {
    "duration": 10,
    "start_time": "2022-07-04T13:42:34.921Z"
   },
   {
    "duration": 7,
    "start_time": "2022-07-04T13:42:34.933Z"
   },
   {
    "duration": 51,
    "start_time": "2022-07-04T13:42:34.942Z"
   },
   {
    "duration": 3,
    "start_time": "2022-07-04T13:42:34.998Z"
   },
   {
    "duration": 10,
    "start_time": "2022-07-04T13:42:35.003Z"
   },
   {
    "duration": 14,
    "start_time": "2022-07-04T13:42:35.014Z"
   },
   {
    "duration": 24,
    "start_time": "2022-07-04T13:42:35.029Z"
   },
   {
    "duration": 8,
    "start_time": "2022-07-04T13:42:35.055Z"
   },
   {
    "duration": 22,
    "start_time": "2022-07-04T13:42:35.066Z"
   },
   {
    "duration": 672,
    "start_time": "2022-07-04T13:42:35.089Z"
   },
   {
    "duration": 79,
    "start_time": "2022-07-04T13:42:35.764Z"
   },
   {
    "duration": 144,
    "start_time": "2022-07-04T13:42:35.845Z"
   },
   {
    "duration": 5,
    "start_time": "2022-07-04T13:42:35.991Z"
   },
   {
    "duration": 7,
    "start_time": "2022-07-04T13:42:35.997Z"
   },
   {
    "duration": 6,
    "start_time": "2022-07-04T13:42:36.006Z"
   },
   {
    "duration": 12759,
    "start_time": "2022-07-04T13:42:36.013Z"
   },
   {
    "duration": 75,
    "start_time": "2022-07-04T13:42:48.776Z"
   },
   {
    "duration": 40,
    "start_time": "2022-07-04T13:42:48.853Z"
   },
   {
    "duration": 9,
    "start_time": "2022-07-04T13:42:48.894Z"
   },
   {
    "duration": 5,
    "start_time": "2022-07-04T13:42:48.910Z"
   },
   {
    "duration": 27,
    "start_time": "2022-07-04T13:42:48.917Z"
   },
   {
    "duration": 37,
    "start_time": "2022-07-04T13:42:48.946Z"
   },
   {
    "duration": 10,
    "start_time": "2022-07-04T13:42:48.985Z"
   },
   {
    "duration": 5,
    "start_time": "2022-07-04T13:42:48.997Z"
   },
   {
    "duration": 4,
    "start_time": "2022-07-04T13:42:49.003Z"
   },
   {
    "duration": 12,
    "start_time": "2022-07-04T13:42:49.009Z"
   },
   {
    "duration": 9,
    "start_time": "2022-07-04T13:42:49.022Z"
   },
   {
    "duration": 6,
    "start_time": "2022-07-04T13:42:49.033Z"
   },
   {
    "duration": 41,
    "start_time": "2022-07-04T13:42:49.040Z"
   },
   {
    "duration": 6033,
    "start_time": "2022-07-04T13:42:49.082Z"
   },
   {
    "duration": 13,
    "start_time": "2022-07-04T13:42:55.117Z"
   },
   {
    "duration": 10,
    "start_time": "2022-07-04T13:42:55.132Z"
   },
   {
    "duration": 45,
    "start_time": "2022-07-04T13:42:55.148Z"
   },
   {
    "duration": 7,
    "start_time": "2022-07-04T13:42:55.195Z"
   },
   {
    "duration": 9,
    "start_time": "2022-07-04T13:42:55.203Z"
   },
   {
    "duration": 232,
    "start_time": "2022-07-04T13:42:55.214Z"
   },
   {
    "duration": 3,
    "start_time": "2022-07-04T13:49:02.206Z"
   }
  ],
  "colab": {
   "collapsed_sections": [
    "NQ_CME8DTHNu",
    "h-AHeeUoTHZX",
    "ZB_ygBVQTPMu"
   ],
   "name": "5 Телеком финальный проект",
   "provenance": []
  },
  "kernelspec": {
   "display_name": "Python 3 (ipykernel)",
   "language": "python",
   "name": "python3"
  },
  "language_info": {
   "codemirror_mode": {
    "name": "ipython",
    "version": 3
   },
   "file_extension": ".py",
   "mimetype": "text/x-python",
   "name": "python",
   "nbconvert_exporter": "python",
   "pygments_lexer": "ipython3",
   "version": "3.9.13"
  },
  "toc": {
   "base_numbering": 1,
   "nav_menu": {},
   "number_sections": true,
   "sideBar": true,
   "skip_h1_title": true,
   "title_cell": "Table of Contents",
   "title_sidebar": "Contents",
   "toc_cell": true,
   "toc_position": {
    "height": "calc(100% - 180px)",
    "left": "10px",
    "top": "150px",
    "width": "358.917px"
   },
   "toc_section_display": true,
   "toc_window_display": true
  }
 },
 "nbformat": 4,
 "nbformat_minor": 1
}
