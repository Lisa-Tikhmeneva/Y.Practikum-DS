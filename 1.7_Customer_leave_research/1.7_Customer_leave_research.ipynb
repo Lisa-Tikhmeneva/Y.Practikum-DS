{
 "cells": [
  {
   "cell_type": "markdown",
   "metadata": {
    "toc": true
   },
   "source": [
    "<h1>Table of Contents<span class=\"tocSkip\"></span></h1>\n",
    "<div class=\"toc\"><ul class=\"toc-item\"><li><span><a href=\"#Загрузим-данные-и-посмотрим-на-них:\" data-toc-modified-id=\"Загрузим-данные-и-посмотрим-на-них:-1\"><span class=\"toc-item-num\">1&nbsp;&nbsp;</span>Загрузим данные и посмотрим на них:</a></span></li><li><span><a href=\"#Подготовим-данные\" data-toc-modified-id=\"Подготовим-данные-2\"><span class=\"toc-item-num\">2&nbsp;&nbsp;</span>Подготовим данные</a></span><ul class=\"toc-item\"><li><span><a href=\"#Стиль-заголовков\" data-toc-modified-id=\"Стиль-заголовков-2.1\"><span class=\"toc-item-num\">2.1&nbsp;&nbsp;</span>Стиль заголовков</a></span></li><li><span><a href=\"#Удалим-избыточные-данные\" data-toc-modified-id=\"Удалим-избыточные-данные-2.2\"><span class=\"toc-item-num\">2.2&nbsp;&nbsp;</span>Удалим избыточные данные</a></span></li><li><span><a href=\"#Произведём-кодирование-категориальных-признаков-dummy-кодированием\" data-toc-modified-id=\"Произведём-кодирование-категориальных-признаков-dummy-кодированием-2.3\"><span class=\"toc-item-num\">2.3&nbsp;&nbsp;</span>Произведём кодирование категориальных признаков dummy-кодированием</a></span></li></ul></li><li><span><a href=\"#Разобьём-данные-на-выборки\" data-toc-modified-id=\"Разобьём-данные-на-выборки-3\"><span class=\"toc-item-num\">3&nbsp;&nbsp;</span>Разобьём данные на выборки</a></span><ul class=\"toc-item\"><li><span><a href=\"#Отмасштабируем-численные-признаки\" data-toc-modified-id=\"Отмасштабируем-численные-признаки-3.1\"><span class=\"toc-item-num\">3.1&nbsp;&nbsp;</span>Отмасштабируем численные признаки</a></span></li><li><span><a href=\"#Исследуем-баланс-классов\" data-toc-modified-id=\"Исследуем-баланс-классов-3.2\"><span class=\"toc-item-num\">3.2&nbsp;&nbsp;</span>Исследуем баланс классов</a></span></li></ul></li><li><span><a href=\"#Исследуем-модель-без-учета-дисбаланса-классов\" data-toc-modified-id=\"Исследуем-модель-без-учета-дисбаланса-классов-4\"><span class=\"toc-item-num\">4&nbsp;&nbsp;</span>Исследуем модель без учета дисбаланса классов</a></span></li><li><span><a href=\"#Исследуем-модель-с-учетом-дисбаланса-классов\" data-toc-modified-id=\"Исследуем-модель-с-учетом-дисбаланса-классов-5\"><span class=\"toc-item-num\">5&nbsp;&nbsp;</span>Исследуем модель с учетом дисбаланса классов</a></span><ul class=\"toc-item\"><li><span><a href=\"#Взвешивание-классов\" data-toc-modified-id=\"Взвешивание-классов-5.1\"><span class=\"toc-item-num\">5.1&nbsp;&nbsp;</span>Взвешивание классов</a></span></li><li><span><a href=\"#Увеличение-и-уменьшение-выборки\" data-toc-modified-id=\"Увеличение-и-уменьшение-выборки-5.2\"><span class=\"toc-item-num\">5.2&nbsp;&nbsp;</span>Увеличение и уменьшение выборки</a></span></li><li><span><a href=\"#Решающее-дерево\" data-toc-modified-id=\"Решающее-дерево-5.3\"><span class=\"toc-item-num\">5.3&nbsp;&nbsp;</span>Решающее дерево</a></span></li><li><span><a href=\"#Случайный-лес\" data-toc-modified-id=\"Случайный-лес-5.4\"><span class=\"toc-item-num\">5.4&nbsp;&nbsp;</span>Случайный лес</a></span></li><li><span><a href=\"#Логистическая-регрессия\" data-toc-modified-id=\"Логистическая-регрессия-5.5\"><span class=\"toc-item-num\">5.5&nbsp;&nbsp;</span>Логистическая регрессия</a></span></li></ul></li><li><span><a href=\"#Выводы\" data-toc-modified-id=\"Выводы-6\"><span class=\"toc-item-num\">6&nbsp;&nbsp;</span>Выводы</a></span></li><li><span><a href=\"#Проверим-модели-на-тестовой-выборке\" data-toc-modified-id=\"Проверим-модели-на-тестовой-выборке-7\"><span class=\"toc-item-num\">7&nbsp;&nbsp;</span>Проверим модели на тестовой выборке</a></span></li></ul></div>"
   ]
  },
  {
   "cell_type": "markdown",
   "metadata": {
    "id": "LkO-mMeAN255"
   },
   "source": [
    "# Исследование ухода клиентов"
   ]
  },
  {
   "cell_type": "markdown",
   "metadata": {
    "id": "v6routwOq1D9"
   },
   "source": [
    "Из банка каждый месяц по-немногу стали уходить клиенты. Сохранять текущих клиентов дешевле, чем привлекать новых.\n",
    "\n",
    "Нужно построить модель для прогноза, уйдёт клиент из банка в ближайшее время или нет. Модель должна быть с предельно большим значением F1-меры  (0.59 и выше). Дополнительно измеряем AUC-ROC, сравниваем её значение с F1-мерой.\n",
    "\n",
    "\n",
    "Исторические данные о поведении клиентов и расторжении договоров с банком из источника данных: https://www.kaggle.com/barelydedicated/bank-customer-churn-modeling"
   ]
  },
  {
   "cell_type": "code",
   "execution_count": 70,
   "metadata": {
    "id": "zZ-ec8xNsFSD"
   },
   "outputs": [],
   "source": [
    "import pandas as pd\n",
    "from sklearn.model_selection import train_test_split # чтобы делить выборки\n",
    "from sklearn.preprocessing import StandardScaler # чтобы отмасштабировать значения\n",
    "from sklearn.utils import shuffle # чтобы перемешивать объекты в выборке\n",
    "from sklearn.linear_model import LogisticRegression # алгоритм логистической регрессии\n",
    "from sklearn.tree import DecisionTreeClassifier # чтобы обучать модель решающего дерева для классификации\n",
    "from sklearn.ensemble import RandomForestClassifier # алгоритм случайного леса\n",
    "# чтобы оценивать качество моделей\n",
    "from sklearn.metrics import f1_score\n",
    "from sklearn.metrics import roc_auc_score\n",
    "\n",
    "import warnings\n",
    "warnings.filterwarnings('ignore')"
   ]
  },
  {
   "cell_type": "markdown",
   "metadata": {
    "id": "o6ASjbNxxWfe"
   },
   "source": [
    "## Загрузим данные и посмотрим на них:"
   ]
  },
  {
   "cell_type": "code",
   "execution_count": 71,
   "metadata": {
    "id": "piAmBHXfRcBQ"
   },
   "outputs": [],
   "source": [
    "df = pd.read_csv('/datasets/Churn.csv', index_col='RowNumber')"
   ]
  },
  {
   "cell_type": "markdown",
   "metadata": {
    "id": "gIz8tJZ2Rrg8"
   },
   "source": [
    "Посмотрим на первые десять строк таблицы:"
   ]
  },
  {
   "cell_type": "code",
   "execution_count": 72,
   "metadata": {
    "colab": {
     "base_uri": "https://localhost:8080/",
     "height": 394
    },
    "id": "iohyzw9ARcXY",
    "outputId": "de93b111-3aeb-4da3-a4a6-d806ad9de390"
   },
   "outputs": [
    {
     "data": {
      "text/html": [
       "<div>\n",
       "<style scoped>\n",
       "    .dataframe tbody tr th:only-of-type {\n",
       "        vertical-align: middle;\n",
       "    }\n",
       "\n",
       "    .dataframe tbody tr th {\n",
       "        vertical-align: top;\n",
       "    }\n",
       "\n",
       "    .dataframe thead th {\n",
       "        text-align: right;\n",
       "    }\n",
       "</style>\n",
       "<table border=\"1\" class=\"dataframe\">\n",
       "  <thead>\n",
       "    <tr style=\"text-align: right;\">\n",
       "      <th></th>\n",
       "      <th>CustomerId</th>\n",
       "      <th>Surname</th>\n",
       "      <th>CreditScore</th>\n",
       "      <th>Geography</th>\n",
       "      <th>Gender</th>\n",
       "      <th>Age</th>\n",
       "      <th>Tenure</th>\n",
       "      <th>Balance</th>\n",
       "      <th>NumOfProducts</th>\n",
       "      <th>HasCrCard</th>\n",
       "      <th>IsActiveMember</th>\n",
       "      <th>EstimatedSalary</th>\n",
       "      <th>Exited</th>\n",
       "    </tr>\n",
       "    <tr>\n",
       "      <th>RowNumber</th>\n",
       "      <th></th>\n",
       "      <th></th>\n",
       "      <th></th>\n",
       "      <th></th>\n",
       "      <th></th>\n",
       "      <th></th>\n",
       "      <th></th>\n",
       "      <th></th>\n",
       "      <th></th>\n",
       "      <th></th>\n",
       "      <th></th>\n",
       "      <th></th>\n",
       "      <th></th>\n",
       "    </tr>\n",
       "  </thead>\n",
       "  <tbody>\n",
       "    <tr>\n",
       "      <td>1</td>\n",
       "      <td>15634602</td>\n",
       "      <td>Hargrave</td>\n",
       "      <td>619</td>\n",
       "      <td>France</td>\n",
       "      <td>Female</td>\n",
       "      <td>42</td>\n",
       "      <td>2.0</td>\n",
       "      <td>0.00</td>\n",
       "      <td>1</td>\n",
       "      <td>1</td>\n",
       "      <td>1</td>\n",
       "      <td>101348.88</td>\n",
       "      <td>1</td>\n",
       "    </tr>\n",
       "    <tr>\n",
       "      <td>2</td>\n",
       "      <td>15647311</td>\n",
       "      <td>Hill</td>\n",
       "      <td>608</td>\n",
       "      <td>Spain</td>\n",
       "      <td>Female</td>\n",
       "      <td>41</td>\n",
       "      <td>1.0</td>\n",
       "      <td>83807.86</td>\n",
       "      <td>1</td>\n",
       "      <td>0</td>\n",
       "      <td>1</td>\n",
       "      <td>112542.58</td>\n",
       "      <td>0</td>\n",
       "    </tr>\n",
       "    <tr>\n",
       "      <td>3</td>\n",
       "      <td>15619304</td>\n",
       "      <td>Onio</td>\n",
       "      <td>502</td>\n",
       "      <td>France</td>\n",
       "      <td>Female</td>\n",
       "      <td>42</td>\n",
       "      <td>8.0</td>\n",
       "      <td>159660.80</td>\n",
       "      <td>3</td>\n",
       "      <td>1</td>\n",
       "      <td>0</td>\n",
       "      <td>113931.57</td>\n",
       "      <td>1</td>\n",
       "    </tr>\n",
       "    <tr>\n",
       "      <td>4</td>\n",
       "      <td>15701354</td>\n",
       "      <td>Boni</td>\n",
       "      <td>699</td>\n",
       "      <td>France</td>\n",
       "      <td>Female</td>\n",
       "      <td>39</td>\n",
       "      <td>1.0</td>\n",
       "      <td>0.00</td>\n",
       "      <td>2</td>\n",
       "      <td>0</td>\n",
       "      <td>0</td>\n",
       "      <td>93826.63</td>\n",
       "      <td>0</td>\n",
       "    </tr>\n",
       "    <tr>\n",
       "      <td>5</td>\n",
       "      <td>15737888</td>\n",
       "      <td>Mitchell</td>\n",
       "      <td>850</td>\n",
       "      <td>Spain</td>\n",
       "      <td>Female</td>\n",
       "      <td>43</td>\n",
       "      <td>2.0</td>\n",
       "      <td>125510.82</td>\n",
       "      <td>1</td>\n",
       "      <td>1</td>\n",
       "      <td>1</td>\n",
       "      <td>79084.10</td>\n",
       "      <td>0</td>\n",
       "    </tr>\n",
       "    <tr>\n",
       "      <td>6</td>\n",
       "      <td>15574012</td>\n",
       "      <td>Chu</td>\n",
       "      <td>645</td>\n",
       "      <td>Spain</td>\n",
       "      <td>Male</td>\n",
       "      <td>44</td>\n",
       "      <td>8.0</td>\n",
       "      <td>113755.78</td>\n",
       "      <td>2</td>\n",
       "      <td>1</td>\n",
       "      <td>0</td>\n",
       "      <td>149756.71</td>\n",
       "      <td>1</td>\n",
       "    </tr>\n",
       "    <tr>\n",
       "      <td>7</td>\n",
       "      <td>15592531</td>\n",
       "      <td>Bartlett</td>\n",
       "      <td>822</td>\n",
       "      <td>France</td>\n",
       "      <td>Male</td>\n",
       "      <td>50</td>\n",
       "      <td>7.0</td>\n",
       "      <td>0.00</td>\n",
       "      <td>2</td>\n",
       "      <td>1</td>\n",
       "      <td>1</td>\n",
       "      <td>10062.80</td>\n",
       "      <td>0</td>\n",
       "    </tr>\n",
       "    <tr>\n",
       "      <td>8</td>\n",
       "      <td>15656148</td>\n",
       "      <td>Obinna</td>\n",
       "      <td>376</td>\n",
       "      <td>Germany</td>\n",
       "      <td>Female</td>\n",
       "      <td>29</td>\n",
       "      <td>4.0</td>\n",
       "      <td>115046.74</td>\n",
       "      <td>4</td>\n",
       "      <td>1</td>\n",
       "      <td>0</td>\n",
       "      <td>119346.88</td>\n",
       "      <td>1</td>\n",
       "    </tr>\n",
       "    <tr>\n",
       "      <td>9</td>\n",
       "      <td>15792365</td>\n",
       "      <td>He</td>\n",
       "      <td>501</td>\n",
       "      <td>France</td>\n",
       "      <td>Male</td>\n",
       "      <td>44</td>\n",
       "      <td>4.0</td>\n",
       "      <td>142051.07</td>\n",
       "      <td>2</td>\n",
       "      <td>0</td>\n",
       "      <td>1</td>\n",
       "      <td>74940.50</td>\n",
       "      <td>0</td>\n",
       "    </tr>\n",
       "    <tr>\n",
       "      <td>10</td>\n",
       "      <td>15592389</td>\n",
       "      <td>H?</td>\n",
       "      <td>684</td>\n",
       "      <td>France</td>\n",
       "      <td>Male</td>\n",
       "      <td>27</td>\n",
       "      <td>2.0</td>\n",
       "      <td>134603.88</td>\n",
       "      <td>1</td>\n",
       "      <td>1</td>\n",
       "      <td>1</td>\n",
       "      <td>71725.73</td>\n",
       "      <td>0</td>\n",
       "    </tr>\n",
       "  </tbody>\n",
       "</table>\n",
       "</div>"
      ],
      "text/plain": [
       "           CustomerId   Surname  CreditScore Geography  Gender  Age  Tenure  \\\n",
       "RowNumber                                                                     \n",
       "1            15634602  Hargrave          619    France  Female   42     2.0   \n",
       "2            15647311      Hill          608     Spain  Female   41     1.0   \n",
       "3            15619304      Onio          502    France  Female   42     8.0   \n",
       "4            15701354      Boni          699    France  Female   39     1.0   \n",
       "5            15737888  Mitchell          850     Spain  Female   43     2.0   \n",
       "6            15574012       Chu          645     Spain    Male   44     8.0   \n",
       "7            15592531  Bartlett          822    France    Male   50     7.0   \n",
       "8            15656148    Obinna          376   Germany  Female   29     4.0   \n",
       "9            15792365        He          501    France    Male   44     4.0   \n",
       "10           15592389        H?          684    France    Male   27     2.0   \n",
       "\n",
       "             Balance  NumOfProducts  HasCrCard  IsActiveMember  \\\n",
       "RowNumber                                                        \n",
       "1               0.00              1          1               1   \n",
       "2           83807.86              1          0               1   \n",
       "3          159660.80              3          1               0   \n",
       "4               0.00              2          0               0   \n",
       "5          125510.82              1          1               1   \n",
       "6          113755.78              2          1               0   \n",
       "7               0.00              2          1               1   \n",
       "8          115046.74              4          1               0   \n",
       "9          142051.07              2          0               1   \n",
       "10         134603.88              1          1               1   \n",
       "\n",
       "           EstimatedSalary  Exited  \n",
       "RowNumber                           \n",
       "1                101348.88       1  \n",
       "2                112542.58       0  \n",
       "3                113931.57       1  \n",
       "4                 93826.63       0  \n",
       "5                 79084.10       0  \n",
       "6                149756.71       1  \n",
       "7                 10062.80       0  \n",
       "8                119346.88       1  \n",
       "9                 74940.50       0  \n",
       "10                71725.73       0  "
      ]
     },
     "execution_count": 72,
     "metadata": {},
     "output_type": "execute_result"
    }
   ],
   "source": [
    "df.head(10)"
   ]
  },
  {
   "cell_type": "markdown",
   "metadata": {
    "id": "KK01A8JuRBOB"
   },
   "source": [
    "Каждый объект в наборе данных — это информация о поведении одного клиента. Известно:\n",
    "\n",
    "- `RowNumber` — индекс строки в данных\n",
    "-\t`CustomerId` — уникальный идентификатор клиента\n",
    "-\t`Surname` — фамилия\n",
    "-\t`CreditScore` — кредитный рейтинг\n",
    "-\t`Geography` — страна проживания\n",
    "-\t`Gender` — пол\n",
    "-\t`Age` — возраст\n",
    "-\t`Tenure` — сколько лет человек является клиентом банка\n",
    "-\t`Balance` — баланс на счёте\n",
    "-\t`NumOfProducts` — количество продуктов банка, используемых клиентом\n",
    "-\t`HasCrCard` — наличие кредитной карты (1 - есть)\n",
    "-\t`IsActiveMember` — активность клиента (1 - активен)\n",
    "-\t`EstimatedSalary` — предполагаемая зарплата\n",
    "\n",
    "Целевой признак\n",
    "-\t`Exited` — факт ухода клиента (1 - ушел)\n"
   ]
  },
  {
   "cell_type": "markdown",
   "metadata": {
    "id": "CoeUDO5OO4QZ"
   },
   "source": [
    "## Подготовим данные\n"
   ]
  },
  {
   "cell_type": "markdown",
   "metadata": {
    "id": "DfnRR0OFupsk"
   },
   "source": [
    "### Стиль заголовков\n",
    "Выведем на экран названия столбцов:\n"
   ]
  },
  {
   "cell_type": "code",
   "execution_count": 73,
   "metadata": {
    "colab": {
     "base_uri": "https://localhost:8080/"
    },
    "id": "55h0Q09c5-D_",
    "outputId": "1b12413d-6f14-4fca-c6b8-219f196b4738"
   },
   "outputs": [
    {
     "data": {
      "text/plain": [
       "Index(['CustomerId', 'Surname', 'CreditScore', 'Geography', 'Gender', 'Age',\n",
       "       'Tenure', 'Balance', 'NumOfProducts', 'HasCrCard', 'IsActiveMember',\n",
       "       'EstimatedSalary', 'Exited'],\n",
       "      dtype='object')"
      ]
     },
     "execution_count": 73,
     "metadata": {},
     "output_type": "execute_result"
    }
   ],
   "source": [
    "df.columns"
   ]
  },
  {
   "cell_type": "markdown",
   "metadata": {
    "id": "AzJ9LvawEsRO"
   },
   "source": [
    "Переменуем столбцы согласно хорошему стилю:"
   ]
  },
  {
   "cell_type": "code",
   "execution_count": 74,
   "metadata": {
    "id": "XRhhSWB55-MN"
   },
   "outputs": [],
   "source": [
    "df= df.rename(columns = {'CustomerId':'customer_id','Surname':'surname','CreditScore':'credit_score',\n",
    "                         'Geography':'geography' ,'Gender':'gender','Age':'age',\n",
    "                         'Tenure':'tenure','Balance':'balance',\n",
    "                         'NumOfProducts':'num_of_products' ,'HasCrCard':'has_cr_card','IsActiveMember':'is_active_member',\n",
    "                         'EstimatedSalary':'estimated_salary', 'Exited':'exited'})"
   ]
  },
  {
   "cell_type": "code",
   "execution_count": 75,
   "metadata": {
    "colab": {
     "base_uri": "https://localhost:8080/"
    },
    "id": "h7Sn68mX5-S0",
    "outputId": "62b4051f-c625-43a2-e4f5-32db4cfd5310"
   },
   "outputs": [
    {
     "data": {
      "text/plain": [
       "Index(['customer_id', 'surname', 'credit_score', 'geography', 'gender', 'age',\n",
       "       'tenure', 'balance', 'num_of_products', 'has_cr_card',\n",
       "       'is_active_member', 'estimated_salary', 'exited'],\n",
       "      dtype='object')"
      ]
     },
     "execution_count": 75,
     "metadata": {},
     "output_type": "execute_result"
    }
   ],
   "source": [
    "df.columns"
   ]
  },
  {
   "cell_type": "markdown",
   "metadata": {
    "id": "r07csbO001C2"
   },
   "source": [
    "\n",
    "### Удалим избыточные данные\n"
   ]
  },
  {
   "cell_type": "code",
   "execution_count": 76,
   "metadata": {
    "colab": {
     "base_uri": "https://localhost:8080/"
    },
    "id": "YtaIIufnz64j",
    "outputId": "44ecda9f-5c9b-4d17-959a-79a9932dac1c"
   },
   "outputs": [
    {
     "data": {
      "text/plain": [
       "0"
      ]
     },
     "execution_count": 76,
     "metadata": {},
     "output_type": "execute_result"
    }
   ],
   "source": [
    "df.duplicated().sum()"
   ]
  },
  {
   "cell_type": "markdown",
   "metadata": {
    "id": "ue4LsPls2aAz"
   },
   "source": [
    "Явных дубликатов в данных нет. Удалим столбец с фамилиями и уникальными индификаторами клиентов: модели эти данные никак не помогут, их нельзя выразить численно"
   ]
  },
  {
   "cell_type": "code",
   "execution_count": 77,
   "metadata": {
    "id": "Fv1o0OQI2aKs"
   },
   "outputs": [],
   "source": [
    "df = df.drop(['customer_id','surname'], axis=1)"
   ]
  },
  {
   "cell_type": "code",
   "execution_count": 78,
   "metadata": {
    "colab": {
     "base_uri": "https://localhost:8080/"
    },
    "id": "0bf8Kdad4S5W",
    "outputId": "3884a4fc-de57-4807-bb39-3d57a282685c"
   },
   "outputs": [
    {
     "name": "stdout",
     "output_type": "stream",
     "text": [
      "<class 'pandas.core.frame.DataFrame'>\n",
      "Int64Index: 10000 entries, 1 to 10000\n",
      "Data columns (total 11 columns):\n",
      "credit_score        10000 non-null int64\n",
      "geography           10000 non-null object\n",
      "gender              10000 non-null object\n",
      "age                 10000 non-null int64\n",
      "tenure              9091 non-null float64\n",
      "balance             10000 non-null float64\n",
      "num_of_products     10000 non-null int64\n",
      "has_cr_card         10000 non-null int64\n",
      "is_active_member    10000 non-null int64\n",
      "estimated_salary    10000 non-null float64\n",
      "exited              10000 non-null int64\n",
      "dtypes: float64(3), int64(6), object(2)\n",
      "memory usage: 937.5+ KB\n"
     ]
    }
   ],
   "source": [
    "df.info()"
   ]
  },
  {
   "cell_type": "markdown",
   "metadata": {
    "id": "3XQExZ_GPMgj"
   },
   "source": [
    "В атрибуте \"сколько лет человек является клиентом банка\" есть пропуски, заменим их медианными значениями согласно возрасту клиента."
   ]
  },
  {
   "cell_type": "code",
   "execution_count": 79,
   "metadata": {
    "id": "HwmyS4ljPjLw"
   },
   "outputs": [],
   "source": [
    "#Создадим новый столбец, в котором указаны медианные значения количества лет сотрудничества для каждой строки согласно возрасту клиента\n",
    "median_tenure = df.groupby('age')['tenure'].transform('median')"
   ]
  },
  {
   "cell_type": "code",
   "execution_count": 80,
   "metadata": {
    "id": "9pzf6FiGPjQF"
   },
   "outputs": [],
   "source": [
    "# заполним все пустые значения количества лет сотрудничества на медианные значения из нового столбца\n",
    "df['tenure'] = df['tenure'].fillna(median_tenure)"
   ]
  },
  {
   "cell_type": "markdown",
   "metadata": {
    "id": "cpNo3U5_2Vx5"
   },
   "source": [
    "### Произведём кодирование категориальных признаков dummy-кодированием\n",
    "\n",
    "A именно страну и пол клиентов."
   ]
  },
  {
   "cell_type": "code",
   "execution_count": 81,
   "metadata": {
    "colab": {
     "base_uri": "https://localhost:8080/"
    },
    "id": "jLogxvgszJzq",
    "outputId": "2e378a0a-e4fe-407c-c3b7-b16cd6714ee3"
   },
   "outputs": [
    {
     "data": {
      "text/plain": [
       "France     5014\n",
       "Germany    2509\n",
       "Spain      2477\n",
       "Name: geography, dtype: int64"
      ]
     },
     "execution_count": 81,
     "metadata": {},
     "output_type": "execute_result"
    }
   ],
   "source": [
    "df['geography'].value_counts(dropna=False)"
   ]
  },
  {
   "cell_type": "code",
   "execution_count": 82,
   "metadata": {
    "id": "X9ACMMRazJ6S"
   },
   "outputs": [],
   "source": [
    "df_ohe = pd.get_dummies(df, drop_first=True)"
   ]
  },
  {
   "cell_type": "markdown",
   "metadata": {
    "id": "kgHn4jSkMGYN"
   },
   "source": [
    "Применим масштабирование на обучающие, валидационные и тестовые признаки в следующем разделе:"
   ]
  },
  {
   "cell_type": "markdown",
   "metadata": {
    "id": "STkpYvnHyOPw"
   },
   "source": [
    "## Разобьём данные на выборки"
   ]
  },
  {
   "cell_type": "markdown",
   "metadata": {
    "id": "xzhfx7PUPSMC"
   },
   "source": [
    "Все объекты из датафрейма необходимо разделить на три выборки: тренировочную, валидационную и тестовую.\n",
    "\n",
    "На тренировочной модели мы будем обучать модель, на вадидационной проверять работоспособность модели (выявлять переобучение, например), а на тестовой её тестировать. Разобъём данные на выборки в соотношении 3:1:1.\n",
    "\n",
    "Первым шагом разобъём данные на целевой признак (ушел ли человек из банка) и признаки, которые подвели человека к уходу/не уходу."
   ]
  },
  {
   "cell_type": "code",
   "execution_count": 84,
   "metadata": {
    "id": "wdpwwO17UKxC"
   },
   "outputs": [],
   "source": [
    "features = df_ohe.drop(['exited'], axis=1)"
   ]
  },
  {
   "cell_type": "code",
   "execution_count": 85,
   "metadata": {
    "id": "BBm14Ma1UK3Q"
   },
   "outputs": [],
   "source": [
    "target = df_ohe['exited'].copy()"
   ]
  },
  {
   "cell_type": "markdown",
   "metadata": {
    "id": "1s3bmyA1UK9Y"
   },
   "source": [
    "Разделим данные на две выборки: данные, необходимые до тестирования и данные для тестов. Потом данные, нужные до тестирования разделим на тренировочные и валидационные."
   ]
  },
  {
   "cell_type": "code",
   "execution_count": 86,
   "metadata": {
    "id": "Xa7-c5WkUVZA"
   },
   "outputs": [],
   "source": [
    " # отделим 20% данных для тестовой выборки\n",
    "features_before_test, features_test, target_before_test, target_test = train_test_split(features, target, test_size=0.2, random_state=12345).copy()"
   ]
  },
  {
   "cell_type": "code",
   "execution_count": 87,
   "metadata": {
    "id": "FbDL414VUVeq"
   },
   "outputs": [],
   "source": [
    " # отделим 25% данных для валидационной выборки\n",
    "features_train, features_valid, target_train, target_valid = train_test_split(features_before_test, target_before_test, test_size=0.25, random_state=12345).copy()"
   ]
  },
  {
   "cell_type": "code",
   "execution_count": 88,
   "metadata": {
    "colab": {
     "base_uri": "https://localhost:8080/"
    },
    "id": "qGAUVkY46hRv",
    "outputId": "bee5c073-59b3-4864-e675-7c6684fdd30f"
   },
   "outputs": [
    {
     "data": {
      "text/plain": [
       "(6000, 11)"
      ]
     },
     "execution_count": 88,
     "metadata": {},
     "output_type": "execute_result"
    }
   ],
   "source": [
    "features_train.shape"
   ]
  },
  {
   "cell_type": "code",
   "execution_count": 89,
   "metadata": {
    "colab": {
     "base_uri": "https://localhost:8080/"
    },
    "id": "PSoeIynC6he_",
    "outputId": "a742552e-44c5-401c-a2dd-2e63f9a5934e"
   },
   "outputs": [
    {
     "data": {
      "text/plain": [
       "(2000, 11)"
      ]
     },
     "execution_count": 89,
     "metadata": {},
     "output_type": "execute_result"
    }
   ],
   "source": [
    "features_valid.shape"
   ]
  },
  {
   "cell_type": "code",
   "execution_count": 90,
   "metadata": {
    "colab": {
     "base_uri": "https://localhost:8080/"
    },
    "id": "AtvAW3mc6n9G",
    "outputId": "9bdbd2c9-293f-4801-f742-1e275146ab2f"
   },
   "outputs": [
    {
     "data": {
      "text/plain": [
       "(6000,)"
      ]
     },
     "execution_count": 90,
     "metadata": {},
     "output_type": "execute_result"
    }
   ],
   "source": [
    "target_train.shape"
   ]
  },
  {
   "cell_type": "code",
   "execution_count": 91,
   "metadata": {
    "colab": {
     "base_uri": "https://localhost:8080/"
    },
    "id": "drMDMXAS6oDz",
    "outputId": "24eae57d-4cfa-4ae1-e86a-bd4674ba721c"
   },
   "outputs": [
    {
     "data": {
      "text/plain": [
       "(2000,)"
      ]
     },
     "execution_count": 91,
     "metadata": {},
     "output_type": "execute_result"
    }
   ],
   "source": [
    "target_valid.shape"
   ]
  },
  {
   "cell_type": "code",
   "execution_count": 92,
   "metadata": {
    "colab": {
     "base_uri": "https://localhost:8080/"
    },
    "id": "h_YaHVVd6hm2",
    "outputId": "db0b6cea-77db-409e-b840-47b44855702a"
   },
   "outputs": [
    {
     "data": {
      "text/plain": [
       "(2000, 11)"
      ]
     },
     "execution_count": 92,
     "metadata": {},
     "output_type": "execute_result"
    }
   ],
   "source": [
    "features_test.shape"
   ]
  },
  {
   "cell_type": "code",
   "execution_count": 93,
   "metadata": {
    "colab": {
     "base_uri": "https://localhost:8080/"
    },
    "id": "f23jT9HX6huu",
    "outputId": "754bbbc0-32f1-44ba-998a-3bc5cc36d70a"
   },
   "outputs": [
    {
     "data": {
      "text/plain": [
       "(2000,)"
      ]
     },
     "execution_count": 93,
     "metadata": {},
     "output_type": "execute_result"
    }
   ],
   "source": [
    "target_test.shape"
   ]
  },
  {
   "cell_type": "markdown",
   "metadata": {
    "id": "yuClZeVsMGPF"
   },
   "source": [
    "### Отмасштабируем численные признаки"
   ]
  },
  {
   "cell_type": "code",
   "execution_count": 94,
   "metadata": {
    "colab": {
     "base_uri": "https://localhost:8080/"
    },
    "id": "L7yCIpz_MGTJ",
    "outputId": "7ea407f5-4226-4b22-836d-2eeeaf45e610"
   },
   "outputs": [
    {
     "data": {
      "text/plain": [
       "StandardScaler(copy=True, with_mean=True, with_std=True)"
      ]
     },
     "execution_count": 94,
     "metadata": {},
     "output_type": "execute_result"
    }
   ],
   "source": [
    "numeric = ['credit_score', 'age', 'tenure', 'balance', 'num_of_products', 'estimated_salary']\n",
    "\n",
    "scaler = StandardScaler()\n",
    "scaler.fit(features_train[numeric]) "
   ]
  },
  {
   "cell_type": "markdown",
   "metadata": {
    "id": "Ggug53tFN3kC"
   },
   "source": [
    "Применим масштабирование на обучающие, валидационные и тестовые признаки:"
   ]
  },
  {
   "cell_type": "code",
   "execution_count": 95,
   "metadata": {
    "id": "xWhQGCJ-NnoY"
   },
   "outputs": [],
   "source": [
    "features_train[numeric] = scaler.transform(features_train[numeric])\n",
    "features_valid[numeric] = scaler.transform(features_valid[numeric]) \n",
    "features_test[numeric] = scaler.transform(features_test[numeric])"
   ]
  },
  {
   "cell_type": "markdown",
   "metadata": {
    "id": "GxYec1CBUVjg"
   },
   "source": [
    "Разделили объекты на три выборки, положили их в отдельные переменные:\n",
    "- features_train, target_train это выборки для тренировки модели,\n",
    "-  features_valid, target_valid - выборки для валидации модели,\n",
    "- features_test, target_test - выборки для тестирования.\n",
    "\n",
    "Отмасштабировали численные признаки, чтобы модель училась более корректно."
   ]
  },
  {
   "cell_type": "markdown",
   "metadata": {
    "id": "RY19Cbs_BDs7"
   },
   "source": [
    "### Исследуем баланс классов"
   ]
  },
  {
   "cell_type": "code",
   "execution_count": 96,
   "metadata": {
    "colab": {
     "base_uri": "https://localhost:8080/"
    },
    "id": "M5z_0CkcSeAp",
    "outputId": "43333d57-212d-40f7-d393-b265f71f6f06"
   },
   "outputs": [
    {
     "data": {
      "text/plain": [
       "0.2037"
      ]
     },
     "execution_count": 96,
     "metadata": {},
     "output_type": "execute_result"
    }
   ],
   "source": [
    "df['exited'].mean()"
   ]
  },
  {
   "cell_type": "code",
   "execution_count": 97,
   "metadata": {
    "colab": {
     "base_uri": "https://localhost:8080/"
    },
    "id": "wI8Ra5UOUib-",
    "outputId": "1899acc9-31d9-4017-ea3e-d5786872015a"
   },
   "outputs": [
    {
     "data": {
      "text/plain": [
       "10000"
      ]
     },
     "execution_count": 97,
     "metadata": {},
     "output_type": "execute_result"
    }
   ],
   "source": [
    "df['exited'].count()"
   ]
  },
  {
   "cell_type": "markdown",
   "metadata": {
    "id": "BnjgyvXnUrcm"
   },
   "source": [
    "20% клиентов из 10000 клиентов датасета ушли из банка. Остальные продолжают пользоваться услугами банка.\n",
    "\n",
    "Можно сказать, что в этой выборке есть дисбаланс классов. Обучим модель без учёта дисбаланса, а потом учитывая дисбаланс классов."
   ]
  },
  {
   "cell_type": "markdown",
   "metadata": {
    "id": "b9DazFlTO4gQ"
   },
   "source": [
    "## Исследуем модель без учета дисбаланса классов\n",
    "\n",
    "\n",
    "\n",
    "\n"
   ]
  },
  {
   "cell_type": "markdown",
   "metadata": {
    "id": "nvTQEg0wB6d1"
   },
   "source": [
    "Обучим модель на основе решающего дерева. Посмотрим различную глубину дерева, выберем оптимальную модель."
   ]
  },
  {
   "cell_type": "code",
   "execution_count": 98,
   "metadata": {
    "colab": {
     "base_uri": "https://localhost:8080/"
    },
    "id": "IR6AZ39JB6h_",
    "outputId": "b1933bf0-f0e1-4c0d-bdd8-d56037236aa7"
   },
   "outputs": [
    {
     "name": "stdout",
     "output_type": "stream",
     "text": [
      "Учебная выборка: 0.00000, валидационная выборка: 0.00000, глубина дерева: 1\n",
      "Учебная выборка: 0.51013, валидационная выборка: 0.50370, глубина дерева: 2\n",
      "Учебная выборка: 0.41469, валидационная выборка: 0.39382, глубина дерева: 3\n",
      "Учебная выборка: 0.45216, валидационная выборка: 0.43019, глубина дерева: 4\n",
      "Учебная выборка: 0.58737, валидационная выборка: 0.54884, глубина дерева: 5\n",
      "Учебная выборка: 0.56233, валидационная выборка: 0.51130, глубина дерева: 6\n",
      "Учебная выборка: 0.62575, валидационная выборка: 0.55836, глубина дерева: 7\n",
      "Учебная выборка: 0.67676, валидационная выборка: 0.53988, глубина дерева: 8\n",
      "Учебная выборка: 0.71159, валидационная выборка: 0.53571, глубина дерева: 9\n",
      "Учебная выборка: 0.74728, валидационная выборка: 0.53835, глубина дерева: 10\n",
      "Учебная выборка: 0.78351, валидационная выборка: 0.51320, глубина дерева: 11\n",
      "Лучшая глубина дерева 7\n",
      "Для этого дерева AUC ROC 0.82310 а f1 0.55836\n"
     ]
    }
   ],
   "source": [
    "best_model_tree = None\n",
    "best_result = 0\n",
    "best_depth = None\n",
    "for depth in range(1, 12):\n",
    "  model = DecisionTreeClassifier(random_state=12345, max_depth=depth) \n",
    "  model.fit(features_train, target_train) # обучим модель\n",
    "\n",
    "  train_predictions = model.predict(features_train) # получим предсказания модели\n",
    "  valid_predictions = model.predict(features_valid) \n",
    "  \n",
    "  f1_train = f1_score(target_train,train_predictions) # посчитаем качество модели f1\n",
    "  f1_valid = f1_score(target_valid,valid_predictions)\n",
    "\n",
    "\n",
    "  print (f'Учебная выборка: {f1_train:.5f}, валидационная выборка: {f1_valid:.5f}, глубина дерева: {depth}')\n",
    "  if f1_valid > best_result:\n",
    "    best_model_tree = model\n",
    "    best_result = f1_valid\n",
    "    best_depth = depth\n",
    "        \n",
    "print(\"Лучшая глубина дерева\", best_depth)\n",
    "\n",
    "probabilities_valid = best_model_tree.predict_proba(features_valid)\n",
    "probabilities_one_valid = probabilities_valid[:, 1]\n",
    "auc_roc = roc_auc_score(target_valid, probabilities_one_valid)\n",
    "print(f\"Для этого дерева AUC ROC {auc_roc:.5f} а f1 {best_result:.5f}\")"
   ]
  },
  {
   "cell_type": "markdown",
   "metadata": {
    "id": "oLChTZnPB6ml"
   },
   "source": [
    "Чтобы выявить, как сильно наша модель отличается от случайной смотрим на параметр AUC ROC. Если он около 0.5, значит наша модель не сильно отличается от случайной. Хорошо, когда этот параметр стремится к единице.\n",
    "\n",
    "\n",
    "F1-мера - это среднее гармоническое полноты и точности. Единица в F1 означает, что соотношение полноты и точности равно 1:1. По отдельности полнота и точность не слишком информативны. \n",
    "Полнота и точность оценивают качество прогноза положительного класса с разных позиций. Recall(полнота) описывает, как хорошо модель разобралась в особенностях этого класса и распознала его. Precision(точность) выявляет, не переусердствует ли модель, присваивая положительные метки. \n",
    "Важны обе метрики. Контролировать их параллельно помогают агрегирующие метрики, одна из которых — F1-мера. "
   ]
  },
  {
   "cell_type": "markdown",
   "metadata": {
    "id": "wHf4UCQ7VqyM"
   },
   "source": [
    "Обученная модель ещё далека от идеала: f1 метрику необходимо довести хотябы до 0.59.\n",
    "\n",
    "Попробуем обучить модели с учетом дибаланса классов:"
   ]
  },
  {
   "cell_type": "markdown",
   "metadata": {
    "id": "CcPw-kCTBrFk"
   },
   "source": [
    "## Исследуем модель с учетом дисбаланса классов"
   ]
  },
  {
   "cell_type": "markdown",
   "metadata": {
    "id": "wpRtSfHPWAWL"
   },
   "source": [
    "### Взвешивание классов"
   ]
  },
  {
   "cell_type": "markdown",
   "metadata": {
    "id": "o6b2Wn44WW10"
   },
   "source": [
    "Необходимо при обучении моделей указывать `class_weight='balanced'`\n",
    "\n",
    "Если указать class_weight='balanced', алгоритм посчитает, во сколько раз класс «0» встречается чаще класса «1» у целевого признака. \n",
    "Бóльший вес будет у редкого класса."
   ]
  },
  {
   "cell_type": "markdown",
   "metadata": {
    "id": "bb4zrXy_WMWE"
   },
   "source": [
    "### Увеличение и уменьшение выборки"
   ]
  },
  {
   "cell_type": "markdown",
   "metadata": {
    "id": "Ob40os0FXguQ"
   },
   "source": [
    "Сделаем объекты редкого класса не такими редкими в данных.\n",
    "\n",
    "Применим технику upsampling, преобразование проходит в несколько этапов:\n",
    "\n",
    "* Разделим обучающую выборку на отрицательные и положительные объекты;\n",
    "* Скопируем несколько раз положительные объекты;\n",
    "* С учётом полученных данных создадим новую обучающую выборку;\n",
    "* Перемешаем данные."
   ]
  },
  {
   "cell_type": "markdown",
   "metadata": {
    "id": "coRbEqceWAdb"
   },
   "source": [
    "Также сделаем объекты частого класса не такими частыми.\n",
    "Применим технику downsampling, преобразование проходит в несколько этапов:\n",
    "\n",
    "* Разделим обучающую выборку на отрицательные и положительные объекты;\n",
    "* Случайным образом отбросим часть из отрицательных объектов;\n",
    "* С учётом полученных данных создадим новую обучающую выборку;\n",
    "* Перемешаем данные."
   ]
  },
  {
   "cell_type": "markdown",
   "metadata": {
    "id": "ZIhjdpRbYv46"
   },
   "source": [
    "Сбалансируем данные:\n",
    "напишем функцию для балансировки.\n",
    "\n",
    "Сбалансируем только тренировочные выборки."
   ]
  },
  {
   "cell_type": "code",
   "execution_count": 99,
   "metadata": {
    "id": "DvQAtBVNWAin"
   },
   "outputs": [],
   "source": [
    "def up_down_sample(features, target, repeat, fraction):\n",
    "    features_zeros = features[target == 0]\n",
    "    features_ones = features[target == 1]\n",
    "    target_zeros = target[target == 0]\n",
    "    target_ones = target[target == 1]\n",
    "\n",
    "    # Уменьшаем отрицательные признаки в выборке\n",
    "    features_sample = features_zeros.sample(frac=fraction, random_state=12345)\n",
    "    target_sample = target_zeros.sample(frac=fraction, random_state=12345)\n",
    "\n",
    "    # создаём новую выборку  из уменьшенных отрицательных признаков и увеличенных положительных признаков\n",
    "    features_updownsampled = pd.concat([features_sample] + [features_ones] * repeat)\n",
    "    target_updownsampled = pd.concat([target_sample] + [target_ones] * repeat)\n",
    "    \n",
    "    # перемешиваем потрицательные и положительные признаки\n",
    "    features_updownsampled, target_updownsampled = shuffle(\n",
    "        features_updownsampled, target_updownsampled, random_state=12345)\n",
    "    \n",
    "    return features_updownsampled, target_updownsampled"
   ]
  },
  {
   "cell_type": "code",
   "execution_count": 100,
   "metadata": {
    "id": "ERFBjh8wasVP"
   },
   "outputs": [],
   "source": [
    "features_update_train, target_update_train = up_down_sample(features_train, target_train, 2, 0.9)"
   ]
  },
  {
   "cell_type": "markdown",
   "metadata": {
    "id": "u31611mXay-I"
   },
   "source": [
    "Теперь для обучения моделей будем использовать выборки `features_update_train` и `target_update_train`.\n",
    "\n",
    "Также попробуем использовать взвешивание классов."
   ]
  },
  {
   "cell_type": "markdown",
   "metadata": {
    "id": "MF5d3kr5PSYh"
   },
   "source": [
    "### Решающее дерево"
   ]
  },
  {
   "cell_type": "markdown",
   "metadata": {
    "id": "OEuOvfuffPML"
   },
   "source": [
    "Построим и обучим модель на основе решающего дерева. "
   ]
  },
  {
   "cell_type": "markdown",
   "metadata": {
    "id": "AYkyHlUAWo9T"
   },
   "source": [
    "Будем смотреть на метрики f1 и AUC ROC.\n"
   ]
  },
  {
   "cell_type": "markdown",
   "metadata": {
    "id": "B7yW4NtXe5X0"
   },
   "source": [
    "Чтобы получить максимально высокое качество предсказания нужно перебрать в алгоритме обучения разные варианты глубины дерева.\n",
    "Найдём модель с самой большой долей правильных ответов. Будем рассматривать глубину дерева от 1 до 11."
   ]
  },
  {
   "cell_type": "code",
   "execution_count": 101,
   "metadata": {
    "colab": {
     "base_uri": "https://localhost:8080/"
    },
    "id": "KE6mMusLft2K",
    "outputId": "e31607ec-cade-48e9-f763-42d8cbb40689"
   },
   "outputs": [
    {
     "name": "stdout",
     "output_type": "stream",
     "text": [
      "Учебная выборка: 0.60758, валидационная выборка: 0.47507, глубина дерева: 1\n",
      "Учебная выборка: 0.64003, валидационная выборка: 0.49762, глубина дерева: 2\n",
      "Учебная выборка: 0.64003, валидационная выборка: 0.49762, глубина дерева: 3\n",
      "Учебная выборка: 0.68436, валидационная выборка: 0.51656, глубина дерева: 4\n",
      "Учебная выборка: 0.71061, валидационная выборка: 0.54201, глубина дерева: 5\n",
      "Учебная выборка: 0.73116, валидационная выборка: 0.55945, глубина дерева: 6\n",
      "Учебная выборка: 0.74860, валидационная выборка: 0.55061, глубина дерева: 7\n",
      "Учебная выборка: 0.77502, валидационная выборка: 0.56897, глубина дерева: 8\n",
      "Учебная выборка: 0.80047, валидационная выборка: 0.53019, глубина дерева: 9\n",
      "Учебная выборка: 0.83260, валидационная выборка: 0.49307, глубина дерева: 10\n",
      "Учебная выборка: 0.86219, валидационная выборка: 0.48665, глубина дерева: 11\n",
      "Лучшая глубина дерева 8\n",
      "Для этого дерева AUC ROC 0.80135 а f1 0.56897\n"
     ]
    }
   ],
   "source": [
    "best_model_tree = None\n",
    "best_result = 0\n",
    "best_depth = None\n",
    "for depth in range(1, 12):\n",
    "  model = DecisionTreeClassifier(random_state=12345, max_depth=depth, class_weight='balanced') \n",
    "  model.fit(features_update_train, target_update_train) # обучим модель на новых данных\n",
    "\n",
    "  train_predictions = model.predict(features_update_train) # получим предсказания модели\n",
    "  valid_predictions = model.predict(features_valid) \n",
    "  \n",
    "  f1_train = f1_score(target_update_train,train_predictions) # посчитаем качество модели f1\n",
    "  f1_valid = f1_score(target_valid,valid_predictions)\n",
    "\n",
    "\n",
    "  print (f'Учебная выборка: {f1_train:.5f}, валидационная выборка: {f1_valid:.5f}, глубина дерева: {depth}')\n",
    "  if f1_valid > best_result:\n",
    "    best_model_tree = model\n",
    "    best_result = f1_valid\n",
    "    best_depth = depth\n",
    "        \n",
    "print(\"Лучшая глубина дерева\", best_depth)\n",
    "\n",
    "probabilities_valid = best_model_tree.predict_proba(features_valid)\n",
    "probabilities_one_valid = probabilities_valid[:, 1]\n",
    "auc_roc = roc_auc_score(target_valid, probabilities_one_valid)\n",
    "print(f\"Для этого дерева AUC ROC {auc_roc:.5f} а f1 {best_result:.5f}\")"
   ]
  },
  {
   "cell_type": "markdown",
   "metadata": {
    "id": "1HvbdwdZhFY6"
   },
   "source": [
    "Модель переобучилась, поскольку F1 этой модели на тренировочной выборке больше чем на валидационной."
   ]
  },
  {
   "cell_type": "markdown",
   "metadata": {
    "id": "BSim9gb_hFcJ"
   },
   "source": [
    "### Случайный лес"
   ]
  },
  {
   "cell_type": "markdown",
   "metadata": {
    "id": "BYkXtOQfhFrJ"
   },
   "source": [
    "Попробуем другой алгоритм классификации — случайный лес. Алгоритм обучает большое количество независимых друг от друга деревьев, а потом принимает решение на основе голосования. Случайный лес помогает улучшить результат предсказания и избежать переобучения."
   ]
  },
  {
   "cell_type": "code",
   "execution_count": 102,
   "metadata": {
    "colab": {
     "base_uri": "https://localhost:8080/"
    },
    "id": "_aHYQMwYkrdu",
    "outputId": "eb6fa6cc-112e-478b-9df0-b50ae1c5d05b"
   },
   "outputs": [
    {
     "name": "stdout",
     "output_type": "stream",
     "text": [
      "F1 наилучшей модели на валидационной выборке: 0.60023, AUC ROC 0.84787. Количество деревьев: 50, Максимальная глубина: 10\n"
     ]
    }
   ],
   "source": [
    "best_model_forest = None\n",
    "best_result = 0\n",
    "best_est = 0\n",
    "best_depth = 0\n",
    "for est in range(10, 51, 10):\n",
    "  for depth in range (1, 11):\n",
    "    model = RandomForestClassifier(random_state=12345, n_estimators=est, max_depth=depth, class_weight='balanced') # создадим модель с заданным количеством деревьев и глубиной дерева\n",
    "    model.fit(features_update_train, target_update_train) # обучим модель на тренировочной выборке\n",
    "    valid_predictions = model.predict(features_valid) \n",
    "    f1_valid = f1_score(target_valid,valid_predictions) # посчитаем качество модели на валидационной выборке\n",
    "    if f1_valid > best_result:\n",
    "        best_model_forest = model # сохраним наилучшую модель\n",
    "        best_result = f1_valid #  сохраним наилучшее значение метрики f1 на валидационных данных\n",
    "        best_est = est\n",
    "        best_depth = depth\n",
    "\n",
    "probabilities_valid = best_model_forest.predict_proba(features_valid)\n",
    "probabilities_one_valid = probabilities_valid[:, 1]\n",
    "auc_roc = roc_auc_score(target_valid, probabilities_one_valid)\n",
    "\n",
    "print(f\"F1 наилучшей модели на валидационной выборке: {best_result:.5f}, AUC ROC {auc_roc:.5f}. Количество деревьев: {best_est}, Максимальная глубина: {best_depth}\")\n"
   ]
  },
  {
   "cell_type": "markdown",
   "metadata": {
    "id": "2eIZvmc_hFwp"
   },
   "source": [
    "### Логистическая регрессия"
   ]
  },
  {
   "cell_type": "markdown",
   "metadata": {
    "id": "wbExZxu0hF2S"
   },
   "source": [
    "Алгоритмы не ограничиваются деревьями. Есть и другие способы классификации."
   ]
  },
  {
   "cell_type": "markdown",
   "metadata": {
    "id": "6KVC6LDnmTUb"
   },
   "source": [
    "инициализируем модель логистической регрессии с параметром random_state=12345"
   ]
  },
  {
   "cell_type": "code",
   "execution_count": 103,
   "metadata": {
    "id": "6T3BGPFhmNew"
   },
   "outputs": [],
   "source": [
    "model_log_reg = LogisticRegression(random_state=12345, class_weight='balanced') "
   ]
  },
  {
   "cell_type": "markdown",
   "metadata": {
    "id": "vPZJTE8BmWnE"
   },
   "source": [
    " Обучим модель на тренировочной выборке"
   ]
  },
  {
   "cell_type": "code",
   "execution_count": 104,
   "metadata": {
    "colab": {
     "base_uri": "https://localhost:8080/"
    },
    "id": "ZBnTSTWcmNlY",
    "outputId": "197c01c3-68f2-480a-ff2f-50df147456d8"
   },
   "outputs": [
    {
     "data": {
      "text/plain": [
       "LogisticRegression(C=1.0, class_weight='balanced', dual=False,\n",
       "                   fit_intercept=True, intercept_scaling=1, l1_ratio=None,\n",
       "                   max_iter=100, multi_class='warn', n_jobs=None, penalty='l2',\n",
       "                   random_state=12345, solver='warn', tol=0.0001, verbose=0,\n",
       "                   warm_start=False)"
      ]
     },
     "execution_count": 104,
     "metadata": {},
     "output_type": "execute_result"
    }
   ],
   "source": [
    "model_log_reg.fit(features_update_train, target_update_train)"
   ]
  },
  {
   "cell_type": "markdown",
   "metadata": {
    "id": "L_1BA0Zwmctb"
   },
   "source": [
    "Получим метрику F1 модели на валидационной выборке:\n"
   ]
  },
  {
   "cell_type": "code",
   "execution_count": 105,
   "metadata": {
    "colab": {
     "base_uri": "https://localhost:8080/"
    },
    "id": "PIfnM2KgmNrx",
    "outputId": "8d1e2608-20cc-403c-f442-323c374686dc"
   },
   "outputs": [
    {
     "data": {
      "text/plain": [
       "0.4755120213713268"
      ]
     },
     "execution_count": 105,
     "metadata": {},
     "output_type": "execute_result"
    }
   ],
   "source": [
    "valid_predictions = model_log_reg.predict(features_valid) \n",
    "f1_valid = f1_score(target_valid,valid_predictions)\n",
    "f1_valid "
   ]
  },
  {
   "cell_type": "markdown",
   "metadata": {
    "id": "eJOu3qJ_gDtf"
   },
   "source": [
    "И метрику AUC ROC:"
   ]
  },
  {
   "cell_type": "code",
   "execution_count": 106,
   "metadata": {
    "colab": {
     "base_uri": "https://localhost:8080/"
    },
    "id": "IZCLP3Lyf4eD",
    "outputId": "67699e0c-ffb0-48d5-db80-913b655acfc6"
   },
   "outputs": [
    {
     "data": {
      "text/plain": [
       "0.7724246128315948"
      ]
     },
     "execution_count": 106,
     "metadata": {},
     "output_type": "execute_result"
    }
   ],
   "source": [
    "probabilities_valid = model_log_reg.predict_proba(features_valid)\n",
    "probabilities_one_valid = probabilities_valid[:, 1]\n",
    "auc_roc = roc_auc_score(target_valid, probabilities_one_valid)\n",
    "auc_roc"
   ]
  },
  {
   "cell_type": "markdown",
   "metadata": {
    "id": "pYMEoOlwYJAH"
   },
   "source": [
    "Получилось не очень много, зато быстро."
   ]
  },
  {
   "cell_type": "markdown",
   "metadata": {
    "id": "UtfmJAtGm_5F"
   },
   "source": [
    "## Выводы"
   ]
  },
  {
   "cell_type": "markdown",
   "metadata": {
    "id": "wu1XPA5wnACr"
   },
   "source": [
    "\n",
    "\n",
    "\n",
    "Оценим модели по качеству и скорости работы.\n",
    "1. Самое высокое качество у случайного леса: вместо одного решающего дерева используется целый лес.\n",
    "На втором месте — дерево решений. При глубине дерева равной 8 модель дала хороший (но не достаточный) результат.\n",
    "Самое низкое качество предсказания у логистической регрессии, с этой задачей она справилась плохо.\n",
    "2. Скорость работы тоже значимый критерий.\n",
    "Высокая скорость работы у логистической регрессии: у неё меньше всего параметров.\n",
    "Скорость решающего дерева тоже высокая и зависит от глубины. Наша модель получила ответ на вопрос за 8 проверок значений признаков — это быстро. Случайный лес медленнее всех: чем больше деревьев, тем медленнее работает модель.\n",
    "\n",
    "F1 наилучшей модели 0.60, AUC ROC 0.848. Для случайного леса. Количество деревьев: 50, Максимальная глубина: 10\n",
    "\n",
    "Для дерева решений глубиной 8 F1 = 0.57, а AUC ROC = 0.8.\n",
    "\n",
    "Метрики логистической регрессии и дерева решений не дотянули до необходимого порога.\n"
   ]
  },
  {
   "cell_type": "markdown",
   "metadata": {
    "id": "8ek_xgq0O5yJ"
   },
   "source": [
    "## Проверим модели на тестовой выборке\n",
    "\n",
    "\n",
    "\n"
   ]
  },
  {
   "cell_type": "markdown",
   "metadata": {
    "id": "gA8U31hcPSiJ"
   },
   "source": [
    "Протестируем:"
   ]
  },
  {
   "cell_type": "code",
   "execution_count": 110,
   "metadata": {
    "colab": {
     "base_uri": "https://localhost:8080/"
    },
    "id": "MrOoZ66y7RVk",
    "outputId": "b038e84a-dc08-4c54-f835-4a273dd7f4b5"
   },
   "outputs": [
    {
     "name": "stdout",
     "output_type": "stream",
     "text": [
      "Для этого дерева f1 0.60545, a AUC ROC 0.81001 \n"
     ]
    }
   ],
   "source": [
    "test_predictions  = best_model_tree.predict(features_test)\n",
    "\n",
    "f1_test = f1_score(target_test,test_predictions)\n",
    "\n",
    "probabilities_test = best_model_tree.predict_proba(features_test)\n",
    "probabilities_one_test = probabilities_test[:, 1]\n",
    "auc_roc = roc_auc_score(target_test, probabilities_one_test)\n",
    "\n",
    "print(f\"Для этого дерева f1 {f1_test:.5f}, a AUC ROC {auc_roc:.5f} \")"
   ]
  },
  {
   "cell_type": "code",
   "execution_count": 111,
   "metadata": {
    "colab": {
     "base_uri": "https://localhost:8080/"
    },
    "id": "n3H2MQk47R-r",
    "outputId": "bc704583-0ede-453a-9c43-a12bec5c56b5"
   },
   "outputs": [
    {
     "name": "stdout",
     "output_type": "stream",
     "text": [
      "Для этого леса f1 0.60545, a AUC ROC 0.86196 \n"
     ]
    }
   ],
   "source": [
    "test_predictions = best_model_forest.predict(features_test) \n",
    "f1_valid = f1_score(target_test,test_predictions) # посчитаем качество модели на валидационной выборке\n",
    "\n",
    "probabilities_test = best_model_forest.predict_proba(features_test)\n",
    "probabilities_one_test = probabilities_test[:, 1]\n",
    "auc_roc = roc_auc_score(target_test, probabilities_one_test)\n",
    "\n",
    "print(f\"Для этого леса f1 {f1_test:.5f}, a AUC ROC {auc_roc:.5f} \")"
   ]
  },
  {
   "cell_type": "code",
   "execution_count": 112,
   "metadata": {
    "colab": {
     "base_uri": "https://localhost:8080/"
    },
    "id": "ImT0NbjM7SDD",
    "outputId": "c4c850be-dad1-47b1-8830-31c0acc9ce5a"
   },
   "outputs": [
    {
     "name": "stdout",
     "output_type": "stream",
     "text": [
      "Для логистической регрессии f1 0.60545, a AUC ROC 0.76340 \n"
     ]
    }
   ],
   "source": [
    "test_predictions = model_log_reg.predict(features_test) \n",
    "f1_valid = f1_score(target_test, test_predictions)\n",
    "\n",
    "probabilities_test = model_log_reg.predict_proba(features_test)\n",
    "probabilities_one_test = probabilities_test[:, 1]\n",
    "auc_roc = roc_auc_score(target_test, probabilities_one_test)\n",
    "\n",
    "print(f\"Для логистической регрессии f1 {f1_test:.5f}, a AUC ROC {auc_roc:.5f} \")"
   ]
  },
  {
   "cell_type": "markdown",
   "metadata": {
    "id": "H5GQ6chMYmOg"
   },
   "source": [
    "Внезапно, у всех моделей на тестовой выборке значение F1 больше 0,6!\n",
    "\n",
    "Поскольку случайный лес показал себя лучше на валидационной выборке, то предпочтительно выбрать его для предсказания оттока клиентов."
   ]
  }
 ],
 "metadata": {
  "ExecuteTimeLog": [
   {
    "duration": 1001,
    "start_time": "2022-02-11T21:14:08.946Z"
   },
   {
    "duration": 27,
    "start_time": "2022-02-11T21:14:10.361Z"
   },
   {
    "duration": 20,
    "start_time": "2022-02-11T21:14:12.178Z"
   },
   {
    "duration": 4,
    "start_time": "2022-02-11T21:14:21.168Z"
   },
   {
    "duration": 5,
    "start_time": "2022-02-11T21:14:22.648Z"
   },
   {
    "duration": 4,
    "start_time": "2022-02-11T21:14:23.031Z"
   },
   {
    "duration": 12,
    "start_time": "2022-02-11T21:14:25.424Z"
   },
   {
    "duration": 5,
    "start_time": "2022-02-11T21:14:28.495Z"
   },
   {
    "duration": 9,
    "start_time": "2022-02-11T21:14:28.800Z"
   },
   {
    "duration": 6,
    "start_time": "2022-02-11T21:14:30.544Z"
   },
   {
    "duration": 5,
    "start_time": "2022-02-11T21:14:30.903Z"
   },
   {
    "duration": 8,
    "start_time": "2022-02-11T21:14:33.311Z"
   },
   {
    "duration": 16,
    "start_time": "2022-02-11T21:14:33.671Z"
   },
   {
    "duration": 11,
    "start_time": "2022-02-11T21:14:34.760Z"
   },
   {
    "duration": 5,
    "start_time": "2022-02-11T21:15:03.715Z"
   },
   {
    "duration": 3,
    "start_time": "2022-02-11T21:15:04.024Z"
   },
   {
    "duration": 7,
    "start_time": "2022-02-11T21:15:05.169Z"
   },
   {
    "duration": 7,
    "start_time": "2022-02-11T21:15:05.751Z"
   },
   {
    "duration": 3,
    "start_time": "2022-02-11T21:15:06.192Z"
   },
   {
    "duration": 3,
    "start_time": "2022-02-11T21:15:07.032Z"
   },
   {
    "duration": 4,
    "start_time": "2022-02-11T21:15:07.255Z"
   },
   {
    "duration": 4,
    "start_time": "2022-02-11T21:15:07.440Z"
   },
   {
    "duration": 4,
    "start_time": "2022-02-11T21:15:07.662Z"
   },
   {
    "duration": 4,
    "start_time": "2022-02-11T21:15:07.879Z"
   },
   {
    "duration": 25,
    "start_time": "2022-02-11T21:15:11.144Z"
   },
   {
    "duration": 4,
    "start_time": "2022-02-11T21:15:35.850Z"
   },
   {
    "duration": 19,
    "start_time": "2022-02-11T21:15:40.472Z"
   },
   {
    "duration": 5,
    "start_time": "2022-02-11T21:15:45.569Z"
   },
   {
    "duration": 4,
    "start_time": "2022-02-11T21:15:46.111Z"
   },
   {
    "duration": 201,
    "start_time": "2022-02-11T21:15:50.952Z"
   },
   {
    "duration": 4,
    "start_time": "2022-02-11T21:16:43.459Z"
   },
   {
    "duration": 214,
    "start_time": "2022-02-11T21:16:49.572Z"
   },
   {
    "duration": 4,
    "start_time": "2022-02-11T21:16:58.104Z"
   },
   {
    "duration": 4,
    "start_time": "2022-02-11T21:17:00.224Z"
   },
   {
    "duration": 1056,
    "start_time": "2022-02-11T21:17:22.889Z"
   },
   {
    "duration": 279,
    "start_time": "2022-02-11T21:17:30.970Z"
   },
   {
    "duration": 4,
    "start_time": "2022-02-11T21:17:37.561Z"
   },
   {
    "duration": 39,
    "start_time": "2022-02-11T21:17:37.567Z"
   },
   {
    "duration": 24,
    "start_time": "2022-02-11T21:17:37.608Z"
   },
   {
    "duration": 17,
    "start_time": "2022-02-11T21:17:37.634Z"
   },
   {
    "duration": 14,
    "start_time": "2022-02-11T21:17:37.653Z"
   },
   {
    "duration": 16,
    "start_time": "2022-02-11T21:17:37.669Z"
   },
   {
    "duration": 14,
    "start_time": "2022-02-11T21:17:37.688Z"
   },
   {
    "duration": 12,
    "start_time": "2022-02-11T21:17:37.704Z"
   },
   {
    "duration": 15,
    "start_time": "2022-02-11T21:17:37.718Z"
   },
   {
    "duration": 16,
    "start_time": "2022-02-11T21:17:37.735Z"
   },
   {
    "duration": 7,
    "start_time": "2022-02-11T21:17:37.753Z"
   },
   {
    "duration": 23,
    "start_time": "2022-02-11T21:17:37.762Z"
   },
   {
    "duration": 24,
    "start_time": "2022-02-11T21:17:37.787Z"
   },
   {
    "duration": 18,
    "start_time": "2022-02-11T21:17:37.813Z"
   },
   {
    "duration": 7,
    "start_time": "2022-02-11T21:17:37.833Z"
   },
   {
    "duration": 24,
    "start_time": "2022-02-11T21:17:37.841Z"
   },
   {
    "duration": 29,
    "start_time": "2022-02-11T21:17:37.867Z"
   },
   {
    "duration": 13,
    "start_time": "2022-02-11T21:17:37.898Z"
   },
   {
    "duration": 6,
    "start_time": "2022-02-11T21:17:37.914Z"
   },
   {
    "duration": 5,
    "start_time": "2022-02-11T21:17:37.921Z"
   },
   {
    "duration": 21,
    "start_time": "2022-02-11T21:17:37.928Z"
   },
   {
    "duration": 21,
    "start_time": "2022-02-11T21:17:37.951Z"
   },
   {
    "duration": 17,
    "start_time": "2022-02-11T21:17:37.973Z"
   },
   {
    "duration": 12,
    "start_time": "2022-02-11T21:17:37.992Z"
   },
   {
    "duration": 30,
    "start_time": "2022-02-11T21:17:38.006Z"
   },
   {
    "duration": 5,
    "start_time": "2022-02-11T21:17:38.038Z"
   },
   {
    "duration": 19,
    "start_time": "2022-02-11T21:17:38.044Z"
   },
   {
    "duration": 248,
    "start_time": "2022-02-11T21:17:38.064Z"
   },
   {
    "duration": 228,
    "start_time": "2022-02-11T21:17:41.616Z"
   },
   {
    "duration": 4,
    "start_time": "2022-02-11T21:17:47.239Z"
   },
   {
    "duration": 12,
    "start_time": "2022-02-11T21:17:48.207Z"
   },
   {
    "duration": 259,
    "start_time": "2022-02-11T21:17:54.024Z"
   },
   {
    "duration": 6468,
    "start_time": "2022-02-11T21:17:56.345Z"
   },
   {
    "duration": 2,
    "start_time": "2022-02-11T21:18:04.848Z"
   },
   {
    "duration": 29,
    "start_time": "2022-02-11T21:18:06.225Z"
   },
   {
    "duration": 15,
    "start_time": "2022-02-11T21:18:08.968Z"
   },
   {
    "duration": 10,
    "start_time": "2022-02-11T21:18:10.327Z"
   },
   {
    "duration": 26,
    "start_time": "2022-02-11T21:18:18.328Z"
   },
   {
    "duration": 40,
    "start_time": "2022-02-11T21:18:19.215Z"
   },
   {
    "duration": 41,
    "start_time": "2022-02-11T21:18:19.576Z"
   },
   {
    "duration": 4,
    "start_time": "2022-02-11T21:19:27.819Z"
   },
   {
    "duration": 263,
    "start_time": "2022-02-11T21:19:35.170Z"
   },
   {
    "duration": 27,
    "start_time": "2022-02-11T21:19:40.784Z"
   },
   {
    "duration": 4,
    "start_time": "2022-02-11T21:21:30.796Z"
   },
   {
    "duration": 34,
    "start_time": "2022-02-11T21:21:30.802Z"
   },
   {
    "duration": 15,
    "start_time": "2022-02-11T21:21:30.839Z"
   },
   {
    "duration": 10,
    "start_time": "2022-02-11T21:21:30.856Z"
   },
   {
    "duration": 8,
    "start_time": "2022-02-11T21:21:30.867Z"
   },
   {
    "duration": 4,
    "start_time": "2022-02-11T21:21:30.877Z"
   },
   {
    "duration": 45,
    "start_time": "2022-02-11T21:21:30.884Z"
   },
   {
    "duration": 5,
    "start_time": "2022-02-11T21:21:30.932Z"
   },
   {
    "duration": 13,
    "start_time": "2022-02-11T21:21:30.940Z"
   },
   {
    "duration": 6,
    "start_time": "2022-02-11T21:21:30.956Z"
   },
   {
    "duration": 7,
    "start_time": "2022-02-11T21:21:30.964Z"
   },
   {
    "duration": 14,
    "start_time": "2022-02-11T21:21:30.973Z"
   },
   {
    "duration": 20,
    "start_time": "2022-02-11T21:21:31.013Z"
   },
   {
    "duration": 9,
    "start_time": "2022-02-11T21:21:31.036Z"
   },
   {
    "duration": 3,
    "start_time": "2022-02-11T21:21:31.047Z"
   },
   {
    "duration": 5,
    "start_time": "2022-02-11T21:21:31.052Z"
   },
   {
    "duration": 8,
    "start_time": "2022-02-11T21:21:31.058Z"
   },
   {
    "duration": 6,
    "start_time": "2022-02-11T21:21:31.068Z"
   },
   {
    "duration": 37,
    "start_time": "2022-02-11T21:21:31.077Z"
   },
   {
    "duration": 5,
    "start_time": "2022-02-11T21:21:31.117Z"
   },
   {
    "duration": 5,
    "start_time": "2022-02-11T21:21:31.125Z"
   },
   {
    "duration": 5,
    "start_time": "2022-02-11T21:21:31.132Z"
   },
   {
    "duration": 15,
    "start_time": "2022-02-11T21:21:31.139Z"
   },
   {
    "duration": 4,
    "start_time": "2022-02-11T21:21:31.156Z"
   },
   {
    "duration": 22,
    "start_time": "2022-02-11T21:21:31.162Z"
   },
   {
    "duration": 29,
    "start_time": "2022-02-11T21:21:31.185Z"
   },
   {
    "duration": 6,
    "start_time": "2022-02-11T21:21:31.216Z"
   },
   {
    "duration": 253,
    "start_time": "2022-02-11T21:21:31.224Z"
   },
   {
    "duration": 4,
    "start_time": "2022-02-11T21:21:31.478Z"
   },
   {
    "duration": 28,
    "start_time": "2022-02-11T21:21:31.484Z"
   },
   {
    "duration": 268,
    "start_time": "2022-02-11T21:21:31.514Z"
   },
   {
    "duration": 6421,
    "start_time": "2022-02-11T21:21:31.783Z"
   },
   {
    "duration": 7,
    "start_time": "2022-02-11T21:21:38.206Z"
   },
   {
    "duration": 21,
    "start_time": "2022-02-11T21:21:38.214Z"
   },
   {
    "duration": 11,
    "start_time": "2022-02-11T21:21:38.237Z"
   },
   {
    "duration": 101,
    "start_time": "2022-02-11T21:21:38.313Z"
   },
   {
    "duration": 116,
    "start_time": "2022-02-11T21:21:38.417Z"
   },
   {
    "duration": 40,
    "start_time": "2022-02-11T21:21:38.535Z"
   },
   {
    "duration": 50,
    "start_time": "2022-02-11T21:21:38.577Z"
   },
   {
    "duration": 1095,
    "start_time": "2022-02-12T12:01:57.667Z"
   },
   {
    "duration": 32,
    "start_time": "2022-02-12T12:01:58.764Z"
   },
   {
    "duration": 22,
    "start_time": "2022-02-12T12:01:58.798Z"
   },
   {
    "duration": 22,
    "start_time": "2022-02-12T12:01:58.821Z"
   },
   {
    "duration": 19,
    "start_time": "2022-02-12T12:01:58.844Z"
   },
   {
    "duration": 25,
    "start_time": "2022-02-12T12:01:58.865Z"
   },
   {
    "duration": 32,
    "start_time": "2022-02-12T12:01:58.892Z"
   },
   {
    "duration": 12,
    "start_time": "2022-02-12T12:01:58.926Z"
   },
   {
    "duration": 14,
    "start_time": "2022-02-12T12:01:58.941Z"
   },
   {
    "duration": 15,
    "start_time": "2022-02-12T12:01:58.957Z"
   },
   {
    "duration": 11,
    "start_time": "2022-02-12T12:01:58.974Z"
   },
   {
    "duration": 23,
    "start_time": "2022-02-12T12:01:58.987Z"
   },
   {
    "duration": 26,
    "start_time": "2022-02-12T12:01:59.012Z"
   },
   {
    "duration": 13,
    "start_time": "2022-02-12T12:01:59.039Z"
   },
   {
    "duration": 21,
    "start_time": "2022-02-12T12:01:59.054Z"
   },
   {
    "duration": 22,
    "start_time": "2022-02-12T12:01:59.077Z"
   },
   {
    "duration": 25,
    "start_time": "2022-02-12T12:01:59.100Z"
   },
   {
    "duration": 12,
    "start_time": "2022-02-12T12:01:59.127Z"
   },
   {
    "duration": 13,
    "start_time": "2022-02-12T12:01:59.141Z"
   },
   {
    "duration": 17,
    "start_time": "2022-02-12T12:01:59.155Z"
   },
   {
    "duration": 34,
    "start_time": "2022-02-12T12:01:59.173Z"
   },
   {
    "duration": 12,
    "start_time": "2022-02-12T12:01:59.209Z"
   },
   {
    "duration": 13,
    "start_time": "2022-02-12T12:01:59.223Z"
   },
   {
    "duration": 4,
    "start_time": "2022-02-12T12:02:03.713Z"
   },
   {
    "duration": 83,
    "start_time": "2022-02-12T12:02:06.217Z"
   },
   {
    "duration": 8,
    "start_time": "2022-02-12T12:02:17.327Z"
   },
   {
    "duration": 22,
    "start_time": "2022-02-12T12:02:25.315Z"
   },
   {
    "duration": 2,
    "start_time": "2022-02-12T12:04:14.932Z"
   },
   {
    "duration": 252,
    "start_time": "2022-02-12T12:08:42.724Z"
   },
   {
    "duration": 374,
    "start_time": "2022-02-12T12:16:56.117Z"
   },
   {
    "duration": 4,
    "start_time": "2022-02-12T12:17:00.549Z"
   },
   {
    "duration": 51,
    "start_time": "2022-02-12T12:17:00.555Z"
   },
   {
    "duration": 15,
    "start_time": "2022-02-12T12:17:00.608Z"
   },
   {
    "duration": 9,
    "start_time": "2022-02-12T12:17:00.625Z"
   },
   {
    "duration": 14,
    "start_time": "2022-02-12T12:17:00.636Z"
   },
   {
    "duration": 10,
    "start_time": "2022-02-12T12:17:00.651Z"
   },
   {
    "duration": 19,
    "start_time": "2022-02-12T12:17:00.663Z"
   },
   {
    "duration": 18,
    "start_time": "2022-02-12T12:17:00.684Z"
   },
   {
    "duration": 16,
    "start_time": "2022-02-12T12:17:00.705Z"
   },
   {
    "duration": 11,
    "start_time": "2022-02-12T12:17:00.723Z"
   },
   {
    "duration": 14,
    "start_time": "2022-02-12T12:17:00.735Z"
   },
   {
    "duration": 17,
    "start_time": "2022-02-12T12:17:00.751Z"
   },
   {
    "duration": 18,
    "start_time": "2022-02-12T12:17:00.770Z"
   },
   {
    "duration": 9,
    "start_time": "2022-02-12T12:17:00.790Z"
   },
   {
    "duration": 14,
    "start_time": "2022-02-12T12:17:00.802Z"
   },
   {
    "duration": 12,
    "start_time": "2022-02-12T12:17:00.818Z"
   },
   {
    "duration": 18,
    "start_time": "2022-02-12T12:17:00.832Z"
   },
   {
    "duration": 16,
    "start_time": "2022-02-12T12:17:00.852Z"
   },
   {
    "duration": 15,
    "start_time": "2022-02-12T12:17:00.869Z"
   },
   {
    "duration": 15,
    "start_time": "2022-02-12T12:17:00.886Z"
   },
   {
    "duration": 14,
    "start_time": "2022-02-12T12:17:00.902Z"
   },
   {
    "duration": 19,
    "start_time": "2022-02-12T12:17:00.918Z"
   },
   {
    "duration": 13,
    "start_time": "2022-02-12T12:17:00.940Z"
   },
   {
    "duration": 27,
    "start_time": "2022-02-12T12:17:00.955Z"
   },
   {
    "duration": 18,
    "start_time": "2022-02-12T12:17:00.984Z"
   },
   {
    "duration": 35,
    "start_time": "2022-02-12T12:17:01.004Z"
   },
   {
    "duration": 5,
    "start_time": "2022-02-12T12:17:01.041Z"
   },
   {
    "duration": 16,
    "start_time": "2022-02-12T12:17:01.048Z"
   },
   {
    "duration": 283,
    "start_time": "2022-02-12T12:17:01.065Z"
   },
   {
    "duration": 5,
    "start_time": "2022-02-12T12:17:01.350Z"
   },
   {
    "duration": 26,
    "start_time": "2022-02-12T12:17:01.356Z"
   },
   {
    "duration": 329,
    "start_time": "2022-02-12T12:17:01.384Z"
   },
   {
    "duration": 289,
    "start_time": "2022-02-12T12:17:07.973Z"
   },
   {
    "duration": 6900,
    "start_time": "2022-02-12T12:17:23.725Z"
   },
   {
    "duration": 3,
    "start_time": "2022-02-12T12:17:38.780Z"
   },
   {
    "duration": 27,
    "start_time": "2022-02-12T12:17:43.461Z"
   },
   {
    "duration": 12,
    "start_time": "2022-02-12T12:17:45.151Z"
   },
   {
    "duration": 10,
    "start_time": "2022-02-12T12:17:50.621Z"
   },
   {
    "duration": 11,
    "start_time": "2022-02-12T12:19:08.685Z"
   },
   {
    "duration": 5,
    "start_time": "2022-02-12T12:19:22.255Z"
   },
   {
    "duration": 35,
    "start_time": "2022-02-12T12:19:22.262Z"
   },
   {
    "duration": 14,
    "start_time": "2022-02-12T12:19:22.300Z"
   },
   {
    "duration": 7,
    "start_time": "2022-02-12T12:19:22.316Z"
   },
   {
    "duration": 7,
    "start_time": "2022-02-12T12:19:22.325Z"
   },
   {
    "duration": 5,
    "start_time": "2022-02-12T12:19:22.334Z"
   },
   {
    "duration": 57,
    "start_time": "2022-02-12T12:19:22.342Z"
   },
   {
    "duration": 5,
    "start_time": "2022-02-12T12:19:22.402Z"
   },
   {
    "duration": 14,
    "start_time": "2022-02-12T12:19:22.409Z"
   },
   {
    "duration": 10,
    "start_time": "2022-02-12T12:19:22.425Z"
   },
   {
    "duration": 9,
    "start_time": "2022-02-12T12:19:22.436Z"
   },
   {
    "duration": 10,
    "start_time": "2022-02-12T12:19:22.447Z"
   },
   {
    "duration": 17,
    "start_time": "2022-02-12T12:19:22.459Z"
   },
   {
    "duration": 3,
    "start_time": "2022-02-12T12:19:22.477Z"
   },
   {
    "duration": 6,
    "start_time": "2022-02-12T12:19:22.499Z"
   },
   {
    "duration": 8,
    "start_time": "2022-02-12T12:19:22.507Z"
   },
   {
    "duration": 13,
    "start_time": "2022-02-12T12:19:22.517Z"
   },
   {
    "duration": 6,
    "start_time": "2022-02-12T12:19:22.532Z"
   },
   {
    "duration": 6,
    "start_time": "2022-02-12T12:19:22.542Z"
   },
   {
    "duration": 6,
    "start_time": "2022-02-12T12:19:22.550Z"
   },
   {
    "duration": 5,
    "start_time": "2022-02-12T12:19:22.558Z"
   },
   {
    "duration": 6,
    "start_time": "2022-02-12T12:19:22.565Z"
   },
   {
    "duration": 5,
    "start_time": "2022-02-12T12:19:22.599Z"
   },
   {
    "duration": 7,
    "start_time": "2022-02-12T12:19:22.606Z"
   },
   {
    "duration": 13,
    "start_time": "2022-02-12T12:19:22.615Z"
   },
   {
    "duration": 24,
    "start_time": "2022-02-12T12:19:22.630Z"
   },
   {
    "duration": 5,
    "start_time": "2022-02-12T12:19:22.655Z"
   },
   {
    "duration": 38,
    "start_time": "2022-02-12T12:19:22.662Z"
   },
   {
    "duration": 264,
    "start_time": "2022-02-12T12:19:22.702Z"
   },
   {
    "duration": 4,
    "start_time": "2022-02-12T12:19:22.968Z"
   },
   {
    "duration": 24,
    "start_time": "2022-02-12T12:19:22.974Z"
   },
   {
    "duration": 309,
    "start_time": "2022-02-12T12:19:23.000Z"
   },
   {
    "duration": 7090,
    "start_time": "2022-02-12T12:19:23.311Z"
   },
   {
    "duration": 3,
    "start_time": "2022-02-12T12:19:30.403Z"
   },
   {
    "duration": 33,
    "start_time": "2022-02-12T12:19:30.407Z"
   },
   {
    "duration": 157,
    "start_time": "2022-02-12T12:19:30.442Z"
   },
   {
    "duration": 9,
    "start_time": "2022-02-12T12:19:30.601Z"
   },
   {
    "duration": 192,
    "start_time": "2022-02-12T12:19:30.613Z"
   },
   {
    "duration": 51,
    "start_time": "2022-02-12T12:19:30.807Z"
   },
   {
    "duration": 142,
    "start_time": "2022-02-12T12:19:30.859Z"
   },
   {
    "duration": 9,
    "start_time": "2022-02-12T12:23:51.871Z"
   },
   {
    "duration": 45,
    "start_time": "2022-02-12T12:24:06.093Z"
   },
   {
    "duration": 69,
    "start_time": "2022-02-12T12:24:13.830Z"
   }
  ],
  "colab": {
   "collapsed_sections": [],
   "name": "2.2. Отток клиентов.ipynb",
   "provenance": []
  },
  "kernelspec": {
   "display_name": "Python 3",
   "language": "python",
   "name": "python3"
  },
  "language_info": {
   "codemirror_mode": {
    "name": "ipython",
    "version": 3
   },
   "file_extension": ".py",
   "mimetype": "text/x-python",
   "name": "python",
   "nbconvert_exporter": "python",
   "pygments_lexer": "ipython3",
   "version": "3.7.4"
  },
  "toc": {
   "base_numbering": 1,
   "nav_menu": {},
   "number_sections": true,
   "sideBar": true,
   "skip_h1_title": true,
   "title_cell": "Table of Contents",
   "title_sidebar": "Contents",
   "toc_cell": true,
   "toc_position": {
    "height": "calc(100% - 180px)",
    "left": "10px",
    "top": "150px",
    "width": "307.2px"
   },
   "toc_section_display": true,
   "toc_window_display": true
  }
 },
 "nbformat": 4,
 "nbformat_minor": 1
}
