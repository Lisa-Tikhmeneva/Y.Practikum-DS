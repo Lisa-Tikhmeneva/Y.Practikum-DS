{
 "cells": [
  {
   "cell_type": "markdown",
   "metadata": {
    "toc": true
   },
   "source": [
    "<h1>Table of Contents<span class=\"tocSkip\"></span></h1>\n",
    "<div class=\"toc\"><ul class=\"toc-item\"><li><span><a href=\"#Подготовка-данных\" data-toc-modified-id=\"Подготовка-данных-1\"><span class=\"toc-item-num\">1&nbsp;&nbsp;</span>Подготовка данных</a></span></li><li><span><a href=\"#Обучение-моделей\" data-toc-modified-id=\"Обучение-моделей-2\"><span class=\"toc-item-num\">2&nbsp;&nbsp;</span>Обучение моделей</a></span><ul class=\"toc-item\"><li><span><a href=\"#Линейная-регессия\" data-toc-modified-id=\"Линейная-регессия-2.1\"><span class=\"toc-item-num\">2.1&nbsp;&nbsp;</span>Линейная регессия</a></span></li><li><span><a href=\"#Градиентный-бустинг-catboost\" data-toc-modified-id=\"Градиентный-бустинг-catboost-2.2\"><span class=\"toc-item-num\">2.2&nbsp;&nbsp;</span>Градиентный бустинг catboost</a></span></li><li><span><a href=\"#LightGBM-для-регрессии\" data-toc-modified-id=\"LightGBM-для-регрессии-2.3\"><span class=\"toc-item-num\">2.3&nbsp;&nbsp;</span>LightGBM для регрессии</a></span></li></ul></li><li><span><a href=\"#Анализ-моделей\" data-toc-modified-id=\"Анализ-моделей-3\"><span class=\"toc-item-num\">3&nbsp;&nbsp;</span>Анализ моделей</a></span></li><li><span><a href=\"#Вывод\" data-toc-modified-id=\"Вывод-4\"><span class=\"toc-item-num\">4&nbsp;&nbsp;</span>Вывод</a></span></li></ul></div>"
   ]
  },
  {
   "cell_type": "markdown",
   "metadata": {
    "id": "u87VAPezjTjk"
   },
   "source": [
    "# Определение стоимости автомобилей"
   ]
  },
  {
   "cell_type": "markdown",
   "metadata": {
    "id": "tF6Llp0QjTow"
   },
   "source": [
    "Сервис по продаже автомобилей с пробегом создаёт приложение для привлечения новых клиентов. В нём можно будет быстро узнать стоимость своего автомобиля.\n",
    "\n",
    "У нас есть исторические данные: технические характеристики, комплектации и цены автомобилей. Необходимо построить модель для определения стоимости. \n",
    "\n",
    "Заказчику важны:\n",
    "\n",
    "- качество предсказания;\n",
    "- скорость предсказания;\n",
    "- время обучения."
   ]
  },
  {
   "cell_type": "markdown",
   "metadata": {
    "id": "JykEDkSAjTs4"
   },
   "source": [
    "## Подготовка данных"
   ]
  },
  {
   "cell_type": "code",
   "execution_count": 1,
   "metadata": {
    "id": "TWUvyjDX2HZd"
   },
   "outputs": [],
   "source": [
    "import pandas as pd\n",
    "import numpy as np\n",
    "from numpy.random import RandomState\n",
    "\n",
    "import time\n",
    "\n",
    "from catboost import CatBoostRegressor\n",
    "import lightgbm as lgb\n",
    "\n",
    "from sklearn.model_selection import train_test_split\n",
    "from sklearn.model_selection import GridSearchCV\n",
    "from sklearn.preprocessing import StandardScaler\n",
    "from sklearn.preprocessing import OneHotEncoder\n",
    "from sklearn.linear_model import LinearRegression \n",
    "from sklearn.metrics import mean_squared_error\n",
    "\n",
    "import seaborn as sns\n",
    "import matplotlib.pyplot as plt \n",
    "from IPython.display import display"
   ]
  },
  {
   "cell_type": "code",
   "execution_count": 157,
   "metadata": {
    "id": "tsyreQWEjyFX"
   },
   "outputs": [],
   "source": [
    "df = pd.read_csv('/datasets/autos.csv')"
   ]
  },
  {
   "cell_type": "code",
   "execution_count": 158,
   "metadata": {
    "id": "6UiYHfsOjyJ3"
   },
   "outputs": [],
   "source": [
    "def describe_df (df):\n",
    "  display(df.head(5))\n",
    "  print()\n",
    "  print('Проверим наличие явных дубликатов: ')\n",
    "  print('Явных дубликатов: ', df.duplicated().sum())\n",
    "  print()\n",
    "  print('Посмотрим, какое количество пропусков в таблице: ')\n",
    "  print(df.isna().sum())\n",
    "  print()\n",
    "  print('Выведем информацию о типах данных: ')\n",
    "  print()  \n",
    "  print(df.dtypes)\n",
    "  print('Количество строк в таблице: ', len(df))"
   ]
  },
  {
   "cell_type": "code",
   "execution_count": 159,
   "metadata": {
    "colab": {
     "base_uri": "https://localhost:8080/",
     "height": 1000
    },
    "id": "Co3exbkOjyNv",
    "outputId": "1fd1fcb3-cb02-4717-bb74-b7d83cc3fdfd"
   },
   "outputs": [
    {
     "data": {
      "text/html": [
       "<div>\n",
       "<style scoped>\n",
       "    .dataframe tbody tr th:only-of-type {\n",
       "        vertical-align: middle;\n",
       "    }\n",
       "\n",
       "    .dataframe tbody tr th {\n",
       "        vertical-align: top;\n",
       "    }\n",
       "\n",
       "    .dataframe thead th {\n",
       "        text-align: right;\n",
       "    }\n",
       "</style>\n",
       "<table border=\"1\" class=\"dataframe\">\n",
       "  <thead>\n",
       "    <tr style=\"text-align: right;\">\n",
       "      <th></th>\n",
       "      <th>DateCrawled</th>\n",
       "      <th>Price</th>\n",
       "      <th>VehicleType</th>\n",
       "      <th>RegistrationYear</th>\n",
       "      <th>Gearbox</th>\n",
       "      <th>Power</th>\n",
       "      <th>Model</th>\n",
       "      <th>Kilometer</th>\n",
       "      <th>RegistrationMonth</th>\n",
       "      <th>FuelType</th>\n",
       "      <th>Brand</th>\n",
       "      <th>NotRepaired</th>\n",
       "      <th>DateCreated</th>\n",
       "      <th>NumberOfPictures</th>\n",
       "      <th>PostalCode</th>\n",
       "      <th>LastSeen</th>\n",
       "    </tr>\n",
       "  </thead>\n",
       "  <tbody>\n",
       "    <tr>\n",
       "      <th>0</th>\n",
       "      <td>2016-03-24 11:52:17</td>\n",
       "      <td>480</td>\n",
       "      <td>NaN</td>\n",
       "      <td>1993</td>\n",
       "      <td>manual</td>\n",
       "      <td>0</td>\n",
       "      <td>golf</td>\n",
       "      <td>150000</td>\n",
       "      <td>0</td>\n",
       "      <td>petrol</td>\n",
       "      <td>volkswagen</td>\n",
       "      <td>NaN</td>\n",
       "      <td>2016-03-24 00:00:00</td>\n",
       "      <td>0</td>\n",
       "      <td>70435</td>\n",
       "      <td>2016-04-07 03:16:57</td>\n",
       "    </tr>\n",
       "    <tr>\n",
       "      <th>1</th>\n",
       "      <td>2016-03-24 10:58:45</td>\n",
       "      <td>18300</td>\n",
       "      <td>coupe</td>\n",
       "      <td>2011</td>\n",
       "      <td>manual</td>\n",
       "      <td>190</td>\n",
       "      <td>NaN</td>\n",
       "      <td>125000</td>\n",
       "      <td>5</td>\n",
       "      <td>gasoline</td>\n",
       "      <td>audi</td>\n",
       "      <td>yes</td>\n",
       "      <td>2016-03-24 00:00:00</td>\n",
       "      <td>0</td>\n",
       "      <td>66954</td>\n",
       "      <td>2016-04-07 01:46:50</td>\n",
       "    </tr>\n",
       "    <tr>\n",
       "      <th>2</th>\n",
       "      <td>2016-03-14 12:52:21</td>\n",
       "      <td>9800</td>\n",
       "      <td>suv</td>\n",
       "      <td>2004</td>\n",
       "      <td>auto</td>\n",
       "      <td>163</td>\n",
       "      <td>grand</td>\n",
       "      <td>125000</td>\n",
       "      <td>8</td>\n",
       "      <td>gasoline</td>\n",
       "      <td>jeep</td>\n",
       "      <td>NaN</td>\n",
       "      <td>2016-03-14 00:00:00</td>\n",
       "      <td>0</td>\n",
       "      <td>90480</td>\n",
       "      <td>2016-04-05 12:47:46</td>\n",
       "    </tr>\n",
       "    <tr>\n",
       "      <th>3</th>\n",
       "      <td>2016-03-17 16:54:04</td>\n",
       "      <td>1500</td>\n",
       "      <td>small</td>\n",
       "      <td>2001</td>\n",
       "      <td>manual</td>\n",
       "      <td>75</td>\n",
       "      <td>golf</td>\n",
       "      <td>150000</td>\n",
       "      <td>6</td>\n",
       "      <td>petrol</td>\n",
       "      <td>volkswagen</td>\n",
       "      <td>no</td>\n",
       "      <td>2016-03-17 00:00:00</td>\n",
       "      <td>0</td>\n",
       "      <td>91074</td>\n",
       "      <td>2016-03-17 17:40:17</td>\n",
       "    </tr>\n",
       "    <tr>\n",
       "      <th>4</th>\n",
       "      <td>2016-03-31 17:25:20</td>\n",
       "      <td>3600</td>\n",
       "      <td>small</td>\n",
       "      <td>2008</td>\n",
       "      <td>manual</td>\n",
       "      <td>69</td>\n",
       "      <td>fabia</td>\n",
       "      <td>90000</td>\n",
       "      <td>7</td>\n",
       "      <td>gasoline</td>\n",
       "      <td>skoda</td>\n",
       "      <td>no</td>\n",
       "      <td>2016-03-31 00:00:00</td>\n",
       "      <td>0</td>\n",
       "      <td>60437</td>\n",
       "      <td>2016-04-06 10:17:21</td>\n",
       "    </tr>\n",
       "  </tbody>\n",
       "</table>\n",
       "</div>"
      ],
      "text/plain": [
       "           DateCrawled  Price VehicleType  RegistrationYear Gearbox  Power  \\\n",
       "0  2016-03-24 11:52:17    480         NaN              1993  manual      0   \n",
       "1  2016-03-24 10:58:45  18300       coupe              2011  manual    190   \n",
       "2  2016-03-14 12:52:21   9800         suv              2004    auto    163   \n",
       "3  2016-03-17 16:54:04   1500       small              2001  manual     75   \n",
       "4  2016-03-31 17:25:20   3600       small              2008  manual     69   \n",
       "\n",
       "   Model  Kilometer  RegistrationMonth  FuelType       Brand NotRepaired  \\\n",
       "0   golf     150000                  0    petrol  volkswagen         NaN   \n",
       "1    NaN     125000                  5  gasoline        audi         yes   \n",
       "2  grand     125000                  8  gasoline        jeep         NaN   \n",
       "3   golf     150000                  6    petrol  volkswagen          no   \n",
       "4  fabia      90000                  7  gasoline       skoda          no   \n",
       "\n",
       "           DateCreated  NumberOfPictures  PostalCode             LastSeen  \n",
       "0  2016-03-24 00:00:00                 0       70435  2016-04-07 03:16:57  \n",
       "1  2016-03-24 00:00:00                 0       66954  2016-04-07 01:46:50  \n",
       "2  2016-03-14 00:00:00                 0       90480  2016-04-05 12:47:46  \n",
       "3  2016-03-17 00:00:00                 0       91074  2016-03-17 17:40:17  \n",
       "4  2016-03-31 00:00:00                 0       60437  2016-04-06 10:17:21  "
      ]
     },
     "metadata": {},
     "output_type": "display_data"
    },
    {
     "name": "stdout",
     "output_type": "stream",
     "text": [
      "\n",
      "Проверим наличие явных дубликатов: \n",
      "Явных дубликатов:  4\n",
      "\n",
      "Посмотрим, какое количество пропусков в таблице: \n",
      "DateCrawled              0\n",
      "Price                    0\n",
      "VehicleType          37490\n",
      "RegistrationYear         0\n",
      "Gearbox              19833\n",
      "Power                    0\n",
      "Model                19705\n",
      "Kilometer                0\n",
      "RegistrationMonth        0\n",
      "FuelType             32895\n",
      "Brand                    0\n",
      "NotRepaired          71154\n",
      "DateCreated              0\n",
      "NumberOfPictures         0\n",
      "PostalCode               0\n",
      "LastSeen                 0\n",
      "dtype: int64\n",
      "\n",
      "Выведем информацию о типах данных: \n",
      "\n",
      "DateCrawled          object\n",
      "Price                 int64\n",
      "VehicleType          object\n",
      "RegistrationYear      int64\n",
      "Gearbox              object\n",
      "Power                 int64\n",
      "Model                object\n",
      "Kilometer             int64\n",
      "RegistrationMonth     int64\n",
      "FuelType             object\n",
      "Brand                object\n",
      "NotRepaired          object\n",
      "DateCreated          object\n",
      "NumberOfPictures      int64\n",
      "PostalCode            int64\n",
      "LastSeen             object\n",
      "dtype: object\n",
      "Количество строк в таблице:  354369\n"
     ]
    }
   ],
   "source": [
    "describe_df (df)"
   ]
  },
  {
   "cell_type": "markdown",
   "metadata": {
    "id": "hmZEiVpfjyRF"
   },
   "source": [
    "Признаки: \n",
    "- DateCrawled - дата скачивания анкеты из базы\n",
    "- VehicleType - тип кузова автомобиля\n",
    "- RegistrationYear - год регистрации автомобиля\n",
    "- Gearbox - тип коробки передач\n",
    "- Power - мощность автомобиля\n",
    "- Model - модель автомобиля\n",
    "- Kilometer - пробег\n",
    "- RegistrationMonth - месяц регистрации автомобиля\n",
    "- FuelType - тип топлива\n",
    "- Brand - марка автомобиля\n",
    "- NotRepaired - не отремонтирован\n",
    "- DateCreated - дата создания анкеты\n",
    "- NumberOfPictures - количество фотографий в базе\n",
    "- PostalCode - код места, где происходит продажа автомобиля\n",
    "- LastSeen - последний просмотр\n",
    "\n",
    "Целевой признак: \n",
    "- Price - цена автомобиля\n",
    "\n",
    "В таблице есть пропуски, явные дубликаты. Дубликаты удалим. Убирать выбросы в данных некорректно, потому что в последствии модели не будут знать, что делать со странными выбросами в рабочих данных.\n",
    "\n",
    "Пропуски заполним.\n",
    "\n",
    "Типы столбцов выглядят адекватно.\n",
    "\n",
    "Удалим столбцы с временем  и кодом места, где происходит продажа автомобиля."
   ]
  },
  {
   "cell_type": "code",
   "execution_count": 160,
   "metadata": {
    "id": "oHSzJKfoSaAo"
   },
   "outputs": [],
   "source": [
    "df = df.drop_duplicates()"
   ]
  },
  {
   "cell_type": "code",
   "execution_count": 161,
   "metadata": {
    "colab": {
     "base_uri": "https://localhost:8080/"
    },
    "id": "2Zu16jp7SaFa",
    "outputId": "302f8327-079a-4a32-e0a6-3e08be1893b1"
   },
   "outputs": [
    {
     "data": {
      "text/plain": [
       "0"
      ]
     },
     "execution_count": 161,
     "metadata": {},
     "output_type": "execute_result"
    }
   ],
   "source": [
    "df.duplicated().sum()"
   ]
  },
  {
   "cell_type": "markdown",
   "metadata": {},
   "source": [
    "Перед удалением признака 'DateCrawled', посмотрим на его значения, потому что по дате скачивания анкеты из базы можно судить о годе регистрации автомобиля."
   ]
  },
  {
   "cell_type": "code",
   "execution_count": 163,
   "metadata": {},
   "outputs": [
    {
     "data": {
      "text/plain": [
       "2016-03-24 14:49:47    7\n",
       "2016-03-19 21:49:56    6\n",
       "2016-03-26 22:57:31    6\n",
       "2016-03-22 10:42:10    5\n",
       "2016-03-07 17:36:19    5\n",
       "                      ..\n",
       "2016-03-21 19:58:52    1\n",
       "2016-03-28 14:58:17    1\n",
       "2016-04-04 13:59:43    1\n",
       "2016-03-28 17:52:14    1\n",
       "2016-04-01 17:38:41    1\n",
       "Name: DateCrawled, Length: 271174, dtype: int64"
      ]
     },
     "execution_count": 163,
     "metadata": {},
     "output_type": "execute_result"
    }
   ],
   "source": [
    "df['DateCrawled'].value_counts()"
   ]
  },
  {
   "cell_type": "code",
   "execution_count": 164,
   "metadata": {},
   "outputs": [
    {
     "data": {
      "text/plain": [
       "'2016-04-07 14:36:58'"
      ]
     },
     "execution_count": 164,
     "metadata": {},
     "output_type": "execute_result"
    }
   ],
   "source": [
    "df['DateCrawled'].max()"
   ]
  },
  {
   "cell_type": "markdown",
   "metadata": {},
   "source": [
    "Самая последняя дата в данных это дата из 2016го года. Получается, автомобилей года выпуска 2017-2022 в базе быть не может."
   ]
  },
  {
   "cell_type": "code",
   "execution_count": 165,
   "metadata": {},
   "outputs": [],
   "source": [
    "df = df.drop(['DateCrawled','DateCreated','PostalCode','LastSeen'],axis=1)"
   ]
  },
  {
   "cell_type": "markdown",
   "metadata": {
    "id": "NsLGt2bMp-4s"
   },
   "source": [
    "**Обработаем пропуски:**"
   ]
  },
  {
   "cell_type": "markdown",
   "metadata": {
    "id": "5fQPE2xkpBIM"
   },
   "source": [
    "Признак `Model`\n",
    "\n",
    "В данном столбце нет возможности корректнозаполнить пропуски. удалим строки с пропусками."
   ]
  },
  {
   "cell_type": "code",
   "execution_count": 166,
   "metadata": {
    "id": "gJn0aHqFpBCT"
   },
   "outputs": [],
   "source": [
    "df = df.loc[~df['Model'].isna()]"
   ]
  },
  {
   "cell_type": "markdown",
   "metadata": {},
   "source": [
    "Признаки `VehicleType`, `Gearbox`, `FuelType`\n",
    "\n",
    "Данные параметры c большой вероятностью одинаковы в одинаковых моделях автомобилей. Заполним пропуски в данных признаках наиболее частым значением той же модели."
   ]
  },
  {
   "cell_type": "code",
   "execution_count": 167,
   "metadata": {
    "colab": {
     "base_uri": "https://localhost:8080/",
     "height": 206
    },
    "id": "KJgb6RtGUgrF",
    "outputId": "d1ac3f35-6c9e-45dd-9465-cc19f8e11051",
    "scrolled": false
   },
   "outputs": [
    {
     "data": {
      "text/html": [
       "<div>\n",
       "<style scoped>\n",
       "    .dataframe tbody tr th:only-of-type {\n",
       "        vertical-align: middle;\n",
       "    }\n",
       "\n",
       "    .dataframe tbody tr th {\n",
       "        vertical-align: top;\n",
       "    }\n",
       "\n",
       "    .dataframe thead th {\n",
       "        text-align: right;\n",
       "    }\n",
       "</style>\n",
       "<table border=\"1\" class=\"dataframe\">\n",
       "  <thead>\n",
       "    <tr style=\"text-align: right;\">\n",
       "      <th></th>\n",
       "      <th>Price</th>\n",
       "      <th>VehicleType</th>\n",
       "      <th>RegistrationYear</th>\n",
       "      <th>Gearbox</th>\n",
       "      <th>Power</th>\n",
       "      <th>Model</th>\n",
       "      <th>Kilometer</th>\n",
       "      <th>RegistrationMonth</th>\n",
       "      <th>FuelType</th>\n",
       "      <th>Brand</th>\n",
       "      <th>NotRepaired</th>\n",
       "      <th>NumberOfPictures</th>\n",
       "    </tr>\n",
       "  </thead>\n",
       "  <tbody>\n",
       "    <tr>\n",
       "      <th>0</th>\n",
       "      <td>480</td>\n",
       "      <td>NaN</td>\n",
       "      <td>1993</td>\n",
       "      <td>manual</td>\n",
       "      <td>0</td>\n",
       "      <td>golf</td>\n",
       "      <td>150000</td>\n",
       "      <td>0</td>\n",
       "      <td>petrol</td>\n",
       "      <td>volkswagen</td>\n",
       "      <td>NaN</td>\n",
       "      <td>0</td>\n",
       "    </tr>\n",
       "    <tr>\n",
       "      <th>16</th>\n",
       "      <td>300</td>\n",
       "      <td>NaN</td>\n",
       "      <td>2016</td>\n",
       "      <td>NaN</td>\n",
       "      <td>60</td>\n",
       "      <td>polo</td>\n",
       "      <td>150000</td>\n",
       "      <td>0</td>\n",
       "      <td>petrol</td>\n",
       "      <td>volkswagen</td>\n",
       "      <td>NaN</td>\n",
       "      <td>0</td>\n",
       "    </tr>\n",
       "    <tr>\n",
       "      <th>22</th>\n",
       "      <td>2900</td>\n",
       "      <td>NaN</td>\n",
       "      <td>2018</td>\n",
       "      <td>manual</td>\n",
       "      <td>90</td>\n",
       "      <td>meriva</td>\n",
       "      <td>150000</td>\n",
       "      <td>5</td>\n",
       "      <td>petrol</td>\n",
       "      <td>opel</td>\n",
       "      <td>no</td>\n",
       "      <td>0</td>\n",
       "    </tr>\n",
       "    <tr>\n",
       "      <th>26</th>\n",
       "      <td>5555</td>\n",
       "      <td>NaN</td>\n",
       "      <td>2017</td>\n",
       "      <td>manual</td>\n",
       "      <td>125</td>\n",
       "      <td>c4</td>\n",
       "      <td>125000</td>\n",
       "      <td>4</td>\n",
       "      <td>NaN</td>\n",
       "      <td>citroen</td>\n",
       "      <td>no</td>\n",
       "      <td>0</td>\n",
       "    </tr>\n",
       "    <tr>\n",
       "      <th>31</th>\n",
       "      <td>899</td>\n",
       "      <td>NaN</td>\n",
       "      <td>2016</td>\n",
       "      <td>manual</td>\n",
       "      <td>60</td>\n",
       "      <td>clio</td>\n",
       "      <td>150000</td>\n",
       "      <td>6</td>\n",
       "      <td>petrol</td>\n",
       "      <td>renault</td>\n",
       "      <td>NaN</td>\n",
       "      <td>0</td>\n",
       "    </tr>\n",
       "  </tbody>\n",
       "</table>\n",
       "</div>"
      ],
      "text/plain": [
       "    Price VehicleType  RegistrationYear Gearbox  Power   Model  Kilometer  \\\n",
       "0     480         NaN              1993  manual      0    golf     150000   \n",
       "16    300         NaN              2016     NaN     60    polo     150000   \n",
       "22   2900         NaN              2018  manual     90  meriva     150000   \n",
       "26   5555         NaN              2017  manual    125      c4     125000   \n",
       "31    899         NaN              2016  manual     60    clio     150000   \n",
       "\n",
       "    RegistrationMonth FuelType       Brand NotRepaired  NumberOfPictures  \n",
       "0                   0   petrol  volkswagen         NaN                 0  \n",
       "16                  0   petrol  volkswagen         NaN                 0  \n",
       "22                  5   petrol        opel          no                 0  \n",
       "26                  4      NaN     citroen          no                 0  \n",
       "31                  6   petrol     renault         NaN                 0  "
      ]
     },
     "execution_count": 167,
     "metadata": {},
     "output_type": "execute_result"
    }
   ],
   "source": [
    "df.loc[df['VehicleType'].isna()].head()"
   ]
  },
  {
   "cell_type": "markdown",
   "metadata": {
    "id": "AXb41GFQVfyr"
   },
   "source": [
    "Заполним пропуски согласно марке автомобиля"
   ]
  },
  {
   "cell_type": "code",
   "execution_count": 168,
   "metadata": {
    "id": "HKonD9O-F-mm",
    "scrolled": true
   },
   "outputs": [],
   "source": [
    "df['VehicleType'] = df['VehicleType'].fillna(df.groupby('Model')['VehicleType']\n",
    "                                             .transform(lambda x: x.value_counts().idxmax())\n",
    "                                             )"
   ]
  },
  {
   "cell_type": "code",
   "execution_count": 169,
   "metadata": {
    "colab": {
     "base_uri": "https://localhost:8080/",
     "height": 206
    },
    "id": "jsQ-35aiVnEy",
    "outputId": "19827404-83aa-4d1b-def8-d96247aacc13"
   },
   "outputs": [
    {
     "data": {
      "text/html": [
       "<div>\n",
       "<style scoped>\n",
       "    .dataframe tbody tr th:only-of-type {\n",
       "        vertical-align: middle;\n",
       "    }\n",
       "\n",
       "    .dataframe tbody tr th {\n",
       "        vertical-align: top;\n",
       "    }\n",
       "\n",
       "    .dataframe thead th {\n",
       "        text-align: right;\n",
       "    }\n",
       "</style>\n",
       "<table border=\"1\" class=\"dataframe\">\n",
       "  <thead>\n",
       "    <tr style=\"text-align: right;\">\n",
       "      <th></th>\n",
       "      <th>Price</th>\n",
       "      <th>VehicleType</th>\n",
       "      <th>RegistrationYear</th>\n",
       "      <th>Gearbox</th>\n",
       "      <th>Power</th>\n",
       "      <th>Model</th>\n",
       "      <th>Kilometer</th>\n",
       "      <th>RegistrationMonth</th>\n",
       "      <th>FuelType</th>\n",
       "      <th>Brand</th>\n",
       "      <th>NotRepaired</th>\n",
       "      <th>NumberOfPictures</th>\n",
       "    </tr>\n",
       "  </thead>\n",
       "  <tbody>\n",
       "    <tr>\n",
       "      <th>15</th>\n",
       "      <td>450</td>\n",
       "      <td>small</td>\n",
       "      <td>1910</td>\n",
       "      <td>NaN</td>\n",
       "      <td>0</td>\n",
       "      <td>ka</td>\n",
       "      <td>5000</td>\n",
       "      <td>0</td>\n",
       "      <td>petrol</td>\n",
       "      <td>ford</td>\n",
       "      <td>NaN</td>\n",
       "      <td>0</td>\n",
       "    </tr>\n",
       "    <tr>\n",
       "      <th>16</th>\n",
       "      <td>300</td>\n",
       "      <td>small</td>\n",
       "      <td>2016</td>\n",
       "      <td>NaN</td>\n",
       "      <td>60</td>\n",
       "      <td>polo</td>\n",
       "      <td>150000</td>\n",
       "      <td>0</td>\n",
       "      <td>petrol</td>\n",
       "      <td>volkswagen</td>\n",
       "      <td>NaN</td>\n",
       "      <td>0</td>\n",
       "    </tr>\n",
       "    <tr>\n",
       "      <th>32</th>\n",
       "      <td>245</td>\n",
       "      <td>sedan</td>\n",
       "      <td>1994</td>\n",
       "      <td>NaN</td>\n",
       "      <td>0</td>\n",
       "      <td>golf</td>\n",
       "      <td>150000</td>\n",
       "      <td>2</td>\n",
       "      <td>petrol</td>\n",
       "      <td>volkswagen</td>\n",
       "      <td>no</td>\n",
       "      <td>0</td>\n",
       "    </tr>\n",
       "    <tr>\n",
       "      <th>37</th>\n",
       "      <td>1500</td>\n",
       "      <td>bus</td>\n",
       "      <td>2016</td>\n",
       "      <td>NaN</td>\n",
       "      <td>0</td>\n",
       "      <td>kangoo</td>\n",
       "      <td>150000</td>\n",
       "      <td>1</td>\n",
       "      <td>gasoline</td>\n",
       "      <td>renault</td>\n",
       "      <td>no</td>\n",
       "      <td>0</td>\n",
       "    </tr>\n",
       "    <tr>\n",
       "      <th>40</th>\n",
       "      <td>0</td>\n",
       "      <td>small</td>\n",
       "      <td>1990</td>\n",
       "      <td>NaN</td>\n",
       "      <td>0</td>\n",
       "      <td>corsa</td>\n",
       "      <td>150000</td>\n",
       "      <td>1</td>\n",
       "      <td>petrol</td>\n",
       "      <td>opel</td>\n",
       "      <td>NaN</td>\n",
       "      <td>0</td>\n",
       "    </tr>\n",
       "  </tbody>\n",
       "</table>\n",
       "</div>"
      ],
      "text/plain": [
       "    Price VehicleType  RegistrationYear Gearbox  Power   Model  Kilometer  \\\n",
       "15    450       small              1910     NaN      0      ka       5000   \n",
       "16    300       small              2016     NaN     60    polo     150000   \n",
       "32    245       sedan              1994     NaN      0    golf     150000   \n",
       "37   1500         bus              2016     NaN      0  kangoo     150000   \n",
       "40      0       small              1990     NaN      0   corsa     150000   \n",
       "\n",
       "    RegistrationMonth  FuelType       Brand NotRepaired  NumberOfPictures  \n",
       "15                  0    petrol        ford         NaN                 0  \n",
       "16                  0    petrol  volkswagen         NaN                 0  \n",
       "32                  2    petrol  volkswagen          no                 0  \n",
       "37                  1  gasoline     renault          no                 0  \n",
       "40                  1    petrol        opel         NaN                 0  "
      ]
     },
     "execution_count": 169,
     "metadata": {},
     "output_type": "execute_result"
    }
   ],
   "source": [
    "df.loc[df['Gearbox'].isna()].head()"
   ]
  },
  {
   "cell_type": "markdown",
   "metadata": {
    "id": "_9tt23alJt9H"
   },
   "source": [
    "Заполним пропуски согласно марке автомобиля"
   ]
  },
  {
   "cell_type": "code",
   "execution_count": 170,
   "metadata": {
    "id": "oF9qyLiNJt9I"
   },
   "outputs": [],
   "source": [
    "df['Gearbox'] = df['Gearbox'].fillna(df.groupby('Model')['Gearbox']\n",
    "                                             .transform(lambda x: x.value_counts().idxmax())\n",
    "                                             )"
   ]
  },
  {
   "cell_type": "code",
   "execution_count": 171,
   "metadata": {
    "colab": {
     "base_uri": "https://localhost:8080/",
     "height": 206
    },
    "id": "q6neje8dVnRT",
    "outputId": "be57198b-153f-45ac-ba29-79782a328012"
   },
   "outputs": [
    {
     "data": {
      "text/html": [
       "<div>\n",
       "<style scoped>\n",
       "    .dataframe tbody tr th:only-of-type {\n",
       "        vertical-align: middle;\n",
       "    }\n",
       "\n",
       "    .dataframe tbody tr th {\n",
       "        vertical-align: top;\n",
       "    }\n",
       "\n",
       "    .dataframe thead th {\n",
       "        text-align: right;\n",
       "    }\n",
       "</style>\n",
       "<table border=\"1\" class=\"dataframe\">\n",
       "  <thead>\n",
       "    <tr style=\"text-align: right;\">\n",
       "      <th></th>\n",
       "      <th>Price</th>\n",
       "      <th>VehicleType</th>\n",
       "      <th>RegistrationYear</th>\n",
       "      <th>Gearbox</th>\n",
       "      <th>Power</th>\n",
       "      <th>Model</th>\n",
       "      <th>Kilometer</th>\n",
       "      <th>RegistrationMonth</th>\n",
       "      <th>FuelType</th>\n",
       "      <th>Brand</th>\n",
       "      <th>NotRepaired</th>\n",
       "      <th>NumberOfPictures</th>\n",
       "    </tr>\n",
       "  </thead>\n",
       "  <tbody>\n",
       "    <tr>\n",
       "      <th>9</th>\n",
       "      <td>999</td>\n",
       "      <td>small</td>\n",
       "      <td>1998</td>\n",
       "      <td>manual</td>\n",
       "      <td>101</td>\n",
       "      <td>golf</td>\n",
       "      <td>150000</td>\n",
       "      <td>0</td>\n",
       "      <td>NaN</td>\n",
       "      <td>volkswagen</td>\n",
       "      <td>NaN</td>\n",
       "      <td>0</td>\n",
       "    </tr>\n",
       "    <tr>\n",
       "      <th>13</th>\n",
       "      <td>2500</td>\n",
       "      <td>wagon</td>\n",
       "      <td>2004</td>\n",
       "      <td>manual</td>\n",
       "      <td>131</td>\n",
       "      <td>passat</td>\n",
       "      <td>150000</td>\n",
       "      <td>2</td>\n",
       "      <td>NaN</td>\n",
       "      <td>volkswagen</td>\n",
       "      <td>no</td>\n",
       "      <td>0</td>\n",
       "    </tr>\n",
       "    <tr>\n",
       "      <th>26</th>\n",
       "      <td>5555</td>\n",
       "      <td>sedan</td>\n",
       "      <td>2017</td>\n",
       "      <td>manual</td>\n",
       "      <td>125</td>\n",
       "      <td>c4</td>\n",
       "      <td>125000</td>\n",
       "      <td>4</td>\n",
       "      <td>NaN</td>\n",
       "      <td>citroen</td>\n",
       "      <td>no</td>\n",
       "      <td>0</td>\n",
       "    </tr>\n",
       "    <tr>\n",
       "      <th>36</th>\n",
       "      <td>1600</td>\n",
       "      <td>other</td>\n",
       "      <td>1991</td>\n",
       "      <td>manual</td>\n",
       "      <td>75</td>\n",
       "      <td>kadett</td>\n",
       "      <td>70000</td>\n",
       "      <td>0</td>\n",
       "      <td>NaN</td>\n",
       "      <td>opel</td>\n",
       "      <td>NaN</td>\n",
       "      <td>0</td>\n",
       "    </tr>\n",
       "    <tr>\n",
       "      <th>41</th>\n",
       "      <td>7500</td>\n",
       "      <td>sedan</td>\n",
       "      <td>2002</td>\n",
       "      <td>auto</td>\n",
       "      <td>306</td>\n",
       "      <td>e_klasse</td>\n",
       "      <td>150000</td>\n",
       "      <td>4</td>\n",
       "      <td>NaN</td>\n",
       "      <td>mercedes_benz</td>\n",
       "      <td>NaN</td>\n",
       "      <td>0</td>\n",
       "    </tr>\n",
       "  </tbody>\n",
       "</table>\n",
       "</div>"
      ],
      "text/plain": [
       "    Price VehicleType  RegistrationYear Gearbox  Power     Model  Kilometer  \\\n",
       "9     999       small              1998  manual    101      golf     150000   \n",
       "13   2500       wagon              2004  manual    131    passat     150000   \n",
       "26   5555       sedan              2017  manual    125        c4     125000   \n",
       "36   1600       other              1991  manual     75    kadett      70000   \n",
       "41   7500       sedan              2002    auto    306  e_klasse     150000   \n",
       "\n",
       "    RegistrationMonth FuelType          Brand NotRepaired  NumberOfPictures  \n",
       "9                   0      NaN     volkswagen         NaN                 0  \n",
       "13                  2      NaN     volkswagen          no                 0  \n",
       "26                  4      NaN        citroen          no                 0  \n",
       "36                  0      NaN           opel         NaN                 0  \n",
       "41                  4      NaN  mercedes_benz         NaN                 0  "
      ]
     },
     "execution_count": 171,
     "metadata": {},
     "output_type": "execute_result"
    }
   ],
   "source": [
    "df.loc[df['FuelType'].isna()].head()"
   ]
  },
  {
   "cell_type": "markdown",
   "metadata": {
    "id": "I2U95jzGKB-m"
   },
   "source": [
    "Заполним пропуски согласно марке автомобиля"
   ]
  },
  {
   "cell_type": "code",
   "execution_count": 172,
   "metadata": {
    "id": "2Bb2BHtmKB-n"
   },
   "outputs": [],
   "source": [
    "df['FuelType'] = df['FuelType'].fillna(df.groupby('Model')['Gearbox']\n",
    "                                             .transform(lambda x: x.value_counts().idxmax())\n",
    "                                             )"
   ]
  },
  {
   "cell_type": "markdown",
   "metadata": {
    "id": "jy1al1H8n8F7"
   },
   "source": [
    "Признак `NotRepaired` заменим на \"no info\"."
   ]
  },
  {
   "cell_type": "code",
   "execution_count": 173,
   "metadata": {
    "id": "23KGQCi8VnYD"
   },
   "outputs": [],
   "source": [
    "df['NotRepaired'] = df['NotRepaired'].fillna('no info')"
   ]
  },
  {
   "cell_type": "markdown",
   "metadata": {
    "id": "8nDayBY0pA77"
   },
   "source": [
    "Теперь в таблице нет пропусков!"
   ]
  },
  {
   "cell_type": "code",
   "execution_count": 174,
   "metadata": {
    "colab": {
     "base_uri": "https://localhost:8080/"
    },
    "id": "3JQibU6upnq8",
    "outputId": "48cc1554-e76e-4ed6-bab9-ae0090f393cf"
   },
   "outputs": [
    {
     "data": {
      "text/plain": [
       "Price                0\n",
       "VehicleType          0\n",
       "RegistrationYear     0\n",
       "Gearbox              0\n",
       "Power                0\n",
       "Model                0\n",
       "Kilometer            0\n",
       "RegistrationMonth    0\n",
       "FuelType             0\n",
       "Brand                0\n",
       "NotRepaired          0\n",
       "NumberOfPictures     0\n",
       "dtype: int64"
      ]
     },
     "execution_count": 174,
     "metadata": {},
     "output_type": "execute_result"
    }
   ],
   "source": [
    "df.isna().sum()"
   ]
  },
  {
   "cell_type": "markdown",
   "metadata": {
    "id": "vkG3GehRo2-8"
   },
   "source": [
    "Признак `Price`"
   ]
  },
  {
   "cell_type": "code",
   "execution_count": 175,
   "metadata": {
    "colab": {
     "base_uri": "https://localhost:8080/",
     "height": 316
    },
    "id": "KqMp-F0Qpzm8",
    "outputId": "39cd2928-f48f-4746-8f4c-5ce026502d68"
   },
   "outputs": [
    {
     "data": {
      "text/plain": [
       "array([[<AxesSubplot:title={'center':'Price'}>]], dtype=object)"
      ]
     },
     "execution_count": 175,
     "metadata": {},
     "output_type": "execute_result"
    },
    {
     "data": {
      "image/png": "[encoded data removed]",
      "text/plain": [
       "<Figure size 432x288 with 1 Axes>"
      ]
     },
     "metadata": {
      "needs_background": "light"
     },
     "output_type": "display_data"
    }
   ],
   "source": [
    "df.hist(column='Price', bins=30)  "
   ]
  },
  {
   "cell_type": "code",
   "execution_count": 176,
   "metadata": {
    "colab": {
     "base_uri": "https://localhost:8080/"
    },
    "id": "Cf_0A_-Hpzm-",
    "outputId": "e912927a-34c1-4d55-f8f4-41c6f9f90634"
   },
   "outputs": [
    {
     "data": {
      "text/plain": [
       "8588"
      ]
     },
     "execution_count": 176,
     "metadata": {},
     "output_type": "execute_result"
    }
   ],
   "source": [
    "df.loc[df['Price'] == 0].count()['Price']"
   ]
  },
  {
   "cell_type": "markdown",
   "metadata": {
    "id": "naJhbP76pzm_"
   },
   "source": [
    "В таблице присутствуют девять тысяч строк с ценой авотмобиля равной нулю. Такие данные можно считать выбросом, возможно пользователи не указали цену при отправки объявления в базу. Удалим эти строки из таблицы."
   ]
  },
  {
   "cell_type": "code",
   "execution_count": 177,
   "metadata": {
    "id": "1pDy2ZJUp810"
   },
   "outputs": [],
   "source": [
    "df = df.loc[df['Price'] > 0]"
   ]
  },
  {
   "cell_type": "markdown",
   "metadata": {},
   "source": [
    "В машины стоимостью меньше 400 евро тоже не верится, удалим такие строки"
   ]
  },
  {
   "cell_type": "code",
   "execution_count": 178,
   "metadata": {},
   "outputs": [
    {
     "data": {
      "text/plain": [
       "17010"
      ]
     },
     "execution_count": 178,
     "metadata": {},
     "output_type": "execute_result"
    }
   ],
   "source": [
    "df.loc[df['Price'] < 400].count()['Price']"
   ]
  },
  {
   "cell_type": "markdown",
   "metadata": {},
   "source": [
    "Ещё 17 тысяч строк с подозрительной ценой."
   ]
  },
  {
   "cell_type": "code",
   "execution_count": 179,
   "metadata": {},
   "outputs": [],
   "source": [
    "df = df.loc[df['Price'] > 400]"
   ]
  },
  {
   "cell_type": "markdown",
   "metadata": {
    "id": "9KIIevbRqHCo"
   },
   "source": [
    "Признак `Power`"
   ]
  },
  {
   "cell_type": "code",
   "execution_count": 180,
   "metadata": {
    "colab": {
     "base_uri": "https://localhost:8080/",
     "height": 316
    },
    "id": "W2hA3bk3qSUu",
    "outputId": "09285a28-58f7-48b5-f62f-b69882961469"
   },
   "outputs": [
    {
     "data": {
      "text/plain": [
       "array([[<AxesSubplot:title={'center':'Power'}>]], dtype=object)"
      ]
     },
     "execution_count": 180,
     "metadata": {},
     "output_type": "execute_result"
    },
    {
     "data": {
      "image/png": "[encoded data removed]",
      "text/plain": [
       "<Figure size 432x288 with 1 Axes>"
      ]
     },
     "metadata": {
      "needs_background": "light"
     },
     "output_type": "display_data"
    }
   ],
   "source": [
    "df.hist(column='Power', bins=30) "
   ]
  },
  {
   "cell_type": "markdown",
   "metadata": {
    "id": "-fze_rM1qSUv"
   },
   "source": [
    "Скорее всего в данных нет автомобилей с мощностью более 600 л.с. \n",
    "Удалим выбросы. Также удалим строки, где мощность равна нулю."
   ]
  },
  {
   "cell_type": "code",
   "execution_count": 181,
   "metadata": {
    "id": "7dW2as0KqSUw"
   },
   "outputs": [],
   "source": [
    "df = df.loc[df['Power'] < 600]"
   ]
  },
  {
   "cell_type": "code",
   "execution_count": 182,
   "metadata": {
    "id": "nGhNQoZ9qSUx"
   },
   "outputs": [],
   "source": [
    "df = df.loc[df['Power'] != 0]"
   ]
  },
  {
   "cell_type": "code",
   "execution_count": 183,
   "metadata": {
    "colab": {
     "base_uri": "https://localhost:8080/",
     "height": 316
    },
    "id": "L1iLCUeDqSUx",
    "outputId": "d9b7834f-6e82-46d7-9648-1047131997ce"
   },
   "outputs": [
    {
     "data": {
      "text/plain": [
       "array([[<AxesSubplot:title={'center':'Power'}>]], dtype=object)"
      ]
     },
     "execution_count": 183,
     "metadata": {},
     "output_type": "execute_result"
    },
    {
     "data": {
      "image/png": "[encoded data removed]",
      "text/plain": [
       "<Figure size 432x288 with 1 Axes>"
      ]
     },
     "metadata": {
      "needs_background": "light"
     },
     "output_type": "display_data"
    }
   ],
   "source": [
    "df.hist(column='Power', bins=30) "
   ]
  },
  {
   "cell_type": "markdown",
   "metadata": {
    "id": "6wcZak7HrJYX"
   },
   "source": [
    "Количество строк в таблице после предобработки:"
   ]
  },
  {
   "cell_type": "code",
   "execution_count": 184,
   "metadata": {
    "colab": {
     "base_uri": "https://localhost:8080/"
    },
    "id": "Wzem4qZvrFb-",
    "outputId": "cc94b940-405b-4e75-a165-a7e0088e464a"
   },
   "outputs": [
    {
     "data": {
      "text/plain": [
       "280853"
      ]
     },
     "execution_count": 184,
     "metadata": {},
     "output_type": "execute_result"
    }
   ],
   "source": [
    "len(df)"
   ]
  },
  {
   "cell_type": "markdown",
   "metadata": {},
   "source": [
    "Признак `RegistrationYear`"
   ]
  },
  {
   "cell_type": "code",
   "execution_count": 185,
   "metadata": {},
   "outputs": [
    {
     "data": {
      "text/plain": [
       "array([[<AxesSubplot:title={'center':'RegistrationYear'}>]], dtype=object)"
      ]
     },
     "execution_count": 185,
     "metadata": {},
     "output_type": "execute_result"
    },
    {
     "data": {
      "image/png": "[encoded data removed]",
      "text/plain": [
       "<Figure size 432x288 with 1 Axes>"
      ]
     },
     "metadata": {
      "needs_background": "light"
     },
     "output_type": "display_data"
    }
   ],
   "source": [
    "df.hist(column='RegistrationYear', bins=30) "
   ]
  },
  {
   "cell_type": "markdown",
   "metadata": {},
   "source": [
    "Гистограмма выгляди так, как будто у нас есть выбросы как за 2016й год, так и выбросы около нуля. Вряд ли в базе есть подержанные автомобили с годом выпуска менее 1950го года. Также в базе не может быть автомобилей с годом выпуска позднее 2016го.\n",
    "\n",
    "Удалим выбросы:"
   ]
  },
  {
   "cell_type": "code",
   "execution_count": 186,
   "metadata": {},
   "outputs": [],
   "source": [
    "df = df.loc[df['RegistrationYear'] < 2017]"
   ]
  },
  {
   "cell_type": "code",
   "execution_count": 187,
   "metadata": {},
   "outputs": [],
   "source": [
    "df = df.loc[df['RegistrationYear'] > 1950]"
   ]
  },
  {
   "cell_type": "code",
   "execution_count": 188,
   "metadata": {},
   "outputs": [
    {
     "data": {
      "text/plain": [
       "array([[<AxesSubplot:title={'center':'RegistrationYear'}>]], dtype=object)"
      ]
     },
     "execution_count": 188,
     "metadata": {},
     "output_type": "execute_result"
    },
    {
     "data": {
      "image/png": "[encoded data removed]",
      "text/plain": [
       "<Figure size 432x288 with 1 Axes>"
      ]
     },
     "metadata": {
      "needs_background": "light"
     },
     "output_type": "display_data"
    }
   ],
   "source": [
    "df.hist(column='RegistrationYear', bins=30) "
   ]
  },
  {
   "cell_type": "markdown",
   "metadata": {
    "id": "aH9ftFfTjTvn"
   },
   "source": [
    "## Обучение моделей"
   ]
  },
  {
   "cell_type": "markdown",
   "metadata": {
    "id": "FEJISrRL3kpY"
   },
   "source": [
    "### Линейная регессия"
   ]
  },
  {
   "cell_type": "markdown",
   "metadata": {
    "id": "SosdPgY1W5Yb"
   },
   "source": [
    "Чтобы обучить модель линейной регрессии необходимо закодировать категориальные переменные. \n",
    "Воспользуемся прямым кодированием One-Hot Encoding."
   ]
  },
  {
   "cell_type": "markdown",
   "metadata": {
    "id": "0DvAsP1JUgvV"
   },
   "source": [
    "Разобьём данные на категориальные и числовые:"
   ]
  },
  {
   "cell_type": "code",
   "execution_count": 189,
   "metadata": {
    "id": "RhX-xbGPSpYx"
   },
   "outputs": [],
   "source": [
    "columns = df.columns"
   ]
  },
  {
   "cell_type": "code",
   "execution_count": 190,
   "metadata": {
    "colab": {
     "base_uri": "https://localhost:8080/"
    },
    "id": "vYr57kaxSukY",
    "outputId": "75baa384-9042-4358-f9df-615223a68c47"
   },
   "outputs": [
    {
     "data": {
      "text/plain": [
       "Index(['Price', 'VehicleType', 'RegistrationYear', 'Gearbox', 'Power', 'Model',\n",
       "       'Kilometer', 'RegistrationMonth', 'FuelType', 'Brand', 'NotRepaired',\n",
       "       'NumberOfPictures'],\n",
       "      dtype='object')"
      ]
     },
     "execution_count": 190,
     "metadata": {},
     "output_type": "execute_result"
    }
   ],
   "source": [
    "columns"
   ]
  },
  {
   "cell_type": "code",
   "execution_count": 191,
   "metadata": {
    "colab": {
     "base_uri": "https://localhost:8080/"
    },
    "id": "FqeX6TQupPGN",
    "outputId": "c8d42e86-02e8-479a-9931-f24a7ed33c1c"
   },
   "outputs": [
    {
     "data": {
      "text/plain": [
       "Price                 int64\n",
       "VehicleType          object\n",
       "RegistrationYear      int64\n",
       "Gearbox              object\n",
       "Power                 int64\n",
       "Model                object\n",
       "Kilometer             int64\n",
       "RegistrationMonth     int64\n",
       "FuelType             object\n",
       "Brand                object\n",
       "NotRepaired          object\n",
       "NumberOfPictures      int64\n",
       "dtype: object"
      ]
     },
     "execution_count": 191,
     "metadata": {},
     "output_type": "execute_result"
    }
   ],
   "source": [
    "df[columns].dtypes"
   ]
  },
  {
   "cell_type": "markdown",
   "metadata": {
    "id": "_XZdZEDTpQhY"
   },
   "source": [
    "Разделим столбцы на категориальные и числовые признаки"
   ]
  },
  {
   "cell_type": "code",
   "execution_count": 192,
   "metadata": {
    "id": "shVxrGcnpaVX"
   },
   "outputs": [],
   "source": [
    "cols_num = df[columns].select_dtypes(include='int64').columns"
   ]
  },
  {
   "cell_type": "code",
   "execution_count": 193,
   "metadata": {
    "id": "DmK18BmspvbU"
   },
   "outputs": [],
   "source": [
    "cols_cat = df[columns].select_dtypes(exclude='int64').columns"
   ]
  },
  {
   "cell_type": "code",
   "execution_count": 194,
   "metadata": {
    "colab": {
     "base_uri": "https://localhost:8080/"
    },
    "id": "ofAJeMX2qFgR",
    "outputId": "1992eaf2-90c0-4e9d-d721-0806ccf25683"
   },
   "outputs": [
    {
     "data": {
      "text/plain": [
       "Index(['Price', 'RegistrationYear', 'Power', 'Kilometer', 'RegistrationMonth',\n",
       "       'NumberOfPictures'],\n",
       "      dtype='object')"
      ]
     },
     "execution_count": 194,
     "metadata": {},
     "output_type": "execute_result"
    }
   ],
   "source": [
    "cols_num"
   ]
  },
  {
   "cell_type": "code",
   "execution_count": 195,
   "metadata": {
    "colab": {
     "base_uri": "https://localhost:8080/"
    },
    "id": "YfZIx-91qG0C",
    "outputId": "166a2d72-dbc5-42d8-8c02-7b16432e0263"
   },
   "outputs": [
    {
     "data": {
      "text/plain": [
       "Index(['VehicleType', 'Gearbox', 'Model', 'FuelType', 'Brand', 'NotRepaired'], dtype='object')"
      ]
     },
     "execution_count": 195,
     "metadata": {},
     "output_type": "execute_result"
    }
   ],
   "source": [
    "cols_cat"
   ]
  },
  {
   "cell_type": "code",
   "execution_count": 196,
   "metadata": {
    "id": "NvoQTBzj336V"
   },
   "outputs": [],
   "source": [
    "data_ohe = pd.get_dummies(df[columns], drop_first=True)"
   ]
  },
  {
   "cell_type": "code",
   "execution_count": 197,
   "metadata": {
    "colab": {
     "base_uri": "https://localhost:8080/",
     "height": 317
    },
    "id": "8dHQjoA04x1w",
    "outputId": "1d968dce-89f7-4398-edfc-8b22d77a60a3"
   },
   "outputs": [
    {
     "data": {
      "text/html": [
       "<div>\n",
       "<style scoped>\n",
       "    .dataframe tbody tr th:only-of-type {\n",
       "        vertical-align: middle;\n",
       "    }\n",
       "\n",
       "    .dataframe tbody tr th {\n",
       "        vertical-align: top;\n",
       "    }\n",
       "\n",
       "    .dataframe thead th {\n",
       "        text-align: right;\n",
       "    }\n",
       "</style>\n",
       "<table border=\"1\" class=\"dataframe\">\n",
       "  <thead>\n",
       "    <tr style=\"text-align: right;\">\n",
       "      <th></th>\n",
       "      <th>Price</th>\n",
       "      <th>RegistrationYear</th>\n",
       "      <th>Power</th>\n",
       "      <th>Kilometer</th>\n",
       "      <th>RegistrationMonth</th>\n",
       "      <th>NumberOfPictures</th>\n",
       "      <th>VehicleType_convertible</th>\n",
       "      <th>VehicleType_coupe</th>\n",
       "      <th>VehicleType_other</th>\n",
       "      <th>VehicleType_sedan</th>\n",
       "      <th>...</th>\n",
       "      <th>Brand_skoda</th>\n",
       "      <th>Brand_smart</th>\n",
       "      <th>Brand_subaru</th>\n",
       "      <th>Brand_suzuki</th>\n",
       "      <th>Brand_toyota</th>\n",
       "      <th>Brand_trabant</th>\n",
       "      <th>Brand_volkswagen</th>\n",
       "      <th>Brand_volvo</th>\n",
       "      <th>NotRepaired_no info</th>\n",
       "      <th>NotRepaired_yes</th>\n",
       "    </tr>\n",
       "  </thead>\n",
       "  <tbody>\n",
       "    <tr>\n",
       "      <th>2</th>\n",
       "      <td>9800</td>\n",
       "      <td>2004</td>\n",
       "      <td>163</td>\n",
       "      <td>125000</td>\n",
       "      <td>8</td>\n",
       "      <td>0</td>\n",
       "      <td>0</td>\n",
       "      <td>0</td>\n",
       "      <td>0</td>\n",
       "      <td>0</td>\n",
       "      <td>...</td>\n",
       "      <td>0</td>\n",
       "      <td>0</td>\n",
       "      <td>0</td>\n",
       "      <td>0</td>\n",
       "      <td>0</td>\n",
       "      <td>0</td>\n",
       "      <td>0</td>\n",
       "      <td>0</td>\n",
       "      <td>1</td>\n",
       "      <td>0</td>\n",
       "    </tr>\n",
       "    <tr>\n",
       "      <th>3</th>\n",
       "      <td>1500</td>\n",
       "      <td>2001</td>\n",
       "      <td>75</td>\n",
       "      <td>150000</td>\n",
       "      <td>6</td>\n",
       "      <td>0</td>\n",
       "      <td>0</td>\n",
       "      <td>0</td>\n",
       "      <td>0</td>\n",
       "      <td>0</td>\n",
       "      <td>...</td>\n",
       "      <td>0</td>\n",
       "      <td>0</td>\n",
       "      <td>0</td>\n",
       "      <td>0</td>\n",
       "      <td>0</td>\n",
       "      <td>0</td>\n",
       "      <td>1</td>\n",
       "      <td>0</td>\n",
       "      <td>0</td>\n",
       "      <td>0</td>\n",
       "    </tr>\n",
       "    <tr>\n",
       "      <th>4</th>\n",
       "      <td>3600</td>\n",
       "      <td>2008</td>\n",
       "      <td>69</td>\n",
       "      <td>90000</td>\n",
       "      <td>7</td>\n",
       "      <td>0</td>\n",
       "      <td>0</td>\n",
       "      <td>0</td>\n",
       "      <td>0</td>\n",
       "      <td>0</td>\n",
       "      <td>...</td>\n",
       "      <td>1</td>\n",
       "      <td>0</td>\n",
       "      <td>0</td>\n",
       "      <td>0</td>\n",
       "      <td>0</td>\n",
       "      <td>0</td>\n",
       "      <td>0</td>\n",
       "      <td>0</td>\n",
       "      <td>0</td>\n",
       "      <td>0</td>\n",
       "    </tr>\n",
       "    <tr>\n",
       "      <th>5</th>\n",
       "      <td>650</td>\n",
       "      <td>1995</td>\n",
       "      <td>102</td>\n",
       "      <td>150000</td>\n",
       "      <td>10</td>\n",
       "      <td>0</td>\n",
       "      <td>0</td>\n",
       "      <td>0</td>\n",
       "      <td>0</td>\n",
       "      <td>1</td>\n",
       "      <td>...</td>\n",
       "      <td>0</td>\n",
       "      <td>0</td>\n",
       "      <td>0</td>\n",
       "      <td>0</td>\n",
       "      <td>0</td>\n",
       "      <td>0</td>\n",
       "      <td>0</td>\n",
       "      <td>0</td>\n",
       "      <td>0</td>\n",
       "      <td>1</td>\n",
       "    </tr>\n",
       "    <tr>\n",
       "      <th>6</th>\n",
       "      <td>2200</td>\n",
       "      <td>2004</td>\n",
       "      <td>109</td>\n",
       "      <td>150000</td>\n",
       "      <td>8</td>\n",
       "      <td>0</td>\n",
       "      <td>1</td>\n",
       "      <td>0</td>\n",
       "      <td>0</td>\n",
       "      <td>0</td>\n",
       "      <td>...</td>\n",
       "      <td>0</td>\n",
       "      <td>0</td>\n",
       "      <td>0</td>\n",
       "      <td>0</td>\n",
       "      <td>0</td>\n",
       "      <td>0</td>\n",
       "      <td>0</td>\n",
       "      <td>0</td>\n",
       "      <td>0</td>\n",
       "      <td>0</td>\n",
       "    </tr>\n",
       "  </tbody>\n",
       "</table>\n",
       "<p>5 rows × 310 columns</p>\n",
       "</div>"
      ],
      "text/plain": [
       "   Price  RegistrationYear  Power  Kilometer  RegistrationMonth  \\\n",
       "2   9800              2004    163     125000                  8   \n",
       "3   1500              2001     75     150000                  6   \n",
       "4   3600              2008     69      90000                  7   \n",
       "5    650              1995    102     150000                 10   \n",
       "6   2200              2004    109     150000                  8   \n",
       "\n",
       "   NumberOfPictures  VehicleType_convertible  VehicleType_coupe  \\\n",
       "2                 0                        0                  0   \n",
       "3                 0                        0                  0   \n",
       "4                 0                        0                  0   \n",
       "5                 0                        0                  0   \n",
       "6                 0                        1                  0   \n",
       "\n",
       "   VehicleType_other  VehicleType_sedan  ...  Brand_skoda  Brand_smart  \\\n",
       "2                  0                  0  ...            0            0   \n",
       "3                  0                  0  ...            0            0   \n",
       "4                  0                  0  ...            1            0   \n",
       "5                  0                  1  ...            0            0   \n",
       "6                  0                  0  ...            0            0   \n",
       "\n",
       "   Brand_subaru  Brand_suzuki  Brand_toyota  Brand_trabant  Brand_volkswagen  \\\n",
       "2             0             0             0              0                 0   \n",
       "3             0             0             0              0                 1   \n",
       "4             0             0             0              0                 0   \n",
       "5             0             0             0              0                 0   \n",
       "6             0             0             0              0                 0   \n",
       "\n",
       "   Brand_volvo  NotRepaired_no info  NotRepaired_yes  \n",
       "2            0                    1                0  \n",
       "3            0                    0                0  \n",
       "4            0                    0                0  \n",
       "5            0                    0                1  \n",
       "6            0                    0                0  \n",
       "\n",
       "[5 rows x 310 columns]"
      ]
     },
     "execution_count": 197,
     "metadata": {},
     "output_type": "execute_result"
    }
   ],
   "source": [
    "data_ohe.head(5)"
   ]
  },
  {
   "cell_type": "markdown",
   "metadata": {
    "id": "OYMoV7h-E0WT"
   },
   "source": [
    "Теперь необходимо разделить данные на выборки."
   ]
  },
  {
   "cell_type": "code",
   "execution_count": 198,
   "metadata": {
    "id": "NGwP9vhDI8V3"
   },
   "outputs": [],
   "source": [
    "def features_target_split (df):\n",
    "  \"\"\"\n",
    "  input:        df - датафрейм, который необходимо разделить\n",
    "\n",
    "  output:       features_train - тренировочные признаки\n",
    "                features_val - валидационные  признаки\n",
    "                features_test - тестовый признак\n",
    "\n",
    "                target_train - тренировочный целевой признак\n",
    "                target_val - валидационный целевой признак\n",
    "                target_test - тестовый целевой признак \n",
    "\n",
    "  description:  функция разбивает датафрекйм сначала на признаки и целевой признак, \n",
    "                потом делит выборки на тренировочные, валидационные и тестовые.\n",
    "                Выводит на экран размерность выборок.\n",
    "  \"\"\"\n",
    "  features = df.drop(['Price'], axis=1)\n",
    "  target = df['Price']\n",
    "\n",
    "  features_train, features_test, target_train, target_test = train_test_split(features, target, \n",
    "                                                                              test_size=0.4,random_state=42)\n",
    "  features_val, features_test, target_val, target_test = train_test_split(features_test, target_test, \n",
    "                                                                          test_size=0.5,random_state=42)\n",
    "\n",
    "\n",
    "  print('Для проверки посмотрим на размер выборок:')\n",
    "  print('features_train.shape: ', features_train.shape)\n",
    "  print('features_val.shape: ', features_val.shape)\n",
    "  print('features_test.shape: ', features_test.shape)\n",
    "  print()\n",
    "  print('target_train.shape: ', target_train.shape)\n",
    "  print('target_val.shape: ', target_val.shape)\n",
    "  print('target_test.shape: ', target_test.shape)\n",
    "\n",
    "  return features_train, features_val, features_test, target_train, target_val, target_test "
   ]
  },
  {
   "cell_type": "code",
   "execution_count": 199,
   "metadata": {
    "colab": {
     "base_uri": "https://localhost:8080/"
    },
    "id": "VWHDQSQFI8NF",
    "outputId": "959b1a2d-bcc8-43e1-8083-d3b9ec3be5f8"
   },
   "outputs": [
    {
     "name": "stdout",
     "output_type": "stream",
     "text": [
      "Для проверки посмотрим на размер выборок:\n",
      "features_train.shape:  (163246, 309)\n",
      "features_val.shape:  (54415, 309)\n",
      "features_test.shape:  (54416, 309)\n",
      "\n",
      "target_train.shape:  (163246,)\n",
      "target_val.shape:  (54415,)\n",
      "target_test.shape:  (54416,)\n"
     ]
    }
   ],
   "source": [
    "lin_features_train, lin_features_val, lin_features_test, lin_target_train, lin_target_val, lin_target_test = features_target_split (data_ohe)"
   ]
  },
  {
   "cell_type": "markdown",
   "metadata": {
    "id": "Gu8RcjRjtINd"
   },
   "source": [
    "Проведём масштабирование признаков  с помощью метода StandardScaler библиотеки sklearn. Будем масштабировать только количественные признаки:"
   ]
  },
  {
   "cell_type": "code",
   "execution_count": 200,
   "metadata": {
    "colab": {
     "base_uri": "https://localhost:8080/"
    },
    "id": "SLcUdNvHuz-9",
    "outputId": "f846f57d-8712-40f8-ff1c-9690083f95f1"
   },
   "outputs": [
    {
     "data": {
      "text/plain": [
       "Index(['Price', 'RegistrationYear', 'Power', 'Kilometer', 'RegistrationMonth',\n",
       "       'NumberOfPictures'],\n",
       "      dtype='object')"
      ]
     },
     "execution_count": 200,
     "metadata": {},
     "output_type": "execute_result"
    }
   ],
   "source": [
    "cols_num"
   ]
  },
  {
   "cell_type": "markdown",
   "metadata": {
    "id": "AJfx_PGV9-nn"
   },
   "source": [
    "Но только без атрибута цена."
   ]
  },
  {
   "cell_type": "code",
   "execution_count": 201,
   "metadata": {
    "id": "BcR2eyUru2Ec"
   },
   "outputs": [],
   "source": [
    "cols_num_X = ['RegistrationYear', 'Power', 'Kilometer', 'RegistrationMonth',\n",
    "       'NumberOfPictures']"
   ]
  },
  {
   "cell_type": "code",
   "execution_count": 202,
   "metadata": {
    "colab": {
     "base_uri": "https://localhost:8080/"
    },
    "id": "colv9_p6tIVA",
    "outputId": "418ffedb-26d6-40aa-da97-fc19d6887543"
   },
   "outputs": [
    {
     "data": {
      "text/plain": [
       "StandardScaler()"
      ]
     },
     "execution_count": 202,
     "metadata": {},
     "output_type": "execute_result"
    }
   ],
   "source": [
    "ss = StandardScaler()\n",
    "ss.fit(lin_features_train[cols_num_X])"
   ]
  },
  {
   "cell_type": "code",
   "execution_count": 203,
   "metadata": {
    "id": "S5tKNeFQtpv2"
   },
   "outputs": [],
   "source": [
    "lin_features_train[cols_num_X] = ss.transform(lin_features_train[cols_num_X])\n",
    "lin_features_val[cols_num_X] = ss.transform(lin_features_val[cols_num_X])\n",
    "lin_features_test[cols_num_X] =ss.transform(lin_features_test[cols_num_X])"
   ]
  },
  {
   "cell_type": "code",
   "execution_count": 204,
   "metadata": {
    "colab": {
     "base_uri": "https://localhost:8080/",
     "height": 317
    },
    "id": "H6v5Y74FuTUU",
    "outputId": "9c432dc8-b543-425b-b96c-1e5c1f23d249"
   },
   "outputs": [
    {
     "data": {
      "text/html": [
       "<div>\n",
       "<style scoped>\n",
       "    .dataframe tbody tr th:only-of-type {\n",
       "        vertical-align: middle;\n",
       "    }\n",
       "\n",
       "    .dataframe tbody tr th {\n",
       "        vertical-align: top;\n",
       "    }\n",
       "\n",
       "    .dataframe thead th {\n",
       "        text-align: right;\n",
       "    }\n",
       "</style>\n",
       "<table border=\"1\" class=\"dataframe\">\n",
       "  <thead>\n",
       "    <tr style=\"text-align: right;\">\n",
       "      <th></th>\n",
       "      <th>RegistrationYear</th>\n",
       "      <th>Power</th>\n",
       "      <th>Kilometer</th>\n",
       "      <th>RegistrationMonth</th>\n",
       "      <th>NumberOfPictures</th>\n",
       "      <th>VehicleType_convertible</th>\n",
       "      <th>VehicleType_coupe</th>\n",
       "      <th>VehicleType_other</th>\n",
       "      <th>VehicleType_sedan</th>\n",
       "      <th>VehicleType_small</th>\n",
       "      <th>...</th>\n",
       "      <th>Brand_skoda</th>\n",
       "      <th>Brand_smart</th>\n",
       "      <th>Brand_subaru</th>\n",
       "      <th>Brand_suzuki</th>\n",
       "      <th>Brand_toyota</th>\n",
       "      <th>Brand_trabant</th>\n",
       "      <th>Brand_volkswagen</th>\n",
       "      <th>Brand_volvo</th>\n",
       "      <th>NotRepaired_no info</th>\n",
       "      <th>NotRepaired_yes</th>\n",
       "    </tr>\n",
       "  </thead>\n",
       "  <tbody>\n",
       "    <tr>\n",
       "      <th>320818</th>\n",
       "      <td>-0.503275</td>\n",
       "      <td>0.043709</td>\n",
       "      <td>0.601779</td>\n",
       "      <td>-0.307996</td>\n",
       "      <td>0.0</td>\n",
       "      <td>0</td>\n",
       "      <td>0</td>\n",
       "      <td>0</td>\n",
       "      <td>0</td>\n",
       "      <td>0</td>\n",
       "      <td>...</td>\n",
       "      <td>0</td>\n",
       "      <td>0</td>\n",
       "      <td>0</td>\n",
       "      <td>0</td>\n",
       "      <td>0</td>\n",
       "      <td>0</td>\n",
       "      <td>0</td>\n",
       "      <td>0</td>\n",
       "      <td>0</td>\n",
       "      <td>0</td>\n",
       "    </tr>\n",
       "    <tr>\n",
       "      <th>155167</th>\n",
       "      <td>-0.183600</td>\n",
       "      <td>-1.360507</td>\n",
       "      <td>-0.080246</td>\n",
       "      <td>1.105404</td>\n",
       "      <td>0.0</td>\n",
       "      <td>0</td>\n",
       "      <td>0</td>\n",
       "      <td>0</td>\n",
       "      <td>0</td>\n",
       "      <td>1</td>\n",
       "      <td>...</td>\n",
       "      <td>0</td>\n",
       "      <td>0</td>\n",
       "      <td>0</td>\n",
       "      <td>0</td>\n",
       "      <td>0</td>\n",
       "      <td>0</td>\n",
       "      <td>0</td>\n",
       "      <td>0</td>\n",
       "      <td>0</td>\n",
       "      <td>0</td>\n",
       "    </tr>\n",
       "    <tr>\n",
       "      <th>141872</th>\n",
       "      <td>-0.183600</td>\n",
       "      <td>0.605395</td>\n",
       "      <td>0.601779</td>\n",
       "      <td>-1.156036</td>\n",
       "      <td>0.0</td>\n",
       "      <td>0</td>\n",
       "      <td>0</td>\n",
       "      <td>0</td>\n",
       "      <td>0</td>\n",
       "      <td>0</td>\n",
       "      <td>...</td>\n",
       "      <td>0</td>\n",
       "      <td>0</td>\n",
       "      <td>0</td>\n",
       "      <td>0</td>\n",
       "      <td>0</td>\n",
       "      <td>0</td>\n",
       "      <td>0</td>\n",
       "      <td>0</td>\n",
       "      <td>0</td>\n",
       "      <td>0</td>\n",
       "    </tr>\n",
       "    <tr>\n",
       "      <th>80197</th>\n",
       "      <td>-0.183600</td>\n",
       "      <td>0.511780</td>\n",
       "      <td>-0.080246</td>\n",
       "      <td>-0.873356</td>\n",
       "      <td>0.0</td>\n",
       "      <td>1</td>\n",
       "      <td>0</td>\n",
       "      <td>0</td>\n",
       "      <td>0</td>\n",
       "      <td>0</td>\n",
       "      <td>...</td>\n",
       "      <td>0</td>\n",
       "      <td>0</td>\n",
       "      <td>0</td>\n",
       "      <td>0</td>\n",
       "      <td>0</td>\n",
       "      <td>0</td>\n",
       "      <td>0</td>\n",
       "      <td>0</td>\n",
       "      <td>1</td>\n",
       "      <td>0</td>\n",
       "    </tr>\n",
       "    <tr>\n",
       "      <th>298412</th>\n",
       "      <td>-0.503275</td>\n",
       "      <td>-1.079664</td>\n",
       "      <td>-1.580700</td>\n",
       "      <td>-1.438716</td>\n",
       "      <td>0.0</td>\n",
       "      <td>0</td>\n",
       "      <td>0</td>\n",
       "      <td>0</td>\n",
       "      <td>0</td>\n",
       "      <td>1</td>\n",
       "      <td>...</td>\n",
       "      <td>0</td>\n",
       "      <td>0</td>\n",
       "      <td>0</td>\n",
       "      <td>0</td>\n",
       "      <td>0</td>\n",
       "      <td>0</td>\n",
       "      <td>0</td>\n",
       "      <td>0</td>\n",
       "      <td>0</td>\n",
       "      <td>0</td>\n",
       "    </tr>\n",
       "  </tbody>\n",
       "</table>\n",
       "<p>5 rows × 309 columns</p>\n",
       "</div>"
      ],
      "text/plain": [
       "        RegistrationYear     Power  Kilometer  RegistrationMonth  \\\n",
       "320818         -0.503275  0.043709   0.601779          -0.307996   \n",
       "155167         -0.183600 -1.360507  -0.080246           1.105404   \n",
       "141872         -0.183600  0.605395   0.601779          -1.156036   \n",
       "80197          -0.183600  0.511780  -0.080246          -0.873356   \n",
       "298412         -0.503275 -1.079664  -1.580700          -1.438716   \n",
       "\n",
       "        NumberOfPictures  VehicleType_convertible  VehicleType_coupe  \\\n",
       "320818               0.0                        0                  0   \n",
       "155167               0.0                        0                  0   \n",
       "141872               0.0                        0                  0   \n",
       "80197                0.0                        1                  0   \n",
       "298412               0.0                        0                  0   \n",
       "\n",
       "        VehicleType_other  VehicleType_sedan  VehicleType_small  ...  \\\n",
       "320818                  0                  0                  0  ...   \n",
       "155167                  0                  0                  1  ...   \n",
       "141872                  0                  0                  0  ...   \n",
       "80197                   0                  0                  0  ...   \n",
       "298412                  0                  0                  1  ...   \n",
       "\n",
       "        Brand_skoda  Brand_smart  Brand_subaru  Brand_suzuki  Brand_toyota  \\\n",
       "320818            0            0             0             0             0   \n",
       "155167            0            0             0             0             0   \n",
       "141872            0            0             0             0             0   \n",
       "80197             0            0             0             0             0   \n",
       "298412            0            0             0             0             0   \n",
       "\n",
       "        Brand_trabant  Brand_volkswagen  Brand_volvo  NotRepaired_no info  \\\n",
       "320818              0                 0            0                    0   \n",
       "155167              0                 0            0                    0   \n",
       "141872              0                 0            0                    0   \n",
       "80197               0                 0            0                    1   \n",
       "298412              0                 0            0                    0   \n",
       "\n",
       "        NotRepaired_yes  \n",
       "320818                0  \n",
       "155167                0  \n",
       "141872                0  \n",
       "80197                 0  \n",
       "298412                0  \n",
       "\n",
       "[5 rows x 309 columns]"
      ]
     },
     "execution_count": 204,
     "metadata": {},
     "output_type": "execute_result"
    }
   ],
   "source": [
    "lin_features_train.head(5)"
   ]
  },
  {
   "cell_type": "markdown",
   "metadata": {
    "id": "u3iMDsU--LhX"
   },
   "source": [
    "Значения больше и меньше единицы объясняются тем, что СКО=1, но значения могут выходить за единицу."
   ]
  },
  {
   "cell_type": "code",
   "execution_count": 205,
   "metadata": {
    "colab": {
     "base_uri": "https://localhost:8080/"
    },
    "id": "pf8fLbrM6X1v",
    "outputId": "c7d76f5a-6e93-4d05-b554-c8809d11ee66"
   },
   "outputs": [
    {
     "data": {
      "text/plain": [
       "count    1.632460e+05\n",
       "mean     7.965238e-17\n",
       "std      1.000003e+00\n",
       "min     -2.277928e+00\n",
       "25%     -7.613749e-01\n",
       "50%     -1.247973e-01\n",
       "75%      5.117804e-01\n",
       "max      8.637507e+00\n",
       "Name: Power, dtype: float64"
      ]
     },
     "execution_count": 205,
     "metadata": {},
     "output_type": "execute_result"
    }
   ],
   "source": [
    "lin_features_train['Power'].describe()"
   ]
  },
  {
   "cell_type": "markdown",
   "metadata": {
    "id": "0glmkWr8O0Y6"
   },
   "source": [
    "Создадим и обучим модель линейной регрессии.\n"
   ]
  },
  {
   "cell_type": "code",
   "execution_count": 206,
   "metadata": {
    "id": "lY7wPTG43tG1"
   },
   "outputs": [],
   "source": [
    "model_l = LinearRegression()"
   ]
  },
  {
   "cell_type": "code",
   "execution_count": 207,
   "metadata": {
    "colab": {
     "base_uri": "https://localhost:8080/"
    },
    "id": "IzzZCxaD3tNU",
    "outputId": "5f5fdc55-5406-4e91-dd3b-519f47c5238d"
   },
   "outputs": [
    {
     "name": "stdout",
     "output_type": "stream",
     "text": [
      "CPU times: user 14.9 s, sys: 7.39 s, total: 22.3 s\n",
      "Wall time: 22.3 s\n"
     ]
    }
   ],
   "source": [
    "%%time\n",
    "start_time = time.time()\n",
    "model_l.fit(lin_features_train, lin_target_train) \n",
    "learn_lin_time = (time.time() - start_time)"
   ]
  },
  {
   "cell_type": "markdown",
   "metadata": {
    "id": "XxqhvILwO7Ym"
   },
   "source": [
    "На тестовой выборке сделаем предсказание и посчитаем rmse для данной модели."
   ]
  },
  {
   "cell_type": "code",
   "execution_count": 208,
   "metadata": {
    "colab": {
     "base_uri": "https://localhost:8080/"
    },
    "id": "fX2QP6Tr3tSM",
    "outputId": "95c1abe3-c845-4f7f-afe9-9dc831092c6d"
   },
   "outputs": [
    {
     "name": "stdout",
     "output_type": "stream",
     "text": [
      "--- 0.19600677490234375 seconds ---\n",
      "CPU times: user 65.1 ms, sys: 118 ms, total: 183 ms\n",
      "Wall time: 198 ms\n"
     ]
    }
   ],
   "source": [
    "%%time\n",
    "start_time = time.time()\n",
    "\n",
    "lin_pred_test = model_l.predict(lin_features_test) \n",
    "\n",
    "print(\"--- %s seconds ---\" % (time.time() - start_time))\n",
    "pred_lin_time = (time.time() - start_time)"
   ]
  },
  {
   "cell_type": "code",
   "execution_count": 209,
   "metadata": {
    "colab": {
     "base_uri": "https://localhost:8080/"
    },
    "id": "5bNtYxweFwqt",
    "outputId": "429e4e9c-6f3b-472e-8e30-d41f28892b90"
   },
   "outputs": [
    {
     "data": {
      "text/plain": [
       "2562.315894338567"
      ]
     },
     "execution_count": 209,
     "metadata": {},
     "output_type": "execute_result"
    }
   ],
   "source": [
    "lin_rmse = mean_squared_error(lin_target_test, lin_pred_test)**(1/2)\n",
    "lin_rmse"
   ]
  },
  {
   "cell_type": "markdown",
   "metadata": {
    "id": "dSQbB924qjjf"
   },
   "source": [
    "### Градиентный бустинг catboost"
   ]
  },
  {
   "cell_type": "markdown",
   "metadata": {
    "id": "MPiePv4TrwwR"
   },
   "source": [
    "Разделим данные на тренировочную,валидационную и тестовую выборки. Оценим размер получившихся выборок."
   ]
  },
  {
   "cell_type": "code",
   "execution_count": 210,
   "metadata": {
    "id": "sfENV01NtVcR"
   },
   "outputs": [],
   "source": [
    "train, test = train_test_split(df,test_size=0.4,random_state=42)"
   ]
  },
  {
   "cell_type": "code",
   "execution_count": 211,
   "metadata": {
    "id": "pWj7jhaytm4R"
   },
   "outputs": [],
   "source": [
    "val, test = train_test_split(test,test_size=0.5,random_state=42)"
   ]
  },
  {
   "cell_type": "code",
   "execution_count": 212,
   "metadata": {
    "colab": {
     "base_uri": "https://localhost:8080/"
    },
    "id": "nFA6ROccbwS4",
    "outputId": "fe42f682-6741-46cd-cb4b-987b33481431"
   },
   "outputs": [
    {
     "data": {
      "text/plain": [
       "(163246, 12)"
      ]
     },
     "execution_count": 212,
     "metadata": {},
     "output_type": "execute_result"
    }
   ],
   "source": [
    "train.shape"
   ]
  },
  {
   "cell_type": "code",
   "execution_count": 213,
   "metadata": {
    "colab": {
     "base_uri": "https://localhost:8080/"
    },
    "id": "FmDVYAkBbwZv",
    "outputId": "c57d8a00-87c4-4ad7-e22a-d78405886c43"
   },
   "outputs": [
    {
     "data": {
      "text/plain": [
       "(54415, 12)"
      ]
     },
     "execution_count": 213,
     "metadata": {},
     "output_type": "execute_result"
    }
   ],
   "source": [
    "val.shape"
   ]
  },
  {
   "cell_type": "code",
   "execution_count": 214,
   "metadata": {
    "colab": {
     "base_uri": "https://localhost:8080/"
    },
    "id": "e6TB1N2Hbwfx",
    "outputId": "02275231-67c4-4264-a106-92381aa55fea"
   },
   "outputs": [
    {
     "data": {
      "text/plain": [
       "(54416, 12)"
      ]
     },
     "execution_count": 214,
     "metadata": {},
     "output_type": "execute_result"
    }
   ],
   "source": [
    "test.shape"
   ]
  },
  {
   "cell_type": "code",
   "execution_count": 215,
   "metadata": {
    "colab": {
     "base_uri": "https://localhost:8080/"
    },
    "id": "7ESISQv0t6Yp",
    "outputId": "7bc4c4e4-f326-45cc-c9c9-c742188d9d7c"
   },
   "outputs": [
    {
     "data": {
      "text/plain": [
       "Index(['Price', 'VehicleType', 'RegistrationYear', 'Gearbox', 'Power', 'Model',\n",
       "       'Kilometer', 'RegistrationMonth', 'FuelType', 'Brand', 'NotRepaired',\n",
       "       'NumberOfPictures'],\n",
       "      dtype='object')"
      ]
     },
     "execution_count": 215,
     "metadata": {},
     "output_type": "execute_result"
    }
   ],
   "source": [
    "train.columns"
   ]
  },
  {
   "cell_type": "markdown",
   "metadata": {
    "id": "k1VHfIkNs7co"
   },
   "source": [
    "Выделим признаки для обучения и целевой признак. Также укажем все столбцы, в которых записаны категориальные значения."
   ]
  },
  {
   "cell_type": "code",
   "execution_count": 216,
   "metadata": {
    "id": "kieGCIR-uCuG"
   },
   "outputs": [],
   "source": [
    "X = ['VehicleType', 'RegistrationYear', 'Gearbox', 'Power', 'Model',\n",
    "       'Kilometer', 'RegistrationMonth', 'FuelType', 'Brand', 'NotRepaired',\n",
    "       'NumberOfPictures']\n",
    "\n",
    "y = ['Price']\n",
    "\n",
    "cat_features = ['VehicleType', 'Gearbox', 'Model', 'FuelType', 'Brand', 'NotRepaired']"
   ]
  },
  {
   "cell_type": "code",
   "execution_count": 217,
   "metadata": {
    "id": "rcTyZ5Mdu-8U"
   },
   "outputs": [],
   "source": [
    "params = {'cat_features':cat_features,\n",
    "          'learning_rate': 0.5,\n",
    "          'random_state':42,\n",
    "          'iterations':1000,\n",
    "          'verbose': 100}"
   ]
  },
  {
   "cell_type": "code",
   "execution_count": 218,
   "metadata": {
    "id": "9mpWELewu8Xl"
   },
   "outputs": [],
   "source": [
    "model = CatBoostRegressor(**params)"
   ]
  },
  {
   "cell_type": "code",
   "execution_count": 219,
   "metadata": {
    "colab": {
     "base_uri": "https://localhost:8080/"
    },
    "id": "IE5Ey9elvQDL",
    "outputId": "a5d75983-edee-4bb0-8082-8f0fecb8ff01"
   },
   "outputs": [
    {
     "name": "stdout",
     "output_type": "stream",
     "text": [
      "0:\tlearn: 3247.2845417\ttest: 3218.9524899\tbest: 3218.9524899 (0)\ttotal: 288ms\tremaining: 4m 48s\n",
      "100:\tlearn: 1577.9402929\ttest: 1602.3989782\tbest: 1602.3989782 (100)\ttotal: 18.1s\tremaining: 2m 41s\n",
      "200:\tlearn: 1509.1275550\ttest: 1568.8571575\tbest: 1568.8571575 (200)\ttotal: 35.4s\tremaining: 2m 20s\n",
      "300:\tlearn: 1467.1312624\ttest: 1551.6596565\tbest: 1551.6596565 (300)\ttotal: 52.9s\tremaining: 2m 2s\n",
      "400:\tlearn: 1436.3961380\ttest: 1541.5366691\tbest: 1541.5366691 (400)\ttotal: 1m 10s\tremaining: 1m 45s\n",
      "500:\tlearn: 1413.0518458\ttest: 1534.4045662\tbest: 1534.3619227 (497)\ttotal: 1m 28s\tremaining: 1m 28s\n",
      "600:\tlearn: 1392.9996280\ttest: 1529.7252767\tbest: 1529.6341675 (597)\ttotal: 1m 44s\tremaining: 1m 9s\n",
      "700:\tlearn: 1375.7341766\ttest: 1527.1531908\tbest: 1527.0076176 (669)\ttotal: 2m\tremaining: 51.6s\n",
      "800:\tlearn: 1359.9717355\ttest: 1525.8788548\tbest: 1525.7064607 (788)\ttotal: 2m 17s\tremaining: 34.2s\n",
      "900:\tlearn: 1346.9525634\ttest: 1524.1713474\tbest: 1523.9436525 (880)\ttotal: 2m 33s\tremaining: 16.9s\n",
      "999:\tlearn: 1333.9512728\ttest: 1521.3797884\tbest: 1521.2914792 (992)\ttotal: 2m 49s\tremaining: 0us\n",
      "\n",
      "bestTest = 1521.291479\n",
      "bestIteration = 992\n",
      "\n",
      "Shrink model to first 993 iterations.\n",
      "CPU times: user 2min 50s, sys: 544 ms, total: 2min 51s\n",
      "Wall time: 2min 53s\n"
     ]
    }
   ],
   "source": [
    "%%time\n",
    "start_time = time.time()\n",
    "model.fit(train[X],train[y],eval_set=(val[X],val[y]))\n",
    "learn_catb_time = (time.time() - start_time)"
   ]
  },
  {
   "cell_type": "code",
   "execution_count": 220,
   "metadata": {
    "id": "r1eeXf1GqoZB"
   },
   "outputs": [],
   "source": [
    "pred_valid = model.predict(val[X]) "
   ]
  },
  {
   "cell_type": "code",
   "execution_count": 221,
   "metadata": {
    "colab": {
     "base_uri": "https://localhost:8080/"
    },
    "id": "gnSzaDmbqodq",
    "outputId": "98e19bba-d528-4f63-c9bd-170e193e745b"
   },
   "outputs": [
    {
     "data": {
      "text/plain": [
       "1521.2914791897733"
      ]
     },
     "execution_count": 221,
     "metadata": {},
     "output_type": "execute_result"
    }
   ],
   "source": [
    "mean_squared_error(val[y], pred_valid)**(1/2)"
   ]
  },
  {
   "cell_type": "code",
   "execution_count": 222,
   "metadata": {
    "colab": {
     "base_uri": "https://localhost:8080/"
    },
    "id": "nizWILCEVUEs",
    "outputId": "01c1d0ff-a306-4e40-8e64-9e38f860b797"
   },
   "outputs": [
    {
     "name": "stdout",
     "output_type": "stream",
     "text": [
      "CPU times: user 614 ms, sys: 3.13 ms, total: 617 ms\n",
      "Wall time: 618 ms\n"
     ]
    }
   ],
   "source": [
    "%%time\n",
    "start_time = time.time()\n",
    "\n",
    "pred_test = model.predict(test[X]) \n",
    "pred_catb_time = (time.time() - start_time)"
   ]
  },
  {
   "cell_type": "code",
   "execution_count": 223,
   "metadata": {
    "colab": {
     "base_uri": "https://localhost:8080/"
    },
    "id": "CKMhyqI9VUEt",
    "outputId": "695e32fc-facd-4351-baaf-788d9c915a59"
   },
   "outputs": [
    {
     "data": {
      "text/plain": [
       "1546.139398593443"
      ]
     },
     "execution_count": 223,
     "metadata": {},
     "output_type": "execute_result"
    }
   ],
   "source": [
    "catb_rmse = mean_squared_error(test[y], pred_test)**(1/2)\n",
    "catb_rmse"
   ]
  },
  {
   "cell_type": "markdown",
   "metadata": {
    "id": "RAMPsne8qokK"
   },
   "source": [
    "###  LightGBM для регрессии"
   ]
  },
  {
   "cell_type": "markdown",
   "metadata": {
    "id": "pEje_-tfQmxP"
   },
   "source": [
    "Модель LightGBM может работать на закодированных данных для линейной регрессии, а может работать на незакодированных данных, но необходимо поменять тип столбца с с object на category. Обучим модель на данных для линейной регрессии.\n"
   ]
  },
  {
   "cell_type": "markdown",
   "metadata": {
    "id": "Cf-gcm5wbQtG"
   },
   "source": [
    "Создадим и обучим модель LightGBM. Чтобы подобрать оптимальные параметры для модели воспользуемся GridSearchCV."
   ]
  },
  {
   "cell_type": "code",
   "execution_count": 224,
   "metadata": {},
   "outputs": [
    {
     "name": "stdout",
     "output_type": "stream",
     "text": [
      "CPU times: user 30min 52s, sys: 1min 45s, total: 32min 37s\n",
      "Wall time: 32min 58s\n"
     ]
    },
    {
     "data": {
      "text/plain": [
       "GridSearchCV(cv=3, estimator=LGBMRegressor(objective='regression'), n_jobs=-1,\n",
       "             param_grid={'learning_rate': [0.1, 0.3, 0.5, 0.7],\n",
       "                         'max_depth': [15, 20, 30, 35],\n",
       "                         'n_estimators': [40, 50, 60],\n",
       "                         'num_leaves': [20, 40, 60]},\n",
       "             scoring='neg_mean_squared_error')"
      ]
     },
     "execution_count": 224,
     "metadata": {},
     "output_type": "execute_result"
    }
   ],
   "source": [
    "%%time\n",
    "param_grid = {'learning_rate': [0.1, 0.3, 0.5, 0.7],\n",
    "              'max_depth': [15, 20, 30, 35],\n",
    "              'num_leaves' :[20,40,60],\n",
    "              'n_estimators':[40,50,60]             \n",
    "             }\n",
    "\n",
    "gbm = lgb.LGBMRegressor(objective='regression')\n",
    "\n",
    "# инициализируем GridSearchCV\n",
    "grid_search = GridSearchCV(estimator = gbm, \n",
    "                           param_grid = param_grid, \n",
    "                           cv = 3,\n",
    "                           n_jobs = -1, \n",
    "                           verbose = 0, \n",
    "                           scoring = 'neg_mean_squared_error',\n",
    "                          )\n",
    "grid_search.fit(lin_features_train, lin_target_train)"
   ]
  },
  {
   "cell_type": "code",
   "execution_count": 225,
   "metadata": {},
   "outputs": [
    {
     "data": {
      "text/plain": [
       "{'learning_rate': 0.3, 'max_depth': 30, 'n_estimators': 60, 'num_leaves': 60}"
      ]
     },
     "execution_count": 225,
     "metadata": {},
     "output_type": "execute_result"
    }
   ],
   "source": [
    "grid_search.best_params_"
   ]
  },
  {
   "cell_type": "code",
   "execution_count": 226,
   "metadata": {
    "id": "5Rx2EDKCPJkh"
   },
   "outputs": [],
   "source": [
    "gbm = lgb.LGBMRegressor(objective='regression',num_leaves=60,learning_rate=0.3, n_estimators=60, max_depth=30)"
   ]
  },
  {
   "cell_type": "code",
   "execution_count": 227,
   "metadata": {
    "colab": {
     "base_uri": "https://localhost:8080/"
    },
    "id": "4b4z76tyPJuw",
    "outputId": "f2c51ab0-f5c4-4ac4-d42a-fc11581c5eeb"
   },
   "outputs": [
    {
     "name": "stdout",
     "output_type": "stream",
     "text": [
      "CPU times: user 4.46 s, sys: 269 ms, total: 4.73 s\n",
      "Wall time: 4.77 s\n"
     ]
    }
   ],
   "source": [
    "%%time\n",
    "start_time = time.time()\n",
    "\n",
    "gbm.fit(lin_features_train, lin_target_train)\n",
    "learn_gbm_time = (time.time() - start_time)"
   ]
  },
  {
   "cell_type": "code",
   "execution_count": 228,
   "metadata": {
    "id": "LTwl6f2bNHW0"
   },
   "outputs": [],
   "source": [
    "pred_valid_gbm = gbm.predict(lin_features_val) "
   ]
  },
  {
   "cell_type": "code",
   "execution_count": 229,
   "metadata": {
    "colab": {
     "base_uri": "https://localhost:8080/"
    },
    "id": "9biB6jb2NHcC",
    "outputId": "6abdf234-1325-4bdd-a03f-d4fc74634416"
   },
   "outputs": [
    {
     "data": {
      "text/plain": [
       "1549.1219660967442"
      ]
     },
     "execution_count": 229,
     "metadata": {},
     "output_type": "execute_result"
    }
   ],
   "source": [
    "mean_squared_error(lin_target_val, pred_valid_gbm)**(1/2)"
   ]
  },
  {
   "cell_type": "code",
   "execution_count": 230,
   "metadata": {
    "colab": {
     "base_uri": "https://localhost:8080/"
    },
    "id": "le_Y-Q0X-ZOl",
    "outputId": "8a682729-3bce-498e-9ec9-dd900bb14f6f"
   },
   "outputs": [
    {
     "name": "stdout",
     "output_type": "stream",
     "text": [
      "CPU times: user 430 ms, sys: 84.3 ms, total: 515 ms\n",
      "Wall time: 502 ms\n"
     ]
    }
   ],
   "source": [
    "%%time\n",
    "start_time = time.time()\n",
    "\n",
    "pred_test_gbm = gbm.predict(lin_features_test) \n",
    "pred_gbm_time = (time.time() - start_time)"
   ]
  },
  {
   "cell_type": "code",
   "execution_count": 231,
   "metadata": {
    "colab": {
     "base_uri": "https://localhost:8080/"
    },
    "id": "4tNHWIaF-ZOm",
    "outputId": "a36648ba-3135-4dca-c9a1-a6268fc17c23"
   },
   "outputs": [
    {
     "data": {
      "text/plain": [
       "1577.4834900435205"
      ]
     },
     "execution_count": 231,
     "metadata": {},
     "output_type": "execute_result"
    }
   ],
   "source": [
    "gbm_rmse = mean_squared_error(lin_target_test, pred_test_gbm)**(1/2)\n",
    "gbm_rmse"
   ]
  },
  {
   "cell_type": "markdown",
   "metadata": {
    "id": "CoIIK0ImNHhx"
   },
   "source": [
    "## Анализ моделей"
   ]
  },
  {
   "cell_type": "markdown",
   "metadata": {
    "id": "Bdk-0IL_HrF3"
   },
   "source": [
    "Выведем в таблицу данные: для каждой модели втремя обучения на тренировочной выборке, время предсказания на тестовой выборке, RMSE модели для тестовой выборки."
   ]
  },
  {
   "cell_type": "code",
   "execution_count": 232,
   "metadata": {
    "colab": {
     "base_uri": "https://localhost:8080/",
     "height": 143
    },
    "id": "NXJowNJo-7Rk",
    "outputId": "d5aa1031-2ad1-45cc-c754-4d3249fc573c",
    "scrolled": true
   },
   "outputs": [
    {
     "data": {
      "text/html": [
       "<div>\n",
       "<style scoped>\n",
       "    .dataframe tbody tr th:only-of-type {\n",
       "        vertical-align: middle;\n",
       "    }\n",
       "\n",
       "    .dataframe tbody tr th {\n",
       "        vertical-align: top;\n",
       "    }\n",
       "\n",
       "    .dataframe thead th {\n",
       "        text-align: right;\n",
       "    }\n",
       "</style>\n",
       "<table border=\"1\" class=\"dataframe\">\n",
       "  <thead>\n",
       "    <tr style=\"text-align: right;\">\n",
       "      <th></th>\n",
       "      <th>Model</th>\n",
       "      <th>lin_reg</th>\n",
       "      <th>Catboost</th>\n",
       "      <th>Light_GBM</th>\n",
       "    </tr>\n",
       "  </thead>\n",
       "  <tbody>\n",
       "    <tr>\n",
       "      <th>0</th>\n",
       "      <td>learn_time</td>\n",
       "      <td>22.274529</td>\n",
       "      <td>173.275877</td>\n",
       "      <td>4.773405</td>\n",
       "    </tr>\n",
       "    <tr>\n",
       "      <th>1</th>\n",
       "      <td>pred_time</td>\n",
       "      <td>0.198409</td>\n",
       "      <td>0.618203</td>\n",
       "      <td>0.502139</td>\n",
       "    </tr>\n",
       "    <tr>\n",
       "      <th>2</th>\n",
       "      <td>rmse</td>\n",
       "      <td>2562.315894</td>\n",
       "      <td>1546.139399</td>\n",
       "      <td>1577.483490</td>\n",
       "    </tr>\n",
       "  </tbody>\n",
       "</table>\n",
       "</div>"
      ],
      "text/plain": [
       "        Model      lin_reg     Catboost    Light_GBM\n",
       "0  learn_time    22.274529   173.275877     4.773405\n",
       "1   pred_time     0.198409     0.618203     0.502139\n",
       "2        rmse  2562.315894  1546.139399  1577.483490"
      ]
     },
     "execution_count": 232,
     "metadata": {},
     "output_type": "execute_result"
    }
   ],
   "source": [
    "pd.DataFrame({\n",
    "    'Model'      :['learn_time','pred_time', 'rmse'],\n",
    "    'lin_reg'    : [learn_lin_time,pred_lin_time, lin_rmse],\n",
    "    'Catboost' : [learn_catb_time,pred_catb_time, catb_rmse],\n",
    "    'Light_GBM'    : [learn_gbm_time,pred_gbm_time, gbm_rmse]\n",
    "})"
   ]
  },
  {
   "cell_type": "markdown",
   "metadata": {},
   "source": [
    "**На разных платформах таблица выглядит по-разному!**"
   ]
  },
  {
   "cell_type": "markdown",
   "metadata": {},
   "source": [
    "Минимальная rmse оказалась у модели Catboost, однако данная модель сильно проигрывает в скорости обучения и немного отстаёт в скорости предсказания.\n",
    "\n",
    "Быстрее всех учится модель Light GBM, но время предсказания у неё не самое быстрое, как и rmse не самый низкий.\n",
    "\n",
    "Считаем оптимальной модель Light GBM, у неё близкий к лидеру параметр rmse, а время обучения и предсказания сильно короче."
   ]
  },
  {
   "cell_type": "markdown",
   "metadata": {
    "id": "GWY7ROBG9MnT"
   },
   "source": [
    "\n",
    "## Вывод\n",
    "\n",
    "В ходе работы было выполнено:\n",
    "\n",
    "- Загружены данные и проведена их предобработка.\n",
    "- Обучено несколько моделей.\n",
    "- Выполнено сравнение моделей.\n",
    "- Выбрана лучшая модель по результатам метрики RMSE, времени обучения и предсказания.\n",
    "\n",
    "Считаем оптимальной модель Light GBM, у неё близкий к лидеру параметр rmse, а время обучения и предсказания сильно короче."
   ]
  }
 ],
 "metadata": {
  "ExecuteTimeLog": [
   {
    "duration": 4,
    "start_time": "2022-04-17T15:41:21.258Z"
   },
   {
    "duration": 1822,
    "start_time": "2022-04-17T15:41:21.264Z"
   },
   {
    "duration": 904,
    "start_time": "2022-04-17T15:41:23.092Z"
   },
   {
    "duration": 10,
    "start_time": "2022-04-17T15:41:23.998Z"
   },
   {
    "duration": 692,
    "start_time": "2022-04-17T15:41:24.010Z"
   },
   {
    "duration": 703,
    "start_time": "2022-04-17T15:41:24.706Z"
   },
   {
    "duration": 682,
    "start_time": "2022-04-17T15:41:25.411Z"
   },
   {
    "duration": 39,
    "start_time": "2022-04-17T15:41:26.100Z"
   },
   {
    "duration": 34,
    "start_time": "2022-04-17T15:41:26.142Z"
   },
   {
    "duration": 955,
    "start_time": "2022-04-17T15:41:26.178Z"
   },
   {
    "duration": 0,
    "start_time": "2022-04-17T15:41:27.137Z"
   },
   {
    "duration": 0,
    "start_time": "2022-04-17T15:41:27.138Z"
   },
   {
    "duration": 0,
    "start_time": "2022-04-17T15:41:27.140Z"
   },
   {
    "duration": 0,
    "start_time": "2022-04-17T15:41:27.141Z"
   },
   {
    "duration": 0,
    "start_time": "2022-04-17T15:41:27.142Z"
   },
   {
    "duration": 0,
    "start_time": "2022-04-17T15:41:27.143Z"
   },
   {
    "duration": 0,
    "start_time": "2022-04-17T15:41:27.144Z"
   },
   {
    "duration": 0,
    "start_time": "2022-04-17T15:41:27.145Z"
   },
   {
    "duration": 0,
    "start_time": "2022-04-17T15:41:27.146Z"
   },
   {
    "duration": 0,
    "start_time": "2022-04-17T15:41:27.147Z"
   },
   {
    "duration": 0,
    "start_time": "2022-04-17T15:41:27.148Z"
   },
   {
    "duration": 0,
    "start_time": "2022-04-17T15:41:27.149Z"
   },
   {
    "duration": 0,
    "start_time": "2022-04-17T15:41:27.150Z"
   },
   {
    "duration": 0,
    "start_time": "2022-04-17T15:41:27.152Z"
   },
   {
    "duration": 0,
    "start_time": "2022-04-17T15:41:27.153Z"
   },
   {
    "duration": 0,
    "start_time": "2022-04-17T15:41:27.154Z"
   },
   {
    "duration": 0,
    "start_time": "2022-04-17T15:41:27.155Z"
   },
   {
    "duration": 0,
    "start_time": "2022-04-17T15:41:27.156Z"
   },
   {
    "duration": 0,
    "start_time": "2022-04-17T15:41:27.157Z"
   },
   {
    "duration": 0,
    "start_time": "2022-04-17T15:41:27.158Z"
   },
   {
    "duration": 0,
    "start_time": "2022-04-17T15:41:27.159Z"
   },
   {
    "duration": 0,
    "start_time": "2022-04-17T15:41:27.160Z"
   },
   {
    "duration": 0,
    "start_time": "2022-04-17T15:41:27.161Z"
   },
   {
    "duration": 0,
    "start_time": "2022-04-17T15:41:27.161Z"
   },
   {
    "duration": 0,
    "start_time": "2022-04-17T15:41:27.162Z"
   },
   {
    "duration": 0,
    "start_time": "2022-04-17T15:41:27.163Z"
   },
   {
    "duration": 0,
    "start_time": "2022-04-17T15:41:27.164Z"
   },
   {
    "duration": 0,
    "start_time": "2022-04-17T15:41:27.165Z"
   },
   {
    "duration": 0,
    "start_time": "2022-04-17T15:41:27.166Z"
   },
   {
    "duration": 0,
    "start_time": "2022-04-17T15:41:27.166Z"
   },
   {
    "duration": 0,
    "start_time": "2022-04-17T15:41:27.167Z"
   },
   {
    "duration": 0,
    "start_time": "2022-04-17T15:41:27.168Z"
   },
   {
    "duration": 0,
    "start_time": "2022-04-17T15:41:27.170Z"
   },
   {
    "duration": 0,
    "start_time": "2022-04-17T15:41:27.170Z"
   },
   {
    "duration": 0,
    "start_time": "2022-04-17T15:41:27.196Z"
   },
   {
    "duration": 0,
    "start_time": "2022-04-17T15:41:27.197Z"
   },
   {
    "duration": 0,
    "start_time": "2022-04-17T15:41:27.202Z"
   },
   {
    "duration": 0,
    "start_time": "2022-04-17T15:41:27.203Z"
   },
   {
    "duration": 0,
    "start_time": "2022-04-17T15:41:27.204Z"
   },
   {
    "duration": 0,
    "start_time": "2022-04-17T15:41:27.207Z"
   },
   {
    "duration": 0,
    "start_time": "2022-04-17T15:41:27.209Z"
   },
   {
    "duration": 0,
    "start_time": "2022-04-17T15:41:27.211Z"
   },
   {
    "duration": 0,
    "start_time": "2022-04-17T15:41:27.212Z"
   },
   {
    "duration": 1,
    "start_time": "2022-04-17T15:41:27.213Z"
   },
   {
    "duration": 0,
    "start_time": "2022-04-17T15:41:27.215Z"
   },
   {
    "duration": 0,
    "start_time": "2022-04-17T15:41:27.216Z"
   },
   {
    "duration": 0,
    "start_time": "2022-04-17T15:41:27.217Z"
   },
   {
    "duration": 0,
    "start_time": "2022-04-17T15:41:27.218Z"
   },
   {
    "duration": 0,
    "start_time": "2022-04-17T15:41:27.218Z"
   },
   {
    "duration": 0,
    "start_time": "2022-04-17T15:41:27.220Z"
   },
   {
    "duration": 0,
    "start_time": "2022-04-17T15:41:27.220Z"
   },
   {
    "duration": 0,
    "start_time": "2022-04-17T15:41:27.221Z"
   },
   {
    "duration": 0,
    "start_time": "2022-04-17T15:41:27.222Z"
   },
   {
    "duration": 0,
    "start_time": "2022-04-17T15:41:27.223Z"
   },
   {
    "duration": 0,
    "start_time": "2022-04-17T15:41:27.224Z"
   },
   {
    "duration": 0,
    "start_time": "2022-04-17T15:41:27.225Z"
   },
   {
    "duration": 0,
    "start_time": "2022-04-17T15:41:27.226Z"
   },
   {
    "duration": 4,
    "start_time": "2022-04-17T15:41:35.079Z"
   },
   {
    "duration": 3,
    "start_time": "2022-04-17T15:42:09.080Z"
   },
   {
    "duration": 20,
    "start_time": "2022-04-17T15:42:09.088Z"
   },
   {
    "duration": 1257,
    "start_time": "2022-04-17T15:42:09.111Z"
   },
   {
    "duration": 5,
    "start_time": "2022-04-17T15:42:10.370Z"
   },
   {
    "duration": 599,
    "start_time": "2022-04-17T15:42:10.377Z"
   },
   {
    "duration": 489,
    "start_time": "2022-04-17T15:42:10.978Z"
   },
   {
    "duration": 486,
    "start_time": "2022-04-17T15:42:11.469Z"
   },
   {
    "duration": 51,
    "start_time": "2022-04-17T15:42:11.957Z"
   },
   {
    "duration": 39,
    "start_time": "2022-04-17T15:42:12.010Z"
   },
   {
    "duration": 940,
    "start_time": "2022-04-17T15:42:12.051Z"
   },
   {
    "duration": 0,
    "start_time": "2022-04-17T15:42:12.996Z"
   },
   {
    "duration": 0,
    "start_time": "2022-04-17T15:42:12.997Z"
   },
   {
    "duration": 0,
    "start_time": "2022-04-17T15:42:12.998Z"
   },
   {
    "duration": 0,
    "start_time": "2022-04-17T15:42:12.999Z"
   },
   {
    "duration": 0,
    "start_time": "2022-04-17T15:42:13.000Z"
   },
   {
    "duration": 0,
    "start_time": "2022-04-17T15:42:13.001Z"
   },
   {
    "duration": 0,
    "start_time": "2022-04-17T15:42:13.002Z"
   },
   {
    "duration": 0,
    "start_time": "2022-04-17T15:42:13.003Z"
   },
   {
    "duration": 0,
    "start_time": "2022-04-17T15:42:13.004Z"
   },
   {
    "duration": 0,
    "start_time": "2022-04-17T15:42:13.005Z"
   },
   {
    "duration": 0,
    "start_time": "2022-04-17T15:42:13.006Z"
   },
   {
    "duration": 0,
    "start_time": "2022-04-17T15:42:13.008Z"
   },
   {
    "duration": 0,
    "start_time": "2022-04-17T15:42:13.008Z"
   },
   {
    "duration": 0,
    "start_time": "2022-04-17T15:42:13.009Z"
   },
   {
    "duration": 0,
    "start_time": "2022-04-17T15:42:13.011Z"
   },
   {
    "duration": 0,
    "start_time": "2022-04-17T15:42:13.012Z"
   },
   {
    "duration": 1,
    "start_time": "2022-04-17T15:42:13.012Z"
   },
   {
    "duration": 0,
    "start_time": "2022-04-17T15:42:13.013Z"
   },
   {
    "duration": 0,
    "start_time": "2022-04-17T15:42:13.014Z"
   },
   {
    "duration": 0,
    "start_time": "2022-04-17T15:42:13.016Z"
   },
   {
    "duration": 0,
    "start_time": "2022-04-17T15:42:13.017Z"
   },
   {
    "duration": 0,
    "start_time": "2022-04-17T15:42:13.018Z"
   },
   {
    "duration": 0,
    "start_time": "2022-04-17T15:42:13.019Z"
   },
   {
    "duration": 0,
    "start_time": "2022-04-17T15:42:13.022Z"
   },
   {
    "duration": 0,
    "start_time": "2022-04-17T15:42:13.023Z"
   },
   {
    "duration": 0,
    "start_time": "2022-04-17T15:42:13.025Z"
   },
   {
    "duration": 0,
    "start_time": "2022-04-17T15:42:13.028Z"
   },
   {
    "duration": 0,
    "start_time": "2022-04-17T15:42:13.030Z"
   },
   {
    "duration": 0,
    "start_time": "2022-04-17T15:42:13.031Z"
   },
   {
    "duration": 0,
    "start_time": "2022-04-17T15:42:13.032Z"
   },
   {
    "duration": 0,
    "start_time": "2022-04-17T15:42:13.033Z"
   },
   {
    "duration": 0,
    "start_time": "2022-04-17T15:42:13.033Z"
   },
   {
    "duration": 0,
    "start_time": "2022-04-17T15:42:13.034Z"
   },
   {
    "duration": 0,
    "start_time": "2022-04-17T15:42:13.035Z"
   },
   {
    "duration": 0,
    "start_time": "2022-04-17T15:42:13.094Z"
   },
   {
    "duration": 0,
    "start_time": "2022-04-17T15:42:13.096Z"
   },
   {
    "duration": 0,
    "start_time": "2022-04-17T15:42:13.098Z"
   },
   {
    "duration": 0,
    "start_time": "2022-04-17T15:42:13.104Z"
   },
   {
    "duration": 0,
    "start_time": "2022-04-17T15:42:13.105Z"
   },
   {
    "duration": 0,
    "start_time": "2022-04-17T15:42:13.106Z"
   },
   {
    "duration": 0,
    "start_time": "2022-04-17T15:42:13.107Z"
   },
   {
    "duration": 0,
    "start_time": "2022-04-17T15:42:13.108Z"
   },
   {
    "duration": 0,
    "start_time": "2022-04-17T15:42:13.109Z"
   },
   {
    "duration": 0,
    "start_time": "2022-04-17T15:42:13.110Z"
   },
   {
    "duration": 0,
    "start_time": "2022-04-17T15:42:13.111Z"
   },
   {
    "duration": 0,
    "start_time": "2022-04-17T15:42:13.111Z"
   },
   {
    "duration": 0,
    "start_time": "2022-04-17T15:42:13.112Z"
   },
   {
    "duration": 0,
    "start_time": "2022-04-17T15:42:13.113Z"
   },
   {
    "duration": 0,
    "start_time": "2022-04-17T15:42:13.115Z"
   },
   {
    "duration": 0,
    "start_time": "2022-04-17T15:42:13.118Z"
   },
   {
    "duration": 0,
    "start_time": "2022-04-17T15:42:13.119Z"
   },
   {
    "duration": 0,
    "start_time": "2022-04-17T15:42:13.120Z"
   },
   {
    "duration": 0,
    "start_time": "2022-04-17T15:42:13.121Z"
   },
   {
    "duration": 0,
    "start_time": "2022-04-17T15:42:13.122Z"
   },
   {
    "duration": 0,
    "start_time": "2022-04-17T15:42:13.123Z"
   },
   {
    "duration": 0,
    "start_time": "2022-04-17T15:42:13.124Z"
   },
   {
    "duration": 0,
    "start_time": "2022-04-17T15:42:13.125Z"
   },
   {
    "duration": 807,
    "start_time": "2022-04-17T15:43:07.106Z"
   },
   {
    "duration": 37,
    "start_time": "2022-04-17T15:43:08.978Z"
   },
   {
    "duration": 945,
    "start_time": "2022-04-17T15:43:14.240Z"
   },
   {
    "duration": 37,
    "start_time": "2022-04-17T15:50:38.776Z"
   },
   {
    "duration": 27,
    "start_time": "2022-04-17T15:51:05.037Z"
   },
   {
    "duration": 3,
    "start_time": "2022-04-17T15:51:40.979Z"
   },
   {
    "duration": 5,
    "start_time": "2022-04-17T15:51:40.985Z"
   },
   {
    "duration": 905,
    "start_time": "2022-04-17T15:51:40.992Z"
   },
   {
    "duration": 5,
    "start_time": "2022-04-17T15:51:41.900Z"
   },
   {
    "duration": 704,
    "start_time": "2022-04-17T15:51:41.906Z"
   },
   {
    "duration": 501,
    "start_time": "2022-04-17T15:51:42.612Z"
   },
   {
    "duration": 501,
    "start_time": "2022-04-17T15:51:43.114Z"
   },
   {
    "duration": 45,
    "start_time": "2022-04-17T15:51:43.616Z"
   },
   {
    "duration": 45,
    "start_time": "2022-04-17T15:51:43.663Z"
   },
   {
    "duration": 28,
    "start_time": "2022-04-17T15:51:43.711Z"
   },
   {
    "duration": 925,
    "start_time": "2022-04-17T15:51:43.741Z"
   },
   {
    "duration": 0,
    "start_time": "2022-04-17T15:51:44.669Z"
   },
   {
    "duration": 0,
    "start_time": "2022-04-17T15:51:44.671Z"
   },
   {
    "duration": 0,
    "start_time": "2022-04-17T15:51:44.672Z"
   },
   {
    "duration": 0,
    "start_time": "2022-04-17T15:51:44.673Z"
   },
   {
    "duration": 0,
    "start_time": "2022-04-17T15:51:44.674Z"
   },
   {
    "duration": 0,
    "start_time": "2022-04-17T15:51:44.675Z"
   },
   {
    "duration": 0,
    "start_time": "2022-04-17T15:51:44.677Z"
   },
   {
    "duration": 0,
    "start_time": "2022-04-17T15:51:44.678Z"
   },
   {
    "duration": 0,
    "start_time": "2022-04-17T15:51:44.680Z"
   },
   {
    "duration": 0,
    "start_time": "2022-04-17T15:51:44.681Z"
   },
   {
    "duration": 0,
    "start_time": "2022-04-17T15:51:44.682Z"
   },
   {
    "duration": 0,
    "start_time": "2022-04-17T15:51:44.683Z"
   },
   {
    "duration": 0,
    "start_time": "2022-04-17T15:51:44.684Z"
   },
   {
    "duration": 0,
    "start_time": "2022-04-17T15:51:44.685Z"
   },
   {
    "duration": 0,
    "start_time": "2022-04-17T15:51:44.687Z"
   },
   {
    "duration": 0,
    "start_time": "2022-04-17T15:51:44.688Z"
   },
   {
    "duration": 0,
    "start_time": "2022-04-17T15:51:44.689Z"
   },
   {
    "duration": 0,
    "start_time": "2022-04-17T15:51:44.690Z"
   },
   {
    "duration": 0,
    "start_time": "2022-04-17T15:51:44.691Z"
   },
   {
    "duration": 0,
    "start_time": "2022-04-17T15:51:44.692Z"
   },
   {
    "duration": 0,
    "start_time": "2022-04-17T15:51:44.693Z"
   },
   {
    "duration": 0,
    "start_time": "2022-04-17T15:51:44.695Z"
   },
   {
    "duration": 0,
    "start_time": "2022-04-17T15:51:44.696Z"
   },
   {
    "duration": 0,
    "start_time": "2022-04-17T15:51:44.697Z"
   },
   {
    "duration": 0,
    "start_time": "2022-04-17T15:51:44.698Z"
   },
   {
    "duration": 0,
    "start_time": "2022-04-17T15:51:44.699Z"
   },
   {
    "duration": 0,
    "start_time": "2022-04-17T15:51:44.700Z"
   },
   {
    "duration": 0,
    "start_time": "2022-04-17T15:51:44.701Z"
   },
   {
    "duration": 0,
    "start_time": "2022-04-17T15:51:44.702Z"
   },
   {
    "duration": 0,
    "start_time": "2022-04-17T15:51:44.703Z"
   },
   {
    "duration": 0,
    "start_time": "2022-04-17T15:51:44.704Z"
   },
   {
    "duration": 0,
    "start_time": "2022-04-17T15:51:44.705Z"
   },
   {
    "duration": 0,
    "start_time": "2022-04-17T15:51:44.706Z"
   },
   {
    "duration": 0,
    "start_time": "2022-04-17T15:51:44.707Z"
   },
   {
    "duration": 0,
    "start_time": "2022-04-17T15:51:44.709Z"
   },
   {
    "duration": 0,
    "start_time": "2022-04-17T15:51:44.710Z"
   },
   {
    "duration": 0,
    "start_time": "2022-04-17T15:51:44.711Z"
   },
   {
    "duration": 0,
    "start_time": "2022-04-17T15:51:44.712Z"
   },
   {
    "duration": 0,
    "start_time": "2022-04-17T15:51:44.712Z"
   },
   {
    "duration": 0,
    "start_time": "2022-04-17T15:51:44.713Z"
   },
   {
    "duration": 0,
    "start_time": "2022-04-17T15:51:44.714Z"
   },
   {
    "duration": 0,
    "start_time": "2022-04-17T15:51:44.715Z"
   },
   {
    "duration": 0,
    "start_time": "2022-04-17T15:51:44.716Z"
   },
   {
    "duration": 0,
    "start_time": "2022-04-17T15:51:44.717Z"
   },
   {
    "duration": 0,
    "start_time": "2022-04-17T15:51:44.719Z"
   },
   {
    "duration": 0,
    "start_time": "2022-04-17T15:51:44.720Z"
   },
   {
    "duration": 0,
    "start_time": "2022-04-17T15:51:44.720Z"
   },
   {
    "duration": 0,
    "start_time": "2022-04-17T15:51:44.721Z"
   },
   {
    "duration": 0,
    "start_time": "2022-04-17T15:51:44.722Z"
   },
   {
    "duration": 0,
    "start_time": "2022-04-17T15:51:44.723Z"
   },
   {
    "duration": 0,
    "start_time": "2022-04-17T15:51:44.725Z"
   },
   {
    "duration": 0,
    "start_time": "2022-04-17T15:51:44.726Z"
   },
   {
    "duration": 0,
    "start_time": "2022-04-17T15:51:44.727Z"
   },
   {
    "duration": 0,
    "start_time": "2022-04-17T15:51:44.728Z"
   },
   {
    "duration": 0,
    "start_time": "2022-04-17T15:51:44.729Z"
   },
   {
    "duration": 0,
    "start_time": "2022-04-17T15:51:44.730Z"
   },
   {
    "duration": 0,
    "start_time": "2022-04-17T15:51:44.793Z"
   },
   {
    "duration": 18,
    "start_time": "2022-04-17T15:53:03.801Z"
   },
   {
    "duration": 18,
    "start_time": "2022-04-17T15:53:53.817Z"
   },
   {
    "duration": 15,
    "start_time": "2022-04-17T15:54:48.650Z"
   },
   {
    "duration": 150,
    "start_time": "2022-04-17T15:55:18.090Z"
   },
   {
    "duration": 43,
    "start_time": "2022-04-17T15:56:00.242Z"
   },
   {
    "duration": 308,
    "start_time": "2022-04-17T15:56:07.914Z"
   },
   {
    "duration": 18,
    "start_time": "2022-04-17T15:56:16.647Z"
   },
   {
    "duration": 2,
    "start_time": "2022-04-17T15:59:51.505Z"
   },
   {
    "duration": 7,
    "start_time": "2022-04-17T15:59:51.509Z"
   },
   {
    "duration": 803,
    "start_time": "2022-04-17T15:59:51.518Z"
   },
   {
    "duration": 5,
    "start_time": "2022-04-17T15:59:52.323Z"
   },
   {
    "duration": 593,
    "start_time": "2022-04-17T15:59:52.331Z"
   },
   {
    "duration": 679,
    "start_time": "2022-04-17T15:59:52.926Z"
   },
   {
    "duration": 658,
    "start_time": "2022-04-17T15:59:53.607Z"
   },
   {
    "duration": 54,
    "start_time": "2022-04-17T15:59:54.267Z"
   },
   {
    "duration": 55,
    "start_time": "2022-04-17T15:59:54.323Z"
   },
   {
    "duration": 55,
    "start_time": "2022-04-17T15:59:54.380Z"
   },
   {
    "duration": 518,
    "start_time": "2022-04-17T15:59:54.438Z"
   },
   {
    "duration": 51,
    "start_time": "2022-04-17T15:59:54.958Z"
   },
   {
    "duration": 394,
    "start_time": "2022-04-17T15:59:55.011Z"
   },
   {
    "duration": 45,
    "start_time": "2022-04-17T15:59:55.407Z"
   },
   {
    "duration": 379,
    "start_time": "2022-04-17T15:59:55.454Z"
   },
   {
    "duration": 21,
    "start_time": "2022-04-17T15:59:55.835Z"
   },
   {
    "duration": 141,
    "start_time": "2022-04-17T15:59:55.858Z"
   },
   {
    "duration": 279,
    "start_time": "2022-04-17T15:59:56.001Z"
   },
   {
    "duration": 23,
    "start_time": "2022-04-17T15:59:56.282Z"
   },
   {
    "duration": 33,
    "start_time": "2022-04-17T15:59:56.307Z"
   },
   {
    "duration": 258,
    "start_time": "2022-04-17T15:59:56.342Z"
   },
   {
    "duration": 29,
    "start_time": "2022-04-17T15:59:56.602Z"
   },
   {
    "duration": 26,
    "start_time": "2022-04-17T15:59:56.633Z"
   },
   {
    "duration": 254,
    "start_time": "2022-04-17T15:59:56.661Z"
   },
   {
    "duration": 5,
    "start_time": "2022-04-17T15:59:56.917Z"
   },
   {
    "duration": 4,
    "start_time": "2022-04-17T15:59:56.924Z"
   },
   {
    "duration": 6,
    "start_time": "2022-04-17T15:59:56.930Z"
   },
   {
    "duration": 24,
    "start_time": "2022-04-17T15:59:56.938Z"
   },
   {
    "duration": 25,
    "start_time": "2022-04-17T15:59:56.992Z"
   },
   {
    "duration": 33,
    "start_time": "2022-04-17T15:59:57.019Z"
   },
   {
    "duration": 5,
    "start_time": "2022-04-17T15:59:57.055Z"
   },
   {
    "duration": 8,
    "start_time": "2022-04-17T15:59:57.062Z"
   },
   {
    "duration": 812,
    "start_time": "2022-04-17T15:59:57.093Z"
   },
   {
    "duration": 19,
    "start_time": "2022-04-17T15:59:57.907Z"
   },
   {
    "duration": 7,
    "start_time": "2022-04-17T15:59:57.928Z"
   },
   {
    "duration": 682,
    "start_time": "2022-04-17T15:59:57.937Z"
   },
   {
    "duration": 4,
    "start_time": "2022-04-17T15:59:58.622Z"
   },
   {
    "duration": 5,
    "start_time": "2022-04-17T15:59:58.627Z"
   },
   {
    "duration": 23,
    "start_time": "2022-04-17T15:59:58.633Z"
   },
   {
    "duration": 222,
    "start_time": "2022-04-17T15:59:58.658Z"
   },
   {
    "duration": 25,
    "start_time": "2022-04-17T15:59:58.881Z"
   },
   {
    "duration": 15,
    "start_time": "2022-04-17T15:59:58.907Z"
   },
   {
    "duration": 3,
    "start_time": "2022-04-17T15:59:58.923Z"
   },
   {
    "duration": 21376,
    "start_time": "2022-04-17T15:59:58.927Z"
   },
   {
    "duration": 289,
    "start_time": "2022-04-17T16:00:20.305Z"
   },
   {
    "duration": 93,
    "start_time": "2022-04-17T16:00:20.601Z"
   },
   {
    "duration": 99,
    "start_time": "2022-04-17T16:00:20.696Z"
   },
   {
    "duration": 27,
    "start_time": "2022-04-17T16:00:20.797Z"
   },
   {
    "duration": 4,
    "start_time": "2022-04-17T16:00:20.825Z"
   },
   {
    "duration": 7,
    "start_time": "2022-04-17T16:00:20.830Z"
   },
   {
    "duration": 9,
    "start_time": "2022-04-17T16:00:20.839Z"
   },
   {
    "duration": 5,
    "start_time": "2022-04-17T16:00:20.850Z"
   },
   {
    "duration": 5,
    "start_time": "2022-04-17T16:00:20.857Z"
   },
   {
    "duration": 4,
    "start_time": "2022-04-17T16:00:20.892Z"
   },
   {
    "duration": 6,
    "start_time": "2022-04-17T16:00:20.898Z"
   },
   {
    "duration": 201604,
    "start_time": "2022-04-17T16:00:20.906Z"
   },
   {
    "duration": 722,
    "start_time": "2022-04-17T16:03:42.511Z"
   },
   {
    "duration": 8,
    "start_time": "2022-04-17T16:03:43.234Z"
   },
   {
    "duration": 715,
    "start_time": "2022-04-17T16:03:43.244Z"
   },
   {
    "duration": 8,
    "start_time": "2022-04-17T16:03:43.961Z"
   },
   {
    "duration": 7,
    "start_time": "2022-04-17T16:03:43.970Z"
   },
   {
    "duration": 430602,
    "start_time": "2022-04-17T16:03:43.993Z"
   },
   {
    "duration": 535,
    "start_time": "2022-04-17T16:10:54.598Z"
   },
   {
    "duration": 64,
    "start_time": "2022-04-17T16:10:55.135Z"
   },
   {
    "duration": 528,
    "start_time": "2022-04-17T16:10:55.201Z"
   },
   {
    "duration": 5,
    "start_time": "2022-04-17T16:10:55.732Z"
   },
   {
    "duration": 64,
    "start_time": "2022-04-17T16:10:55.739Z"
   },
   {
    "duration": 3,
    "start_time": "2022-04-17T16:12:13.924Z"
   },
   {
    "duration": 407717,
    "start_time": "2022-04-17T16:12:14.387Z"
   },
   {
    "duration": 20,
    "start_time": "2022-04-17T16:19:02.106Z"
   },
   {
    "duration": 11,
    "start_time": "2022-04-17T16:23:43.206Z"
   },
   {
    "duration": 1804,
    "start_time": "2022-04-19T06:26:27.131Z"
   },
   {
    "duration": 876,
    "start_time": "2022-04-19T06:26:28.938Z"
   },
   {
    "duration": 5,
    "start_time": "2022-04-19T06:26:29.816Z"
   },
   {
    "duration": 712,
    "start_time": "2022-04-19T06:26:29.823Z"
   },
   {
    "duration": 601,
    "start_time": "2022-04-19T06:26:31.162Z"
   },
   {
    "duration": 541,
    "start_time": "2022-04-19T06:26:31.765Z"
   },
   {
    "duration": 133,
    "start_time": "2022-04-19T06:27:08.202Z"
   },
   {
    "duration": 37,
    "start_time": "2022-04-19T06:49:05.929Z"
   },
   {
    "duration": 24,
    "start_time": "2022-04-19T06:49:35.595Z"
   },
   {
    "duration": 51,
    "start_time": "2022-04-19T06:49:36.618Z"
   },
   {
    "duration": 31,
    "start_time": "2022-04-19T06:49:37.885Z"
   },
   {
    "duration": 277,
    "start_time": "2022-04-19T06:49:38.418Z"
   },
   {
    "duration": 28,
    "start_time": "2022-04-19T06:49:39.499Z"
   },
   {
    "duration": 244,
    "start_time": "2022-04-19T06:49:40.185Z"
   },
   {
    "duration": 29,
    "start_time": "2022-04-19T06:49:40.499Z"
   },
   {
    "duration": 252,
    "start_time": "2022-04-19T06:49:41.718Z"
   },
   {
    "duration": 21,
    "start_time": "2022-04-19T06:49:42.377Z"
   },
   {
    "duration": 76,
    "start_time": "2022-04-19T06:49:43.537Z"
   },
   {
    "duration": 179,
    "start_time": "2022-04-19T06:49:44.659Z"
   },
   {
    "duration": 17,
    "start_time": "2022-04-19T06:49:45.589Z"
   },
   {
    "duration": 29,
    "start_time": "2022-04-19T06:49:46.299Z"
   },
   {
    "duration": 35,
    "start_time": "2022-04-19T06:49:48.455Z"
   },
   {
    "duration": 161,
    "start_time": "2022-04-19T06:50:36.368Z"
   },
   {
    "duration": 250,
    "start_time": "2022-04-19T06:50:42.833Z"
   },
   {
    "duration": 151,
    "start_time": "2022-04-19T06:50:45.166Z"
   },
   {
    "duration": 139,
    "start_time": "2022-04-19T06:50:49.816Z"
   },
   {
    "duration": 247,
    "start_time": "2022-04-19T06:50:59.928Z"
   },
   {
    "duration": 242,
    "start_time": "2022-04-19T06:51:08.849Z"
   },
   {
    "duration": 236,
    "start_time": "2022-04-19T06:51:12.989Z"
   },
   {
    "duration": 243,
    "start_time": "2022-04-19T06:51:23.648Z"
   },
   {
    "duration": 267,
    "start_time": "2022-04-19T06:51:27.460Z"
   },
   {
    "duration": 167,
    "start_time": "2022-04-19T06:51:32.105Z"
   },
   {
    "duration": 145,
    "start_time": "2022-04-19T06:51:35.889Z"
   },
   {
    "duration": 16,
    "start_time": "2022-04-19T06:52:55.415Z"
   },
   {
    "duration": 28,
    "start_time": "2022-04-19T06:53:12.852Z"
   },
   {
    "duration": 155,
    "start_time": "2022-04-19T06:53:12.977Z"
   },
   {
    "duration": 161,
    "start_time": "2022-04-19T06:53:20.583Z"
   },
   {
    "duration": 162,
    "start_time": "2022-04-19T07:01:42.732Z"
   },
   {
    "duration": 7,
    "start_time": "2022-04-19T07:01:51.025Z"
   },
   {
    "duration": 28,
    "start_time": "2022-04-19T07:01:51.914Z"
   },
   {
    "duration": 173,
    "start_time": "2022-04-19T07:01:52.308Z"
   },
   {
    "duration": 23,
    "start_time": "2022-04-19T07:01:53.784Z"
   },
   {
    "duration": 22,
    "start_time": "2022-04-19T07:01:54.008Z"
   },
   {
    "duration": 178,
    "start_time": "2022-04-19T07:01:55.471Z"
   },
   {
    "duration": 4,
    "start_time": "2022-04-19T07:01:57.394Z"
   },
   {
    "duration": 22,
    "start_time": "2022-04-19T07:04:04.931Z"
   },
   {
    "duration": 21,
    "start_time": "2022-04-19T07:04:19.448Z"
   },
   {
    "duration": 22,
    "start_time": "2022-04-19T07:04:20.569Z"
   },
   {
    "duration": 165,
    "start_time": "2022-04-19T07:04:29.514Z"
   },
   {
    "duration": 4,
    "start_time": "2022-04-19T07:04:36.269Z"
   },
   {
    "duration": 783,
    "start_time": "2022-04-19T07:04:36.302Z"
   },
   {
    "duration": 4,
    "start_time": "2022-04-19T07:04:37.087Z"
   },
   {
    "duration": 535,
    "start_time": "2022-04-19T07:04:37.092Z"
   },
   {
    "duration": 461,
    "start_time": "2022-04-19T07:04:37.630Z"
   },
   {
    "duration": 466,
    "start_time": "2022-04-19T07:04:38.093Z"
   },
   {
    "duration": 46,
    "start_time": "2022-04-19T07:04:38.561Z"
   },
   {
    "duration": 44,
    "start_time": "2022-04-19T07:04:38.609Z"
   },
   {
    "duration": 38,
    "start_time": "2022-04-19T07:04:38.655Z"
   },
   {
    "duration": 256,
    "start_time": "2022-04-19T07:04:38.695Z"
   },
   {
    "duration": 32,
    "start_time": "2022-04-19T07:04:38.954Z"
   },
   {
    "duration": 262,
    "start_time": "2022-04-19T07:04:38.987Z"
   },
   {
    "duration": 34,
    "start_time": "2022-04-19T07:04:39.251Z"
   },
   {
    "duration": 253,
    "start_time": "2022-04-19T07:04:39.287Z"
   },
   {
    "duration": 20,
    "start_time": "2022-04-19T07:04:39.542Z"
   },
   {
    "duration": 81,
    "start_time": "2022-04-19T07:04:39.563Z"
   },
   {
    "duration": 315,
    "start_time": "2022-04-19T07:04:39.645Z"
   },
   {
    "duration": 21,
    "start_time": "2022-04-19T07:04:39.962Z"
   },
   {
    "duration": 23,
    "start_time": "2022-04-19T07:04:39.985Z"
   },
   {
    "duration": 17,
    "start_time": "2022-04-19T07:04:40.010Z"
   },
   {
    "duration": 45,
    "start_time": "2022-04-19T07:04:40.029Z"
   },
   {
    "duration": 188,
    "start_time": "2022-04-19T07:04:40.075Z"
   },
   {
    "duration": 24,
    "start_time": "2022-04-19T07:04:40.273Z"
   },
   {
    "duration": 21,
    "start_time": "2022-04-19T07:04:40.299Z"
   },
   {
    "duration": 183,
    "start_time": "2022-04-19T07:04:40.322Z"
   },
   {
    "duration": 4,
    "start_time": "2022-04-19T07:04:40.506Z"
   },
   {
    "duration": 195,
    "start_time": "2022-04-19T07:04:40.512Z"
   },
   {
    "duration": 22,
    "start_time": "2022-04-19T07:04:40.709Z"
   },
   {
    "duration": 22,
    "start_time": "2022-04-19T07:04:40.734Z"
   },
   {
    "duration": 208,
    "start_time": "2022-04-19T07:04:40.758Z"
   },
   {
    "duration": 167,
    "start_time": "2022-04-19T07:04:44.613Z"
   },
   {
    "duration": 3,
    "start_time": "2022-04-19T07:05:57.400Z"
   },
   {
    "duration": 4,
    "start_time": "2022-04-19T07:05:57.621Z"
   },
   {
    "duration": 23,
    "start_time": "2022-04-19T07:05:57.831Z"
   },
   {
    "duration": 23,
    "start_time": "2022-04-19T07:05:59.099Z"
   },
   {
    "duration": 30,
    "start_time": "2022-04-19T07:05:59.282Z"
   },
   {
    "duration": 4,
    "start_time": "2022-04-19T07:06:00.341Z"
   },
   {
    "duration": 4,
    "start_time": "2022-04-19T07:06:00.547Z"
   },
   {
    "duration": 860,
    "start_time": "2022-04-19T07:06:00.853Z"
   },
   {
    "duration": 16,
    "start_time": "2022-04-19T07:06:01.771Z"
   },
   {
    "duration": 6,
    "start_time": "2022-04-19T07:06:06.933Z"
   },
   {
    "duration": 544,
    "start_time": "2022-04-19T07:07:38.376Z"
   },
   {
    "duration": 4,
    "start_time": "2022-04-19T07:07:38.923Z"
   },
   {
    "duration": 9,
    "start_time": "2022-04-19T07:07:38.928Z"
   },
   {
    "duration": 22,
    "start_time": "2022-04-19T07:07:39.609Z"
   },
   {
    "duration": 205,
    "start_time": "2022-04-19T07:07:39.867Z"
   },
   {
    "duration": 17,
    "start_time": "2022-04-19T07:07:41.894Z"
   },
   {
    "duration": 14,
    "start_time": "2022-04-19T07:07:46.471Z"
   },
   {
    "duration": 3,
    "start_time": "2022-04-19T07:07:53.325Z"
   },
   {
    "duration": 16226,
    "start_time": "2022-04-19T07:07:53.351Z"
   },
   {
    "duration": 195,
    "start_time": "2022-04-19T07:08:09.579Z"
   },
   {
    "duration": 98,
    "start_time": "2022-04-19T07:08:09.777Z"
   },
   {
    "duration": 64,
    "start_time": "2022-04-19T07:08:20.205Z"
   },
   {
    "duration": 28,
    "start_time": "2022-04-19T07:08:20.271Z"
   },
   {
    "duration": 4,
    "start_time": "2022-04-19T07:08:20.300Z"
   },
   {
    "duration": 6,
    "start_time": "2022-04-19T07:08:20.306Z"
   },
   {
    "duration": 4,
    "start_time": "2022-04-19T07:08:20.916Z"
   },
   {
    "duration": 4,
    "start_time": "2022-04-19T07:08:21.157Z"
   },
   {
    "duration": 3,
    "start_time": "2022-04-19T07:08:22.565Z"
   },
   {
    "duration": 3,
    "start_time": "2022-04-19T07:08:22.726Z"
   },
   {
    "duration": 4,
    "start_time": "2022-04-19T07:08:22.958Z"
   },
   {
    "duration": 164443,
    "start_time": "2022-04-19T07:08:23.269Z"
   },
   {
    "duration": 619,
    "start_time": "2022-04-19T07:11:07.715Z"
   },
   {
    "duration": 8,
    "start_time": "2022-04-19T07:11:08.336Z"
   },
   {
    "duration": 626,
    "start_time": "2022-04-19T07:11:08.346Z"
   },
   {
    "duration": 8,
    "start_time": "2022-04-19T07:11:08.974Z"
   },
   {
    "duration": 3,
    "start_time": "2022-04-19T07:11:08.984Z"
   },
   {
    "duration": 5595,
    "start_time": "2022-04-19T07:11:08.989Z"
   },
   {
    "duration": 417,
    "start_time": "2022-04-19T07:11:14.672Z"
   },
   {
    "duration": 5,
    "start_time": "2022-04-19T07:11:15.174Z"
   },
   {
    "duration": 493,
    "start_time": "2022-04-19T07:11:15.182Z"
   },
   {
    "duration": 6,
    "start_time": "2022-04-19T07:11:15.677Z"
   },
   {
    "duration": 11,
    "start_time": "2022-04-19T07:11:45.995Z"
   },
   {
    "duration": 4,
    "start_time": "2022-04-19T08:06:13.799Z"
   },
   {
    "duration": 4,
    "start_time": "2022-04-19T08:06:43.927Z"
   },
   {
    "duration": 3,
    "start_time": "2022-04-19T08:17:19.185Z"
   },
   {
    "duration": 3,
    "start_time": "2022-04-19T08:18:19.306Z"
   },
   {
    "duration": 12,
    "start_time": "2022-04-19T08:18:20.126Z"
   },
   {
    "duration": 11,
    "start_time": "2022-04-19T08:19:13.845Z"
   },
   {
    "duration": 14,
    "start_time": "2022-04-19T08:19:33.989Z"
   },
   {
    "duration": 123,
    "start_time": "2022-04-19T08:22:24.186Z"
   },
   {
    "duration": 127,
    "start_time": "2022-04-19T08:23:30.139Z"
   },
   {
    "duration": 424481,
    "start_time": "2022-04-19T08:23:35.612Z"
   },
   {
    "duration": 3,
    "start_time": "2022-04-19T08:30:40.096Z"
   },
   {
    "duration": 4,
    "start_time": "2022-04-19T08:34:36.389Z"
   },
   {
    "duration": 1578046,
    "start_time": "2022-04-19T08:35:09.735Z"
   },
   {
    "duration": 4,
    "start_time": "2022-04-19T09:01:27.783Z"
   },
   {
    "duration": 3,
    "start_time": "2022-04-19T10:07:35.020Z"
   },
   {
    "duration": 4597,
    "start_time": "2022-04-19T10:07:35.880Z"
   },
   {
    "duration": 505,
    "start_time": "2022-04-19T10:07:40.479Z"
   },
   {
    "duration": 5,
    "start_time": "2022-04-19T10:07:40.985Z"
   },
   {
    "duration": 586,
    "start_time": "2022-04-19T10:07:40.992Z"
   },
   {
    "duration": 4,
    "start_time": "2022-04-19T10:07:41.580Z"
   },
   {
    "duration": 11,
    "start_time": "2022-04-19T10:07:52.385Z"
   },
   {
    "duration": 748,
    "start_time": "2022-04-19T10:24:03.828Z"
   },
   {
    "duration": 4,
    "start_time": "2022-04-19T10:24:05.099Z"
   },
   {
    "duration": 557,
    "start_time": "2022-04-19T10:24:05.738Z"
   },
   {
    "duration": 454,
    "start_time": "2022-04-19T10:24:09.459Z"
   },
   {
    "duration": 437,
    "start_time": "2022-04-19T10:24:10.006Z"
   },
   {
    "duration": 30,
    "start_time": "2022-04-19T10:24:53.966Z"
   },
   {
    "duration": 380,
    "start_time": "2022-04-19T10:25:22.108Z"
   },
   {
    "duration": 36,
    "start_time": "2022-04-19T10:27:30.563Z"
   },
   {
    "duration": 25,
    "start_time": "2022-04-19T10:27:44.950Z"
   },
   {
    "duration": 24,
    "start_time": "2022-04-19T10:27:46.273Z"
   },
   {
    "duration": 170,
    "start_time": "2022-04-19T10:27:46.642Z"
   },
   {
    "duration": 4,
    "start_time": "2022-04-19T10:29:39.215Z"
   },
   {
    "duration": 860,
    "start_time": "2022-04-19T10:29:39.221Z"
   },
   {
    "duration": 4,
    "start_time": "2022-04-19T10:29:40.087Z"
   },
   {
    "duration": 637,
    "start_time": "2022-04-19T10:29:40.093Z"
   },
   {
    "duration": 536,
    "start_time": "2022-04-19T10:29:40.732Z"
   },
   {
    "duration": 541,
    "start_time": "2022-04-19T10:29:41.270Z"
   },
   {
    "duration": 2,
    "start_time": "2022-04-19T10:29:41.813Z"
   },
   {
    "duration": 423,
    "start_time": "2022-04-19T10:29:41.817Z"
   },
   {
    "duration": 43,
    "start_time": "2022-04-19T10:29:42.241Z"
   },
   {
    "duration": 42,
    "start_time": "2022-04-19T10:29:42.287Z"
   },
   {
    "duration": 56,
    "start_time": "2022-04-19T10:29:42.331Z"
   },
   {
    "duration": 31,
    "start_time": "2022-04-19T10:29:42.389Z"
   },
   {
    "duration": 299,
    "start_time": "2022-04-19T10:29:42.421Z"
   },
   {
    "duration": 28,
    "start_time": "2022-04-19T10:29:42.724Z"
   },
   {
    "duration": 299,
    "start_time": "2022-04-19T10:29:42.753Z"
   },
   {
    "duration": 39,
    "start_time": "2022-04-19T10:29:43.054Z"
   },
   {
    "duration": 274,
    "start_time": "2022-04-19T10:29:43.095Z"
   },
   {
    "duration": 33,
    "start_time": "2022-04-19T10:29:43.371Z"
   },
   {
    "duration": 99,
    "start_time": "2022-04-19T10:29:43.406Z"
   },
   {
    "duration": 202,
    "start_time": "2022-04-19T10:29:43.507Z"
   },
   {
    "duration": 13,
    "start_time": "2022-04-19T10:29:43.710Z"
   },
   {
    "duration": 25,
    "start_time": "2022-04-19T10:29:43.725Z"
   },
   {
    "duration": 42,
    "start_time": "2022-04-19T10:29:43.752Z"
   },
   {
    "duration": 21,
    "start_time": "2022-04-19T10:29:43.796Z"
   },
   {
    "duration": 204,
    "start_time": "2022-04-19T10:29:43.819Z"
   },
   {
    "duration": 22,
    "start_time": "2022-04-19T10:29:44.025Z"
   },
   {
    "duration": 48,
    "start_time": "2022-04-19T10:29:44.049Z"
   },
   {
    "duration": 193,
    "start_time": "2022-04-19T10:29:44.098Z"
   },
   {
    "duration": 4,
    "start_time": "2022-04-19T10:29:44.292Z"
   },
   {
    "duration": 195,
    "start_time": "2022-04-19T10:29:44.298Z"
   },
   {
    "duration": 21,
    "start_time": "2022-04-19T10:29:44.495Z"
   },
   {
    "duration": 21,
    "start_time": "2022-04-19T10:29:44.517Z"
   },
   {
    "duration": 208,
    "start_time": "2022-04-19T10:29:44.539Z"
   },
   {
    "duration": 3,
    "start_time": "2022-04-19T10:29:44.749Z"
   },
   {
    "duration": 21,
    "start_time": "2022-04-19T10:29:44.754Z"
   },
   {
    "duration": 32,
    "start_time": "2022-04-19T10:29:44.777Z"
   },
   {
    "duration": 21,
    "start_time": "2022-04-19T10:29:44.810Z"
   },
   {
    "duration": 41,
    "start_time": "2022-04-19T10:29:44.833Z"
   },
   {
    "duration": 6,
    "start_time": "2022-04-19T10:29:44.878Z"
   },
   {
    "duration": 10,
    "start_time": "2022-04-19T10:29:44.886Z"
   },
   {
    "duration": 645,
    "start_time": "2022-04-19T10:29:44.901Z"
   },
   {
    "duration": 14,
    "start_time": "2022-04-19T10:29:45.548Z"
   },
   {
    "duration": 181,
    "start_time": "2022-04-19T10:29:45.564Z"
   },
   {
    "duration": 538,
    "start_time": "2022-04-19T10:29:45.747Z"
   },
   {
    "duration": 4,
    "start_time": "2022-04-19T10:29:46.287Z"
   },
   {
    "duration": 5,
    "start_time": "2022-04-19T10:29:46.293Z"
   },
   {
    "duration": 20,
    "start_time": "2022-04-19T10:29:46.299Z"
   },
   {
    "duration": 228,
    "start_time": "2022-04-19T10:29:46.321Z"
   },
   {
    "duration": 27,
    "start_time": "2022-04-19T10:29:46.551Z"
   },
   {
    "duration": 19,
    "start_time": "2022-04-19T10:29:46.580Z"
   },
   {
    "duration": 2,
    "start_time": "2022-04-19T10:29:46.601Z"
   },
   {
    "duration": 22284,
    "start_time": "2022-04-19T10:29:46.605Z"
   },
   {
    "duration": 284,
    "start_time": "2022-04-19T10:30:08.891Z"
   },
   {
    "duration": 6,
    "start_time": "2022-04-19T10:30:09.179Z"
   },
   {
    "duration": 159,
    "start_time": "2022-04-19T10:30:09.188Z"
   },
   {
    "duration": 35,
    "start_time": "2022-04-19T10:30:09.349Z"
   },
   {
    "duration": 5,
    "start_time": "2022-04-19T10:30:09.387Z"
   },
   {
    "duration": 7,
    "start_time": "2022-04-19T10:30:09.394Z"
   },
   {
    "duration": 5,
    "start_time": "2022-04-19T10:30:09.403Z"
   },
   {
    "duration": 7,
    "start_time": "2022-04-19T10:30:09.410Z"
   },
   {
    "duration": 5,
    "start_time": "2022-04-19T10:30:09.419Z"
   },
   {
    "duration": 5,
    "start_time": "2022-04-19T10:30:09.426Z"
   },
   {
    "duration": 17,
    "start_time": "2022-04-19T10:30:09.433Z"
   },
   {
    "duration": 173284,
    "start_time": "2022-04-19T10:30:09.452Z"
   },
   {
    "duration": 624,
    "start_time": "2022-04-19T10:33:02.738Z"
   },
   {
    "duration": 14,
    "start_time": "2022-04-19T10:33:03.364Z"
   },
   {
    "duration": 630,
    "start_time": "2022-04-19T10:33:03.380Z"
   },
   {
    "duration": 9,
    "start_time": "2022-04-19T10:33:04.011Z"
   },
   {
    "duration": 1978856,
    "start_time": "2022-04-19T10:33:04.021Z"
   },
   {
    "duration": 3,
    "start_time": "2022-04-19T11:06:02.879Z"
   },
   {
    "duration": 12,
    "start_time": "2022-04-19T11:06:02.884Z"
   },
   {
    "duration": 4783,
    "start_time": "2022-04-19T11:06:02.898Z"
   },
   {
    "duration": 505,
    "start_time": "2022-04-19T11:06:07.683Z"
   },
   {
    "duration": 6,
    "start_time": "2022-04-19T11:06:08.274Z"
   },
   {
    "duration": 511,
    "start_time": "2022-04-19T11:06:08.281Z"
   },
   {
    "duration": 6,
    "start_time": "2022-04-19T11:06:08.794Z"
   },
   {
    "duration": 13,
    "start_time": "2022-04-19T11:06:08.801Z"
   },
   {
    "duration": 58,
    "start_time": "2022-04-19T11:06:08.816Z"
   },
   {
    "duration": 3330,
    "start_time": "2022-04-24T18:12:19.553Z"
   }
  ],
  "colab": {
   "collapsed_sections": [],
   "name": "3.2 Определение стоимости автомобилей_1d1fd3e2-6000-4ebf-817c-61710d58ea16.ipynb",
   "provenance": []
  },
  "kernelspec": {
   "display_name": "Python 3",
   "language": "python",
   "name": "python3"
  },
  "language_info": {
   "codemirror_mode": {
    "name": "ipython",
    "version": 3
   },
   "file_extension": ".py",
   "mimetype": "text/x-python",
   "name": "python",
   "nbconvert_exporter": "python",
   "pygments_lexer": "ipython3",
   "version": "3.7.4"
  },
  "toc": {
   "base_numbering": 1,
   "nav_menu": {},
   "number_sections": true,
   "sideBar": true,
   "skip_h1_title": true,
   "title_cell": "Table of Contents",
   "title_sidebar": "Contents",
   "toc_cell": true,
   "toc_position": {
    "height": "calc(100% - 180px)",
    "left": "10px",
    "top": "150px",
    "width": "275.4px"
   },
   "toc_section_display": true,
   "toc_window_display": true
  }
 },
 "nbformat": 4,
 "nbformat_minor": 1
}
