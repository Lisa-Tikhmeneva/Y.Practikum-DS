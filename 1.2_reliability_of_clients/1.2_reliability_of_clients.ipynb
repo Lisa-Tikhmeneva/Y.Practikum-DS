{
 "cells": [
  {
   "cell_type": "markdown",
   "metadata": {
    "id": "QtggbDVJ-8Qd"
   },
   "source": [
    "# Исследование надёжности заёмщиков\n",
    "\n",
    "Заказчик — кредитный отдел банка. Нужно разобраться, влияет ли семейное положение и количество детей клиента на факт погашения кредита в срок. \n",
    "\n",
    "Результаты исследования будут учтены при построении модели **кредитного скоринга** — специальной системы, которая оценивает способность потенциального заёмщика вернуть кредит банку."
   ]
  },
  {
   "cell_type": "markdown",
   "metadata": {
    "id": "64zNN6V8-8Qf"
   },
   "source": [
    "**Цель исследования** — найти ответы на четыре вопроса:\n",
    "1. Есть ли зависимость между наличием детей и возвратом кредита в срок?\n",
    "2. Есть ли зависимость между семейным положением и возвратом кредита в срок?\n",
    "3. Есть ли зависимость между уровнем дохода и возвратом кредита в срок?\n",
    "4. Как разные цели кредита влияют на его возврат в срок?\n",
    "\n",
    "\n",
    "Входные данные от банка — статистика о платёжеспособности клиентов.\n",
    "\n",
    "**Ход исследования**\n",
    "\n",
    "Данные о клиентах мы получили из файла `data.csv`. О качестве данных ничего не известно. Поэтому перед поиском ответов понадобится обзор данных. \n",
    "\n",
    "Проверим данные на ошибки, и оценим их влияние на исследование. \n",
    "\n",
    " \n",
    "Исследование пройдёт в три этапа:\n",
    " 1. Обзор данных.\n",
    " 2. Предобработка данных.\n",
    " 3. Поиск ответов на вопросы.\n"
   ]
  },
  {
   "cell_type": "markdown",
   "metadata": {
    "id": "eg1sJQ3A-8Qg"
   },
   "source": [
    "## Обзор данных\n",
    "\n",
    "Составим первое представление о данных банка."
   ]
  },
  {
   "cell_type": "code",
   "execution_count": null,
   "metadata": {
    "id": "zEjEYXOD-8Qh"
   },
   "outputs": [],
   "source": [
    "from pymystem3 import Mystem\n",
    "import pandas as pd"
   ]
  },
  {
   "cell_type": "code",
   "execution_count": null,
   "metadata": {
    "id": "t898oTM1-8Qj"
   },
   "outputs": [],
   "source": [
    "df = pd.read_csv('/datasets/data.csv')"
   ]
  },
  {
   "cell_type": "markdown",
   "metadata": {
    "id": "Fb9RKMBj-8Qk"
   },
   "source": [
    "Выведем на экран первые десять строк таблицы:"
   ]
  },
  {
   "cell_type": "code",
   "execution_count": null,
   "metadata": {
    "id": "adx5cnV0-8Qm",
    "outputId": "7517d334-8f57-406e-ca57-bef7a0ce6fcc"
   },
   "outputs": [
    {
     "data": {
      "text/html": [
       "<div>\n",
       "<style scoped>\n",
       "    .dataframe tbody tr th:only-of-type {\n",
       "        vertical-align: middle;\n",
       "    }\n",
       "\n",
       "    .dataframe tbody tr th {\n",
       "        vertical-align: top;\n",
       "    }\n",
       "\n",
       "    .dataframe thead th {\n",
       "        text-align: right;\n",
       "    }\n",
       "</style>\n",
       "<table border=\"1\" class=\"dataframe\">\n",
       "  <thead>\n",
       "    <tr style=\"text-align: right;\">\n",
       "      <th></th>\n",
       "      <th>children</th>\n",
       "      <th>days_employed</th>\n",
       "      <th>dob_years</th>\n",
       "      <th>education</th>\n",
       "      <th>education_id</th>\n",
       "      <th>family_status</th>\n",
       "      <th>family_status_id</th>\n",
       "      <th>gender</th>\n",
       "      <th>income_type</th>\n",
       "      <th>debt</th>\n",
       "      <th>total_income</th>\n",
       "      <th>purpose</th>\n",
       "    </tr>\n",
       "  </thead>\n",
       "  <tbody>\n",
       "    <tr>\n",
       "      <td>0</td>\n",
       "      <td>1</td>\n",
       "      <td>-8437.673028</td>\n",
       "      <td>42</td>\n",
       "      <td>высшее</td>\n",
       "      <td>0</td>\n",
       "      <td>женат / замужем</td>\n",
       "      <td>0</td>\n",
       "      <td>F</td>\n",
       "      <td>сотрудник</td>\n",
       "      <td>0</td>\n",
       "      <td>253875.639453</td>\n",
       "      <td>покупка жилья</td>\n",
       "    </tr>\n",
       "    <tr>\n",
       "      <td>1</td>\n",
       "      <td>1</td>\n",
       "      <td>-4024.803754</td>\n",
       "      <td>36</td>\n",
       "      <td>среднее</td>\n",
       "      <td>1</td>\n",
       "      <td>женат / замужем</td>\n",
       "      <td>0</td>\n",
       "      <td>F</td>\n",
       "      <td>сотрудник</td>\n",
       "      <td>0</td>\n",
       "      <td>112080.014102</td>\n",
       "      <td>приобретение автомобиля</td>\n",
       "    </tr>\n",
       "    <tr>\n",
       "      <td>2</td>\n",
       "      <td>0</td>\n",
       "      <td>-5623.422610</td>\n",
       "      <td>33</td>\n",
       "      <td>Среднее</td>\n",
       "      <td>1</td>\n",
       "      <td>женат / замужем</td>\n",
       "      <td>0</td>\n",
       "      <td>M</td>\n",
       "      <td>сотрудник</td>\n",
       "      <td>0</td>\n",
       "      <td>145885.952297</td>\n",
       "      <td>покупка жилья</td>\n",
       "    </tr>\n",
       "    <tr>\n",
       "      <td>3</td>\n",
       "      <td>3</td>\n",
       "      <td>-4124.747207</td>\n",
       "      <td>32</td>\n",
       "      <td>среднее</td>\n",
       "      <td>1</td>\n",
       "      <td>женат / замужем</td>\n",
       "      <td>0</td>\n",
       "      <td>M</td>\n",
       "      <td>сотрудник</td>\n",
       "      <td>0</td>\n",
       "      <td>267628.550329</td>\n",
       "      <td>дополнительное образование</td>\n",
       "    </tr>\n",
       "    <tr>\n",
       "      <td>4</td>\n",
       "      <td>0</td>\n",
       "      <td>340266.072047</td>\n",
       "      <td>53</td>\n",
       "      <td>среднее</td>\n",
       "      <td>1</td>\n",
       "      <td>гражданский брак</td>\n",
       "      <td>1</td>\n",
       "      <td>F</td>\n",
       "      <td>пенсионер</td>\n",
       "      <td>0</td>\n",
       "      <td>158616.077870</td>\n",
       "      <td>сыграть свадьбу</td>\n",
       "    </tr>\n",
       "    <tr>\n",
       "      <td>5</td>\n",
       "      <td>0</td>\n",
       "      <td>-926.185831</td>\n",
       "      <td>27</td>\n",
       "      <td>высшее</td>\n",
       "      <td>0</td>\n",
       "      <td>гражданский брак</td>\n",
       "      <td>1</td>\n",
       "      <td>M</td>\n",
       "      <td>компаньон</td>\n",
       "      <td>0</td>\n",
       "      <td>255763.565419</td>\n",
       "      <td>покупка жилья</td>\n",
       "    </tr>\n",
       "    <tr>\n",
       "      <td>6</td>\n",
       "      <td>0</td>\n",
       "      <td>-2879.202052</td>\n",
       "      <td>43</td>\n",
       "      <td>высшее</td>\n",
       "      <td>0</td>\n",
       "      <td>женат / замужем</td>\n",
       "      <td>0</td>\n",
       "      <td>F</td>\n",
       "      <td>компаньон</td>\n",
       "      <td>0</td>\n",
       "      <td>240525.971920</td>\n",
       "      <td>операции с жильем</td>\n",
       "    </tr>\n",
       "    <tr>\n",
       "      <td>7</td>\n",
       "      <td>0</td>\n",
       "      <td>-152.779569</td>\n",
       "      <td>50</td>\n",
       "      <td>СРЕДНЕЕ</td>\n",
       "      <td>1</td>\n",
       "      <td>женат / замужем</td>\n",
       "      <td>0</td>\n",
       "      <td>M</td>\n",
       "      <td>сотрудник</td>\n",
       "      <td>0</td>\n",
       "      <td>135823.934197</td>\n",
       "      <td>образование</td>\n",
       "    </tr>\n",
       "    <tr>\n",
       "      <td>8</td>\n",
       "      <td>2</td>\n",
       "      <td>-6929.865299</td>\n",
       "      <td>35</td>\n",
       "      <td>ВЫСШЕЕ</td>\n",
       "      <td>0</td>\n",
       "      <td>гражданский брак</td>\n",
       "      <td>1</td>\n",
       "      <td>F</td>\n",
       "      <td>сотрудник</td>\n",
       "      <td>0</td>\n",
       "      <td>95856.832424</td>\n",
       "      <td>на проведение свадьбы</td>\n",
       "    </tr>\n",
       "    <tr>\n",
       "      <td>9</td>\n",
       "      <td>0</td>\n",
       "      <td>-2188.756445</td>\n",
       "      <td>41</td>\n",
       "      <td>среднее</td>\n",
       "      <td>1</td>\n",
       "      <td>женат / замужем</td>\n",
       "      <td>0</td>\n",
       "      <td>M</td>\n",
       "      <td>сотрудник</td>\n",
       "      <td>0</td>\n",
       "      <td>144425.938277</td>\n",
       "      <td>покупка жилья для семьи</td>\n",
       "    </tr>\n",
       "  </tbody>\n",
       "</table>\n",
       "</div>"
      ],
      "text/plain": [
       "   children  days_employed  dob_years education  education_id  \\\n",
       "0         1   -8437.673028         42    высшее             0   \n",
       "1         1   -4024.803754         36   среднее             1   \n",
       "2         0   -5623.422610         33   Среднее             1   \n",
       "3         3   -4124.747207         32   среднее             1   \n",
       "4         0  340266.072047         53   среднее             1   \n",
       "5         0    -926.185831         27    высшее             0   \n",
       "6         0   -2879.202052         43    высшее             0   \n",
       "7         0    -152.779569         50   СРЕДНЕЕ             1   \n",
       "8         2   -6929.865299         35    ВЫСШЕЕ             0   \n",
       "9         0   -2188.756445         41   среднее             1   \n",
       "\n",
       "      family_status  family_status_id gender income_type  debt   total_income  \\\n",
       "0   женат / замужем                 0      F   сотрудник     0  253875.639453   \n",
       "1   женат / замужем                 0      F   сотрудник     0  112080.014102   \n",
       "2   женат / замужем                 0      M   сотрудник     0  145885.952297   \n",
       "3   женат / замужем                 0      M   сотрудник     0  267628.550329   \n",
       "4  гражданский брак                 1      F   пенсионер     0  158616.077870   \n",
       "5  гражданский брак                 1      M   компаньон     0  255763.565419   \n",
       "6   женат / замужем                 0      F   компаньон     0  240525.971920   \n",
       "7   женат / замужем                 0      M   сотрудник     0  135823.934197   \n",
       "8  гражданский брак                 1      F   сотрудник     0   95856.832424   \n",
       "9   женат / замужем                 0      M   сотрудник     0  144425.938277   \n",
       "\n",
       "                      purpose  \n",
       "0               покупка жилья  \n",
       "1     приобретение автомобиля  \n",
       "2               покупка жилья  \n",
       "3  дополнительное образование  \n",
       "4             сыграть свадьбу  \n",
       "5               покупка жилья  \n",
       "6           операции с жильем  \n",
       "7                 образование  \n",
       "8       на проведение свадьбы  \n",
       "9     покупка жилья для семьи  "
      ]
     },
     "execution_count": 3,
     "metadata": {},
     "output_type": "execute_result"
    }
   ],
   "source": [
    "df.head(10)"
   ]
  },
  {
   "cell_type": "code",
   "execution_count": null,
   "metadata": {
    "id": "oFVJYwsj-8Qt",
    "outputId": "d1aca32e-ab95-4aa4-b141-347095135f78"
   },
   "outputs": [
    {
     "name": "stdout",
     "output_type": "stream",
     "text": [
      "<class 'pandas.core.frame.DataFrame'>\n",
      "RangeIndex: 21525 entries, 0 to 21524\n",
      "Data columns (total 12 columns):\n",
      "children            21525 non-null int64\n",
      "days_employed       19351 non-null float64\n",
      "dob_years           21525 non-null int64\n",
      "education           21525 non-null object\n",
      "education_id        21525 non-null int64\n",
      "family_status       21525 non-null object\n",
      "family_status_id    21525 non-null int64\n",
      "gender              21525 non-null object\n",
      "income_type         21525 non-null object\n",
      "debt                21525 non-null int64\n",
      "total_income        19351 non-null float64\n",
      "purpose             21525 non-null object\n",
      "dtypes: float64(2), int64(5), object(5)\n",
      "memory usage: 2.0+ MB\n"
     ]
    }
   ],
   "source": [
    "df.info()"
   ]
  },
  {
   "cell_type": "markdown",
   "metadata": {
    "id": "77HWOBmJ-8Qv"
   },
   "source": [
    "Итак, в таблице двенадцать столбцов. Тип данных в двух столбцах `float64`, в пяти `int64`, во всех остальных столбцах — `object`.\n",
    "\n",
    "Согласно документации к данным:\n",
    "*\t`children` — количество детей в семье\n",
    "*\t`days_employed` — общий трудовой стаж в днях\n",
    "*\t`dob_years` — возраст клиента в годах\n",
    "*\t`education` — уровень образования клиента\n",
    "*\t`education_id` — идентификатор уровня образования\n",
    "*\t`family_status` — семейное положение\n",
    "*\t`family_status_id` — идентификатор семейного положения\n",
    "*\t`gender` — пол клиента\n",
    "*\t`income_type` — тип занятости\n",
    "*\t`debt` — имел ли задолженность по возврату кредитов\n",
    "*\t`total_income` — ежемесячный доход\n",
    "*\t`purpose` — цель получения кредита\n",
    "\n",
    "\n",
    "Количество значений в столбцах различается. Значит, в данных есть пропущенные значения."
   ]
  },
  {
   "cell_type": "markdown",
   "metadata": {
    "id": "dTBdqn8H-8Qx"
   },
   "source": [
    "Посмотрим какие значения присутствуют в столбцах:"
   ]
  },
  {
   "cell_type": "code",
   "execution_count": null,
   "metadata": {
    "id": "2fIhmcwl-8Qx",
    "outputId": "4be901a7-6aa6-4c5c-ee6a-e0644d58e376",
    "scrolled": true
   },
   "outputs": [
    {
     "data": {
      "text/plain": [
       " 0     14149\n",
       " 1      4818\n",
       " 2      2055\n",
       " 3       330\n",
       " 20       76\n",
       "-1        47\n",
       " 4        41\n",
       " 5         9\n",
       "Name: children, dtype: int64"
      ]
     },
     "execution_count": 5,
     "metadata": {},
     "output_type": "execute_result"
    }
   ],
   "source": [
    "df['children'].value_counts()"
   ]
  },
  {
   "cell_type": "markdown",
   "metadata": {
    "id": "KbDY5lwe-8Qz"
   },
   "source": [
    "Похоже, что при заполнении этой графы сотрудники банка ошиблись: -1 ребёнок это скорее всего 1 ребёнок, а 20 детей это скорее всего 2 ребёнка. Просто случайно нажали дополнительно клавишу и не заметили. Заменим значения согласно этой теории."
   ]
  },
  {
   "cell_type": "code",
   "execution_count": null,
   "metadata": {
    "id": "keRl0diZ-8Qz"
   },
   "outputs": [],
   "source": [
    "df.loc[df['children'] == -1, 'children'] = 1"
   ]
  },
  {
   "cell_type": "code",
   "execution_count": null,
   "metadata": {
    "id": "ptynhgfv-8Q0"
   },
   "outputs": [],
   "source": [
    "df.loc[df['children'] == 20, 'children'] = 2"
   ]
  },
  {
   "cell_type": "markdown",
   "metadata": {
    "id": "zS2CmJPW-8Q1"
   },
   "source": [
    "Проверим, что теперь количество детей похоже на правду:"
   ]
  },
  {
   "cell_type": "code",
   "execution_count": null,
   "metadata": {
    "id": "7bebDpx0-8Q2",
    "outputId": "49bfff50-08ed-4545-824a-325c6bce76c9"
   },
   "outputs": [
    {
     "data": {
      "text/plain": [
       "0    14149\n",
       "1     4865\n",
       "2     2131\n",
       "3      330\n",
       "4       41\n",
       "5        9\n",
       "Name: children, dtype: int64"
      ]
     },
     "execution_count": 8,
     "metadata": {},
     "output_type": "execute_result"
    }
   ],
   "source": [
    "df['children'].value_counts()"
   ]
  },
  {
   "cell_type": "markdown",
   "metadata": {
    "id": "Ca_yR4Rh-8Q3"
   },
   "source": [
    "Изучим столбец с возрастом:"
   ]
  },
  {
   "cell_type": "code",
   "execution_count": null,
   "metadata": {
    "id": "vxZ-BbB--8Q3",
    "outputId": "8684d084-0d9f-41c5-b4bc-8eb6a8f8d5ae",
    "scrolled": true
   },
   "outputs": [
    {
     "data": {
      "text/plain": [
       "35    617\n",
       "40    609\n",
       "41    607\n",
       "34    603\n",
       "38    598\n",
       "42    597\n",
       "33    581\n",
       "39    573\n",
       "31    560\n",
       "36    555\n",
       "44    547\n",
       "29    545\n",
       "30    540\n",
       "48    538\n",
       "37    537\n",
       "50    514\n",
       "43    513\n",
       "32    510\n",
       "49    508\n",
       "28    503\n",
       "45    497\n",
       "27    493\n",
       "56    487\n",
       "52    484\n",
       "47    480\n",
       "54    479\n",
       "46    475\n",
       "58    461\n",
       "57    460\n",
       "53    459\n",
       "51    448\n",
       "59    444\n",
       "55    443\n",
       "26    408\n",
       "60    377\n",
       "25    357\n",
       "61    355\n",
       "62    352\n",
       "63    269\n",
       "64    265\n",
       "24    264\n",
       "23    254\n",
       "65    194\n",
       "66    183\n",
       "22    183\n",
       "67    167\n",
       "21    111\n",
       "0     101\n",
       "68     99\n",
       "69     85\n",
       "70     65\n",
       "71     58\n",
       "20     51\n",
       "72     33\n",
       "19     14\n",
       "73      8\n",
       "74      6\n",
       "75      1\n",
       "Name: dob_years, dtype: int64"
      ]
     },
     "execution_count": 9,
     "metadata": {},
     "output_type": "execute_result"
    }
   ],
   "source": [
    "df['dob_years'].value_counts()"
   ]
  },
  {
   "cell_type": "markdown",
   "metadata": {
    "id": "hHJ_xoc4-8Q4"
   },
   "source": [
    "В столбце в возрастом присутствуют нули... Скорее всего оператор не нажал цифру стоящую перед нулём и это люди с юбилеем (20,40,60 лет). Для поставленных вопросов возраст не нужен, поэтому ничего для данной задачи с этими нулями делать не будем."
   ]
  },
  {
   "cell_type": "markdown",
   "metadata": {
    "id": "Uhz7dif6-8Q5"
   },
   "source": [
    "Изучим столбец уровня образования:"
   ]
  },
  {
   "cell_type": "code",
   "execution_count": null,
   "metadata": {
    "id": "fzG_vWtA-8Q5",
    "outputId": "03135073-2a1c-410b-b0ba-ac59c9c56e62"
   },
   "outputs": [
    {
     "data": {
      "text/plain": [
       "среднее                13750\n",
       "высшее                  4718\n",
       "СРЕДНЕЕ                  772\n",
       "Среднее                  711\n",
       "неоконченное высшее      668\n",
       "ВЫСШЕЕ                   274\n",
       "Высшее                   268\n",
       "начальное                250\n",
       "Неоконченное высшее       47\n",
       "НЕОКОНЧЕННОЕ ВЫСШЕЕ       29\n",
       "НАЧАЛЬНОЕ                 17\n",
       "Начальное                 15\n",
       "ученая степень             4\n",
       "Ученая степень             1\n",
       "УЧЕНАЯ СТЕПЕНЬ             1\n",
       "Name: education, dtype: int64"
      ]
     },
     "execution_count": 10,
     "metadata": {},
     "output_type": "execute_result"
    }
   ],
   "source": [
    "df['education'].value_counts()"
   ]
  },
  {
   "cell_type": "code",
   "execution_count": null,
   "metadata": {
    "id": "meEgmqdB-8Q6",
    "outputId": "a94bd789-5ecc-4a1e-fa15-a863f4d1e4a2"
   },
   "outputs": [
    {
     "data": {
      "text/plain": [
       "1    15233\n",
       "0     5260\n",
       "2      744\n",
       "3      282\n",
       "4        6\n",
       "Name: education_id, dtype: int64"
      ]
     },
     "execution_count": 11,
     "metadata": {},
     "output_type": "execute_result"
    }
   ],
   "source": [
    "df['education_id'].value_counts()"
   ]
  },
  {
   "cell_type": "markdown",
   "metadata": {
    "id": "s-1llzaB-8Q6"
   },
   "source": [
    "Похоже, что категорий образования сильно меньше, чем значений в столбце \"образование\". Исправим эту ситуацию."
   ]
  },
  {
   "cell_type": "code",
   "execution_count": null,
   "metadata": {
    "id": "JrKUX3wo-8Q7",
    "outputId": "320938b3-d078-4f3b-c80d-fd216e9fec07",
    "scrolled": true
   },
   "outputs": [
    {
     "data": {
      "text/plain": [
       "среднее                15233\n",
       "высшее                  5260\n",
       "неоконченное высшее      744\n",
       "начальное                282\n",
       "ученая степень             6\n",
       "Name: education, dtype: int64"
      ]
     },
     "execution_count": 12,
     "metadata": {},
     "output_type": "execute_result"
    }
   ],
   "source": [
    "df['education'] = df['education'].str.lower()\n",
    "df['education'].value_counts()"
   ]
  },
  {
   "cell_type": "markdown",
   "metadata": {
    "id": "_0oC6THb-8Q8"
   },
   "source": [
    "Изучим столбец семейного положения:"
   ]
  },
  {
   "cell_type": "code",
   "execution_count": null,
   "metadata": {
    "id": "8RCbSQ25-8Q9",
    "outputId": "a0af5c95-aafa-4217-ddaf-cdc2a8248d59",
    "scrolled": true
   },
   "outputs": [
    {
     "data": {
      "text/plain": [
       "женат / замужем          12380\n",
       "гражданский брак          4177\n",
       "Не женат / не замужем     2813\n",
       "в разводе                 1195\n",
       "вдовец / вдова             960\n",
       "Name: family_status, dtype: int64"
      ]
     },
     "execution_count": 13,
     "metadata": {},
     "output_type": "execute_result"
    }
   ],
   "source": [
    "df['family_status'].value_counts()"
   ]
  },
  {
   "cell_type": "code",
   "execution_count": null,
   "metadata": {
    "id": "fRw_G__i-8Q9",
    "outputId": "51f761d6-64be-4e2d-87a4-b8ea481171ec"
   },
   "outputs": [
    {
     "data": {
      "text/plain": [
       "0    12380\n",
       "1     4177\n",
       "4     2813\n",
       "3     1195\n",
       "2      960\n",
       "Name: family_status_id, dtype: int64"
      ]
     },
     "execution_count": 14,
     "metadata": {},
     "output_type": "execute_result"
    }
   ],
   "source": [
    "df['family_status_id'].value_counts()"
   ]
  },
  {
   "cell_type": "markdown",
   "metadata": {
    "id": "XDzEF0Mj-8Q-"
   },
   "source": [
    "С семейным положением и индификатором положения всё в порядке."
   ]
  },
  {
   "cell_type": "markdown",
   "metadata": {
    "id": "ZU63U2Yq-8Q_"
   },
   "source": [
    "Изучим столбец пола клиента:"
   ]
  },
  {
   "cell_type": "code",
   "execution_count": null,
   "metadata": {
    "id": "cZvr4AKT-8Q_",
    "outputId": "b932e6e9-f7e9-4c8d-983c-848297b596cf"
   },
   "outputs": [
    {
     "data": {
      "text/plain": [
       "F      14236\n",
       "M       7288\n",
       "XNA        1\n",
       "Name: gender, dtype: int64"
      ]
     },
     "execution_count": 15,
     "metadata": {},
     "output_type": "execute_result"
    }
   ],
   "source": [
    "df['gender'].value_counts()"
   ]
  },
  {
   "cell_type": "markdown",
   "metadata": {
    "id": "w2sxCsGL-8RA"
   },
   "source": [
    "Одному человеку не указали его пол, но для поставленных задач это не важно."
   ]
  },
  {
   "cell_type": "markdown",
   "metadata": {
    "id": "a2WZoZMO-8RA"
   },
   "source": [
    "Изучим столбец с типом занятости:"
   ]
  },
  {
   "cell_type": "code",
   "execution_count": null,
   "metadata": {
    "id": "cXCDMkVF-8RB",
    "outputId": "83a481c2-a27c-4519-ad3a-d5565a6f4037",
    "scrolled": false
   },
   "outputs": [
    {
     "data": {
      "text/plain": [
       "сотрудник          11119\n",
       "компаньон           5085\n",
       "пенсионер           3856\n",
       "госслужащий         1459\n",
       "предприниматель        2\n",
       "безработный            2\n",
       "в декрете              1\n",
       "студент                1\n",
       "Name: income_type, dtype: int64"
      ]
     },
     "execution_count": 16,
     "metadata": {},
     "output_type": "execute_result"
    }
   ],
   "source": [
    "df['income_type'].value_counts()"
   ]
  },
  {
   "cell_type": "markdown",
   "metadata": {
    "id": "o8G2Cyts-8RB"
   },
   "source": [
    "Никаких подозрительных типов занятости не обнаружено."
   ]
  },
  {
   "cell_type": "markdown",
   "metadata": {
    "id": "omCF5aOU-8RC"
   },
   "source": [
    "Изучим столбец по задолженности кредитов:"
   ]
  },
  {
   "cell_type": "code",
   "execution_count": null,
   "metadata": {
    "id": "T05QBZ0A-8RD",
    "outputId": "ce53cbdb-12ce-40bb-82ef-2e357a8741a5"
   },
   "outputs": [
    {
     "data": {
      "text/plain": [
       "0    19784\n",
       "1     1741\n",
       "Name: debt, dtype: int64"
      ]
     },
     "execution_count": 17,
     "metadata": {},
     "output_type": "execute_result"
    }
   ],
   "source": [
    "df['debt'].value_counts()"
   ]
  },
  {
   "cell_type": "markdown",
   "metadata": {
    "id": "E_jr3I1x-8RD"
   },
   "source": [
    "Со столбцом о задолженности кредитов всё в порядке. 1 - имел задолженность, 0 - не имел."
   ]
  },
  {
   "cell_type": "markdown",
   "metadata": {
    "id": "zhJ38G4S-8RD"
   },
   "source": [
    "**Вывод**\n",
    "Данные нуждаются в предобработке, нужно поработать с пропусками и категоризацией данных."
   ]
  },
  {
   "cell_type": "markdown",
   "metadata": {
    "id": "zO5JUDPV-8RD"
   },
   "source": [
    "## Шаг 2. Предобработка данных"
   ]
  },
  {
   "cell_type": "markdown",
   "metadata": {
    "id": "r16TVrzw-8RE"
   },
   "source": [
    "### Обработка пропусков"
   ]
  },
  {
   "cell_type": "markdown",
   "metadata": {
    "id": "dQKwA3l_-8RE"
   },
   "source": [
    "Посчитаем, сколько и в каких столбцах пропущеные значения:"
   ]
  },
  {
   "cell_type": "code",
   "execution_count": null,
   "metadata": {
    "id": "OdmlcBLC-8RE",
    "outputId": "71806e14-28c0-42e1-930b-1488ecfd125a"
   },
   "outputs": [
    {
     "data": {
      "text/plain": [
       "children               0\n",
       "days_employed       2174\n",
       "dob_years              0\n",
       "education              0\n",
       "education_id           0\n",
       "family_status          0\n",
       "family_status_id       0\n",
       "gender                 0\n",
       "income_type            0\n",
       "debt                   0\n",
       "total_income        2174\n",
       "purpose                0\n",
       "dtype: int64"
      ]
     },
     "execution_count": 18,
     "metadata": {},
     "output_type": "execute_result"
    }
   ],
   "source": [
    "df.isna().sum()"
   ]
  },
  {
   "cell_type": "markdown",
   "metadata": {
    "id": "0kR1UJxV-8RF"
   },
   "source": [
    "Не все пропущенные значения влияют на исследование. Так в days_employed (трудовой стаж) пропуски не повлияют на поиск ответов.\n",
    "\n",
    "Но пропуски в total_income (ежемесячный доход) могут помешать определить зависимость между уровнем дохода и возвратом кредита в срок. \n",
    "\n",
    "Количество пропусков в двух столбцах совпадают, проверим, одинаковые ли это строки или нет.\n",
    "\n",
    "\n"
   ]
  },
  {
   "cell_type": "code",
   "execution_count": null,
   "metadata": {
    "id": "8kIG_axV-8RG",
    "outputId": "7b12d770-a3db-4c11-84cd-cc677e2d909e"
   },
   "outputs": [
    {
     "data": {
      "text/plain": [
       "array([nan])"
      ]
     },
     "execution_count": 19,
     "metadata": {},
     "output_type": "execute_result"
    }
   ],
   "source": [
    "df.loc[df['total_income'].isna()]['days_employed'].unique()  #.value_counts()"
   ]
  },
  {
   "cell_type": "markdown",
   "metadata": {
    "id": "vfzXHTSz-8RH"
   },
   "source": [
    "В строках, где в столбце `total_income` пропущенное значение, в `days_employed` значения пропущены тоже.\n",
    "\n",
    "Пропуски в количественных значениях заполняют характерными значениями. Это значения, характеризующие состояние выборки.\n",
    "Просто взять медиану или среднее по всему столбцу будет некорректно.\n",
    "\n",
    "Будем опираться на данные из другого столбца. Выберем столбец `income_type` - тип занятости.\n",
    "\n",
    "Найдём медианные значения дохода в зависимости от типа занятости людей:\n",
    "\n"
   ]
  },
  {
   "cell_type": "code",
   "execution_count": null,
   "metadata": {
    "id": "-G6P7hTi-8RH",
    "outputId": "814ee5c4-5253-440d-ca06-8b4ddfbbc5f9"
   },
   "outputs": [
    {
     "data": {
      "text/plain": [
       "0        161380.260488\n",
       "1        161380.260488\n",
       "2        161380.260488\n",
       "3        161380.260488\n",
       "4        137127.465690\n",
       "             ...      \n",
       "21520    202417.461462\n",
       "21521    137127.465690\n",
       "21522    161380.260488\n",
       "21523    161380.260488\n",
       "21524    161380.260488\n",
       "Name: total_income, Length: 21525, dtype: float64"
      ]
     },
     "execution_count": 20,
     "metadata": {},
     "output_type": "execute_result"
    }
   ],
   "source": [
    "#Создадим новый столбец, в котором указаны медианные значения дохода для каждой строки согласно типу занятости\n",
    "median_total_income = df.groupby('income_type')['total_income'].transform('mean')\n",
    "median_total_income"
   ]
  },
  {
   "cell_type": "code",
   "execution_count": null,
   "metadata": {
    "id": "QaU_OUef-8RI"
   },
   "outputs": [],
   "source": [
    "# заполним все пустые значения дохода на медианные значения из нового столбца\n",
    "df['total_income'] = df['total_income'].fillna(median_total_income)"
   ]
  },
  {
   "cell_type": "markdown",
   "metadata": {
    "id": "Ki8mbSxN-8RJ"
   },
   "source": [
    "Теперь разберёмся с трудовым стажем в днях, посмотрим, какие встречаются значения:"
   ]
  },
  {
   "cell_type": "code",
   "execution_count": null,
   "metadata": {
    "id": "gm1xJ6G8-8RJ",
    "outputId": "0a851b72-81c6-48c3-8f6e-ac0c6cc94dcb"
   },
   "outputs": [
    {
     "data": {
      "text/plain": [
       "0      -8437.673028\n",
       "1      -4024.803754\n",
       "2      -5623.422610\n",
       "3      -4124.747207\n",
       "4     340266.072047\n",
       "5       -926.185831\n",
       "6      -2879.202052\n",
       "7       -152.779569\n",
       "8      -6929.865299\n",
       "9      -2188.756445\n",
       "10     -4171.483647\n",
       "11      -792.701887\n",
       "12              NaN\n",
       "13     -1846.641941\n",
       "14     -1844.956182\n",
       "Name: days_employed, dtype: float64"
      ]
     },
     "execution_count": 22,
     "metadata": {},
     "output_type": "execute_result"
    }
   ],
   "source": [
    "df['days_employed'].head(15)"
   ]
  },
  {
   "cell_type": "markdown",
   "metadata": {
    "id": "Qm2RBBNM-8RK"
   },
   "source": [
    "Трудовой стаж не может быть отрицательным, скорее всего программа его так указывает по своим каким-то причинам. Переведём все отрицательные числа в положительные."
   ]
  },
  {
   "cell_type": "code",
   "execution_count": null,
   "metadata": {
    "id": "oLclWWlR-8RK"
   },
   "outputs": [],
   "source": [
    "df['days_employed'] = df['days_employed'].abs() #все отрицательные значения сделаем положительными"
   ]
  },
  {
   "cell_type": "markdown",
   "metadata": {
    "id": "bHPTlPv3-8RK"
   },
   "source": [
    "Также прикинем какой трудовой стаж может быть у взрослого человека: если пойти на работу в 18 лет и работать 60 лет (до возраста 78 лет), в году примерно 237 рабочих дней, то получается 14220 рабочих дней у взрослого человека.\n",
    "В серии встречаются значения сильно больше этого числа. Предположение, что данные записаны в часах тоже не оправданы: 340266/8=42533, что тоже очень много. Посмотрим, сколько таких значений."
   ]
  },
  {
   "cell_type": "code",
   "execution_count": null,
   "metadata": {
    "id": "SzraeCZb-8RL",
    "outputId": "12ac8779-7a95-4e7e-dc47-43279fda61ff"
   },
   "outputs": [
    {
     "data": {
      "text/plain": [
       "14220"
      ]
     },
     "execution_count": 24,
     "metadata": {},
     "output_type": "execute_result"
    }
   ],
   "source": [
    "237*60"
   ]
  },
  {
   "cell_type": "code",
   "execution_count": null,
   "metadata": {
    "id": "ADzdSoZv-8RL",
    "outputId": "7b5dd850-32ca-41c1-cb93-e5b1d87aadeb"
   },
   "outputs": [
    {
     "data": {
      "text/plain": [
       "42533.25"
      ]
     },
     "execution_count": 25,
     "metadata": {},
     "output_type": "execute_result"
    }
   ],
   "source": [
    "340266/8"
   ]
  },
  {
   "cell_type": "code",
   "execution_count": null,
   "metadata": {
    "id": "ssVc0U_j-8RL",
    "outputId": "1f8c3bf1-d9d6-41a1-cac7-60fc183bba6a"
   },
   "outputs": [
    {
     "data": {
      "text/plain": [
       "3458"
      ]
     },
     "execution_count": 26,
     "metadata": {},
     "output_type": "execute_result"
    }
   ],
   "source": [
    "df[df['days_employed'] > 15000]['days_employed'].count()"
   ]
  },
  {
   "cell_type": "markdown",
   "metadata": {
    "id": "6pV3EEUh-8RM"
   },
   "source": [
    "Всего 3458 явно больших значений. Заменим в этих строках рабочий стаж на значения, описанные формулой `(age-18)*273`."
   ]
  },
  {
   "cell_type": "code",
   "execution_count": null,
   "metadata": {
    "id": "XUOgj5RH-8RN"
   },
   "outputs": [],
   "source": [
    "days_employed_avg = df.groupby('income_type')['dob_years'].transform(lambda x: (x - 18)*273) \n",
    "#создадим Series с расчётными значениями рабочих дней для каждого человека в зависимости от возраста человека"
   ]
  },
  {
   "cell_type": "code",
   "execution_count": null,
   "metadata": {
    "id": "WDCzzEFV-8RO"
   },
   "outputs": [],
   "source": [
    "df.loc[df['days_employed'] > 15000, 'days_employed'] = days_employed_avg\n",
    "#если количество рабочих дней больше 15000, заменим значение на расчитанное"
   ]
  },
  {
   "cell_type": "code",
   "execution_count": null,
   "metadata": {
    "id": "256YKYDt-8RO",
    "outputId": "4c4216fa-7d0c-4d3a-9e73-61cd06737a75"
   },
   "outputs": [
    {
     "data": {
      "text/plain": [
       "0     8437.673028\n",
       "1     4024.803754\n",
       "2     5623.422610\n",
       "3     4124.747207\n",
       "4     9555.000000\n",
       "5      926.185831\n",
       "6     2879.202052\n",
       "7      152.779569\n",
       "8     6929.865299\n",
       "9     2188.756445\n",
       "10    4171.483647\n",
       "11     792.701887\n",
       "12            NaN\n",
       "13    1846.641941\n",
       "14    1844.956182\n",
       "Name: days_employed, dtype: float64"
      ]
     },
     "execution_count": 29,
     "metadata": {},
     "output_type": "execute_result"
    }
   ],
   "source": [
    "df['days_employed'].head(15)"
   ]
  },
  {
   "cell_type": "markdown",
   "metadata": {
    "id": "b-7AlzNw-8RP"
   },
   "source": [
    "У нас остались пропуски в этом столбце:"
   ]
  },
  {
   "cell_type": "code",
   "execution_count": null,
   "metadata": {
    "id": "kJCzVJJR-8RP",
    "outputId": "d39927c1-68e2-409f-b90b-2a8e0d446114",
    "scrolled": true
   },
   "outputs": [
    {
     "data": {
      "text/plain": [
       "2174"
      ]
     },
     "execution_count": 30,
     "metadata": {},
     "output_type": "execute_result"
    }
   ],
   "source": [
    "df['days_employed'].isna().sum()"
   ]
  },
  {
   "cell_type": "markdown",
   "metadata": {
    "id": "OxLXDW9v-8RP"
   },
   "source": [
    "Аналогично замене в столбце `total_income`, проведём замену на медианные значения, опираясь на данные из  столбца `income_type` - тип занятости.\n",
    "\n",
    "Найдём медианные трудового стажа в зависимости от типа занятости людей и заполним ими пропуски:\n"
   ]
  },
  {
   "cell_type": "code",
   "execution_count": null,
   "metadata": {
    "id": "TP4xIl2P-8RQ"
   },
   "outputs": [],
   "source": [
    "#Создадим новый столбец, в котором указаны медианные значения дохода для каждой строки согласно типу занятости\n",
    "median_days_employed = df.groupby('income_type')['days_employed'].transform('mean')\n",
    "# заполним все пустые значения стажа на медианные значения из нового столбца\n",
    "df['days_employed'] = df['days_employed'].fillna(median_days_employed)"
   ]
  },
  {
   "cell_type": "markdown",
   "metadata": {
    "id": "Taz5jPgK-8RS"
   },
   "source": [
    "Убедимся, что в таблице не осталось пропусков."
   ]
  },
  {
   "cell_type": "code",
   "execution_count": null,
   "metadata": {
    "id": "RiD66-cs-8RS",
    "outputId": "25324e81-5e6b-4b3e-b54b-d7d48b9bf1e1"
   },
   "outputs": [
    {
     "data": {
      "text/plain": [
       "children            0\n",
       "days_employed       0\n",
       "dob_years           0\n",
       "education           0\n",
       "education_id        0\n",
       "family_status       0\n",
       "family_status_id    0\n",
       "gender              0\n",
       "income_type         0\n",
       "debt                0\n",
       "total_income        0\n",
       "purpose             0\n",
       "dtype: int64"
      ]
     },
     "execution_count": 32,
     "metadata": {},
     "output_type": "execute_result"
    }
   ],
   "source": [
    "df.isna().sum()"
   ]
  },
  {
   "cell_type": "markdown",
   "metadata": {
    "id": "B9XxfwuY-8RT"
   },
   "source": [
    "**Вывод**"
   ]
  },
  {
   "cell_type": "markdown",
   "metadata": {
    "id": "0OKagjAn-8RT"
   },
   "source": [
    "Строки, в которых не был указан ежемесячный доход совпали со строками, где не был указан трудовой стаж клиентов. Вероятно, это или сбой в системе, или клиенты по каким-то причинам не сообщили эти данные.\n",
    "\n",
    "Пропуски в ежемесячном доходе и трудовом стаже заменены на медианные значения согласно типу занятости людей. \n",
    "Некорректно большие значения в трудовом стаже заменены на условно-допустимые. \n",
    "Теперь в данных нет пропущеных значений."
   ]
  },
  {
   "cell_type": "markdown",
   "metadata": {
    "id": "U27-toDN-8RT"
   },
   "source": [
    "### Замена типа данных"
   ]
  },
  {
   "cell_type": "markdown",
   "metadata": {
    "id": "_R3ue3GX-8RU"
   },
   "source": [
    "Столбцы `days_employed` и `total_income` представлены вещественным типом данных, но трудовой стаж в днях может быть только целым числом. Ежемесячный доход может быть вещественным, но если отбросить копейки, можно получить удобные для работы целые числа. На результаты данное преобразование не повлияет.\n",
    "\n",
    "Заменим вещественный тип данных на целочисленный. Поскольку столбцы уже представлены вещественными числами (и в них нет пропусков), просто изменим их тип методом `.astype()`:\n",
    "\n"
   ]
  },
  {
   "cell_type": "code",
   "execution_count": null,
   "metadata": {
    "id": "MvQYgGgm-8RV"
   },
   "outputs": [],
   "source": [
    "df['total_income'] = df['total_income'].astype('int')"
   ]
  },
  {
   "cell_type": "code",
   "execution_count": null,
   "metadata": {
    "id": "UzFf_UuK-8RV"
   },
   "outputs": [],
   "source": [
    "df['days_employed'] = df['days_employed'].astype('int')"
   ]
  },
  {
   "cell_type": "code",
   "execution_count": null,
   "metadata": {
    "id": "WILHQARM-8RV",
    "outputId": "108f7190-9ee3-4e6d-e967-e55fb5c567c3"
   },
   "outputs": [
    {
     "name": "stdout",
     "output_type": "stream",
     "text": [
      "<class 'pandas.core.frame.DataFrame'>\n",
      "RangeIndex: 21525 entries, 0 to 21524\n",
      "Data columns (total 12 columns):\n",
      "children            21525 non-null int64\n",
      "days_employed       21525 non-null int64\n",
      "dob_years           21525 non-null int64\n",
      "education           21525 non-null object\n",
      "education_id        21525 non-null int64\n",
      "family_status       21525 non-null object\n",
      "family_status_id    21525 non-null int64\n",
      "gender              21525 non-null object\n",
      "income_type         21525 non-null object\n",
      "debt                21525 non-null int64\n",
      "total_income        21525 non-null int64\n",
      "purpose             21525 non-null object\n",
      "dtypes: int64(7), object(5)\n",
      "memory usage: 2.0+ MB\n"
     ]
    }
   ],
   "source": [
    "df.info()"
   ]
  },
  {
   "cell_type": "markdown",
   "metadata": {
    "id": "OXk85or--8RW"
   },
   "source": [
    "**Вывод**"
   ]
  },
  {
   "cell_type": "markdown",
   "metadata": {
    "id": "auCjXF-c-8RW"
   },
   "source": [
    "Теперь в таблице всего два типа данных - целые числа и объекты."
   ]
  },
  {
   "cell_type": "markdown",
   "metadata": {
    "id": "q7uB0rQW-8RY"
   },
   "source": [
    "### Обработка дубликатов"
   ]
  },
  {
   "cell_type": "markdown",
   "metadata": {
    "id": "zFW4P6v5-8RY"
   },
   "source": [
    "Посчитаем явные дубликаты в таблице:"
   ]
  },
  {
   "cell_type": "code",
   "execution_count": null,
   "metadata": {
    "id": "eWs34Wa8-8RZ",
    "outputId": "ff4d62a0-da63-4b68-9c01-9e944ca8640e"
   },
   "outputs": [
    {
     "data": {
      "text/plain": [
       "71"
      ]
     },
     "execution_count": 36,
     "metadata": {},
     "output_type": "execute_result"
    }
   ],
   "source": [
    "df.duplicated().sum()"
   ]
  },
  {
   "cell_type": "markdown",
   "metadata": {
    "id": "Y26ble1m-8RZ"
   },
   "source": [
    "Возможно, это сбой системы, при котором создались дубликаты. Удалим явные дубликаты и переобозначим индексы заново:"
   ]
  },
  {
   "cell_type": "code",
   "execution_count": null,
   "metadata": {
    "id": "6904P07S-8RZ"
   },
   "outputs": [],
   "source": [
    "df = df.drop_duplicates().reset_index(drop=True)"
   ]
  },
  {
   "cell_type": "code",
   "execution_count": null,
   "metadata": {
    "id": "EqFIzyZj-8RZ",
    "outputId": "ed1df528-7036-4bf4-80b8-f263f9549db0"
   },
   "outputs": [
    {
     "data": {
      "text/plain": [
       "0"
      ]
     },
     "execution_count": 38,
     "metadata": {},
     "output_type": "execute_result"
    }
   ],
   "source": [
    "df.duplicated().sum()"
   ]
  },
  {
   "cell_type": "markdown",
   "metadata": {
    "id": "8IReV-PW-8Ra"
   },
   "source": [
    "**Вывод**"
   ]
  },
  {
   "cell_type": "markdown",
   "metadata": {
    "id": "DnWDVA2J-8Ra"
   },
   "source": [
    "Явные дубликаты выявлены и удалены. Провести поиск неявных дубликатов не вижу возможности."
   ]
  },
  {
   "cell_type": "markdown",
   "metadata": {
    "id": "VUgozNKI-8Rb"
   },
   "source": [
    "### Лемматизация"
   ]
  },
  {
   "cell_type": "markdown",
   "metadata": {
    "id": "GcjRNSfn-8Rc"
   },
   "source": [
    "Выделим леммы в столбце с целями получения кредита: для этого импортируем библиотеку для лемматизации и создадим функцию, которая будет лемматизировать текст. потом передадим эту функцию методу .apply() для столбца с целями кредита, получим новый столбец со списками лемм. "
   ]
  },
  {
   "cell_type": "code",
   "execution_count": null,
   "metadata": {
    "id": "stCqf5rf-8Rf",
    "outputId": "8e6211be-c257-4b17-ecf6-39e03562124e"
   },
   "outputs": [
    {
     "data": {
      "text/plain": [
       "0                             [покупка,  , жилье, \\n]\n",
       "1                   [приобретение,  , автомобиль, \\n]\n",
       "2                             [покупка,  , жилье, \\n]\n",
       "3                [дополнительный,  , образование, \\n]\n",
       "4                           [сыграть,  , свадьба, \\n]\n",
       "                             ...                     \n",
       "21449                  [операция,  , с,  , жилье, \\n]\n",
       "21450               [сделка,  , с,  , автомобиль, \\n]\n",
       "21451                              [недвижимость, \\n]\n",
       "21452    [на,  , покупка,  , свой,  , автомобиль, \\n]\n",
       "21453             [на,  , покупка,  , автомобиль, \\n]\n",
       "Name: lemmas_purpose, Length: 21454, dtype: object"
      ]
     },
     "execution_count": 39,
     "metadata": {},
     "output_type": "execute_result"
    }
   ],
   "source": [
    "m = Mystem()\n",
    "\n",
    "# лемматизируем столбец \"цель кредита\"\n",
    "df['lemmas_purpose'] = df.purpose.apply(m.lemmatize)\n",
    "df['lemmas_purpose']"
   ]
  },
  {
   "cell_type": "markdown",
   "metadata": {
    "id": "1OjOVEgc-8Rh"
   },
   "source": [
    "**Вывод**"
   ]
  },
  {
   "cell_type": "markdown",
   "metadata": {
    "id": "PVZnTgCr-8Ri"
   },
   "source": [
    "Создали в ДатаФрейме дополнительный столбец, куда лемматизировали цели кредита.\n",
    "Лемматизацию строк провели с помощью созданной функции."
   ]
  },
  {
   "cell_type": "markdown",
   "metadata": {
    "id": "YK5ahkig-8Ri"
   },
   "source": [
    "### Категоризация данных"
   ]
  },
  {
   "cell_type": "markdown",
   "metadata": {
    "id": "i3IkTgWe-8Ri"
   },
   "source": [
    "Чтобы ответить на поставленные вопросы, необходимо ввести категории.\n",
    "\n",
    "- *Есть ли зависимость между наличием детей и возвратом кредита в срок?*\n",
    "Выделим категории \"нет детей\", \"1-2 ребёнка в семье\", \"многодетная семья\"."
   ]
  },
  {
   "cell_type": "markdown",
   "metadata": {
    "id": "CXbyg8iH-8Rj"
   },
   "source": [
    "- *Есть ли зависимость между семейным положением и возвратом кредита в срок?*\n",
    "Категории для данного вопроса это идентификатор семейного положения `family_status_id`."
   ]
  },
  {
   "cell_type": "markdown",
   "metadata": {
    "id": "NKpk0QVR-8Rj"
   },
   "source": [
    "- *Есть ли зависимость между уровнем дохода и возвратом кредита в срок?*\n",
    "Категории для данного вопроса явно не определены, их необходимо выбрать. \n",
    "Пусть будет три категории: низкий, средний и высокий доход.\n",
    "За средний доход примем медиану выборки `total_income` и +-50% от выборки. До этого низкий доход, после - высокий."
   ]
  },
  {
   "cell_type": "markdown",
   "metadata": {
    "id": "L7YQ5NBs-8Rj"
   },
   "source": [
    "- *Как разные цели кредита влияют на его возврат в срок?*\n",
    "Здесь проведём исследование и выберем категории, в итоге будет что-то вроде \"свадьба\", \"машина\", \"образование\"."
   ]
  },
  {
   "cell_type": "markdown",
   "metadata": {
    "id": "rtjWdaWI-8Rj"
   },
   "source": [
    "**Проведём категоризацию по количеству детей.**"
   ]
  },
  {
   "cell_type": "code",
   "execution_count": null,
   "metadata": {
    "id": "FZCN0W92-8Rj"
   },
   "outputs": [],
   "source": [
    "def children_category(children):\n",
    "    if children == 0:\n",
    "        return 'нет детей'\n",
    "    if 1 <= children <= 2:\n",
    "        return '1-2 ребёнка в семье'\n",
    "    return 'многодетная семья'"
   ]
  },
  {
   "cell_type": "code",
   "execution_count": null,
   "metadata": {
    "id": "S_c2vazi-8Rk"
   },
   "outputs": [],
   "source": [
    "df['children_category'] = df['children'].apply(children_category)"
   ]
  },
  {
   "cell_type": "markdown",
   "metadata": {
    "id": "S0IMUqDs-8Rk"
   },
   "source": [
    "Количество строк в каждой категории:"
   ]
  },
  {
   "cell_type": "code",
   "execution_count": null,
   "metadata": {
    "id": "p8fM6fxo-8Rk",
    "outputId": "c5916776-6d75-4163-94c6-6cbec5805af2"
   },
   "outputs": [
    {
     "data": {
      "text/plain": [
       "нет детей              14091\n",
       "1-2 ребёнка в семье     6983\n",
       "многодетная семья        380\n",
       "Name: children_category, dtype: int64"
      ]
     },
     "execution_count": 42,
     "metadata": {},
     "output_type": "execute_result"
    }
   ],
   "source": [
    "df['children_category'].value_counts()"
   ]
  },
  {
   "cell_type": "markdown",
   "metadata": {
    "id": "uAK7zs8Q-8Rl"
   },
   "source": [
    "**Проведём категоризацию по уровню дохода.** Проанализируем столбец `total_income`."
   ]
  },
  {
   "cell_type": "code",
   "execution_count": null,
   "metadata": {
    "id": "SCGfIB3K-8Rm",
    "scrolled": true
   },
   "outputs": [],
   "source": [
    "# проведём границы для среднего дохода. В первом приближении разделять будем выборку по уровню 25% и 75% от количества людей.\n",
    "# Чуть ниже посмотрим, что получится.\n",
    "total_income_low_level = int(df['total_income'].count()/4)    # нижняя граница выборки (в количестве людей)\n",
    "total_income_high_level = int(df['total_income'].count()*3/4) # верхняя граница выборки (в количестве людей)"
   ]
  },
  {
   "cell_type": "code",
   "execution_count": null,
   "metadata": {
    "id": "uMQF6AK0-8Rm"
   },
   "outputs": [],
   "source": [
    "total_income_sort = sorted(df['total_income']) # отсортируем выборку по возрастанию"
   ]
  },
  {
   "cell_type": "code",
   "execution_count": null,
   "metadata": {
    "id": "__xklaPL-8Rn",
    "outputId": "7d1d9470-770d-4a61-bab0-b9c0b136231a"
   },
   "outputs": [
    {
     "data": {
      "text/plain": [
       "202417"
      ]
     },
     "execution_count": 45,
     "metadata": {},
     "output_type": "execute_result"
    }
   ],
   "source": [
    "# заработок для граничных условий:\n",
    "total_income_sort[total_income_low_level]   \n",
    "total_income_sort[total_income_high_level]   "
   ]
  },
  {
   "cell_type": "code",
   "execution_count": null,
   "metadata": {
    "id": "13XM1em7-8Ro",
    "outputId": "2b6df911-4790-4b39-c9b9-4d1795c20b0f",
    "scrolled": true
   },
   "outputs": [
    {
     "data": {
      "text/html": [
       "<div>\n",
       "<style scoped>\n",
       "    .dataframe tbody tr th:only-of-type {\n",
       "        vertical-align: middle;\n",
       "    }\n",
       "\n",
       "    .dataframe tbody tr th {\n",
       "        vertical-align: top;\n",
       "    }\n",
       "\n",
       "    .dataframe thead th {\n",
       "        text-align: right;\n",
       "    }\n",
       "</style>\n",
       "<table border=\"1\" class=\"dataframe\">\n",
       "  <thead>\n",
       "    <tr style=\"text-align: right;\">\n",
       "      <th></th>\n",
       "      <th>min</th>\n",
       "      <th>max</th>\n",
       "      <th>mean</th>\n",
       "      <th>low_level_mean</th>\n",
       "      <th>high_level_mean</th>\n",
       "      <th>low_level</th>\n",
       "      <th>high_level</th>\n",
       "      <th>count</th>\n",
       "    </tr>\n",
       "  </thead>\n",
       "  <tbody>\n",
       "    <tr>\n",
       "      <td>0</td>\n",
       "      <td>20667</td>\n",
       "      <td>2265604</td>\n",
       "      <td>167431</td>\n",
       "      <td>107620</td>\n",
       "      <td>202417</td>\n",
       "      <td>5363</td>\n",
       "      <td>16090</td>\n",
       "      <td>21454</td>\n",
       "    </tr>\n",
       "  </tbody>\n",
       "</table>\n",
       "</div>"
      ],
      "text/plain": [
       "     min      max    mean  low_level_mean  high_level_mean  low_level  \\\n",
       "0  20667  2265604  167431          107620           202417       5363   \n",
       "\n",
       "   high_level  count  \n",
       "0       16090  21454  "
      ]
     },
     "execution_count": 46,
     "metadata": {},
     "output_type": "execute_result"
    }
   ],
   "source": [
    "pd.DataFrame({\n",
    "    'min'            : [df['total_income'].min()],\n",
    "    'max'            : [df['total_income'].max()],\n",
    "    'mean'           : [int(df['total_income'].mean())],\n",
    "    'low_level_mean' : total_income_sort[total_income_low_level] ,\n",
    "    'high_level_mean': total_income_sort[total_income_high_level],\n",
    "    'low_level'      : [total_income_low_level],\n",
    "    'high_level'     : [total_income_high_level],\n",
    "    'count'          : [df['total_income'].count()]\n",
    "})"
   ]
  },
  {
   "cell_type": "markdown",
   "metadata": {
    "id": "DYyyc7fd-8Rp"
   },
   "source": [
    "Получили таблицу расчётных значений для нашей гипотезы.\n",
    "Мне кажется удачным выбор такой категоризации. Я бы округлила до 100 и 200 тысяч, чтобы было удобно разговаривать о этих числах.\n",
    "Тогда все значения разделим на три категории:\n",
    "- Низкий доход все значения до 100т.р.\n",
    "- Средний доход от 100т.р до 200т.р. включительно\n",
    "- Высокий доход все значения больше 200т.р.\n",
    "\n",
    "Напишем и применим функцию для категоризации дохода."
   ]
  },
  {
   "cell_type": "code",
   "execution_count": null,
   "metadata": {
    "id": "htefV-BG-8Rp",
    "scrolled": false
   },
   "outputs": [],
   "source": [
    "def income_category(total_income):\n",
    "    if total_income < 100000:\n",
    "        return 'низкий'\n",
    "    if 100000 <= total_income <= 300000:\n",
    "        return 'средний'\n",
    "    return 'высокий'"
   ]
  },
  {
   "cell_type": "code",
   "execution_count": null,
   "metadata": {
    "id": "OnKQpxfr-8Rp"
   },
   "outputs": [],
   "source": [
    "df['total_income_category'] = df['total_income'].apply(income_category)"
   ]
  },
  {
   "cell_type": "markdown",
   "metadata": {
    "id": "nHi5QxaT-8Rq"
   },
   "source": [
    "Количество строк в каждой категории:"
   ]
  },
  {
   "cell_type": "code",
   "execution_count": null,
   "metadata": {
    "id": "Mz21-fvC-8Rq",
    "outputId": "296509e3-916c-4f89-9032-79f80ccf4871",
    "scrolled": true
   },
   "outputs": [
    {
     "data": {
      "text/plain": [
       "total_income_category\n",
       "высокий     1483\n",
       "низкий      4463\n",
       "средний    15508\n",
       "Name: total_income_category, dtype: int64"
      ]
     },
     "execution_count": 49,
     "metadata": {},
     "output_type": "execute_result"
    }
   ],
   "source": [
    "df.groupby('total_income_category')['total_income_category'].count()"
   ]
  },
  {
   "cell_type": "markdown",
   "metadata": {
    "id": "Anz5UnK3-8Rq"
   },
   "source": [
    "**Проведём категоризацию по целям кредита.** Проанализируем столбец `purpose` и `lemmas_purpose`."
   ]
  },
  {
   "cell_type": "code",
   "execution_count": null,
   "metadata": {
    "id": "HcYThuo6-8Rr",
    "outputId": "ab71ad81-5581-4fb6-b933-7bf920708987",
    "scrolled": true
   },
   "outputs": [
    {
     "data": {
      "text/plain": [
       "0                              покупка жилья\n",
       "1                    приобретение автомобиля\n",
       "2                              покупка жилья\n",
       "3                 дополнительное образование\n",
       "4                            сыграть свадьбу\n",
       "5                              покупка жилья\n",
       "6                          операции с жильем\n",
       "7                                образование\n",
       "8                      на проведение свадьбы\n",
       "9                    покупка жилья для семьи\n",
       "10                      покупка недвижимости\n",
       "11         покупка коммерческой недвижимости\n",
       "12                           сыграть свадьбу\n",
       "13                   приобретение автомобиля\n",
       "14                покупка жилой недвижимости\n",
       "15    строительство собственной недвижимости\n",
       "16                              недвижимость\n",
       "17                строительство недвижимости\n",
       "18        на покупку подержанного автомобиля\n",
       "19              на покупку своего автомобиля\n",
       "Name: purpose, dtype: object"
      ]
     },
     "execution_count": 50,
     "metadata": {},
     "output_type": "execute_result"
    }
   ],
   "source": [
    "df['purpose'].head(20)"
   ]
  },
  {
   "cell_type": "code",
   "execution_count": null,
   "metadata": {
    "id": "h8YbbqyY-8Rs",
    "outputId": "19b5c5e5-7f9c-43d7-9b1a-fcaddea0a553"
   },
   "outputs": [
    {
     "data": {
      "text/plain": [
       "0                               [покупка,  , жилье, \\n]\n",
       "1                     [приобретение,  , автомобиль, \\n]\n",
       "2                               [покупка,  , жилье, \\n]\n",
       "3                  [дополнительный,  , образование, \\n]\n",
       "4                             [сыграть,  , свадьба, \\n]\n",
       "5                               [покупка,  , жилье, \\n]\n",
       "6                        [операция,  , с,  , жилье, \\n]\n",
       "7                                     [образование, \\n]\n",
       "8                   [на,  , проведение,  , свадьба, \\n]\n",
       "9             [покупка,  , жилье,  , для,  , семья, \\n]\n",
       "10                       [покупка,  , недвижимость, \\n]\n",
       "11      [покупка,  , коммерческий,  , недвижимость, \\n]\n",
       "12                            [сыграть,  , свадьба, \\n]\n",
       "13                    [приобретение,  , автомобиль, \\n]\n",
       "14             [покупка,  , жилой,  , недвижимость, \\n]\n",
       "15    [строительство,  , собственный,  , недвижимост...\n",
       "16                                   [недвижимость, \\n]\n",
       "17                 [строительство,  , недвижимость, \\n]\n",
       "18    [на,  , покупка,  , подержать,  , автомобиль, \\n]\n",
       "19         [на,  , покупка,  , свой,  , автомобиль, \\n]\n",
       "Name: lemmas_purpose, dtype: object"
      ]
     },
     "execution_count": 51,
     "metadata": {},
     "output_type": "execute_result"
    }
   ],
   "source": [
    "df['lemmas_purpose'].head(20)"
   ]
  },
  {
   "cell_type": "markdown",
   "metadata": {
    "id": "3Gw2dPjg-8Rs"
   },
   "source": [
    "Считаю возможным выделить следующие категории:\n",
    "- Покупка автомобиля\n",
    "- Покупка недвижимости\n",
    "- Строительство недвижимости\n",
    "- Проведение свадьбы\n",
    "- Образование"
   ]
  },
  {
   "cell_type": "markdown",
   "metadata": {
    "id": "QJL2x7GJ-8Rt"
   },
   "source": [
    "Создадим функцию, ищущую категорию из списка:"
   ]
  },
  {
   "cell_type": "code",
   "execution_count": null,
   "metadata": {
    "id": "bcG66wWA-8Rt"
   },
   "outputs": [],
   "source": [
    "def purpose_category(lemmas_purpose):\n",
    "    if (('жилье' in lemmas_purpose) or ('недвижимость' in lemmas_purpose)) and ('строительство' in lemmas_purpose):\n",
    "        return 'строительство недвижимости'\n",
    "    if ('жилье' in lemmas_purpose) or ('недвижимость' in lemmas_purpose):\n",
    "        return 'покупка недвижимости'\n",
    "    if 'автомобиль' in lemmas_purpose:\n",
    "        return 'покупка автомобиля'\n",
    "    if 'образование' in lemmas_purpose:\n",
    "        return 'образование'\n",
    "    if 'свадьба' in lemmas_purpose:\n",
    "        return 'свадьба'\n",
    "    return lemmas_purpose"
   ]
  },
  {
   "cell_type": "code",
   "execution_count": null,
   "metadata": {
    "id": "TPlcsCIP-8Rt",
    "outputId": "09393bba-982f-491e-d1c3-35d2758d10c8"
   },
   "outputs": [
    {
     "data": {
      "text/plain": [
       "'покупка недвижимости'"
      ]
     },
     "execution_count": 53,
     "metadata": {},
     "output_type": "execute_result"
    }
   ],
   "source": [
    "purpose_category(df['lemmas_purpose'][10]) #здесь можно проверить адекватную работу функции"
   ]
  },
  {
   "cell_type": "code",
   "execution_count": null,
   "metadata": {
    "id": "seg0xIfC-8Ru"
   },
   "outputs": [],
   "source": [
    "df['purpose_category'] = df['lemmas_purpose'].apply(purpose_category)"
   ]
  },
  {
   "cell_type": "markdown",
   "metadata": {
    "id": "X5jbMSFb-8Ru"
   },
   "source": [
    "Количество строк в каждой категории:"
   ]
  },
  {
   "cell_type": "code",
   "execution_count": null,
   "metadata": {
    "id": "drmQ8X1H-8Rv",
    "outputId": "b8fa53df-d150-4d3c-fd53-614085d95064",
    "scrolled": true
   },
   "outputs": [
    {
     "data": {
      "text/plain": [
       "покупка недвижимости          8933\n",
       "покупка автомобиля            4306\n",
       "образование                   4013\n",
       "свадьба                       2324\n",
       "строительство недвижимости    1878\n",
       "Name: purpose_category, dtype: int64"
      ]
     },
     "execution_count": 55,
     "metadata": {},
     "output_type": "execute_result"
    }
   ],
   "source": [
    "df['purpose_category'].value_counts()"
   ]
  },
  {
   "cell_type": "markdown",
   "metadata": {
    "id": "OCxW5mt0-8Rv"
   },
   "source": [
    "**Проведём категоризацию по наличию долгов.**"
   ]
  },
  {
   "cell_type": "code",
   "execution_count": null,
   "metadata": {
    "id": "uiYrx2jV-8Rv"
   },
   "outputs": [],
   "source": [
    "def debt_category(debt):\n",
    "    if debt == 1:\n",
    "        return 'Долги были'\n",
    "    return 'Долгов не было'"
   ]
  },
  {
   "cell_type": "code",
   "execution_count": null,
   "metadata": {
    "id": "TkwqQqIm-8Rv"
   },
   "outputs": [],
   "source": [
    "df['debt_category'] = df['debt'].apply(debt_category)"
   ]
  },
  {
   "cell_type": "markdown",
   "metadata": {
    "id": "FlYTgOjG-8Rw"
   },
   "source": [
    "**Вывод**"
   ]
  },
  {
   "cell_type": "markdown",
   "metadata": {
    "id": "wsoaVQs9-8Rw"
   },
   "source": [
    "Ввели категории:\n",
    "- Наличие детей:\n",
    "    * нет детей\n",
    "    * 1-2 ребёнка в семье\n",
    "    * многодетная семья\n",
    "- Семейное положение:\n",
    "    * женат / замужем\n",
    "    * гражданский брак\n",
    "    * Не женат / не замужем\n",
    "    * в разводе\n",
    "    * вдовец / вдова\n",
    "- Уровень дохода:\n",
    "    * низкий\n",
    "    * средний\n",
    "    * высокий\n",
    "- Цели кредита:\n",
    "    * покупка недвижимости\n",
    "    * строительство недвижимости\n",
    "    * покупка автомобиля\n",
    "    * свадьба\n",
    "    * образование\n",
    "- Наличие задолженностей:\n",
    "    * Долги были\n",
    "    * Долгов не было"
   ]
  },
  {
   "cell_type": "markdown",
   "metadata": {
    "id": "R0ng1wnI-8Rx"
   },
   "source": [
    "## Шаг 3. Ответьте на вопросы"
   ]
  },
  {
   "cell_type": "markdown",
   "metadata": {
    "id": "NiI2T4i5-8Rx"
   },
   "source": [
    "- Есть ли зависимость между наличием детей и возвратом кредита в срок?"
   ]
  },
  {
   "cell_type": "code",
   "execution_count": null,
   "metadata": {
    "id": "2Up9Fp0w-8Rx"
   },
   "outputs": [],
   "source": [
    "children_data_pivot = df.pivot_table(\n",
    "    index='children_category', \n",
    "    columns='debt_category', \n",
    "    values='debt', \n",
    "    aggfunc='count'\n",
    ")"
   ]
  },
  {
   "cell_type": "code",
   "execution_count": null,
   "metadata": {
    "id": "kDmLUwcQ-8Ry"
   },
   "outputs": [],
   "source": [
    "children_data_pivot['ratio, %'] = children_data_pivot['Долги были'] / children_data_pivot['Долгов не было'] *100"
   ]
  },
  {
   "cell_type": "code",
   "execution_count": null,
   "metadata": {
    "id": "ELrFewM0-8Ry",
    "outputId": "febe5bd7-06e3-4ec2-ef8f-ba8d79f49483"
   },
   "outputs": [
    {
     "data": {
      "text/html": [
       "<div>\n",
       "<style scoped>\n",
       "    .dataframe tbody tr th:only-of-type {\n",
       "        vertical-align: middle;\n",
       "    }\n",
       "\n",
       "    .dataframe tbody tr th {\n",
       "        vertical-align: top;\n",
       "    }\n",
       "\n",
       "    .dataframe thead th {\n",
       "        text-align: right;\n",
       "    }\n",
       "</style>\n",
       "<table border=\"1\" class=\"dataframe\">\n",
       "  <thead>\n",
       "    <tr style=\"text-align: right;\">\n",
       "      <th>debt_category</th>\n",
       "      <th>Долги были</th>\n",
       "      <th>Долгов не было</th>\n",
       "      <th>ratio, %</th>\n",
       "    </tr>\n",
       "    <tr>\n",
       "      <th>children_category</th>\n",
       "      <th></th>\n",
       "      <th></th>\n",
       "      <th></th>\n",
       "    </tr>\n",
       "  </thead>\n",
       "  <tbody>\n",
       "    <tr>\n",
       "      <td>1-2 ребёнка в семье</td>\n",
       "      <td>647</td>\n",
       "      <td>6336</td>\n",
       "      <td>10.211490</td>\n",
       "    </tr>\n",
       "    <tr>\n",
       "      <td>многодетная семья</td>\n",
       "      <td>31</td>\n",
       "      <td>349</td>\n",
       "      <td>8.882521</td>\n",
       "    </tr>\n",
       "    <tr>\n",
       "      <td>нет детей</td>\n",
       "      <td>1063</td>\n",
       "      <td>13028</td>\n",
       "      <td>8.159349</td>\n",
       "    </tr>\n",
       "  </tbody>\n",
       "</table>\n",
       "</div>"
      ],
      "text/plain": [
       "debt_category        Долги были  Долгов не было   ratio, %\n",
       "children_category                                         \n",
       "1-2 ребёнка в семье         647            6336  10.211490\n",
       "многодетная семья            31             349   8.882521\n",
       "нет детей                  1063           13028   8.159349"
      ]
     },
     "execution_count": 60,
     "metadata": {},
     "output_type": "execute_result"
    }
   ],
   "source": [
    "children_data_pivot.sort_values(by='ratio, %', ascending=False)"
   ]
  },
  {
   "cell_type": "markdown",
   "metadata": {
    "id": "CsgQ2dyb-8Rz"
   },
   "source": [
    "**Вывод**"
   ]
  },
  {
   "cell_type": "code",
   "execution_count": null,
   "metadata": {
    "id": "vI8Q8BaC-8Rz",
    "outputId": "af1ffa06-1e11-4f41-9899-19da20f51252"
   },
   "outputs": [
    {
     "data": {
      "text/html": [
       "<div>\n",
       "<style scoped>\n",
       "    .dataframe tbody tr th:only-of-type {\n",
       "        vertical-align: middle;\n",
       "    }\n",
       "\n",
       "    .dataframe tbody tr th {\n",
       "        vertical-align: top;\n",
       "    }\n",
       "\n",
       "    .dataframe thead th {\n",
       "        text-align: right;\n",
       "    }\n",
       "</style>\n",
       "<table border=\"1\" class=\"dataframe\">\n",
       "  <thead>\n",
       "    <tr style=\"text-align: right;\">\n",
       "      <th></th>\n",
       "      <th>children</th>\n",
       "      <th>days_employed</th>\n",
       "      <th>dob_years</th>\n",
       "      <th>education</th>\n",
       "      <th>education_id</th>\n",
       "      <th>family_status</th>\n",
       "      <th>family_status_id</th>\n",
       "      <th>gender</th>\n",
       "      <th>income_type</th>\n",
       "      <th>debt</th>\n",
       "      <th>total_income</th>\n",
       "      <th>purpose</th>\n",
       "      <th>lemmas_purpose</th>\n",
       "      <th>children_category</th>\n",
       "      <th>total_income_category</th>\n",
       "      <th>purpose_category</th>\n",
       "      <th>debt_category</th>\n",
       "    </tr>\n",
       "  </thead>\n",
       "  <tbody>\n",
       "    <tr>\n",
       "      <td>0</td>\n",
       "      <td>1</td>\n",
       "      <td>8437</td>\n",
       "      <td>42</td>\n",
       "      <td>высшее</td>\n",
       "      <td>0</td>\n",
       "      <td>женат / замужем</td>\n",
       "      <td>0</td>\n",
       "      <td>F</td>\n",
       "      <td>сотрудник</td>\n",
       "      <td>0</td>\n",
       "      <td>253875</td>\n",
       "      <td>покупка жилья</td>\n",
       "      <td>[покупка,  , жилье, \\n]</td>\n",
       "      <td>1-2 ребёнка в семье</td>\n",
       "      <td>средний</td>\n",
       "      <td>покупка недвижимости</td>\n",
       "      <td>Долгов не было</td>\n",
       "    </tr>\n",
       "    <tr>\n",
       "      <td>1</td>\n",
       "      <td>1</td>\n",
       "      <td>4024</td>\n",
       "      <td>36</td>\n",
       "      <td>среднее</td>\n",
       "      <td>1</td>\n",
       "      <td>женат / замужем</td>\n",
       "      <td>0</td>\n",
       "      <td>F</td>\n",
       "      <td>сотрудник</td>\n",
       "      <td>0</td>\n",
       "      <td>112080</td>\n",
       "      <td>приобретение автомобиля</td>\n",
       "      <td>[приобретение,  , автомобиль, \\n]</td>\n",
       "      <td>1-2 ребёнка в семье</td>\n",
       "      <td>средний</td>\n",
       "      <td>покупка автомобиля</td>\n",
       "      <td>Долгов не было</td>\n",
       "    </tr>\n",
       "    <tr>\n",
       "      <td>2</td>\n",
       "      <td>0</td>\n",
       "      <td>5623</td>\n",
       "      <td>33</td>\n",
       "      <td>среднее</td>\n",
       "      <td>1</td>\n",
       "      <td>женат / замужем</td>\n",
       "      <td>0</td>\n",
       "      <td>M</td>\n",
       "      <td>сотрудник</td>\n",
       "      <td>0</td>\n",
       "      <td>145885</td>\n",
       "      <td>покупка жилья</td>\n",
       "      <td>[покупка,  , жилье, \\n]</td>\n",
       "      <td>нет детей</td>\n",
       "      <td>средний</td>\n",
       "      <td>покупка недвижимости</td>\n",
       "      <td>Долгов не было</td>\n",
       "    </tr>\n",
       "    <tr>\n",
       "      <td>3</td>\n",
       "      <td>3</td>\n",
       "      <td>4124</td>\n",
       "      <td>32</td>\n",
       "      <td>среднее</td>\n",
       "      <td>1</td>\n",
       "      <td>женат / замужем</td>\n",
       "      <td>0</td>\n",
       "      <td>M</td>\n",
       "      <td>сотрудник</td>\n",
       "      <td>0</td>\n",
       "      <td>267628</td>\n",
       "      <td>дополнительное образование</td>\n",
       "      <td>[дополнительный,  , образование, \\n]</td>\n",
       "      <td>многодетная семья</td>\n",
       "      <td>средний</td>\n",
       "      <td>образование</td>\n",
       "      <td>Долгов не было</td>\n",
       "    </tr>\n",
       "    <tr>\n",
       "      <td>4</td>\n",
       "      <td>0</td>\n",
       "      <td>9555</td>\n",
       "      <td>53</td>\n",
       "      <td>среднее</td>\n",
       "      <td>1</td>\n",
       "      <td>гражданский брак</td>\n",
       "      <td>1</td>\n",
       "      <td>F</td>\n",
       "      <td>пенсионер</td>\n",
       "      <td>0</td>\n",
       "      <td>158616</td>\n",
       "      <td>сыграть свадьбу</td>\n",
       "      <td>[сыграть,  , свадьба, \\n]</td>\n",
       "      <td>нет детей</td>\n",
       "      <td>средний</td>\n",
       "      <td>свадьба</td>\n",
       "      <td>Долгов не было</td>\n",
       "    </tr>\n",
       "    <tr>\n",
       "      <td>5</td>\n",
       "      <td>0</td>\n",
       "      <td>926</td>\n",
       "      <td>27</td>\n",
       "      <td>высшее</td>\n",
       "      <td>0</td>\n",
       "      <td>гражданский брак</td>\n",
       "      <td>1</td>\n",
       "      <td>M</td>\n",
       "      <td>компаньон</td>\n",
       "      <td>0</td>\n",
       "      <td>255763</td>\n",
       "      <td>покупка жилья</td>\n",
       "      <td>[покупка,  , жилье, \\n]</td>\n",
       "      <td>нет детей</td>\n",
       "      <td>средний</td>\n",
       "      <td>покупка недвижимости</td>\n",
       "      <td>Долгов не было</td>\n",
       "    </tr>\n",
       "    <tr>\n",
       "      <td>6</td>\n",
       "      <td>0</td>\n",
       "      <td>2879</td>\n",
       "      <td>43</td>\n",
       "      <td>высшее</td>\n",
       "      <td>0</td>\n",
       "      <td>женат / замужем</td>\n",
       "      <td>0</td>\n",
       "      <td>F</td>\n",
       "      <td>компаньон</td>\n",
       "      <td>0</td>\n",
       "      <td>240525</td>\n",
       "      <td>операции с жильем</td>\n",
       "      <td>[операция,  , с,  , жилье, \\n]</td>\n",
       "      <td>нет детей</td>\n",
       "      <td>средний</td>\n",
       "      <td>покупка недвижимости</td>\n",
       "      <td>Долгов не было</td>\n",
       "    </tr>\n",
       "    <tr>\n",
       "      <td>7</td>\n",
       "      <td>0</td>\n",
       "      <td>152</td>\n",
       "      <td>50</td>\n",
       "      <td>среднее</td>\n",
       "      <td>1</td>\n",
       "      <td>женат / замужем</td>\n",
       "      <td>0</td>\n",
       "      <td>M</td>\n",
       "      <td>сотрудник</td>\n",
       "      <td>0</td>\n",
       "      <td>135823</td>\n",
       "      <td>образование</td>\n",
       "      <td>[образование, \\n]</td>\n",
       "      <td>нет детей</td>\n",
       "      <td>средний</td>\n",
       "      <td>образование</td>\n",
       "      <td>Долгов не было</td>\n",
       "    </tr>\n",
       "    <tr>\n",
       "      <td>8</td>\n",
       "      <td>2</td>\n",
       "      <td>6929</td>\n",
       "      <td>35</td>\n",
       "      <td>высшее</td>\n",
       "      <td>0</td>\n",
       "      <td>гражданский брак</td>\n",
       "      <td>1</td>\n",
       "      <td>F</td>\n",
       "      <td>сотрудник</td>\n",
       "      <td>0</td>\n",
       "      <td>95856</td>\n",
       "      <td>на проведение свадьбы</td>\n",
       "      <td>[на,  , проведение,  , свадьба, \\n]</td>\n",
       "      <td>1-2 ребёнка в семье</td>\n",
       "      <td>низкий</td>\n",
       "      <td>свадьба</td>\n",
       "      <td>Долгов не было</td>\n",
       "    </tr>\n",
       "    <tr>\n",
       "      <td>9</td>\n",
       "      <td>0</td>\n",
       "      <td>2188</td>\n",
       "      <td>41</td>\n",
       "      <td>среднее</td>\n",
       "      <td>1</td>\n",
       "      <td>женат / замужем</td>\n",
       "      <td>0</td>\n",
       "      <td>M</td>\n",
       "      <td>сотрудник</td>\n",
       "      <td>0</td>\n",
       "      <td>144425</td>\n",
       "      <td>покупка жилья для семьи</td>\n",
       "      <td>[покупка,  , жилье,  , для,  , семья, \\n]</td>\n",
       "      <td>нет детей</td>\n",
       "      <td>средний</td>\n",
       "      <td>покупка недвижимости</td>\n",
       "      <td>Долгов не было</td>\n",
       "    </tr>\n",
       "  </tbody>\n",
       "</table>\n",
       "</div>"
      ],
      "text/plain": [
       "   children  days_employed  dob_years education  education_id  \\\n",
       "0         1           8437         42    высшее             0   \n",
       "1         1           4024         36   среднее             1   \n",
       "2         0           5623         33   среднее             1   \n",
       "3         3           4124         32   среднее             1   \n",
       "4         0           9555         53   среднее             1   \n",
       "5         0            926         27    высшее             0   \n",
       "6         0           2879         43    высшее             0   \n",
       "7         0            152         50   среднее             1   \n",
       "8         2           6929         35    высшее             0   \n",
       "9         0           2188         41   среднее             1   \n",
       "\n",
       "      family_status  family_status_id gender income_type  debt  total_income  \\\n",
       "0   женат / замужем                 0      F   сотрудник     0        253875   \n",
       "1   женат / замужем                 0      F   сотрудник     0        112080   \n",
       "2   женат / замужем                 0      M   сотрудник     0        145885   \n",
       "3   женат / замужем                 0      M   сотрудник     0        267628   \n",
       "4  гражданский брак                 1      F   пенсионер     0        158616   \n",
       "5  гражданский брак                 1      M   компаньон     0        255763   \n",
       "6   женат / замужем                 0      F   компаньон     0        240525   \n",
       "7   женат / замужем                 0      M   сотрудник     0        135823   \n",
       "8  гражданский брак                 1      F   сотрудник     0         95856   \n",
       "9   женат / замужем                 0      M   сотрудник     0        144425   \n",
       "\n",
       "                      purpose                             lemmas_purpose  \\\n",
       "0               покупка жилья                    [покупка,  , жилье, \\n]   \n",
       "1     приобретение автомобиля          [приобретение,  , автомобиль, \\n]   \n",
       "2               покупка жилья                    [покупка,  , жилье, \\n]   \n",
       "3  дополнительное образование       [дополнительный,  , образование, \\n]   \n",
       "4             сыграть свадьбу                  [сыграть,  , свадьба, \\n]   \n",
       "5               покупка жилья                    [покупка,  , жилье, \\n]   \n",
       "6           операции с жильем             [операция,  , с,  , жилье, \\n]   \n",
       "7                 образование                          [образование, \\n]   \n",
       "8       на проведение свадьбы        [на,  , проведение,  , свадьба, \\n]   \n",
       "9     покупка жилья для семьи  [покупка,  , жилье,  , для,  , семья, \\n]   \n",
       "\n",
       "     children_category total_income_category      purpose_category  \\\n",
       "0  1-2 ребёнка в семье               средний  покупка недвижимости   \n",
       "1  1-2 ребёнка в семье               средний    покупка автомобиля   \n",
       "2            нет детей               средний  покупка недвижимости   \n",
       "3    многодетная семья               средний           образование   \n",
       "4            нет детей               средний               свадьба   \n",
       "5            нет детей               средний  покупка недвижимости   \n",
       "6            нет детей               средний  покупка недвижимости   \n",
       "7            нет детей               средний           образование   \n",
       "8  1-2 ребёнка в семье                низкий               свадьба   \n",
       "9            нет детей               средний  покупка недвижимости   \n",
       "\n",
       "    debt_category  \n",
       "0  Долгов не было  \n",
       "1  Долгов не было  \n",
       "2  Долгов не было  \n",
       "3  Долгов не было  \n",
       "4  Долгов не было  \n",
       "5  Долгов не было  \n",
       "6  Долгов не было  \n",
       "7  Долгов не было  \n",
       "8  Долгов не было  \n",
       "9  Долгов не было  "
      ]
     },
     "execution_count": 61,
     "metadata": {},
     "output_type": "execute_result"
    }
   ],
   "source": [
    "df.head(10)"
   ]
  },
  {
   "cell_type": "markdown",
   "metadata": {
    "id": "5Irje6S9-8Rz"
   },
   "source": [
    "Люди с одним-двумя детьми отдают кредит хуже, чем люди не имеющие детей или многодетные."
   ]
  },
  {
   "cell_type": "markdown",
   "metadata": {
    "id": "BHuUfR10-8R1"
   },
   "source": [
    "- Есть ли зависимость между семейным положением и возвратом кредита в срок?"
   ]
  },
  {
   "cell_type": "code",
   "execution_count": null,
   "metadata": {
    "id": "Xj8sbh4D-8R1"
   },
   "outputs": [],
   "source": [
    "family_data_pivot = df.pivot_table(\n",
    "    index='family_status', \n",
    "    columns='debt_category', \n",
    "    values='debt', \n",
    "    aggfunc='count'\n",
    ")"
   ]
  },
  {
   "cell_type": "code",
   "execution_count": null,
   "metadata": {
    "id": "XLVhj4e9-8R1"
   },
   "outputs": [],
   "source": [
    "family_data_pivot['ratio, %'] = family_data_pivot['Долги были'] / family_data_pivot['Долгов не было'] *100"
   ]
  },
  {
   "cell_type": "code",
   "execution_count": null,
   "metadata": {
    "id": "fCfEd2Ob-8R1",
    "outputId": "57c729a3-9091-409f-c3bb-c01f6b6e78b8"
   },
   "outputs": [
    {
     "data": {
      "text/html": [
       "<div>\n",
       "<style scoped>\n",
       "    .dataframe tbody tr th:only-of-type {\n",
       "        vertical-align: middle;\n",
       "    }\n",
       "\n",
       "    .dataframe tbody tr th {\n",
       "        vertical-align: top;\n",
       "    }\n",
       "\n",
       "    .dataframe thead th {\n",
       "        text-align: right;\n",
       "    }\n",
       "</style>\n",
       "<table border=\"1\" class=\"dataframe\">\n",
       "  <thead>\n",
       "    <tr style=\"text-align: right;\">\n",
       "      <th>debt_category</th>\n",
       "      <th>Долги были</th>\n",
       "      <th>Долгов не было</th>\n",
       "      <th>ratio, %</th>\n",
       "    </tr>\n",
       "    <tr>\n",
       "      <th>family_status</th>\n",
       "      <th></th>\n",
       "      <th></th>\n",
       "      <th></th>\n",
       "    </tr>\n",
       "  </thead>\n",
       "  <tbody>\n",
       "    <tr>\n",
       "      <td>Не женат / не замужем</td>\n",
       "      <td>274</td>\n",
       "      <td>2536</td>\n",
       "      <td>10.804416</td>\n",
       "    </tr>\n",
       "    <tr>\n",
       "      <td>гражданский брак</td>\n",
       "      <td>388</td>\n",
       "      <td>3763</td>\n",
       "      <td>10.310922</td>\n",
       "    </tr>\n",
       "    <tr>\n",
       "      <td>женат / замужем</td>\n",
       "      <td>931</td>\n",
       "      <td>11408</td>\n",
       "      <td>8.160940</td>\n",
       "    </tr>\n",
       "    <tr>\n",
       "      <td>в разводе</td>\n",
       "      <td>85</td>\n",
       "      <td>1110</td>\n",
       "      <td>7.657658</td>\n",
       "    </tr>\n",
       "    <tr>\n",
       "      <td>вдовец / вдова</td>\n",
       "      <td>63</td>\n",
       "      <td>896</td>\n",
       "      <td>7.031250</td>\n",
       "    </tr>\n",
       "  </tbody>\n",
       "</table>\n",
       "</div>"
      ],
      "text/plain": [
       "debt_category          Долги были  Долгов не было   ratio, %\n",
       "family_status                                               \n",
       "Не женат / не замужем         274            2536  10.804416\n",
       "гражданский брак              388            3763  10.310922\n",
       "женат / замужем               931           11408   8.160940\n",
       "в разводе                      85            1110   7.657658\n",
       "вдовец / вдова                 63             896   7.031250"
      ]
     },
     "execution_count": 64,
     "metadata": {},
     "output_type": "execute_result"
    }
   ],
   "source": [
    "family_data_pivot.sort_values(by='ratio, %', ascending=False)"
   ]
  },
  {
   "cell_type": "markdown",
   "metadata": {
    "id": "Q2F5l6E3-8R1"
   },
   "source": [
    "**Вывод**"
   ]
  },
  {
   "cell_type": "markdown",
   "metadata": {
    "id": "Qr6EB71v-8R1"
   },
   "source": [
    "Люди, не имеющие пары, хуже всех отдают кредит. Между людьми живущими гражданским браком и людьми с официально оформленым браком различие более двух процентов при чём официально расписанные люди отдают кредит лучше."
   ]
  },
  {
   "cell_type": "code",
   "execution_count": null,
   "metadata": {
    "id": "SIMMXkFY-8R2"
   },
   "outputs": [],
   "source": []
  },
  {
   "cell_type": "markdown",
   "metadata": {
    "id": "oyAJYwqS-8R3"
   },
   "source": [
    "- Есть ли зависимость между уровнем дохода и возвратом кредита в срок?"
   ]
  },
  {
   "cell_type": "code",
   "execution_count": null,
   "metadata": {
    "id": "pBSdvXAP-8R3"
   },
   "outputs": [],
   "source": [
    "income_data_pivot = df.pivot_table(\n",
    "    index='total_income_category', \n",
    "    columns='debt_category', \n",
    "    values='debt', \n",
    "    aggfunc='count'\n",
    ")"
   ]
  },
  {
   "cell_type": "code",
   "execution_count": null,
   "metadata": {
    "id": "1FmE1Nep-8R3"
   },
   "outputs": [],
   "source": [
    "income_data_pivot['ratio, %'] = income_data_pivot['Долги были'] / income_data_pivot['Долгов не было'] *100"
   ]
  },
  {
   "cell_type": "code",
   "execution_count": null,
   "metadata": {
    "id": "NWWi149D-8R3",
    "outputId": "bcf89cdb-3acb-4fdb-94e8-a8193f76138c"
   },
   "outputs": [
    {
     "data": {
      "text/html": [
       "<div>\n",
       "<style scoped>\n",
       "    .dataframe tbody tr th:only-of-type {\n",
       "        vertical-align: middle;\n",
       "    }\n",
       "\n",
       "    .dataframe tbody tr th {\n",
       "        vertical-align: top;\n",
       "    }\n",
       "\n",
       "    .dataframe thead th {\n",
       "        text-align: right;\n",
       "    }\n",
       "</style>\n",
       "<table border=\"1\" class=\"dataframe\">\n",
       "  <thead>\n",
       "    <tr style=\"text-align: right;\">\n",
       "      <th>debt_category</th>\n",
       "      <th>Долги были</th>\n",
       "      <th>Долгов не было</th>\n",
       "      <th>ratio, %</th>\n",
       "    </tr>\n",
       "    <tr>\n",
       "      <th>total_income_category</th>\n",
       "      <th></th>\n",
       "      <th></th>\n",
       "      <th></th>\n",
       "    </tr>\n",
       "  </thead>\n",
       "  <tbody>\n",
       "    <tr>\n",
       "      <td>средний</td>\n",
       "      <td>1281</td>\n",
       "      <td>14227</td>\n",
       "      <td>9.004006</td>\n",
       "    </tr>\n",
       "    <tr>\n",
       "      <td>низкий</td>\n",
       "      <td>354</td>\n",
       "      <td>4109</td>\n",
       "      <td>8.615235</td>\n",
       "    </tr>\n",
       "    <tr>\n",
       "      <td>высокий</td>\n",
       "      <td>106</td>\n",
       "      <td>1377</td>\n",
       "      <td>7.697894</td>\n",
       "    </tr>\n",
       "  </tbody>\n",
       "</table>\n",
       "</div>"
      ],
      "text/plain": [
       "debt_category          Долги были  Долгов не было  ratio, %\n",
       "total_income_category                                      \n",
       "средний                      1281           14227  9.004006\n",
       "низкий                        354            4109  8.615235\n",
       "высокий                       106            1377  7.697894"
      ]
     },
     "execution_count": 67,
     "metadata": {},
     "output_type": "execute_result"
    }
   ],
   "source": [
    "income_data_pivot.sort_values(by='ratio, %', ascending=False)"
   ]
  },
  {
   "cell_type": "markdown",
   "metadata": {
    "id": "RKurwxj7-8R4"
   },
   "source": [
    "**Вывод**"
   ]
  },
  {
   "cell_type": "markdown",
   "metadata": {
    "id": "iz-Y-UhM-8R4"
   },
   "source": [
    "Люди со среднем доходом отдают кредит хуже, чем люди с высоким доходом. Люди с низким доходом отдают кредит чуть лучше, чем люди со среднем доходом."
   ]
  },
  {
   "cell_type": "markdown",
   "metadata": {
    "id": "iyRPHa74-8R5"
   },
   "source": [
    "- Как разные цели кредита влияют на его возврат в срок?"
   ]
  },
  {
   "cell_type": "code",
   "execution_count": null,
   "metadata": {
    "id": "weUufn9I-8R5"
   },
   "outputs": [],
   "source": [
    "purpose_data_pivot = df.pivot_table(\n",
    "    index='purpose_category', \n",
    "    columns='debt_category', \n",
    "    values='debt', \n",
    "    aggfunc='count'\n",
    ")"
   ]
  },
  {
   "cell_type": "code",
   "execution_count": null,
   "metadata": {
    "id": "Wcj-cJk6-8R6"
   },
   "outputs": [],
   "source": [
    "purpose_data_pivot['ratio, %'] = purpose_data_pivot['Долги были'] / purpose_data_pivot['Долгов не было'] *100"
   ]
  },
  {
   "cell_type": "code",
   "execution_count": null,
   "metadata": {
    "id": "WXKmKl59-8R6",
    "outputId": "284ce6bb-cd47-4d40-ec34-0fafc3508db3"
   },
   "outputs": [
    {
     "data": {
      "text/html": [
       "<div>\n",
       "<style scoped>\n",
       "    .dataframe tbody tr th:only-of-type {\n",
       "        vertical-align: middle;\n",
       "    }\n",
       "\n",
       "    .dataframe tbody tr th {\n",
       "        vertical-align: top;\n",
       "    }\n",
       "\n",
       "    .dataframe thead th {\n",
       "        text-align: right;\n",
       "    }\n",
       "</style>\n",
       "<table border=\"1\" class=\"dataframe\">\n",
       "  <thead>\n",
       "    <tr style=\"text-align: right;\">\n",
       "      <th>debt_category</th>\n",
       "      <th>Долги были</th>\n",
       "      <th>Долгов не было</th>\n",
       "      <th>ratio, %</th>\n",
       "    </tr>\n",
       "    <tr>\n",
       "      <th>purpose_category</th>\n",
       "      <th></th>\n",
       "      <th></th>\n",
       "      <th></th>\n",
       "    </tr>\n",
       "  </thead>\n",
       "  <tbody>\n",
       "    <tr>\n",
       "      <td>покупка автомобиля</td>\n",
       "      <td>403</td>\n",
       "      <td>3903</td>\n",
       "      <td>10.325391</td>\n",
       "    </tr>\n",
       "    <tr>\n",
       "      <td>образование</td>\n",
       "      <td>370</td>\n",
       "      <td>3643</td>\n",
       "      <td>10.156464</td>\n",
       "    </tr>\n",
       "    <tr>\n",
       "      <td>свадьба</td>\n",
       "      <td>186</td>\n",
       "      <td>2138</td>\n",
       "      <td>8.699719</td>\n",
       "    </tr>\n",
       "    <tr>\n",
       "      <td>строительство недвижимости</td>\n",
       "      <td>144</td>\n",
       "      <td>1734</td>\n",
       "      <td>8.304498</td>\n",
       "    </tr>\n",
       "    <tr>\n",
       "      <td>покупка недвижимости</td>\n",
       "      <td>638</td>\n",
       "      <td>8295</td>\n",
       "      <td>7.691380</td>\n",
       "    </tr>\n",
       "  </tbody>\n",
       "</table>\n",
       "</div>"
      ],
      "text/plain": [
       "debt_category               Долги были  Долгов не было   ratio, %\n",
       "purpose_category                                                 \n",
       "покупка автомобиля                 403            3903  10.325391\n",
       "образование                        370            3643  10.156464\n",
       "свадьба                            186            2138   8.699719\n",
       "строительство недвижимости         144            1734   8.304498\n",
       "покупка недвижимости               638            8295   7.691380"
      ]
     },
     "execution_count": 70,
     "metadata": {},
     "output_type": "execute_result"
    }
   ],
   "source": [
    "purpose_data_pivot.sort_values(by='ratio, %', ascending=False)"
   ]
  },
  {
   "cell_type": "markdown",
   "metadata": {
    "id": "SrupZ1LN-8R7"
   },
   "source": [
    "**Вывод**"
   ]
  },
  {
   "cell_type": "markdown",
   "metadata": {
    "id": "6_wWmzxM-8R7"
   },
   "source": [
    "Цели кредита влияют на его возврат в срок. Лучше всего возвращают кредит взятый на покупку и строительство недвижимости, хуже всего возвращают кредит за покупку автомобиля и за получение образования."
   ]
  },
  {
   "cell_type": "markdown",
   "metadata": {
    "id": "so-W4mvu-8R8"
   },
   "source": [
    "## Шаг 4. Общий вывод"
   ]
  },
  {
   "cell_type": "markdown",
   "metadata": {
    "id": "E7YaAsar-8R8"
   },
   "source": [
    "Мы нашли ответы на вопросы и установили что действиельно: количество детей, семейное положение человека, его доход и цель кредита влияют на возврат кредита в срок.\n",
    "\n",
    "1. Люди с одним-двумя детьми отдают кредит хуже, чем люди не имеющие детей или многодетные.\n",
    "\n",
    "2. Люди, не имеющие пары, хуже всех отдают кредит. Между людьми живущими гражданским браком и людьми с официально оформленым браком различие более двух процентов при чём официально расписанные люди отдают кредит лучше.\n",
    "\n",
    "3. Люди со среднем доходом отдают кредит хуже, чем люди с высоким доходом. Люди с низким доходом отдают кредит чуть лучше, чем люди со среднем доходом.\n",
    "\n",
    "4. Цели кредита влияют на его возврат в срок. Лучше всего возвращают кредит взятый на покупку и строительство недвижимости, хуже всего возвращают кредит за покупку автомобиля и за получение образования.\n",
    "\n",
    "\n",
    "Из данных одного банка не всегда можно сделать корректный вывод о всех кредитуемых клиентах. Необходимо проверять достоверность результатов с помощью статистических гипотез, но пока что проект этого не требует."
   ]
  }
 ],
 "metadata": {
  "ExecuteTimeLog": [
   {
    "duration": 724,
    "start_time": "2021-11-27T20:07:38.516Z"
   },
   {
    "duration": 65,
    "start_time": "2021-11-27T20:08:58.505Z"
   },
   {
    "duration": 30,
    "start_time": "2021-11-27T20:09:26.141Z"
   },
   {
    "duration": 20,
    "start_time": "2021-11-27T20:12:17.654Z"
   },
   {
    "duration": 212,
    "start_time": "2021-11-28T18:41:09.721Z"
   },
   {
    "duration": 176,
    "start_time": "2021-11-28T18:41:13.552Z"
   },
   {
    "duration": 174,
    "start_time": "2021-11-28T18:41:15.664Z"
   },
   {
    "duration": 175,
    "start_time": "2021-11-28T18:41:33.107Z"
   },
   {
    "duration": 607,
    "start_time": "2021-11-28T18:41:36.286Z"
   },
   {
    "duration": 3,
    "start_time": "2021-11-28T18:41:37.415Z"
   },
   {
    "duration": 50,
    "start_time": "2021-11-28T18:41:38.439Z"
   },
   {
    "duration": 21,
    "start_time": "2021-11-28T18:41:40.017Z"
   },
   {
    "duration": 11,
    "start_time": "2021-11-28T18:41:40.671Z"
   },
   {
    "duration": 9,
    "start_time": "2021-11-28T18:47:08.903Z"
   },
   {
    "duration": 202,
    "start_time": "2021-11-28T19:02:47.672Z"
   },
   {
    "duration": 10,
    "start_time": "2021-11-28T19:02:54.688Z"
   },
   {
    "duration": 5,
    "start_time": "2021-11-28T19:03:15.760Z"
   },
   {
    "duration": 174,
    "start_time": "2021-11-28T19:03:32.840Z"
   },
   {
    "duration": 207,
    "start_time": "2021-11-28T19:03:37.943Z"
   },
   {
    "duration": 174,
    "start_time": "2021-11-28T19:04:13.737Z"
   },
   {
    "duration": 8,
    "start_time": "2021-11-28T19:04:25.736Z"
   },
   {
    "duration": 9,
    "start_time": "2021-11-28T19:04:37.738Z"
   },
   {
    "duration": 177,
    "start_time": "2021-11-28T19:06:05.872Z"
   },
   {
    "duration": 9,
    "start_time": "2021-11-28T19:06:14.631Z"
   },
   {
    "duration": 9,
    "start_time": "2021-11-28T19:06:31.320Z"
   },
   {
    "duration": 9,
    "start_time": "2021-11-28T19:06:41.840Z"
   },
   {
    "duration": 179,
    "start_time": "2021-11-28T19:08:22.272Z"
   },
   {
    "duration": 26,
    "start_time": "2021-11-28T19:08:53.837Z"
   },
   {
    "duration": 10,
    "start_time": "2021-11-28T19:09:22.041Z"
   },
   {
    "duration": 16,
    "start_time": "2021-11-28T19:09:24.208Z"
   },
   {
    "duration": 23,
    "start_time": "2021-11-28T19:09:27.649Z"
   },
   {
    "duration": 15,
    "start_time": "2021-11-28T19:09:29.745Z"
   },
   {
    "duration": 8,
    "start_time": "2021-11-28T19:10:01.217Z"
   },
   {
    "duration": 11,
    "start_time": "2021-11-28T19:10:04.232Z"
   },
   {
    "duration": 56,
    "start_time": "2021-11-28T19:12:46.800Z"
   },
   {
    "duration": 48,
    "start_time": "2021-11-28T19:25:14.016Z"
   },
   {
    "duration": 10,
    "start_time": "2021-11-28T19:25:20.552Z"
   },
   {
    "duration": 10,
    "start_time": "2021-11-28T19:25:24.896Z"
   },
   {
    "duration": 4,
    "start_time": "2021-11-28T19:26:28.593Z"
   },
   {
    "duration": 23,
    "start_time": "2021-11-28T19:26:41.912Z"
   },
   {
    "duration": 49,
    "start_time": "2021-11-28T19:28:36.361Z"
   },
   {
    "duration": 13,
    "start_time": "2021-11-28T19:28:38.465Z"
   },
   {
    "duration": 12,
    "start_time": "2021-11-28T19:28:42.480Z"
   },
   {
    "duration": 9,
    "start_time": "2021-11-28T19:28:45.400Z"
   },
   {
    "duration": 7,
    "start_time": "2021-11-28T19:28:47.216Z"
   },
   {
    "duration": 10,
    "start_time": "2021-11-28T19:28:47.968Z"
   },
   {
    "duration": 4,
    "start_time": "2021-11-28T19:43:51.353Z"
   },
   {
    "duration": 4,
    "start_time": "2021-11-28T19:44:06.403Z"
   },
   {
    "duration": 12,
    "start_time": "2021-11-28T19:44:15.753Z"
   },
   {
    "duration": 407,
    "start_time": "2021-11-29T06:32:38.345Z"
   },
   {
    "duration": 691,
    "start_time": "2021-11-29T06:32:43.913Z"
   },
   {
    "duration": 55,
    "start_time": "2021-11-29T06:32:44.606Z"
   },
   {
    "duration": 23,
    "start_time": "2021-11-29T06:32:44.663Z"
   },
   {
    "duration": 23,
    "start_time": "2021-11-29T06:32:44.687Z"
   },
   {
    "duration": 9,
    "start_time": "2021-11-29T06:32:48.809Z"
   },
   {
    "duration": 23,
    "start_time": "2021-11-29T06:35:21.997Z"
   },
   {
    "duration": 427,
    "start_time": "2021-11-29T06:35:59.514Z"
   },
   {
    "duration": 6,
    "start_time": "2021-11-29T06:36:03.354Z"
   },
   {
    "duration": 5,
    "start_time": "2021-11-29T06:43:27.417Z"
   },
   {
    "duration": 596,
    "start_time": "2021-11-29T06:43:41.060Z"
   },
   {
    "duration": 114,
    "start_time": "2021-11-29T06:44:43.099Z"
   },
   {
    "duration": 263,
    "start_time": "2021-11-29T06:44:46.538Z"
   },
   {
    "duration": 273,
    "start_time": "2021-11-29T06:45:05.619Z"
   },
   {
    "duration": 356,
    "start_time": "2021-11-29T06:45:17.537Z"
   },
   {
    "duration": 5,
    "start_time": "2021-11-29T06:45:23.207Z"
   },
   {
    "duration": 298,
    "start_time": "2021-11-29T06:45:44.265Z"
   },
   {
    "duration": 6,
    "start_time": "2021-11-29T06:46:19.735Z"
   },
   {
    "duration": 285,
    "start_time": "2021-11-29T06:47:02.033Z"
   },
   {
    "duration": 5,
    "start_time": "2021-11-29T06:47:30.861Z"
   },
   {
    "duration": 5,
    "start_time": "2021-11-29T06:47:45.794Z"
   },
   {
    "duration": 93,
    "start_time": "2021-11-29T06:47:53.930Z"
   },
   {
    "duration": 6,
    "start_time": "2021-11-29T06:47:57.328Z"
   },
   {
    "duration": 110,
    "start_time": "2021-11-29T06:49:00.887Z"
   },
   {
    "duration": 24,
    "start_time": "2021-11-29T06:49:06.707Z"
   },
   {
    "duration": 8,
    "start_time": "2021-11-29T06:49:31.757Z"
   },
   {
    "duration": 6,
    "start_time": "2021-11-29T06:57:56.358Z"
   },
   {
    "duration": 6,
    "start_time": "2021-11-29T06:58:11.898Z"
   },
   {
    "duration": 2,
    "start_time": "2021-11-29T06:58:29.405Z"
   },
   {
    "duration": 61,
    "start_time": "2021-11-29T06:58:29.410Z"
   },
   {
    "duration": 13,
    "start_time": "2021-11-29T06:58:29.473Z"
   },
   {
    "duration": 23,
    "start_time": "2021-11-29T06:58:29.487Z"
   },
   {
    "duration": 22,
    "start_time": "2021-11-29T06:58:29.512Z"
   },
   {
    "duration": 10,
    "start_time": "2021-11-29T06:58:29.536Z"
   },
   {
    "duration": 16,
    "start_time": "2021-11-29T06:58:29.548Z"
   },
   {
    "duration": 7,
    "start_time": "2021-11-29T06:58:31.335Z"
   },
   {
    "duration": 283,
    "start_time": "2021-11-29T07:03:03.644Z"
   },
   {
    "duration": 10,
    "start_time": "2021-11-29T07:03:11.653Z"
   },
   {
    "duration": 9,
    "start_time": "2021-11-29T07:03:24.940Z"
   },
   {
    "duration": 9,
    "start_time": "2021-11-29T07:04:05.930Z"
   },
   {
    "duration": 5,
    "start_time": "2021-11-29T07:04:27.247Z"
   },
   {
    "duration": 8,
    "start_time": "2021-11-29T07:04:36.657Z"
   },
   {
    "duration": 4,
    "start_time": "2021-11-29T07:04:38.908Z"
   },
   {
    "duration": 7,
    "start_time": "2021-11-29T07:05:53.694Z"
   },
   {
    "duration": 5,
    "start_time": "2021-11-29T07:05:55.268Z"
   },
   {
    "duration": 9,
    "start_time": "2021-11-29T07:06:06.783Z"
   },
   {
    "duration": 5,
    "start_time": "2021-11-29T07:06:07.480Z"
   },
   {
    "duration": -149,
    "start_time": "2021-11-29T07:29:06.775Z"
   },
   {
    "duration": -157,
    "start_time": "2021-11-29T07:29:06.783Z"
   },
   {
    "duration": 267,
    "start_time": "2021-11-29T07:29:09.406Z"
   },
   {
    "duration": 272,
    "start_time": "2021-11-29T07:29:38.007Z"
   },
   {
    "duration": 281,
    "start_time": "2021-11-29T07:29:59.503Z"
   },
   {
    "duration": 3,
    "start_time": "2021-11-29T07:30:04.568Z"
   },
   {
    "duration": 93,
    "start_time": "2021-11-29T07:30:04.573Z"
   },
   {
    "duration": 13,
    "start_time": "2021-11-29T07:30:04.669Z"
   },
   {
    "duration": 38,
    "start_time": "2021-11-29T07:30:04.683Z"
   },
   {
    "duration": 32,
    "start_time": "2021-11-29T07:30:04.723Z"
   },
   {
    "duration": 40,
    "start_time": "2021-11-29T07:30:04.756Z"
   },
   {
    "duration": 5,
    "start_time": "2021-11-29T07:30:06.142Z"
   },
   {
    "duration": 3,
    "start_time": "2021-11-29T07:30:21.977Z"
   },
   {
    "duration": 4,
    "start_time": "2021-11-29T07:30:26.656Z"
   },
   {
    "duration": 5,
    "start_time": "2021-11-29T07:30:32.495Z"
   },
   {
    "duration": 6,
    "start_time": "2021-11-29T07:32:40.289Z"
   },
   {
    "duration": 7,
    "start_time": "2021-11-29T07:33:24.328Z"
   },
   {
    "duration": 7,
    "start_time": "2021-11-29T07:33:53.714Z"
   },
   {
    "duration": 4,
    "start_time": "2021-11-29T07:36:16.328Z"
   },
   {
    "duration": 7,
    "start_time": "2021-11-29T07:38:12.705Z"
   },
   {
    "duration": 481,
    "start_time": "2021-11-29T07:44:55.075Z"
   },
   {
    "duration": 7,
    "start_time": "2021-11-29T07:53:37.496Z"
   },
   {
    "duration": 8,
    "start_time": "2021-11-29T07:54:36.523Z"
   },
   {
    "duration": 90,
    "start_time": "2021-11-29T07:55:24.685Z"
   },
   {
    "duration": 7,
    "start_time": "2021-11-29T07:55:32.837Z"
   },
   {
    "duration": 10,
    "start_time": "2021-11-29T07:56:42.128Z"
   },
   {
    "duration": 9,
    "start_time": "2021-11-29T07:57:39.394Z"
   },
   {
    "duration": 3,
    "start_time": "2021-11-29T07:59:44.937Z"
   },
   {
    "duration": 9,
    "start_time": "2021-11-29T08:00:22.254Z"
   },
   {
    "duration": 9,
    "start_time": "2021-11-29T08:01:12.065Z"
   },
   {
    "duration": 4,
    "start_time": "2021-11-29T08:01:12.869Z"
   },
   {
    "duration": 302,
    "start_time": "2021-11-29T08:02:56.345Z"
   },
   {
    "duration": 5,
    "start_time": "2021-11-29T08:03:05.025Z"
   },
   {
    "duration": 5,
    "start_time": "2021-11-29T08:03:46.511Z"
   },
   {
    "duration": 4,
    "start_time": "2021-11-29T08:07:01.825Z"
   },
   {
    "duration": 4,
    "start_time": "2021-11-29T08:08:22.938Z"
   },
   {
    "duration": 4,
    "start_time": "2021-11-29T08:08:37.099Z"
   },
   {
    "duration": 4,
    "start_time": "2021-11-29T08:08:59.209Z"
   },
   {
    "duration": 4,
    "start_time": "2021-11-29T08:14:30.681Z"
   },
   {
    "duration": 5,
    "start_time": "2021-11-29T08:14:39.955Z"
   },
   {
    "duration": 10,
    "start_time": "2021-11-29T08:15:30.393Z"
   },
   {
    "duration": 8,
    "start_time": "2021-11-29T08:16:11.931Z"
   },
   {
    "duration": 7,
    "start_time": "2021-11-29T08:16:27.274Z"
   },
   {
    "duration": 4,
    "start_time": "2021-11-29T08:18:09.966Z"
   },
   {
    "duration": 4,
    "start_time": "2021-11-29T08:18:53.813Z"
   },
   {
    "duration": 3,
    "start_time": "2021-11-29T08:20:55.192Z"
   },
   {
    "duration": 9,
    "start_time": "2021-11-29T08:22:41.731Z"
   },
   {
    "duration": 8,
    "start_time": "2021-11-29T08:29:37.155Z"
   },
   {
    "duration": 7,
    "start_time": "2021-11-29T08:30:45.948Z"
   },
   {
    "duration": 3,
    "start_time": "2021-11-29T08:32:16.819Z"
   },
   {
    "duration": 4,
    "start_time": "2021-11-29T08:32:17.658Z"
   },
   {
    "duration": 3,
    "start_time": "2021-11-29T08:32:20.742Z"
   },
   {
    "duration": 6,
    "start_time": "2021-11-29T08:32:22.763Z"
   },
   {
    "duration": 18,
    "start_time": "2021-11-29T08:33:32.597Z"
   },
   {
    "duration": 572,
    "start_time": "2021-11-29T08:37:50.286Z"
   },
   {
    "duration": 51,
    "start_time": "2021-11-29T08:37:50.859Z"
   },
   {
    "duration": 19,
    "start_time": "2021-11-29T08:37:50.912Z"
   },
   {
    "duration": 26,
    "start_time": "2021-11-29T08:37:50.933Z"
   },
   {
    "duration": 17,
    "start_time": "2021-11-29T08:37:50.961Z"
   },
   {
    "duration": 17,
    "start_time": "2021-11-29T08:37:50.979Z"
   },
   {
    "duration": 10,
    "start_time": "2021-11-29T08:37:50.998Z"
   },
   {
    "duration": 10,
    "start_time": "2021-11-29T08:37:51.010Z"
   },
   {
    "duration": 11,
    "start_time": "2021-11-29T08:37:51.022Z"
   },
   {
    "duration": 5,
    "start_time": "2021-11-29T08:37:51.035Z"
   },
   {
    "duration": 7,
    "start_time": "2021-11-29T08:37:51.042Z"
   },
   {
    "duration": 16,
    "start_time": "2021-11-29T08:37:51.051Z"
   },
   {
    "duration": 4,
    "start_time": "2021-11-29T08:37:56.784Z"
   },
   {
    "duration": 6,
    "start_time": "2021-11-29T08:37:58.893Z"
   },
   {
    "duration": 18,
    "start_time": "2021-11-29T08:38:03.967Z"
   },
   {
    "duration": 346,
    "start_time": "2021-11-29T08:38:05.949Z"
   },
   {
    "duration": 39,
    "start_time": "2021-11-29T08:38:32.181Z"
   },
   {
    "duration": 6,
    "start_time": "2021-11-29T08:38:34.208Z"
   },
   {
    "duration": 23,
    "start_time": "2021-11-29T08:38:42.061Z"
   },
   {
    "duration": 6,
    "start_time": "2021-11-29T08:38:43.204Z"
   },
   {
    "duration": 92,
    "start_time": "2021-11-29T08:43:03.934Z"
   },
   {
    "duration": 7,
    "start_time": "2021-11-29T08:46:58.538Z"
   },
   {
    "duration": 5,
    "start_time": "2021-11-29T08:47:01.909Z"
   },
   {
    "duration": 6,
    "start_time": "2021-11-29T08:47:08.757Z"
   },
   {
    "duration": 6,
    "start_time": "2021-11-29T08:47:09.794Z"
   },
   {
    "duration": 7,
    "start_time": "2021-11-29T08:47:30.407Z"
   },
   {
    "duration": 6,
    "start_time": "2021-11-29T08:47:31.297Z"
   },
   {
    "duration": 3,
    "start_time": "2021-11-29T08:47:42.716Z"
   },
   {
    "duration": 51,
    "start_time": "2021-11-29T08:47:42.729Z"
   },
   {
    "duration": 13,
    "start_time": "2021-11-29T08:47:42.782Z"
   },
   {
    "duration": 13,
    "start_time": "2021-11-29T08:47:42.797Z"
   },
   {
    "duration": 17,
    "start_time": "2021-11-29T08:47:42.811Z"
   },
   {
    "duration": 16,
    "start_time": "2021-11-29T08:47:42.829Z"
   },
   {
    "duration": 10,
    "start_time": "2021-11-29T08:47:42.847Z"
   },
   {
    "duration": 12,
    "start_time": "2021-11-29T08:47:42.858Z"
   },
   {
    "duration": 9,
    "start_time": "2021-11-29T08:47:42.873Z"
   },
   {
    "duration": 6,
    "start_time": "2021-11-29T08:47:42.884Z"
   },
   {
    "duration": 6,
    "start_time": "2021-11-29T08:47:42.891Z"
   },
   {
    "duration": 5,
    "start_time": "2021-11-29T08:47:42.899Z"
   },
   {
    "duration": 4,
    "start_time": "2021-11-29T08:47:49.964Z"
   },
   {
    "duration": 6,
    "start_time": "2021-11-29T08:47:52.129Z"
   },
   {
    "duration": 13,
    "start_time": "2021-11-29T08:47:57.817Z"
   },
   {
    "duration": 5,
    "start_time": "2021-11-29T08:48:00.250Z"
   },
   {
    "duration": 7,
    "start_time": "2021-11-29T08:48:03.329Z"
   },
   {
    "duration": 6,
    "start_time": "2021-11-29T08:48:08.323Z"
   },
   {
    "duration": 1352,
    "start_time": "2021-11-29T08:48:21.854Z"
   },
   {
    "duration": -284,
    "start_time": "2021-11-29T08:48:23.492Z"
   },
   {
    "duration": 654,
    "start_time": "2021-11-29T08:48:30.890Z"
   },
   {
    "duration": 1362,
    "start_time": "2021-11-29T08:48:31.618Z"
   },
   {
    "duration": 1114,
    "start_time": "2021-11-29T08:48:44.808Z"
   },
   {
    "duration": 497,
    "start_time": "2021-11-29T08:48:52.461Z"
   },
   {
    "duration": 1642,
    "start_time": "2021-11-29T08:48:56.201Z"
   },
   {
    "duration": 2,
    "start_time": "2021-11-29T08:49:01.021Z"
   },
   {
    "duration": 132,
    "start_time": "2021-11-29T08:49:01.025Z"
   },
   {
    "duration": 27,
    "start_time": "2021-11-29T08:49:01.159Z"
   },
   {
    "duration": 59,
    "start_time": "2021-11-29T08:49:01.188Z"
   },
   {
    "duration": 28,
    "start_time": "2021-11-29T08:49:01.249Z"
   },
   {
    "duration": 78,
    "start_time": "2021-11-29T08:49:01.278Z"
   },
   {
    "duration": 82,
    "start_time": "2021-11-29T08:49:01.357Z"
   },
   {
    "duration": 27,
    "start_time": "2021-11-29T08:49:01.440Z"
   },
   {
    "duration": 91,
    "start_time": "2021-11-29T08:49:01.469Z"
   },
   {
    "duration": 76,
    "start_time": "2021-11-29T08:49:01.561Z"
   },
   {
    "duration": 30,
    "start_time": "2021-11-29T08:49:01.639Z"
   },
   {
    "duration": 53,
    "start_time": "2021-11-29T08:49:01.671Z"
   },
   {
    "duration": 4,
    "start_time": "2021-11-29T08:49:03.756Z"
   },
   {
    "duration": 7,
    "start_time": "2021-11-29T08:49:04.681Z"
   },
   {
    "duration": 13,
    "start_time": "2021-11-29T08:49:07.561Z"
   },
   {
    "duration": 8,
    "start_time": "2021-11-29T08:49:10.035Z"
   },
   {
    "duration": 5,
    "start_time": "2021-11-29T08:49:12.741Z"
   },
   {
    "duration": 551,
    "start_time": "2021-11-29T08:49:31.360Z"
   },
   {
    "duration": 6,
    "start_time": "2021-11-29T08:49:36.823Z"
   },
   {
    "duration": 62,
    "start_time": "2021-11-29T08:49:36.831Z"
   },
   {
    "duration": 15,
    "start_time": "2021-11-29T08:49:36.896Z"
   },
   {
    "duration": 16,
    "start_time": "2021-11-29T08:49:36.913Z"
   },
   {
    "duration": 21,
    "start_time": "2021-11-29T08:49:36.930Z"
   },
   {
    "duration": 10,
    "start_time": "2021-11-29T08:49:36.953Z"
   },
   {
    "duration": 16,
    "start_time": "2021-11-29T08:49:36.966Z"
   },
   {
    "duration": 19,
    "start_time": "2021-11-29T08:49:36.985Z"
   },
   {
    "duration": 19,
    "start_time": "2021-11-29T08:49:37.007Z"
   },
   {
    "duration": 31,
    "start_time": "2021-11-29T08:49:37.028Z"
   },
   {
    "duration": 16,
    "start_time": "2021-11-29T08:49:37.061Z"
   },
   {
    "duration": 11,
    "start_time": "2021-11-29T08:49:37.079Z"
   },
   {
    "duration": 4,
    "start_time": "2021-11-29T08:49:39.011Z"
   },
   {
    "duration": 6,
    "start_time": "2021-11-29T08:49:40.070Z"
   },
   {
    "duration": 630,
    "start_time": "2021-11-29T08:49:55.717Z"
   },
   {
    "duration": 51,
    "start_time": "2021-11-29T08:49:56.348Z"
   },
   {
    "duration": 19,
    "start_time": "2021-11-29T08:49:56.401Z"
   },
   {
    "duration": 11,
    "start_time": "2021-11-29T08:49:56.422Z"
   },
   {
    "duration": 13,
    "start_time": "2021-11-29T08:49:56.435Z"
   },
   {
    "duration": 9,
    "start_time": "2021-11-29T08:49:56.450Z"
   },
   {
    "duration": 13,
    "start_time": "2021-11-29T08:49:56.460Z"
   },
   {
    "duration": 4,
    "start_time": "2021-11-29T08:49:56.475Z"
   },
   {
    "duration": 8,
    "start_time": "2021-11-29T08:49:56.480Z"
   },
   {
    "duration": 4,
    "start_time": "2021-11-29T08:49:56.490Z"
   },
   {
    "duration": 7,
    "start_time": "2021-11-29T08:49:56.495Z"
   },
   {
    "duration": 7,
    "start_time": "2021-11-29T08:49:56.504Z"
   },
   {
    "duration": 3,
    "start_time": "2021-11-29T08:49:59.022Z"
   },
   {
    "duration": 10,
    "start_time": "2021-11-29T08:49:59.943Z"
   },
   {
    "duration": 21,
    "start_time": "2021-11-29T08:50:03.706Z"
   },
   {
    "duration": 5,
    "start_time": "2021-11-29T08:50:07.242Z"
   },
   {
    "duration": 5,
    "start_time": "2021-11-29T08:50:08.824Z"
   },
   {
    "duration": 15,
    "start_time": "2021-11-29T08:51:48.864Z"
   },
   {
    "duration": 13,
    "start_time": "2021-11-29T08:52:15.142Z"
   },
   {
    "duration": 3,
    "start_time": "2021-11-29T10:25:48.715Z"
   },
   {
    "duration": 60,
    "start_time": "2021-11-29T10:25:48.720Z"
   },
   {
    "duration": 12,
    "start_time": "2021-11-29T10:25:48.782Z"
   },
   {
    "duration": 13,
    "start_time": "2021-11-29T10:25:48.795Z"
   },
   {
    "duration": 12,
    "start_time": "2021-11-29T10:25:48.809Z"
   },
   {
    "duration": 24,
    "start_time": "2021-11-29T10:25:48.823Z"
   },
   {
    "duration": 8,
    "start_time": "2021-11-29T10:25:48.848Z"
   },
   {
    "duration": 3,
    "start_time": "2021-11-29T10:25:48.857Z"
   },
   {
    "duration": 18,
    "start_time": "2021-11-29T10:25:48.862Z"
   },
   {
    "duration": 9,
    "start_time": "2021-11-29T10:25:48.882Z"
   },
   {
    "duration": 3,
    "start_time": "2021-11-29T10:25:50.338Z"
   },
   {
    "duration": 4,
    "start_time": "2021-11-29T10:25:50.878Z"
   },
   {
    "duration": 6,
    "start_time": "2021-11-29T10:25:51.449Z"
   },
   {
    "duration": 3,
    "start_time": "2021-11-29T10:26:01.906Z"
   },
   {
    "duration": 7,
    "start_time": "2021-11-29T10:26:11.178Z"
   },
   {
    "duration": 15,
    "start_time": "2021-11-29T10:27:14.098Z"
   },
   {
    "duration": 6,
    "start_time": "2021-11-29T10:27:17.323Z"
   },
   {
    "duration": 5,
    "start_time": "2021-11-29T10:27:18.946Z"
   },
   {
    "duration": 3,
    "start_time": "2021-11-29T10:48:01.153Z"
   },
   {
    "duration": 160,
    "start_time": "2021-11-29T10:48:01.158Z"
   },
   {
    "duration": 42,
    "start_time": "2021-11-29T10:48:01.320Z"
   },
   {
    "duration": 27,
    "start_time": "2021-11-29T10:48:01.363Z"
   },
   {
    "duration": 19,
    "start_time": "2021-11-29T10:48:01.392Z"
   },
   {
    "duration": 11,
    "start_time": "2021-11-29T10:48:01.413Z"
   },
   {
    "duration": 11,
    "start_time": "2021-11-29T10:48:01.426Z"
   },
   {
    "duration": 37,
    "start_time": "2021-11-29T10:48:01.438Z"
   },
   {
    "duration": 8,
    "start_time": "2021-11-29T10:48:01.478Z"
   },
   {
    "duration": 29,
    "start_time": "2021-11-29T10:48:01.488Z"
   },
   {
    "duration": 85,
    "start_time": "2021-11-29T10:48:01.519Z"
   },
   {
    "duration": 36,
    "start_time": "2021-11-29T10:48:01.606Z"
   },
   {
    "duration": 108,
    "start_time": "2021-11-29T10:48:01.643Z"
   },
   {
    "duration": 81,
    "start_time": "2021-11-29T10:48:01.752Z"
   },
   {
    "duration": 50,
    "start_time": "2021-11-29T10:48:01.834Z"
   },
   {
    "duration": 74,
    "start_time": "2021-11-29T10:48:01.886Z"
   },
   {
    "duration": 105,
    "start_time": "2021-11-29T10:48:01.961Z"
   },
   {
    "duration": 69,
    "start_time": "2021-11-29T10:48:02.068Z"
   },
   {
    "duration": 9,
    "start_time": "2021-11-29T10:48:02.930Z"
   },
   {
    "duration": 2,
    "start_time": "2021-11-29T10:48:32.314Z"
   },
   {
    "duration": 69,
    "start_time": "2021-11-29T10:48:32.319Z"
   },
   {
    "duration": 15,
    "start_time": "2021-11-29T10:48:32.390Z"
   },
   {
    "duration": 34,
    "start_time": "2021-11-29T10:48:32.407Z"
   },
   {
    "duration": 34,
    "start_time": "2021-11-29T10:48:32.442Z"
   },
   {
    "duration": 40,
    "start_time": "2021-11-29T10:48:32.477Z"
   },
   {
    "duration": 27,
    "start_time": "2021-11-29T10:48:32.518Z"
   },
   {
    "duration": 41,
    "start_time": "2021-11-29T10:48:32.547Z"
   },
   {
    "duration": 34,
    "start_time": "2021-11-29T10:48:32.590Z"
   },
   {
    "duration": 38,
    "start_time": "2021-11-29T10:48:32.625Z"
   },
   {
    "duration": 36,
    "start_time": "2021-11-29T10:48:32.664Z"
   },
   {
    "duration": 33,
    "start_time": "2021-11-29T10:48:32.701Z"
   },
   {
    "duration": 26,
    "start_time": "2021-11-29T10:48:32.735Z"
   },
   {
    "duration": 40,
    "start_time": "2021-11-29T10:48:32.763Z"
   },
   {
    "duration": 45,
    "start_time": "2021-11-29T10:48:32.805Z"
   },
   {
    "duration": 26,
    "start_time": "2021-11-29T10:48:32.852Z"
   },
   {
    "duration": 34,
    "start_time": "2021-11-29T10:48:32.879Z"
   },
   {
    "duration": 4,
    "start_time": "2021-11-29T10:48:33.875Z"
   },
   {
    "duration": 7,
    "start_time": "2021-11-29T10:48:34.832Z"
   },
   {
    "duration": 11,
    "start_time": "2021-11-29T10:48:38.845Z"
   },
   {
    "duration": 350,
    "start_time": "2021-11-29T10:51:02.086Z"
   },
   {
    "duration": 274,
    "start_time": "2021-11-29T10:51:07.169Z"
   },
   {
    "duration": 6,
    "start_time": "2021-11-29T10:51:11.795Z"
   },
   {
    "duration": 6,
    "start_time": "2021-11-29T10:51:33.890Z"
   },
   {
    "duration": 4,
    "start_time": "2021-11-29T10:57:36.029Z"
   },
   {
    "duration": 3,
    "start_time": "2021-11-29T10:57:50.272Z"
   },
   {
    "duration": 12,
    "start_time": "2021-11-29T11:03:02.387Z"
   },
   {
    "duration": 12,
    "start_time": "2021-11-29T11:03:07.514Z"
   },
   {
    "duration": 5,
    "start_time": "2021-11-29T11:03:50.208Z"
   },
   {
    "duration": 6,
    "start_time": "2021-11-29T11:04:01.267Z"
   },
   {
    "duration": 6,
    "start_time": "2021-11-29T11:04:08.219Z"
   },
   {
    "duration": 5,
    "start_time": "2021-11-29T11:04:09.122Z"
   },
   {
    "duration": 6,
    "start_time": "2021-11-29T11:04:23.029Z"
   },
   {
    "duration": 117,
    "start_time": "2021-11-29T11:04:30.739Z"
   },
   {
    "duration": 5,
    "start_time": "2021-11-29T11:04:38.587Z"
   },
   {
    "duration": 5,
    "start_time": "2021-11-29T11:04:46.070Z"
   },
   {
    "duration": 5,
    "start_time": "2021-11-29T11:04:51.989Z"
   },
   {
    "duration": 4,
    "start_time": "2021-11-29T11:05:04.071Z"
   },
   {
    "duration": 7,
    "start_time": "2021-11-29T11:05:34.808Z"
   },
   {
    "duration": 3,
    "start_time": "2021-11-29T11:05:51.936Z"
   },
   {
    "duration": 61,
    "start_time": "2021-11-29T11:05:51.940Z"
   },
   {
    "duration": 13,
    "start_time": "2021-11-29T11:05:52.003Z"
   },
   {
    "duration": 29,
    "start_time": "2021-11-29T11:05:52.018Z"
   },
   {
    "duration": 9,
    "start_time": "2021-11-29T11:05:52.049Z"
   },
   {
    "duration": 6,
    "start_time": "2021-11-29T11:05:52.060Z"
   },
   {
    "duration": 34,
    "start_time": "2021-11-29T11:05:52.067Z"
   },
   {
    "duration": 15,
    "start_time": "2021-11-29T11:05:52.103Z"
   },
   {
    "duration": 9,
    "start_time": "2021-11-29T11:05:52.120Z"
   },
   {
    "duration": 10,
    "start_time": "2021-11-29T11:05:52.130Z"
   },
   {
    "duration": 5,
    "start_time": "2021-11-29T11:05:52.142Z"
   },
   {
    "duration": 7,
    "start_time": "2021-11-29T11:05:52.149Z"
   },
   {
    "duration": 15,
    "start_time": "2021-11-29T11:05:52.158Z"
   },
   {
    "duration": 13,
    "start_time": "2021-11-29T11:05:52.175Z"
   },
   {
    "duration": 6,
    "start_time": "2021-11-29T11:05:52.190Z"
   },
   {
    "duration": 6,
    "start_time": "2021-11-29T11:05:53.199Z"
   },
   {
    "duration": 5,
    "start_time": "2021-11-29T11:05:54.045Z"
   },
   {
    "duration": 7,
    "start_time": "2021-11-29T11:05:55.768Z"
   },
   {
    "duration": 5,
    "start_time": "2021-11-29T11:06:01.725Z"
   },
   {
    "duration": 10,
    "start_time": "2021-11-29T11:06:18.292Z"
   },
   {
    "duration": 6,
    "start_time": "2021-11-29T11:07:11.892Z"
   },
   {
    "duration": 5,
    "start_time": "2021-11-29T11:07:19.197Z"
   },
   {
    "duration": 5,
    "start_time": "2021-11-29T11:07:38.844Z"
   },
   {
    "duration": 2,
    "start_time": "2021-11-29T11:08:11.116Z"
   },
   {
    "duration": 62,
    "start_time": "2021-11-29T11:08:11.120Z"
   },
   {
    "duration": 12,
    "start_time": "2021-11-29T11:08:11.184Z"
   },
   {
    "duration": 28,
    "start_time": "2021-11-29T11:08:11.197Z"
   },
   {
    "duration": 11,
    "start_time": "2021-11-29T11:08:11.227Z"
   },
   {
    "duration": 27,
    "start_time": "2021-11-29T11:08:11.240Z"
   },
   {
    "duration": 42,
    "start_time": "2021-11-29T11:08:11.269Z"
   },
   {
    "duration": 29,
    "start_time": "2021-11-29T11:08:11.313Z"
   },
   {
    "duration": 46,
    "start_time": "2021-11-29T11:08:11.345Z"
   },
   {
    "duration": 28,
    "start_time": "2021-11-29T11:08:11.394Z"
   },
   {
    "duration": 26,
    "start_time": "2021-11-29T11:08:11.424Z"
   },
   {
    "duration": 16,
    "start_time": "2021-11-29T11:08:11.452Z"
   },
   {
    "duration": 33,
    "start_time": "2021-11-29T11:08:11.470Z"
   },
   {
    "duration": 47,
    "start_time": "2021-11-29T11:08:11.505Z"
   },
   {
    "duration": 26,
    "start_time": "2021-11-29T11:08:11.554Z"
   },
   {
    "duration": 37,
    "start_time": "2021-11-29T11:08:11.582Z"
   },
   {
    "duration": 10,
    "start_time": "2021-11-29T11:08:16.168Z"
   },
   {
    "duration": 5,
    "start_time": "2021-11-29T11:09:20.169Z"
   },
   {
    "duration": 3,
    "start_time": "2021-11-29T11:12:18.938Z"
   },
   {
    "duration": 54,
    "start_time": "2021-11-29T11:12:18.943Z"
   },
   {
    "duration": 12,
    "start_time": "2021-11-29T11:12:18.999Z"
   },
   {
    "duration": 14,
    "start_time": "2021-11-29T11:12:19.013Z"
   },
   {
    "duration": 16,
    "start_time": "2021-11-29T11:12:19.029Z"
   },
   {
    "duration": 5,
    "start_time": "2021-11-29T11:12:19.047Z"
   },
   {
    "duration": 15,
    "start_time": "2021-11-29T11:12:19.054Z"
   },
   {
    "duration": 3,
    "start_time": "2021-11-29T11:12:19.072Z"
   },
   {
    "duration": 16,
    "start_time": "2021-11-29T11:12:19.077Z"
   },
   {
    "duration": 13,
    "start_time": "2021-11-29T11:12:19.094Z"
   },
   {
    "duration": 31,
    "start_time": "2021-11-29T11:12:19.109Z"
   },
   {
    "duration": 17,
    "start_time": "2021-11-29T11:12:19.142Z"
   },
   {
    "duration": 23,
    "start_time": "2021-11-29T11:12:19.160Z"
   },
   {
    "duration": 35,
    "start_time": "2021-11-29T11:12:19.185Z"
   },
   {
    "duration": 14,
    "start_time": "2021-11-29T11:12:19.222Z"
   },
   {
    "duration": 27,
    "start_time": "2021-11-29T11:12:19.238Z"
   },
   {
    "duration": 24,
    "start_time": "2021-11-29T11:12:19.266Z"
   },
   {
    "duration": 23,
    "start_time": "2021-11-29T11:12:19.291Z"
   },
   {
    "duration": 10,
    "start_time": "2021-11-29T11:12:21.129Z"
   },
   {
    "duration": 4,
    "start_time": "2021-11-29T11:20:05.967Z"
   },
   {
    "duration": 3,
    "start_time": "2021-11-29T11:20:07.016Z"
   },
   {
    "duration": 11,
    "start_time": "2021-11-29T11:20:09.255Z"
   },
   {
    "duration": 480,
    "start_time": "2021-11-29T11:23:20.072Z"
   },
   {
    "duration": 15,
    "start_time": "2021-11-29T11:23:27.914Z"
   },
   {
    "duration": 16,
    "start_time": "2021-11-29T11:24:14.989Z"
   },
   {
    "duration": 2,
    "start_time": "2021-11-29T11:26:15.412Z"
   },
   {
    "duration": 65,
    "start_time": "2021-11-29T11:26:15.416Z"
   },
   {
    "duration": 15,
    "start_time": "2021-11-29T11:26:15.483Z"
   },
   {
    "duration": 21,
    "start_time": "2021-11-29T11:26:15.500Z"
   },
   {
    "duration": 41,
    "start_time": "2021-11-29T11:26:15.522Z"
   },
   {
    "duration": 21,
    "start_time": "2021-11-29T11:26:15.565Z"
   },
   {
    "duration": 17,
    "start_time": "2021-11-29T11:26:15.587Z"
   },
   {
    "duration": 19,
    "start_time": "2021-11-29T11:26:15.606Z"
   },
   {
    "duration": 29,
    "start_time": "2021-11-29T11:26:15.627Z"
   },
   {
    "duration": 19,
    "start_time": "2021-11-29T11:26:15.658Z"
   },
   {
    "duration": 26,
    "start_time": "2021-11-29T11:26:15.679Z"
   },
   {
    "duration": 19,
    "start_time": "2021-11-29T11:26:15.706Z"
   },
   {
    "duration": 21,
    "start_time": "2021-11-29T11:26:15.727Z"
   },
   {
    "duration": 22,
    "start_time": "2021-11-29T11:26:15.749Z"
   },
   {
    "duration": 19,
    "start_time": "2021-11-29T11:26:15.773Z"
   },
   {
    "duration": 26,
    "start_time": "2021-11-29T11:26:15.794Z"
   },
   {
    "duration": 14,
    "start_time": "2021-11-29T11:26:15.821Z"
   },
   {
    "duration": 25,
    "start_time": "2021-11-29T11:26:15.837Z"
   },
   {
    "duration": 20,
    "start_time": "2021-11-29T11:26:15.864Z"
   },
   {
    "duration": 14,
    "start_time": "2021-11-29T11:26:15.886Z"
   },
   {
    "duration": 20,
    "start_time": "2021-11-29T11:26:15.901Z"
   },
   {
    "duration": 23,
    "start_time": "2021-11-29T11:26:15.923Z"
   },
   {
    "duration": 17,
    "start_time": "2021-11-29T11:26:19.928Z"
   },
   {
    "duration": 433,
    "start_time": "2021-11-29T11:26:44.635Z"
   },
   {
    "duration": 7,
    "start_time": "2021-11-29T11:28:22.019Z"
   },
   {
    "duration": 7,
    "start_time": "2021-11-29T11:29:49.873Z"
   },
   {
    "duration": 6,
    "start_time": "2021-11-29T11:30:07.368Z"
   },
   {
    "duration": 6,
    "start_time": "2021-11-29T11:33:46.418Z"
   },
   {
    "duration": 8,
    "start_time": "2021-11-29T11:33:52.221Z"
   },
   {
    "duration": 7,
    "start_time": "2021-11-29T11:34:18.346Z"
   },
   {
    "duration": 6,
    "start_time": "2021-11-29T11:34:24.599Z"
   },
   {
    "duration": 7,
    "start_time": "2021-11-29T11:34:38.129Z"
   },
   {
    "duration": 6,
    "start_time": "2021-11-29T11:35:02.618Z"
   },
   {
    "duration": 7,
    "start_time": "2021-11-29T11:35:04.489Z"
   },
   {
    "duration": 6,
    "start_time": "2021-11-29T11:35:42.063Z"
   },
   {
    "duration": 6,
    "start_time": "2021-11-29T11:36:45.698Z"
   },
   {
    "duration": 7,
    "start_time": "2021-11-29T11:36:56.940Z"
   },
   {
    "duration": 96,
    "start_time": "2021-11-29T11:38:43.189Z"
   },
   {
    "duration": 6,
    "start_time": "2021-11-29T11:42:16.461Z"
   },
   {
    "duration": 6,
    "start_time": "2021-11-29T11:42:24.718Z"
   },
   {
    "duration": 6,
    "start_time": "2021-11-29T11:42:30.438Z"
   },
   {
    "duration": 6,
    "start_time": "2021-11-29T11:52:05.078Z"
   },
   {
    "duration": 7,
    "start_time": "2021-11-29T11:52:47.542Z"
   },
   {
    "duration": 14,
    "start_time": "2021-11-29T12:10:18.610Z"
   },
   {
    "duration": 21,
    "start_time": "2021-11-29T12:10:28.743Z"
   },
   {
    "duration": 16,
    "start_time": "2021-11-29T12:10:36.723Z"
   },
   {
    "duration": 19,
    "start_time": "2021-11-29T12:10:59.132Z"
   },
   {
    "duration": 18,
    "start_time": "2021-11-29T12:12:35.557Z"
   },
   {
    "duration": 11,
    "start_time": "2021-11-29T12:12:49.498Z"
   },
   {
    "duration": 15,
    "start_time": "2021-11-29T12:13:28.168Z"
   },
   {
    "duration": 277,
    "start_time": "2021-11-29T12:22:14.061Z"
   },
   {
    "duration": 290,
    "start_time": "2021-11-29T12:22:21.375Z"
   },
   {
    "duration": 731,
    "start_time": "2021-11-29T12:25:09.254Z"
   },
   {
    "duration": 4,
    "start_time": "2021-11-29T12:25:16.934Z"
   },
   {
    "duration": 51,
    "start_time": "2021-11-29T12:25:16.940Z"
   },
   {
    "duration": 13,
    "start_time": "2021-11-29T12:25:16.993Z"
   },
   {
    "duration": 11,
    "start_time": "2021-11-29T12:25:17.008Z"
   },
   {
    "duration": 5,
    "start_time": "2021-11-29T12:25:17.021Z"
   },
   {
    "duration": 8,
    "start_time": "2021-11-29T12:25:17.027Z"
   },
   {
    "duration": 14,
    "start_time": "2021-11-29T12:25:17.036Z"
   },
   {
    "duration": 8,
    "start_time": "2021-11-29T12:25:17.051Z"
   },
   {
    "duration": 6,
    "start_time": "2021-11-29T12:25:17.062Z"
   },
   {
    "duration": 6,
    "start_time": "2021-11-29T12:25:17.070Z"
   },
   {
    "duration": 7,
    "start_time": "2021-11-29T12:25:17.078Z"
   },
   {
    "duration": 18,
    "start_time": "2021-11-29T12:25:17.086Z"
   },
   {
    "duration": 7,
    "start_time": "2021-11-29T12:25:17.105Z"
   },
   {
    "duration": 6,
    "start_time": "2021-11-29T12:25:17.147Z"
   },
   {
    "duration": 35,
    "start_time": "2021-11-29T12:25:17.155Z"
   },
   {
    "duration": 34,
    "start_time": "2021-11-29T12:25:17.192Z"
   },
   {
    "duration": 30,
    "start_time": "2021-11-29T12:25:17.228Z"
   },
   {
    "duration": 22,
    "start_time": "2021-11-29T12:25:17.260Z"
   },
   {
    "duration": 27,
    "start_time": "2021-11-29T12:25:17.283Z"
   },
   {
    "duration": 30,
    "start_time": "2021-11-29T12:25:17.312Z"
   },
   {
    "duration": 22,
    "start_time": "2021-11-29T12:25:17.344Z"
   },
   {
    "duration": 32,
    "start_time": "2021-11-29T12:25:17.367Z"
   },
   {
    "duration": 19,
    "start_time": "2021-11-29T12:25:17.401Z"
   },
   {
    "duration": 34,
    "start_time": "2021-11-29T12:25:17.421Z"
   },
   {
    "duration": 24,
    "start_time": "2021-11-29T12:25:17.456Z"
   },
   {
    "duration": 20,
    "start_time": "2021-11-29T12:25:17.481Z"
   },
   {
    "duration": 34,
    "start_time": "2021-11-29T12:25:17.504Z"
   },
   {
    "duration": 9,
    "start_time": "2021-11-29T12:25:17.540Z"
   },
   {
    "duration": 21,
    "start_time": "2021-11-29T12:25:17.550Z"
   },
   {
    "duration": 26,
    "start_time": "2021-11-29T12:25:17.573Z"
   },
   {
    "duration": 32,
    "start_time": "2021-11-29T12:25:17.601Z"
   },
   {
    "duration": 38,
    "start_time": "2021-11-29T12:25:17.635Z"
   },
   {
    "duration": 11,
    "start_time": "2021-11-29T12:25:17.675Z"
   },
   {
    "duration": 4,
    "start_time": "2021-11-29T12:25:17.687Z"
   },
   {
    "duration": 12,
    "start_time": "2021-11-29T12:25:17.693Z"
   },
   {
    "duration": 15,
    "start_time": "2021-11-29T12:25:17.706Z"
   },
   {
    "duration": 15,
    "start_time": "2021-11-29T12:25:17.722Z"
   },
   {
    "duration": 16,
    "start_time": "2021-11-29T12:25:17.738Z"
   },
   {
    "duration": 653,
    "start_time": "2021-11-29T12:25:19.657Z"
   },
   {
    "duration": 655,
    "start_time": "2021-11-29T12:25:28.784Z"
   },
   {
    "duration": -657,
    "start_time": "2021-11-29T12:26:01.030Z"
   },
   {
    "duration": 632,
    "start_time": "2021-11-29T12:26:15.828Z"
   },
   {
    "duration": 49,
    "start_time": "2021-11-29T12:26:16.462Z"
   },
   {
    "duration": 17,
    "start_time": "2021-11-29T12:26:16.513Z"
   },
   {
    "duration": 28,
    "start_time": "2021-11-29T12:26:16.531Z"
   },
   {
    "duration": 5,
    "start_time": "2021-11-29T12:26:16.561Z"
   },
   {
    "duration": 11,
    "start_time": "2021-11-29T12:26:16.568Z"
   },
   {
    "duration": 7,
    "start_time": "2021-11-29T12:26:16.581Z"
   },
   {
    "duration": 14,
    "start_time": "2021-11-29T12:26:16.590Z"
   },
   {
    "duration": 6,
    "start_time": "2021-11-29T12:26:16.606Z"
   },
   {
    "duration": 12,
    "start_time": "2021-11-29T12:26:16.613Z"
   },
   {
    "duration": 19,
    "start_time": "2021-11-29T12:26:16.626Z"
   },
   {
    "duration": 21,
    "start_time": "2021-11-29T12:26:16.653Z"
   },
   {
    "duration": 10,
    "start_time": "2021-11-29T12:26:16.675Z"
   },
   {
    "duration": 8,
    "start_time": "2021-11-29T12:26:16.686Z"
   },
   {
    "duration": 8,
    "start_time": "2021-11-29T12:26:16.695Z"
   },
   {
    "duration": 9,
    "start_time": "2021-11-29T12:26:16.704Z"
   },
   {
    "duration": 9,
    "start_time": "2021-11-29T12:26:16.714Z"
   },
   {
    "duration": 32,
    "start_time": "2021-11-29T12:26:16.725Z"
   },
   {
    "duration": 7,
    "start_time": "2021-11-29T12:26:16.759Z"
   },
   {
    "duration": 9,
    "start_time": "2021-11-29T12:26:16.768Z"
   },
   {
    "duration": 5,
    "start_time": "2021-11-29T12:26:16.778Z"
   },
   {
    "duration": 12,
    "start_time": "2021-11-29T12:26:16.784Z"
   },
   {
    "duration": 5,
    "start_time": "2021-11-29T12:26:16.799Z"
   },
   {
    "duration": 7,
    "start_time": "2021-11-29T12:26:16.805Z"
   },
   {
    "duration": 12,
    "start_time": "2021-11-29T12:26:16.813Z"
   },
   {
    "duration": 30,
    "start_time": "2021-11-29T12:26:16.827Z"
   },
   {
    "duration": 17,
    "start_time": "2021-11-29T12:26:16.859Z"
   },
   {
    "duration": 5,
    "start_time": "2021-11-29T12:26:16.878Z"
   },
   {
    "duration": 12,
    "start_time": "2021-11-29T12:26:16.885Z"
   },
   {
    "duration": 7,
    "start_time": "2021-11-29T12:26:16.899Z"
   },
   {
    "duration": 9,
    "start_time": "2021-11-29T12:26:16.907Z"
   },
   {
    "duration": 19,
    "start_time": "2021-11-29T12:26:16.917Z"
   },
   {
    "duration": 19,
    "start_time": "2021-11-29T12:26:16.938Z"
   },
   {
    "duration": 12,
    "start_time": "2021-11-29T12:26:16.959Z"
   },
   {
    "duration": 24,
    "start_time": "2021-11-29T12:26:16.973Z"
   },
   {
    "duration": 15,
    "start_time": "2021-11-29T12:26:16.999Z"
   },
   {
    "duration": 16,
    "start_time": "2021-11-29T12:26:17.016Z"
   },
   {
    "duration": 21,
    "start_time": "2021-11-29T12:26:17.034Z"
   },
   {
    "duration": 7955,
    "start_time": "2021-11-29T12:26:18.838Z"
   },
   {
    "duration": -602,
    "start_time": "2021-11-29T12:26:54.781Z"
   },
   {
    "duration": 660,
    "start_time": "2021-11-29T12:27:08.150Z"
   },
   {
    "duration": 333,
    "start_time": "2021-11-29T12:27:14.410Z"
   },
   {
    "duration": 4033,
    "start_time": "2021-11-29T12:37:03.022Z"
   },
   {
    "duration": 3537,
    "start_time": "2021-11-29T12:37:14.732Z"
   },
   {
    "duration": 328,
    "start_time": "2021-11-29T12:38:30.792Z"
   },
   {
    "duration": 272,
    "start_time": "2021-11-29T12:38:47.397Z"
   },
   {
    "duration": 303,
    "start_time": "2021-11-29T12:39:07.260Z"
   },
   {
    "duration": 3731,
    "start_time": "2021-11-29T12:41:00.532Z"
   },
   {
    "duration": 3506,
    "start_time": "2021-11-29T13:00:52.556Z"
   },
   {
    "duration": 4,
    "start_time": "2021-11-29T13:39:06.272Z"
   },
   {
    "duration": 4,
    "start_time": "2021-11-29T13:39:23.880Z"
   },
   {
    "duration": 302,
    "start_time": "2021-11-29T13:41:13.017Z"
   },
   {
    "duration": 3,
    "start_time": "2021-11-29T13:41:50.799Z"
   },
   {
    "duration": 4,
    "start_time": "2021-11-29T13:41:54.478Z"
   },
   {
    "duration": 4,
    "start_time": "2021-11-29T13:42:10.104Z"
   },
   {
    "duration": 3,
    "start_time": "2021-11-29T13:42:33.112Z"
   },
   {
    "duration": 4,
    "start_time": "2021-11-29T13:42:34.024Z"
   },
   {
    "duration": 4,
    "start_time": "2021-11-29T13:42:35.064Z"
   },
   {
    "duration": 4,
    "start_time": "2021-11-29T13:42:49.798Z"
   },
   {
    "duration": 4,
    "start_time": "2021-11-29T13:42:56.920Z"
   },
   {
    "duration": 4,
    "start_time": "2021-11-29T13:43:06.318Z"
   },
   {
    "duration": 8,
    "start_time": "2021-11-29T13:43:59.030Z"
   },
   {
    "duration": 4,
    "start_time": "2021-11-29T13:44:10.280Z"
   },
   {
    "duration": 4,
    "start_time": "2021-11-29T13:44:12.840Z"
   },
   {
    "duration": 12,
    "start_time": "2021-11-29T13:44:26.288Z"
   },
   {
    "duration": 3,
    "start_time": "2021-11-29T13:44:28.608Z"
   },
   {
    "duration": 4,
    "start_time": "2021-11-29T13:44:29.565Z"
   },
   {
    "duration": 5,
    "start_time": "2021-11-29T13:44:50.470Z"
   },
   {
    "duration": 4,
    "start_time": "2021-11-29T13:44:57.268Z"
   },
   {
    "duration": 4,
    "start_time": "2021-11-29T13:46:08.441Z"
   },
   {
    "duration": 4,
    "start_time": "2021-11-29T13:46:09.545Z"
   },
   {
    "duration": 230,
    "start_time": "2021-11-29T13:50:07.837Z"
   },
   {
    "duration": 279,
    "start_time": "2021-11-29T13:50:15.229Z"
   },
   {
    "duration": 11,
    "start_time": "2021-11-29T13:50:49.195Z"
   },
   {
    "duration": 11,
    "start_time": "2021-11-29T13:53:00.148Z"
   },
   {
    "duration": 10,
    "start_time": "2021-11-29T13:53:21.634Z"
   },
   {
    "duration": 11,
    "start_time": "2021-11-29T13:54:10.677Z"
   },
   {
    "duration": 13,
    "start_time": "2021-11-29T13:54:39.427Z"
   },
   {
    "duration": 4,
    "start_time": "2021-11-29T13:55:07.864Z"
   },
   {
    "duration": 4,
    "start_time": "2021-11-29T13:59:22.234Z"
   },
   {
    "duration": 4,
    "start_time": "2021-11-29T14:00:37.737Z"
   },
   {
    "duration": 12,
    "start_time": "2021-11-29T14:00:54.537Z"
   },
   {
    "duration": 284,
    "start_time": "2021-11-29T14:21:24.497Z"
   },
   {
    "duration": 303,
    "start_time": "2021-11-29T14:22:50.484Z"
   },
   {
    "duration": 30,
    "start_time": "2021-11-29T14:23:11.253Z"
   },
   {
    "duration": 20,
    "start_time": "2021-11-29T14:24:24.425Z"
   },
   {
    "duration": 70,
    "start_time": "2021-11-29T14:24:48.233Z"
   },
   {
    "duration": 9,
    "start_time": "2021-11-29T14:24:57.434Z"
   },
   {
    "duration": 13,
    "start_time": "2021-11-29T14:25:01.697Z"
   },
   {
    "duration": 795,
    "start_time": "2021-11-30T11:46:00.234Z"
   },
   {
    "duration": 66,
    "start_time": "2021-11-30T11:46:01.032Z"
   },
   {
    "duration": 35,
    "start_time": "2021-11-30T11:46:01.102Z"
   },
   {
    "duration": 16,
    "start_time": "2021-11-30T11:46:01.141Z"
   },
   {
    "duration": 28,
    "start_time": "2021-11-30T11:46:01.160Z"
   },
   {
    "duration": 38,
    "start_time": "2021-11-30T11:46:01.190Z"
   },
   {
    "duration": 11,
    "start_time": "2021-11-30T11:46:01.231Z"
   },
   {
    "duration": 21,
    "start_time": "2021-11-30T11:46:01.244Z"
   },
   {
    "duration": 23,
    "start_time": "2021-11-30T11:46:01.269Z"
   },
   {
    "duration": 16,
    "start_time": "2021-11-30T11:46:01.295Z"
   },
   {
    "duration": 13,
    "start_time": "2021-11-30T11:46:01.313Z"
   },
   {
    "duration": 25,
    "start_time": "2021-11-30T11:46:01.329Z"
   },
   {
    "duration": 28,
    "start_time": "2021-11-30T11:46:01.357Z"
   },
   {
    "duration": 20,
    "start_time": "2021-11-30T11:46:01.387Z"
   },
   {
    "duration": 27,
    "start_time": "2021-11-30T11:46:01.410Z"
   },
   {
    "duration": 46,
    "start_time": "2021-11-30T11:46:01.440Z"
   },
   {
    "duration": 36,
    "start_time": "2021-11-30T11:46:01.488Z"
   },
   {
    "duration": 43,
    "start_time": "2021-11-30T11:46:01.526Z"
   },
   {
    "duration": 32,
    "start_time": "2021-11-30T11:46:01.571Z"
   },
   {
    "duration": 45,
    "start_time": "2021-11-30T11:46:01.605Z"
   },
   {
    "duration": 29,
    "start_time": "2021-11-30T11:46:01.652Z"
   },
   {
    "duration": 40,
    "start_time": "2021-11-30T11:46:01.683Z"
   },
   {
    "duration": 49,
    "start_time": "2021-11-30T11:46:01.725Z"
   },
   {
    "duration": 68,
    "start_time": "2021-11-30T11:46:01.776Z"
   },
   {
    "duration": 32,
    "start_time": "2021-11-30T11:46:01.846Z"
   },
   {
    "duration": 52,
    "start_time": "2021-11-30T11:46:01.880Z"
   },
   {
    "duration": 70,
    "start_time": "2021-11-30T11:46:01.938Z"
   },
   {
    "duration": 8,
    "start_time": "2021-11-30T11:46:02.011Z"
   },
   {
    "duration": 11,
    "start_time": "2021-11-30T11:46:02.022Z"
   },
   {
    "duration": 22,
    "start_time": "2021-11-30T11:46:02.035Z"
   },
   {
    "duration": 11,
    "start_time": "2021-11-30T11:46:02.060Z"
   },
   {
    "duration": 14,
    "start_time": "2021-11-30T11:46:02.074Z"
   },
   {
    "duration": 5,
    "start_time": "2021-11-30T11:46:02.091Z"
   },
   {
    "duration": 11,
    "start_time": "2021-11-30T11:46:02.098Z"
   },
   {
    "duration": 16,
    "start_time": "2021-11-30T11:46:02.130Z"
   },
   {
    "duration": 26,
    "start_time": "2021-11-30T11:46:02.149Z"
   },
   {
    "duration": 66,
    "start_time": "2021-11-30T11:46:02.178Z"
   },
   {
    "duration": 32,
    "start_time": "2021-11-30T11:46:02.246Z"
   },
   {
    "duration": 4633,
    "start_time": "2021-11-30T11:46:02.282Z"
   },
   {
    "duration": 5,
    "start_time": "2021-11-30T11:46:06.929Z"
   },
   {
    "duration": 29,
    "start_time": "2021-11-30T11:46:06.936Z"
   },
   {
    "duration": 13,
    "start_time": "2021-11-30T11:46:06.967Z"
   },
   {
    "duration": 48,
    "start_time": "2021-11-30T11:46:06.982Z"
   },
   {
    "duration": 44,
    "start_time": "2021-11-30T11:46:07.033Z"
   },
   {
    "duration": 19,
    "start_time": "2021-11-30T11:47:01.589Z"
   },
   {
    "duration": 369,
    "start_time": "2021-11-30T11:49:45.972Z"
   },
   {
    "duration": 37,
    "start_time": "2021-11-30T11:49:58.861Z"
   },
   {
    "duration": 99,
    "start_time": "2021-11-30T11:50:36.532Z"
   },
   {
    "duration": 101,
    "start_time": "2021-11-30T11:51:04.462Z"
   },
   {
    "duration": 44,
    "start_time": "2021-11-30T11:51:27.832Z"
   },
   {
    "duration": 36,
    "start_time": "2021-11-30T11:51:50.925Z"
   },
   {
    "duration": 36,
    "start_time": "2021-11-30T11:53:01.034Z"
   },
   {
    "duration": 91,
    "start_time": "2021-11-30T11:53:13.542Z"
   },
   {
    "duration": 36,
    "start_time": "2021-11-30T11:53:16.866Z"
   },
   {
    "duration": 9,
    "start_time": "2021-11-30T11:55:07.175Z"
   },
   {
    "duration": 1243,
    "start_time": "2021-11-30T11:57:04.990Z"
   },
   {
    "duration": 1227,
    "start_time": "2021-11-30T11:57:25.520Z"
   },
   {
    "duration": 4697,
    "start_time": "2021-11-30T11:57:35.470Z"
   },
   {
    "duration": 515,
    "start_time": "2021-12-01T18:01:20.338Z"
   },
   {
    "duration": 49,
    "start_time": "2021-12-01T18:01:20.855Z"
   },
   {
    "duration": 16,
    "start_time": "2021-12-01T18:01:20.906Z"
   },
   {
    "duration": 8,
    "start_time": "2021-12-01T18:01:20.924Z"
   },
   {
    "duration": 4,
    "start_time": "2021-12-01T18:01:20.934Z"
   },
   {
    "duration": 6,
    "start_time": "2021-12-01T18:01:20.939Z"
   },
   {
    "duration": 6,
    "start_time": "2021-12-01T18:01:20.946Z"
   },
   {
    "duration": 6,
    "start_time": "2021-12-01T18:01:20.953Z"
   },
   {
    "duration": 28,
    "start_time": "2021-12-01T18:01:20.960Z"
   },
   {
    "duration": 7,
    "start_time": "2021-12-01T18:01:20.989Z"
   },
   {
    "duration": 6,
    "start_time": "2021-12-01T18:01:20.998Z"
   },
   {
    "duration": 15,
    "start_time": "2021-12-01T18:01:21.005Z"
   },
   {
    "duration": 7,
    "start_time": "2021-12-01T18:01:21.022Z"
   },
   {
    "duration": 6,
    "start_time": "2021-12-01T18:01:21.030Z"
   },
   {
    "duration": 6,
    "start_time": "2021-12-01T18:01:21.038Z"
   },
   {
    "duration": 44,
    "start_time": "2021-12-01T18:01:21.046Z"
   },
   {
    "duration": 8,
    "start_time": "2021-12-01T18:01:21.091Z"
   },
   {
    "duration": 9,
    "start_time": "2021-12-01T18:01:21.100Z"
   },
   {
    "duration": 5,
    "start_time": "2021-12-01T18:01:21.110Z"
   },
   {
    "duration": 18,
    "start_time": "2021-12-01T18:01:21.117Z"
   },
   {
    "duration": 9,
    "start_time": "2021-12-01T18:01:21.136Z"
   },
   {
    "duration": 9,
    "start_time": "2021-12-01T18:01:21.146Z"
   },
   {
    "duration": 7,
    "start_time": "2021-12-01T18:01:21.157Z"
   },
   {
    "duration": 16,
    "start_time": "2021-12-01T18:01:21.166Z"
   },
   {
    "duration": 13,
    "start_time": "2021-12-01T18:01:21.183Z"
   },
   {
    "duration": 23,
    "start_time": "2021-12-01T18:01:21.197Z"
   },
   {
    "duration": 20,
    "start_time": "2021-12-01T18:01:21.222Z"
   },
   {
    "duration": 5,
    "start_time": "2021-12-01T18:01:21.244Z"
   },
   {
    "duration": 5,
    "start_time": "2021-12-01T18:01:21.251Z"
   },
   {
    "duration": 8,
    "start_time": "2021-12-01T18:01:21.258Z"
   },
   {
    "duration": 15,
    "start_time": "2021-12-01T18:01:21.268Z"
   },
   {
    "duration": 17,
    "start_time": "2021-12-01T18:01:21.284Z"
   },
   {
    "duration": 14,
    "start_time": "2021-12-01T18:01:21.303Z"
   },
   {
    "duration": 5,
    "start_time": "2021-12-01T18:01:21.319Z"
   },
   {
    "duration": 18,
    "start_time": "2021-12-01T18:01:21.326Z"
   },
   {
    "duration": 15,
    "start_time": "2021-12-01T18:01:21.346Z"
   },
   {
    "duration": 17,
    "start_time": "2021-12-01T18:01:21.362Z"
   },
   {
    "duration": 12,
    "start_time": "2021-12-01T18:01:21.381Z"
   },
   {
    "duration": 3269,
    "start_time": "2021-12-01T18:01:21.395Z"
   },
   {
    "duration": 3,
    "start_time": "2021-12-01T18:01:24.666Z"
   },
   {
    "duration": 22,
    "start_time": "2021-12-01T18:01:24.671Z"
   },
   {
    "duration": 6,
    "start_time": "2021-12-01T18:01:24.695Z"
   },
   {
    "duration": 11,
    "start_time": "2021-12-01T18:01:24.702Z"
   },
   {
    "duration": 17,
    "start_time": "2021-12-01T18:01:24.714Z"
   },
   {
    "duration": 5,
    "start_time": "2021-12-01T18:01:24.732Z"
   },
   {
    "duration": 5,
    "start_time": "2021-12-01T18:02:55.879Z"
   },
   {
    "duration": 13,
    "start_time": "2021-12-01T18:07:02.960Z"
   },
   {
    "duration": 3,
    "start_time": "2021-12-01T18:07:39.179Z"
   },
   {
    "duration": 11,
    "start_time": "2021-12-01T18:07:41.060Z"
   },
   {
    "duration": 7,
    "start_time": "2021-12-01T18:08:25.216Z"
   },
   {
    "duration": 7,
    "start_time": "2021-12-01T18:08:41.302Z"
   },
   {
    "duration": 3,
    "start_time": "2021-12-01T18:18:34.357Z"
   },
   {
    "duration": 247,
    "start_time": "2021-12-01T18:18:57.410Z"
   },
   {
    "duration": 3,
    "start_time": "2021-12-01T18:19:42.332Z"
   },
   {
    "duration": 4,
    "start_time": "2021-12-01T18:19:59.362Z"
   },
   {
    "duration": 5,
    "start_time": "2021-12-01T18:20:09.370Z"
   },
   {
    "duration": 4,
    "start_time": "2021-12-01T18:20:16.783Z"
   },
   {
    "duration": 226,
    "start_time": "2021-12-01T18:21:45.899Z"
   },
   {
    "duration": 115,
    "start_time": "2021-12-01T18:21:53.083Z"
   },
   {
    "duration": 229,
    "start_time": "2021-12-01T18:21:59.740Z"
   },
   {
    "duration": 4,
    "start_time": "2021-12-01T18:22:22.698Z"
   },
   {
    "duration": 5,
    "start_time": "2021-12-01T18:22:24.779Z"
   },
   {
    "duration": 4,
    "start_time": "2021-12-01T18:22:36.299Z"
   },
   {
    "duration": 4,
    "start_time": "2021-12-01T18:23:17.785Z"
   },
   {
    "duration": 4,
    "start_time": "2021-12-01T18:23:22.371Z"
   },
   {
    "duration": 15,
    "start_time": "2021-12-01T18:24:21.017Z"
   },
   {
    "duration": 4409,
    "start_time": "2021-12-01T18:24:34.988Z"
   },
   {
    "duration": 3661,
    "start_time": "2021-12-01T18:25:02.547Z"
   },
   {
    "duration": 4370,
    "start_time": "2021-12-01T18:25:09.105Z"
   },
   {
    "duration": 11,
    "start_time": "2021-12-01T18:25:40.204Z"
   },
   {
    "duration": 2,
    "start_time": "2021-12-01T18:26:15.377Z"
   },
   {
    "duration": 2,
    "start_time": "2021-12-01T18:26:31.937Z"
   },
   {
    "duration": 50,
    "start_time": "2021-12-01T18:26:31.941Z"
   },
   {
    "duration": 12,
    "start_time": "2021-12-01T18:26:31.993Z"
   },
   {
    "duration": 10,
    "start_time": "2021-12-01T18:26:32.007Z"
   },
   {
    "duration": 4,
    "start_time": "2021-12-01T18:26:32.019Z"
   },
   {
    "duration": 8,
    "start_time": "2021-12-01T18:26:32.025Z"
   },
   {
    "duration": 6,
    "start_time": "2021-12-01T18:26:32.036Z"
   },
   {
    "duration": 9,
    "start_time": "2021-12-01T18:26:32.044Z"
   },
   {
    "duration": 34,
    "start_time": "2021-12-01T18:26:32.054Z"
   },
   {
    "duration": 8,
    "start_time": "2021-12-01T18:26:32.090Z"
   },
   {
    "duration": 6,
    "start_time": "2021-12-01T18:26:32.100Z"
   },
   {
    "duration": 14,
    "start_time": "2021-12-01T18:26:32.108Z"
   },
   {
    "duration": 8,
    "start_time": "2021-12-01T18:26:32.124Z"
   },
   {
    "duration": 7,
    "start_time": "2021-12-01T18:26:32.133Z"
   },
   {
    "duration": 7,
    "start_time": "2021-12-01T18:26:32.141Z"
   },
   {
    "duration": 44,
    "start_time": "2021-12-01T18:26:32.149Z"
   },
   {
    "duration": 9,
    "start_time": "2021-12-01T18:26:32.194Z"
   },
   {
    "duration": 12,
    "start_time": "2021-12-01T18:26:32.205Z"
   },
   {
    "duration": 5,
    "start_time": "2021-12-01T18:26:32.221Z"
   },
   {
    "duration": 7,
    "start_time": "2021-12-01T18:26:32.227Z"
   },
   {
    "duration": 3,
    "start_time": "2021-12-01T18:26:32.236Z"
   },
   {
    "duration": 7,
    "start_time": "2021-12-01T18:26:32.240Z"
   },
   {
    "duration": 16,
    "start_time": "2021-12-01T18:26:32.248Z"
   },
   {
    "duration": 30,
    "start_time": "2021-12-01T18:26:32.265Z"
   },
   {
    "duration": 6,
    "start_time": "2021-12-01T18:26:32.297Z"
   },
   {
    "duration": 7,
    "start_time": "2021-12-01T18:26:32.305Z"
   },
   {
    "duration": 11,
    "start_time": "2021-12-01T18:26:32.314Z"
   },
   {
    "duration": 4,
    "start_time": "2021-12-01T18:26:32.327Z"
   },
   {
    "duration": 6,
    "start_time": "2021-12-01T18:26:32.333Z"
   },
   {
    "duration": 5,
    "start_time": "2021-12-01T18:26:32.341Z"
   },
   {
    "duration": 9,
    "start_time": "2021-12-01T18:26:32.348Z"
   },
   {
    "duration": 8,
    "start_time": "2021-12-01T18:26:32.358Z"
   },
   {
    "duration": 4,
    "start_time": "2021-12-01T18:26:32.387Z"
   },
   {
    "duration": 8,
    "start_time": "2021-12-01T18:26:32.392Z"
   },
   {
    "duration": 15,
    "start_time": "2021-12-01T18:26:32.401Z"
   },
   {
    "duration": 15,
    "start_time": "2021-12-01T18:26:32.417Z"
   },
   {
    "duration": 14,
    "start_time": "2021-12-01T18:26:32.433Z"
   },
   {
    "duration": 12,
    "start_time": "2021-12-01T18:26:32.449Z"
   },
   {
    "duration": 3409,
    "start_time": "2021-12-01T18:26:32.488Z"
   },
   {
    "duration": 4,
    "start_time": "2021-12-01T18:26:35.899Z"
   },
   {
    "duration": 20,
    "start_time": "2021-12-01T18:26:35.905Z"
   },
   {
    "duration": 5,
    "start_time": "2021-12-01T18:26:35.927Z"
   },
   {
    "duration": 11,
    "start_time": "2021-12-01T18:26:35.933Z"
   },
   {
    "duration": 3,
    "start_time": "2021-12-01T18:26:35.945Z"
   },
   {
    "duration": 12,
    "start_time": "2021-12-01T18:26:35.949Z"
   },
   {
    "duration": 13,
    "start_time": "2021-12-01T18:26:35.987Z"
   },
   {
    "duration": 4,
    "start_time": "2021-12-01T18:26:36.001Z"
   },
   {
    "duration": 10,
    "start_time": "2021-12-01T18:26:36.007Z"
   },
   {
    "duration": 8,
    "start_time": "2021-12-01T18:26:36.018Z"
   },
   {
    "duration": 8,
    "start_time": "2021-12-01T18:26:36.027Z"
   },
   {
    "duration": 18,
    "start_time": "2021-12-01T18:26:36.036Z"
   },
   {
    "duration": 2,
    "start_time": "2021-12-01T18:26:36.696Z"
   },
   {
    "duration": 50,
    "start_time": "2021-12-01T18:26:36.700Z"
   },
   {
    "duration": 12,
    "start_time": "2021-12-01T18:26:36.751Z"
   },
   {
    "duration": 13,
    "start_time": "2021-12-01T18:26:36.764Z"
   },
   {
    "duration": 10,
    "start_time": "2021-12-01T18:26:36.778Z"
   },
   {
    "duration": 5,
    "start_time": "2021-12-01T18:26:36.789Z"
   },
   {
    "duration": 6,
    "start_time": "2021-12-01T18:26:36.796Z"
   },
   {
    "duration": 6,
    "start_time": "2021-12-01T18:26:36.803Z"
   },
   {
    "duration": 6,
    "start_time": "2021-12-01T18:26:36.811Z"
   },
   {
    "duration": 7,
    "start_time": "2021-12-01T18:26:36.819Z"
   },
   {
    "duration": 7,
    "start_time": "2021-12-01T18:26:36.828Z"
   },
   {
    "duration": 59,
    "start_time": "2021-12-01T18:26:36.837Z"
   },
   {
    "duration": 7,
    "start_time": "2021-12-01T18:26:36.898Z"
   },
   {
    "duration": 7,
    "start_time": "2021-12-01T18:26:36.907Z"
   },
   {
    "duration": 8,
    "start_time": "2021-12-01T18:26:36.916Z"
   },
   {
    "duration": 8,
    "start_time": "2021-12-01T18:26:36.926Z"
   },
   {
    "duration": 8,
    "start_time": "2021-12-01T18:26:36.936Z"
   },
   {
    "duration": 46,
    "start_time": "2021-12-01T18:26:36.945Z"
   },
   {
    "duration": 5,
    "start_time": "2021-12-01T18:26:36.995Z"
   },
   {
    "duration": 8,
    "start_time": "2021-12-01T18:26:37.003Z"
   },
   {
    "duration": 3,
    "start_time": "2021-12-01T18:26:37.013Z"
   },
   {
    "duration": 5,
    "start_time": "2021-12-01T18:26:37.018Z"
   },
   {
    "duration": 4,
    "start_time": "2021-12-01T18:26:37.024Z"
   },
   {
    "duration": 4,
    "start_time": "2021-12-01T18:26:37.030Z"
   },
   {
    "duration": 5,
    "start_time": "2021-12-01T18:26:37.036Z"
   },
   {
    "duration": 8,
    "start_time": "2021-12-01T18:26:37.042Z"
   },
   {
    "duration": 48,
    "start_time": "2021-12-01T18:26:37.051Z"
   },
   {
    "duration": 5,
    "start_time": "2021-12-01T18:26:37.101Z"
   },
   {
    "duration": 5,
    "start_time": "2021-12-01T18:26:37.107Z"
   },
   {
    "duration": 5,
    "start_time": "2021-12-01T18:26:37.114Z"
   },
   {
    "duration": 6,
    "start_time": "2021-12-01T18:26:37.120Z"
   },
   {
    "duration": 8,
    "start_time": "2021-12-01T18:26:37.128Z"
   },
   {
    "duration": 3,
    "start_time": "2021-12-01T18:26:37.138Z"
   },
   {
    "duration": 5,
    "start_time": "2021-12-01T18:26:37.142Z"
   },
   {
    "duration": 48,
    "start_time": "2021-12-01T18:26:37.149Z"
   },
   {
    "duration": 15,
    "start_time": "2021-12-01T18:26:37.198Z"
   },
   {
    "duration": 15,
    "start_time": "2021-12-01T18:26:37.215Z"
   },
   {
    "duration": 13,
    "start_time": "2021-12-01T18:26:37.231Z"
   },
   {
    "duration": 3568,
    "start_time": "2021-12-01T18:26:37.245Z"
   },
   {
    "duration": 3,
    "start_time": "2021-12-01T18:26:40.814Z"
   },
   {
    "duration": 15,
    "start_time": "2021-12-01T18:26:40.819Z"
   },
   {
    "duration": 6,
    "start_time": "2021-12-01T18:26:40.835Z"
   },
   {
    "duration": 10,
    "start_time": "2021-12-01T18:26:40.842Z"
   },
   {
    "duration": 3,
    "start_time": "2021-12-01T18:26:40.853Z"
   },
   {
    "duration": 33,
    "start_time": "2021-12-01T18:26:40.857Z"
   },
   {
    "duration": 10,
    "start_time": "2021-12-01T18:26:40.892Z"
   },
   {
    "duration": 3,
    "start_time": "2021-12-01T18:26:40.904Z"
   },
   {
    "duration": 6,
    "start_time": "2021-12-01T18:26:40.909Z"
   },
   {
    "duration": 4,
    "start_time": "2021-12-01T18:26:40.917Z"
   },
   {
    "duration": 5,
    "start_time": "2021-12-01T18:26:40.922Z"
   },
   {
    "duration": 1181,
    "start_time": "2021-12-01T18:27:01.314Z"
   },
   {
    "duration": 4,
    "start_time": "2021-12-01T18:27:09.538Z"
   },
   {
    "duration": 1196,
    "start_time": "2021-12-01T18:27:21.212Z"
   },
   {
    "duration": 3,
    "start_time": "2021-12-01T18:27:24.349Z"
   },
   {
    "duration": 52,
    "start_time": "2021-12-01T18:27:24.354Z"
   },
   {
    "duration": 12,
    "start_time": "2021-12-01T18:27:24.408Z"
   },
   {
    "duration": 13,
    "start_time": "2021-12-01T18:27:24.421Z"
   },
   {
    "duration": 7,
    "start_time": "2021-12-01T18:27:24.435Z"
   },
   {
    "duration": 6,
    "start_time": "2021-12-01T18:27:24.444Z"
   },
   {
    "duration": 7,
    "start_time": "2021-12-01T18:27:24.451Z"
   },
   {
    "duration": 32,
    "start_time": "2021-12-01T18:27:24.460Z"
   },
   {
    "duration": 30,
    "start_time": "2021-12-01T18:27:24.496Z"
   },
   {
    "duration": 20,
    "start_time": "2021-12-01T18:27:24.528Z"
   },
   {
    "duration": 7,
    "start_time": "2021-12-01T18:27:24.549Z"
   },
   {
    "duration": 16,
    "start_time": "2021-12-01T18:27:24.557Z"
   },
   {
    "duration": 6,
    "start_time": "2021-12-01T18:27:24.574Z"
   },
   {
    "duration": 8,
    "start_time": "2021-12-01T18:27:24.581Z"
   },
   {
    "duration": 8,
    "start_time": "2021-12-01T18:27:24.590Z"
   },
   {
    "duration": 8,
    "start_time": "2021-12-01T18:27:24.600Z"
   },
   {
    "duration": 6,
    "start_time": "2021-12-01T18:27:24.609Z"
   },
   {
    "duration": 10,
    "start_time": "2021-12-01T18:27:24.617Z"
   },
   {
    "duration": 7,
    "start_time": "2021-12-01T18:27:24.628Z"
   },
   {
    "duration": 7,
    "start_time": "2021-12-01T18:27:24.636Z"
   },
   {
    "duration": 3,
    "start_time": "2021-12-01T18:27:24.644Z"
   },
   {
    "duration": 4,
    "start_time": "2021-12-01T18:27:24.688Z"
   },
   {
    "duration": 5,
    "start_time": "2021-12-01T18:27:24.694Z"
   },
   {
    "duration": 6,
    "start_time": "2021-12-01T18:27:24.700Z"
   },
   {
    "duration": 5,
    "start_time": "2021-12-01T18:27:24.708Z"
   },
   {
    "duration": 7,
    "start_time": "2021-12-01T18:27:24.714Z"
   },
   {
    "duration": 13,
    "start_time": "2021-12-01T18:27:24.725Z"
   },
   {
    "duration": 5,
    "start_time": "2021-12-01T18:27:24.740Z"
   },
   {
    "duration": 44,
    "start_time": "2021-12-01T18:27:24.746Z"
   },
   {
    "duration": 5,
    "start_time": "2021-12-01T18:27:24.792Z"
   },
   {
    "duration": 8,
    "start_time": "2021-12-01T18:27:24.799Z"
   },
   {
    "duration": 8,
    "start_time": "2021-12-01T18:27:24.808Z"
   },
   {
    "duration": 3,
    "start_time": "2021-12-01T18:27:24.817Z"
   },
   {
    "duration": 4,
    "start_time": "2021-12-01T18:27:24.822Z"
   },
   {
    "duration": 12,
    "start_time": "2021-12-01T18:27:24.827Z"
   },
   {
    "duration": 53,
    "start_time": "2021-12-01T18:27:24.841Z"
   },
   {
    "duration": 15,
    "start_time": "2021-12-01T18:27:24.896Z"
   },
   {
    "duration": 17,
    "start_time": "2021-12-01T18:27:24.913Z"
   },
   {
    "duration": 3416,
    "start_time": "2021-12-01T18:27:24.931Z"
   },
   {
    "duration": 3,
    "start_time": "2021-12-01T18:27:28.349Z"
   },
   {
    "duration": 20,
    "start_time": "2021-12-01T18:27:28.354Z"
   },
   {
    "duration": 12,
    "start_time": "2021-12-01T18:27:28.376Z"
   },
   {
    "duration": 12,
    "start_time": "2021-12-01T18:27:28.390Z"
   },
   {
    "duration": 3,
    "start_time": "2021-12-01T18:27:28.404Z"
   },
   {
    "duration": 12,
    "start_time": "2021-12-01T18:27:28.408Z"
   },
   {
    "duration": 13,
    "start_time": "2021-12-01T18:27:28.422Z"
   },
   {
    "duration": 4,
    "start_time": "2021-12-01T18:27:28.437Z"
   },
   {
    "duration": 8,
    "start_time": "2021-12-01T18:27:28.442Z"
   },
   {
    "duration": 4,
    "start_time": "2021-12-01T18:27:28.451Z"
   },
   {
    "duration": 32,
    "start_time": "2021-12-01T18:27:28.457Z"
   },
   {
    "duration": 14,
    "start_time": "2021-12-01T18:27:28.491Z"
   },
   {
    "duration": 4,
    "start_time": "2021-12-01T18:27:28.507Z"
   },
   {
    "duration": 699,
    "start_time": "2021-12-01T18:27:40.458Z"
   },
   {
    "duration": 59,
    "start_time": "2021-12-01T18:27:41.159Z"
   },
   {
    "duration": 18,
    "start_time": "2021-12-01T18:27:41.220Z"
   },
   {
    "duration": 9,
    "start_time": "2021-12-01T18:27:41.240Z"
   },
   {
    "duration": 5,
    "start_time": "2021-12-01T18:27:41.250Z"
   },
   {
    "duration": 5,
    "start_time": "2021-12-01T18:27:41.257Z"
   },
   {
    "duration": 26,
    "start_time": "2021-12-01T18:27:41.263Z"
   },
   {
    "duration": 5,
    "start_time": "2021-12-01T18:27:41.290Z"
   },
   {
    "duration": 6,
    "start_time": "2021-12-01T18:27:41.297Z"
   },
   {
    "duration": 6,
    "start_time": "2021-12-01T18:27:41.305Z"
   },
   {
    "duration": 10,
    "start_time": "2021-12-01T18:27:41.312Z"
   },
   {
    "duration": 22,
    "start_time": "2021-12-01T18:27:41.324Z"
   },
   {
    "duration": 6,
    "start_time": "2021-12-01T18:27:41.348Z"
   },
   {
    "duration": 35,
    "start_time": "2021-12-01T18:27:41.356Z"
   },
   {
    "duration": 9,
    "start_time": "2021-12-01T18:27:41.393Z"
   },
   {
    "duration": 7,
    "start_time": "2021-12-01T18:27:41.404Z"
   },
   {
    "duration": 6,
    "start_time": "2021-12-01T18:27:41.413Z"
   },
   {
    "duration": 9,
    "start_time": "2021-12-01T18:27:41.421Z"
   },
   {
    "duration": 5,
    "start_time": "2021-12-01T18:27:41.432Z"
   },
   {
    "duration": 7,
    "start_time": "2021-12-01T18:27:41.439Z"
   },
   {
    "duration": 39,
    "start_time": "2021-12-01T18:27:41.448Z"
   },
   {
    "duration": 4,
    "start_time": "2021-12-01T18:27:41.489Z"
   },
   {
    "duration": 4,
    "start_time": "2021-12-01T18:27:41.495Z"
   },
   {
    "duration": 5,
    "start_time": "2021-12-01T18:27:41.500Z"
   },
   {
    "duration": 9,
    "start_time": "2021-12-01T18:27:41.506Z"
   },
   {
    "duration": 7,
    "start_time": "2021-12-01T18:27:41.516Z"
   },
   {
    "duration": 15,
    "start_time": "2021-12-01T18:27:41.527Z"
   },
   {
    "duration": 5,
    "start_time": "2021-12-01T18:27:41.544Z"
   },
   {
    "duration": 36,
    "start_time": "2021-12-01T18:27:41.551Z"
   },
   {
    "duration": 4,
    "start_time": "2021-12-01T18:27:41.589Z"
   },
   {
    "duration": 10,
    "start_time": "2021-12-01T18:27:41.595Z"
   },
   {
    "duration": 11,
    "start_time": "2021-12-01T18:27:41.607Z"
   },
   {
    "duration": 4,
    "start_time": "2021-12-01T18:27:41.619Z"
   },
   {
    "duration": 6,
    "start_time": "2021-12-01T18:27:41.624Z"
   },
   {
    "duration": 13,
    "start_time": "2021-12-01T18:27:41.631Z"
   },
   {
    "duration": 44,
    "start_time": "2021-12-01T18:27:41.645Z"
   },
   {
    "duration": 16,
    "start_time": "2021-12-01T18:27:41.690Z"
   },
   {
    "duration": 12,
    "start_time": "2021-12-01T18:27:41.708Z"
   },
   {
    "duration": 3523,
    "start_time": "2021-12-01T18:27:41.722Z"
   },
   {
    "duration": 4,
    "start_time": "2021-12-01T18:27:45.247Z"
   },
   {
    "duration": 17,
    "start_time": "2021-12-01T18:27:45.253Z"
   },
   {
    "duration": 18,
    "start_time": "2021-12-01T18:27:45.271Z"
   },
   {
    "duration": 11,
    "start_time": "2021-12-01T18:27:45.291Z"
   },
   {
    "duration": 3,
    "start_time": "2021-12-01T18:27:45.303Z"
   },
   {
    "duration": 10,
    "start_time": "2021-12-01T18:27:45.308Z"
   },
   {
    "duration": 14,
    "start_time": "2021-12-01T18:27:45.319Z"
   },
   {
    "duration": 4,
    "start_time": "2021-12-01T18:27:45.335Z"
   },
   {
    "duration": 7,
    "start_time": "2021-12-01T18:27:45.341Z"
   },
   {
    "duration": 38,
    "start_time": "2021-12-01T18:27:45.350Z"
   },
   {
    "duration": 8,
    "start_time": "2021-12-01T18:27:45.390Z"
   },
   {
    "duration": 13,
    "start_time": "2021-12-01T18:27:45.400Z"
   },
   {
    "duration": 4,
    "start_time": "2021-12-01T18:27:45.414Z"
   },
   {
    "duration": 12,
    "start_time": "2021-12-01T18:27:54.953Z"
   },
   {
    "duration": 4,
    "start_time": "2021-12-01T18:28:48.812Z"
   },
   {
    "duration": 11,
    "start_time": "2021-12-01T18:28:52.152Z"
   },
   {
    "duration": 4,
    "start_time": "2021-12-01T18:29:09.118Z"
   },
   {
    "duration": 6,
    "start_time": "2021-12-01T18:29:36.730Z"
   },
   {
    "duration": 3,
    "start_time": "2021-12-01T18:36:44.467Z"
   },
   {
    "duration": 11,
    "start_time": "2021-12-01T18:36:48.190Z"
   },
   {
    "duration": 3,
    "start_time": "2021-12-01T18:46:40.268Z"
   },
   {
    "duration": 11,
    "start_time": "2021-12-01T18:46:44.997Z"
   },
   {
    "duration": 3,
    "start_time": "2021-12-01T18:48:19.789Z"
   },
   {
    "duration": 11,
    "start_time": "2021-12-01T18:48:21.868Z"
   },
   {
    "duration": 10,
    "start_time": "2021-12-01T18:50:56.765Z"
   },
   {
    "duration": 5,
    "start_time": "2021-12-01T18:51:00.671Z"
   },
   {
    "duration": 4,
    "start_time": "2021-12-01T18:51:15.616Z"
   },
   {
    "duration": 5,
    "start_time": "2021-12-01T18:51:40.292Z"
   },
   {
    "duration": 311,
    "start_time": "2021-12-01T18:59:42.205Z"
   },
   {
    "duration": 2,
    "start_time": "2021-12-01T19:00:22.671Z"
   },
   {
    "duration": 4,
    "start_time": "2021-12-01T19:03:31.597Z"
   },
   {
    "duration": 75,
    "start_time": "2021-12-01T19:06:39.408Z"
   },
   {
    "duration": 144,
    "start_time": "2021-12-01T19:06:45.937Z"
   },
   {
    "duration": 4,
    "start_time": "2021-12-01T19:07:05.020Z"
   },
   {
    "duration": 3,
    "start_time": "2021-12-01T19:07:12.084Z"
   },
   {
    "duration": 5,
    "start_time": "2021-12-01T19:08:00.865Z"
   },
   {
    "duration": 6,
    "start_time": "2021-12-01T19:08:15.916Z"
   },
   {
    "duration": 4,
    "start_time": "2021-12-01T19:08:26.697Z"
   },
   {
    "duration": 4,
    "start_time": "2021-12-01T19:09:21.956Z"
   },
   {
    "duration": 4,
    "start_time": "2021-12-01T19:09:56.314Z"
   },
   {
    "duration": 5,
    "start_time": "2021-12-01T19:11:27.985Z"
   },
   {
    "duration": 4,
    "start_time": "2021-12-01T19:12:13.254Z"
   },
   {
    "duration": 4,
    "start_time": "2021-12-01T19:13:51.547Z"
   },
   {
    "duration": 3,
    "start_time": "2021-12-01T19:18:07.763Z"
   },
   {
    "duration": 11,
    "start_time": "2021-12-01T19:18:13.530Z"
   },
   {
    "duration": 10,
    "start_time": "2021-12-01T19:18:33.665Z"
   },
   {
    "duration": 3,
    "start_time": "2021-12-01T19:18:41.778Z"
   },
   {
    "duration": 1151,
    "start_time": "2021-12-01T19:18:46.274Z"
   },
   {
    "duration": 4,
    "start_time": "2021-12-01T19:19:08.916Z"
   },
   {
    "duration": 1173,
    "start_time": "2021-12-01T19:19:11.349Z"
   },
   {
    "duration": 10,
    "start_time": "2021-12-01T19:19:13.965Z"
   },
   {
    "duration": 4,
    "start_time": "2021-12-01T19:19:31.365Z"
   },
   {
    "duration": 13,
    "start_time": "2021-12-01T19:19:33.474Z"
   },
   {
    "duration": 6,
    "start_time": "2021-12-01T19:19:38.316Z"
   },
   {
    "duration": 3,
    "start_time": "2021-12-01T19:24:32.016Z"
   },
   {
    "duration": 230,
    "start_time": "2021-12-01T19:28:04.024Z"
   },
   {
    "duration": 273,
    "start_time": "2021-12-01T19:37:23.323Z"
   },
   {
    "duration": 15,
    "start_time": "2021-12-01T19:38:56.778Z"
   },
   {
    "duration": 8,
    "start_time": "2021-12-01T19:40:18.714Z"
   },
   {
    "duration": 4,
    "start_time": "2021-12-01T19:40:19.803Z"
   },
   {
    "duration": 10,
    "start_time": "2021-12-01T19:40:39.787Z"
   },
   {
    "duration": 2,
    "start_time": "2021-12-01T19:41:05.926Z"
   },
   {
    "duration": 59,
    "start_time": "2021-12-01T19:41:05.930Z"
   },
   {
    "duration": 12,
    "start_time": "2021-12-01T19:41:05.991Z"
   },
   {
    "duration": 37,
    "start_time": "2021-12-01T19:41:06.004Z"
   },
   {
    "duration": 14,
    "start_time": "2021-12-01T19:41:06.042Z"
   },
   {
    "duration": 14,
    "start_time": "2021-12-01T19:41:06.058Z"
   },
   {
    "duration": 14,
    "start_time": "2021-12-01T19:41:06.074Z"
   },
   {
    "duration": 13,
    "start_time": "2021-12-01T19:41:06.091Z"
   },
   {
    "duration": 13,
    "start_time": "2021-12-01T19:41:06.106Z"
   },
   {
    "duration": 8,
    "start_time": "2021-12-01T19:41:06.121Z"
   },
   {
    "duration": 14,
    "start_time": "2021-12-01T19:41:06.130Z"
   },
   {
    "duration": 19,
    "start_time": "2021-12-01T19:41:06.146Z"
   },
   {
    "duration": 16,
    "start_time": "2021-12-01T19:41:06.167Z"
   },
   {
    "duration": 17,
    "start_time": "2021-12-01T19:41:06.185Z"
   },
   {
    "duration": 13,
    "start_time": "2021-12-01T19:41:06.203Z"
   },
   {
    "duration": 19,
    "start_time": "2021-12-01T19:41:06.217Z"
   },
   {
    "duration": 11,
    "start_time": "2021-12-01T19:41:06.237Z"
   },
   {
    "duration": 12,
    "start_time": "2021-12-01T19:41:06.249Z"
   },
   {
    "duration": 14,
    "start_time": "2021-12-01T19:41:06.264Z"
   },
   {
    "duration": 19,
    "start_time": "2021-12-01T19:41:06.280Z"
   },
   {
    "duration": 8,
    "start_time": "2021-12-01T19:41:06.301Z"
   },
   {
    "duration": 11,
    "start_time": "2021-12-01T19:41:06.311Z"
   },
   {
    "duration": 9,
    "start_time": "2021-12-01T19:41:06.323Z"
   },
   {
    "duration": 11,
    "start_time": "2021-12-01T19:41:06.334Z"
   },
   {
    "duration": 15,
    "start_time": "2021-12-01T19:41:06.346Z"
   },
   {
    "duration": 10,
    "start_time": "2021-12-01T19:41:06.362Z"
   },
   {
    "duration": 18,
    "start_time": "2021-12-01T19:41:06.374Z"
   },
   {
    "duration": 6,
    "start_time": "2021-12-01T19:41:06.394Z"
   },
   {
    "duration": 9,
    "start_time": "2021-12-01T19:41:06.401Z"
   },
   {
    "duration": 17,
    "start_time": "2021-12-01T19:41:06.412Z"
   },
   {
    "duration": 22,
    "start_time": "2021-12-01T19:41:06.430Z"
   },
   {
    "duration": 14,
    "start_time": "2021-12-01T19:41:06.454Z"
   },
   {
    "duration": 19,
    "start_time": "2021-12-01T19:41:06.469Z"
   },
   {
    "duration": 12,
    "start_time": "2021-12-01T19:41:06.490Z"
   },
   {
    "duration": 20,
    "start_time": "2021-12-01T19:41:06.503Z"
   },
   {
    "duration": 21,
    "start_time": "2021-12-01T19:41:06.525Z"
   },
   {
    "duration": 15,
    "start_time": "2021-12-01T19:41:06.547Z"
   },
   {
    "duration": 13,
    "start_time": "2021-12-01T19:41:06.563Z"
   },
   {
    "duration": 3273,
    "start_time": "2021-12-01T19:41:06.578Z"
   },
   {
    "duration": 3,
    "start_time": "2021-12-01T19:41:09.853Z"
   },
   {
    "duration": 11,
    "start_time": "2021-12-01T19:41:09.858Z"
   },
   {
    "duration": 18,
    "start_time": "2021-12-01T19:41:09.870Z"
   },
   {
    "duration": 9,
    "start_time": "2021-12-01T19:41:09.889Z"
   },
   {
    "duration": 2,
    "start_time": "2021-12-01T19:41:09.900Z"
   },
   {
    "duration": 9,
    "start_time": "2021-12-01T19:41:09.903Z"
   },
   {
    "duration": 12,
    "start_time": "2021-12-01T19:41:09.914Z"
   },
   {
    "duration": 4,
    "start_time": "2021-12-01T19:41:09.927Z"
   },
   {
    "duration": 7,
    "start_time": "2021-12-01T19:41:09.932Z"
   },
   {
    "duration": 4,
    "start_time": "2021-12-01T19:41:09.940Z"
   },
   {
    "duration": 5,
    "start_time": "2021-12-01T19:41:09.946Z"
   },
   {
    "duration": 41,
    "start_time": "2021-12-01T19:41:09.953Z"
   },
   {
    "duration": 7,
    "start_time": "2021-12-01T19:41:09.996Z"
   },
   {
    "duration": 15,
    "start_time": "2021-12-01T19:41:56.654Z"
   },
   {
    "duration": 264,
    "start_time": "2021-12-01T19:50:21.141Z"
   },
   {
    "duration": 300,
    "start_time": "2021-12-01T19:57:50.100Z"
   },
   {
    "duration": 2,
    "start_time": "2021-12-01T20:05:20.844Z"
   },
   {
    "duration": 7,
    "start_time": "2021-12-01T20:05:36.108Z"
   },
   {
    "duration": 16,
    "start_time": "2021-12-01T20:05:39.887Z"
   },
   {
    "duration": 23,
    "start_time": "2021-12-01T20:05:53.388Z"
   },
   {
    "duration": 15,
    "start_time": "2021-12-01T20:06:07.347Z"
   },
   {
    "duration": 13,
    "start_time": "2021-12-01T20:06:18.628Z"
   },
   {
    "duration": 3,
    "start_time": "2021-12-01T20:06:24.484Z"
   },
   {
    "duration": 60,
    "start_time": "2021-12-01T20:06:24.489Z"
   },
   {
    "duration": 15,
    "start_time": "2021-12-01T20:06:24.552Z"
   },
   {
    "duration": 12,
    "start_time": "2021-12-01T20:06:24.569Z"
   },
   {
    "duration": 5,
    "start_time": "2021-12-01T20:06:24.588Z"
   },
   {
    "duration": 6,
    "start_time": "2021-12-01T20:06:24.595Z"
   },
   {
    "duration": 5,
    "start_time": "2021-12-01T20:06:24.604Z"
   },
   {
    "duration": 6,
    "start_time": "2021-12-01T20:06:24.610Z"
   },
   {
    "duration": 5,
    "start_time": "2021-12-01T20:06:24.617Z"
   },
   {
    "duration": 6,
    "start_time": "2021-12-01T20:06:24.624Z"
   },
   {
    "duration": 6,
    "start_time": "2021-12-01T20:06:24.631Z"
   },
   {
    "duration": 59,
    "start_time": "2021-12-01T20:06:24.639Z"
   },
   {
    "duration": 6,
    "start_time": "2021-12-01T20:06:24.701Z"
   },
   {
    "duration": 6,
    "start_time": "2021-12-01T20:06:24.709Z"
   },
   {
    "duration": 7,
    "start_time": "2021-12-01T20:06:24.716Z"
   },
   {
    "duration": 7,
    "start_time": "2021-12-01T20:06:24.725Z"
   },
   {
    "duration": 5,
    "start_time": "2021-12-01T20:06:24.734Z"
   },
   {
    "duration": 9,
    "start_time": "2021-12-01T20:06:24.740Z"
   },
   {
    "duration": 43,
    "start_time": "2021-12-01T20:06:24.750Z"
   },
   {
    "duration": 7,
    "start_time": "2021-12-01T20:06:24.797Z"
   },
   {
    "duration": 3,
    "start_time": "2021-12-01T20:06:24.806Z"
   },
   {
    "duration": 6,
    "start_time": "2021-12-01T20:06:24.811Z"
   },
   {
    "duration": 4,
    "start_time": "2021-12-01T20:06:24.819Z"
   },
   {
    "duration": 7,
    "start_time": "2021-12-01T20:06:24.824Z"
   },
   {
    "duration": 5,
    "start_time": "2021-12-01T20:06:24.833Z"
   },
   {
    "duration": 6,
    "start_time": "2021-12-01T20:06:24.839Z"
   },
   {
    "duration": 47,
    "start_time": "2021-12-01T20:06:24.847Z"
   },
   {
    "duration": 5,
    "start_time": "2021-12-01T20:06:24.895Z"
   },
   {
    "duration": 5,
    "start_time": "2021-12-01T20:06:24.902Z"
   },
   {
    "duration": 4,
    "start_time": "2021-12-01T20:06:24.908Z"
   },
   {
    "duration": 8,
    "start_time": "2021-12-01T20:06:24.914Z"
   },
   {
    "duration": 8,
    "start_time": "2021-12-01T20:06:24.923Z"
   },
   {
    "duration": 3,
    "start_time": "2021-12-01T20:06:24.933Z"
   },
   {
    "duration": 6,
    "start_time": "2021-12-01T20:06:24.937Z"
   },
   {
    "duration": 11,
    "start_time": "2021-12-01T20:06:24.945Z"
   },
   {
    "duration": 42,
    "start_time": "2021-12-01T20:06:24.958Z"
   },
   {
    "duration": 16,
    "start_time": "2021-12-01T20:06:25.002Z"
   },
   {
    "duration": 14,
    "start_time": "2021-12-01T20:06:25.019Z"
   },
   {
    "duration": 3334,
    "start_time": "2021-12-01T20:06:25.035Z"
   },
   {
    "duration": 4,
    "start_time": "2021-12-01T20:06:28.370Z"
   },
   {
    "duration": 17,
    "start_time": "2021-12-01T20:06:28.376Z"
   },
   {
    "duration": 7,
    "start_time": "2021-12-01T20:06:28.395Z"
   },
   {
    "duration": 9,
    "start_time": "2021-12-01T20:06:28.404Z"
   },
   {
    "duration": 2,
    "start_time": "2021-12-01T20:06:28.415Z"
   },
   {
    "duration": 11,
    "start_time": "2021-12-01T20:06:28.418Z"
   },
   {
    "duration": 12,
    "start_time": "2021-12-01T20:06:28.430Z"
   },
   {
    "duration": 5,
    "start_time": "2021-12-01T20:06:28.443Z"
   },
   {
    "duration": 7,
    "start_time": "2021-12-01T20:06:28.449Z"
   },
   {
    "duration": 32,
    "start_time": "2021-12-01T20:06:28.457Z"
   },
   {
    "duration": 7,
    "start_time": "2021-12-01T20:06:28.491Z"
   },
   {
    "duration": 14,
    "start_time": "2021-12-01T20:06:28.500Z"
   },
   {
    "duration": 9,
    "start_time": "2021-12-01T20:06:28.516Z"
   },
   {
    "duration": 3,
    "start_time": "2021-12-01T20:06:28.527Z"
   },
   {
    "duration": 8,
    "start_time": "2021-12-01T20:06:28.532Z"
   },
   {
    "duration": 15,
    "start_time": "2021-12-01T20:06:28.542Z"
   },
   {
    "duration": 44,
    "start_time": "2021-12-01T20:06:28.558Z"
   },
   {
    "duration": 14,
    "start_time": "2021-12-01T20:06:34.268Z"
   },
   {
    "duration": 7,
    "start_time": "2021-12-01T20:06:51.588Z"
   },
   {
    "duration": 14,
    "start_time": "2021-12-01T20:06:59.411Z"
   },
   {
    "duration": 6,
    "start_time": "2021-12-01T20:06:59.846Z"
   },
   {
    "duration": 14,
    "start_time": "2021-12-01T20:07:08.235Z"
   },
   {
    "duration": 6,
    "start_time": "2021-12-01T20:07:08.888Z"
   },
   {
    "duration": 4,
    "start_time": "2021-12-01T20:09:23.349Z"
   },
   {
    "duration": 8,
    "start_time": "2021-12-01T20:09:25.410Z"
   },
   {
    "duration": 2,
    "start_time": "2021-12-01T20:09:53.054Z"
   },
   {
    "duration": 6,
    "start_time": "2021-12-01T20:09:54.028Z"
   },
   {
    "duration": 16,
    "start_time": "2021-12-01T20:09:56.393Z"
   },
   {
    "duration": 14,
    "start_time": "2021-12-01T20:10:04.178Z"
   },
   {
    "duration": 4,
    "start_time": "2021-12-01T20:10:04.593Z"
   },
   {
    "duration": 7,
    "start_time": "2021-12-01T20:10:05.151Z"
   },
   {
    "duration": 4,
    "start_time": "2021-12-01T20:13:00.637Z"
   },
   {
    "duration": 7,
    "start_time": "2021-12-01T20:13:02.225Z"
   },
   {
    "duration": 4,
    "start_time": "2021-12-01T20:13:10.864Z"
   },
   {
    "duration": 7,
    "start_time": "2021-12-01T20:13:12.220Z"
   },
   {
    "duration": 4,
    "start_time": "2021-12-01T20:13:19.017Z"
   },
   {
    "duration": 8,
    "start_time": "2021-12-01T20:13:19.564Z"
   },
   {
    "duration": 4,
    "start_time": "2021-12-01T20:13:24.274Z"
   },
   {
    "duration": 8,
    "start_time": "2021-12-01T20:13:25.029Z"
   },
   {
    "duration": 298,
    "start_time": "2021-12-01T20:37:32.473Z"
   },
   {
    "duration": 313,
    "start_time": "2021-12-01T20:38:53.519Z"
   },
   {
    "duration": 15,
    "start_time": "2021-12-01T20:39:02.038Z"
   },
   {
    "duration": 789,
    "start_time": "2021-12-02T07:07:02.629Z"
   },
   {
    "duration": 71,
    "start_time": "2021-12-02T07:07:03.422Z"
   },
   {
    "duration": 45,
    "start_time": "2021-12-02T07:07:03.497Z"
   },
   {
    "duration": 24,
    "start_time": "2021-12-02T07:07:03.546Z"
   },
   {
    "duration": 11,
    "start_time": "2021-12-02T07:07:03.573Z"
   },
   {
    "duration": 48,
    "start_time": "2021-12-02T07:07:03.588Z"
   },
   {
    "duration": 11,
    "start_time": "2021-12-02T07:07:03.639Z"
   },
   {
    "duration": 16,
    "start_time": "2021-12-02T07:07:03.653Z"
   },
   {
    "duration": 53,
    "start_time": "2021-12-02T07:07:03.675Z"
   },
   {
    "duration": 15,
    "start_time": "2021-12-02T07:07:03.734Z"
   },
   {
    "duration": 12,
    "start_time": "2021-12-02T07:07:03.752Z"
   },
   {
    "duration": 64,
    "start_time": "2021-12-02T07:07:03.767Z"
   },
   {
    "duration": 14,
    "start_time": "2021-12-02T07:07:03.835Z"
   },
   {
    "duration": 11,
    "start_time": "2021-12-02T07:07:03.853Z"
   },
   {
    "duration": 13,
    "start_time": "2021-12-02T07:07:03.867Z"
   },
   {
    "duration": 15,
    "start_time": "2021-12-02T07:07:03.930Z"
   },
   {
    "duration": 10,
    "start_time": "2021-12-02T07:07:03.949Z"
   },
   {
    "duration": 21,
    "start_time": "2021-12-02T07:07:03.962Z"
   },
   {
    "duration": 53,
    "start_time": "2021-12-02T07:07:03.986Z"
   },
   {
    "duration": 17,
    "start_time": "2021-12-02T07:07:04.042Z"
   },
   {
    "duration": 6,
    "start_time": "2021-12-02T07:07:04.063Z"
   },
   {
    "duration": 9,
    "start_time": "2021-12-02T07:07:04.073Z"
   },
   {
    "duration": 50,
    "start_time": "2021-12-02T07:07:04.085Z"
   },
   {
    "duration": 11,
    "start_time": "2021-12-02T07:07:04.139Z"
   },
   {
    "duration": 6,
    "start_time": "2021-12-02T07:07:04.154Z"
   },
   {
    "duration": 11,
    "start_time": "2021-12-02T07:07:04.163Z"
   },
   {
    "duration": 71,
    "start_time": "2021-12-02T07:07:04.181Z"
   },
   {
    "duration": 9,
    "start_time": "2021-12-02T07:07:04.255Z"
   },
   {
    "duration": 7,
    "start_time": "2021-12-02T07:07:04.266Z"
   },
   {
    "duration": 11,
    "start_time": "2021-12-02T07:07:04.276Z"
   },
   {
    "duration": 46,
    "start_time": "2021-12-02T07:07:04.289Z"
   },
   {
    "duration": 19,
    "start_time": "2021-12-02T07:07:04.338Z"
   },
   {
    "duration": 6,
    "start_time": "2021-12-02T07:07:04.361Z"
   },
   {
    "duration": 6,
    "start_time": "2021-12-02T07:07:04.370Z"
   },
   {
    "duration": 64,
    "start_time": "2021-12-02T07:07:04.378Z"
   },
   {
    "duration": 24,
    "start_time": "2021-12-02T07:07:04.444Z"
   },
   {
    "duration": 70,
    "start_time": "2021-12-02T07:07:04.470Z"
   },
   {
    "duration": 22,
    "start_time": "2021-12-02T07:07:04.542Z"
   },
   {
    "duration": 6681,
    "start_time": "2021-12-02T07:07:04.567Z"
   },
   {
    "duration": 6,
    "start_time": "2021-12-02T07:07:11.252Z"
   },
   {
    "duration": 18,
    "start_time": "2021-12-02T07:07:11.261Z"
   },
   {
    "duration": 9,
    "start_time": "2021-12-02T07:07:11.282Z"
   },
   {
    "duration": 59,
    "start_time": "2021-12-02T07:07:11.294Z"
   },
   {
    "duration": 5,
    "start_time": "2021-12-02T07:07:11.355Z"
   },
   {
    "duration": 14,
    "start_time": "2021-12-02T07:07:11.364Z"
   },
   {
    "duration": 60,
    "start_time": "2021-12-02T07:07:11.382Z"
   },
   {
    "duration": 9,
    "start_time": "2021-12-02T07:07:11.446Z"
   },
   {
    "duration": 11,
    "start_time": "2021-12-02T07:07:11.457Z"
   },
   {
    "duration": 8,
    "start_time": "2021-12-02T07:07:11.471Z"
   },
   {
    "duration": 53,
    "start_time": "2021-12-02T07:07:11.482Z"
   },
   {
    "duration": 25,
    "start_time": "2021-12-02T07:07:11.539Z"
   },
   {
    "duration": 18,
    "start_time": "2021-12-02T07:07:11.567Z"
   },
   {
    "duration": 43,
    "start_time": "2021-12-02T07:07:11.588Z"
   },
   {
    "duration": 438,
    "start_time": "2021-12-02T07:15:25.984Z"
   },
   {
    "duration": 4,
    "start_time": "2021-12-02T07:15:32.224Z"
   },
   {
    "duration": 14,
    "start_time": "2021-12-02T07:15:33.087Z"
   },
   {
    "duration": 12,
    "start_time": "2021-12-02T07:15:51.378Z"
   },
   {
    "duration": 54,
    "start_time": "2021-12-02T07:19:45.734Z"
   },
   {
    "duration": 842,
    "start_time": "2021-12-02T07:20:29.788Z"
   },
   {
    "duration": 5519,
    "start_time": "2021-12-02T07:20:25.115Z"
   },
   {
    "duration": 312,
    "start_time": "2021-12-02T07:20:58.416Z"
   },
   {
    "duration": 3,
    "start_time": "2021-12-02T07:21:26.806Z"
   },
   {
    "duration": 121,
    "start_time": "2021-12-02T07:21:26.812Z"
   },
   {
    "duration": 22,
    "start_time": "2021-12-02T07:21:26.936Z"
   },
   {
    "duration": 18,
    "start_time": "2021-12-02T07:21:26.962Z"
   },
   {
    "duration": 49,
    "start_time": "2021-12-02T07:21:26.983Z"
   },
   {
    "duration": 17,
    "start_time": "2021-12-02T07:21:27.034Z"
   },
   {
    "duration": 9,
    "start_time": "2021-12-02T07:21:27.054Z"
   },
   {
    "duration": 13,
    "start_time": "2021-12-02T07:21:27.066Z"
   },
   {
    "duration": 9,
    "start_time": "2021-12-02T07:21:27.139Z"
   },
   {
    "duration": 12,
    "start_time": "2021-12-02T07:21:27.151Z"
   },
   {
    "duration": 18,
    "start_time": "2021-12-02T07:21:27.166Z"
   },
   {
    "duration": 56,
    "start_time": "2021-12-02T07:21:27.188Z"
   },
   {
    "duration": 18,
    "start_time": "2021-12-02T07:21:27.248Z"
   },
   {
    "duration": 16,
    "start_time": "2021-12-02T07:21:27.270Z"
   },
   {
    "duration": 47,
    "start_time": "2021-12-02T07:21:27.288Z"
   },
   {
    "duration": 13,
    "start_time": "2021-12-02T07:21:27.338Z"
   },
   {
    "duration": 11,
    "start_time": "2021-12-02T07:21:27.354Z"
   },
   {
    "duration": 62,
    "start_time": "2021-12-02T07:21:27.368Z"
   },
   {
    "duration": 9,
    "start_time": "2021-12-02T07:21:27.433Z"
   },
   {
    "duration": 15,
    "start_time": "2021-12-02T07:21:27.445Z"
   },
   {
    "duration": 7,
    "start_time": "2021-12-02T07:21:27.463Z"
   },
   {
    "duration": 57,
    "start_time": "2021-12-02T07:21:27.473Z"
   },
   {
    "duration": 11,
    "start_time": "2021-12-02T07:21:27.533Z"
   },
   {
    "duration": 11,
    "start_time": "2021-12-02T07:21:27.547Z"
   },
   {
    "duration": 9,
    "start_time": "2021-12-02T07:21:27.561Z"
   },
   {
    "duration": 14,
    "start_time": "2021-12-02T07:21:27.573Z"
   },
   {
    "duration": 36,
    "start_time": "2021-12-02T07:21:27.639Z"
   },
   {
    "duration": 13,
    "start_time": "2021-12-02T07:21:27.681Z"
   },
   {
    "duration": 35,
    "start_time": "2021-12-02T07:21:27.698Z"
   },
   {
    "duration": 14,
    "start_time": "2021-12-02T07:21:27.736Z"
   },
   {
    "duration": 13,
    "start_time": "2021-12-02T07:21:27.754Z"
   },
   {
    "duration": 13,
    "start_time": "2021-12-02T07:21:27.769Z"
   },
   {
    "duration": 48,
    "start_time": "2021-12-02T07:21:27.784Z"
   },
   {
    "duration": 8,
    "start_time": "2021-12-02T07:21:27.834Z"
   },
   {
    "duration": 19,
    "start_time": "2021-12-02T07:21:27.845Z"
   },
   {
    "duration": 65,
    "start_time": "2021-12-02T07:21:27.868Z"
   },
   {
    "duration": 35,
    "start_time": "2021-12-02T07:21:27.935Z"
   },
   {
    "duration": 56,
    "start_time": "2021-12-02T07:21:27.973Z"
   },
   {
    "duration": 5263,
    "start_time": "2021-12-02T07:21:28.032Z"
   },
   {
    "duration": 6,
    "start_time": "2021-12-02T07:21:33.300Z"
   },
   {
    "duration": 18,
    "start_time": "2021-12-02T07:21:33.330Z"
   },
   {
    "duration": 17,
    "start_time": "2021-12-02T07:21:33.351Z"
   },
   {
    "duration": 8,
    "start_time": "2021-12-02T07:21:33.372Z"
   },
   {
    "duration": 54,
    "start_time": "2021-12-02T07:21:33.383Z"
   },
   {
    "duration": 8,
    "start_time": "2021-12-02T07:21:33.441Z"
   },
   {
    "duration": 32,
    "start_time": "2021-12-02T07:21:33.453Z"
   },
   {
    "duration": 6,
    "start_time": "2021-12-02T07:21:33.489Z"
   },
   {
    "duration": 21,
    "start_time": "2021-12-02T07:21:33.530Z"
   },
   {
    "duration": 30,
    "start_time": "2021-12-02T07:21:33.555Z"
   },
   {
    "duration": 42,
    "start_time": "2021-12-02T07:21:33.589Z"
   },
   {
    "duration": 14,
    "start_time": "2021-12-02T07:21:33.634Z"
   },
   {
    "duration": 9,
    "start_time": "2021-12-02T07:21:33.651Z"
   },
   {
    "duration": 9,
    "start_time": "2021-12-02T07:21:33.663Z"
   },
   {
    "duration": 87,
    "start_time": "2021-12-02T07:21:33.676Z"
   },
   {
    "duration": 14,
    "start_time": "2021-12-02T07:21:33.766Z"
   },
   {
    "duration": 4,
    "start_time": "2021-12-02T07:21:33.783Z"
   },
   {
    "duration": 50,
    "start_time": "2021-12-02T07:21:33.790Z"
   },
   {
    "duration": 31,
    "start_time": "2021-12-02T07:21:33.842Z"
   },
   {
    "duration": 30,
    "start_time": "2021-12-02T07:21:34.117Z"
   },
   {
    "duration": 5,
    "start_time": "2021-12-02T07:21:36.038Z"
   },
   {
    "duration": 10,
    "start_time": "2021-12-02T07:21:38.076Z"
   },
   {
    "duration": 100,
    "start_time": "2021-12-02T07:26:42.198Z"
   },
   {
    "duration": 39,
    "start_time": "2021-12-02T07:26:46.385Z"
   },
   {
    "duration": 5,
    "start_time": "2021-12-02T07:26:47.398Z"
   },
   {
    "duration": 25,
    "start_time": "2021-12-02T07:27:07.815Z"
   },
   {
    "duration": 10,
    "start_time": "2021-12-02T07:27:08.486Z"
   },
   {
    "duration": 13,
    "start_time": "2021-12-02T07:27:09.116Z"
   },
   {
    "duration": 24,
    "start_time": "2021-12-02T07:28:06.378Z"
   },
   {
    "duration": 5,
    "start_time": "2021-12-02T07:28:06.959Z"
   },
   {
    "duration": 10,
    "start_time": "2021-12-02T07:28:07.592Z"
   },
   {
    "duration": 23,
    "start_time": "2021-12-02T07:28:59.435Z"
   },
   {
    "duration": 6,
    "start_time": "2021-12-02T07:28:59.998Z"
   },
   {
    "duration": 10,
    "start_time": "2021-12-02T07:29:00.418Z"
   },
   {
    "duration": 11,
    "start_time": "2021-12-02T07:32:04.767Z"
   },
   {
    "duration": 12,
    "start_time": "2021-12-02T07:32:31.384Z"
   },
   {
    "duration": 11,
    "start_time": "2021-12-02T07:32:38.909Z"
   },
   {
    "duration": 11,
    "start_time": "2021-12-02T07:32:44.228Z"
   },
   {
    "duration": 23,
    "start_time": "2021-12-02T07:33:29.185Z"
   },
   {
    "duration": 6,
    "start_time": "2021-12-02T07:33:29.807Z"
   },
   {
    "duration": 11,
    "start_time": "2021-12-02T07:33:30.287Z"
   },
   {
    "duration": 13,
    "start_time": "2021-12-02T07:54:21.036Z"
   },
   {
    "duration": 14,
    "start_time": "2021-12-02T07:57:29.790Z"
   },
   {
    "duration": 23,
    "start_time": "2021-12-02T08:03:45.626Z"
   },
   {
    "duration": 774,
    "start_time": "2021-12-02T20:03:10.631Z"
   },
   {
    "duration": 65,
    "start_time": "2021-12-02T20:03:11.408Z"
   },
   {
    "duration": 29,
    "start_time": "2021-12-02T20:03:11.476Z"
   },
   {
    "duration": 14,
    "start_time": "2021-12-02T20:03:11.508Z"
   },
   {
    "duration": 36,
    "start_time": "2021-12-02T20:03:11.524Z"
   },
   {
    "duration": 8,
    "start_time": "2021-12-02T20:03:11.563Z"
   },
   {
    "duration": 9,
    "start_time": "2021-12-02T20:03:11.574Z"
   },
   {
    "duration": 11,
    "start_time": "2021-12-02T20:03:11.587Z"
   },
   {
    "duration": 9,
    "start_time": "2021-12-02T20:03:11.601Z"
   },
   {
    "duration": 49,
    "start_time": "2021-12-02T20:03:11.612Z"
   },
   {
    "duration": 8,
    "start_time": "2021-12-02T20:03:11.664Z"
   },
   {
    "duration": 25,
    "start_time": "2021-12-02T20:03:11.675Z"
   },
   {
    "duration": 10,
    "start_time": "2021-12-02T20:03:11.702Z"
   },
   {
    "duration": 8,
    "start_time": "2021-12-02T20:03:11.714Z"
   },
   {
    "duration": 9,
    "start_time": "2021-12-02T20:03:11.760Z"
   },
   {
    "duration": 9,
    "start_time": "2021-12-02T20:03:11.772Z"
   },
   {
    "duration": 7,
    "start_time": "2021-12-02T20:03:11.784Z"
   },
   {
    "duration": 12,
    "start_time": "2021-12-02T20:03:11.794Z"
   },
   {
    "duration": 54,
    "start_time": "2021-12-02T20:03:11.809Z"
   },
   {
    "duration": 12,
    "start_time": "2021-12-02T20:03:11.866Z"
   },
   {
    "duration": 5,
    "start_time": "2021-12-02T20:03:11.880Z"
   },
   {
    "duration": 9,
    "start_time": "2021-12-02T20:03:11.888Z"
   },
   {
    "duration": 4,
    "start_time": "2021-12-02T20:03:11.903Z"
   },
   {
    "duration": 50,
    "start_time": "2021-12-02T20:03:11.911Z"
   },
   {
    "duration": 4,
    "start_time": "2021-12-02T20:03:11.964Z"
   },
   {
    "duration": 13,
    "start_time": "2021-12-02T20:03:11.971Z"
   },
   {
    "duration": 37,
    "start_time": "2021-12-02T20:03:11.986Z"
   },
   {
    "duration": 7,
    "start_time": "2021-12-02T20:03:12.026Z"
   },
   {
    "duration": 34,
    "start_time": "2021-12-02T20:03:12.036Z"
   },
   {
    "duration": 9,
    "start_time": "2021-12-02T20:03:12.073Z"
   },
   {
    "duration": 15,
    "start_time": "2021-12-02T20:03:12.084Z"
   },
   {
    "duration": 26,
    "start_time": "2021-12-02T20:03:12.102Z"
   },
   {
    "duration": 6,
    "start_time": "2021-12-02T20:03:12.131Z"
   },
   {
    "duration": 19,
    "start_time": "2021-12-02T20:03:12.140Z"
   },
   {
    "duration": 25,
    "start_time": "2021-12-02T20:03:12.161Z"
   },
   {
    "duration": 23,
    "start_time": "2021-12-02T20:03:12.189Z"
   },
   {
    "duration": 45,
    "start_time": "2021-12-02T20:03:12.214Z"
   },
   {
    "duration": 24,
    "start_time": "2021-12-02T20:03:12.261Z"
   },
   {
    "duration": 5018,
    "start_time": "2021-12-02T20:03:12.287Z"
   },
   {
    "duration": 4,
    "start_time": "2021-12-02T20:03:17.308Z"
   },
   {
    "duration": 14,
    "start_time": "2021-12-02T20:03:17.314Z"
   },
   {
    "duration": 31,
    "start_time": "2021-12-02T20:03:17.331Z"
   },
   {
    "duration": 7,
    "start_time": "2021-12-02T20:03:17.364Z"
   },
   {
    "duration": 12,
    "start_time": "2021-12-02T20:03:17.373Z"
   },
   {
    "duration": 9,
    "start_time": "2021-12-02T20:03:17.387Z"
   },
   {
    "duration": 17,
    "start_time": "2021-12-02T20:03:17.398Z"
   },
   {
    "duration": 44,
    "start_time": "2021-12-02T20:03:17.417Z"
   },
   {
    "duration": 30,
    "start_time": "2021-12-02T20:03:17.464Z"
   },
   {
    "duration": 19,
    "start_time": "2021-12-02T20:03:17.496Z"
   },
   {
    "duration": 6,
    "start_time": "2021-12-02T20:03:17.517Z"
   },
   {
    "duration": 12,
    "start_time": "2021-12-02T20:03:17.525Z"
   },
   {
    "duration": 20,
    "start_time": "2021-12-02T20:03:17.539Z"
   },
   {
    "duration": 9,
    "start_time": "2021-12-02T20:03:17.561Z"
   },
   {
    "duration": 22,
    "start_time": "2021-12-02T20:03:17.573Z"
   },
   {
    "duration": 13,
    "start_time": "2021-12-02T20:03:17.597Z"
   },
   {
    "duration": 4,
    "start_time": "2021-12-02T20:03:17.612Z"
   },
   {
    "duration": 49,
    "start_time": "2021-12-02T20:03:17.618Z"
   },
   {
    "duration": 31,
    "start_time": "2021-12-02T20:03:17.670Z"
   },
   {
    "duration": 5,
    "start_time": "2021-12-02T20:03:17.704Z"
   },
   {
    "duration": 13,
    "start_time": "2021-12-02T20:03:17.712Z"
   },
   {
    "duration": 52,
    "start_time": "2021-12-02T20:03:17.727Z"
   },
   {
    "duration": 22,
    "start_time": "2021-12-02T20:03:17.782Z"
   },
   {
    "duration": 5,
    "start_time": "2021-12-02T20:03:17.806Z"
   },
   {
    "duration": 46,
    "start_time": "2021-12-02T20:03:17.813Z"
   },
   {
    "duration": 22,
    "start_time": "2021-12-02T20:03:17.862Z"
   },
   {
    "duration": 5,
    "start_time": "2021-12-02T20:03:17.886Z"
   },
   {
    "duration": 13,
    "start_time": "2021-12-02T20:03:17.893Z"
   },
   {
    "duration": 58,
    "start_time": "2021-12-02T20:03:17.913Z"
   },
   {
    "duration": 5,
    "start_time": "2021-12-02T20:03:17.974Z"
   },
   {
    "duration": 13,
    "start_time": "2021-12-02T20:03:17.981Z"
   },
   {
    "duration": 6,
    "start_time": "2021-12-02T20:27:48.365Z"
   },
   {
    "duration": 11,
    "start_time": "2021-12-02T20:29:53.030Z"
   },
   {
    "duration": 11,
    "start_time": "2021-12-02T20:30:04.997Z"
   },
   {
    "duration": 609,
    "start_time": "2021-12-03T05:54:34.320Z"
   },
   {
    "duration": 417,
    "start_time": "2021-12-03T05:54:49.187Z"
   },
   {
    "duration": 2,
    "start_time": "2021-12-03T05:54:52.870Z"
   },
   {
    "duration": 54,
    "start_time": "2021-12-03T05:54:52.875Z"
   },
   {
    "duration": 21,
    "start_time": "2021-12-03T05:54:52.932Z"
   },
   {
    "duration": 12,
    "start_time": "2021-12-03T05:54:52.955Z"
   },
   {
    "duration": 6,
    "start_time": "2021-12-03T05:54:52.968Z"
   },
   {
    "duration": 36,
    "start_time": "2021-12-03T05:54:52.975Z"
   },
   {
    "duration": 6,
    "start_time": "2021-12-03T05:54:53.012Z"
   },
   {
    "duration": 6,
    "start_time": "2021-12-03T05:54:53.021Z"
   },
   {
    "duration": 5,
    "start_time": "2021-12-03T05:54:53.029Z"
   },
   {
    "duration": 7,
    "start_time": "2021-12-03T05:54:53.036Z"
   },
   {
    "duration": 6,
    "start_time": "2021-12-03T05:54:53.045Z"
   },
   {
    "duration": 67,
    "start_time": "2021-12-03T05:54:53.054Z"
   },
   {
    "duration": 7,
    "start_time": "2021-12-03T05:54:53.123Z"
   },
   {
    "duration": 7,
    "start_time": "2021-12-03T05:54:53.131Z"
   },
   {
    "duration": 7,
    "start_time": "2021-12-03T05:54:53.140Z"
   },
   {
    "duration": 7,
    "start_time": "2021-12-03T05:54:53.149Z"
   },
   {
    "duration": 6,
    "start_time": "2021-12-03T05:54:53.207Z"
   },
   {
    "duration": 11,
    "start_time": "2021-12-03T05:54:53.214Z"
   },
   {
    "duration": 7,
    "start_time": "2021-12-03T05:54:53.227Z"
   },
   {
    "duration": 9,
    "start_time": "2021-12-03T05:54:53.235Z"
   },
   {
    "duration": 4,
    "start_time": "2021-12-03T05:54:53.245Z"
   },
   {
    "duration": 6,
    "start_time": "2021-12-03T05:54:53.250Z"
   },
   {
    "duration": 3,
    "start_time": "2021-12-03T05:54:53.260Z"
   },
   {
    "duration": 4,
    "start_time": "2021-12-03T05:54:53.308Z"
   },
   {
    "duration": 8,
    "start_time": "2021-12-03T05:54:53.313Z"
   },
   {
    "duration": 7,
    "start_time": "2021-12-03T05:54:53.323Z"
   },
   {
    "duration": 19,
    "start_time": "2021-12-03T05:54:53.332Z"
   },
   {
    "duration": 6,
    "start_time": "2021-12-03T05:54:53.353Z"
   },
   {
    "duration": 5,
    "start_time": "2021-12-03T05:54:53.361Z"
   },
   {
    "duration": 7,
    "start_time": "2021-12-03T05:54:53.367Z"
   },
   {
    "duration": 38,
    "start_time": "2021-12-03T05:54:53.376Z"
   },
   {
    "duration": 15,
    "start_time": "2021-12-03T05:54:53.416Z"
   },
   {
    "duration": 5,
    "start_time": "2021-12-03T05:54:53.433Z"
   },
   {
    "duration": 5,
    "start_time": "2021-12-03T05:54:53.439Z"
   },
   {
    "duration": 18,
    "start_time": "2021-12-03T05:54:53.446Z"
   },
   {
    "duration": 57,
    "start_time": "2021-12-03T05:54:53.466Z"
   },
   {
    "duration": 26,
    "start_time": "2021-12-03T05:54:53.526Z"
   },
   {
    "duration": 22,
    "start_time": "2021-12-03T05:54:53.554Z"
   },
   {
    "duration": 3873,
    "start_time": "2021-12-03T05:54:53.578Z"
   },
   {
    "duration": 3,
    "start_time": "2021-12-03T05:54:57.454Z"
   },
   {
    "duration": 17,
    "start_time": "2021-12-03T05:54:57.459Z"
   },
   {
    "duration": 28,
    "start_time": "2021-12-03T05:54:57.478Z"
   },
   {
    "duration": 8,
    "start_time": "2021-12-03T05:54:57.508Z"
   },
   {
    "duration": 15,
    "start_time": "2021-12-03T05:54:57.518Z"
   },
   {
    "duration": 5,
    "start_time": "2021-12-03T05:54:57.535Z"
   },
   {
    "duration": 14,
    "start_time": "2021-12-03T05:54:57.542Z"
   },
   {
    "duration": 3,
    "start_time": "2021-12-03T05:54:57.558Z"
   },
   {
    "duration": 10,
    "start_time": "2021-12-03T05:54:57.563Z"
   },
   {
    "duration": 40,
    "start_time": "2021-12-03T05:54:57.575Z"
   },
   {
    "duration": 5,
    "start_time": "2021-12-03T05:54:57.617Z"
   },
   {
    "duration": 15,
    "start_time": "2021-12-03T05:54:57.624Z"
   },
   {
    "duration": 10,
    "start_time": "2021-12-03T05:54:57.641Z"
   },
   {
    "duration": 8,
    "start_time": "2021-12-03T05:54:57.653Z"
   },
   {
    "duration": 19,
    "start_time": "2021-12-03T05:54:57.662Z"
   },
   {
    "duration": 26,
    "start_time": "2021-12-03T05:54:57.683Z"
   },
   {
    "duration": 4,
    "start_time": "2021-12-03T05:54:57.711Z"
   },
   {
    "duration": 15,
    "start_time": "2021-12-03T05:54:57.717Z"
   },
   {
    "duration": 25,
    "start_time": "2021-12-03T05:54:57.734Z"
   },
   {
    "duration": 5,
    "start_time": "2021-12-03T05:54:57.761Z"
   },
   {
    "duration": 17,
    "start_time": "2021-12-03T05:54:57.768Z"
   },
   {
    "duration": 19,
    "start_time": "2021-12-03T05:54:57.807Z"
   },
   {
    "duration": 22,
    "start_time": "2021-12-03T05:54:57.828Z"
   },
   {
    "duration": 4,
    "start_time": "2021-12-03T05:54:57.852Z"
   },
   {
    "duration": 9,
    "start_time": "2021-12-03T05:54:57.857Z"
   },
   {
    "duration": 16,
    "start_time": "2021-12-03T05:54:57.868Z"
   },
   {
    "duration": 20,
    "start_time": "2021-12-03T05:54:57.886Z"
   },
   {
    "duration": 8,
    "start_time": "2021-12-03T05:54:57.908Z"
   },
   {
    "duration": 15,
    "start_time": "2021-12-03T05:54:57.921Z"
   },
   {
    "duration": 4,
    "start_time": "2021-12-03T05:54:57.938Z"
   },
   {
    "duration": 10,
    "start_time": "2021-12-03T05:54:57.943Z"
   },
   {
    "duration": 3810,
    "start_time": "2021-12-03T05:56:23.031Z"
   },
   {
    "duration": 4546,
    "start_time": "2021-12-03T05:57:04.672Z"
   },
   {
    "duration": 835,
    "start_time": "2021-12-03T19:36:14.692Z"
   },
   {
    "duration": 72,
    "start_time": "2021-12-03T19:36:15.530Z"
   },
   {
    "duration": 30,
    "start_time": "2021-12-03T19:36:15.605Z"
   },
   {
    "duration": 18,
    "start_time": "2021-12-03T19:36:15.638Z"
   },
   {
    "duration": 31,
    "start_time": "2021-12-03T19:36:15.658Z"
   },
   {
    "duration": 12,
    "start_time": "2021-12-03T19:36:15.695Z"
   },
   {
    "duration": 7,
    "start_time": "2021-12-03T19:36:15.710Z"
   },
   {
    "duration": 7,
    "start_time": "2021-12-03T19:36:15.721Z"
   },
   {
    "duration": 9,
    "start_time": "2021-12-03T19:36:15.731Z"
   },
   {
    "duration": 21,
    "start_time": "2021-12-03T19:36:15.783Z"
   },
   {
    "duration": 8,
    "start_time": "2021-12-03T19:36:15.809Z"
   },
   {
    "duration": 29,
    "start_time": "2021-12-03T19:36:15.820Z"
   },
   {
    "duration": 33,
    "start_time": "2021-12-03T19:36:15.852Z"
   },
   {
    "duration": 13,
    "start_time": "2021-12-03T19:36:15.889Z"
   },
   {
    "duration": 11,
    "start_time": "2021-12-03T19:36:15.904Z"
   },
   {
    "duration": 10,
    "start_time": "2021-12-03T19:36:15.917Z"
   },
   {
    "duration": 8,
    "start_time": "2021-12-03T19:36:15.930Z"
   },
   {
    "duration": 60,
    "start_time": "2021-12-03T19:36:15.940Z"
   },
   {
    "duration": 9,
    "start_time": "2021-12-03T19:36:16.002Z"
   },
   {
    "duration": 11,
    "start_time": "2021-12-03T19:36:16.014Z"
   },
   {
    "duration": 5,
    "start_time": "2021-12-03T19:36:16.028Z"
   },
   {
    "duration": 47,
    "start_time": "2021-12-03T19:36:16.035Z"
   },
   {
    "duration": 5,
    "start_time": "2021-12-03T19:36:16.095Z"
   },
   {
    "duration": 7,
    "start_time": "2021-12-03T19:36:16.103Z"
   },
   {
    "duration": 7,
    "start_time": "2021-12-03T19:36:16.113Z"
   },
   {
    "duration": 10,
    "start_time": "2021-12-03T19:36:16.123Z"
   },
   {
    "duration": 74,
    "start_time": "2021-12-03T19:36:16.136Z"
   },
   {
    "duration": 10,
    "start_time": "2021-12-03T19:36:16.213Z"
   },
   {
    "duration": 9,
    "start_time": "2021-12-03T19:36:16.226Z"
   },
   {
    "duration": 7,
    "start_time": "2021-12-03T19:36:16.238Z"
   },
   {
    "duration": 51,
    "start_time": "2021-12-03T19:36:16.248Z"
   },
   {
    "duration": 15,
    "start_time": "2021-12-03T19:36:16.302Z"
   },
   {
    "duration": 4,
    "start_time": "2021-12-03T19:36:16.320Z"
   },
   {
    "duration": 7,
    "start_time": "2021-12-03T19:36:16.326Z"
   },
   {
    "duration": 19,
    "start_time": "2021-12-03T19:36:16.335Z"
   },
   {
    "duration": 28,
    "start_time": "2021-12-03T19:36:16.383Z"
   },
   {
    "duration": 27,
    "start_time": "2021-12-03T19:36:16.413Z"
   },
   {
    "duration": 59,
    "start_time": "2021-12-03T19:36:16.443Z"
   },
   {
    "duration": 4854,
    "start_time": "2021-12-03T19:36:16.505Z"
   },
   {
    "duration": 4,
    "start_time": "2021-12-03T19:36:21.361Z"
   },
   {
    "duration": 22,
    "start_time": "2021-12-03T19:36:21.367Z"
   },
   {
    "duration": 17,
    "start_time": "2021-12-03T19:36:21.391Z"
   },
   {
    "duration": 13,
    "start_time": "2021-12-03T19:36:21.410Z"
   },
   {
    "duration": 16,
    "start_time": "2021-12-03T19:36:21.425Z"
   },
   {
    "duration": 48,
    "start_time": "2021-12-03T19:36:21.444Z"
   },
   {
    "duration": 28,
    "start_time": "2021-12-03T19:36:21.499Z"
   },
   {
    "duration": 5,
    "start_time": "2021-12-03T19:36:21.531Z"
   },
   {
    "duration": 17,
    "start_time": "2021-12-03T19:36:21.539Z"
   },
   {
    "duration": 41,
    "start_time": "2021-12-03T19:36:21.558Z"
   },
   {
    "duration": 7,
    "start_time": "2021-12-03T19:36:21.602Z"
   },
   {
    "duration": 12,
    "start_time": "2021-12-03T19:36:21.612Z"
   },
   {
    "duration": 5,
    "start_time": "2021-12-03T19:36:21.627Z"
   },
   {
    "duration": 12,
    "start_time": "2021-12-03T19:36:21.635Z"
   },
   {
    "duration": 63,
    "start_time": "2021-12-03T19:36:21.649Z"
   },
   {
    "duration": 10,
    "start_time": "2021-12-03T19:36:21.715Z"
   },
   {
    "duration": 4,
    "start_time": "2021-12-03T19:36:21.727Z"
   },
   {
    "duration": 19,
    "start_time": "2021-12-03T19:36:21.734Z"
   },
   {
    "duration": 61,
    "start_time": "2021-12-03T19:36:21.755Z"
   },
   {
    "duration": 7,
    "start_time": "2021-12-03T19:36:21.819Z"
   },
   {
    "duration": 12,
    "start_time": "2021-12-03T19:36:21.828Z"
   },
   {
    "duration": 72,
    "start_time": "2021-12-03T19:36:21.843Z"
   },
   {
    "duration": 22,
    "start_time": "2021-12-03T19:36:21.917Z"
   },
   {
    "duration": 5,
    "start_time": "2021-12-03T19:36:21.941Z"
   },
   {
    "duration": 12,
    "start_time": "2021-12-03T19:36:21.949Z"
   },
   {
    "duration": 24,
    "start_time": "2021-12-03T19:36:21.985Z"
   },
   {
    "duration": 10,
    "start_time": "2021-12-03T19:36:22.011Z"
   },
   {
    "duration": 16,
    "start_time": "2021-12-03T19:36:22.024Z"
   },
   {
    "duration": 62,
    "start_time": "2021-12-03T19:36:22.050Z"
   },
   {
    "duration": 6,
    "start_time": "2021-12-03T19:36:22.115Z"
   },
   {
    "duration": 18,
    "start_time": "2021-12-03T19:36:22.124Z"
   },
   {
    "duration": 862,
    "start_time": "2021-12-13T08:43:41.929Z"
   }
  ],
  "colab": {
   "collapsed_sections": [],
   "name": "2. Исследование надёжности заёмщиков",
   "provenance": []
  },
  "kernelspec": {
   "display_name": "Python 3",
   "language": "python",
   "name": "python3"
  },
  "language_info": {
   "codemirror_mode": {
    "name": "ipython",
    "version": 3
   },
   "file_extension": ".py",
   "mimetype": "text/x-python",
   "name": "python",
   "nbconvert_exporter": "python",
   "pygments_lexer": "ipython3",
   "version": "3.7.4"
  },
  "toc": {
   "base_numbering": 1,
   "nav_menu": {},
   "number_sections": true,
   "sideBar": true,
   "skip_h1_title": true,
   "title_cell": "Table of Contents",
   "title_sidebar": "Contents",
   "toc_cell": false,
   "toc_position": {},
   "toc_section_display": true,
   "toc_window_display": true
  }
 },
 "nbformat": 4,
 "nbformat_minor": 1
}
