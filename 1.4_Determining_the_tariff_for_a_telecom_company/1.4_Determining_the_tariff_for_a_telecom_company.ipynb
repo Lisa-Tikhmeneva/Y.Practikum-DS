{
 "cells": [
  {
   "cell_type": "markdown",
   "metadata": {
    "toc": true
   },
   "source": [
    "<h1>Table of Contents<span class=\"tocSkip\"></span></h1>\n",
    "<div class=\"toc\"><ul class=\"toc-item\"><li><span><a href=\"#Изучение-данных-из-файла\" data-toc-modified-id=\"Изучение-данных-из-файла-1\"><span class=\"toc-item-num\">1&nbsp;&nbsp;</span>Изучение данных из файла</a></span><ul class=\"toc-item\"><li><span><a href=\"#Таблица-tariffs-(информация-о-тарифах):\" data-toc-modified-id=\"Таблица-tariffs-(информация-о-тарифах):-1.1\"><span class=\"toc-item-num\">1.1&nbsp;&nbsp;</span>Таблица tariffs (информация о тарифах):</a></span></li><li><span><a href=\"#Таблица-users-(информация-о-пользователях):\" data-toc-modified-id=\"Таблица-users-(информация-о-пользователях):-1.2\"><span class=\"toc-item-num\">1.2&nbsp;&nbsp;</span>Таблица users (информация о пользователях):</a></span></li><li><span><a href=\"#Таблица-calls-(информация-о-звонках):\" data-toc-modified-id=\"Таблица-calls-(информация-о-звонках):-1.3\"><span class=\"toc-item-num\">1.3&nbsp;&nbsp;</span>Таблица calls (информация о звонках):</a></span></li><li><span><a href=\"#Таблица-internet-(информация-об-интернет-сессиях):\" data-toc-modified-id=\"Таблица-internet-(информация-об-интернет-сессиях):-1.4\"><span class=\"toc-item-num\">1.4&nbsp;&nbsp;</span>Таблица internet (информация об интернет-сессиях):</a></span></li><li><span><a href=\"#Таблица-messages-(информация-о-сообщениях):\" data-toc-modified-id=\"Таблица-messages-(информация-о-сообщениях):-1.5\"><span class=\"toc-item-num\">1.5&nbsp;&nbsp;</span>Таблица messages (информация о сообщениях):</a></span></li><li><span><a href=\"#Вывод\" data-toc-modified-id=\"Вывод-1.6\"><span class=\"toc-item-num\">1.6&nbsp;&nbsp;</span>Вывод</a></span></li></ul></li><li><span><a href=\"#Предобработка-данных,-приведение-типов\" data-toc-modified-id=\"Предобработка-данных,-приведение-типов-2\"><span class=\"toc-item-num\">2&nbsp;&nbsp;</span>Предобработка данных, приведение типов</a></span><ul class=\"toc-item\"><li><span><a href=\"#таблица-df_users:\" data-toc-modified-id=\"таблица-df_users:-2.1\"><span class=\"toc-item-num\">2.1&nbsp;&nbsp;</span>таблица df_users:</a></span></li><li><span><a href=\"#таблица-df_calls:\" data-toc-modified-id=\"таблица-df_calls:-2.2\"><span class=\"toc-item-num\">2.2&nbsp;&nbsp;</span>таблица df_calls:</a></span></li><li><span><a href=\"#таблица-df_internet:\" data-toc-modified-id=\"таблица-df_internet:-2.3\"><span class=\"toc-item-num\">2.3&nbsp;&nbsp;</span>таблица df_internet:</a></span></li><li><span><a href=\"#таблица-df_messages:\" data-toc-modified-id=\"таблица-df_messages:-2.4\"><span class=\"toc-item-num\">2.4&nbsp;&nbsp;</span>таблица df_messages:</a></span></li><li><span><a href=\"#Вывод\" data-toc-modified-id=\"Вывод-2.5\"><span class=\"toc-item-num\">2.5&nbsp;&nbsp;</span>Вывод</a></span></li></ul></li><li><span><a href=\"#Добавление-данных\" data-toc-modified-id=\"Добавление-данных-3\"><span class=\"toc-item-num\">3&nbsp;&nbsp;</span>Добавление данных</a></span><ul class=\"toc-item\"><li><span><a href=\"#Количество-гигабайт,-включенных-в-абонентскую-плату\" data-toc-modified-id=\"Количество-гигабайт,-включенных-в-абонентскую-плату-3.1\"><span class=\"toc-item-num\">3.1&nbsp;&nbsp;</span>Количество гигабайт, включенных в абонентскую плату</a></span></li><li><span><a href=\"#количество-сделанных-звонков-и-израсходованных-минут-разговора-по-месяцам\" data-toc-modified-id=\"количество-сделанных-звонков-и-израсходованных-минут-разговора-по-месяцам-3.2\"><span class=\"toc-item-num\">3.2&nbsp;&nbsp;</span>количество сделанных звонков и израсходованных минут разговора по месяцам</a></span></li><li><span><a href=\"#количество-отправленных-сообщений-по-месяцам\" data-toc-modified-id=\"количество-отправленных-сообщений-по-месяцам-3.3\"><span class=\"toc-item-num\">3.3&nbsp;&nbsp;</span>количество отправленных сообщений по месяцам</a></span></li><li><span><a href=\"#объем-израсходованного-интернет-трафика-по-месяцам;\" data-toc-modified-id=\"объем-израсходованного-интернет-трафика-по-месяцам;-3.4\"><span class=\"toc-item-num\">3.4&nbsp;&nbsp;</span>объем израсходованного интернет-трафика по месяцам;</a></span></li><li><span><a href=\"#помесячная-выручка-с-каждого-пользователя\" data-toc-modified-id=\"помесячная-выручка-с-каждого-пользователя-3.5\"><span class=\"toc-item-num\">3.5&nbsp;&nbsp;</span>помесячная выручка с каждого пользователя</a></span></li><li><span><a href=\"#Вывод\" data-toc-modified-id=\"Вывод-3.6\"><span class=\"toc-item-num\">3.6&nbsp;&nbsp;</span>Вывод</a></span></li></ul></li><li><span><a href=\"#Шаг-3.-Проанализируйте-данные\" data-toc-modified-id=\"Шаг-3.-Проанализируйте-данные-4\"><span class=\"toc-item-num\">4&nbsp;&nbsp;</span>Шаг 3. Проанализируйте данные</a></span><ul class=\"toc-item\"><li><span><a href=\"#Разговоры\" data-toc-modified-id=\"Разговоры-4.1\"><span class=\"toc-item-num\">4.1&nbsp;&nbsp;</span>Разговоры</a></span></li><li><span><a href=\"#Сообщения\" data-toc-modified-id=\"Сообщения-4.2\"><span class=\"toc-item-num\">4.2&nbsp;&nbsp;</span>Сообщения</a></span></li><li><span><a href=\"#Интернет\" data-toc-modified-id=\"Интернет-4.3\"><span class=\"toc-item-num\">4.3&nbsp;&nbsp;</span>Интернет</a></span></li></ul></li><li><span><a href=\"#Проверьте-гипотезы\" data-toc-modified-id=\"Проверьте-гипотезы-5\"><span class=\"toc-item-num\">5&nbsp;&nbsp;</span>Проверьте гипотезы</a></span><ul class=\"toc-item\"><li><span><a href=\"#средняя-выручка-пользователей-тарифов-«Ультра»-и-«Смарт»-различаются\" data-toc-modified-id=\"средняя-выручка-пользователей-тарифов-«Ультра»-и-«Смарт»-различаются-5.1\"><span class=\"toc-item-num\">5.1&nbsp;&nbsp;</span>средняя выручка пользователей тарифов «Ультра» и «Смарт» различаются</a></span></li><li><span><a href=\"#средняя-выручка-пользователей-из-Москвы-отличается-от-выручки-пользователей-из-других-регионов\" data-toc-modified-id=\"средняя-выручка-пользователей-из-Москвы-отличается-от-выручки-пользователей-из-других-регионов-5.2\"><span class=\"toc-item-num\">5.2&nbsp;&nbsp;</span>средняя выручка пользователей из Москвы отличается от выручки пользователей из других регионов</a></span><ul class=\"toc-item\"><li><span><a href=\"#Вывод\" data-toc-modified-id=\"Вывод-5.2.1\"><span class=\"toc-item-num\">5.2.1&nbsp;&nbsp;</span>Вывод</a></span></li></ul></li></ul></li><li><span><a href=\"#Общий-вывод\" data-toc-modified-id=\"Общий-вывод-6\"><span class=\"toc-item-num\">6&nbsp;&nbsp;</span>Общий вывод</a></span></li></ul></div>"
   ]
  },
  {
   "cell_type": "markdown",
   "metadata": {},
   "source": [
    "#  Определение тарифа телеком-компании для рекламы\n",
    "\n",
    "Клиентам предлагают два тарифных плана: «Смарт» и «Ультра». Чтобы скорректировать рекламный бюджет, необходимо понять, какой тариф приносит больше денег.\n",
    "\n",
    "Сделаем предварительный анализ тарифов на небольшой выборке клиентов. Есть данные 500 пользователей: кто они, откуда, каким тарифом пользуются, сколько звонков и сообщений каждый отправил за 2018 год. Нужно проанализировать поведение клиентов и сделать вывод — какой тариф лучше.\n",
    "# Описание тарифов\n",
    "# Тариф «Смарт»\n",
    "1.\tЕжемесячная плата: 550 рублей\n",
    "2.\tВключено 500 минут разговора, 50 сообщений и 15 Гб интернет-трафика\n",
    "3.\tСтоимость услуг сверх тарифного пакета: 1. минута разговора: 3 рубля; 2. сообщение: 3 рубля; 3. 1 Гб интернет-трафика: 200 рублей.\n",
    "# Тариф «Ультра»\n",
    "1.\tЕжемесячная плата: 1950 рублей\n",
    "2.\tВключено 3000 минут разговора, 1000 сообщений и 30 Гб интернет-трафика\n",
    "3.\tСтоимость услуг сверх тарифного пакета: 1. минута разговора: 1 рубль; 2. сообщение: 1 рубль; 3. 1 Гб интернет-трафика: 150 рублей\n",
    "# Примечание: \n",
    "Компания всегда округляет секунды до минут, а мегабайты — до гигабайт. Каждый звонок округляется отдельно: даже если он длился всего 1 секунду, будет засчитан как 1 минута.\n",
    "Для веб-трафика отдельные сессии не считаются. Вместо этого общая сумма за месяц округляется в бо́льшую сторону. Если абонент использует 1025 мегабайт в этом месяце, с него возьмут плату за 2 гигабайта.\n",
    "\n",
    "В данных есть звонки с нулевой продолжительностью. Это не ошибка: нулями обозначены пропущенные звонки, поэтому их не нужно удалять.\n"
   ]
  },
  {
   "cell_type": "markdown",
   "metadata": {},
   "source": [
    "## Изучение данных из файла"
   ]
  },
  {
   "cell_type": "markdown",
   "metadata": {},
   "source": [
    "Составим первое представление о данных."
   ]
  },
  {
   "cell_type": "code",
   "execution_count": 1,
   "metadata": {},
   "outputs": [],
   "source": [
    "import pandas as pd\n",
    "import numpy as np\n",
    "import seaborn as sns\n",
    "from scipy import stats as st\n",
    "import matplotlib.pyplot as plt "
   ]
  },
  {
   "cell_type": "code",
   "execution_count": 2,
   "metadata": {},
   "outputs": [],
   "source": [
    "pd.set_option('display.max_columns', None)"
   ]
  },
  {
   "cell_type": "code",
   "execution_count": 3,
   "metadata": {},
   "outputs": [],
   "source": [
    "df_tariffs = pd.read_csv('/datasets/tariffs.csv')"
   ]
  },
  {
   "cell_type": "code",
   "execution_count": 4,
   "metadata": {},
   "outputs": [],
   "source": [
    "df_users = pd.read_csv('/datasets/users.csv')"
   ]
  },
  {
   "cell_type": "code",
   "execution_count": 5,
   "metadata": {},
   "outputs": [],
   "source": [
    "df_calls = pd.read_csv('/datasets/calls.csv')"
   ]
  },
  {
   "cell_type": "code",
   "execution_count": 6,
   "metadata": {},
   "outputs": [],
   "source": [
    "df_internet = pd.read_csv('/datasets/internet.csv', index_col=0)"
   ]
  },
  {
   "cell_type": "code",
   "execution_count": 7,
   "metadata": {},
   "outputs": [],
   "source": [
    "df_messages = pd.read_csv('/datasets/messages.csv')"
   ]
  },
  {
   "cell_type": "markdown",
   "metadata": {},
   "source": [
    "Составим первое представление о таблицах:"
   ]
  },
  {
   "cell_type": "markdown",
   "metadata": {},
   "source": [
    "### Таблица tariffs (информация о тарифах):"
   ]
  },
  {
   "cell_type": "code",
   "execution_count": 8,
   "metadata": {
    "scrolled": true
   },
   "outputs": [
    {
     "data": {
      "text/html": [
       "<div>\n",
       "<style scoped>\n",
       "    .dataframe tbody tr th:only-of-type {\n",
       "        vertical-align: middle;\n",
       "    }\n",
       "\n",
       "    .dataframe tbody tr th {\n",
       "        vertical-align: top;\n",
       "    }\n",
       "\n",
       "    .dataframe thead th {\n",
       "        text-align: right;\n",
       "    }\n",
       "</style>\n",
       "<table border=\"1\" class=\"dataframe\">\n",
       "  <thead>\n",
       "    <tr style=\"text-align: right;\">\n",
       "      <th></th>\n",
       "      <th>messages_included</th>\n",
       "      <th>mb_per_month_included</th>\n",
       "      <th>minutes_included</th>\n",
       "      <th>rub_monthly_fee</th>\n",
       "      <th>rub_per_gb</th>\n",
       "      <th>rub_per_message</th>\n",
       "      <th>rub_per_minute</th>\n",
       "      <th>tariff_name</th>\n",
       "    </tr>\n",
       "  </thead>\n",
       "  <tbody>\n",
       "    <tr>\n",
       "      <td>0</td>\n",
       "      <td>50</td>\n",
       "      <td>15360</td>\n",
       "      <td>500</td>\n",
       "      <td>550</td>\n",
       "      <td>200</td>\n",
       "      <td>3</td>\n",
       "      <td>3</td>\n",
       "      <td>smart</td>\n",
       "    </tr>\n",
       "    <tr>\n",
       "      <td>1</td>\n",
       "      <td>1000</td>\n",
       "      <td>30720</td>\n",
       "      <td>3000</td>\n",
       "      <td>1950</td>\n",
       "      <td>150</td>\n",
       "      <td>1</td>\n",
       "      <td>1</td>\n",
       "      <td>ultra</td>\n",
       "    </tr>\n",
       "  </tbody>\n",
       "</table>\n",
       "</div>"
      ],
      "text/plain": [
       "   messages_included  mb_per_month_included  minutes_included  \\\n",
       "0                 50                  15360               500   \n",
       "1               1000                  30720              3000   \n",
       "\n",
       "   rub_monthly_fee  rub_per_gb  rub_per_message  rub_per_minute tariff_name  \n",
       "0              550         200                3               3       smart  \n",
       "1             1950         150                1               1       ultra  "
      ]
     },
     "execution_count": 8,
     "metadata": {},
     "output_type": "execute_result"
    }
   ],
   "source": [
    "df_tariffs.head()"
   ]
  },
  {
   "cell_type": "markdown",
   "metadata": {},
   "source": [
    "- `tariff_name` — название тарифа\n",
    "- `rub_monthly_fee` — ежемесячная абонентская плата в рублях\n",
    "- `minutes_included` — количество минут разговора в месяц, включённых в абонентскую плату\n",
    "- `messages_included` — количество сообщений в месяц, включённых в абонентскую плату\n",
    "- `mb_per_month_included` — объём интернет-трафика, включённого в абонентскую плату (в мегабайтах)\n",
    "- `rub_per_minute` — стоимость минуты разговора сверх тарифного пакета (например, если в тарифе 100 минут разговора в месяц, то со 101 минуты будет взиматься плата)\n",
    "- `rub_per_message` — стоимость отправки сообщения сверх тарифного пакета\n",
    "- `rub_per_gb` — стоимость дополнительного гигабайта интернет-трафика сверх тарифного пакета (1 гигабайт = 1024 мегабайта)\n"
   ]
  },
  {
   "cell_type": "code",
   "execution_count": 9,
   "metadata": {
    "scrolled": true
   },
   "outputs": [
    {
     "name": "stdout",
     "output_type": "stream",
     "text": [
      "<class 'pandas.core.frame.DataFrame'>\n",
      "RangeIndex: 2 entries, 0 to 1\n",
      "Data columns (total 8 columns):\n",
      "messages_included        2 non-null int64\n",
      "mb_per_month_included    2 non-null int64\n",
      "minutes_included         2 non-null int64\n",
      "rub_monthly_fee          2 non-null int64\n",
      "rub_per_gb               2 non-null int64\n",
      "rub_per_message          2 non-null int64\n",
      "rub_per_minute           2 non-null int64\n",
      "tariff_name              2 non-null object\n",
      "dtypes: int64(7), object(1)\n",
      "memory usage: 256.0+ bytes\n"
     ]
    }
   ],
   "source": [
    "df_tariffs.info()"
   ]
  },
  {
   "cell_type": "markdown",
   "metadata": {},
   "source": [
    "С этой таблицей всё в порядке, предобработка данных не требуется. Для дальнейших расчётов добавим столбец с объёмом интернет-трафика, включённого в абонентскую плату в гигабайтах.\n",
    "\n",
    "`mb_per_month_included` — объём интернет-трафика, включённого в абонентскую плату (в мегабайтах) равен 15360 и 30720 мегабайт, что равно 15ти и 30ти гигабайтам."
   ]
  },
  {
   "cell_type": "markdown",
   "metadata": {},
   "source": [
    "### Таблица users (информация о пользователях):"
   ]
  },
  {
   "cell_type": "code",
   "execution_count": 10,
   "metadata": {
    "scrolled": true
   },
   "outputs": [
    {
     "data": {
      "text/html": [
       "<div>\n",
       "<style scoped>\n",
       "    .dataframe tbody tr th:only-of-type {\n",
       "        vertical-align: middle;\n",
       "    }\n",
       "\n",
       "    .dataframe tbody tr th {\n",
       "        vertical-align: top;\n",
       "    }\n",
       "\n",
       "    .dataframe thead th {\n",
       "        text-align: right;\n",
       "    }\n",
       "</style>\n",
       "<table border=\"1\" class=\"dataframe\">\n",
       "  <thead>\n",
       "    <tr style=\"text-align: right;\">\n",
       "      <th></th>\n",
       "      <th>user_id</th>\n",
       "      <th>age</th>\n",
       "      <th>churn_date</th>\n",
       "      <th>city</th>\n",
       "      <th>first_name</th>\n",
       "      <th>last_name</th>\n",
       "      <th>reg_date</th>\n",
       "      <th>tariff</th>\n",
       "    </tr>\n",
       "  </thead>\n",
       "  <tbody>\n",
       "    <tr>\n",
       "      <td>0</td>\n",
       "      <td>1000</td>\n",
       "      <td>52</td>\n",
       "      <td>NaN</td>\n",
       "      <td>Краснодар</td>\n",
       "      <td>Рафаил</td>\n",
       "      <td>Верещагин</td>\n",
       "      <td>2018-05-25</td>\n",
       "      <td>ultra</td>\n",
       "    </tr>\n",
       "    <tr>\n",
       "      <td>1</td>\n",
       "      <td>1001</td>\n",
       "      <td>41</td>\n",
       "      <td>NaN</td>\n",
       "      <td>Москва</td>\n",
       "      <td>Иван</td>\n",
       "      <td>Ежов</td>\n",
       "      <td>2018-11-01</td>\n",
       "      <td>smart</td>\n",
       "    </tr>\n",
       "    <tr>\n",
       "      <td>2</td>\n",
       "      <td>1002</td>\n",
       "      <td>59</td>\n",
       "      <td>NaN</td>\n",
       "      <td>Стерлитамак</td>\n",
       "      <td>Евгений</td>\n",
       "      <td>Абрамович</td>\n",
       "      <td>2018-06-17</td>\n",
       "      <td>smart</td>\n",
       "    </tr>\n",
       "    <tr>\n",
       "      <td>3</td>\n",
       "      <td>1003</td>\n",
       "      <td>23</td>\n",
       "      <td>NaN</td>\n",
       "      <td>Москва</td>\n",
       "      <td>Белла</td>\n",
       "      <td>Белякова</td>\n",
       "      <td>2018-08-17</td>\n",
       "      <td>ultra</td>\n",
       "    </tr>\n",
       "    <tr>\n",
       "      <td>4</td>\n",
       "      <td>1004</td>\n",
       "      <td>68</td>\n",
       "      <td>NaN</td>\n",
       "      <td>Новокузнецк</td>\n",
       "      <td>Татьяна</td>\n",
       "      <td>Авдеенко</td>\n",
       "      <td>2018-05-14</td>\n",
       "      <td>ultra</td>\n",
       "    </tr>\n",
       "    <tr>\n",
       "      <td>5</td>\n",
       "      <td>1005</td>\n",
       "      <td>67</td>\n",
       "      <td>NaN</td>\n",
       "      <td>Набережные Челны</td>\n",
       "      <td>Афанасий</td>\n",
       "      <td>Горлов</td>\n",
       "      <td>2018-01-25</td>\n",
       "      <td>smart</td>\n",
       "    </tr>\n",
       "    <tr>\n",
       "      <td>6</td>\n",
       "      <td>1006</td>\n",
       "      <td>21</td>\n",
       "      <td>NaN</td>\n",
       "      <td>Ульяновск</td>\n",
       "      <td>Леонид</td>\n",
       "      <td>Ермолаев</td>\n",
       "      <td>2018-02-26</td>\n",
       "      <td>smart</td>\n",
       "    </tr>\n",
       "    <tr>\n",
       "      <td>7</td>\n",
       "      <td>1007</td>\n",
       "      <td>65</td>\n",
       "      <td>NaN</td>\n",
       "      <td>Москва</td>\n",
       "      <td>Юна</td>\n",
       "      <td>Березина</td>\n",
       "      <td>2018-04-19</td>\n",
       "      <td>smart</td>\n",
       "    </tr>\n",
       "    <tr>\n",
       "      <td>8</td>\n",
       "      <td>1008</td>\n",
       "      <td>63</td>\n",
       "      <td>NaN</td>\n",
       "      <td>Челябинск</td>\n",
       "      <td>Рустэм</td>\n",
       "      <td>Пономарёв</td>\n",
       "      <td>2018-12-19</td>\n",
       "      <td>smart</td>\n",
       "    </tr>\n",
       "    <tr>\n",
       "      <td>9</td>\n",
       "      <td>1009</td>\n",
       "      <td>24</td>\n",
       "      <td>NaN</td>\n",
       "      <td>Пермь</td>\n",
       "      <td>Василиса</td>\n",
       "      <td>Блинова</td>\n",
       "      <td>2018-03-22</td>\n",
       "      <td>smart</td>\n",
       "    </tr>\n",
       "  </tbody>\n",
       "</table>\n",
       "</div>"
      ],
      "text/plain": [
       "   user_id  age churn_date              city first_name  last_name  \\\n",
       "0     1000   52        NaN         Краснодар     Рафаил  Верещагин   \n",
       "1     1001   41        NaN            Москва       Иван       Ежов   \n",
       "2     1002   59        NaN       Стерлитамак    Евгений  Абрамович   \n",
       "3     1003   23        NaN            Москва      Белла   Белякова   \n",
       "4     1004   68        NaN       Новокузнецк    Татьяна   Авдеенко   \n",
       "5     1005   67        NaN  Набережные Челны   Афанасий     Горлов   \n",
       "6     1006   21        NaN         Ульяновск     Леонид   Ермолаев   \n",
       "7     1007   65        NaN            Москва        Юна   Березина   \n",
       "8     1008   63        NaN         Челябинск     Рустэм  Пономарёв   \n",
       "9     1009   24        NaN             Пермь   Василиса    Блинова   \n",
       "\n",
       "     reg_date tariff  \n",
       "0  2018-05-25  ultra  \n",
       "1  2018-11-01  smart  \n",
       "2  2018-06-17  smart  \n",
       "3  2018-08-17  ultra  \n",
       "4  2018-05-14  ultra  \n",
       "5  2018-01-25  smart  \n",
       "6  2018-02-26  smart  \n",
       "7  2018-04-19  smart  \n",
       "8  2018-12-19  smart  \n",
       "9  2018-03-22  smart  "
      ]
     },
     "execution_count": 10,
     "metadata": {},
     "output_type": "execute_result"
    }
   ],
   "source": [
    "df_users.head(10)"
   ]
  },
  {
   "cell_type": "markdown",
   "metadata": {},
   "source": [
    "- `user_id` — уникальный идентификатор пользователя\n",
    "- `first_name` — имя пользователя\n",
    "- `last_name` — фамилия пользователя\n",
    "- `age` — возраст пользователя (годы)\n",
    "- `reg_date` — дата подключения тарифа (день, месяц, год)\n",
    "- `churn_date` — дата прекращения пользования тарифом (если значение пропущено, то - тариф ещё действовал на момент выгрузки данных)\n",
    "- `city` — город проживания пользователя\n",
    "- `tarif` — название тарифного плана\n"
   ]
  },
  {
   "cell_type": "code",
   "execution_count": 11,
   "metadata": {
    "scrolled": false
   },
   "outputs": [
    {
     "name": "stdout",
     "output_type": "stream",
     "text": [
      "<class 'pandas.core.frame.DataFrame'>\n",
      "RangeIndex: 500 entries, 0 to 499\n",
      "Data columns (total 8 columns):\n",
      "user_id       500 non-null int64\n",
      "age           500 non-null int64\n",
      "churn_date    38 non-null object\n",
      "city          500 non-null object\n",
      "first_name    500 non-null object\n",
      "last_name     500 non-null object\n",
      "reg_date      500 non-null object\n",
      "tariff        500 non-null object\n",
      "dtypes: int64(2), object(6)\n",
      "memory usage: 31.4+ KB\n"
     ]
    }
   ],
   "source": [
    "df_users.info()"
   ]
  },
  {
   "cell_type": "markdown",
   "metadata": {},
   "source": [
    "churn_date — дата прекращения пользования тарифом - имеет тип данных object, стоит перевести в тип datetime.\n",
    "\n",
    "reg_date — дата подключения тарифа (день, месяц, год) переведём в формат datetime.\n",
    "\n",
    "city — город проживания пользователя - посмотрим, какие значения встречаются в этом столбце.\n"
   ]
  },
  {
   "cell_type": "markdown",
   "metadata": {},
   "source": [
    "### Таблица calls (информация о звонках):"
   ]
  },
  {
   "cell_type": "code",
   "execution_count": 12,
   "metadata": {
    "scrolled": true
   },
   "outputs": [
    {
     "data": {
      "text/html": [
       "<div>\n",
       "<style scoped>\n",
       "    .dataframe tbody tr th:only-of-type {\n",
       "        vertical-align: middle;\n",
       "    }\n",
       "\n",
       "    .dataframe tbody tr th {\n",
       "        vertical-align: top;\n",
       "    }\n",
       "\n",
       "    .dataframe thead th {\n",
       "        text-align: right;\n",
       "    }\n",
       "</style>\n",
       "<table border=\"1\" class=\"dataframe\">\n",
       "  <thead>\n",
       "    <tr style=\"text-align: right;\">\n",
       "      <th></th>\n",
       "      <th>id</th>\n",
       "      <th>call_date</th>\n",
       "      <th>duration</th>\n",
       "      <th>user_id</th>\n",
       "    </tr>\n",
       "  </thead>\n",
       "  <tbody>\n",
       "    <tr>\n",
       "      <td>0</td>\n",
       "      <td>1000_0</td>\n",
       "      <td>2018-07-25</td>\n",
       "      <td>0.00</td>\n",
       "      <td>1000</td>\n",
       "    </tr>\n",
       "    <tr>\n",
       "      <td>1</td>\n",
       "      <td>1000_1</td>\n",
       "      <td>2018-08-17</td>\n",
       "      <td>0.00</td>\n",
       "      <td>1000</td>\n",
       "    </tr>\n",
       "    <tr>\n",
       "      <td>2</td>\n",
       "      <td>1000_2</td>\n",
       "      <td>2018-06-11</td>\n",
       "      <td>2.85</td>\n",
       "      <td>1000</td>\n",
       "    </tr>\n",
       "    <tr>\n",
       "      <td>3</td>\n",
       "      <td>1000_3</td>\n",
       "      <td>2018-09-21</td>\n",
       "      <td>13.80</td>\n",
       "      <td>1000</td>\n",
       "    </tr>\n",
       "    <tr>\n",
       "      <td>4</td>\n",
       "      <td>1000_4</td>\n",
       "      <td>2018-12-15</td>\n",
       "      <td>5.18</td>\n",
       "      <td>1000</td>\n",
       "    </tr>\n",
       "    <tr>\n",
       "      <td>5</td>\n",
       "      <td>1000_5</td>\n",
       "      <td>2018-11-02</td>\n",
       "      <td>0.00</td>\n",
       "      <td>1000</td>\n",
       "    </tr>\n",
       "    <tr>\n",
       "      <td>6</td>\n",
       "      <td>1000_6</td>\n",
       "      <td>2018-10-18</td>\n",
       "      <td>0.00</td>\n",
       "      <td>1000</td>\n",
       "    </tr>\n",
       "    <tr>\n",
       "      <td>7</td>\n",
       "      <td>1000_7</td>\n",
       "      <td>2018-08-22</td>\n",
       "      <td>18.31</td>\n",
       "      <td>1000</td>\n",
       "    </tr>\n",
       "    <tr>\n",
       "      <td>8</td>\n",
       "      <td>1000_8</td>\n",
       "      <td>2018-09-15</td>\n",
       "      <td>18.44</td>\n",
       "      <td>1000</td>\n",
       "    </tr>\n",
       "    <tr>\n",
       "      <td>9</td>\n",
       "      <td>1000_9</td>\n",
       "      <td>2018-08-15</td>\n",
       "      <td>0.00</td>\n",
       "      <td>1000</td>\n",
       "    </tr>\n",
       "  </tbody>\n",
       "</table>\n",
       "</div>"
      ],
      "text/plain": [
       "       id   call_date  duration  user_id\n",
       "0  1000_0  2018-07-25      0.00     1000\n",
       "1  1000_1  2018-08-17      0.00     1000\n",
       "2  1000_2  2018-06-11      2.85     1000\n",
       "3  1000_3  2018-09-21     13.80     1000\n",
       "4  1000_4  2018-12-15      5.18     1000\n",
       "5  1000_5  2018-11-02      0.00     1000\n",
       "6  1000_6  2018-10-18      0.00     1000\n",
       "7  1000_7  2018-08-22     18.31     1000\n",
       "8  1000_8  2018-09-15     18.44     1000\n",
       "9  1000_9  2018-08-15      0.00     1000"
      ]
     },
     "execution_count": 12,
     "metadata": {},
     "output_type": "execute_result"
    }
   ],
   "source": [
    "df_calls.head(10)"
   ]
  },
  {
   "cell_type": "markdown",
   "metadata": {},
   "source": [
    "- `id` — уникальный номер звонка\n",
    "- `call_date` — дата звонка\n",
    "- `duration` — длительность звонка в минутах\n",
    "- `user_id` — идентификатор пользователя, сделавшего звонок"
   ]
  },
  {
   "cell_type": "code",
   "execution_count": 13,
   "metadata": {
    "scrolled": false
   },
   "outputs": [
    {
     "name": "stdout",
     "output_type": "stream",
     "text": [
      "<class 'pandas.core.frame.DataFrame'>\n",
      "RangeIndex: 202607 entries, 0 to 202606\n",
      "Data columns (total 4 columns):\n",
      "id           202607 non-null object\n",
      "call_date    202607 non-null object\n",
      "duration     202607 non-null float64\n",
      "user_id      202607 non-null int64\n",
      "dtypes: float64(1), int64(1), object(2)\n",
      "memory usage: 6.2+ MB\n"
     ]
    }
   ],
   "source": [
    "df_calls.info()"
   ]
  },
  {
   "cell_type": "markdown",
   "metadata": {},
   "source": [
    "Пропущенных значений нет, столбец call_date переведём в формат datetime, остальные форматы представлены оптимально.\n",
    "\n",
    "`Каждый звонок округляется отдельно: даже если он длился всего 1 секунду, будет засчитан как 1 минута.`\n",
    "\n",
    "Округлим значения в столбце duration в большую стоорону, переведём формат столбца в тип int."
   ]
  },
  {
   "cell_type": "markdown",
   "metadata": {},
   "source": [
    "### Таблица internet (информация об интернет-сессиях):"
   ]
  },
  {
   "cell_type": "code",
   "execution_count": 14,
   "metadata": {
    "scrolled": false
   },
   "outputs": [
    {
     "data": {
      "text/html": [
       "<div>\n",
       "<style scoped>\n",
       "    .dataframe tbody tr th:only-of-type {\n",
       "        vertical-align: middle;\n",
       "    }\n",
       "\n",
       "    .dataframe tbody tr th {\n",
       "        vertical-align: top;\n",
       "    }\n",
       "\n",
       "    .dataframe thead th {\n",
       "        text-align: right;\n",
       "    }\n",
       "</style>\n",
       "<table border=\"1\" class=\"dataframe\">\n",
       "  <thead>\n",
       "    <tr style=\"text-align: right;\">\n",
       "      <th></th>\n",
       "      <th>id</th>\n",
       "      <th>mb_used</th>\n",
       "      <th>session_date</th>\n",
       "      <th>user_id</th>\n",
       "    </tr>\n",
       "  </thead>\n",
       "  <tbody>\n",
       "    <tr>\n",
       "      <td>0</td>\n",
       "      <td>1000_0</td>\n",
       "      <td>112.95</td>\n",
       "      <td>2018-11-25</td>\n",
       "      <td>1000</td>\n",
       "    </tr>\n",
       "    <tr>\n",
       "      <td>1</td>\n",
       "      <td>1000_1</td>\n",
       "      <td>1052.81</td>\n",
       "      <td>2018-09-07</td>\n",
       "      <td>1000</td>\n",
       "    </tr>\n",
       "    <tr>\n",
       "      <td>2</td>\n",
       "      <td>1000_2</td>\n",
       "      <td>1197.26</td>\n",
       "      <td>2018-06-25</td>\n",
       "      <td>1000</td>\n",
       "    </tr>\n",
       "    <tr>\n",
       "      <td>3</td>\n",
       "      <td>1000_3</td>\n",
       "      <td>550.27</td>\n",
       "      <td>2018-08-22</td>\n",
       "      <td>1000</td>\n",
       "    </tr>\n",
       "    <tr>\n",
       "      <td>4</td>\n",
       "      <td>1000_4</td>\n",
       "      <td>302.56</td>\n",
       "      <td>2018-09-24</td>\n",
       "      <td>1000</td>\n",
       "    </tr>\n",
       "    <tr>\n",
       "      <td>5</td>\n",
       "      <td>1000_5</td>\n",
       "      <td>399.97</td>\n",
       "      <td>2018-10-02</td>\n",
       "      <td>1000</td>\n",
       "    </tr>\n",
       "    <tr>\n",
       "      <td>6</td>\n",
       "      <td>1000_6</td>\n",
       "      <td>540.08</td>\n",
       "      <td>2018-09-07</td>\n",
       "      <td>1000</td>\n",
       "    </tr>\n",
       "    <tr>\n",
       "      <td>7</td>\n",
       "      <td>1000_7</td>\n",
       "      <td>415.70</td>\n",
       "      <td>2018-07-11</td>\n",
       "      <td>1000</td>\n",
       "    </tr>\n",
       "    <tr>\n",
       "      <td>8</td>\n",
       "      <td>1000_8</td>\n",
       "      <td>505.40</td>\n",
       "      <td>2018-10-08</td>\n",
       "      <td>1000</td>\n",
       "    </tr>\n",
       "    <tr>\n",
       "      <td>9</td>\n",
       "      <td>1000_9</td>\n",
       "      <td>345.54</td>\n",
       "      <td>2018-09-03</td>\n",
       "      <td>1000</td>\n",
       "    </tr>\n",
       "  </tbody>\n",
       "</table>\n",
       "</div>"
      ],
      "text/plain": [
       "       id  mb_used session_date  user_id\n",
       "0  1000_0   112.95   2018-11-25     1000\n",
       "1  1000_1  1052.81   2018-09-07     1000\n",
       "2  1000_2  1197.26   2018-06-25     1000\n",
       "3  1000_3   550.27   2018-08-22     1000\n",
       "4  1000_4   302.56   2018-09-24     1000\n",
       "5  1000_5   399.97   2018-10-02     1000\n",
       "6  1000_6   540.08   2018-09-07     1000\n",
       "7  1000_7   415.70   2018-07-11     1000\n",
       "8  1000_8   505.40   2018-10-08     1000\n",
       "9  1000_9   345.54   2018-09-03     1000"
      ]
     },
     "execution_count": 14,
     "metadata": {},
     "output_type": "execute_result"
    }
   ],
   "source": [
    "df_internet.head(10)"
   ]
  },
  {
   "cell_type": "markdown",
   "metadata": {},
   "source": [
    "- `id` — уникальный номер сессии\n",
    "- `mb_used` — объём потраченного за сессию интернет-трафика (в мегабайтах)\n",
    "- `session_date` — дата интернет-сессии\n",
    "- `user_id` — идентификатор пользователя"
   ]
  },
  {
   "cell_type": "code",
   "execution_count": 15,
   "metadata": {
    "scrolled": false
   },
   "outputs": [
    {
     "name": "stdout",
     "output_type": "stream",
     "text": [
      "<class 'pandas.core.frame.DataFrame'>\n",
      "Int64Index: 149396 entries, 0 to 149395\n",
      "Data columns (total 4 columns):\n",
      "id              149396 non-null object\n",
      "mb_used         149396 non-null float64\n",
      "session_date    149396 non-null object\n",
      "user_id         149396 non-null int64\n",
      "dtypes: float64(1), int64(1), object(2)\n",
      "memory usage: 5.7+ MB\n"
     ]
    }
   ],
   "source": [
    "df_internet.info()"
   ]
  },
  {
   "cell_type": "markdown",
   "metadata": {},
   "source": [
    "Пропущенных значений нет, столбец session_date переведёт в формат datetime, остальные форматы представлены оптимально.\n",
    "\n",
    "`Для веб-трафика отдельные сессии не считаются. Вместо этого общая сумма за месяц округляется в бо́льшую сторону. Если абонент использует 1025 мегабайт в этом месяце, с него возьмут плату за 2 гигабайта.`\n",
    "\n",
    "Столбец с количеством трафика преобразовывать не будем.\n"
   ]
  },
  {
   "cell_type": "markdown",
   "metadata": {},
   "source": [
    "### Таблица messages (информация о сообщениях):"
   ]
  },
  {
   "cell_type": "code",
   "execution_count": 16,
   "metadata": {
    "scrolled": false
   },
   "outputs": [
    {
     "data": {
      "text/html": [
       "<div>\n",
       "<style scoped>\n",
       "    .dataframe tbody tr th:only-of-type {\n",
       "        vertical-align: middle;\n",
       "    }\n",
       "\n",
       "    .dataframe tbody tr th {\n",
       "        vertical-align: top;\n",
       "    }\n",
       "\n",
       "    .dataframe thead th {\n",
       "        text-align: right;\n",
       "    }\n",
       "</style>\n",
       "<table border=\"1\" class=\"dataframe\">\n",
       "  <thead>\n",
       "    <tr style=\"text-align: right;\">\n",
       "      <th></th>\n",
       "      <th>id</th>\n",
       "      <th>message_date</th>\n",
       "      <th>user_id</th>\n",
       "    </tr>\n",
       "  </thead>\n",
       "  <tbody>\n",
       "    <tr>\n",
       "      <td>0</td>\n",
       "      <td>1000_0</td>\n",
       "      <td>2018-06-27</td>\n",
       "      <td>1000</td>\n",
       "    </tr>\n",
       "    <tr>\n",
       "      <td>1</td>\n",
       "      <td>1000_1</td>\n",
       "      <td>2018-10-08</td>\n",
       "      <td>1000</td>\n",
       "    </tr>\n",
       "    <tr>\n",
       "      <td>2</td>\n",
       "      <td>1000_2</td>\n",
       "      <td>2018-08-04</td>\n",
       "      <td>1000</td>\n",
       "    </tr>\n",
       "    <tr>\n",
       "      <td>3</td>\n",
       "      <td>1000_3</td>\n",
       "      <td>2018-06-16</td>\n",
       "      <td>1000</td>\n",
       "    </tr>\n",
       "    <tr>\n",
       "      <td>4</td>\n",
       "      <td>1000_4</td>\n",
       "      <td>2018-12-05</td>\n",
       "      <td>1000</td>\n",
       "    </tr>\n",
       "    <tr>\n",
       "      <td>5</td>\n",
       "      <td>1000_5</td>\n",
       "      <td>2018-06-20</td>\n",
       "      <td>1000</td>\n",
       "    </tr>\n",
       "    <tr>\n",
       "      <td>6</td>\n",
       "      <td>1000_6</td>\n",
       "      <td>2018-11-19</td>\n",
       "      <td>1000</td>\n",
       "    </tr>\n",
       "    <tr>\n",
       "      <td>7</td>\n",
       "      <td>1000_7</td>\n",
       "      <td>2018-10-29</td>\n",
       "      <td>1000</td>\n",
       "    </tr>\n",
       "    <tr>\n",
       "      <td>8</td>\n",
       "      <td>1000_8</td>\n",
       "      <td>2018-06-25</td>\n",
       "      <td>1000</td>\n",
       "    </tr>\n",
       "    <tr>\n",
       "      <td>9</td>\n",
       "      <td>1000_9</td>\n",
       "      <td>2018-12-18</td>\n",
       "      <td>1000</td>\n",
       "    </tr>\n",
       "  </tbody>\n",
       "</table>\n",
       "</div>"
      ],
      "text/plain": [
       "       id message_date  user_id\n",
       "0  1000_0   2018-06-27     1000\n",
       "1  1000_1   2018-10-08     1000\n",
       "2  1000_2   2018-08-04     1000\n",
       "3  1000_3   2018-06-16     1000\n",
       "4  1000_4   2018-12-05     1000\n",
       "5  1000_5   2018-06-20     1000\n",
       "6  1000_6   2018-11-19     1000\n",
       "7  1000_7   2018-10-29     1000\n",
       "8  1000_8   2018-06-25     1000\n",
       "9  1000_9   2018-12-18     1000"
      ]
     },
     "execution_count": 16,
     "metadata": {},
     "output_type": "execute_result"
    }
   ],
   "source": [
    "df_messages.head(10)"
   ]
  },
  {
   "cell_type": "markdown",
   "metadata": {},
   "source": [
    "- `id` — уникальный номер сообщения\n",
    "- `message_date` — дата сообщения\n",
    "- `user_id` — идентификатор пользователя, отправившего сообщение"
   ]
  },
  {
   "cell_type": "code",
   "execution_count": 17,
   "metadata": {
    "scrolled": true
   },
   "outputs": [
    {
     "name": "stdout",
     "output_type": "stream",
     "text": [
      "<class 'pandas.core.frame.DataFrame'>\n",
      "RangeIndex: 123036 entries, 0 to 123035\n",
      "Data columns (total 3 columns):\n",
      "id              123036 non-null object\n",
      "message_date    123036 non-null object\n",
      "user_id         123036 non-null int64\n",
      "dtypes: int64(1), object(2)\n",
      "memory usage: 2.8+ MB\n"
     ]
    }
   ],
   "source": [
    "df_messages.info()"
   ]
  },
  {
   "cell_type": "markdown",
   "metadata": {},
   "source": [
    "Пропущенных значений нет, столбец message_date переведёт в формат datetime, остальные форматы представлены оптимально."
   ]
  },
  {
   "cell_type": "markdown",
   "metadata": {},
   "source": [
    "### Вывод"
   ]
  },
  {
   "cell_type": "markdown",
   "metadata": {},
   "source": [
    "В таблицах нет пропущенных значений (кроме столбца с датой прекращения пользования тарифом, т.к. на момент выгрузки данных пользователи ещё пользовались тарифом)."
   ]
  },
  {
   "cell_type": "markdown",
   "metadata": {},
   "source": [
    "Для таблицы `df_users`:\n",
    "- churn_date — дата прекращения пользования тарифом - имеет тип данных object, стоит попробовать перевести в тип datetime.\n",
    "- reg_date — дата подключения тарифа (день, месяц, год) переведём в формат datetime.\n",
    "- city — город проживания пользователя - посмотрим, какие значения встречаются в этом столбце.\n",
    "\n",
    "Для таблицы `df_calls`:\n",
    "- call_date переведём в формат datetime,\n",
    "-  duration округлим в большую сторону, переведём в int.\n",
    "\n",
    "Для таблицы `df_internet`:\n",
    "- session_date переведём в формат datetime.\n",
    "\n",
    "Для таблицы `df_messages`:\n",
    "- message_date переведём в формат datetime.\n",
    "\n",
    "Поскольку для дальнейшей работы надо будет выводить статистику по месяцам, добавим в таблицы столбцы с месяцем операции."
   ]
  },
  {
   "cell_type": "markdown",
   "metadata": {},
   "source": [
    "## Предобработка данных, приведение типов"
   ]
  },
  {
   "cell_type": "markdown",
   "metadata": {},
   "source": [
    "### таблица df_users:\n"
   ]
  },
  {
   "cell_type": "markdown",
   "metadata": {},
   "source": [
    "- churn_date — дата прекращения пользования тарифом - переведём в формат datetime.\n",
    "- reg_date — дата подключения тарифа -  переведём в формат datetime.\n",
    "- city — город проживания пользователя - посмотрим, какие значения встречаются в этом столбце."
   ]
  },
  {
   "cell_type": "code",
   "execution_count": 18,
   "metadata": {},
   "outputs": [],
   "source": [
    "df_users['churn_date'] = pd.to_datetime(df_users['churn_date'], format='%Y-%m-%d')"
   ]
  },
  {
   "cell_type": "code",
   "execution_count": 19,
   "metadata": {},
   "outputs": [],
   "source": [
    "df_users['reg_date'] = pd.to_datetime(df_users['reg_date'], format='%Y-%m-%d')"
   ]
  },
  {
   "cell_type": "markdown",
   "metadata": {},
   "source": [
    "Проверим столбец на некорректные значения:"
   ]
  },
  {
   "cell_type": "code",
   "execution_count": 20,
   "metadata": {
    "scrolled": true
   },
   "outputs": [
    {
     "data": {
      "text/plain": [
       "Москва             99\n",
       "Санкт-Петербург    39\n",
       "Новосибирск        16\n",
       "Омск               14\n",
       "Казань             14\n",
       "                   ..\n",
       "Архангельск         1\n",
       "Нижневартовск       1\n",
       "Подольск            1\n",
       "Иваново             1\n",
       "Химки               1\n",
       "Name: city, Length: 76, dtype: int64"
      ]
     },
     "execution_count": 20,
     "metadata": {},
     "output_type": "execute_result"
    }
   ],
   "source": [
    "df_users['city'].value_counts()"
   ]
  },
  {
   "cell_type": "code",
   "execution_count": 21,
   "metadata": {},
   "outputs": [
    {
     "data": {
      "text/plain": [
       "['Архангельск',\n",
       " 'Астрахань',\n",
       " 'Балашиха',\n",
       " 'Барнаул',\n",
       " 'Белгород',\n",
       " 'Брянск',\n",
       " 'Владивосток',\n",
       " 'Владикавказ',\n",
       " 'Владимир',\n",
       " 'Волгоград',\n",
       " 'Волжский',\n",
       " 'Вологда',\n",
       " 'Воронеж',\n",
       " 'Грозный',\n",
       " 'Екатеринбург',\n",
       " 'Иваново',\n",
       " 'Ижевск',\n",
       " 'Иркутск',\n",
       " 'Казань',\n",
       " 'Калининград',\n",
       " 'Калуга',\n",
       " 'Кемерово',\n",
       " 'Киров',\n",
       " 'Кострома',\n",
       " 'Краснодар',\n",
       " 'Красноярск',\n",
       " 'Курган',\n",
       " 'Курск',\n",
       " 'Липецк',\n",
       " 'Магнитогорск',\n",
       " 'Махачкала',\n",
       " 'Москва',\n",
       " 'Мурманск',\n",
       " 'Набережные Челны',\n",
       " 'Нижневартовск',\n",
       " 'Нижний Новгород',\n",
       " 'Нижний Тагил',\n",
       " 'Новокузнецк',\n",
       " 'Новороссийск',\n",
       " 'Новосибирск',\n",
       " 'Омск',\n",
       " 'Оренбург',\n",
       " 'Орёл',\n",
       " 'Пенза',\n",
       " 'Пермь',\n",
       " 'Петрозаводск',\n",
       " 'Подольск',\n",
       " 'Ростов-на-Дону',\n",
       " 'Рязань',\n",
       " 'Самара',\n",
       " 'Санкт-Петербург',\n",
       " 'Саранск',\n",
       " 'Саратов',\n",
       " 'Севастополь',\n",
       " 'Смоленск',\n",
       " 'Сочи',\n",
       " 'Ставрополь',\n",
       " 'Стерлитамак',\n",
       " 'Сургут',\n",
       " 'Тамбов',\n",
       " 'Тверь',\n",
       " 'Тольятти',\n",
       " 'Томск',\n",
       " 'Тула',\n",
       " 'Тюмень',\n",
       " 'Улан-Удэ',\n",
       " 'Ульяновск',\n",
       " 'Уфа',\n",
       " 'Хабаровск',\n",
       " 'Химки',\n",
       " 'Чебоксары',\n",
       " 'Челябинск',\n",
       " 'Череповец',\n",
       " 'Чита',\n",
       " 'Якутск',\n",
       " 'Ярославль']"
      ]
     },
     "execution_count": 21,
     "metadata": {},
     "output_type": "execute_result"
    }
   ],
   "source": [
    "sorted(df_users['city'].unique())"
   ]
  },
  {
   "cell_type": "markdown",
   "metadata": {},
   "source": [
    "Проблем с названиями городов не обнаружено."
   ]
  },
  {
   "cell_type": "code",
   "execution_count": 22,
   "metadata": {},
   "outputs": [
    {
     "data": {
      "text/plain": [
       "0"
      ]
     },
     "execution_count": 22,
     "metadata": {},
     "output_type": "execute_result"
    }
   ],
   "source": [
    "df_users.duplicated().sum()"
   ]
  },
  {
   "cell_type": "markdown",
   "metadata": {},
   "source": [
    "Явных дубликатов в таблице нет."
   ]
  },
  {
   "cell_type": "markdown",
   "metadata": {},
   "source": [
    "### таблица df_calls:\n"
   ]
  },
  {
   "cell_type": "markdown",
   "metadata": {},
   "source": [
    "Для таблицы `df_calls`:\n",
    "- call_date переведём в формат datetime,\n",
    "- duration округлим в большую сторону, переведём в int.\n",
    "- добавим в таблицу столбец с месяцем операции."
   ]
  },
  {
   "cell_type": "code",
   "execution_count": 23,
   "metadata": {},
   "outputs": [],
   "source": [
    "df_calls['call_date'] = pd.to_datetime(df_calls['call_date'], format='%Y-%m-%d')"
   ]
  },
  {
   "cell_type": "markdown",
   "metadata": {},
   "source": [
    "Посмотрим, за какое время собраны данные:"
   ]
  },
  {
   "cell_type": "code",
   "execution_count": 24,
   "metadata": {
    "scrolled": true
   },
   "outputs": [
    {
     "data": {
      "text/plain": [
       "Timestamp('2018-01-01 00:00:00')"
      ]
     },
     "execution_count": 24,
     "metadata": {},
     "output_type": "execute_result"
    }
   ],
   "source": [
    "df_calls['call_date'].min()"
   ]
  },
  {
   "cell_type": "code",
   "execution_count": 25,
   "metadata": {
    "scrolled": true
   },
   "outputs": [
    {
     "data": {
      "text/plain": [
       "Timestamp('2018-12-31 00:00:00')"
      ]
     },
     "execution_count": 25,
     "metadata": {},
     "output_type": "execute_result"
    }
   ],
   "source": [
    "df_calls['call_date'].max()"
   ]
  },
  {
   "cell_type": "markdown",
   "metadata": {},
   "source": [
    "Данные за 2018й год, с января по декабрь. Создадим столбец с месяцами каждой операции:"
   ]
  },
  {
   "cell_type": "code",
   "execution_count": 26,
   "metadata": {},
   "outputs": [],
   "source": [
    "df_calls['month'] = df_calls['call_date'].dt.month"
   ]
  },
  {
   "cell_type": "markdown",
   "metadata": {},
   "source": [
    "Столбец duration округлим в большую сторону, переведём в int."
   ]
  },
  {
   "cell_type": "code",
   "execution_count": 27,
   "metadata": {},
   "outputs": [
    {
     "data": {
      "text/plain": [
       "0     0.00\n",
       "1     0.00\n",
       "2     2.85\n",
       "3    13.80\n",
       "4     5.18\n",
       "5     0.00\n",
       "6     0.00\n",
       "7    18.31\n",
       "8    18.44\n",
       "9     0.00\n",
       "Name: duration, dtype: float64"
      ]
     },
     "execution_count": 27,
     "metadata": {},
     "output_type": "execute_result"
    }
   ],
   "source": [
    "df_calls['duration'].head(10)"
   ]
  },
  {
   "cell_type": "code",
   "execution_count": 28,
   "metadata": {},
   "outputs": [],
   "source": [
    "df_calls['duration'] = np.ceil(df_calls['duration'])"
   ]
  },
  {
   "cell_type": "code",
   "execution_count": 29,
   "metadata": {
    "scrolled": true
   },
   "outputs": [
    {
     "data": {
      "text/plain": [
       "0     0.0\n",
       "1     0.0\n",
       "2     3.0\n",
       "3    14.0\n",
       "4     6.0\n",
       "5     0.0\n",
       "6     0.0\n",
       "7    19.0\n",
       "8    19.0\n",
       "9     0.0\n",
       "Name: duration, dtype: float64"
      ]
     },
     "execution_count": 29,
     "metadata": {},
     "output_type": "execute_result"
    }
   ],
   "source": [
    "df_calls['duration'].head(10)"
   ]
  },
  {
   "cell_type": "code",
   "execution_count": 30,
   "metadata": {},
   "outputs": [],
   "source": [
    "df_calls['duration'] = df_calls['duration'].astype('int')"
   ]
  },
  {
   "cell_type": "code",
   "execution_count": 31,
   "metadata": {},
   "outputs": [
    {
     "data": {
      "text/plain": [
       "0"
      ]
     },
     "execution_count": 31,
     "metadata": {},
     "output_type": "execute_result"
    }
   ],
   "source": [
    "df_calls.duplicated().sum()"
   ]
  },
  {
   "cell_type": "markdown",
   "metadata": {},
   "source": [
    "Явных дубликатов в таблице нет."
   ]
  },
  {
   "cell_type": "markdown",
   "metadata": {},
   "source": [
    "Посмотрим, какие значения встречаются в обработанном столбце с длительностью звонков:"
   ]
  },
  {
   "cell_type": "code",
   "execution_count": 32,
   "metadata": {
    "scrolled": false
   },
   "outputs": [
    {
     "data": {
      "text/plain": [
       "array([[<matplotlib.axes._subplots.AxesSubplot object at 0x7f36fbfc9990>]],\n",
       "      dtype=object)"
      ]
     },
     "execution_count": 32,
     "metadata": {},
     "output_type": "execute_result"
    },
    {
     "data": {
      "image/png": "[encoded data removed]",
      "text/plain": [
       "<Figure size 432x288 with 1 Axes>"
      ]
     },
     "metadata": {
      "needs_background": "light"
     },
     "output_type": "display_data"
    }
   ],
   "source": [
    "df_calls.hist(column='duration',\n",
    "              bins=30,\n",
    "              range=(0,30)\n",
    "             )   "
   ]
  },
  {
   "cell_type": "markdown",
   "metadata": {},
   "source": [
    "Очень много звонков длительностью ноль. Это нормально, поскольку так обозначаются пропущеные звонки. Данные выглядят адекватно."
   ]
  },
  {
   "cell_type": "markdown",
   "metadata": {},
   "source": [
    "### таблица df_internet:\n"
   ]
  },
  {
   "cell_type": "markdown",
   "metadata": {},
   "source": [
    "Для таблицы `df_internet`:\n",
    "- session_date переведём в формат datetime.\n",
    "- добавим в таблицу столбец с месяцем операции."
   ]
  },
  {
   "cell_type": "code",
   "execution_count": 33,
   "metadata": {},
   "outputs": [],
   "source": [
    "df_internet['session_date'] = pd.to_datetime(df_internet['session_date'], format='%Y-%m-%d')"
   ]
  },
  {
   "cell_type": "markdown",
   "metadata": {},
   "source": [
    "Посмотрим, за какое время собраны данные:"
   ]
  },
  {
   "cell_type": "code",
   "execution_count": 34,
   "metadata": {
    "scrolled": true
   },
   "outputs": [
    {
     "data": {
      "text/plain": [
       "Timestamp('2018-01-01 00:00:00')"
      ]
     },
     "execution_count": 34,
     "metadata": {},
     "output_type": "execute_result"
    }
   ],
   "source": [
    "df_internet['session_date'].min()"
   ]
  },
  {
   "cell_type": "code",
   "execution_count": 35,
   "metadata": {
    "scrolled": true
   },
   "outputs": [
    {
     "data": {
      "text/plain": [
       "Timestamp('2018-12-31 00:00:00')"
      ]
     },
     "execution_count": 35,
     "metadata": {},
     "output_type": "execute_result"
    }
   ],
   "source": [
    "df_internet['session_date'].max()"
   ]
  },
  {
   "cell_type": "markdown",
   "metadata": {},
   "source": [
    "Данные за 2018й год, с января по декабрь. Создадим столбец с месяцами каждой операции:"
   ]
  },
  {
   "cell_type": "code",
   "execution_count": 36,
   "metadata": {},
   "outputs": [],
   "source": [
    "df_internet['month'] = df_internet['session_date'].dt.month"
   ]
  },
  {
   "cell_type": "code",
   "execution_count": 37,
   "metadata": {},
   "outputs": [
    {
     "data": {
      "text/plain": [
       "0"
      ]
     },
     "execution_count": 37,
     "metadata": {},
     "output_type": "execute_result"
    }
   ],
   "source": [
    "df_internet.duplicated().sum()"
   ]
  },
  {
   "cell_type": "markdown",
   "metadata": {},
   "source": [
    "Явных дубликатов в таблице нет."
   ]
  },
  {
   "cell_type": "markdown",
   "metadata": {},
   "source": [
    "Посмотрим, какие значения встречаются в столбце с количеством потраченных мегабайт за сессию\n",
    ":"
   ]
  },
  {
   "cell_type": "code",
   "execution_count": 38,
   "metadata": {
    "scrolled": false
   },
   "outputs": [
    {
     "data": {
      "text/plain": [
       "array([[<matplotlib.axes._subplots.AxesSubplot object at 0x7f36fbeb8a10>]],\n",
       "      dtype=object)"
      ]
     },
     "execution_count": 38,
     "metadata": {},
     "output_type": "execute_result"
    },
    {
     "data": {
      "image/png": "[encoded data removed]",
      "text/plain": [
       "<Figure size 432x288 with 1 Axes>"
      ]
     },
     "metadata": {
      "needs_background": "light"
     },
     "output_type": "display_data"
    }
   ],
   "source": [
    "df_internet.hist(column='mb_used',\n",
    "              bins=50,\n",
    "              range=(0,1500)\n",
    "             )   "
   ]
  },
  {
   "cell_type": "markdown",
   "metadata": {},
   "source": [
    "Очень много сессий длительностью ноль. Это тоже нормально, можно подключиться к интернету и не использовать его."
   ]
  },
  {
   "cell_type": "markdown",
   "metadata": {},
   "source": [
    "### таблица df_messages:\n"
   ]
  },
  {
   "cell_type": "markdown",
   "metadata": {},
   "source": [
    "- message_date переведём в формат datetime.\n",
    "- добавим в таблицу столбец с месяцем операции."
   ]
  },
  {
   "cell_type": "code",
   "execution_count": 39,
   "metadata": {},
   "outputs": [],
   "source": [
    "df_messages['message_date'] = pd.to_datetime(df_messages['message_date'], format='%Y-%m-%d')"
   ]
  },
  {
   "cell_type": "markdown",
   "metadata": {},
   "source": [
    "Посмотрим, за какое время собраны данные:"
   ]
  },
  {
   "cell_type": "code",
   "execution_count": 40,
   "metadata": {
    "scrolled": true
   },
   "outputs": [
    {
     "data": {
      "text/plain": [
       "Timestamp('2018-01-02 00:00:00')"
      ]
     },
     "execution_count": 40,
     "metadata": {},
     "output_type": "execute_result"
    }
   ],
   "source": [
    "df_messages['message_date'].min()"
   ]
  },
  {
   "cell_type": "code",
   "execution_count": 41,
   "metadata": {
    "scrolled": true
   },
   "outputs": [
    {
     "data": {
      "text/plain": [
       "Timestamp('2018-12-31 00:00:00')"
      ]
     },
     "execution_count": 41,
     "metadata": {},
     "output_type": "execute_result"
    }
   ],
   "source": [
    "df_messages['message_date'].max()"
   ]
  },
  {
   "cell_type": "markdown",
   "metadata": {},
   "source": [
    "Данные за 2018й год, с января по декабрь. Создадим столбец с месяцами каждой операции:"
   ]
  },
  {
   "cell_type": "code",
   "execution_count": 42,
   "metadata": {},
   "outputs": [],
   "source": [
    "df_messages['month'] = df_messages['message_date'].dt.month"
   ]
  },
  {
   "cell_type": "code",
   "execution_count": 43,
   "metadata": {},
   "outputs": [
    {
     "data": {
      "text/plain": [
       "0"
      ]
     },
     "execution_count": 43,
     "metadata": {},
     "output_type": "execute_result"
    }
   ],
   "source": [
    "df_messages.duplicated().sum()"
   ]
  },
  {
   "cell_type": "markdown",
   "metadata": {},
   "source": [
    "Явных дубликатов в таблице нет."
   ]
  },
  {
   "cell_type": "markdown",
   "metadata": {},
   "source": [
    "### Вывод"
   ]
  },
  {
   "cell_type": "markdown",
   "metadata": {},
   "source": [
    "Во всех таблицах все столбцы с датами перевели в формат datetime, чтобы в дальнейшим можно было с ними работать. В таблицы с интернетом, звонками и отправкой сообщений добавили по дополнительному столбцу с месяцем, в который происходила операция.\n",
    "\n",
    "Длительность звонков округлили вверх, поскольку такие условия тарифа(Каждый звонок округляется отдельно: даже если он длился всего 1 секунду, будет засчитан как 1 минута). привели к типу данных int.\n",
    "\n",
    "Проблем с названиями городов обнаружено не было.\n",
    "Явных дубликатов в таблицах нет."
   ]
  },
  {
   "cell_type": "markdown",
   "metadata": {},
   "source": [
    "## Добавление данных"
   ]
  },
  {
   "cell_type": "markdown",
   "metadata": {},
   "source": [
    "### Количество гигабайт, включенных в абонентскую плату"
   ]
  },
  {
   "cell_type": "code",
   "execution_count": 44,
   "metadata": {},
   "outputs": [],
   "source": [
    "df_tariffs['gb_per_month_included'] = df_tariffs['mb_per_month_included']/1024"
   ]
  },
  {
   "cell_type": "code",
   "execution_count": 45,
   "metadata": {},
   "outputs": [],
   "source": [
    "df_tariffs['gb_per_month_included'] = df_tariffs['gb_per_month_included'].astype('int')"
   ]
  },
  {
   "cell_type": "markdown",
   "metadata": {},
   "source": [
    "### количество сделанных звонков и израсходованных минут разговора по месяцам"
   ]
  },
  {
   "cell_type": "code",
   "execution_count": 46,
   "metadata": {
    "scrolled": true
   },
   "outputs": [
    {
     "data": {
      "text/html": [
       "<div>\n",
       "<style scoped>\n",
       "    .dataframe tbody tr th:only-of-type {\n",
       "        vertical-align: middle;\n",
       "    }\n",
       "\n",
       "    .dataframe tbody tr th {\n",
       "        vertical-align: top;\n",
       "    }\n",
       "\n",
       "    .dataframe thead th {\n",
       "        text-align: right;\n",
       "    }\n",
       "</style>\n",
       "<table border=\"1\" class=\"dataframe\">\n",
       "  <thead>\n",
       "    <tr style=\"text-align: right;\">\n",
       "      <th></th>\n",
       "      <th></th>\n",
       "      <th>count</th>\n",
       "      <th>sum</th>\n",
       "    </tr>\n",
       "    <tr>\n",
       "      <th>user_id</th>\n",
       "      <th>month</th>\n",
       "      <th></th>\n",
       "      <th></th>\n",
       "    </tr>\n",
       "  </thead>\n",
       "  <tbody>\n",
       "    <tr>\n",
       "      <td rowspan=\"5\" valign=\"top\">1000</td>\n",
       "      <td>5</td>\n",
       "      <td>22</td>\n",
       "      <td>159</td>\n",
       "    </tr>\n",
       "    <tr>\n",
       "      <td>6</td>\n",
       "      <td>43</td>\n",
       "      <td>172</td>\n",
       "    </tr>\n",
       "    <tr>\n",
       "      <td>7</td>\n",
       "      <td>47</td>\n",
       "      <td>340</td>\n",
       "    </tr>\n",
       "    <tr>\n",
       "      <td>8</td>\n",
       "      <td>52</td>\n",
       "      <td>408</td>\n",
       "    </tr>\n",
       "    <tr>\n",
       "      <td>9</td>\n",
       "      <td>58</td>\n",
       "      <td>466</td>\n",
       "    </tr>\n",
       "    <tr>\n",
       "      <td>...</td>\n",
       "      <td>...</td>\n",
       "      <td>...</td>\n",
       "      <td>...</td>\n",
       "    </tr>\n",
       "    <tr>\n",
       "      <td>1498</td>\n",
       "      <td>10</td>\n",
       "      <td>41</td>\n",
       "      <td>247</td>\n",
       "    </tr>\n",
       "    <tr>\n",
       "      <td rowspan=\"4\" valign=\"top\">1499</td>\n",
       "      <td>9</td>\n",
       "      <td>9</td>\n",
       "      <td>70</td>\n",
       "    </tr>\n",
       "    <tr>\n",
       "      <td>10</td>\n",
       "      <td>68</td>\n",
       "      <td>449</td>\n",
       "    </tr>\n",
       "    <tr>\n",
       "      <td>11</td>\n",
       "      <td>74</td>\n",
       "      <td>612</td>\n",
       "    </tr>\n",
       "    <tr>\n",
       "      <td>12</td>\n",
       "      <td>69</td>\n",
       "      <td>492</td>\n",
       "    </tr>\n",
       "  </tbody>\n",
       "</table>\n",
       "<p>3174 rows × 2 columns</p>\n",
       "</div>"
      ],
      "text/plain": [
       "               count  sum\n",
       "user_id month            \n",
       "1000    5         22  159\n",
       "        6         43  172\n",
       "        7         47  340\n",
       "        8         52  408\n",
       "        9         58  466\n",
       "...              ...  ...\n",
       "1498    10        41  247\n",
       "1499    9          9   70\n",
       "        10        68  449\n",
       "        11        74  612\n",
       "        12        69  492\n",
       "\n",
       "[3174 rows x 2 columns]"
      ]
     },
     "execution_count": 46,
     "metadata": {},
     "output_type": "execute_result"
    }
   ],
   "source": [
    "calls = df_calls.groupby(['user_id','month'])['duration'].agg(['count','sum'])\n",
    "calls"
   ]
  },
  {
   "cell_type": "markdown",
   "metadata": {},
   "source": [
    "Переименуем столбцы:"
   ]
  },
  {
   "cell_type": "code",
   "execution_count": 47,
   "metadata": {
    "scrolled": true
   },
   "outputs": [
    {
     "data": {
      "text/html": [
       "<div>\n",
       "<style scoped>\n",
       "    .dataframe tbody tr th:only-of-type {\n",
       "        vertical-align: middle;\n",
       "    }\n",
       "\n",
       "    .dataframe tbody tr th {\n",
       "        vertical-align: top;\n",
       "    }\n",
       "\n",
       "    .dataframe thead th {\n",
       "        text-align: right;\n",
       "    }\n",
       "</style>\n",
       "<table border=\"1\" class=\"dataframe\">\n",
       "  <thead>\n",
       "    <tr style=\"text-align: right;\">\n",
       "      <th></th>\n",
       "      <th></th>\n",
       "      <th>count_calls</th>\n",
       "      <th>duration_calls</th>\n",
       "    </tr>\n",
       "    <tr>\n",
       "      <th>user_id</th>\n",
       "      <th>month</th>\n",
       "      <th></th>\n",
       "      <th></th>\n",
       "    </tr>\n",
       "  </thead>\n",
       "  <tbody>\n",
       "    <tr>\n",
       "      <td rowspan=\"5\" valign=\"top\">1000</td>\n",
       "      <td>5</td>\n",
       "      <td>22</td>\n",
       "      <td>159</td>\n",
       "    </tr>\n",
       "    <tr>\n",
       "      <td>6</td>\n",
       "      <td>43</td>\n",
       "      <td>172</td>\n",
       "    </tr>\n",
       "    <tr>\n",
       "      <td>7</td>\n",
       "      <td>47</td>\n",
       "      <td>340</td>\n",
       "    </tr>\n",
       "    <tr>\n",
       "      <td>8</td>\n",
       "      <td>52</td>\n",
       "      <td>408</td>\n",
       "    </tr>\n",
       "    <tr>\n",
       "      <td>9</td>\n",
       "      <td>58</td>\n",
       "      <td>466</td>\n",
       "    </tr>\n",
       "    <tr>\n",
       "      <td>...</td>\n",
       "      <td>...</td>\n",
       "      <td>...</td>\n",
       "      <td>...</td>\n",
       "    </tr>\n",
       "    <tr>\n",
       "      <td>1498</td>\n",
       "      <td>10</td>\n",
       "      <td>41</td>\n",
       "      <td>247</td>\n",
       "    </tr>\n",
       "    <tr>\n",
       "      <td rowspan=\"4\" valign=\"top\">1499</td>\n",
       "      <td>9</td>\n",
       "      <td>9</td>\n",
       "      <td>70</td>\n",
       "    </tr>\n",
       "    <tr>\n",
       "      <td>10</td>\n",
       "      <td>68</td>\n",
       "      <td>449</td>\n",
       "    </tr>\n",
       "    <tr>\n",
       "      <td>11</td>\n",
       "      <td>74</td>\n",
       "      <td>612</td>\n",
       "    </tr>\n",
       "    <tr>\n",
       "      <td>12</td>\n",
       "      <td>69</td>\n",
       "      <td>492</td>\n",
       "    </tr>\n",
       "  </tbody>\n",
       "</table>\n",
       "<p>3174 rows × 2 columns</p>\n",
       "</div>"
      ],
      "text/plain": [
       "               count_calls  duration_calls\n",
       "user_id month                             \n",
       "1000    5               22             159\n",
       "        6               43             172\n",
       "        7               47             340\n",
       "        8               52             408\n",
       "        9               58             466\n",
       "...                    ...             ...\n",
       "1498    10              41             247\n",
       "1499    9                9              70\n",
       "        10              68             449\n",
       "        11              74             612\n",
       "        12              69             492\n",
       "\n",
       "[3174 rows x 2 columns]"
      ]
     },
     "execution_count": 47,
     "metadata": {},
     "output_type": "execute_result"
    }
   ],
   "source": [
    "calls.columns = ['count_calls','duration_calls']\n",
    "calls"
   ]
  },
  {
   "cell_type": "markdown",
   "metadata": {},
   "source": [
    "### количество отправленных сообщений по месяцам"
   ]
  },
  {
   "cell_type": "code",
   "execution_count": 48,
   "metadata": {
    "scrolled": true
   },
   "outputs": [
    {
     "data": {
      "text/plain": [
       "user_id  month\n",
       "1000     5        22\n",
       "         6        60\n",
       "         7        75\n",
       "         8        81\n",
       "         9        57\n",
       "                  ..\n",
       "1498     10       42\n",
       "1499     9        11\n",
       "         10       48\n",
       "         11       59\n",
       "         12       66\n",
       "Name: message_date, Length: 2717, dtype: int64"
      ]
     },
     "execution_count": 48,
     "metadata": {},
     "output_type": "execute_result"
    }
   ],
   "source": [
    "messages = df_messages.groupby(['user_id','month'])['message_date'].agg('count')\n",
    "messages"
   ]
  },
  {
   "cell_type": "markdown",
   "metadata": {},
   "source": [
    "### объем израсходованного интернет-трафика по месяцам;"
   ]
  },
  {
   "cell_type": "code",
   "execution_count": 49,
   "metadata": {
    "scrolled": true
   },
   "outputs": [
    {
     "data": {
      "text/plain": [
       "user_id  month\n",
       "1000     5         2253.49\n",
       "         6        23233.77\n",
       "         7        14003.64\n",
       "         8        14055.93\n",
       "         9        14568.91\n",
       "                    ...   \n",
       "1498     10       20579.36\n",
       "1499     9         1845.75\n",
       "         10       17788.51\n",
       "         11       17963.31\n",
       "         12       13055.58\n",
       "Name: mb_used, Length: 3203, dtype: float64"
      ]
     },
     "execution_count": 49,
     "metadata": {},
     "output_type": "execute_result"
    }
   ],
   "source": [
    "internet = df_internet.groupby(['user_id','month'])['mb_used'].agg('sum')\n",
    "internet"
   ]
  },
  {
   "cell_type": "markdown",
   "metadata": {},
   "source": [
    "Для веб-трафика отдельные сессии не считаются, а вместо этого общая сумма за месяц округляется в бо́льшую сторону. Если абонент использует 1025 мегабайт в этом месяце, с него возьмут плату за 2 гигабайта.\n",
    "\n",
    "Поделим все значения новой таблицы на 1024 (тем самым переведём израсходованный трафик в гигабайты), округлим все значения в большую сторону."
   ]
  },
  {
   "cell_type": "code",
   "execution_count": 50,
   "metadata": {},
   "outputs": [],
   "source": [
    "internet = internet.apply(lambda x: np.ceil(x / 1024))"
   ]
  },
  {
   "cell_type": "code",
   "execution_count": 51,
   "metadata": {
    "scrolled": false
   },
   "outputs": [
    {
     "data": {
      "text/plain": [
       "user_id  month\n",
       "1000     5         3.0\n",
       "         6        23.0\n",
       "         7        14.0\n",
       "         8        14.0\n",
       "         9        15.0\n",
       "                  ... \n",
       "1498     10       21.0\n",
       "1499     9         2.0\n",
       "         10       18.0\n",
       "         11       18.0\n",
       "         12       13.0\n",
       "Name: mb_used, Length: 3203, dtype: float64"
      ]
     },
     "execution_count": 51,
     "metadata": {},
     "output_type": "execute_result"
    }
   ],
   "source": [
    "internet"
   ]
  },
  {
   "cell_type": "markdown",
   "metadata": {},
   "source": [
    "### помесячная выручка с каждого пользователя"
   ]
  },
  {
   "cell_type": "markdown",
   "metadata": {},
   "source": [
    "Для удобства вычислений объединим таблицы с помесячным использованием тарифов: internet, messages, calls с таблицами \"информация о пользователях\" и \"информация о тарифах\"."
   ]
  },
  {
   "cell_type": "code",
   "execution_count": 52,
   "metadata": {
    "scrolled": true
   },
   "outputs": [],
   "source": [
    "all_info_per_month =  calls.merge(internet, how='outer', left_on=['user_id','month'], right_on=['user_id','month'])"
   ]
  },
  {
   "cell_type": "code",
   "execution_count": 53,
   "metadata": {},
   "outputs": [],
   "source": [
    "all_info_per_month =  all_info_per_month.merge(messages, how='outer', left_on=['user_id','month'], right_on=['user_id','month'])"
   ]
  },
  {
   "cell_type": "code",
   "execution_count": 54,
   "metadata": {
    "scrolled": true
   },
   "outputs": [
    {
     "data": {
      "text/html": [
       "<div>\n",
       "<style scoped>\n",
       "    .dataframe tbody tr th:only-of-type {\n",
       "        vertical-align: middle;\n",
       "    }\n",
       "\n",
       "    .dataframe tbody tr th {\n",
       "        vertical-align: top;\n",
       "    }\n",
       "\n",
       "    .dataframe thead th {\n",
       "        text-align: right;\n",
       "    }\n",
       "</style>\n",
       "<table border=\"1\" class=\"dataframe\">\n",
       "  <thead>\n",
       "    <tr style=\"text-align: right;\">\n",
       "      <th></th>\n",
       "      <th></th>\n",
       "      <th>count_calls</th>\n",
       "      <th>duration_calls</th>\n",
       "      <th>mb_used</th>\n",
       "      <th>message_date</th>\n",
       "    </tr>\n",
       "    <tr>\n",
       "      <th>user_id</th>\n",
       "      <th>month</th>\n",
       "      <th></th>\n",
       "      <th></th>\n",
       "      <th></th>\n",
       "      <th></th>\n",
       "    </tr>\n",
       "  </thead>\n",
       "  <tbody>\n",
       "    <tr>\n",
       "      <td rowspan=\"5\" valign=\"top\">1000</td>\n",
       "      <td>5</td>\n",
       "      <td>22.0</td>\n",
       "      <td>159.0</td>\n",
       "      <td>3.0</td>\n",
       "      <td>22.0</td>\n",
       "    </tr>\n",
       "    <tr>\n",
       "      <td>6</td>\n",
       "      <td>43.0</td>\n",
       "      <td>172.0</td>\n",
       "      <td>23.0</td>\n",
       "      <td>60.0</td>\n",
       "    </tr>\n",
       "    <tr>\n",
       "      <td>7</td>\n",
       "      <td>47.0</td>\n",
       "      <td>340.0</td>\n",
       "      <td>14.0</td>\n",
       "      <td>75.0</td>\n",
       "    </tr>\n",
       "    <tr>\n",
       "      <td>8</td>\n",
       "      <td>52.0</td>\n",
       "      <td>408.0</td>\n",
       "      <td>14.0</td>\n",
       "      <td>81.0</td>\n",
       "    </tr>\n",
       "    <tr>\n",
       "      <td>9</td>\n",
       "      <td>58.0</td>\n",
       "      <td>466.0</td>\n",
       "      <td>15.0</td>\n",
       "      <td>57.0</td>\n",
       "    </tr>\n",
       "    <tr>\n",
       "      <td>...</td>\n",
       "      <td>...</td>\n",
       "      <td>...</td>\n",
       "      <td>...</td>\n",
       "      <td>...</td>\n",
       "      <td>...</td>\n",
       "    </tr>\n",
       "    <tr>\n",
       "      <td rowspan=\"5\" valign=\"top\">1489</td>\n",
       "      <td>8</td>\n",
       "      <td>NaN</td>\n",
       "      <td>NaN</td>\n",
       "      <td>11.0</td>\n",
       "      <td>17.0</td>\n",
       "    </tr>\n",
       "    <tr>\n",
       "      <td>9</td>\n",
       "      <td>NaN</td>\n",
       "      <td>NaN</td>\n",
       "      <td>17.0</td>\n",
       "      <td>32.0</td>\n",
       "    </tr>\n",
       "    <tr>\n",
       "      <td>10</td>\n",
       "      <td>NaN</td>\n",
       "      <td>NaN</td>\n",
       "      <td>20.0</td>\n",
       "      <td>21.0</td>\n",
       "    </tr>\n",
       "    <tr>\n",
       "      <td>11</td>\n",
       "      <td>NaN</td>\n",
       "      <td>NaN</td>\n",
       "      <td>18.0</td>\n",
       "      <td>20.0</td>\n",
       "    </tr>\n",
       "    <tr>\n",
       "      <td>12</td>\n",
       "      <td>NaN</td>\n",
       "      <td>NaN</td>\n",
       "      <td>17.0</td>\n",
       "      <td>35.0</td>\n",
       "    </tr>\n",
       "  </tbody>\n",
       "</table>\n",
       "<p>3214 rows × 4 columns</p>\n",
       "</div>"
      ],
      "text/plain": [
       "               count_calls  duration_calls  mb_used  message_date\n",
       "user_id month                                                    \n",
       "1000    5             22.0           159.0      3.0          22.0\n",
       "        6             43.0           172.0     23.0          60.0\n",
       "        7             47.0           340.0     14.0          75.0\n",
       "        8             52.0           408.0     14.0          81.0\n",
       "        9             58.0           466.0     15.0          57.0\n",
       "...                    ...             ...      ...           ...\n",
       "1489    8              NaN             NaN     11.0          17.0\n",
       "        9              NaN             NaN     17.0          32.0\n",
       "        10             NaN             NaN     20.0          21.0\n",
       "        11             NaN             NaN     18.0          20.0\n",
       "        12             NaN             NaN     17.0          35.0\n",
       "\n",
       "[3214 rows x 4 columns]"
      ]
     },
     "execution_count": 54,
     "metadata": {},
     "output_type": "execute_result"
    }
   ],
   "source": [
    "all_info_per_month"
   ]
  },
  {
   "cell_type": "markdown",
   "metadata": {},
   "source": [
    "Переименуем столбцы:"
   ]
  },
  {
   "cell_type": "code",
   "execution_count": 55,
   "metadata": {
    "scrolled": true
   },
   "outputs": [
    {
     "data": {
      "text/html": [
       "<div>\n",
       "<style scoped>\n",
       "    .dataframe tbody tr th:only-of-type {\n",
       "        vertical-align: middle;\n",
       "    }\n",
       "\n",
       "    .dataframe tbody tr th {\n",
       "        vertical-align: top;\n",
       "    }\n",
       "\n",
       "    .dataframe thead th {\n",
       "        text-align: right;\n",
       "    }\n",
       "</style>\n",
       "<table border=\"1\" class=\"dataframe\">\n",
       "  <thead>\n",
       "    <tr style=\"text-align: right;\">\n",
       "      <th></th>\n",
       "      <th></th>\n",
       "      <th>count_calls</th>\n",
       "      <th>duration_calls</th>\n",
       "      <th>gb_used</th>\n",
       "      <th>message</th>\n",
       "    </tr>\n",
       "    <tr>\n",
       "      <th>user_id</th>\n",
       "      <th>month</th>\n",
       "      <th></th>\n",
       "      <th></th>\n",
       "      <th></th>\n",
       "      <th></th>\n",
       "    </tr>\n",
       "  </thead>\n",
       "  <tbody>\n",
       "    <tr>\n",
       "      <td rowspan=\"5\" valign=\"top\">1000</td>\n",
       "      <td>5</td>\n",
       "      <td>22.0</td>\n",
       "      <td>159.0</td>\n",
       "      <td>3.0</td>\n",
       "      <td>22.0</td>\n",
       "    </tr>\n",
       "    <tr>\n",
       "      <td>6</td>\n",
       "      <td>43.0</td>\n",
       "      <td>172.0</td>\n",
       "      <td>23.0</td>\n",
       "      <td>60.0</td>\n",
       "    </tr>\n",
       "    <tr>\n",
       "      <td>7</td>\n",
       "      <td>47.0</td>\n",
       "      <td>340.0</td>\n",
       "      <td>14.0</td>\n",
       "      <td>75.0</td>\n",
       "    </tr>\n",
       "    <tr>\n",
       "      <td>8</td>\n",
       "      <td>52.0</td>\n",
       "      <td>408.0</td>\n",
       "      <td>14.0</td>\n",
       "      <td>81.0</td>\n",
       "    </tr>\n",
       "    <tr>\n",
       "      <td>9</td>\n",
       "      <td>58.0</td>\n",
       "      <td>466.0</td>\n",
       "      <td>15.0</td>\n",
       "      <td>57.0</td>\n",
       "    </tr>\n",
       "    <tr>\n",
       "      <td>...</td>\n",
       "      <td>...</td>\n",
       "      <td>...</td>\n",
       "      <td>...</td>\n",
       "      <td>...</td>\n",
       "      <td>...</td>\n",
       "    </tr>\n",
       "    <tr>\n",
       "      <td rowspan=\"5\" valign=\"top\">1489</td>\n",
       "      <td>8</td>\n",
       "      <td>NaN</td>\n",
       "      <td>NaN</td>\n",
       "      <td>11.0</td>\n",
       "      <td>17.0</td>\n",
       "    </tr>\n",
       "    <tr>\n",
       "      <td>9</td>\n",
       "      <td>NaN</td>\n",
       "      <td>NaN</td>\n",
       "      <td>17.0</td>\n",
       "      <td>32.0</td>\n",
       "    </tr>\n",
       "    <tr>\n",
       "      <td>10</td>\n",
       "      <td>NaN</td>\n",
       "      <td>NaN</td>\n",
       "      <td>20.0</td>\n",
       "      <td>21.0</td>\n",
       "    </tr>\n",
       "    <tr>\n",
       "      <td>11</td>\n",
       "      <td>NaN</td>\n",
       "      <td>NaN</td>\n",
       "      <td>18.0</td>\n",
       "      <td>20.0</td>\n",
       "    </tr>\n",
       "    <tr>\n",
       "      <td>12</td>\n",
       "      <td>NaN</td>\n",
       "      <td>NaN</td>\n",
       "      <td>17.0</td>\n",
       "      <td>35.0</td>\n",
       "    </tr>\n",
       "  </tbody>\n",
       "</table>\n",
       "<p>3214 rows × 4 columns</p>\n",
       "</div>"
      ],
      "text/plain": [
       "               count_calls  duration_calls  gb_used  message\n",
       "user_id month                                               \n",
       "1000    5             22.0           159.0      3.0     22.0\n",
       "        6             43.0           172.0     23.0     60.0\n",
       "        7             47.0           340.0     14.0     75.0\n",
       "        8             52.0           408.0     14.0     81.0\n",
       "        9             58.0           466.0     15.0     57.0\n",
       "...                    ...             ...      ...      ...\n",
       "1489    8              NaN             NaN     11.0     17.0\n",
       "        9              NaN             NaN     17.0     32.0\n",
       "        10             NaN             NaN     20.0     21.0\n",
       "        11             NaN             NaN     18.0     20.0\n",
       "        12             NaN             NaN     17.0     35.0\n",
       "\n",
       "[3214 rows x 4 columns]"
      ]
     },
     "execution_count": 55,
     "metadata": {},
     "output_type": "execute_result"
    }
   ],
   "source": [
    "all_info_per_month.columns = ['count_calls','duration_calls','gb_used','message']\n",
    "all_info_per_month"
   ]
  },
  {
   "cell_type": "code",
   "execution_count": 56,
   "metadata": {
    "scrolled": false
   },
   "outputs": [],
   "source": [
    "all_info_per_month = all_info_per_month.reset_index()"
   ]
  },
  {
   "cell_type": "code",
   "execution_count": 57,
   "metadata": {},
   "outputs": [],
   "source": [
    "all_info_per_month =  all_info_per_month.merge(df_users, how='outer', on='user_id')"
   ]
  },
  {
   "cell_type": "code",
   "execution_count": 58,
   "metadata": {},
   "outputs": [],
   "source": [
    "all_info_per_month =  all_info_per_month.merge(df_tariffs, how='outer', left_on='tariff', right_on='tariff_name')"
   ]
  },
  {
   "cell_type": "code",
   "execution_count": 59,
   "metadata": {
    "scrolled": true
   },
   "outputs": [
    {
     "data": {
      "text/html": [
       "<div>\n",
       "<style scoped>\n",
       "    .dataframe tbody tr th:only-of-type {\n",
       "        vertical-align: middle;\n",
       "    }\n",
       "\n",
       "    .dataframe tbody tr th {\n",
       "        vertical-align: top;\n",
       "    }\n",
       "\n",
       "    .dataframe thead th {\n",
       "        text-align: right;\n",
       "    }\n",
       "</style>\n",
       "<table border=\"1\" class=\"dataframe\">\n",
       "  <thead>\n",
       "    <tr style=\"text-align: right;\">\n",
       "      <th></th>\n",
       "      <th>user_id</th>\n",
       "      <th>month</th>\n",
       "      <th>count_calls</th>\n",
       "      <th>duration_calls</th>\n",
       "      <th>gb_used</th>\n",
       "      <th>message</th>\n",
       "      <th>age</th>\n",
       "      <th>churn_date</th>\n",
       "      <th>city</th>\n",
       "      <th>first_name</th>\n",
       "      <th>last_name</th>\n",
       "      <th>reg_date</th>\n",
       "      <th>tariff</th>\n",
       "      <th>messages_included</th>\n",
       "      <th>mb_per_month_included</th>\n",
       "      <th>minutes_included</th>\n",
       "      <th>rub_monthly_fee</th>\n",
       "      <th>rub_per_gb</th>\n",
       "      <th>rub_per_message</th>\n",
       "      <th>rub_per_minute</th>\n",
       "      <th>tariff_name</th>\n",
       "      <th>gb_per_month_included</th>\n",
       "    </tr>\n",
       "  </thead>\n",
       "  <tbody>\n",
       "    <tr>\n",
       "      <td>0</td>\n",
       "      <td>1000</td>\n",
       "      <td>5.0</td>\n",
       "      <td>22.0</td>\n",
       "      <td>159.0</td>\n",
       "      <td>3.0</td>\n",
       "      <td>22.0</td>\n",
       "      <td>52</td>\n",
       "      <td>NaT</td>\n",
       "      <td>Краснодар</td>\n",
       "      <td>Рафаил</td>\n",
       "      <td>Верещагин</td>\n",
       "      <td>2018-05-25</td>\n",
       "      <td>ultra</td>\n",
       "      <td>1000</td>\n",
       "      <td>30720</td>\n",
       "      <td>3000</td>\n",
       "      <td>1950</td>\n",
       "      <td>150</td>\n",
       "      <td>1</td>\n",
       "      <td>1</td>\n",
       "      <td>ultra</td>\n",
       "      <td>30</td>\n",
       "    </tr>\n",
       "    <tr>\n",
       "      <td>1</td>\n",
       "      <td>1000</td>\n",
       "      <td>6.0</td>\n",
       "      <td>43.0</td>\n",
       "      <td>172.0</td>\n",
       "      <td>23.0</td>\n",
       "      <td>60.0</td>\n",
       "      <td>52</td>\n",
       "      <td>NaT</td>\n",
       "      <td>Краснодар</td>\n",
       "      <td>Рафаил</td>\n",
       "      <td>Верещагин</td>\n",
       "      <td>2018-05-25</td>\n",
       "      <td>ultra</td>\n",
       "      <td>1000</td>\n",
       "      <td>30720</td>\n",
       "      <td>3000</td>\n",
       "      <td>1950</td>\n",
       "      <td>150</td>\n",
       "      <td>1</td>\n",
       "      <td>1</td>\n",
       "      <td>ultra</td>\n",
       "      <td>30</td>\n",
       "    </tr>\n",
       "    <tr>\n",
       "      <td>2</td>\n",
       "      <td>1000</td>\n",
       "      <td>7.0</td>\n",
       "      <td>47.0</td>\n",
       "      <td>340.0</td>\n",
       "      <td>14.0</td>\n",
       "      <td>75.0</td>\n",
       "      <td>52</td>\n",
       "      <td>NaT</td>\n",
       "      <td>Краснодар</td>\n",
       "      <td>Рафаил</td>\n",
       "      <td>Верещагин</td>\n",
       "      <td>2018-05-25</td>\n",
       "      <td>ultra</td>\n",
       "      <td>1000</td>\n",
       "      <td>30720</td>\n",
       "      <td>3000</td>\n",
       "      <td>1950</td>\n",
       "      <td>150</td>\n",
       "      <td>1</td>\n",
       "      <td>1</td>\n",
       "      <td>ultra</td>\n",
       "      <td>30</td>\n",
       "    </tr>\n",
       "    <tr>\n",
       "      <td>3</td>\n",
       "      <td>1000</td>\n",
       "      <td>8.0</td>\n",
       "      <td>52.0</td>\n",
       "      <td>408.0</td>\n",
       "      <td>14.0</td>\n",
       "      <td>81.0</td>\n",
       "      <td>52</td>\n",
       "      <td>NaT</td>\n",
       "      <td>Краснодар</td>\n",
       "      <td>Рафаил</td>\n",
       "      <td>Верещагин</td>\n",
       "      <td>2018-05-25</td>\n",
       "      <td>ultra</td>\n",
       "      <td>1000</td>\n",
       "      <td>30720</td>\n",
       "      <td>3000</td>\n",
       "      <td>1950</td>\n",
       "      <td>150</td>\n",
       "      <td>1</td>\n",
       "      <td>1</td>\n",
       "      <td>ultra</td>\n",
       "      <td>30</td>\n",
       "    </tr>\n",
       "    <tr>\n",
       "      <td>4</td>\n",
       "      <td>1000</td>\n",
       "      <td>9.0</td>\n",
       "      <td>58.0</td>\n",
       "      <td>466.0</td>\n",
       "      <td>15.0</td>\n",
       "      <td>57.0</td>\n",
       "      <td>52</td>\n",
       "      <td>NaT</td>\n",
       "      <td>Краснодар</td>\n",
       "      <td>Рафаил</td>\n",
       "      <td>Верещагин</td>\n",
       "      <td>2018-05-25</td>\n",
       "      <td>ultra</td>\n",
       "      <td>1000</td>\n",
       "      <td>30720</td>\n",
       "      <td>3000</td>\n",
       "      <td>1950</td>\n",
       "      <td>150</td>\n",
       "      <td>1</td>\n",
       "      <td>1</td>\n",
       "      <td>ultra</td>\n",
       "      <td>30</td>\n",
       "    </tr>\n",
       "    <tr>\n",
       "      <td>...</td>\n",
       "      <td>...</td>\n",
       "      <td>...</td>\n",
       "      <td>...</td>\n",
       "      <td>...</td>\n",
       "      <td>...</td>\n",
       "      <td>...</td>\n",
       "      <td>...</td>\n",
       "      <td>...</td>\n",
       "      <td>...</td>\n",
       "      <td>...</td>\n",
       "      <td>...</td>\n",
       "      <td>...</td>\n",
       "      <td>...</td>\n",
       "      <td>...</td>\n",
       "      <td>...</td>\n",
       "      <td>...</td>\n",
       "      <td>...</td>\n",
       "      <td>...</td>\n",
       "      <td>...</td>\n",
       "      <td>...</td>\n",
       "      <td>...</td>\n",
       "      <td>...</td>\n",
       "    </tr>\n",
       "    <tr>\n",
       "      <td>3211</td>\n",
       "      <td>1489</td>\n",
       "      <td>9.0</td>\n",
       "      <td>NaN</td>\n",
       "      <td>NaN</td>\n",
       "      <td>17.0</td>\n",
       "      <td>32.0</td>\n",
       "      <td>35</td>\n",
       "      <td>NaT</td>\n",
       "      <td>Санкт-Петербург</td>\n",
       "      <td>Павел</td>\n",
       "      <td>Гончаров</td>\n",
       "      <td>2018-08-15</td>\n",
       "      <td>smart</td>\n",
       "      <td>50</td>\n",
       "      <td>15360</td>\n",
       "      <td>500</td>\n",
       "      <td>550</td>\n",
       "      <td>200</td>\n",
       "      <td>3</td>\n",
       "      <td>3</td>\n",
       "      <td>smart</td>\n",
       "      <td>15</td>\n",
       "    </tr>\n",
       "    <tr>\n",
       "      <td>3212</td>\n",
       "      <td>1489</td>\n",
       "      <td>10.0</td>\n",
       "      <td>NaN</td>\n",
       "      <td>NaN</td>\n",
       "      <td>20.0</td>\n",
       "      <td>21.0</td>\n",
       "      <td>35</td>\n",
       "      <td>NaT</td>\n",
       "      <td>Санкт-Петербург</td>\n",
       "      <td>Павел</td>\n",
       "      <td>Гончаров</td>\n",
       "      <td>2018-08-15</td>\n",
       "      <td>smart</td>\n",
       "      <td>50</td>\n",
       "      <td>15360</td>\n",
       "      <td>500</td>\n",
       "      <td>550</td>\n",
       "      <td>200</td>\n",
       "      <td>3</td>\n",
       "      <td>3</td>\n",
       "      <td>smart</td>\n",
       "      <td>15</td>\n",
       "    </tr>\n",
       "    <tr>\n",
       "      <td>3213</td>\n",
       "      <td>1489</td>\n",
       "      <td>11.0</td>\n",
       "      <td>NaN</td>\n",
       "      <td>NaN</td>\n",
       "      <td>18.0</td>\n",
       "      <td>20.0</td>\n",
       "      <td>35</td>\n",
       "      <td>NaT</td>\n",
       "      <td>Санкт-Петербург</td>\n",
       "      <td>Павел</td>\n",
       "      <td>Гончаров</td>\n",
       "      <td>2018-08-15</td>\n",
       "      <td>smart</td>\n",
       "      <td>50</td>\n",
       "      <td>15360</td>\n",
       "      <td>500</td>\n",
       "      <td>550</td>\n",
       "      <td>200</td>\n",
       "      <td>3</td>\n",
       "      <td>3</td>\n",
       "      <td>smart</td>\n",
       "      <td>15</td>\n",
       "    </tr>\n",
       "    <tr>\n",
       "      <td>3214</td>\n",
       "      <td>1489</td>\n",
       "      <td>12.0</td>\n",
       "      <td>NaN</td>\n",
       "      <td>NaN</td>\n",
       "      <td>17.0</td>\n",
       "      <td>35.0</td>\n",
       "      <td>35</td>\n",
       "      <td>NaT</td>\n",
       "      <td>Санкт-Петербург</td>\n",
       "      <td>Павел</td>\n",
       "      <td>Гончаров</td>\n",
       "      <td>2018-08-15</td>\n",
       "      <td>smart</td>\n",
       "      <td>50</td>\n",
       "      <td>15360</td>\n",
       "      <td>500</td>\n",
       "      <td>550</td>\n",
       "      <td>200</td>\n",
       "      <td>3</td>\n",
       "      <td>3</td>\n",
       "      <td>smart</td>\n",
       "      <td>15</td>\n",
       "    </tr>\n",
       "    <tr>\n",
       "      <td>3215</td>\n",
       "      <td>1371</td>\n",
       "      <td>NaN</td>\n",
       "      <td>NaN</td>\n",
       "      <td>NaN</td>\n",
       "      <td>NaN</td>\n",
       "      <td>NaN</td>\n",
       "      <td>50</td>\n",
       "      <td>2018-12-30</td>\n",
       "      <td>Омск</td>\n",
       "      <td>Ириней</td>\n",
       "      <td>Трофимов</td>\n",
       "      <td>2018-12-25</td>\n",
       "      <td>smart</td>\n",
       "      <td>50</td>\n",
       "      <td>15360</td>\n",
       "      <td>500</td>\n",
       "      <td>550</td>\n",
       "      <td>200</td>\n",
       "      <td>3</td>\n",
       "      <td>3</td>\n",
       "      <td>smart</td>\n",
       "      <td>15</td>\n",
       "    </tr>\n",
       "  </tbody>\n",
       "</table>\n",
       "<p>3216 rows × 22 columns</p>\n",
       "</div>"
      ],
      "text/plain": [
       "      user_id  month  count_calls  duration_calls  gb_used  message  age  \\\n",
       "0        1000    5.0         22.0           159.0      3.0     22.0   52   \n",
       "1        1000    6.0         43.0           172.0     23.0     60.0   52   \n",
       "2        1000    7.0         47.0           340.0     14.0     75.0   52   \n",
       "3        1000    8.0         52.0           408.0     14.0     81.0   52   \n",
       "4        1000    9.0         58.0           466.0     15.0     57.0   52   \n",
       "...       ...    ...          ...             ...      ...      ...  ...   \n",
       "3211     1489    9.0          NaN             NaN     17.0     32.0   35   \n",
       "3212     1489   10.0          NaN             NaN     20.0     21.0   35   \n",
       "3213     1489   11.0          NaN             NaN     18.0     20.0   35   \n",
       "3214     1489   12.0          NaN             NaN     17.0     35.0   35   \n",
       "3215     1371    NaN          NaN             NaN      NaN      NaN   50   \n",
       "\n",
       "     churn_date             city first_name  last_name   reg_date tariff  \\\n",
       "0           NaT        Краснодар     Рафаил  Верещагин 2018-05-25  ultra   \n",
       "1           NaT        Краснодар     Рафаил  Верещагин 2018-05-25  ultra   \n",
       "2           NaT        Краснодар     Рафаил  Верещагин 2018-05-25  ultra   \n",
       "3           NaT        Краснодар     Рафаил  Верещагин 2018-05-25  ultra   \n",
       "4           NaT        Краснодар     Рафаил  Верещагин 2018-05-25  ultra   \n",
       "...         ...              ...        ...        ...        ...    ...   \n",
       "3211        NaT  Санкт-Петербург      Павел   Гончаров 2018-08-15  smart   \n",
       "3212        NaT  Санкт-Петербург      Павел   Гончаров 2018-08-15  smart   \n",
       "3213        NaT  Санкт-Петербург      Павел   Гончаров 2018-08-15  smart   \n",
       "3214        NaT  Санкт-Петербург      Павел   Гончаров 2018-08-15  smart   \n",
       "3215 2018-12-30             Омск     Ириней   Трофимов 2018-12-25  smart   \n",
       "\n",
       "      messages_included  mb_per_month_included  minutes_included  \\\n",
       "0                  1000                  30720              3000   \n",
       "1                  1000                  30720              3000   \n",
       "2                  1000                  30720              3000   \n",
       "3                  1000                  30720              3000   \n",
       "4                  1000                  30720              3000   \n",
       "...                 ...                    ...               ...   \n",
       "3211                 50                  15360               500   \n",
       "3212                 50                  15360               500   \n",
       "3213                 50                  15360               500   \n",
       "3214                 50                  15360               500   \n",
       "3215                 50                  15360               500   \n",
       "\n",
       "      rub_monthly_fee  rub_per_gb  rub_per_message  rub_per_minute  \\\n",
       "0                1950         150                1               1   \n",
       "1                1950         150                1               1   \n",
       "2                1950         150                1               1   \n",
       "3                1950         150                1               1   \n",
       "4                1950         150                1               1   \n",
       "...               ...         ...              ...             ...   \n",
       "3211              550         200                3               3   \n",
       "3212              550         200                3               3   \n",
       "3213              550         200                3               3   \n",
       "3214              550         200                3               3   \n",
       "3215              550         200                3               3   \n",
       "\n",
       "     tariff_name  gb_per_month_included  \n",
       "0          ultra                     30  \n",
       "1          ultra                     30  \n",
       "2          ultra                     30  \n",
       "3          ultra                     30  \n",
       "4          ultra                     30  \n",
       "...          ...                    ...  \n",
       "3211       smart                     15  \n",
       "3212       smart                     15  \n",
       "3213       smart                     15  \n",
       "3214       smart                     15  \n",
       "3215       smart                     15  \n",
       "\n",
       "[3216 rows x 22 columns]"
      ]
     },
     "execution_count": 59,
     "metadata": {},
     "output_type": "execute_result"
    }
   ],
   "source": [
    "all_info_per_month"
   ]
  },
  {
   "cell_type": "markdown",
   "metadata": {},
   "source": [
    "В столбцах `duration_calls`, `gb_used` и `message` все значения Nan заменяем на нули для грамотного расчета платежей. Они появились после слияния таблиц там, где пользователи за месяц не пользовались данной услугой."
   ]
  },
  {
   "cell_type": "code",
   "execution_count": 60,
   "metadata": {},
   "outputs": [],
   "source": [
    "all_info_per_month['duration_calls'] = all_info_per_month['duration_calls'].fillna(0)"
   ]
  },
  {
   "cell_type": "code",
   "execution_count": 61,
   "metadata": {},
   "outputs": [],
   "source": [
    "all_info_per_month['gb_used'] = all_info_per_month['gb_used'].fillna(0)"
   ]
  },
  {
   "cell_type": "code",
   "execution_count": 62,
   "metadata": {},
   "outputs": [],
   "source": [
    "all_info_per_month['message'] = all_info_per_month['message'].fillna(0)"
   ]
  },
  {
   "cell_type": "markdown",
   "metadata": {},
   "source": [
    "Помесячный платёж пользователя:\n",
    "- вычтем бесплатный лимит из суммарного количества звонков, сообщений и интернет-трафика;\n",
    "- остаток умножем на значение из тарифного плана;\n",
    "- прибавим абонентскую плату, соответствующую тарифному плану."
   ]
  },
  {
   "cell_type": "markdown",
   "metadata": {},
   "source": [
    "Переплата за звонки:"
   ]
  },
  {
   "cell_type": "code",
   "execution_count": 63,
   "metadata": {},
   "outputs": [],
   "source": [
    "# Вычитаем из столбца с длительностью звонка включенные в тариф минуты\n",
    "all_info_per_month['excess_calls'] = all_info_per_month['duration_calls'] - all_info_per_month['minutes_included']"
   ]
  },
  {
   "cell_type": "code",
   "execution_count": 64,
   "metadata": {},
   "outputs": [],
   "source": [
    "# все отрицательные значения в новом столбце заменяем на ноль (нет перерасхода трафика)\n",
    "all_info_per_month['excess_calls'] = all_info_per_month['excess_calls'].apply(lambda x:  0 if x < 0 else x)"
   ]
  },
  {
   "cell_type": "markdown",
   "metadata": {},
   "source": [
    "Переплата за сообщения"
   ]
  },
  {
   "cell_type": "code",
   "execution_count": 65,
   "metadata": {},
   "outputs": [],
   "source": [
    "all_info_per_month['excess_message'] = all_info_per_month['message'] - all_info_per_month['messages_included']"
   ]
  },
  {
   "cell_type": "code",
   "execution_count": 66,
   "metadata": {},
   "outputs": [],
   "source": [
    "all_info_per_month['excess_message'] = all_info_per_month['excess_message'].apply(lambda x:  0 if x < 0 else x)"
   ]
  },
  {
   "cell_type": "markdown",
   "metadata": {},
   "source": [
    "Переплата за инетернет"
   ]
  },
  {
   "cell_type": "code",
   "execution_count": 67,
   "metadata": {},
   "outputs": [],
   "source": [
    "all_info_per_month['excess_gb_used'] = all_info_per_month['gb_used'] - all_info_per_month['gb_per_month_included']"
   ]
  },
  {
   "cell_type": "code",
   "execution_count": 68,
   "metadata": {},
   "outputs": [],
   "source": [
    "all_info_per_month['excess_gb_used'] = all_info_per_month['excess_gb_used'].apply(lambda x:  0 if x < 0 else x)"
   ]
  },
  {
   "cell_type": "markdown",
   "metadata": {},
   "source": [
    "Платёж пользователя:"
   ]
  },
  {
   "cell_type": "code",
   "execution_count": 69,
   "metadata": {},
   "outputs": [],
   "source": [
    "all_info_per_month['payment'] = all_info_per_month['rub_monthly_fee'] + all_info_per_month['excess_calls'] * all_info_per_month['rub_per_minute']  + all_info_per_month['excess_message'] * all_info_per_month['rub_per_message'] + all_info_per_month['excess_gb_used'] * all_info_per_month['rub_per_gb']"
   ]
  },
  {
   "cell_type": "code",
   "execution_count": 70,
   "metadata": {
    "scrolled": true
   },
   "outputs": [
    {
     "data": {
      "text/plain": [
       "0"
      ]
     },
     "execution_count": 70,
     "metadata": {},
     "output_type": "execute_result"
    }
   ],
   "source": [
    "all_info_per_month['payment'].isna().sum()"
   ]
  },
  {
   "cell_type": "markdown",
   "metadata": {},
   "source": [
    "Пустых хначений в столбце с платежами нет."
   ]
  },
  {
   "cell_type": "code",
   "execution_count": 71,
   "metadata": {},
   "outputs": [
    {
     "data": {
      "text/html": [
       "<div>\n",
       "<style scoped>\n",
       "    .dataframe tbody tr th:only-of-type {\n",
       "        vertical-align: middle;\n",
       "    }\n",
       "\n",
       "    .dataframe tbody tr th {\n",
       "        vertical-align: top;\n",
       "    }\n",
       "\n",
       "    .dataframe thead th {\n",
       "        text-align: right;\n",
       "    }\n",
       "</style>\n",
       "<table border=\"1\" class=\"dataframe\">\n",
       "  <thead>\n",
       "    <tr style=\"text-align: right;\">\n",
       "      <th></th>\n",
       "      <th>user_id</th>\n",
       "      <th>month</th>\n",
       "      <th>count_calls</th>\n",
       "      <th>duration_calls</th>\n",
       "      <th>gb_used</th>\n",
       "      <th>message</th>\n",
       "      <th>age</th>\n",
       "      <th>churn_date</th>\n",
       "      <th>city</th>\n",
       "      <th>first_name</th>\n",
       "      <th>last_name</th>\n",
       "      <th>reg_date</th>\n",
       "      <th>tariff</th>\n",
       "      <th>messages_included</th>\n",
       "      <th>mb_per_month_included</th>\n",
       "      <th>minutes_included</th>\n",
       "      <th>rub_monthly_fee</th>\n",
       "      <th>rub_per_gb</th>\n",
       "      <th>rub_per_message</th>\n",
       "      <th>rub_per_minute</th>\n",
       "      <th>tariff_name</th>\n",
       "      <th>gb_per_month_included</th>\n",
       "      <th>excess_calls</th>\n",
       "      <th>excess_message</th>\n",
       "      <th>excess_gb_used</th>\n",
       "      <th>payment</th>\n",
       "    </tr>\n",
       "  </thead>\n",
       "  <tbody>\n",
       "    <tr>\n",
       "      <td>0</td>\n",
       "      <td>1000</td>\n",
       "      <td>5.0</td>\n",
       "      <td>22.0</td>\n",
       "      <td>159.0</td>\n",
       "      <td>3.0</td>\n",
       "      <td>22.0</td>\n",
       "      <td>52</td>\n",
       "      <td>NaT</td>\n",
       "      <td>Краснодар</td>\n",
       "      <td>Рафаил</td>\n",
       "      <td>Верещагин</td>\n",
       "      <td>2018-05-25</td>\n",
       "      <td>ultra</td>\n",
       "      <td>1000</td>\n",
       "      <td>30720</td>\n",
       "      <td>3000</td>\n",
       "      <td>1950</td>\n",
       "      <td>150</td>\n",
       "      <td>1</td>\n",
       "      <td>1</td>\n",
       "      <td>ultra</td>\n",
       "      <td>30</td>\n",
       "      <td>0.0</td>\n",
       "      <td>0.0</td>\n",
       "      <td>0.0</td>\n",
       "      <td>1950.0</td>\n",
       "    </tr>\n",
       "    <tr>\n",
       "      <td>1</td>\n",
       "      <td>1000</td>\n",
       "      <td>6.0</td>\n",
       "      <td>43.0</td>\n",
       "      <td>172.0</td>\n",
       "      <td>23.0</td>\n",
       "      <td>60.0</td>\n",
       "      <td>52</td>\n",
       "      <td>NaT</td>\n",
       "      <td>Краснодар</td>\n",
       "      <td>Рафаил</td>\n",
       "      <td>Верещагин</td>\n",
       "      <td>2018-05-25</td>\n",
       "      <td>ultra</td>\n",
       "      <td>1000</td>\n",
       "      <td>30720</td>\n",
       "      <td>3000</td>\n",
       "      <td>1950</td>\n",
       "      <td>150</td>\n",
       "      <td>1</td>\n",
       "      <td>1</td>\n",
       "      <td>ultra</td>\n",
       "      <td>30</td>\n",
       "      <td>0.0</td>\n",
       "      <td>0.0</td>\n",
       "      <td>0.0</td>\n",
       "      <td>1950.0</td>\n",
       "    </tr>\n",
       "    <tr>\n",
       "      <td>2</td>\n",
       "      <td>1000</td>\n",
       "      <td>7.0</td>\n",
       "      <td>47.0</td>\n",
       "      <td>340.0</td>\n",
       "      <td>14.0</td>\n",
       "      <td>75.0</td>\n",
       "      <td>52</td>\n",
       "      <td>NaT</td>\n",
       "      <td>Краснодар</td>\n",
       "      <td>Рафаил</td>\n",
       "      <td>Верещагин</td>\n",
       "      <td>2018-05-25</td>\n",
       "      <td>ultra</td>\n",
       "      <td>1000</td>\n",
       "      <td>30720</td>\n",
       "      <td>3000</td>\n",
       "      <td>1950</td>\n",
       "      <td>150</td>\n",
       "      <td>1</td>\n",
       "      <td>1</td>\n",
       "      <td>ultra</td>\n",
       "      <td>30</td>\n",
       "      <td>0.0</td>\n",
       "      <td>0.0</td>\n",
       "      <td>0.0</td>\n",
       "      <td>1950.0</td>\n",
       "    </tr>\n",
       "    <tr>\n",
       "      <td>3</td>\n",
       "      <td>1000</td>\n",
       "      <td>8.0</td>\n",
       "      <td>52.0</td>\n",
       "      <td>408.0</td>\n",
       "      <td>14.0</td>\n",
       "      <td>81.0</td>\n",
       "      <td>52</td>\n",
       "      <td>NaT</td>\n",
       "      <td>Краснодар</td>\n",
       "      <td>Рафаил</td>\n",
       "      <td>Верещагин</td>\n",
       "      <td>2018-05-25</td>\n",
       "      <td>ultra</td>\n",
       "      <td>1000</td>\n",
       "      <td>30720</td>\n",
       "      <td>3000</td>\n",
       "      <td>1950</td>\n",
       "      <td>150</td>\n",
       "      <td>1</td>\n",
       "      <td>1</td>\n",
       "      <td>ultra</td>\n",
       "      <td>30</td>\n",
       "      <td>0.0</td>\n",
       "      <td>0.0</td>\n",
       "      <td>0.0</td>\n",
       "      <td>1950.0</td>\n",
       "    </tr>\n",
       "    <tr>\n",
       "      <td>4</td>\n",
       "      <td>1000</td>\n",
       "      <td>9.0</td>\n",
       "      <td>58.0</td>\n",
       "      <td>466.0</td>\n",
       "      <td>15.0</td>\n",
       "      <td>57.0</td>\n",
       "      <td>52</td>\n",
       "      <td>NaT</td>\n",
       "      <td>Краснодар</td>\n",
       "      <td>Рафаил</td>\n",
       "      <td>Верещагин</td>\n",
       "      <td>2018-05-25</td>\n",
       "      <td>ultra</td>\n",
       "      <td>1000</td>\n",
       "      <td>30720</td>\n",
       "      <td>3000</td>\n",
       "      <td>1950</td>\n",
       "      <td>150</td>\n",
       "      <td>1</td>\n",
       "      <td>1</td>\n",
       "      <td>ultra</td>\n",
       "      <td>30</td>\n",
       "      <td>0.0</td>\n",
       "      <td>0.0</td>\n",
       "      <td>0.0</td>\n",
       "      <td>1950.0</td>\n",
       "    </tr>\n",
       "    <tr>\n",
       "      <td>...</td>\n",
       "      <td>...</td>\n",
       "      <td>...</td>\n",
       "      <td>...</td>\n",
       "      <td>...</td>\n",
       "      <td>...</td>\n",
       "      <td>...</td>\n",
       "      <td>...</td>\n",
       "      <td>...</td>\n",
       "      <td>...</td>\n",
       "      <td>...</td>\n",
       "      <td>...</td>\n",
       "      <td>...</td>\n",
       "      <td>...</td>\n",
       "      <td>...</td>\n",
       "      <td>...</td>\n",
       "      <td>...</td>\n",
       "      <td>...</td>\n",
       "      <td>...</td>\n",
       "      <td>...</td>\n",
       "      <td>...</td>\n",
       "      <td>...</td>\n",
       "      <td>...</td>\n",
       "      <td>...</td>\n",
       "      <td>...</td>\n",
       "      <td>...</td>\n",
       "      <td>...</td>\n",
       "    </tr>\n",
       "    <tr>\n",
       "      <td>3211</td>\n",
       "      <td>1489</td>\n",
       "      <td>9.0</td>\n",
       "      <td>NaN</td>\n",
       "      <td>0.0</td>\n",
       "      <td>17.0</td>\n",
       "      <td>32.0</td>\n",
       "      <td>35</td>\n",
       "      <td>NaT</td>\n",
       "      <td>Санкт-Петербург</td>\n",
       "      <td>Павел</td>\n",
       "      <td>Гончаров</td>\n",
       "      <td>2018-08-15</td>\n",
       "      <td>smart</td>\n",
       "      <td>50</td>\n",
       "      <td>15360</td>\n",
       "      <td>500</td>\n",
       "      <td>550</td>\n",
       "      <td>200</td>\n",
       "      <td>3</td>\n",
       "      <td>3</td>\n",
       "      <td>smart</td>\n",
       "      <td>15</td>\n",
       "      <td>0.0</td>\n",
       "      <td>0.0</td>\n",
       "      <td>2.0</td>\n",
       "      <td>950.0</td>\n",
       "    </tr>\n",
       "    <tr>\n",
       "      <td>3212</td>\n",
       "      <td>1489</td>\n",
       "      <td>10.0</td>\n",
       "      <td>NaN</td>\n",
       "      <td>0.0</td>\n",
       "      <td>20.0</td>\n",
       "      <td>21.0</td>\n",
       "      <td>35</td>\n",
       "      <td>NaT</td>\n",
       "      <td>Санкт-Петербург</td>\n",
       "      <td>Павел</td>\n",
       "      <td>Гончаров</td>\n",
       "      <td>2018-08-15</td>\n",
       "      <td>smart</td>\n",
       "      <td>50</td>\n",
       "      <td>15360</td>\n",
       "      <td>500</td>\n",
       "      <td>550</td>\n",
       "      <td>200</td>\n",
       "      <td>3</td>\n",
       "      <td>3</td>\n",
       "      <td>smart</td>\n",
       "      <td>15</td>\n",
       "      <td>0.0</td>\n",
       "      <td>0.0</td>\n",
       "      <td>5.0</td>\n",
       "      <td>1550.0</td>\n",
       "    </tr>\n",
       "    <tr>\n",
       "      <td>3213</td>\n",
       "      <td>1489</td>\n",
       "      <td>11.0</td>\n",
       "      <td>NaN</td>\n",
       "      <td>0.0</td>\n",
       "      <td>18.0</td>\n",
       "      <td>20.0</td>\n",
       "      <td>35</td>\n",
       "      <td>NaT</td>\n",
       "      <td>Санкт-Петербург</td>\n",
       "      <td>Павел</td>\n",
       "      <td>Гончаров</td>\n",
       "      <td>2018-08-15</td>\n",
       "      <td>smart</td>\n",
       "      <td>50</td>\n",
       "      <td>15360</td>\n",
       "      <td>500</td>\n",
       "      <td>550</td>\n",
       "      <td>200</td>\n",
       "      <td>3</td>\n",
       "      <td>3</td>\n",
       "      <td>smart</td>\n",
       "      <td>15</td>\n",
       "      <td>0.0</td>\n",
       "      <td>0.0</td>\n",
       "      <td>3.0</td>\n",
       "      <td>1150.0</td>\n",
       "    </tr>\n",
       "    <tr>\n",
       "      <td>3214</td>\n",
       "      <td>1489</td>\n",
       "      <td>12.0</td>\n",
       "      <td>NaN</td>\n",
       "      <td>0.0</td>\n",
       "      <td>17.0</td>\n",
       "      <td>35.0</td>\n",
       "      <td>35</td>\n",
       "      <td>NaT</td>\n",
       "      <td>Санкт-Петербург</td>\n",
       "      <td>Павел</td>\n",
       "      <td>Гончаров</td>\n",
       "      <td>2018-08-15</td>\n",
       "      <td>smart</td>\n",
       "      <td>50</td>\n",
       "      <td>15360</td>\n",
       "      <td>500</td>\n",
       "      <td>550</td>\n",
       "      <td>200</td>\n",
       "      <td>3</td>\n",
       "      <td>3</td>\n",
       "      <td>smart</td>\n",
       "      <td>15</td>\n",
       "      <td>0.0</td>\n",
       "      <td>0.0</td>\n",
       "      <td>2.0</td>\n",
       "      <td>950.0</td>\n",
       "    </tr>\n",
       "    <tr>\n",
       "      <td>3215</td>\n",
       "      <td>1371</td>\n",
       "      <td>NaN</td>\n",
       "      <td>NaN</td>\n",
       "      <td>0.0</td>\n",
       "      <td>0.0</td>\n",
       "      <td>0.0</td>\n",
       "      <td>50</td>\n",
       "      <td>2018-12-30</td>\n",
       "      <td>Омск</td>\n",
       "      <td>Ириней</td>\n",
       "      <td>Трофимов</td>\n",
       "      <td>2018-12-25</td>\n",
       "      <td>smart</td>\n",
       "      <td>50</td>\n",
       "      <td>15360</td>\n",
       "      <td>500</td>\n",
       "      <td>550</td>\n",
       "      <td>200</td>\n",
       "      <td>3</td>\n",
       "      <td>3</td>\n",
       "      <td>smart</td>\n",
       "      <td>15</td>\n",
       "      <td>0.0</td>\n",
       "      <td>0.0</td>\n",
       "      <td>0.0</td>\n",
       "      <td>550.0</td>\n",
       "    </tr>\n",
       "  </tbody>\n",
       "</table>\n",
       "<p>3216 rows × 26 columns</p>\n",
       "</div>"
      ],
      "text/plain": [
       "      user_id  month  count_calls  duration_calls  gb_used  message  age  \\\n",
       "0        1000    5.0         22.0           159.0      3.0     22.0   52   \n",
       "1        1000    6.0         43.0           172.0     23.0     60.0   52   \n",
       "2        1000    7.0         47.0           340.0     14.0     75.0   52   \n",
       "3        1000    8.0         52.0           408.0     14.0     81.0   52   \n",
       "4        1000    9.0         58.0           466.0     15.0     57.0   52   \n",
       "...       ...    ...          ...             ...      ...      ...  ...   \n",
       "3211     1489    9.0          NaN             0.0     17.0     32.0   35   \n",
       "3212     1489   10.0          NaN             0.0     20.0     21.0   35   \n",
       "3213     1489   11.0          NaN             0.0     18.0     20.0   35   \n",
       "3214     1489   12.0          NaN             0.0     17.0     35.0   35   \n",
       "3215     1371    NaN          NaN             0.0      0.0      0.0   50   \n",
       "\n",
       "     churn_date             city first_name  last_name   reg_date tariff  \\\n",
       "0           NaT        Краснодар     Рафаил  Верещагин 2018-05-25  ultra   \n",
       "1           NaT        Краснодар     Рафаил  Верещагин 2018-05-25  ultra   \n",
       "2           NaT        Краснодар     Рафаил  Верещагин 2018-05-25  ultra   \n",
       "3           NaT        Краснодар     Рафаил  Верещагин 2018-05-25  ultra   \n",
       "4           NaT        Краснодар     Рафаил  Верещагин 2018-05-25  ultra   \n",
       "...         ...              ...        ...        ...        ...    ...   \n",
       "3211        NaT  Санкт-Петербург      Павел   Гончаров 2018-08-15  smart   \n",
       "3212        NaT  Санкт-Петербург      Павел   Гончаров 2018-08-15  smart   \n",
       "3213        NaT  Санкт-Петербург      Павел   Гончаров 2018-08-15  smart   \n",
       "3214        NaT  Санкт-Петербург      Павел   Гончаров 2018-08-15  smart   \n",
       "3215 2018-12-30             Омск     Ириней   Трофимов 2018-12-25  smart   \n",
       "\n",
       "      messages_included  mb_per_month_included  minutes_included  \\\n",
       "0                  1000                  30720              3000   \n",
       "1                  1000                  30720              3000   \n",
       "2                  1000                  30720              3000   \n",
       "3                  1000                  30720              3000   \n",
       "4                  1000                  30720              3000   \n",
       "...                 ...                    ...               ...   \n",
       "3211                 50                  15360               500   \n",
       "3212                 50                  15360               500   \n",
       "3213                 50                  15360               500   \n",
       "3214                 50                  15360               500   \n",
       "3215                 50                  15360               500   \n",
       "\n",
       "      rub_monthly_fee  rub_per_gb  rub_per_message  rub_per_minute  \\\n",
       "0                1950         150                1               1   \n",
       "1                1950         150                1               1   \n",
       "2                1950         150                1               1   \n",
       "3                1950         150                1               1   \n",
       "4                1950         150                1               1   \n",
       "...               ...         ...              ...             ...   \n",
       "3211              550         200                3               3   \n",
       "3212              550         200                3               3   \n",
       "3213              550         200                3               3   \n",
       "3214              550         200                3               3   \n",
       "3215              550         200                3               3   \n",
       "\n",
       "     tariff_name  gb_per_month_included  excess_calls  excess_message  \\\n",
       "0          ultra                     30           0.0             0.0   \n",
       "1          ultra                     30           0.0             0.0   \n",
       "2          ultra                     30           0.0             0.0   \n",
       "3          ultra                     30           0.0             0.0   \n",
       "4          ultra                     30           0.0             0.0   \n",
       "...          ...                    ...           ...             ...   \n",
       "3211       smart                     15           0.0             0.0   \n",
       "3212       smart                     15           0.0             0.0   \n",
       "3213       smart                     15           0.0             0.0   \n",
       "3214       smart                     15           0.0             0.0   \n",
       "3215       smart                     15           0.0             0.0   \n",
       "\n",
       "      excess_gb_used  payment  \n",
       "0                0.0   1950.0  \n",
       "1                0.0   1950.0  \n",
       "2                0.0   1950.0  \n",
       "3                0.0   1950.0  \n",
       "4                0.0   1950.0  \n",
       "...              ...      ...  \n",
       "3211             2.0    950.0  \n",
       "3212             5.0   1550.0  \n",
       "3213             3.0   1150.0  \n",
       "3214             2.0    950.0  \n",
       "3215             0.0    550.0  \n",
       "\n",
       "[3216 rows x 26 columns]"
      ]
     },
     "execution_count": 71,
     "metadata": {},
     "output_type": "execute_result"
    }
   ],
   "source": [
    "all_info_per_month"
   ]
  },
  {
   "cell_type": "markdown",
   "metadata": {},
   "source": [
    "### Вывод"
   ]
  },
  {
   "cell_type": "markdown",
   "metadata": {},
   "source": [
    "На основе полученных данных создали расширенную таблицу с информацией о пользователях: для каждого пользователя помесячно были добавлены: количество и длительность звонков, количество сообщений и трафика. Добавлены ежемесячные платежи пользователей."
   ]
  },
  {
   "cell_type": "markdown",
   "metadata": {},
   "source": [
    "## Шаг 3. Проанализируйте данные\n",
    "Опишите поведение клиентов оператора, исходя из выборки.\n",
    "\n",
    "Сколько минут разговора, сколько сообщений и какой объём интернет-трафика требуется пользователям каждого тарифа в месяц?\n",
    "\n",
    "Посчитайте среднее количество, дисперсию и стандартное отклонение. Постройте гистограммы. Опишите распределения."
   ]
  },
  {
   "cell_type": "markdown",
   "metadata": {},
   "source": [
    "Напишем функцию, которая строит распределение для выбраннго тарифа, выводит описание статистических параметров:"
   ]
  },
  {
   "cell_type": "code",
   "execution_count": 72,
   "metadata": {},
   "outputs": [],
   "source": [
    "#функция, которая выводит  связку hist, describe variance для столбца tariff для разных тарифов\n",
    "def describe_func(tarif, column_df, bins_val, range_min, range_max):\n",
    "    print(f'Распределение в месяц для тарифа {tarif}.')\n",
    "    all_info_per_month.query(f'tariff == \"{tarif}\"').hist(column=column_df,bins=bins_val,range=(range_min,range_max))\n",
    "    plt.show()\n",
    "    print(\"Посмотрим на среднее, медиану, дисперсию и стандартное отклонение выборки: \")\n",
    "    display(all_info_per_month.query(f'tariff == \"{tarif}\"')[column_df].describe())\n",
    "    variance = np.var(all_info_per_month.query(f'tariff == \"{tarif}\"')[column_df])\n",
    "    print(f'Дисперсия: {variance}')\n",
    "    return"
   ]
  },
  {
   "cell_type": "markdown",
   "metadata": {},
   "source": [
    "### Разговоры"
   ]
  },
  {
   "cell_type": "code",
   "execution_count": 73,
   "metadata": {
    "scrolled": true
   },
   "outputs": [
    {
     "name": "stdout",
     "output_type": "stream",
     "text": [
      "Распределение в месяц для тарифа ultra.\n"
     ]
    },
    {
     "data": {
      "image/png": "[encoded data removed]",
      "text/plain": [
       "<Figure size 432x288 with 1 Axes>"
      ]
     },
     "metadata": {
      "needs_background": "light"
     },
     "output_type": "display_data"
    },
    {
     "name": "stdout",
     "output_type": "stream",
     "text": [
      "Посмотрим на среднее, медиану, дисперсию и стандартное отклонение выборки: \n"
     ]
    },
    {
     "data": {
      "text/plain": [
       "count     986.000000\n",
       "mean      526.089249\n",
       "std       317.887549\n",
       "min         0.000000\n",
       "25%       282.500000\n",
       "50%       518.000000\n",
       "75%       751.750000\n",
       "max      1673.000000\n",
       "Name: duration_calls, dtype: float64"
      ]
     },
     "metadata": {},
     "output_type": "display_data"
    },
    {
     "name": "stdout",
     "output_type": "stream",
     "text": [
      "Дисперсия: 100950.00623331097\n"
     ]
    }
   ],
   "source": [
    "describe_func(tarif=\"ultra\", column_df='duration_calls', bins_val=50, range_min=0, range_max=1750)"
   ]
  },
  {
   "cell_type": "code",
   "execution_count": 74,
   "metadata": {
    "scrolled": true
   },
   "outputs": [
    {
     "name": "stdout",
     "output_type": "stream",
     "text": [
      "Распределение в месяц для тарифа smart.\n"
     ]
    },
    {
     "data": {
      "image/png": "[encoded data removed]",
      "text/plain": [
       "<Figure size 432x288 with 1 Axes>"
      ]
     },
     "metadata": {
      "needs_background": "light"
     },
     "output_type": "display_data"
    },
    {
     "name": "stdout",
     "output_type": "stream",
     "text": [
      "Посмотрим на среднее, медиану, дисперсию и стандартное отклонение выборки: \n"
     ]
    },
    {
     "data": {
      "text/plain": [
       "count    2230.000000\n",
       "mean      417.747534\n",
       "std       190.476754\n",
       "min         0.000000\n",
       "25%       282.000000\n",
       "50%       421.500000\n",
       "75%       545.000000\n",
       "max      1435.000000\n",
       "Name: duration_calls, dtype: float64"
      ]
     },
     "metadata": {},
     "output_type": "display_data"
    },
    {
     "name": "stdout",
     "output_type": "stream",
     "text": [
      "Дисперсия: 36265.12415310985\n"
     ]
    }
   ],
   "source": [
    "describe_func(tarif=\"smart\", column_df='duration_calls', bins_val=50, range_min=0, range_max=1750)"
   ]
  },
  {
   "cell_type": "markdown",
   "metadata": {},
   "source": [
    "Из гистограмм видно, что пользователи тарифа ультра в целом больше разговаривают по телефону. Оба распределения нормальны."
   ]
  },
  {
   "cell_type": "markdown",
   "metadata": {},
   "source": [
    "Ежемесячно пользователи тарифа Ультра звонили почти в 2 раза меньше, чем пользователей тарифа смарт. Но и пользователей тарифа Ультра меньше.\n",
    "\n",
    "У обоих выборок среднее и медианное почти совпадают, что тоже говорит в пользу нормального распределения выборки."
   ]
  },
  {
   "cell_type": "markdown",
   "metadata": {},
   "source": [
    "### Сообщения"
   ]
  },
  {
   "cell_type": "code",
   "execution_count": 75,
   "metadata": {
    "scrolled": true
   },
   "outputs": [
    {
     "name": "stdout",
     "output_type": "stream",
     "text": [
      "Распределение в месяц для тарифа ultra.\n"
     ]
    },
    {
     "data": {
      "image/png": "[encoded data removed]",
      "text/plain": [
       "<Figure size 432x288 with 1 Axes>"
      ]
     },
     "metadata": {
      "needs_background": "light"
     },
     "output_type": "display_data"
    },
    {
     "name": "stdout",
     "output_type": "stream",
     "text": [
      "Посмотрим на среднее, медиану, дисперсию и стандартное отклонение выборки: \n"
     ]
    },
    {
     "data": {
      "text/plain": [
       "count    986.000000\n",
       "mean      49.313387\n",
       "std       47.806040\n",
       "min        0.000000\n",
       "25%        6.000000\n",
       "50%       38.000000\n",
       "75%       78.750000\n",
       "max      224.000000\n",
       "Name: message, dtype: float64"
      ]
     },
     "metadata": {},
     "output_type": "display_data"
    },
    {
     "name": "stdout",
     "output_type": "stream",
     "text": [
      "Дисперсия: 2283.0995570851965\n"
     ]
    }
   ],
   "source": [
    "describe_func(tarif=\"ultra\", column_df='message', bins_val=50, range_min=0, range_max=250)"
   ]
  },
  {
   "cell_type": "code",
   "execution_count": 76,
   "metadata": {
    "scrolled": true
   },
   "outputs": [
    {
     "name": "stdout",
     "output_type": "stream",
     "text": [
      "Распределение в месяц для тарифа smart.\n"
     ]
    },
    {
     "data": {
      "image/png": "[encoded data removed]",
      "text/plain": [
       "<Figure size 432x288 with 1 Axes>"
      ]
     },
     "metadata": {
      "needs_background": "light"
     },
     "output_type": "display_data"
    },
    {
     "name": "stdout",
     "output_type": "stream",
     "text": [
      "Посмотрим на среднее, медиану, дисперсию и стандартное отклонение выборки: \n"
     ]
    },
    {
     "data": {
      "text/plain": [
       "count    2230.000000\n",
       "mean       33.369058\n",
       "std        28.230396\n",
       "min         0.000000\n",
       "25%        10.000000\n",
       "50%        28.000000\n",
       "75%        51.000000\n",
       "max       143.000000\n",
       "Name: message, dtype: float64"
      ]
     },
     "metadata": {},
     "output_type": "display_data"
    },
    {
     "name": "stdout",
     "output_type": "stream",
     "text": [
      "Дисперсия: 796.5978766916688\n"
     ]
    }
   ],
   "source": [
    "describe_func(tarif=\"smart\", column_df='message', bins_val=50, range_min=0, range_max=250)"
   ]
  },
  {
   "cell_type": "markdown",
   "metadata": {},
   "source": [
    "Из гистограмм видно, что пользователи тарифа ультра в целом больше отправляют сообщения."
   ]
  },
  {
   "cell_type": "markdown",
   "metadata": {},
   "source": [
    "Распределение похоже на рспределениу Пуассона, потому что есть ограниение на минимальное количество сообщений, меньше нуля сообщений в месяц быть не может. "
   ]
  },
  {
   "cell_type": "markdown",
   "metadata": {},
   "source": [
    "Ежемесячно пользователи тарифа Ультра почти в 2 раза меньше отправляли сообщения, чем пользователи тарифа Смарт. Но и пользователей тарифа Ультра меньше."
   ]
  },
  {
   "cell_type": "markdown",
   "metadata": {},
   "source": [
    "### Интернет"
   ]
  },
  {
   "cell_type": "code",
   "execution_count": 77,
   "metadata": {
    "scrolled": false
   },
   "outputs": [
    {
     "name": "stdout",
     "output_type": "stream",
     "text": [
      "Распределение в месяц для тарифа ultra.\n"
     ]
    },
    {
     "data": {
      "image/png": "[encoded data removed]",
      "text/plain": [
       "<Figure size 432x288 with 1 Axes>"
      ]
     },
     "metadata": {
      "needs_background": "light"
     },
     "output_type": "display_data"
    },
    {
     "name": "stdout",
     "output_type": "stream",
     "text": [
      "Посмотрим на среднее, медиану, дисперсию и стандартное отклонение выборки: \n"
     ]
    },
    {
     "data": {
      "text/plain": [
       "count    986.000000\n",
       "mean      19.474645\n",
       "std        9.868057\n",
       "min        0.000000\n",
       "25%       12.000000\n",
       "50%       19.000000\n",
       "75%       27.000000\n",
       "max       49.000000\n",
       "Name: gb_used, dtype: float64"
      ]
     },
     "metadata": {},
     "output_type": "display_data"
    },
    {
     "name": "stdout",
     "output_type": "stream",
     "text": [
      "Дисперсия: 97.27978308900676\n"
     ]
    }
   ],
   "source": [
    "describe_func(tarif=\"ultra\", column_df='gb_used', bins_val=20, range_min=0, range_max=60)"
   ]
  },
  {
   "cell_type": "code",
   "execution_count": 78,
   "metadata": {
    "scrolled": true
   },
   "outputs": [
    {
     "name": "stdout",
     "output_type": "stream",
     "text": [
      "Распределение в месяц для тарифа smart.\n"
     ]
    },
    {
     "data": {
      "image/png": "[encoded data removed]",
      "text/plain": [
       "<Figure size 432x288 with 1 Axes>"
      ]
     },
     "metadata": {
      "needs_background": "light"
     },
     "output_type": "display_data"
    },
    {
     "name": "stdout",
     "output_type": "stream",
     "text": [
      "Посмотрим на среднее, медиану, дисперсию и стандартное отклонение выборки: \n"
     ]
    },
    {
     "data": {
      "text/plain": [
       "count    2230.000000\n",
       "mean       16.321525\n",
       "std         5.756167\n",
       "min         0.000000\n",
       "25%        13.000000\n",
       "50%        17.000000\n",
       "75%        20.000000\n",
       "max        38.000000\n",
       "Name: gb_used, dtype: float64"
      ]
     },
     "metadata": {},
     "output_type": "display_data"
    },
    {
     "name": "stdout",
     "output_type": "stream",
     "text": [
      "Дисперсия: 33.11859498481772\n"
     ]
    }
   ],
   "source": [
    "describe_func(tarif=\"smart\", column_df='gb_used', bins_val=20, range_min=0, range_max=60)"
   ]
  },
  {
   "cell_type": "markdown",
   "metadata": {},
   "source": [
    "Из гистограмм видно, что пользователи тарифа Ультра используют трафик больше. Оба распределения нормальны."
   ]
  },
  {
   "cell_type": "markdown",
   "metadata": {},
   "source": [
    "У обоих выборок среднее и медианное почти совпадают, что тоже говорит в пользу нормального распределения выборки."
   ]
  },
  {
   "cell_type": "code",
   "execution_count": 79,
   "metadata": {
    "scrolled": true
   },
   "outputs": [
    {
     "data": {
      "text/plain": [
       "<matplotlib.axes._subplots.AxesSubplot at 0x7f36f2680710>"
      ]
     },
     "execution_count": 79,
     "metadata": {},
     "output_type": "execute_result"
    },
    {
     "data": {
      "image/png": "[encoded data removed]",
      "text/plain": [
       "<Figure size 1152x360 with 2 Axes>"
      ]
     },
     "metadata": {
      "needs_background": "light"
     },
     "output_type": "display_data"
    }
   ],
   "source": [
    "# Создадим одну строку с двумя колонками\n",
    "fig, axes = plt.subplots(1, 2, figsize=(16, 5))\n",
    "fig.suptitle('Распределения использования интернет трафика для двух тарифов')\n",
    "axes[0].set_title('Гистограмма распределения')\n",
    "axes[1].set_title('Диаграмма размаха')\n",
    "sns.distplot(all_info_per_month.query('tariff == \"ultra\"')['gb_used'], ax=axes[0], kde=False)\n",
    "sns.distplot(all_info_per_month.query('tariff == \"smart\"')['gb_used'], ax=axes[0], kde=False)\n",
    "sns.boxplot(ax=axes[1], x=all_info_per_month['gb_used'], y=all_info_per_month['tariff'])"
   ]
  },
  {
   "cell_type": "markdown",
   "metadata": {},
   "source": [
    "## Проверьте гипотезы"
   ]
  },
  {
   "cell_type": "markdown",
   "metadata": {},
   "source": [
    "Проверим гипотезы:\n",
    "у нас есть данные пятиста пользователей двух тарифов за целый год. Можно считать, что такие выборки являются генеральными совокупностями."
   ]
  },
  {
   "cell_type": "markdown",
   "metadata": {},
   "source": [
    "Истинные средние генеральных совокупностей могут быть равны или очень близки, а разница между выборочными средними случайно оказаться относительно большой. Статистический тест нужен, чтобы оценить вероятность этого."
   ]
  },
  {
   "cell_type": "markdown",
   "metadata": {},
   "source": [
    "### \tсредняя выручка пользователей тарифов «Ультра» и «Смарт» различаются"
   ]
  },
  {
   "cell_type": "markdown",
   "metadata": {},
   "source": [
    " это альтернативная гипотеза H₁. \n",
    " \n",
    " Нулевая гипотеза H₀: \"средняя выручка пользователей тарифов «Ультра» и «Смарт» одинаковые\". Проверим, можно ли отвергнуть нулевую гипотезу. \n",
    " \n",
    " Альтернативная гипотеза H₁ - это утверждение, которое принимается верным, если отбрасывается H₀."
   ]
  },
  {
   "cell_type": "markdown",
   "metadata": {},
   "source": [
    "alpha = 0.01 критический уровень статистической значимости.\n",
    "если p-value окажется меньше него - отвегнем гипотезу."
   ]
  },
  {
   "cell_type": "code",
   "execution_count": 80,
   "metadata": {},
   "outputs": [
    {
     "data": {
      "text/plain": [
       "986     1150.0\n",
       "987      550.0\n",
       "988      550.0\n",
       "989     1150.0\n",
       "990     1550.0\n",
       "         ...  \n",
       "3211     950.0\n",
       "3212    1550.0\n",
       "3213    1150.0\n",
       "3214     950.0\n",
       "3215     550.0\n",
       "Name: payment, Length: 2230, dtype: float64"
      ]
     },
     "execution_count": 80,
     "metadata": {},
     "output_type": "execute_result"
    }
   ],
   "source": [
    "smart_payment = all_info_per_month.query('tariff == \"smart\"')['payment']\n",
    "smart_payment"
   ]
  },
  {
   "cell_type": "code",
   "execution_count": 81,
   "metadata": {
    "scrolled": false
   },
   "outputs": [
    {
     "data": {
      "text/plain": [
       "0      1950.0\n",
       "1      1950.0\n",
       "2      1950.0\n",
       "3      1950.0\n",
       "4      1950.0\n",
       "        ...  \n",
       "981    1950.0\n",
       "982    1950.0\n",
       "983    1950.0\n",
       "984    1950.0\n",
       "985    1950.0\n",
       "Name: payment, Length: 986, dtype: float64"
      ]
     },
     "execution_count": 81,
     "metadata": {},
     "output_type": "execute_result"
    }
   ],
   "source": [
    "ultra_payment = all_info_per_month.query('tariff == \"ultra\"')['payment']\n",
    "ultra_payment"
   ]
  },
  {
   "cell_type": "markdown",
   "metadata": {},
   "source": [
    "Выборки разного размера, поэтому можно предположить, что дисперсии у генеральных совокупностей разные."
   ]
  },
  {
   "cell_type": "code",
   "execution_count": 82,
   "metadata": {},
   "outputs": [],
   "source": [
    "results = st.ttest_ind(smart_payment, ultra_payment, equal_var=False)"
   ]
  },
  {
   "cell_type": "code",
   "execution_count": 83,
   "metadata": {
    "scrolled": true
   },
   "outputs": [
    {
     "data": {
      "text/plain": [
       "1.927011394420941e-250"
      ]
     },
     "execution_count": 83,
     "metadata": {},
     "output_type": "execute_result"
    }
   ],
   "source": [
    "results.pvalue"
   ]
  },
  {
   "cell_type": "markdown",
   "metadata": {},
   "source": [
    "Полученное значение p-value говорит о том, что если нулевая гипотеза верна, вероятность получить такие выборки очень мала. \n",
    "\n",
    "Отвергаем нулевую гипотезу.\n",
    "\n",
    "Принимаем гипотезу \"средняя выручка пользователей тарифов «Ультра» и «Смарт» различаются\"."
   ]
  },
  {
   "cell_type": "markdown",
   "metadata": {},
   "source": [
    "Посмотрим, какие средние значения у двух выборок:"
   ]
  },
  {
   "cell_type": "code",
   "execution_count": 84,
   "metadata": {},
   "outputs": [
    {
     "data": {
      "text/plain": [
       "1289.6417040358745"
      ]
     },
     "execution_count": 84,
     "metadata": {},
     "output_type": "execute_result"
    }
   ],
   "source": [
    "smart_payment_mean = smart_payment.mean()\n",
    "smart_payment_mean"
   ]
  },
  {
   "cell_type": "code",
   "execution_count": 85,
   "metadata": {
    "scrolled": true
   },
   "outputs": [
    {
     "data": {
      "text/plain": [
       "2070.030425963489"
      ]
     },
     "execution_count": 85,
     "metadata": {},
     "output_type": "execute_result"
    }
   ],
   "source": [
    "ultra_payment_mean = ultra_payment.mean()\n",
    "ultra_payment_mean"
   ]
  },
  {
   "cell_type": "markdown",
   "metadata": {},
   "source": [
    "Это значит, что средняя выручка пользователей тарифа ультра отличается от выручки пользователей тарифа смарт в большую сторону."
   ]
  },
  {
   "cell_type": "markdown",
   "metadata": {},
   "source": [
    "Количество пользователей тарифами:"
   ]
  },
  {
   "cell_type": "code",
   "execution_count": 86,
   "metadata": {},
   "outputs": [
    {
     "data": {
      "text/plain": [
       "351"
      ]
     },
     "execution_count": 86,
     "metadata": {},
     "output_type": "execute_result"
    }
   ],
   "source": [
    "df_users.query('tariff == \"smart\"')['user_id'].count()"
   ]
  },
  {
   "cell_type": "code",
   "execution_count": 87,
   "metadata": {},
   "outputs": [
    {
     "data": {
      "text/plain": [
       "149"
      ]
     },
     "execution_count": 87,
     "metadata": {},
     "output_type": "execute_result"
    }
   ],
   "source": [
    "df_users.query('tariff == \"ultra\"')['user_id'].count()"
   ]
  },
  {
   "cell_type": "markdown",
   "metadata": {},
   "source": [
    "Средняя выручка за всех пользователей тарифов:"
   ]
  },
  {
   "cell_type": "code",
   "execution_count": 88,
   "metadata": {},
   "outputs": [
    {
     "data": {
      "text/plain": [
       "452664.23811659194"
      ]
     },
     "execution_count": 88,
     "metadata": {},
     "output_type": "execute_result"
    }
   ],
   "source": [
    "payment_smart = df_users.query('tariff == \"smart\"')['user_id'].count() * smart_payment_mean\n",
    "payment_smart"
   ]
  },
  {
   "cell_type": "code",
   "execution_count": 89,
   "metadata": {},
   "outputs": [
    {
     "data": {
      "text/plain": [
       "308434.53346855985"
      ]
     },
     "execution_count": 89,
     "metadata": {},
     "output_type": "execute_result"
    }
   ],
   "source": [
    "payment_ultra = df_users.query('tariff == \"ultra\"')['user_id'].count() * ultra_payment_mean\n",
    "payment_ultra"
   ]
  },
  {
   "cell_type": "markdown",
   "metadata": {},
   "source": [
    "В нашей выборке 351 человек использует тариф смарт и 149 тариф ультра. Ежемесячно в среднем пользователи приносят 453т.р. и 308т.р. соответственно.\n",
    "\n",
    "Получается, выгоднее чтобы пользователи подключали тариф ультра, так как средний платёж за этот тариф приносит больше денег. Но общая ежемесячная сумма за всех пользователей тарифа смарт выше, поскольку таких пользователей в 2,5 раз больше."
   ]
  },
  {
   "cell_type": "markdown",
   "metadata": {},
   "source": [
    "### \tсредняя выручка пользователей из Москвы отличается от выручки пользователей из других регионов\n"
   ]
  },
  {
   "cell_type": "markdown",
   "metadata": {},
   "source": [
    " это альтернативная гипотеза H₁.\n",
    " \n",
    " Нулевая гипотеза H₀: \"средняя выручка пользователей из Москвы и других регионов одинаковые\". Проверим, можно ли отвергнуть нулевую гипотезу. \n",
    " \n",
    "  Альтернативная гипотеза H₁ - это утверждение, которое принимается верным, если отбрасывается H₀."
   ]
  },
  {
   "cell_type": "markdown",
   "metadata": {},
   "source": [
    "alpha = 0.01 критический уровень статистической значимости.\n",
    "если p-value окажется меньше него - отвегнем гипотезу."
   ]
  },
  {
   "cell_type": "code",
   "execution_count": 90,
   "metadata": {},
   "outputs": [
    {
     "data": {
      "text/plain": [
       "8       1950.0\n",
       "9       1950.0\n",
       "10      1950.0\n",
       "11      1950.0\n",
       "12      1950.0\n",
       "         ...  \n",
       "3170     950.0\n",
       "3171     550.0\n",
       "3172    1750.0\n",
       "3173    1350.0\n",
       "3174     750.0\n",
       "Name: payment, Length: 611, dtype: float64"
      ]
     },
     "execution_count": 90,
     "metadata": {},
     "output_type": "execute_result"
    }
   ],
   "source": [
    "moscow_payment = all_info_per_month.query('city == \"Москва\"')['payment']\n",
    "moscow_payment"
   ]
  },
  {
   "cell_type": "code",
   "execution_count": 91,
   "metadata": {
    "scrolled": false
   },
   "outputs": [
    {
     "data": {
      "text/plain": [
       "0       1950.0\n",
       "1       1950.0\n",
       "2       1950.0\n",
       "3       1950.0\n",
       "4       1950.0\n",
       "         ...  \n",
       "3211     950.0\n",
       "3212    1550.0\n",
       "3213    1150.0\n",
       "3214     950.0\n",
       "3215     550.0\n",
       "Name: payment, Length: 2605, dtype: float64"
      ]
     },
     "execution_count": 91,
     "metadata": {},
     "output_type": "execute_result"
    }
   ],
   "source": [
    "not_moscow_payment = all_info_per_month.query('city != \"Москва\"')['payment']\n",
    "not_moscow_payment"
   ]
  },
  {
   "cell_type": "markdown",
   "metadata": {},
   "source": [
    "Выборки разного размера, и можно предположить, что дисперсии у генеральных совокупностей разные."
   ]
  },
  {
   "cell_type": "code",
   "execution_count": 92,
   "metadata": {},
   "outputs": [],
   "source": [
    "results2 = st.ttest_ind(moscow_payment, not_moscow_payment, equal_var=False)"
   ]
  },
  {
   "cell_type": "code",
   "execution_count": 93,
   "metadata": {},
   "outputs": [
    {
     "data": {
      "text/plain": [
       "0.5216952110000278"
      ]
     },
     "execution_count": 93,
     "metadata": {},
     "output_type": "execute_result"
    }
   ],
   "source": [
    "results2.pvalue"
   ]
  },
  {
   "cell_type": "markdown",
   "metadata": {},
   "source": [
    "Полученное значение p-value=52%, оно говорит о том, что если нулевая гипотеза верна, вероятность получить такие выборки велика. \n",
    "\n",
    "Не отвергаем нулевую гипотезу.\n",
    "\n",
    "Гипотезу \"средняя выручка пользователей из Москвы отличается от выручки пользователей из других регионов\" отвергаем."
   ]
  },
  {
   "cell_type": "markdown",
   "metadata": {},
   "source": [
    "Посмотрим, какие средние значения у двух выборок:"
   ]
  },
  {
   "cell_type": "code",
   "execution_count": 94,
   "metadata": {},
   "outputs": [
    {
     "data": {
      "text/plain": [
       "1546.7135842880523"
      ]
     },
     "execution_count": 94,
     "metadata": {},
     "output_type": "execute_result"
    }
   ],
   "source": [
    "moscow_payment_mean = moscow_payment.mean()\n",
    "moscow_payment_mean"
   ]
  },
  {
   "cell_type": "code",
   "execution_count": 95,
   "metadata": {
    "scrolled": true
   },
   "outputs": [
    {
     "data": {
      "text/plain": [
       "1524.7251439539348"
      ]
     },
     "execution_count": 95,
     "metadata": {},
     "output_type": "execute_result"
    }
   ],
   "source": [
    "not_moscow_payment_mean = not_moscow_payment.mean()\n",
    "not_moscow_payment_mean"
   ]
  },
  {
   "cell_type": "markdown",
   "metadata": {},
   "source": [
    "Это значит, что средняя выручка пользователей из Москвы не отличается от выручки пользователей из других регионов."
   ]
  },
  {
   "cell_type": "markdown",
   "metadata": {},
   "source": [
    "#### Вывод"
   ]
  },
  {
   "cell_type": "markdown",
   "metadata": {},
   "source": [
    "Были сформулированы две нулевые гипотезы:\n",
    "- средняя выручка пользователей тарифов «Ультра» и «Смарт» одинаковы - отвергли гипотезу\n",
    "- средняя выручка пользователей из Москвы и других регионов одинаковые - не отвергли гипотезу\n",
    "\n",
    "Средняя выручка пользователей тарифа ультра отличается от выручки пользователей тарифа смарт в большую сторону.\n",
    "Средняя выручка пользователей из Москвы не отличается от выручки пользователей из других регионов."
   ]
  },
  {
   "cell_type": "markdown",
   "metadata": {},
   "source": [
    "## Общий вывод"
   ]
  },
  {
   "cell_type": "markdown",
   "metadata": {},
   "source": [
    "Изучили и проанализировали данные пользователей оператора \"Мегалайн\". Предобработали данные, привели к соответствующим типам некоторые столбцы.\n",
    "\n",
    "Добавили данные в таблицу:\n",
    "- номер месяца, когда происходила каждая операция;\n",
    "- количество сделанных звонков и израсходованных минут разговора по месяцам\n",
    "- количество отправленных сообщений по месяцам;\n",
    "- количество израсходаванного интернет-трафика по месяцам;\n",
    "- помесячная выручка с каждого пользователя.\n",
    "\n",
    "Изучили следующие параметры: \n",
    "\n",
    "- Сколько минут разговора, сколько сообщений и какой объём интернет-трафика требуется пользователям каждого тарифа в месяц.\n",
    "- Посчитали среднее количество, дисперсию и стандартное отклонение. Построили гистограммы.\n",
    "\n",
    "Были сформулированы две нулевые гипотезы:\n",
    "- средняя выручка пользователей тарифов «Ультра» и «Смарт» одинаковы - отвергли гипотезу\n",
    "- средняя выручка пользователей из Москвы и других регионов одинаковые - не отвергли гипотезу\n",
    "\n",
    "Средняя выручка пользователей тарифа ультра отличается от выручки пользователей тарифа смарт в большую сторону.\n",
    "Средняя выручка пользователей из Москвы не отличается от выручки пользователей из других регионов."
   ]
  },
  {
   "cell_type": "markdown",
   "metadata": {},
   "source": [
    "Получается, выгоднее чтобы пользователи подключали тариф ультра, так как средний платёж за этот тариф приносит больше денег. Но общая ежемесячная сумма за всех пользователей тарифа смарт выше, поскольку таких пользователей в 2,5 раз больше."
   ]
  }
 ],
 "metadata": {
  "ExecuteTimeLog": [
   {
    "duration": 822,
    "start_time": "2021-12-27T06:25:34.733Z"
   },
   {
    "duration": 215,
    "start_time": "2021-12-27T06:26:10.683Z"
   },
   {
    "duration": 23,
    "start_time": "2021-12-27T06:26:26.838Z"
   },
   {
    "duration": 170,
    "start_time": "2021-12-27T06:26:49.573Z"
   },
   {
    "duration": 15,
    "start_time": "2021-12-27T06:26:55.613Z"
   },
   {
    "duration": 115,
    "start_time": "2021-12-27T06:27:27.558Z"
   },
   {
    "duration": 12,
    "start_time": "2021-12-27T06:27:32.171Z"
   },
   {
    "duration": 20,
    "start_time": "2021-12-27T06:27:50.030Z"
   },
   {
    "duration": 12,
    "start_time": "2021-12-27T06:27:53.611Z"
   },
   {
    "duration": 33,
    "start_time": "2021-12-27T06:28:11.212Z"
   },
   {
    "duration": 16,
    "start_time": "2021-12-27T06:28:16.838Z"
   },
   {
    "duration": 12,
    "start_time": "2021-12-27T06:28:39.453Z"
   },
   {
    "duration": 821,
    "start_time": "2021-12-28T07:29:04.034Z"
   },
   {
    "duration": 19,
    "start_time": "2021-12-28T07:29:04.858Z"
   },
   {
    "duration": 47,
    "start_time": "2021-12-28T07:29:04.881Z"
   },
   {
    "duration": 220,
    "start_time": "2021-12-28T07:29:04.931Z"
   },
   {
    "duration": 178,
    "start_time": "2021-12-28T07:29:05.153Z"
   },
   {
    "duration": 119,
    "start_time": "2021-12-28T07:29:05.333Z"
   },
   {
    "duration": 22,
    "start_time": "2021-12-28T07:29:05.819Z"
   },
   {
    "duration": 10,
    "start_time": "2021-12-28T07:29:07.074Z"
   },
   {
    "duration": 9,
    "start_time": "2021-12-28T07:38:04.498Z"
   },
   {
    "duration": 28,
    "start_time": "2021-12-28T07:38:14.073Z"
   },
   {
    "duration": 22,
    "start_time": "2021-12-28T07:38:22.087Z"
   },
   {
    "duration": 26,
    "start_time": "2021-12-28T07:38:30.009Z"
   },
   {
    "duration": 12,
    "start_time": "2021-12-28T07:39:08.572Z"
   },
   {
    "duration": 10,
    "start_time": "2021-12-28T07:39:09.972Z"
   },
   {
    "duration": 17,
    "start_time": "2021-12-28T07:39:54.869Z"
   },
   {
    "duration": 25,
    "start_time": "2021-12-28T07:39:57.659Z"
   },
   {
    "duration": 10,
    "start_time": "2021-12-28T07:39:58.760Z"
   },
   {
    "duration": 13,
    "start_time": "2021-12-28T07:43:21.367Z"
   },
   {
    "duration": 28,
    "start_time": "2021-12-28T07:43:22.317Z"
   },
   {
    "duration": 19,
    "start_time": "2021-12-28T07:45:09.204Z"
   },
   {
    "duration": 22,
    "start_time": "2021-12-28T07:45:11.153Z"
   },
   {
    "duration": 424,
    "start_time": "2021-12-28T08:02:55.018Z"
   },
   {
    "duration": 295,
    "start_time": "2021-12-28T08:03:01.638Z"
   },
   {
    "duration": 9,
    "start_time": "2021-12-28T08:05:21.070Z"
   },
   {
    "duration": 290,
    "start_time": "2021-12-28T08:05:58.736Z"
   },
   {
    "duration": 8,
    "start_time": "2021-12-28T08:06:12.216Z"
   },
   {
    "duration": 6,
    "start_time": "2021-12-28T08:06:50.794Z"
   },
   {
    "duration": 9,
    "start_time": "2021-12-28T08:06:58.172Z"
   },
   {
    "duration": 10,
    "start_time": "2021-12-28T08:07:03.757Z"
   },
   {
    "duration": 18,
    "start_time": "2021-12-28T08:07:09.109Z"
   },
   {
    "duration": 10,
    "start_time": "2021-12-28T08:07:37.582Z"
   },
   {
    "duration": 9,
    "start_time": "2021-12-28T08:08:00.271Z"
   },
   {
    "duration": 279,
    "start_time": "2021-12-28T08:08:48.752Z"
   },
   {
    "duration": 6,
    "start_time": "2021-12-28T08:08:58.146Z"
   },
   {
    "duration": 7,
    "start_time": "2021-12-28T08:09:04.777Z"
   },
   {
    "duration": 27,
    "start_time": "2021-12-28T08:19:40.737Z"
   },
   {
    "duration": 35,
    "start_time": "2021-12-28T08:19:54.627Z"
   },
   {
    "duration": 50,
    "start_time": "2021-12-28T08:20:09.187Z"
   },
   {
    "duration": 11,
    "start_time": "2021-12-28T08:20:24.257Z"
   },
   {
    "duration": 9,
    "start_time": "2021-12-28T08:20:24.971Z"
   },
   {
    "duration": 8,
    "start_time": "2021-12-28T08:20:25.690Z"
   },
   {
    "duration": 260,
    "start_time": "2021-12-28T08:26:55.274Z"
   },
   {
    "duration": 3,
    "start_time": "2021-12-28T08:27:23.741Z"
   },
   {
    "duration": 7,
    "start_time": "2021-12-28T08:27:29.714Z"
   },
   {
    "duration": 7,
    "start_time": "2021-12-28T08:27:49.158Z"
   },
   {
    "duration": 6,
    "start_time": "2021-12-28T08:31:52.734Z"
   },
   {
    "duration": 6,
    "start_time": "2021-12-28T08:31:54.221Z"
   },
   {
    "duration": 7372,
    "start_time": "2021-12-28T08:49:09.798Z"
   },
   {
    "duration": 34,
    "start_time": "2021-12-28T08:49:27.147Z"
   },
   {
    "duration": 8,
    "start_time": "2021-12-28T08:50:13.993Z"
   },
   {
    "duration": 9,
    "start_time": "2021-12-28T08:50:14.936Z"
   },
   {
    "duration": 25,
    "start_time": "2021-12-28T08:50:15.316Z"
   },
   {
    "duration": 8,
    "start_time": "2021-12-28T08:50:16.036Z"
   },
   {
    "duration": 21,
    "start_time": "2021-12-28T08:50:16.648Z"
   },
   {
    "duration": 13,
    "start_time": "2021-12-28T08:55:17.418Z"
   },
   {
    "duration": 33,
    "start_time": "2021-12-28T08:55:17.711Z"
   },
   {
    "duration": 7,
    "start_time": "2021-12-28T08:55:18.848Z"
   },
   {
    "duration": 6,
    "start_time": "2021-12-28T08:55:19.848Z"
   },
   {
    "duration": 8,
    "start_time": "2021-12-28T08:55:21.275Z"
   },
   {
    "duration": 7,
    "start_time": "2021-12-28T08:57:23.377Z"
   },
   {
    "duration": 5,
    "start_time": "2021-12-28T08:57:23.728Z"
   },
   {
    "duration": 9,
    "start_time": "2021-12-28T08:57:24.338Z"
   },
   {
    "duration": 7,
    "start_time": "2021-12-28T08:57:25.799Z"
   },
   {
    "duration": 11,
    "start_time": "2021-12-28T08:57:26.817Z"
   },
   {
    "duration": 32,
    "start_time": "2021-12-28T08:57:27.028Z"
   },
   {
    "duration": 8,
    "start_time": "2021-12-28T08:57:27.238Z"
   },
   {
    "duration": 6,
    "start_time": "2021-12-28T08:57:28.708Z"
   },
   {
    "duration": 8,
    "start_time": "2021-12-28T08:57:29.107Z"
   },
   {
    "duration": 8,
    "start_time": "2021-12-28T08:57:29.626Z"
   },
   {
    "duration": 10,
    "start_time": "2021-12-28T08:57:31.198Z"
   },
   {
    "duration": 25,
    "start_time": "2021-12-28T08:57:31.408Z"
   },
   {
    "duration": 10,
    "start_time": "2021-12-28T08:57:32.237Z"
   },
   {
    "duration": 22,
    "start_time": "2021-12-28T08:57:32.478Z"
   },
   {
    "duration": 87,
    "start_time": "2021-12-28T08:57:54.661Z"
   },
   {
    "duration": 245,
    "start_time": "2021-12-28T08:58:06.645Z"
   },
   {
    "duration": 127,
    "start_time": "2021-12-28T08:58:10.596Z"
   },
   {
    "duration": 116,
    "start_time": "2021-12-28T09:00:20.890Z"
   },
   {
    "duration": 123,
    "start_time": "2021-12-28T10:26:57.545Z"
   },
   {
    "duration": 283,
    "start_time": "2021-12-28T10:28:18.618Z"
   },
   {
    "duration": 344,
    "start_time": "2021-12-28T10:28:27.348Z"
   },
   {
    "duration": 120,
    "start_time": "2021-12-28T10:28:31.587Z"
   },
   {
    "duration": 4,
    "start_time": "2021-12-28T10:30:42.388Z"
   },
   {
    "duration": 110,
    "start_time": "2021-12-28T10:30:47.158Z"
   },
   {
    "duration": 7,
    "start_time": "2021-12-28T10:31:48.878Z"
   },
   {
    "duration": 7,
    "start_time": "2021-12-28T10:31:56.398Z"
   },
   {
    "duration": 7,
    "start_time": "2021-12-28T10:34:41.795Z"
   },
   {
    "duration": 7,
    "start_time": "2021-12-28T10:34:42.479Z"
   },
   {
    "duration": 8,
    "start_time": "2021-12-28T10:35:58.822Z"
   },
   {
    "duration": 8,
    "start_time": "2021-12-28T10:35:59.648Z"
   },
   {
    "duration": 32,
    "start_time": "2021-12-28T10:36:00.938Z"
   },
   {
    "duration": 8,
    "start_time": "2021-12-28T10:36:06.558Z"
   },
   {
    "duration": 21,
    "start_time": "2021-12-28T10:36:06.745Z"
   },
   {
    "duration": 6,
    "start_time": "2021-12-28T10:36:07.189Z"
   },
   {
    "duration": 7,
    "start_time": "2021-12-28T10:36:07.537Z"
   },
   {
    "duration": 339,
    "start_time": "2021-12-28T10:42:59.196Z"
   },
   {
    "duration": 47,
    "start_time": "2021-12-28T10:43:49.804Z"
   },
   {
    "duration": 101,
    "start_time": "2021-12-28T10:45:38.346Z"
   },
   {
    "duration": 51,
    "start_time": "2021-12-28T10:45:58.074Z"
   },
   {
    "duration": 48,
    "start_time": "2021-12-28T10:46:10.878Z"
   },
   {
    "duration": 114,
    "start_time": "2021-12-28T10:46:12.593Z"
   },
   {
    "duration": 8,
    "start_time": "2021-12-28T10:46:57.769Z"
   },
   {
    "duration": 967,
    "start_time": "2021-12-28T11:07:25.000Z"
   },
   {
    "duration": 560,
    "start_time": "2021-12-28T11:08:40.029Z"
   },
   {
    "duration": 15,
    "start_time": "2021-12-28T11:09:51.327Z"
   },
   {
    "duration": 8,
    "start_time": "2021-12-28T11:10:06.917Z"
   },
   {
    "duration": 10,
    "start_time": "2021-12-28T11:10:53.309Z"
   },
   {
    "duration": 8,
    "start_time": "2021-12-28T11:10:55.789Z"
   },
   {
    "duration": 4,
    "start_time": "2021-12-28T11:11:13.620Z"
   },
   {
    "duration": 4,
    "start_time": "2021-12-28T11:11:13.629Z"
   },
   {
    "duration": 19,
    "start_time": "2021-12-28T11:11:13.636Z"
   },
   {
    "duration": 62,
    "start_time": "2021-12-28T11:11:13.660Z"
   },
   {
    "duration": 205,
    "start_time": "2021-12-28T11:11:13.724Z"
   },
   {
    "duration": 185,
    "start_time": "2021-12-28T11:11:13.932Z"
   },
   {
    "duration": 117,
    "start_time": "2021-12-28T11:11:14.120Z"
   },
   {
    "duration": 12,
    "start_time": "2021-12-28T11:11:14.240Z"
   },
   {
    "duration": 17,
    "start_time": "2021-12-28T11:11:14.271Z"
   },
   {
    "duration": 20,
    "start_time": "2021-12-28T11:11:14.292Z"
   },
   {
    "duration": 12,
    "start_time": "2021-12-28T11:11:14.315Z"
   },
   {
    "duration": 24,
    "start_time": "2021-12-28T11:11:14.367Z"
   },
   {
    "duration": 39,
    "start_time": "2021-12-28T11:11:14.393Z"
   },
   {
    "duration": 15,
    "start_time": "2021-12-28T11:11:14.435Z"
   },
   {
    "duration": 26,
    "start_time": "2021-12-28T11:11:14.468Z"
   },
   {
    "duration": 13,
    "start_time": "2021-12-28T11:11:14.497Z"
   },
   {
    "duration": 58,
    "start_time": "2021-12-28T11:11:14.513Z"
   },
   {
    "duration": 7,
    "start_time": "2021-12-28T11:11:14.574Z"
   },
   {
    "duration": 9,
    "start_time": "2021-12-28T11:11:14.585Z"
   },
   {
    "duration": 20,
    "start_time": "2021-12-28T11:11:14.597Z"
   },
   {
    "duration": 12,
    "start_time": "2021-12-28T11:11:14.620Z"
   },
   {
    "duration": 69,
    "start_time": "2021-12-28T11:11:14.634Z"
   },
   {
    "duration": 7,
    "start_time": "2021-12-28T11:11:14.708Z"
   },
   {
    "duration": 9,
    "start_time": "2021-12-28T11:11:14.718Z"
   },
   {
    "duration": 74,
    "start_time": "2021-12-28T11:11:14.730Z"
   },
   {
    "duration": 9,
    "start_time": "2021-12-28T11:11:14.807Z"
   },
   {
    "duration": 9,
    "start_time": "2021-12-28T11:11:14.819Z"
   },
   {
    "duration": 37,
    "start_time": "2021-12-28T11:11:14.830Z"
   },
   {
    "duration": 12,
    "start_time": "2021-12-28T11:11:14.870Z"
   },
   {
    "duration": 42,
    "start_time": "2021-12-28T11:11:14.885Z"
   },
   {
    "duration": 7,
    "start_time": "2021-12-28T11:11:14.929Z"
   },
   {
    "duration": 29,
    "start_time": "2021-12-28T11:11:14.938Z"
   },
   {
    "duration": 24,
    "start_time": "2021-12-28T11:11:14.969Z"
   },
   {
    "duration": 24,
    "start_time": "2021-12-28T11:11:14.996Z"
   },
   {
    "duration": 15,
    "start_time": "2021-12-28T11:11:15.022Z"
   },
   {
    "duration": 28,
    "start_time": "2021-12-28T11:11:15.040Z"
   },
   {
    "duration": 109,
    "start_time": "2021-12-28T11:11:15.071Z"
   },
   {
    "duration": 114,
    "start_time": "2021-12-28T11:11:15.182Z"
   },
   {
    "duration": 50,
    "start_time": "2021-12-28T11:11:15.298Z"
   },
   {
    "duration": 70,
    "start_time": "2021-12-28T11:11:15.350Z"
   },
   {
    "duration": 7,
    "start_time": "2021-12-28T11:11:15.422Z"
   },
   {
    "duration": 40,
    "start_time": "2021-12-28T11:11:15.432Z"
   },
   {
    "duration": 13,
    "start_time": "2021-12-28T11:11:22.280Z"
   },
   {
    "duration": 14,
    "start_time": "2021-12-28T11:11:22.296Z"
   },
   {
    "duration": 7,
    "start_time": "2021-12-28T11:11:29.051Z"
   },
   {
    "duration": 4,
    "start_time": "2021-12-28T11:11:35.670Z"
   },
   {
    "duration": 7,
    "start_time": "2021-12-28T11:11:35.677Z"
   },
   {
    "duration": 21,
    "start_time": "2021-12-28T11:11:35.687Z"
   },
   {
    "duration": 62,
    "start_time": "2021-12-28T11:11:35.710Z"
   },
   {
    "duration": 200,
    "start_time": "2021-12-28T11:11:35.775Z"
   },
   {
    "duration": 185,
    "start_time": "2021-12-28T11:11:35.978Z"
   },
   {
    "duration": 120,
    "start_time": "2021-12-28T11:11:36.168Z"
   },
   {
    "duration": 13,
    "start_time": "2021-12-28T11:11:36.293Z"
   },
   {
    "duration": 11,
    "start_time": "2021-12-28T11:11:36.310Z"
   },
   {
    "duration": 53,
    "start_time": "2021-12-28T11:11:36.324Z"
   },
   {
    "duration": 30,
    "start_time": "2021-12-28T11:11:36.379Z"
   },
   {
    "duration": 38,
    "start_time": "2021-12-28T11:11:36.411Z"
   },
   {
    "duration": 34,
    "start_time": "2021-12-28T11:11:36.451Z"
   },
   {
    "duration": 17,
    "start_time": "2021-12-28T11:11:36.488Z"
   },
   {
    "duration": 30,
    "start_time": "2021-12-28T11:11:36.507Z"
   },
   {
    "duration": 33,
    "start_time": "2021-12-28T11:11:36.540Z"
   },
   {
    "duration": 39,
    "start_time": "2021-12-28T11:11:36.576Z"
   },
   {
    "duration": 20,
    "start_time": "2021-12-28T11:11:36.618Z"
   },
   {
    "duration": 17,
    "start_time": "2021-12-28T11:11:36.641Z"
   },
   {
    "duration": 14,
    "start_time": "2021-12-28T11:11:36.661Z"
   },
   {
    "duration": 21,
    "start_time": "2021-12-28T11:11:36.677Z"
   },
   {
    "duration": 45,
    "start_time": "2021-12-28T11:11:36.701Z"
   },
   {
    "duration": 14,
    "start_time": "2021-12-28T11:11:36.752Z"
   },
   {
    "duration": 7,
    "start_time": "2021-12-28T11:11:36.770Z"
   },
   {
    "duration": 37,
    "start_time": "2021-12-28T11:11:36.779Z"
   },
   {
    "duration": 7,
    "start_time": "2021-12-28T11:11:36.818Z"
   },
   {
    "duration": 40,
    "start_time": "2021-12-28T11:11:36.828Z"
   },
   {
    "duration": 9,
    "start_time": "2021-12-28T11:11:36.871Z"
   },
   {
    "duration": 10,
    "start_time": "2021-12-28T11:11:36.882Z"
   },
   {
    "duration": 31,
    "start_time": "2021-12-28T11:11:36.895Z"
   },
   {
    "duration": 38,
    "start_time": "2021-12-28T11:11:36.929Z"
   },
   {
    "duration": 7,
    "start_time": "2021-12-28T11:11:36.969Z"
   },
   {
    "duration": 31,
    "start_time": "2021-12-28T11:11:36.978Z"
   },
   {
    "duration": 61,
    "start_time": "2021-12-28T11:11:37.012Z"
   },
   {
    "duration": 6,
    "start_time": "2021-12-28T11:11:37.076Z"
   },
   {
    "duration": 10,
    "start_time": "2021-12-28T11:11:37.084Z"
   },
   {
    "duration": 23,
    "start_time": "2021-12-28T11:11:37.096Z"
   },
   {
    "duration": 159,
    "start_time": "2021-12-28T11:11:37.122Z"
   },
   {
    "duration": 50,
    "start_time": "2021-12-28T11:11:37.283Z"
   },
   {
    "duration": 54,
    "start_time": "2021-12-28T11:11:38.971Z"
   },
   {
    "duration": 9,
    "start_time": "2021-12-28T11:11:42.157Z"
   },
   {
    "duration": 13,
    "start_time": "2021-12-28T11:11:47.291Z"
   },
   {
    "duration": 9,
    "start_time": "2021-12-28T11:11:47.780Z"
   },
   {
    "duration": 315,
    "start_time": "2021-12-28T11:34:02.772Z"
   },
   {
    "duration": 7,
    "start_time": "2021-12-28T11:37:31.549Z"
   },
   {
    "duration": 52,
    "start_time": "2021-12-28T11:37:36.866Z"
   },
   {
    "duration": 429,
    "start_time": "2021-12-28T11:38:20.962Z"
   },
   {
    "duration": 3,
    "start_time": "2021-12-28T11:38:50.963Z"
   },
   {
    "duration": 48,
    "start_time": "2021-12-28T11:38:51.912Z"
   },
   {
    "duration": 275,
    "start_time": "2021-12-28T11:41:21.028Z"
   },
   {
    "duration": 438,
    "start_time": "2021-12-28T11:41:25.983Z"
   },
   {
    "duration": 5,
    "start_time": "2021-12-28T11:42:40.232Z"
   },
   {
    "duration": 43,
    "start_time": "2021-12-28T11:42:42.902Z"
   },
   {
    "duration": 106,
    "start_time": "2021-12-28T11:42:56.170Z"
   },
   {
    "duration": 5,
    "start_time": "2021-12-28T11:43:07.093Z"
   },
   {
    "duration": 42,
    "start_time": "2021-12-28T11:43:08.533Z"
   },
   {
    "duration": 99,
    "start_time": "2021-12-28T11:43:14.827Z"
   },
   {
    "duration": 6,
    "start_time": "2021-12-28T11:43:17.086Z"
   },
   {
    "duration": 446,
    "start_time": "2021-12-28T11:43:17.725Z"
   },
   {
    "duration": 48,
    "start_time": "2021-12-28T11:43:18.286Z"
   },
   {
    "duration": 257,
    "start_time": "2021-12-28T11:45:21.143Z"
   },
   {
    "duration": 105,
    "start_time": "2021-12-28T12:01:43.587Z"
   },
   {
    "duration": 4,
    "start_time": "2021-12-28T12:01:43.695Z"
   },
   {
    "duration": 987,
    "start_time": "2021-12-28T12:02:16.926Z"
   },
   {
    "duration": 1236,
    "start_time": "2021-12-28T12:02:16.680Z"
   },
   {
    "duration": 4,
    "start_time": "2021-12-28T12:03:08.772Z"
   },
   {
    "duration": 4,
    "start_time": "2021-12-28T12:03:09.664Z"
   },
   {
    "duration": 42,
    "start_time": "2021-12-28T12:03:11.135Z"
   },
   {
    "duration": 360,
    "start_time": "2021-12-29T06:23:32.021Z"
   },
   {
    "duration": 803,
    "start_time": "2021-12-29T06:23:40.183Z"
   },
   {
    "duration": 4,
    "start_time": "2021-12-29T06:23:40.989Z"
   },
   {
    "duration": 28,
    "start_time": "2021-12-29T06:23:40.998Z"
   },
   {
    "duration": 31,
    "start_time": "2021-12-29T06:23:41.029Z"
   },
   {
    "duration": 219,
    "start_time": "2021-12-29T06:23:41.063Z"
   },
   {
    "duration": 192,
    "start_time": "2021-12-29T06:23:41.285Z"
   },
   {
    "duration": 119,
    "start_time": "2021-12-29T06:23:41.479Z"
   },
   {
    "duration": 24,
    "start_time": "2021-12-29T06:23:41.601Z"
   },
   {
    "duration": 10,
    "start_time": "2021-12-29T06:23:41.629Z"
   },
   {
    "duration": 21,
    "start_time": "2021-12-29T06:23:41.642Z"
   },
   {
    "duration": 10,
    "start_time": "2021-12-29T06:23:41.666Z"
   },
   {
    "duration": 50,
    "start_time": "2021-12-29T06:23:41.679Z"
   },
   {
    "duration": 43,
    "start_time": "2021-12-29T06:23:41.732Z"
   },
   {
    "duration": 55,
    "start_time": "2021-12-29T06:23:41.778Z"
   },
   {
    "duration": 32,
    "start_time": "2021-12-29T06:23:41.837Z"
   },
   {
    "duration": 15,
    "start_time": "2021-12-29T06:23:41.872Z"
   },
   {
    "duration": 56,
    "start_time": "2021-12-29T06:23:41.890Z"
   },
   {
    "duration": 10,
    "start_time": "2021-12-29T06:23:41.950Z"
   },
   {
    "duration": 15,
    "start_time": "2021-12-29T06:23:41.964Z"
   },
   {
    "duration": 42,
    "start_time": "2021-12-29T06:23:41.983Z"
   },
   {
    "duration": 9,
    "start_time": "2021-12-29T06:23:42.028Z"
   },
   {
    "duration": 57,
    "start_time": "2021-12-29T06:23:42.040Z"
   },
   {
    "duration": 24,
    "start_time": "2021-12-29T06:23:42.099Z"
   },
   {
    "duration": 8,
    "start_time": "2021-12-29T06:23:42.126Z"
   },
   {
    "duration": 34,
    "start_time": "2021-12-29T06:23:42.137Z"
   },
   {
    "duration": 46,
    "start_time": "2021-12-29T06:23:42.173Z"
   },
   {
    "duration": 6,
    "start_time": "2021-12-29T06:23:42.227Z"
   },
   {
    "duration": 7,
    "start_time": "2021-12-29T06:23:42.236Z"
   },
   {
    "duration": 8,
    "start_time": "2021-12-29T06:23:42.246Z"
   },
   {
    "duration": 89,
    "start_time": "2021-12-29T06:23:42.257Z"
   },
   {
    "duration": 8,
    "start_time": "2021-12-29T06:23:42.349Z"
   },
   {
    "duration": 18,
    "start_time": "2021-12-29T06:23:42.360Z"
   },
   {
    "duration": 50,
    "start_time": "2021-12-29T06:23:42.381Z"
   },
   {
    "duration": 40,
    "start_time": "2021-12-29T06:23:42.434Z"
   },
   {
    "duration": 7,
    "start_time": "2021-12-29T06:23:42.477Z"
   },
   {
    "duration": 41,
    "start_time": "2021-12-29T06:23:42.487Z"
   },
   {
    "duration": 26,
    "start_time": "2021-12-29T06:23:44.183Z"
   },
   {
    "duration": 46,
    "start_time": "2021-12-29T06:26:25.683Z"
   },
   {
    "duration": 21,
    "start_time": "2021-12-29T06:26:30.790Z"
   },
   {
    "duration": 28,
    "start_time": "2021-12-29T06:27:24.026Z"
   },
   {
    "duration": 37,
    "start_time": "2021-12-29T06:27:29.386Z"
   },
   {
    "duration": 31,
    "start_time": "2021-12-29T06:28:00.146Z"
   },
   {
    "duration": 7,
    "start_time": "2021-12-29T06:28:08.266Z"
   },
   {
    "duration": 11,
    "start_time": "2021-12-29T06:28:21.968Z"
   },
   {
    "duration": 6,
    "start_time": "2021-12-29T06:28:22.638Z"
   },
   {
    "duration": 10,
    "start_time": "2021-12-29T06:28:28.171Z"
   },
   {
    "duration": 25,
    "start_time": "2021-12-29T06:53:05.210Z"
   },
   {
    "duration": 11,
    "start_time": "2021-12-29T06:53:59.656Z"
   },
   {
    "duration": 335,
    "start_time": "2021-12-29T06:55:16.212Z"
   },
   {
    "duration": 20,
    "start_time": "2021-12-29T06:55:22.661Z"
   },
   {
    "duration": 17,
    "start_time": "2021-12-29T06:55:24.281Z"
   },
   {
    "duration": 14,
    "start_time": "2021-12-29T06:55:25.524Z"
   },
   {
    "duration": 31,
    "start_time": "2021-12-29T06:55:29.081Z"
   },
   {
    "duration": 15,
    "start_time": "2021-12-29T06:55:31.582Z"
   },
   {
    "duration": 11,
    "start_time": "2021-12-29T06:55:35.286Z"
   },
   {
    "duration": 280,
    "start_time": "2021-12-29T06:58:11.453Z"
   },
   {
    "duration": 17,
    "start_time": "2021-12-29T07:00:06.202Z"
   },
   {
    "duration": 24,
    "start_time": "2021-12-29T07:00:10.790Z"
   },
   {
    "duration": 27,
    "start_time": "2021-12-29T07:00:30.970Z"
   },
   {
    "duration": 18,
    "start_time": "2021-12-29T07:01:06.011Z"
   },
   {
    "duration": 24,
    "start_time": "2021-12-29T07:01:07.642Z"
   },
   {
    "duration": 10,
    "start_time": "2021-12-29T07:01:44.851Z"
   },
   {
    "duration": 20,
    "start_time": "2021-12-29T07:01:46.702Z"
   },
   {
    "duration": 10,
    "start_time": "2021-12-29T07:01:47.762Z"
   },
   {
    "duration": 11,
    "start_time": "2021-12-29T07:01:48.163Z"
   },
   {
    "duration": 14,
    "start_time": "2021-12-29T07:01:50.082Z"
   },
   {
    "duration": 15,
    "start_time": "2021-12-29T07:01:51.022Z"
   },
   {
    "duration": 27,
    "start_time": "2021-12-29T07:01:51.772Z"
   },
   {
    "duration": 26,
    "start_time": "2021-12-29T07:02:54.882Z"
   },
   {
    "duration": 312,
    "start_time": "2021-12-29T07:13:11.367Z"
   },
   {
    "duration": 366,
    "start_time": "2021-12-29T07:14:14.660Z"
   },
   {
    "duration": 312,
    "start_time": "2021-12-29T07:14:29.601Z"
   },
   {
    "duration": 323,
    "start_time": "2021-12-29T07:20:00.671Z"
   },
   {
    "duration": 412,
    "start_time": "2021-12-29T07:22:27.061Z"
   },
   {
    "duration": 23,
    "start_time": "2021-12-29T07:22:54.247Z"
   },
   {
    "duration": 560,
    "start_time": "2021-12-29T07:23:05.228Z"
   },
   {
    "duration": 456,
    "start_time": "2021-12-29T07:23:24.202Z"
   },
   {
    "duration": 412,
    "start_time": "2021-12-29T07:24:24.234Z"
   },
   {
    "duration": 7472,
    "start_time": "2021-12-29T08:47:27.277Z"
   },
   {
    "duration": 382,
    "start_time": "2021-12-29T08:47:56.615Z"
   },
   {
    "duration": 37,
    "start_time": "2021-12-29T08:48:23.608Z"
   },
   {
    "duration": 19,
    "start_time": "2021-12-29T08:49:52.614Z"
   },
   {
    "duration": 52,
    "start_time": "2021-12-29T08:50:10.481Z"
   },
   {
    "duration": 7633,
    "start_time": "2021-12-29T08:58:54.521Z"
   },
   {
    "duration": 57,
    "start_time": "2021-12-29T08:59:08.911Z"
   },
   {
    "duration": 57,
    "start_time": "2021-12-29T08:59:35.307Z"
   },
   {
    "duration": 5,
    "start_time": "2021-12-29T08:59:45.841Z"
   },
   {
    "duration": 8,
    "start_time": "2021-12-29T08:59:45.849Z"
   },
   {
    "duration": 20,
    "start_time": "2021-12-29T08:59:45.860Z"
   },
   {
    "duration": 35,
    "start_time": "2021-12-29T08:59:45.884Z"
   },
   {
    "duration": 362,
    "start_time": "2021-12-29T08:59:45.923Z"
   },
   {
    "duration": 211,
    "start_time": "2021-12-29T08:59:46.288Z"
   },
   {
    "duration": 151,
    "start_time": "2021-12-29T08:59:46.502Z"
   },
   {
    "duration": 13,
    "start_time": "2021-12-29T08:59:46.658Z"
   },
   {
    "duration": 11,
    "start_time": "2021-12-29T08:59:46.674Z"
   },
   {
    "duration": 48,
    "start_time": "2021-12-29T08:59:46.688Z"
   },
   {
    "duration": 14,
    "start_time": "2021-12-29T08:59:46.739Z"
   },
   {
    "duration": 22,
    "start_time": "2021-12-29T08:59:46.757Z"
   },
   {
    "duration": 95,
    "start_time": "2021-12-29T08:59:46.783Z"
   },
   {
    "duration": 24,
    "start_time": "2021-12-29T08:59:46.881Z"
   },
   {
    "duration": 40,
    "start_time": "2021-12-29T08:59:46.917Z"
   },
   {
    "duration": 16,
    "start_time": "2021-12-29T08:59:46.961Z"
   },
   {
    "duration": 59,
    "start_time": "2021-12-29T08:59:46.981Z"
   },
   {
    "duration": 11,
    "start_time": "2021-12-29T08:59:47.043Z"
   },
   {
    "duration": 9,
    "start_time": "2021-12-29T08:59:47.058Z"
   },
   {
    "duration": 59,
    "start_time": "2021-12-29T08:59:47.070Z"
   },
   {
    "duration": 13,
    "start_time": "2021-12-29T08:59:47.132Z"
   },
   {
    "duration": 74,
    "start_time": "2021-12-29T08:59:47.148Z"
   },
   {
    "duration": 10,
    "start_time": "2021-12-29T08:59:47.231Z"
   },
   {
    "duration": 9,
    "start_time": "2021-12-29T08:59:47.246Z"
   },
   {
    "duration": 84,
    "start_time": "2021-12-29T08:59:47.259Z"
   },
   {
    "duration": 11,
    "start_time": "2021-12-29T08:59:47.346Z"
   },
   {
    "duration": 7,
    "start_time": "2021-12-29T08:59:47.359Z"
   },
   {
    "duration": 10,
    "start_time": "2021-12-29T08:59:47.369Z"
   },
   {
    "duration": 34,
    "start_time": "2021-12-29T08:59:47.382Z"
   },
   {
    "duration": 54,
    "start_time": "2021-12-29T08:59:47.419Z"
   },
   {
    "duration": 9,
    "start_time": "2021-12-29T08:59:47.476Z"
   },
   {
    "duration": 41,
    "start_time": "2021-12-29T08:59:47.488Z"
   },
   {
    "duration": 31,
    "start_time": "2021-12-29T08:59:47.532Z"
   },
   {
    "duration": 77,
    "start_time": "2021-12-29T08:59:47.566Z"
   },
   {
    "duration": 9,
    "start_time": "2021-12-29T08:59:47.647Z"
   },
   {
    "duration": 9,
    "start_time": "2021-12-29T08:59:47.660Z"
   },
   {
    "duration": 51,
    "start_time": "2021-12-29T08:59:47.671Z"
   },
   {
    "duration": 61,
    "start_time": "2021-12-29T08:59:47.726Z"
   },
   {
    "duration": 45,
    "start_time": "2021-12-29T08:59:47.790Z"
   },
   {
    "duration": 23,
    "start_time": "2021-12-29T08:59:47.841Z"
   },
   {
    "duration": 56,
    "start_time": "2021-12-29T08:59:47.867Z"
   },
   {
    "duration": 10,
    "start_time": "2021-12-29T08:59:47.926Z"
   },
   {
    "duration": 20,
    "start_time": "2021-12-29T08:59:47.940Z"
   },
   {
    "duration": 23,
    "start_time": "2021-12-29T08:59:47.963Z"
   },
   {
    "duration": 27,
    "start_time": "2021-12-29T08:59:48.017Z"
   },
   {
    "duration": 33,
    "start_time": "2021-12-29T08:59:48.049Z"
   },
   {
    "duration": 65,
    "start_time": "2021-12-29T08:59:48.085Z"
   },
   {
    "duration": 37,
    "start_time": "2021-12-29T08:59:50.216Z"
   },
   {
    "duration": 25,
    "start_time": "2021-12-29T08:59:53.178Z"
   },
   {
    "duration": 35,
    "start_time": "2021-12-29T08:59:55.060Z"
   },
   {
    "duration": 9,
    "start_time": "2021-12-29T09:00:06.397Z"
   },
   {
    "duration": 22,
    "start_time": "2021-12-29T09:00:07.590Z"
   },
   {
    "duration": 7965,
    "start_time": "2021-12-29T09:00:35.971Z"
   },
   {
    "duration": 16,
    "start_time": "2021-12-29T09:00:47.207Z"
   },
   {
    "duration": 36,
    "start_time": "2021-12-29T09:00:48.269Z"
   },
   {
    "duration": 27,
    "start_time": "2021-12-29T09:01:52.157Z"
   },
   {
    "duration": 58,
    "start_time": "2021-12-29T09:01:56.683Z"
   },
   {
    "duration": 16,
    "start_time": "2021-12-29T10:40:54.913Z"
   },
   {
    "duration": 17,
    "start_time": "2021-12-29T10:40:55.975Z"
   },
   {
    "duration": 24,
    "start_time": "2021-12-29T10:40:57.305Z"
   },
   {
    "duration": 25,
    "start_time": "2021-12-29T10:41:21.656Z"
   },
   {
    "duration": 3,
    "start_time": "2021-12-29T10:41:34.576Z"
   },
   {
    "duration": 5,
    "start_time": "2021-12-29T10:41:34.582Z"
   },
   {
    "duration": 20,
    "start_time": "2021-12-29T10:41:34.590Z"
   },
   {
    "duration": 29,
    "start_time": "2021-12-29T10:41:34.613Z"
   },
   {
    "duration": 213,
    "start_time": "2021-12-29T10:41:34.645Z"
   },
   {
    "duration": 172,
    "start_time": "2021-12-29T10:41:34.860Z"
   },
   {
    "duration": 117,
    "start_time": "2021-12-29T10:41:35.035Z"
   },
   {
    "duration": 12,
    "start_time": "2021-12-29T10:41:35.154Z"
   },
   {
    "duration": 11,
    "start_time": "2021-12-29T10:41:35.168Z"
   },
   {
    "duration": 41,
    "start_time": "2021-12-29T10:41:35.181Z"
   },
   {
    "duration": 10,
    "start_time": "2021-12-29T10:41:35.224Z"
   },
   {
    "duration": 13,
    "start_time": "2021-12-29T10:41:35.237Z"
   },
   {
    "duration": 28,
    "start_time": "2021-12-29T10:41:35.253Z"
   },
   {
    "duration": 42,
    "start_time": "2021-12-29T10:41:35.283Z"
   },
   {
    "duration": 29,
    "start_time": "2021-12-29T10:41:35.328Z"
   },
   {
    "duration": 12,
    "start_time": "2021-12-29T10:41:35.360Z"
   },
   {
    "duration": 53,
    "start_time": "2021-12-29T10:41:35.374Z"
   },
   {
    "duration": 7,
    "start_time": "2021-12-29T10:41:35.433Z"
   },
   {
    "duration": 11,
    "start_time": "2021-12-29T10:41:35.444Z"
   },
   {
    "duration": 12,
    "start_time": "2021-12-29T10:41:35.458Z"
   },
   {
    "duration": 44,
    "start_time": "2021-12-29T10:41:35.473Z"
   },
   {
    "duration": 37,
    "start_time": "2021-12-29T10:41:35.520Z"
   },
   {
    "duration": 5,
    "start_time": "2021-12-29T10:41:35.560Z"
   },
   {
    "duration": 12,
    "start_time": "2021-12-29T10:41:35.568Z"
   },
   {
    "duration": 39,
    "start_time": "2021-12-29T10:41:35.618Z"
   },
   {
    "duration": 8,
    "start_time": "2021-12-29T10:41:35.660Z"
   },
   {
    "duration": 6,
    "start_time": "2021-12-29T10:41:35.672Z"
   },
   {
    "duration": 37,
    "start_time": "2021-12-29T10:41:35.681Z"
   },
   {
    "duration": 13,
    "start_time": "2021-12-29T10:41:35.721Z"
   },
   {
    "duration": 32,
    "start_time": "2021-12-29T10:41:35.737Z"
   },
   {
    "duration": 6,
    "start_time": "2021-12-29T10:41:35.772Z"
   },
   {
    "duration": 36,
    "start_time": "2021-12-29T10:41:35.781Z"
   },
   {
    "duration": 25,
    "start_time": "2021-12-29T10:41:35.820Z"
   },
   {
    "duration": 25,
    "start_time": "2021-12-29T10:41:35.848Z"
   },
   {
    "duration": 6,
    "start_time": "2021-12-29T10:41:35.876Z"
   },
   {
    "duration": 39,
    "start_time": "2021-12-29T10:41:35.884Z"
   },
   {
    "duration": 21,
    "start_time": "2021-12-29T10:41:35.926Z"
   },
   {
    "duration": 86,
    "start_time": "2021-12-29T10:41:35.950Z"
   },
   {
    "duration": 19,
    "start_time": "2021-12-29T10:41:36.039Z"
   },
   {
    "duration": 56,
    "start_time": "2021-12-29T10:41:36.061Z"
   },
   {
    "duration": 32,
    "start_time": "2021-12-29T10:41:36.120Z"
   },
   {
    "duration": 14,
    "start_time": "2021-12-29T10:41:36.155Z"
   },
   {
    "duration": 45,
    "start_time": "2021-12-29T10:41:36.172Z"
   },
   {
    "duration": 15,
    "start_time": "2021-12-29T10:41:36.220Z"
   },
   {
    "duration": 15,
    "start_time": "2021-12-29T10:41:36.238Z"
   },
   {
    "duration": 23,
    "start_time": "2021-12-29T10:41:36.256Z"
   },
   {
    "duration": 59,
    "start_time": "2021-12-29T10:41:36.281Z"
   },
   {
    "duration": 7,
    "start_time": "2021-12-29T10:41:36.343Z"
   },
   {
    "duration": 12,
    "start_time": "2021-12-29T10:41:36.352Z"
   },
   {
    "duration": 11,
    "start_time": "2021-12-29T10:41:36.366Z"
   },
   {
    "duration": 16,
    "start_time": "2021-12-29T10:41:37.476Z"
   },
   {
    "duration": 80,
    "start_time": "2021-12-29T10:41:38.107Z"
   },
   {
    "duration": 4,
    "start_time": "2021-12-29T10:45:48.636Z"
   },
   {
    "duration": 5,
    "start_time": "2021-12-29T10:45:48.645Z"
   },
   {
    "duration": 18,
    "start_time": "2021-12-29T10:45:48.653Z"
   },
   {
    "duration": 29,
    "start_time": "2021-12-29T10:45:48.674Z"
   },
   {
    "duration": 233,
    "start_time": "2021-12-29T10:45:48.706Z"
   },
   {
    "duration": 180,
    "start_time": "2021-12-29T10:45:48.942Z"
   },
   {
    "duration": 122,
    "start_time": "2021-12-29T10:45:49.125Z"
   },
   {
    "duration": 12,
    "start_time": "2021-12-29T10:45:49.250Z"
   },
   {
    "duration": 13,
    "start_time": "2021-12-29T10:45:49.265Z"
   },
   {
    "duration": 46,
    "start_time": "2021-12-29T10:45:49.283Z"
   },
   {
    "duration": 10,
    "start_time": "2021-12-29T10:45:49.333Z"
   },
   {
    "duration": 15,
    "start_time": "2021-12-29T10:45:49.346Z"
   },
   {
    "duration": 67,
    "start_time": "2021-12-29T10:45:49.364Z"
   },
   {
    "duration": 15,
    "start_time": "2021-12-29T10:45:49.434Z"
   },
   {
    "duration": 42,
    "start_time": "2021-12-29T10:45:49.452Z"
   },
   {
    "duration": 16,
    "start_time": "2021-12-29T10:45:49.517Z"
   },
   {
    "duration": 21,
    "start_time": "2021-12-29T10:45:49.536Z"
   },
   {
    "duration": 8,
    "start_time": "2021-12-29T10:45:49.560Z"
   },
   {
    "duration": 50,
    "start_time": "2021-12-29T10:45:49.571Z"
   },
   {
    "duration": 11,
    "start_time": "2021-12-29T10:45:49.624Z"
   },
   {
    "duration": 8,
    "start_time": "2021-12-29T10:45:49.637Z"
   },
   {
    "duration": 69,
    "start_time": "2021-12-29T10:45:49.648Z"
   },
   {
    "duration": 6,
    "start_time": "2021-12-29T10:45:49.720Z"
   },
   {
    "duration": 8,
    "start_time": "2021-12-29T10:45:49.728Z"
   },
   {
    "duration": 32,
    "start_time": "2021-12-29T10:45:49.739Z"
   },
   {
    "duration": 7,
    "start_time": "2021-12-29T10:45:49.774Z"
   },
   {
    "duration": 39,
    "start_time": "2021-12-29T10:45:49.783Z"
   },
   {
    "duration": 9,
    "start_time": "2021-12-29T10:45:49.830Z"
   },
   {
    "duration": 7,
    "start_time": "2021-12-29T10:45:49.843Z"
   },
   {
    "duration": 89,
    "start_time": "2021-12-29T10:45:49.853Z"
   },
   {
    "duration": 8,
    "start_time": "2021-12-29T10:45:49.945Z"
   },
   {
    "duration": 8,
    "start_time": "2021-12-29T10:45:49.957Z"
   },
   {
    "duration": 56,
    "start_time": "2021-12-29T10:45:49.968Z"
   },
   {
    "duration": 36,
    "start_time": "2021-12-29T10:45:50.028Z"
   },
   {
    "duration": 7,
    "start_time": "2021-12-29T10:45:50.068Z"
   },
   {
    "duration": 41,
    "start_time": "2021-12-29T10:45:50.078Z"
   },
   {
    "duration": 21,
    "start_time": "2021-12-29T10:45:50.122Z"
   },
   {
    "duration": 46,
    "start_time": "2021-12-29T10:45:50.146Z"
   },
   {
    "duration": 20,
    "start_time": "2021-12-29T10:45:50.218Z"
   },
   {
    "duration": 36,
    "start_time": "2021-12-29T10:45:50.241Z"
   },
   {
    "duration": 56,
    "start_time": "2021-12-29T10:45:50.279Z"
   },
   {
    "duration": 10,
    "start_time": "2021-12-29T10:45:50.338Z"
   },
   {
    "duration": 17,
    "start_time": "2021-12-29T10:45:50.352Z"
   },
   {
    "duration": 51,
    "start_time": "2021-12-29T10:45:50.372Z"
   },
   {
    "duration": 18,
    "start_time": "2021-12-29T10:45:50.426Z"
   },
   {
    "duration": 39,
    "start_time": "2021-12-29T10:45:50.447Z"
   },
   {
    "duration": 27,
    "start_time": "2021-12-29T10:45:50.518Z"
   },
   {
    "duration": 11,
    "start_time": "2021-12-29T10:45:50.548Z"
   },
   {
    "duration": 13,
    "start_time": "2021-12-29T10:45:50.561Z"
   },
   {
    "duration": 48,
    "start_time": "2021-12-29T10:45:50.577Z"
   },
   {
    "duration": 13,
    "start_time": "2021-12-29T10:45:54.118Z"
   },
   {
    "duration": 58,
    "start_time": "2021-12-29T10:45:55.558Z"
   },
   {
    "duration": 25,
    "start_time": "2021-12-29T10:46:12.621Z"
   },
   {
    "duration": 84,
    "start_time": "2021-12-29T10:46:13.396Z"
   },
   {
    "duration": 840,
    "start_time": "2021-12-29T10:46:50.058Z"
   },
   {
    "duration": 4,
    "start_time": "2021-12-29T10:46:50.901Z"
   },
   {
    "duration": 28,
    "start_time": "2021-12-29T10:46:50.908Z"
   },
   {
    "duration": 36,
    "start_time": "2021-12-29T10:46:50.941Z"
   },
   {
    "duration": 230,
    "start_time": "2021-12-29T10:46:50.979Z"
   },
   {
    "duration": 192,
    "start_time": "2021-12-29T10:46:51.212Z"
   },
   {
    "duration": 133,
    "start_time": "2021-12-29T10:46:51.406Z"
   },
   {
    "duration": 21,
    "start_time": "2021-12-29T10:46:51.542Z"
   },
   {
    "duration": 10,
    "start_time": "2021-12-29T10:46:51.567Z"
   },
   {
    "duration": 51,
    "start_time": "2021-12-29T10:46:51.581Z"
   },
   {
    "duration": 12,
    "start_time": "2021-12-29T10:46:51.635Z"
   },
   {
    "duration": 12,
    "start_time": "2021-12-29T10:46:51.650Z"
   },
   {
    "duration": 64,
    "start_time": "2021-12-29T10:46:51.664Z"
   },
   {
    "duration": 17,
    "start_time": "2021-12-29T10:46:51.731Z"
   },
   {
    "duration": 24,
    "start_time": "2021-12-29T10:46:51.751Z"
   },
   {
    "duration": 43,
    "start_time": "2021-12-29T10:46:51.777Z"
   },
   {
    "duration": 28,
    "start_time": "2021-12-29T10:46:51.823Z"
   },
   {
    "duration": 7,
    "start_time": "2021-12-29T10:46:51.854Z"
   },
   {
    "duration": 8,
    "start_time": "2021-12-29T10:46:51.865Z"
   },
   {
    "duration": 13,
    "start_time": "2021-12-29T10:46:51.917Z"
   },
   {
    "duration": 11,
    "start_time": "2021-12-29T10:46:51.933Z"
   },
   {
    "duration": 86,
    "start_time": "2021-12-29T10:46:51.947Z"
   },
   {
    "duration": 8,
    "start_time": "2021-12-29T10:46:52.036Z"
   },
   {
    "duration": 9,
    "start_time": "2021-12-29T10:46:52.048Z"
   },
   {
    "duration": 66,
    "start_time": "2021-12-29T10:46:52.060Z"
   },
   {
    "duration": 16,
    "start_time": "2021-12-29T10:46:52.128Z"
   },
   {
    "duration": 9,
    "start_time": "2021-12-29T10:46:52.152Z"
   },
   {
    "duration": 35,
    "start_time": "2021-12-29T10:46:52.165Z"
   },
   {
    "duration": 9,
    "start_time": "2021-12-29T10:46:52.215Z"
   },
   {
    "duration": 37,
    "start_time": "2021-12-29T10:46:52.227Z"
   },
   {
    "duration": 7,
    "start_time": "2021-12-29T10:46:52.266Z"
   },
   {
    "duration": 7,
    "start_time": "2021-12-29T10:46:52.275Z"
   },
   {
    "duration": 65,
    "start_time": "2021-12-29T10:46:52.284Z"
   },
   {
    "duration": 27,
    "start_time": "2021-12-29T10:46:52.352Z"
   },
   {
    "duration": 392,
    "start_time": "2021-12-29T10:46:52.381Z"
   },
   {
    "duration": 6,
    "start_time": "2021-12-29T10:46:52.776Z"
   },
   {
    "duration": 22,
    "start_time": "2021-12-29T10:46:52.785Z"
   },
   {
    "duration": 50,
    "start_time": "2021-12-29T10:46:52.810Z"
   },
   {
    "duration": 20,
    "start_time": "2021-12-29T10:46:52.863Z"
   },
   {
    "duration": 41,
    "start_time": "2021-12-29T10:46:52.886Z"
   },
   {
    "duration": 27,
    "start_time": "2021-12-29T10:46:52.930Z"
   },
   {
    "duration": 10,
    "start_time": "2021-12-29T10:46:52.959Z"
   },
   {
    "duration": 47,
    "start_time": "2021-12-29T10:46:52.972Z"
   },
   {
    "duration": 18,
    "start_time": "2021-12-29T10:46:53.022Z"
   },
   {
    "duration": 18,
    "start_time": "2021-12-29T10:46:53.043Z"
   },
   {
    "duration": 64,
    "start_time": "2021-12-29T10:46:53.063Z"
   },
   {
    "duration": 26,
    "start_time": "2021-12-29T10:46:53.131Z"
   },
   {
    "duration": 7,
    "start_time": "2021-12-29T10:46:53.159Z"
   },
   {
    "duration": 14,
    "start_time": "2021-12-29T10:46:53.168Z"
   },
   {
    "duration": 49,
    "start_time": "2021-12-29T10:46:53.184Z"
   },
   {
    "duration": 47,
    "start_time": "2021-12-29T10:46:56.082Z"
   },
   {
    "duration": 1817,
    "start_time": "2021-12-29T10:50:00.703Z"
   },
   {
    "duration": 1281,
    "start_time": "2021-12-29T10:50:14.790Z"
   },
   {
    "duration": 1585,
    "start_time": "2021-12-29T10:50:30.166Z"
   },
   {
    "duration": 1473,
    "start_time": "2021-12-29T10:51:21.093Z"
   },
   {
    "duration": 6,
    "start_time": "2021-12-29T10:52:18.601Z"
   },
   {
    "duration": 90,
    "start_time": "2021-12-29T10:52:52.461Z"
   },
   {
    "duration": 162,
    "start_time": "2021-12-29T10:54:43.882Z"
   },
   {
    "duration": 7,
    "start_time": "2021-12-29T10:54:59.856Z"
   },
   {
    "duration": 90,
    "start_time": "2021-12-29T10:57:47.721Z"
   },
   {
    "duration": 7,
    "start_time": "2021-12-29T10:57:53.816Z"
   },
   {
    "duration": 114,
    "start_time": "2021-12-29T10:57:56.866Z"
   },
   {
    "duration": 93,
    "start_time": "2021-12-29T10:58:06.453Z"
   },
   {
    "duration": 6,
    "start_time": "2021-12-29T10:58:10.546Z"
   },
   {
    "duration": 4,
    "start_time": "2021-12-29T11:05:51.492Z"
   },
   {
    "duration": 9,
    "start_time": "2021-12-29T11:05:51.924Z"
   },
   {
    "duration": 6,
    "start_time": "2021-12-29T11:05:53.434Z"
   },
   {
    "duration": 9,
    "start_time": "2021-12-29T11:05:53.824Z"
   },
   {
    "duration": 6,
    "start_time": "2021-12-29T11:05:54.615Z"
   },
   {
    "duration": 11,
    "start_time": "2021-12-29T11:05:54.994Z"
   },
   {
    "duration": 335,
    "start_time": "2021-12-29T11:06:52.497Z"
   },
   {
    "duration": 373,
    "start_time": "2021-12-29T11:07:00.131Z"
   },
   {
    "duration": 309,
    "start_time": "2021-12-29T11:07:34.944Z"
   },
   {
    "duration": 7461,
    "start_time": "2021-12-29T11:08:15.214Z"
   },
   {
    "duration": 291,
    "start_time": "2021-12-29T11:08:35.911Z"
   },
   {
    "duration": 8,
    "start_time": "2021-12-29T11:09:26.382Z"
   },
   {
    "duration": 71,
    "start_time": "2021-12-29T11:09:42.581Z"
   },
   {
    "duration": 49,
    "start_time": "2021-12-29T11:49:39.767Z"
   },
   {
    "duration": 6,
    "start_time": "2021-12-29T11:49:47.297Z"
   },
   {
    "duration": 53,
    "start_time": "2021-12-29T11:49:48.213Z"
   },
   {
    "duration": 285,
    "start_time": "2021-12-29T11:52:50.904Z"
   },
   {
    "duration": 294,
    "start_time": "2021-12-29T11:53:02.104Z"
   },
   {
    "duration": 569,
    "start_time": "2021-12-29T11:53:29.044Z"
   },
   {
    "duration": 384,
    "start_time": "2021-12-29T11:53:49.675Z"
   },
   {
    "duration": 426,
    "start_time": "2021-12-29T11:57:27.500Z"
   },
   {
    "duration": 407,
    "start_time": "2021-12-29T11:58:07.553Z"
   },
   {
    "duration": 387,
    "start_time": "2021-12-29T11:58:18.140Z"
   },
   {
    "duration": 350,
    "start_time": "2021-12-29T11:58:21.955Z"
   },
   {
    "duration": 627,
    "start_time": "2021-12-29T11:59:49.041Z"
   },
   {
    "duration": 697,
    "start_time": "2021-12-29T11:59:54.566Z"
   },
   {
    "duration": 868,
    "start_time": "2021-12-29T11:59:59.178Z"
   },
   {
    "duration": 1082,
    "start_time": "2021-12-29T12:00:17.546Z"
   },
   {
    "duration": 545,
    "start_time": "2021-12-29T12:00:46.275Z"
   },
   {
    "duration": 16,
    "start_time": "2021-12-29T12:01:42.114Z"
   },
   {
    "duration": 16,
    "start_time": "2021-12-29T12:01:51.777Z"
   },
   {
    "duration": 8,
    "start_time": "2021-12-29T12:04:54.785Z"
   },
   {
    "duration": 5,
    "start_time": "2021-12-29T12:04:59.278Z"
   },
   {
    "duration": 10,
    "start_time": "2021-12-29T12:05:03.185Z"
   },
   {
    "duration": 10,
    "start_time": "2021-12-29T12:05:54.257Z"
   },
   {
    "duration": 11,
    "start_time": "2021-12-29T12:07:25.578Z"
   },
   {
    "duration": 11,
    "start_time": "2021-12-29T12:07:33.905Z"
   },
   {
    "duration": 13,
    "start_time": "2021-12-29T12:07:34.398Z"
   },
   {
    "duration": 11,
    "start_time": "2021-12-29T12:07:34.848Z"
   },
   {
    "duration": 418,
    "start_time": "2021-12-29T12:14:08.920Z"
   },
   {
    "duration": 443,
    "start_time": "2021-12-29T12:14:13.016Z"
   },
   {
    "duration": 10,
    "start_time": "2021-12-29T12:15:54.352Z"
   },
   {
    "duration": 11,
    "start_time": "2021-12-29T12:16:08.858Z"
   },
   {
    "duration": 11,
    "start_time": "2021-12-29T12:17:49.420Z"
   },
   {
    "duration": 11,
    "start_time": "2021-12-29T12:17:50.112Z"
   },
   {
    "duration": 9,
    "start_time": "2021-12-29T12:17:52.139Z"
   },
   {
    "duration": 8,
    "start_time": "2021-12-29T12:17:53.999Z"
   },
   {
    "duration": 13,
    "start_time": "2021-12-29T12:23:34.047Z"
   },
   {
    "duration": 13,
    "start_time": "2021-12-29T12:23:34.720Z"
   },
   {
    "duration": 893,
    "start_time": "2021-12-29T12:32:13.083Z"
   },
   {
    "duration": 283,
    "start_time": "2021-12-29T12:32:51.630Z"
   },
   {
    "duration": 6,
    "start_time": "2021-12-29T12:33:08.681Z"
   },
   {
    "duration": 381,
    "start_time": "2021-12-29T12:33:53.522Z"
   },
   {
    "duration": 6,
    "start_time": "2021-12-29T12:34:27.584Z"
   },
   {
    "duration": 317,
    "start_time": "2021-12-29T12:34:28.284Z"
   },
   {
    "duration": 6,
    "start_time": "2021-12-29T12:35:05.871Z"
   },
   {
    "duration": 641,
    "start_time": "2021-12-29T12:35:06.404Z"
   },
   {
    "duration": 4,
    "start_time": "2021-12-29T12:35:46.313Z"
   },
   {
    "duration": 8,
    "start_time": "2021-12-29T13:02:49.264Z"
   },
   {
    "duration": 8,
    "start_time": "2021-12-29T13:02:50.442Z"
   },
   {
    "duration": 264,
    "start_time": "2021-12-29T13:04:08.872Z"
   },
   {
    "duration": 105,
    "start_time": "2021-12-29T13:04:34.307Z"
   },
   {
    "duration": 596,
    "start_time": "2021-12-29T13:04:39.127Z"
   },
   {
    "duration": 6,
    "start_time": "2021-12-29T13:04:43.990Z"
   },
   {
    "duration": 6,
    "start_time": "2021-12-29T13:04:50.777Z"
   },
   {
    "duration": 7,
    "start_time": "2021-12-29T13:05:48.994Z"
   },
   {
    "duration": 4,
    "start_time": "2021-12-29T13:05:59.449Z"
   },
   {
    "duration": 7,
    "start_time": "2021-12-29T13:06:00.218Z"
   },
   {
    "duration": 7,
    "start_time": "2021-12-29T13:06:09.166Z"
   },
   {
    "duration": 7,
    "start_time": "2021-12-29T13:06:09.519Z"
   },
   {
    "duration": 927,
    "start_time": "2021-12-30T06:46:47.496Z"
   },
   {
    "duration": 3,
    "start_time": "2021-12-30T06:46:48.424Z"
   },
   {
    "duration": 18,
    "start_time": "2021-12-30T06:46:48.429Z"
   },
   {
    "duration": 36,
    "start_time": "2021-12-30T06:46:48.448Z"
   },
   {
    "duration": 152,
    "start_time": "2021-12-30T06:46:48.485Z"
   },
   {
    "duration": 130,
    "start_time": "2021-12-30T06:46:48.639Z"
   },
   {
    "duration": 90,
    "start_time": "2021-12-30T06:46:48.770Z"
   },
   {
    "duration": 15,
    "start_time": "2021-12-30T06:46:48.861Z"
   },
   {
    "duration": 19,
    "start_time": "2021-12-30T06:46:48.878Z"
   },
   {
    "duration": 10,
    "start_time": "2021-12-30T06:46:48.899Z"
   },
   {
    "duration": 6,
    "start_time": "2021-12-30T06:46:48.911Z"
   },
   {
    "duration": 8,
    "start_time": "2021-12-30T06:46:48.919Z"
   },
   {
    "duration": 22,
    "start_time": "2021-12-30T06:46:48.929Z"
   },
   {
    "duration": 8,
    "start_time": "2021-12-30T06:46:48.953Z"
   },
   {
    "duration": 16,
    "start_time": "2021-12-30T06:46:48.992Z"
   },
   {
    "duration": 7,
    "start_time": "2021-12-30T06:46:49.010Z"
   },
   {
    "duration": 14,
    "start_time": "2021-12-30T06:46:49.019Z"
   },
   {
    "duration": 5,
    "start_time": "2021-12-30T06:47:03.436Z"
   },
   {
    "duration": 5,
    "start_time": "2021-12-30T06:47:05.169Z"
   },
   {
    "duration": 6,
    "start_time": "2021-12-30T06:47:06.599Z"
   },
   {
    "duration": 5,
    "start_time": "2021-12-30T06:47:08.219Z"
   },
   {
    "duration": 7,
    "start_time": "2021-12-30T06:47:41.715Z"
   },
   {
    "duration": 99,
    "start_time": "2021-12-30T06:48:23.475Z"
   },
   {
    "duration": 58,
    "start_time": "2021-12-30T06:48:31.955Z"
   },
   {
    "duration": 44,
    "start_time": "2021-12-30T06:48:41.307Z"
   },
   {
    "duration": 352,
    "start_time": "2021-12-30T07:01:12.044Z"
   },
   {
    "duration": 3,
    "start_time": "2021-12-30T07:01:17.316Z"
   },
   {
    "duration": 5,
    "start_time": "2021-12-30T07:01:17.321Z"
   },
   {
    "duration": 18,
    "start_time": "2021-12-30T07:01:17.328Z"
   },
   {
    "duration": 36,
    "start_time": "2021-12-30T07:01:17.348Z"
   },
   {
    "duration": 144,
    "start_time": "2021-12-30T07:01:17.386Z"
   },
   {
    "duration": 120,
    "start_time": "2021-12-30T07:01:17.531Z"
   },
   {
    "duration": 85,
    "start_time": "2021-12-30T07:01:17.653Z"
   },
   {
    "duration": 8,
    "start_time": "2021-12-30T07:01:17.741Z"
   },
   {
    "duration": 7,
    "start_time": "2021-12-30T07:01:17.751Z"
   },
   {
    "duration": 14,
    "start_time": "2021-12-30T07:01:17.759Z"
   },
   {
    "duration": 7,
    "start_time": "2021-12-30T07:01:17.791Z"
   },
   {
    "duration": 13,
    "start_time": "2021-12-30T07:01:17.799Z"
   },
   {
    "duration": 22,
    "start_time": "2021-12-30T07:01:17.813Z"
   },
   {
    "duration": 9,
    "start_time": "2021-12-30T07:01:17.836Z"
   },
   {
    "duration": 18,
    "start_time": "2021-12-30T07:01:17.846Z"
   },
   {
    "duration": 33,
    "start_time": "2021-12-30T07:01:17.866Z"
   },
   {
    "duration": 15,
    "start_time": "2021-12-30T07:01:17.901Z"
   },
   {
    "duration": 5,
    "start_time": "2021-12-30T07:01:17.918Z"
   },
   {
    "duration": 6,
    "start_time": "2021-12-30T07:01:17.924Z"
   },
   {
    "duration": 8,
    "start_time": "2021-12-30T07:01:17.931Z"
   },
   {
    "duration": 7,
    "start_time": "2021-12-30T07:01:17.941Z"
   },
   {
    "duration": 9,
    "start_time": "2021-12-30T07:01:17.949Z"
   },
   {
    "duration": 32,
    "start_time": "2021-12-30T07:01:17.992Z"
   },
   {
    "duration": 5,
    "start_time": "2021-12-30T07:01:18.026Z"
   },
   {
    "duration": 5,
    "start_time": "2021-12-30T07:01:18.032Z"
   },
   {
    "duration": 25,
    "start_time": "2021-12-30T07:01:18.039Z"
   },
   {
    "duration": 30,
    "start_time": "2021-12-30T07:01:18.066Z"
   },
   {
    "duration": 7,
    "start_time": "2021-12-30T07:01:18.097Z"
   },
   {
    "duration": 5,
    "start_time": "2021-12-30T07:01:18.106Z"
   },
   {
    "duration": 6,
    "start_time": "2021-12-30T07:01:18.112Z"
   },
   {
    "duration": 126,
    "start_time": "2021-12-30T07:01:18.120Z"
   },
   {
    "duration": 21,
    "start_time": "2021-12-30T07:01:18.248Z"
   },
   {
    "duration": 4,
    "start_time": "2021-12-30T07:01:18.271Z"
   },
   {
    "duration": 5,
    "start_time": "2021-12-30T07:01:18.292Z"
   },
   {
    "duration": 19,
    "start_time": "2021-12-30T07:01:18.298Z"
   },
   {
    "duration": 78,
    "start_time": "2021-12-30T07:01:18.319Z"
   },
   {
    "duration": 18,
    "start_time": "2021-12-30T07:01:18.398Z"
   },
   {
    "duration": 4,
    "start_time": "2021-12-30T07:01:18.417Z"
   },
   {
    "duration": 7,
    "start_time": "2021-12-30T07:01:18.422Z"
   },
   {
    "duration": 16,
    "start_time": "2021-12-30T07:01:18.430Z"
   },
   {
    "duration": 71,
    "start_time": "2021-12-30T07:01:18.448Z"
   },
   {
    "duration": 34,
    "start_time": "2021-12-30T07:01:21.351Z"
   },
   {
    "duration": 14,
    "start_time": "2021-12-30T07:01:23.345Z"
   },
   {
    "duration": 16,
    "start_time": "2021-12-30T07:01:26.463Z"
   },
   {
    "duration": 19,
    "start_time": "2021-12-30T07:01:27.844Z"
   },
   {
    "duration": 6,
    "start_time": "2021-12-30T07:01:29.602Z"
   },
   {
    "duration": 9,
    "start_time": "2021-12-30T07:01:29.951Z"
   },
   {
    "duration": 11,
    "start_time": "2021-12-30T07:01:31.942Z"
   },
   {
    "duration": 11,
    "start_time": "2021-12-30T07:01:32.284Z"
   },
   {
    "duration": 17,
    "start_time": "2021-12-30T07:01:32.663Z"
   },
   {
    "duration": 16,
    "start_time": "2021-12-30T07:01:34.683Z"
   },
   {
    "duration": 5,
    "start_time": "2021-12-30T07:01:36.604Z"
   },
   {
    "duration": 9,
    "start_time": "2021-12-30T07:01:36.924Z"
   },
   {
    "duration": 7,
    "start_time": "2021-12-30T07:01:37.274Z"
   },
   {
    "duration": 26,
    "start_time": "2021-12-30T07:01:38.144Z"
   },
   {
    "duration": 5,
    "start_time": "2021-12-30T07:01:46.903Z"
   },
   {
    "duration": 5,
    "start_time": "2021-12-30T07:01:47.185Z"
   },
   {
    "duration": 4,
    "start_time": "2021-12-30T07:01:47.711Z"
   },
   {
    "duration": 5,
    "start_time": "2021-12-30T07:01:47.950Z"
   },
   {
    "duration": 4,
    "start_time": "2021-12-30T07:01:48.511Z"
   },
   {
    "duration": 5,
    "start_time": "2021-12-30T07:01:48.894Z"
   },
   {
    "duration": 5,
    "start_time": "2021-12-30T07:01:49.736Z"
   },
   {
    "duration": 32,
    "start_time": "2021-12-30T07:01:50.335Z"
   },
   {
    "duration": 389,
    "start_time": "2021-12-30T07:01:55.437Z"
   },
   {
    "duration": 273,
    "start_time": "2021-12-30T07:01:57.483Z"
   },
   {
    "duration": 10,
    "start_time": "2021-12-30T07:01:59.004Z"
   },
   {
    "duration": 7,
    "start_time": "2021-12-30T07:02:00.450Z"
   },
   {
    "duration": 11,
    "start_time": "2021-12-30T07:02:00.682Z"
   },
   {
    "duration": 7,
    "start_time": "2021-12-30T07:02:00.911Z"
   },
   {
    "duration": 9,
    "start_time": "2021-12-30T07:02:03.433Z"
   },
   {
    "duration": 8,
    "start_time": "2021-12-30T07:02:03.915Z"
   },
   {
    "duration": 4,
    "start_time": "2021-12-30T07:02:04.903Z"
   },
   {
    "duration": 7,
    "start_time": "2021-12-30T07:02:11.642Z"
   },
   {
    "duration": 6,
    "start_time": "2021-12-30T07:02:12.023Z"
   },
   {
    "duration": 4,
    "start_time": "2021-12-30T07:02:12.453Z"
   },
   {
    "duration": 4,
    "start_time": "2021-12-30T07:02:13.013Z"
   },
   {
    "duration": 4,
    "start_time": "2021-12-30T07:12:12.131Z"
   },
   {
    "duration": 4,
    "start_time": "2021-12-30T07:12:12.518Z"
   },
   {
    "duration": 186,
    "start_time": "2021-12-30T07:14:38.931Z"
   },
   {
    "duration": 4,
    "start_time": "2021-12-30T07:15:09.501Z"
   },
   {
    "duration": 4,
    "start_time": "2021-12-30T07:15:09.958Z"
   },
   {
    "duration": 6,
    "start_time": "2021-12-30T07:28:34.696Z"
   },
   {
    "duration": 7,
    "start_time": "2021-12-30T07:28:43.800Z"
   },
   {
    "duration": 4,
    "start_time": "2021-12-30T07:28:44.260Z"
   },
   {
    "duration": 4,
    "start_time": "2021-12-30T07:28:44.768Z"
   },
   {
    "duration": 9,
    "start_time": "2021-12-30T07:29:03.049Z"
   },
   {
    "duration": 9,
    "start_time": "2021-12-30T07:29:13.610Z"
   },
   {
    "duration": 10,
    "start_time": "2021-12-30T07:34:27.326Z"
   },
   {
    "duration": 10,
    "start_time": "2021-12-30T07:34:29.121Z"
   },
   {
    "duration": 10,
    "start_time": "2021-12-30T07:34:42.817Z"
   },
   {
    "duration": 10,
    "start_time": "2021-12-30T07:34:50.030Z"
   },
   {
    "duration": 11,
    "start_time": "2021-12-30T07:34:57.830Z"
   },
   {
    "duration": 12,
    "start_time": "2021-12-30T07:35:01.340Z"
   },
   {
    "duration": 10,
    "start_time": "2021-12-30T07:35:05.162Z"
   },
   {
    "duration": 10,
    "start_time": "2021-12-30T07:35:05.457Z"
   },
   {
    "duration": 4,
    "start_time": "2021-12-30T07:35:13.410Z"
   },
   {
    "duration": 4,
    "start_time": "2021-12-30T07:35:16.559Z"
   },
   {
    "duration": 4,
    "start_time": "2021-12-30T07:35:19.570Z"
   },
   {
    "duration": 3,
    "start_time": "2021-12-30T07:59:32.883Z"
   },
   {
    "duration": 5,
    "start_time": "2021-12-30T07:59:38.123Z"
   },
   {
    "duration": 5,
    "start_time": "2021-12-30T07:59:47.883Z"
   },
   {
    "duration": 189,
    "start_time": "2021-12-30T08:01:07.593Z"
   },
   {
    "duration": 10,
    "start_time": "2021-12-30T08:01:12.227Z"
   },
   {
    "duration": 10,
    "start_time": "2021-12-30T08:01:14.396Z"
   },
   {
    "duration": 4,
    "start_time": "2021-12-30T08:01:14.903Z"
   },
   {
    "duration": 4,
    "start_time": "2021-12-30T08:01:15.186Z"
   },
   {
    "duration": 4,
    "start_time": "2021-12-30T08:01:15.837Z"
   },
   {
    "duration": 9,
    "start_time": "2021-12-30T08:01:32.983Z"
   },
   {
    "duration": 3,
    "start_time": "2021-12-30T08:01:39.354Z"
   },
   {
    "duration": 5,
    "start_time": "2021-12-30T08:01:49.284Z"
   },
   {
    "duration": 10,
    "start_time": "2021-12-30T08:06:15.606Z"
   },
   {
    "duration": 11,
    "start_time": "2021-12-30T08:06:16.214Z"
   },
   {
    "duration": 3,
    "start_time": "2021-12-30T08:06:24.925Z"
   },
   {
    "duration": 4,
    "start_time": "2021-12-30T08:06:25.560Z"
   },
   {
    "duration": 5,
    "start_time": "2021-12-30T08:06:40.865Z"
   },
   {
    "duration": 184,
    "start_time": "2021-12-30T08:06:54.372Z"
   },
   {
    "duration": 5,
    "start_time": "2021-12-30T08:06:59.503Z"
   },
   {
    "duration": 10,
    "start_time": "2021-12-30T08:07:07.415Z"
   },
   {
    "duration": 14,
    "start_time": "2021-12-30T08:07:07.755Z"
   },
   {
    "duration": 4,
    "start_time": "2021-12-30T08:07:08.955Z"
   },
   {
    "duration": 4,
    "start_time": "2021-12-30T08:07:09.241Z"
   },
   {
    "duration": 4,
    "start_time": "2021-12-30T08:07:10.704Z"
   },
   {
    "duration": 4,
    "start_time": "2021-12-30T08:07:11.264Z"
   },
   {
    "duration": 1224,
    "start_time": "2022-01-01T11:57:19.764Z"
   },
   {
    "duration": 4,
    "start_time": "2022-01-01T11:57:20.991Z"
   },
   {
    "duration": 19,
    "start_time": "2022-01-01T11:57:20.998Z"
   },
   {
    "duration": 29,
    "start_time": "2022-01-01T11:57:21.020Z"
   },
   {
    "duration": 280,
    "start_time": "2022-01-01T11:57:21.052Z"
   },
   {
    "duration": 179,
    "start_time": "2022-01-01T11:57:21.335Z"
   },
   {
    "duration": 121,
    "start_time": "2022-01-01T11:57:21.516Z"
   },
   {
    "duration": 22,
    "start_time": "2022-01-01T11:57:21.640Z"
   },
   {
    "duration": 10,
    "start_time": "2022-01-01T11:57:21.668Z"
   },
   {
    "duration": 19,
    "start_time": "2022-01-01T11:57:21.680Z"
   },
   {
    "duration": 12,
    "start_time": "2022-01-01T11:57:21.702Z"
   },
   {
    "duration": 52,
    "start_time": "2022-01-01T11:57:21.716Z"
   },
   {
    "duration": 28,
    "start_time": "2022-01-01T11:57:21.771Z"
   },
   {
    "duration": 14,
    "start_time": "2022-01-01T11:57:21.802Z"
   },
   {
    "duration": 59,
    "start_time": "2022-01-01T11:57:21.818Z"
   },
   {
    "duration": 12,
    "start_time": "2022-01-01T11:57:21.881Z"
   },
   {
    "duration": 24,
    "start_time": "2022-01-01T11:57:21.896Z"
   },
   {
    "duration": 7,
    "start_time": "2022-01-01T11:57:21.923Z"
   },
   {
    "duration": 40,
    "start_time": "2022-01-01T11:57:21.933Z"
   },
   {
    "duration": 21,
    "start_time": "2022-01-01T11:57:21.975Z"
   },
   {
    "duration": 8,
    "start_time": "2022-01-01T11:57:21.999Z"
   },
   {
    "duration": 11,
    "start_time": "2022-01-01T11:57:22.010Z"
   },
   {
    "duration": 74,
    "start_time": "2022-01-01T11:57:22.028Z"
   },
   {
    "duration": 6,
    "start_time": "2022-01-01T11:57:22.106Z"
   },
   {
    "duration": 9,
    "start_time": "2022-01-01T11:57:22.116Z"
   },
   {
    "duration": 63,
    "start_time": "2022-01-01T11:57:22.128Z"
   },
   {
    "duration": 8,
    "start_time": "2022-01-01T11:57:22.193Z"
   },
   {
    "duration": 8,
    "start_time": "2022-01-01T11:57:22.204Z"
   },
   {
    "duration": 10,
    "start_time": "2022-01-01T11:57:22.214Z"
   },
   {
    "duration": 41,
    "start_time": "2022-01-01T11:57:22.226Z"
   },
   {
    "duration": 134,
    "start_time": "2022-01-01T11:57:22.270Z"
   },
   {
    "duration": 31,
    "start_time": "2022-01-01T11:57:22.407Z"
   },
   {
    "duration": 6,
    "start_time": "2022-01-01T11:57:22.440Z"
   },
   {
    "duration": 6,
    "start_time": "2022-01-01T11:57:22.468Z"
   },
   {
    "duration": 27,
    "start_time": "2022-01-01T11:57:22.476Z"
   },
   {
    "duration": 136,
    "start_time": "2022-01-01T11:57:22.505Z"
   },
   {
    "duration": 33,
    "start_time": "2022-01-01T11:57:22.643Z"
   },
   {
    "duration": 6,
    "start_time": "2022-01-01T11:57:22.679Z"
   },
   {
    "duration": 7,
    "start_time": "2022-01-01T11:57:22.687Z"
   },
   {
    "duration": 23,
    "start_time": "2022-01-01T11:57:22.696Z"
   },
   {
    "duration": 95,
    "start_time": "2022-01-01T11:57:22.721Z"
   },
   {
    "duration": 63,
    "start_time": "2022-01-01T11:57:22.818Z"
   },
   {
    "duration": 18,
    "start_time": "2022-01-01T11:57:22.884Z"
   },
   {
    "duration": 21,
    "start_time": "2022-01-01T11:57:22.904Z"
   },
   {
    "duration": 51,
    "start_time": "2022-01-01T11:57:22.927Z"
   },
   {
    "duration": 9,
    "start_time": "2022-01-01T11:57:22.980Z"
   },
   {
    "duration": 13,
    "start_time": "2022-01-01T11:57:22.991Z"
   },
   {
    "duration": 16,
    "start_time": "2022-01-01T11:57:23.006Z"
   },
   {
    "duration": 48,
    "start_time": "2022-01-01T11:57:23.024Z"
   },
   {
    "duration": 25,
    "start_time": "2022-01-01T11:57:23.074Z"
   },
   {
    "duration": 25,
    "start_time": "2022-01-01T11:57:23.101Z"
   },
   {
    "duration": 40,
    "start_time": "2022-01-01T11:57:23.129Z"
   },
   {
    "duration": 16,
    "start_time": "2022-01-01T11:57:23.171Z"
   },
   {
    "duration": 10,
    "start_time": "2022-01-01T11:57:23.189Z"
   },
   {
    "duration": 71,
    "start_time": "2022-01-01T11:57:23.201Z"
   },
   {
    "duration": 10,
    "start_time": "2022-01-01T11:57:23.274Z"
   },
   {
    "duration": 6,
    "start_time": "2022-01-01T11:57:23.287Z"
   },
   {
    "duration": 7,
    "start_time": "2022-01-01T11:57:23.295Z"
   },
   {
    "duration": 10,
    "start_time": "2022-01-01T11:57:23.305Z"
   },
   {
    "duration": 8,
    "start_time": "2022-01-01T11:57:23.317Z"
   },
   {
    "duration": 40,
    "start_time": "2022-01-01T11:57:23.327Z"
   },
   {
    "duration": 9,
    "start_time": "2022-01-01T11:57:23.369Z"
   },
   {
    "duration": 50,
    "start_time": "2022-01-01T11:57:23.380Z"
   },
   {
    "duration": 622,
    "start_time": "2022-01-01T11:57:23.432Z"
   },
   {
    "duration": 462,
    "start_time": "2022-01-01T11:57:24.057Z"
   },
   {
    "duration": 17,
    "start_time": "2022-01-01T11:57:24.522Z"
   },
   {
    "duration": 30,
    "start_time": "2022-01-01T11:57:24.541Z"
   },
   {
    "duration": 14,
    "start_time": "2022-01-01T11:57:24.581Z"
   },
   {
    "duration": 10,
    "start_time": "2022-01-01T11:57:24.598Z"
   },
   {
    "duration": 12,
    "start_time": "2022-01-01T11:57:24.610Z"
   },
   {
    "duration": 52,
    "start_time": "2022-01-01T11:57:24.625Z"
   },
   {
    "duration": 5,
    "start_time": "2022-01-01T11:57:24.679Z"
   },
   {
    "duration": 7,
    "start_time": "2022-01-01T11:57:24.686Z"
   },
   {
    "duration": 17,
    "start_time": "2022-01-01T11:57:24.695Z"
   },
   {
    "duration": 15,
    "start_time": "2022-01-01T11:57:24.714Z"
   },
   {
    "duration": 37,
    "start_time": "2022-01-01T11:57:24.731Z"
   },
   {
    "duration": 6,
    "start_time": "2022-01-01T11:57:24.771Z"
   },
   {
    "duration": 8,
    "start_time": "2022-01-01T11:57:24.779Z"
   },
   {
    "duration": 11,
    "start_time": "2022-01-01T11:57:24.789Z"
   },
   {
    "duration": 13,
    "start_time": "2022-01-01T11:57:24.803Z"
   },
   {
    "duration": 54,
    "start_time": "2022-01-01T11:57:24.818Z"
   },
   {
    "duration": 5,
    "start_time": "2022-01-01T11:57:24.874Z"
   },
   {
    "duration": 10,
    "start_time": "2022-01-01T11:57:24.881Z"
   },
   {
    "duration": 10,
    "start_time": "2022-01-01T11:57:24.893Z"
   },
   {
    "duration": 6,
    "start_time": "2022-01-01T11:57:28.606Z"
   },
   {
    "duration": 8,
    "start_time": "2022-01-01T11:57:29.574Z"
   },
   {
    "duration": 5,
    "start_time": "2022-01-01T12:02:51.929Z"
   },
   {
    "duration": 1228,
    "start_time": "2022-01-01T12:03:17.813Z"
   },
   {
    "duration": 4,
    "start_time": "2022-01-01T12:04:45.508Z"
   },
   {
    "duration": 5,
    "start_time": "2022-01-01T12:04:52.457Z"
   },
   {
    "duration": 440,
    "start_time": "2022-01-01T12:04:52.899Z"
   },
   {
    "duration": 460,
    "start_time": "2022-01-01T12:05:15.392Z"
   },
   {
    "duration": 5,
    "start_time": "2022-01-01T12:08:00.694Z"
   },
   {
    "duration": 434,
    "start_time": "2022-01-01T12:09:52.394Z"
   },
   {
    "duration": 6,
    "start_time": "2022-01-01T12:11:33.425Z"
   },
   {
    "duration": 516,
    "start_time": "2022-01-01T12:11:36.145Z"
   },
   {
    "duration": 5,
    "start_time": "2022-01-01T12:12:47.817Z"
   },
   {
    "duration": 82,
    "start_time": "2022-01-01T12:15:10.510Z"
   },
   {
    "duration": 88,
    "start_time": "2022-01-01T12:16:02.428Z"
   },
   {
    "duration": 6,
    "start_time": "2022-01-01T12:19:16.101Z"
   },
   {
    "duration": 443,
    "start_time": "2022-01-01T12:19:19.309Z"
   },
   {
    "duration": 6,
    "start_time": "2022-01-01T12:20:24.961Z"
   },
   {
    "duration": 445,
    "start_time": "2022-01-01T12:20:26.037Z"
   },
   {
    "duration": 6,
    "start_time": "2022-01-01T12:20:56.826Z"
   },
   {
    "duration": 450,
    "start_time": "2022-01-01T12:20:57.792Z"
   },
   {
    "duration": 6,
    "start_time": "2022-01-01T12:22:37.116Z"
   },
   {
    "duration": 447,
    "start_time": "2022-01-01T12:22:38.705Z"
   },
   {
    "duration": 562,
    "start_time": "2022-01-01T12:22:48.013Z"
   },
   {
    "duration": 1395,
    "start_time": "2022-01-03T09:24:59.746Z"
   },
   {
    "duration": 4,
    "start_time": "2022-01-03T09:25:01.143Z"
   },
   {
    "duration": 21,
    "start_time": "2022-01-03T09:25:01.149Z"
   },
   {
    "duration": 34,
    "start_time": "2022-01-03T09:25:01.173Z"
   },
   {
    "duration": 232,
    "start_time": "2022-01-03T09:25:01.209Z"
   },
   {
    "duration": 191,
    "start_time": "2022-01-03T09:25:01.449Z"
   },
   {
    "duration": 131,
    "start_time": "2022-01-03T09:25:01.643Z"
   },
   {
    "duration": 24,
    "start_time": "2022-01-03T09:25:01.779Z"
   },
   {
    "duration": 13,
    "start_time": "2022-01-03T09:25:01.822Z"
   },
   {
    "duration": 18,
    "start_time": "2022-01-03T09:25:01.838Z"
   },
   {
    "duration": 14,
    "start_time": "2022-01-03T09:25:01.858Z"
   },
   {
    "duration": 44,
    "start_time": "2022-01-03T09:25:01.874Z"
   },
   {
    "duration": 29,
    "start_time": "2022-01-03T09:25:01.925Z"
   },
   {
    "duration": 13,
    "start_time": "2022-01-03T09:25:01.957Z"
   },
   {
    "duration": 58,
    "start_time": "2022-01-03T09:25:01.972Z"
   },
   {
    "duration": 12,
    "start_time": "2022-01-03T09:25:02.033Z"
   },
   {
    "duration": 33,
    "start_time": "2022-01-03T09:25:02.047Z"
   },
   {
    "duration": 11,
    "start_time": "2022-01-03T09:25:02.082Z"
   },
   {
    "duration": 27,
    "start_time": "2022-01-03T09:25:02.096Z"
   },
   {
    "duration": 26,
    "start_time": "2022-01-03T09:25:02.126Z"
   },
   {
    "duration": 13,
    "start_time": "2022-01-03T09:25:02.155Z"
   },
   {
    "duration": 24,
    "start_time": "2022-01-03T09:25:02.171Z"
   },
   {
    "duration": 58,
    "start_time": "2022-01-03T09:25:02.201Z"
   },
   {
    "duration": 6,
    "start_time": "2022-01-03T09:25:02.262Z"
   },
   {
    "duration": 9,
    "start_time": "2022-01-03T09:25:02.270Z"
   },
   {
    "duration": 59,
    "start_time": "2022-01-03T09:25:02.281Z"
   },
   {
    "duration": 7,
    "start_time": "2022-01-03T09:25:02.342Z"
   },
   {
    "duration": 15,
    "start_time": "2022-01-03T09:25:02.353Z"
   },
   {
    "duration": 17,
    "start_time": "2022-01-03T09:25:02.371Z"
   },
   {
    "duration": 36,
    "start_time": "2022-01-03T09:25:02.391Z"
   },
   {
    "duration": 144,
    "start_time": "2022-01-03T09:25:02.431Z"
   },
   {
    "duration": 47,
    "start_time": "2022-01-03T09:25:02.578Z"
   },
   {
    "duration": 8,
    "start_time": "2022-01-03T09:25:02.627Z"
   },
   {
    "duration": 8,
    "start_time": "2022-01-03T09:25:02.638Z"
   },
   {
    "duration": 26,
    "start_time": "2022-01-03T09:25:02.648Z"
   },
   {
    "duration": 147,
    "start_time": "2022-01-03T09:25:02.677Z"
   },
   {
    "duration": 28,
    "start_time": "2022-01-03T09:25:02.828Z"
   },
   {
    "duration": 7,
    "start_time": "2022-01-03T09:25:02.858Z"
   },
   {
    "duration": 7,
    "start_time": "2022-01-03T09:25:02.868Z"
   },
   {
    "duration": 59,
    "start_time": "2022-01-03T09:25:02.877Z"
   },
   {
    "duration": 83,
    "start_time": "2022-01-03T09:25:02.938Z"
   },
   {
    "duration": 51,
    "start_time": "2022-01-03T09:25:03.024Z"
   },
   {
    "duration": 43,
    "start_time": "2022-01-03T09:25:03.077Z"
   },
   {
    "duration": 34,
    "start_time": "2022-01-03T09:25:03.123Z"
   },
   {
    "duration": 27,
    "start_time": "2022-01-03T09:25:03.159Z"
   },
   {
    "duration": 30,
    "start_time": "2022-01-03T09:25:03.188Z"
   },
   {
    "duration": 21,
    "start_time": "2022-01-03T09:25:03.223Z"
   },
   {
    "duration": 16,
    "start_time": "2022-01-03T09:25:03.247Z"
   },
   {
    "duration": 17,
    "start_time": "2022-01-03T09:25:03.266Z"
   },
   {
    "duration": 59,
    "start_time": "2022-01-03T09:25:03.285Z"
   },
   {
    "duration": 24,
    "start_time": "2022-01-03T09:25:03.346Z"
   },
   {
    "duration": 6,
    "start_time": "2022-01-03T09:25:03.373Z"
   },
   {
    "duration": 52,
    "start_time": "2022-01-03T09:25:03.381Z"
   },
   {
    "duration": 13,
    "start_time": "2022-01-03T09:25:03.436Z"
   },
   {
    "duration": 48,
    "start_time": "2022-01-03T09:25:03.451Z"
   },
   {
    "duration": 20,
    "start_time": "2022-01-03T09:25:03.501Z"
   },
   {
    "duration": 14,
    "start_time": "2022-01-03T09:25:03.525Z"
   },
   {
    "duration": 26,
    "start_time": "2022-01-03T09:25:03.542Z"
   },
   {
    "duration": 23,
    "start_time": "2022-01-03T09:25:03.570Z"
   },
   {
    "duration": 19,
    "start_time": "2022-01-03T09:25:03.596Z"
   },
   {
    "duration": 22,
    "start_time": "2022-01-03T09:25:03.617Z"
   },
   {
    "duration": 11,
    "start_time": "2022-01-03T09:25:03.642Z"
   },
   {
    "duration": 63,
    "start_time": "2022-01-03T09:25:03.656Z"
   },
   {
    "duration": 9,
    "start_time": "2022-01-03T09:25:03.722Z"
   },
   {
    "duration": 493,
    "start_time": "2022-01-03T09:25:03.734Z"
   },
   {
    "duration": 504,
    "start_time": "2022-01-03T09:25:04.230Z"
   },
   {
    "duration": 12,
    "start_time": "2022-01-03T09:25:04.737Z"
   },
   {
    "duration": 14,
    "start_time": "2022-01-03T09:25:04.756Z"
   },
   {
    "duration": 5,
    "start_time": "2022-01-03T09:25:04.772Z"
   },
   {
    "duration": 44,
    "start_time": "2022-01-03T09:25:04.779Z"
   },
   {
    "duration": 8,
    "start_time": "2022-01-03T09:25:04.826Z"
   },
   {
    "duration": 8,
    "start_time": "2022-01-03T09:25:04.837Z"
   },
   {
    "duration": 15,
    "start_time": "2022-01-03T09:25:04.848Z"
   },
   {
    "duration": 63,
    "start_time": "2022-01-03T09:25:04.865Z"
   },
   {
    "duration": 5,
    "start_time": "2022-01-03T09:25:04.932Z"
   },
   {
    "duration": 7,
    "start_time": "2022-01-03T09:25:04.940Z"
   },
   {
    "duration": 7,
    "start_time": "2022-01-03T09:25:04.950Z"
   },
   {
    "duration": 8,
    "start_time": "2022-01-03T09:25:04.960Z"
   },
   {
    "duration": 462,
    "start_time": "2022-01-03T09:51:52.467Z"
   },
   {
    "duration": 444,
    "start_time": "2022-01-03T09:51:58.616Z"
   },
   {
    "duration": 436,
    "start_time": "2022-01-03T09:52:06.584Z"
   },
   {
    "duration": 441,
    "start_time": "2022-01-03T09:52:12.301Z"
   },
   {
    "duration": 427,
    "start_time": "2022-01-03T10:19:07.543Z"
   },
   {
    "duration": 542,
    "start_time": "2022-01-03T10:19:17.714Z"
   },
   {
    "duration": 476,
    "start_time": "2022-01-03T10:19:24.297Z"
   },
   {
    "duration": 328,
    "start_time": "2022-01-03T10:19:32.697Z"
   },
   {
    "duration": 511,
    "start_time": "2022-01-03T10:19:38.710Z"
   },
   {
    "duration": 310,
    "start_time": "2022-01-03T10:19:53.178Z"
   },
   {
    "duration": 345,
    "start_time": "2022-01-03T10:19:58.930Z"
   },
   {
    "duration": 658,
    "start_time": "2022-01-03T10:20:02.736Z"
   },
   {
    "duration": 1550,
    "start_time": "2022-01-06T12:01:42.371Z"
   },
   {
    "duration": 4,
    "start_time": "2022-01-06T12:01:43.924Z"
   },
   {
    "duration": 21,
    "start_time": "2022-01-06T12:01:43.932Z"
   },
   {
    "duration": 50,
    "start_time": "2022-01-06T12:01:43.960Z"
   },
   {
    "duration": 206,
    "start_time": "2022-01-06T12:01:44.013Z"
   },
   {
    "duration": 193,
    "start_time": "2022-01-06T12:01:44.221Z"
   },
   {
    "duration": 165,
    "start_time": "2022-01-06T12:01:44.417Z"
   },
   {
    "duration": 25,
    "start_time": "2022-01-06T12:01:44.586Z"
   },
   {
    "duration": 13,
    "start_time": "2022-01-06T12:01:44.616Z"
   },
   {
    "duration": 21,
    "start_time": "2022-01-06T12:01:44.659Z"
   },
   {
    "duration": 12,
    "start_time": "2022-01-06T12:01:44.683Z"
   },
   {
    "duration": 14,
    "start_time": "2022-01-06T12:01:44.697Z"
   },
   {
    "duration": 62,
    "start_time": "2022-01-06T12:01:44.713Z"
   },
   {
    "duration": 13,
    "start_time": "2022-01-06T12:01:44.778Z"
   },
   {
    "duration": 25,
    "start_time": "2022-01-06T12:01:44.793Z"
   },
   {
    "duration": 48,
    "start_time": "2022-01-06T12:01:44.821Z"
   },
   {
    "duration": 23,
    "start_time": "2022-01-06T12:01:44.872Z"
   },
   {
    "duration": 8,
    "start_time": "2022-01-06T12:01:44.898Z"
   },
   {
    "duration": 9,
    "start_time": "2022-01-06T12:01:44.909Z"
   },
   {
    "duration": 43,
    "start_time": "2022-01-06T12:01:44.920Z"
   },
   {
    "duration": 10,
    "start_time": "2022-01-06T12:01:44.966Z"
   },
   {
    "duration": 12,
    "start_time": "2022-01-06T12:01:44.979Z"
   },
   {
    "duration": 82,
    "start_time": "2022-01-06T12:01:44.994Z"
   },
   {
    "duration": 6,
    "start_time": "2022-01-06T12:01:45.078Z"
   },
   {
    "duration": 8,
    "start_time": "2022-01-06T12:01:45.087Z"
   },
   {
    "duration": 37,
    "start_time": "2022-01-06T12:01:45.097Z"
   },
   {
    "duration": 8,
    "start_time": "2022-01-06T12:01:45.164Z"
   },
   {
    "duration": 6,
    "start_time": "2022-01-06T12:01:45.177Z"
   },
   {
    "duration": 7,
    "start_time": "2022-01-06T12:01:45.185Z"
   },
   {
    "duration": 6,
    "start_time": "2022-01-06T12:01:45.194Z"
   },
   {
    "duration": 168,
    "start_time": "2022-01-06T12:01:45.203Z"
   },
   {
    "duration": 32,
    "start_time": "2022-01-06T12:01:45.373Z"
   },
   {
    "duration": 9,
    "start_time": "2022-01-06T12:01:45.408Z"
   },
   {
    "duration": 41,
    "start_time": "2022-01-06T12:01:45.420Z"
   },
   {
    "duration": 25,
    "start_time": "2022-01-06T12:01:45.464Z"
   },
   {
    "duration": 150,
    "start_time": "2022-01-06T12:01:45.491Z"
   },
   {
    "duration": 42,
    "start_time": "2022-01-06T12:01:45.644Z"
   },
   {
    "duration": 6,
    "start_time": "2022-01-06T12:01:45.688Z"
   },
   {
    "duration": 13,
    "start_time": "2022-01-06T12:01:45.696Z"
   },
   {
    "duration": 48,
    "start_time": "2022-01-06T12:01:45.711Z"
   },
   {
    "duration": 61,
    "start_time": "2022-01-06T12:01:45.762Z"
   },
   {
    "duration": 66,
    "start_time": "2022-01-06T12:01:45.826Z"
   },
   {
    "duration": 20,
    "start_time": "2022-01-06T12:01:45.896Z"
   },
   {
    "duration": 53,
    "start_time": "2022-01-06T12:01:45.919Z"
   },
   {
    "duration": 35,
    "start_time": "2022-01-06T12:01:45.975Z"
   },
   {
    "duration": 16,
    "start_time": "2022-01-06T12:01:46.013Z"
   },
   {
    "duration": 37,
    "start_time": "2022-01-06T12:01:46.031Z"
   },
   {
    "duration": 16,
    "start_time": "2022-01-06T12:01:46.071Z"
   },
   {
    "duration": 15,
    "start_time": "2022-01-06T12:01:46.089Z"
   },
   {
    "duration": 63,
    "start_time": "2022-01-06T12:01:46.106Z"
   },
   {
    "duration": 33,
    "start_time": "2022-01-06T12:01:46.172Z"
   },
   {
    "duration": 9,
    "start_time": "2022-01-06T12:01:46.208Z"
   },
   {
    "duration": 50,
    "start_time": "2022-01-06T12:01:46.220Z"
   },
   {
    "duration": 13,
    "start_time": "2022-01-06T12:01:46.273Z"
   },
   {
    "duration": 86,
    "start_time": "2022-01-06T12:01:46.290Z"
   },
   {
    "duration": 12,
    "start_time": "2022-01-06T12:01:46.379Z"
   },
   {
    "duration": 6,
    "start_time": "2022-01-06T12:01:46.393Z"
   },
   {
    "duration": 7,
    "start_time": "2022-01-06T12:01:46.402Z"
   },
   {
    "duration": 9,
    "start_time": "2022-01-06T12:01:46.411Z"
   },
   {
    "duration": 36,
    "start_time": "2022-01-06T12:01:46.423Z"
   },
   {
    "duration": 8,
    "start_time": "2022-01-06T12:01:46.462Z"
   },
   {
    "duration": 10,
    "start_time": "2022-01-06T12:01:46.472Z"
   },
   {
    "duration": 54,
    "start_time": "2022-01-06T12:01:46.484Z"
   },
   {
    "duration": 6,
    "start_time": "2022-01-06T12:01:46.560Z"
   },
   {
    "duration": 593,
    "start_time": "2022-01-06T12:01:46.568Z"
   },
   {
    "duration": 470,
    "start_time": "2022-01-06T12:01:47.163Z"
   },
   {
    "duration": 495,
    "start_time": "2022-01-06T12:01:47.636Z"
   },
   {
    "duration": 462,
    "start_time": "2022-01-06T12:01:48.134Z"
   },
   {
    "duration": 383,
    "start_time": "2022-01-06T12:01:48.598Z"
   },
   {
    "duration": 352,
    "start_time": "2022-01-06T12:01:48.984Z"
   },
   {
    "duration": 24,
    "start_time": "2022-01-06T12:01:49.338Z"
   },
   {
    "duration": 14,
    "start_time": "2022-01-06T12:01:49.364Z"
   },
   {
    "duration": 4,
    "start_time": "2022-01-06T12:01:49.380Z"
   },
   {
    "duration": 9,
    "start_time": "2022-01-06T12:01:49.387Z"
   },
   {
    "duration": 6,
    "start_time": "2022-01-06T12:01:49.399Z"
   },
   {
    "duration": 54,
    "start_time": "2022-01-06T12:01:49.407Z"
   },
   {
    "duration": 14,
    "start_time": "2022-01-06T12:01:49.463Z"
   },
   {
    "duration": 13,
    "start_time": "2022-01-06T12:01:49.479Z"
   },
   {
    "duration": 5,
    "start_time": "2022-01-06T12:01:49.494Z"
   },
   {
    "duration": 7,
    "start_time": "2022-01-06T12:01:49.501Z"
   },
   {
    "duration": 46,
    "start_time": "2022-01-06T12:01:49.516Z"
   },
   {
    "duration": 6,
    "start_time": "2022-01-06T12:01:49.564Z"
   },
   {
    "duration": 6,
    "start_time": "2022-01-06T12:03:58.739Z"
   },
   {
    "duration": 1515,
    "start_time": "2022-01-07T15:56:08.498Z"
   },
   {
    "duration": 7,
    "start_time": "2022-01-07T15:56:10.016Z"
   },
   {
    "duration": 16,
    "start_time": "2022-01-07T15:56:10.026Z"
   },
   {
    "duration": 24,
    "start_time": "2022-01-07T15:56:10.045Z"
   },
   {
    "duration": 177,
    "start_time": "2022-01-07T15:56:10.071Z"
   },
   {
    "duration": 156,
    "start_time": "2022-01-07T15:56:10.250Z"
   },
   {
    "duration": 98,
    "start_time": "2022-01-07T15:56:10.408Z"
   },
   {
    "duration": 23,
    "start_time": "2022-01-07T15:56:10.510Z"
   },
   {
    "duration": 14,
    "start_time": "2022-01-07T15:56:10.536Z"
   },
   {
    "duration": 16,
    "start_time": "2022-01-07T15:56:10.552Z"
   },
   {
    "duration": 12,
    "start_time": "2022-01-07T15:56:10.571Z"
   },
   {
    "duration": 50,
    "start_time": "2022-01-07T15:56:10.585Z"
   },
   {
    "duration": 30,
    "start_time": "2022-01-07T15:56:10.638Z"
   },
   {
    "duration": 12,
    "start_time": "2022-01-07T15:56:10.671Z"
   },
   {
    "duration": 59,
    "start_time": "2022-01-07T15:56:10.686Z"
   },
   {
    "duration": 12,
    "start_time": "2022-01-07T15:56:10.748Z"
   },
   {
    "duration": 63,
    "start_time": "2022-01-07T15:56:10.763Z"
   },
   {
    "duration": 7,
    "start_time": "2022-01-07T15:56:10.828Z"
   },
   {
    "duration": 6,
    "start_time": "2022-01-07T15:56:10.837Z"
   },
   {
    "duration": 9,
    "start_time": "2022-01-07T15:56:10.845Z"
   },
   {
    "duration": 7,
    "start_time": "2022-01-07T15:56:10.856Z"
   },
   {
    "duration": 8,
    "start_time": "2022-01-07T15:56:10.866Z"
   },
   {
    "duration": 40,
    "start_time": "2022-01-07T15:56:10.925Z"
   },
   {
    "duration": 7,
    "start_time": "2022-01-07T15:56:10.969Z"
   },
   {
    "duration": 7,
    "start_time": "2022-01-07T15:56:10.978Z"
   },
   {
    "duration": 62,
    "start_time": "2022-01-07T15:56:10.987Z"
   },
   {
    "duration": 7,
    "start_time": "2022-01-07T15:56:11.051Z"
   },
   {
    "duration": 9,
    "start_time": "2022-01-07T15:56:11.060Z"
   },
   {
    "duration": 8,
    "start_time": "2022-01-07T15:56:11.071Z"
   },
   {
    "duration": 11,
    "start_time": "2022-01-07T15:56:11.081Z"
   },
   {
    "duration": 78,
    "start_time": "2022-01-07T15:56:11.123Z"
   },
   {
    "duration": 36,
    "start_time": "2022-01-07T15:56:11.204Z"
   },
   {
    "duration": 6,
    "start_time": "2022-01-07T15:56:11.243Z"
   },
   {
    "duration": 6,
    "start_time": "2022-01-07T15:56:11.251Z"
   },
   {
    "duration": 23,
    "start_time": "2022-01-07T15:56:11.260Z"
   },
   {
    "duration": 138,
    "start_time": "2022-01-07T15:56:11.285Z"
   },
   {
    "duration": 24,
    "start_time": "2022-01-07T15:56:11.426Z"
   },
   {
    "duration": 7,
    "start_time": "2022-01-07T15:56:11.452Z"
   },
   {
    "duration": 5,
    "start_time": "2022-01-07T15:56:11.462Z"
   },
   {
    "duration": 56,
    "start_time": "2022-01-07T15:56:11.470Z"
   },
   {
    "duration": 39,
    "start_time": "2022-01-07T15:56:11.528Z"
   },
   {
    "duration": 63,
    "start_time": "2022-01-07T15:56:11.570Z"
   },
   {
    "duration": 16,
    "start_time": "2022-01-07T15:56:11.636Z"
   },
   {
    "duration": 23,
    "start_time": "2022-01-07T15:56:11.654Z"
   },
   {
    "duration": 56,
    "start_time": "2022-01-07T15:56:11.679Z"
   },
   {
    "duration": 9,
    "start_time": "2022-01-07T15:56:11.738Z"
   },
   {
    "duration": 10,
    "start_time": "2022-01-07T15:56:11.750Z"
   },
   {
    "duration": 12,
    "start_time": "2022-01-07T15:56:11.763Z"
   },
   {
    "duration": 48,
    "start_time": "2022-01-07T15:56:11.777Z"
   },
   {
    "duration": 20,
    "start_time": "2022-01-07T15:56:11.828Z"
   },
   {
    "duration": 22,
    "start_time": "2022-01-07T15:56:11.851Z"
   },
   {
    "duration": 7,
    "start_time": "2022-01-07T15:56:11.876Z"
   },
   {
    "duration": 47,
    "start_time": "2022-01-07T15:56:11.885Z"
   },
   {
    "duration": 11,
    "start_time": "2022-01-07T15:56:11.935Z"
   },
   {
    "duration": 37,
    "start_time": "2022-01-07T15:56:11.948Z"
   },
   {
    "duration": 6,
    "start_time": "2022-01-07T15:56:12.024Z"
   },
   {
    "duration": 10,
    "start_time": "2022-01-07T15:56:12.033Z"
   },
   {
    "duration": 8,
    "start_time": "2022-01-07T15:56:12.045Z"
   },
   {
    "duration": 8,
    "start_time": "2022-01-07T15:56:12.056Z"
   },
   {
    "duration": 11,
    "start_time": "2022-01-07T15:56:12.067Z"
   },
   {
    "duration": 44,
    "start_time": "2022-01-07T15:56:12.081Z"
   },
   {
    "duration": 10,
    "start_time": "2022-01-07T15:56:12.128Z"
   },
   {
    "duration": 46,
    "start_time": "2022-01-07T15:56:12.140Z"
   },
   {
    "duration": 6,
    "start_time": "2022-01-07T15:56:12.189Z"
   },
   {
    "duration": 1736,
    "start_time": "2022-01-07T15:56:12.198Z"
   },
   {
    "duration": 539,
    "start_time": "2022-01-07T15:56:13.936Z"
   },
   {
    "duration": 413,
    "start_time": "2022-01-07T15:56:14.478Z"
   },
   {
    "duration": 447,
    "start_time": "2022-01-07T15:56:14.898Z"
   },
   {
    "duration": 416,
    "start_time": "2022-01-07T15:56:15.348Z"
   },
   {
    "duration": 365,
    "start_time": "2022-01-07T15:56:15.767Z"
   },
   {
    "duration": 12,
    "start_time": "2022-01-07T15:56:16.134Z"
   },
   {
    "duration": 15,
    "start_time": "2022-01-07T15:56:16.148Z"
   },
   {
    "duration": 4,
    "start_time": "2022-01-07T15:56:16.165Z"
   },
   {
    "duration": 7,
    "start_time": "2022-01-07T15:56:16.171Z"
   },
   {
    "duration": 45,
    "start_time": "2022-01-07T15:56:16.180Z"
   },
   {
    "duration": 8,
    "start_time": "2022-01-07T15:56:16.227Z"
   },
   {
    "duration": 12,
    "start_time": "2022-01-07T15:56:16.238Z"
   },
   {
    "duration": 11,
    "start_time": "2022-01-07T15:56:16.253Z"
   },
   {
    "duration": 6,
    "start_time": "2022-01-07T15:56:16.267Z"
   },
   {
    "duration": 49,
    "start_time": "2022-01-07T15:56:16.275Z"
   },
   {
    "duration": 11,
    "start_time": "2022-01-07T15:56:16.327Z"
   },
   {
    "duration": 6,
    "start_time": "2022-01-07T15:56:16.340Z"
   },
   {
    "duration": 34,
    "start_time": "2022-01-07T16:05:27.708Z"
   },
   {
    "duration": 1041,
    "start_time": "2022-01-08T09:47:19.189Z"
   },
   {
    "duration": 3,
    "start_time": "2022-01-08T09:47:20.232Z"
   },
   {
    "duration": 19,
    "start_time": "2022-01-08T09:47:20.237Z"
   },
   {
    "duration": 28,
    "start_time": "2022-01-08T09:47:20.258Z"
   },
   {
    "duration": 144,
    "start_time": "2022-01-08T09:47:20.288Z"
   },
   {
    "duration": 132,
    "start_time": "2022-01-08T09:47:20.434Z"
   },
   {
    "duration": 84,
    "start_time": "2022-01-08T09:47:20.567Z"
   },
   {
    "duration": 10,
    "start_time": "2022-01-08T09:47:20.653Z"
   },
   {
    "duration": 7,
    "start_time": "2022-01-08T09:47:20.666Z"
   },
   {
    "duration": 23,
    "start_time": "2022-01-08T09:47:20.676Z"
   },
   {
    "duration": 12,
    "start_time": "2022-01-08T09:47:20.700Z"
   },
   {
    "duration": 15,
    "start_time": "2022-01-08T09:47:20.713Z"
   },
   {
    "duration": 20,
    "start_time": "2022-01-08T09:47:20.730Z"
   },
   {
    "duration": 8,
    "start_time": "2022-01-08T09:47:20.752Z"
   },
   {
    "duration": 36,
    "start_time": "2022-01-08T09:47:20.762Z"
   },
   {
    "duration": 7,
    "start_time": "2022-01-08T09:47:20.800Z"
   },
   {
    "duration": 15,
    "start_time": "2022-01-08T09:47:20.808Z"
   },
   {
    "duration": 5,
    "start_time": "2022-01-08T09:47:20.825Z"
   },
   {
    "duration": 6,
    "start_time": "2022-01-08T09:47:20.832Z"
   },
   {
    "duration": 9,
    "start_time": "2022-01-08T09:47:20.840Z"
   },
   {
    "duration": 9,
    "start_time": "2022-01-08T09:47:20.851Z"
   },
   {
    "duration": 35,
    "start_time": "2022-01-08T09:47:20.862Z"
   },
   {
    "duration": 34,
    "start_time": "2022-01-08T09:47:20.899Z"
   },
   {
    "duration": 6,
    "start_time": "2022-01-08T09:47:20.934Z"
   },
   {
    "duration": 15,
    "start_time": "2022-01-08T09:47:20.941Z"
   },
   {
    "duration": 48,
    "start_time": "2022-01-08T09:47:20.958Z"
   },
   {
    "duration": 5,
    "start_time": "2022-01-08T09:47:21.010Z"
   },
   {
    "duration": 7,
    "start_time": "2022-01-08T09:47:21.017Z"
   },
   {
    "duration": 10,
    "start_time": "2022-01-08T09:47:21.026Z"
   },
   {
    "duration": 5,
    "start_time": "2022-01-08T09:47:21.038Z"
   },
   {
    "duration": 111,
    "start_time": "2022-01-08T09:47:21.045Z"
   },
   {
    "duration": 212,
    "start_time": "2022-01-08T09:49:51.549Z"
   },
   {
    "duration": 202,
    "start_time": "2022-01-08T09:49:59.452Z"
   },
   {
    "duration": 202,
    "start_time": "2022-01-08T09:50:08.872Z"
   },
   {
    "duration": 61,
    "start_time": "2022-01-08T09:52:30.789Z"
   },
   {
    "duration": 131,
    "start_time": "2022-01-08T09:52:36.769Z"
   },
   {
    "duration": 9,
    "start_time": "2022-01-08T09:52:44.248Z"
   },
   {
    "duration": 9,
    "start_time": "2022-01-08T09:52:46.178Z"
   },
   {
    "duration": 17,
    "start_time": "2022-01-08T09:52:47.378Z"
   },
   {
    "duration": 199,
    "start_time": "2022-01-08T09:55:33.868Z"
   },
   {
    "duration": 247,
    "start_time": "2022-01-08T09:55:52.349Z"
   },
   {
    "duration": 232,
    "start_time": "2022-01-08T10:01:38.969Z"
   },
   {
    "duration": 226,
    "start_time": "2022-01-08T10:01:45.849Z"
   },
   {
    "duration": 230,
    "start_time": "2022-01-08T10:01:51.552Z"
   },
   {
    "duration": 317,
    "start_time": "2022-01-08T10:02:02.402Z"
   },
   {
    "duration": 289,
    "start_time": "2022-01-08T10:09:41.389Z"
   },
   {
    "duration": 2863,
    "start_time": "2022-01-08T10:10:07.789Z"
   },
   {
    "duration": 268,
    "start_time": "2022-01-08T10:10:24.096Z"
   },
   {
    "duration": 255,
    "start_time": "2022-01-08T10:18:03.131Z"
   },
   {
    "duration": 4,
    "start_time": "2022-01-08T10:18:09.849Z"
   },
   {
    "duration": 4,
    "start_time": "2022-01-08T10:18:11.868Z"
   },
   {
    "duration": 9,
    "start_time": "2022-01-08T10:18:12.509Z"
   },
   {
    "duration": 178,
    "start_time": "2022-01-08T10:19:49.371Z"
   },
   {
    "duration": 4,
    "start_time": "2022-01-08T10:19:55.090Z"
   },
   {
    "duration": 3,
    "start_time": "2022-01-08T10:19:56.629Z"
   },
   {
    "duration": 9,
    "start_time": "2022-01-08T10:19:57.068Z"
   },
   {
    "duration": 180,
    "start_time": "2022-01-08T10:21:47.849Z"
   },
   {
    "duration": 4,
    "start_time": "2022-01-08T10:21:53.689Z"
   },
   {
    "duration": 5,
    "start_time": "2022-01-08T10:21:53.694Z"
   },
   {
    "duration": 18,
    "start_time": "2022-01-08T10:21:53.701Z"
   },
   {
    "duration": 30,
    "start_time": "2022-01-08T10:21:53.721Z"
   },
   {
    "duration": 157,
    "start_time": "2022-01-08T10:21:53.753Z"
   },
   {
    "duration": 146,
    "start_time": "2022-01-08T10:21:53.912Z"
   },
   {
    "duration": 88,
    "start_time": "2022-01-08T10:21:54.060Z"
   },
   {
    "duration": 8,
    "start_time": "2022-01-08T10:21:54.150Z"
   },
   {
    "duration": 6,
    "start_time": "2022-01-08T10:21:54.161Z"
   },
   {
    "duration": 27,
    "start_time": "2022-01-08T10:21:54.169Z"
   },
   {
    "duration": 8,
    "start_time": "2022-01-08T10:21:54.198Z"
   },
   {
    "duration": 10,
    "start_time": "2022-01-08T10:21:54.207Z"
   },
   {
    "duration": 23,
    "start_time": "2022-01-08T10:21:54.219Z"
   },
   {
    "duration": 8,
    "start_time": "2022-01-08T10:21:54.244Z"
   },
   {
    "duration": 41,
    "start_time": "2022-01-08T10:21:54.253Z"
   },
   {
    "duration": 8,
    "start_time": "2022-01-08T10:21:54.295Z"
   },
   {
    "duration": 16,
    "start_time": "2022-01-08T10:21:54.304Z"
   },
   {
    "duration": 4,
    "start_time": "2022-01-08T10:21:54.322Z"
   },
   {
    "duration": 6,
    "start_time": "2022-01-08T10:21:54.328Z"
   },
   {
    "duration": 8,
    "start_time": "2022-01-08T10:21:54.335Z"
   },
   {
    "duration": 6,
    "start_time": "2022-01-08T10:21:54.344Z"
   },
   {
    "duration": 39,
    "start_time": "2022-01-08T10:21:54.352Z"
   },
   {
    "duration": 27,
    "start_time": "2022-01-08T10:21:54.393Z"
   },
   {
    "duration": 6,
    "start_time": "2022-01-08T10:21:54.422Z"
   },
   {
    "duration": 5,
    "start_time": "2022-01-08T10:21:54.430Z"
   },
   {
    "duration": 24,
    "start_time": "2022-01-08T10:21:54.437Z"
   },
   {
    "duration": 5,
    "start_time": "2022-01-08T10:21:54.493Z"
   },
   {
    "duration": 6,
    "start_time": "2022-01-08T10:21:54.501Z"
   },
   {
    "duration": 6,
    "start_time": "2022-01-08T10:21:54.508Z"
   },
   {
    "duration": 6,
    "start_time": "2022-01-08T10:21:54.515Z"
   },
   {
    "duration": 113,
    "start_time": "2022-01-08T10:21:54.523Z"
   },
   {
    "duration": 247,
    "start_time": "2022-01-08T10:21:54.637Z"
   },
   {
    "duration": 25,
    "start_time": "2022-01-08T10:21:54.885Z"
   },
   {
    "duration": 4,
    "start_time": "2022-01-08T10:21:54.912Z"
   },
   {
    "duration": 6,
    "start_time": "2022-01-08T10:21:54.917Z"
   },
   {
    "duration": 18,
    "start_time": "2022-01-08T10:21:54.924Z"
   },
   {
    "duration": 65,
    "start_time": "2022-01-08T10:21:54.943Z"
   },
   {
    "duration": 275,
    "start_time": "2022-01-08T10:21:55.010Z"
   },
   {
    "duration": 20,
    "start_time": "2022-01-08T10:21:55.287Z"
   },
   {
    "duration": 5,
    "start_time": "2022-01-08T10:21:55.309Z"
   },
   {
    "duration": 5,
    "start_time": "2022-01-08T10:21:55.316Z"
   },
   {
    "duration": 15,
    "start_time": "2022-01-08T10:21:55.323Z"
   },
   {
    "duration": 74,
    "start_time": "2022-01-08T10:21:55.339Z"
   },
   {
    "duration": 4,
    "start_time": "2022-01-08T10:21:55.415Z"
   },
   {
    "duration": 10,
    "start_time": "2022-01-08T10:21:55.421Z"
   },
   {
    "duration": 30,
    "start_time": "2022-01-08T10:21:55.433Z"
   },
   {
    "duration": 29,
    "start_time": "2022-01-08T10:21:55.465Z"
   },
   {
    "duration": 18,
    "start_time": "2022-01-08T10:21:55.496Z"
   },
   {
    "duration": 17,
    "start_time": "2022-01-08T10:21:55.516Z"
   },
   {
    "duration": 7,
    "start_time": "2022-01-08T10:21:55.535Z"
   },
   {
    "duration": 9,
    "start_time": "2022-01-08T10:21:55.544Z"
   },
   {
    "duration": 47,
    "start_time": "2022-01-08T10:21:55.554Z"
   },
   {
    "duration": 11,
    "start_time": "2022-01-08T10:21:55.602Z"
   },
   {
    "duration": 16,
    "start_time": "2022-01-08T10:21:55.615Z"
   },
   {
    "duration": 15,
    "start_time": "2022-01-08T10:21:55.633Z"
   },
   {
    "duration": 42,
    "start_time": "2022-01-08T10:21:55.649Z"
   },
   {
    "duration": 9,
    "start_time": "2022-01-08T10:21:55.693Z"
   },
   {
    "duration": 7,
    "start_time": "2022-01-08T10:21:55.704Z"
   },
   {
    "duration": 28,
    "start_time": "2022-01-08T10:21:55.712Z"
   },
   {
    "duration": 3,
    "start_time": "2022-01-08T10:21:55.741Z"
   },
   {
    "duration": 7,
    "start_time": "2022-01-08T10:21:55.746Z"
   },
   {
    "duration": 5,
    "start_time": "2022-01-08T10:21:55.755Z"
   },
   {
    "duration": 35,
    "start_time": "2022-01-08T10:21:55.761Z"
   },
   {
    "duration": 6,
    "start_time": "2022-01-08T10:21:55.797Z"
   },
   {
    "duration": 4,
    "start_time": "2022-01-08T10:21:57.628Z"
   },
   {
    "duration": 5,
    "start_time": "2022-01-08T10:21:59.289Z"
   },
   {
    "duration": 6,
    "start_time": "2022-01-08T10:22:02.049Z"
   },
   {
    "duration": 33,
    "start_time": "2022-01-08T10:22:02.464Z"
   },
   {
    "duration": 4,
    "start_time": "2022-01-08T10:22:07.409Z"
   },
   {
    "duration": 402,
    "start_time": "2022-01-08T10:22:09.289Z"
   },
   {
    "duration": 277,
    "start_time": "2022-01-08T10:22:11.829Z"
   },
   {
    "duration": 263,
    "start_time": "2022-01-08T10:22:23.232Z"
   },
   {
    "duration": 285,
    "start_time": "2022-01-08T10:22:26.208Z"
   },
   {
    "duration": 227,
    "start_time": "2022-01-08T10:22:33.531Z"
   },
   {
    "duration": 209,
    "start_time": "2022-01-08T10:22:36.310Z"
   },
   {
    "duration": 5,
    "start_time": "2022-01-08T10:24:15.749Z"
   },
   {
    "duration": 4,
    "start_time": "2022-01-08T10:24:26.608Z"
   },
   {
    "duration": 5,
    "start_time": "2022-01-08T10:24:28.189Z"
   },
   {
    "duration": 5,
    "start_time": "2022-01-08T10:24:36.930Z"
   },
   {
    "duration": 7,
    "start_time": "2022-01-08T10:24:42.488Z"
   },
   {
    "duration": 6,
    "start_time": "2022-01-08T10:25:11.928Z"
   },
   {
    "duration": 6,
    "start_time": "2022-01-08T10:27:15.390Z"
   },
   {
    "duration": 6,
    "start_time": "2022-01-08T10:27:24.989Z"
   },
   {
    "duration": 6,
    "start_time": "2022-01-08T10:30:19.729Z"
   },
   {
    "duration": 209,
    "start_time": "2022-01-08T10:30:36.729Z"
   },
   {
    "duration": 220,
    "start_time": "2022-01-08T10:30:47.029Z"
   },
   {
    "duration": 590,
    "start_time": "2022-01-08T10:32:58.713Z"
   },
   {
    "duration": 4,
    "start_time": "2022-01-08T10:33:25.868Z"
   },
   {
    "duration": 263,
    "start_time": "2022-01-08T10:35:30.509Z"
   },
   {
    "duration": 63,
    "start_time": "2022-01-08T10:35:56.429Z"
   },
   {
    "duration": 312,
    "start_time": "2022-01-08T10:36:01.655Z"
   },
   {
    "duration": 289,
    "start_time": "2022-01-08T10:36:14.429Z"
   },
   {
    "duration": 314,
    "start_time": "2022-01-08T10:36:25.969Z"
   },
   {
    "duration": 489,
    "start_time": "2022-01-08T10:36:48.150Z"
   },
   {
    "duration": 508,
    "start_time": "2022-01-08T10:38:30.318Z"
   },
   {
    "duration": 323,
    "start_time": "2022-01-08T10:39:52.589Z"
   },
   {
    "duration": 487,
    "start_time": "2022-01-08T10:40:34.249Z"
   },
   {
    "duration": 110,
    "start_time": "2022-01-08T10:41:07.629Z"
   },
   {
    "duration": 516,
    "start_time": "2022-01-08T10:41:11.669Z"
   },
   {
    "duration": 636,
    "start_time": "2022-01-08T10:41:18.131Z"
   },
   {
    "duration": 506,
    "start_time": "2022-01-08T10:42:27.430Z"
   },
   {
    "duration": 3113,
    "start_time": "2022-01-08T10:43:09.309Z"
   },
   {
    "duration": 306,
    "start_time": "2022-01-08T10:46:06.430Z"
   },
   {
    "duration": 4396,
    "start_time": "2022-01-08T10:47:59.973Z"
   },
   {
    "duration": 3143,
    "start_time": "2022-01-08T10:49:00.936Z"
   },
   {
    "duration": 3235,
    "start_time": "2022-01-08T10:49:10.738Z"
   },
   {
    "duration": 310,
    "start_time": "2022-01-08T10:50:35.572Z"
   },
   {
    "duration": 524,
    "start_time": "2022-01-08T10:51:01.970Z"
   },
   {
    "duration": 337,
    "start_time": "2022-01-08T10:51:32.120Z"
   },
   {
    "duration": 481,
    "start_time": "2022-01-08T10:53:24.492Z"
   },
   {
    "duration": 439,
    "start_time": "2022-01-08T10:55:43.493Z"
   },
   {
    "duration": 509,
    "start_time": "2022-01-08T10:55:50.792Z"
   },
   {
    "duration": 519,
    "start_time": "2022-01-08T10:56:03.539Z"
   },
   {
    "duration": 461,
    "start_time": "2022-01-08T10:56:49.892Z"
   },
   {
    "duration": 499,
    "start_time": "2022-01-08T10:57:01.312Z"
   },
   {
    "duration": 454,
    "start_time": "2022-01-08T10:58:31.012Z"
   },
   {
    "duration": 700,
    "start_time": "2022-01-08T10:59:02.671Z"
   },
   {
    "duration": 495,
    "start_time": "2022-01-08T11:00:59.992Z"
   },
   {
    "duration": 506,
    "start_time": "2022-01-08T11:01:21.529Z"
   },
   {
    "duration": 520,
    "start_time": "2022-01-08T11:02:29.553Z"
   },
   {
    "duration": 10,
    "start_time": "2022-01-08T11:03:06.931Z"
   },
   {
    "duration": 9,
    "start_time": "2022-01-08T11:03:08.772Z"
   },
   {
    "duration": 359,
    "start_time": "2022-01-08T11:03:58.573Z"
   },
   {
    "duration": 361,
    "start_time": "2022-01-08T11:06:58.733Z"
   },
   {
    "duration": 3,
    "start_time": "2022-01-08T11:07:04.021Z"
   },
   {
    "duration": 7,
    "start_time": "2022-01-08T11:07:04.026Z"
   },
   {
    "duration": 17,
    "start_time": "2022-01-08T11:07:04.035Z"
   },
   {
    "duration": 28,
    "start_time": "2022-01-08T11:07:04.053Z"
   },
   {
    "duration": 149,
    "start_time": "2022-01-08T11:07:04.083Z"
   },
   {
    "duration": 165,
    "start_time": "2022-01-08T11:07:04.234Z"
   },
   {
    "duration": 86,
    "start_time": "2022-01-08T11:07:04.401Z"
   },
   {
    "duration": 8,
    "start_time": "2022-01-08T11:07:04.488Z"
   },
   {
    "duration": 22,
    "start_time": "2022-01-08T11:07:04.499Z"
   },
   {
    "duration": 20,
    "start_time": "2022-01-08T11:07:04.523Z"
   },
   {
    "duration": 15,
    "start_time": "2022-01-08T11:07:04.545Z"
   },
   {
    "duration": 13,
    "start_time": "2022-01-08T11:07:04.562Z"
   },
   {
    "duration": 29,
    "start_time": "2022-01-08T11:07:04.577Z"
   },
   {
    "duration": 12,
    "start_time": "2022-01-08T11:07:04.607Z"
   },
   {
    "duration": 25,
    "start_time": "2022-01-08T11:07:04.621Z"
   },
   {
    "duration": 22,
    "start_time": "2022-01-08T11:07:04.648Z"
   },
   {
    "duration": 17,
    "start_time": "2022-01-08T11:07:04.672Z"
   },
   {
    "duration": 22,
    "start_time": "2022-01-08T11:07:04.691Z"
   },
   {
    "duration": 17,
    "start_time": "2022-01-08T11:07:04.714Z"
   },
   {
    "duration": 17,
    "start_time": "2022-01-08T11:07:04.732Z"
   },
   {
    "duration": 25,
    "start_time": "2022-01-08T11:07:04.751Z"
   },
   {
    "duration": 21,
    "start_time": "2022-01-08T11:07:04.777Z"
   },
   {
    "duration": 51,
    "start_time": "2022-01-08T11:07:04.800Z"
   },
   {
    "duration": 10,
    "start_time": "2022-01-08T11:07:04.853Z"
   },
   {
    "duration": 23,
    "start_time": "2022-01-08T11:07:04.864Z"
   },
   {
    "duration": 43,
    "start_time": "2022-01-08T11:07:04.888Z"
   },
   {
    "duration": 5,
    "start_time": "2022-01-08T11:07:04.936Z"
   },
   {
    "duration": 5,
    "start_time": "2022-01-08T11:07:04.944Z"
   },
   {
    "duration": 5,
    "start_time": "2022-01-08T11:07:04.950Z"
   },
   {
    "duration": 4,
    "start_time": "2022-01-08T11:07:04.957Z"
   },
   {
    "duration": 94,
    "start_time": "2022-01-08T11:07:04.963Z"
   },
   {
    "duration": 243,
    "start_time": "2022-01-08T11:07:05.059Z"
   },
   {
    "duration": 19,
    "start_time": "2022-01-08T11:07:05.303Z"
   },
   {
    "duration": 4,
    "start_time": "2022-01-08T11:07:05.324Z"
   },
   {
    "duration": 4,
    "start_time": "2022-01-08T11:07:05.330Z"
   },
   {
    "duration": 20,
    "start_time": "2022-01-08T11:07:05.336Z"
   },
   {
    "duration": 57,
    "start_time": "2022-01-08T11:07:05.357Z"
   },
   {
    "duration": 274,
    "start_time": "2022-01-08T11:07:05.416Z"
   },
   {
    "duration": 17,
    "start_time": "2022-01-08T11:07:05.692Z"
   },
   {
    "duration": 5,
    "start_time": "2022-01-08T11:07:05.710Z"
   },
   {
    "duration": 6,
    "start_time": "2022-01-08T11:07:05.716Z"
   },
   {
    "duration": 17,
    "start_time": "2022-01-08T11:07:05.723Z"
   },
   {
    "duration": 67,
    "start_time": "2022-01-08T11:07:05.742Z"
   },
   {
    "duration": 4,
    "start_time": "2022-01-08T11:07:05.811Z"
   },
   {
    "duration": 13,
    "start_time": "2022-01-08T11:07:05.816Z"
   },
   {
    "duration": 29,
    "start_time": "2022-01-08T11:07:05.830Z"
   },
   {
    "duration": 12,
    "start_time": "2022-01-08T11:07:05.860Z"
   },
   {
    "duration": 30,
    "start_time": "2022-01-08T11:07:05.873Z"
   },
   {
    "duration": 13,
    "start_time": "2022-01-08T11:07:05.904Z"
   },
   {
    "duration": 6,
    "start_time": "2022-01-08T11:07:05.918Z"
   },
   {
    "duration": 11,
    "start_time": "2022-01-08T11:07:05.926Z"
   },
   {
    "duration": 14,
    "start_time": "2022-01-08T11:07:05.939Z"
   },
   {
    "duration": 14,
    "start_time": "2022-01-08T11:07:05.954Z"
   },
   {
    "duration": 19,
    "start_time": "2022-01-08T11:07:05.992Z"
   },
   {
    "duration": 18,
    "start_time": "2022-01-08T11:07:06.013Z"
   },
   {
    "duration": 5,
    "start_time": "2022-01-08T11:07:06.033Z"
   },
   {
    "duration": 11,
    "start_time": "2022-01-08T11:07:06.040Z"
   },
   {
    "duration": 9,
    "start_time": "2022-01-08T11:07:06.053Z"
   },
   {
    "duration": 52,
    "start_time": "2022-01-08T11:07:06.064Z"
   },
   {
    "duration": 4,
    "start_time": "2022-01-08T11:07:06.118Z"
   },
   {
    "duration": 7,
    "start_time": "2022-01-08T11:07:06.124Z"
   },
   {
    "duration": 5,
    "start_time": "2022-01-08T11:07:06.133Z"
   },
   {
    "duration": 7,
    "start_time": "2022-01-08T11:07:06.140Z"
   },
   {
    "duration": 8,
    "start_time": "2022-01-08T11:07:06.149Z"
   },
   {
    "duration": 32,
    "start_time": "2022-01-08T11:07:06.159Z"
   },
   {
    "duration": 6,
    "start_time": "2022-01-08T11:07:06.193Z"
   },
   {
    "duration": 30,
    "start_time": "2022-01-08T11:07:06.201Z"
   },
   {
    "duration": 4,
    "start_time": "2022-01-08T11:07:06.233Z"
   },
   {
    "duration": 302,
    "start_time": "2022-01-08T11:07:06.240Z"
   },
   {
    "duration": 303,
    "start_time": "2022-01-08T11:07:06.543Z"
   },
   {
    "duration": 291,
    "start_time": "2022-01-08T11:07:06.848Z"
   },
   {
    "duration": 294,
    "start_time": "2022-01-08T11:07:07.141Z"
   },
   {
    "duration": 238,
    "start_time": "2022-01-08T11:07:07.437Z"
   },
   {
    "duration": 244,
    "start_time": "2022-01-08T11:07:07.677Z"
   },
   {
    "duration": 4,
    "start_time": "2022-01-08T11:07:07.923Z"
   },
   {
    "duration": 3,
    "start_time": "2022-01-08T11:07:25.953Z"
   },
   {
    "duration": 4,
    "start_time": "2022-01-08T11:07:25.958Z"
   },
   {
    "duration": 17,
    "start_time": "2022-01-08T11:07:25.964Z"
   },
   {
    "duration": 26,
    "start_time": "2022-01-08T11:07:25.984Z"
   },
   {
    "duration": 148,
    "start_time": "2022-01-08T11:07:26.012Z"
   },
   {
    "duration": 168,
    "start_time": "2022-01-08T11:07:26.162Z"
   },
   {
    "duration": 86,
    "start_time": "2022-01-08T11:07:26.332Z"
   },
   {
    "duration": 8,
    "start_time": "2022-01-08T11:07:26.420Z"
   },
   {
    "duration": 9,
    "start_time": "2022-01-08T11:07:26.430Z"
   },
   {
    "duration": 12,
    "start_time": "2022-01-08T11:07:26.441Z"
   },
   {
    "duration": 7,
    "start_time": "2022-01-08T11:07:26.454Z"
   },
   {
    "duration": 30,
    "start_time": "2022-01-08T11:07:26.462Z"
   },
   {
    "duration": 31,
    "start_time": "2022-01-08T11:07:26.494Z"
   },
   {
    "duration": 8,
    "start_time": "2022-01-08T11:07:26.527Z"
   },
   {
    "duration": 18,
    "start_time": "2022-01-08T11:07:26.536Z"
   },
   {
    "duration": 7,
    "start_time": "2022-01-08T11:07:26.556Z"
   },
   {
    "duration": 36,
    "start_time": "2022-01-08T11:07:26.564Z"
   },
   {
    "duration": 4,
    "start_time": "2022-01-08T11:07:26.603Z"
   },
   {
    "duration": 5,
    "start_time": "2022-01-08T11:07:26.609Z"
   },
   {
    "duration": 9,
    "start_time": "2022-01-08T11:07:26.615Z"
   },
   {
    "duration": 5,
    "start_time": "2022-01-08T11:07:26.626Z"
   },
   {
    "duration": 7,
    "start_time": "2022-01-08T11:07:26.633Z"
   },
   {
    "duration": 50,
    "start_time": "2022-01-08T11:07:26.641Z"
   },
   {
    "duration": 4,
    "start_time": "2022-01-08T11:07:26.693Z"
   },
   {
    "duration": 5,
    "start_time": "2022-01-08T11:07:26.699Z"
   },
   {
    "duration": 22,
    "start_time": "2022-01-08T11:07:26.705Z"
   },
   {
    "duration": 5,
    "start_time": "2022-01-08T11:07:26.732Z"
   },
   {
    "duration": 5,
    "start_time": "2022-01-08T11:07:26.739Z"
   },
   {
    "duration": 8,
    "start_time": "2022-01-08T11:07:26.745Z"
   },
   {
    "duration": 36,
    "start_time": "2022-01-08T11:07:26.755Z"
   },
   {
    "duration": 83,
    "start_time": "2022-01-08T11:07:26.793Z"
   },
   {
    "duration": 257,
    "start_time": "2022-01-08T11:07:26.877Z"
   },
   {
    "duration": 20,
    "start_time": "2022-01-08T11:07:27.136Z"
   },
   {
    "duration": 4,
    "start_time": "2022-01-08T11:07:27.158Z"
   },
   {
    "duration": 5,
    "start_time": "2022-01-08T11:07:27.164Z"
   },
   {
    "duration": 38,
    "start_time": "2022-01-08T11:07:27.171Z"
   },
   {
    "duration": 36,
    "start_time": "2022-01-08T11:07:27.211Z"
   },
   {
    "duration": 286,
    "start_time": "2022-01-08T11:07:27.249Z"
   },
   {
    "duration": 17,
    "start_time": "2022-01-08T11:07:27.536Z"
   },
   {
    "duration": 4,
    "start_time": "2022-01-08T11:07:27.555Z"
   },
   {
    "duration": 7,
    "start_time": "2022-01-08T11:07:27.561Z"
   },
   {
    "duration": 34,
    "start_time": "2022-01-08T11:07:27.569Z"
   },
   {
    "duration": 36,
    "start_time": "2022-01-08T11:07:27.604Z"
   },
   {
    "duration": 4,
    "start_time": "2022-01-08T11:07:27.642Z"
   },
   {
    "duration": 5,
    "start_time": "2022-01-08T11:07:27.648Z"
   },
   {
    "duration": 48,
    "start_time": "2022-01-08T11:07:27.654Z"
   },
   {
    "duration": 12,
    "start_time": "2022-01-08T11:07:27.704Z"
   },
   {
    "duration": 15,
    "start_time": "2022-01-08T11:07:27.717Z"
   },
   {
    "duration": 221,
    "start_time": "2022-01-08T11:07:27.733Z"
   },
   {
    "duration": 6,
    "start_time": "2022-01-08T11:07:27.955Z"
   },
   {
    "duration": 10,
    "start_time": "2022-01-08T11:07:27.962Z"
   },
   {
    "duration": 24,
    "start_time": "2022-01-08T11:07:27.974Z"
   },
   {
    "duration": 10,
    "start_time": "2022-01-08T11:07:27.999Z"
   },
   {
    "duration": 16,
    "start_time": "2022-01-08T11:07:28.010Z"
   },
   {
    "duration": 15,
    "start_time": "2022-01-08T11:07:28.027Z"
   },
   {
    "duration": 4,
    "start_time": "2022-01-08T11:07:28.044Z"
   },
   {
    "duration": 41,
    "start_time": "2022-01-08T11:07:28.050Z"
   },
   {
    "duration": 8,
    "start_time": "2022-01-08T11:07:28.093Z"
   },
   {
    "duration": 27,
    "start_time": "2022-01-08T11:07:28.102Z"
   },
   {
    "duration": 3,
    "start_time": "2022-01-08T11:07:28.131Z"
   },
   {
    "duration": 10,
    "start_time": "2022-01-08T11:07:28.136Z"
   },
   {
    "duration": 7,
    "start_time": "2022-01-08T11:07:28.148Z"
   },
   {
    "duration": 9,
    "start_time": "2022-01-08T11:07:28.157Z"
   },
   {
    "duration": 27,
    "start_time": "2022-01-08T11:07:28.167Z"
   },
   {
    "duration": 10,
    "start_time": "2022-01-08T11:07:28.195Z"
   },
   {
    "duration": 9,
    "start_time": "2022-01-08T11:07:28.207Z"
   },
   {
    "duration": 31,
    "start_time": "2022-01-08T11:07:28.217Z"
   },
   {
    "duration": 4,
    "start_time": "2022-01-08T11:07:28.249Z"
   },
   {
    "duration": 294,
    "start_time": "2022-01-08T11:07:28.255Z"
   },
   {
    "duration": 298,
    "start_time": "2022-01-08T11:07:28.551Z"
   },
   {
    "duration": 276,
    "start_time": "2022-01-08T11:07:28.851Z"
   },
   {
    "duration": 284,
    "start_time": "2022-01-08T11:07:29.128Z"
   },
   {
    "duration": 217,
    "start_time": "2022-01-08T11:07:29.413Z"
   },
   {
    "duration": 222,
    "start_time": "2022-01-08T11:07:29.632Z"
   },
   {
    "duration": 504,
    "start_time": "2022-01-08T11:07:34.693Z"
   },
   {
    "duration": 7,
    "start_time": "2022-01-08T11:08:25.732Z"
   },
   {
    "duration": 18,
    "start_time": "2022-01-08T11:09:30.975Z"
   },
   {
    "duration": 20,
    "start_time": "2022-01-08T11:09:46.772Z"
   },
   {
    "duration": 34,
    "start_time": "2022-01-08T11:10:02.132Z"
   },
   {
    "duration": 4,
    "start_time": "2022-01-08T11:16:06.292Z"
   },
   {
    "duration": 4,
    "start_time": "2022-01-08T11:16:12.432Z"
   },
   {
    "duration": 29,
    "start_time": "2022-01-08T11:16:17.773Z"
   },
   {
    "duration": 3,
    "start_time": "2022-01-08T11:36:39.953Z"
   },
   {
    "duration": 5,
    "start_time": "2022-01-08T11:37:10.798Z"
   },
   {
    "duration": 4,
    "start_time": "2022-01-08T11:37:27.553Z"
   },
   {
    "duration": 4,
    "start_time": "2022-01-08T11:37:27.973Z"
   },
   {
    "duration": 32,
    "start_time": "2022-01-08T11:37:31.353Z"
   },
   {
    "duration": 3,
    "start_time": "2022-01-08T11:37:37.913Z"
   },
   {
    "duration": 5,
    "start_time": "2022-01-08T11:37:37.918Z"
   },
   {
    "duration": 17,
    "start_time": "2022-01-08T11:37:37.925Z"
   },
   {
    "duration": 25,
    "start_time": "2022-01-08T11:37:37.944Z"
   },
   {
    "duration": 161,
    "start_time": "2022-01-08T11:37:37.971Z"
   },
   {
    "duration": 146,
    "start_time": "2022-01-08T11:37:38.133Z"
   },
   {
    "duration": 81,
    "start_time": "2022-01-08T11:37:38.281Z"
   },
   {
    "duration": 8,
    "start_time": "2022-01-08T11:37:38.363Z"
   },
   {
    "duration": 18,
    "start_time": "2022-01-08T11:37:38.374Z"
   },
   {
    "duration": 12,
    "start_time": "2022-01-08T11:37:38.394Z"
   },
   {
    "duration": 6,
    "start_time": "2022-01-08T11:37:38.408Z"
   },
   {
    "duration": 9,
    "start_time": "2022-01-08T11:37:38.415Z"
   },
   {
    "duration": 22,
    "start_time": "2022-01-08T11:37:38.426Z"
   },
   {
    "duration": 7,
    "start_time": "2022-01-08T11:37:38.450Z"
   },
   {
    "duration": 47,
    "start_time": "2022-01-08T11:37:38.459Z"
   },
   {
    "duration": 7,
    "start_time": "2022-01-08T11:37:38.508Z"
   },
   {
    "duration": 14,
    "start_time": "2022-01-08T11:37:38.517Z"
   },
   {
    "duration": 4,
    "start_time": "2022-01-08T11:37:38.533Z"
   },
   {
    "duration": 6,
    "start_time": "2022-01-08T11:37:38.539Z"
   },
   {
    "duration": 7,
    "start_time": "2022-01-08T11:37:38.546Z"
   },
   {
    "duration": 7,
    "start_time": "2022-01-08T11:37:38.555Z"
   },
   {
    "duration": 7,
    "start_time": "2022-01-08T11:37:38.592Z"
   },
   {
    "duration": 28,
    "start_time": "2022-01-08T11:37:38.601Z"
   },
   {
    "duration": 4,
    "start_time": "2022-01-08T11:37:38.631Z"
   },
   {
    "duration": 6,
    "start_time": "2022-01-08T11:37:38.636Z"
   },
   {
    "duration": 47,
    "start_time": "2022-01-08T11:37:38.644Z"
   },
   {
    "duration": 5,
    "start_time": "2022-01-08T11:37:38.695Z"
   },
   {
    "duration": 6,
    "start_time": "2022-01-08T11:37:38.702Z"
   },
   {
    "duration": 5,
    "start_time": "2022-01-08T11:37:38.710Z"
   },
   {
    "duration": 6,
    "start_time": "2022-01-08T11:37:38.717Z"
   },
   {
    "duration": 109,
    "start_time": "2022-01-08T11:37:38.724Z"
   },
   {
    "duration": 242,
    "start_time": "2022-01-08T11:37:38.835Z"
   },
   {
    "duration": 24,
    "start_time": "2022-01-08T11:37:39.078Z"
   },
   {
    "duration": 4,
    "start_time": "2022-01-08T11:37:39.103Z"
   },
   {
    "duration": 5,
    "start_time": "2022-01-08T11:37:39.109Z"
   },
   {
    "duration": 18,
    "start_time": "2022-01-08T11:37:39.115Z"
   },
   {
    "duration": 58,
    "start_time": "2022-01-08T11:37:39.134Z"
   },
   {
    "duration": 269,
    "start_time": "2022-01-08T11:37:39.194Z"
   },
   {
    "duration": 30,
    "start_time": "2022-01-08T11:37:39.465Z"
   },
   {
    "duration": 4,
    "start_time": "2022-01-08T11:37:39.497Z"
   },
   {
    "duration": 11,
    "start_time": "2022-01-08T11:37:39.503Z"
   },
   {
    "duration": 15,
    "start_time": "2022-01-08T11:37:39.515Z"
   },
   {
    "duration": 39,
    "start_time": "2022-01-08T11:37:39.532Z"
   },
   {
    "duration": 20,
    "start_time": "2022-01-08T11:37:39.572Z"
   },
   {
    "duration": 6,
    "start_time": "2022-01-08T11:37:39.594Z"
   },
   {
    "duration": 27,
    "start_time": "2022-01-08T11:37:39.602Z"
   },
   {
    "duration": 12,
    "start_time": "2022-01-08T11:37:39.630Z"
   },
   {
    "duration": 15,
    "start_time": "2022-01-08T11:37:39.643Z"
   },
   {
    "duration": 43,
    "start_time": "2022-01-08T11:37:39.659Z"
   },
   {
    "duration": 7,
    "start_time": "2022-01-08T11:37:39.704Z"
   },
   {
    "duration": 10,
    "start_time": "2022-01-08T11:37:39.713Z"
   },
   {
    "duration": 11,
    "start_time": "2022-01-08T11:37:39.725Z"
   },
   {
    "duration": 11,
    "start_time": "2022-01-08T11:37:39.738Z"
   },
   {
    "duration": 48,
    "start_time": "2022-01-08T11:37:39.751Z"
   },
   {
    "duration": 17,
    "start_time": "2022-01-08T11:37:39.801Z"
   },
   {
    "duration": 5,
    "start_time": "2022-01-08T11:37:39.820Z"
   },
   {
    "duration": 9,
    "start_time": "2022-01-08T11:37:39.827Z"
   },
   {
    "duration": 8,
    "start_time": "2022-01-08T11:37:39.837Z"
   },
   {
    "duration": 62,
    "start_time": "2022-01-08T11:37:39.847Z"
   },
   {
    "duration": 28,
    "start_time": "2022-01-08T11:37:41.714Z"
   },
   {
    "duration": 729,
    "start_time": "2022-01-08T11:38:01.013Z"
   },
   {
    "duration": 5,
    "start_time": "2022-01-08T11:38:02.374Z"
   },
   {
    "duration": 12,
    "start_time": "2022-01-08T11:38:07.435Z"
   },
   {
    "duration": 678,
    "start_time": "2022-01-08T11:38:10.354Z"
   },
   {
    "duration": 2,
    "start_time": "2022-01-08T11:38:23.674Z"
   },
   {
    "duration": 5,
    "start_time": "2022-01-08T11:38:23.678Z"
   },
   {
    "duration": 17,
    "start_time": "2022-01-08T11:38:23.685Z"
   },
   {
    "duration": 26,
    "start_time": "2022-01-08T11:38:23.704Z"
   },
   {
    "duration": 140,
    "start_time": "2022-01-08T11:38:23.732Z"
   },
   {
    "duration": 149,
    "start_time": "2022-01-08T11:38:23.874Z"
   },
   {
    "duration": 83,
    "start_time": "2022-01-08T11:38:24.025Z"
   },
   {
    "duration": 7,
    "start_time": "2022-01-08T11:38:24.110Z"
   },
   {
    "duration": 7,
    "start_time": "2022-01-08T11:38:24.120Z"
   },
   {
    "duration": 13,
    "start_time": "2022-01-08T11:38:24.129Z"
   },
   {
    "duration": 7,
    "start_time": "2022-01-08T11:38:24.143Z"
   },
   {
    "duration": 9,
    "start_time": "2022-01-08T11:38:24.152Z"
   },
   {
    "duration": 44,
    "start_time": "2022-01-08T11:38:24.163Z"
   },
   {
    "duration": 8,
    "start_time": "2022-01-08T11:38:24.209Z"
   },
   {
    "duration": 18,
    "start_time": "2022-01-08T11:38:24.218Z"
   },
   {
    "duration": 7,
    "start_time": "2022-01-08T11:38:24.238Z"
   },
   {
    "duration": 44,
    "start_time": "2022-01-08T11:38:24.247Z"
   },
   {
    "duration": 5,
    "start_time": "2022-01-08T11:38:24.293Z"
   },
   {
    "duration": 6,
    "start_time": "2022-01-08T11:38:24.299Z"
   },
   {
    "duration": 7,
    "start_time": "2022-01-08T11:38:24.307Z"
   },
   {
    "duration": 7,
    "start_time": "2022-01-08T11:38:24.315Z"
   },
   {
    "duration": 7,
    "start_time": "2022-01-08T11:38:24.324Z"
   },
   {
    "duration": 25,
    "start_time": "2022-01-08T11:38:24.332Z"
   },
   {
    "duration": 35,
    "start_time": "2022-01-08T11:38:24.359Z"
   },
   {
    "duration": 5,
    "start_time": "2022-01-08T11:38:24.396Z"
   },
   {
    "duration": 21,
    "start_time": "2022-01-08T11:38:24.405Z"
   },
   {
    "duration": 5,
    "start_time": "2022-01-08T11:38:24.428Z"
   },
   {
    "duration": 4,
    "start_time": "2022-01-08T11:38:24.435Z"
   },
   {
    "duration": 5,
    "start_time": "2022-01-08T11:38:24.441Z"
   },
   {
    "duration": 4,
    "start_time": "2022-01-08T11:38:24.448Z"
   },
   {
    "duration": 112,
    "start_time": "2022-01-08T11:38:24.454Z"
   },
   {
    "duration": 242,
    "start_time": "2022-01-08T11:38:24.568Z"
   },
   {
    "duration": 22,
    "start_time": "2022-01-08T11:38:24.812Z"
   },
   {
    "duration": 5,
    "start_time": "2022-01-08T11:38:24.836Z"
   },
   {
    "duration": 5,
    "start_time": "2022-01-08T11:38:24.842Z"
   },
   {
    "duration": 46,
    "start_time": "2022-01-08T11:38:24.849Z"
   },
   {
    "duration": 36,
    "start_time": "2022-01-08T11:38:24.897Z"
   },
   {
    "duration": 273,
    "start_time": "2022-01-08T11:38:24.934Z"
   },
   {
    "duration": 16,
    "start_time": "2022-01-08T11:38:25.209Z"
   },
   {
    "duration": 4,
    "start_time": "2022-01-08T11:38:25.227Z"
   },
   {
    "duration": 5,
    "start_time": "2022-01-08T11:38:25.233Z"
   },
   {
    "duration": 16,
    "start_time": "2022-01-08T11:38:25.239Z"
   },
   {
    "duration": 64,
    "start_time": "2022-01-08T11:38:25.257Z"
   },
   {
    "duration": 3,
    "start_time": "2022-01-08T11:38:25.323Z"
   },
   {
    "duration": 5,
    "start_time": "2022-01-08T11:38:25.328Z"
   },
   {
    "duration": 27,
    "start_time": "2022-01-08T11:38:25.334Z"
   },
   {
    "duration": 29,
    "start_time": "2022-01-08T11:38:25.362Z"
   },
   {
    "duration": 16,
    "start_time": "2022-01-08T11:38:25.393Z"
   },
   {
    "duration": 14,
    "start_time": "2022-01-08T11:38:25.410Z"
   },
   {
    "duration": 6,
    "start_time": "2022-01-08T11:38:25.426Z"
   },
   {
    "duration": 10,
    "start_time": "2022-01-08T11:38:25.433Z"
   },
   {
    "duration": 10,
    "start_time": "2022-01-08T11:38:25.444Z"
   },
   {
    "duration": 42,
    "start_time": "2022-01-08T11:38:25.456Z"
   },
   {
    "duration": 11,
    "start_time": "2022-01-08T11:38:26.953Z"
   },
   {
    "duration": 17,
    "start_time": "2022-01-08T11:38:27.514Z"
   },
   {
    "duration": 1249,
    "start_time": "2022-01-08T11:38:31.473Z"
   },
   {
    "duration": 2075,
    "start_time": "2022-01-08T11:38:30.649Z"
   },
   {
    "duration": 9,
    "start_time": "2022-01-08T11:38:32.943Z"
   },
   {
    "duration": 2,
    "start_time": "2022-01-08T11:38:56.994Z"
   },
   {
    "duration": 6,
    "start_time": "2022-01-08T11:38:56.999Z"
   },
   {
    "duration": 16,
    "start_time": "2022-01-08T11:38:57.006Z"
   },
   {
    "duration": 28,
    "start_time": "2022-01-08T11:38:57.024Z"
   },
   {
    "duration": 156,
    "start_time": "2022-01-08T11:38:57.053Z"
   },
   {
    "duration": 138,
    "start_time": "2022-01-08T11:38:57.211Z"
   },
   {
    "duration": 84,
    "start_time": "2022-01-08T11:38:57.350Z"
   },
   {
    "duration": 8,
    "start_time": "2022-01-08T11:38:57.436Z"
   },
   {
    "duration": 8,
    "start_time": "2022-01-08T11:38:57.447Z"
   },
   {
    "duration": 12,
    "start_time": "2022-01-08T11:38:57.456Z"
   },
   {
    "duration": 25,
    "start_time": "2022-01-08T11:38:57.470Z"
   },
   {
    "duration": 8,
    "start_time": "2022-01-08T11:38:57.497Z"
   },
   {
    "duration": 21,
    "start_time": "2022-01-08T11:38:57.507Z"
   },
   {
    "duration": 8,
    "start_time": "2022-01-08T11:38:57.530Z"
   },
   {
    "duration": 17,
    "start_time": "2022-01-08T11:38:57.540Z"
   },
   {
    "duration": 35,
    "start_time": "2022-01-08T11:38:57.559Z"
   },
   {
    "duration": 14,
    "start_time": "2022-01-08T11:38:57.596Z"
   },
   {
    "duration": 5,
    "start_time": "2022-01-08T11:38:57.612Z"
   },
   {
    "duration": 10,
    "start_time": "2022-01-08T11:38:57.618Z"
   },
   {
    "duration": 8,
    "start_time": "2022-01-08T11:38:57.630Z"
   },
   {
    "duration": 6,
    "start_time": "2022-01-08T11:38:57.640Z"
   },
   {
    "duration": 9,
    "start_time": "2022-01-08T11:38:57.648Z"
   },
   {
    "duration": 26,
    "start_time": "2022-01-08T11:38:57.694Z"
   },
   {
    "duration": 5,
    "start_time": "2022-01-08T11:38:57.723Z"
   },
   {
    "duration": 5,
    "start_time": "2022-01-08T11:38:57.730Z"
   },
   {
    "duration": 22,
    "start_time": "2022-01-08T11:38:57.737Z"
   },
   {
    "duration": 34,
    "start_time": "2022-01-08T11:38:57.761Z"
   },
   {
    "duration": 5,
    "start_time": "2022-01-08T11:38:57.797Z"
   },
   {
    "duration": 5,
    "start_time": "2022-01-08T11:38:57.804Z"
   },
   {
    "duration": 5,
    "start_time": "2022-01-08T11:38:57.811Z"
   },
   {
    "duration": 111,
    "start_time": "2022-01-08T11:38:57.817Z"
   },
   {
    "duration": 251,
    "start_time": "2022-01-08T11:38:57.930Z"
   },
   {
    "duration": 24,
    "start_time": "2022-01-08T11:38:58.182Z"
   },
   {
    "duration": 4,
    "start_time": "2022-01-08T11:38:58.208Z"
   },
   {
    "duration": 5,
    "start_time": "2022-01-08T11:38:58.214Z"
   },
   {
    "duration": 18,
    "start_time": "2022-01-08T11:38:58.220Z"
   },
   {
    "duration": 61,
    "start_time": "2022-01-08T11:38:58.239Z"
   },
   {
    "duration": 282,
    "start_time": "2022-01-08T11:38:58.302Z"
   },
   {
    "duration": 21,
    "start_time": "2022-01-08T11:38:58.586Z"
   },
   {
    "duration": 4,
    "start_time": "2022-01-08T11:38:58.609Z"
   },
   {
    "duration": 10,
    "start_time": "2022-01-08T11:38:58.614Z"
   },
   {
    "duration": 16,
    "start_time": "2022-01-08T11:38:58.625Z"
   },
   {
    "duration": 57,
    "start_time": "2022-01-08T11:38:58.642Z"
   },
   {
    "duration": 4,
    "start_time": "2022-01-08T11:38:58.701Z"
   },
   {
    "duration": 6,
    "start_time": "2022-01-08T11:38:58.707Z"
   },
   {
    "duration": 29,
    "start_time": "2022-01-08T11:38:58.714Z"
   },
   {
    "duration": 11,
    "start_time": "2022-01-08T11:38:58.745Z"
   },
   {
    "duration": 39,
    "start_time": "2022-01-08T11:38:58.758Z"
   },
   {
    "duration": 13,
    "start_time": "2022-01-08T11:38:58.798Z"
   },
   {
    "duration": 6,
    "start_time": "2022-01-08T11:38:58.813Z"
   },
   {
    "duration": 24,
    "start_time": "2022-01-08T11:38:58.820Z"
   },
   {
    "duration": 12,
    "start_time": "2022-01-08T11:38:58.846Z"
   },
   {
    "duration": 10,
    "start_time": "2022-01-08T11:39:00.738Z"
   },
   {
    "duration": 12,
    "start_time": "2022-01-08T11:39:01.278Z"
   },
   {
    "duration": 16,
    "start_time": "2022-01-08T11:39:01.754Z"
   },
   {
    "duration": 18,
    "start_time": "2022-01-08T11:39:07.221Z"
   },
   {
    "duration": 5,
    "start_time": "2022-01-08T11:39:10.317Z"
   },
   {
    "duration": 10,
    "start_time": "2022-01-08T11:39:10.762Z"
   },
   {
    "duration": 10,
    "start_time": "2022-01-08T11:39:11.223Z"
   },
   {
    "duration": 26,
    "start_time": "2022-01-08T11:39:11.661Z"
   },
   {
    "duration": 4,
    "start_time": "2022-01-08T11:39:52.153Z"
   },
   {
    "duration": 6,
    "start_time": "2022-01-08T11:39:53.993Z"
   },
   {
    "duration": 4,
    "start_time": "2022-01-08T11:39:54.933Z"
   },
   {
    "duration": 5,
    "start_time": "2022-01-08T11:39:55.357Z"
   },
   {
    "duration": 4,
    "start_time": "2022-01-08T11:39:58.024Z"
   },
   {
    "duration": 5,
    "start_time": "2022-01-08T11:40:06.353Z"
   },
   {
    "duration": 3,
    "start_time": "2022-01-08T11:41:58.682Z"
   },
   {
    "duration": 4,
    "start_time": "2022-01-08T11:41:59.213Z"
   },
   {
    "duration": 3,
    "start_time": "2022-01-08T11:41:59.594Z"
   },
   {
    "duration": 6,
    "start_time": "2022-01-08T11:42:02.774Z"
   },
   {
    "duration": 30,
    "start_time": "2022-01-08T11:42:03.696Z"
   },
   {
    "duration": 4,
    "start_time": "2022-01-08T11:43:02.242Z"
   },
   {
    "duration": 5,
    "start_time": "2022-01-08T11:43:44.723Z"
   },
   {
    "duration": 4,
    "start_time": "2022-01-08T11:43:53.911Z"
   },
   {
    "duration": 34,
    "start_time": "2022-01-08T11:47:33.722Z"
   },
   {
    "duration": 33,
    "start_time": "2022-01-08T11:48:03.094Z"
   },
   {
    "duration": 4,
    "start_time": "2022-01-08T11:48:08.408Z"
   },
   {
    "duration": 301,
    "start_time": "2022-01-08T11:48:09.763Z"
   },
   {
    "duration": 300,
    "start_time": "2022-01-08T11:48:14.494Z"
   },
   {
    "duration": 489,
    "start_time": "2022-01-08T11:48:16.915Z"
   },
   {
    "duration": 297,
    "start_time": "2022-01-08T11:48:18.115Z"
   },
   {
    "duration": 227,
    "start_time": "2022-01-08T11:48:20.774Z"
   },
   {
    "duration": 217,
    "start_time": "2022-01-08T11:48:21.974Z"
   },
   {
    "duration": 12,
    "start_time": "2022-01-08T11:48:30.354Z"
   },
   {
    "duration": 437,
    "start_time": "2022-01-08T11:48:35.754Z"
   },
   {
    "duration": 475,
    "start_time": "2022-01-08T11:49:15.074Z"
   },
   {
    "duration": 479,
    "start_time": "2022-01-08T11:50:10.554Z"
   },
   {
    "duration": 515,
    "start_time": "2022-01-08T11:50:15.076Z"
   },
   {
    "duration": 24,
    "start_time": "2022-01-08T11:51:00.753Z"
   },
   {
    "duration": 30,
    "start_time": "2022-01-08T11:51:40.553Z"
   },
   {
    "duration": 3,
    "start_time": "2022-01-08T11:54:15.712Z"
   },
   {
    "duration": 5,
    "start_time": "2022-01-08T11:54:15.717Z"
   },
   {
    "duration": 18,
    "start_time": "2022-01-08T11:54:15.724Z"
   },
   {
    "duration": 26,
    "start_time": "2022-01-08T11:54:15.744Z"
   },
   {
    "duration": 161,
    "start_time": "2022-01-08T11:54:15.771Z"
   },
   {
    "duration": 144,
    "start_time": "2022-01-08T11:54:15.934Z"
   },
   {
    "duration": 81,
    "start_time": "2022-01-08T11:54:16.080Z"
   },
   {
    "duration": 8,
    "start_time": "2022-01-08T11:54:16.163Z"
   },
   {
    "duration": 18,
    "start_time": "2022-01-08T11:54:16.173Z"
   },
   {
    "duration": 10,
    "start_time": "2022-01-08T11:54:16.193Z"
   },
   {
    "duration": 8,
    "start_time": "2022-01-08T11:54:16.204Z"
   },
   {
    "duration": 11,
    "start_time": "2022-01-08T11:54:16.214Z"
   },
   {
    "duration": 23,
    "start_time": "2022-01-08T11:54:16.227Z"
   },
   {
    "duration": 8,
    "start_time": "2022-01-08T11:54:16.252Z"
   },
   {
    "duration": 46,
    "start_time": "2022-01-08T11:54:16.261Z"
   },
   {
    "duration": 7,
    "start_time": "2022-01-08T11:54:16.308Z"
   },
   {
    "duration": 17,
    "start_time": "2022-01-08T11:54:16.317Z"
   },
   {
    "duration": 11,
    "start_time": "2022-01-08T11:54:16.336Z"
   },
   {
    "duration": 8,
    "start_time": "2022-01-08T11:54:16.349Z"
   },
   {
    "duration": 9,
    "start_time": "2022-01-08T11:54:16.359Z"
   },
   {
    "duration": 23,
    "start_time": "2022-01-08T11:54:16.369Z"
   },
   {
    "duration": 8,
    "start_time": "2022-01-08T11:54:16.394Z"
   },
   {
    "duration": 26,
    "start_time": "2022-01-08T11:54:16.404Z"
   },
   {
    "duration": 5,
    "start_time": "2022-01-08T11:54:16.431Z"
   },
   {
    "duration": 6,
    "start_time": "2022-01-08T11:54:16.437Z"
   },
   {
    "duration": 47,
    "start_time": "2022-01-08T11:54:16.444Z"
   },
   {
    "duration": 5,
    "start_time": "2022-01-08T11:54:16.495Z"
   },
   {
    "duration": 5,
    "start_time": "2022-01-08T11:54:16.503Z"
   },
   {
    "duration": 6,
    "start_time": "2022-01-08T11:54:16.510Z"
   },
   {
    "duration": 5,
    "start_time": "2022-01-08T11:54:16.517Z"
   },
   {
    "duration": 109,
    "start_time": "2022-01-08T11:54:16.523Z"
   },
   {
    "duration": 252,
    "start_time": "2022-01-08T11:54:16.634Z"
   },
   {
    "duration": 22,
    "start_time": "2022-01-08T11:54:16.887Z"
   },
   {
    "duration": 4,
    "start_time": "2022-01-08T11:54:16.910Z"
   },
   {
    "duration": 6,
    "start_time": "2022-01-08T11:54:16.916Z"
   },
   {
    "duration": 17,
    "start_time": "2022-01-08T11:54:16.923Z"
   },
   {
    "duration": 58,
    "start_time": "2022-01-08T11:54:16.941Z"
   },
   {
    "duration": 269,
    "start_time": "2022-01-08T11:54:17.000Z"
   },
   {
    "duration": 21,
    "start_time": "2022-01-08T11:54:17.270Z"
   },
   {
    "duration": 5,
    "start_time": "2022-01-08T11:54:17.292Z"
   },
   {
    "duration": 4,
    "start_time": "2022-01-08T11:54:17.299Z"
   },
   {
    "duration": 15,
    "start_time": "2022-01-08T11:54:17.304Z"
   },
   {
    "duration": 34,
    "start_time": "2022-01-08T11:54:17.320Z"
   },
   {
    "duration": 3,
    "start_time": "2022-01-08T11:54:17.356Z"
   },
   {
    "duration": 32,
    "start_time": "2022-01-08T11:54:17.361Z"
   },
   {
    "duration": 26,
    "start_time": "2022-01-08T11:54:17.394Z"
   },
   {
    "duration": 11,
    "start_time": "2022-01-08T11:54:17.422Z"
   },
   {
    "duration": 15,
    "start_time": "2022-01-08T11:54:17.435Z"
   },
   {
    "duration": 43,
    "start_time": "2022-01-08T11:54:17.451Z"
   },
   {
    "duration": 7,
    "start_time": "2022-01-08T11:54:17.495Z"
   },
   {
    "duration": 9,
    "start_time": "2022-01-08T11:54:17.504Z"
   },
   {
    "duration": 10,
    "start_time": "2022-01-08T11:54:17.515Z"
   },
   {
    "duration": 9,
    "start_time": "2022-01-08T11:54:17.526Z"
   },
   {
    "duration": 14,
    "start_time": "2022-01-08T11:54:17.537Z"
   },
   {
    "duration": 44,
    "start_time": "2022-01-08T11:54:17.552Z"
   },
   {
    "duration": 4,
    "start_time": "2022-01-08T11:54:17.598Z"
   },
   {
    "duration": 10,
    "start_time": "2022-01-08T11:54:17.603Z"
   },
   {
    "duration": 8,
    "start_time": "2022-01-08T11:54:17.614Z"
   },
   {
    "duration": 26,
    "start_time": "2022-01-08T11:54:17.623Z"
   },
   {
    "duration": 27,
    "start_time": "2022-01-08T11:54:20.632Z"
   },
   {
    "duration": 4,
    "start_time": "2022-01-08T11:54:26.872Z"
   },
   {
    "duration": 3,
    "start_time": "2022-01-08T11:54:27.352Z"
   },
   {
    "duration": 3,
    "start_time": "2022-01-08T11:54:27.761Z"
   },
   {
    "duration": 4,
    "start_time": "2022-01-08T11:54:31.961Z"
   },
   {
    "duration": 5,
    "start_time": "2022-01-08T11:54:32.332Z"
   },
   {
    "duration": 4,
    "start_time": "2022-01-08T11:54:33.743Z"
   },
   {
    "duration": 5,
    "start_time": "2022-01-08T11:54:34.072Z"
   },
   {
    "duration": 5,
    "start_time": "2022-01-08T11:54:34.771Z"
   },
   {
    "duration": 5,
    "start_time": "2022-01-08T11:54:36.381Z"
   },
   {
    "duration": 6,
    "start_time": "2022-01-08T11:54:39.101Z"
   },
   {
    "duration": 5,
    "start_time": "2022-01-08T11:54:39.886Z"
   },
   {
    "duration": 32,
    "start_time": "2022-01-08T11:54:41.632Z"
   },
   {
    "duration": 5,
    "start_time": "2022-01-08T11:55:06.492Z"
   },
   {
    "duration": 282,
    "start_time": "2022-01-08T11:55:07.292Z"
   },
   {
    "duration": 305,
    "start_time": "2022-01-08T11:55:08.192Z"
   },
   {
    "duration": 255,
    "start_time": "2022-01-08T11:55:14.352Z"
   },
   {
    "duration": 274,
    "start_time": "2022-01-08T11:55:18.993Z"
   },
   {
    "duration": 217,
    "start_time": "2022-01-08T11:55:32.854Z"
   },
   {
    "duration": 458,
    "start_time": "2022-01-08T11:55:35.071Z"
   },
   {
    "duration": 459,
    "start_time": "2022-01-08T11:55:41.612Z"
   },
   {
    "duration": 478,
    "start_time": "2022-01-08T11:56:24.591Z"
   },
   {
    "duration": 465,
    "start_time": "2022-01-08T11:57:09.156Z"
   },
   {
    "duration": 476,
    "start_time": "2022-01-08T12:02:58.490Z"
   },
   {
    "duration": 447,
    "start_time": "2022-01-08T12:03:12.111Z"
   },
   {
    "duration": 463,
    "start_time": "2022-01-08T12:03:28.215Z"
   },
   {
    "duration": 455,
    "start_time": "2022-01-08T12:05:26.091Z"
   },
   {
    "duration": 10,
    "start_time": "2022-01-08T12:05:29.770Z"
   },
   {
    "duration": 9,
    "start_time": "2022-01-08T12:05:39.430Z"
   },
   {
    "duration": 8,
    "start_time": "2022-01-08T12:05:44.691Z"
   },
   {
    "duration": 4,
    "start_time": "2022-01-08T12:05:48.669Z"
   },
   {
    "duration": 4,
    "start_time": "2022-01-08T12:05:49.769Z"
   },
   {
    "duration": 5,
    "start_time": "2022-01-08T12:05:59.329Z"
   },
   {
    "duration": 5,
    "start_time": "2022-01-08T12:06:02.250Z"
   },
   {
    "duration": 8,
    "start_time": "2022-01-08T12:06:19.532Z"
   },
   {
    "duration": 9,
    "start_time": "2022-01-08T12:06:23.910Z"
   },
   {
    "duration": 4,
    "start_time": "2022-01-08T12:06:27.509Z"
   },
   {
    "duration": 4,
    "start_time": "2022-01-08T12:06:28.290Z"
   },
   {
    "duration": 4,
    "start_time": "2022-01-08T12:06:49.830Z"
   },
   {
    "duration": 6,
    "start_time": "2022-01-08T12:06:50.569Z"
   },
   {
    "duration": 6,
    "start_time": "2022-01-08T12:18:42.905Z"
   },
   {
    "duration": 8082,
    "start_time": "2022-01-08T12:18:53.169Z"
   },
   {
    "duration": 4,
    "start_time": "2022-01-08T12:19:25.889Z"
   },
   {
    "duration": 253,
    "start_time": "2022-01-08T12:20:03.841Z"
   },
   {
    "duration": 261,
    "start_time": "2022-01-08T12:20:17.338Z"
   },
   {
    "duration": 8,
    "start_time": "2022-01-08T12:28:49.274Z"
   },
   {
    "duration": 9,
    "start_time": "2022-01-08T12:28:58.349Z"
   },
   {
    "duration": 6,
    "start_time": "2022-01-08T12:31:28.250Z"
   },
   {
    "duration": 8,
    "start_time": "2022-01-08T12:31:36.989Z"
   },
   {
    "duration": 7,
    "start_time": "2022-01-08T12:32:04.069Z"
   },
   {
    "duration": 7,
    "start_time": "2022-01-08T12:33:08.930Z"
   },
   {
    "duration": 8,
    "start_time": "2022-01-08T12:33:13.529Z"
   },
   {
    "duration": 7,
    "start_time": "2022-01-08T12:33:57.949Z"
   },
   {
    "duration": 7,
    "start_time": "2022-01-08T12:33:58.590Z"
   },
   {
    "duration": 7,
    "start_time": "2022-01-08T12:34:15.469Z"
   },
   {
    "duration": 7,
    "start_time": "2022-01-08T12:34:16.830Z"
   },
   {
    "duration": 7,
    "start_time": "2022-01-08T12:34:54.805Z"
   },
   {
    "duration": 8,
    "start_time": "2022-01-08T12:34:55.937Z"
   },
   {
    "duration": 2142,
    "start_time": "2022-01-08T15:40:43.522Z"
   },
   {
    "duration": 5,
    "start_time": "2022-01-08T15:40:45.667Z"
   },
   {
    "duration": 21,
    "start_time": "2022-01-08T15:40:45.676Z"
   },
   {
    "duration": 30,
    "start_time": "2022-01-08T15:40:45.701Z"
   },
   {
    "duration": 317,
    "start_time": "2022-01-08T15:40:45.735Z"
   },
   {
    "duration": 288,
    "start_time": "2022-01-08T15:40:46.055Z"
   },
   {
    "duration": 167,
    "start_time": "2022-01-08T15:40:46.346Z"
   },
   {
    "duration": 24,
    "start_time": "2022-01-08T15:40:46.519Z"
   },
   {
    "duration": 9,
    "start_time": "2022-01-08T15:40:46.546Z"
   },
   {
    "duration": 17,
    "start_time": "2022-01-08T15:40:46.558Z"
   },
   {
    "duration": 10,
    "start_time": "2022-01-08T15:40:46.617Z"
   },
   {
    "duration": 13,
    "start_time": "2022-01-08T15:40:46.630Z"
   },
   {
    "duration": 27,
    "start_time": "2022-01-08T15:40:46.645Z"
   },
   {
    "duration": 50,
    "start_time": "2022-01-08T15:40:46.674Z"
   },
   {
    "duration": 24,
    "start_time": "2022-01-08T15:40:46.726Z"
   },
   {
    "duration": 12,
    "start_time": "2022-01-08T15:40:46.752Z"
   },
   {
    "duration": 55,
    "start_time": "2022-01-08T15:40:46.767Z"
   },
   {
    "duration": 7,
    "start_time": "2022-01-08T15:40:46.825Z"
   },
   {
    "duration": 8,
    "start_time": "2022-01-08T15:40:46.834Z"
   },
   {
    "duration": 11,
    "start_time": "2022-01-08T15:40:46.844Z"
   },
   {
    "duration": 9,
    "start_time": "2022-01-08T15:40:46.857Z"
   },
   {
    "duration": 54,
    "start_time": "2022-01-08T15:40:46.868Z"
   },
   {
    "duration": 45,
    "start_time": "2022-01-08T15:40:46.928Z"
   },
   {
    "duration": 43,
    "start_time": "2022-01-08T15:40:46.977Z"
   },
   {
    "duration": 6,
    "start_time": "2022-01-08T15:40:47.023Z"
   },
   {
    "duration": 32,
    "start_time": "2022-01-08T15:40:47.032Z"
   },
   {
    "duration": 6,
    "start_time": "2022-01-08T15:40:47.067Z"
   },
   {
    "duration": 6,
    "start_time": "2022-01-08T15:40:47.076Z"
   },
   {
    "duration": 7,
    "start_time": "2022-01-08T15:40:47.085Z"
   },
   {
    "duration": 6,
    "start_time": "2022-01-08T15:40:47.095Z"
   },
   {
    "duration": 129,
    "start_time": "2022-01-08T15:40:47.117Z"
   },
   {
    "duration": 382,
    "start_time": "2022-01-08T15:40:47.249Z"
   },
   {
    "duration": 30,
    "start_time": "2022-01-08T15:40:47.634Z"
   },
   {
    "duration": 6,
    "start_time": "2022-01-08T15:40:47.667Z"
   },
   {
    "duration": 8,
    "start_time": "2022-01-08T15:40:47.676Z"
   },
   {
    "duration": 39,
    "start_time": "2022-01-08T15:40:47.687Z"
   },
   {
    "duration": 65,
    "start_time": "2022-01-08T15:40:47.729Z"
   },
   {
    "duration": 745,
    "start_time": "2022-01-08T15:40:47.797Z"
   },
   {
    "duration": 26,
    "start_time": "2022-01-08T15:40:48.544Z"
   },
   {
    "duration": 6,
    "start_time": "2022-01-08T15:40:48.572Z"
   },
   {
    "duration": 19,
    "start_time": "2022-01-08T15:40:48.580Z"
   },
   {
    "duration": 30,
    "start_time": "2022-01-08T15:40:48.602Z"
   },
   {
    "duration": 65,
    "start_time": "2022-01-08T15:40:48.634Z"
   },
   {
    "duration": 28,
    "start_time": "2022-01-08T15:40:48.701Z"
   },
   {
    "duration": 6,
    "start_time": "2022-01-08T15:40:48.732Z"
   },
   {
    "duration": 80,
    "start_time": "2022-01-08T15:40:48.741Z"
   },
   {
    "duration": 20,
    "start_time": "2022-01-08T15:40:48.823Z"
   },
   {
    "duration": 27,
    "start_time": "2022-01-08T15:40:48.845Z"
   },
   {
    "duration": 60,
    "start_time": "2022-01-08T15:40:48.874Z"
   },
   {
    "duration": 9,
    "start_time": "2022-01-08T15:40:48.937Z"
   },
   {
    "duration": 12,
    "start_time": "2022-01-08T15:40:48.948Z"
   },
   {
    "duration": 67,
    "start_time": "2022-01-08T15:40:48.962Z"
   },
   {
    "duration": 15,
    "start_time": "2022-01-08T15:40:49.032Z"
   },
   {
    "duration": 88,
    "start_time": "2022-01-08T15:40:49.049Z"
   },
   {
    "duration": 84,
    "start_time": "2022-01-08T15:40:49.140Z"
   },
   {
    "duration": 7,
    "start_time": "2022-01-08T15:40:49.227Z"
   },
   {
    "duration": 19,
    "start_time": "2022-01-08T15:40:49.237Z"
   },
   {
    "duration": 68,
    "start_time": "2022-01-08T15:40:49.259Z"
   },
   {
    "duration": 112,
    "start_time": "2022-01-08T15:40:49.331Z"
   },
   {
    "duration": 5,
    "start_time": "2022-01-08T15:40:49.446Z"
   },
   {
    "duration": 7,
    "start_time": "2022-01-08T15:40:49.454Z"
   },
   {
    "duration": 7,
    "start_time": "2022-01-08T15:40:49.464Z"
   },
   {
    "duration": 10,
    "start_time": "2022-01-08T15:40:49.474Z"
   },
   {
    "duration": 38,
    "start_time": "2022-01-08T15:40:49.487Z"
   },
   {
    "duration": 6,
    "start_time": "2022-01-08T15:40:49.528Z"
   },
   {
    "duration": 9,
    "start_time": "2022-01-08T15:40:49.538Z"
   },
   {
    "duration": 7,
    "start_time": "2022-01-08T15:40:49.550Z"
   },
   {
    "duration": 50,
    "start_time": "2022-01-08T15:40:49.571Z"
   },
   {
    "duration": 9,
    "start_time": "2022-01-08T15:40:49.625Z"
   },
   {
    "duration": 10,
    "start_time": "2022-01-08T15:40:49.636Z"
   },
   {
    "duration": 87,
    "start_time": "2022-01-08T15:40:49.648Z"
   },
   {
    "duration": 5,
    "start_time": "2022-01-08T15:40:49.738Z"
   },
   {
    "duration": 471,
    "start_time": "2022-01-08T15:40:49.746Z"
   },
   {
    "duration": 463,
    "start_time": "2022-01-08T15:40:50.220Z"
   },
   {
    "duration": 515,
    "start_time": "2022-01-08T15:40:50.686Z"
   },
   {
    "duration": 436,
    "start_time": "2022-01-08T15:40:51.217Z"
   },
   {
    "duration": 373,
    "start_time": "2022-01-08T15:40:51.655Z"
   },
   {
    "duration": 374,
    "start_time": "2022-01-08T15:40:52.030Z"
   },
   {
    "duration": 730,
    "start_time": "2022-01-08T15:40:52.417Z"
   },
   {
    "duration": 11,
    "start_time": "2022-01-08T15:40:53.149Z"
   },
   {
    "duration": 16,
    "start_time": "2022-01-08T15:40:53.162Z"
   },
   {
    "duration": 6,
    "start_time": "2022-01-08T15:40:53.180Z"
   },
   {
    "duration": 31,
    "start_time": "2022-01-08T15:40:53.188Z"
   },
   {
    "duration": 7,
    "start_time": "2022-01-08T15:40:53.222Z"
   },
   {
    "duration": 7,
    "start_time": "2022-01-08T15:40:53.232Z"
   },
   {
    "duration": 10,
    "start_time": "2022-01-08T15:40:53.242Z"
   },
   {
    "duration": 11,
    "start_time": "2022-01-08T15:40:53.254Z"
   },
   {
    "duration": 11,
    "start_time": "2022-01-08T15:40:53.318Z"
   },
   {
    "duration": 11,
    "start_time": "2022-01-08T15:40:53.332Z"
   },
   {
    "duration": 12,
    "start_time": "2022-01-08T15:40:53.345Z"
   },
   {
    "duration": 57,
    "start_time": "2022-01-08T15:40:53.360Z"
   },
   {
    "duration": 6,
    "start_time": "2022-01-08T15:40:53.421Z"
   },
   {
    "duration": 7,
    "start_time": "2022-01-08T15:40:53.430Z"
   },
   {
    "duration": 8,
    "start_time": "2022-01-08T15:40:53.439Z"
   },
   {
    "duration": 7,
    "start_time": "2022-01-08T15:40:53.450Z"
   },
   {
    "duration": 77,
    "start_time": "2022-01-08T15:44:10.470Z"
   },
   {
    "duration": 33,
    "start_time": "2022-01-08T15:44:18.350Z"
   }
  ],
  "kernelspec": {
   "display_name": "Python 3",
   "language": "python",
   "name": "python3"
  },
  "language_info": {
   "codemirror_mode": {
    "name": "ipython",
    "version": 3
   },
   "file_extension": ".py",
   "mimetype": "text/x-python",
   "name": "python",
   "nbconvert_exporter": "python",
   "pygments_lexer": "ipython3",
   "version": "3.7.4"
  },
  "toc": {
   "base_numbering": 1,
   "nav_menu": {},
   "number_sections": true,
   "sideBar": true,
   "skip_h1_title": true,
   "title_cell": "Table of Contents",
   "title_sidebar": "Contents",
   "toc_cell": true,
   "toc_position": {
    "height": "calc(100% - 180px)",
    "left": "10px",
    "top": "150px",
    "width": "260.325px"
   },
   "toc_section_display": true,
   "toc_window_display": true
  }
 },
 "nbformat": 4,
 "nbformat_minor": 2
}
