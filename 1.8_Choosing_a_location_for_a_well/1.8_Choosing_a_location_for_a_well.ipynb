{
 "cells": [
  {
   "cell_type": "markdown",
   "metadata": {
    "toc": true
   },
   "source": [
    "<h1>Table of Contents<span class=\"tocSkip\"></span></h1>\n",
    "<div class=\"toc\"><ul class=\"toc-item\"><li><span><a href=\"#Загрузка-и-подготовка-данных\" data-toc-modified-id=\"Загрузка-и-подготовка-данных-1\"><span class=\"toc-item-num\">1&nbsp;&nbsp;</span>Загрузка и подготовка данных</a></span></li><li><span><a href=\"#Обучение-и-проверка-модели\" data-toc-modified-id=\"Обучение-и-проверка-модели-2\"><span class=\"toc-item-num\">2&nbsp;&nbsp;</span>Обучение и проверка модели</a></span><ul class=\"toc-item\"><li><span><a href=\"#Разобьём-данные-на-обучающую-и-валидационную-выборки-в-соотношении-75:25.\" data-toc-modified-id=\"Разобьём-данные-на-обучающую-и-валидационную-выборки-в-соотношении-75:25.-2.1\"><span class=\"toc-item-num\">2.1&nbsp;&nbsp;</span>Разобьём данные на обучающую и валидационную выборки в соотношении 75:25.</a></span></li><li><span><a href=\"#Обучим-модель-и-сделаем-предсказания-на-валидационной-выборке.-Сохраним-предсказания-и-правильные-ответы-на-валидационной-выборке.\" data-toc-modified-id=\"Обучим-модель-и-сделаем-предсказания-на-валидационной-выборке.-Сохраним-предсказания-и-правильные-ответы-на-валидационной-выборке.-2.2\"><span class=\"toc-item-num\">2.2&nbsp;&nbsp;</span>Обучим модель и сделаем предсказания на валидационной выборке. Сохраним предсказания и правильные ответы на валидационной выборке.</a></span></li><li><span><a href=\"#Выводы\" data-toc-modified-id=\"Выводы-2.3\"><span class=\"toc-item-num\">2.3&nbsp;&nbsp;</span>Выводы</a></span></li></ul></li><li><span><a href=\"#Подготовка-к-расчёту-прибыли\" data-toc-modified-id=\"Подготовка-к-расчёту-прибыли-3\"><span class=\"toc-item-num\">3&nbsp;&nbsp;</span>Подготовка к расчёту прибыли</a></span></li><li><span><a href=\"#Расчёт-прибыли-и-рисков\" data-toc-modified-id=\"Расчёт-прибыли-и-рисков-4\"><span class=\"toc-item-num\">4&nbsp;&nbsp;</span>Расчёт прибыли и рисков</a></span><ul class=\"toc-item\"><li><span><a href=\"#Расчитаем-прибыль\" data-toc-modified-id=\"Расчитаем-прибыль-4.1\"><span class=\"toc-item-num\">4.1&nbsp;&nbsp;</span>Расчитаем прибыль</a></span></li><li><span><a href=\"#Расчитаем-риски\" data-toc-modified-id=\"Расчитаем-риски-4.2\"><span class=\"toc-item-num\">4.2&nbsp;&nbsp;</span>Расчитаем риски</a></span></li><li><span><a href=\"#Выводы\" data-toc-modified-id=\"Выводы-4.3\"><span class=\"toc-item-num\">4.3&nbsp;&nbsp;</span>Выводы</a></span></li></ul></li><li><span><a href=\"#Общий-Вывод\" data-toc-modified-id=\"Общий-Вывод-5\"><span class=\"toc-item-num\">5&nbsp;&nbsp;</span>Общий Вывод</a></span></li></ul></div>"
   ]
  },
  {
   "cell_type": "markdown",
   "metadata": {
    "id": "vNPYXethcV2g"
   },
   "source": [
    "# Выбор места для скважины"
   ]
  },
  {
   "cell_type": "markdown",
   "metadata": {
    "id": "DrlbYkMEcV2k"
   },
   "source": [
    "Необходимо решить, где бурить новую скважину.\n",
    "\n",
    "Есть пробы нефти в трёх регионах: в каждом 10 000 месторождений, где измерили качество нефти и объём её запасов. \n",
    "\n",
    "Построим модель машинного обучения, которая поможет определить регион, где добыча принесёт наибольшую прибыль. Проанализируем возможную прибыль и риски техникой *Bootstrap.*\n",
    "\n",
    "\n",
    "**Шаги для выбора локации:**\n",
    "\n",
    "- В избранном регионе ищут месторождения, для каждого определяют значения признаков;\n",
    "- Строят модель и оценивают объём запасов;\n",
    "- Выбирают месторождения с самым высокими оценками значений. Количество месторождений зависит от бюджета компании и стоимости разработки одной скважины;\n",
    "- Прибыль равна суммарной прибыли отобранных месторождений.\n",
    "\n"
   ]
  },
  {
   "cell_type": "markdown",
   "metadata": {
    "id": "kdzVkJiXcV2n"
   },
   "source": [
    "## Загрузка и подготовка данных"
   ]
  },
  {
   "cell_type": "code",
   "execution_count": 42,
   "metadata": {
    "id": "sGK5KJjHcV2p"
   },
   "outputs": [],
   "source": [
    "import pandas as pd\n",
    "import numpy as np\n",
    "\n",
    "import matplotlib.pyplot as plt\n",
    "import seaborn as sns\n",
    "from IPython.display import display\n",
    "\n",
    "from sklearn.linear_model import LinearRegression # алгоритм линейной регрессии\n",
    "from sklearn.model_selection import train_test_split # чтобы делить выборки\n",
    "from sklearn.metrics import mean_squared_error # RMSE модели линейной регрессии\n",
    "\n",
    "import warnings\n",
    "warnings.filterwarnings('ignore')"
   ]
  },
  {
   "cell_type": "markdown",
   "metadata": {
    "id": "Kso-GjUPgyds"
   },
   "source": [
    "Загрузим данные и посмотрим на них:\n"
   ]
  },
  {
   "cell_type": "code",
   "execution_count": 43,
   "metadata": {
    "id": "w2jz3aGZkBcf"
   },
   "outputs": [],
   "source": [
    "df_0 = pd.read_csv('/datasets/geo_data_0.csv')\n",
    "df_1 = pd.read_csv('/datasets/geo_data_1.csv')\n",
    "df_2 = pd.read_csv('/datasets/geo_data_2.csv')"
   ]
  },
  {
   "cell_type": "code",
   "execution_count": 44,
   "metadata": {
    "id": "IaCedJKwUuir"
   },
   "outputs": [],
   "source": [
    "# функция для описания датафрейма:\n",
    "def describe_df (df):\n",
    "  print(df.head(5))\n",
    "  print('''\n",
    "- id — уникальный идентификатор скважины;\n",
    "- f0, f1, f2 — три признака точек (неважно, что они означают, но сами признаки значимы);\n",
    "- product — объём запасов в скважине (тыс. баррелей).\n",
    "''')\n",
    "  print()\n",
    "  print('Проверим наличие явных дубликатов: ')\n",
    "  print('Явных дубликатов: ', df.duplicated().sum())\n",
    "  print()\n",
    "  print('Выведем общую информацию о таблице: ')\n",
    "  print(df.info())"
   ]
  },
  {
   "cell_type": "code",
   "execution_count": 45,
   "metadata": {
    "colab": {
     "base_uri": "https://localhost:8080/"
    },
    "id": "P3tVKCHkV7Jn",
    "outputId": "ff866f0d-0a95-4ae2-8950-c1256f44babf"
   },
   "outputs": [
    {
     "name": "stdout",
     "output_type": "stream",
     "text": [
      "      id        f0        f1        f2     product\n",
      "0  txEyH  0.705745 -0.497823  1.221170  105.280062\n",
      "1  2acmU  1.334711 -0.340164  4.365080   73.037750\n",
      "2  409Wp  1.022732  0.151990  1.419926   85.265647\n",
      "3  iJLyR -0.032172  0.139033  2.978566  168.620776\n",
      "4  Xdl7t  1.988431  0.155413  4.751769  154.036647\n",
      "\n",
      "- id — уникальный идентификатор скважины;\n",
      "- f0, f1, f2 — три признака точек (неважно, что они означают, но сами признаки значимы);\n",
      "- product — объём запасов в скважине (тыс. баррелей).\n",
      "\n",
      "\n",
      "Проверим наличие явных дубликатов: \n",
      "Явных дубликатов:  0\n",
      "\n",
      "Выведем общую информацию о таблице: \n",
      "<class 'pandas.core.frame.DataFrame'>\n",
      "RangeIndex: 100000 entries, 0 to 99999\n",
      "Data columns (total 5 columns):\n",
      "id         100000 non-null object\n",
      "f0         100000 non-null float64\n",
      "f1         100000 non-null float64\n",
      "f2         100000 non-null float64\n",
      "product    100000 non-null float64\n",
      "dtypes: float64(4), object(1)\n",
      "memory usage: 3.8+ MB\n",
      "None\n"
     ]
    }
   ],
   "source": [
    "describe_df (df_0)"
   ]
  },
  {
   "cell_type": "code",
   "execution_count": 46,
   "metadata": {
    "colab": {
     "base_uri": "https://localhost:8080/"
    },
    "id": "zpH31Ei5WpUw",
    "outputId": "9326f306-5cd1-45e0-8e40-d9d347510328"
   },
   "outputs": [
    {
     "name": "stdout",
     "output_type": "stream",
     "text": [
      "      id         f0         f1        f2     product\n",
      "0  kBEdx -15.001348  -8.276000 -0.005876    3.179103\n",
      "1  62mP7  14.272088  -3.475083  0.999183   26.953261\n",
      "2  vyE1P   6.263187  -5.948386  5.001160  134.766305\n",
      "3  KcrkZ -13.081196 -11.506057  4.999415  137.945408\n",
      "4  AHL4O  12.702195  -8.147433  5.004363  134.766305\n",
      "\n",
      "- id — уникальный идентификатор скважины;\n",
      "- f0, f1, f2 — три признака точек (неважно, что они означают, но сами признаки значимы);\n",
      "- product — объём запасов в скважине (тыс. баррелей).\n",
      "\n",
      "\n",
      "Проверим наличие явных дубликатов: \n",
      "Явных дубликатов:  0\n",
      "\n",
      "Выведем общую информацию о таблице: \n",
      "<class 'pandas.core.frame.DataFrame'>\n",
      "RangeIndex: 100000 entries, 0 to 99999\n",
      "Data columns (total 5 columns):\n",
      "id         100000 non-null object\n",
      "f0         100000 non-null float64\n",
      "f1         100000 non-null float64\n",
      "f2         100000 non-null float64\n",
      "product    100000 non-null float64\n",
      "dtypes: float64(4), object(1)\n",
      "memory usage: 3.8+ MB\n",
      "None\n"
     ]
    }
   ],
   "source": [
    "describe_df (df_1)"
   ]
  },
  {
   "cell_type": "code",
   "execution_count": 47,
   "metadata": {
    "colab": {
     "base_uri": "https://localhost:8080/"
    },
    "id": "6uYJbJkvWpcA",
    "outputId": "432064fb-6fcc-4b9f-ad9c-bd85e0e79f69"
   },
   "outputs": [
    {
     "name": "stdout",
     "output_type": "stream",
     "text": [
      "      id        f0        f1        f2     product\n",
      "0  fwXo0 -1.146987  0.963328 -0.828965   27.758673\n",
      "1  WJtFt  0.262778  0.269839 -2.530187   56.069697\n",
      "2  ovLUW  0.194587  0.289035 -5.586433   62.871910\n",
      "3  q6cA6  2.236060 -0.553760  0.930038  114.572842\n",
      "4  WPMUX -0.515993  1.716266  5.899011  149.600746\n",
      "\n",
      "- id — уникальный идентификатор скважины;\n",
      "- f0, f1, f2 — три признака точек (неважно, что они означают, но сами признаки значимы);\n",
      "- product — объём запасов в скважине (тыс. баррелей).\n",
      "\n",
      "\n",
      "Проверим наличие явных дубликатов: \n",
      "Явных дубликатов:  0\n",
      "\n",
      "Выведем общую информацию о таблице: \n",
      "<class 'pandas.core.frame.DataFrame'>\n",
      "RangeIndex: 100000 entries, 0 to 99999\n",
      "Data columns (total 5 columns):\n",
      "id         100000 non-null object\n",
      "f0         100000 non-null float64\n",
      "f1         100000 non-null float64\n",
      "f2         100000 non-null float64\n",
      "product    100000 non-null float64\n",
      "dtypes: float64(4), object(1)\n",
      "memory usage: 3.8+ MB\n",
      "None\n"
     ]
    }
   ],
   "source": [
    "describe_df (df_2)"
   ]
  },
  {
   "cell_type": "markdown",
   "metadata": {
    "id": "0PwbNa14W56f"
   },
   "source": [
    "Данные соответствуют описанию. Пропусков и дубликатов нет.\n",
    "Типы данных соответствуют описанию.\n",
    "\n",
    "Посмотрим на гистограммы распределений данных:\n",
    "\n"
   ]
  },
  {
   "cell_type": "code",
   "execution_count": 48,
   "metadata": {
    "id": "Glm5ximWW_hR"
   },
   "outputs": [],
   "source": [
    "# функция для постоения гистограммы и диаграмы распределения\n",
    "def show_hists(df, data_label, num_bins, rug=False, log_scale=False):\n",
    "    \"\"\"\n",
    "    input: data - данные для построения гистограммы\n",
    "           data_label - описание данных\n",
    "           num_bins - количество ячеек\n",
    "    output: None\n",
    "    description: Функция строит гистограмму и boxplot для выбранного параметра:\n",
    "                - Плотность распределения (методом distplot() библиотеки seaborn)\n",
    "                - Boxplot (метод boxplot() библиотеки seaborn)\n",
    "    \"\"\"\n",
    "    sns.set()\n",
    "    f, axes = plt.subplots(1, 2, figsize=(10, 4))\n",
    "    axes[0].set_title(data_label + \". Плотность распределения\", fontsize=18)\n",
    "    axes[0].set_ylabel('кол-во объектов', fontsize=15)\n",
    "    sns.distplot(df, bins=num_bins, rug=rug, ax=axes[0], kde=False)\n",
    "    axes[1].set_title(data_label + \". Boxplot\", fontsize=18)\n",
    "    sns.boxplot(data=df, ax=axes[1], orient=\"h\")\n",
    "    plt.show()"
   ]
  },
  {
   "cell_type": "code",
   "execution_count": 49,
   "metadata": {
    "colab": {
     "base_uri": "https://localhost:8080/",
     "height": 1000
    },
    "id": "Rf8vLrV7W_yD",
    "outputId": "bbcfdbeb-c119-4742-9397-0bc7ded9853b"
   },
   "outputs": [
    {
     "data": {
      "image/png": "[encoded data removed]",
      "text/plain": [
       "<Figure size 720x288 with 2 Axes>"
      ]
     },
     "metadata": {},
     "output_type": "display_data"
    },
    {
     "data": {
      "image/png": "[encoded data removed]",
      "text/plain": [
       "<Figure size 720x288 with 2 Axes>"
      ]
     },
     "metadata": {},
     "output_type": "display_data"
    },
    {
     "data": {
      "image/png": "[encoded data removed]",
      "text/plain": [
       "<Figure size 720x288 with 2 Axes>"
      ]
     },
     "metadata": {},
     "output_type": "display_data"
    },
    {
     "data": {
      "image/png": "[encoded data removed]",
      "text/plain": [
       "<Figure size 720x288 with 2 Axes>"
      ]
     },
     "metadata": {},
     "output_type": "display_data"
    },
    {
     "data": {
      "image/png": "[encoded data removed]",
      "text/plain": [
       "<Figure size 720x288 with 2 Axes>"
      ]
     },
     "metadata": {},
     "output_type": "display_data"
    },
    {
     "data": {
      "image/png": "[encoded data removed]",
      "text/plain": [
       "<Figure size 720x288 with 2 Axes>"
      ]
     },
     "metadata": {},
     "output_type": "display_data"
    },
    {
     "data": {
      "image/png": "[encoded data removed]",
      "text/plain": [
       "<Figure size 720x288 with 2 Axes>"
      ]
     },
     "metadata": {},
     "output_type": "display_data"
    },
    {
     "data": {
      "image/png": "[encoded data removed]",
      "text/plain": [
       "<Figure size 720x288 with 2 Axes>"
      ]
     },
     "metadata": {},
     "output_type": "display_data"
    },
    {
     "data": {
      "image/png": "[encoded data removed]",
      "text/plain": [
       "<Figure size 720x288 with 2 Axes>"
      ]
     },
     "metadata": {},
     "output_type": "display_data"
    },
    {
     "data": {
      "image/png": "[encoded data removed]",
      "text/plain": [
       "<Figure size 720x288 with 2 Axes>"
      ]
     },
     "metadata": {},
     "output_type": "display_data"
    },
    {
     "data": {
      "image/png": "[encoded data removed]",
      "text/plain": [
       "<Figure size 720x288 with 2 Axes>"
      ]
     },
     "metadata": {},
     "output_type": "display_data"
    },
    {
     "data": {
      "image/png": "[encoded data removed]",
      "text/plain": [
       "<Figure size 720x288 with 2 Axes>"
      ]
     },
     "metadata": {},
     "output_type": "display_data"
    }
   ],
   "source": [
    "for df, name in [(df_0, 'Region_0'), (df_1, 'Region_1'), (df_2, 'Region_2')]: # Для каждого региона\n",
    "    numerics = ['f0', 'f1', 'f2', 'product'] # Выберем столбцы\n",
    "    for column in numerics: # Для каждого столбца в выбраном регионе\n",
    "        show_hists(df[column], name + ', ' + column, num_bins=20) # Построим распределиния"
   ]
  },
  {
   "cell_type": "markdown",
   "metadata": {
    "id": "i62rCCZCbzsY"
   },
   "source": [
    "Распределения некоторых признаков отличаются от нормального. Также присутствуют небольшие выбросы. Так как неизвестно, что означают сами признаки, сложно оценить адекватность распределений и выбросов.\n",
    "\n",
    "Масштабы распределений признаков f0, f1, f2 не сильно отличаются друг от друга (меньше одного порядка).\n",
    "\n",
    "На данном этапе оставим данные как есть."
   ]
  },
  {
   "cell_type": "markdown",
   "metadata": {
    "id": "Tw90SskwcV2r"
   },
   "source": [
    "## Обучение и проверка модели"
   ]
  },
  {
   "cell_type": "markdown",
   "metadata": {
    "id": "YZD8u_zkcV2s"
   },
   "source": [
    "### Разобьём данные на обучающую и валидационную выборки в соотношении 75:25."
   ]
  },
  {
   "cell_type": "code",
   "execution_count": 50,
   "metadata": {
    "id": "LbHPxm-Dm74y"
   },
   "outputs": [],
   "source": [
    "# функция для разбиения на выборки\n",
    "def features_target_split (df, valid_ratio):\n",
    "  features = df.drop(['product','id'], axis=1)\n",
    "  target = df['product']\n",
    "\n",
    "  features_train, features_valid, target_train, target_valid = train_test_split(\n",
    "    features, target, test_size=valid_ratio, random_state=12345) # отделим данные для тренировочной валидационной выборки\n",
    "  print('Для проверки посмотрим на размер выборок:')\n",
    "  print('features_train.shape: ', features_train.shape)\n",
    "  print('features_valid.shape: ', features_valid.shape)\n",
    "  print('target_train.shape: ', target_train.shape)\n",
    "  print('target_valid.shape: ', target_valid.shape)\n",
    "\n",
    "  return features_train, features_valid, target_train, target_valid "
   ]
  },
  {
   "cell_type": "markdown",
   "metadata": {
    "id": "1u8e9xhhrmOt"
   },
   "source": [
    "Выборки нулевого региона:"
   ]
  },
  {
   "cell_type": "code",
   "execution_count": 51,
   "metadata": {
    "colab": {
     "base_uri": "https://localhost:8080/"
    },
    "id": "8g8bhSNem7_E",
    "outputId": "7fdd1a1a-5779-47a4-a2a5-7c4d1c0ca09c"
   },
   "outputs": [
    {
     "name": "stdout",
     "output_type": "stream",
     "text": [
      "Для проверки посмотрим на размер выборок:\n",
      "features_train.shape:  (75000, 3)\n",
      "features_valid.shape:  (25000, 3)\n",
      "target_train.shape:  (75000,)\n",
      "target_valid.shape:  (25000,)\n"
     ]
    }
   ],
   "source": [
    "features_train_0, features_valid_0, target_train_0, target_valid_0 = features_target_split (df_0, 0.25)"
   ]
  },
  {
   "cell_type": "markdown",
   "metadata": {
    "id": "DGsfkm9urrrU"
   },
   "source": [
    "Выборки первого региона:"
   ]
  },
  {
   "cell_type": "code",
   "execution_count": 52,
   "metadata": {
    "colab": {
     "base_uri": "https://localhost:8080/"
    },
    "id": "x2_jFaPQrNhL",
    "outputId": "32602189-c8b3-47b7-d1f0-0ef27ea5ed4d"
   },
   "outputs": [
    {
     "name": "stdout",
     "output_type": "stream",
     "text": [
      "Для проверки посмотрим на размер выборок:\n",
      "features_train.shape:  (75000, 3)\n",
      "features_valid.shape:  (25000, 3)\n",
      "target_train.shape:  (75000,)\n",
      "target_valid.shape:  (25000,)\n"
     ]
    }
   ],
   "source": [
    "features_train_1, features_valid_1, target_train_1, target_valid_1 = features_target_split (df_1, 0.25)"
   ]
  },
  {
   "cell_type": "markdown",
   "metadata": {
    "id": "OWA24EYlrsAT"
   },
   "source": [
    "Выборки второго региона:"
   ]
  },
  {
   "cell_type": "code",
   "execution_count": 53,
   "metadata": {
    "colab": {
     "base_uri": "https://localhost:8080/"
    },
    "id": "FmaK1K_9rNnk",
    "outputId": "a7735bc8-f86c-489a-dafe-24fdbceb63e0"
   },
   "outputs": [
    {
     "name": "stdout",
     "output_type": "stream",
     "text": [
      "Для проверки посмотрим на размер выборок:\n",
      "features_train.shape:  (75000, 3)\n",
      "features_valid.shape:  (25000, 3)\n",
      "target_train.shape:  (75000,)\n",
      "target_valid.shape:  (25000,)\n"
     ]
    }
   ],
   "source": [
    "features_train_2, features_valid_2, target_train_2, target_valid_2 = features_target_split (df_2, 0.25)"
   ]
  },
  {
   "cell_type": "markdown",
   "metadata": {
    "id": "3UD0aJ7nm8FD"
   },
   "source": [
    "### Обучим модель и сделаем предсказания на валидационной выборке. Сохраним предсказания и правильные ответы на валидационной выборке."
   ]
  },
  {
   "cell_type": "code",
   "execution_count": 54,
   "metadata": {
    "id": "t4wcewxdr2XL"
   },
   "outputs": [],
   "source": [
    "# функция для модели:\n",
    "def model_learn (features_train, features_valid, target_train, target_valid):\n",
    "  model = LinearRegression()\n",
    "  model.fit(features_train,target_train) # обучим модель на тренировочной выборке\n",
    "  predictions_valid = model.predict(features_valid) # получим предсказания модели на валидационной выборке\n",
    "\n",
    "  RMSE_result = mean_squared_error(target_valid, predictions_valid) ** 0.5 \n",
    "  print(\"RMSE модели линейной регрессии на валидационной выборке:\", RMSE_result)\n",
    "  print('средний запас предсказанного сырья: ', sum(predictions_valid)/len(predictions_valid))\n",
    "\n",
    "  return predictions_valid"
   ]
  },
  {
   "cell_type": "code",
   "execution_count": 55,
   "metadata": {
    "colab": {
     "base_uri": "https://localhost:8080/"
    },
    "id": "MWx0R8JYjqcb",
    "outputId": "2f6082d8-1ef8-49c9-9bfa-93e25785e9c4"
   },
   "outputs": [
    {
     "name": "stdout",
     "output_type": "stream",
     "text": [
      "RMSE модели линейной регрессии на валидационной выборке: 37.5794217150813\n",
      "средний запас предсказанного сырья:  92.59256778438008\n"
     ]
    }
   ],
   "source": [
    "predictions_valid_0 = model_learn (features_train_0, features_valid_0,\n",
    "                                                     target_train_0, target_valid_0)"
   ]
  },
  {
   "cell_type": "code",
   "execution_count": 56,
   "metadata": {
    "colab": {
     "base_uri": "https://localhost:8080/"
    },
    "id": "QT0Wh7DbuMSs",
    "outputId": "f4b1556b-ffa3-47de-a5c5-275522892830"
   },
   "outputs": [
    {
     "name": "stdout",
     "output_type": "stream",
     "text": [
      "RMSE модели линейной регрессии на валидационной выборке: 0.893099286775616\n",
      "средний запас предсказанного сырья:  68.7285468954458\n"
     ]
    }
   ],
   "source": [
    "predictions_valid_1 = model_learn (features_train_1, features_valid_1,\n",
    "                                                     target_train_1, target_valid_1)"
   ]
  },
  {
   "cell_type": "code",
   "execution_count": 57,
   "metadata": {
    "colab": {
     "base_uri": "https://localhost:8080/"
    },
    "id": "_RCBo8cCuMY7",
    "outputId": "8db2f887-d13c-4a5b-a8b5-f8355e92ad5b"
   },
   "outputs": [
    {
     "name": "stdout",
     "output_type": "stream",
     "text": [
      "RMSE модели линейной регрессии на валидационной выборке: 40.02970873393434\n",
      "средний запас предсказанного сырья:  94.96504596800506\n"
     ]
    }
   ],
   "source": [
    "predictions_valid_2 = model_learn (features_train_2, features_valid_2,\n",
    "                                                           target_train_2, target_valid_2)"
   ]
  },
  {
   "cell_type": "markdown",
   "metadata": {
    "id": "U-zyicoWvmqb"
   },
   "source": [
    "### Выводы"
   ]
  },
  {
   "cell_type": "markdown",
   "metadata": {
    "id": "YhHAZjDovq2q"
   },
   "source": [
    "Для трёх выбранных регионов данные были разбиты на обучающие и валидационные выборки. Было проведено обучение моделей с помощью линейной регресии. \n",
    "\n",
    "\n",
    "  В регионах 0 и 2 достаточно высокий средний показатель запаса предсказанного сырья (92.6 и 94.9 соответственно). Однако RMSE для данных регионов также высок (37.6 и 40 соответственно).\n",
    "\n",
    "  В регионе 1 средний показатель запаса предсказанного сырья составляет 68.7 (ниже остальных регионов). Однако RMSE в данном регионе также мал (0.9). Это говорит о точности предсказаний и качестве построенной модели. \n",
    "  \n",
    "  Такой разброс  из-за того, что в разных регионах разные данные. Где-то данные простые, и модель хорошо с ними справляется. А где-то данные сложные, и модели тяжело.\n",
    "\n",
    "\n",
    "\n"
   ]
  },
  {
   "cell_type": "markdown",
   "metadata": {
    "id": "73h52a2ocV2t"
   },
   "source": [
    "## Подготовка к расчёту прибыли"
   ]
  },
  {
   "cell_type": "markdown",
   "metadata": {
    "id": "uA2ARYwe1efq"
   },
   "source": [
    "- Рассчитаем достаточный объём сырья для безубыточной разработки новой скважины.\n",
    "- Сравним полученный объём сырья со средним запасом в каждом регионе.\n",
    "\n"
   ]
  },
  {
   "cell_type": "markdown",
   "metadata": {
    "id": "LdmM4sqxcV2u"
   },
   "source": [
    "10млрд - это бюджет на 200 скважин. Посчитаем сколько в среднем должно быть в одной скважине, чтобы не прогореть, выбирая скважины для бурения случайно.\n",
    "После этого сравним это число со средним объемом сырья в одной скважине в каждом регионе.\n",
    "Если вдруг найдется регион, где средний объём одной скважины окажется больше необходимого значения, то никакой МЛ дальше не нужен. Буря случайную скважину компания выходит в плюс.\n",
    "Если такой ситуации не возникнет, то понадобится МЛ, чтобы выбирать скважины не случайно, а с помощью предсказаний модели."
   ]
  },
  {
   "cell_type": "markdown",
   "metadata": {
    "id": "wZzmqci9yYZj"
   },
   "source": [
    "минимальный объём продукта с одной скважины = бюджет / (200 скважин * доход с единицы продукта)"
   ]
  },
  {
   "cell_type": "code",
   "execution_count": 58,
   "metadata": {
    "id": "izsWJOueyYQy"
   },
   "outputs": [],
   "source": [
    "budget = 10**10 # Бюджет на разработку скважин в регионе \n",
    "count_explore_points = 500 # При разведке региона исследуют 500 точек\n",
    "count_best_points = 200 # из которых с помощью машинного обучения выбирают 200 лучших для разработки.\n",
    "prise_per_barrel = 450 #  один баррель сырья приносит 450 рублей дохода\n",
    "prise_per_product = 450000 #  Доход с каждой единицы продукта составляет450 т.р, поскольку объём указан в тысячах баррелей"
   ]
  },
  {
   "cell_type": "code",
   "execution_count": 59,
   "metadata": {
    "colab": {
     "base_uri": "https://localhost:8080/"
    },
    "id": "rVXPEqLAyYfT",
    "outputId": "a29d0e60-7f53-460d-bc33-5610e03839a5"
   },
   "outputs": [
    {
     "name": "stdout",
     "output_type": "stream",
     "text": [
      "Минимальный объём продукта с одной скважины для безубыточной разработки: 111.11\n"
     ]
    }
   ],
   "source": [
    "min_product = budget / (count_best_points * prise_per_product)\n",
    "\n",
    "print('Минимальный объём продукта с одной скважины для безубыточной разработки: {:.2f}'.format(min_product))"
   ]
  },
  {
   "cell_type": "markdown",
   "metadata": {
    "id": "a6Sr5GSk2K2y"
   },
   "source": [
    " Минимальный объём продукта для безубыточной разработки составляет 111.11. \n",
    "\n",
    "Данное значение превышает средние значения запасов скважин по всем регионам.\n",
    "\n",
    "Это означает, что необходимо воспользоваться предсказанием лучших скважин.\n",
    "\n"
   ]
  },
  {
   "cell_type": "markdown",
   "metadata": {
    "id": "6TeZSK2FcV2v"
   },
   "source": [
    "## Расчёт прибыли и рисков "
   ]
  },
  {
   "cell_type": "markdown",
   "metadata": {
    "id": "4NqOmPaFKBbS"
   },
   "source": [
    "### Расчитаем прибыль"
   ]
  },
  {
   "cell_type": "markdown",
   "metadata": {
    "id": "ehm-82bicV2w"
   },
   "source": [
    "Напишем функцию для расчёта прибыли по выбранным скважинам и предсказаниям модели:\n",
    "\n",
    "- Выберем скважины с максимальными значениями предсказаний. Количество скважин зависит от бюджета компании и стоимости разработки одной скважины. В нашем случае выберем случайно 500 точек и отберём 200 с максимальным показателем объёма сырья.\n",
    "- Просуммируем целевое значение объёма сырья, соответствующее этим предсказаниям.\n",
    "- Рассчитаем прибыль для полученного объёма сырья.\n",
    "\n"
   ]
  },
  {
   "cell_type": "markdown",
   "metadata": {
    "id": "SxCCSAiq-_kU"
   },
   "source": [
    "Для удобства переведём целевые признаки валидационной выборки и предсказания для валидационной выборки в объекты Series с одинаковыми индексами.."
   ]
  },
  {
   "cell_type": "code",
   "execution_count": 60,
   "metadata": {
    "id": "dKdxqwFE316L"
   },
   "outputs": [],
   "source": [
    "target_valid_0 = pd.Series(target_valid_0).reset_index(drop=True)\n",
    "target_valid_1 = pd.Series(target_valid_1).reset_index(drop=True)\n",
    "target_valid_2 = pd.Series(target_valid_2).reset_index(drop=True)"
   ]
  },
  {
   "cell_type": "code",
   "execution_count": 61,
   "metadata": {
    "id": "4AmqtqA7OsSy"
   },
   "outputs": [],
   "source": [
    "predictions_valid_0 = pd.Series(*predictions_valid_0.reshape(1,-1))\n",
    "predictions_valid_1 = pd.Series(*predictions_valid_1.reshape(1,-1))\n",
    "predictions_valid_2 = pd.Series(*predictions_valid_2.reshape(1,-1))"
   ]
  },
  {
   "cell_type": "code",
   "execution_count": 62,
   "metadata": {
    "id": "uHVGrpb931yj"
   },
   "outputs": [],
   "source": [
    "predictions_valid_0 = pd.Series(*predictions_valid_0.values.reshape(1,-1))\n",
    "predictions_valid_1 = pd.Series(*predictions_valid_1.values.reshape(1,-1))\n",
    "predictions_valid_2 = pd.Series(*predictions_valid_2.values.reshape(1,-1))"
   ]
  },
  {
   "cell_type": "code",
   "execution_count": 63,
   "metadata": {
    "id": "JFFaZy_I_KjS"
   },
   "outputs": [],
   "source": [
    "state = 12345\n",
    "def predicted_income(target, predicts, region_name, state, replace, show_res, return_res):\n",
    "    \"\"\"\n",
    "                   Функция берёт выборку размера 500, выбирает 200 наивысших значений,\n",
    "                   и считает: - среднее значение объёма сырья для выбранных скважин,\n",
    "                              - суммарный целевой объём сырья\n",
    "                              - прибыль для полученного объёма сырья\n",
    "    \"\"\"\n",
    "\n",
    "    sample_preds = predicts.sample(n=count_explore_points, \n",
    "                                   replace=replace,     # создаём подвыбору без возвращения. \n",
    "                                   random_state=state)  # Один и тот же элемент попадает в подвыборку один раз.\n",
    "    top_preds = sample_preds.sort_values(ascending=False)[:count_best_points] # выбираем 200 лучших точек выборки\n",
    "    top_targets = target[top_preds.index] # с помощью индексов лучших предсказаний забираем целевые признаки с теми же индексами\n",
    "    count_best_points_mean = top_targets.mean() # среднее значение объёма сырья в лучших точках\n",
    "    volume = sum(top_targets) # объём продукта во всех лучших точках\n",
    "    income = volume * prise_per_product - budget # прибыль с лучших точек\n",
    "\n",
    "\n",
    "    if show_res:\n",
    "      # выводит описание для региона:\n",
    "      print('===', region_name, '===')\n",
    "      print('Средний запас сырья среди скважин с максимальным показателем: {:.2f}'.format(count_best_points_mean))\n",
    "      print('Суммарный целевой объём сырья в лучших скважинах: {:.2f}'.format(volume))\n",
    "      print('Прибыль для полученного объёма сырья для лучших скважин: {:.2f}'.format(income))\n",
    "    if return_res:\n",
    "      return income\n"
   ]
  },
  {
   "cell_type": "code",
   "execution_count": 64,
   "metadata": {
    "colab": {
     "base_uri": "https://localhost:8080/"
    },
    "id": "_oi3I383_Ke7",
    "outputId": "c01a8a81-26e6-4636-9259-0d647eb723b1"
   },
   "outputs": [
    {
     "name": "stdout",
     "output_type": "stream",
     "text": [
      "=== Регион 0 ===\n",
      "Средний запас сырья среди скважин с максимальным показателем: 118.66\n",
      "Суммарный целевой объём сырья в лучших скважинах: 23731.26\n",
      "Прибыль для полученного объёма сырья для лучших скважин: 679068857.89\n"
     ]
    }
   ],
   "source": [
    "predicted_income(target_valid_0, predictions_valid_0, 'Регион 0', state, False, show_res=True, return_res=False)"
   ]
  },
  {
   "cell_type": "code",
   "execution_count": 65,
   "metadata": {
    "colab": {
     "base_uri": "https://localhost:8080/"
    },
    "id": "8Lt--rD4ANxr",
    "outputId": "bc29419c-8145-4131-9cc5-fd2cc9210694"
   },
   "outputs": [
    {
     "name": "stdout",
     "output_type": "stream",
     "text": [
      "=== Регион 1 ===\n",
      "Средний запас сырья среди скважин с максимальным показателем: 119.77\n",
      "Суммарный целевой объём сырья в лучших скважинах: 23954.40\n",
      "Прибыль для полученного объёма сырья для лучших скважин: 779479884.18\n"
     ]
    }
   ],
   "source": [
    "predicted_income(target_valid_1, predictions_valid_1, 'Регион 1', state, False, show_res=True, return_res=False)"
   ]
  },
  {
   "cell_type": "code",
   "execution_count": 66,
   "metadata": {
    "colab": {
     "base_uri": "https://localhost:8080/"
    },
    "id": "4mWSONIcAN3D",
    "outputId": "d55fdd00-91b4-49f8-e7c5-32db321a5660"
   },
   "outputs": [
    {
     "name": "stdout",
     "output_type": "stream",
     "text": [
      "=== Регион 2 ===\n",
      "Средний запас сырья среди скважин с максимальным показателем: 116.00\n",
      "Суммарный целевой объём сырья в лучших скважинах: 23199.98\n",
      "Прибыль для полученного объёма сырья для лучших скважин: 439990143.02\n"
     ]
    }
   ],
   "source": [
    "predicted_income(target_valid_2, predictions_valid_2, 'Регион 2', state, False, show_res=True, return_res=False)"
   ]
  },
  {
   "cell_type": "markdown",
   "metadata": {
    "id": "IeQFMg9dAN8c"
   },
   "source": [
    "### Расчитаем риски"
   ]
  },
  {
   "cell_type": "markdown",
   "metadata": {
    "id": "fmW_QuGtKH9K"
   },
   "source": [
    " Применим технику Bootstrap с 1000 выборок, чтобы найти распределение прибыли. Найдём среднюю прибыль, 95%-й доверительный интервал и риск убытков. Убыток — это отрицательная прибыль."
   ]
  },
  {
   "cell_type": "code",
   "execution_count": 67,
   "metadata": {
    "id": "dwFMkXZeKICL"
   },
   "outputs": [],
   "source": [
    "def risk_calc(target, predicts, region_name):\n",
    "    \"\"\"\n",
    "\n",
    "                  - функция реализует технику bootstrap, количество выборок = bootstrap_samples.\n",
    "                  - Функция берёт выборку размера 500, выбирает 200 наивысших значений,\n",
    "                    считает общую прибыль income_pred и сохраняет её в списке incomes.\n",
    "                  - Функция выводит:  оценку средней прибыли\n",
    "                                      95% доверительный интервал (считается с помощью функции quantile)\n",
    "                                      риск убытков \n",
    "    \"\"\"\n",
    "    bootstrap_samples = 1000\n",
    "    alpha = 0.05\n",
    "    incomes = []\n",
    "    state = np.random.RandomState(12345)\n",
    "# Для выбранного региона для каждого бутстрепа запишем прибыль с лучших точек\n",
    "    for i in range(bootstrap_samples):\n",
    "        income = predicted_income(target, predicts, region_name, state, True, show_res=False, return_res=True)  \n",
    "        incomes.append(income)                                  \n",
    "    incomes = pd.Series(incomes)\n",
    "    income_mean = incomes.mean() # средняя прибыль с лучших точек для каждой выборке в бутстрепе\n",
    "\n",
    "    # Процедурой бутстреп находим 95%-й доверительный интервал прибыли.\n",
    "    # начало интервала в переменной conf_int_left, а конец — в conf_int_right.\n",
    "    conf_int_left = incomes.quantile(alpha/2)\n",
    "    conf_int_right = incomes.quantile(1 - alpha/2)\n",
    "    \n",
    "    loss_count = 0\n",
    "    for inc in incomes :\n",
    "        if inc < 0 :\n",
    "            loss_count += 1\n",
    "    loss_rate = loss_count / bootstrap_samples\n",
    "    \n",
    "    print('===', region_name, '===')\n",
    "    print('Средняя прибыль {:.2f} (млн. Р)'.format(income_mean / 10**6))\n",
    "    print('95% доверительный интервал: {:.2f} : {:.2f} (млн. Р)'.format(conf_int_left / 10**6, conf_int_right / 10**6))\n",
    "    print('Риск убытков: {:.2f} %'.format(loss_rate * 100))\n"
   ]
  },
  {
   "cell_type": "code",
   "execution_count": 68,
   "metadata": {
    "colab": {
     "base_uri": "https://localhost:8080/"
    },
    "id": "jDbfZZk3KIHj",
    "outputId": "01c1bcb3-a9ee-47a1-88ae-f2c52aaa6fd3"
   },
   "outputs": [
    {
     "name": "stdout",
     "output_type": "stream",
     "text": [
      "=== Регион 0 ===\n",
      "Средняя прибыль 396.16 (млн. Р)\n",
      "95% доверительный интервал: -111.22 : 909.77 (млн. Р)\n",
      "Риск убытков: 6.90 %\n"
     ]
    }
   ],
   "source": [
    "risk_calc(target_valid_0, predictions_valid_0, 'Регион 0')"
   ]
  },
  {
   "cell_type": "code",
   "execution_count": 69,
   "metadata": {
    "colab": {
     "base_uri": "https://localhost:8080/"
    },
    "id": "nY2NsZpoKIN0",
    "outputId": "8e2bb031-bfe0-4477-cf5a-e78b6c21d329"
   },
   "outputs": [
    {
     "name": "stdout",
     "output_type": "stream",
     "text": [
      "=== Регион 1 ===\n",
      "Средняя прибыль 456.05 (млн. Р)\n",
      "95% доверительный интервал: 33.82 : 852.29 (млн. Р)\n",
      "Риск убытков: 1.50 %\n"
     ]
    }
   ],
   "source": [
    "risk_calc(target_valid_1, predictions_valid_1, 'Регион 1')"
   ]
  },
  {
   "cell_type": "code",
   "execution_count": 70,
   "metadata": {
    "colab": {
     "base_uri": "https://localhost:8080/"
    },
    "id": "jzasaQwEKZOj",
    "outputId": "89621a9e-17a8-4acc-81b1-2fa0f1af4751"
   },
   "outputs": [
    {
     "name": "stdout",
     "output_type": "stream",
     "text": [
      "=== Регион 2 ===\n",
      "Средняя прибыль 404.40 (млн. Р)\n",
      "95% доверительный интервал: -163.35 : 950.36 (млн. Р)\n",
      "Риск убытков: 7.60 %\n"
     ]
    }
   ],
   "source": [
    "risk_calc(target_valid_2, predictions_valid_2, 'Регион 2')"
   ]
  },
  {
   "cell_type": "markdown",
   "metadata": {
    "id": "agkKsCh6SniH"
   },
   "source": [
    "### Выводы"
   ]
  },
  {
   "cell_type": "markdown",
   "metadata": {
    "id": "s06DGC0fR4Wf"
   },
   "source": [
    "При расчёте показателей для 200 наилучших скважин из 500 в выборке:\n",
    "  Средний запас сырья с одной скважины среди всех регионов (119, 120, 116 тысяч баррелей соответственно) превосходит минимально необходимый объём 111.11.\n",
    "\n",
    "При применении техники bootstrap:\n",
    "  Оценка средней прибыли максимальна для региона 1 (780 млн.р.)\n",
    "  \n",
    "  Только регион 1 прогнозирует прибыльную разработку по 95% доверительному интервалу.\n",
    "  Риск убытков для региона 1 (1.5%)\n",
    "  Рекомендуем регион 1 для разработки."
   ]
  },
  {
   "cell_type": "markdown",
   "metadata": {
    "id": "Y5JvkbU1QC7J"
   },
   "source": [
    "## Общий Вывод\n",
    "\n",
    "  При начальном построении модели и предсказаний:\n",
    "- В регионах 0 и 2 достаточно высокий средний показатель запаса предсказанного сырья. Однако RMSE для данных регионов также высок (37.6 и 40 соответственно). Это свидетельствует о неоднозначности показателя, неточности модели регрессии.\n",
    "- В регионе 1 средний показатель запаса предсказанного сырья ниже остальных регионов. Однако RMSE в данном регионе мал (0.9). Это говорит о точности предсказаний и качестве построенной модели.\n",
    "- Средние показатели предсказанного сырья для одной скважины для всех регионов ниже теоретически необходимых.\n",
    "  \n",
    "  \n",
    "  При расчёте показателей для 200 наилучших скважин из выборочных 500:\n",
    "- Средний запас сырья с одной скважины среди всех регионов превосходит минимально необходимый объём.\n",
    "\n",
    "  \n",
    "  При применении техники bootstrap:\n",
    "- Оценка средней прибыли максимальна для региона 1 (780 млн.р.).\n",
    "- Только регион 1 прогнозирует прибыльную разработку по 95%.доверительному интервалу.\n",
    "- Риск убытков для региона 1 (1.5%)\n",
    "  Рекомендуем регион 1 для разработки.\n",
    "\n"
   ]
  },
  {
   "cell_type": "code",
   "execution_count": null,
   "metadata": {
    "id": "ypINqNcDcV2y"
   },
   "outputs": [],
   "source": []
  }
 ],
 "metadata": {
  "ExecuteTimeLog": [
   {
    "duration": 1244,
    "start_time": "2022-03-08T17:01:36.386Z"
   },
   {
    "duration": 411,
    "start_time": "2022-03-08T17:01:53.293Z"
   },
   {
    "duration": 6,
    "start_time": "2022-03-08T17:01:58.376Z"
   },
   {
    "duration": 63,
    "start_time": "2022-03-08T17:02:00.058Z"
   },
   {
    "duration": 76,
    "start_time": "2022-03-08T17:02:01.597Z"
   },
   {
    "duration": 61,
    "start_time": "2022-03-08T17:02:02.836Z"
   },
   {
    "duration": 6,
    "start_time": "2022-03-08T17:02:08.908Z"
   },
   {
    "duration": 6089,
    "start_time": "2022-03-08T17:02:10.885Z"
   },
   {
    "duration": 5,
    "start_time": "2022-03-08T17:02:34.940Z"
   },
   {
    "duration": 28,
    "start_time": "2022-03-08T17:02:39.653Z"
   },
   {
    "duration": 32,
    "start_time": "2022-03-08T17:02:41.460Z"
   },
   {
    "duration": 28,
    "start_time": "2022-03-08T17:02:46.189Z"
   },
   {
    "duration": 3,
    "start_time": "2022-03-08T17:02:53.143Z"
   },
   {
    "duration": 533,
    "start_time": "2022-03-08T17:02:54.397Z"
   },
   {
    "duration": 106,
    "start_time": "2022-03-08T17:46:53.140Z"
   },
   {
    "duration": 6,
    "start_time": "2022-03-08T17:46:58.538Z"
   },
   {
    "duration": 20,
    "start_time": "2022-03-08T17:47:00.699Z"
   },
   {
    "duration": 22,
    "start_time": "2022-03-08T17:47:02.242Z"
   },
   {
    "duration": 18,
    "start_time": "2022-03-08T17:47:03.579Z"
   },
   {
    "duration": 5,
    "start_time": "2022-03-08T17:47:04.674Z"
   },
   {
    "duration": 75,
    "start_time": "2022-03-08T17:47:05.428Z"
   },
   {
    "duration": 52,
    "start_time": "2022-03-08T17:47:06.452Z"
   },
   {
    "duration": 25,
    "start_time": "2022-03-08T17:47:07.779Z"
   },
   {
    "duration": 3,
    "start_time": "2022-03-08T17:47:19.595Z"
   },
   {
    "duration": 4,
    "start_time": "2022-03-08T17:47:22.584Z"
   },
   {
    "duration": 5,
    "start_time": "2022-03-08T17:47:25.302Z"
   },
   {
    "duration": 4,
    "start_time": "2022-03-08T17:47:26.210Z"
   },
   {
    "duration": 4,
    "start_time": "2022-03-08T17:47:27.698Z"
   },
   {
    "duration": 6,
    "start_time": "2022-03-08T17:47:28.963Z"
   },
   {
    "duration": 9,
    "start_time": "2022-03-08T17:47:33.555Z"
   },
   {
    "duration": 7,
    "start_time": "2022-03-08T17:47:34.988Z"
   },
   {
    "duration": 9,
    "start_time": "2022-03-08T17:47:35.322Z"
   },
   {
    "duration": 4,
    "start_time": "2022-03-08T17:48:08.962Z"
   },
   {
    "duration": 4,
    "start_time": "2022-03-08T17:48:09.451Z"
   },
   {
    "duration": 5,
    "start_time": "2022-03-08T17:48:13.251Z"
   },
   {
    "duration": 246,
    "start_time": "2022-03-08T17:48:13.579Z"
   },
   {
    "duration": 230,
    "start_time": "2022-03-08T17:48:17.251Z"
   },
   {
    "duration": 5,
    "start_time": "2022-03-08T17:48:18.194Z"
   },
   {
    "duration": 6,
    "start_time": "2022-03-08T17:48:19.989Z"
   },
   {
    "duration": 5,
    "start_time": "2022-03-08T17:48:28.762Z"
   },
   {
    "duration": 413,
    "start_time": "2022-03-08T17:48:28.769Z"
   },
   {
    "duration": 4,
    "start_time": "2022-03-08T17:48:29.184Z"
   },
   {
    "duration": 61,
    "start_time": "2022-03-08T17:48:29.190Z"
   },
   {
    "duration": 67,
    "start_time": "2022-03-08T17:48:29.253Z"
   },
   {
    "duration": 51,
    "start_time": "2022-03-08T17:48:29.322Z"
   },
   {
    "duration": 26,
    "start_time": "2022-03-08T17:48:29.375Z"
   },
   {
    "duration": 6228,
    "start_time": "2022-03-08T17:48:29.404Z"
   },
   {
    "duration": 4,
    "start_time": "2022-03-08T17:48:35.635Z"
   },
   {
    "duration": 74,
    "start_time": "2022-03-08T17:48:35.640Z"
   },
   {
    "duration": 17,
    "start_time": "2022-03-08T17:48:35.716Z"
   },
   {
    "duration": 15,
    "start_time": "2022-03-08T17:48:35.734Z"
   },
   {
    "duration": 4,
    "start_time": "2022-03-08T17:48:35.751Z"
   },
   {
    "duration": 52,
    "start_time": "2022-03-08T17:48:35.757Z"
   },
   {
    "duration": 99,
    "start_time": "2022-03-08T17:48:35.904Z"
   },
   {
    "duration": 197,
    "start_time": "2022-03-08T17:48:36.005Z"
   },
   {
    "duration": 97,
    "start_time": "2022-03-08T17:48:36.205Z"
   },
   {
    "duration": 10,
    "start_time": "2022-03-08T17:48:36.304Z"
   },
   {
    "duration": 6,
    "start_time": "2022-03-08T17:48:36.316Z"
   },
   {
    "duration": 12,
    "start_time": "2022-03-08T17:48:36.324Z"
   },
   {
    "duration": 214,
    "start_time": "2022-03-08T17:48:39.867Z"
   },
   {
    "duration": 1234,
    "start_time": "2022-03-08T17:48:52.325Z"
   },
   {
    "duration": 393,
    "start_time": "2022-03-08T17:48:53.561Z"
   },
   {
    "duration": 4,
    "start_time": "2022-03-08T17:48:53.957Z"
   },
   {
    "duration": 64,
    "start_time": "2022-03-08T17:48:53.964Z"
   },
   {
    "duration": 70,
    "start_time": "2022-03-08T17:48:54.031Z"
   },
   {
    "duration": 55,
    "start_time": "2022-03-08T17:48:54.104Z"
   },
   {
    "duration": 6,
    "start_time": "2022-03-08T17:48:54.162Z"
   },
   {
    "duration": 6359,
    "start_time": "2022-03-08T17:48:54.172Z"
   },
   {
    "duration": 5,
    "start_time": "2022-03-08T17:49:00.534Z"
   },
   {
    "duration": 27,
    "start_time": "2022-03-08T17:49:00.541Z"
   },
   {
    "duration": 37,
    "start_time": "2022-03-08T17:49:00.571Z"
   },
   {
    "duration": 43,
    "start_time": "2022-03-08T17:49:00.611Z"
   },
   {
    "duration": 22,
    "start_time": "2022-03-08T17:49:00.657Z"
   },
   {
    "duration": 122,
    "start_time": "2022-03-08T17:49:00.681Z"
   },
   {
    "duration": 200,
    "start_time": "2022-03-08T17:49:00.805Z"
   },
   {
    "duration": 194,
    "start_time": "2022-03-08T17:49:01.008Z"
   },
   {
    "duration": 102,
    "start_time": "2022-03-08T17:49:01.205Z"
   },
   {
    "duration": 47,
    "start_time": "2022-03-08T17:49:01.309Z"
   },
   {
    "duration": 13,
    "start_time": "2022-03-08T17:49:01.358Z"
   },
   {
    "duration": 12,
    "start_time": "2022-03-08T17:49:01.373Z"
   },
   {
    "duration": 11,
    "start_time": "2022-03-08T17:49:01.387Z"
   },
   {
    "duration": 18,
    "start_time": "2022-03-08T17:49:01.400Z"
   },
   {
    "duration": 57,
    "start_time": "2022-03-08T17:49:01.422Z"
   },
   {
    "duration": 17,
    "start_time": "2022-03-08T17:49:01.482Z"
   },
   {
    "duration": 11,
    "start_time": "2022-03-08T17:49:01.502Z"
   },
   {
    "duration": 12,
    "start_time": "2022-03-08T17:49:01.515Z"
   },
   {
    "duration": 1523,
    "start_time": "2022-03-08T17:49:01.529Z"
   },
   {
    "duration": 1537,
    "start_time": "2022-03-08T17:49:03.054Z"
   },
   {
    "duration": 1555,
    "start_time": "2022-03-08T17:49:04.593Z"
   },
   {
    "duration": 4,
    "start_time": "2022-03-08T17:51:04.140Z"
   },
   {
    "duration": 420,
    "start_time": "2022-03-08T17:51:05.116Z"
   },
   {
    "duration": 4,
    "start_time": "2022-03-08T17:51:06.076Z"
   },
   {
    "duration": 60,
    "start_time": "2022-03-08T17:51:06.988Z"
   },
   {
    "duration": 54,
    "start_time": "2022-03-08T17:51:08.731Z"
   },
   {
    "duration": 55,
    "start_time": "2022-03-08T17:51:10.915Z"
   },
   {
    "duration": 5,
    "start_time": "2022-03-08T17:51:15.958Z"
   },
   {
    "duration": 6329,
    "start_time": "2022-03-08T17:51:16.620Z"
   },
   {
    "duration": 5,
    "start_time": "2022-03-08T17:51:24.534Z"
   },
   {
    "duration": 19,
    "start_time": "2022-03-08T17:51:25.628Z"
   },
   {
    "duration": 18,
    "start_time": "2022-03-08T17:51:27.566Z"
   },
   {
    "duration": 17,
    "start_time": "2022-03-08T17:51:28.603Z"
   },
   {
    "duration": 4,
    "start_time": "2022-03-08T17:58:03.941Z"
   },
   {
    "duration": 415,
    "start_time": "2022-03-08T17:58:03.948Z"
   },
   {
    "duration": 4,
    "start_time": "2022-03-08T17:58:04.365Z"
   },
   {
    "duration": 66,
    "start_time": "2022-03-08T17:58:04.372Z"
   },
   {
    "duration": 66,
    "start_time": "2022-03-08T17:58:04.441Z"
   },
   {
    "duration": 53,
    "start_time": "2022-03-08T17:58:04.509Z"
   },
   {
    "duration": 5,
    "start_time": "2022-03-08T17:58:04.564Z"
   },
   {
    "duration": 6441,
    "start_time": "2022-03-08T17:58:04.572Z"
   },
   {
    "duration": 4,
    "start_time": "2022-03-08T17:58:11.015Z"
   },
   {
    "duration": 41,
    "start_time": "2022-03-08T17:58:11.021Z"
   },
   {
    "duration": 17,
    "start_time": "2022-03-08T17:58:11.064Z"
   },
   {
    "duration": 32,
    "start_time": "2022-03-08T17:58:11.083Z"
   },
   {
    "duration": 5,
    "start_time": "2022-03-08T17:58:11.117Z"
   },
   {
    "duration": 88,
    "start_time": "2022-03-08T17:58:11.123Z"
   },
   {
    "duration": 276,
    "start_time": "2022-03-08T17:58:11.302Z"
   },
   {
    "duration": 38,
    "start_time": "2022-03-08T17:58:11.581Z"
   },
   {
    "duration": 81,
    "start_time": "2022-03-08T17:58:11.621Z"
   },
   {
    "duration": 98,
    "start_time": "2022-03-08T17:58:11.705Z"
   },
   {
    "duration": 13,
    "start_time": "2022-03-08T17:58:11.805Z"
   },
   {
    "duration": 15,
    "start_time": "2022-03-08T17:58:11.820Z"
   },
   {
    "duration": 15,
    "start_time": "2022-03-08T17:58:11.838Z"
   },
   {
    "duration": 18,
    "start_time": "2022-03-08T17:58:11.855Z"
   },
   {
    "duration": 13,
    "start_time": "2022-03-08T17:58:11.877Z"
   },
   {
    "duration": 9,
    "start_time": "2022-03-08T17:58:11.892Z"
   },
   {
    "duration": 9,
    "start_time": "2022-03-08T17:58:11.902Z"
   },
   {
    "duration": 7,
    "start_time": "2022-03-08T17:58:11.913Z"
   },
   {
    "duration": 1680,
    "start_time": "2022-03-08T17:58:11.922Z"
   },
   {
    "duration": 2009,
    "start_time": "2022-03-08T17:58:13.605Z"
   },
   {
    "duration": 1629,
    "start_time": "2022-03-08T17:58:15.616Z"
   }
  ],
  "colab": {
   "collapsed_sections": [
    "4NqOmPaFKBbS"
   ],
   "name": "2.3. добыча нефти_41375149-1f9d-4fa0-af4d-1083c203617f-Copy1.ipynb",
   "provenance": [],
   "toc_visible": true
  },
  "kernelspec": {
   "display_name": "Python 3",
   "language": "python",
   "name": "python3"
  },
  "language_info": {
   "codemirror_mode": {
    "name": "ipython",
    "version": 3
   },
   "file_extension": ".py",
   "mimetype": "text/x-python",
   "name": "python",
   "nbconvert_exporter": "python",
   "pygments_lexer": "ipython3",
   "version": "3.7.4"
  },
  "toc": {
   "base_numbering": 1,
   "nav_menu": {},
   "number_sections": true,
   "sideBar": true,
   "skip_h1_title": true,
   "title_cell": "Table of Contents",
   "title_sidebar": "Contents",
   "toc_cell": true,
   "toc_position": {},
   "toc_section_display": true,
   "toc_window_display": true
  }
 },
 "nbformat": 4,
 "nbformat_minor": 1
}
