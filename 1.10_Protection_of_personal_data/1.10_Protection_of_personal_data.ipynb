{
 "cells": [
  {
   "cell_type": "markdown",
   "metadata": {
    "toc": true
   },
   "source": [
    "<h1>Table of Contents<span class=\"tocSkip\"></span></h1>\n",
    "<div class=\"toc\"><ul class=\"toc-item\"><li><span><a href=\"#Загрузка-данных\" data-toc-modified-id=\"Загрузка-данных-1\"><span class=\"toc-item-num\">1&nbsp;&nbsp;</span>Загрузка данных</a></span><ul class=\"toc-item\"><li><span><a href=\"#Удаление-явных-дубликатов\" data-toc-modified-id=\"Удаление-явных-дубликатов-1.1\"><span class=\"toc-item-num\">1.1&nbsp;&nbsp;</span>Удаление явных дубликатов</a></span></li><li><span><a href=\"#Приведение-типов\" data-toc-modified-id=\"Приведение-типов-1.2\"><span class=\"toc-item-num\">1.2&nbsp;&nbsp;</span>Приведение типов</a></span></li><li><span><a href=\"#Обзор-данных\" data-toc-modified-id=\"Обзор-данных-1.3\"><span class=\"toc-item-num\">1.3&nbsp;&nbsp;</span>Обзор данных</a></span></li></ul></li><li><span><a href=\"#Умножение-матриц\" data-toc-modified-id=\"Умножение-матриц-2\"><span class=\"toc-item-num\">2&nbsp;&nbsp;</span>Умножение матриц</a></span><ul class=\"toc-item\"><li><span><a href=\"#Вопрос-со-звёздочкой:\" data-toc-modified-id=\"Вопрос-со-звёздочкой:-2.1\"><span class=\"toc-item-num\">2.1&nbsp;&nbsp;</span>Вопрос со звёздочкой:</a></span></li></ul></li><li><span><a href=\"#Алгоритм-преобразования\" data-toc-modified-id=\"Алгоритм-преобразования-3\"><span class=\"toc-item-num\">3&nbsp;&nbsp;</span>Алгоритм преобразования</a></span></li><li><span><a href=\"#Проверка-алгоритма\" data-toc-modified-id=\"Проверка-алгоритма-4\"><span class=\"toc-item-num\">4&nbsp;&nbsp;</span>Проверка алгоритма</a></span></li><li><span><a href=\"#Вывод\" data-toc-modified-id=\"Вывод-5\"><span class=\"toc-item-num\">5&nbsp;&nbsp;</span>Вывод</a></span></li></ul></div>"
   ]
  },
  {
   "cell_type": "markdown",
   "metadata": {
    "id": "3QRhQWPkYztN"
   },
   "source": [
    "# Защита персональных данных\n",
    "Необходимо защитить данные клиентов. \n",
    "\n",
    "Разработаем такой метод преобразования данных, чтобы по ним было сложно восстановить персональную информацию, а именно умножим признаки для модели на обратимую матрицу. Обоснуем, что так делать можно.\n",
    "\n",
    "Нужно защитить данные так, чтобы качество моделей машинного обучения не ухудшилось."
   ]
  },
  {
   "cell_type": "code",
   "execution_count": 23,
   "metadata": {
    "id": "YVjVnJHTYzkl"
   },
   "outputs": [],
   "source": [
    "import pandas as pd\n",
    "import numpy as np\n",
    "from numpy.random import RandomState\n",
    "\n",
    "from sklearn.model_selection import train_test_split\n",
    "from sklearn.linear_model import LinearRegression \n",
    "from sklearn.metrics import r2_score\n",
    "\n",
    "import seaborn as sns\n",
    "import matplotlib.pyplot as plt \n",
    "from IPython.display import display"
   ]
  },
  {
   "cell_type": "markdown",
   "metadata": {
    "id": "PVq5TTlzYzvu"
   },
   "source": [
    "## Загрузка данных\n",
    "\n",
    "Загрузим данные и посмотрим на них:"
   ]
  },
  {
   "cell_type": "code",
   "execution_count": 24,
   "metadata": {
    "id": "tsyreQWEjyFX"
   },
   "outputs": [],
   "source": [
    "df = pd.read_csv('/datasets/insurance.csv')"
   ]
  },
  {
   "cell_type": "code",
   "execution_count": 25,
   "metadata": {
    "id": "6UiYHfsOjyJ3"
   },
   "outputs": [],
   "source": [
    "def describe_df (df):\n",
    "  display(df.head(5))\n",
    "  print()\n",
    "  print('Проверим наличие явных дубликатов: ')\n",
    "  print('Явных дубликатов: ', df.duplicated().sum())\n",
    "  print()\n",
    "  print('Выведем общую информацию о таблице: ')\n",
    "  print()  \n",
    "  print(df.info())\n",
    "  print()  \n",
    "  print('Соотношение целевого признака: ', df['Страховые выплаты'].mean())  \n"
   ]
  },
  {
   "cell_type": "code",
   "execution_count": 26,
   "metadata": {
    "colab": {
     "base_uri": "https://localhost:8080/",
     "height": 710
    },
    "id": "Co3exbkOjyNv",
    "outputId": "128fdc19-ffdc-45b6-f29d-ae24286e6a26"
   },
   "outputs": [
    {
     "data": {
      "text/html": [
       "<div>\n",
       "<style scoped>\n",
       "    .dataframe tbody tr th:only-of-type {\n",
       "        vertical-align: middle;\n",
       "    }\n",
       "\n",
       "    .dataframe tbody tr th {\n",
       "        vertical-align: top;\n",
       "    }\n",
       "\n",
       "    .dataframe thead th {\n",
       "        text-align: right;\n",
       "    }\n",
       "</style>\n",
       "<table border=\"1\" class=\"dataframe\">\n",
       "  <thead>\n",
       "    <tr style=\"text-align: right;\">\n",
       "      <th></th>\n",
       "      <th>Пол</th>\n",
       "      <th>Возраст</th>\n",
       "      <th>Зарплата</th>\n",
       "      <th>Члены семьи</th>\n",
       "      <th>Страховые выплаты</th>\n",
       "    </tr>\n",
       "  </thead>\n",
       "  <tbody>\n",
       "    <tr>\n",
       "      <th>0</th>\n",
       "      <td>1</td>\n",
       "      <td>41.0</td>\n",
       "      <td>49600.0</td>\n",
       "      <td>1</td>\n",
       "      <td>0</td>\n",
       "    </tr>\n",
       "    <tr>\n",
       "      <th>1</th>\n",
       "      <td>0</td>\n",
       "      <td>46.0</td>\n",
       "      <td>38000.0</td>\n",
       "      <td>1</td>\n",
       "      <td>1</td>\n",
       "    </tr>\n",
       "    <tr>\n",
       "      <th>2</th>\n",
       "      <td>0</td>\n",
       "      <td>29.0</td>\n",
       "      <td>21000.0</td>\n",
       "      <td>0</td>\n",
       "      <td>0</td>\n",
       "    </tr>\n",
       "    <tr>\n",
       "      <th>3</th>\n",
       "      <td>0</td>\n",
       "      <td>21.0</td>\n",
       "      <td>41700.0</td>\n",
       "      <td>2</td>\n",
       "      <td>0</td>\n",
       "    </tr>\n",
       "    <tr>\n",
       "      <th>4</th>\n",
       "      <td>1</td>\n",
       "      <td>28.0</td>\n",
       "      <td>26100.0</td>\n",
       "      <td>0</td>\n",
       "      <td>0</td>\n",
       "    </tr>\n",
       "  </tbody>\n",
       "</table>\n",
       "</div>"
      ],
      "text/plain": [
       "   Пол  Возраст  Зарплата  Члены семьи  Страховые выплаты\n",
       "0    1     41.0   49600.0            1                  0\n",
       "1    0     46.0   38000.0            1                  1\n",
       "2    0     29.0   21000.0            0                  0\n",
       "3    0     21.0   41700.0            2                  0\n",
       "4    1     28.0   26100.0            0                  0"
      ]
     },
     "metadata": {},
     "output_type": "display_data"
    },
    {
     "name": "stdout",
     "output_type": "stream",
     "text": [
      "\n",
      "Проверим наличие явных дубликатов: \n",
      "Явных дубликатов:  153\n",
      "\n",
      "Выведем общую информацию о таблице: \n",
      "\n",
      "<class 'pandas.core.frame.DataFrame'>\n",
      "RangeIndex: 5000 entries, 0 to 4999\n",
      "Data columns (total 5 columns):\n",
      " #   Column             Non-Null Count  Dtype  \n",
      "---  ------             --------------  -----  \n",
      " 0   Пол                5000 non-null   int64  \n",
      " 1   Возраст            5000 non-null   float64\n",
      " 2   Зарплата           5000 non-null   float64\n",
      " 3   Члены семьи        5000 non-null   int64  \n",
      " 4   Страховые выплаты  5000 non-null   int64  \n",
      "dtypes: float64(2), int64(3)\n",
      "memory usage: 195.4 KB\n",
      "None\n",
      "\n",
      "Соотношение целевого признака:  0.148\n"
     ]
    }
   ],
   "source": [
    "describe_df (df)"
   ]
  },
  {
   "cell_type": "markdown",
   "metadata": {
    "id": "hmZEiVpfjyRF"
   },
   "source": [
    "Признаки: \n",
    "- пол, \n",
    "- возраст, \n",
    "- зарплата застрахованного,\n",
    "- количество членов его семьи.\n",
    "\n",
    "Целевой признак: \n",
    "- количество страховых выплат клиенту за последние 5 лет.\n",
    "\n",
    "Пропусков в таблице нет, но есть явные дубликаты. Удалим их.\n",
    "Типы столбцов совпадают с представленными данными для всех, кроме возраста. Переведём тип данных \"возраст клиента\" в целочисленный тип.\n",
    "\n",
    "Также подробнее посмотрим на содержание столбцов\n"
   ]
  },
  {
   "cell_type": "markdown",
   "metadata": {
    "id": "T6jeYFxPmSNf"
   },
   "source": [
    "### Удаление явных дубликатов"
   ]
  },
  {
   "cell_type": "code",
   "execution_count": 27,
   "metadata": {
    "id": "XNlGgwElmSQt"
   },
   "outputs": [],
   "source": [
    "df = df.drop_duplicates()"
   ]
  },
  {
   "cell_type": "code",
   "execution_count": 28,
   "metadata": {
    "colab": {
     "base_uri": "https://localhost:8080/"
    },
    "id": "tZrP71eIns0s",
    "outputId": "48df734a-faf2-4fef-bb17-87ac7a1ba4d2"
   },
   "outputs": [
    {
     "data": {
      "text/plain": [
       "0"
      ]
     },
     "execution_count": 28,
     "metadata": {},
     "output_type": "execute_result"
    }
   ],
   "source": [
    " df.duplicated().sum()"
   ]
  },
  {
   "cell_type": "markdown",
   "metadata": {
    "id": "Z990cV9Yn07S"
   },
   "source": [
    "Явных дубликатов в данных больше нет"
   ]
  },
  {
   "cell_type": "markdown",
   "metadata": {
    "id": "xajOGNgsmSTj"
   },
   "source": [
    "### Приведение типов"
   ]
  },
  {
   "cell_type": "code",
   "execution_count": 29,
   "metadata": {
    "id": "GJEMfq7ZmSVy"
   },
   "outputs": [],
   "source": [
    "df['Возраст'] = df['Возраст'].astype('int')"
   ]
  },
  {
   "cell_type": "code",
   "execution_count": 30,
   "metadata": {
    "colab": {
     "base_uri": "https://localhost:8080/"
    },
    "id": "kUoPx9sVmSYN",
    "outputId": "cd5415db-0c64-4b92-a91d-03406e65d627"
   },
   "outputs": [
    {
     "data": {
      "text/plain": [
       "dtype('int64')"
      ]
     },
     "execution_count": 30,
     "metadata": {},
     "output_type": "execute_result"
    }
   ],
   "source": [
    "df['Возраст'].dtypes"
   ]
  },
  {
   "cell_type": "markdown",
   "metadata": {
    "id": "tFSXflNAmSaa"
   },
   "source": [
    "### Обзор данных"
   ]
  },
  {
   "cell_type": "markdown",
   "metadata": {
    "id": "RKtQFgw7p5ya"
   },
   "source": [
    "Посмотрим, какие числа присутствуют в таблице:"
   ]
  },
  {
   "cell_type": "code",
   "execution_count": 31,
   "metadata": {
    "colab": {
     "base_uri": "https://localhost:8080/"
    },
    "id": "4n3yEVKAmSce",
    "outputId": "b25134f0-61e1-44a2-9a2f-6450653c11cb"
   },
   "outputs": [
    {
     "data": {
      "text/plain": [
       "0    2431\n",
       "1    2416\n",
       "Name: Пол, dtype: int64"
      ]
     },
     "execution_count": 31,
     "metadata": {},
     "output_type": "execute_result"
    }
   ],
   "source": [
    "df['Пол'].value_counts()"
   ]
  },
  {
   "cell_type": "code",
   "execution_count": 32,
   "metadata": {
    "colab": {
     "base_uri": "https://localhost:8080/",
     "height": 316
    },
    "id": "LA2iXqNdoWAB",
    "outputId": "4c9f2f5a-cfb5-4bc5-91a7-12b77bdab9e7"
   },
   "outputs": [
    {
     "data": {
      "text/plain": [
       "array([[<AxesSubplot:title={'center':'Возраст'}>]], dtype=object)"
      ]
     },
     "execution_count": 32,
     "metadata": {},
     "output_type": "execute_result"
    },
    {
     "data": {
      "image/png": "[encoded data removed]",
      "text/plain": [
       "<Figure size 432x288 with 1 Axes>"
      ]
     },
     "metadata": {
      "needs_background": "light"
     },
     "output_type": "display_data"
    }
   ],
   "source": [
    "df.hist(column='Возраст', bins=60)  "
   ]
  },
  {
   "cell_type": "code",
   "execution_count": 33,
   "metadata": {
    "colab": {
     "base_uri": "https://localhost:8080/",
     "height": 316
    },
    "id": "4boSVMopoWDu",
    "outputId": "8b09e6e5-9e33-46fb-bc81-c979ec35550e"
   },
   "outputs": [
    {
     "data": {
      "text/plain": [
       "array([[<AxesSubplot:title={'center':'Зарплата'}>]], dtype=object)"
      ]
     },
     "execution_count": 33,
     "metadata": {},
     "output_type": "execute_result"
    },
    {
     "data": {
      "image/png": "[encoded data removed]",
      "text/plain": [
       "<Figure size 432x288 with 1 Axes>"
      ]
     },
     "metadata": {
      "needs_background": "light"
     },
     "output_type": "display_data"
    }
   ],
   "source": [
    "df.hist(column='Зарплата', bins=80)  "
   ]
  },
  {
   "cell_type": "code",
   "execution_count": 34,
   "metadata": {
    "colab": {
     "base_uri": "https://localhost:8080/",
     "height": 316
    },
    "id": "On5EjI4voWGb",
    "outputId": "38e5700e-f743-40d5-a04a-c2921a7e61ec"
   },
   "outputs": [
    {
     "data": {
      "text/plain": [
       "array([[<AxesSubplot:title={'center':'Члены семьи'}>]], dtype=object)"
      ]
     },
     "execution_count": 34,
     "metadata": {},
     "output_type": "execute_result"
    },
    {
     "data": {
      "image/png": "[encoded data removed]",
      "text/plain": [
       "<Figure size 432x288 with 1 Axes>"
      ]
     },
     "metadata": {
      "needs_background": "light"
     },
     "output_type": "display_data"
    }
   ],
   "source": [
    "df.hist(column='Члены семьи', bins=6)  "
   ]
  },
  {
   "cell_type": "code",
   "execution_count": 35,
   "metadata": {
    "colab": {
     "base_uri": "https://localhost:8080/"
    },
    "id": "grWTyTY5oWKk",
    "outputId": "2cfefe10-7342-4d30-c806-b32fa77549ad"
   },
   "outputs": [
    {
     "data": {
      "text/plain": [
       "0    4284\n",
       "1     423\n",
       "2     114\n",
       "3      18\n",
       "4       7\n",
       "5       1\n",
       "Name: Страховые выплаты, dtype: int64"
      ]
     },
     "execution_count": 35,
     "metadata": {},
     "output_type": "execute_result"
    }
   ],
   "source": [
    "df['Страховые выплаты'].value_counts()"
   ]
  },
  {
   "cell_type": "markdown",
   "metadata": {
    "id": "L6kyb4CaqBQ2"
   },
   "source": [
    "Данные во всех столбцах выглядят адекватно, экстремальных значений нет. Целевой признак перекошен: очень много людей не получали страховую выплату ни разу, и единицы получали её более двух раз."
   ]
  },
  {
   "cell_type": "markdown",
   "metadata": {
    "id": "rwRb_IibYzyO"
   },
   "source": [
    "## Умножение матриц\n",
    "\n",
    "Умножим признаки на обратимую матрицу.\n",
    "Докажем, что качество линейной регрессии не изменится. "
   ]
  },
  {
   "cell_type": "markdown",
   "metadata": {
    "id": "gJjJAuBSYz1W"
   },
   "source": [
    "Обозначения:\n",
    "\n",
    "- $X$ — матрица признаков (нулевой столбец состоит из единиц)\n",
    "\n",
    "- $y$ — вектор целевого признака\n",
    "\n",
    "- $P$ — матрица, на которую умножаются признаки\n",
    "\n",
    "- $w$ — вектор весов линейной регрессии (нулевой элемент равен сдвигу)"
   ]
  },
  {
   "cell_type": "markdown",
   "metadata": {
    "id": "wNf13OX7Yz4x"
   },
   "source": [
    "Предсказания:\n",
    "\n",
    "$$\n",
    "a = Xw\n",
    "$$\n",
    "\n",
    "Задача обучения:\n",
    "\n",
    "$$\n",
    "w = \\arg\\min_w MSE(Xw, y)\n",
    "$$\n",
    "\n",
    "Формула обучения:\n",
    "\n",
    "$$\n",
    "w = (X^T X)^{-1} X^T y\n",
    "$$"
   ]
  },
  {
   "cell_type": "markdown",
   "metadata": {
    "id": "3EPjm6hQeF4N"
   },
   "source": [
    "**Ответ:** Качество линейной регрессии не изменится.\n",
    "\n",
    "**Обоснование:** \n",
    "\n",
    "Введём определения:\n",
    "- Матрица признаков - $X$,\n",
    "- Обратимая матрица - $P$,\n",
    "- Матрица новых признаков $А$,\n",
    "- Вектор целевого признака - $y$,\n",
    "- Вектор весов целевого признака - $w$,\n",
    "- Предсказание - $а$.\n",
    "\n",
    "Основные свойства матриц (обратимых матриц):\n",
    "* $(A^T)^T = A,(1)$\n",
    "* $(AB)^T = B^TA^T ,(2)$\n",
    "\n",
    "\n",
    "* $(A^{-1})^T = (A^T)^{-1},(3)$\n",
    "* $(A+B)^T = A^T+B^T ,(4)$\n",
    "* $(AB)^{-1} = B^{-1}A^{-1},(5)$\n",
    "\n",
    "Введём новую матрицу признаков $A$, такую что $A=XP$. Тогда формула предсказвний\n",
    "\n",
    "$a = X w,(6)$\n",
    "\n",
    "$a_{1} = A w_{1},(7)$\n",
    "\n",
    "Формула обучения линейной регрессии:\n",
    "\n",
    "$w = (X^TX)^{-1}X^Ty,(8)$\n",
    "\n",
    "$w_{1} = (A^TA)^{-1}A^Ty,(9)$ \n",
    "\n",
    "\n",
    "Подставим $w_{1}$ в (7):\n",
    "\n",
    "$a_{1} = A(A^TA)^{-1}A^Ty$\n",
    "\n",
    "Раскроем матрицу А: $A=XP$\n",
    "\n",
    "$a_{1} = XP((XP)^T(XP))^{-1} (XP)^Ty$\n",
    "\n",
    "$a_{1} = XP(P^T X^T XP)^{-1} P^T X^T y$\n",
    "\n",
    "Воспользуемся свойством (5)\n",
    "\n",
    "$a_{1} = XP( X^T XP)^{-1}(P^T)^{-1} P^T X^T y$\n",
    "\n",
    "При умножении обратимой матрицы на обратную получаем единичную матрицу: $PP^{-1}=P^{-1}P=E$. \n",
    "\n",
    "$a_{1} = XP( X^T XP)^{-1} X^T y$\n",
    "\n",
    "$a_{1} = XP P^{-1}( X^T X)^{-1} X^T y$\n",
    "\n",
    "$a_{1} = X( X^T X)^{-1} X^T y (10)$\n",
    "\n",
    "Посмотрим на формулу (8) и (10), можно произвести замену:\n",
    "\n",
    "$a_{1} = Xw(11)$\n",
    "\n",
    "Из формул (11) и (6):\n",
    "\n",
    "$a_{1} = Xw = a$\n",
    "\n",
    "$a_{1} = a$\n",
    "\n",
    "Это значит, что при умножении матрицы признаков на некую обратимую матрицу Р предсказание линейной регрессии не изменится.\n"
   ]
  },
  {
   "cell_type": "markdown",
   "metadata": {},
   "source": [
    "\n",
    "\n",
    "### Вопрос со звёздочкой:\n",
    "а что будет, если домножить $X$ на $X^{-1}$? Естественно, в допущении, что $X$ квадратная и обратная к ней определена. Останутся ли веса $w$ такими же или изменятся?\n"
   ]
  },
  {
   "cell_type": "markdown",
   "metadata": {},
   "source": [
    "\n",
    "\n",
    "Введём новую матрицу признаков $A$, такую что $A=XX^{-1}$. Тогда формула предсказаний:\n",
    "\n",
    "$a = X w$\n",
    "\n",
    "$a_{1} = XX^{-1} w_{1}$\n",
    "\n",
    "Формула обучения линейной регрессии:\n",
    "\n",
    "$w = (X^TX)^{-1}X^Ty$\n",
    "\n",
    "$w_{1} = ((XX^{-1})^TXX^{-1})^{-1}(XX^{-1})^Ty$ \n",
    "\n",
    "Сократим: $XX^{-1} = E$\n",
    "\n",
    "$a_{1} =  Ew_{1}$\n",
    "\n",
    "$w_{1} = ((E)^TE)^{-1}(E)^Ty$\n",
    "\n",
    "$a_{1} =  w_{1}$\n",
    "\n",
    "$w_{1} = y$\n",
    "\n",
    "\n",
    "В таком случае предсказание не будет зависеть от исходной матрицы признаков, а значит веса изменятся. Поскольку $w_{1} = y$, мы говорим, что вектор весов целевого признака равен вектору целевого признака, а предсказание тоже тогда равно вектору целевого признака. Это значит, что обученная модель на тренировочной выборке будет показывать идеальные ответы.\n"
   ]
  },
  {
   "cell_type": "markdown",
   "metadata": {
    "id": "DDgqK3ieeGsV"
   },
   "source": [
    "## Алгоритм преобразования"
   ]
  },
  {
   "cell_type": "markdown",
   "metadata": {
    "id": "IoNz2MSbeGwF"
   },
   "source": [
    "**Алгоритм**\n",
    "\n",
    "- разделим выборку на тренировочную и тестовую.\n",
    "- обучим регрессию на исходных данных.\n",
    "- создадим квадратную матрицу Р. Размер матрицы равен количеству признаков в датафрейме: 4х4.\n",
    "- Вычислим детерминант матрицы. Если он не равен нулю, то матрица обратима. Если детерминант окажется равным нулю, возвращаемся к предыдущему пункту.\n",
    "- умножим исходные данные на матрицу Р.\n",
    "- обучим линейную регрессию на преобразованных данных.\n",
    "- сравним метрики."
   ]
  },
  {
   "cell_type": "markdown",
   "metadata": {
    "id": "YHEiTQeIeGy8"
   },
   "source": [
    "**Обоснование**\n",
    "\n",
    "В предыдущем разделе привели доказательство, что при умножении признаков на обратимую матрицу качество линейной регрессии не изменится.\n",
    "Чтобы умножить исходные данные, ширина матрицы признаков (количество столбцов) должна быть равля высоте матрицы, которую используем для шифровки. Чтобы матрица была обратимой, она должна быть квадратной и её детерминант должен быть не равен нулю.\n",
    "\n",
    "Определи́тель (детермина́нт) в линейной алгебре — скалярная величина, имеет смысл только для квадратных матриц. \n",
    "Для матрицы 2x2 определитель вычисляется как:\n",
    "\n",
    "\\begin{align}\n",
    "        det = \\begin{pmatrix}\n",
    "        a & c \\\\\n",
    "        b & d \n",
    "        \\end{pmatrix}= ad-bc\n",
    "    \\end{align}"
   ]
  },
  {
   "cell_type": "markdown",
   "metadata": {
    "id": "YQAPonXAeG1j"
   },
   "source": [
    "## Проверка алгоритма"
   ]
  },
  {
   "cell_type": "markdown",
   "metadata": {
    "id": "STkpYvnHyOPw"
   },
   "source": [
    "**Разобьём данные на выборки**"
   ]
  },
  {
   "cell_type": "markdown",
   "metadata": {
    "id": "xzhfx7PUPSMC"
   },
   "source": [
    "Разобъём данные на целевой признак и признаки, подводящие объект к целевому признаку.\n",
    "\n",
    "Разделим объекты датафрейма на две выборки: тренировочную и тестовую."
   ]
  },
  {
   "cell_type": "code",
   "execution_count": 36,
   "metadata": {
    "id": "Xa7-c5WkUVZA"
   },
   "outputs": [],
   "source": [
    "def features_target_split (df, valid_ratio):\n",
    "  \"\"\"\n",
    "  input:        df - датафрейм, который необходимо разделить\n",
    "                valid_ratio - отношение разбиения выборок\n",
    "  output:       features_train - тренировочные признаки\n",
    "                features_test - тренировочный целевой признак\n",
    "                target_train - тестовые признаки\n",
    "                target_test - тестовый целевой признак \n",
    "  description:  функция разбивает датафрекйм сначала на признаки и целевой признак, \n",
    "                потом делит выборки на тренировочные и валидационные.\n",
    "                Выводит на экран размерность выборок.\n",
    "  \"\"\"\n",
    "  features = df.drop(['Страховые выплаты'], axis=1)\n",
    "  target = df['Страховые выплаты']\n",
    "\n",
    "  features_train, features_test, target_train, target_test = train_test_split(\n",
    "    features, target, test_size=valid_ratio, random_state=12345) \n",
    "  print('Для проверки посмотрим на размер выборок:')\n",
    "  print('features_train.shape: ', features_train.shape)\n",
    "  print('features_test.shape: ', features_test.shape)\n",
    "  print('target_train.shape: ', target_train.shape)\n",
    "  print('target_test.shape: ', target_test.shape)\n",
    "\n",
    "  return features_train, features_test, target_train, target_test "
   ]
  },
  {
   "cell_type": "code",
   "execution_count": 37,
   "metadata": {
    "colab": {
     "base_uri": "https://localhost:8080/"
    },
    "id": "FbDL414VUVeq",
    "outputId": "e56a4bfb-32a0-45f3-c7a4-cc4205ff6970"
   },
   "outputs": [
    {
     "name": "stdout",
     "output_type": "stream",
     "text": [
      "Для проверки посмотрим на размер выборок:\n",
      "features_train.shape:  (3877, 4)\n",
      "features_test.shape:  (970, 4)\n",
      "target_train.shape:  (3877,)\n",
      "target_test.shape:  (970,)\n"
     ]
    }
   ],
   "source": [
    "features_train, features_test, target_train, target_test = features_target_split (df, 0.2)"
   ]
  },
  {
   "cell_type": "markdown",
   "metadata": {
    "id": "ovs6XQI964_3"
   },
   "source": [
    "**Обучим линейную регрессию на исходных данных**"
   ]
  },
  {
   "cell_type": "code",
   "execution_count": 38,
   "metadata": {
    "id": "s2eQDAMaD5ZC"
   },
   "outputs": [],
   "source": [
    "def model_lin_learn (features_train, target_train, features_test, target_test):\n",
    "  \"\"\"\n",
    "  input:        features_train - признаки тренировочной выборки\n",
    "                target_train - целевой признак тренировочной выборки\n",
    "                features_test - признаки тестовой выборки\n",
    "                target_test - целевой признак тестовой выборки\n",
    "  output:       r2 - метрика r2_score\n",
    "  description:  функция обучает линейую регрессию, рассчитывает и возвращает метрику r2_score \n",
    "                по  значениям целевых признаков и предсказаниям тренировочной и тестовой выборок\n",
    "  \"\"\"\n",
    "  model = LinearRegression()\n",
    "  model.fit(features_train,target_train) \n",
    "  predictions_valid = model.predict(features_test) \n",
    "\n",
    "  r2 = r2_score(target_test, predictions_valid)\n",
    "  print(\"Метрика R2 модели линейной регрессии на тестовой выборке:\", r2)\n",
    "\n",
    "  return r2"
   ]
  },
  {
   "cell_type": "code",
   "execution_count": 39,
   "metadata": {
    "colab": {
     "base_uri": "https://localhost:8080/"
    },
    "id": "GswPC8veD5b3",
    "outputId": "0539e00d-f686-4426-ec4f-96f98deae2dc"
   },
   "outputs": [
    {
     "name": "stdout",
     "output_type": "stream",
     "text": [
      "Метрика R2 модели линейной регрессии на тестовой выборке: 0.4160549216151235\n"
     ]
    }
   ],
   "source": [
    "r2_before_transform = model_lin_learn(features_train, target_train, features_test, target_test)"
   ]
  },
  {
   "cell_type": "markdown",
   "metadata": {
    "id": "JzySe17K696V"
   },
   "source": [
    "**Создадим обратимую матрицу**"
   ]
  },
  {
   "cell_type": "code",
   "execution_count": 54,
   "metadata": {
    "id": "_znW-34-Gsht"
   },
   "outputs": [],
   "source": [
    "def cipher_features(features_train, features_test):\n",
    "    n = features_train.shape[1]\n",
    "    np.random.seed(42)\n",
    "    \n",
    "    code_matrix = np.random.randint(1, 10, (n,n))\n",
    "    print(\"обратимая матрица: \")\n",
    "    print(code_matrix)\n",
    "    \n",
    "    det = np.linalg.det(code_matrix)\n",
    "    print(\"Детерминант\")\n",
    "    print(det)\n",
    "    \n",
    "    crypted_features_train = features_train @ code_matrix\n",
    "    crypted_features_test = features_test @ code_matrix\n",
    "    \n",
    "    print()\n",
    "    print('тренировочная выборка до и после кодирования: ')\n",
    "    print(features_train.head(5))\n",
    "    print(crypted_features_train.head(5))\n",
    "    print()\n",
    "    print('тестовая выборка до и после кодирования: ')\n",
    "    print(features_test.head(5))\n",
    "    print(crypted_features_test.head(5))\n",
    "    return crypted_features_train, crypted_features_test, code_matrix"
   ]
  },
  {
   "cell_type": "code",
   "execution_count": 55,
   "metadata": {
    "colab": {
     "base_uri": "https://localhost:8080/"
    },
    "id": "kOOsGu4hD5fF",
    "outputId": "8498f028-c06f-4577-ef5f-7d1f97564cf2"
   },
   "outputs": [
    {
     "name": "stdout",
     "output_type": "stream",
     "text": [
      "обратимая матрица: \n",
      "[[7 4 8 5]\n",
      " [7 3 7 8]\n",
      " [5 4 8 8]\n",
      " [3 6 5 2]]\n",
      "Детерминант\n",
      "-250.9999999999999\n",
      "\n",
      "тренировочная выборка до и после кодирования: \n",
      "      Пол  Возраст  Зарплата  Члены семьи\n",
      "640     0       28   29600.0            0\n",
      "4510    0       26   57100.0            1\n",
      "1623    1       38   41700.0            1\n",
      "3460    1       23   34000.0            1\n",
      "1820    0       45   35100.0            2\n",
      "             0         1         2         3\n",
      "640   148196.0  118484.0  236996.0  237024.0\n",
      "4510  285685.0  228484.0  456987.0  457010.0\n",
      "1623  208776.0  166924.0  333879.0  333911.0\n",
      "3460  170171.0  136079.0  272174.0  272191.0\n",
      "1820  175821.0  140547.0  281125.0  281164.0\n",
      "\n",
      "тестовая выборка до и после кодирования: \n",
      "      Пол  Возраст  Зарплата  Члены семьи\n",
      "1335    1       23   47200.0            0\n",
      "3875    1       32   65900.0            0\n",
      "166     1       33   33900.0            2\n",
      "3003    0       39   19300.0            2\n",
      "424     0       46   27500.0            2\n",
      "             0         1         2         3\n",
      "1335  236168.0  188873.0  377769.0  377789.0\n",
      "3875  329731.0  263700.0  527432.0  527461.0\n",
      "166   169744.0  135715.0  271449.0  271473.0\n",
      "3003   96779.0   77329.0  154683.0  154716.0\n",
      "424   137828.0  110150.0  220332.0  220372.0\n"
     ]
    }
   ],
   "source": [
    "crypted_features_train, crypted_features_test, code_matrix = cipher_features(features_train, features_test)"
   ]
  },
  {
   "cell_type": "markdown",
   "metadata": {
    "id": "pT7n7MZD-Tpx"
   },
   "source": [
    "**Обучим линейную регрессию для кодированных данных**"
   ]
  },
  {
   "cell_type": "code",
   "execution_count": 42,
   "metadata": {
    "colab": {
     "base_uri": "https://localhost:8080/"
    },
    "id": "0dXi1qqk-kiS",
    "outputId": "7fdce5df-3505-4a23-c16c-21407699ae3a"
   },
   "outputs": [
    {
     "name": "stdout",
     "output_type": "stream",
     "text": [
      "Метрика R2 модели линейной регрессии на тестовой выборке: 0.4160549216155851\n"
     ]
    }
   ],
   "source": [
    "r2_after_transform = model_lin_learn(crypted_features_train, target_train, crypted_features_test, target_test)"
   ]
  },
  {
   "cell_type": "markdown",
   "metadata": {
    "id": "AV_yYCmp_EYB"
   },
   "source": [
    "**Сравним метрики**"
   ]
  },
  {
   "cell_type": "code",
   "execution_count": 43,
   "metadata": {
    "colab": {
     "base_uri": "https://localhost:8080/"
    },
    "id": "XNDYvojy_Hax",
    "outputId": "7d1a4dc5-20a8-42a9-cdd7-a94e1aa6ad37"
   },
   "outputs": [
    {
     "data": {
      "text/plain": [
       "0.4160549216151235"
      ]
     },
     "execution_count": 43,
     "metadata": {},
     "output_type": "execute_result"
    }
   ],
   "source": [
    "r2_before_transform"
   ]
  },
  {
   "cell_type": "code",
   "execution_count": 44,
   "metadata": {
    "colab": {
     "base_uri": "https://localhost:8080/"
    },
    "id": "rCmwTS9y_HeZ",
    "outputId": "63ba35f4-4f1c-455d-b5bc-c12556b90524"
   },
   "outputs": [
    {
     "data": {
      "text/plain": [
       "0.4160549216155851"
      ]
     },
     "execution_count": 44,
     "metadata": {},
     "output_type": "execute_result"
    }
   ],
   "source": [
    "r2_after_transform"
   ]
  },
  {
   "cell_type": "markdown",
   "metadata": {
    "id": "jcViWbq2_Hho"
   },
   "source": [
    "Метрики R2 для исходных и кодированных данных совпали с точностью до 12го знака после запятой. Расхождение в маленьких разрядах произошло из-за того, что оба числа типа float: числа с плавающей точкой. Для них нормальны  такие расхождения.\n",
    "\n",
    "Делаем вывод, что качество линейной регрессии, обученной на исходных данных совпадает с качеством модели, обученной на кодированных данных."
   ]
  },
  {
   "cell_type": "markdown",
   "metadata": {
    "id": "J3GIjMNm_HlL"
   },
   "source": [
    "## Вывод"
   ]
  },
  {
   "cell_type": "markdown",
   "metadata": {
    "id": "7Tc2xo2Fhr1g"
   },
   "source": [
    "Во время проекта была проделана работа:\n",
    "- загрузили и проанализировали данные,\n",
    "- провели предобработку данных,\n",
    "- Ответили на вопрос проекта: `Признаки умножают на обратимую матрицу. Изменится ли качество линейной регрессии?` - Не изменится.\n",
    "- Привели обоснование ответа,\n",
    "- составили алгоритм для сравнения метрик, \n",
    "- разделили выборку на тренировочную и тестовую,\n",
    "- обучили регрессию на исходных данных,\n",
    "- создадали обратимую матрицу, закодировали с её помощью данные,\n",
    "- обучили линейную регрессию на преобразованных данных,\n",
    "- сравнили метрики: метрики совпали."
   ]
  }
 ],
 "metadata": {
  "ExecuteTimeLog": [
   {
    "duration": 1724,
    "start_time": "2022-04-01T06:11:37.859Z"
   },
   {
    "duration": 19,
    "start_time": "2022-04-01T06:12:10.978Z"
   },
   {
    "duration": 4,
    "start_time": "2022-04-01T06:12:12.718Z"
   },
   {
    "duration": 26,
    "start_time": "2022-04-01T06:12:16.835Z"
   },
   {
    "duration": 4,
    "start_time": "2022-04-01T06:12:53.308Z"
   },
   {
    "duration": 27,
    "start_time": "2022-04-01T06:12:53.838Z"
   },
   {
    "duration": 5,
    "start_time": "2022-04-01T06:13:12.726Z"
   },
   {
    "duration": 8,
    "start_time": "2022-04-01T06:13:13.628Z"
   },
   {
    "duration": 5,
    "start_time": "2022-04-01T06:13:16.635Z"
   },
   {
    "duration": 4,
    "start_time": "2022-04-01T06:13:17.118Z"
   },
   {
    "duration": 6,
    "start_time": "2022-04-01T06:13:20.818Z"
   },
   {
    "duration": 223,
    "start_time": "2022-04-01T06:13:27.803Z"
   },
   {
    "duration": 254,
    "start_time": "2022-04-01T06:13:39.149Z"
   },
   {
    "duration": 235,
    "start_time": "2022-04-01T06:13:41.299Z"
   },
   {
    "duration": 6,
    "start_time": "2022-04-01T06:14:08.465Z"
   },
   {
    "duration": 6,
    "start_time": "2022-04-01T06:17:59.776Z"
   },
   {
    "duration": 8,
    "start_time": "2022-04-01T06:18:02.008Z"
   },
   {
    "duration": 4,
    "start_time": "2022-04-01T06:18:04.409Z"
   },
   {
    "duration": 14,
    "start_time": "2022-04-01T06:18:05.709Z"
   },
   {
    "duration": 5,
    "start_time": "2022-04-01T06:18:09.388Z"
   },
   {
    "duration": 5,
    "start_time": "2022-04-01T06:18:58.318Z"
   },
   {
    "duration": 14,
    "start_time": "2022-04-01T06:18:59.025Z"
   },
   {
    "duration": 5,
    "start_time": "2022-04-01T06:19:20.315Z"
   },
   {
    "duration": 16,
    "start_time": "2022-04-01T06:19:20.798Z"
   },
   {
    "duration": 10,
    "start_time": "2022-04-01T06:19:38.419Z"
   },
   {
    "duration": 4,
    "start_time": "2022-04-01T06:19:40.715Z"
   },
   {
    "duration": 4,
    "start_time": "2022-04-01T06:19:42.548Z"
   },
   {
    "duration": 1559,
    "start_time": "2022-04-02T16:26:37.789Z"
   },
   {
    "duration": 17,
    "start_time": "2022-04-02T16:26:39.350Z"
   },
   {
    "duration": 3,
    "start_time": "2022-04-02T16:26:39.369Z"
   },
   {
    "duration": 25,
    "start_time": "2022-04-02T16:26:39.374Z"
   },
   {
    "duration": 5,
    "start_time": "2022-04-02T16:26:39.400Z"
   },
   {
    "duration": 9,
    "start_time": "2022-04-02T16:26:39.409Z"
   },
   {
    "duration": 4,
    "start_time": "2022-04-02T16:26:39.419Z"
   },
   {
    "duration": 5,
    "start_time": "2022-04-02T16:26:39.425Z"
   },
   {
    "duration": 6,
    "start_time": "2022-04-02T16:26:39.432Z"
   },
   {
    "duration": 235,
    "start_time": "2022-04-02T16:26:39.440Z"
   },
   {
    "duration": 231,
    "start_time": "2022-04-02T16:26:39.677Z"
   },
   {
    "duration": 205,
    "start_time": "2022-04-02T16:26:39.910Z"
   },
   {
    "duration": 4,
    "start_time": "2022-04-02T16:26:40.117Z"
   },
   {
    "duration": 4,
    "start_time": "2022-04-02T16:26:40.123Z"
   },
   {
    "duration": 10,
    "start_time": "2022-04-02T16:26:40.129Z"
   },
   {
    "duration": 3,
    "start_time": "2022-04-02T16:26:40.141Z"
   },
   {
    "duration": 64,
    "start_time": "2022-04-02T16:26:40.146Z"
   },
   {
    "duration": 97,
    "start_time": "2022-04-02T16:26:40.212Z"
   },
   {
    "duration": 18,
    "start_time": "2022-04-02T16:26:40.311Z"
   },
   {
    "duration": 6,
    "start_time": "2022-04-02T16:26:40.331Z"
   },
   {
    "duration": 3,
    "start_time": "2022-04-02T16:26:40.339Z"
   },
   {
    "duration": 4,
    "start_time": "2022-04-02T16:26:40.344Z"
   },
   {
    "duration": 3,
    "start_time": "2022-04-02T19:27:49.437Z"
   },
   {
    "duration": 20,
    "start_time": "2022-04-02T19:27:49.442Z"
   },
   {
    "duration": 3,
    "start_time": "2022-04-02T19:27:49.464Z"
   },
   {
    "duration": 23,
    "start_time": "2022-04-02T19:27:49.469Z"
   },
   {
    "duration": 5,
    "start_time": "2022-04-02T19:27:49.494Z"
   },
   {
    "duration": 6,
    "start_time": "2022-04-02T19:27:49.501Z"
   },
   {
    "duration": 4,
    "start_time": "2022-04-02T19:27:49.509Z"
   },
   {
    "duration": 6,
    "start_time": "2022-04-02T19:27:49.514Z"
   },
   {
    "duration": 5,
    "start_time": "2022-04-02T19:27:49.522Z"
   },
   {
    "duration": 216,
    "start_time": "2022-04-02T19:27:49.529Z"
   },
   {
    "duration": 241,
    "start_time": "2022-04-02T19:27:49.748Z"
   },
   {
    "duration": 151,
    "start_time": "2022-04-02T19:27:49.991Z"
   },
   {
    "duration": 5,
    "start_time": "2022-04-02T19:27:50.144Z"
   },
   {
    "duration": 6,
    "start_time": "2022-04-02T19:27:50.150Z"
   },
   {
    "duration": 9,
    "start_time": "2022-04-02T19:27:50.158Z"
   },
   {
    "duration": 3,
    "start_time": "2022-04-02T19:27:50.169Z"
   },
   {
    "duration": 12,
    "start_time": "2022-04-02T19:27:50.173Z"
   },
   {
    "duration": 26,
    "start_time": "2022-04-02T19:27:50.186Z"
   },
   {
    "duration": 21,
    "start_time": "2022-04-02T19:27:50.213Z"
   },
   {
    "duration": 7,
    "start_time": "2022-04-02T19:27:50.235Z"
   },
   {
    "duration": 5,
    "start_time": "2022-04-02T19:27:50.244Z"
   },
   {
    "duration": 7,
    "start_time": "2022-04-02T19:27:50.250Z"
   },
   {
    "duration": 7,
    "start_time": "2022-04-02T19:28:01.213Z"
   },
   {
    "duration": 15,
    "start_time": "2022-04-02T19:28:10.940Z"
   },
   {
    "duration": 15,
    "start_time": "2022-04-02T19:28:18.063Z"
   },
   {
    "duration": 15,
    "start_time": "2022-04-02T19:28:24.485Z"
   },
   {
    "duration": 4,
    "start_time": "2022-04-02T19:30:06.197Z"
   },
   {
    "duration": 15,
    "start_time": "2022-04-02T19:30:09.987Z"
   },
   {
    "duration": 14,
    "start_time": "2022-04-02T19:30:16.909Z"
   },
   {
    "duration": 15,
    "start_time": "2022-04-02T19:30:36.868Z"
   },
   {
    "duration": 15,
    "start_time": "2022-04-02T19:30:42.399Z"
   },
   {
    "duration": 5,
    "start_time": "2022-04-02T19:32:56.100Z"
   },
   {
    "duration": 14,
    "start_time": "2022-04-02T19:32:58.399Z"
   }
  ],
  "colab": {
   "collapsed_sections": [
    "STkpYvnHyOPw"
   ],
   "name": "3.1_e3385274-314d-4750-80a5-ba17fc93724f.ipynb",
   "provenance": []
  },
  "kernelspec": {
   "display_name": "Python 3",
   "language": "python",
   "name": "python3"
  },
  "language_info": {
   "codemirror_mode": {
    "name": "ipython",
    "version": 3
   },
   "file_extension": ".py",
   "mimetype": "text/x-python",
   "name": "python",
   "nbconvert_exporter": "python",
   "pygments_lexer": "ipython3",
   "version": "3.7.4"
  },
  "toc": {
   "base_numbering": 1,
   "nav_menu": {},
   "number_sections": true,
   "sideBar": true,
   "skip_h1_title": true,
   "title_cell": "Table of Contents",
   "title_sidebar": "Contents",
   "toc_cell": true,
   "toc_position": {},
   "toc_section_display": true,
   "toc_window_display": true
  }
 },
 "nbformat": 4,
 "nbformat_minor": 1
}
