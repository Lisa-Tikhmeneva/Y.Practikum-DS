{
 "cells": [
  {
   "cell_type": "markdown",
   "metadata": {
    "toc": true
   },
   "source": [
    "<h1>Table of Contents<span class=\"tocSkip\"></span></h1>\n",
    "<div class=\"toc\"><ul class=\"toc-item\"><li><span><a href=\"#Разобьём-данные-на-выборки\" data-toc-modified-id=\"Разобьём-данные-на-выборки-1\"><span class=\"toc-item-num\">1&nbsp;&nbsp;</span>Разобьём данные на выборки</a></span></li><li><span><a href=\"#Исследуйте-модели\" data-toc-modified-id=\"Исследуйте-модели-2\"><span class=\"toc-item-num\">2&nbsp;&nbsp;</span>Исследуйте модели</a></span><ul class=\"toc-item\"><li><span><a href=\"#Решающее-дерево\" data-toc-modified-id=\"Решающее-дерево-2.1\"><span class=\"toc-item-num\">2.1&nbsp;&nbsp;</span>Решающее дерево</a></span></li><li><span><a href=\"#Случайный-лес\" data-toc-modified-id=\"Случайный-лес-2.2\"><span class=\"toc-item-num\">2.2&nbsp;&nbsp;</span>Случайный лес</a></span></li><li><span><a href=\"#Логистическая-регрессия\" data-toc-modified-id=\"Логистическая-регрессия-2.3\"><span class=\"toc-item-num\">2.3&nbsp;&nbsp;</span>Логистическая регрессия</a></span></li><li><span><a href=\"#Выводы\" data-toc-modified-id=\"Выводы-2.4\"><span class=\"toc-item-num\">2.4&nbsp;&nbsp;</span>Выводы</a></span></li></ul></li><li><span><a href=\"#Проверьте-модели-на-тестовой-выборке\" data-toc-modified-id=\"Проверьте-модели-на-тестовой-выборке-3\"><span class=\"toc-item-num\">3&nbsp;&nbsp;</span>Проверьте модели на тестовой выборке</a></span></li></ul></div>"
   ]
  },
  {
   "cell_type": "markdown",
   "metadata": {
    "id": "LkO-mMeAN255"
   },
   "source": [
    "# Построение моделей для рекомендации тарифов "
   ]
  },
  {
   "cell_type": "markdown",
   "metadata": {
    "id": "v6routwOq1D9"
   },
   "source": [
    "Оператор мобильной связи хочет построить систему, способную проанализировать поведение клиентов и предложить пользователям новый тариф: «Смарт» или «Ультра».\n",
    "\n",
    "\n",
    "У нас есть данные о поведении клиентов, которые уже перешли на эти тарифы. Нужно построить модель для задачи классификации, которая выберет подходящий тариф с максимально большим значением accuracy (>0.75). \n",
    "\n",
    "Предобработка данных не понадобится."
   ]
  },
  {
   "cell_type": "markdown",
   "metadata": {
    "id": "gHMr4A2PQ9_x"
   },
   "source": [
    "Откроем файл с данными и изучим его. \n",
    "Разделим исходные данные на обучающую, валидационную и тестовую выборки.\n",
    "Исследуем качество разных моделей, меняя гиперпараметры.\n",
    "Проверим качество модели на тестовой выборке."
   ]
  },
  {
   "cell_type": "code",
   "execution_count": 35,
   "metadata": {
    "id": "zZ-ec8xNsFSD"
   },
   "outputs": [],
   "source": [
    "import pandas as pd\n",
    "import numpy as np\n",
    "from sklearn.tree import DecisionTreeClassifier # чтобы обучать модель для классификации\n",
    "from sklearn.metrics import accuracy_score  # чтобы оценивать качество моделей\n",
    "from sklearn.ensemble import RandomForestClassifier # алгоритм случайного леса\n",
    "from sklearn.model_selection import train_test_split # чтобы делить выборки\n",
    "from sklearn.linear_model import LogisticRegression # алгоритм логистической регрессии\n",
    "from sklearn.dummy import DummyClassifier # создаёт простую модель для проверки на адекватность\n",
    "\n",
    "import warnings\n",
    "warnings.filterwarnings('ignore')"
   ]
  },
  {
   "cell_type": "code",
   "execution_count": 2,
   "metadata": {
    "id": "piAmBHXfRcBQ"
   },
   "outputs": [],
   "source": [
    "df = pd.read_csv('/datasets/users_behavior.csv')"
   ]
  },
  {
   "cell_type": "markdown",
   "metadata": {
    "id": "gIz8tJZ2Rrg8"
   },
   "source": [
    "Посмотрим на первые десять строк таблицы:"
   ]
  },
  {
   "cell_type": "code",
   "execution_count": 3,
   "metadata": {
    "colab": {
     "base_uri": "https://localhost:8080/",
     "height": 363
    },
    "id": "iohyzw9ARcXY",
    "outputId": "40fec4a2-8c7c-45f4-cba8-8054cb032f5e"
   },
   "outputs": [
    {
     "data": {
      "text/html": [
       "<div>\n",
       "<style scoped>\n",
       "    .dataframe tbody tr th:only-of-type {\n",
       "        vertical-align: middle;\n",
       "    }\n",
       "\n",
       "    .dataframe tbody tr th {\n",
       "        vertical-align: top;\n",
       "    }\n",
       "\n",
       "    .dataframe thead th {\n",
       "        text-align: right;\n",
       "    }\n",
       "</style>\n",
       "<table border=\"1\" class=\"dataframe\">\n",
       "  <thead>\n",
       "    <tr style=\"text-align: right;\">\n",
       "      <th></th>\n",
       "      <th>calls</th>\n",
       "      <th>minutes</th>\n",
       "      <th>messages</th>\n",
       "      <th>mb_used</th>\n",
       "      <th>is_ultra</th>\n",
       "    </tr>\n",
       "  </thead>\n",
       "  <tbody>\n",
       "    <tr>\n",
       "      <td>0</td>\n",
       "      <td>40.0</td>\n",
       "      <td>311.90</td>\n",
       "      <td>83.0</td>\n",
       "      <td>19915.42</td>\n",
       "      <td>0</td>\n",
       "    </tr>\n",
       "    <tr>\n",
       "      <td>1</td>\n",
       "      <td>85.0</td>\n",
       "      <td>516.75</td>\n",
       "      <td>56.0</td>\n",
       "      <td>22696.96</td>\n",
       "      <td>0</td>\n",
       "    </tr>\n",
       "    <tr>\n",
       "      <td>2</td>\n",
       "      <td>77.0</td>\n",
       "      <td>467.66</td>\n",
       "      <td>86.0</td>\n",
       "      <td>21060.45</td>\n",
       "      <td>0</td>\n",
       "    </tr>\n",
       "    <tr>\n",
       "      <td>3</td>\n",
       "      <td>106.0</td>\n",
       "      <td>745.53</td>\n",
       "      <td>81.0</td>\n",
       "      <td>8437.39</td>\n",
       "      <td>1</td>\n",
       "    </tr>\n",
       "    <tr>\n",
       "      <td>4</td>\n",
       "      <td>66.0</td>\n",
       "      <td>418.74</td>\n",
       "      <td>1.0</td>\n",
       "      <td>14502.75</td>\n",
       "      <td>0</td>\n",
       "    </tr>\n",
       "    <tr>\n",
       "      <td>5</td>\n",
       "      <td>58.0</td>\n",
       "      <td>344.56</td>\n",
       "      <td>21.0</td>\n",
       "      <td>15823.37</td>\n",
       "      <td>0</td>\n",
       "    </tr>\n",
       "    <tr>\n",
       "      <td>6</td>\n",
       "      <td>57.0</td>\n",
       "      <td>431.64</td>\n",
       "      <td>20.0</td>\n",
       "      <td>3738.90</td>\n",
       "      <td>1</td>\n",
       "    </tr>\n",
       "    <tr>\n",
       "      <td>7</td>\n",
       "      <td>15.0</td>\n",
       "      <td>132.40</td>\n",
       "      <td>6.0</td>\n",
       "      <td>21911.60</td>\n",
       "      <td>0</td>\n",
       "    </tr>\n",
       "    <tr>\n",
       "      <td>8</td>\n",
       "      <td>7.0</td>\n",
       "      <td>43.39</td>\n",
       "      <td>3.0</td>\n",
       "      <td>2538.67</td>\n",
       "      <td>1</td>\n",
       "    </tr>\n",
       "    <tr>\n",
       "      <td>9</td>\n",
       "      <td>90.0</td>\n",
       "      <td>665.41</td>\n",
       "      <td>38.0</td>\n",
       "      <td>17358.61</td>\n",
       "      <td>0</td>\n",
       "    </tr>\n",
       "  </tbody>\n",
       "</table>\n",
       "</div>"
      ],
      "text/plain": [
       "   calls  minutes  messages   mb_used  is_ultra\n",
       "0   40.0   311.90      83.0  19915.42         0\n",
       "1   85.0   516.75      56.0  22696.96         0\n",
       "2   77.0   467.66      86.0  21060.45         0\n",
       "3  106.0   745.53      81.0   8437.39         1\n",
       "4   66.0   418.74       1.0  14502.75         0\n",
       "5   58.0   344.56      21.0  15823.37         0\n",
       "6   57.0   431.64      20.0   3738.90         1\n",
       "7   15.0   132.40       6.0  21911.60         0\n",
       "8    7.0    43.39       3.0   2538.67         1\n",
       "9   90.0   665.41      38.0  17358.61         0"
      ]
     },
     "execution_count": 3,
     "metadata": {},
     "output_type": "execute_result"
    }
   ],
   "source": [
    "df.head(10)"
   ]
  },
  {
   "cell_type": "markdown",
   "metadata": {
    "id": "KK01A8JuRBOB"
   },
   "source": [
    "Каждый объект в наборе данных — это информация о поведении одного пользователя за месяц. Известно:\n",
    "- `сalls` — количество звонков,\n",
    "- `minutes` — суммарная длительность звонков в минутах,\n",
    "- `messages` — количество sms-сообщений,\n",
    "- `mb_used` — израсходованный интернет-трафик в Мб,\n",
    "- `is_ultra` — каким тарифом пользовался в течение месяца («Ультра» — 1, «Смарт» — 0)."
   ]
  },
  {
   "cell_type": "code",
   "execution_count": 4,
   "metadata": {
    "colab": {
     "base_uri": "https://localhost:8080/"
    },
    "id": "M5z_0CkcSeAp",
    "outputId": "375fc5df-5174-44b5-c320-41ab69f5fb44"
   },
   "outputs": [
    {
     "data": {
      "text/plain": [
       "0.30647168637212197"
      ]
     },
     "execution_count": 4,
     "metadata": {},
     "output_type": "execute_result"
    }
   ],
   "source": [
    "df['is_ultra'].mean()"
   ]
  },
  {
   "cell_type": "code",
   "execution_count": 5,
   "metadata": {
    "colab": {
     "base_uri": "https://localhost:8080/"
    },
    "id": "wI8Ra5UOUib-",
    "outputId": "cf6eefeb-c501-4a4e-81e7-a1e9dff3a448"
   },
   "outputs": [
    {
     "data": {
      "text/plain": [
       "3214"
      ]
     },
     "execution_count": 5,
     "metadata": {},
     "output_type": "execute_result"
    }
   ],
   "source": [
    "df['is_ultra'].count()"
   ]
  },
  {
   "cell_type": "markdown",
   "metadata": {
    "id": "BnjgyvXnUrcm"
   },
   "source": [
    "Десятую часть датасета составляют пользователи тарифа ультра. Остальные объекты принадлежат тарифу смарт."
   ]
  },
  {
   "cell_type": "markdown",
   "metadata": {
    "id": "CoeUDO5OO4QZ"
   },
   "source": [
    "## Разобьём данные на выборки"
   ]
  },
  {
   "cell_type": "markdown",
   "metadata": {
    "id": "xzhfx7PUPSMC"
   },
   "source": [
    "Все объекты из датафрейма необходимо разделить на три выборки: тренировочную, валидационную и тестовую.\n",
    "\n",
    "На тренировочной модели мы будем обучать модель, на вадидационной проверять работоспособность модели (выявлять переобучение, например), а на тестовой её тестировать. Разобъём данные на выборки в соотношении 3:1:1.\n",
    "\n",
    "Первым шагом разобъём данные на целевой признак (тариф, которым пользуется человек) и признаки, которые подвели человека к использованию этого тарифа."
   ]
  },
  {
   "cell_type": "code",
   "execution_count": 6,
   "metadata": {
    "id": "wdpwwO17UKxC"
   },
   "outputs": [],
   "source": [
    "features = df.drop(['is_ultra'], axis=1)"
   ]
  },
  {
   "cell_type": "code",
   "execution_count": 7,
   "metadata": {
    "id": "BBm14Ma1UK3Q"
   },
   "outputs": [],
   "source": [
    "target = df['is_ultra'].copy()"
   ]
  },
  {
   "cell_type": "markdown",
   "metadata": {
    "id": "1s3bmyA1UK9Y"
   },
   "source": [
    "Разделим данные на две выборки: данные, необходимые до тестирования и данные для тестов. Потом данные, нужные до тестирования разделим на тренировочные и валидационные."
   ]
  },
  {
   "cell_type": "code",
   "execution_count": 8,
   "metadata": {
    "id": "Xa7-c5WkUVZA"
   },
   "outputs": [],
   "source": [
    " # отделим 20% данных для тестовой выборки\n",
    "features_before_test, features_test, target_before_test, target_test = train_test_split(features, target, test_size=0.2, random_state=12345).copy()"
   ]
  },
  {
   "cell_type": "code",
   "execution_count": 9,
   "metadata": {
    "id": "FbDL414VUVeq"
   },
   "outputs": [],
   "source": [
    " # отделим 25% данных для валидационной выборки\n",
    "features_train, features_valid, target_train, target_valid = train_test_split(features_before_test, target_before_test, test_size=0.25, random_state=12345).copy()"
   ]
  },
  {
   "cell_type": "markdown",
   "metadata": {
    "id": "GxYec1CBUVjg"
   },
   "source": [
    "Разделили объекты на три выборки, положили их в отдельные переменные:\n",
    "- features_train, target_train это выборки для тренировки модели,\n",
    "-  features_valid, target_valid - выборки для валидации модели,\n",
    "- features_test, target_test - выборки для тестирования."
   ]
  },
  {
   "cell_type": "markdown",
   "metadata": {},
   "source": [
    "Проверим размеры полученых наборов, размеры валидационной и тестовой выборки должны совпасть:"
   ]
  },
  {
   "cell_type": "code",
   "execution_count": 10,
   "metadata": {},
   "outputs": [
    {
     "data": {
      "text/plain": [
       "(1928, 4)"
      ]
     },
     "execution_count": 10,
     "metadata": {},
     "output_type": "execute_result"
    }
   ],
   "source": [
    "features_train.shape"
   ]
  },
  {
   "cell_type": "code",
   "execution_count": 11,
   "metadata": {},
   "outputs": [
    {
     "data": {
      "text/plain": [
       "(1928,)"
      ]
     },
     "execution_count": 11,
     "metadata": {},
     "output_type": "execute_result"
    }
   ],
   "source": [
    " target_train.shape"
   ]
  },
  {
   "cell_type": "code",
   "execution_count": 12,
   "metadata": {},
   "outputs": [
    {
     "data": {
      "text/plain": [
       "(643, 4)"
      ]
     },
     "execution_count": 12,
     "metadata": {},
     "output_type": "execute_result"
    }
   ],
   "source": [
    "features_valid.shape"
   ]
  },
  {
   "cell_type": "code",
   "execution_count": 13,
   "metadata": {},
   "outputs": [
    {
     "data": {
      "text/plain": [
       "(643,)"
      ]
     },
     "execution_count": 13,
     "metadata": {},
     "output_type": "execute_result"
    }
   ],
   "source": [
    " target_valid.shape"
   ]
  },
  {
   "cell_type": "code",
   "execution_count": 14,
   "metadata": {},
   "outputs": [
    {
     "data": {
      "text/plain": [
       "(643, 4)"
      ]
     },
     "execution_count": 14,
     "metadata": {},
     "output_type": "execute_result"
    }
   ],
   "source": [
    "features_test.shape"
   ]
  },
  {
   "cell_type": "code",
   "execution_count": 15,
   "metadata": {},
   "outputs": [
    {
     "data": {
      "text/plain": [
       "(643,)"
      ]
     },
     "execution_count": 15,
     "metadata": {},
     "output_type": "execute_result"
    }
   ],
   "source": [
    "target_test.shape"
   ]
  },
  {
   "cell_type": "markdown",
   "metadata": {
    "id": "b9DazFlTO4gQ"
   },
   "source": [
    "## Исследование моделей"
   ]
  },
  {
   "cell_type": "markdown",
   "metadata": {
    "id": "MF5d3kr5PSYh"
   },
   "source": [
    "### Решающее дерево"
   ]
  },
  {
   "cell_type": "markdown",
   "metadata": {
    "id": "OEuOvfuffPML"
   },
   "source": [
    "Построим и обучим модель на основе решающего дерева. "
   ]
  },
  {
   "cell_type": "markdown",
   "metadata": {
    "id": "AYkyHlUAWo9T"
   },
   "source": [
    "Посмотрим на параметр accuray, чтобы понять, на сколько модель промахнулась. Аccuray это тношение числа правильных ответов к размеру тестовой выборки — «доля правильных ответов». \n"
   ]
  },
  {
   "cell_type": "markdown",
   "metadata": {
    "id": "B7yW4NtXe5X0"
   },
   "source": [
    "Чтобы получить максимально высокое качество предсказания нужно перебрать в алгоритме обучения разные варианты глубины дерева.\n",
    "Найдём модель с самой большой долей правильных ответов. Будем рассматривать глубину дерева от 1 до 6."
   ]
  },
  {
   "cell_type": "code",
   "execution_count": 16,
   "metadata": {
    "colab": {
     "base_uri": "https://localhost:8080/"
    },
    "id": "KE6mMusLft2K",
    "outputId": "2b498294-e847-4e32-b90c-5bee93113542"
   },
   "outputs": [
    {
     "name": "stdout",
     "output_type": "stream",
     "text": [
      "Учебная выборка: 0.758298755186722, валидационная выборка: 0.7387247278382582, глубина дерева: 1\n",
      "Учебная выборка: 0.79201244813278, валидационная выборка: 0.7573872472783826, глубина дерева: 2\n",
      "Учебная выборка: 0.8117219917012448, валидационная выборка: 0.7651632970451011, глубина дерева: 3\n",
      "Учебная выборка: 0.8205394190871369, валидационная выборка: 0.7636080870917574, глубина дерева: 4\n",
      "Учебная выборка: 0.8272821576763485, валидационная выборка: 0.7589424572317263, глубина дерева: 5\n",
      "Учебная выборка: 0.8335062240663901, валидационная выборка: 0.7573872472783826, глубина дерева: 6\n",
      "Accuracy лучшей модели: 0.7651632970451011\n",
      "Лучшая глубина дерева 3\n"
     ]
    }
   ],
   "source": [
    "best_model_tree = None\n",
    "best_result = 0\n",
    "best_depth = None\n",
    "for depth in range(1, 7):\n",
    "  model = DecisionTreeClassifier(random_state=12345, max_depth=depth) \n",
    "  model.fit(features_train, target_train) # обучим модель\n",
    "\n",
    "  train_predictions = model.predict(features_train) # получим предсказания модели\n",
    "  valid_predictions = model.predict(features_valid) \n",
    "  \n",
    "  result_train = accuracy_score(target_train, train_predictions) # посчитаем качество модели\n",
    "  result_valid = accuracy_score(target_valid, valid_predictions)\n",
    "\n",
    "  print (f'Учебная выборка: {result_train}, валидационная выборка: {result_valid}, глубина дерева: {depth}')\n",
    "  if result_valid > best_result:\n",
    "    best_model_tree = model\n",
    "    best_result = result_valid\n",
    "    best_depth = depth\n",
    "        \n",
    "print(\"Accuracy лучшей модели:\", best_result)\n",
    "print(\"Лучшая глубина дерева\", best_depth)"
   ]
  },
  {
   "cell_type": "markdown",
   "metadata": {
    "id": "1HvbdwdZhFY6"
   },
   "source": [
    "Можно сказать, что модель переобучилась, поскольку accuray этой модели на тренировочной выборке больше."
   ]
  },
  {
   "cell_type": "markdown",
   "metadata": {
    "id": "BSim9gb_hFcJ"
   },
   "source": [
    "### Случайный лес"
   ]
  },
  {
   "cell_type": "markdown",
   "metadata": {
    "id": "BYkXtOQfhFrJ"
   },
   "source": [
    "Попробуем другой алгоритм классификации — случайный лес. Алгоритм обучает большое количество независимых друг от друга деревьев, а потом принимает решение на основе голосования. Случайный лес помогает улучшить результат предсказания и избежать переобучения."
   ]
  },
  {
   "cell_type": "code",
   "execution_count": 17,
   "metadata": {
    "colab": {
     "base_uri": "https://localhost:8080/"
    },
    "id": "_aHYQMwYkrdu",
    "outputId": "5de71449-af2e-44e1-c2b3-98f7bb9fbf7b"
   },
   "outputs": [
    {
     "name": "stdout",
     "output_type": "stream",
     "text": [
      "Accuracy наилучшей модели на валидационной выборке: 0.7978227060653188, Количество деревьев: 50, Максимальная глубина: 10\n"
     ]
    }
   ],
   "source": [
    "best_model_forest = None\n",
    "best_result = 0\n",
    "best_est = 0\n",
    "best_depth = 0\n",
    "for est in range(10, 51, 10):\n",
    "  for depth in range (1, 11):\n",
    "    model = RandomForestClassifier(random_state=12345, n_estimators=est, max_depth=depth) # создадим модель с заданным количеством деревьев и глубиной дерева\n",
    "    model.fit(features_train, target_train) # обучим модель на тренировочной выборке\n",
    "    result = model.score(features_valid,target_valid) # посчитаем качество модели на валидационной выборке\n",
    "    if result > best_result:\n",
    "        best_model_forest = model # сохраним наилучшую модель\n",
    "        best_result = result #  сохраним наилучшее значение метрики accuracy на валидационных данных\n",
    "        best_est = est\n",
    "        best_depth = depth\n",
    "\n",
    "print(f\"Accuracy наилучшей модели на валидационной выборке: {best_result}, Количество деревьев: {best_est}, Максимальная глубина: {best_depth}\")\n"
   ]
  },
  {
   "cell_type": "markdown",
   "metadata": {
    "id": "PheIKwI3kri0"
   },
   "source": [
    "Если сделать гиперпараметр n_estimators больше, модель начнёт разрастаться и медленно обучаться."
   ]
  },
  {
   "cell_type": "markdown",
   "metadata": {
    "id": "2eIZvmc_hFwp"
   },
   "source": [
    "### Логистическая регрессия"
   ]
  },
  {
   "cell_type": "markdown",
   "metadata": {
    "id": "wbExZxu0hF2S"
   },
   "source": [
    "Алгоритмы не ограничиваются деревьями. Есть и другие способы классификации."
   ]
  },
  {
   "cell_type": "markdown",
   "metadata": {
    "id": "6KVC6LDnmTUb"
   },
   "source": [
    "инициализируем модель логистической регрессии с параметром random_state=12345"
   ]
  },
  {
   "cell_type": "code",
   "execution_count": 18,
   "metadata": {
    "id": "6T3BGPFhmNew"
   },
   "outputs": [],
   "source": [
    "model_lin_reg = LogisticRegression(random_state=12345) "
   ]
  },
  {
   "cell_type": "markdown",
   "metadata": {
    "id": "vPZJTE8BmWnE"
   },
   "source": [
    " Обучим модель на тренировочной выборке"
   ]
  },
  {
   "cell_type": "code",
   "execution_count": 19,
   "metadata": {
    "colab": {
     "base_uri": "https://localhost:8080/"
    },
    "id": "ZBnTSTWcmNlY",
    "outputId": "7c5b12be-3fc9-45f1-8e64-7aeb457ff9f8"
   },
   "outputs": [
    {
     "data": {
      "text/plain": [
       "LogisticRegression(C=1.0, class_weight=None, dual=False, fit_intercept=True,\n",
       "                   intercept_scaling=1, l1_ratio=None, max_iter=100,\n",
       "                   multi_class='warn', n_jobs=None, penalty='l2',\n",
       "                   random_state=12345, solver='warn', tol=0.0001, verbose=0,\n",
       "                   warm_start=False)"
      ]
     },
     "execution_count": 19,
     "metadata": {},
     "output_type": "execute_result"
    }
   ],
   "source": [
    "model_lin_reg.fit(features_train,target_train)"
   ]
  },
  {
   "cell_type": "markdown",
   "metadata": {
    "id": "L_1BA0Zwmctb"
   },
   "source": [
    "Получим метрику качества модели на валидационной выборке:\n"
   ]
  },
  {
   "cell_type": "code",
   "execution_count": 20,
   "metadata": {
    "colab": {
     "base_uri": "https://localhost:8080/"
    },
    "id": "PIfnM2KgmNrx",
    "outputId": "40c1b756-cf2a-4c72-a52a-998477a9deaa"
   },
   "outputs": [
    {
     "data": {
      "text/plain": [
       "0.6967340590979783"
      ]
     },
     "execution_count": 20,
     "metadata": {},
     "output_type": "execute_result"
    }
   ],
   "source": [
    "result = model_lin_reg.score(features_valid,target_valid)\n",
    "result"
   ]
  },
  {
   "cell_type": "markdown",
   "metadata": {
    "id": "pYMEoOlwYJAH"
   },
   "source": [
    "Получилось не очень много, зато быстро."
   ]
  },
  {
   "cell_type": "markdown",
   "metadata": {
    "id": "UtfmJAtGm_5F"
   },
   "source": [
    "### Выводы"
   ]
  },
  {
   "cell_type": "markdown",
   "metadata": {
    "id": "wu1XPA5wnACr"
   },
   "source": [
    "\n",
    "\n",
    "\n",
    "Оценим модели по качеству (accuracy) и скорости работы.\n",
    "1. Качество (accuracy). Это важный критерий: чем выше качество, тем больше прибыли приносит продукт.\n",
    "Самое высокое качество у случайного леса: вместо одного решающего дерева используется целый лес.\n",
    "На втором месте — дерево решений. При глубине дерева равной 3 модель дала хороший результат.\n",
    "Самое низкое качество предсказания у логистической регрессии. Модель несложная, но с этой задачей она справилась плохо.\n",
    "2. Скорость работы тоже значимый критерий.\n",
    "Высокая скорость работы у логистической регрессии: у неё меньше всего параметров.\n",
    "Скорость решающего дерева тоже высокая и зависит от глубины. Наша модель получила ответ на вопрос всего за три проверки значений признаков — это очень быстро. Случайный лес медленнее всех: чем больше деревьев, тем медленнее работает модель.\n"
   ]
  },
  {
   "cell_type": "markdown",
   "metadata": {
    "id": "8ek_xgq0O5yJ"
   },
   "source": [
    "## Проверьте модели на тестовой выборке\n",
    "\n",
    "\n",
    "\n"
   ]
  },
  {
   "cell_type": "markdown",
   "metadata": {
    "id": "gA8U31hcPSiJ"
   },
   "source": [
    "Протестируем:"
   ]
  },
  {
   "cell_type": "code",
   "execution_count": 21,
   "metadata": {
    "colab": {
     "base_uri": "https://localhost:8080/"
    },
    "id": "MrOoZ66y7RVk",
    "outputId": "2c18f976-6439-426a-a966-9ad6a7579bbf"
   },
   "outputs": [
    {
     "data": {
      "text/plain": [
       "0.7869362363919129"
      ]
     },
     "execution_count": 21,
     "metadata": {},
     "output_type": "execute_result"
    }
   ],
   "source": [
    "test_predictions  = best_model_tree.predict(features_test)\n",
    "accuracy_score(target_test, test_predictions)"
   ]
  },
  {
   "cell_type": "code",
   "execution_count": 22,
   "metadata": {
    "colab": {
     "base_uri": "https://localhost:8080/"
    },
    "id": "n3H2MQk47R-r",
    "outputId": "f9b05314-b556-4888-bc01-4fb698e16346"
   },
   "outputs": [
    {
     "data": {
      "text/plain": [
       "0.7993779160186625"
      ]
     },
     "execution_count": 22,
     "metadata": {},
     "output_type": "execute_result"
    }
   ],
   "source": [
    "\n",
    "best_model_forest.score(features_test,target_test)"
   ]
  },
  {
   "cell_type": "code",
   "execution_count": 23,
   "metadata": {
    "colab": {
     "base_uri": "https://localhost:8080/"
    },
    "id": "ImT0NbjM7SDD",
    "outputId": "ddec48c2-b056-46c9-ea13-fd1a37bc64cb"
   },
   "outputs": [
    {
     "data": {
      "text/plain": [
       "0.702954898911353"
      ]
     },
     "execution_count": 23,
     "metadata": {},
     "output_type": "execute_result"
    }
   ],
   "source": [
    "model_lin_reg.fit(features_test,target_test)\n",
    "model_lin_reg.score(features_test,target_test)"
   ]
  },
  {
   "cell_type": "markdown",
   "metadata": {
    "id": "H5GQ6chMYmOg"
   },
   "source": [
    "У всех моделей на тестовой выборке значение accuray больше 0,75."
   ]
  },
  {
   "cell_type": "markdown",
   "metadata": {},
   "source": [
    "Посмотрим, что предскажет простейшая модель, которая предсказывает только наиболее встречающийся класс."
   ]
  },
  {
   "cell_type": "code",
   "execution_count": 34,
   "metadata": {},
   "outputs": [
    {
     "data": {
      "text/plain": [
       "0.6951788491446346"
      ]
     },
     "execution_count": 34,
     "metadata": {},
     "output_type": "execute_result"
    }
   ],
   "source": [
    "dummy_clf = DummyClassifier(strategy=\"most_frequent\", random_state=12345)\n",
    "dummy_clf.fit(features_train, target_train)\n",
    "dummy_clf.score(features_test, target_test)"
   ]
  },
  {
   "cell_type": "markdown",
   "metadata": {},
   "source": [
    "Простейшая модель ошибается в 30% случаев, а хорошо обученные модели в 20% случаев. Значит, модели адекватно обучились."
   ]
  }
 ],
 "metadata": {
  "ExecuteTimeLog": [
   {
    "duration": 1336,
    "start_time": "2022-01-29T15:18:28.282Z"
   },
   {
    "duration": 23,
    "start_time": "2022-01-29T15:18:29.621Z"
   },
   {
    "duration": 45,
    "start_time": "2022-01-29T15:18:29.648Z"
   },
   {
    "duration": 10,
    "start_time": "2022-01-29T15:18:29.696Z"
   },
   {
    "duration": 13,
    "start_time": "2022-01-29T15:18:29.709Z"
   },
   {
    "duration": 44,
    "start_time": "2022-01-29T15:18:29.725Z"
   },
   {
    "duration": 5,
    "start_time": "2022-01-29T15:18:29.773Z"
   },
   {
    "duration": 10,
    "start_time": "2022-01-29T15:18:29.780Z"
   },
   {
    "duration": 8,
    "start_time": "2022-01-29T15:18:29.793Z"
   },
   {
    "duration": 109,
    "start_time": "2022-01-29T15:18:29.803Z"
   },
   {
    "duration": 5133,
    "start_time": "2022-01-29T15:18:29.914Z"
   },
   {
    "duration": 4,
    "start_time": "2022-01-29T15:18:35.049Z"
   },
   {
    "duration": 20,
    "start_time": "2022-01-29T15:18:35.068Z"
   },
   {
    "duration": 7,
    "start_time": "2022-01-29T15:18:35.090Z"
   },
   {
    "duration": 8,
    "start_time": "2022-01-29T15:18:35.099Z"
   },
   {
    "duration": 171,
    "start_time": "2022-01-29T15:18:35.109Z"
   },
   {
    "duration": 12,
    "start_time": "2022-01-29T15:18:35.282Z"
   },
   {
    "duration": 4,
    "start_time": "2022-01-29T15:21:35.380Z"
   },
   {
    "duration": 19,
    "start_time": "2022-01-29T15:21:38.473Z"
   },
   {
    "duration": 16,
    "start_time": "2022-01-29T15:21:49.331Z"
   },
   {
    "duration": 12,
    "start_time": "2022-01-29T15:21:52.667Z"
   },
   {
    "duration": 227,
    "start_time": "2022-01-30T09:30:03.546Z"
   },
   {
    "duration": 1108,
    "start_time": "2022-01-30T09:30:10.138Z"
   },
   {
    "duration": 19,
    "start_time": "2022-01-30T09:30:11.248Z"
   },
   {
    "duration": 16,
    "start_time": "2022-01-30T09:30:11.269Z"
   },
   {
    "duration": 5,
    "start_time": "2022-01-30T09:30:11.287Z"
   },
   {
    "duration": 9,
    "start_time": "2022-01-30T09:30:11.293Z"
   },
   {
    "duration": 5,
    "start_time": "2022-01-30T09:30:11.304Z"
   },
   {
    "duration": 6,
    "start_time": "2022-01-30T09:30:11.310Z"
   },
   {
    "duration": 6,
    "start_time": "2022-01-30T09:30:11.318Z"
   },
   {
    "duration": 5,
    "start_time": "2022-01-30T09:30:11.326Z"
   },
   {
    "duration": 4,
    "start_time": "2022-01-30T09:30:17.265Z"
   },
   {
    "duration": 3,
    "start_time": "2022-01-30T09:32:39.442Z"
   },
   {
    "duration": 5,
    "start_time": "2022-01-30T09:32:39.945Z"
   },
   {
    "duration": 4,
    "start_time": "2022-01-30T09:32:52.010Z"
   },
   {
    "duration": 5,
    "start_time": "2022-01-30T09:32:52.330Z"
   },
   {
    "duration": 3,
    "start_time": "2022-01-30T09:32:53.553Z"
   },
   {
    "duration": 4,
    "start_time": "2022-01-30T09:32:53.977Z"
   },
   {
    "duration": 240,
    "start_time": "2022-01-30T09:32:54.561Z"
   },
   {
    "duration": 3,
    "start_time": "2022-01-30T09:32:54.985Z"
   },
   {
    "duration": 4,
    "start_time": "2022-01-30T09:33:01.434Z"
   },
   {
    "duration": 4,
    "start_time": "2022-01-30T09:35:19.873Z"
   },
   {
    "duration": 26,
    "start_time": "2022-01-30T09:35:19.879Z"
   },
   {
    "duration": 9,
    "start_time": "2022-01-30T09:35:19.907Z"
   },
   {
    "duration": 5,
    "start_time": "2022-01-30T09:35:19.918Z"
   },
   {
    "duration": 5,
    "start_time": "2022-01-30T09:35:19.925Z"
   },
   {
    "duration": 5,
    "start_time": "2022-01-30T09:35:19.931Z"
   },
   {
    "duration": 5,
    "start_time": "2022-01-30T09:35:19.938Z"
   },
   {
    "duration": 16,
    "start_time": "2022-01-30T09:35:19.945Z"
   },
   {
    "duration": 5,
    "start_time": "2022-01-30T09:35:19.962Z"
   },
   {
    "duration": 4,
    "start_time": "2022-01-30T09:35:19.969Z"
   },
   {
    "duration": 17,
    "start_time": "2022-01-30T09:35:19.975Z"
   },
   {
    "duration": 6,
    "start_time": "2022-01-30T09:35:19.994Z"
   },
   {
    "duration": 11,
    "start_time": "2022-01-30T09:35:20.002Z"
   },
   {
    "duration": 7,
    "start_time": "2022-01-30T09:35:20.015Z"
   },
   {
    "duration": 9,
    "start_time": "2022-01-30T09:35:20.024Z"
   },
   {
    "duration": 59,
    "start_time": "2022-01-30T09:35:20.035Z"
   },
   {
    "duration": 3263,
    "start_time": "2022-01-30T09:35:20.096Z"
   },
   {
    "duration": 2,
    "start_time": "2022-01-30T09:35:23.361Z"
   },
   {
    "duration": 14,
    "start_time": "2022-01-30T09:35:23.365Z"
   },
   {
    "duration": 6,
    "start_time": "2022-01-30T09:35:23.380Z"
   },
   {
    "duration": 6,
    "start_time": "2022-01-30T09:35:23.986Z"
   },
   {
    "duration": 13,
    "start_time": "2022-01-30T09:35:25.300Z"
   },
   {
    "duration": 9,
    "start_time": "2022-01-30T09:35:27.066Z"
   },
   {
    "duration": 1063,
    "start_time": "2022-02-05T13:54:05.594Z"
   },
   {
    "duration": 17,
    "start_time": "2022-02-05T13:54:06.658Z"
   },
   {
    "duration": 15,
    "start_time": "2022-02-05T13:54:06.677Z"
   },
   {
    "duration": 5,
    "start_time": "2022-02-05T13:54:06.694Z"
   },
   {
    "duration": 13,
    "start_time": "2022-02-05T13:54:06.700Z"
   },
   {
    "duration": 4,
    "start_time": "2022-02-05T13:54:06.714Z"
   },
   {
    "duration": 5,
    "start_time": "2022-02-05T13:54:06.719Z"
   },
   {
    "duration": 6,
    "start_time": "2022-02-05T13:54:06.726Z"
   },
   {
    "duration": 6,
    "start_time": "2022-02-05T13:54:06.733Z"
   },
   {
    "duration": 5,
    "start_time": "2022-02-05T13:54:06.741Z"
   },
   {
    "duration": 4,
    "start_time": "2022-02-05T13:54:06.747Z"
   },
   {
    "duration": 5,
    "start_time": "2022-02-05T13:54:06.753Z"
   },
   {
    "duration": 5,
    "start_time": "2022-02-05T13:54:06.759Z"
   },
   {
    "duration": 4,
    "start_time": "2022-02-05T13:54:06.766Z"
   },
   {
    "duration": 45,
    "start_time": "2022-02-05T13:54:06.771Z"
   },
   {
    "duration": 38,
    "start_time": "2022-02-05T13:54:06.818Z"
   },
   {
    "duration": 3408,
    "start_time": "2022-02-05T13:54:06.858Z"
   },
   {
    "duration": 2,
    "start_time": "2022-02-05T13:54:10.268Z"
   },
   {
    "duration": 16,
    "start_time": "2022-02-05T13:54:10.272Z"
   },
   {
    "duration": 5,
    "start_time": "2022-02-05T13:54:10.290Z"
   },
   {
    "duration": 6,
    "start_time": "2022-02-05T13:54:10.312Z"
   },
   {
    "duration": 12,
    "start_time": "2022-02-05T13:54:10.320Z"
   },
   {
    "duration": 7,
    "start_time": "2022-02-05T13:54:10.335Z"
   },
   {
    "duration": 288,
    "start_time": "2022-02-05T13:54:10.344Z"
   },
   {
    "duration": 4,
    "start_time": "2022-02-05T13:55:00.836Z"
   },
   {
    "duration": 6,
    "start_time": "2022-02-05T13:55:10.532Z"
   },
   {
    "duration": 192,
    "start_time": "2022-02-05T13:55:48.820Z"
   },
   {
    "duration": 4,
    "start_time": "2022-02-05T13:55:54.628Z"
   },
   {
    "duration": 59,
    "start_time": "2022-02-05T13:56:04.532Z"
   },
   {
    "duration": 200,
    "start_time": "2022-02-05T13:56:11.796Z"
   },
   {
    "duration": 190,
    "start_time": "2022-02-05T14:01:02.173Z"
   },
   {
    "duration": 6,
    "start_time": "2022-02-05T14:05:50.037Z"
   },
   {
    "duration": 6,
    "start_time": "2022-02-05T14:08:10.215Z"
   },
   {
    "duration": 6,
    "start_time": "2022-02-05T14:10:55.983Z"
   },
   {
    "duration": 4,
    "start_time": "2022-02-05T14:14:03.455Z"
   }
  ],
  "colab": {
   "collapsed_sections": [],
   "name": "2.1. Рекомендация тарифов.ipynb",
   "provenance": []
  },
  "kernelspec": {
   "display_name": "Python 3",
   "language": "python",
   "name": "python3"
  },
  "language_info": {
   "codemirror_mode": {
    "name": "ipython",
    "version": 3
   },
   "file_extension": ".py",
   "mimetype": "text/x-python",
   "name": "python",
   "nbconvert_exporter": "python",
   "pygments_lexer": "ipython3",
   "version": "3.7.4"
  },
  "toc": {
   "base_numbering": 1,
   "nav_menu": {},
   "number_sections": true,
   "sideBar": true,
   "skip_h1_title": true,
   "title_cell": "Table of Contents",
   "title_sidebar": "Contents",
   "toc_cell": true,
   "toc_position": {},
   "toc_section_display": true,
   "toc_window_display": true
  }
 },
 "nbformat": 4,
 "nbformat_minor": 1
}
